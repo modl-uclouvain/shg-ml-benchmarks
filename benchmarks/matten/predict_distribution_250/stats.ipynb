{
 "cells": [
  {
   "cell_type": "code",
   "execution_count": 1,
   "metadata": {},
   "outputs": [],
   "source": [
    "from pathlib import Path\n",
    "\n",
    "from scipy.stats import spearmanr\n",
    "from sklearn.metrics import (\n",
    "    mean_absolute_error,\n",
    "    mean_absolute_percentage_error,\n",
    "    root_mean_squared_error,\n",
    ")"
   ]
  },
  {
   "cell_type": "code",
   "execution_count": 2,
   "metadata": {},
   "outputs": [],
   "source": [
    "import os\n",
    "\n",
    "import numpy as np\n",
    "import pandas as pd\n",
    "import plotly.graph_objs as go"
   ]
  },
  {
   "cell_type": "code",
   "execution_count": 3,
   "metadata": {},
   "outputs": [],
   "source": [
    "import shg_ml_benchmarks.utils_shg as shg"
   ]
  },
  {
   "cell_type": "code",
   "execution_count": 4,
   "metadata": {},
   "outputs": [
    {
     "name": "stdout",
     "output_type": "stream",
     "text": [
      "(250, 7)\n"
     ]
    },
    {
     "data": {
      "text/html": [
       "<div>\n",
       "<style scoped>\n",
       "    .dataframe tbody tr th:only-of-type {\n",
       "        vertical-align: middle;\n",
       "    }\n",
       "\n",
       "    .dataframe tbody tr th {\n",
       "        vertical-align: top;\n",
       "    }\n",
       "\n",
       "    .dataframe thead th {\n",
       "        text-align: right;\n",
       "    }\n",
       "</style>\n",
       "<table border=\"1\" class=\"dataframe\">\n",
       "  <thead>\n",
       "    <tr style=\"text-align: right;\">\n",
       "      <th></th>\n",
       "      <th>dijk_matten</th>\n",
       "      <th>dKP_matten</th>\n",
       "      <th>dRMS_matten</th>\n",
       "      <th>dKP_matten_masked</th>\n",
       "      <th>dRMS_matten_masked</th>\n",
       "      <th>dKP_true</th>\n",
       "      <th>dRMS_true</th>\n",
       "    </tr>\n",
       "  </thead>\n",
       "  <tbody>\n",
       "    <tr>\n",
       "      <th>mp-983357</th>\n",
       "      <td>[[[2.9931576, 1.0998482, 0.97367454], [1.09984...</td>\n",
       "      <td>3.213617</td>\n",
       "      <td>1.723019</td>\n",
       "      <td>3.213617</td>\n",
       "      <td>1.723019</td>\n",
       "      <td>0.163716</td>\n",
       "      <td>0.086886</td>\n",
       "    </tr>\n",
       "    <tr>\n",
       "      <th>mp-8377</th>\n",
       "      <td>[[[2.7647943e-06, 3.8434932e-06, 1.5294765e-06...</td>\n",
       "      <td>2.448880</td>\n",
       "      <td>1.365920</td>\n",
       "      <td>2.448880</td>\n",
       "      <td>1.365920</td>\n",
       "      <td>1.284568</td>\n",
       "      <td>0.716498</td>\n",
       "    </tr>\n",
       "    <tr>\n",
       "      <th>mp-18938</th>\n",
       "      <td>[[[2.0929003, 0.49236104, -2.3366954], [0.4923...</td>\n",
       "      <td>2.969561</td>\n",
       "      <td>1.630043</td>\n",
       "      <td>1.227217</td>\n",
       "      <td>0.637038</td>\n",
       "      <td>2.445284</td>\n",
       "      <td>1.329316</td>\n",
       "    </tr>\n",
       "    <tr>\n",
       "      <th>mp-5854</th>\n",
       "      <td>[[[-1.1834388e-06, 3.1686775e-06, -0.806689], ...</td>\n",
       "      <td>1.662488</td>\n",
       "      <td>0.767251</td>\n",
       "      <td>1.662488</td>\n",
       "      <td>0.767251</td>\n",
       "      <td>0.626602</td>\n",
       "      <td>0.316671</td>\n",
       "    </tr>\n",
       "    <tr>\n",
       "      <th>mp-23778</th>\n",
       "      <td>[[[-6.372931e-07, 7.466629e-07, 3.3794763e-07]...</td>\n",
       "      <td>3.020654</td>\n",
       "      <td>1.684840</td>\n",
       "      <td>3.020654</td>\n",
       "      <td>1.684840</td>\n",
       "      <td>0.991038</td>\n",
       "      <td>0.552775</td>\n",
       "    </tr>\n",
       "  </tbody>\n",
       "</table>\n",
       "</div>"
      ],
      "text/plain": [
       "                                                 dijk_matten  dKP_matten  \\\n",
       "mp-983357  [[[2.9931576, 1.0998482, 0.97367454], [1.09984...    3.213617   \n",
       "mp-8377    [[[2.7647943e-06, 3.8434932e-06, 1.5294765e-06...    2.448880   \n",
       "mp-18938   [[[2.0929003, 0.49236104, -2.3366954], [0.4923...    2.969561   \n",
       "mp-5854    [[[-1.1834388e-06, 3.1686775e-06, -0.806689], ...    1.662488   \n",
       "mp-23778   [[[-6.372931e-07, 7.466629e-07, 3.3794763e-07]...    3.020654   \n",
       "\n",
       "           dRMS_matten  dKP_matten_masked  dRMS_matten_masked  dKP_true  \\\n",
       "mp-983357     1.723019           3.213617            1.723019  0.163716   \n",
       "mp-8377       1.365920           2.448880            1.365920  1.284568   \n",
       "mp-18938      1.630043           1.227217            0.637038  2.445284   \n",
       "mp-5854       0.767251           1.662488            0.767251  0.626602   \n",
       "mp-23778      1.684840           3.020654            1.684840  0.991038   \n",
       "\n",
       "           dRMS_true  \n",
       "mp-983357   0.086886  \n",
       "mp-8377     0.716498  \n",
       "mp-18938    1.329316  \n",
       "mp-5854     0.316671  \n",
       "mp-23778    0.552775  "
      ]
     },
     "metadata": {},
     "output_type": "display_data"
    }
   ],
   "source": [
    "df_orig = pd.read_pickle(\n",
    "    \"/home/vtrinquet/Softwares_Packages/Github/modl_uclouvain/shg-ml-benchmarks/data/df_rot_ieee_pmg.pkl.gz\"\n",
    ")\n",
    "df_orig = df_orig.query(\"is_unique_here == True\")\n",
    "df_pred_matten = pd.read_pickle(\"df_pred_matten_holdout.pkl.gz\")\n",
    "\n",
    "# Computing dKP from the Matten tensors predictions\n",
    "list_dKP_matten = []\n",
    "list_dRMS_matten = []\n",
    "list_dKP_matten_masked = []\n",
    "list_dRMS_matten_masked = []\n",
    "for ir, r in df_pred_matten.iterrows():\n",
    "    dijk_matten = shg.from_voigt(r[\"dijk_matten\"])\n",
    "    list_dKP_matten.append(shg.get_dKP(dijk_matten))\n",
    "    list_dRMS_matten.append(shg.get_dRMS(dijk_matten))\n",
    "\n",
    "    dijk_orig = shg.from_voigt(df_orig.loc[ir][\"dijk_full_neum\"])\n",
    "    dijk_matten = np.where(dijk_orig != 0, dijk_matten, 0)\n",
    "    list_dKP_matten_masked.append(shg.get_dKP(dijk_matten))\n",
    "    list_dRMS_matten_masked.append(shg.get_dRMS(dijk_matten))\n",
    "\n",
    "df_pred_matten[\"dKP_matten\"] = list_dKP_matten\n",
    "df_pred_matten[\"dRMS_matten\"] = list_dRMS_matten\n",
    "df_pred_matten[\"dKP_matten_masked\"] = list_dKP_matten_masked\n",
    "df_pred_matten[\"dRMS_matten_masked\"] = list_dRMS_matten_masked\n",
    "\n",
    "# Adding the true dKP to the df\n",
    "df_pred_matten[\"dKP_true\"] = df_orig.filter(df_pred_matten.index, axis=0)[\n",
    "    \"dKP_full_neum\"\n",
    "].tolist()\n",
    "df_pred_matten[\"dRMS_true\"] = [\n",
    "    shg.get_dRMS(d)\n",
    "    for d in df_orig.filter(df_pred_matten.index, axis=0)[\"dijk_full_neum\"].tolist()\n",
    "]\n",
    "\n",
    "print(df_pred_matten.shape)\n",
    "display(df_pred_matten.head())"
   ]
  },
  {
   "cell_type": "code",
   "execution_count": 5,
   "metadata": {},
   "outputs": [
    {
     "name": "stdout",
     "output_type": "stream",
     "text": [
      "(1001, 13)\n"
     ]
    },
    {
     "data": {
      "text/html": [
       "<div>\n",
       "<style scoped>\n",
       "    .dataframe tbody tr th:only-of-type {\n",
       "        vertical-align: middle;\n",
       "    }\n",
       "\n",
       "    .dataframe tbody tr th {\n",
       "        vertical-align: top;\n",
       "    }\n",
       "\n",
       "    .dataframe thead th {\n",
       "        text-align: right;\n",
       "    }\n",
       "</style>\n",
       "<table border=\"1\" class=\"dataframe\">\n",
       "  <thead>\n",
       "    <tr style=\"text-align: right;\">\n",
       "      <th></th>\n",
       "      <th>cumulative time</th>\n",
       "      <th>epoch</th>\n",
       "      <th>epoch time</th>\n",
       "      <th>metric_test/MeanAbsoluteError/shg_tensor_full</th>\n",
       "      <th>metric_val/MeanAbsoluteError/shg_tensor_full</th>\n",
       "      <th>step</th>\n",
       "      <th>test/loss/shg_tensor_full</th>\n",
       "      <th>test/total_loss</th>\n",
       "      <th>train/loss/shg_tensor_full</th>\n",
       "      <th>train/total_loss</th>\n",
       "      <th>val/loss/shg_tensor_full</th>\n",
       "      <th>val/score</th>\n",
       "      <th>val/total_loss</th>\n",
       "    </tr>\n",
       "  </thead>\n",
       "  <tbody>\n",
       "    <tr>\n",
       "      <th>0</th>\n",
       "      <td>33.200706</td>\n",
       "      <td>0</td>\n",
       "      <td>9.063741</td>\n",
       "      <td>NaN</td>\n",
       "      <td>6.161475</td>\n",
       "      <td>66</td>\n",
       "      <td>NaN</td>\n",
       "      <td>NaN</td>\n",
       "      <td>NaN</td>\n",
       "      <td>NaN</td>\n",
       "      <td>797.580261</td>\n",
       "      <td>6.161475</td>\n",
       "      <td>797.580261</td>\n",
       "    </tr>\n",
       "    <tr>\n",
       "      <th>1</th>\n",
       "      <td>NaN</td>\n",
       "      <td>0</td>\n",
       "      <td>NaN</td>\n",
       "      <td>NaN</td>\n",
       "      <td>NaN</td>\n",
       "      <td>66</td>\n",
       "      <td>NaN</td>\n",
       "      <td>NaN</td>\n",
       "      <td>699.653015</td>\n",
       "      <td>699.653015</td>\n",
       "      <td>NaN</td>\n",
       "      <td>NaN</td>\n",
       "      <td>NaN</td>\n",
       "    </tr>\n",
       "    <tr>\n",
       "      <th>2</th>\n",
       "      <td>42.032009</td>\n",
       "      <td>1</td>\n",
       "      <td>8.831300</td>\n",
       "      <td>NaN</td>\n",
       "      <td>5.019889</td>\n",
       "      <td>133</td>\n",
       "      <td>NaN</td>\n",
       "      <td>NaN</td>\n",
       "      <td>NaN</td>\n",
       "      <td>NaN</td>\n",
       "      <td>570.257385</td>\n",
       "      <td>5.019889</td>\n",
       "      <td>570.257385</td>\n",
       "    </tr>\n",
       "    <tr>\n",
       "      <th>3</th>\n",
       "      <td>NaN</td>\n",
       "      <td>1</td>\n",
       "      <td>NaN</td>\n",
       "      <td>NaN</td>\n",
       "      <td>NaN</td>\n",
       "      <td>133</td>\n",
       "      <td>NaN</td>\n",
       "      <td>NaN</td>\n",
       "      <td>619.613586</td>\n",
       "      <td>619.613586</td>\n",
       "      <td>NaN</td>\n",
       "      <td>NaN</td>\n",
       "      <td>NaN</td>\n",
       "    </tr>\n",
       "    <tr>\n",
       "      <th>4</th>\n",
       "      <td>50.951057</td>\n",
       "      <td>2</td>\n",
       "      <td>8.919050</td>\n",
       "      <td>NaN</td>\n",
       "      <td>4.995292</td>\n",
       "      <td>200</td>\n",
       "      <td>NaN</td>\n",
       "      <td>NaN</td>\n",
       "      <td>NaN</td>\n",
       "      <td>NaN</td>\n",
       "      <td>509.539642</td>\n",
       "      <td>4.995292</td>\n",
       "      <td>509.539642</td>\n",
       "    </tr>\n",
       "  </tbody>\n",
       "</table>\n",
       "</div>"
      ],
      "text/plain": [
       "   cumulative time  epoch  epoch time  \\\n",
       "0        33.200706      0    9.063741   \n",
       "1              NaN      0         NaN   \n",
       "2        42.032009      1    8.831300   \n",
       "3              NaN      1         NaN   \n",
       "4        50.951057      2    8.919050   \n",
       "\n",
       "   metric_test/MeanAbsoluteError/shg_tensor_full  \\\n",
       "0                                            NaN   \n",
       "1                                            NaN   \n",
       "2                                            NaN   \n",
       "3                                            NaN   \n",
       "4                                            NaN   \n",
       "\n",
       "   metric_val/MeanAbsoluteError/shg_tensor_full  step  \\\n",
       "0                                      6.161475    66   \n",
       "1                                           NaN    66   \n",
       "2                                      5.019889   133   \n",
       "3                                           NaN   133   \n",
       "4                                      4.995292   200   \n",
       "\n",
       "   test/loss/shg_tensor_full  test/total_loss  train/loss/shg_tensor_full  \\\n",
       "0                        NaN              NaN                         NaN   \n",
       "1                        NaN              NaN                  699.653015   \n",
       "2                        NaN              NaN                         NaN   \n",
       "3                        NaN              NaN                  619.613586   \n",
       "4                        NaN              NaN                         NaN   \n",
       "\n",
       "   train/total_loss  val/loss/shg_tensor_full  val/score  val/total_loss  \n",
       "0               NaN                797.580261   6.161475      797.580261  \n",
       "1        699.653015                       NaN        NaN             NaN  \n",
       "2               NaN                570.257385   5.019889      570.257385  \n",
       "3        619.613586                       NaN        NaN             NaN  \n",
       "4               NaN                509.539642   4.995292      509.539642  "
      ]
     },
     "metadata": {},
     "output_type": "display_data"
    }
   ],
   "source": [
    "type_set = os.path.basename(Path(os.getcwd())).split(\"predict_\")[1]\n",
    "\n",
    "df_lr = pd.read_csv(f\"../scripts_{type_set}/lightning_logs/version_0/metrics.csv\")\n",
    "print(df_lr.shape)\n",
    "display(df_lr.head())"
   ]
  },
  {
   "cell_type": "code",
   "execution_count": 6,
   "metadata": {},
   "outputs": [
    {
     "data": {
      "text/html": [
       "<div>\n",
       "<style scoped>\n",
       "    .dataframe tbody tr th:only-of-type {\n",
       "        vertical-align: middle;\n",
       "    }\n",
       "\n",
       "    .dataframe tbody tr th {\n",
       "        vertical-align: top;\n",
       "    }\n",
       "\n",
       "    .dataframe thead th {\n",
       "        text-align: right;\n",
       "    }\n",
       "</style>\n",
       "<table border=\"1\" class=\"dataframe\">\n",
       "  <thead>\n",
       "    <tr style=\"text-align: right;\">\n",
       "      <th></th>\n",
       "      <th>cumulative time</th>\n",
       "      <th>epoch</th>\n",
       "      <th>epoch time</th>\n",
       "      <th>metric_test/MeanAbsoluteError/shg_tensor_full</th>\n",
       "      <th>metric_val/MeanAbsoluteError/shg_tensor_full</th>\n",
       "      <th>step</th>\n",
       "      <th>test/loss/shg_tensor_full</th>\n",
       "      <th>test/total_loss</th>\n",
       "      <th>train/loss/shg_tensor_full</th>\n",
       "      <th>train/total_loss</th>\n",
       "      <th>val/loss/shg_tensor_full</th>\n",
       "      <th>val/score</th>\n",
       "      <th>val/total_loss</th>\n",
       "    </tr>\n",
       "    <tr>\n",
       "      <th>epoch</th>\n",
       "      <th></th>\n",
       "      <th></th>\n",
       "      <th></th>\n",
       "      <th></th>\n",
       "      <th></th>\n",
       "      <th></th>\n",
       "      <th></th>\n",
       "      <th></th>\n",
       "      <th></th>\n",
       "      <th></th>\n",
       "      <th></th>\n",
       "      <th></th>\n",
       "      <th></th>\n",
       "    </tr>\n",
       "  </thead>\n",
       "  <tbody>\n",
       "    <tr>\n",
       "      <th>0</th>\n",
       "      <td>33.200706</td>\n",
       "      <td>0</td>\n",
       "      <td>9.063741</td>\n",
       "      <td>NaN</td>\n",
       "      <td>6.161475</td>\n",
       "      <td>66</td>\n",
       "      <td>NaN</td>\n",
       "      <td>NaN</td>\n",
       "      <td>NaN</td>\n",
       "      <td>NaN</td>\n",
       "      <td>797.580261</td>\n",
       "      <td>6.161475</td>\n",
       "      <td>797.580261</td>\n",
       "    </tr>\n",
       "    <tr>\n",
       "      <th>1</th>\n",
       "      <td>42.032009</td>\n",
       "      <td>1</td>\n",
       "      <td>8.831300</td>\n",
       "      <td>NaN</td>\n",
       "      <td>5.019889</td>\n",
       "      <td>133</td>\n",
       "      <td>NaN</td>\n",
       "      <td>NaN</td>\n",
       "      <td>NaN</td>\n",
       "      <td>NaN</td>\n",
       "      <td>570.257385</td>\n",
       "      <td>5.019889</td>\n",
       "      <td>570.257385</td>\n",
       "    </tr>\n",
       "    <tr>\n",
       "      <th>2</th>\n",
       "      <td>50.951057</td>\n",
       "      <td>2</td>\n",
       "      <td>8.919050</td>\n",
       "      <td>NaN</td>\n",
       "      <td>4.995292</td>\n",
       "      <td>200</td>\n",
       "      <td>NaN</td>\n",
       "      <td>NaN</td>\n",
       "      <td>NaN</td>\n",
       "      <td>NaN</td>\n",
       "      <td>509.539642</td>\n",
       "      <td>4.995292</td>\n",
       "      <td>509.539642</td>\n",
       "    </tr>\n",
       "    <tr>\n",
       "      <th>3</th>\n",
       "      <td>59.686169</td>\n",
       "      <td>3</td>\n",
       "      <td>8.735108</td>\n",
       "      <td>NaN</td>\n",
       "      <td>5.107642</td>\n",
       "      <td>267</td>\n",
       "      <td>NaN</td>\n",
       "      <td>NaN</td>\n",
       "      <td>NaN</td>\n",
       "      <td>NaN</td>\n",
       "      <td>510.879639</td>\n",
       "      <td>5.107642</td>\n",
       "      <td>510.879639</td>\n",
       "    </tr>\n",
       "    <tr>\n",
       "      <th>4</th>\n",
       "      <td>68.438416</td>\n",
       "      <td>4</td>\n",
       "      <td>8.752247</td>\n",
       "      <td>NaN</td>\n",
       "      <td>5.215469</td>\n",
       "      <td>334</td>\n",
       "      <td>NaN</td>\n",
       "      <td>NaN</td>\n",
       "      <td>NaN</td>\n",
       "      <td>NaN</td>\n",
       "      <td>505.940643</td>\n",
       "      <td>5.215469</td>\n",
       "      <td>505.940643</td>\n",
       "    </tr>\n",
       "  </tbody>\n",
       "</table>\n",
       "</div>"
      ],
      "text/plain": [
       "       cumulative time  epoch  epoch time  \\\n",
       "epoch                                       \n",
       "0            33.200706      0    9.063741   \n",
       "1            42.032009      1    8.831300   \n",
       "2            50.951057      2    8.919050   \n",
       "3            59.686169      3    8.735108   \n",
       "4            68.438416      4    8.752247   \n",
       "\n",
       "       metric_test/MeanAbsoluteError/shg_tensor_full  \\\n",
       "epoch                                                  \n",
       "0                                                NaN   \n",
       "1                                                NaN   \n",
       "2                                                NaN   \n",
       "3                                                NaN   \n",
       "4                                                NaN   \n",
       "\n",
       "       metric_val/MeanAbsoluteError/shg_tensor_full  step  \\\n",
       "epoch                                                       \n",
       "0                                          6.161475    66   \n",
       "1                                          5.019889   133   \n",
       "2                                          4.995292   200   \n",
       "3                                          5.107642   267   \n",
       "4                                          5.215469   334   \n",
       "\n",
       "       test/loss/shg_tensor_full  test/total_loss  train/loss/shg_tensor_full  \\\n",
       "epoch                                                                           \n",
       "0                            NaN              NaN                         NaN   \n",
       "1                            NaN              NaN                         NaN   \n",
       "2                            NaN              NaN                         NaN   \n",
       "3                            NaN              NaN                         NaN   \n",
       "4                            NaN              NaN                         NaN   \n",
       "\n",
       "       train/total_loss  val/loss/shg_tensor_full  val/score  val/total_loss  \n",
       "epoch                                                                         \n",
       "0                   NaN                797.580261   6.161475      797.580261  \n",
       "1                   NaN                570.257385   5.019889      570.257385  \n",
       "2                   NaN                509.539642   4.995292      509.539642  \n",
       "3                   NaN                510.879639   5.107642      510.879639  \n",
       "4                   NaN                505.940643   5.215469      505.940643  "
      ]
     },
     "metadata": {},
     "output_type": "display_data"
    },
    {
     "data": {
      "text/html": [
       "<div>\n",
       "<style scoped>\n",
       "    .dataframe tbody tr th:only-of-type {\n",
       "        vertical-align: middle;\n",
       "    }\n",
       "\n",
       "    .dataframe tbody tr th {\n",
       "        vertical-align: top;\n",
       "    }\n",
       "\n",
       "    .dataframe thead th {\n",
       "        text-align: right;\n",
       "    }\n",
       "</style>\n",
       "<table border=\"1\" class=\"dataframe\">\n",
       "  <thead>\n",
       "    <tr style=\"text-align: right;\">\n",
       "      <th></th>\n",
       "      <th>cumulative time</th>\n",
       "      <th>epoch</th>\n",
       "      <th>epoch time</th>\n",
       "      <th>metric_test/MeanAbsoluteError/shg_tensor_full</th>\n",
       "      <th>metric_val/MeanAbsoluteError/shg_tensor_full</th>\n",
       "      <th>step</th>\n",
       "      <th>test/loss/shg_tensor_full</th>\n",
       "      <th>test/total_loss</th>\n",
       "      <th>train/loss/shg_tensor_full</th>\n",
       "      <th>train/total_loss</th>\n",
       "      <th>val/loss/shg_tensor_full</th>\n",
       "      <th>val/score</th>\n",
       "      <th>val/total_loss</th>\n",
       "    </tr>\n",
       "    <tr>\n",
       "      <th>epoch</th>\n",
       "      <th></th>\n",
       "      <th></th>\n",
       "      <th></th>\n",
       "      <th></th>\n",
       "      <th></th>\n",
       "      <th></th>\n",
       "      <th></th>\n",
       "      <th></th>\n",
       "      <th></th>\n",
       "      <th></th>\n",
       "      <th></th>\n",
       "      <th></th>\n",
       "      <th></th>\n",
       "    </tr>\n",
       "  </thead>\n",
       "  <tbody>\n",
       "    <tr>\n",
       "      <th>0</th>\n",
       "      <td>NaN</td>\n",
       "      <td>0</td>\n",
       "      <td>NaN</td>\n",
       "      <td>NaN</td>\n",
       "      <td>NaN</td>\n",
       "      <td>66</td>\n",
       "      <td>NaN</td>\n",
       "      <td>NaN</td>\n",
       "      <td>699.653015</td>\n",
       "      <td>699.653015</td>\n",
       "      <td>NaN</td>\n",
       "      <td>NaN</td>\n",
       "      <td>NaN</td>\n",
       "    </tr>\n",
       "    <tr>\n",
       "      <th>1</th>\n",
       "      <td>NaN</td>\n",
       "      <td>1</td>\n",
       "      <td>NaN</td>\n",
       "      <td>NaN</td>\n",
       "      <td>NaN</td>\n",
       "      <td>133</td>\n",
       "      <td>NaN</td>\n",
       "      <td>NaN</td>\n",
       "      <td>619.613586</td>\n",
       "      <td>619.613586</td>\n",
       "      <td>NaN</td>\n",
       "      <td>NaN</td>\n",
       "      <td>NaN</td>\n",
       "    </tr>\n",
       "    <tr>\n",
       "      <th>2</th>\n",
       "      <td>NaN</td>\n",
       "      <td>2</td>\n",
       "      <td>NaN</td>\n",
       "      <td>NaN</td>\n",
       "      <td>NaN</td>\n",
       "      <td>200</td>\n",
       "      <td>NaN</td>\n",
       "      <td>NaN</td>\n",
       "      <td>505.180573</td>\n",
       "      <td>505.180573</td>\n",
       "      <td>NaN</td>\n",
       "      <td>NaN</td>\n",
       "      <td>NaN</td>\n",
       "    </tr>\n",
       "    <tr>\n",
       "      <th>3</th>\n",
       "      <td>NaN</td>\n",
       "      <td>3</td>\n",
       "      <td>NaN</td>\n",
       "      <td>NaN</td>\n",
       "      <td>NaN</td>\n",
       "      <td>267</td>\n",
       "      <td>NaN</td>\n",
       "      <td>NaN</td>\n",
       "      <td>409.707581</td>\n",
       "      <td>409.707581</td>\n",
       "      <td>NaN</td>\n",
       "      <td>NaN</td>\n",
       "      <td>NaN</td>\n",
       "    </tr>\n",
       "    <tr>\n",
       "      <th>4</th>\n",
       "      <td>NaN</td>\n",
       "      <td>4</td>\n",
       "      <td>NaN</td>\n",
       "      <td>NaN</td>\n",
       "      <td>NaN</td>\n",
       "      <td>334</td>\n",
       "      <td>NaN</td>\n",
       "      <td>NaN</td>\n",
       "      <td>310.585938</td>\n",
       "      <td>310.585938</td>\n",
       "      <td>NaN</td>\n",
       "      <td>NaN</td>\n",
       "      <td>NaN</td>\n",
       "    </tr>\n",
       "  </tbody>\n",
       "</table>\n",
       "</div>"
      ],
      "text/plain": [
       "       cumulative time  epoch  epoch time  \\\n",
       "epoch                                       \n",
       "0                  NaN      0         NaN   \n",
       "1                  NaN      1         NaN   \n",
       "2                  NaN      2         NaN   \n",
       "3                  NaN      3         NaN   \n",
       "4                  NaN      4         NaN   \n",
       "\n",
       "       metric_test/MeanAbsoluteError/shg_tensor_full  \\\n",
       "epoch                                                  \n",
       "0                                                NaN   \n",
       "1                                                NaN   \n",
       "2                                                NaN   \n",
       "3                                                NaN   \n",
       "4                                                NaN   \n",
       "\n",
       "       metric_val/MeanAbsoluteError/shg_tensor_full  step  \\\n",
       "epoch                                                       \n",
       "0                                               NaN    66   \n",
       "1                                               NaN   133   \n",
       "2                                               NaN   200   \n",
       "3                                               NaN   267   \n",
       "4                                               NaN   334   \n",
       "\n",
       "       test/loss/shg_tensor_full  test/total_loss  train/loss/shg_tensor_full  \\\n",
       "epoch                                                                           \n",
       "0                            NaN              NaN                  699.653015   \n",
       "1                            NaN              NaN                  619.613586   \n",
       "2                            NaN              NaN                  505.180573   \n",
       "3                            NaN              NaN                  409.707581   \n",
       "4                            NaN              NaN                  310.585938   \n",
       "\n",
       "       train/total_loss  val/loss/shg_tensor_full  val/score  val/total_loss  \n",
       "epoch                                                                         \n",
       "0            699.653015                       NaN        NaN             NaN  \n",
       "1            619.613586                       NaN        NaN             NaN  \n",
       "2            505.180573                       NaN        NaN             NaN  \n",
       "3            409.707581                       NaN        NaN             NaN  \n",
       "4            310.585938                       NaN        NaN             NaN  "
      ]
     },
     "metadata": {},
     "output_type": "display_data"
    }
   ],
   "source": [
    "df_lr_epochs_first = df_lr[df_lr[\"epoch\"].duplicated(keep=\"last\")]\n",
    "df_lr_epochs_first.index = df_lr_epochs_first[\"epoch\"]\n",
    "display(df_lr_epochs_first.head())\n",
    "df_lr_epochs_second = df_lr[df_lr[\"epoch\"].duplicated(keep=\"first\")]\n",
    "df_lr_epochs_second.index = df_lr_epochs_second[\"epoch\"]\n",
    "display(df_lr_epochs_second.head())"
   ]
  },
  {
   "cell_type": "markdown",
   "metadata": {},
   "source": [
    "# Learning rates"
   ]
  },
  {
   "cell_type": "markdown",
   "metadata": {},
   "source": [
    "## Loss"
   ]
  },
  {
   "cell_type": "code",
   "execution_count": 7,
   "metadata": {},
   "outputs": [
    {
     "data": {
      "application/vnd.plotly.v1+json": {
       "config": {
        "plotlyServerURL": "https://plot.ly"
       },
       "data": [
        {
         "mode": "lines+markers",
         "name": "Train loss",
         "showlegend": true,
         "type": "scatter",
         "x": [
          0,
          1,
          2,
          3,
          4,
          5,
          6,
          7,
          8,
          9,
          10,
          11,
          12,
          13,
          14,
          15,
          16,
          17,
          18,
          19,
          20,
          21,
          22,
          23,
          24,
          25,
          26,
          27,
          28,
          29,
          30,
          31,
          32,
          33,
          34,
          35,
          36,
          37,
          38,
          39,
          40,
          41,
          42,
          43,
          44,
          45,
          46,
          47,
          48,
          49,
          50,
          51,
          52,
          53,
          54,
          55,
          56,
          57,
          58,
          59,
          60,
          61,
          62,
          63,
          64,
          65,
          66,
          67,
          68,
          69,
          70,
          71,
          72,
          73,
          74,
          75,
          76,
          77,
          78,
          79,
          80,
          81,
          82,
          83,
          84,
          85,
          86,
          87,
          88,
          89,
          90,
          91,
          92,
          93,
          94,
          95,
          96,
          97,
          98,
          99,
          100,
          101,
          102,
          103,
          104,
          105,
          106,
          107,
          108,
          109,
          110,
          111,
          112,
          113,
          114,
          115,
          116,
          117,
          118,
          119,
          120,
          121,
          122,
          123,
          124,
          125,
          126,
          127,
          128,
          129,
          130,
          131,
          132,
          133,
          134,
          135,
          136,
          137,
          138,
          139,
          140,
          141,
          142,
          143,
          144,
          145,
          146,
          147,
          148,
          149,
          150,
          151,
          152,
          153,
          154,
          155,
          156,
          157,
          158,
          159,
          160,
          161,
          162,
          163,
          164,
          165,
          166,
          167,
          168,
          169,
          170,
          171,
          172,
          173,
          174,
          175,
          176,
          177,
          178,
          179,
          180,
          181,
          182,
          183,
          184,
          185,
          186,
          187,
          188,
          189,
          190,
          191,
          192,
          193,
          194,
          195,
          196,
          197,
          198,
          199,
          200,
          201,
          202,
          203,
          204,
          205,
          206,
          207,
          208,
          209,
          210,
          211,
          212,
          213,
          214,
          215,
          216,
          217,
          218,
          219,
          220,
          221,
          222,
          223,
          224,
          225,
          226,
          227,
          228,
          229,
          230,
          231,
          232,
          233,
          234,
          235,
          236,
          237,
          238,
          239,
          240,
          241,
          242,
          243,
          244,
          245,
          246,
          247,
          248,
          249,
          250,
          251,
          252,
          253,
          254,
          255,
          256,
          257,
          258,
          259,
          260,
          261,
          262,
          263,
          264,
          265,
          266,
          267,
          268,
          269,
          270,
          271,
          272,
          273,
          274,
          275,
          276,
          277,
          278,
          279,
          280,
          281,
          282,
          283,
          284,
          285,
          286,
          287,
          288,
          289,
          290,
          291,
          292,
          293,
          294,
          295,
          296,
          297,
          298,
          299,
          300,
          301,
          302,
          303,
          304,
          305,
          306,
          307,
          308,
          309,
          310,
          311,
          312,
          313,
          314,
          315,
          316,
          317,
          318,
          319,
          320,
          321,
          322,
          323,
          324,
          325,
          326,
          327,
          328,
          329,
          330,
          331,
          332,
          333,
          334,
          335,
          336,
          337,
          338,
          339,
          340,
          341,
          342,
          343,
          344,
          345,
          346,
          347,
          348,
          349,
          350,
          351,
          352,
          353,
          354,
          355,
          356,
          357,
          358,
          359,
          360,
          361,
          362,
          363,
          364,
          365,
          366,
          367,
          368,
          369,
          370,
          371,
          372,
          373,
          374,
          375,
          376,
          377,
          378,
          379,
          380,
          381,
          382,
          383,
          384,
          385,
          386,
          387,
          388,
          389,
          390,
          391,
          392,
          393,
          394,
          395,
          396,
          397,
          398,
          399,
          400,
          401,
          402,
          403,
          404,
          405,
          406,
          407,
          408,
          409,
          410,
          411,
          412,
          413,
          414,
          415,
          416,
          417,
          418,
          419,
          420,
          421,
          422,
          423,
          424,
          425,
          426,
          427,
          428,
          429,
          430,
          431,
          432,
          433,
          434,
          435,
          436,
          437,
          438,
          439,
          440,
          441,
          442,
          443,
          444,
          445,
          446,
          447,
          448,
          449,
          450,
          451,
          452,
          453,
          454,
          455,
          456,
          457,
          458,
          459,
          460,
          461,
          462,
          463,
          464,
          465,
          466,
          467,
          468,
          469,
          470,
          471,
          472,
          473,
          474,
          475,
          476,
          477,
          478,
          479,
          480,
          481,
          482,
          483,
          484,
          485,
          486,
          487,
          488,
          489,
          490,
          491,
          492,
          493,
          494,
          495,
          496,
          497,
          498,
          499
         ],
         "y": [
          699.6530151367188,
          619.6135864257812,
          505.1805725097656,
          409.7075805664063,
          310.5859375,
          278.910400390625,
          239.3848419189453,
          214.8351593017578,
          192.97434997558597,
          180.5809326171875,
          168.64234924316406,
          172.26356506347656,
          166.17283630371094,
          149.7560577392578,
          136.92945861816406,
          141.3251190185547,
          133.85877990722656,
          142.52618408203125,
          141.369873046875,
          134.68539428710938,
          131.56553649902344,
          130.18544006347656,
          124.97774505615234,
          130.9820556640625,
          132.42239379882812,
          128.92002868652344,
          126.52294158935548,
          129.65980529785156,
          128.07789611816406,
          126.18630981445312,
          134.5997314453125,
          135.19091796875,
          124.34898376464844,
          127.89998626708984,
          138.11891174316406,
          122.95694732666016,
          120.18718719482422,
          116.0800552368164,
          118.9704360961914,
          120.94684600830078,
          118.23713684082033,
          116.80416870117188,
          117.23729705810548,
          121.20024871826172,
          116.89514923095705,
          117.42139434814452,
          118.4269790649414,
          121.50957489013672,
          121.42156982421876,
          117.20662689208984,
          115.2912368774414,
          112.93071746826172,
          112.67838287353516,
          111.54058074951172,
          117.63194274902344,
          113.7163314819336,
          115.52716064453124,
          114.2790298461914,
          114.91648864746094,
          116.349609375,
          125.6688003540039,
          125.12244415283205,
          122.23331451416016,
          116.29460906982422,
          104.77713775634766,
          102.8523406982422,
          102.6379852294922,
          102.9167709350586,
          103.07991790771484,
          102.2642059326172,
          102.32891082763672,
          101.93016052246094,
          101.8223876953125,
          102.08213806152344,
          102.68043518066406,
          104.70669555664062,
          104.24378204345705,
          102.359375,
          102.94124603271484,
          104.15814971923828,
          106.57298278808594,
          104.62106323242188,
          103.66667938232422,
          102.56700134277344,
          103.79950714111328,
          103.91655731201172,
          102.39490509033205,
          103.06169891357422,
          104.53929138183594,
          102.91451263427734,
          105.42215728759766,
          103.94982147216795,
          103.39566040039062,
          104.64430236816406,
          104.59878540039062,
          102.92150115966795,
          103.60370635986328,
          103.6072006225586,
          104.33140563964844,
          106.87693786621094,
          105.91497802734376,
          102.9600830078125,
          104.38156127929688,
          105.36937713623048,
          104.84485626220705,
          103.10061645507812,
          103.55858612060548,
          103.44293212890624,
          103.4265594482422,
          104.6775131225586,
          104.68995666503906,
          103.44325256347656,
          103.59264373779295,
          104.25080871582033,
          102.49383544921876,
          101.29997253417967,
          100.83468627929688,
          100.45722198486328,
          100.12329864501952,
          100.45494079589844,
          101.69867706298828,
          100.26970672607422,
          100.02745056152344,
          99.91517639160156,
          100.40181732177734,
          100.06084442138672,
          99.72942352294922,
          100.5423812866211,
          100.04774475097656,
          99.55625915527344,
          100.4807357788086,
          100.21399688720705,
          100.46033477783205,
          100.59454345703124,
          100.55188751220705,
          100.00209045410156,
          99.78601837158205,
          99.78904724121094,
          99.81182861328124,
          99.61078643798828,
          100.31966400146484,
          100.13215637207033,
          99.9517593383789,
          100.53316497802734,
          100.0948715209961,
          100.64886474609376,
          100.386962890625,
          100.21758270263672,
          100.51477813720705,
          100.83292388916016,
          101.51718139648438,
          101.35260009765624,
          100.9646453857422,
          99.91718292236328,
          100.5559310913086,
          100.97692108154295,
          100.30791473388672,
          100.19581604003906,
          100.7665786743164,
          100.71797943115234,
          100.42845153808594,
          99.9844741821289,
          99.93148040771484,
          100.5148468017578,
          100.5915298461914,
          100.331787109375,
          98.9407196044922,
          99.1011734008789,
          99.41968536376952,
          99.17350769042967,
          98.78314971923828,
          98.74090576171876,
          98.86103057861328,
          98.84224700927734,
          98.8359603881836,
          99.18093872070312,
          99.32594299316406,
          99.20479583740234,
          98.88912200927734,
          98.81858825683594,
          98.91448211669922,
          98.81851959228516,
          98.72473907470705,
          98.7241668701172,
          98.84420013427734,
          99.15399932861328,
          98.78357696533205,
          98.9175796508789,
          98.9941864013672,
          98.9849853515625,
          99.03436279296876,
          98.89608764648438,
          98.97506713867188,
          99.15797424316406,
          98.8091812133789,
          99.08486938476562,
          99.86468505859376,
          99.34703826904295,
          99.10054779052734,
          99.16456604003906,
          99.13914489746094,
          98.83106994628906,
          98.93751525878906,
          98.91578674316406,
          98.93905639648438,
          99.06501770019533,
          99.03221893310548,
          98.59938049316406,
          98.73274993896484,
          98.69950103759766,
          98.74440002441406,
          98.6755828857422,
          98.78459167480467,
          99.62787628173828,
          99.34764862060548,
          98.9688491821289,
          98.60531616210938,
          98.61817932128906,
          98.46320343017578,
          98.33202362060548,
          98.57276153564452,
          98.53694915771484,
          98.50713348388672,
          98.59800720214844,
          99.181640625,
          98.2904815673828,
          98.3022232055664,
          98.7079849243164,
          98.47234344482422,
          98.33843994140624,
          98.38298034667967,
          98.26056671142578,
          98.44461059570312,
          98.9723892211914,
          98.69056701660156,
          98.52273559570312,
          98.39176177978516,
          98.58271026611328,
          98.45999145507812,
          98.32161712646484,
          98.70474243164062,
          98.60853576660156,
          98.54637908935548,
          98.36083221435548,
          98.33096313476562,
          98.3581771850586,
          98.36486053466795,
          98.48381042480467,
          98.39157104492188,
          98.34327697753906,
          98.33761596679688,
          98.40353393554688,
          98.22257232666016,
          98.34129333496094,
          98.5036392211914,
          98.49588012695312,
          99.31079864501952,
          98.3397445678711,
          98.38057708740234,
          98.52293395996094,
          98.41432189941406,
          98.36522674560548,
          98.26766967773438,
          98.7332763671875,
          98.3798370361328,
          98.51094818115234,
          98.5662078857422,
          98.57872772216795,
          98.40841674804688,
          98.2761001586914,
          98.64826965332033,
          98.16671752929688,
          98.20509338378906,
          98.25052642822266,
          98.22954559326172,
          98.321533203125,
          98.37580871582033,
          98.6093978881836,
          98.17578887939452,
          98.53689575195312,
          98.25513458251952,
          98.2320327758789,
          98.4660186767578,
          98.33700561523438,
          98.2519760131836,
          98.11984252929688,
          98.29104614257812,
          98.08817291259766,
          98.09132385253906,
          98.1464385986328,
          98.07543182373048,
          98.32755279541016,
          98.18444061279295,
          98.1485366821289,
          98.1060028076172,
          98.13566589355467,
          98.38113403320312,
          98.0867156982422,
          98.20071411132812,
          98.094482421875,
          98.01864624023438,
          98.10243225097656,
          98.37543487548828,
          98.42008972167967,
          98.17654418945312,
          98.2888641357422,
          98.0838851928711,
          98.20659637451172,
          98.1561050415039,
          98.26341247558594,
          98.41000366210938,
          98.25676727294922,
          98.23072052001952,
          98.33263397216795,
          98.18679809570312,
          98.12150573730467,
          98.34532165527344,
          98.15423583984376,
          98.21818542480467,
          98.1321792602539,
          98.18785858154295,
          98.34447479248048,
          98.0584716796875,
          98.1016082763672,
          98.05589294433594,
          98.2689437866211,
          98.46034240722656,
          98.11157989501952,
          98.08830261230467,
          98.04182434082033,
          98.13706970214844,
          98.03604888916016,
          98.17257690429688,
          98.0561981201172,
          98.23441314697266,
          98.04036712646484,
          98.20541381835938,
          98.23540496826172,
          98.21206665039062,
          98.15050506591795,
          98.22938537597656,
          98.28170013427734,
          98.09844970703124,
          98.10887908935548,
          98.29114532470705,
          98.30256652832033,
          98.5885238647461,
          98.08895874023438,
          98.099853515625,
          98.06632995605467,
          98.33020782470705,
          98.15960693359376,
          98.14183044433594,
          98.69437408447266,
          98.34538269042967,
          98.05342864990234,
          98.27977752685548,
          98.5830307006836,
          98.23279571533205,
          98.10980224609376,
          98.18858337402344,
          98.14014434814452,
          98.21736907958984,
          98.34127807617188,
          98.10237884521484,
          98.17926025390624,
          98.04043579101562,
          98.18492126464844,
          98.09695434570312,
          98.12806701660156,
          98.07180786132812,
          98.10135650634766,
          97.95913696289062,
          98.05474853515624,
          98.0063934326172,
          98.08129119873048,
          98.00457763671876,
          98.23054504394533,
          98.03540802001952,
          98.13224029541016,
          98.2628936767578,
          98.1495590209961,
          98.07582092285156,
          98.02336120605467,
          98.01509857177734,
          98.1053237915039,
          98.38005828857422,
          98.0185546875,
          97.99462127685548,
          98.01573181152344,
          98.0028305053711,
          98.06700134277344,
          98.0248031616211,
          97.9701919555664,
          98.05152893066406,
          98.00718688964844,
          98.02017211914062,
          98.1273422241211,
          98.02732849121094,
          98.09406280517578,
          97.99486541748048,
          98.07467651367188,
          98.20364379882812,
          97.97212982177734,
          98.0809097290039,
          98.04839324951172,
          98.172607421875,
          98.01776123046876,
          98.06802368164062,
          98.35319519042967,
          98.16809844970705,
          98.08553314208984,
          98.14214324951172,
          98.03150939941406,
          98.32315063476562,
          98.05675506591795,
          98.0745849609375,
          98.13542175292967,
          98.24717712402344,
          98.13414764404295,
          98.03297424316406,
          98.04044342041016,
          98.03501892089844,
          98.0668487548828,
          98.17282104492188,
          98.17433166503906,
          97.9936752319336,
          98.26786041259766,
          98.0040512084961,
          98.02229309082033,
          98.000732421875,
          97.95718383789062,
          98.05923461914062,
          97.9738311767578,
          98.21604919433594,
          98.0456085205078,
          98.0842056274414,
          97.94451141357422,
          98.06507110595705,
          97.94776916503906,
          97.97622680664062,
          98.04918670654295,
          97.95893096923828,
          98.17115783691406,
          98.13685607910156,
          97.9333038330078,
          98.02239227294922,
          98.01824188232422,
          97.99220275878906,
          98.0920181274414,
          98.01507568359376,
          98.02811431884766,
          98.01970672607422,
          98.15435791015624,
          97.977294921875,
          98.17938995361328,
          98.11356353759766,
          98.0782241821289,
          97.99667358398438,
          97.93927001953124,
          98.62594604492188,
          98.06812286376952,
          98.1199722290039,
          98.04051208496094,
          98.1175537109375,
          98.14796447753906,
          98.19437408447266,
          98.0690460205078,
          98.00635528564452,
          98.05941009521484,
          98.10462188720705,
          98.09465026855467,
          98.01220703125,
          98.22048950195312,
          98.16815185546876,
          97.95954132080078,
          97.93303680419922,
          98.00523376464844,
          98.03076171875,
          98.07227325439452,
          98.1110610961914,
          98.3079605102539,
          97.99897003173828,
          98.15985107421876,
          98.02996826171876,
          98.09033966064452,
          98.07977294921876,
          97.93666076660156,
          98.08501434326172,
          98.00984191894533,
          97.96495056152344,
          98.0291976928711,
          98.05913543701172,
          97.99999237060548,
          97.98760223388672,
          98.19613647460938,
          98.08806610107422,
          98.00688934326172,
          97.96886444091795,
          97.97415161132812
         ]
        },
        {
         "mode": "lines+markers",
         "name": "Validation loss",
         "showlegend": true,
         "type": "scatter",
         "x": [
          0,
          1,
          2,
          3,
          4,
          5,
          6,
          7,
          8,
          9,
          10,
          11,
          12,
          13,
          14,
          15,
          16,
          17,
          18,
          19,
          20,
          21,
          22,
          23,
          24,
          25,
          26,
          27,
          28,
          29,
          30,
          31,
          32,
          33,
          34,
          35,
          36,
          37,
          38,
          39,
          40,
          41,
          42,
          43,
          44,
          45,
          46,
          47,
          48,
          49,
          50,
          51,
          52,
          53,
          54,
          55,
          56,
          57,
          58,
          59,
          60,
          61,
          62,
          63,
          64,
          65,
          66,
          67,
          68,
          69,
          70,
          71,
          72,
          73,
          74,
          75,
          76,
          77,
          78,
          79,
          80,
          81,
          82,
          83,
          84,
          85,
          86,
          87,
          88,
          89,
          90,
          91,
          92,
          93,
          94,
          95,
          96,
          97,
          98,
          99,
          100,
          101,
          102,
          103,
          104,
          105,
          106,
          107,
          108,
          109,
          110,
          111,
          112,
          113,
          114,
          115,
          116,
          117,
          118,
          119,
          120,
          121,
          122,
          123,
          124,
          125,
          126,
          127,
          128,
          129,
          130,
          131,
          132,
          133,
          134,
          135,
          136,
          137,
          138,
          139,
          140,
          141,
          142,
          143,
          144,
          145,
          146,
          147,
          148,
          149,
          150,
          151,
          152,
          153,
          154,
          155,
          156,
          157,
          158,
          159,
          160,
          161,
          162,
          163,
          164,
          165,
          166,
          167,
          168,
          169,
          170,
          171,
          172,
          173,
          174,
          175,
          176,
          177,
          178,
          179,
          180,
          181,
          182,
          183,
          184,
          185,
          186,
          187,
          188,
          189,
          190,
          191,
          192,
          193,
          194,
          195,
          196,
          197,
          198,
          199,
          200,
          201,
          202,
          203,
          204,
          205,
          206,
          207,
          208,
          209,
          210,
          211,
          212,
          213,
          214,
          215,
          216,
          217,
          218,
          219,
          220,
          221,
          222,
          223,
          224,
          225,
          226,
          227,
          228,
          229,
          230,
          231,
          232,
          233,
          234,
          235,
          236,
          237,
          238,
          239,
          240,
          241,
          242,
          243,
          244,
          245,
          246,
          247,
          248,
          249,
          250,
          251,
          252,
          253,
          254,
          255,
          256,
          257,
          258,
          259,
          260,
          261,
          262,
          263,
          264,
          265,
          266,
          267,
          268,
          269,
          270,
          271,
          272,
          273,
          274,
          275,
          276,
          277,
          278,
          279,
          280,
          281,
          282,
          283,
          284,
          285,
          286,
          287,
          288,
          289,
          290,
          291,
          292,
          293,
          294,
          295,
          296,
          297,
          298,
          299,
          300,
          301,
          302,
          303,
          304,
          305,
          306,
          307,
          308,
          309,
          310,
          311,
          312,
          313,
          314,
          315,
          316,
          317,
          318,
          319,
          320,
          321,
          322,
          323,
          324,
          325,
          326,
          327,
          328,
          329,
          330,
          331,
          332,
          333,
          334,
          335,
          336,
          337,
          338,
          339,
          340,
          341,
          342,
          343,
          344,
          345,
          346,
          347,
          348,
          349,
          350,
          351,
          352,
          353,
          354,
          355,
          356,
          357,
          358,
          359,
          360,
          361,
          362,
          363,
          364,
          365,
          366,
          367,
          368,
          369,
          370,
          371,
          372,
          373,
          374,
          375,
          376,
          377,
          378,
          379,
          380,
          381,
          382,
          383,
          384,
          385,
          386,
          387,
          388,
          389,
          390,
          391,
          392,
          393,
          394,
          395,
          396,
          397,
          398,
          399,
          400,
          401,
          402,
          403,
          404,
          405,
          406,
          407,
          408,
          409,
          410,
          411,
          412,
          413,
          414,
          415,
          416,
          417,
          418,
          419,
          420,
          421,
          422,
          423,
          424,
          425,
          426,
          427,
          428,
          429,
          430,
          431,
          432,
          433,
          434,
          435,
          436,
          437,
          438,
          439,
          440,
          441,
          442,
          443,
          444,
          445,
          446,
          447,
          448,
          449,
          450,
          451,
          452,
          453,
          454,
          455,
          456,
          457,
          458,
          459,
          460,
          461,
          462,
          463,
          464,
          465,
          466,
          467,
          468,
          469,
          470,
          471,
          472,
          473,
          474,
          475,
          476,
          477,
          478,
          479,
          480,
          481,
          482,
          483,
          484,
          485,
          486,
          487,
          488,
          489,
          490,
          491,
          492,
          493,
          494,
          495,
          496,
          497,
          498,
          499
         ],
         "y": [
          797.5802612304688,
          570.2573852539062,
          509.5396423339844,
          510.879638671875,
          505.9406433105469,
          474.01116943359375,
          472.2878112792969,
          475.9029541015625,
          473.4394836425781,
          475.67913818359375,
          450.4761352539063,
          434.8327331542969,
          492.2918395996094,
          468.830810546875,
          430.7160949707031,
          534.3245849609375,
          502.3460693359375,
          544.9514770507812,
          471.6506652832031,
          501.3575744628906,
          526.3790893554688,
          500.4210205078125,
          534.7191162109375,
          497.6319274902344,
          486.6287536621094,
          518.9365844726562,
          517.1888427734375,
          526.924072265625,
          513.861572265625,
          516.937255859375,
          489.4329223632813,
          506.4793090820313,
          504.0164489746094,
          475.4521484375,
          518.4923706054688,
          527.61083984375,
          472.5532836914063,
          502.2856750488281,
          489.5609130859375,
          470.8146362304688,
          489.1639404296875,
          549.6174926757812,
          479.9497375488281,
          470.7574462890625,
          488.884033203125,
          473.6221618652344,
          494.40228271484375,
          482.1797790527344,
          490.9552001953125,
          489.6791687011719,
          484.5836791992188,
          454.8335266113281,
          499.8746337890625,
          461.185302734375,
          477.4936218261719,
          451.5950317382813,
          480.9487609863281,
          477.7568054199219,
          495.7143249511719,
          462.4036560058594,
          493.7804260253906,
          460.0186462402344,
          478.4152221679688,
          496.1700439453125,
          484.2438354492188,
          476.6163635253906,
          470.9001159667969,
          459.7481384277344,
          478.266357421875,
          477.3412780761719,
          474.3561401367188,
          456.5050964355469,
          464.1814270019531,
          466.1394348144531,
          459.3377990722656,
          461.9201049804688,
          466.4964904785156,
          453.3082275390625,
          485.8911743164063,
          468.3675842285156,
          462.6983642578125,
          490.7101440429688,
          488.0965881347656,
          458.1378173828125,
          491.828369140625,
          458.836669921875,
          473.3821411132813,
          464.0966491699219,
          483.2299499511719,
          463.0003662109375,
          459.7487487792969,
          470.9986572265625,
          472.8405151367188,
          468.8580322265625,
          468.4596557617188,
          470.13037109375,
          459.89251708984375,
          480.524658203125,
          458.7364807128906,
          454.8787841796875,
          471.9972839355469,
          471.7518310546875,
          465.73931884765625,
          449.65631103515625,
          478.6382751464844,
          464.0776977539063,
          453.8538513183594,
          470.4872131347656,
          474.7775268554688,
          480.25732421875,
          463.3854675292969,
          471.7514953613281,
          468.8196411132813,
          465.7890625,
          468.5026550292969,
          475.6277770996094,
          459.552978515625,
          466.98931884765625,
          464.6793212890625,
          472.5069580078125,
          469.04498291015625,
          472.3880920410156,
          458.417724609375,
          471.3335876464844,
          460.3573303222656,
          462.6237487792969,
          462.5088806152344,
          472.76318359375,
          468.0242309570313,
          464.0569152832031,
          471.1607360839844,
          469.7032165527344,
          468.94970703125,
          468.2058410644531,
          466.86865234375,
          467.8110046386719,
          460.6150207519531,
          459.5508728027344,
          473.1032409667969,
          459.68560791015625,
          471.9231567382813,
          465.1638793945313,
          474.0992431640625,
          469.8867492675781,
          463.10540771484375,
          466.0760803222656,
          468.76416015625,
          463.0402526855469,
          470.139892578125,
          475.0589904785156,
          471.2497863769531,
          468.4076232910156,
          468.35986328125,
          466.5575256347656,
          467.5097351074219,
          472.5284423828125,
          471.4535827636719,
          470.7125854492188,
          472.3331298828125,
          473.0050354003906,
          475.7380676269531,
          474.53900146484375,
          466.3458557128906,
          475.67376708984375,
          476.5632019042969,
          471.9675903320313,
          472.9233703613281,
          471.1544799804688,
          473.14886474609375,
          475.746826171875,
          472.6463623046875,
          473.7287292480469,
          472.496826171875,
          470.5039367675781,
          465.8296203613281,
          465.6758728027344,
          468.60638427734375,
          467.3577575683594,
          467.2560424804688,
          470.496826171875,
          470.9820861816406,
          468.15966796875,
          470.6686706542969,
          475.3112182617188,
          472.9746398925781,
          475.3741149902344,
          476.3562316894531,
          472.0404968261719,
          470.8241882324219,
          468.0044250488281,
          473.22271728515625,
          474.7687377929688,
          478.50335693359375,
          471.57525634765625,
          471.3609924316406,
          473.8409118652344,
          473.3438720703125,
          472.3603210449219,
          477.6697082519531,
          470.3094177246094,
          473.2254943847656,
          476.9635314941406,
          470.4451293945313,
          471.2088928222656,
          475.9154357910156,
          475.8275451660156,
          469.5671997070313,
          471.1574096679688,
          468.9537353515625,
          471.9555358886719,
          469.6278991699219,
          472.41156005859375,
          471.4850463867188,
          474.4119567871094,
          475.22552490234375,
          475.6349487304688,
          475.7161560058594,
          476.5138854980469,
          473.54107666015625,
          473.4591674804688,
          476.3255615234375,
          474.9699401855469,
          471.362060546875,
          474.128662109375,
          474.7237548828125,
          474.1592712402344,
          474.6886901855469,
          470.9459838867188,
          475.2318115234375,
          473.2161865234375,
          473.5194091796875,
          472.4942626953125,
          474.4039611816406,
          474.1050415039063,
          477.2478637695313,
          475.0251159667969,
          476.0451354980469,
          474.9557800292969,
          471.5510559082031,
          474.7596130371094,
          477.0915832519531,
          474.8017578125,
          474.5869140625,
          470.0268249511719,
          474.4459838867188,
          474.415283203125,
          478.3772583007813,
          471.4847412109375,
          474.6627807617188,
          475.5044860839844,
          475.2882080078125,
          477.080322265625,
          471.6979064941406,
          478.2607116699219,
          476.90045166015625,
          474.8837585449219,
          476.0577087402344,
          474.9032287597656,
          475.3172607421875,
          468.2879333496094,
          474.23345947265625,
          473.9904479980469,
          471.4237060546875,
          474.9764404296875,
          475.2722778320313,
          478.9775085449219,
          475.0855102539063,
          475.02349853515625,
          474.97454833984375,
          472.2104187011719,
          474.32025146484375,
          474.09130859375,
          473.2151794433594,
          472.871337890625,
          472.0054321289063,
          471.4661254882813,
          472.11236572265625,
          472.0668029785156,
          472.8991088867188,
          474.1719970703125,
          472.8656005859375,
          473.5855407714844,
          473.6391906738281,
          475.1641540527344,
          477.1809692382813,
          475.0165100097656,
          474.3763122558594,
          470.41900634765625,
          472.3045043945313,
          471.8093566894531,
          474.3292236328125,
          474.7019653320313,
          473.9991149902344,
          472.8356018066406,
          474.440673828125,
          474.5316467285156,
          474.27447509765625,
          476.7351989746094,
          476.265869140625,
          475.64361572265625,
          474.9351806640625,
          474.2971801757813,
          472.1975402832031,
          474.6750183105469,
          474.5675048828125,
          475.2273254394531,
          472.779541015625,
          472.812255859375,
          474.07025146484375,
          474.9020690917969,
          475.9939880371094,
          478.3265075683594,
          476.810302734375,
          474.616455078125,
          474.2787780761719,
          476.2113342285156,
          472.9871215820313,
          475.5694274902344,
          476.2137145996094,
          475.8005065917969,
          474.46038818359375,
          473.0545043945313,
          474.1910095214844,
          475.3096008300781,
          476.7040710449219,
          475.982177734375,
          475.9009399414063,
          474.9650268554688,
          475.114990234375,
          474.0487060546875,
          475.4680480957031,
          473.7184753417969,
          474.8091125488281,
          474.5172119140625,
          472.9502258300781,
          474.0574645996094,
          473.3820190429688,
          474.328369140625,
          475.0058288574219,
          475.2664794921875,
          473.3073120117188,
          475.3153381347656,
          476.9510498046875,
          477.3973693847656,
          475.8767700195313,
          477.310302734375,
          475.8077392578125,
          475.6885681152344,
          476.2155456542969,
          476.3504943847656,
          476.8994140625,
          476.1609191894531,
          474.6025695800781,
          476.7932434082031,
          474.9031982421875,
          474.4980163574219,
          475.3702697753906,
          474.5101013183594,
          477.4101257324219,
          475.7633972167969,
          475.5897521972656,
          475.6548461914063,
          475.7079772949219,
          475.8787231445313,
          475.8576049804688,
          475.4231262207031,
          476.2415771484375,
          474.2105407714844,
          472.9766845703125,
          474.4081115722656,
          474.9754943847656,
          474.15863037109375,
          474.24420166015625,
          474.8316650390625,
          473.5107116699219,
          474.6334838867188,
          475.4168701171875,
          474.8109130859375,
          474.83880615234375,
          474.4874877929688,
          475.4862060546875,
          474.1699523925781,
          474.5688781738281,
          474.3564453125,
          473.7252807617188,
          474.35845947265625,
          475.0682678222656,
          474.9884338378906,
          475.0853576660156,
          476.1220397949219,
          476.8415832519531,
          476.1167297363281,
          476.1136169433594,
          475.7203674316406,
          475.4869079589844,
          477.5244140625,
          475.3253784179688,
          475.8803405761719,
          474.73095703125,
          474.8855590820313,
          474.7485656738281,
          474.9202575683594,
          476.1853332519531,
          475.95904541015625,
          476.7864990234375,
          475.3047790527344,
          476.17626953125,
          476.2471008300781,
          476.177490234375,
          475.8165283203125,
          476.36767578125,
          477.0549011230469,
          476.54638671875,
          477.0564575195313,
          476.026123046875,
          476.6212158203125,
          475.340576171875,
          475.1412963867188,
          475.83502197265625,
          476.6432495117188,
          475.9608154296875,
          475.3642578125,
          477.049072265625,
          476.4839172363281,
          477.1470031738281,
          477.1544189453125,
          476.3391723632813,
          475.4371337890625,
          475.4411926269531,
          476.3914184570313,
          476.8025817871094,
          476.3502502441406,
          475.8100280761719,
          476.54595947265625,
          476.6618957519531,
          476.4788513183594,
          476.9312438964844,
          476.2950439453125,
          476.5604248046875,
          476.0486450195313,
          476.3592834472656,
          476.3902893066406,
          474.8321838378906,
          475.7164916992188,
          475.04144287109375,
          475.7613525390625,
          477.19049072265625,
          477.6429748535156,
          475.3195495605469,
          475.39495849609375,
          474.8722534179688,
          474.87982177734375,
          475.43499755859375,
          474.4204406738281,
          475.6915283203125,
          474.7633056640625,
          475.23236083984375,
          475.6305236816406,
          474.2393493652344,
          475.3837585449219,
          474.9228820800781,
          476.0546569824219,
          476.1488952636719,
          475.2853393554688,
          476.1427612304688,
          476.1286926269531,
          474.4039001464844,
          475.4476623535156,
          475.7283935546875,
          475.3509826660156,
          475.5708312988281,
          474.3487243652344,
          475.37445068359375,
          475.3135986328125,
          475.3699645996094,
          475.8533325195313,
          476.4374084472656,
          476.3128662109375,
          475.0095825195313,
          476.1700744628906,
          475.4990234375,
          475.0388793945313,
          474.8798522949219,
          476.9189147949219,
          474.4381713867188,
          476.0271911621094,
          474.7616271972656,
          475.7644348144531,
          475.2905578613281,
          474.2230529785156,
          475.4166564941406,
          474.7335510253906,
          476.0037231445313,
          476.0444946289063,
          476.42041015625,
          476.3263854980469,
          475.98138427734375,
          475.3812255859375,
          475.5817565917969,
          475.0787048339844
         ]
        }
       ],
       "layout": {
        "autosize": true,
        "font": {
         "size": 20
        },
        "template": {
         "data": {
          "bar": [
           {
            "error_x": {
             "color": "rgb(36,36,36)"
            },
            "error_y": {
             "color": "rgb(36,36,36)"
            },
            "marker": {
             "line": {
              "color": "white",
              "width": 0.5
             },
             "pattern": {
              "fillmode": "overlay",
              "size": 10,
              "solidity": 0.2
             }
            },
            "type": "bar"
           }
          ],
          "barpolar": [
           {
            "marker": {
             "line": {
              "color": "white",
              "width": 0.5
             },
             "pattern": {
              "fillmode": "overlay",
              "size": 10,
              "solidity": 0.2
             }
            },
            "type": "barpolar"
           }
          ],
          "carpet": [
           {
            "aaxis": {
             "endlinecolor": "rgb(36,36,36)",
             "gridcolor": "white",
             "linecolor": "white",
             "minorgridcolor": "white",
             "startlinecolor": "rgb(36,36,36)"
            },
            "baxis": {
             "endlinecolor": "rgb(36,36,36)",
             "gridcolor": "white",
             "linecolor": "white",
             "minorgridcolor": "white",
             "startlinecolor": "rgb(36,36,36)"
            },
            "type": "carpet"
           }
          ],
          "choropleth": [
           {
            "colorbar": {
             "outlinewidth": 1,
             "tickcolor": "rgb(36,36,36)",
             "ticks": "outside"
            },
            "type": "choropleth"
           }
          ],
          "contour": [
           {
            "colorbar": {
             "outlinewidth": 1,
             "tickcolor": "rgb(36,36,36)",
             "ticks": "outside"
            },
            "colorscale": [
             [
              0,
              "#440154"
             ],
             [
              0.1111111111111111,
              "#482878"
             ],
             [
              0.2222222222222222,
              "#3e4989"
             ],
             [
              0.3333333333333333,
              "#31688e"
             ],
             [
              0.4444444444444444,
              "#26828e"
             ],
             [
              0.5555555555555556,
              "#1f9e89"
             ],
             [
              0.6666666666666666,
              "#35b779"
             ],
             [
              0.7777777777777778,
              "#6ece58"
             ],
             [
              0.8888888888888888,
              "#b5de2b"
             ],
             [
              1,
              "#fde725"
             ]
            ],
            "type": "contour"
           }
          ],
          "contourcarpet": [
           {
            "colorbar": {
             "outlinewidth": 1,
             "tickcolor": "rgb(36,36,36)",
             "ticks": "outside"
            },
            "type": "contourcarpet"
           }
          ],
          "heatmap": [
           {
            "colorbar": {
             "outlinewidth": 1,
             "tickcolor": "rgb(36,36,36)",
             "ticks": "outside"
            },
            "colorscale": [
             [
              0,
              "#440154"
             ],
             [
              0.1111111111111111,
              "#482878"
             ],
             [
              0.2222222222222222,
              "#3e4989"
             ],
             [
              0.3333333333333333,
              "#31688e"
             ],
             [
              0.4444444444444444,
              "#26828e"
             ],
             [
              0.5555555555555556,
              "#1f9e89"
             ],
             [
              0.6666666666666666,
              "#35b779"
             ],
             [
              0.7777777777777778,
              "#6ece58"
             ],
             [
              0.8888888888888888,
              "#b5de2b"
             ],
             [
              1,
              "#fde725"
             ]
            ],
            "type": "heatmap"
           }
          ],
          "heatmapgl": [
           {
            "colorbar": {
             "outlinewidth": 1,
             "tickcolor": "rgb(36,36,36)",
             "ticks": "outside"
            },
            "colorscale": [
             [
              0,
              "#440154"
             ],
             [
              0.1111111111111111,
              "#482878"
             ],
             [
              0.2222222222222222,
              "#3e4989"
             ],
             [
              0.3333333333333333,
              "#31688e"
             ],
             [
              0.4444444444444444,
              "#26828e"
             ],
             [
              0.5555555555555556,
              "#1f9e89"
             ],
             [
              0.6666666666666666,
              "#35b779"
             ],
             [
              0.7777777777777778,
              "#6ece58"
             ],
             [
              0.8888888888888888,
              "#b5de2b"
             ],
             [
              1,
              "#fde725"
             ]
            ],
            "type": "heatmapgl"
           }
          ],
          "histogram": [
           {
            "marker": {
             "line": {
              "color": "white",
              "width": 0.6
             }
            },
            "type": "histogram"
           }
          ],
          "histogram2d": [
           {
            "colorbar": {
             "outlinewidth": 1,
             "tickcolor": "rgb(36,36,36)",
             "ticks": "outside"
            },
            "colorscale": [
             [
              0,
              "#440154"
             ],
             [
              0.1111111111111111,
              "#482878"
             ],
             [
              0.2222222222222222,
              "#3e4989"
             ],
             [
              0.3333333333333333,
              "#31688e"
             ],
             [
              0.4444444444444444,
              "#26828e"
             ],
             [
              0.5555555555555556,
              "#1f9e89"
             ],
             [
              0.6666666666666666,
              "#35b779"
             ],
             [
              0.7777777777777778,
              "#6ece58"
             ],
             [
              0.8888888888888888,
              "#b5de2b"
             ],
             [
              1,
              "#fde725"
             ]
            ],
            "type": "histogram2d"
           }
          ],
          "histogram2dcontour": [
           {
            "colorbar": {
             "outlinewidth": 1,
             "tickcolor": "rgb(36,36,36)",
             "ticks": "outside"
            },
            "colorscale": [
             [
              0,
              "#440154"
             ],
             [
              0.1111111111111111,
              "#482878"
             ],
             [
              0.2222222222222222,
              "#3e4989"
             ],
             [
              0.3333333333333333,
              "#31688e"
             ],
             [
              0.4444444444444444,
              "#26828e"
             ],
             [
              0.5555555555555556,
              "#1f9e89"
             ],
             [
              0.6666666666666666,
              "#35b779"
             ],
             [
              0.7777777777777778,
              "#6ece58"
             ],
             [
              0.8888888888888888,
              "#b5de2b"
             ],
             [
              1,
              "#fde725"
             ]
            ],
            "type": "histogram2dcontour"
           }
          ],
          "mesh3d": [
           {
            "colorbar": {
             "outlinewidth": 1,
             "tickcolor": "rgb(36,36,36)",
             "ticks": "outside"
            },
            "type": "mesh3d"
           }
          ],
          "parcoords": [
           {
            "line": {
             "colorbar": {
              "outlinewidth": 1,
              "tickcolor": "rgb(36,36,36)",
              "ticks": "outside"
             }
            },
            "type": "parcoords"
           }
          ],
          "pie": [
           {
            "automargin": true,
            "type": "pie"
           }
          ],
          "scatter": [
           {
            "fillpattern": {
             "fillmode": "overlay",
             "size": 10,
             "solidity": 0.2
            },
            "type": "scatter"
           }
          ],
          "scatter3d": [
           {
            "line": {
             "colorbar": {
              "outlinewidth": 1,
              "tickcolor": "rgb(36,36,36)",
              "ticks": "outside"
             }
            },
            "marker": {
             "colorbar": {
              "outlinewidth": 1,
              "tickcolor": "rgb(36,36,36)",
              "ticks": "outside"
             }
            },
            "type": "scatter3d"
           }
          ],
          "scattercarpet": [
           {
            "marker": {
             "colorbar": {
              "outlinewidth": 1,
              "tickcolor": "rgb(36,36,36)",
              "ticks": "outside"
             }
            },
            "type": "scattercarpet"
           }
          ],
          "scattergeo": [
           {
            "marker": {
             "colorbar": {
              "outlinewidth": 1,
              "tickcolor": "rgb(36,36,36)",
              "ticks": "outside"
             }
            },
            "type": "scattergeo"
           }
          ],
          "scattergl": [
           {
            "marker": {
             "colorbar": {
              "outlinewidth": 1,
              "tickcolor": "rgb(36,36,36)",
              "ticks": "outside"
             }
            },
            "type": "scattergl"
           }
          ],
          "scattermapbox": [
           {
            "marker": {
             "colorbar": {
              "outlinewidth": 1,
              "tickcolor": "rgb(36,36,36)",
              "ticks": "outside"
             }
            },
            "type": "scattermapbox"
           }
          ],
          "scatterpolar": [
           {
            "marker": {
             "colorbar": {
              "outlinewidth": 1,
              "tickcolor": "rgb(36,36,36)",
              "ticks": "outside"
             }
            },
            "type": "scatterpolar"
           }
          ],
          "scatterpolargl": [
           {
            "marker": {
             "colorbar": {
              "outlinewidth": 1,
              "tickcolor": "rgb(36,36,36)",
              "ticks": "outside"
             }
            },
            "type": "scatterpolargl"
           }
          ],
          "scatterternary": [
           {
            "marker": {
             "colorbar": {
              "outlinewidth": 1,
              "tickcolor": "rgb(36,36,36)",
              "ticks": "outside"
             }
            },
            "type": "scatterternary"
           }
          ],
          "surface": [
           {
            "colorbar": {
             "outlinewidth": 1,
             "tickcolor": "rgb(36,36,36)",
             "ticks": "outside"
            },
            "colorscale": [
             [
              0,
              "#440154"
             ],
             [
              0.1111111111111111,
              "#482878"
             ],
             [
              0.2222222222222222,
              "#3e4989"
             ],
             [
              0.3333333333333333,
              "#31688e"
             ],
             [
              0.4444444444444444,
              "#26828e"
             ],
             [
              0.5555555555555556,
              "#1f9e89"
             ],
             [
              0.6666666666666666,
              "#35b779"
             ],
             [
              0.7777777777777778,
              "#6ece58"
             ],
             [
              0.8888888888888888,
              "#b5de2b"
             ],
             [
              1,
              "#fde725"
             ]
            ],
            "type": "surface"
           }
          ],
          "table": [
           {
            "cells": {
             "fill": {
              "color": "rgb(237,237,237)"
             },
             "line": {
              "color": "white"
             }
            },
            "header": {
             "fill": {
              "color": "rgb(217,217,217)"
             },
             "line": {
              "color": "white"
             }
            },
            "type": "table"
           }
          ]
         },
         "layout": {
          "annotationdefaults": {
           "arrowhead": 0,
           "arrowwidth": 1
          },
          "autotypenumbers": "strict",
          "coloraxis": {
           "colorbar": {
            "outlinewidth": 1,
            "tickcolor": "rgb(36,36,36)",
            "ticks": "outside"
           }
          },
          "colorscale": {
           "diverging": [
            [
             0,
             "rgb(103,0,31)"
            ],
            [
             0.1,
             "rgb(178,24,43)"
            ],
            [
             0.2,
             "rgb(214,96,77)"
            ],
            [
             0.3,
             "rgb(244,165,130)"
            ],
            [
             0.4,
             "rgb(253,219,199)"
            ],
            [
             0.5,
             "rgb(247,247,247)"
            ],
            [
             0.6,
             "rgb(209,229,240)"
            ],
            [
             0.7,
             "rgb(146,197,222)"
            ],
            [
             0.8,
             "rgb(67,147,195)"
            ],
            [
             0.9,
             "rgb(33,102,172)"
            ],
            [
             1,
             "rgb(5,48,97)"
            ]
           ],
           "sequential": [
            [
             0,
             "#440154"
            ],
            [
             0.1111111111111111,
             "#482878"
            ],
            [
             0.2222222222222222,
             "#3e4989"
            ],
            [
             0.3333333333333333,
             "#31688e"
            ],
            [
             0.4444444444444444,
             "#26828e"
            ],
            [
             0.5555555555555556,
             "#1f9e89"
            ],
            [
             0.6666666666666666,
             "#35b779"
            ],
            [
             0.7777777777777778,
             "#6ece58"
            ],
            [
             0.8888888888888888,
             "#b5de2b"
            ],
            [
             1,
             "#fde725"
            ]
           ],
           "sequentialminus": [
            [
             0,
             "#440154"
            ],
            [
             0.1111111111111111,
             "#482878"
            ],
            [
             0.2222222222222222,
             "#3e4989"
            ],
            [
             0.3333333333333333,
             "#31688e"
            ],
            [
             0.4444444444444444,
             "#26828e"
            ],
            [
             0.5555555555555556,
             "#1f9e89"
            ],
            [
             0.6666666666666666,
             "#35b779"
            ],
            [
             0.7777777777777778,
             "#6ece58"
            ],
            [
             0.8888888888888888,
             "#b5de2b"
            ],
            [
             1,
             "#fde725"
            ]
           ]
          },
          "colorway": [
           "#1F77B4",
           "#FF7F0E",
           "#2CA02C",
           "#D62728",
           "#9467BD",
           "#8C564B",
           "#E377C2",
           "#7F7F7F",
           "#BCBD22",
           "#17BECF"
          ],
          "font": {
           "color": "rgb(36,36,36)"
          },
          "geo": {
           "bgcolor": "white",
           "lakecolor": "white",
           "landcolor": "white",
           "showlakes": true,
           "showland": true,
           "subunitcolor": "white"
          },
          "hoverlabel": {
           "align": "left"
          },
          "hovermode": "closest",
          "mapbox": {
           "style": "light"
          },
          "paper_bgcolor": "white",
          "plot_bgcolor": "white",
          "polar": {
           "angularaxis": {
            "gridcolor": "rgb(232,232,232)",
            "linecolor": "rgb(36,36,36)",
            "showgrid": false,
            "showline": true,
            "ticks": "outside"
           },
           "bgcolor": "white",
           "radialaxis": {
            "gridcolor": "rgb(232,232,232)",
            "linecolor": "rgb(36,36,36)",
            "showgrid": false,
            "showline": true,
            "ticks": "outside"
           }
          },
          "scene": {
           "xaxis": {
            "backgroundcolor": "white",
            "gridcolor": "rgb(232,232,232)",
            "gridwidth": 2,
            "linecolor": "rgb(36,36,36)",
            "showbackground": true,
            "showgrid": false,
            "showline": true,
            "ticks": "outside",
            "zeroline": false,
            "zerolinecolor": "rgb(36,36,36)"
           },
           "yaxis": {
            "backgroundcolor": "white",
            "gridcolor": "rgb(232,232,232)",
            "gridwidth": 2,
            "linecolor": "rgb(36,36,36)",
            "showbackground": true,
            "showgrid": false,
            "showline": true,
            "ticks": "outside",
            "zeroline": false,
            "zerolinecolor": "rgb(36,36,36)"
           },
           "zaxis": {
            "backgroundcolor": "white",
            "gridcolor": "rgb(232,232,232)",
            "gridwidth": 2,
            "linecolor": "rgb(36,36,36)",
            "showbackground": true,
            "showgrid": false,
            "showline": true,
            "ticks": "outside",
            "zeroline": false,
            "zerolinecolor": "rgb(36,36,36)"
           }
          },
          "shapedefaults": {
           "fillcolor": "black",
           "line": {
            "width": 0
           },
           "opacity": 0.3
          },
          "ternary": {
           "aaxis": {
            "gridcolor": "rgb(232,232,232)",
            "linecolor": "rgb(36,36,36)",
            "showgrid": false,
            "showline": true,
            "ticks": "outside"
           },
           "baxis": {
            "gridcolor": "rgb(232,232,232)",
            "linecolor": "rgb(36,36,36)",
            "showgrid": false,
            "showline": true,
            "ticks": "outside"
           },
           "bgcolor": "white",
           "caxis": {
            "gridcolor": "rgb(232,232,232)",
            "linecolor": "rgb(36,36,36)",
            "showgrid": false,
            "showline": true,
            "ticks": "outside"
           }
          },
          "title": {
           "x": 0.05
          },
          "xaxis": {
           "automargin": true,
           "gridcolor": "rgb(232,232,232)",
           "linecolor": "rgb(36,36,36)",
           "showgrid": false,
           "showline": true,
           "ticks": "outside",
           "title": {
            "standoff": 15
           },
           "zeroline": false,
           "zerolinecolor": "rgb(36,36,36)"
          },
          "yaxis": {
           "automargin": true,
           "gridcolor": "rgb(232,232,232)",
           "linecolor": "rgb(36,36,36)",
           "showgrid": false,
           "showline": true,
           "ticks": "outside",
           "title": {
            "standoff": 15
           },
           "zeroline": false,
           "zerolinecolor": "rgb(36,36,36)"
          }
         }
        },
        "xaxis": {
         "showgrid": false,
         "title": {
          "text": "Epoch"
         }
        },
        "yaxis": {
         "showgrid": false
        }
       }
      }
     },
     "metadata": {},
     "output_type": "display_data"
    }
   ],
   "source": [
    "lr_val = go.Scatter(\n",
    "    x=df_lr_epochs_first.index,\n",
    "    y=df_lr_epochs_first[\"val/loss/shg_tensor_full\"],\n",
    "    mode=\"lines+markers\",\n",
    "    name=\"Validation loss\",\n",
    "    showlegend=True,\n",
    ")\n",
    "lr_train = go.Scatter(\n",
    "    x=df_lr_epochs_second.index,\n",
    "    y=df_lr_epochs_second[\"train/loss/shg_tensor_full\"],\n",
    "    mode=\"lines+markers\",\n",
    "    name=\"Train loss\",\n",
    "    showlegend=True,\n",
    ")\n",
    "\n",
    "# Layout\n",
    "layout = go.Layout(\n",
    "    # title=dict(text='Scatter Plot'),\n",
    "    xaxis=dict(title=\"Epoch\"),\n",
    "    # yaxis=dict(title='<i>d&#770;</i><sub>KP</sub> (pm/V)', range=[-5,180]),\n",
    "    # legend=dict(font=dict(size=12)),\n",
    ")\n",
    "\n",
    "# Create figure\n",
    "fig = go.Figure(data=[lr_train, lr_val], layout=layout)\n",
    "\n",
    "fig.update_layout(\n",
    "    autosize=True,\n",
    "    font_size=20,\n",
    "    # width=600,\n",
    "    # height=600,\n",
    "    # plot_bgcolor=\"white\",\n",
    "    template=\"simple_white\",\n",
    ")\n",
    "fig.update_layout(\n",
    "    xaxis=dict(\n",
    "        # tickmode = 'array',\n",
    "        # tickvals = [1, 2,3,4,5,6,7,8],\n",
    "        # ticktext = ['One', 'Three', 'Five', 'Seven', 'Nine', 'Eleven']\n",
    "        showgrid=False,\n",
    "    ),\n",
    "    yaxis=dict(\n",
    "        # tickmode = 'array',\n",
    "        # tickvals = [1, 2,3,4,5,6,7,8],\n",
    "        # ticktext = ['One', 'Three', 'Five', 'Seven', 'Nine', 'Eleven']\n",
    "        showgrid=False,\n",
    "    ),\n",
    ")\n",
    "\n",
    "# Show figure\n",
    "fig.show()"
   ]
  },
  {
   "cell_type": "markdown",
   "metadata": {},
   "source": [
    "## MAE"
   ]
  },
  {
   "cell_type": "code",
   "execution_count": 8,
   "metadata": {},
   "outputs": [
    {
     "data": {
      "application/vnd.plotly.v1+json": {
       "config": {
        "plotlyServerURL": "https://plot.ly"
       },
       "data": [
        {
         "mode": "lines+markers",
         "name": "Validation loss",
         "showlegend": true,
         "type": "scatter",
         "x": [
          0,
          1,
          2,
          3,
          4,
          5,
          6,
          7,
          8,
          9,
          10,
          11,
          12,
          13,
          14,
          15,
          16,
          17,
          18,
          19,
          20,
          21,
          22,
          23,
          24,
          25,
          26,
          27,
          28,
          29,
          30,
          31,
          32,
          33,
          34,
          35,
          36,
          37,
          38,
          39,
          40,
          41,
          42,
          43,
          44,
          45,
          46,
          47,
          48,
          49,
          50,
          51,
          52,
          53,
          54,
          55,
          56,
          57,
          58,
          59,
          60,
          61,
          62,
          63,
          64,
          65,
          66,
          67,
          68,
          69,
          70,
          71,
          72,
          73,
          74,
          75,
          76,
          77,
          78,
          79,
          80,
          81,
          82,
          83,
          84,
          85,
          86,
          87,
          88,
          89,
          90,
          91,
          92,
          93,
          94,
          95,
          96,
          97,
          98,
          99,
          100,
          101,
          102,
          103,
          104,
          105,
          106,
          107,
          108,
          109,
          110,
          111,
          112,
          113,
          114,
          115,
          116,
          117,
          118,
          119,
          120,
          121,
          122,
          123,
          124,
          125,
          126,
          127,
          128,
          129,
          130,
          131,
          132,
          133,
          134,
          135,
          136,
          137,
          138,
          139,
          140,
          141,
          142,
          143,
          144,
          145,
          146,
          147,
          148,
          149,
          150,
          151,
          152,
          153,
          154,
          155,
          156,
          157,
          158,
          159,
          160,
          161,
          162,
          163,
          164,
          165,
          166,
          167,
          168,
          169,
          170,
          171,
          172,
          173,
          174,
          175,
          176,
          177,
          178,
          179,
          180,
          181,
          182,
          183,
          184,
          185,
          186,
          187,
          188,
          189,
          190,
          191,
          192,
          193,
          194,
          195,
          196,
          197,
          198,
          199,
          200,
          201,
          202,
          203,
          204,
          205,
          206,
          207,
          208,
          209,
          210,
          211,
          212,
          213,
          214,
          215,
          216,
          217,
          218,
          219,
          220,
          221,
          222,
          223,
          224,
          225,
          226,
          227,
          228,
          229,
          230,
          231,
          232,
          233,
          234,
          235,
          236,
          237,
          238,
          239,
          240,
          241,
          242,
          243,
          244,
          245,
          246,
          247,
          248,
          249,
          250,
          251,
          252,
          253,
          254,
          255,
          256,
          257,
          258,
          259,
          260,
          261,
          262,
          263,
          264,
          265,
          266,
          267,
          268,
          269,
          270,
          271,
          272,
          273,
          274,
          275,
          276,
          277,
          278,
          279,
          280,
          281,
          282,
          283,
          284,
          285,
          286,
          287,
          288,
          289,
          290,
          291,
          292,
          293,
          294,
          295,
          296,
          297,
          298,
          299,
          300,
          301,
          302,
          303,
          304,
          305,
          306,
          307,
          308,
          309,
          310,
          311,
          312,
          313,
          314,
          315,
          316,
          317,
          318,
          319,
          320,
          321,
          322,
          323,
          324,
          325,
          326,
          327,
          328,
          329,
          330,
          331,
          332,
          333,
          334,
          335,
          336,
          337,
          338,
          339,
          340,
          341,
          342,
          343,
          344,
          345,
          346,
          347,
          348,
          349,
          350,
          351,
          352,
          353,
          354,
          355,
          356,
          357,
          358,
          359,
          360,
          361,
          362,
          363,
          364,
          365,
          366,
          367,
          368,
          369,
          370,
          371,
          372,
          373,
          374,
          375,
          376,
          377,
          378,
          379,
          380,
          381,
          382,
          383,
          384,
          385,
          386,
          387,
          388,
          389,
          390,
          391,
          392,
          393,
          394,
          395,
          396,
          397,
          398,
          399,
          400,
          401,
          402,
          403,
          404,
          405,
          406,
          407,
          408,
          409,
          410,
          411,
          412,
          413,
          414,
          415,
          416,
          417,
          418,
          419,
          420,
          421,
          422,
          423,
          424,
          425,
          426,
          427,
          428,
          429,
          430,
          431,
          432,
          433,
          434,
          435,
          436,
          437,
          438,
          439,
          440,
          441,
          442,
          443,
          444,
          445,
          446,
          447,
          448,
          449,
          450,
          451,
          452,
          453,
          454,
          455,
          456,
          457,
          458,
          459,
          460,
          461,
          462,
          463,
          464,
          465,
          466,
          467,
          468,
          469,
          470,
          471,
          472,
          473,
          474,
          475,
          476,
          477,
          478,
          479,
          480,
          481,
          482,
          483,
          484,
          485,
          486,
          487,
          488,
          489,
          490,
          491,
          492,
          493,
          494,
          495,
          496,
          497,
          498,
          499
         ],
         "y": [
          6.16147518157959,
          5.019888877868652,
          4.995291709899902,
          5.107641696929932,
          5.2154693603515625,
          5.162149429321289,
          5.101832866668701,
          5.0248847007751465,
          5.074922561645508,
          4.997745990753174,
          4.9776458740234375,
          4.927536964416504,
          5.246065139770508,
          5.001271724700928,
          4.929633140563965,
          5.2152099609375,
          5.230677127838135,
          5.3623127937316895,
          5.082065105438232,
          5.269391536712647,
          5.191037654876709,
          5.206090450286865,
          5.401895046234131,
          5.171889781951904,
          5.163368701934815,
          5.334086894989014,
          5.296957969665527,
          5.251368045806885,
          5.193042755126953,
          5.280963897705078,
          5.120316982269287,
          5.269209861755371,
          5.131618022918701,
          5.106755256652832,
          5.222801685333252,
          5.4383955001831055,
          5.183008193969727,
          5.278824806213379,
          5.188704967498779,
          5.1301798820495605,
          5.156828880310059,
          5.378586769104004,
          5.077507972717285,
          5.106815814971924,
          5.159203052520752,
          5.167847633361816,
          5.283822536468506,
          5.174409866333008,
          5.3558220863342285,
          5.149901866912842,
          5.116025924682617,
          5.017877578735352,
          5.193460464477539,
          5.084578514099121,
          5.172094821929932,
          5.035679340362549,
          5.130173206329346,
          5.152424812316895,
          5.218113422393799,
          5.029674053192139,
          5.168356418609619,
          5.108669281005859,
          5.094534873962402,
          5.226013660430908,
          5.192316055297852,
          5.092094421386719,
          5.142393589019775,
          5.04829216003418,
          5.155484199523926,
          5.140665054321289,
          5.136231422424316,
          5.016801357269287,
          5.08870792388916,
          5.055406093597412,
          5.071869850158691,
          5.092347621917725,
          5.117650985717773,
          5.020910263061523,
          5.226249694824219,
          5.082600116729736,
          5.124876976013184,
          5.2491984367370605,
          5.225292682647705,
          5.037524223327637,
          5.200107097625732,
          5.050961017608643,
          5.114948272705078,
          5.098203182220459,
          5.132986545562744,
          5.095621585845947,
          5.077520370483398,
          5.093752861022949,
          5.145412921905518,
          5.13106107711792,
          5.177366733551025,
          5.105536937713623,
          5.024396896362305,
          5.178455829620361,
          5.07208251953125,
          5.0095744132995605,
          5.163774490356445,
          5.1094970703125,
          5.11711311340332,
          5.024198055267334,
          5.153539657592773,
          5.086569309234619,
          4.971100807189941,
          5.135758399963379,
          5.149270534515381,
          5.10795783996582,
          5.082913875579834,
          5.1507978439331055,
          5.086308002471924,
          5.075454711914063,
          5.091063976287842,
          5.146854877471924,
          5.059916496276856,
          5.119647979736328,
          5.073087692260742,
          5.09726095199585,
          5.117367267608643,
          5.105618953704834,
          5.01995325088501,
          5.13812255859375,
          5.051152229309082,
          5.0899658203125,
          5.090011119842529,
          5.105551242828369,
          5.101502418518066,
          5.072745323181152,
          5.122153282165527,
          5.112263202667236,
          5.083242416381836,
          5.109177589416504,
          5.11256742477417,
          5.101779460906982,
          5.064642906188965,
          5.067662715911865,
          5.171774387359619,
          5.090311050415039,
          5.1479082107543945,
          5.096118450164795,
          5.166409015655518,
          5.10905122756958,
          5.09934663772583,
          5.121647357940674,
          5.13953971862793,
          5.0552825927734375,
          5.136499404907227,
          5.184240818023682,
          5.157135486602783,
          5.111633777618408,
          5.14089822769165,
          5.119046688079834,
          5.10439395904541,
          5.15831470489502,
          5.115857124328613,
          5.142564296722412,
          5.126519203186035,
          5.171473979949951,
          5.12813138961792,
          5.125229358673096,
          5.088091850280762,
          5.128965377807617,
          5.193081378936768,
          5.126406669616699,
          5.125807285308838,
          5.094149589538574,
          5.130241870880127,
          5.132877349853516,
          5.137351989746094,
          5.141725063323975,
          5.111743927001953,
          5.11867094039917,
          5.105770111083984,
          5.113552093505859,
          5.108536243438721,
          5.119353294372559,
          5.092867374420166,
          5.123962879180908,
          5.103475570678711,
          5.106709957122803,
          5.118471145629883,
          5.157839298248291,
          5.111508369445801,
          5.145797729492188,
          5.137972831726074,
          5.111833095550537,
          5.10712194442749,
          5.094271183013916,
          5.154800415039063,
          5.129851341247559,
          5.1393232345581055,
          5.121356964111328,
          5.128487586975098,
          5.120999813079834,
          5.119026184082031,
          5.133469104766846,
          5.150660037994385,
          5.125035762786865,
          5.123528957366943,
          5.147592544555664,
          5.119671821594238,
          5.126966953277588,
          5.158668518066406,
          5.144523620605469,
          5.10570764541626,
          5.123722076416016,
          5.116847038269043,
          5.139077663421631,
          5.111266136169434,
          5.121365070343018,
          5.119936466217041,
          5.119245529174805,
          5.152366638183594,
          5.152924060821533,
          5.14413595199585,
          5.167678356170654,
          5.121827125549316,
          5.129401683807373,
          5.137608528137207,
          5.141809940338135,
          5.110974311828613,
          5.125086784362793,
          5.134315490722656,
          5.129367351531982,
          5.1476640701293945,
          5.113040447235107,
          5.139719009399414,
          5.130077838897705,
          5.13649320602417,
          5.128564357757568,
          5.146716594696045,
          5.12615442276001,
          5.131419658660889,
          5.144506931304932,
          5.13667106628418,
          5.135639667510986,
          5.125983238220215,
          5.142954349517822,
          5.151709079742432,
          5.137577056884766,
          5.131279945373535,
          5.109569549560547,
          5.130627155303955,
          5.139238834381104,
          5.17974853515625,
          5.133135795593262,
          5.134839057922363,
          5.145964622497559,
          5.143099784851074,
          5.150291442871094,
          5.130036354064941,
          5.154247760772705,
          5.152735233306885,
          5.145822048187256,
          5.153651237487793,
          5.137787342071533,
          5.165649890899658,
          5.114632606506348,
          5.132660388946533,
          5.14589786529541,
          5.125691890716553,
          5.151913642883301,
          5.145433902740479,
          5.158670902252197,
          5.147763252258301,
          5.139377117156982,
          5.144864082336426,
          5.141428470611572,
          5.15201473236084,
          5.141263008117676,
          5.140349388122559,
          5.137147903442383,
          5.136951446533203,
          5.13400936126709,
          5.12592887878418,
          5.144932746887207,
          5.130607604980469,
          5.153845310211182,
          5.155824661254883,
          5.143260955810547,
          5.142943859100342,
          5.154773712158203,
          5.152877330780029,
          5.15665864944458,
          5.147279739379883,
          5.124197483062744,
          5.152939319610596,
          5.136381149291992,
          5.150975227355957,
          5.144689083099365,
          5.15645170211792,
          5.15158748626709,
          5.157612323760986,
          5.159389972686768,
          5.161313533782959,
          5.157427787780762,
          5.165002346038818,
          5.145269393920898,
          5.152886867523193,
          5.150811672210693,
          5.129698276519775,
          5.156157970428467,
          5.141785621643066,
          5.155272483825684,
          5.142826557159424,
          5.14053201675415,
          5.143190383911133,
          5.146842956542969,
          5.169839859008789,
          5.176915168762207,
          5.167435646057129,
          5.143858432769775,
          5.15952205657959,
          5.162686347961426,
          5.15162992477417,
          5.161525726318359,
          5.158504486083984,
          5.158268451690674,
          5.150387287139893,
          5.137057781219482,
          5.153556823730469,
          5.166235446929932,
          5.166281223297119,
          5.156637668609619,
          5.162485122680664,
          5.15690279006958,
          5.164646148681641,
          5.157777309417725,
          5.159477233886719,
          5.151988983154297,
          5.150394439697266,
          5.155060768127441,
          5.144332408905029,
          5.147463321685791,
          5.140254497528076,
          5.152448654174805,
          5.151824951171875,
          5.159844875335693,
          5.14231538772583,
          5.159994125366211,
          5.158580303192139,
          5.174313068389893,
          5.154861927032471,
          5.173474788665772,
          5.141507148742676,
          5.158946990966797,
          5.173289299011231,
          5.171309947967529,
          5.1662917137146,
          5.166308403015137,
          5.1588873863220215,
          5.162063121795654,
          5.153055191040039,
          5.147668838500977,
          5.143948078155518,
          5.138476848602295,
          5.169247150421143,
          5.170164108276367,
          5.164698600769043,
          5.167540550231934,
          5.158566951751709,
          5.16558313369751,
          5.151770114898682,
          5.153493404388428,
          5.160902976989746,
          5.160435676574707,
          5.141714572906494,
          5.154204368591309,
          5.160806179046631,
          5.155090808868408,
          5.157599449157715,
          5.163327217102051,
          5.149968147277832,
          5.145153999328613,
          5.157351493835449,
          5.148172855377197,
          5.1470794677734375,
          5.159425735473633,
          5.168818950653076,
          5.164953231811523,
          5.154525279998779,
          5.152996063232422,
          5.157591819763184,
          5.152715682983398,
          5.167239189147949,
          5.162203788757324,
          5.162534713745117,
          5.17008113861084,
          5.169463157653809,
          5.167563438415527,
          5.159615993499756,
          5.162590980529785,
          5.154292583465576,
          5.173890590667725,
          5.165312767028809,
          5.1584906578063965,
          5.161737442016602,
          5.16698694229126,
          5.150153160095215,
          5.159400939941406,
          5.163102149963379,
          5.159350395202637,
          5.166515350341797,
          5.15794849395752,
          5.1593523025512695,
          5.169541835784912,
          5.175158977508545,
          5.177136898040772,
          5.174376487731934,
          5.172379970550537,
          5.173019886016846,
          5.176145076751709,
          5.163135051727295,
          5.165035247802734,
          5.164186000823975,
          5.1559271812438965,
          5.160688877105713,
          5.168136119842529,
          5.166615009307861,
          5.165294647216797,
          5.1704277992248535,
          5.170543193817139,
          5.176886558532715,
          5.169017791748047,
          5.16316032409668,
          5.161267757415772,
          5.16371488571167,
          5.169529914855957,
          5.1676201820373535,
          5.160341262817383,
          5.164820194244385,
          5.164812088012695,
          5.165915489196777,
          5.162499904632568,
          5.170442581176758,
          5.166004180908203,
          5.162593841552734,
          5.170451641082764,
          5.163838863372803,
          5.170247077941895,
          5.161881446838379,
          5.161785125732422,
          5.160751819610596,
          5.165914535522461,
          5.166261672973633,
          5.172206878662109,
          5.169032096862793,
          5.158174514770508,
          5.166750907897949,
          5.153342723846436,
          5.163913726806641,
          5.163282871246338,
          5.164897918701172,
          5.16329288482666,
          5.159224987030029,
          5.16649866104126,
          5.158061981201172,
          5.1633381843566895,
          5.164541721343994,
          5.162119388580322,
          5.162327289581299,
          5.154621124267578,
          5.168511867523193,
          5.168044567108154,
          5.151612281799316,
          5.166662693023682,
          5.163678169250488,
          5.158863544464111,
          5.156482219696045,
          5.1640729904174805,
          5.1653337478637695,
          5.172644138336182,
          5.161067008972168,
          5.161795139312744,
          5.17215633392334,
          5.1681108474731445,
          5.159608364105225,
          5.1701483726501465,
          5.163433074951172,
          5.156731605529785,
          5.156919002532959,
          5.165919303894043,
          5.156116962432861,
          5.166909694671631,
          5.155492305755615,
          5.162509441375732,
          5.170527458190918,
          5.151671886444092,
          5.163773059844971,
          5.167697429656982,
          5.1683502197265625,
          5.169025897979736,
          5.174409866333008,
          5.160816192626953,
          5.170741558074951,
          5.167190074920654,
          5.158694744110107,
          5.160726547241211
         ]
        }
       ],
       "layout": {
        "autosize": true,
        "font": {
         "size": 20
        },
        "template": {
         "data": {
          "bar": [
           {
            "error_x": {
             "color": "rgb(36,36,36)"
            },
            "error_y": {
             "color": "rgb(36,36,36)"
            },
            "marker": {
             "line": {
              "color": "white",
              "width": 0.5
             },
             "pattern": {
              "fillmode": "overlay",
              "size": 10,
              "solidity": 0.2
             }
            },
            "type": "bar"
           }
          ],
          "barpolar": [
           {
            "marker": {
             "line": {
              "color": "white",
              "width": 0.5
             },
             "pattern": {
              "fillmode": "overlay",
              "size": 10,
              "solidity": 0.2
             }
            },
            "type": "barpolar"
           }
          ],
          "carpet": [
           {
            "aaxis": {
             "endlinecolor": "rgb(36,36,36)",
             "gridcolor": "white",
             "linecolor": "white",
             "minorgridcolor": "white",
             "startlinecolor": "rgb(36,36,36)"
            },
            "baxis": {
             "endlinecolor": "rgb(36,36,36)",
             "gridcolor": "white",
             "linecolor": "white",
             "minorgridcolor": "white",
             "startlinecolor": "rgb(36,36,36)"
            },
            "type": "carpet"
           }
          ],
          "choropleth": [
           {
            "colorbar": {
             "outlinewidth": 1,
             "tickcolor": "rgb(36,36,36)",
             "ticks": "outside"
            },
            "type": "choropleth"
           }
          ],
          "contour": [
           {
            "colorbar": {
             "outlinewidth": 1,
             "tickcolor": "rgb(36,36,36)",
             "ticks": "outside"
            },
            "colorscale": [
             [
              0,
              "#440154"
             ],
             [
              0.1111111111111111,
              "#482878"
             ],
             [
              0.2222222222222222,
              "#3e4989"
             ],
             [
              0.3333333333333333,
              "#31688e"
             ],
             [
              0.4444444444444444,
              "#26828e"
             ],
             [
              0.5555555555555556,
              "#1f9e89"
             ],
             [
              0.6666666666666666,
              "#35b779"
             ],
             [
              0.7777777777777778,
              "#6ece58"
             ],
             [
              0.8888888888888888,
              "#b5de2b"
             ],
             [
              1,
              "#fde725"
             ]
            ],
            "type": "contour"
           }
          ],
          "contourcarpet": [
           {
            "colorbar": {
             "outlinewidth": 1,
             "tickcolor": "rgb(36,36,36)",
             "ticks": "outside"
            },
            "type": "contourcarpet"
           }
          ],
          "heatmap": [
           {
            "colorbar": {
             "outlinewidth": 1,
             "tickcolor": "rgb(36,36,36)",
             "ticks": "outside"
            },
            "colorscale": [
             [
              0,
              "#440154"
             ],
             [
              0.1111111111111111,
              "#482878"
             ],
             [
              0.2222222222222222,
              "#3e4989"
             ],
             [
              0.3333333333333333,
              "#31688e"
             ],
             [
              0.4444444444444444,
              "#26828e"
             ],
             [
              0.5555555555555556,
              "#1f9e89"
             ],
             [
              0.6666666666666666,
              "#35b779"
             ],
             [
              0.7777777777777778,
              "#6ece58"
             ],
             [
              0.8888888888888888,
              "#b5de2b"
             ],
             [
              1,
              "#fde725"
             ]
            ],
            "type": "heatmap"
           }
          ],
          "heatmapgl": [
           {
            "colorbar": {
             "outlinewidth": 1,
             "tickcolor": "rgb(36,36,36)",
             "ticks": "outside"
            },
            "colorscale": [
             [
              0,
              "#440154"
             ],
             [
              0.1111111111111111,
              "#482878"
             ],
             [
              0.2222222222222222,
              "#3e4989"
             ],
             [
              0.3333333333333333,
              "#31688e"
             ],
             [
              0.4444444444444444,
              "#26828e"
             ],
             [
              0.5555555555555556,
              "#1f9e89"
             ],
             [
              0.6666666666666666,
              "#35b779"
             ],
             [
              0.7777777777777778,
              "#6ece58"
             ],
             [
              0.8888888888888888,
              "#b5de2b"
             ],
             [
              1,
              "#fde725"
             ]
            ],
            "type": "heatmapgl"
           }
          ],
          "histogram": [
           {
            "marker": {
             "line": {
              "color": "white",
              "width": 0.6
             }
            },
            "type": "histogram"
           }
          ],
          "histogram2d": [
           {
            "colorbar": {
             "outlinewidth": 1,
             "tickcolor": "rgb(36,36,36)",
             "ticks": "outside"
            },
            "colorscale": [
             [
              0,
              "#440154"
             ],
             [
              0.1111111111111111,
              "#482878"
             ],
             [
              0.2222222222222222,
              "#3e4989"
             ],
             [
              0.3333333333333333,
              "#31688e"
             ],
             [
              0.4444444444444444,
              "#26828e"
             ],
             [
              0.5555555555555556,
              "#1f9e89"
             ],
             [
              0.6666666666666666,
              "#35b779"
             ],
             [
              0.7777777777777778,
              "#6ece58"
             ],
             [
              0.8888888888888888,
              "#b5de2b"
             ],
             [
              1,
              "#fde725"
             ]
            ],
            "type": "histogram2d"
           }
          ],
          "histogram2dcontour": [
           {
            "colorbar": {
             "outlinewidth": 1,
             "tickcolor": "rgb(36,36,36)",
             "ticks": "outside"
            },
            "colorscale": [
             [
              0,
              "#440154"
             ],
             [
              0.1111111111111111,
              "#482878"
             ],
             [
              0.2222222222222222,
              "#3e4989"
             ],
             [
              0.3333333333333333,
              "#31688e"
             ],
             [
              0.4444444444444444,
              "#26828e"
             ],
             [
              0.5555555555555556,
              "#1f9e89"
             ],
             [
              0.6666666666666666,
              "#35b779"
             ],
             [
              0.7777777777777778,
              "#6ece58"
             ],
             [
              0.8888888888888888,
              "#b5de2b"
             ],
             [
              1,
              "#fde725"
             ]
            ],
            "type": "histogram2dcontour"
           }
          ],
          "mesh3d": [
           {
            "colorbar": {
             "outlinewidth": 1,
             "tickcolor": "rgb(36,36,36)",
             "ticks": "outside"
            },
            "type": "mesh3d"
           }
          ],
          "parcoords": [
           {
            "line": {
             "colorbar": {
              "outlinewidth": 1,
              "tickcolor": "rgb(36,36,36)",
              "ticks": "outside"
             }
            },
            "type": "parcoords"
           }
          ],
          "pie": [
           {
            "automargin": true,
            "type": "pie"
           }
          ],
          "scatter": [
           {
            "fillpattern": {
             "fillmode": "overlay",
             "size": 10,
             "solidity": 0.2
            },
            "type": "scatter"
           }
          ],
          "scatter3d": [
           {
            "line": {
             "colorbar": {
              "outlinewidth": 1,
              "tickcolor": "rgb(36,36,36)",
              "ticks": "outside"
             }
            },
            "marker": {
             "colorbar": {
              "outlinewidth": 1,
              "tickcolor": "rgb(36,36,36)",
              "ticks": "outside"
             }
            },
            "type": "scatter3d"
           }
          ],
          "scattercarpet": [
           {
            "marker": {
             "colorbar": {
              "outlinewidth": 1,
              "tickcolor": "rgb(36,36,36)",
              "ticks": "outside"
             }
            },
            "type": "scattercarpet"
           }
          ],
          "scattergeo": [
           {
            "marker": {
             "colorbar": {
              "outlinewidth": 1,
              "tickcolor": "rgb(36,36,36)",
              "ticks": "outside"
             }
            },
            "type": "scattergeo"
           }
          ],
          "scattergl": [
           {
            "marker": {
             "colorbar": {
              "outlinewidth": 1,
              "tickcolor": "rgb(36,36,36)",
              "ticks": "outside"
             }
            },
            "type": "scattergl"
           }
          ],
          "scattermapbox": [
           {
            "marker": {
             "colorbar": {
              "outlinewidth": 1,
              "tickcolor": "rgb(36,36,36)",
              "ticks": "outside"
             }
            },
            "type": "scattermapbox"
           }
          ],
          "scatterpolar": [
           {
            "marker": {
             "colorbar": {
              "outlinewidth": 1,
              "tickcolor": "rgb(36,36,36)",
              "ticks": "outside"
             }
            },
            "type": "scatterpolar"
           }
          ],
          "scatterpolargl": [
           {
            "marker": {
             "colorbar": {
              "outlinewidth": 1,
              "tickcolor": "rgb(36,36,36)",
              "ticks": "outside"
             }
            },
            "type": "scatterpolargl"
           }
          ],
          "scatterternary": [
           {
            "marker": {
             "colorbar": {
              "outlinewidth": 1,
              "tickcolor": "rgb(36,36,36)",
              "ticks": "outside"
             }
            },
            "type": "scatterternary"
           }
          ],
          "surface": [
           {
            "colorbar": {
             "outlinewidth": 1,
             "tickcolor": "rgb(36,36,36)",
             "ticks": "outside"
            },
            "colorscale": [
             [
              0,
              "#440154"
             ],
             [
              0.1111111111111111,
              "#482878"
             ],
             [
              0.2222222222222222,
              "#3e4989"
             ],
             [
              0.3333333333333333,
              "#31688e"
             ],
             [
              0.4444444444444444,
              "#26828e"
             ],
             [
              0.5555555555555556,
              "#1f9e89"
             ],
             [
              0.6666666666666666,
              "#35b779"
             ],
             [
              0.7777777777777778,
              "#6ece58"
             ],
             [
              0.8888888888888888,
              "#b5de2b"
             ],
             [
              1,
              "#fde725"
             ]
            ],
            "type": "surface"
           }
          ],
          "table": [
           {
            "cells": {
             "fill": {
              "color": "rgb(237,237,237)"
             },
             "line": {
              "color": "white"
             }
            },
            "header": {
             "fill": {
              "color": "rgb(217,217,217)"
             },
             "line": {
              "color": "white"
             }
            },
            "type": "table"
           }
          ]
         },
         "layout": {
          "annotationdefaults": {
           "arrowhead": 0,
           "arrowwidth": 1
          },
          "autotypenumbers": "strict",
          "coloraxis": {
           "colorbar": {
            "outlinewidth": 1,
            "tickcolor": "rgb(36,36,36)",
            "ticks": "outside"
           }
          },
          "colorscale": {
           "diverging": [
            [
             0,
             "rgb(103,0,31)"
            ],
            [
             0.1,
             "rgb(178,24,43)"
            ],
            [
             0.2,
             "rgb(214,96,77)"
            ],
            [
             0.3,
             "rgb(244,165,130)"
            ],
            [
             0.4,
             "rgb(253,219,199)"
            ],
            [
             0.5,
             "rgb(247,247,247)"
            ],
            [
             0.6,
             "rgb(209,229,240)"
            ],
            [
             0.7,
             "rgb(146,197,222)"
            ],
            [
             0.8,
             "rgb(67,147,195)"
            ],
            [
             0.9,
             "rgb(33,102,172)"
            ],
            [
             1,
             "rgb(5,48,97)"
            ]
           ],
           "sequential": [
            [
             0,
             "#440154"
            ],
            [
             0.1111111111111111,
             "#482878"
            ],
            [
             0.2222222222222222,
             "#3e4989"
            ],
            [
             0.3333333333333333,
             "#31688e"
            ],
            [
             0.4444444444444444,
             "#26828e"
            ],
            [
             0.5555555555555556,
             "#1f9e89"
            ],
            [
             0.6666666666666666,
             "#35b779"
            ],
            [
             0.7777777777777778,
             "#6ece58"
            ],
            [
             0.8888888888888888,
             "#b5de2b"
            ],
            [
             1,
             "#fde725"
            ]
           ],
           "sequentialminus": [
            [
             0,
             "#440154"
            ],
            [
             0.1111111111111111,
             "#482878"
            ],
            [
             0.2222222222222222,
             "#3e4989"
            ],
            [
             0.3333333333333333,
             "#31688e"
            ],
            [
             0.4444444444444444,
             "#26828e"
            ],
            [
             0.5555555555555556,
             "#1f9e89"
            ],
            [
             0.6666666666666666,
             "#35b779"
            ],
            [
             0.7777777777777778,
             "#6ece58"
            ],
            [
             0.8888888888888888,
             "#b5de2b"
            ],
            [
             1,
             "#fde725"
            ]
           ]
          },
          "colorway": [
           "#1F77B4",
           "#FF7F0E",
           "#2CA02C",
           "#D62728",
           "#9467BD",
           "#8C564B",
           "#E377C2",
           "#7F7F7F",
           "#BCBD22",
           "#17BECF"
          ],
          "font": {
           "color": "rgb(36,36,36)"
          },
          "geo": {
           "bgcolor": "white",
           "lakecolor": "white",
           "landcolor": "white",
           "showlakes": true,
           "showland": true,
           "subunitcolor": "white"
          },
          "hoverlabel": {
           "align": "left"
          },
          "hovermode": "closest",
          "mapbox": {
           "style": "light"
          },
          "paper_bgcolor": "white",
          "plot_bgcolor": "white",
          "polar": {
           "angularaxis": {
            "gridcolor": "rgb(232,232,232)",
            "linecolor": "rgb(36,36,36)",
            "showgrid": false,
            "showline": true,
            "ticks": "outside"
           },
           "bgcolor": "white",
           "radialaxis": {
            "gridcolor": "rgb(232,232,232)",
            "linecolor": "rgb(36,36,36)",
            "showgrid": false,
            "showline": true,
            "ticks": "outside"
           }
          },
          "scene": {
           "xaxis": {
            "backgroundcolor": "white",
            "gridcolor": "rgb(232,232,232)",
            "gridwidth": 2,
            "linecolor": "rgb(36,36,36)",
            "showbackground": true,
            "showgrid": false,
            "showline": true,
            "ticks": "outside",
            "zeroline": false,
            "zerolinecolor": "rgb(36,36,36)"
           },
           "yaxis": {
            "backgroundcolor": "white",
            "gridcolor": "rgb(232,232,232)",
            "gridwidth": 2,
            "linecolor": "rgb(36,36,36)",
            "showbackground": true,
            "showgrid": false,
            "showline": true,
            "ticks": "outside",
            "zeroline": false,
            "zerolinecolor": "rgb(36,36,36)"
           },
           "zaxis": {
            "backgroundcolor": "white",
            "gridcolor": "rgb(232,232,232)",
            "gridwidth": 2,
            "linecolor": "rgb(36,36,36)",
            "showbackground": true,
            "showgrid": false,
            "showline": true,
            "ticks": "outside",
            "zeroline": false,
            "zerolinecolor": "rgb(36,36,36)"
           }
          },
          "shapedefaults": {
           "fillcolor": "black",
           "line": {
            "width": 0
           },
           "opacity": 0.3
          },
          "ternary": {
           "aaxis": {
            "gridcolor": "rgb(232,232,232)",
            "linecolor": "rgb(36,36,36)",
            "showgrid": false,
            "showline": true,
            "ticks": "outside"
           },
           "baxis": {
            "gridcolor": "rgb(232,232,232)",
            "linecolor": "rgb(36,36,36)",
            "showgrid": false,
            "showline": true,
            "ticks": "outside"
           },
           "bgcolor": "white",
           "caxis": {
            "gridcolor": "rgb(232,232,232)",
            "linecolor": "rgb(36,36,36)",
            "showgrid": false,
            "showline": true,
            "ticks": "outside"
           }
          },
          "title": {
           "x": 0.05
          },
          "xaxis": {
           "automargin": true,
           "gridcolor": "rgb(232,232,232)",
           "linecolor": "rgb(36,36,36)",
           "showgrid": false,
           "showline": true,
           "ticks": "outside",
           "title": {
            "standoff": 15
           },
           "zeroline": false,
           "zerolinecolor": "rgb(36,36,36)"
          },
          "yaxis": {
           "automargin": true,
           "gridcolor": "rgb(232,232,232)",
           "linecolor": "rgb(36,36,36)",
           "showgrid": false,
           "showline": true,
           "ticks": "outside",
           "title": {
            "standoff": 15
           },
           "zeroline": false,
           "zerolinecolor": "rgb(36,36,36)"
          }
         }
        },
        "xaxis": {
         "showgrid": false,
         "title": {
          "text": "Epoch"
         }
        },
        "yaxis": {
         "showgrid": false,
         "title": {
          "text": "MAE (pm/V)"
         }
        }
       }
      }
     },
     "metadata": {},
     "output_type": "display_data"
    }
   ],
   "source": [
    "lr_val = go.Scatter(\n",
    "    x=df_lr_epochs_first.index,\n",
    "    y=df_lr_epochs_first[\"metric_val/MeanAbsoluteError/shg_tensor_full\"],\n",
    "    mode=\"lines+markers\",\n",
    "    name=\"Validation loss\",\n",
    "    showlegend=True,\n",
    ")\n",
    "\n",
    "# Layout\n",
    "layout = go.Layout(\n",
    "    # title=dict(text='Scatter Plot'),\n",
    "    xaxis=dict(title=\"Epoch\"),\n",
    "    yaxis=dict(title=\"MAE (pm/V)\"),\n",
    "    # legend=dict(font=dict(size=12)),\n",
    ")\n",
    "\n",
    "# Create figure\n",
    "fig = go.Figure(data=[lr_val], layout=layout)\n",
    "\n",
    "fig.update_layout(\n",
    "    autosize=True,\n",
    "    font_size=20,\n",
    "    # width=600,\n",
    "    # height=600,\n",
    "    # plot_bgcolor=\"white\",\n",
    "    template=\"simple_white\",\n",
    ")\n",
    "fig.update_layout(\n",
    "    xaxis=dict(\n",
    "        # tickmode = 'array',\n",
    "        # tickvals = [1, 2,3,4,5,6,7,8],\n",
    "        # ticktext = ['One', 'Three', 'Five', 'Seven', 'Nine', 'Eleven']\n",
    "        showgrid=False,\n",
    "    ),\n",
    "    yaxis=dict(\n",
    "        # tickmode = 'array',\n",
    "        # tickvals = [1, 2,3,4,5,6,7,8],\n",
    "        # ticktext = ['One', 'Three', 'Five', 'Seven', 'Nine', 'Eleven']\n",
    "        showgrid=False,\n",
    "    ),\n",
    ")\n",
    "\n",
    "# Show figure\n",
    "fig.show()"
   ]
  },
  {
   "cell_type": "markdown",
   "metadata": {},
   "source": [
    "# Errors on dijk"
   ]
  },
  {
   "cell_type": "code",
   "execution_count": 9,
   "metadata": {},
   "outputs": [
    {
     "name": "stdout",
     "output_type": "stream",
     "text": [
      "31.94500017373873\n"
     ]
    }
   ],
   "source": [
    "list_fronorm = []  # = sqrt(sum(sqrd))/nb_nonzero\n",
    "for ir, r in df_pred_matten.iterrows():\n",
    "    dijk_orig = shg.from_voigt(df_orig.loc[ir][\"dijk_full_neum\"])\n",
    "    dijk_matten = shg.from_voigt(r[\"dijk_matten\"])\n",
    "    if np.count_nonzero(dijk_orig) == 0:\n",
    "        continue\n",
    "    t = dijk_orig - dijk_matten\n",
    "    list_fronorm.append(np.linalg.norm(t))\n",
    "print(np.mean(list_fronorm))"
   ]
  },
  {
   "cell_type": "code",
   "execution_count": 10,
   "metadata": {},
   "outputs": [
    {
     "name": "stdout",
     "output_type": "stream",
     "text": [
      "3.7662333998175628\n"
     ]
    }
   ],
   "source": [
    "list_fronorm = []  # = sqrt(sum(sqrd))/nb_nonzero\n",
    "for ir, r in df_pred_matten.iterrows():\n",
    "    dijk_orig = shg.from_voigt(df_orig.loc[ir][\"dijk_full_neum\"])\n",
    "    dijk_matten = shg.from_voigt(r[\"dijk_matten\"])\n",
    "    if np.count_nonzero(dijk_orig) == 0:\n",
    "        continue\n",
    "    list_fronorm.append(\n",
    "        np.linalg.norm(dijk_orig - dijk_matten) / np.count_nonzero(dijk_orig)\n",
    "    )\n",
    "print(np.mean(list_fronorm))"
   ]
  },
  {
   "cell_type": "markdown",
   "metadata": {},
   "source": [
    "## Errors on dijk masked"
   ]
  },
  {
   "cell_type": "code",
   "execution_count": 11,
   "metadata": {},
   "outputs": [
    {
     "name": "stdout",
     "output_type": "stream",
     "text": [
      "30.681469476980595\n"
     ]
    }
   ],
   "source": [
    "# masked\n",
    "list_fronorm = []  # = sqrt(sum(sqrd))\n",
    "for ir, r in df_pred_matten.iterrows():\n",
    "    dijk_orig = shg.from_voigt(df_orig.loc[ir][\"dijk_full_neum\"])\n",
    "    dijk_matten = shg.from_voigt(r[\"dijk_matten\"])\n",
    "    dijk_matten = np.where(dijk_orig != 0, dijk_matten, 0)\n",
    "    if np.count_nonzero(dijk_orig) == 0:\n",
    "        continue\n",
    "    t = dijk_orig - dijk_matten\n",
    "    list_fronorm.append(np.linalg.norm(t))\n",
    "print(np.mean(list_fronorm))"
   ]
  },
  {
   "cell_type": "code",
   "execution_count": 12,
   "metadata": {},
   "outputs": [
    {
     "name": "stdout",
     "output_type": "stream",
     "text": [
      "3.5638308304858497\n"
     ]
    }
   ],
   "source": [
    "list_fronorm = []  # = sqrt(sum(sqrd))/nb_nonzero\n",
    "for ir, r in df_pred_matten.iterrows():\n",
    "    dijk_orig = shg.from_voigt(df_orig.loc[ir][\"dijk_full_neum\"])\n",
    "    dijk_matten = shg.from_voigt(r[\"dijk_matten\"])\n",
    "    dijk_matten = np.where(dijk_orig != 0, dijk_matten, 0)\n",
    "    if np.count_nonzero(dijk_orig) == 0:\n",
    "        continue\n",
    "    t = dijk_orig - dijk_matten\n",
    "    list_fronorm.append(\n",
    "        np.linalg.norm(dijk_orig - dijk_matten) / np.count_nonzero(dijk_orig)\n",
    "    )\n",
    "print(np.mean(list_fronorm))"
   ]
  },
  {
   "cell_type": "markdown",
   "metadata": {},
   "source": [
    "# Errors on dKP"
   ]
  },
  {
   "cell_type": "code",
   "execution_count": 13,
   "metadata": {},
   "outputs": [
    {
     "name": "stdout",
     "output_type": "stream",
     "text": [
      "MAE = 7.9461600822726615\n",
      "MAPE = 7.787189618255381\n",
      "RMSE = 20.87939144790289\n",
      "Rho_sp = 0.7800428166850669\n"
     ]
    },
    {
     "data": {
      "application/vnd.plotly.v1+json": {
       "config": {
        "plotlyServerURL": "https://plot.ly"
       },
       "data": [
        {
         "mode": "markers",
         "name": "",
         "showlegend": false,
         "text": [
          "mp-983357",
          "mp-8377",
          "mp-18938",
          "mp-5854",
          "mp-23778",
          "mp-19219",
          "mp-9197",
          "mp-553887",
          "mp-23407",
          "mp-555150",
          "mp-6062",
          "mp-863374",
          "mp-23363",
          "mp-23321",
          "mp-27755",
          "mp-3491",
          "mp-540634",
          "mp-557773",
          "mp-559961",
          "mp-556966",
          "mp-7324",
          "mp-622018",
          "mp-29305",
          "mp-639714",
          "mp-24118",
          "mp-555203",
          "mp-706621",
          "mp-16792",
          "mp-639506",
          "mp-5020",
          "mp-3589",
          "mp-28264",
          "mp-570136",
          "mp-862539",
          "mp-696946",
          "mp-27726",
          "mp-30530",
          "mp-626620",
          "mp-2691",
          "mp-21521",
          "mp-4690",
          "mp-756570",
          "mp-28918",
          "mp-754585",
          "mp-27914",
          "mp-29910",
          "mp-14367",
          "mp-557027",
          "mp-29525",
          "mp-23866",
          "mp-29524",
          "mp-559065",
          "mp-551629",
          "mp-9064",
          "mp-13666",
          "mp-14444",
          "mp-685145",
          "mp-830",
          "mp-31451",
          "mp-30847",
          "mp-36111",
          "mp-1184046",
          "mp-1215430",
          "mp-1017534",
          "mp-1018093",
          "mp-1008556",
          "mp-4524",
          "mp-10572",
          "mp-7582",
          "mp-22965",
          "mp-4586",
          "mp-1193269",
          "mp-1101862",
          "mp-1097061",
          "mp-998623",
          "mp-1028576",
          "mp-672118",
          "mp-1215418",
          "mp-23173",
          "mp-863755",
          "mp-1221954",
          "mp-1300570",
          "mp-1210659",
          "mp-554560",
          "mp-15776",
          "mp-28873",
          "mp-1102285",
          "mp-1227567",
          "mp-1220190",
          "mp-570084",
          "mp-17862",
          "mp-1190717",
          "mp-1217833",
          "mp-675779",
          "mp-27594",
          "mp-1218158",
          "mp-28140",
          "mp-766345",
          "agm002183415",
          "agm003160554",
          "agm002205907",
          "agm002233584",
          "agm003227564",
          "agm002793928",
          "mp-781710",
          "mp-1227011",
          "mp-1216863",
          "agm002135972",
          "agm003234420",
          "agm002218325",
          "mp-1216132",
          "mp-779863",
          "mp-38103",
          "mp-29362",
          "mp-1019715",
          "agm002054632",
          "mp-1204358",
          "mp-1105300",
          "mp-1228823",
          "mp-15833",
          "mp-1103351",
          "mp-24402",
          "mp-1095543",
          "mp-1188121",
          "mp-625521",
          "mp-23560",
          "mp-1227994",
          "mp-1079609",
          "mp-1192126",
          "agm002197344",
          "agm002177947",
          "mp-696347",
          "mp-1147693",
          "agm002156258",
          "mp-772748",
          "mp-1029422",
          "mp-1120718",
          "mp-1227036",
          "mp-1194520",
          "mp-1218006",
          "mp-1220913",
          "mp-1223822",
          "mp-1147725",
          "mp-984766",
          "mp-1210722",
          "agm003263235",
          "agm002215982",
          "mp-568968",
          "mp-27313",
          "mp-556024",
          "mp-28020",
          "mp-1229086",
          "mp-772875",
          "agm002363904",
          "mp-1223536",
          "mp-1147697",
          "mp-23887",
          "mp-18609",
          "agm002848041",
          "agm002133608",
          "agm003268240",
          "mp-1198890",
          "agm003200486",
          "mp-1096810",
          "mp-1105127",
          "mp-1216944",
          "mp-555915",
          "mp-776259",
          "agm002133663",
          "agm002790067",
          "agm002162961",
          "mp-767604",
          "agm003445531",
          "agm003206623",
          "mp-1227366",
          "agm005543540",
          "agm2000012572",
          "agm002205114",
          "agm003046706",
          "agm004786073",
          "agm003445638",
          "agm002149208",
          "agm2000022161",
          "agm2000001840",
          "agm002158429",
          "agm004751295",
          "agm005848257",
          "agm2000081842",
          "agm004879066",
          "agm001347560",
          "agm2000086862",
          "agm002102214",
          "mp-23807",
          "agm004954137",
          "agm004785400",
          "agm001234439",
          "agm2000011096",
          "agm2000002067",
          "agm003716707",
          "mp-554918",
          "agm005769896",
          "agm005698720",
          "agm004956590",
          "agm006124765",
          "mp-1202153",
          "mp-23914",
          "agm002073747",
          "agm004442672",
          "agm004929360",
          "agm003267560",
          "agm002171920",
          "mp-1215297",
          "agm2000005425",
          "agm004957147",
          "agm005723638",
          "mp-1080058",
          "agm004954098",
          "agm005069643",
          "agm002153441",
          "agm003220800",
          "agm005849998",
          "agm002138386",
          "agm004788917",
          "agm2000128635",
          "agm2000015113",
          "agm002861773",
          "agm004852876",
          "mp-1215966",
          "agm005607967",
          "agm1000019892",
          "agm003048415",
          "agm2000139348",
          "agm002158908",
          "agm002041688",
          "agm005049826",
          "mp-35799",
          "agm002072314",
          "agm002147787",
          "agm005408965",
          "mp-15840",
          "agm005839737",
          "agm003110472",
          "agm005189644",
          "mp-4681",
          "agm005086011",
          "agm002845532",
          "agm005086003",
          "agm2000101795",
          "agm005074722",
          "agm005180379"
         ],
         "type": "scatter",
         "x": [
          0.1637161961003279,
          1.284568323780706,
          2.445284299440702,
          0.6266017074568863,
          0.9910381306437388,
          1.7623403848746162,
          0.26055049885420734,
          4.38282793604309,
          8.003880799957166,
          1.6714733711428025,
          1.729192132434956,
          5.296053149018608,
          0.010129295197848578,
          0.04048209925507434,
          0.020291279821523046,
          3.2333363341489685,
          0.46039401208381553,
          0.1155290578338306,
          0.7254527988278862,
          0.45241150568782784,
          0.4445418900700682,
          77.7206428201921,
          2.0701988005076837,
          5.535053276145763,
          0.378746470422092,
          0.5807809308869348,
          0.17402164883623036,
          7.048895297257652,
          0.00871668578972436,
          17.00593064077109,
          0.7867697816903596,
          16.167441970176085,
          0.869239575417028,
          0.5885377837373961,
          0.9635091453928636,
          1.8292924700531092,
          4.306735198495529,
          1.453382072376325,
          42.697559270275974,
          7.525570950107779,
          0.23325192444863693,
          14.05313916159886,
          9.530587117292916,
          6.211407706114043,
          0.10739522408833392,
          2.005285335624167,
          0.09337521112741362,
          0.1458877440321602,
          0.04959017790781204,
          0.9147487969477314,
          0.4403634617353821,
          6.497969001348536,
          1.1664455610018762,
          0.7760408658560501,
          50.26224377818762,
          13.325047557309988,
          11.486556413251712,
          4.9548548591558745,
          67.16185442385373,
          37.84125851846766,
          14.770006430271795,
          42.282563090591545,
          40.70959571626302,
          86.43318649770944,
          99.0472047694292,
          2.072813575855084,
          89.50434406167203,
          3.502880754734303,
          25.905156109625487,
          73.65819366822149,
          22.59791344724751,
          0.004901906744179846,
          0.00926976728536528,
          0.42339392807386145,
          2.0173458365469084,
          6.896748303683057,
          0.8698482475910191,
          102.9588455757094,
          24.60466994929397,
          5.7317530008358455,
          3.1668728275623117,
          0.7138283781538486,
          0.7808956594922749,
          0.5567874577407241,
          49.554229465557135,
          1.685246556794829,
          7.285592611778784,
          107.30558261963216,
          0.977077794807452,
          29.824951103584574,
          33.20634743822916,
          0.7406551680101052,
          12.355454539173833,
          6.1363025179488515,
          24.03252737306557,
          2.679311404714401,
          11.55925304247615,
          0.06179004100546308,
          63.41989568740686,
          72.51218728068382,
          60.42555880885499,
          17.949940135731698,
          0.23370080862578615,
          13.815006459707828,
          16.442143761668234,
          52.33013998938465,
          9.121339783904686,
          86.82819893445695,
          3.741263229982967,
          59.22118482426684,
          3.886109063244815,
          7.036324657579612,
          0.6556969325541743,
          0.15013353166282417,
          0.9043530781146024,
          45.30313585192757,
          0.2409265756286796,
          26.760013080806115,
          5.1957559821920585,
          3.124842923790021,
          2.2421112466956346,
          0.05552424214135506,
          0.4235021433678197,
          0.1927772631282608,
          1.6026487619302416,
          1.9324550393290865,
          2.3722891448775867,
          3.271774712384432,
          0.854671044191776,
          10.346359350445816,
          57.421371513153915,
          0.38411570469334094,
          7.670721448917315,
          0.6697039819612798,
          0.2716584026966766,
          23.456218204440205,
          8.365441040618439,
          0.031333688358619716,
          0.21283349650605804,
          11.992339659471993,
          3.700290930724513,
          0.6576829542553341,
          8.530966099400597,
          0.11980201080974372,
          4.883311614501596,
          0.1840858650463464,
          1.0124731257139752,
          32.55807279795252,
          0.07496110195732313,
          0.013943248393690464,
          1.2745786250549451,
          0.16975347704375415,
          0.007324108310589076,
          1.3390533054425815,
          15.363950385077864,
          7.443331100363126,
          0.8128075093615331,
          47.96142567259269,
          0.08344883276158094,
          1.7272854408234093,
          128.57872321549112,
          0.171657918794524,
          0.009178805338191244,
          8.267358086543753,
          165.11423137705333,
          1.0621837379758228,
          0.418081267508317,
          2.805753714798062,
          0.0991741151465185,
          46.68049140909839,
          29.33632071738057,
          19.020750537047295,
          2.533583054179051,
          3.554589581362436,
          9.119878419348035,
          0.8747801231678206,
          0.042045060250899366,
          64.16281613192514,
          5.102750745654848,
          2.7022513119493685,
          1.8019306394927284,
          0.10231253569172748,
          0.035194003373272,
          1.4487561627496062,
          4.119900280407139,
          0.22694560248003484,
          0.7736585573982434,
          0.10739298694633052,
          2.861884361265005,
          119.1775072271732,
          0.033560379211186785,
          0.5597603921863004,
          0.5288809978394777,
          8.880827412274467,
          17.43350792144079,
          0.8272878630490751,
          0.012228322303897627,
          0.05789700711715668,
          0.4841544135615684,
          2.4889948726268245,
          97.68395764628198,
          3.122715013301309,
          0.2351408462270188,
          10.632646096506011,
          6.748073345420762,
          0.13943147786634916,
          0.3950018116943311,
          0.0394322781829729,
          0.7145712554340605,
          19.687937563122517,
          21.371117289633546,
          12.472602553594912,
          0.011049020246936872,
          0.33584670726814886,
          18.659315188916388,
          13.521219613286018,
          8.746398626595365,
          4.606765053649747,
          0.7280654950849078,
          0.2376055939921027,
          56.19223404049812,
          0.07204482741368785,
          9.998036580257422,
          0.009932503021346586,
          15.0655638458697,
          14.475313088692246,
          11.88869847402226,
          8.91652058404514,
          0.7241109877815762,
          0.0025494951937533525,
          11.762962459658205,
          0.04399397096239267,
          30.75886427580862,
          5.595534498515963,
          6.162135670885474,
          0.6126159490925168,
          3.6746577314042463,
          0.0704271802524718,
          1.835492230005784,
          0.0131122959452317,
          0.4474691438551195,
          12.462211550072594,
          4.676862008798201,
          20.70370536443482,
          0.09888976127830625,
          1.0167609356637073,
          0.07295203027669746,
          0.4131498408273308,
          0.11350109261963574,
          1.3222404458453203
         ],
         "y": [
          3.2136168479919434,
          2.4488799571990967,
          2.9695611000061035,
          1.662487506866455,
          3.0206539630889893,
          1.8424869775772097,
          3.106236696243286,
          4.240483283996582,
          8.698323249816895,
          1.785488486289978,
          0.923063099384308,
          2.637357711791992,
          0.5889322757720947,
          4.829509735107422,
          0.1984703689813614,
          3.6470768451690674,
          1.0626975297927856,
          1.334323167800903,
          2.4264907836914062,
          1.2080401182174685,
          2.835463047027588,
          2.348154067993164,
          5.004151344299316,
          6.700305461883545,
          1.8377681970596311,
          0.5398857593536377,
          0.4345963597297669,
          1.0800589323043823,
          0.5827429890632629,
          8.990120887756348,
          5.4778852462768555,
          2.3903722763061523,
          0.382545530796051,
          1.1150133609771729,
          1.2119868993759155,
          1.2982819080352783,
          0.5181795358657837,
          2.84118390083313,
          7.213747024536133,
          1.376250982284546,
          0.5522122979164124,
          1.8252967596054075,
          2.581195831298828,
          2.1797471046447754,
          2.2494442462921143,
          3.893019437789917,
          2.6417572498321533,
          0.9837222695350648,
          1.372603178024292,
          0.3427959680557251,
          0.482253223657608,
          4.30926513671875,
          0.6135759353637695,
          0.5420191884040833,
          14.609444618225098,
          5.662792682647705,
          6.071481227874756,
          5.971939563751221,
          85.24485778808594,
          24.670881271362305,
          19.941930770874023,
          8.462440490722656,
          6.8417134284973145,
          17.855363845825195,
          100.59008026123048,
          4.550449848175049,
          69.0353012084961,
          7.4580397605896,
          29.13872718811035,
          2.931837320327759,
          36.405235290527344,
          0.9237813353538512,
          0.4907903969287872,
          0.5754793882369995,
          1.5716861486434937,
          7.46767520904541,
          1.5587918758392334,
          63.764137268066406,
          1.5372155904769895,
          11.235255241394045,
          2.092958688735962,
          0.1567559391260147,
          0.9540729522705078,
          0.4931343495845794,
          31.78752899169922,
          3.78230881690979,
          9.17160701751709,
          29.612716674804688,
          1.0328153371810913,
          45.94465637207031,
          5.260242938995361,
          1.234915852546692,
          6.863400936126709,
          4.477339744567871,
          13.90733814239502,
          3.703638792037964,
          1.0070114135742188,
          0.29823392629623413,
          26.851844787597656,
          7.38006067276001,
          55.64713668823242,
          14.739493370056152,
          1.3792222738265991,
          7.4324846267700195,
          4.425200462341309,
          16.19426727294922,
          9.891741752624512,
          10.160325050354004,
          4.428097724914551,
          68.83808898925781,
          3.4789633750915527,
          7.382585048675537,
          0.01515604741871357,
          4.126408576965332,
          2.4370880126953125,
          13.887247085571287,
          0.6141946315765381,
          26.14412498474121,
          6.570959568023682,
          2.4267730712890625,
          4.609467029571533,
          3.801090955734253,
          0.7892707586288452,
          0.7147369384765625,
          1.318741798400879,
          3.7743680477142334,
          3.7601161003112793,
          6.0340962409973145,
          2.2266879081726074,
          11.683992385864258,
          4.36876106262207,
          3.732223510742187,
          7.605591297149658,
          0.6934919357299805,
          0.936489999294281,
          14.552467346191406,
          1.8176876306533811,
          0.7395091652870178,
          1.260822892189026,
          17.298181533813477,
          4.250027656555176,
          3.271038055419922,
          8.838277816772461,
          0.14052225649356842,
          5.417830944061279,
          0.2358869910240173,
          2.835442066192627,
          35.509037017822266,
          1.051444172859192,
          1.2107758522033691,
          2.107759475708008,
          1.6117483377456665,
          0.05400770157575607,
          2.9468319416046143,
          15.538522720336914,
          7.058795928955078,
          0.5071346759796143,
          0.5895330309867859,
          11.426488876342772,
          7.451539039611816,
          11.8345365524292,
          0.9720360040664672,
          0.044678427278995514,
          7.071991443634033,
          5.263596534729004,
          1.652592658996582,
          0.08333981037139893,
          2.196472644805908,
          0.003176532918587327,
          39.04267120361328,
          4.623117446899414,
          19.557353973388672,
          3.2062056064605713,
          3.1916301250457764,
          3.78299880027771,
          0.8218017816543579,
          0.1330704540014267,
          82.94770812988281,
          5.627890110015869,
          2.9552977085113525,
          1.9021683931350708,
          1.3832166194915771,
          0.34780657291412354,
          2.8710904121398926,
          2.7009761333465576,
          1.36393141746521,
          0.9547988176345824,
          1.8316069841384888,
          3.8629496097564697,
          202.71646118164065,
          2.2287750244140625,
          1.422528862953186,
          2.0800113677978516,
          14.566838264465332,
          9.902498245239258,
          0.7473483085632324,
          1.188729763031006,
          0.6967902779579163,
          1.2422809600830078,
          3.262791872024536,
          4.5338053703308105,
          11.824555397033691,
          1.076527714729309,
          22.370759963989254,
          4.279183864593506,
          0.16725076735019684,
          0.9693270921707152,
          0.3293704688549042,
          0.9699952006340028,
          13.355360984802246,
          20.68819046020508,
          13.437366485595703,
          0.7612449526786804,
          0.5540263652801514,
          18.522676467895508,
          13.814773559570312,
          11.326693534851074,
          5.0196099281311035,
          1.5761860609054563,
          1.0786967277526855,
          45.3975830078125,
          1.1593616008758545,
          3.800438165664673,
          0.7036064863204956,
          20.684663772583008,
          9.24094295501709,
          9.777801513671877,
          8.378923416137695,
          2.3657312393188477,
          0.6256625652313232,
          7.50542688369751,
          2.5441837310791016,
          7.539494514465332,
          10.284883499145508,
          0.8571135997772217,
          0.6150793433189392,
          4.099473476409912,
          4.107423782348633,
          3.774219274520874,
          0.08494864404201508,
          0.8991653323173523,
          30.2175350189209,
          4.953348159790039,
          12.414795875549316,
          1.609641432762146,
          6.013188362121582,
          0.7733792066574097,
          2.316157102584839,
          1.6418075561523438,
          3.1745781898498535
         ]
        },
        {
         "line": {
          "color": "gray",
          "dash": "dot"
         },
         "mode": "lines",
         "showlegend": false,
         "type": "scatter",
         "x": [
          -1,
          200
         ],
         "y": [
          -1,
          200
         ]
        }
       ],
       "layout": {
        "autosize": false,
        "font": {
         "size": 20
        },
        "height": 600,
        "template": {
         "data": {
          "bar": [
           {
            "error_x": {
             "color": "rgb(36,36,36)"
            },
            "error_y": {
             "color": "rgb(36,36,36)"
            },
            "marker": {
             "line": {
              "color": "white",
              "width": 0.5
             },
             "pattern": {
              "fillmode": "overlay",
              "size": 10,
              "solidity": 0.2
             }
            },
            "type": "bar"
           }
          ],
          "barpolar": [
           {
            "marker": {
             "line": {
              "color": "white",
              "width": 0.5
             },
             "pattern": {
              "fillmode": "overlay",
              "size": 10,
              "solidity": 0.2
             }
            },
            "type": "barpolar"
           }
          ],
          "carpet": [
           {
            "aaxis": {
             "endlinecolor": "rgb(36,36,36)",
             "gridcolor": "white",
             "linecolor": "white",
             "minorgridcolor": "white",
             "startlinecolor": "rgb(36,36,36)"
            },
            "baxis": {
             "endlinecolor": "rgb(36,36,36)",
             "gridcolor": "white",
             "linecolor": "white",
             "minorgridcolor": "white",
             "startlinecolor": "rgb(36,36,36)"
            },
            "type": "carpet"
           }
          ],
          "choropleth": [
           {
            "colorbar": {
             "outlinewidth": 1,
             "tickcolor": "rgb(36,36,36)",
             "ticks": "outside"
            },
            "type": "choropleth"
           }
          ],
          "contour": [
           {
            "colorbar": {
             "outlinewidth": 1,
             "tickcolor": "rgb(36,36,36)",
             "ticks": "outside"
            },
            "colorscale": [
             [
              0,
              "#440154"
             ],
             [
              0.1111111111111111,
              "#482878"
             ],
             [
              0.2222222222222222,
              "#3e4989"
             ],
             [
              0.3333333333333333,
              "#31688e"
             ],
             [
              0.4444444444444444,
              "#26828e"
             ],
             [
              0.5555555555555556,
              "#1f9e89"
             ],
             [
              0.6666666666666666,
              "#35b779"
             ],
             [
              0.7777777777777778,
              "#6ece58"
             ],
             [
              0.8888888888888888,
              "#b5de2b"
             ],
             [
              1,
              "#fde725"
             ]
            ],
            "type": "contour"
           }
          ],
          "contourcarpet": [
           {
            "colorbar": {
             "outlinewidth": 1,
             "tickcolor": "rgb(36,36,36)",
             "ticks": "outside"
            },
            "type": "contourcarpet"
           }
          ],
          "heatmap": [
           {
            "colorbar": {
             "outlinewidth": 1,
             "tickcolor": "rgb(36,36,36)",
             "ticks": "outside"
            },
            "colorscale": [
             [
              0,
              "#440154"
             ],
             [
              0.1111111111111111,
              "#482878"
             ],
             [
              0.2222222222222222,
              "#3e4989"
             ],
             [
              0.3333333333333333,
              "#31688e"
             ],
             [
              0.4444444444444444,
              "#26828e"
             ],
             [
              0.5555555555555556,
              "#1f9e89"
             ],
             [
              0.6666666666666666,
              "#35b779"
             ],
             [
              0.7777777777777778,
              "#6ece58"
             ],
             [
              0.8888888888888888,
              "#b5de2b"
             ],
             [
              1,
              "#fde725"
             ]
            ],
            "type": "heatmap"
           }
          ],
          "heatmapgl": [
           {
            "colorbar": {
             "outlinewidth": 1,
             "tickcolor": "rgb(36,36,36)",
             "ticks": "outside"
            },
            "colorscale": [
             [
              0,
              "#440154"
             ],
             [
              0.1111111111111111,
              "#482878"
             ],
             [
              0.2222222222222222,
              "#3e4989"
             ],
             [
              0.3333333333333333,
              "#31688e"
             ],
             [
              0.4444444444444444,
              "#26828e"
             ],
             [
              0.5555555555555556,
              "#1f9e89"
             ],
             [
              0.6666666666666666,
              "#35b779"
             ],
             [
              0.7777777777777778,
              "#6ece58"
             ],
             [
              0.8888888888888888,
              "#b5de2b"
             ],
             [
              1,
              "#fde725"
             ]
            ],
            "type": "heatmapgl"
           }
          ],
          "histogram": [
           {
            "marker": {
             "line": {
              "color": "white",
              "width": 0.6
             }
            },
            "type": "histogram"
           }
          ],
          "histogram2d": [
           {
            "colorbar": {
             "outlinewidth": 1,
             "tickcolor": "rgb(36,36,36)",
             "ticks": "outside"
            },
            "colorscale": [
             [
              0,
              "#440154"
             ],
             [
              0.1111111111111111,
              "#482878"
             ],
             [
              0.2222222222222222,
              "#3e4989"
             ],
             [
              0.3333333333333333,
              "#31688e"
             ],
             [
              0.4444444444444444,
              "#26828e"
             ],
             [
              0.5555555555555556,
              "#1f9e89"
             ],
             [
              0.6666666666666666,
              "#35b779"
             ],
             [
              0.7777777777777778,
              "#6ece58"
             ],
             [
              0.8888888888888888,
              "#b5de2b"
             ],
             [
              1,
              "#fde725"
             ]
            ],
            "type": "histogram2d"
           }
          ],
          "histogram2dcontour": [
           {
            "colorbar": {
             "outlinewidth": 1,
             "tickcolor": "rgb(36,36,36)",
             "ticks": "outside"
            },
            "colorscale": [
             [
              0,
              "#440154"
             ],
             [
              0.1111111111111111,
              "#482878"
             ],
             [
              0.2222222222222222,
              "#3e4989"
             ],
             [
              0.3333333333333333,
              "#31688e"
             ],
             [
              0.4444444444444444,
              "#26828e"
             ],
             [
              0.5555555555555556,
              "#1f9e89"
             ],
             [
              0.6666666666666666,
              "#35b779"
             ],
             [
              0.7777777777777778,
              "#6ece58"
             ],
             [
              0.8888888888888888,
              "#b5de2b"
             ],
             [
              1,
              "#fde725"
             ]
            ],
            "type": "histogram2dcontour"
           }
          ],
          "mesh3d": [
           {
            "colorbar": {
             "outlinewidth": 1,
             "tickcolor": "rgb(36,36,36)",
             "ticks": "outside"
            },
            "type": "mesh3d"
           }
          ],
          "parcoords": [
           {
            "line": {
             "colorbar": {
              "outlinewidth": 1,
              "tickcolor": "rgb(36,36,36)",
              "ticks": "outside"
             }
            },
            "type": "parcoords"
           }
          ],
          "pie": [
           {
            "automargin": true,
            "type": "pie"
           }
          ],
          "scatter": [
           {
            "fillpattern": {
             "fillmode": "overlay",
             "size": 10,
             "solidity": 0.2
            },
            "type": "scatter"
           }
          ],
          "scatter3d": [
           {
            "line": {
             "colorbar": {
              "outlinewidth": 1,
              "tickcolor": "rgb(36,36,36)",
              "ticks": "outside"
             }
            },
            "marker": {
             "colorbar": {
              "outlinewidth": 1,
              "tickcolor": "rgb(36,36,36)",
              "ticks": "outside"
             }
            },
            "type": "scatter3d"
           }
          ],
          "scattercarpet": [
           {
            "marker": {
             "colorbar": {
              "outlinewidth": 1,
              "tickcolor": "rgb(36,36,36)",
              "ticks": "outside"
             }
            },
            "type": "scattercarpet"
           }
          ],
          "scattergeo": [
           {
            "marker": {
             "colorbar": {
              "outlinewidth": 1,
              "tickcolor": "rgb(36,36,36)",
              "ticks": "outside"
             }
            },
            "type": "scattergeo"
           }
          ],
          "scattergl": [
           {
            "marker": {
             "colorbar": {
              "outlinewidth": 1,
              "tickcolor": "rgb(36,36,36)",
              "ticks": "outside"
             }
            },
            "type": "scattergl"
           }
          ],
          "scattermapbox": [
           {
            "marker": {
             "colorbar": {
              "outlinewidth": 1,
              "tickcolor": "rgb(36,36,36)",
              "ticks": "outside"
             }
            },
            "type": "scattermapbox"
           }
          ],
          "scatterpolar": [
           {
            "marker": {
             "colorbar": {
              "outlinewidth": 1,
              "tickcolor": "rgb(36,36,36)",
              "ticks": "outside"
             }
            },
            "type": "scatterpolar"
           }
          ],
          "scatterpolargl": [
           {
            "marker": {
             "colorbar": {
              "outlinewidth": 1,
              "tickcolor": "rgb(36,36,36)",
              "ticks": "outside"
             }
            },
            "type": "scatterpolargl"
           }
          ],
          "scatterternary": [
           {
            "marker": {
             "colorbar": {
              "outlinewidth": 1,
              "tickcolor": "rgb(36,36,36)",
              "ticks": "outside"
             }
            },
            "type": "scatterternary"
           }
          ],
          "surface": [
           {
            "colorbar": {
             "outlinewidth": 1,
             "tickcolor": "rgb(36,36,36)",
             "ticks": "outside"
            },
            "colorscale": [
             [
              0,
              "#440154"
             ],
             [
              0.1111111111111111,
              "#482878"
             ],
             [
              0.2222222222222222,
              "#3e4989"
             ],
             [
              0.3333333333333333,
              "#31688e"
             ],
             [
              0.4444444444444444,
              "#26828e"
             ],
             [
              0.5555555555555556,
              "#1f9e89"
             ],
             [
              0.6666666666666666,
              "#35b779"
             ],
             [
              0.7777777777777778,
              "#6ece58"
             ],
             [
              0.8888888888888888,
              "#b5de2b"
             ],
             [
              1,
              "#fde725"
             ]
            ],
            "type": "surface"
           }
          ],
          "table": [
           {
            "cells": {
             "fill": {
              "color": "rgb(237,237,237)"
             },
             "line": {
              "color": "white"
             }
            },
            "header": {
             "fill": {
              "color": "rgb(217,217,217)"
             },
             "line": {
              "color": "white"
             }
            },
            "type": "table"
           }
          ]
         },
         "layout": {
          "annotationdefaults": {
           "arrowhead": 0,
           "arrowwidth": 1
          },
          "autotypenumbers": "strict",
          "coloraxis": {
           "colorbar": {
            "outlinewidth": 1,
            "tickcolor": "rgb(36,36,36)",
            "ticks": "outside"
           }
          },
          "colorscale": {
           "diverging": [
            [
             0,
             "rgb(103,0,31)"
            ],
            [
             0.1,
             "rgb(178,24,43)"
            ],
            [
             0.2,
             "rgb(214,96,77)"
            ],
            [
             0.3,
             "rgb(244,165,130)"
            ],
            [
             0.4,
             "rgb(253,219,199)"
            ],
            [
             0.5,
             "rgb(247,247,247)"
            ],
            [
             0.6,
             "rgb(209,229,240)"
            ],
            [
             0.7,
             "rgb(146,197,222)"
            ],
            [
             0.8,
             "rgb(67,147,195)"
            ],
            [
             0.9,
             "rgb(33,102,172)"
            ],
            [
             1,
             "rgb(5,48,97)"
            ]
           ],
           "sequential": [
            [
             0,
             "#440154"
            ],
            [
             0.1111111111111111,
             "#482878"
            ],
            [
             0.2222222222222222,
             "#3e4989"
            ],
            [
             0.3333333333333333,
             "#31688e"
            ],
            [
             0.4444444444444444,
             "#26828e"
            ],
            [
             0.5555555555555556,
             "#1f9e89"
            ],
            [
             0.6666666666666666,
             "#35b779"
            ],
            [
             0.7777777777777778,
             "#6ece58"
            ],
            [
             0.8888888888888888,
             "#b5de2b"
            ],
            [
             1,
             "#fde725"
            ]
           ],
           "sequentialminus": [
            [
             0,
             "#440154"
            ],
            [
             0.1111111111111111,
             "#482878"
            ],
            [
             0.2222222222222222,
             "#3e4989"
            ],
            [
             0.3333333333333333,
             "#31688e"
            ],
            [
             0.4444444444444444,
             "#26828e"
            ],
            [
             0.5555555555555556,
             "#1f9e89"
            ],
            [
             0.6666666666666666,
             "#35b779"
            ],
            [
             0.7777777777777778,
             "#6ece58"
            ],
            [
             0.8888888888888888,
             "#b5de2b"
            ],
            [
             1,
             "#fde725"
            ]
           ]
          },
          "colorway": [
           "#1F77B4",
           "#FF7F0E",
           "#2CA02C",
           "#D62728",
           "#9467BD",
           "#8C564B",
           "#E377C2",
           "#7F7F7F",
           "#BCBD22",
           "#17BECF"
          ],
          "font": {
           "color": "rgb(36,36,36)"
          },
          "geo": {
           "bgcolor": "white",
           "lakecolor": "white",
           "landcolor": "white",
           "showlakes": true,
           "showland": true,
           "subunitcolor": "white"
          },
          "hoverlabel": {
           "align": "left"
          },
          "hovermode": "closest",
          "mapbox": {
           "style": "light"
          },
          "paper_bgcolor": "white",
          "plot_bgcolor": "white",
          "polar": {
           "angularaxis": {
            "gridcolor": "rgb(232,232,232)",
            "linecolor": "rgb(36,36,36)",
            "showgrid": false,
            "showline": true,
            "ticks": "outside"
           },
           "bgcolor": "white",
           "radialaxis": {
            "gridcolor": "rgb(232,232,232)",
            "linecolor": "rgb(36,36,36)",
            "showgrid": false,
            "showline": true,
            "ticks": "outside"
           }
          },
          "scene": {
           "xaxis": {
            "backgroundcolor": "white",
            "gridcolor": "rgb(232,232,232)",
            "gridwidth": 2,
            "linecolor": "rgb(36,36,36)",
            "showbackground": true,
            "showgrid": false,
            "showline": true,
            "ticks": "outside",
            "zeroline": false,
            "zerolinecolor": "rgb(36,36,36)"
           },
           "yaxis": {
            "backgroundcolor": "white",
            "gridcolor": "rgb(232,232,232)",
            "gridwidth": 2,
            "linecolor": "rgb(36,36,36)",
            "showbackground": true,
            "showgrid": false,
            "showline": true,
            "ticks": "outside",
            "zeroline": false,
            "zerolinecolor": "rgb(36,36,36)"
           },
           "zaxis": {
            "backgroundcolor": "white",
            "gridcolor": "rgb(232,232,232)",
            "gridwidth": 2,
            "linecolor": "rgb(36,36,36)",
            "showbackground": true,
            "showgrid": false,
            "showline": true,
            "ticks": "outside",
            "zeroline": false,
            "zerolinecolor": "rgb(36,36,36)"
           }
          },
          "shapedefaults": {
           "fillcolor": "black",
           "line": {
            "width": 0
           },
           "opacity": 0.3
          },
          "ternary": {
           "aaxis": {
            "gridcolor": "rgb(232,232,232)",
            "linecolor": "rgb(36,36,36)",
            "showgrid": false,
            "showline": true,
            "ticks": "outside"
           },
           "baxis": {
            "gridcolor": "rgb(232,232,232)",
            "linecolor": "rgb(36,36,36)",
            "showgrid": false,
            "showline": true,
            "ticks": "outside"
           },
           "bgcolor": "white",
           "caxis": {
            "gridcolor": "rgb(232,232,232)",
            "linecolor": "rgb(36,36,36)",
            "showgrid": false,
            "showline": true,
            "ticks": "outside"
           }
          },
          "title": {
           "x": 0.05
          },
          "xaxis": {
           "automargin": true,
           "gridcolor": "rgb(232,232,232)",
           "linecolor": "rgb(36,36,36)",
           "showgrid": false,
           "showline": true,
           "ticks": "outside",
           "title": {
            "standoff": 15
           },
           "zeroline": false,
           "zerolinecolor": "rgb(36,36,36)"
          },
          "yaxis": {
           "automargin": true,
           "gridcolor": "rgb(232,232,232)",
           "linecolor": "rgb(36,36,36)",
           "showgrid": false,
           "showline": true,
           "ticks": "outside",
           "title": {
            "standoff": 15
           },
           "zeroline": false,
           "zerolinecolor": "rgb(36,36,36)"
          }
         }
        },
        "width": 600,
        "xaxis": {
         "range": [
          -1,
          150
         ],
         "showgrid": false,
         "title": {
          "text": "<i>d</i><sub>KP</sub> (pm/V)"
         }
        },
        "yaxis": {
         "range": [
          -1,
          150
         ],
         "showgrid": false,
         "title": {
          "text": "<i>d&#770;</i><sub>KP</sub> (pm/V)"
         }
        }
       }
      }
     },
     "metadata": {},
     "output_type": "display_data"
    }
   ],
   "source": [
    "# Data\n",
    "\n",
    "mae = mean_absolute_error(df_pred_matten[\"dKP_true\"], df_pred_matten[\"dKP_matten\"])\n",
    "mape = mean_absolute_percentage_error(\n",
    "    df_pred_matten[\"dKP_true\"], df_pred_matten[\"dKP_matten\"]\n",
    ")\n",
    "rmse = root_mean_squared_error(df_pred_matten[\"dKP_true\"], df_pred_matten[\"dKP_matten\"])\n",
    "spearmanrho = spearmanr(df_pred_matten[\"dKP_true\"], df_pred_matten[\"dKP_matten\"])\n",
    "print(f\"MAE = {mae}\")\n",
    "print(f\"MAPE = {mape}\")\n",
    "print(f\"RMSE = {rmse}\")\n",
    "print(f\"Rho_sp = {spearmanrho.statistic}\")\n",
    "\n",
    "# Scatter plot for previous outputs.\n",
    "scatter_dKP = go.Scatter(\n",
    "    x=df_pred_matten[\"dKP_true\"],\n",
    "    y=df_pred_matten[\"dKP_matten\"],\n",
    "    mode=\"markers\",\n",
    "    name=\"\",\n",
    "    showlegend=False,\n",
    "    text=[mpid for mpid in df_pred_matten.index.values],\n",
    ")\n",
    "\n",
    "ideal = go.Scatter(\n",
    "    x=[-1, 200],\n",
    "    y=[-1, 200],\n",
    "    mode=\"lines\",\n",
    "    line=dict(color=\"gray\", dash=\"dot\"),\n",
    "    showlegend=False,\n",
    ")\n",
    "\n",
    "# Layout\n",
    "layout = go.Layout(\n",
    "    # title=dict(text='Scatter Plot'),\n",
    "    xaxis=dict(title=\"<i>d</i><sub>KP</sub> (pm/V)\", range=[-1, 150]),\n",
    "    yaxis=dict(title=\"<i>d&#770;</i><sub>KP</sub> (pm/V)\", range=[-1, 150]),\n",
    "    # legend=dict(font=dict(size=12)),\n",
    ")\n",
    "\n",
    "# Create figure\n",
    "fig = go.Figure(data=[scatter_dKP, ideal], layout=layout)\n",
    "\n",
    "fig.update_layout(\n",
    "    autosize=False,\n",
    "    font_size=20,\n",
    "    width=600,\n",
    "    height=600,\n",
    "    # plot_bgcolor=\"white\",\n",
    "    template=\"simple_white\",\n",
    ")\n",
    "fig.update_layout(\n",
    "    xaxis=dict(\n",
    "        # tickmode = 'array',\n",
    "        # tickvals = [1, 2,3,4,5,6,7,8],\n",
    "        # ticktext = ['One', 'Three', 'Five', 'Seven', 'Nine', 'Eleven']\n",
    "        showgrid=False,\n",
    "    ),\n",
    "    yaxis=dict(\n",
    "        # tickmode = 'array',\n",
    "        # tickvals = [1, 2,3,4,5,6,7,8],\n",
    "        # ticktext = ['One', 'Three', 'Five', 'Seven', 'Nine', 'Eleven']\n",
    "        showgrid=False,\n",
    "    ),\n",
    ")\n",
    "\n",
    "# Show figure\n",
    "fig.show()"
   ]
  },
  {
   "cell_type": "markdown",
   "metadata": {},
   "source": [
    "## Errors on dKP masked"
   ]
  },
  {
   "cell_type": "code",
   "execution_count": 14,
   "metadata": {},
   "outputs": [
    {
     "name": "stdout",
     "output_type": "stream",
     "text": [
      "MAE = 8.61737208455245\n",
      "MAPE = 7.558007494051389\n",
      "RMSE = 22.105812713365633\n",
      "Rho_sp = 0.6407668602697643\n"
     ]
    },
    {
     "data": {
      "application/vnd.plotly.v1+json": {
       "config": {
        "plotlyServerURL": "https://plot.ly"
       },
       "data": [
        {
         "mode": "markers",
         "name": "",
         "showlegend": false,
         "text": [
          "mp-983357",
          "mp-8377",
          "mp-18938",
          "mp-5854",
          "mp-23778",
          "mp-19219",
          "mp-9197",
          "mp-553887",
          "mp-23407",
          "mp-555150",
          "mp-6062",
          "mp-863374",
          "mp-23363",
          "mp-23321",
          "mp-27755",
          "mp-3491",
          "mp-540634",
          "mp-557773",
          "mp-559961",
          "mp-556966",
          "mp-7324",
          "mp-622018",
          "mp-29305",
          "mp-639714",
          "mp-24118",
          "mp-555203",
          "mp-706621",
          "mp-16792",
          "mp-639506",
          "mp-5020",
          "mp-3589",
          "mp-28264",
          "mp-570136",
          "mp-862539",
          "mp-696946",
          "mp-27726",
          "mp-30530",
          "mp-626620",
          "mp-2691",
          "mp-21521",
          "mp-4690",
          "mp-756570",
          "mp-28918",
          "mp-754585",
          "mp-27914",
          "mp-29910",
          "mp-14367",
          "mp-557027",
          "mp-29525",
          "mp-23866",
          "mp-29524",
          "mp-559065",
          "mp-551629",
          "mp-9064",
          "mp-13666",
          "mp-14444",
          "mp-685145",
          "mp-830",
          "mp-31451",
          "mp-30847",
          "mp-36111",
          "mp-1184046",
          "mp-1215430",
          "mp-1017534",
          "mp-1018093",
          "mp-1008556",
          "mp-4524",
          "mp-10572",
          "mp-7582",
          "mp-22965",
          "mp-4586",
          "mp-1193269",
          "mp-1101862",
          "mp-1097061",
          "mp-998623",
          "mp-1028576",
          "mp-672118",
          "mp-1215418",
          "mp-23173",
          "mp-863755",
          "mp-1221954",
          "mp-1300570",
          "mp-1210659",
          "mp-554560",
          "mp-15776",
          "mp-28873",
          "mp-1102285",
          "mp-1227567",
          "mp-1220190",
          "mp-570084",
          "mp-17862",
          "mp-1190717",
          "mp-1217833",
          "mp-675779",
          "mp-27594",
          "mp-1218158",
          "mp-28140",
          "mp-766345",
          "agm002183415",
          "agm003160554",
          "agm002205907",
          "agm002233584",
          "agm003227564",
          "agm002793928",
          "mp-781710",
          "mp-1227011",
          "mp-1216863",
          "agm002135972",
          "agm003234420",
          "agm002218325",
          "mp-1216132",
          "mp-779863",
          "mp-38103",
          "mp-29362",
          "mp-1019715",
          "agm002054632",
          "mp-1204358",
          "mp-1105300",
          "mp-1228823",
          "mp-15833",
          "mp-1103351",
          "mp-24402",
          "mp-1095543",
          "mp-1188121",
          "mp-625521",
          "mp-23560",
          "mp-1227994",
          "mp-1079609",
          "mp-1192126",
          "agm002197344",
          "agm002177947",
          "mp-696347",
          "mp-1147693",
          "agm002156258",
          "mp-772748",
          "mp-1029422",
          "mp-1120718",
          "mp-1227036",
          "mp-1194520",
          "mp-1218006",
          "mp-1220913",
          "mp-1223822",
          "mp-1147725",
          "mp-984766",
          "mp-1210722",
          "agm003263235",
          "agm002215982",
          "mp-568968",
          "mp-27313",
          "mp-556024",
          "mp-28020",
          "mp-1229086",
          "mp-772875",
          "agm002363904",
          "mp-1223536",
          "mp-1147697",
          "mp-23887",
          "mp-18609",
          "agm002848041",
          "agm002133608",
          "agm003268240",
          "mp-1198890",
          "agm003200486",
          "mp-1096810",
          "mp-1105127",
          "mp-1216944",
          "mp-555915",
          "mp-776259",
          "agm002133663",
          "agm002790067",
          "agm002162961",
          "mp-767604",
          "agm003445531",
          "agm003206623",
          "mp-1227366",
          "agm005543540",
          "agm2000012572",
          "agm002205114",
          "agm003046706",
          "agm004786073",
          "agm003445638",
          "agm002149208",
          "agm2000022161",
          "agm2000001840",
          "agm002158429",
          "agm004751295",
          "agm005848257",
          "agm2000081842",
          "agm004879066",
          "agm001347560",
          "agm2000086862",
          "agm002102214",
          "mp-23807",
          "agm004954137",
          "agm004785400",
          "agm001234439",
          "agm2000011096",
          "agm2000002067",
          "agm003716707",
          "mp-554918",
          "agm005769896",
          "agm005698720",
          "agm004956590",
          "agm006124765",
          "mp-1202153",
          "mp-23914",
          "agm002073747",
          "agm004442672",
          "agm004929360",
          "agm003267560",
          "agm002171920",
          "mp-1215297",
          "agm2000005425",
          "agm004957147",
          "agm005723638",
          "mp-1080058",
          "agm004954098",
          "agm005069643",
          "agm002153441",
          "agm003220800",
          "agm005849998",
          "agm002138386",
          "agm004788917",
          "agm2000128635",
          "agm2000015113",
          "agm002861773",
          "agm004852876",
          "mp-1215966",
          "agm005607967",
          "agm1000019892",
          "agm003048415",
          "agm2000139348",
          "agm002158908",
          "agm002041688",
          "agm005049826",
          "mp-35799",
          "agm002072314",
          "agm002147787",
          "agm005408965",
          "mp-15840",
          "agm005839737",
          "agm003110472",
          "agm005189644",
          "mp-4681",
          "agm005086011",
          "agm002845532",
          "agm005086003",
          "agm2000101795",
          "agm005074722",
          "agm005180379"
         ],
         "type": "scatter",
         "x": [
          0.1637161961003279,
          1.284568323780706,
          2.445284299440702,
          0.6266017074568863,
          0.9910381306437388,
          1.7623403848746162,
          0.26055049885420734,
          4.38282793604309,
          8.003880799957166,
          1.6714733711428025,
          1.729192132434956,
          5.296053149018608,
          0.010129295197848578,
          0.04048209925507434,
          0.020291279821523046,
          3.2333363341489685,
          0.46039401208381553,
          0.1155290578338306,
          0.7254527988278862,
          0.45241150568782784,
          0.4445418900700682,
          77.7206428201921,
          2.0701988005076837,
          5.535053276145763,
          0.378746470422092,
          0.5807809308869348,
          0.17402164883623036,
          7.048895297257652,
          0.00871668578972436,
          17.00593064077109,
          0.7867697816903596,
          16.167441970176085,
          0.869239575417028,
          0.5885377837373961,
          0.9635091453928636,
          1.8292924700531092,
          4.306735198495529,
          1.453382072376325,
          42.697559270275974,
          7.525570950107779,
          0.23325192444863693,
          14.05313916159886,
          9.530587117292916,
          6.211407706114043,
          0.10739522408833392,
          2.005285335624167,
          0.09337521112741362,
          0.1458877440321602,
          0.04959017790781204,
          0.9147487969477314,
          0.4403634617353821,
          6.497969001348536,
          1.1664455610018762,
          0.7760408658560501,
          50.26224377818762,
          13.325047557309988,
          11.486556413251712,
          4.9548548591558745,
          67.16185442385373,
          37.84125851846766,
          14.770006430271795,
          42.282563090591545,
          40.70959571626302,
          86.43318649770944,
          99.0472047694292,
          2.072813575855084,
          89.50434406167203,
          3.502880754734303,
          25.905156109625487,
          73.65819366822149,
          22.59791344724751,
          0.004901906744179846,
          0.00926976728536528,
          0.42339392807386145,
          2.0173458365469084,
          6.896748303683057,
          0.8698482475910191,
          102.9588455757094,
          24.60466994929397,
          5.7317530008358455,
          3.1668728275623117,
          0.7138283781538486,
          0.7808956594922749,
          0.5567874577407241,
          49.554229465557135,
          1.685246556794829,
          7.285592611778784,
          107.30558261963216,
          0.977077794807452,
          29.824951103584574,
          33.20634743822916,
          0.7406551680101052,
          12.355454539173833,
          6.1363025179488515,
          24.03252737306557,
          2.679311404714401,
          11.55925304247615,
          0.06179004100546308,
          63.41989568740686,
          72.51218728068382,
          60.42555880885499,
          17.949940135731698,
          0.23370080862578615,
          13.815006459707828,
          16.442143761668234,
          52.33013998938465,
          9.121339783904686,
          86.82819893445695,
          3.741263229982967,
          59.22118482426684,
          3.886109063244815,
          7.036324657579612,
          0.6556969325541743,
          0.15013353166282417,
          0.9043530781146024,
          45.30313585192757,
          0.2409265756286796,
          26.760013080806115,
          5.1957559821920585,
          3.124842923790021,
          2.2421112466956346,
          0.05552424214135506,
          0.4235021433678197,
          0.1927772631282608,
          1.6026487619302416,
          1.9324550393290865,
          2.3722891448775867,
          3.271774712384432,
          0.854671044191776,
          10.346359350445816,
          57.421371513153915,
          0.38411570469334094,
          7.670721448917315,
          0.6697039819612798,
          0.2716584026966766,
          23.456218204440205,
          8.365441040618439,
          0.031333688358619716,
          0.21283349650605804,
          11.992339659471993,
          3.700290930724513,
          0.6576829542553341,
          8.530966099400597,
          0.11980201080974372,
          4.883311614501596,
          0.1840858650463464,
          1.0124731257139752,
          32.55807279795252,
          0.07496110195732313,
          0.013943248393690464,
          1.2745786250549451,
          0.16975347704375415,
          0.007324108310589076,
          1.3390533054425815,
          15.363950385077864,
          7.443331100363126,
          0.8128075093615331,
          47.96142567259269,
          0.08344883276158094,
          1.7272854408234093,
          128.57872321549112,
          0.171657918794524,
          0.009178805338191244,
          8.267358086543753,
          165.11423137705333,
          1.0621837379758228,
          0.418081267508317,
          2.805753714798062,
          0.0991741151465185,
          46.68049140909839,
          29.33632071738057,
          19.020750537047295,
          2.533583054179051,
          3.554589581362436,
          9.119878419348035,
          0.8747801231678206,
          0.042045060250899366,
          64.16281613192514,
          5.102750745654848,
          2.7022513119493685,
          1.8019306394927284,
          0.10231253569172748,
          0.035194003373272,
          1.4487561627496062,
          4.119900280407139,
          0.22694560248003484,
          0.7736585573982434,
          0.10739298694633052,
          2.861884361265005,
          119.1775072271732,
          0.033560379211186785,
          0.5597603921863004,
          0.5288809978394777,
          8.880827412274467,
          17.43350792144079,
          0.8272878630490751,
          0.012228322303897627,
          0.05789700711715668,
          0.4841544135615684,
          2.4889948726268245,
          97.68395764628198,
          3.122715013301309,
          0.2351408462270188,
          10.632646096506011,
          6.748073345420762,
          0.13943147786634916,
          0.3950018116943311,
          0.0394322781829729,
          0.7145712554340605,
          19.687937563122517,
          21.371117289633546,
          12.472602553594912,
          0.011049020246936872,
          0.33584670726814886,
          18.659315188916388,
          13.521219613286018,
          8.746398626595365,
          4.606765053649747,
          0.7280654950849078,
          0.2376055939921027,
          56.19223404049812,
          0.07204482741368785,
          9.998036580257422,
          0.009932503021346586,
          15.0655638458697,
          14.475313088692246,
          11.88869847402226,
          8.91652058404514,
          0.7241109877815762,
          0.0025494951937533525,
          11.762962459658205,
          0.04399397096239267,
          30.75886427580862,
          5.595534498515963,
          6.162135670885474,
          0.6126159490925168,
          3.6746577314042463,
          0.0704271802524718,
          1.835492230005784,
          0.0131122959452317,
          0.4474691438551195,
          12.462211550072594,
          4.676862008798201,
          20.70370536443482,
          0.09888976127830625,
          1.0167609356637073,
          0.07295203027669746,
          0.4131498408273308,
          0.11350109261963574,
          1.3222404458453203
         ],
         "y": [
          3.2136168479919434,
          2.4488799571990967,
          1.2272170782089231,
          1.662487506866455,
          3.0206539630889893,
          1.8424869775772097,
          3.106236696243286,
          4.240483283996582,
          8.698323249816895,
          1.785488486289978,
          0.3657351732254028,
          1.535279393196106,
          0.5889322757720947,
          4.829509735107422,
          0.1984703689813614,
          3.6470768451690674,
          1.0626975297927856,
          1.334323167800903,
          2.4264907836914062,
          1.2080401182174685,
          2.835463047027588,
          2.348154067993164,
          4.9963459968566895,
          6.700305461883545,
          1.8377681970596311,
          0.18198777735233307,
          9.735356343298918e-7,
          1.0800576210021973,
          0.2292539030313492,
          6.822026252746582,
          0.0974636897444725,
          2.3903722763061523,
          0.38254550099372864,
          0.915395975112915,
          1.2119868993759155,
          3.370489366716356e-6,
          1.0470448508215212e-8,
          1.7217718095707824e-6,
          1.9655016103570233e-7,
          1.6584970126132248e-6,
          0.03430669754743576,
          1.8252967596054075,
          2.581195831298828,
          2.1797471046447754,
          5.316435363056371e-7,
          3.893019437789917,
          2.6417572498321533,
          0.9837222695350648,
          1.372603178024292,
          0.3427959680557251,
          5.96833501731453e-7,
          4.30926513671875,
          1.258833776773827e-6,
          1.4529783811667585e-6,
          13.675546646118164,
          4.107936859130859,
          4.743641376495361,
          1.0005411468227976e-6,
          4.1756130997328e-8,
          1.1430889657049192e-7,
          1.4778383672364725e-7,
          8.462440490722656,
          7.682465366087854e-6,
          2.3595741538429138e-7,
          100.59008026123048,
          1.831790655160148e-6,
          26.728065490722656,
          7.4580397605896,
          29.13872718811035,
          2.931837320327759,
          36.405235290527344,
          0.9237813353538512,
          0.4907903969287872,
          0.5754793882369995,
          1.5716861486434937,
          7.46767520904541,
          1.5587918758392334,
          63.764137268066406,
          1.5372155904769895,
          11.235255241394045,
          2.092958688735962,
          0.1567559391260147,
          0.9540729522705078,
          0.4931343495845794,
          31.78752899169922,
          3.78230881690979,
          9.17160701751709,
          29.612716674804688,
          1.0328153371810913,
          45.94465637207031,
          5.260242938995361,
          1.234915852546692,
          6.863400936126709,
          4.477339744567871,
          13.90733814239502,
          3.703638792037964,
          1.0070114135742188,
          0.29823392629623413,
          26.851844787597656,
          7.38006067276001,
          55.64713668823242,
          14.739493370056152,
          1.3792222738265991,
          7.4324846267700195,
          4.425200462341309,
          16.19426727294922,
          9.891741752624512,
          10.160325050354004,
          4.428097724914551,
          68.83808898925781,
          3.4789633750915527,
          7.382585048675537,
          0.01515604741871357,
          4.126408576965332,
          2.4370880126953125,
          13.887247085571287,
          0.6141946315765381,
          26.14412498474121,
          6.570959568023682,
          2.4267730712890625,
          4.609467029571533,
          3.801090955734253,
          0.7892707586288452,
          0.7147369384765625,
          1.318741798400879,
          3.7743680477142334,
          3.7601161003112793,
          6.0340962409973145,
          2.2266879081726074,
          11.683992385864258,
          4.36876106262207,
          3.732223510742187,
          7.605591297149658,
          0.6934919357299805,
          0.936489999294281,
          14.552467346191406,
          1.8176876306533811,
          0.7395091652870178,
          1.260822892189026,
          17.298181533813477,
          4.250027656555176,
          3.271038055419922,
          8.838277816772461,
          0.14052225649356842,
          5.417830944061279,
          0.2358869910240173,
          2.835442066192627,
          35.509037017822266,
          1.0514440536499023,
          1.2107758522033691,
          2.107759475708008,
          1.6117483377456665,
          0.05400770157575607,
          2.9468319416046143,
          15.538522720336914,
          7.058795928955078,
          0.5071346759796143,
          0.5895330309867859,
          11.426488876342772,
          7.451539039611816,
          11.8345365524292,
          0.9720360040664672,
          0.044678427278995514,
          7.071991443634033,
          5.263596534729004,
          1.652592658996582,
          0.08333981037139893,
          2.196472644805908,
          0.003176524769514799,
          39.04267120361328,
          4.623117446899414,
          19.557353973388672,
          3.2062056064605713,
          3.1916301250457764,
          3.78299880027771,
          0.8218017816543579,
          0.1330704540014267,
          82.94770812988281,
          5.627890110015869,
          2.9552977085113525,
          1.9021683931350708,
          1.3832166194915771,
          0.34780657291412354,
          2.8710904121398926,
          2.7009761333465576,
          1.36393141746521,
          0.9547988176345824,
          1.8316069841384888,
          3.8629496097564697,
          202.71646118164065,
          2.2287750244140625,
          1.422528862953186,
          2.0800113677978516,
          14.566838264465332,
          9.902498245239258,
          0.7473483085632324,
          1.188729763031006,
          0.6967902779579163,
          1.2422809600830078,
          3.262791872024536,
          4.5338053703308105,
          11.824555397033691,
          1.076527714729309,
          22.370759963989254,
          4.279183864593506,
          0.16725076735019684,
          0.9693270921707152,
          0.3293704688549042,
          0.9699952006340028,
          13.355360984802246,
          20.68819046020508,
          13.437365531921388,
          0.7612449526786804,
          0.5540263652801514,
          18.522676467895508,
          13.814773559570312,
          11.326693534851074,
          5.0196099281311035,
          1.5761860609054563,
          1.0786967277526855,
          45.3975830078125,
          1.1593616008758545,
          3.800438165664673,
          0.7036064863204956,
          20.684663772583008,
          9.24094295501709,
          9.777801513671877,
          8.378923416137695,
          2.3657312393188477,
          0.6256625652313232,
          7.50542688369751,
          2.5441837310791016,
          7.539494514465332,
          10.284883499145508,
          0.8571135997772217,
          0.6150793433189392,
          4.099473476409912,
          4.107423782348633,
          3.774219274520874,
          0.08494864404201508,
          0.8991653323173523,
          30.2175350189209,
          4.953348159790039,
          12.414795875549316,
          1.609641432762146,
          6.013188362121582,
          0.7733792066574097,
          2.316157102584839,
          1.6418075561523438,
          3.1745781898498535
         ]
        },
        {
         "line": {
          "color": "gray",
          "dash": "dot"
         },
         "mode": "lines",
         "showlegend": false,
         "type": "scatter",
         "x": [
          -1,
          200
         ],
         "y": [
          -1,
          200
         ]
        }
       ],
       "layout": {
        "autosize": false,
        "font": {
         "size": 20
        },
        "height": 600,
        "template": {
         "data": {
          "bar": [
           {
            "error_x": {
             "color": "rgb(36,36,36)"
            },
            "error_y": {
             "color": "rgb(36,36,36)"
            },
            "marker": {
             "line": {
              "color": "white",
              "width": 0.5
             },
             "pattern": {
              "fillmode": "overlay",
              "size": 10,
              "solidity": 0.2
             }
            },
            "type": "bar"
           }
          ],
          "barpolar": [
           {
            "marker": {
             "line": {
              "color": "white",
              "width": 0.5
             },
             "pattern": {
              "fillmode": "overlay",
              "size": 10,
              "solidity": 0.2
             }
            },
            "type": "barpolar"
           }
          ],
          "carpet": [
           {
            "aaxis": {
             "endlinecolor": "rgb(36,36,36)",
             "gridcolor": "white",
             "linecolor": "white",
             "minorgridcolor": "white",
             "startlinecolor": "rgb(36,36,36)"
            },
            "baxis": {
             "endlinecolor": "rgb(36,36,36)",
             "gridcolor": "white",
             "linecolor": "white",
             "minorgridcolor": "white",
             "startlinecolor": "rgb(36,36,36)"
            },
            "type": "carpet"
           }
          ],
          "choropleth": [
           {
            "colorbar": {
             "outlinewidth": 1,
             "tickcolor": "rgb(36,36,36)",
             "ticks": "outside"
            },
            "type": "choropleth"
           }
          ],
          "contour": [
           {
            "colorbar": {
             "outlinewidth": 1,
             "tickcolor": "rgb(36,36,36)",
             "ticks": "outside"
            },
            "colorscale": [
             [
              0,
              "#440154"
             ],
             [
              0.1111111111111111,
              "#482878"
             ],
             [
              0.2222222222222222,
              "#3e4989"
             ],
             [
              0.3333333333333333,
              "#31688e"
             ],
             [
              0.4444444444444444,
              "#26828e"
             ],
             [
              0.5555555555555556,
              "#1f9e89"
             ],
             [
              0.6666666666666666,
              "#35b779"
             ],
             [
              0.7777777777777778,
              "#6ece58"
             ],
             [
              0.8888888888888888,
              "#b5de2b"
             ],
             [
              1,
              "#fde725"
             ]
            ],
            "type": "contour"
           }
          ],
          "contourcarpet": [
           {
            "colorbar": {
             "outlinewidth": 1,
             "tickcolor": "rgb(36,36,36)",
             "ticks": "outside"
            },
            "type": "contourcarpet"
           }
          ],
          "heatmap": [
           {
            "colorbar": {
             "outlinewidth": 1,
             "tickcolor": "rgb(36,36,36)",
             "ticks": "outside"
            },
            "colorscale": [
             [
              0,
              "#440154"
             ],
             [
              0.1111111111111111,
              "#482878"
             ],
             [
              0.2222222222222222,
              "#3e4989"
             ],
             [
              0.3333333333333333,
              "#31688e"
             ],
             [
              0.4444444444444444,
              "#26828e"
             ],
             [
              0.5555555555555556,
              "#1f9e89"
             ],
             [
              0.6666666666666666,
              "#35b779"
             ],
             [
              0.7777777777777778,
              "#6ece58"
             ],
             [
              0.8888888888888888,
              "#b5de2b"
             ],
             [
              1,
              "#fde725"
             ]
            ],
            "type": "heatmap"
           }
          ],
          "heatmapgl": [
           {
            "colorbar": {
             "outlinewidth": 1,
             "tickcolor": "rgb(36,36,36)",
             "ticks": "outside"
            },
            "colorscale": [
             [
              0,
              "#440154"
             ],
             [
              0.1111111111111111,
              "#482878"
             ],
             [
              0.2222222222222222,
              "#3e4989"
             ],
             [
              0.3333333333333333,
              "#31688e"
             ],
             [
              0.4444444444444444,
              "#26828e"
             ],
             [
              0.5555555555555556,
              "#1f9e89"
             ],
             [
              0.6666666666666666,
              "#35b779"
             ],
             [
              0.7777777777777778,
              "#6ece58"
             ],
             [
              0.8888888888888888,
              "#b5de2b"
             ],
             [
              1,
              "#fde725"
             ]
            ],
            "type": "heatmapgl"
           }
          ],
          "histogram": [
           {
            "marker": {
             "line": {
              "color": "white",
              "width": 0.6
             }
            },
            "type": "histogram"
           }
          ],
          "histogram2d": [
           {
            "colorbar": {
             "outlinewidth": 1,
             "tickcolor": "rgb(36,36,36)",
             "ticks": "outside"
            },
            "colorscale": [
             [
              0,
              "#440154"
             ],
             [
              0.1111111111111111,
              "#482878"
             ],
             [
              0.2222222222222222,
              "#3e4989"
             ],
             [
              0.3333333333333333,
              "#31688e"
             ],
             [
              0.4444444444444444,
              "#26828e"
             ],
             [
              0.5555555555555556,
              "#1f9e89"
             ],
             [
              0.6666666666666666,
              "#35b779"
             ],
             [
              0.7777777777777778,
              "#6ece58"
             ],
             [
              0.8888888888888888,
              "#b5de2b"
             ],
             [
              1,
              "#fde725"
             ]
            ],
            "type": "histogram2d"
           }
          ],
          "histogram2dcontour": [
           {
            "colorbar": {
             "outlinewidth": 1,
             "tickcolor": "rgb(36,36,36)",
             "ticks": "outside"
            },
            "colorscale": [
             [
              0,
              "#440154"
             ],
             [
              0.1111111111111111,
              "#482878"
             ],
             [
              0.2222222222222222,
              "#3e4989"
             ],
             [
              0.3333333333333333,
              "#31688e"
             ],
             [
              0.4444444444444444,
              "#26828e"
             ],
             [
              0.5555555555555556,
              "#1f9e89"
             ],
             [
              0.6666666666666666,
              "#35b779"
             ],
             [
              0.7777777777777778,
              "#6ece58"
             ],
             [
              0.8888888888888888,
              "#b5de2b"
             ],
             [
              1,
              "#fde725"
             ]
            ],
            "type": "histogram2dcontour"
           }
          ],
          "mesh3d": [
           {
            "colorbar": {
             "outlinewidth": 1,
             "tickcolor": "rgb(36,36,36)",
             "ticks": "outside"
            },
            "type": "mesh3d"
           }
          ],
          "parcoords": [
           {
            "line": {
             "colorbar": {
              "outlinewidth": 1,
              "tickcolor": "rgb(36,36,36)",
              "ticks": "outside"
             }
            },
            "type": "parcoords"
           }
          ],
          "pie": [
           {
            "automargin": true,
            "type": "pie"
           }
          ],
          "scatter": [
           {
            "fillpattern": {
             "fillmode": "overlay",
             "size": 10,
             "solidity": 0.2
            },
            "type": "scatter"
           }
          ],
          "scatter3d": [
           {
            "line": {
             "colorbar": {
              "outlinewidth": 1,
              "tickcolor": "rgb(36,36,36)",
              "ticks": "outside"
             }
            },
            "marker": {
             "colorbar": {
              "outlinewidth": 1,
              "tickcolor": "rgb(36,36,36)",
              "ticks": "outside"
             }
            },
            "type": "scatter3d"
           }
          ],
          "scattercarpet": [
           {
            "marker": {
             "colorbar": {
              "outlinewidth": 1,
              "tickcolor": "rgb(36,36,36)",
              "ticks": "outside"
             }
            },
            "type": "scattercarpet"
           }
          ],
          "scattergeo": [
           {
            "marker": {
             "colorbar": {
              "outlinewidth": 1,
              "tickcolor": "rgb(36,36,36)",
              "ticks": "outside"
             }
            },
            "type": "scattergeo"
           }
          ],
          "scattergl": [
           {
            "marker": {
             "colorbar": {
              "outlinewidth": 1,
              "tickcolor": "rgb(36,36,36)",
              "ticks": "outside"
             }
            },
            "type": "scattergl"
           }
          ],
          "scattermapbox": [
           {
            "marker": {
             "colorbar": {
              "outlinewidth": 1,
              "tickcolor": "rgb(36,36,36)",
              "ticks": "outside"
             }
            },
            "type": "scattermapbox"
           }
          ],
          "scatterpolar": [
           {
            "marker": {
             "colorbar": {
              "outlinewidth": 1,
              "tickcolor": "rgb(36,36,36)",
              "ticks": "outside"
             }
            },
            "type": "scatterpolar"
           }
          ],
          "scatterpolargl": [
           {
            "marker": {
             "colorbar": {
              "outlinewidth": 1,
              "tickcolor": "rgb(36,36,36)",
              "ticks": "outside"
             }
            },
            "type": "scatterpolargl"
           }
          ],
          "scatterternary": [
           {
            "marker": {
             "colorbar": {
              "outlinewidth": 1,
              "tickcolor": "rgb(36,36,36)",
              "ticks": "outside"
             }
            },
            "type": "scatterternary"
           }
          ],
          "surface": [
           {
            "colorbar": {
             "outlinewidth": 1,
             "tickcolor": "rgb(36,36,36)",
             "ticks": "outside"
            },
            "colorscale": [
             [
              0,
              "#440154"
             ],
             [
              0.1111111111111111,
              "#482878"
             ],
             [
              0.2222222222222222,
              "#3e4989"
             ],
             [
              0.3333333333333333,
              "#31688e"
             ],
             [
              0.4444444444444444,
              "#26828e"
             ],
             [
              0.5555555555555556,
              "#1f9e89"
             ],
             [
              0.6666666666666666,
              "#35b779"
             ],
             [
              0.7777777777777778,
              "#6ece58"
             ],
             [
              0.8888888888888888,
              "#b5de2b"
             ],
             [
              1,
              "#fde725"
             ]
            ],
            "type": "surface"
           }
          ],
          "table": [
           {
            "cells": {
             "fill": {
              "color": "rgb(237,237,237)"
             },
             "line": {
              "color": "white"
             }
            },
            "header": {
             "fill": {
              "color": "rgb(217,217,217)"
             },
             "line": {
              "color": "white"
             }
            },
            "type": "table"
           }
          ]
         },
         "layout": {
          "annotationdefaults": {
           "arrowhead": 0,
           "arrowwidth": 1
          },
          "autotypenumbers": "strict",
          "coloraxis": {
           "colorbar": {
            "outlinewidth": 1,
            "tickcolor": "rgb(36,36,36)",
            "ticks": "outside"
           }
          },
          "colorscale": {
           "diverging": [
            [
             0,
             "rgb(103,0,31)"
            ],
            [
             0.1,
             "rgb(178,24,43)"
            ],
            [
             0.2,
             "rgb(214,96,77)"
            ],
            [
             0.3,
             "rgb(244,165,130)"
            ],
            [
             0.4,
             "rgb(253,219,199)"
            ],
            [
             0.5,
             "rgb(247,247,247)"
            ],
            [
             0.6,
             "rgb(209,229,240)"
            ],
            [
             0.7,
             "rgb(146,197,222)"
            ],
            [
             0.8,
             "rgb(67,147,195)"
            ],
            [
             0.9,
             "rgb(33,102,172)"
            ],
            [
             1,
             "rgb(5,48,97)"
            ]
           ],
           "sequential": [
            [
             0,
             "#440154"
            ],
            [
             0.1111111111111111,
             "#482878"
            ],
            [
             0.2222222222222222,
             "#3e4989"
            ],
            [
             0.3333333333333333,
             "#31688e"
            ],
            [
             0.4444444444444444,
             "#26828e"
            ],
            [
             0.5555555555555556,
             "#1f9e89"
            ],
            [
             0.6666666666666666,
             "#35b779"
            ],
            [
             0.7777777777777778,
             "#6ece58"
            ],
            [
             0.8888888888888888,
             "#b5de2b"
            ],
            [
             1,
             "#fde725"
            ]
           ],
           "sequentialminus": [
            [
             0,
             "#440154"
            ],
            [
             0.1111111111111111,
             "#482878"
            ],
            [
             0.2222222222222222,
             "#3e4989"
            ],
            [
             0.3333333333333333,
             "#31688e"
            ],
            [
             0.4444444444444444,
             "#26828e"
            ],
            [
             0.5555555555555556,
             "#1f9e89"
            ],
            [
             0.6666666666666666,
             "#35b779"
            ],
            [
             0.7777777777777778,
             "#6ece58"
            ],
            [
             0.8888888888888888,
             "#b5de2b"
            ],
            [
             1,
             "#fde725"
            ]
           ]
          },
          "colorway": [
           "#1F77B4",
           "#FF7F0E",
           "#2CA02C",
           "#D62728",
           "#9467BD",
           "#8C564B",
           "#E377C2",
           "#7F7F7F",
           "#BCBD22",
           "#17BECF"
          ],
          "font": {
           "color": "rgb(36,36,36)"
          },
          "geo": {
           "bgcolor": "white",
           "lakecolor": "white",
           "landcolor": "white",
           "showlakes": true,
           "showland": true,
           "subunitcolor": "white"
          },
          "hoverlabel": {
           "align": "left"
          },
          "hovermode": "closest",
          "mapbox": {
           "style": "light"
          },
          "paper_bgcolor": "white",
          "plot_bgcolor": "white",
          "polar": {
           "angularaxis": {
            "gridcolor": "rgb(232,232,232)",
            "linecolor": "rgb(36,36,36)",
            "showgrid": false,
            "showline": true,
            "ticks": "outside"
           },
           "bgcolor": "white",
           "radialaxis": {
            "gridcolor": "rgb(232,232,232)",
            "linecolor": "rgb(36,36,36)",
            "showgrid": false,
            "showline": true,
            "ticks": "outside"
           }
          },
          "scene": {
           "xaxis": {
            "backgroundcolor": "white",
            "gridcolor": "rgb(232,232,232)",
            "gridwidth": 2,
            "linecolor": "rgb(36,36,36)",
            "showbackground": true,
            "showgrid": false,
            "showline": true,
            "ticks": "outside",
            "zeroline": false,
            "zerolinecolor": "rgb(36,36,36)"
           },
           "yaxis": {
            "backgroundcolor": "white",
            "gridcolor": "rgb(232,232,232)",
            "gridwidth": 2,
            "linecolor": "rgb(36,36,36)",
            "showbackground": true,
            "showgrid": false,
            "showline": true,
            "ticks": "outside",
            "zeroline": false,
            "zerolinecolor": "rgb(36,36,36)"
           },
           "zaxis": {
            "backgroundcolor": "white",
            "gridcolor": "rgb(232,232,232)",
            "gridwidth": 2,
            "linecolor": "rgb(36,36,36)",
            "showbackground": true,
            "showgrid": false,
            "showline": true,
            "ticks": "outside",
            "zeroline": false,
            "zerolinecolor": "rgb(36,36,36)"
           }
          },
          "shapedefaults": {
           "fillcolor": "black",
           "line": {
            "width": 0
           },
           "opacity": 0.3
          },
          "ternary": {
           "aaxis": {
            "gridcolor": "rgb(232,232,232)",
            "linecolor": "rgb(36,36,36)",
            "showgrid": false,
            "showline": true,
            "ticks": "outside"
           },
           "baxis": {
            "gridcolor": "rgb(232,232,232)",
            "linecolor": "rgb(36,36,36)",
            "showgrid": false,
            "showline": true,
            "ticks": "outside"
           },
           "bgcolor": "white",
           "caxis": {
            "gridcolor": "rgb(232,232,232)",
            "linecolor": "rgb(36,36,36)",
            "showgrid": false,
            "showline": true,
            "ticks": "outside"
           }
          },
          "title": {
           "x": 0.05
          },
          "xaxis": {
           "automargin": true,
           "gridcolor": "rgb(232,232,232)",
           "linecolor": "rgb(36,36,36)",
           "showgrid": false,
           "showline": true,
           "ticks": "outside",
           "title": {
            "standoff": 15
           },
           "zeroline": false,
           "zerolinecolor": "rgb(36,36,36)"
          },
          "yaxis": {
           "automargin": true,
           "gridcolor": "rgb(232,232,232)",
           "linecolor": "rgb(36,36,36)",
           "showgrid": false,
           "showline": true,
           "ticks": "outside",
           "title": {
            "standoff": 15
           },
           "zeroline": false,
           "zerolinecolor": "rgb(36,36,36)"
          }
         }
        },
        "width": 600,
        "xaxis": {
         "range": [
          -1,
          150
         ],
         "showgrid": false,
         "title": {
          "text": "<i>d</i><sub>KP</sub> (pm/V)"
         }
        },
        "yaxis": {
         "range": [
          -1,
          150
         ],
         "showgrid": false,
         "title": {
          "text": "<i>d&#770;</i><sub>KP</sub> (pm/V)"
         }
        }
       }
      }
     },
     "metadata": {},
     "output_type": "display_data"
    }
   ],
   "source": [
    "# Data\n",
    "\n",
    "mae = mean_absolute_error(\n",
    "    df_pred_matten[\"dKP_true\"], df_pred_matten[\"dKP_matten_masked\"]\n",
    ")\n",
    "mape = mean_absolute_percentage_error(\n",
    "    df_pred_matten[\"dKP_true\"], df_pred_matten[\"dKP_matten_masked\"]\n",
    ")\n",
    "rmse = root_mean_squared_error(\n",
    "    df_pred_matten[\"dKP_true\"], df_pred_matten[\"dKP_matten_masked\"]\n",
    ")\n",
    "spearmanrho = spearmanr(df_pred_matten[\"dKP_true\"], df_pred_matten[\"dKP_matten_masked\"])\n",
    "print(f\"MAE = {mae}\")\n",
    "print(f\"MAPE = {mape}\")\n",
    "print(f\"RMSE = {rmse}\")\n",
    "print(f\"Rho_sp = {spearmanrho.statistic}\")\n",
    "\n",
    "# Scatter plot for previous outputs.\n",
    "scatter_dKP = go.Scatter(\n",
    "    x=df_pred_matten[\"dKP_true\"],\n",
    "    y=df_pred_matten[\"dKP_matten_masked\"],\n",
    "    mode=\"markers\",\n",
    "    name=\"\",\n",
    "    showlegend=False,\n",
    "    text=[mpid for mpid in df_pred_matten.index.values],\n",
    ")\n",
    "\n",
    "ideal = go.Scatter(\n",
    "    x=[-1, 200],\n",
    "    y=[-1, 200],\n",
    "    mode=\"lines\",\n",
    "    line=dict(color=\"gray\", dash=\"dot\"),\n",
    "    showlegend=False,\n",
    ")\n",
    "\n",
    "# Layout\n",
    "layout = go.Layout(\n",
    "    # title=dict(text='Scatter Plot'),\n",
    "    xaxis=dict(title=\"<i>d</i><sub>KP</sub> (pm/V)\", range=[-1, 150]),\n",
    "    yaxis=dict(title=\"<i>d&#770;</i><sub>KP</sub> (pm/V)\", range=[-1, 150]),\n",
    "    # legend=dict(font=dict(size=12)),\n",
    ")\n",
    "\n",
    "# Create figure\n",
    "fig = go.Figure(data=[scatter_dKP, ideal], layout=layout)\n",
    "\n",
    "fig.update_layout(\n",
    "    autosize=False,\n",
    "    font_size=20,\n",
    "    width=600,\n",
    "    height=600,\n",
    "    # plot_bgcolor=\"white\",\n",
    "    template=\"simple_white\",\n",
    ")\n",
    "fig.update_layout(\n",
    "    xaxis=dict(\n",
    "        # tickmode = 'array',\n",
    "        # tickvals = [1, 2,3,4,5,6,7,8],\n",
    "        # ticktext = ['One', 'Three', 'Five', 'Seven', 'Nine', 'Eleven']\n",
    "        showgrid=False,\n",
    "    ),\n",
    "    yaxis=dict(\n",
    "        # tickmode = 'array',\n",
    "        # tickvals = [1, 2,3,4,5,6,7,8],\n",
    "        # ticktext = ['One', 'Three', 'Five', 'Seven', 'Nine', 'Eleven']\n",
    "        showgrid=False,\n",
    "    ),\n",
    ")\n",
    "\n",
    "# Show figure\n",
    "fig.show()"
   ]
  },
  {
   "cell_type": "markdown",
   "metadata": {},
   "source": [
    "# Errors on dRMS"
   ]
  },
  {
   "cell_type": "code",
   "execution_count": 15,
   "metadata": {},
   "outputs": [
    {
     "name": "stdout",
     "output_type": "stream",
     "text": [
      "MAE = 4.1717594135676395\n",
      "MAPE = 7.81095506023802\n",
      "RMSE = 10.786910078534753\n",
      "Rho_sp = 0.7791142898286373\n"
     ]
    },
    {
     "data": {
      "application/vnd.plotly.v1+json": {
       "config": {
        "plotlyServerURL": "https://plot.ly"
       },
       "data": [
        {
         "mode": "markers",
         "name": "",
         "showlegend": false,
         "text": [
          "mp-983357",
          "mp-8377",
          "mp-18938",
          "mp-5854",
          "mp-23778",
          "mp-19219",
          "mp-9197",
          "mp-553887",
          "mp-23407",
          "mp-555150",
          "mp-6062",
          "mp-863374",
          "mp-23363",
          "mp-23321",
          "mp-27755",
          "mp-3491",
          "mp-540634",
          "mp-557773",
          "mp-559961",
          "mp-556966",
          "mp-7324",
          "mp-622018",
          "mp-29305",
          "mp-639714",
          "mp-24118",
          "mp-555203",
          "mp-706621",
          "mp-16792",
          "mp-639506",
          "mp-5020",
          "mp-3589",
          "mp-28264",
          "mp-570136",
          "mp-862539",
          "mp-696946",
          "mp-27726",
          "mp-30530",
          "mp-626620",
          "mp-2691",
          "mp-21521",
          "mp-4690",
          "mp-756570",
          "mp-28918",
          "mp-754585",
          "mp-27914",
          "mp-29910",
          "mp-14367",
          "mp-557027",
          "mp-29525",
          "mp-23866",
          "mp-29524",
          "mp-559065",
          "mp-551629",
          "mp-9064",
          "mp-13666",
          "mp-14444",
          "mp-685145",
          "mp-830",
          "mp-31451",
          "mp-30847",
          "mp-36111",
          "mp-1184046",
          "mp-1215430",
          "mp-1017534",
          "mp-1018093",
          "mp-1008556",
          "mp-4524",
          "mp-10572",
          "mp-7582",
          "mp-22965",
          "mp-4586",
          "mp-1193269",
          "mp-1101862",
          "mp-1097061",
          "mp-998623",
          "mp-1028576",
          "mp-672118",
          "mp-1215418",
          "mp-23173",
          "mp-863755",
          "mp-1221954",
          "mp-1300570",
          "mp-1210659",
          "mp-554560",
          "mp-15776",
          "mp-28873",
          "mp-1102285",
          "mp-1227567",
          "mp-1220190",
          "mp-570084",
          "mp-17862",
          "mp-1190717",
          "mp-1217833",
          "mp-675779",
          "mp-27594",
          "mp-1218158",
          "mp-28140",
          "mp-766345",
          "agm002183415",
          "agm003160554",
          "agm002205907",
          "agm002233584",
          "agm003227564",
          "agm002793928",
          "mp-781710",
          "mp-1227011",
          "mp-1216863",
          "agm002135972",
          "agm003234420",
          "agm002218325",
          "mp-1216132",
          "mp-779863",
          "mp-38103",
          "mp-29362",
          "mp-1019715",
          "agm002054632",
          "mp-1204358",
          "mp-1105300",
          "mp-1228823",
          "mp-15833",
          "mp-1103351",
          "mp-24402",
          "mp-1095543",
          "mp-1188121",
          "mp-625521",
          "mp-23560",
          "mp-1227994",
          "mp-1079609",
          "mp-1192126",
          "agm002197344",
          "agm002177947",
          "mp-696347",
          "mp-1147693",
          "agm002156258",
          "mp-772748",
          "mp-1029422",
          "mp-1120718",
          "mp-1227036",
          "mp-1194520",
          "mp-1218006",
          "mp-1220913",
          "mp-1223822",
          "mp-1147725",
          "mp-984766",
          "mp-1210722",
          "agm003263235",
          "agm002215982",
          "mp-568968",
          "mp-27313",
          "mp-556024",
          "mp-28020",
          "mp-1229086",
          "mp-772875",
          "agm002363904",
          "mp-1223536",
          "mp-1147697",
          "mp-23887",
          "mp-18609",
          "agm002848041",
          "agm002133608",
          "agm003268240",
          "mp-1198890",
          "agm003200486",
          "mp-1096810",
          "mp-1105127",
          "mp-1216944",
          "mp-555915",
          "mp-776259",
          "agm002133663",
          "agm002790067",
          "agm002162961",
          "mp-767604",
          "agm003445531",
          "agm003206623",
          "mp-1227366",
          "agm005543540",
          "agm2000012572",
          "agm002205114",
          "agm003046706",
          "agm004786073",
          "agm003445638",
          "agm002149208",
          "agm2000022161",
          "agm2000001840",
          "agm002158429",
          "agm004751295",
          "agm005848257",
          "agm2000081842",
          "agm004879066",
          "agm001347560",
          "agm2000086862",
          "agm002102214",
          "mp-23807",
          "agm004954137",
          "agm004785400",
          "agm001234439",
          "agm2000011096",
          "agm2000002067",
          "agm003716707",
          "mp-554918",
          "agm005769896",
          "agm005698720",
          "agm004956590",
          "agm006124765",
          "mp-1202153",
          "mp-23914",
          "agm002073747",
          "agm004442672",
          "agm004929360",
          "agm003267560",
          "agm002171920",
          "mp-1215297",
          "agm2000005425",
          "agm004957147",
          "agm005723638",
          "mp-1080058",
          "agm004954098",
          "agm005069643",
          "agm002153441",
          "agm003220800",
          "agm005849998",
          "agm002138386",
          "agm004788917",
          "agm2000128635",
          "agm2000015113",
          "agm002861773",
          "agm004852876",
          "mp-1215966",
          "agm005607967",
          "agm1000019892",
          "agm003048415",
          "agm2000139348",
          "agm002158908",
          "agm002041688",
          "agm005049826",
          "mp-35799",
          "agm002072314",
          "agm002147787",
          "agm005408965",
          "mp-15840",
          "agm005839737",
          "agm003110472",
          "agm005189644",
          "mp-4681",
          "agm005086011",
          "agm002845532",
          "agm005086003",
          "agm2000101795",
          "agm005074722",
          "agm005180379"
         ],
         "type": "scatter",
         "x": [
          0.08688628464103329,
          0.716497978572799,
          1.3293160472565806,
          0.3166708870615907,
          0.5527746591204474,
          0.9653095121770116,
          0.12223782830129008,
          2.0793452382271496,
          3.4964043062250787,
          0.8299209320546047,
          0.9644972902703632,
          2.5904674927199394,
          0.005649850926002318,
          0.01660372027617822,
          0.011006441627252384,
          1.6402051371692528,
          0.25679551091078306,
          0.06443902972847297,
          0.4046382386110391,
          0.25234308156873275,
          0.24501478227779028,
          43.350503389458225,
          1.13696472299824,
          2.618438472689854,
          0.21125468799535663,
          0.3239441260308986,
          0.09564832158407748,
          2.901690549179481,
          0.004861935042746656,
          6.980015770101142,
          0.43883921761684336,
          7.297180689468901,
          0.4798318491015135,
          0.3272139660895496,
          0.5245766400078169,
          0.9081031445104392,
          2.402182123632338,
          0.6825893987957943,
          23.815560714672905,
          4.031055950513715,
          0.13010170753221384,
          5.763894827606056,
          4.429290663912266,
          2.7167161160453843,
          0.059902194023585625,
          0.998406058742212,
          0.05208220441299119,
          0.07805602034315366,
          0.02766007970945303,
          0.5102225018175349,
          0.2456230037201081,
          3.62439394472391,
          0.6506122493455897,
          0.4328549142790999,
          27.888063454478687,
          7.387796727517875,
          6.379851104109996,
          2.763685998622565,
          37.46109260289279,
          21.106845570762644,
          8.238315981239777,
          23.57719541576322,
          22.70672762144007,
          48.21012807239886,
          53.90013909944864,
          1.1561601742500711,
          49.92313791836902,
          1.953813536801136,
          14.449205732032413,
          37.41250025618877,
          12.604513909592562,
          0.0027341369004929643,
          0.005170429161958946,
          0.2090836908912749,
          0.855733410220202,
          3.846822405333189,
          0.43128611691086577,
          57.25339239899564,
          11.328674098586433,
          3.033653069722586,
          1.6394510279560963,
          0.296782116288397,
          0.4355627887941008,
          0.3105612061114631,
          27.63697790247166,
          0.703845615626849,
          4.0637094052582015,
          47.875435914454904,
          0.5095592485945627,
          12.486495261684922,
          18.521615685845696,
          0.41231879979349984,
          6.891543281723829,
          2.718051598376253,
          13.072062931972049,
          1.2513423794863887,
          6.44744330482146,
          0.03359748018746823,
          28.93943018629221,
          40.44536568953385,
          33.703766424235305,
          10.011897239782938,
          0.13035208316392344,
          7.705642447431718,
          8.778994610638915,
          25.054040539076535,
          3.9026528150020736,
          43.19589965726968,
          2.074001596282979,
          25.924788504005832,
          1.757262067841884,
          3.924269679883409,
          0.3657302753260582,
          0.08374048305644864,
          0.5044240468876908,
          21.07201950064885,
          0.1261051953877179,
          12.015376465281534,
          2.898054225283593,
          1.7429541090219849,
          1.2266354615744963,
          0.030969942602180372,
          0.20384795991559287,
          0.09150401200163784,
          0.8784044021088419,
          1.077871922987321,
          1.2939577600258465,
          1.7963445064966397,
          0.43403919394084745,
          5.556211433690573,
          31.95928679605838,
          0.19565834617196773,
          4.257225292398373,
          0.2780652151597847,
          0.14789601884065873,
          12.915420218485307,
          4.666020082008711,
          0.017421214434149457,
          0.08887528398867922,
          6.655817364771552,
          1.815124892647766,
          0.366838025305518,
          4.7492093781081115,
          0.06655169156275835,
          2.7237810833087095,
          0.08799619565860789,
          0.557291148226017,
          18.160025367355544,
          0.03466549408575768,
          0.00777702020853594,
          0.710925990838824,
          0.07611526352683401,
          0.0040851924356505994,
          0.5542367515312687,
          8.568855644538859,
          4.11457904154806,
          0.44840949984332734,
          26.75160511722899,
          0.04654553508836129,
          0.8922093681825307,
          71.7177853181269,
          0.09564313156615437,
          0.005058641880224271,
          4.611312024036267,
          74.38405083102126,
          0.5533307654422426,
          0.23319458957793895,
          1.5234329294183324,
          0.04893175672758362,
          26.03713412063996,
          15.668905153270495,
          7.79349183037387,
          1.3981470172484547,
          1.9373948715081852,
          5.0804201226415655,
          0.4150114248016109,
          0.023451576004632105,
          34.70853317720789,
          2.807765869912735,
          1.5023001091781325,
          0.9545575962353502,
          0.04916717731356422,
          0.019376720461760595,
          0.62215801000216,
          1.7172249446122003,
          0.12656488537822613,
          0.4208403619797093,
          0.059426569315293686,
          1.5962828304214909,
          66.47403757263447,
          0.016751258143000516,
          0.2599110202883883,
          0.2841656539387942,
          3.9977291178686825,
          9.721341898577435,
          0.4533013926479508,
          0.006262651408543067,
          0.025348836695053008,
          0.20021382476051655,
          1.3881591265457354,
          54.41320793883334,
          1.3931306741016165,
          0.12976755682577373,
          5.888787538742367,
          2.978453275524011,
          0.07777116264756335,
          0.22031903699392935,
          0.02199427394057677,
          0.3984624779458092,
          10.981406909308872,
          9.38803148621998,
          5.628593975276655,
          0.004678693482898905,
          0.1873089848535208,
          9.072394432009103,
          6.071186863002315,
          3.9592710974784646,
          2.413751636308674,
          0.3965512058922217,
          0.13142539205936524,
          31.336240016148327,
          0.03980417599795451,
          5.576638367017888,
          0.005183460074926065,
          7.392716705490637,
          8.073943888582871,
          6.6242307922274595,
          4.002774491778165,
          0.4005034704950259,
          0.0013919849203768114,
          6.401131739030694,
          0.022684074715904296,
          17.150950214528677,
          2.8760490008516695,
          3.4370750626064095,
          0.29701331056912283,
          1.6106805224528309,
          0.029799354205208635,
          0.9580173329068804,
          0.007313689248973471,
          0.24445711711210052,
          6.9164394927356945,
          2.410535344463982,
          8.668731237194425,
          0.05515807353003739,
          0.5671221542741391,
          0.040690698391344246,
          0.2093862768042806,
          0.06330738684656279,
          0.710034855971309
         ],
         "y": [
          1.7230185270309448,
          1.3659199476242063,
          1.630042552947998,
          0.7672509551048279,
          1.6848403215408323,
          0.8123969435691833,
          1.436321496963501,
          2.18300199508667,
          3.723305940628052,
          0.7732651233673096,
          0.5148599743843079,
          1.464972972869873,
          0.3284907042980194,
          2.6821842193603516,
          0.10769033432006836,
          1.6957333087921145,
          0.5927443504333496,
          0.7442498803138733,
          1.3534319400787354,
          0.6738125681877136,
          1.3979023694992063,
          1.3097378015518188,
          2.271191120147705,
          2.960601806640625,
          1.0250581502914429,
          0.3011338710784912,
          0.19041427969932556,
          0.4410149455070496,
          0.32503849267959595,
          3.670403480529785,
          3.0554182529449463,
          1.32555890083313,
          0.19149020314216617,
          0.5416283011436462,
          0.5099365711212158,
          0.5701533555984497,
          0.28902673721313477,
          1.5794600248336792,
          4.0236358642578125,
          0.7329856753349304,
          0.3080092966556549,
          1.012073993682861,
          1.183785915374756,
          1.0044350624084473,
          1.254680037498474,
          1.91762113571167,
          1.4735018014907837,
          0.5476024150848389,
          0.7656015157699585,
          0.19120244681835177,
          0.2689879834651947,
          2.4035933017730713,
          0.34223631024360657,
          0.3023238778114319,
          6.026468276977539,
          2.9284322261810303,
          3.1084494590759277,
          3.330988645553589,
          47.54730987548828,
          13.760759353637695,
          11.123077392578123,
          3.907226085662842,
          3.8161253929138184,
          9.959245681762695,
          42.300018310546875,
          2.5381195545196533,
          38.50605010986328,
          4.159895896911621,
          16.252805709838867,
          1.5951465368270874,
          20.305870056152344,
          0.5152605772018433,
          0.27374979853630066,
          0.3089514672756195,
          0.7090551853179932,
          4.165263652801514,
          0.6845334768295288,
          35.296146392822266,
          0.8479965925216675,
          5.071271896362305,
          1.1647541522979736,
          0.08733294904232025,
          0.5321564674377441,
          0.27505719661712646,
          17.73023223876953,
          2.0407707691192627,
          5.115678310394287,
          14.899076461791992,
          0.4302465617656708,
          19.009952545166016,
          2.934023141860962,
          0.6632790565490723,
          3.8282222747802734,
          2.0445706844329834,
          5.678074836730957,
          1.6586192846298218,
          0.5616841316223145,
          0.12992027401924133,
          14.903119087219238,
          4.116401195526123,
          31.038490295410156,
          6.238715648651123,
          0.7692934274673462,
          4.145641803741455,
          2.10338830947876,
          9.005866050720215,
          4.080312728881836,
          5.652784824371338,
          2.414149284362793,
          31.921859741210938,
          1.466909885406494,
          4.115285873413086,
          0.008453639224171638,
          2.301600694656372,
          1.3593426942825315,
          6.255179405212402,
          0.3342987298965454,
          12.073495864868164,
          3.665106058120727,
          1.3535892963409424,
          2.5654313564300537,
          2.1201469898223877,
          0.3316332697868347,
          0.39706045389175415,
          0.7325742244720459,
          2.1052417755126953,
          1.834674835205078,
          3.0587148666381836,
          1.2273555994033811,
          6.248333930969238,
          2.4096059799194336,
          1.9067562818527224,
          4.185037612915039,
          0.3807903826236725,
          0.5221047401428223,
          8.116972923278809,
          1.0138577222824097,
          0.344297856092453,
          0.5298124551773071,
          9.190570831298828,
          2.269118309020996,
          1.8244978189468384,
          4.8866868019104,
          0.057376258075237274,
          3.0219218730926514,
          0.11447333544492722,
          1.3061212301254272,
          19.805994033813477,
          0.5853022336959839,
          0.675338089466095,
          1.175652027130127,
          0.8443394899368286,
          0.030124057084321976,
          1.4481239318847656,
          8.62647819519043,
          3.925040245056152,
          0.24386580288410187,
          0.32882580161094666,
          6.373391151428223,
          3.2591235637664795,
          6.600988864898682,
          0.542035698890686,
          0.02442217245697975,
          3.944568395614624,
          2.828291654586792,
          0.756869912147522,
          0.046484723687171936,
          1.2175207138061523,
          0.001399241853505373,
          21.77696228027344,
          2.5778374671936035,
          8.004378318786621,
          1.53068208694458,
          1.779904007911682,
          2.0981931686401367,
          0.39268720149993896,
          0.07391968369483948,
          42.03143310546875,
          3.124361753463745,
          1.5887621641159058,
          1.0528737306594849,
          0.7147151827812195,
          0.18816573917865753,
          1.248554825782776,
          1.4430993795394895,
          0.5990093350410461,
          0.530325174331665,
          0.8180541396141052,
          2.1546502113342285,
          113.06983947753906,
          1.2050243616104126,
          0.7771961092948914,
          1.1291340589523315,
          6.065036296844482,
          5.523343563079834,
          0.3943118155002594,
          0.5394461154937744,
          0.3881312012672424,
          0.6562732458114624,
          1.459420084953308,
          2.5028157234191895,
          6.587698459625244,
          0.5737195014953613,
          9.59742259979248,
          1.790266990661621,
          0.09328802675008774,
          0.5406410694122314,
          0.18371406197547913,
          0.5407025814056396,
          7.449264049530029,
          8.489831924438477,
          6.022592544555664,
          0.35550370812416077,
          0.29994481801986694,
          8.765145301818848,
          6.006840705871582,
          4.7075419425964355,
          2.216864824295044,
          0.839867115020752,
          0.5930288434028625,
          25.29675674438477,
          0.4809054434299469,
          2.1197831630706787,
          0.30395546555519104,
          10.540016174316406,
          5.154351234436035,
          5.452696323394775,
          3.8854570388793945,
          1.0814648866653442,
          0.3076060116291046,
          4.182914733886719,
          1.385899782180786,
          4.205319404602051,
          5.116605758666992,
          0.4780751168727875,
          0.33918365836143494,
          2.084414482116699,
          1.7826653718948364,
          2.0266387462615967,
          0.04738208651542664,
          0.44647106528282166,
          15.199694633483888,
          2.215505599975586,
          5.215615749359131,
          0.8978151679039001,
          3.3539962768554688,
          0.4313702881336212,
          1.1248962879180908,
          0.915755331516266,
          1.770369529724121
         ]
        },
        {
         "line": {
          "color": "gray",
          "dash": "dot"
         },
         "mode": "lines",
         "showlegend": false,
         "type": "scatter",
         "x": [
          -1,
          200
         ],
         "y": [
          -1,
          200
         ]
        }
       ],
       "layout": {
        "autosize": false,
        "font": {
         "size": 20
        },
        "height": 600,
        "template": {
         "data": {
          "bar": [
           {
            "error_x": {
             "color": "rgb(36,36,36)"
            },
            "error_y": {
             "color": "rgb(36,36,36)"
            },
            "marker": {
             "line": {
              "color": "white",
              "width": 0.5
             },
             "pattern": {
              "fillmode": "overlay",
              "size": 10,
              "solidity": 0.2
             }
            },
            "type": "bar"
           }
          ],
          "barpolar": [
           {
            "marker": {
             "line": {
              "color": "white",
              "width": 0.5
             },
             "pattern": {
              "fillmode": "overlay",
              "size": 10,
              "solidity": 0.2
             }
            },
            "type": "barpolar"
           }
          ],
          "carpet": [
           {
            "aaxis": {
             "endlinecolor": "rgb(36,36,36)",
             "gridcolor": "white",
             "linecolor": "white",
             "minorgridcolor": "white",
             "startlinecolor": "rgb(36,36,36)"
            },
            "baxis": {
             "endlinecolor": "rgb(36,36,36)",
             "gridcolor": "white",
             "linecolor": "white",
             "minorgridcolor": "white",
             "startlinecolor": "rgb(36,36,36)"
            },
            "type": "carpet"
           }
          ],
          "choropleth": [
           {
            "colorbar": {
             "outlinewidth": 1,
             "tickcolor": "rgb(36,36,36)",
             "ticks": "outside"
            },
            "type": "choropleth"
           }
          ],
          "contour": [
           {
            "colorbar": {
             "outlinewidth": 1,
             "tickcolor": "rgb(36,36,36)",
             "ticks": "outside"
            },
            "colorscale": [
             [
              0,
              "#440154"
             ],
             [
              0.1111111111111111,
              "#482878"
             ],
             [
              0.2222222222222222,
              "#3e4989"
             ],
             [
              0.3333333333333333,
              "#31688e"
             ],
             [
              0.4444444444444444,
              "#26828e"
             ],
             [
              0.5555555555555556,
              "#1f9e89"
             ],
             [
              0.6666666666666666,
              "#35b779"
             ],
             [
              0.7777777777777778,
              "#6ece58"
             ],
             [
              0.8888888888888888,
              "#b5de2b"
             ],
             [
              1,
              "#fde725"
             ]
            ],
            "type": "contour"
           }
          ],
          "contourcarpet": [
           {
            "colorbar": {
             "outlinewidth": 1,
             "tickcolor": "rgb(36,36,36)",
             "ticks": "outside"
            },
            "type": "contourcarpet"
           }
          ],
          "heatmap": [
           {
            "colorbar": {
             "outlinewidth": 1,
             "tickcolor": "rgb(36,36,36)",
             "ticks": "outside"
            },
            "colorscale": [
             [
              0,
              "#440154"
             ],
             [
              0.1111111111111111,
              "#482878"
             ],
             [
              0.2222222222222222,
              "#3e4989"
             ],
             [
              0.3333333333333333,
              "#31688e"
             ],
             [
              0.4444444444444444,
              "#26828e"
             ],
             [
              0.5555555555555556,
              "#1f9e89"
             ],
             [
              0.6666666666666666,
              "#35b779"
             ],
             [
              0.7777777777777778,
              "#6ece58"
             ],
             [
              0.8888888888888888,
              "#b5de2b"
             ],
             [
              1,
              "#fde725"
             ]
            ],
            "type": "heatmap"
           }
          ],
          "heatmapgl": [
           {
            "colorbar": {
             "outlinewidth": 1,
             "tickcolor": "rgb(36,36,36)",
             "ticks": "outside"
            },
            "colorscale": [
             [
              0,
              "#440154"
             ],
             [
              0.1111111111111111,
              "#482878"
             ],
             [
              0.2222222222222222,
              "#3e4989"
             ],
             [
              0.3333333333333333,
              "#31688e"
             ],
             [
              0.4444444444444444,
              "#26828e"
             ],
             [
              0.5555555555555556,
              "#1f9e89"
             ],
             [
              0.6666666666666666,
              "#35b779"
             ],
             [
              0.7777777777777778,
              "#6ece58"
             ],
             [
              0.8888888888888888,
              "#b5de2b"
             ],
             [
              1,
              "#fde725"
             ]
            ],
            "type": "heatmapgl"
           }
          ],
          "histogram": [
           {
            "marker": {
             "line": {
              "color": "white",
              "width": 0.6
             }
            },
            "type": "histogram"
           }
          ],
          "histogram2d": [
           {
            "colorbar": {
             "outlinewidth": 1,
             "tickcolor": "rgb(36,36,36)",
             "ticks": "outside"
            },
            "colorscale": [
             [
              0,
              "#440154"
             ],
             [
              0.1111111111111111,
              "#482878"
             ],
             [
              0.2222222222222222,
              "#3e4989"
             ],
             [
              0.3333333333333333,
              "#31688e"
             ],
             [
              0.4444444444444444,
              "#26828e"
             ],
             [
              0.5555555555555556,
              "#1f9e89"
             ],
             [
              0.6666666666666666,
              "#35b779"
             ],
             [
              0.7777777777777778,
              "#6ece58"
             ],
             [
              0.8888888888888888,
              "#b5de2b"
             ],
             [
              1,
              "#fde725"
             ]
            ],
            "type": "histogram2d"
           }
          ],
          "histogram2dcontour": [
           {
            "colorbar": {
             "outlinewidth": 1,
             "tickcolor": "rgb(36,36,36)",
             "ticks": "outside"
            },
            "colorscale": [
             [
              0,
              "#440154"
             ],
             [
              0.1111111111111111,
              "#482878"
             ],
             [
              0.2222222222222222,
              "#3e4989"
             ],
             [
              0.3333333333333333,
              "#31688e"
             ],
             [
              0.4444444444444444,
              "#26828e"
             ],
             [
              0.5555555555555556,
              "#1f9e89"
             ],
             [
              0.6666666666666666,
              "#35b779"
             ],
             [
              0.7777777777777778,
              "#6ece58"
             ],
             [
              0.8888888888888888,
              "#b5de2b"
             ],
             [
              1,
              "#fde725"
             ]
            ],
            "type": "histogram2dcontour"
           }
          ],
          "mesh3d": [
           {
            "colorbar": {
             "outlinewidth": 1,
             "tickcolor": "rgb(36,36,36)",
             "ticks": "outside"
            },
            "type": "mesh3d"
           }
          ],
          "parcoords": [
           {
            "line": {
             "colorbar": {
              "outlinewidth": 1,
              "tickcolor": "rgb(36,36,36)",
              "ticks": "outside"
             }
            },
            "type": "parcoords"
           }
          ],
          "pie": [
           {
            "automargin": true,
            "type": "pie"
           }
          ],
          "scatter": [
           {
            "fillpattern": {
             "fillmode": "overlay",
             "size": 10,
             "solidity": 0.2
            },
            "type": "scatter"
           }
          ],
          "scatter3d": [
           {
            "line": {
             "colorbar": {
              "outlinewidth": 1,
              "tickcolor": "rgb(36,36,36)",
              "ticks": "outside"
             }
            },
            "marker": {
             "colorbar": {
              "outlinewidth": 1,
              "tickcolor": "rgb(36,36,36)",
              "ticks": "outside"
             }
            },
            "type": "scatter3d"
           }
          ],
          "scattercarpet": [
           {
            "marker": {
             "colorbar": {
              "outlinewidth": 1,
              "tickcolor": "rgb(36,36,36)",
              "ticks": "outside"
             }
            },
            "type": "scattercarpet"
           }
          ],
          "scattergeo": [
           {
            "marker": {
             "colorbar": {
              "outlinewidth": 1,
              "tickcolor": "rgb(36,36,36)",
              "ticks": "outside"
             }
            },
            "type": "scattergeo"
           }
          ],
          "scattergl": [
           {
            "marker": {
             "colorbar": {
              "outlinewidth": 1,
              "tickcolor": "rgb(36,36,36)",
              "ticks": "outside"
             }
            },
            "type": "scattergl"
           }
          ],
          "scattermapbox": [
           {
            "marker": {
             "colorbar": {
              "outlinewidth": 1,
              "tickcolor": "rgb(36,36,36)",
              "ticks": "outside"
             }
            },
            "type": "scattermapbox"
           }
          ],
          "scatterpolar": [
           {
            "marker": {
             "colorbar": {
              "outlinewidth": 1,
              "tickcolor": "rgb(36,36,36)",
              "ticks": "outside"
             }
            },
            "type": "scatterpolar"
           }
          ],
          "scatterpolargl": [
           {
            "marker": {
             "colorbar": {
              "outlinewidth": 1,
              "tickcolor": "rgb(36,36,36)",
              "ticks": "outside"
             }
            },
            "type": "scatterpolargl"
           }
          ],
          "scatterternary": [
           {
            "marker": {
             "colorbar": {
              "outlinewidth": 1,
              "tickcolor": "rgb(36,36,36)",
              "ticks": "outside"
             }
            },
            "type": "scatterternary"
           }
          ],
          "surface": [
           {
            "colorbar": {
             "outlinewidth": 1,
             "tickcolor": "rgb(36,36,36)",
             "ticks": "outside"
            },
            "colorscale": [
             [
              0,
              "#440154"
             ],
             [
              0.1111111111111111,
              "#482878"
             ],
             [
              0.2222222222222222,
              "#3e4989"
             ],
             [
              0.3333333333333333,
              "#31688e"
             ],
             [
              0.4444444444444444,
              "#26828e"
             ],
             [
              0.5555555555555556,
              "#1f9e89"
             ],
             [
              0.6666666666666666,
              "#35b779"
             ],
             [
              0.7777777777777778,
              "#6ece58"
             ],
             [
              0.8888888888888888,
              "#b5de2b"
             ],
             [
              1,
              "#fde725"
             ]
            ],
            "type": "surface"
           }
          ],
          "table": [
           {
            "cells": {
             "fill": {
              "color": "rgb(237,237,237)"
             },
             "line": {
              "color": "white"
             }
            },
            "header": {
             "fill": {
              "color": "rgb(217,217,217)"
             },
             "line": {
              "color": "white"
             }
            },
            "type": "table"
           }
          ]
         },
         "layout": {
          "annotationdefaults": {
           "arrowhead": 0,
           "arrowwidth": 1
          },
          "autotypenumbers": "strict",
          "coloraxis": {
           "colorbar": {
            "outlinewidth": 1,
            "tickcolor": "rgb(36,36,36)",
            "ticks": "outside"
           }
          },
          "colorscale": {
           "diverging": [
            [
             0,
             "rgb(103,0,31)"
            ],
            [
             0.1,
             "rgb(178,24,43)"
            ],
            [
             0.2,
             "rgb(214,96,77)"
            ],
            [
             0.3,
             "rgb(244,165,130)"
            ],
            [
             0.4,
             "rgb(253,219,199)"
            ],
            [
             0.5,
             "rgb(247,247,247)"
            ],
            [
             0.6,
             "rgb(209,229,240)"
            ],
            [
             0.7,
             "rgb(146,197,222)"
            ],
            [
             0.8,
             "rgb(67,147,195)"
            ],
            [
             0.9,
             "rgb(33,102,172)"
            ],
            [
             1,
             "rgb(5,48,97)"
            ]
           ],
           "sequential": [
            [
             0,
             "#440154"
            ],
            [
             0.1111111111111111,
             "#482878"
            ],
            [
             0.2222222222222222,
             "#3e4989"
            ],
            [
             0.3333333333333333,
             "#31688e"
            ],
            [
             0.4444444444444444,
             "#26828e"
            ],
            [
             0.5555555555555556,
             "#1f9e89"
            ],
            [
             0.6666666666666666,
             "#35b779"
            ],
            [
             0.7777777777777778,
             "#6ece58"
            ],
            [
             0.8888888888888888,
             "#b5de2b"
            ],
            [
             1,
             "#fde725"
            ]
           ],
           "sequentialminus": [
            [
             0,
             "#440154"
            ],
            [
             0.1111111111111111,
             "#482878"
            ],
            [
             0.2222222222222222,
             "#3e4989"
            ],
            [
             0.3333333333333333,
             "#31688e"
            ],
            [
             0.4444444444444444,
             "#26828e"
            ],
            [
             0.5555555555555556,
             "#1f9e89"
            ],
            [
             0.6666666666666666,
             "#35b779"
            ],
            [
             0.7777777777777778,
             "#6ece58"
            ],
            [
             0.8888888888888888,
             "#b5de2b"
            ],
            [
             1,
             "#fde725"
            ]
           ]
          },
          "colorway": [
           "#1F77B4",
           "#FF7F0E",
           "#2CA02C",
           "#D62728",
           "#9467BD",
           "#8C564B",
           "#E377C2",
           "#7F7F7F",
           "#BCBD22",
           "#17BECF"
          ],
          "font": {
           "color": "rgb(36,36,36)"
          },
          "geo": {
           "bgcolor": "white",
           "lakecolor": "white",
           "landcolor": "white",
           "showlakes": true,
           "showland": true,
           "subunitcolor": "white"
          },
          "hoverlabel": {
           "align": "left"
          },
          "hovermode": "closest",
          "mapbox": {
           "style": "light"
          },
          "paper_bgcolor": "white",
          "plot_bgcolor": "white",
          "polar": {
           "angularaxis": {
            "gridcolor": "rgb(232,232,232)",
            "linecolor": "rgb(36,36,36)",
            "showgrid": false,
            "showline": true,
            "ticks": "outside"
           },
           "bgcolor": "white",
           "radialaxis": {
            "gridcolor": "rgb(232,232,232)",
            "linecolor": "rgb(36,36,36)",
            "showgrid": false,
            "showline": true,
            "ticks": "outside"
           }
          },
          "scene": {
           "xaxis": {
            "backgroundcolor": "white",
            "gridcolor": "rgb(232,232,232)",
            "gridwidth": 2,
            "linecolor": "rgb(36,36,36)",
            "showbackground": true,
            "showgrid": false,
            "showline": true,
            "ticks": "outside",
            "zeroline": false,
            "zerolinecolor": "rgb(36,36,36)"
           },
           "yaxis": {
            "backgroundcolor": "white",
            "gridcolor": "rgb(232,232,232)",
            "gridwidth": 2,
            "linecolor": "rgb(36,36,36)",
            "showbackground": true,
            "showgrid": false,
            "showline": true,
            "ticks": "outside",
            "zeroline": false,
            "zerolinecolor": "rgb(36,36,36)"
           },
           "zaxis": {
            "backgroundcolor": "white",
            "gridcolor": "rgb(232,232,232)",
            "gridwidth": 2,
            "linecolor": "rgb(36,36,36)",
            "showbackground": true,
            "showgrid": false,
            "showline": true,
            "ticks": "outside",
            "zeroline": false,
            "zerolinecolor": "rgb(36,36,36)"
           }
          },
          "shapedefaults": {
           "fillcolor": "black",
           "line": {
            "width": 0
           },
           "opacity": 0.3
          },
          "ternary": {
           "aaxis": {
            "gridcolor": "rgb(232,232,232)",
            "linecolor": "rgb(36,36,36)",
            "showgrid": false,
            "showline": true,
            "ticks": "outside"
           },
           "baxis": {
            "gridcolor": "rgb(232,232,232)",
            "linecolor": "rgb(36,36,36)",
            "showgrid": false,
            "showline": true,
            "ticks": "outside"
           },
           "bgcolor": "white",
           "caxis": {
            "gridcolor": "rgb(232,232,232)",
            "linecolor": "rgb(36,36,36)",
            "showgrid": false,
            "showline": true,
            "ticks": "outside"
           }
          },
          "title": {
           "x": 0.05
          },
          "xaxis": {
           "automargin": true,
           "gridcolor": "rgb(232,232,232)",
           "linecolor": "rgb(36,36,36)",
           "showgrid": false,
           "showline": true,
           "ticks": "outside",
           "title": {
            "standoff": 15
           },
           "zeroline": false,
           "zerolinecolor": "rgb(36,36,36)"
          },
          "yaxis": {
           "automargin": true,
           "gridcolor": "rgb(232,232,232)",
           "linecolor": "rgb(36,36,36)",
           "showgrid": false,
           "showline": true,
           "ticks": "outside",
           "title": {
            "standoff": 15
           },
           "zeroline": false,
           "zerolinecolor": "rgb(36,36,36)"
          }
         }
        },
        "width": 600,
        "xaxis": {
         "range": [
          -1,
          100
         ],
         "showgrid": false,
         "title": {
          "text": "<i>d</i><sub>RMS</sub> (pm/V)"
         }
        },
        "yaxis": {
         "range": [
          -1,
          100
         ],
         "showgrid": false,
         "title": {
          "text": "<i>d&#770;</i><sub>RMS</sub> (pm/V)"
         }
        }
       }
      }
     },
     "metadata": {},
     "output_type": "display_data"
    }
   ],
   "source": [
    "# Data\n",
    "\n",
    "mae = mean_absolute_error(df_pred_matten[\"dRMS_true\"], df_pred_matten[\"dRMS_matten\"])\n",
    "mape = mean_absolute_percentage_error(\n",
    "    df_pred_matten[\"dRMS_true\"], df_pred_matten[\"dRMS_matten\"]\n",
    ")\n",
    "rmse = root_mean_squared_error(\n",
    "    df_pred_matten[\"dRMS_true\"], df_pred_matten[\"dRMS_matten\"]\n",
    ")\n",
    "spearmanrho = spearmanr(df_pred_matten[\"dRMS_true\"], df_pred_matten[\"dRMS_matten\"])\n",
    "print(f\"MAE = {mae}\")\n",
    "print(f\"MAPE = {mape}\")\n",
    "print(f\"RMSE = {rmse}\")\n",
    "print(f\"Rho_sp = {spearmanrho.statistic}\")\n",
    "\n",
    "# Scatter plot for previous outputs.\n",
    "scatter_dRMS = go.Scatter(\n",
    "    x=df_pred_matten[\"dRMS_true\"],\n",
    "    y=df_pred_matten[\"dRMS_matten\"],\n",
    "    mode=\"markers\",\n",
    "    name=\"\",\n",
    "    showlegend=False,\n",
    "    text=[mpid for mpid in df_pred_matten.index.values],\n",
    ")\n",
    "\n",
    "ideal = go.Scatter(\n",
    "    x=[-1, 200],\n",
    "    y=[-1, 200],\n",
    "    mode=\"lines\",\n",
    "    line=dict(color=\"gray\", dash=\"dot\"),\n",
    "    showlegend=False,\n",
    ")\n",
    "\n",
    "# Layout\n",
    "layout = go.Layout(\n",
    "    # title=dict(text='Scatter Plot'),\n",
    "    xaxis=dict(title=\"<i>d</i><sub>RMS</sub> (pm/V)\", range=[-1, 100]),\n",
    "    yaxis=dict(title=\"<i>d&#770;</i><sub>RMS</sub> (pm/V)\", range=[-1, 100]),\n",
    "    # legend=dict(font=dict(size=12)),\n",
    ")\n",
    "\n",
    "# Create figure\n",
    "fig = go.Figure(data=[scatter_dRMS, ideal], layout=layout)\n",
    "\n",
    "fig.update_layout(\n",
    "    autosize=False,\n",
    "    font_size=20,\n",
    "    width=600,\n",
    "    height=600,\n",
    "    # plot_bgcolor=\"white\",\n",
    "    template=\"simple_white\",\n",
    ")\n",
    "fig.update_layout(\n",
    "    xaxis=dict(\n",
    "        # tickmode = 'array',\n",
    "        # tickvals = [1, 2,3,4,5,6,7,8],\n",
    "        # ticktext = ['One', 'Three', 'Five', 'Seven', 'Nine', 'Eleven']\n",
    "        showgrid=False,\n",
    "    ),\n",
    "    yaxis=dict(\n",
    "        # tickmode = 'array',\n",
    "        # tickvals = [1, 2,3,4,5,6,7,8],\n",
    "        # ticktext = ['One', 'Three', 'Five', 'Seven', 'Nine', 'Eleven']\n",
    "        showgrid=False,\n",
    "    ),\n",
    ")\n",
    "\n",
    "# Show figure\n",
    "fig.show()"
   ]
  }
 ],
 "metadata": {
  "kernelspec": {
   "display_name": "shgmlenv",
   "language": "python",
   "name": "python3"
  },
  "language_info": {
   "codemirror_mode": {
    "name": "ipython",
    "version": 3
   },
   "file_extension": ".py",
   "mimetype": "text/x-python",
   "name": "python",
   "nbconvert_exporter": "python",
   "pygments_lexer": "ipython3",
   "version": "3.11.0"
  }
 },
 "nbformat": 4,
 "nbformat_minor": 2
}
