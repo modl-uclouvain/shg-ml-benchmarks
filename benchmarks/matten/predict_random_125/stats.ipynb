{
 "cells": [
  {
   "cell_type": "code",
   "execution_count": 1,
   "metadata": {},
   "outputs": [],
   "source": [
    "from pathlib import Path\n",
    "\n",
    "from scipy.stats import spearmanr\n",
    "from sklearn.metrics import (\n",
    "    mean_absolute_error,\n",
    "    mean_absolute_percentage_error,\n",
    "    root_mean_squared_error,\n",
    ")"
   ]
  },
  {
   "cell_type": "code",
   "execution_count": 2,
   "metadata": {},
   "outputs": [],
   "source": [
    "import os\n",
    "\n",
    "import numpy as np\n",
    "import pandas as pd\n",
    "import plotly.graph_objs as go"
   ]
  },
  {
   "cell_type": "code",
   "execution_count": 3,
   "metadata": {},
   "outputs": [],
   "source": [
    "import shg_ml_benchmarks.utils_shg as shg"
   ]
  },
  {
   "cell_type": "code",
   "execution_count": 4,
   "metadata": {},
   "outputs": [
    {
     "name": "stdout",
     "output_type": "stream",
     "text": [
      "(125, 7)\n"
     ]
    },
    {
     "data": {
      "text/html": [
       "<div>\n",
       "<style scoped>\n",
       "    .dataframe tbody tr th:only-of-type {\n",
       "        vertical-align: middle;\n",
       "    }\n",
       "\n",
       "    .dataframe tbody tr th {\n",
       "        vertical-align: top;\n",
       "    }\n",
       "\n",
       "    .dataframe thead th {\n",
       "        text-align: right;\n",
       "    }\n",
       "</style>\n",
       "<table border=\"1\" class=\"dataframe\">\n",
       "  <thead>\n",
       "    <tr style=\"text-align: right;\">\n",
       "      <th></th>\n",
       "      <th>dijk_matten</th>\n",
       "      <th>dKP_matten</th>\n",
       "      <th>dRMS_matten</th>\n",
       "      <th>dKP_matten_masked</th>\n",
       "      <th>dRMS_matten_masked</th>\n",
       "      <th>dKP_true</th>\n",
       "      <th>dRMS_true</th>\n",
       "    </tr>\n",
       "  </thead>\n",
       "  <tbody>\n",
       "    <tr>\n",
       "      <th>mp-21892</th>\n",
       "      <td>[[[3.0836368, -5.942943e-06, 3.7551393e-07], [...</td>\n",
       "      <td>3.618877</td>\n",
       "      <td>1.683262</td>\n",
       "      <td>0.000001</td>\n",
       "      <td>7.105972e-07</td>\n",
       "      <td>1.670288</td>\n",
       "      <td>0.832098</td>\n",
       "    </tr>\n",
       "    <tr>\n",
       "      <th>mp-8070</th>\n",
       "      <td>[[[-0.45687002, 3.5354278e-06, 4.1071587], [3....</td>\n",
       "      <td>5.237762</td>\n",
       "      <td>2.718879</td>\n",
       "      <td>5.237762</td>\n",
       "      <td>2.718879e+00</td>\n",
       "      <td>0.615357</td>\n",
       "      <td>0.305560</td>\n",
       "    </tr>\n",
       "    <tr>\n",
       "      <th>mp-558491</th>\n",
       "      <td>[[[10.739848, -0.01629027, 4.1023907e-07], [-0...</td>\n",
       "      <td>7.411209</td>\n",
       "      <td>4.133774</td>\n",
       "      <td>7.411209</td>\n",
       "      <td>4.133774e+00</td>\n",
       "      <td>0.916306</td>\n",
       "      <td>0.511091</td>\n",
       "    </tr>\n",
       "    <tr>\n",
       "      <th>mp-632684</th>\n",
       "      <td>[[[1.667208e-06, -2.2652384e-06, -1.6590717], ...</td>\n",
       "      <td>1.688056</td>\n",
       "      <td>0.937453</td>\n",
       "      <td>1.688056</td>\n",
       "      <td>9.374529e-01</td>\n",
       "      <td>0.633297</td>\n",
       "      <td>0.261316</td>\n",
       "    </tr>\n",
       "    <tr>\n",
       "      <th>mp-23329</th>\n",
       "      <td>[[[2.4616431e-06, -0.26381364, 0.08763757], [-...</td>\n",
       "      <td>2.355204</td>\n",
       "      <td>0.992154</td>\n",
       "      <td>0.742730</td>\n",
       "      <td>3.129567e-01</td>\n",
       "      <td>8.216653</td>\n",
       "      <td>3.472409</td>\n",
       "    </tr>\n",
       "  </tbody>\n",
       "</table>\n",
       "</div>"
      ],
      "text/plain": [
       "                                                 dijk_matten  dKP_matten  \\\n",
       "mp-21892   [[[3.0836368, -5.942943e-06, 3.7551393e-07], [...    3.618877   \n",
       "mp-8070    [[[-0.45687002, 3.5354278e-06, 4.1071587], [3....    5.237762   \n",
       "mp-558491  [[[10.739848, -0.01629027, 4.1023907e-07], [-0...    7.411209   \n",
       "mp-632684  [[[1.667208e-06, -2.2652384e-06, -1.6590717], ...    1.688056   \n",
       "mp-23329   [[[2.4616431e-06, -0.26381364, 0.08763757], [-...    2.355204   \n",
       "\n",
       "           dRMS_matten  dKP_matten_masked  dRMS_matten_masked  dKP_true  \\\n",
       "mp-21892      1.683262           0.000001        7.105972e-07  1.670288   \n",
       "mp-8070       2.718879           5.237762        2.718879e+00  0.615357   \n",
       "mp-558491     4.133774           7.411209        4.133774e+00  0.916306   \n",
       "mp-632684     0.937453           1.688056        9.374529e-01  0.633297   \n",
       "mp-23329      0.992154           0.742730        3.129567e-01  8.216653   \n",
       "\n",
       "           dRMS_true  \n",
       "mp-21892    0.832098  \n",
       "mp-8070     0.305560  \n",
       "mp-558491   0.511091  \n",
       "mp-632684   0.261316  \n",
       "mp-23329    3.472409  "
      ]
     },
     "metadata": {},
     "output_type": "display_data"
    }
   ],
   "source": [
    "df_orig = pd.read_pickle(\n",
    "    \"/home/vtrinquet/Softwares_Packages/Github/modl_uclouvain/shg-ml-benchmarks/data/df_rot_ieee_pmg.pkl.gz\"\n",
    ")\n",
    "df_orig = df_orig.query(\"is_unique_here == True\")\n",
    "df_pred_matten = pd.read_pickle(\"df_pred_matten_holdout.pkl.gz\")\n",
    "\n",
    "# Computing dKP from the Matten tensors predictions\n",
    "list_dKP_matten = []\n",
    "list_dRMS_matten = []\n",
    "list_dKP_matten_masked = []\n",
    "list_dRMS_matten_masked = []\n",
    "for ir, r in df_pred_matten.iterrows():\n",
    "    dijk_matten = shg.from_voigt(r[\"dijk_matten\"])\n",
    "    list_dKP_matten.append(shg.get_dKP(dijk_matten))\n",
    "    list_dRMS_matten.append(shg.get_dRMS(dijk_matten))\n",
    "\n",
    "    dijk_orig = shg.from_voigt(df_orig.loc[ir][\"dijk_full_neum\"])\n",
    "    dijk_matten = np.where(dijk_orig != 0, dijk_matten, 0)\n",
    "    list_dKP_matten_masked.append(shg.get_dKP(dijk_matten))\n",
    "    list_dRMS_matten_masked.append(shg.get_dRMS(dijk_matten))\n",
    "\n",
    "df_pred_matten[\"dKP_matten\"] = list_dKP_matten\n",
    "df_pred_matten[\"dRMS_matten\"] = list_dRMS_matten\n",
    "df_pred_matten[\"dKP_matten_masked\"] = list_dKP_matten_masked\n",
    "df_pred_matten[\"dRMS_matten_masked\"] = list_dRMS_matten_masked\n",
    "\n",
    "# Adding the true dKP to the df\n",
    "df_pred_matten[\"dKP_true\"] = df_orig.filter(df_pred_matten.index, axis=0)[\n",
    "    \"dKP_full_neum\"\n",
    "].tolist()\n",
    "df_pred_matten[\"dRMS_true\"] = [\n",
    "    shg.get_dRMS(d)\n",
    "    for d in df_orig.filter(df_pred_matten.index, axis=0)[\"dijk_full_neum\"].tolist()\n",
    "]\n",
    "\n",
    "print(df_pred_matten.shape)\n",
    "display(df_pred_matten.head())"
   ]
  },
  {
   "cell_type": "code",
   "execution_count": 5,
   "metadata": {},
   "outputs": [
    {
     "name": "stdout",
     "output_type": "stream",
     "text": [
      "(1001, 13)\n"
     ]
    },
    {
     "data": {
      "text/html": [
       "<div>\n",
       "<style scoped>\n",
       "    .dataframe tbody tr th:only-of-type {\n",
       "        vertical-align: middle;\n",
       "    }\n",
       "\n",
       "    .dataframe tbody tr th {\n",
       "        vertical-align: top;\n",
       "    }\n",
       "\n",
       "    .dataframe thead th {\n",
       "        text-align: right;\n",
       "    }\n",
       "</style>\n",
       "<table border=\"1\" class=\"dataframe\">\n",
       "  <thead>\n",
       "    <tr style=\"text-align: right;\">\n",
       "      <th></th>\n",
       "      <th>cumulative time</th>\n",
       "      <th>epoch</th>\n",
       "      <th>epoch time</th>\n",
       "      <th>metric_test/MeanAbsoluteError/shg_tensor_full</th>\n",
       "      <th>metric_val/MeanAbsoluteError/shg_tensor_full</th>\n",
       "      <th>step</th>\n",
       "      <th>test/loss/shg_tensor_full</th>\n",
       "      <th>test/total_loss</th>\n",
       "      <th>train/loss/shg_tensor_full</th>\n",
       "      <th>train/total_loss</th>\n",
       "      <th>val/loss/shg_tensor_full</th>\n",
       "      <th>val/score</th>\n",
       "      <th>val/total_loss</th>\n",
       "    </tr>\n",
       "  </thead>\n",
       "  <tbody>\n",
       "    <tr>\n",
       "      <th>0</th>\n",
       "      <td>39.854401</td>\n",
       "      <td>0</td>\n",
       "      <td>9.772528</td>\n",
       "      <td>NaN</td>\n",
       "      <td>5.384733</td>\n",
       "      <td>74</td>\n",
       "      <td>NaN</td>\n",
       "      <td>NaN</td>\n",
       "      <td>NaN</td>\n",
       "      <td>NaN</td>\n",
       "      <td>654.322266</td>\n",
       "      <td>5.384733</td>\n",
       "      <td>654.322266</td>\n",
       "    </tr>\n",
       "    <tr>\n",
       "      <th>1</th>\n",
       "      <td>NaN</td>\n",
       "      <td>0</td>\n",
       "      <td>NaN</td>\n",
       "      <td>NaN</td>\n",
       "      <td>NaN</td>\n",
       "      <td>74</td>\n",
       "      <td>NaN</td>\n",
       "      <td>NaN</td>\n",
       "      <td>690.040283</td>\n",
       "      <td>690.040283</td>\n",
       "      <td>NaN</td>\n",
       "      <td>NaN</td>\n",
       "      <td>NaN</td>\n",
       "    </tr>\n",
       "    <tr>\n",
       "      <th>2</th>\n",
       "      <td>49.325047</td>\n",
       "      <td>1</td>\n",
       "      <td>9.470646</td>\n",
       "      <td>NaN</td>\n",
       "      <td>5.390066</td>\n",
       "      <td>149</td>\n",
       "      <td>NaN</td>\n",
       "      <td>NaN</td>\n",
       "      <td>NaN</td>\n",
       "      <td>NaN</td>\n",
       "      <td>624.666992</td>\n",
       "      <td>5.390066</td>\n",
       "      <td>624.666992</td>\n",
       "    </tr>\n",
       "    <tr>\n",
       "      <th>3</th>\n",
       "      <td>NaN</td>\n",
       "      <td>1</td>\n",
       "      <td>NaN</td>\n",
       "      <td>NaN</td>\n",
       "      <td>NaN</td>\n",
       "      <td>149</td>\n",
       "      <td>NaN</td>\n",
       "      <td>NaN</td>\n",
       "      <td>612.329895</td>\n",
       "      <td>612.329895</td>\n",
       "      <td>NaN</td>\n",
       "      <td>NaN</td>\n",
       "      <td>NaN</td>\n",
       "    </tr>\n",
       "    <tr>\n",
       "      <th>4</th>\n",
       "      <td>58.501591</td>\n",
       "      <td>2</td>\n",
       "      <td>9.176544</td>\n",
       "      <td>NaN</td>\n",
       "      <td>5.384058</td>\n",
       "      <td>224</td>\n",
       "      <td>NaN</td>\n",
       "      <td>NaN</td>\n",
       "      <td>NaN</td>\n",
       "      <td>NaN</td>\n",
       "      <td>617.484253</td>\n",
       "      <td>5.384058</td>\n",
       "      <td>617.484253</td>\n",
       "    </tr>\n",
       "  </tbody>\n",
       "</table>\n",
       "</div>"
      ],
      "text/plain": [
       "   cumulative time  epoch  epoch time  \\\n",
       "0        39.854401      0    9.772528   \n",
       "1              NaN      0         NaN   \n",
       "2        49.325047      1    9.470646   \n",
       "3              NaN      1         NaN   \n",
       "4        58.501591      2    9.176544   \n",
       "\n",
       "   metric_test/MeanAbsoluteError/shg_tensor_full  \\\n",
       "0                                            NaN   \n",
       "1                                            NaN   \n",
       "2                                            NaN   \n",
       "3                                            NaN   \n",
       "4                                            NaN   \n",
       "\n",
       "   metric_val/MeanAbsoluteError/shg_tensor_full  step  \\\n",
       "0                                      5.384733    74   \n",
       "1                                           NaN    74   \n",
       "2                                      5.390066   149   \n",
       "3                                           NaN   149   \n",
       "4                                      5.384058   224   \n",
       "\n",
       "   test/loss/shg_tensor_full  test/total_loss  train/loss/shg_tensor_full  \\\n",
       "0                        NaN              NaN                         NaN   \n",
       "1                        NaN              NaN                  690.040283   \n",
       "2                        NaN              NaN                         NaN   \n",
       "3                        NaN              NaN                  612.329895   \n",
       "4                        NaN              NaN                         NaN   \n",
       "\n",
       "   train/total_loss  val/loss/shg_tensor_full  val/score  val/total_loss  \n",
       "0               NaN                654.322266   5.384733      654.322266  \n",
       "1        690.040283                       NaN        NaN             NaN  \n",
       "2               NaN                624.666992   5.390066      624.666992  \n",
       "3        612.329895                       NaN        NaN             NaN  \n",
       "4               NaN                617.484253   5.384058      617.484253  "
      ]
     },
     "metadata": {},
     "output_type": "display_data"
    }
   ],
   "source": [
    "type_set = os.path.basename(Path(os.getcwd())).split(\"predict_\")[1]\n",
    "\n",
    "df_lr = pd.read_csv(f\"../scripts_{type_set}/lightning_logs/version_0/metrics.csv\")\n",
    "print(df_lr.shape)\n",
    "display(df_lr.head())"
   ]
  },
  {
   "cell_type": "code",
   "execution_count": 6,
   "metadata": {},
   "outputs": [
    {
     "data": {
      "text/html": [
       "<div>\n",
       "<style scoped>\n",
       "    .dataframe tbody tr th:only-of-type {\n",
       "        vertical-align: middle;\n",
       "    }\n",
       "\n",
       "    .dataframe tbody tr th {\n",
       "        vertical-align: top;\n",
       "    }\n",
       "\n",
       "    .dataframe thead th {\n",
       "        text-align: right;\n",
       "    }\n",
       "</style>\n",
       "<table border=\"1\" class=\"dataframe\">\n",
       "  <thead>\n",
       "    <tr style=\"text-align: right;\">\n",
       "      <th></th>\n",
       "      <th>cumulative time</th>\n",
       "      <th>epoch</th>\n",
       "      <th>epoch time</th>\n",
       "      <th>metric_test/MeanAbsoluteError/shg_tensor_full</th>\n",
       "      <th>metric_val/MeanAbsoluteError/shg_tensor_full</th>\n",
       "      <th>step</th>\n",
       "      <th>test/loss/shg_tensor_full</th>\n",
       "      <th>test/total_loss</th>\n",
       "      <th>train/loss/shg_tensor_full</th>\n",
       "      <th>train/total_loss</th>\n",
       "      <th>val/loss/shg_tensor_full</th>\n",
       "      <th>val/score</th>\n",
       "      <th>val/total_loss</th>\n",
       "    </tr>\n",
       "    <tr>\n",
       "      <th>epoch</th>\n",
       "      <th></th>\n",
       "      <th></th>\n",
       "      <th></th>\n",
       "      <th></th>\n",
       "      <th></th>\n",
       "      <th></th>\n",
       "      <th></th>\n",
       "      <th></th>\n",
       "      <th></th>\n",
       "      <th></th>\n",
       "      <th></th>\n",
       "      <th></th>\n",
       "      <th></th>\n",
       "    </tr>\n",
       "  </thead>\n",
       "  <tbody>\n",
       "    <tr>\n",
       "      <th>0</th>\n",
       "      <td>39.854401</td>\n",
       "      <td>0</td>\n",
       "      <td>9.772528</td>\n",
       "      <td>NaN</td>\n",
       "      <td>5.384733</td>\n",
       "      <td>74</td>\n",
       "      <td>NaN</td>\n",
       "      <td>NaN</td>\n",
       "      <td>NaN</td>\n",
       "      <td>NaN</td>\n",
       "      <td>654.322266</td>\n",
       "      <td>5.384733</td>\n",
       "      <td>654.322266</td>\n",
       "    </tr>\n",
       "    <tr>\n",
       "      <th>1</th>\n",
       "      <td>49.325047</td>\n",
       "      <td>1</td>\n",
       "      <td>9.470646</td>\n",
       "      <td>NaN</td>\n",
       "      <td>5.390066</td>\n",
       "      <td>149</td>\n",
       "      <td>NaN</td>\n",
       "      <td>NaN</td>\n",
       "      <td>NaN</td>\n",
       "      <td>NaN</td>\n",
       "      <td>624.666992</td>\n",
       "      <td>5.390066</td>\n",
       "      <td>624.666992</td>\n",
       "    </tr>\n",
       "    <tr>\n",
       "      <th>2</th>\n",
       "      <td>58.501591</td>\n",
       "      <td>2</td>\n",
       "      <td>9.176544</td>\n",
       "      <td>NaN</td>\n",
       "      <td>5.384058</td>\n",
       "      <td>224</td>\n",
       "      <td>NaN</td>\n",
       "      <td>NaN</td>\n",
       "      <td>NaN</td>\n",
       "      <td>NaN</td>\n",
       "      <td>617.484253</td>\n",
       "      <td>5.384058</td>\n",
       "      <td>617.484253</td>\n",
       "    </tr>\n",
       "    <tr>\n",
       "      <th>3</th>\n",
       "      <td>67.622009</td>\n",
       "      <td>3</td>\n",
       "      <td>9.120419</td>\n",
       "      <td>NaN</td>\n",
       "      <td>5.165683</td>\n",
       "      <td>299</td>\n",
       "      <td>NaN</td>\n",
       "      <td>NaN</td>\n",
       "      <td>NaN</td>\n",
       "      <td>NaN</td>\n",
       "      <td>592.392517</td>\n",
       "      <td>5.165683</td>\n",
       "      <td>592.392517</td>\n",
       "    </tr>\n",
       "    <tr>\n",
       "      <th>4</th>\n",
       "      <td>76.821594</td>\n",
       "      <td>4</td>\n",
       "      <td>9.199590</td>\n",
       "      <td>NaN</td>\n",
       "      <td>5.379538</td>\n",
       "      <td>374</td>\n",
       "      <td>NaN</td>\n",
       "      <td>NaN</td>\n",
       "      <td>NaN</td>\n",
       "      <td>NaN</td>\n",
       "      <td>615.227722</td>\n",
       "      <td>5.379538</td>\n",
       "      <td>615.227722</td>\n",
       "    </tr>\n",
       "  </tbody>\n",
       "</table>\n",
       "</div>"
      ],
      "text/plain": [
       "       cumulative time  epoch  epoch time  \\\n",
       "epoch                                       \n",
       "0            39.854401      0    9.772528   \n",
       "1            49.325047      1    9.470646   \n",
       "2            58.501591      2    9.176544   \n",
       "3            67.622009      3    9.120419   \n",
       "4            76.821594      4    9.199590   \n",
       "\n",
       "       metric_test/MeanAbsoluteError/shg_tensor_full  \\\n",
       "epoch                                                  \n",
       "0                                                NaN   \n",
       "1                                                NaN   \n",
       "2                                                NaN   \n",
       "3                                                NaN   \n",
       "4                                                NaN   \n",
       "\n",
       "       metric_val/MeanAbsoluteError/shg_tensor_full  step  \\\n",
       "epoch                                                       \n",
       "0                                          5.384733    74   \n",
       "1                                          5.390066   149   \n",
       "2                                          5.384058   224   \n",
       "3                                          5.165683   299   \n",
       "4                                          5.379538   374   \n",
       "\n",
       "       test/loss/shg_tensor_full  test/total_loss  train/loss/shg_tensor_full  \\\n",
       "epoch                                                                           \n",
       "0                            NaN              NaN                         NaN   \n",
       "1                            NaN              NaN                         NaN   \n",
       "2                            NaN              NaN                         NaN   \n",
       "3                            NaN              NaN                         NaN   \n",
       "4                            NaN              NaN                         NaN   \n",
       "\n",
       "       train/total_loss  val/loss/shg_tensor_full  val/score  val/total_loss  \n",
       "epoch                                                                         \n",
       "0                   NaN                654.322266   5.384733      654.322266  \n",
       "1                   NaN                624.666992   5.390066      624.666992  \n",
       "2                   NaN                617.484253   5.384058      617.484253  \n",
       "3                   NaN                592.392517   5.165683      592.392517  \n",
       "4                   NaN                615.227722   5.379538      615.227722  "
      ]
     },
     "metadata": {},
     "output_type": "display_data"
    },
    {
     "data": {
      "text/html": [
       "<div>\n",
       "<style scoped>\n",
       "    .dataframe tbody tr th:only-of-type {\n",
       "        vertical-align: middle;\n",
       "    }\n",
       "\n",
       "    .dataframe tbody tr th {\n",
       "        vertical-align: top;\n",
       "    }\n",
       "\n",
       "    .dataframe thead th {\n",
       "        text-align: right;\n",
       "    }\n",
       "</style>\n",
       "<table border=\"1\" class=\"dataframe\">\n",
       "  <thead>\n",
       "    <tr style=\"text-align: right;\">\n",
       "      <th></th>\n",
       "      <th>cumulative time</th>\n",
       "      <th>epoch</th>\n",
       "      <th>epoch time</th>\n",
       "      <th>metric_test/MeanAbsoluteError/shg_tensor_full</th>\n",
       "      <th>metric_val/MeanAbsoluteError/shg_tensor_full</th>\n",
       "      <th>step</th>\n",
       "      <th>test/loss/shg_tensor_full</th>\n",
       "      <th>test/total_loss</th>\n",
       "      <th>train/loss/shg_tensor_full</th>\n",
       "      <th>train/total_loss</th>\n",
       "      <th>val/loss/shg_tensor_full</th>\n",
       "      <th>val/score</th>\n",
       "      <th>val/total_loss</th>\n",
       "    </tr>\n",
       "    <tr>\n",
       "      <th>epoch</th>\n",
       "      <th></th>\n",
       "      <th></th>\n",
       "      <th></th>\n",
       "      <th></th>\n",
       "      <th></th>\n",
       "      <th></th>\n",
       "      <th></th>\n",
       "      <th></th>\n",
       "      <th></th>\n",
       "      <th></th>\n",
       "      <th></th>\n",
       "      <th></th>\n",
       "      <th></th>\n",
       "    </tr>\n",
       "  </thead>\n",
       "  <tbody>\n",
       "    <tr>\n",
       "      <th>0</th>\n",
       "      <td>NaN</td>\n",
       "      <td>0</td>\n",
       "      <td>NaN</td>\n",
       "      <td>NaN</td>\n",
       "      <td>NaN</td>\n",
       "      <td>74</td>\n",
       "      <td>NaN</td>\n",
       "      <td>NaN</td>\n",
       "      <td>690.040283</td>\n",
       "      <td>690.040283</td>\n",
       "      <td>NaN</td>\n",
       "      <td>NaN</td>\n",
       "      <td>NaN</td>\n",
       "    </tr>\n",
       "    <tr>\n",
       "      <th>1</th>\n",
       "      <td>NaN</td>\n",
       "      <td>1</td>\n",
       "      <td>NaN</td>\n",
       "      <td>NaN</td>\n",
       "      <td>NaN</td>\n",
       "      <td>149</td>\n",
       "      <td>NaN</td>\n",
       "      <td>NaN</td>\n",
       "      <td>612.329895</td>\n",
       "      <td>612.329895</td>\n",
       "      <td>NaN</td>\n",
       "      <td>NaN</td>\n",
       "      <td>NaN</td>\n",
       "    </tr>\n",
       "    <tr>\n",
       "      <th>2</th>\n",
       "      <td>NaN</td>\n",
       "      <td>2</td>\n",
       "      <td>NaN</td>\n",
       "      <td>NaN</td>\n",
       "      <td>NaN</td>\n",
       "      <td>224</td>\n",
       "      <td>NaN</td>\n",
       "      <td>NaN</td>\n",
       "      <td>484.481232</td>\n",
       "      <td>484.481232</td>\n",
       "      <td>NaN</td>\n",
       "      <td>NaN</td>\n",
       "      <td>NaN</td>\n",
       "    </tr>\n",
       "    <tr>\n",
       "      <th>3</th>\n",
       "      <td>NaN</td>\n",
       "      <td>3</td>\n",
       "      <td>NaN</td>\n",
       "      <td>NaN</td>\n",
       "      <td>NaN</td>\n",
       "      <td>299</td>\n",
       "      <td>NaN</td>\n",
       "      <td>NaN</td>\n",
       "      <td>370.273926</td>\n",
       "      <td>370.273926</td>\n",
       "      <td>NaN</td>\n",
       "      <td>NaN</td>\n",
       "      <td>NaN</td>\n",
       "    </tr>\n",
       "    <tr>\n",
       "      <th>4</th>\n",
       "      <td>NaN</td>\n",
       "      <td>4</td>\n",
       "      <td>NaN</td>\n",
       "      <td>NaN</td>\n",
       "      <td>NaN</td>\n",
       "      <td>374</td>\n",
       "      <td>NaN</td>\n",
       "      <td>NaN</td>\n",
       "      <td>306.217224</td>\n",
       "      <td>306.217224</td>\n",
       "      <td>NaN</td>\n",
       "      <td>NaN</td>\n",
       "      <td>NaN</td>\n",
       "    </tr>\n",
       "  </tbody>\n",
       "</table>\n",
       "</div>"
      ],
      "text/plain": [
       "       cumulative time  epoch  epoch time  \\\n",
       "epoch                                       \n",
       "0                  NaN      0         NaN   \n",
       "1                  NaN      1         NaN   \n",
       "2                  NaN      2         NaN   \n",
       "3                  NaN      3         NaN   \n",
       "4                  NaN      4         NaN   \n",
       "\n",
       "       metric_test/MeanAbsoluteError/shg_tensor_full  \\\n",
       "epoch                                                  \n",
       "0                                                NaN   \n",
       "1                                                NaN   \n",
       "2                                                NaN   \n",
       "3                                                NaN   \n",
       "4                                                NaN   \n",
       "\n",
       "       metric_val/MeanAbsoluteError/shg_tensor_full  step  \\\n",
       "epoch                                                       \n",
       "0                                               NaN    74   \n",
       "1                                               NaN   149   \n",
       "2                                               NaN   224   \n",
       "3                                               NaN   299   \n",
       "4                                               NaN   374   \n",
       "\n",
       "       test/loss/shg_tensor_full  test/total_loss  train/loss/shg_tensor_full  \\\n",
       "epoch                                                                           \n",
       "0                            NaN              NaN                  690.040283   \n",
       "1                            NaN              NaN                  612.329895   \n",
       "2                            NaN              NaN                  484.481232   \n",
       "3                            NaN              NaN                  370.273926   \n",
       "4                            NaN              NaN                  306.217224   \n",
       "\n",
       "       train/total_loss  val/loss/shg_tensor_full  val/score  val/total_loss  \n",
       "epoch                                                                         \n",
       "0            690.040283                       NaN        NaN             NaN  \n",
       "1            612.329895                       NaN        NaN             NaN  \n",
       "2            484.481232                       NaN        NaN             NaN  \n",
       "3            370.273926                       NaN        NaN             NaN  \n",
       "4            306.217224                       NaN        NaN             NaN  "
      ]
     },
     "metadata": {},
     "output_type": "display_data"
    }
   ],
   "source": [
    "df_lr_epochs_first = df_lr[df_lr[\"epoch\"].duplicated(keep=\"last\")]\n",
    "df_lr_epochs_first.index = df_lr_epochs_first[\"epoch\"]\n",
    "display(df_lr_epochs_first.head())\n",
    "df_lr_epochs_second = df_lr[df_lr[\"epoch\"].duplicated(keep=\"first\")]\n",
    "df_lr_epochs_second.index = df_lr_epochs_second[\"epoch\"]\n",
    "display(df_lr_epochs_second.head())"
   ]
  },
  {
   "cell_type": "markdown",
   "metadata": {},
   "source": [
    "# Learning rates"
   ]
  },
  {
   "cell_type": "markdown",
   "metadata": {},
   "source": [
    "## Loss"
   ]
  },
  {
   "cell_type": "code",
   "execution_count": 7,
   "metadata": {},
   "outputs": [
    {
     "data": {
      "application/vnd.plotly.v1+json": {
       "config": {
        "plotlyServerURL": "https://plot.ly"
       },
       "data": [
        {
         "mode": "lines+markers",
         "name": "Train loss",
         "showlegend": true,
         "type": "scatter",
         "x": [
          0,
          1,
          2,
          3,
          4,
          5,
          6,
          7,
          8,
          9,
          10,
          11,
          12,
          13,
          14,
          15,
          16,
          17,
          18,
          19,
          20,
          21,
          22,
          23,
          24,
          25,
          26,
          27,
          28,
          29,
          30,
          31,
          32,
          33,
          34,
          35,
          36,
          37,
          38,
          39,
          40,
          41,
          42,
          43,
          44,
          45,
          46,
          47,
          48,
          49,
          50,
          51,
          52,
          53,
          54,
          55,
          56,
          57,
          58,
          59,
          60,
          61,
          62,
          63,
          64,
          65,
          66,
          67,
          68,
          69,
          70,
          71,
          72,
          73,
          74,
          75,
          76,
          77,
          78,
          79,
          80,
          81,
          82,
          83,
          84,
          85,
          86,
          87,
          88,
          89,
          90,
          91,
          92,
          93,
          94,
          95,
          96,
          97,
          98,
          99,
          100,
          101,
          102,
          103,
          104,
          105,
          106,
          107,
          108,
          109,
          110,
          111,
          112,
          113,
          114,
          115,
          116,
          117,
          118,
          119,
          120,
          121,
          122,
          123,
          124,
          125,
          126,
          127,
          128,
          129,
          130,
          131,
          132,
          133,
          134,
          135,
          136,
          137,
          138,
          139,
          140,
          141,
          142,
          143,
          144,
          145,
          146,
          147,
          148,
          149,
          150,
          151,
          152,
          153,
          154,
          155,
          156,
          157,
          158,
          159,
          160,
          161,
          162,
          163,
          164,
          165,
          166,
          167,
          168,
          169,
          170,
          171,
          172,
          173,
          174,
          175,
          176,
          177,
          178,
          179,
          180,
          181,
          182,
          183,
          184,
          185,
          186,
          187,
          188,
          189,
          190,
          191,
          192,
          193,
          194,
          195,
          196,
          197,
          198,
          199,
          200,
          201,
          202,
          203,
          204,
          205,
          206,
          207,
          208,
          209,
          210,
          211,
          212,
          213,
          214,
          215,
          216,
          217,
          218,
          219,
          220,
          221,
          222,
          223,
          224,
          225,
          226,
          227,
          228,
          229,
          230,
          231,
          232,
          233,
          234,
          235,
          236,
          237,
          238,
          239,
          240,
          241,
          242,
          243,
          244,
          245,
          246,
          247,
          248,
          249,
          250,
          251,
          252,
          253,
          254,
          255,
          256,
          257,
          258,
          259,
          260,
          261,
          262,
          263,
          264,
          265,
          266,
          267,
          268,
          269,
          270,
          271,
          272,
          273,
          274,
          275,
          276,
          277,
          278,
          279,
          280,
          281,
          282,
          283,
          284,
          285,
          286,
          287,
          288,
          289,
          290,
          291,
          292,
          293,
          294,
          295,
          296,
          297,
          298,
          299,
          300,
          301,
          302,
          303,
          304,
          305,
          306,
          307,
          308,
          309,
          310,
          311,
          312,
          313,
          314,
          315,
          316,
          317,
          318,
          319,
          320,
          321,
          322,
          323,
          324,
          325,
          326,
          327,
          328,
          329,
          330,
          331,
          332,
          333,
          334,
          335,
          336,
          337,
          338,
          339,
          340,
          341,
          342,
          343,
          344,
          345,
          346,
          347,
          348,
          349,
          350,
          351,
          352,
          353,
          354,
          355,
          356,
          357,
          358,
          359,
          360,
          361,
          362,
          363,
          364,
          365,
          366,
          367,
          368,
          369,
          370,
          371,
          372,
          373,
          374,
          375,
          376,
          377,
          378,
          379,
          380,
          381,
          382,
          383,
          384,
          385,
          386,
          387,
          388,
          389,
          390,
          391,
          392,
          393,
          394,
          395,
          396,
          397,
          398,
          399,
          400,
          401,
          402,
          403,
          404,
          405,
          406,
          407,
          408,
          409,
          410,
          411,
          412,
          413,
          414,
          415,
          416,
          417,
          418,
          419,
          420,
          421,
          422,
          423,
          424,
          425,
          426,
          427,
          428,
          429,
          430,
          431,
          432,
          433,
          434,
          435,
          436,
          437,
          438,
          439,
          440,
          441,
          442,
          443,
          444,
          445,
          446,
          447,
          448,
          449,
          450,
          451,
          452,
          453,
          454,
          455,
          456,
          457,
          458,
          459,
          460,
          461,
          462,
          463,
          464,
          465,
          466,
          467,
          468,
          469,
          470,
          471,
          472,
          473,
          474,
          475,
          476,
          477,
          478,
          479,
          480,
          481,
          482,
          483,
          484,
          485,
          486,
          487,
          488,
          489,
          490,
          491,
          492,
          493,
          494,
          495,
          496,
          497,
          498,
          499
         ],
         "y": [
          690.040283203125,
          612.3298950195312,
          484.4812316894531,
          370.27392578125,
          306.2172241210937,
          261.7866516113281,
          222.85159301757807,
          204.6062469482422,
          185.15286254882807,
          172.90943908691406,
          162.15399169921875,
          149.47132873535156,
          139.41368103027344,
          133.23565673828125,
          138.2335968017578,
          138.94065856933594,
          134.45335388183594,
          129.2330780029297,
          124.44193267822266,
          123.68226623535156,
          122.68830108642578,
          123.31124114990234,
          120.93464660644533,
          117.82828521728516,
          114.5899887084961,
          112.73082733154295,
          116.3050537109375,
          115.71858215332033,
          113.13356018066406,
          108.49485778808594,
          109.76712036132812,
          115.54771423339844,
          116.4704360961914,
          110.94937896728516,
          115.7464599609375,
          111.30023193359376,
          111.86096954345705,
          104.92169952392578,
          108.61096954345705,
          109.06487274169922,
          110.54524230957033,
          108.97870635986328,
          107.95046997070312,
          107.25312042236328,
          107.20038604736328,
          109.13671875,
          106.05855560302734,
          108.95319366455078,
          109.51111602783205,
          107.89045715332033,
          104.05675506591795,
          103.52054595947266,
          107.98922729492188,
          114.87289428710938,
          109.2467041015625,
          103.42250061035156,
          107.27259826660156,
          105.5678939819336,
          103.76117706298828,
          103.99256134033205,
          104.68319702148438,
          102.87191009521484,
          104.9487762451172,
          110.76244354248048,
          105.46400451660156,
          100.70782470703124,
          95.23546600341795,
          95.36483001708984,
          94.71881866455078,
          97.9693374633789,
          94.41576385498048,
          92.94509887695312,
          92.7087631225586,
          94.4350128173828,
          97.2303237915039,
          93.10933685302734,
          92.54248809814452,
          92.73953247070312,
          94.91666412353516,
          93.24552917480467,
          93.0122299194336,
          92.09154510498048,
          91.59628295898438,
          92.21520233154295,
          93.51081085205078,
          92.9095687866211,
          93.7796401977539,
          94.25244903564452,
          93.39861297607422,
          93.36672973632812,
          95.64328002929688,
          94.19314575195312,
          103.59342956542967,
          95.91943359375,
          94.27012634277344,
          93.05709075927734,
          91.85383605957033,
          92.06450653076172,
          93.20924377441406,
          93.02845001220705,
          91.92285919189452,
          92.50702667236328,
          93.24832916259766,
          93.96847534179688,
          93.1919403076172,
          94.22415924072266,
          93.04766845703124,
          96.07942962646484,
          96.2853546142578,
          95.03795623779295,
          93.52263641357422,
          94.53501892089844,
          98.17366790771484,
          94.1218719482422,
          93.0640106201172,
          93.2125244140625,
          93.2464599609375,
          90.353271484375,
          91.08856964111328,
          91.04261779785156,
          90.1439971923828,
          90.42707061767578,
          90.00511932373047,
          89.7902603149414,
          89.6512451171875,
          90.10226440429688,
          90.48379516601562,
          90.260986328125,
          90.55441284179688,
          90.61886596679688,
          89.79350280761719,
          89.81040954589844,
          90.62614440917967,
          91.12621307373048,
          90.48165130615234,
          90.29946899414062,
          89.37696075439453,
          89.4751205444336,
          89.80611419677734,
          89.7247543334961,
          89.61124420166016,
          90.38140106201172,
          90.22183990478516,
          90.30037689208984,
          90.38314056396484,
          89.95072937011719,
          89.73551177978516,
          89.96018981933594,
          90.2007064819336,
          90.65930938720705,
          90.6049575805664,
          92.9259033203125,
          92.14302825927734,
          90.06047821044922,
          90.07831573486328,
          89.84669494628906,
          89.81661987304688,
          90.26428985595705,
          91.20513153076172,
          90.35311126708984,
          90.5226058959961,
          89.96495819091797,
          90.270263671875,
          90.01950073242188,
          91.17637634277344,
          90.13288116455078,
          89.8409423828125,
          89.68643188476562,
          88.96634674072266,
          88.99049377441406,
          88.73881530761719,
          88.77536010742188,
          88.89317321777344,
          88.93232727050781,
          88.820556640625,
          88.83084869384766,
          88.78984832763672,
          88.90615844726562,
          88.69535827636719,
          88.73443603515625,
          88.74945831298828,
          88.52201080322266,
          88.49524688720703,
          88.67845916748047,
          88.91455841064453,
          88.75965881347656,
          88.71220397949219,
          89.15850830078125,
          89.46477508544922,
          89.17193603515625,
          88.6873550415039,
          88.94670867919922,
          88.66808319091797,
          89.47010040283203,
          89.38326263427734,
          88.84844207763672,
          88.68948364257812,
          88.79802703857422,
          88.62127685546875,
          88.6436767578125,
          88.59639739990234,
          88.83573150634766,
          88.59889221191406,
          88.73108673095703,
          88.77474975585938,
          88.93733215332031,
          90.1989288330078,
          89.36796569824219,
          88.54824829101562,
          88.84315490722656,
          88.64463806152344,
          88.46854400634766,
          88.6764907836914,
          88.70263671875,
          88.88835144042969,
          89.01737976074219,
          88.80647277832031,
          88.73311614990234,
          88.87763977050781,
          88.37676239013672,
          88.14501190185547,
          88.3736572265625,
          88.3768081665039,
          88.28408813476562,
          88.13758850097656,
          88.25602722167969,
          88.52168273925781,
          88.18551635742188,
          88.31356048583984,
          88.3003921508789,
          88.42684173583984,
          88.19088745117188,
          88.21495819091797,
          88.25090789794922,
          88.3106460571289,
          88.20570373535156,
          88.16956329345703,
          88.38145446777344,
          88.2764892578125,
          88.40921783447266,
          88.6811752319336,
          88.52076721191406,
          88.58656311035156,
          88.47410583496094,
          88.37352752685547,
          88.39584350585938,
          88.44499206542969,
          88.31419372558594,
          88.25897979736328,
          88.39574432373047,
          88.54058074951172,
          88.34968566894531,
          88.18584442138672,
          88.27293395996094,
          88.40650939941406,
          88.1492691040039,
          88.18192291259766,
          88.17289733886719,
          88.06181335449219,
          88.20281982421875,
          88.34829711914062,
          88.27169799804688,
          88.25546264648438,
          87.98824310302734,
          88.22624969482422,
          88.35606384277344,
          88.35982513427734,
          88.19682312011719,
          88.08402252197266,
          88.05634307861328,
          88.1737060546875,
          88.00516510009766,
          88.09870147705078,
          88.05805206298828,
          88.2089614868164,
          87.98567199707031,
          88.02692413330078,
          87.9924087524414,
          87.9342269897461,
          87.9508056640625,
          88.1321029663086,
          88.13531494140625,
          88.37509155273438,
          88.18359375,
          88.02950286865234,
          88.15589904785156,
          88.0789566040039,
          88.0258560180664,
          88.15919494628906,
          88.32948303222656,
          88.20782470703125,
          88.46855926513672,
          88.1861572265625,
          88.16001892089844,
          87.97880554199219,
          88.08621215820312,
          87.96935272216797,
          88.01927185058594,
          88.02569580078125,
          88.05059814453125,
          88.0252456665039,
          87.95211029052734,
          87.95561981201172,
          88.00798797607422,
          88.06190490722656,
          88.03889465332031,
          88.02689361572266,
          88.01431274414062,
          88.11771392822266,
          88.06940460205078,
          87.9439697265625,
          88.266357421875,
          88.40501403808594,
          88.65785217285156,
          88.14368438720703,
          87.9476089477539,
          88.1864013671875,
          88.08756256103516,
          87.88729858398438,
          88.08434295654297,
          88.04997253417969,
          87.87625122070312,
          87.93421173095703,
          87.9239273071289,
          88.00411224365234,
          88.05777740478516,
          87.91024017333984,
          87.89313507080078,
          87.91856384277344,
          87.98600769042969,
          87.9515380859375,
          87.99415588378906,
          88.20425415039062,
          87.98868560791016,
          88.11825561523438,
          87.86145782470703,
          87.97236633300781,
          87.95394897460938,
          87.9060287475586,
          88.27770233154297,
          87.97429656982422,
          87.95165252685547,
          87.90192413330078,
          88.06974792480469,
          87.98221588134766,
          87.89381408691406,
          87.95014953613281,
          87.95726013183594,
          88.03152465820312,
          88.06305694580078,
          87.95436096191406,
          88.4497299194336,
          87.97953796386719,
          88.02548217773438,
          88.02452850341797,
          87.90216064453125,
          88.03697967529297,
          87.83991241455078,
          87.90276336669922,
          87.88578796386719,
          87.95085906982422,
          87.88227844238281,
          87.91193389892578,
          87.93628692626953,
          87.93327331542969,
          87.82058715820312,
          87.97681427001953,
          87.79235076904297,
          87.89036560058594,
          87.90960693359375,
          87.84771728515625,
          87.90065002441406,
          87.93116760253906,
          87.9128646850586,
          87.92218780517578,
          88.24358367919922,
          88.17732238769531,
          88.17024230957031,
          87.90719604492188,
          87.88521575927734,
          88.08014678955078,
          87.934326171875,
          87.91187286376953,
          88.35596466064453,
          88.05791473388672,
          87.9478988647461,
          87.94890594482422,
          88.04617309570312,
          87.90314483642578,
          88.06591033935547,
          87.95357513427734,
          87.9350814819336,
          87.77389526367188,
          87.87467956542969,
          87.9251937866211,
          87.93103790283203,
          88.05703735351562,
          88.05957794189453,
          87.9338607788086,
          87.80899810791016,
          87.97721862792969,
          88.00829315185547,
          87.83238983154297,
          87.7837905883789,
          87.96017456054688,
          87.91561126708984,
          87.84101867675781,
          87.84268188476562,
          87.79550170898438,
          87.95419311523438,
          87.90327453613281,
          87.79586791992188,
          87.9190673828125,
          87.88610076904297,
          88.00521850585938,
          88.00054168701172,
          87.83091735839844,
          87.89728546142578,
          87.86734008789062,
          87.9764175415039,
          87.88713073730469,
          87.94857788085938,
          87.95491027832031,
          87.97504425048828,
          87.99911499023438,
          87.82768249511719,
          87.87704467773438,
          87.922607421875,
          87.85745239257812,
          87.91820526123047,
          88.01471710205078,
          87.89190673828125,
          87.87517547607422,
          87.95555114746094,
          88.01653289794922,
          87.97264099121094,
          87.95569610595703,
          87.83959197998047,
          87.80339050292969,
          87.81917572021484,
          87.87044525146484,
          87.91537475585938,
          87.86068725585938,
          87.84516906738281,
          87.83946990966797,
          87.80390930175781,
          87.93026733398438,
          87.76288604736328,
          87.87545013427734,
          87.90322875976562,
          87.95379638671875,
          87.84574127197266,
          87.86544036865234,
          87.82057189941406,
          87.82376861572266,
          87.8340835571289,
          88.12201690673828,
          87.74187469482422,
          87.93888092041016,
          87.81663513183594,
          87.79366302490234,
          87.8164291381836,
          87.87992095947266,
          87.81080627441406,
          87.91068267822266,
          87.78156280517578,
          88.46272277832031,
          87.87345123291016,
          87.95143127441406,
          87.90367889404297,
          87.7579574584961,
          87.81519317626953,
          87.75657653808594,
          88.0246353149414,
          87.83560180664062,
          88.03441619873047,
          87.92725372314453,
          87.89187622070312,
          87.91706085205078,
          87.83732604980469,
          87.84471130371094,
          87.85685729980469,
          87.94281768798828,
          87.80023956298828,
          87.85511016845703,
          87.8451919555664,
          87.82713317871094,
          87.73399353027344,
          87.88542175292969,
          87.87210845947266,
          87.76017761230469,
          87.84415435791016,
          87.90579223632812,
          88.04595184326172,
          88.0208740234375,
          87.70343780517578,
          88.18672943115234,
          87.870849609375,
          87.97248077392578,
          87.78840637207031
         ]
        },
        {
         "mode": "lines+markers",
         "name": "Validation loss",
         "showlegend": true,
         "type": "scatter",
         "x": [
          0,
          1,
          2,
          3,
          4,
          5,
          6,
          7,
          8,
          9,
          10,
          11,
          12,
          13,
          14,
          15,
          16,
          17,
          18,
          19,
          20,
          21,
          22,
          23,
          24,
          25,
          26,
          27,
          28,
          29,
          30,
          31,
          32,
          33,
          34,
          35,
          36,
          37,
          38,
          39,
          40,
          41,
          42,
          43,
          44,
          45,
          46,
          47,
          48,
          49,
          50,
          51,
          52,
          53,
          54,
          55,
          56,
          57,
          58,
          59,
          60,
          61,
          62,
          63,
          64,
          65,
          66,
          67,
          68,
          69,
          70,
          71,
          72,
          73,
          74,
          75,
          76,
          77,
          78,
          79,
          80,
          81,
          82,
          83,
          84,
          85,
          86,
          87,
          88,
          89,
          90,
          91,
          92,
          93,
          94,
          95,
          96,
          97,
          98,
          99,
          100,
          101,
          102,
          103,
          104,
          105,
          106,
          107,
          108,
          109,
          110,
          111,
          112,
          113,
          114,
          115,
          116,
          117,
          118,
          119,
          120,
          121,
          122,
          123,
          124,
          125,
          126,
          127,
          128,
          129,
          130,
          131,
          132,
          133,
          134,
          135,
          136,
          137,
          138,
          139,
          140,
          141,
          142,
          143,
          144,
          145,
          146,
          147,
          148,
          149,
          150,
          151,
          152,
          153,
          154,
          155,
          156,
          157,
          158,
          159,
          160,
          161,
          162,
          163,
          164,
          165,
          166,
          167,
          168,
          169,
          170,
          171,
          172,
          173,
          174,
          175,
          176,
          177,
          178,
          179,
          180,
          181,
          182,
          183,
          184,
          185,
          186,
          187,
          188,
          189,
          190,
          191,
          192,
          193,
          194,
          195,
          196,
          197,
          198,
          199,
          200,
          201,
          202,
          203,
          204,
          205,
          206,
          207,
          208,
          209,
          210,
          211,
          212,
          213,
          214,
          215,
          216,
          217,
          218,
          219,
          220,
          221,
          222,
          223,
          224,
          225,
          226,
          227,
          228,
          229,
          230,
          231,
          232,
          233,
          234,
          235,
          236,
          237,
          238,
          239,
          240,
          241,
          242,
          243,
          244,
          245,
          246,
          247,
          248,
          249,
          250,
          251,
          252,
          253,
          254,
          255,
          256,
          257,
          258,
          259,
          260,
          261,
          262,
          263,
          264,
          265,
          266,
          267,
          268,
          269,
          270,
          271,
          272,
          273,
          274,
          275,
          276,
          277,
          278,
          279,
          280,
          281,
          282,
          283,
          284,
          285,
          286,
          287,
          288,
          289,
          290,
          291,
          292,
          293,
          294,
          295,
          296,
          297,
          298,
          299,
          300,
          301,
          302,
          303,
          304,
          305,
          306,
          307,
          308,
          309,
          310,
          311,
          312,
          313,
          314,
          315,
          316,
          317,
          318,
          319,
          320,
          321,
          322,
          323,
          324,
          325,
          326,
          327,
          328,
          329,
          330,
          331,
          332,
          333,
          334,
          335,
          336,
          337,
          338,
          339,
          340,
          341,
          342,
          343,
          344,
          345,
          346,
          347,
          348,
          349,
          350,
          351,
          352,
          353,
          354,
          355,
          356,
          357,
          358,
          359,
          360,
          361,
          362,
          363,
          364,
          365,
          366,
          367,
          368,
          369,
          370,
          371,
          372,
          373,
          374,
          375,
          376,
          377,
          378,
          379,
          380,
          381,
          382,
          383,
          384,
          385,
          386,
          387,
          388,
          389,
          390,
          391,
          392,
          393,
          394,
          395,
          396,
          397,
          398,
          399,
          400,
          401,
          402,
          403,
          404,
          405,
          406,
          407,
          408,
          409,
          410,
          411,
          412,
          413,
          414,
          415,
          416,
          417,
          418,
          419,
          420,
          421,
          422,
          423,
          424,
          425,
          426,
          427,
          428,
          429,
          430,
          431,
          432,
          433,
          434,
          435,
          436,
          437,
          438,
          439,
          440,
          441,
          442,
          443,
          444,
          445,
          446,
          447,
          448,
          449,
          450,
          451,
          452,
          453,
          454,
          455,
          456,
          457,
          458,
          459,
          460,
          461,
          462,
          463,
          464,
          465,
          466,
          467,
          468,
          469,
          470,
          471,
          472,
          473,
          474,
          475,
          476,
          477,
          478,
          479,
          480,
          481,
          482,
          483,
          484,
          485,
          486,
          487,
          488,
          489,
          490,
          491,
          492,
          493,
          494,
          495,
          496,
          497,
          498,
          499
         ],
         "y": [
          654.322265625,
          624.6669921875,
          617.4842529296875,
          592.3925170898438,
          615.2277221679688,
          518.6198120117188,
          511.7378845214844,
          485.7258605957031,
          530.3098754882812,
          471.5419616699219,
          490.65533447265625,
          485.4580078125,
          486.9991149902344,
          478.784423828125,
          445.06494140625,
          579.1638793945312,
          476.79193115234375,
          486.4568786621094,
          468.6255798339844,
          462.3279418945313,
          459.8264465332031,
          475.3893737792969,
          467.5499877929688,
          458.9362182617188,
          482.8991394042969,
          470.5181274414063,
          478.3318176269531,
          511.7835693359375,
          460.3083801269531,
          462.9046936035156,
          499.8148498535156,
          532.443359375,
          495.6824340820313,
          495.8355102539063,
          483.4698181152344,
          455.0223083496094,
          473.1216735839844,
          459.4934997558594,
          512.1026000976562,
          472.119384765625,
          479.4830932617188,
          436.8283081054688,
          486.0130920410156,
          459.3991394042969,
          459.2896118164063,
          511.6820068359375,
          470.2576904296875,
          457.5008850097656,
          466.4361877441406,
          469.9828796386719,
          472.3240356445313,
          466.707763671875,
          502.1015930175781,
          447.46722412109375,
          466.6076965332031,
          466.17474365234375,
          471.2583923339844,
          467.002197265625,
          449.9965515136719,
          486.4496765136719,
          459.8586730957031,
          484.7668762207031,
          462.4967651367188,
          477.9425048828125,
          446.17083740234375,
          480.6719970703125,
          467.2613525390625,
          478.547119140625,
          465.3843383789063,
          468.9782409667969,
          470.6170349121094,
          476.3822937011719,
          471.8258972167969,
          462.1140747070313,
          469.6684875488281,
          459.4130554199219,
          460.1270751953125,
          455.6284790039063,
          463.54986572265625,
          462.0170593261719,
          476.6925048828125,
          468.2184753417969,
          473.944580078125,
          454.0818786621094,
          468.796875,
          465.8364562988281,
          460.7291564941406,
          465.3472595214844,
          466.8581237792969,
          450.537353515625,
          466.4849243164063,
          474.761962890625,
          462.5482482910156,
          463.13519287109375,
          461.6492309570313,
          454.0613708496094,
          457.7895812988281,
          451.9884033203125,
          468.9832153320313,
          462.6676330566406,
          467.848388671875,
          462.9014892578125,
          458.9296875,
          462.77874755859375,
          462.841064453125,
          464.59906005859375,
          461.4920349121094,
          458.1838989257813,
          450.6849670410156,
          467.0401916503906,
          457.237060546875,
          459.2361450195313,
          457.99029541015625,
          468.5848693847656,
          459.3218688964844,
          450.495361328125,
          462.9964294433594,
          460.248291015625,
          457.6541137695313,
          468.6871948242188,
          465.5263671875,
          461.9024963378906,
          467.7227478027344,
          460.2357482910156,
          458.86663818359375,
          458.0058288574219,
          464.3810729980469,
          466.5293884277344,
          460.31195068359375,
          466.2952575683594,
          456.450927734375,
          459.0035400390625,
          458.59368896484375,
          454.80609130859375,
          457.08343505859375,
          463.4397277832031,
          465.2349853515625,
          466.8160705566406,
          459.1862487792969,
          462.4674377441406,
          458.1287841796875,
          466.0329895019531,
          463.0880126953125,
          461.4236145019531,
          462.1461486816406,
          460.6675720214844,
          454.3404541015625,
          456.8814392089844,
          455.0503234863281,
          452.6798095703125,
          459.2057495117188,
          451.999755859375,
          457.2815856933594,
          443.1877136230469,
          455.2200012207031,
          456.8434448242188,
          454.7139587402344,
          455.3474426269531,
          462.3699340820313,
          459.0031433105469,
          460.1134338378906,
          458.8930358886719,
          455.3900451660156,
          451.2197570800781,
          453.30517578125,
          452.2271118164063,
          453.9111022949219,
          451.2646179199219,
          453.30224609375,
          447.7697448730469,
          450.83111572265625,
          454.5374450683594,
          453.8623046875,
          453.7642517089844,
          452.0929565429688,
          453.7759399414063,
          453.2421875,
          454.353271484375,
          452.4078674316406,
          453.6874694824219,
          455.5506896972656,
          454.4028015136719,
          452.7813720703125,
          453.7594909667969,
          455.1326904296875,
          458.2317199707031,
          453.2521362304688,
          451.700927734375,
          448.9701232910156,
          452.40087890625,
          455.1936950683594,
          452.914306640625,
          456.2760009765625,
          451.5702209472656,
          455.7849426269531,
          453.6246948242188,
          454.5561218261719,
          447.2853698730469,
          451.48443603515625,
          454.7590026855469,
          452.341064453125,
          456.4895324707031,
          456.85394287109375,
          454.4844970703125,
          451.7046813964844,
          453.7896423339844,
          456.6569519042969,
          455.8624877929688,
          454.2856140136719,
          456.6235656738281,
          454.3442993164063,
          454.3219604492188,
          453.3758850097656,
          456.367919921875,
          449.6387634277344,
          451.1059265136719,
          453.0242614746094,
          456.8069458007813,
          455.2046203613281,
          456.3404235839844,
          455.9194946289063,
          452.8600463867188,
          450.1187438964844,
          451.8214416503906,
          452.0776977539063,
          455.2238159179688,
          454.5362854003906,
          454.1829223632813,
          455.4201965332031,
          452.3885803222656,
          452.6922607421875,
          452.4992980957031,
          453.8731384277344,
          454.7528076171875,
          453.5924072265625,
          452.1012573242188,
          451.6786193847656,
          453.4248046875,
          455.4963073730469,
          451.2117919921875,
          454.4321594238281,
          454.6155700683594,
          456.5887145996094,
          456.4746398925781,
          455.6865234375,
          450.9980163574219,
          454.084228515625,
          452.5714721679688,
          455.7052001953125,
          451.9728698730469,
          451.79107666015625,
          453.85736083984375,
          456.4966735839844,
          452.2589416503906,
          451.5794982910156,
          452.8929443359375,
          455.6047058105469,
          454.9889831542969,
          454.4968872070313,
          453.2344970703125,
          453.8321228027344,
          454.4871826171875,
          453.73138427734375,
          456.4396057128906,
          454.1131286621094,
          451.6912841796875,
          452.32366943359375,
          454.2433776855469,
          455.3338928222656,
          454.6752014160156,
          453.4431457519531,
          454.177490234375,
          453.71630859375,
          454.304931640625,
          455.4744262695313,
          453.9575500488281,
          455.0063781738281,
          454.953369140625,
          452.9822082519531,
          451.9669494628906,
          453.9296875,
          453.1775512695313,
          451.8225708007813,
          453.54681396484375,
          453.1594848632813,
          452.84173583984375,
          455.2000122070313,
          452.2096862792969,
          453.56048583984375,
          454.5726318359375,
          452.97076416015625,
          454.0574951171875,
          452.7417602539063,
          455.2062377929688,
          452.9812622070313,
          453.3078002929688,
          454.8495788574219,
          455.2233581542969,
          454.4392395019531,
          454.1025695800781,
          455.0115051269531,
          455.1153869628906,
          455.2695617675781,
          455.1991882324219,
          454.0815124511719,
          456.6395568847656,
          456.2744140625,
          455.809326171875,
          455.9472351074219,
          456.7048034667969,
          458.0118103027344,
          455.2369384765625,
          457.189697265625,
          457.6614685058594,
          456.158935546875,
          456.504638671875,
          454.8849487304688,
          454.6509704589844,
          453.3482360839844,
          453.1543273925781,
          456.2773132324219,
          455.1832275390625,
          452.9943237304688,
          453.9125061035156,
          454.8086853027344,
          453.7005615234375,
          455.372314453125,
          456.880615234375,
          454.9045104980469,
          455.7092590332031,
          453.7831115722656,
          454.2684020996094,
          456.43994140625,
          455.4280090332031,
          455.4814758300781,
          455.9581604003906,
          454.06060791015625,
          455.2465515136719,
          454.3258056640625,
          455.2471923828125,
          454.1530151367188,
          454.588134765625,
          454.5494079589844,
          454.419189453125,
          454.617919921875,
          455.0680541992188,
          454.8973083496094,
          455.9844970703125,
          456.1759338378906,
          453.9725646972656,
          456.15728759765625,
          456.0606384277344,
          455.3395080566406,
          453.78857421875,
          454.32757568359375,
          453.9080505371094,
          455.1754760742188,
          454.3345336914063,
          454.6264953613281,
          456.7517395019531,
          454.9822998046875,
          455.0071105957031,
          455.3810729980469,
          454.7077941894531,
          457.5900573730469,
          456.6477661132813,
          455.1234436035156,
          455.03167724609375,
          456.3750305175781,
          454.9116516113281,
          454.6682434082031,
          456.4126892089844,
          454.4646911621094,
          454.3522644042969,
          456.333740234375,
          455.7684326171875,
          455.21380615234375,
          455.9581909179688,
          454.63519287109375,
          454.4593811035156,
          455.9381103515625,
          456.5730590820313,
          456.1860656738281,
          454.17529296875,
          454.6918640136719,
          455.1136779785156,
          453.97314453125,
          455.8106689453125,
          455.8937683105469,
          453.0133666992188,
          454.8082885742188,
          454.8642578125,
          454.8450622558594,
          454.6077575683594,
          455.6599426269531,
          455.5477294921875,
          454.8741149902344,
          454.3696899414063,
          455.5159912109375,
          454.5293884277344,
          455.9059143066406,
          456.1645202636719,
          455.0305786132813,
          455.37451171875,
          455.03857421875,
          453.4351806640625,
          455.4526672363281,
          454.6742858886719,
          455.99798583984375,
          455.1211853027344,
          456.1805725097656,
          453.5474853515625,
          454.3889465332031,
          455.8655090332031,
          454.2034912109375,
          454.9237976074219,
          454.6819152832031,
          455.6935729980469,
          454.7681274414063,
          454.9557189941406,
          454.5634460449219,
          454.4009399414063,
          453.8116149902344,
          452.4509887695313,
          455.47900390625,
          455.30755615234375,
          454.4788208007813,
          456.1001892089844,
          454.4524230957031,
          453.4573059082031,
          454.6358947753906,
          454.6587219238281,
          454.8269958496094,
          455.6419067382813,
          455.1960754394531,
          455.4114074707031,
          454.0818786621094,
          455.2538146972656,
          455.1974487304688,
          454.983642578125,
          453.5164489746094,
          455.4296875,
          454.1384887695313,
          456.3830261230469,
          453.8729553222656,
          454.4963073730469,
          455.9439392089844,
          454.2524719238281,
          454.1805725097656,
          453.6979064941406,
          454.2914733886719,
          453.5741882324219,
          452.67388916015625,
          454.6653137207031,
          455.8049926757813,
          454.9196472167969,
          453.8189392089844,
          453.5359497070313,
          454.5196228027344,
          453.1675109863281,
          453.2476806640625,
          455.8130187988281,
          454.5498046875,
          454.7474365234375,
          454.01556396484375,
          456.1148681640625,
          452.3395690917969,
          453.4746398925781,
          456.7330627441406,
          455.1893615722656,
          453.768798828125,
          454.6069946289063,
          454.660888671875,
          455.78656005859375,
          455.5283203125,
          454.29144287109375,
          456.4586181640625,
          454.7672119140625,
          454.62255859375,
          454.2946166992188,
          454.4696350097656,
          452.7009887695313,
          454.5425720214844,
          455.0779418945313,
          455.9560546875,
          454.8434448242188,
          455.5298156738281,
          455.8752136230469,
          455.2228393554688,
          453.2633056640625,
          454.8055725097656,
          455.3410034179688,
          455.5553588867188,
          453.9275817871094,
          454.9447937011719,
          454.2525024414063,
          455.3903198242188,
          454.9794616699219,
          455.7078857421875,
          454.4675598144531
         ]
        }
       ],
       "layout": {
        "autosize": true,
        "font": {
         "size": 20
        },
        "template": {
         "data": {
          "bar": [
           {
            "error_x": {
             "color": "rgb(36,36,36)"
            },
            "error_y": {
             "color": "rgb(36,36,36)"
            },
            "marker": {
             "line": {
              "color": "white",
              "width": 0.5
             },
             "pattern": {
              "fillmode": "overlay",
              "size": 10,
              "solidity": 0.2
             }
            },
            "type": "bar"
           }
          ],
          "barpolar": [
           {
            "marker": {
             "line": {
              "color": "white",
              "width": 0.5
             },
             "pattern": {
              "fillmode": "overlay",
              "size": 10,
              "solidity": 0.2
             }
            },
            "type": "barpolar"
           }
          ],
          "carpet": [
           {
            "aaxis": {
             "endlinecolor": "rgb(36,36,36)",
             "gridcolor": "white",
             "linecolor": "white",
             "minorgridcolor": "white",
             "startlinecolor": "rgb(36,36,36)"
            },
            "baxis": {
             "endlinecolor": "rgb(36,36,36)",
             "gridcolor": "white",
             "linecolor": "white",
             "minorgridcolor": "white",
             "startlinecolor": "rgb(36,36,36)"
            },
            "type": "carpet"
           }
          ],
          "choropleth": [
           {
            "colorbar": {
             "outlinewidth": 1,
             "tickcolor": "rgb(36,36,36)",
             "ticks": "outside"
            },
            "type": "choropleth"
           }
          ],
          "contour": [
           {
            "colorbar": {
             "outlinewidth": 1,
             "tickcolor": "rgb(36,36,36)",
             "ticks": "outside"
            },
            "colorscale": [
             [
              0,
              "#440154"
             ],
             [
              0.1111111111111111,
              "#482878"
             ],
             [
              0.2222222222222222,
              "#3e4989"
             ],
             [
              0.3333333333333333,
              "#31688e"
             ],
             [
              0.4444444444444444,
              "#26828e"
             ],
             [
              0.5555555555555556,
              "#1f9e89"
             ],
             [
              0.6666666666666666,
              "#35b779"
             ],
             [
              0.7777777777777778,
              "#6ece58"
             ],
             [
              0.8888888888888888,
              "#b5de2b"
             ],
             [
              1,
              "#fde725"
             ]
            ],
            "type": "contour"
           }
          ],
          "contourcarpet": [
           {
            "colorbar": {
             "outlinewidth": 1,
             "tickcolor": "rgb(36,36,36)",
             "ticks": "outside"
            },
            "type": "contourcarpet"
           }
          ],
          "heatmap": [
           {
            "colorbar": {
             "outlinewidth": 1,
             "tickcolor": "rgb(36,36,36)",
             "ticks": "outside"
            },
            "colorscale": [
             [
              0,
              "#440154"
             ],
             [
              0.1111111111111111,
              "#482878"
             ],
             [
              0.2222222222222222,
              "#3e4989"
             ],
             [
              0.3333333333333333,
              "#31688e"
             ],
             [
              0.4444444444444444,
              "#26828e"
             ],
             [
              0.5555555555555556,
              "#1f9e89"
             ],
             [
              0.6666666666666666,
              "#35b779"
             ],
             [
              0.7777777777777778,
              "#6ece58"
             ],
             [
              0.8888888888888888,
              "#b5de2b"
             ],
             [
              1,
              "#fde725"
             ]
            ],
            "type": "heatmap"
           }
          ],
          "heatmapgl": [
           {
            "colorbar": {
             "outlinewidth": 1,
             "tickcolor": "rgb(36,36,36)",
             "ticks": "outside"
            },
            "colorscale": [
             [
              0,
              "#440154"
             ],
             [
              0.1111111111111111,
              "#482878"
             ],
             [
              0.2222222222222222,
              "#3e4989"
             ],
             [
              0.3333333333333333,
              "#31688e"
             ],
             [
              0.4444444444444444,
              "#26828e"
             ],
             [
              0.5555555555555556,
              "#1f9e89"
             ],
             [
              0.6666666666666666,
              "#35b779"
             ],
             [
              0.7777777777777778,
              "#6ece58"
             ],
             [
              0.8888888888888888,
              "#b5de2b"
             ],
             [
              1,
              "#fde725"
             ]
            ],
            "type": "heatmapgl"
           }
          ],
          "histogram": [
           {
            "marker": {
             "line": {
              "color": "white",
              "width": 0.6
             }
            },
            "type": "histogram"
           }
          ],
          "histogram2d": [
           {
            "colorbar": {
             "outlinewidth": 1,
             "tickcolor": "rgb(36,36,36)",
             "ticks": "outside"
            },
            "colorscale": [
             [
              0,
              "#440154"
             ],
             [
              0.1111111111111111,
              "#482878"
             ],
             [
              0.2222222222222222,
              "#3e4989"
             ],
             [
              0.3333333333333333,
              "#31688e"
             ],
             [
              0.4444444444444444,
              "#26828e"
             ],
             [
              0.5555555555555556,
              "#1f9e89"
             ],
             [
              0.6666666666666666,
              "#35b779"
             ],
             [
              0.7777777777777778,
              "#6ece58"
             ],
             [
              0.8888888888888888,
              "#b5de2b"
             ],
             [
              1,
              "#fde725"
             ]
            ],
            "type": "histogram2d"
           }
          ],
          "histogram2dcontour": [
           {
            "colorbar": {
             "outlinewidth": 1,
             "tickcolor": "rgb(36,36,36)",
             "ticks": "outside"
            },
            "colorscale": [
             [
              0,
              "#440154"
             ],
             [
              0.1111111111111111,
              "#482878"
             ],
             [
              0.2222222222222222,
              "#3e4989"
             ],
             [
              0.3333333333333333,
              "#31688e"
             ],
             [
              0.4444444444444444,
              "#26828e"
             ],
             [
              0.5555555555555556,
              "#1f9e89"
             ],
             [
              0.6666666666666666,
              "#35b779"
             ],
             [
              0.7777777777777778,
              "#6ece58"
             ],
             [
              0.8888888888888888,
              "#b5de2b"
             ],
             [
              1,
              "#fde725"
             ]
            ],
            "type": "histogram2dcontour"
           }
          ],
          "mesh3d": [
           {
            "colorbar": {
             "outlinewidth": 1,
             "tickcolor": "rgb(36,36,36)",
             "ticks": "outside"
            },
            "type": "mesh3d"
           }
          ],
          "parcoords": [
           {
            "line": {
             "colorbar": {
              "outlinewidth": 1,
              "tickcolor": "rgb(36,36,36)",
              "ticks": "outside"
             }
            },
            "type": "parcoords"
           }
          ],
          "pie": [
           {
            "automargin": true,
            "type": "pie"
           }
          ],
          "scatter": [
           {
            "fillpattern": {
             "fillmode": "overlay",
             "size": 10,
             "solidity": 0.2
            },
            "type": "scatter"
           }
          ],
          "scatter3d": [
           {
            "line": {
             "colorbar": {
              "outlinewidth": 1,
              "tickcolor": "rgb(36,36,36)",
              "ticks": "outside"
             }
            },
            "marker": {
             "colorbar": {
              "outlinewidth": 1,
              "tickcolor": "rgb(36,36,36)",
              "ticks": "outside"
             }
            },
            "type": "scatter3d"
           }
          ],
          "scattercarpet": [
           {
            "marker": {
             "colorbar": {
              "outlinewidth": 1,
              "tickcolor": "rgb(36,36,36)",
              "ticks": "outside"
             }
            },
            "type": "scattercarpet"
           }
          ],
          "scattergeo": [
           {
            "marker": {
             "colorbar": {
              "outlinewidth": 1,
              "tickcolor": "rgb(36,36,36)",
              "ticks": "outside"
             }
            },
            "type": "scattergeo"
           }
          ],
          "scattergl": [
           {
            "marker": {
             "colorbar": {
              "outlinewidth": 1,
              "tickcolor": "rgb(36,36,36)",
              "ticks": "outside"
             }
            },
            "type": "scattergl"
           }
          ],
          "scattermapbox": [
           {
            "marker": {
             "colorbar": {
              "outlinewidth": 1,
              "tickcolor": "rgb(36,36,36)",
              "ticks": "outside"
             }
            },
            "type": "scattermapbox"
           }
          ],
          "scatterpolar": [
           {
            "marker": {
             "colorbar": {
              "outlinewidth": 1,
              "tickcolor": "rgb(36,36,36)",
              "ticks": "outside"
             }
            },
            "type": "scatterpolar"
           }
          ],
          "scatterpolargl": [
           {
            "marker": {
             "colorbar": {
              "outlinewidth": 1,
              "tickcolor": "rgb(36,36,36)",
              "ticks": "outside"
             }
            },
            "type": "scatterpolargl"
           }
          ],
          "scatterternary": [
           {
            "marker": {
             "colorbar": {
              "outlinewidth": 1,
              "tickcolor": "rgb(36,36,36)",
              "ticks": "outside"
             }
            },
            "type": "scatterternary"
           }
          ],
          "surface": [
           {
            "colorbar": {
             "outlinewidth": 1,
             "tickcolor": "rgb(36,36,36)",
             "ticks": "outside"
            },
            "colorscale": [
             [
              0,
              "#440154"
             ],
             [
              0.1111111111111111,
              "#482878"
             ],
             [
              0.2222222222222222,
              "#3e4989"
             ],
             [
              0.3333333333333333,
              "#31688e"
             ],
             [
              0.4444444444444444,
              "#26828e"
             ],
             [
              0.5555555555555556,
              "#1f9e89"
             ],
             [
              0.6666666666666666,
              "#35b779"
             ],
             [
              0.7777777777777778,
              "#6ece58"
             ],
             [
              0.8888888888888888,
              "#b5de2b"
             ],
             [
              1,
              "#fde725"
             ]
            ],
            "type": "surface"
           }
          ],
          "table": [
           {
            "cells": {
             "fill": {
              "color": "rgb(237,237,237)"
             },
             "line": {
              "color": "white"
             }
            },
            "header": {
             "fill": {
              "color": "rgb(217,217,217)"
             },
             "line": {
              "color": "white"
             }
            },
            "type": "table"
           }
          ]
         },
         "layout": {
          "annotationdefaults": {
           "arrowhead": 0,
           "arrowwidth": 1
          },
          "autotypenumbers": "strict",
          "coloraxis": {
           "colorbar": {
            "outlinewidth": 1,
            "tickcolor": "rgb(36,36,36)",
            "ticks": "outside"
           }
          },
          "colorscale": {
           "diverging": [
            [
             0,
             "rgb(103,0,31)"
            ],
            [
             0.1,
             "rgb(178,24,43)"
            ],
            [
             0.2,
             "rgb(214,96,77)"
            ],
            [
             0.3,
             "rgb(244,165,130)"
            ],
            [
             0.4,
             "rgb(253,219,199)"
            ],
            [
             0.5,
             "rgb(247,247,247)"
            ],
            [
             0.6,
             "rgb(209,229,240)"
            ],
            [
             0.7,
             "rgb(146,197,222)"
            ],
            [
             0.8,
             "rgb(67,147,195)"
            ],
            [
             0.9,
             "rgb(33,102,172)"
            ],
            [
             1,
             "rgb(5,48,97)"
            ]
           ],
           "sequential": [
            [
             0,
             "#440154"
            ],
            [
             0.1111111111111111,
             "#482878"
            ],
            [
             0.2222222222222222,
             "#3e4989"
            ],
            [
             0.3333333333333333,
             "#31688e"
            ],
            [
             0.4444444444444444,
             "#26828e"
            ],
            [
             0.5555555555555556,
             "#1f9e89"
            ],
            [
             0.6666666666666666,
             "#35b779"
            ],
            [
             0.7777777777777778,
             "#6ece58"
            ],
            [
             0.8888888888888888,
             "#b5de2b"
            ],
            [
             1,
             "#fde725"
            ]
           ],
           "sequentialminus": [
            [
             0,
             "#440154"
            ],
            [
             0.1111111111111111,
             "#482878"
            ],
            [
             0.2222222222222222,
             "#3e4989"
            ],
            [
             0.3333333333333333,
             "#31688e"
            ],
            [
             0.4444444444444444,
             "#26828e"
            ],
            [
             0.5555555555555556,
             "#1f9e89"
            ],
            [
             0.6666666666666666,
             "#35b779"
            ],
            [
             0.7777777777777778,
             "#6ece58"
            ],
            [
             0.8888888888888888,
             "#b5de2b"
            ],
            [
             1,
             "#fde725"
            ]
           ]
          },
          "colorway": [
           "#1F77B4",
           "#FF7F0E",
           "#2CA02C",
           "#D62728",
           "#9467BD",
           "#8C564B",
           "#E377C2",
           "#7F7F7F",
           "#BCBD22",
           "#17BECF"
          ],
          "font": {
           "color": "rgb(36,36,36)"
          },
          "geo": {
           "bgcolor": "white",
           "lakecolor": "white",
           "landcolor": "white",
           "showlakes": true,
           "showland": true,
           "subunitcolor": "white"
          },
          "hoverlabel": {
           "align": "left"
          },
          "hovermode": "closest",
          "mapbox": {
           "style": "light"
          },
          "paper_bgcolor": "white",
          "plot_bgcolor": "white",
          "polar": {
           "angularaxis": {
            "gridcolor": "rgb(232,232,232)",
            "linecolor": "rgb(36,36,36)",
            "showgrid": false,
            "showline": true,
            "ticks": "outside"
           },
           "bgcolor": "white",
           "radialaxis": {
            "gridcolor": "rgb(232,232,232)",
            "linecolor": "rgb(36,36,36)",
            "showgrid": false,
            "showline": true,
            "ticks": "outside"
           }
          },
          "scene": {
           "xaxis": {
            "backgroundcolor": "white",
            "gridcolor": "rgb(232,232,232)",
            "gridwidth": 2,
            "linecolor": "rgb(36,36,36)",
            "showbackground": true,
            "showgrid": false,
            "showline": true,
            "ticks": "outside",
            "zeroline": false,
            "zerolinecolor": "rgb(36,36,36)"
           },
           "yaxis": {
            "backgroundcolor": "white",
            "gridcolor": "rgb(232,232,232)",
            "gridwidth": 2,
            "linecolor": "rgb(36,36,36)",
            "showbackground": true,
            "showgrid": false,
            "showline": true,
            "ticks": "outside",
            "zeroline": false,
            "zerolinecolor": "rgb(36,36,36)"
           },
           "zaxis": {
            "backgroundcolor": "white",
            "gridcolor": "rgb(232,232,232)",
            "gridwidth": 2,
            "linecolor": "rgb(36,36,36)",
            "showbackground": true,
            "showgrid": false,
            "showline": true,
            "ticks": "outside",
            "zeroline": false,
            "zerolinecolor": "rgb(36,36,36)"
           }
          },
          "shapedefaults": {
           "fillcolor": "black",
           "line": {
            "width": 0
           },
           "opacity": 0.3
          },
          "ternary": {
           "aaxis": {
            "gridcolor": "rgb(232,232,232)",
            "linecolor": "rgb(36,36,36)",
            "showgrid": false,
            "showline": true,
            "ticks": "outside"
           },
           "baxis": {
            "gridcolor": "rgb(232,232,232)",
            "linecolor": "rgb(36,36,36)",
            "showgrid": false,
            "showline": true,
            "ticks": "outside"
           },
           "bgcolor": "white",
           "caxis": {
            "gridcolor": "rgb(232,232,232)",
            "linecolor": "rgb(36,36,36)",
            "showgrid": false,
            "showline": true,
            "ticks": "outside"
           }
          },
          "title": {
           "x": 0.05
          },
          "xaxis": {
           "automargin": true,
           "gridcolor": "rgb(232,232,232)",
           "linecolor": "rgb(36,36,36)",
           "showgrid": false,
           "showline": true,
           "ticks": "outside",
           "title": {
            "standoff": 15
           },
           "zeroline": false,
           "zerolinecolor": "rgb(36,36,36)"
          },
          "yaxis": {
           "automargin": true,
           "gridcolor": "rgb(232,232,232)",
           "linecolor": "rgb(36,36,36)",
           "showgrid": false,
           "showline": true,
           "ticks": "outside",
           "title": {
            "standoff": 15
           },
           "zeroline": false,
           "zerolinecolor": "rgb(36,36,36)"
          }
         }
        },
        "xaxis": {
         "showgrid": false,
         "title": {
          "text": "Epoch"
         }
        },
        "yaxis": {
         "showgrid": false
        }
       }
      }
     },
     "metadata": {},
     "output_type": "display_data"
    }
   ],
   "source": [
    "lr_val = go.Scatter(\n",
    "    x=df_lr_epochs_first.index,\n",
    "    y=df_lr_epochs_first[\"val/loss/shg_tensor_full\"],\n",
    "    mode=\"lines+markers\",\n",
    "    name=\"Validation loss\",\n",
    "    showlegend=True,\n",
    ")\n",
    "lr_train = go.Scatter(\n",
    "    x=df_lr_epochs_second.index,\n",
    "    y=df_lr_epochs_second[\"train/loss/shg_tensor_full\"],\n",
    "    mode=\"lines+markers\",\n",
    "    name=\"Train loss\",\n",
    "    showlegend=True,\n",
    ")\n",
    "\n",
    "# Layout\n",
    "layout = go.Layout(\n",
    "    # title=dict(text='Scatter Plot'),\n",
    "    xaxis=dict(title=\"Epoch\"),\n",
    "    # yaxis=dict(title='<i>d&#770;</i><sub>KP</sub> (pm/V)', range=[-5,180]),\n",
    "    # legend=dict(font=dict(size=12)),\n",
    ")\n",
    "\n",
    "# Create figure\n",
    "fig = go.Figure(data=[lr_train, lr_val], layout=layout)\n",
    "\n",
    "fig.update_layout(\n",
    "    autosize=True,\n",
    "    font_size=20,\n",
    "    # width=600,\n",
    "    # height=600,\n",
    "    # plot_bgcolor=\"white\",\n",
    "    template=\"simple_white\",\n",
    ")\n",
    "fig.update_layout(\n",
    "    xaxis=dict(\n",
    "        # tickmode = 'array',\n",
    "        # tickvals = [1, 2,3,4,5,6,7,8],\n",
    "        # ticktext = ['One', 'Three', 'Five', 'Seven', 'Nine', 'Eleven']\n",
    "        showgrid=False,\n",
    "    ),\n",
    "    yaxis=dict(\n",
    "        # tickmode = 'array',\n",
    "        # tickvals = [1, 2,3,4,5,6,7,8],\n",
    "        # ticktext = ['One', 'Three', 'Five', 'Seven', 'Nine', 'Eleven']\n",
    "        showgrid=False,\n",
    "    ),\n",
    ")\n",
    "\n",
    "# Show figure\n",
    "fig.show()"
   ]
  },
  {
   "cell_type": "markdown",
   "metadata": {},
   "source": [
    "## MAE"
   ]
  },
  {
   "cell_type": "code",
   "execution_count": 8,
   "metadata": {},
   "outputs": [
    {
     "data": {
      "application/vnd.plotly.v1+json": {
       "config": {
        "plotlyServerURL": "https://plot.ly"
       },
       "data": [
        {
         "mode": "lines+markers",
         "name": "Validation loss",
         "showlegend": true,
         "type": "scatter",
         "x": [
          0,
          1,
          2,
          3,
          4,
          5,
          6,
          7,
          8,
          9,
          10,
          11,
          12,
          13,
          14,
          15,
          16,
          17,
          18,
          19,
          20,
          21,
          22,
          23,
          24,
          25,
          26,
          27,
          28,
          29,
          30,
          31,
          32,
          33,
          34,
          35,
          36,
          37,
          38,
          39,
          40,
          41,
          42,
          43,
          44,
          45,
          46,
          47,
          48,
          49,
          50,
          51,
          52,
          53,
          54,
          55,
          56,
          57,
          58,
          59,
          60,
          61,
          62,
          63,
          64,
          65,
          66,
          67,
          68,
          69,
          70,
          71,
          72,
          73,
          74,
          75,
          76,
          77,
          78,
          79,
          80,
          81,
          82,
          83,
          84,
          85,
          86,
          87,
          88,
          89,
          90,
          91,
          92,
          93,
          94,
          95,
          96,
          97,
          98,
          99,
          100,
          101,
          102,
          103,
          104,
          105,
          106,
          107,
          108,
          109,
          110,
          111,
          112,
          113,
          114,
          115,
          116,
          117,
          118,
          119,
          120,
          121,
          122,
          123,
          124,
          125,
          126,
          127,
          128,
          129,
          130,
          131,
          132,
          133,
          134,
          135,
          136,
          137,
          138,
          139,
          140,
          141,
          142,
          143,
          144,
          145,
          146,
          147,
          148,
          149,
          150,
          151,
          152,
          153,
          154,
          155,
          156,
          157,
          158,
          159,
          160,
          161,
          162,
          163,
          164,
          165,
          166,
          167,
          168,
          169,
          170,
          171,
          172,
          173,
          174,
          175,
          176,
          177,
          178,
          179,
          180,
          181,
          182,
          183,
          184,
          185,
          186,
          187,
          188,
          189,
          190,
          191,
          192,
          193,
          194,
          195,
          196,
          197,
          198,
          199,
          200,
          201,
          202,
          203,
          204,
          205,
          206,
          207,
          208,
          209,
          210,
          211,
          212,
          213,
          214,
          215,
          216,
          217,
          218,
          219,
          220,
          221,
          222,
          223,
          224,
          225,
          226,
          227,
          228,
          229,
          230,
          231,
          232,
          233,
          234,
          235,
          236,
          237,
          238,
          239,
          240,
          241,
          242,
          243,
          244,
          245,
          246,
          247,
          248,
          249,
          250,
          251,
          252,
          253,
          254,
          255,
          256,
          257,
          258,
          259,
          260,
          261,
          262,
          263,
          264,
          265,
          266,
          267,
          268,
          269,
          270,
          271,
          272,
          273,
          274,
          275,
          276,
          277,
          278,
          279,
          280,
          281,
          282,
          283,
          284,
          285,
          286,
          287,
          288,
          289,
          290,
          291,
          292,
          293,
          294,
          295,
          296,
          297,
          298,
          299,
          300,
          301,
          302,
          303,
          304,
          305,
          306,
          307,
          308,
          309,
          310,
          311,
          312,
          313,
          314,
          315,
          316,
          317,
          318,
          319,
          320,
          321,
          322,
          323,
          324,
          325,
          326,
          327,
          328,
          329,
          330,
          331,
          332,
          333,
          334,
          335,
          336,
          337,
          338,
          339,
          340,
          341,
          342,
          343,
          344,
          345,
          346,
          347,
          348,
          349,
          350,
          351,
          352,
          353,
          354,
          355,
          356,
          357,
          358,
          359,
          360,
          361,
          362,
          363,
          364,
          365,
          366,
          367,
          368,
          369,
          370,
          371,
          372,
          373,
          374,
          375,
          376,
          377,
          378,
          379,
          380,
          381,
          382,
          383,
          384,
          385,
          386,
          387,
          388,
          389,
          390,
          391,
          392,
          393,
          394,
          395,
          396,
          397,
          398,
          399,
          400,
          401,
          402,
          403,
          404,
          405,
          406,
          407,
          408,
          409,
          410,
          411,
          412,
          413,
          414,
          415,
          416,
          417,
          418,
          419,
          420,
          421,
          422,
          423,
          424,
          425,
          426,
          427,
          428,
          429,
          430,
          431,
          432,
          433,
          434,
          435,
          436,
          437,
          438,
          439,
          440,
          441,
          442,
          443,
          444,
          445,
          446,
          447,
          448,
          449,
          450,
          451,
          452,
          453,
          454,
          455,
          456,
          457,
          458,
          459,
          460,
          461,
          462,
          463,
          464,
          465,
          466,
          467,
          468,
          469,
          470,
          471,
          472,
          473,
          474,
          475,
          476,
          477,
          478,
          479,
          480,
          481,
          482,
          483,
          484,
          485,
          486,
          487,
          488,
          489,
          490,
          491,
          492,
          493,
          494,
          495,
          496,
          497,
          498,
          499
         ],
         "y": [
          5.384732723236084,
          5.390065670013428,
          5.384057998657227,
          5.165682792663574,
          5.379537582397461,
          5.046086311340332,
          5.048494338989258,
          5.036776542663574,
          4.935649871826172,
          4.809494972229004,
          4.888532638549805,
          4.878542900085449,
          4.922534465789795,
          4.807946681976318,
          4.812798500061035,
          5.24357271194458,
          4.896275043487549,
          4.971815586090088,
          4.971438884735107,
          4.845423221588135,
          4.972797870635986,
          4.948931694030762,
          4.9151763916015625,
          4.9425201416015625,
          4.9062933921813965,
          4.960007190704346,
          4.939963340759277,
          5.0200629234313965,
          4.831639766693115,
          4.971814632415772,
          4.9943461418151855,
          5.208639144897461,
          4.943642139434815,
          4.959325313568115,
          5.134235858917236,
          4.8871259689331055,
          4.959408283233643,
          4.9727783203125,
          5.14095401763916,
          4.944284439086914,
          4.945806503295898,
          4.86663293838501,
          4.988389015197754,
          4.813510894775391,
          5.039508819580078,
          5.09019136428833,
          4.991886138916016,
          4.920778751373291,
          5.003686428070068,
          4.936491966247559,
          5.008950233459473,
          4.997473239898682,
          4.986244201660156,
          4.986829280853272,
          5.001330852508545,
          5.040318965911865,
          4.997154712677002,
          4.962498664855957,
          4.934512615203857,
          5.135887145996094,
          4.927391529083252,
          5.028124809265137,
          5.132237911224365,
          5.030639171600342,
          4.88407564163208,
          4.919396877288818,
          4.952006816864014,
          4.927675724029541,
          4.939498424530029,
          5.045324802398682,
          4.9935712814331055,
          5.00333833694458,
          4.948582649230957,
          4.959416389465332,
          5.027103900909424,
          4.979964733123779,
          5.012311935424805,
          4.962085247039795,
          5.050219058990479,
          5.047179222106934,
          5.036356925964356,
          5.067943096160889,
          5.071628093719482,
          4.984823226928711,
          5.053159713745117,
          5.016561031341553,
          5.101025581359863,
          5.028855323791504,
          5.020418643951416,
          5.01078987121582,
          5.037094593048096,
          5.110537528991699,
          5.065829277038574,
          5.042015075683594,
          5.036402225494385,
          5.008273601531982,
          4.99692964553833,
          5.003658771514893,
          5.010881423950195,
          5.10224199295044,
          5.074286937713623,
          5.112782001495361,
          5.058002471923828,
          5.074525833129883,
          5.033721923828125,
          5.09741735458374,
          5.082101345062256,
          5.043059349060059,
          5.086113929748535,
          5.0759382247924805,
          5.044105052947998,
          5.046140193939209,
          5.0311665534973145,
          5.0833892822265625,
          5.079039096832275,
          5.016317844390869,
          5.0369391441345215,
          5.028395652770996,
          5.0052642822265625,
          5.0672607421875,
          5.064006805419922,
          5.034055233001709,
          5.098283290863037,
          5.067914009094238,
          5.0797648429870605,
          5.068089962005615,
          5.068347454071045,
          5.105916976928711,
          5.032592296600342,
          5.070857048034668,
          5.080101490020752,
          5.063760757446289,
          5.084332942962647,
          5.055234909057617,
          5.03588342666626,
          5.089897632598877,
          5.082760810852051,
          5.11743688583374,
          5.055560111999512,
          5.0875396728515625,
          5.069205284118652,
          5.137156486511231,
          5.086096286773682,
          5.034135341644287,
          5.105895519256592,
          5.082948207855225,
          5.039914131164551,
          5.057918071746826,
          5.069252967834473,
          5.03883695602417,
          5.086893081665039,
          5.080134868621826,
          5.054781436920166,
          5.016859531402588,
          5.090895175933838,
          5.0887298583984375,
          5.066507816314697,
          5.072728157043457,
          5.099850654602051,
          5.075129508972168,
          5.07655143737793,
          5.0716400146484375,
          5.0501017570495605,
          5.030642986297607,
          5.062300682067871,
          5.027888298034668,
          5.066349029541016,
          5.020101547241211,
          5.034538745880127,
          5.0409674644470215,
          5.032675743103027,
          5.03972864151001,
          5.049497604370117,
          5.063345432281494,
          5.032198429107666,
          5.066049098968506,
          5.049492359161377,
          5.050072193145752,
          5.059033393859863,
          5.058597087860107,
          5.065715312957764,
          5.050296306610107,
          5.050129890441895,
          5.061544895172119,
          5.044185161590576,
          5.073729038238525,
          5.053396701812744,
          5.07053804397583,
          5.02955961227417,
          5.085147857666016,
          5.06478214263916,
          5.071488857269287,
          5.054884433746338,
          5.054543972015381,
          5.05790901184082,
          5.070607662200928,
          5.055840492248535,
          5.034811496734619,
          5.037253856658936,
          5.031985759735107,
          5.045433521270752,
          5.053755283355713,
          5.075554370880127,
          5.051690101623535,
          5.062013149261475,
          5.047068119049072,
          5.08707857131958,
          5.070767879486084,
          5.0676774978637695,
          5.0817389488220215,
          5.055200099945068,
          5.069851398468018,
          5.082966327667236,
          5.098696708679199,
          5.04900598526001,
          5.04518461227417,
          5.054836750030518,
          5.05654239654541,
          5.049787998199463,
          5.060129165649414,
          5.061567306518555,
          5.053502559661865,
          5.058661460876465,
          5.044910907745361,
          5.061801910400391,
          5.063706874847412,
          5.060100555419922,
          5.06832218170166,
          5.072463512420654,
          5.060925960540772,
          5.069976329803467,
          5.05529260635376,
          5.064831256866455,
          5.0748291015625,
          5.070466995239258,
          5.0684814453125,
          5.058619499206543,
          5.050020217895508,
          5.06239128112793,
          5.0546488761901855,
          5.057677268981934,
          5.065221786499023,
          5.070675849914551,
          5.084691524505615,
          5.086025714874268,
          5.06140661239624,
          5.105843544006348,
          5.078938484191895,
          5.087801933288574,
          5.083450794219971,
          5.079692840576172,
          5.092526435852051,
          5.116275310516357,
          5.075158596038818,
          5.06705904006958,
          5.077045440673828,
          5.092736721038818,
          5.085963249206543,
          5.094117164611816,
          5.080394744873047,
          5.092589378356934,
          5.088850975036621,
          5.0734052658081055,
          5.088571071624756,
          5.076457500457764,
          5.048634052276611,
          5.064114093780518,
          5.0757904052734375,
          5.086732864379883,
          5.085160255432129,
          5.075417518615723,
          5.077283382415772,
          5.080714702606201,
          5.08791971206665,
          5.079676151275635,
          5.084797859191895,
          5.081153869628906,
          5.0823845863342285,
          5.092453002929688,
          5.083827972412109,
          5.099214553833008,
          5.080783367156982,
          5.093567848205566,
          5.0899858474731445,
          5.101955413818359,
          5.085493087768555,
          5.09178352355957,
          5.085953235626221,
          5.084071636199951,
          5.096916198730469,
          5.075853824615479,
          5.08935022354126,
          5.074410438537598,
          5.090944766998291,
          5.086500644683838,
          5.089094161987305,
          5.094802379608154,
          5.097499847412109,
          5.085782051086426,
          5.090264320373535,
          5.087576389312744,
          5.090004920959473,
          5.086850166320801,
          5.100647449493408,
          5.102164268493652,
          5.109976768493652,
          5.1095499992370605,
          5.112527847290039,
          5.113358497619629,
          5.105170249938965,
          5.114881992340088,
          5.097710609436035,
          5.106014251708984,
          5.096514701843262,
          5.101248741149902,
          5.107007026672363,
          5.091648578643799,
          5.095758438110352,
          5.09492826461792,
          5.084071159362793,
          5.121048927307129,
          5.109217166900635,
          5.094735622406006,
          5.092957019805908,
          5.101071834564209,
          5.082610130310059,
          5.117758750915527,
          5.1197428703308105,
          5.106146812438965,
          5.106977462768555,
          5.10426664352417,
          5.101978302001953,
          5.110810279846191,
          5.110240459442139,
          5.111650943756104,
          5.116220951080322,
          5.105655193328857,
          5.1011962890625,
          5.094490051269531,
          5.103984832763672,
          5.096873283386231,
          5.098604679107666,
          5.110034465789795,
          5.110302925109863,
          5.10545015335083,
          5.096283912658691,
          5.100301265716553,
          5.115093231201172,
          5.100037574768066,
          5.099387645721436,
          5.117275714874268,
          5.119109153747559,
          5.101165771484375,
          5.0949530601501465,
          5.102190017700195,
          5.097586631774902,
          5.103663444519043,
          5.110547065734863,
          5.101947784423828,
          5.113280296325684,
          5.100700855255127,
          5.113877773284912,
          5.099137306213379,
          5.102259159088135,
          5.124856472015381,
          5.123355388641357,
          5.105141639709473,
          5.098188400268555,
          5.127846717834473,
          5.11335039138794,
          5.094640731811523,
          5.108205318450928,
          5.093620300292969,
          5.088993549346924,
          5.100770473480225,
          5.096259593963623,
          5.110148906707764,
          5.113058567047119,
          5.10714864730835,
          5.094649314880371,
          5.109866142272949,
          5.118565082550049,
          5.118754863739014,
          5.095645427703857,
          5.112913608551025,
          5.112122535705566,
          5.101142883300781,
          5.106899261474609,
          5.121956825256348,
          5.101053237915039,
          5.108158111572266,
          5.112009525299072,
          5.106632232666016,
          5.107873439788818,
          5.097925186157227,
          5.115722179412842,
          5.106189727783203,
          5.097604274749756,
          5.1071858406066895,
          5.111850738525391,
          5.11805534362793,
          5.115878582000732,
          5.107433795928955,
          5.118514537811279,
          5.0965352058410645,
          5.097187042236328,
          5.110285758972168,
          5.111203670501709,
          5.118042469024658,
          5.11068868637085,
          5.114636898040772,
          5.089200973510742,
          5.106668949127197,
          5.117764472961426,
          5.098050594329834,
          5.110275745391846,
          5.119519233703613,
          5.115684509277344,
          5.115805625915527,
          5.118731021881104,
          5.103361129760742,
          5.115245342254639,
          5.101934432983398,
          5.09061336517334,
          5.105698585510254,
          5.119473934173584,
          5.10860013961792,
          5.111689567565918,
          5.108197212219238,
          5.113005638122559,
          5.108713150024414,
          5.106179714202881,
          5.112903594970703,
          5.131063938140869,
          5.112367630004883,
          5.113483428955078,
          5.102941036224365,
          5.11278772354126,
          5.110870838165283,
          5.102752685546875,
          5.0994720458984375,
          5.112567901611328,
          5.088383674621582,
          5.117736339569092,
          5.106468677520752,
          5.104361057281494,
          5.114299774169922,
          5.10087251663208,
          5.104424953460693,
          5.100419521331787,
          5.107149600982666,
          5.100000381469727,
          5.092101573944092,
          5.118416786193848,
          5.107105255126953,
          5.110071182250977,
          5.111279487609863,
          5.1145124435424805,
          5.10844612121582,
          5.1134352684021,
          5.101956844329834,
          5.106938362121582,
          5.104199409484863,
          5.112897872924805,
          5.088659286499023,
          5.117897033691406,
          5.100227355957031,
          5.107490539550781,
          5.134085178375244,
          5.118957996368408,
          5.101956844329834,
          5.103698253631592,
          5.116581916809082,
          5.1076273918151855,
          5.11216402053833,
          5.105489730834961,
          5.125013828277588,
          5.1135125160217285,
          5.104496955871582,
          5.105752944946289,
          5.110101699829102,
          5.112448692321777,
          5.11173677444458,
          5.106313705444336,
          5.122796535491943,
          5.113260746002197,
          5.112289905548096,
          5.126040458679199,
          5.113668918609619,
          5.104076862335205,
          5.108926773071289,
          5.1092634201049805,
          5.10183048248291,
          5.112895488739014,
          5.113956451416016,
          5.109987258911133,
          5.099011898040772,
          5.115271091461182,
          5.1125807762146,
          5.110283374786377
         ]
        }
       ],
       "layout": {
        "autosize": true,
        "font": {
         "size": 20
        },
        "template": {
         "data": {
          "bar": [
           {
            "error_x": {
             "color": "rgb(36,36,36)"
            },
            "error_y": {
             "color": "rgb(36,36,36)"
            },
            "marker": {
             "line": {
              "color": "white",
              "width": 0.5
             },
             "pattern": {
              "fillmode": "overlay",
              "size": 10,
              "solidity": 0.2
             }
            },
            "type": "bar"
           }
          ],
          "barpolar": [
           {
            "marker": {
             "line": {
              "color": "white",
              "width": 0.5
             },
             "pattern": {
              "fillmode": "overlay",
              "size": 10,
              "solidity": 0.2
             }
            },
            "type": "barpolar"
           }
          ],
          "carpet": [
           {
            "aaxis": {
             "endlinecolor": "rgb(36,36,36)",
             "gridcolor": "white",
             "linecolor": "white",
             "minorgridcolor": "white",
             "startlinecolor": "rgb(36,36,36)"
            },
            "baxis": {
             "endlinecolor": "rgb(36,36,36)",
             "gridcolor": "white",
             "linecolor": "white",
             "minorgridcolor": "white",
             "startlinecolor": "rgb(36,36,36)"
            },
            "type": "carpet"
           }
          ],
          "choropleth": [
           {
            "colorbar": {
             "outlinewidth": 1,
             "tickcolor": "rgb(36,36,36)",
             "ticks": "outside"
            },
            "type": "choropleth"
           }
          ],
          "contour": [
           {
            "colorbar": {
             "outlinewidth": 1,
             "tickcolor": "rgb(36,36,36)",
             "ticks": "outside"
            },
            "colorscale": [
             [
              0,
              "#440154"
             ],
             [
              0.1111111111111111,
              "#482878"
             ],
             [
              0.2222222222222222,
              "#3e4989"
             ],
             [
              0.3333333333333333,
              "#31688e"
             ],
             [
              0.4444444444444444,
              "#26828e"
             ],
             [
              0.5555555555555556,
              "#1f9e89"
             ],
             [
              0.6666666666666666,
              "#35b779"
             ],
             [
              0.7777777777777778,
              "#6ece58"
             ],
             [
              0.8888888888888888,
              "#b5de2b"
             ],
             [
              1,
              "#fde725"
             ]
            ],
            "type": "contour"
           }
          ],
          "contourcarpet": [
           {
            "colorbar": {
             "outlinewidth": 1,
             "tickcolor": "rgb(36,36,36)",
             "ticks": "outside"
            },
            "type": "contourcarpet"
           }
          ],
          "heatmap": [
           {
            "colorbar": {
             "outlinewidth": 1,
             "tickcolor": "rgb(36,36,36)",
             "ticks": "outside"
            },
            "colorscale": [
             [
              0,
              "#440154"
             ],
             [
              0.1111111111111111,
              "#482878"
             ],
             [
              0.2222222222222222,
              "#3e4989"
             ],
             [
              0.3333333333333333,
              "#31688e"
             ],
             [
              0.4444444444444444,
              "#26828e"
             ],
             [
              0.5555555555555556,
              "#1f9e89"
             ],
             [
              0.6666666666666666,
              "#35b779"
             ],
             [
              0.7777777777777778,
              "#6ece58"
             ],
             [
              0.8888888888888888,
              "#b5de2b"
             ],
             [
              1,
              "#fde725"
             ]
            ],
            "type": "heatmap"
           }
          ],
          "heatmapgl": [
           {
            "colorbar": {
             "outlinewidth": 1,
             "tickcolor": "rgb(36,36,36)",
             "ticks": "outside"
            },
            "colorscale": [
             [
              0,
              "#440154"
             ],
             [
              0.1111111111111111,
              "#482878"
             ],
             [
              0.2222222222222222,
              "#3e4989"
             ],
             [
              0.3333333333333333,
              "#31688e"
             ],
             [
              0.4444444444444444,
              "#26828e"
             ],
             [
              0.5555555555555556,
              "#1f9e89"
             ],
             [
              0.6666666666666666,
              "#35b779"
             ],
             [
              0.7777777777777778,
              "#6ece58"
             ],
             [
              0.8888888888888888,
              "#b5de2b"
             ],
             [
              1,
              "#fde725"
             ]
            ],
            "type": "heatmapgl"
           }
          ],
          "histogram": [
           {
            "marker": {
             "line": {
              "color": "white",
              "width": 0.6
             }
            },
            "type": "histogram"
           }
          ],
          "histogram2d": [
           {
            "colorbar": {
             "outlinewidth": 1,
             "tickcolor": "rgb(36,36,36)",
             "ticks": "outside"
            },
            "colorscale": [
             [
              0,
              "#440154"
             ],
             [
              0.1111111111111111,
              "#482878"
             ],
             [
              0.2222222222222222,
              "#3e4989"
             ],
             [
              0.3333333333333333,
              "#31688e"
             ],
             [
              0.4444444444444444,
              "#26828e"
             ],
             [
              0.5555555555555556,
              "#1f9e89"
             ],
             [
              0.6666666666666666,
              "#35b779"
             ],
             [
              0.7777777777777778,
              "#6ece58"
             ],
             [
              0.8888888888888888,
              "#b5de2b"
             ],
             [
              1,
              "#fde725"
             ]
            ],
            "type": "histogram2d"
           }
          ],
          "histogram2dcontour": [
           {
            "colorbar": {
             "outlinewidth": 1,
             "tickcolor": "rgb(36,36,36)",
             "ticks": "outside"
            },
            "colorscale": [
             [
              0,
              "#440154"
             ],
             [
              0.1111111111111111,
              "#482878"
             ],
             [
              0.2222222222222222,
              "#3e4989"
             ],
             [
              0.3333333333333333,
              "#31688e"
             ],
             [
              0.4444444444444444,
              "#26828e"
             ],
             [
              0.5555555555555556,
              "#1f9e89"
             ],
             [
              0.6666666666666666,
              "#35b779"
             ],
             [
              0.7777777777777778,
              "#6ece58"
             ],
             [
              0.8888888888888888,
              "#b5de2b"
             ],
             [
              1,
              "#fde725"
             ]
            ],
            "type": "histogram2dcontour"
           }
          ],
          "mesh3d": [
           {
            "colorbar": {
             "outlinewidth": 1,
             "tickcolor": "rgb(36,36,36)",
             "ticks": "outside"
            },
            "type": "mesh3d"
           }
          ],
          "parcoords": [
           {
            "line": {
             "colorbar": {
              "outlinewidth": 1,
              "tickcolor": "rgb(36,36,36)",
              "ticks": "outside"
             }
            },
            "type": "parcoords"
           }
          ],
          "pie": [
           {
            "automargin": true,
            "type": "pie"
           }
          ],
          "scatter": [
           {
            "fillpattern": {
             "fillmode": "overlay",
             "size": 10,
             "solidity": 0.2
            },
            "type": "scatter"
           }
          ],
          "scatter3d": [
           {
            "line": {
             "colorbar": {
              "outlinewidth": 1,
              "tickcolor": "rgb(36,36,36)",
              "ticks": "outside"
             }
            },
            "marker": {
             "colorbar": {
              "outlinewidth": 1,
              "tickcolor": "rgb(36,36,36)",
              "ticks": "outside"
             }
            },
            "type": "scatter3d"
           }
          ],
          "scattercarpet": [
           {
            "marker": {
             "colorbar": {
              "outlinewidth": 1,
              "tickcolor": "rgb(36,36,36)",
              "ticks": "outside"
             }
            },
            "type": "scattercarpet"
           }
          ],
          "scattergeo": [
           {
            "marker": {
             "colorbar": {
              "outlinewidth": 1,
              "tickcolor": "rgb(36,36,36)",
              "ticks": "outside"
             }
            },
            "type": "scattergeo"
           }
          ],
          "scattergl": [
           {
            "marker": {
             "colorbar": {
              "outlinewidth": 1,
              "tickcolor": "rgb(36,36,36)",
              "ticks": "outside"
             }
            },
            "type": "scattergl"
           }
          ],
          "scattermapbox": [
           {
            "marker": {
             "colorbar": {
              "outlinewidth": 1,
              "tickcolor": "rgb(36,36,36)",
              "ticks": "outside"
             }
            },
            "type": "scattermapbox"
           }
          ],
          "scatterpolar": [
           {
            "marker": {
             "colorbar": {
              "outlinewidth": 1,
              "tickcolor": "rgb(36,36,36)",
              "ticks": "outside"
             }
            },
            "type": "scatterpolar"
           }
          ],
          "scatterpolargl": [
           {
            "marker": {
             "colorbar": {
              "outlinewidth": 1,
              "tickcolor": "rgb(36,36,36)",
              "ticks": "outside"
             }
            },
            "type": "scatterpolargl"
           }
          ],
          "scatterternary": [
           {
            "marker": {
             "colorbar": {
              "outlinewidth": 1,
              "tickcolor": "rgb(36,36,36)",
              "ticks": "outside"
             }
            },
            "type": "scatterternary"
           }
          ],
          "surface": [
           {
            "colorbar": {
             "outlinewidth": 1,
             "tickcolor": "rgb(36,36,36)",
             "ticks": "outside"
            },
            "colorscale": [
             [
              0,
              "#440154"
             ],
             [
              0.1111111111111111,
              "#482878"
             ],
             [
              0.2222222222222222,
              "#3e4989"
             ],
             [
              0.3333333333333333,
              "#31688e"
             ],
             [
              0.4444444444444444,
              "#26828e"
             ],
             [
              0.5555555555555556,
              "#1f9e89"
             ],
             [
              0.6666666666666666,
              "#35b779"
             ],
             [
              0.7777777777777778,
              "#6ece58"
             ],
             [
              0.8888888888888888,
              "#b5de2b"
             ],
             [
              1,
              "#fde725"
             ]
            ],
            "type": "surface"
           }
          ],
          "table": [
           {
            "cells": {
             "fill": {
              "color": "rgb(237,237,237)"
             },
             "line": {
              "color": "white"
             }
            },
            "header": {
             "fill": {
              "color": "rgb(217,217,217)"
             },
             "line": {
              "color": "white"
             }
            },
            "type": "table"
           }
          ]
         },
         "layout": {
          "annotationdefaults": {
           "arrowhead": 0,
           "arrowwidth": 1
          },
          "autotypenumbers": "strict",
          "coloraxis": {
           "colorbar": {
            "outlinewidth": 1,
            "tickcolor": "rgb(36,36,36)",
            "ticks": "outside"
           }
          },
          "colorscale": {
           "diverging": [
            [
             0,
             "rgb(103,0,31)"
            ],
            [
             0.1,
             "rgb(178,24,43)"
            ],
            [
             0.2,
             "rgb(214,96,77)"
            ],
            [
             0.3,
             "rgb(244,165,130)"
            ],
            [
             0.4,
             "rgb(253,219,199)"
            ],
            [
             0.5,
             "rgb(247,247,247)"
            ],
            [
             0.6,
             "rgb(209,229,240)"
            ],
            [
             0.7,
             "rgb(146,197,222)"
            ],
            [
             0.8,
             "rgb(67,147,195)"
            ],
            [
             0.9,
             "rgb(33,102,172)"
            ],
            [
             1,
             "rgb(5,48,97)"
            ]
           ],
           "sequential": [
            [
             0,
             "#440154"
            ],
            [
             0.1111111111111111,
             "#482878"
            ],
            [
             0.2222222222222222,
             "#3e4989"
            ],
            [
             0.3333333333333333,
             "#31688e"
            ],
            [
             0.4444444444444444,
             "#26828e"
            ],
            [
             0.5555555555555556,
             "#1f9e89"
            ],
            [
             0.6666666666666666,
             "#35b779"
            ],
            [
             0.7777777777777778,
             "#6ece58"
            ],
            [
             0.8888888888888888,
             "#b5de2b"
            ],
            [
             1,
             "#fde725"
            ]
           ],
           "sequentialminus": [
            [
             0,
             "#440154"
            ],
            [
             0.1111111111111111,
             "#482878"
            ],
            [
             0.2222222222222222,
             "#3e4989"
            ],
            [
             0.3333333333333333,
             "#31688e"
            ],
            [
             0.4444444444444444,
             "#26828e"
            ],
            [
             0.5555555555555556,
             "#1f9e89"
            ],
            [
             0.6666666666666666,
             "#35b779"
            ],
            [
             0.7777777777777778,
             "#6ece58"
            ],
            [
             0.8888888888888888,
             "#b5de2b"
            ],
            [
             1,
             "#fde725"
            ]
           ]
          },
          "colorway": [
           "#1F77B4",
           "#FF7F0E",
           "#2CA02C",
           "#D62728",
           "#9467BD",
           "#8C564B",
           "#E377C2",
           "#7F7F7F",
           "#BCBD22",
           "#17BECF"
          ],
          "font": {
           "color": "rgb(36,36,36)"
          },
          "geo": {
           "bgcolor": "white",
           "lakecolor": "white",
           "landcolor": "white",
           "showlakes": true,
           "showland": true,
           "subunitcolor": "white"
          },
          "hoverlabel": {
           "align": "left"
          },
          "hovermode": "closest",
          "mapbox": {
           "style": "light"
          },
          "paper_bgcolor": "white",
          "plot_bgcolor": "white",
          "polar": {
           "angularaxis": {
            "gridcolor": "rgb(232,232,232)",
            "linecolor": "rgb(36,36,36)",
            "showgrid": false,
            "showline": true,
            "ticks": "outside"
           },
           "bgcolor": "white",
           "radialaxis": {
            "gridcolor": "rgb(232,232,232)",
            "linecolor": "rgb(36,36,36)",
            "showgrid": false,
            "showline": true,
            "ticks": "outside"
           }
          },
          "scene": {
           "xaxis": {
            "backgroundcolor": "white",
            "gridcolor": "rgb(232,232,232)",
            "gridwidth": 2,
            "linecolor": "rgb(36,36,36)",
            "showbackground": true,
            "showgrid": false,
            "showline": true,
            "ticks": "outside",
            "zeroline": false,
            "zerolinecolor": "rgb(36,36,36)"
           },
           "yaxis": {
            "backgroundcolor": "white",
            "gridcolor": "rgb(232,232,232)",
            "gridwidth": 2,
            "linecolor": "rgb(36,36,36)",
            "showbackground": true,
            "showgrid": false,
            "showline": true,
            "ticks": "outside",
            "zeroline": false,
            "zerolinecolor": "rgb(36,36,36)"
           },
           "zaxis": {
            "backgroundcolor": "white",
            "gridcolor": "rgb(232,232,232)",
            "gridwidth": 2,
            "linecolor": "rgb(36,36,36)",
            "showbackground": true,
            "showgrid": false,
            "showline": true,
            "ticks": "outside",
            "zeroline": false,
            "zerolinecolor": "rgb(36,36,36)"
           }
          },
          "shapedefaults": {
           "fillcolor": "black",
           "line": {
            "width": 0
           },
           "opacity": 0.3
          },
          "ternary": {
           "aaxis": {
            "gridcolor": "rgb(232,232,232)",
            "linecolor": "rgb(36,36,36)",
            "showgrid": false,
            "showline": true,
            "ticks": "outside"
           },
           "baxis": {
            "gridcolor": "rgb(232,232,232)",
            "linecolor": "rgb(36,36,36)",
            "showgrid": false,
            "showline": true,
            "ticks": "outside"
           },
           "bgcolor": "white",
           "caxis": {
            "gridcolor": "rgb(232,232,232)",
            "linecolor": "rgb(36,36,36)",
            "showgrid": false,
            "showline": true,
            "ticks": "outside"
           }
          },
          "title": {
           "x": 0.05
          },
          "xaxis": {
           "automargin": true,
           "gridcolor": "rgb(232,232,232)",
           "linecolor": "rgb(36,36,36)",
           "showgrid": false,
           "showline": true,
           "ticks": "outside",
           "title": {
            "standoff": 15
           },
           "zeroline": false,
           "zerolinecolor": "rgb(36,36,36)"
          },
          "yaxis": {
           "automargin": true,
           "gridcolor": "rgb(232,232,232)",
           "linecolor": "rgb(36,36,36)",
           "showgrid": false,
           "showline": true,
           "ticks": "outside",
           "title": {
            "standoff": 15
           },
           "zeroline": false,
           "zerolinecolor": "rgb(36,36,36)"
          }
         }
        },
        "xaxis": {
         "showgrid": false,
         "title": {
          "text": "Epoch"
         }
        },
        "yaxis": {
         "showgrid": false,
         "title": {
          "text": "MAE (pm/V)"
         }
        }
       }
      }
     },
     "metadata": {},
     "output_type": "display_data"
    }
   ],
   "source": [
    "lr_val = go.Scatter(\n",
    "    x=df_lr_epochs_first.index,\n",
    "    y=df_lr_epochs_first[\"metric_val/MeanAbsoluteError/shg_tensor_full\"],\n",
    "    mode=\"lines+markers\",\n",
    "    name=\"Validation loss\",\n",
    "    showlegend=True,\n",
    ")\n",
    "\n",
    "# Layout\n",
    "layout = go.Layout(\n",
    "    # title=dict(text='Scatter Plot'),\n",
    "    xaxis=dict(title=\"Epoch\"),\n",
    "    yaxis=dict(title=\"MAE (pm/V)\"),\n",
    "    # legend=dict(font=dict(size=12)),\n",
    ")\n",
    "\n",
    "# Create figure\n",
    "fig = go.Figure(data=[lr_val], layout=layout)\n",
    "\n",
    "fig.update_layout(\n",
    "    autosize=True,\n",
    "    font_size=20,\n",
    "    # width=600,\n",
    "    # height=600,\n",
    "    # plot_bgcolor=\"white\",\n",
    "    template=\"simple_white\",\n",
    ")\n",
    "fig.update_layout(\n",
    "    xaxis=dict(\n",
    "        # tickmode = 'array',\n",
    "        # tickvals = [1, 2,3,4,5,6,7,8],\n",
    "        # ticktext = ['One', 'Three', 'Five', 'Seven', 'Nine', 'Eleven']\n",
    "        showgrid=False,\n",
    "    ),\n",
    "    yaxis=dict(\n",
    "        # tickmode = 'array',\n",
    "        # tickvals = [1, 2,3,4,5,6,7,8],\n",
    "        # ticktext = ['One', 'Three', 'Five', 'Seven', 'Nine', 'Eleven']\n",
    "        showgrid=False,\n",
    "    ),\n",
    ")\n",
    "\n",
    "# Show figure\n",
    "fig.show()"
   ]
  },
  {
   "cell_type": "markdown",
   "metadata": {},
   "source": [
    "# Errors on dijk"
   ]
  },
  {
   "cell_type": "code",
   "execution_count": 9,
   "metadata": {},
   "outputs": [
    {
     "name": "stdout",
     "output_type": "stream",
     "text": [
      "45.11428239001749\n"
     ]
    }
   ],
   "source": [
    "list_fronorm = []  # = sqrt(sum(sqrd))/nb_nonzero\n",
    "for ir, r in df_pred_matten.iterrows():\n",
    "    dijk_orig = shg.from_voigt(df_orig.loc[ir][\"dijk_full_neum\"])\n",
    "    dijk_matten = shg.from_voigt(r[\"dijk_matten\"])\n",
    "    if np.count_nonzero(dijk_orig) == 0:\n",
    "        continue\n",
    "    t = dijk_orig - dijk_matten\n",
    "    list_fronorm.append(np.linalg.norm(t))\n",
    "print(np.mean(list_fronorm))"
   ]
  },
  {
   "cell_type": "code",
   "execution_count": 10,
   "metadata": {},
   "outputs": [
    {
     "name": "stdout",
     "output_type": "stream",
     "text": [
      "6.275626529329028\n"
     ]
    }
   ],
   "source": [
    "list_fronorm = []  # = sqrt(sum(sqrd))/nb_nonzero\n",
    "for ir, r in df_pred_matten.iterrows():\n",
    "    dijk_orig = shg.from_voigt(df_orig.loc[ir][\"dijk_full_neum\"])\n",
    "    dijk_matten = shg.from_voigt(r[\"dijk_matten\"])\n",
    "    if np.count_nonzero(dijk_orig) == 0:\n",
    "        continue\n",
    "    list_fronorm.append(\n",
    "        np.linalg.norm(dijk_orig - dijk_matten) / np.count_nonzero(dijk_orig)\n",
    "    )\n",
    "print(np.mean(list_fronorm))"
   ]
  },
  {
   "cell_type": "markdown",
   "metadata": {},
   "source": [
    "## Errors on dijk masked"
   ]
  },
  {
   "cell_type": "code",
   "execution_count": 11,
   "metadata": {},
   "outputs": [
    {
     "name": "stdout",
     "output_type": "stream",
     "text": [
      "42.99339757576944\n"
     ]
    }
   ],
   "source": [
    "# masked\n",
    "list_fronorm = []  # = sqrt(sum(sqrd))\n",
    "for ir, r in df_pred_matten.iterrows():\n",
    "    dijk_orig = shg.from_voigt(df_orig.loc[ir][\"dijk_full_neum\"])\n",
    "    dijk_matten = shg.from_voigt(r[\"dijk_matten\"])\n",
    "    dijk_matten = np.where(dijk_orig != 0, dijk_matten, 0)\n",
    "    if np.count_nonzero(dijk_orig) == 0:\n",
    "        continue\n",
    "    t = dijk_orig - dijk_matten\n",
    "    list_fronorm.append(np.linalg.norm(t))\n",
    "print(np.mean(list_fronorm))"
   ]
  },
  {
   "cell_type": "code",
   "execution_count": 12,
   "metadata": {},
   "outputs": [
    {
     "name": "stdout",
     "output_type": "stream",
     "text": [
      "5.924483974351615\n"
     ]
    }
   ],
   "source": [
    "list_fronorm = []  # = sqrt(sum(sqrd))/nb_nonzero\n",
    "for ir, r in df_pred_matten.iterrows():\n",
    "    dijk_orig = shg.from_voigt(df_orig.loc[ir][\"dijk_full_neum\"])\n",
    "    dijk_matten = shg.from_voigt(r[\"dijk_matten\"])\n",
    "    dijk_matten = np.where(dijk_orig != 0, dijk_matten, 0)\n",
    "    if np.count_nonzero(dijk_orig) == 0:\n",
    "        continue\n",
    "    t = dijk_orig - dijk_matten\n",
    "    list_fronorm.append(\n",
    "        np.linalg.norm(dijk_orig - dijk_matten) / np.count_nonzero(dijk_orig)\n",
    "    )\n",
    "print(np.mean(list_fronorm))"
   ]
  },
  {
   "cell_type": "markdown",
   "metadata": {},
   "source": [
    "# Errors on dKP"
   ]
  },
  {
   "cell_type": "code",
   "execution_count": 13,
   "metadata": {},
   "outputs": [
    {
     "name": "stdout",
     "output_type": "stream",
     "text": [
      "MAE = 9.997366991902743\n",
      "MAPE = 2.793978570726149\n",
      "RMSE = 25.64469083698625\n",
      "Rho_sp = 0.8159569892473117\n"
     ]
    },
    {
     "data": {
      "application/vnd.plotly.v1+json": {
       "config": {
        "plotlyServerURL": "https://plot.ly"
       },
       "data": [
        {
         "mode": "markers",
         "name": "",
         "showlegend": false,
         "text": [
          "mp-21892",
          "mp-8070",
          "mp-558491",
          "mp-632684",
          "mp-23329",
          "mp-555150",
          "mp-760755",
          "mp-6268",
          "mp-559057",
          "mp-1778",
          "mp-2176",
          "mp-22909",
          "mp-9844",
          "mp-9066",
          "mp-6126",
          "mp-632229",
          "mp-21521",
          "mp-1287",
          "mp-756044",
          "mp-754712",
          "mp-18168",
          "mp-505702",
          "mp-559065",
          "mp-559545",
          "mp-549720",
          "mp-561385",
          "mp-13666",
          "mp-14444",
          "mp-2469",
          "mp-31451",
          "mp-1023924",
          "mp-38011",
          "mp-8884",
          "mp-6980",
          "mp-4524",
          "mp-11714",
          "mp-1180133",
          "mp-1225884",
          "mp-1196457",
          "mp-560894",
          "mp-1196282",
          "mp-1219328",
          "mp-1227124",
          "mp-1102285",
          "mp-1227389",
          "mp-1227110",
          "mp-1079676",
          "mp-1228342",
          "mp-17862",
          "mp-504952",
          "mp-1223849",
          "mp-1208039",
          "mp-625175",
          "agm003160552",
          "agm003202328",
          "agm002278924",
          "agm003202410",
          "mp-1227011",
          "agm002224865",
          "agm003157565",
          "agm002140778",
          "agm002041336",
          "agm003219193",
          "mp-1228160",
          "mp-1223489",
          "mp-1221169",
          "mp-4431",
          "mp-1105300",
          "mp-1103351",
          "mp-1029368",
          "mp-1029633",
          "agm002147818",
          "agm002153139",
          "mp-555202",
          "mp-1216976",
          "mp-626172",
          "agm002156258",
          "mp-772748",
          "mp-1223389",
          "mp-9427",
          "mp-1225916",
          "agm003237859",
          "mp-1221971",
          "agm002237807",
          "mp-1215642",
          "agm003213121",
          "agm002297812",
          "mp-29157",
          "mp-555915",
          "agm002138671",
          "agm002790067",
          "agm002205114",
          "agm002184995",
          "agm003235252",
          "agm003206267",
          "agm003705731",
          "agm2000126920",
          "agm2000137141",
          "agm005848675",
          "mp-2802611",
          "agm005056300",
          "agm004786326",
          "agm001234439",
          "agm002056302",
          "agm002137665",
          "mp-554918",
          "agm001375463",
          "agm005721583",
          "agm006020719",
          "agm003112540",
          "agm004787350",
          "agm002176403",
          "agm002161194",
          "agm2000136656",
          "mp-1208179",
          "agm002017294",
          "agm002041315",
          "agm003469328",
          "agm005072178",
          "agm005664742",
          "agm004773455",
          "agm005071058",
          "agm006047746",
          "agm005754384",
          "agm005748012"
         ],
         "type": "scatter",
         "x": [
          1.6702877031054744,
          0.6153567936409394,
          0.916306049190346,
          0.6332971350134445,
          8.216653290326382,
          1.6714733711428025,
          0.0989148861399233,
          6.412929743824089,
          1.6293975755324084,
          0.31993983241561774,
          105.24117753411169,
          2.5879642137648387,
          0.9483772869076768,
          0.3187782410759168,
          2.733238270650939,
          2.9096809494071505,
          7.525570950107779,
          0.14195876287417517,
          0.2817178150189904,
          1.1696456448991597,
          2.40853762353919,
          1.5660413794640675,
          6.497969001348536,
          5.767520489335899,
          22.184202830713517,
          0.7001223238354805,
          50.26224377818762,
          13.325047557309988,
          16.7224180311217,
          67.16185442385373,
          2.5747069716896993,
          6.982839424963341,
          39.55664828037646,
          61.68514671047256,
          89.50434406167203,
          6.449937968827414,
          5.011475693953564,
          0.15713573856920957,
          0.10779869903410652,
          0.498530944623206,
          0.020592390517412237,
          2.7085081891465723,
          16.28151897450099,
          7.285592611778784,
          38.202112721920614,
          0.009159898472070336,
          1.4181497304502502,
          1.3815042676431624,
          33.20634743822916,
          14.64182602964108,
          0.09266296905357542,
          0.9608928044838884,
          0.2779184074445728,
          12.279161879472005,
          32.71175046916167,
          165.13053811130197,
          134.43648298693395,
          52.33013998938465,
          1.162738268371955,
          0.2773415097117353,
          3.7385919216237418,
          42.71723587326203,
          0.2357305320706208,
          0.241494971756244,
          0.16583889893944992,
          10.05019430543853,
          19.617387328593303,
          26.760013080806115,
          2.2421112466956346,
          14.974014115437331,
          7.445020961969393,
          0.386614576544783,
          2.535801221550989,
          0.24667704403246857,
          12.644763108596251,
          0.2232558405218656,
          0.6697039819612798,
          0.2716584026966766,
          26.03769184849257,
          0.5743918279755333,
          1.1824359493317524,
          0.3447064416103106,
          5.870613170689007,
          101.57610363591236,
          3.5217840745294517,
          3.8961386832490144,
          1.145439052894341,
          78.50848151084344,
          0.418081267508317,
          4.990868142109143,
          46.68049140909839,
          64.16281613192514,
          167.32652616660764,
          0.04742064116398367,
          19.206783254619253,
          6.713160335923752,
          0.22479309857821572,
          8.213321581418393,
          7.517340958923934,
          0.898303960815359,
          7.567971725262184,
          13.636495888910204,
          0.8272878630490751,
          3.4142465412794816,
          0.21760412867682172,
          2.4889948726268245,
          29.619974283987936,
          9.475740860886464,
          0.4129762319614386,
          49.0848053409145,
          1.7134206574052462,
          1.5289283566609753,
          9.925651677308547,
          3.322929138148421,
          0.8542720885431856,
          16.93465817396815,
          58.14032833705676,
          0.3121643754820938,
          0.35622622680105753,
          3.1945647805715116,
          4.768382722367681,
          1.394860426044515,
          50.76951872995719,
          1.4778264262831151,
          0.4218049160508704
         ],
         "y": [
          3.6188771724700928,
          5.237761974334717,
          7.411208629608154,
          1.688056230545044,
          2.355203866958618,
          1.7189258337020874,
          0.42639485001564026,
          7.533946514129639,
          3.853995323181152,
          1.2343276739120483,
          102.36389923095705,
          3.0049855709075928,
          1.245051622390747,
          6.415579319000244,
          1.856231451034546,
          2.552774667739868,
          4.083612442016602,
          2.1146488189697266,
          2.9171218872070312,
          0.46059486269950867,
          3.1015372276306152,
          0.5133740901947021,
          3.440166711807251,
          3.82904314994812,
          7.684428215026856,
          2.9835362434387207,
          8.911725044250488,
          4.619687080383301,
          9.683863639831545,
          56.89608001708984,
          4.095398426055908,
          4.470759868621826,
          75.35089111328125,
          6.1194868087768555,
          53.29232406616211,
          7.758232116699219,
          4.470104217529297,
          0.6597709655761719,
          0.2433561533689499,
          0.7465077042579651,
          0.9350662231445312,
          4.074972152709961,
          16.957962036132812,
          4.529672622680664,
          11.854190826416016,
          0.2853352427482605,
          2.190013647079468,
          0.9375895857810974,
          11.51735782623291,
          24.82750701904297,
          1.938670873641968,
          1.0099841356277466,
          2.800262451171875,
          10.22989273071289,
          39.02067947387695,
          36.22299575805664,
          6.933555603027344,
          14.487149238586426,
          11.472469329833984,
          3.829664945602417,
          4.880383491516113,
          15.09250545501709,
          2.1561121940612793,
          1.937198042869568,
          0.5762974619865417,
          2.1687798500061035,
          27.09371757507324,
          25.606752395629883,
          9.688288688659668,
          17.297142028808594,
          7.783030509948731,
          2.780860662460327,
          6.412938117980957,
          1.9657419919967651,
          3.850538730621338,
          1.3889329433441162,
          1.954920530319214,
          1.7642898559570312,
          24.94671058654785,
          1.25100839138031,
          5.845049858093262,
          2.491792917251587,
          5.394245147705078,
          14.39857292175293,
          5.802618026733398,
          3.376950263977051,
          3.2865233421325684,
          12.489701271057127,
          0.20481279492378235,
          2.4680163860321045,
          37.6738166809082,
          86.44772338867188,
          20.32003402709961,
          0.944496750831604,
          20.268821716308594,
          4.471713066101074,
          2.7851455211639404,
          4.314651966094971,
          18.06070327758789,
          2.0242059230804443,
          13.82723617553711,
          6.616970062255859,
          1.9004169702529907,
          0.9352806806564332,
          0.6496927738189697,
          1.414541482925415,
          64.56410217285156,
          15.877025604248049,
          1.827342510223389,
          49.44443893432617,
          0.49981024861335754,
          4.144608497619629,
          8.891172409057617,
          6.3172221183776855,
          1.3642412424087524,
          25.994613647460938,
          21.784704208374023,
          1.463214874267578,
          0.597855806350708,
          5.677657127380371,
          1.4556732177734375,
          4.332686424255371,
          36.99604415893555,
          5.2946014404296875,
          0.5992529988288879
         ]
        },
        {
         "line": {
          "color": "gray",
          "dash": "dot"
         },
         "mode": "lines",
         "showlegend": false,
         "type": "scatter",
         "x": [
          -1,
          200
         ],
         "y": [
          -1,
          200
         ]
        }
       ],
       "layout": {
        "autosize": false,
        "font": {
         "size": 20
        },
        "height": 600,
        "template": {
         "data": {
          "bar": [
           {
            "error_x": {
             "color": "rgb(36,36,36)"
            },
            "error_y": {
             "color": "rgb(36,36,36)"
            },
            "marker": {
             "line": {
              "color": "white",
              "width": 0.5
             },
             "pattern": {
              "fillmode": "overlay",
              "size": 10,
              "solidity": 0.2
             }
            },
            "type": "bar"
           }
          ],
          "barpolar": [
           {
            "marker": {
             "line": {
              "color": "white",
              "width": 0.5
             },
             "pattern": {
              "fillmode": "overlay",
              "size": 10,
              "solidity": 0.2
             }
            },
            "type": "barpolar"
           }
          ],
          "carpet": [
           {
            "aaxis": {
             "endlinecolor": "rgb(36,36,36)",
             "gridcolor": "white",
             "linecolor": "white",
             "minorgridcolor": "white",
             "startlinecolor": "rgb(36,36,36)"
            },
            "baxis": {
             "endlinecolor": "rgb(36,36,36)",
             "gridcolor": "white",
             "linecolor": "white",
             "minorgridcolor": "white",
             "startlinecolor": "rgb(36,36,36)"
            },
            "type": "carpet"
           }
          ],
          "choropleth": [
           {
            "colorbar": {
             "outlinewidth": 1,
             "tickcolor": "rgb(36,36,36)",
             "ticks": "outside"
            },
            "type": "choropleth"
           }
          ],
          "contour": [
           {
            "colorbar": {
             "outlinewidth": 1,
             "tickcolor": "rgb(36,36,36)",
             "ticks": "outside"
            },
            "colorscale": [
             [
              0,
              "#440154"
             ],
             [
              0.1111111111111111,
              "#482878"
             ],
             [
              0.2222222222222222,
              "#3e4989"
             ],
             [
              0.3333333333333333,
              "#31688e"
             ],
             [
              0.4444444444444444,
              "#26828e"
             ],
             [
              0.5555555555555556,
              "#1f9e89"
             ],
             [
              0.6666666666666666,
              "#35b779"
             ],
             [
              0.7777777777777778,
              "#6ece58"
             ],
             [
              0.8888888888888888,
              "#b5de2b"
             ],
             [
              1,
              "#fde725"
             ]
            ],
            "type": "contour"
           }
          ],
          "contourcarpet": [
           {
            "colorbar": {
             "outlinewidth": 1,
             "tickcolor": "rgb(36,36,36)",
             "ticks": "outside"
            },
            "type": "contourcarpet"
           }
          ],
          "heatmap": [
           {
            "colorbar": {
             "outlinewidth": 1,
             "tickcolor": "rgb(36,36,36)",
             "ticks": "outside"
            },
            "colorscale": [
             [
              0,
              "#440154"
             ],
             [
              0.1111111111111111,
              "#482878"
             ],
             [
              0.2222222222222222,
              "#3e4989"
             ],
             [
              0.3333333333333333,
              "#31688e"
             ],
             [
              0.4444444444444444,
              "#26828e"
             ],
             [
              0.5555555555555556,
              "#1f9e89"
             ],
             [
              0.6666666666666666,
              "#35b779"
             ],
             [
              0.7777777777777778,
              "#6ece58"
             ],
             [
              0.8888888888888888,
              "#b5de2b"
             ],
             [
              1,
              "#fde725"
             ]
            ],
            "type": "heatmap"
           }
          ],
          "heatmapgl": [
           {
            "colorbar": {
             "outlinewidth": 1,
             "tickcolor": "rgb(36,36,36)",
             "ticks": "outside"
            },
            "colorscale": [
             [
              0,
              "#440154"
             ],
             [
              0.1111111111111111,
              "#482878"
             ],
             [
              0.2222222222222222,
              "#3e4989"
             ],
             [
              0.3333333333333333,
              "#31688e"
             ],
             [
              0.4444444444444444,
              "#26828e"
             ],
             [
              0.5555555555555556,
              "#1f9e89"
             ],
             [
              0.6666666666666666,
              "#35b779"
             ],
             [
              0.7777777777777778,
              "#6ece58"
             ],
             [
              0.8888888888888888,
              "#b5de2b"
             ],
             [
              1,
              "#fde725"
             ]
            ],
            "type": "heatmapgl"
           }
          ],
          "histogram": [
           {
            "marker": {
             "line": {
              "color": "white",
              "width": 0.6
             }
            },
            "type": "histogram"
           }
          ],
          "histogram2d": [
           {
            "colorbar": {
             "outlinewidth": 1,
             "tickcolor": "rgb(36,36,36)",
             "ticks": "outside"
            },
            "colorscale": [
             [
              0,
              "#440154"
             ],
             [
              0.1111111111111111,
              "#482878"
             ],
             [
              0.2222222222222222,
              "#3e4989"
             ],
             [
              0.3333333333333333,
              "#31688e"
             ],
             [
              0.4444444444444444,
              "#26828e"
             ],
             [
              0.5555555555555556,
              "#1f9e89"
             ],
             [
              0.6666666666666666,
              "#35b779"
             ],
             [
              0.7777777777777778,
              "#6ece58"
             ],
             [
              0.8888888888888888,
              "#b5de2b"
             ],
             [
              1,
              "#fde725"
             ]
            ],
            "type": "histogram2d"
           }
          ],
          "histogram2dcontour": [
           {
            "colorbar": {
             "outlinewidth": 1,
             "tickcolor": "rgb(36,36,36)",
             "ticks": "outside"
            },
            "colorscale": [
             [
              0,
              "#440154"
             ],
             [
              0.1111111111111111,
              "#482878"
             ],
             [
              0.2222222222222222,
              "#3e4989"
             ],
             [
              0.3333333333333333,
              "#31688e"
             ],
             [
              0.4444444444444444,
              "#26828e"
             ],
             [
              0.5555555555555556,
              "#1f9e89"
             ],
             [
              0.6666666666666666,
              "#35b779"
             ],
             [
              0.7777777777777778,
              "#6ece58"
             ],
             [
              0.8888888888888888,
              "#b5de2b"
             ],
             [
              1,
              "#fde725"
             ]
            ],
            "type": "histogram2dcontour"
           }
          ],
          "mesh3d": [
           {
            "colorbar": {
             "outlinewidth": 1,
             "tickcolor": "rgb(36,36,36)",
             "ticks": "outside"
            },
            "type": "mesh3d"
           }
          ],
          "parcoords": [
           {
            "line": {
             "colorbar": {
              "outlinewidth": 1,
              "tickcolor": "rgb(36,36,36)",
              "ticks": "outside"
             }
            },
            "type": "parcoords"
           }
          ],
          "pie": [
           {
            "automargin": true,
            "type": "pie"
           }
          ],
          "scatter": [
           {
            "fillpattern": {
             "fillmode": "overlay",
             "size": 10,
             "solidity": 0.2
            },
            "type": "scatter"
           }
          ],
          "scatter3d": [
           {
            "line": {
             "colorbar": {
              "outlinewidth": 1,
              "tickcolor": "rgb(36,36,36)",
              "ticks": "outside"
             }
            },
            "marker": {
             "colorbar": {
              "outlinewidth": 1,
              "tickcolor": "rgb(36,36,36)",
              "ticks": "outside"
             }
            },
            "type": "scatter3d"
           }
          ],
          "scattercarpet": [
           {
            "marker": {
             "colorbar": {
              "outlinewidth": 1,
              "tickcolor": "rgb(36,36,36)",
              "ticks": "outside"
             }
            },
            "type": "scattercarpet"
           }
          ],
          "scattergeo": [
           {
            "marker": {
             "colorbar": {
              "outlinewidth": 1,
              "tickcolor": "rgb(36,36,36)",
              "ticks": "outside"
             }
            },
            "type": "scattergeo"
           }
          ],
          "scattergl": [
           {
            "marker": {
             "colorbar": {
              "outlinewidth": 1,
              "tickcolor": "rgb(36,36,36)",
              "ticks": "outside"
             }
            },
            "type": "scattergl"
           }
          ],
          "scattermapbox": [
           {
            "marker": {
             "colorbar": {
              "outlinewidth": 1,
              "tickcolor": "rgb(36,36,36)",
              "ticks": "outside"
             }
            },
            "type": "scattermapbox"
           }
          ],
          "scatterpolar": [
           {
            "marker": {
             "colorbar": {
              "outlinewidth": 1,
              "tickcolor": "rgb(36,36,36)",
              "ticks": "outside"
             }
            },
            "type": "scatterpolar"
           }
          ],
          "scatterpolargl": [
           {
            "marker": {
             "colorbar": {
              "outlinewidth": 1,
              "tickcolor": "rgb(36,36,36)",
              "ticks": "outside"
             }
            },
            "type": "scatterpolargl"
           }
          ],
          "scatterternary": [
           {
            "marker": {
             "colorbar": {
              "outlinewidth": 1,
              "tickcolor": "rgb(36,36,36)",
              "ticks": "outside"
             }
            },
            "type": "scatterternary"
           }
          ],
          "surface": [
           {
            "colorbar": {
             "outlinewidth": 1,
             "tickcolor": "rgb(36,36,36)",
             "ticks": "outside"
            },
            "colorscale": [
             [
              0,
              "#440154"
             ],
             [
              0.1111111111111111,
              "#482878"
             ],
             [
              0.2222222222222222,
              "#3e4989"
             ],
             [
              0.3333333333333333,
              "#31688e"
             ],
             [
              0.4444444444444444,
              "#26828e"
             ],
             [
              0.5555555555555556,
              "#1f9e89"
             ],
             [
              0.6666666666666666,
              "#35b779"
             ],
             [
              0.7777777777777778,
              "#6ece58"
             ],
             [
              0.8888888888888888,
              "#b5de2b"
             ],
             [
              1,
              "#fde725"
             ]
            ],
            "type": "surface"
           }
          ],
          "table": [
           {
            "cells": {
             "fill": {
              "color": "rgb(237,237,237)"
             },
             "line": {
              "color": "white"
             }
            },
            "header": {
             "fill": {
              "color": "rgb(217,217,217)"
             },
             "line": {
              "color": "white"
             }
            },
            "type": "table"
           }
          ]
         },
         "layout": {
          "annotationdefaults": {
           "arrowhead": 0,
           "arrowwidth": 1
          },
          "autotypenumbers": "strict",
          "coloraxis": {
           "colorbar": {
            "outlinewidth": 1,
            "tickcolor": "rgb(36,36,36)",
            "ticks": "outside"
           }
          },
          "colorscale": {
           "diverging": [
            [
             0,
             "rgb(103,0,31)"
            ],
            [
             0.1,
             "rgb(178,24,43)"
            ],
            [
             0.2,
             "rgb(214,96,77)"
            ],
            [
             0.3,
             "rgb(244,165,130)"
            ],
            [
             0.4,
             "rgb(253,219,199)"
            ],
            [
             0.5,
             "rgb(247,247,247)"
            ],
            [
             0.6,
             "rgb(209,229,240)"
            ],
            [
             0.7,
             "rgb(146,197,222)"
            ],
            [
             0.8,
             "rgb(67,147,195)"
            ],
            [
             0.9,
             "rgb(33,102,172)"
            ],
            [
             1,
             "rgb(5,48,97)"
            ]
           ],
           "sequential": [
            [
             0,
             "#440154"
            ],
            [
             0.1111111111111111,
             "#482878"
            ],
            [
             0.2222222222222222,
             "#3e4989"
            ],
            [
             0.3333333333333333,
             "#31688e"
            ],
            [
             0.4444444444444444,
             "#26828e"
            ],
            [
             0.5555555555555556,
             "#1f9e89"
            ],
            [
             0.6666666666666666,
             "#35b779"
            ],
            [
             0.7777777777777778,
             "#6ece58"
            ],
            [
             0.8888888888888888,
             "#b5de2b"
            ],
            [
             1,
             "#fde725"
            ]
           ],
           "sequentialminus": [
            [
             0,
             "#440154"
            ],
            [
             0.1111111111111111,
             "#482878"
            ],
            [
             0.2222222222222222,
             "#3e4989"
            ],
            [
             0.3333333333333333,
             "#31688e"
            ],
            [
             0.4444444444444444,
             "#26828e"
            ],
            [
             0.5555555555555556,
             "#1f9e89"
            ],
            [
             0.6666666666666666,
             "#35b779"
            ],
            [
             0.7777777777777778,
             "#6ece58"
            ],
            [
             0.8888888888888888,
             "#b5de2b"
            ],
            [
             1,
             "#fde725"
            ]
           ]
          },
          "colorway": [
           "#1F77B4",
           "#FF7F0E",
           "#2CA02C",
           "#D62728",
           "#9467BD",
           "#8C564B",
           "#E377C2",
           "#7F7F7F",
           "#BCBD22",
           "#17BECF"
          ],
          "font": {
           "color": "rgb(36,36,36)"
          },
          "geo": {
           "bgcolor": "white",
           "lakecolor": "white",
           "landcolor": "white",
           "showlakes": true,
           "showland": true,
           "subunitcolor": "white"
          },
          "hoverlabel": {
           "align": "left"
          },
          "hovermode": "closest",
          "mapbox": {
           "style": "light"
          },
          "paper_bgcolor": "white",
          "plot_bgcolor": "white",
          "polar": {
           "angularaxis": {
            "gridcolor": "rgb(232,232,232)",
            "linecolor": "rgb(36,36,36)",
            "showgrid": false,
            "showline": true,
            "ticks": "outside"
           },
           "bgcolor": "white",
           "radialaxis": {
            "gridcolor": "rgb(232,232,232)",
            "linecolor": "rgb(36,36,36)",
            "showgrid": false,
            "showline": true,
            "ticks": "outside"
           }
          },
          "scene": {
           "xaxis": {
            "backgroundcolor": "white",
            "gridcolor": "rgb(232,232,232)",
            "gridwidth": 2,
            "linecolor": "rgb(36,36,36)",
            "showbackground": true,
            "showgrid": false,
            "showline": true,
            "ticks": "outside",
            "zeroline": false,
            "zerolinecolor": "rgb(36,36,36)"
           },
           "yaxis": {
            "backgroundcolor": "white",
            "gridcolor": "rgb(232,232,232)",
            "gridwidth": 2,
            "linecolor": "rgb(36,36,36)",
            "showbackground": true,
            "showgrid": false,
            "showline": true,
            "ticks": "outside",
            "zeroline": false,
            "zerolinecolor": "rgb(36,36,36)"
           },
           "zaxis": {
            "backgroundcolor": "white",
            "gridcolor": "rgb(232,232,232)",
            "gridwidth": 2,
            "linecolor": "rgb(36,36,36)",
            "showbackground": true,
            "showgrid": false,
            "showline": true,
            "ticks": "outside",
            "zeroline": false,
            "zerolinecolor": "rgb(36,36,36)"
           }
          },
          "shapedefaults": {
           "fillcolor": "black",
           "line": {
            "width": 0
           },
           "opacity": 0.3
          },
          "ternary": {
           "aaxis": {
            "gridcolor": "rgb(232,232,232)",
            "linecolor": "rgb(36,36,36)",
            "showgrid": false,
            "showline": true,
            "ticks": "outside"
           },
           "baxis": {
            "gridcolor": "rgb(232,232,232)",
            "linecolor": "rgb(36,36,36)",
            "showgrid": false,
            "showline": true,
            "ticks": "outside"
           },
           "bgcolor": "white",
           "caxis": {
            "gridcolor": "rgb(232,232,232)",
            "linecolor": "rgb(36,36,36)",
            "showgrid": false,
            "showline": true,
            "ticks": "outside"
           }
          },
          "title": {
           "x": 0.05
          },
          "xaxis": {
           "automargin": true,
           "gridcolor": "rgb(232,232,232)",
           "linecolor": "rgb(36,36,36)",
           "showgrid": false,
           "showline": true,
           "ticks": "outside",
           "title": {
            "standoff": 15
           },
           "zeroline": false,
           "zerolinecolor": "rgb(36,36,36)"
          },
          "yaxis": {
           "automargin": true,
           "gridcolor": "rgb(232,232,232)",
           "linecolor": "rgb(36,36,36)",
           "showgrid": false,
           "showline": true,
           "ticks": "outside",
           "title": {
            "standoff": 15
           },
           "zeroline": false,
           "zerolinecolor": "rgb(36,36,36)"
          }
         }
        },
        "width": 600,
        "xaxis": {
         "range": [
          -1,
          170
         ],
         "showgrid": false,
         "title": {
          "text": "<i>d</i><sub>KP</sub> (pm/V)"
         }
        },
        "yaxis": {
         "range": [
          -1,
          170
         ],
         "showgrid": false,
         "title": {
          "text": "<i>d&#770;</i><sub>KP</sub> (pm/V)"
         }
        }
       }
      }
     },
     "metadata": {},
     "output_type": "display_data"
    }
   ],
   "source": [
    "# Data\n",
    "\n",
    "mae = mean_absolute_error(df_pred_matten[\"dKP_true\"], df_pred_matten[\"dKP_matten\"])\n",
    "mape = mean_absolute_percentage_error(\n",
    "    df_pred_matten[\"dKP_true\"], df_pred_matten[\"dKP_matten\"]\n",
    ")\n",
    "rmse = root_mean_squared_error(df_pred_matten[\"dKP_true\"], df_pred_matten[\"dKP_matten\"])\n",
    "spearmanrho = spearmanr(df_pred_matten[\"dKP_true\"], df_pred_matten[\"dKP_matten\"])\n",
    "print(f\"MAE = {mae}\")\n",
    "print(f\"MAPE = {mape}\")\n",
    "print(f\"RMSE = {rmse}\")\n",
    "print(f\"Rho_sp = {spearmanrho.statistic}\")\n",
    "\n",
    "# Scatter plot for previous outputs.\n",
    "scatter_dKP = go.Scatter(\n",
    "    x=df_pred_matten[\"dKP_true\"],\n",
    "    y=df_pred_matten[\"dKP_matten\"],\n",
    "    mode=\"markers\",\n",
    "    name=\"\",\n",
    "    showlegend=False,\n",
    "    text=[mpid for mpid in df_pred_matten.index.values],\n",
    ")\n",
    "\n",
    "ideal = go.Scatter(\n",
    "    x=[-1, 200],\n",
    "    y=[-1, 200],\n",
    "    mode=\"lines\",\n",
    "    line=dict(color=\"gray\", dash=\"dot\"),\n",
    "    showlegend=False,\n",
    ")\n",
    "\n",
    "# Layout\n",
    "layout = go.Layout(\n",
    "    # title=dict(text='Scatter Plot'),\n",
    "    xaxis=dict(title=\"<i>d</i><sub>KP</sub> (pm/V)\", range=[-1, 170]),\n",
    "    yaxis=dict(title=\"<i>d&#770;</i><sub>KP</sub> (pm/V)\", range=[-1, 170]),\n",
    "    # legend=dict(font=dict(size=12)),\n",
    ")\n",
    "\n",
    "# Create figure\n",
    "fig = go.Figure(data=[scatter_dKP, ideal], layout=layout)\n",
    "\n",
    "fig.update_layout(\n",
    "    autosize=False,\n",
    "    font_size=20,\n",
    "    width=600,\n",
    "    height=600,\n",
    "    # plot_bgcolor=\"white\",\n",
    "    template=\"simple_white\",\n",
    ")\n",
    "fig.update_layout(\n",
    "    xaxis=dict(\n",
    "        # tickmode = 'array',\n",
    "        # tickvals = [1, 2,3,4,5,6,7,8],\n",
    "        # ticktext = ['One', 'Three', 'Five', 'Seven', 'Nine', 'Eleven']\n",
    "        showgrid=False,\n",
    "    ),\n",
    "    yaxis=dict(\n",
    "        # tickmode = 'array',\n",
    "        # tickvals = [1, 2,3,4,5,6,7,8],\n",
    "        # ticktext = ['One', 'Three', 'Five', 'Seven', 'Nine', 'Eleven']\n",
    "        showgrid=False,\n",
    "    ),\n",
    ")\n",
    "\n",
    "# Show figure\n",
    "fig.show()"
   ]
  },
  {
   "cell_type": "markdown",
   "metadata": {},
   "source": [
    "## Errors on dKP masked"
   ]
  },
  {
   "cell_type": "code",
   "execution_count": 14,
   "metadata": {},
   "outputs": [
    {
     "name": "stdout",
     "output_type": "stream",
     "text": [
      "MAE = 11.675463837160072\n",
      "MAPE = 2.6894023136587215\n",
      "RMSE = 28.50832605886266\n",
      "Rho_sp = 0.6639139784946235\n"
     ]
    },
    {
     "data": {
      "application/vnd.plotly.v1+json": {
       "config": {
        "plotlyServerURL": "https://plot.ly"
       },
       "data": [
        {
         "mode": "markers",
         "name": "",
         "showlegend": false,
         "text": [
          "mp-21892",
          "mp-8070",
          "mp-558491",
          "mp-632684",
          "mp-23329",
          "mp-555150",
          "mp-760755",
          "mp-6268",
          "mp-559057",
          "mp-1778",
          "mp-2176",
          "mp-22909",
          "mp-9844",
          "mp-9066",
          "mp-6126",
          "mp-632229",
          "mp-21521",
          "mp-1287",
          "mp-756044",
          "mp-754712",
          "mp-18168",
          "mp-505702",
          "mp-559065",
          "mp-559545",
          "mp-549720",
          "mp-561385",
          "mp-13666",
          "mp-14444",
          "mp-2469",
          "mp-31451",
          "mp-1023924",
          "mp-38011",
          "mp-8884",
          "mp-6980",
          "mp-4524",
          "mp-11714",
          "mp-1180133",
          "mp-1225884",
          "mp-1196457",
          "mp-560894",
          "mp-1196282",
          "mp-1219328",
          "mp-1227124",
          "mp-1102285",
          "mp-1227389",
          "mp-1227110",
          "mp-1079676",
          "mp-1228342",
          "mp-17862",
          "mp-504952",
          "mp-1223849",
          "mp-1208039",
          "mp-625175",
          "agm003160552",
          "agm003202328",
          "agm002278924",
          "agm003202410",
          "mp-1227011",
          "agm002224865",
          "agm003157565",
          "agm002140778",
          "agm002041336",
          "agm003219193",
          "mp-1228160",
          "mp-1223489",
          "mp-1221169",
          "mp-4431",
          "mp-1105300",
          "mp-1103351",
          "mp-1029368",
          "mp-1029633",
          "agm002147818",
          "agm002153139",
          "mp-555202",
          "mp-1216976",
          "mp-626172",
          "agm002156258",
          "mp-772748",
          "mp-1223389",
          "mp-9427",
          "mp-1225916",
          "agm003237859",
          "mp-1221971",
          "agm002237807",
          "mp-1215642",
          "agm003213121",
          "agm002297812",
          "mp-29157",
          "mp-555915",
          "agm002138671",
          "agm002790067",
          "agm002205114",
          "agm002184995",
          "agm003235252",
          "agm003206267",
          "agm003705731",
          "agm2000126920",
          "agm2000137141",
          "agm005848675",
          "mp-2802611",
          "agm005056300",
          "agm004786326",
          "agm001234439",
          "agm002056302",
          "agm002137665",
          "mp-554918",
          "agm001375463",
          "agm005721583",
          "agm006020719",
          "agm003112540",
          "agm004787350",
          "agm002176403",
          "agm002161194",
          "agm2000136656",
          "mp-1208179",
          "agm002017294",
          "agm002041315",
          "agm003469328",
          "agm005072178",
          "agm005664742",
          "agm004773455",
          "agm005071058",
          "agm006047746",
          "agm005754384",
          "agm005748012"
         ],
         "type": "scatter",
         "x": [
          1.6702877031054744,
          0.6153567936409394,
          0.916306049190346,
          0.6332971350134445,
          8.216653290326382,
          1.6714733711428025,
          0.0989148861399233,
          6.412929743824089,
          1.6293975755324084,
          0.31993983241561774,
          105.24117753411169,
          2.5879642137648387,
          0.9483772869076768,
          0.3187782410759168,
          2.733238270650939,
          2.9096809494071505,
          7.525570950107779,
          0.14195876287417517,
          0.2817178150189904,
          1.1696456448991597,
          2.40853762353919,
          1.5660413794640675,
          6.497969001348536,
          5.767520489335899,
          22.184202830713517,
          0.7001223238354805,
          50.26224377818762,
          13.325047557309988,
          16.7224180311217,
          67.16185442385373,
          2.5747069716896993,
          6.982839424963341,
          39.55664828037646,
          61.68514671047256,
          89.50434406167203,
          6.449937968827414,
          5.011475693953564,
          0.15713573856920957,
          0.10779869903410652,
          0.498530944623206,
          0.020592390517412237,
          2.7085081891465723,
          16.28151897450099,
          7.285592611778784,
          38.202112721920614,
          0.009159898472070336,
          1.4181497304502502,
          1.3815042676431624,
          33.20634743822916,
          14.64182602964108,
          0.09266296905357542,
          0.9608928044838884,
          0.2779184074445728,
          12.279161879472005,
          32.71175046916167,
          165.13053811130197,
          134.43648298693395,
          52.33013998938465,
          1.162738268371955,
          0.2773415097117353,
          3.7385919216237418,
          42.71723587326203,
          0.2357305320706208,
          0.241494971756244,
          0.16583889893944992,
          10.05019430543853,
          19.617387328593303,
          26.760013080806115,
          2.2421112466956346,
          14.974014115437331,
          7.445020961969393,
          0.386614576544783,
          2.535801221550989,
          0.24667704403246857,
          12.644763108596251,
          0.2232558405218656,
          0.6697039819612798,
          0.2716584026966766,
          26.03769184849257,
          0.5743918279755333,
          1.1824359493317524,
          0.3447064416103106,
          5.870613170689007,
          101.57610363591236,
          3.5217840745294517,
          3.8961386832490144,
          1.145439052894341,
          78.50848151084344,
          0.418081267508317,
          4.990868142109143,
          46.68049140909839,
          64.16281613192514,
          167.32652616660764,
          0.04742064116398367,
          19.206783254619253,
          6.713160335923752,
          0.22479309857821572,
          8.213321581418393,
          7.517340958923934,
          0.898303960815359,
          7.567971725262184,
          13.636495888910204,
          0.8272878630490751,
          3.4142465412794816,
          0.21760412867682172,
          2.4889948726268245,
          29.619974283987936,
          9.475740860886464,
          0.4129762319614386,
          49.0848053409145,
          1.7134206574052462,
          1.5289283566609753,
          9.925651677308547,
          3.322929138148421,
          0.8542720885431856,
          16.93465817396815,
          58.14032833705676,
          0.3121643754820938,
          0.35622622680105753,
          3.1945647805715116,
          4.768382722367681,
          1.394860426044515,
          50.76951872995719,
          1.4778264262831151,
          0.4218049160508704
         ],
         "y": [
          1.299256837228313e-6,
          5.237761974334717,
          7.411208629608154,
          1.688056230545044,
          0.7427295446395874,
          1.7189258337020874,
          0.4108385145664215,
          7.533946514129639,
          3.853995323181152,
          2.898799948525266e-6,
          1.6682976777815384e-8,
          1.113068699836731,
          1.1376181840896606,
          6.415579319000244,
          1.8562313318252563,
          2.5375070571899414,
          3.87171621696325e-6,
          1.2760159506797208e-6,
          2.9171218872070312,
          0.46059486269950867,
          3.1015372276306152,
          0.5133740901947021,
          3.440166711807251,
          3.82904314994812,
          4.151185512542725,
          1.483547925949097,
          8.172438621520996,
          4.098080158233643,
          3.029660717857041e-7,
          3.46050688104782e-10,
          4.09539794921875,
          3.548784017562866,
          75.35089111328125,
          6.1194868087768555,
          20.6329345703125,
          7.758232116699219,
          4.470104217529297,
          0.6597709655761719,
          0.2433561533689499,
          0.7465077042579651,
          0.9350662231445312,
          4.074972152709961,
          16.957962036132812,
          4.529672622680664,
          11.854190826416016,
          0.2853352427482605,
          2.190013647079468,
          0.9375895857810974,
          11.51735782623291,
          24.82750701904297,
          1.938670873641968,
          1.0099841356277466,
          2.800262451171875,
          10.22989273071289,
          39.02067947387695,
          36.22299575805664,
          6.933555603027344,
          14.487149238586426,
          11.472469329833984,
          3.829664945602417,
          4.880383491516113,
          15.09250545501709,
          2.1561121940612793,
          1.937198042869568,
          0.5762974619865417,
          2.1687798500061035,
          27.09371757507324,
          25.606752395629883,
          9.688288688659668,
          17.297142028808594,
          7.783030509948731,
          2.780860662460327,
          6.412938117980957,
          1.9657419919967651,
          3.850538730621338,
          1.3889329433441162,
          1.954920530319214,
          1.7642898559570312,
          24.94671058654785,
          1.25100839138031,
          5.845049858093262,
          2.491792917251587,
          5.394245147705078,
          14.39857292175293,
          5.802618026733398,
          3.376950263977051,
          3.2865233421325684,
          12.489701271057127,
          0.20481279492378235,
          2.4680163860321045,
          37.6738166809082,
          86.44772338867188,
          20.320032119750977,
          0.944496750831604,
          20.268821716308594,
          4.471713066101074,
          2.7851455211639404,
          4.314651966094971,
          18.06070327758789,
          2.0242059230804443,
          13.82723617553711,
          6.616970062255859,
          1.9004169702529907,
          0.9352806806564332,
          0.6496927738189697,
          1.414541482925415,
          64.56410217285156,
          15.877025604248049,
          1.827342510223389,
          49.44443893432617,
          0.49981024861335754,
          4.144608497619629,
          8.891172409057617,
          6.3172221183776855,
          1.364241361618042,
          25.994613647460938,
          21.784704208374023,
          1.463214874267578,
          0.597855806350708,
          5.677657127380371,
          1.4556732177734375,
          4.332686424255371,
          36.99604415893555,
          5.2946014404296875,
          0.5992529988288879
         ]
        },
        {
         "line": {
          "color": "gray",
          "dash": "dot"
         },
         "mode": "lines",
         "showlegend": false,
         "type": "scatter",
         "x": [
          -1,
          200
         ],
         "y": [
          -1,
          200
         ]
        }
       ],
       "layout": {
        "autosize": false,
        "font": {
         "size": 20
        },
        "height": 600,
        "template": {
         "data": {
          "bar": [
           {
            "error_x": {
             "color": "rgb(36,36,36)"
            },
            "error_y": {
             "color": "rgb(36,36,36)"
            },
            "marker": {
             "line": {
              "color": "white",
              "width": 0.5
             },
             "pattern": {
              "fillmode": "overlay",
              "size": 10,
              "solidity": 0.2
             }
            },
            "type": "bar"
           }
          ],
          "barpolar": [
           {
            "marker": {
             "line": {
              "color": "white",
              "width": 0.5
             },
             "pattern": {
              "fillmode": "overlay",
              "size": 10,
              "solidity": 0.2
             }
            },
            "type": "barpolar"
           }
          ],
          "carpet": [
           {
            "aaxis": {
             "endlinecolor": "rgb(36,36,36)",
             "gridcolor": "white",
             "linecolor": "white",
             "minorgridcolor": "white",
             "startlinecolor": "rgb(36,36,36)"
            },
            "baxis": {
             "endlinecolor": "rgb(36,36,36)",
             "gridcolor": "white",
             "linecolor": "white",
             "minorgridcolor": "white",
             "startlinecolor": "rgb(36,36,36)"
            },
            "type": "carpet"
           }
          ],
          "choropleth": [
           {
            "colorbar": {
             "outlinewidth": 1,
             "tickcolor": "rgb(36,36,36)",
             "ticks": "outside"
            },
            "type": "choropleth"
           }
          ],
          "contour": [
           {
            "colorbar": {
             "outlinewidth": 1,
             "tickcolor": "rgb(36,36,36)",
             "ticks": "outside"
            },
            "colorscale": [
             [
              0,
              "#440154"
             ],
             [
              0.1111111111111111,
              "#482878"
             ],
             [
              0.2222222222222222,
              "#3e4989"
             ],
             [
              0.3333333333333333,
              "#31688e"
             ],
             [
              0.4444444444444444,
              "#26828e"
             ],
             [
              0.5555555555555556,
              "#1f9e89"
             ],
             [
              0.6666666666666666,
              "#35b779"
             ],
             [
              0.7777777777777778,
              "#6ece58"
             ],
             [
              0.8888888888888888,
              "#b5de2b"
             ],
             [
              1,
              "#fde725"
             ]
            ],
            "type": "contour"
           }
          ],
          "contourcarpet": [
           {
            "colorbar": {
             "outlinewidth": 1,
             "tickcolor": "rgb(36,36,36)",
             "ticks": "outside"
            },
            "type": "contourcarpet"
           }
          ],
          "heatmap": [
           {
            "colorbar": {
             "outlinewidth": 1,
             "tickcolor": "rgb(36,36,36)",
             "ticks": "outside"
            },
            "colorscale": [
             [
              0,
              "#440154"
             ],
             [
              0.1111111111111111,
              "#482878"
             ],
             [
              0.2222222222222222,
              "#3e4989"
             ],
             [
              0.3333333333333333,
              "#31688e"
             ],
             [
              0.4444444444444444,
              "#26828e"
             ],
             [
              0.5555555555555556,
              "#1f9e89"
             ],
             [
              0.6666666666666666,
              "#35b779"
             ],
             [
              0.7777777777777778,
              "#6ece58"
             ],
             [
              0.8888888888888888,
              "#b5de2b"
             ],
             [
              1,
              "#fde725"
             ]
            ],
            "type": "heatmap"
           }
          ],
          "heatmapgl": [
           {
            "colorbar": {
             "outlinewidth": 1,
             "tickcolor": "rgb(36,36,36)",
             "ticks": "outside"
            },
            "colorscale": [
             [
              0,
              "#440154"
             ],
             [
              0.1111111111111111,
              "#482878"
             ],
             [
              0.2222222222222222,
              "#3e4989"
             ],
             [
              0.3333333333333333,
              "#31688e"
             ],
             [
              0.4444444444444444,
              "#26828e"
             ],
             [
              0.5555555555555556,
              "#1f9e89"
             ],
             [
              0.6666666666666666,
              "#35b779"
             ],
             [
              0.7777777777777778,
              "#6ece58"
             ],
             [
              0.8888888888888888,
              "#b5de2b"
             ],
             [
              1,
              "#fde725"
             ]
            ],
            "type": "heatmapgl"
           }
          ],
          "histogram": [
           {
            "marker": {
             "line": {
              "color": "white",
              "width": 0.6
             }
            },
            "type": "histogram"
           }
          ],
          "histogram2d": [
           {
            "colorbar": {
             "outlinewidth": 1,
             "tickcolor": "rgb(36,36,36)",
             "ticks": "outside"
            },
            "colorscale": [
             [
              0,
              "#440154"
             ],
             [
              0.1111111111111111,
              "#482878"
             ],
             [
              0.2222222222222222,
              "#3e4989"
             ],
             [
              0.3333333333333333,
              "#31688e"
             ],
             [
              0.4444444444444444,
              "#26828e"
             ],
             [
              0.5555555555555556,
              "#1f9e89"
             ],
             [
              0.6666666666666666,
              "#35b779"
             ],
             [
              0.7777777777777778,
              "#6ece58"
             ],
             [
              0.8888888888888888,
              "#b5de2b"
             ],
             [
              1,
              "#fde725"
             ]
            ],
            "type": "histogram2d"
           }
          ],
          "histogram2dcontour": [
           {
            "colorbar": {
             "outlinewidth": 1,
             "tickcolor": "rgb(36,36,36)",
             "ticks": "outside"
            },
            "colorscale": [
             [
              0,
              "#440154"
             ],
             [
              0.1111111111111111,
              "#482878"
             ],
             [
              0.2222222222222222,
              "#3e4989"
             ],
             [
              0.3333333333333333,
              "#31688e"
             ],
             [
              0.4444444444444444,
              "#26828e"
             ],
             [
              0.5555555555555556,
              "#1f9e89"
             ],
             [
              0.6666666666666666,
              "#35b779"
             ],
             [
              0.7777777777777778,
              "#6ece58"
             ],
             [
              0.8888888888888888,
              "#b5de2b"
             ],
             [
              1,
              "#fde725"
             ]
            ],
            "type": "histogram2dcontour"
           }
          ],
          "mesh3d": [
           {
            "colorbar": {
             "outlinewidth": 1,
             "tickcolor": "rgb(36,36,36)",
             "ticks": "outside"
            },
            "type": "mesh3d"
           }
          ],
          "parcoords": [
           {
            "line": {
             "colorbar": {
              "outlinewidth": 1,
              "tickcolor": "rgb(36,36,36)",
              "ticks": "outside"
             }
            },
            "type": "parcoords"
           }
          ],
          "pie": [
           {
            "automargin": true,
            "type": "pie"
           }
          ],
          "scatter": [
           {
            "fillpattern": {
             "fillmode": "overlay",
             "size": 10,
             "solidity": 0.2
            },
            "type": "scatter"
           }
          ],
          "scatter3d": [
           {
            "line": {
             "colorbar": {
              "outlinewidth": 1,
              "tickcolor": "rgb(36,36,36)",
              "ticks": "outside"
             }
            },
            "marker": {
             "colorbar": {
              "outlinewidth": 1,
              "tickcolor": "rgb(36,36,36)",
              "ticks": "outside"
             }
            },
            "type": "scatter3d"
           }
          ],
          "scattercarpet": [
           {
            "marker": {
             "colorbar": {
              "outlinewidth": 1,
              "tickcolor": "rgb(36,36,36)",
              "ticks": "outside"
             }
            },
            "type": "scattercarpet"
           }
          ],
          "scattergeo": [
           {
            "marker": {
             "colorbar": {
              "outlinewidth": 1,
              "tickcolor": "rgb(36,36,36)",
              "ticks": "outside"
             }
            },
            "type": "scattergeo"
           }
          ],
          "scattergl": [
           {
            "marker": {
             "colorbar": {
              "outlinewidth": 1,
              "tickcolor": "rgb(36,36,36)",
              "ticks": "outside"
             }
            },
            "type": "scattergl"
           }
          ],
          "scattermapbox": [
           {
            "marker": {
             "colorbar": {
              "outlinewidth": 1,
              "tickcolor": "rgb(36,36,36)",
              "ticks": "outside"
             }
            },
            "type": "scattermapbox"
           }
          ],
          "scatterpolar": [
           {
            "marker": {
             "colorbar": {
              "outlinewidth": 1,
              "tickcolor": "rgb(36,36,36)",
              "ticks": "outside"
             }
            },
            "type": "scatterpolar"
           }
          ],
          "scatterpolargl": [
           {
            "marker": {
             "colorbar": {
              "outlinewidth": 1,
              "tickcolor": "rgb(36,36,36)",
              "ticks": "outside"
             }
            },
            "type": "scatterpolargl"
           }
          ],
          "scatterternary": [
           {
            "marker": {
             "colorbar": {
              "outlinewidth": 1,
              "tickcolor": "rgb(36,36,36)",
              "ticks": "outside"
             }
            },
            "type": "scatterternary"
           }
          ],
          "surface": [
           {
            "colorbar": {
             "outlinewidth": 1,
             "tickcolor": "rgb(36,36,36)",
             "ticks": "outside"
            },
            "colorscale": [
             [
              0,
              "#440154"
             ],
             [
              0.1111111111111111,
              "#482878"
             ],
             [
              0.2222222222222222,
              "#3e4989"
             ],
             [
              0.3333333333333333,
              "#31688e"
             ],
             [
              0.4444444444444444,
              "#26828e"
             ],
             [
              0.5555555555555556,
              "#1f9e89"
             ],
             [
              0.6666666666666666,
              "#35b779"
             ],
             [
              0.7777777777777778,
              "#6ece58"
             ],
             [
              0.8888888888888888,
              "#b5de2b"
             ],
             [
              1,
              "#fde725"
             ]
            ],
            "type": "surface"
           }
          ],
          "table": [
           {
            "cells": {
             "fill": {
              "color": "rgb(237,237,237)"
             },
             "line": {
              "color": "white"
             }
            },
            "header": {
             "fill": {
              "color": "rgb(217,217,217)"
             },
             "line": {
              "color": "white"
             }
            },
            "type": "table"
           }
          ]
         },
         "layout": {
          "annotationdefaults": {
           "arrowhead": 0,
           "arrowwidth": 1
          },
          "autotypenumbers": "strict",
          "coloraxis": {
           "colorbar": {
            "outlinewidth": 1,
            "tickcolor": "rgb(36,36,36)",
            "ticks": "outside"
           }
          },
          "colorscale": {
           "diverging": [
            [
             0,
             "rgb(103,0,31)"
            ],
            [
             0.1,
             "rgb(178,24,43)"
            ],
            [
             0.2,
             "rgb(214,96,77)"
            ],
            [
             0.3,
             "rgb(244,165,130)"
            ],
            [
             0.4,
             "rgb(253,219,199)"
            ],
            [
             0.5,
             "rgb(247,247,247)"
            ],
            [
             0.6,
             "rgb(209,229,240)"
            ],
            [
             0.7,
             "rgb(146,197,222)"
            ],
            [
             0.8,
             "rgb(67,147,195)"
            ],
            [
             0.9,
             "rgb(33,102,172)"
            ],
            [
             1,
             "rgb(5,48,97)"
            ]
           ],
           "sequential": [
            [
             0,
             "#440154"
            ],
            [
             0.1111111111111111,
             "#482878"
            ],
            [
             0.2222222222222222,
             "#3e4989"
            ],
            [
             0.3333333333333333,
             "#31688e"
            ],
            [
             0.4444444444444444,
             "#26828e"
            ],
            [
             0.5555555555555556,
             "#1f9e89"
            ],
            [
             0.6666666666666666,
             "#35b779"
            ],
            [
             0.7777777777777778,
             "#6ece58"
            ],
            [
             0.8888888888888888,
             "#b5de2b"
            ],
            [
             1,
             "#fde725"
            ]
           ],
           "sequentialminus": [
            [
             0,
             "#440154"
            ],
            [
             0.1111111111111111,
             "#482878"
            ],
            [
             0.2222222222222222,
             "#3e4989"
            ],
            [
             0.3333333333333333,
             "#31688e"
            ],
            [
             0.4444444444444444,
             "#26828e"
            ],
            [
             0.5555555555555556,
             "#1f9e89"
            ],
            [
             0.6666666666666666,
             "#35b779"
            ],
            [
             0.7777777777777778,
             "#6ece58"
            ],
            [
             0.8888888888888888,
             "#b5de2b"
            ],
            [
             1,
             "#fde725"
            ]
           ]
          },
          "colorway": [
           "#1F77B4",
           "#FF7F0E",
           "#2CA02C",
           "#D62728",
           "#9467BD",
           "#8C564B",
           "#E377C2",
           "#7F7F7F",
           "#BCBD22",
           "#17BECF"
          ],
          "font": {
           "color": "rgb(36,36,36)"
          },
          "geo": {
           "bgcolor": "white",
           "lakecolor": "white",
           "landcolor": "white",
           "showlakes": true,
           "showland": true,
           "subunitcolor": "white"
          },
          "hoverlabel": {
           "align": "left"
          },
          "hovermode": "closest",
          "mapbox": {
           "style": "light"
          },
          "paper_bgcolor": "white",
          "plot_bgcolor": "white",
          "polar": {
           "angularaxis": {
            "gridcolor": "rgb(232,232,232)",
            "linecolor": "rgb(36,36,36)",
            "showgrid": false,
            "showline": true,
            "ticks": "outside"
           },
           "bgcolor": "white",
           "radialaxis": {
            "gridcolor": "rgb(232,232,232)",
            "linecolor": "rgb(36,36,36)",
            "showgrid": false,
            "showline": true,
            "ticks": "outside"
           }
          },
          "scene": {
           "xaxis": {
            "backgroundcolor": "white",
            "gridcolor": "rgb(232,232,232)",
            "gridwidth": 2,
            "linecolor": "rgb(36,36,36)",
            "showbackground": true,
            "showgrid": false,
            "showline": true,
            "ticks": "outside",
            "zeroline": false,
            "zerolinecolor": "rgb(36,36,36)"
           },
           "yaxis": {
            "backgroundcolor": "white",
            "gridcolor": "rgb(232,232,232)",
            "gridwidth": 2,
            "linecolor": "rgb(36,36,36)",
            "showbackground": true,
            "showgrid": false,
            "showline": true,
            "ticks": "outside",
            "zeroline": false,
            "zerolinecolor": "rgb(36,36,36)"
           },
           "zaxis": {
            "backgroundcolor": "white",
            "gridcolor": "rgb(232,232,232)",
            "gridwidth": 2,
            "linecolor": "rgb(36,36,36)",
            "showbackground": true,
            "showgrid": false,
            "showline": true,
            "ticks": "outside",
            "zeroline": false,
            "zerolinecolor": "rgb(36,36,36)"
           }
          },
          "shapedefaults": {
           "fillcolor": "black",
           "line": {
            "width": 0
           },
           "opacity": 0.3
          },
          "ternary": {
           "aaxis": {
            "gridcolor": "rgb(232,232,232)",
            "linecolor": "rgb(36,36,36)",
            "showgrid": false,
            "showline": true,
            "ticks": "outside"
           },
           "baxis": {
            "gridcolor": "rgb(232,232,232)",
            "linecolor": "rgb(36,36,36)",
            "showgrid": false,
            "showline": true,
            "ticks": "outside"
           },
           "bgcolor": "white",
           "caxis": {
            "gridcolor": "rgb(232,232,232)",
            "linecolor": "rgb(36,36,36)",
            "showgrid": false,
            "showline": true,
            "ticks": "outside"
           }
          },
          "title": {
           "x": 0.05
          },
          "xaxis": {
           "automargin": true,
           "gridcolor": "rgb(232,232,232)",
           "linecolor": "rgb(36,36,36)",
           "showgrid": false,
           "showline": true,
           "ticks": "outside",
           "title": {
            "standoff": 15
           },
           "zeroline": false,
           "zerolinecolor": "rgb(36,36,36)"
          },
          "yaxis": {
           "automargin": true,
           "gridcolor": "rgb(232,232,232)",
           "linecolor": "rgb(36,36,36)",
           "showgrid": false,
           "showline": true,
           "ticks": "outside",
           "title": {
            "standoff": 15
           },
           "zeroline": false,
           "zerolinecolor": "rgb(36,36,36)"
          }
         }
        },
        "width": 600,
        "xaxis": {
         "range": [
          -1,
          170
         ],
         "showgrid": false,
         "title": {
          "text": "<i>d</i><sub>KP</sub> (pm/V)"
         }
        },
        "yaxis": {
         "range": [
          -1,
          170
         ],
         "showgrid": false,
         "title": {
          "text": "<i>d&#770;</i><sub>KP</sub> (pm/V)"
         }
        }
       }
      }
     },
     "metadata": {},
     "output_type": "display_data"
    }
   ],
   "source": [
    "# Data\n",
    "\n",
    "mae = mean_absolute_error(\n",
    "    df_pred_matten[\"dKP_true\"], df_pred_matten[\"dKP_matten_masked\"]\n",
    ")\n",
    "mape = mean_absolute_percentage_error(\n",
    "    df_pred_matten[\"dKP_true\"], df_pred_matten[\"dKP_matten_masked\"]\n",
    ")\n",
    "rmse = root_mean_squared_error(\n",
    "    df_pred_matten[\"dKP_true\"], df_pred_matten[\"dKP_matten_masked\"]\n",
    ")\n",
    "spearmanrho = spearmanr(df_pred_matten[\"dKP_true\"], df_pred_matten[\"dKP_matten_masked\"])\n",
    "print(f\"MAE = {mae}\")\n",
    "print(f\"MAPE = {mape}\")\n",
    "print(f\"RMSE = {rmse}\")\n",
    "print(f\"Rho_sp = {spearmanrho.statistic}\")\n",
    "\n",
    "# Scatter plot for previous outputs.\n",
    "scatter_dKP = go.Scatter(\n",
    "    x=df_pred_matten[\"dKP_true\"],\n",
    "    y=df_pred_matten[\"dKP_matten_masked\"],\n",
    "    mode=\"markers\",\n",
    "    name=\"\",\n",
    "    showlegend=False,\n",
    "    text=[mpid for mpid in df_pred_matten.index.values],\n",
    ")\n",
    "\n",
    "ideal = go.Scatter(\n",
    "    x=[-1, 200],\n",
    "    y=[-1, 200],\n",
    "    mode=\"lines\",\n",
    "    line=dict(color=\"gray\", dash=\"dot\"),\n",
    "    showlegend=False,\n",
    ")\n",
    "\n",
    "# Layout\n",
    "layout = go.Layout(\n",
    "    # title=dict(text='Scatter Plot'),\n",
    "    xaxis=dict(title=\"<i>d</i><sub>KP</sub> (pm/V)\", range=[-1, 170]),\n",
    "    yaxis=dict(title=\"<i>d&#770;</i><sub>KP</sub> (pm/V)\", range=[-1, 170]),\n",
    "    # legend=dict(font=dict(size=12)),\n",
    ")\n",
    "\n",
    "# Create figure\n",
    "fig = go.Figure(data=[scatter_dKP, ideal], layout=layout)\n",
    "\n",
    "fig.update_layout(\n",
    "    autosize=False,\n",
    "    font_size=20,\n",
    "    width=600,\n",
    "    height=600,\n",
    "    # plot_bgcolor=\"white\",\n",
    "    template=\"simple_white\",\n",
    ")\n",
    "fig.update_layout(\n",
    "    xaxis=dict(\n",
    "        # tickmode = 'array',\n",
    "        # tickvals = [1, 2,3,4,5,6,7,8],\n",
    "        # ticktext = ['One', 'Three', 'Five', 'Seven', 'Nine', 'Eleven']\n",
    "        showgrid=False,\n",
    "    ),\n",
    "    yaxis=dict(\n",
    "        # tickmode = 'array',\n",
    "        # tickvals = [1, 2,3,4,5,6,7,8],\n",
    "        # ticktext = ['One', 'Three', 'Five', 'Seven', 'Nine', 'Eleven']\n",
    "        showgrid=False,\n",
    "    ),\n",
    ")\n",
    "\n",
    "# Show figure\n",
    "fig.show()"
   ]
  },
  {
   "cell_type": "markdown",
   "metadata": {},
   "source": [
    "# Errors on dRMS"
   ]
  },
  {
   "cell_type": "code",
   "execution_count": 15,
   "metadata": {},
   "outputs": [
    {
     "name": "stdout",
     "output_type": "stream",
     "text": [
      "MAE = 5.1771757477075395\n",
      "MAPE = 2.8769139012404032\n",
      "RMSE = 13.542220772774048\n",
      "Rho_sp = 0.8145745007680489\n"
     ]
    },
    {
     "data": {
      "application/vnd.plotly.v1+json": {
       "config": {
        "plotlyServerURL": "https://plot.ly"
       },
       "data": [
        {
         "mode": "markers",
         "name": "",
         "showlegend": false,
         "text": [
          "mp-21892",
          "mp-8070",
          "mp-558491",
          "mp-632684",
          "mp-23329",
          "mp-555150",
          "mp-760755",
          "mp-6268",
          "mp-559057",
          "mp-1778",
          "mp-2176",
          "mp-22909",
          "mp-9844",
          "mp-9066",
          "mp-6126",
          "mp-632229",
          "mp-21521",
          "mp-1287",
          "mp-756044",
          "mp-754712",
          "mp-18168",
          "mp-505702",
          "mp-559065",
          "mp-559545",
          "mp-549720",
          "mp-561385",
          "mp-13666",
          "mp-14444",
          "mp-2469",
          "mp-31451",
          "mp-1023924",
          "mp-38011",
          "mp-8884",
          "mp-6980",
          "mp-4524",
          "mp-11714",
          "mp-1180133",
          "mp-1225884",
          "mp-1196457",
          "mp-560894",
          "mp-1196282",
          "mp-1219328",
          "mp-1227124",
          "mp-1102285",
          "mp-1227389",
          "mp-1227110",
          "mp-1079676",
          "mp-1228342",
          "mp-17862",
          "mp-504952",
          "mp-1223849",
          "mp-1208039",
          "mp-625175",
          "agm003160552",
          "agm003202328",
          "agm002278924",
          "agm003202410",
          "mp-1227011",
          "agm002224865",
          "agm003157565",
          "agm002140778",
          "agm002041336",
          "agm003219193",
          "mp-1228160",
          "mp-1223489",
          "mp-1221169",
          "mp-4431",
          "mp-1105300",
          "mp-1103351",
          "mp-1029368",
          "mp-1029633",
          "agm002147818",
          "agm002153139",
          "mp-555202",
          "mp-1216976",
          "mp-626172",
          "agm002156258",
          "mp-772748",
          "mp-1223389",
          "mp-9427",
          "mp-1225916",
          "agm003237859",
          "mp-1221971",
          "agm002237807",
          "mp-1215642",
          "agm003213121",
          "agm002297812",
          "mp-29157",
          "mp-555915",
          "agm002138671",
          "agm002790067",
          "agm002205114",
          "agm002184995",
          "agm003235252",
          "agm003206267",
          "agm003705731",
          "agm2000126920",
          "agm2000137141",
          "agm005848675",
          "mp-2802611",
          "agm005056300",
          "agm004786326",
          "agm001234439",
          "agm002056302",
          "agm002137665",
          "mp-554918",
          "agm001375463",
          "agm005721583",
          "agm006020719",
          "agm003112540",
          "agm004787350",
          "agm002176403",
          "agm002161194",
          "agm2000136656",
          "mp-1208179",
          "agm002017294",
          "agm002041315",
          "agm003469328",
          "agm005072178",
          "agm005664742",
          "agm004773455",
          "agm005071058",
          "agm006047746",
          "agm005754384",
          "agm005748012"
         ],
         "type": "scatter",
         "x": [
          0.8320981598795955,
          0.3055595522801001,
          0.5110910956192859,
          0.2613157690884907,
          3.472408650900549,
          0.8299209320546047,
          0.055162869088356895,
          2.655257365059746,
          0.7265346544929211,
          0.1784539124521056,
          58.700724258778145,
          1.443497471838485,
          0.5289795773523278,
          0.15534040782680797,
          1.5245274693645103,
          1.2604252314872877,
          4.031055950513715,
          0.07918081487536796,
          0.15691560074068578,
          0.6523971708645311,
          1.3408202698370553,
          0.8734961480639114,
          3.62439394472391,
          2.4685469302169927,
          10.557327670318816,
          0.3800799145129119,
          27.888063454478687,
          7.387796727517875,
          9.327319142421455,
          37.46109260289279,
          1.4361029355009154,
          3.163923628225558,
          21.75405528582277,
          30.749835038356316,
          49.92313791836902,
          3.574376389300032,
          2.7952675913853757,
          0.08764612746717762,
          0.060127241596142925,
          0.2780672755710062,
          0.011485886664465443,
          1.3321984811845715,
          9.07458275372441,
          4.0637094052582015,
          17.475834434449677,
          0.004068362758161991,
          0.7696344759416462,
          0.5709224401120938,
          18.521615685845696,
          8.136290831125732,
          0.04319627101843022,
          0.5359603995305948,
          0.14900057694537197,
          6.848989269263506,
          18.24574267700324,
          77.80127770554039,
          74.98508761533064,
          25.054040539076535,
          0.6485444203121766,
          0.15469370324961404,
          1.8100288924006236,
          21.46284472676041,
          0.12242314239888948,
          0.1273463883036055,
          0.07568899820595372,
          5.601290472489605,
          10.928136503456011,
          12.015376465281534,
          1.2266354615744963,
          8.268201861260701,
          3.60677734456495,
          0.18891304995189917,
          1.240891853793173,
          0.13465435118633695,
          5.857707040218371,
          0.10500491864349884,
          0.2780652151597847,
          0.14789601884065873,
          12.129364453262644,
          0.3203702259169111,
          0.49212575759514066,
          0.19217550548183543,
          3.2716689742920355,
          53.757923915908336,
          1.964125518702844,
          1.9139765745798456,
          0.47237280580385305,
          41.34962284455252,
          0.23319458957793895,
          2.7837732481367383,
          26.03713412063996,
          34.70853317720789,
          93.33027721493907,
          0.02644996992968097,
          7.857758084454895,
          3.635346042879686,
          0.096938096463029,
          4.581171901494939,
          3.971014398711312,
          0.4961124344295853,
          4.221212949644662,
          7.605703782860104,
          0.4533013926479508,
          1.9043757345471777,
          0.1212071401455686,
          1.3881591265457354,
          16.521232313586655,
          5.279793960110898,
          0.20563647590838707,
          27.378120266366295,
          0.955700381792471,
          0.6286148524301469,
          5.536263997136642,
          1.8534413205960736,
          0.4764902055119079,
          9.124150852602597,
          28.108656464778452,
          0.17399257866696397,
          0.19869349624500424,
          1.6187564976273925,
          2.659676810013848,
          0.6665357017920366,
          25.018244935546193,
          0.8242921980178596,
          0.23527108344118575
         ],
         "y": [
          1.6832621097564695,
          2.718879222869873,
          4.133774280548096,
          0.9374528527259828,
          0.9921542406082152,
          0.9496339559555054,
          0.19675254821777344,
          3.3569586277008057,
          1.9029688835144043,
          0.6884750723838806,
          57.09585952758789,
          1.6761009693145752,
          0.6944566369056702,
          3.497514247894287,
          1.0353564023971558,
          1.0631253719329834,
          2.037635803222656,
          1.1794947385787964,
          1.617057204246521,
          0.25690752267837524,
          1.666339635848999,
          0.2863463759422302,
          1.9188332557678225,
          1.8383734226226809,
          3.7519822120666504,
          1.539490818977356,
          3.844899654388428,
          2.1048226356506348,
          5.401401042938232,
          31.735116958618164,
          2.284303903579712,
          1.8603644371032717,
          42.0195426940918,
          2.946284770965576,
          29.72503662109375,
          4.311959266662598,
          2.493305206298828,
          0.36800265312194824,
          0.1357375830411911,
          0.4163820743560791,
          0.5215550065040588,
          2.026219129562378,
          9.413450241088867,
          2.5265307426452637,
          6.590582847595215,
          0.15651054680347443,
          1.061345100402832,
          0.5172461271286011,
          6.424074649810791,
          12.92077350616455,
          1.0462875366210938,
          0.5633422136306763,
          1.5618659257888794,
          5.705961227416992,
          21.76469612121582,
          17.26603126525879,
          3.8673524856567383,
          6.58205509185791,
          6.3990373611450195,
          2.136085033416748,
          2.4288887977600098,
          8.275482177734375,
          1.0451364517211914,
          0.9975589513778688,
          0.2827669680118561,
          1.1862815618515017,
          14.499253273010254,
          11.365944862365724,
          5.399655342102051,
          9.491596221923828,
          3.687133312225342,
          1.1428261995315552,
          3.309731960296631,
          0.9012058973312378,
          2.1046648025512695,
          0.6395716667175293,
          0.8946635723114014,
          0.9736807942390442,
          12.22368049621582,
          0.6779224276542664,
          2.420687437057495,
          1.269016146659851,
          3.0025641918182373,
          8.026185035705566,
          3.2269532680511475,
          1.7410376071929932,
          1.6359622478485107,
          6.699999809265137,
          0.11423911899328232,
          1.3765937089920044,
          21.013450622558594,
          44.35651779174805,
          11.333971977233888,
          0.5268151164054871,
          8.299456596374512,
          2.47080397605896,
          1.2710840702056885,
          2.406597852706909,
          10.05527400970459,
          1.0561952590942385,
          7.712463855743408,
          3.6907691955566406,
          0.9063705205917358,
          0.521674633026123,
          0.2765122056007385,
          0.7859070897102356,
          36.01213455200195,
          8.734682083129883,
          0.9855428338050842,
          27.547130584716797,
          0.27878081798553467,
          1.7164899110794067,
          4.959259033203125,
          3.523577928543091,
          0.7609374523162842,
          10.85429573059082,
          11.85334300994873,
          0.7273921370506287,
          0.3334680497646332,
          3.166825294494629,
          0.8119357228279114,
          2.395129680633545,
          20.62290382385254,
          2.9531877040863037,
          0.3053406774997711
         ]
        },
        {
         "line": {
          "color": "gray",
          "dash": "dot"
         },
         "mode": "lines",
         "showlegend": false,
         "type": "scatter",
         "x": [
          -1,
          200
         ],
         "y": [
          -1,
          200
         ]
        }
       ],
       "layout": {
        "autosize": false,
        "font": {
         "size": 20
        },
        "height": 600,
        "template": {
         "data": {
          "bar": [
           {
            "error_x": {
             "color": "rgb(36,36,36)"
            },
            "error_y": {
             "color": "rgb(36,36,36)"
            },
            "marker": {
             "line": {
              "color": "white",
              "width": 0.5
             },
             "pattern": {
              "fillmode": "overlay",
              "size": 10,
              "solidity": 0.2
             }
            },
            "type": "bar"
           }
          ],
          "barpolar": [
           {
            "marker": {
             "line": {
              "color": "white",
              "width": 0.5
             },
             "pattern": {
              "fillmode": "overlay",
              "size": 10,
              "solidity": 0.2
             }
            },
            "type": "barpolar"
           }
          ],
          "carpet": [
           {
            "aaxis": {
             "endlinecolor": "rgb(36,36,36)",
             "gridcolor": "white",
             "linecolor": "white",
             "minorgridcolor": "white",
             "startlinecolor": "rgb(36,36,36)"
            },
            "baxis": {
             "endlinecolor": "rgb(36,36,36)",
             "gridcolor": "white",
             "linecolor": "white",
             "minorgridcolor": "white",
             "startlinecolor": "rgb(36,36,36)"
            },
            "type": "carpet"
           }
          ],
          "choropleth": [
           {
            "colorbar": {
             "outlinewidth": 1,
             "tickcolor": "rgb(36,36,36)",
             "ticks": "outside"
            },
            "type": "choropleth"
           }
          ],
          "contour": [
           {
            "colorbar": {
             "outlinewidth": 1,
             "tickcolor": "rgb(36,36,36)",
             "ticks": "outside"
            },
            "colorscale": [
             [
              0,
              "#440154"
             ],
             [
              0.1111111111111111,
              "#482878"
             ],
             [
              0.2222222222222222,
              "#3e4989"
             ],
             [
              0.3333333333333333,
              "#31688e"
             ],
             [
              0.4444444444444444,
              "#26828e"
             ],
             [
              0.5555555555555556,
              "#1f9e89"
             ],
             [
              0.6666666666666666,
              "#35b779"
             ],
             [
              0.7777777777777778,
              "#6ece58"
             ],
             [
              0.8888888888888888,
              "#b5de2b"
             ],
             [
              1,
              "#fde725"
             ]
            ],
            "type": "contour"
           }
          ],
          "contourcarpet": [
           {
            "colorbar": {
             "outlinewidth": 1,
             "tickcolor": "rgb(36,36,36)",
             "ticks": "outside"
            },
            "type": "contourcarpet"
           }
          ],
          "heatmap": [
           {
            "colorbar": {
             "outlinewidth": 1,
             "tickcolor": "rgb(36,36,36)",
             "ticks": "outside"
            },
            "colorscale": [
             [
              0,
              "#440154"
             ],
             [
              0.1111111111111111,
              "#482878"
             ],
             [
              0.2222222222222222,
              "#3e4989"
             ],
             [
              0.3333333333333333,
              "#31688e"
             ],
             [
              0.4444444444444444,
              "#26828e"
             ],
             [
              0.5555555555555556,
              "#1f9e89"
             ],
             [
              0.6666666666666666,
              "#35b779"
             ],
             [
              0.7777777777777778,
              "#6ece58"
             ],
             [
              0.8888888888888888,
              "#b5de2b"
             ],
             [
              1,
              "#fde725"
             ]
            ],
            "type": "heatmap"
           }
          ],
          "heatmapgl": [
           {
            "colorbar": {
             "outlinewidth": 1,
             "tickcolor": "rgb(36,36,36)",
             "ticks": "outside"
            },
            "colorscale": [
             [
              0,
              "#440154"
             ],
             [
              0.1111111111111111,
              "#482878"
             ],
             [
              0.2222222222222222,
              "#3e4989"
             ],
             [
              0.3333333333333333,
              "#31688e"
             ],
             [
              0.4444444444444444,
              "#26828e"
             ],
             [
              0.5555555555555556,
              "#1f9e89"
             ],
             [
              0.6666666666666666,
              "#35b779"
             ],
             [
              0.7777777777777778,
              "#6ece58"
             ],
             [
              0.8888888888888888,
              "#b5de2b"
             ],
             [
              1,
              "#fde725"
             ]
            ],
            "type": "heatmapgl"
           }
          ],
          "histogram": [
           {
            "marker": {
             "line": {
              "color": "white",
              "width": 0.6
             }
            },
            "type": "histogram"
           }
          ],
          "histogram2d": [
           {
            "colorbar": {
             "outlinewidth": 1,
             "tickcolor": "rgb(36,36,36)",
             "ticks": "outside"
            },
            "colorscale": [
             [
              0,
              "#440154"
             ],
             [
              0.1111111111111111,
              "#482878"
             ],
             [
              0.2222222222222222,
              "#3e4989"
             ],
             [
              0.3333333333333333,
              "#31688e"
             ],
             [
              0.4444444444444444,
              "#26828e"
             ],
             [
              0.5555555555555556,
              "#1f9e89"
             ],
             [
              0.6666666666666666,
              "#35b779"
             ],
             [
              0.7777777777777778,
              "#6ece58"
             ],
             [
              0.8888888888888888,
              "#b5de2b"
             ],
             [
              1,
              "#fde725"
             ]
            ],
            "type": "histogram2d"
           }
          ],
          "histogram2dcontour": [
           {
            "colorbar": {
             "outlinewidth": 1,
             "tickcolor": "rgb(36,36,36)",
             "ticks": "outside"
            },
            "colorscale": [
             [
              0,
              "#440154"
             ],
             [
              0.1111111111111111,
              "#482878"
             ],
             [
              0.2222222222222222,
              "#3e4989"
             ],
             [
              0.3333333333333333,
              "#31688e"
             ],
             [
              0.4444444444444444,
              "#26828e"
             ],
             [
              0.5555555555555556,
              "#1f9e89"
             ],
             [
              0.6666666666666666,
              "#35b779"
             ],
             [
              0.7777777777777778,
              "#6ece58"
             ],
             [
              0.8888888888888888,
              "#b5de2b"
             ],
             [
              1,
              "#fde725"
             ]
            ],
            "type": "histogram2dcontour"
           }
          ],
          "mesh3d": [
           {
            "colorbar": {
             "outlinewidth": 1,
             "tickcolor": "rgb(36,36,36)",
             "ticks": "outside"
            },
            "type": "mesh3d"
           }
          ],
          "parcoords": [
           {
            "line": {
             "colorbar": {
              "outlinewidth": 1,
              "tickcolor": "rgb(36,36,36)",
              "ticks": "outside"
             }
            },
            "type": "parcoords"
           }
          ],
          "pie": [
           {
            "automargin": true,
            "type": "pie"
           }
          ],
          "scatter": [
           {
            "fillpattern": {
             "fillmode": "overlay",
             "size": 10,
             "solidity": 0.2
            },
            "type": "scatter"
           }
          ],
          "scatter3d": [
           {
            "line": {
             "colorbar": {
              "outlinewidth": 1,
              "tickcolor": "rgb(36,36,36)",
              "ticks": "outside"
             }
            },
            "marker": {
             "colorbar": {
              "outlinewidth": 1,
              "tickcolor": "rgb(36,36,36)",
              "ticks": "outside"
             }
            },
            "type": "scatter3d"
           }
          ],
          "scattercarpet": [
           {
            "marker": {
             "colorbar": {
              "outlinewidth": 1,
              "tickcolor": "rgb(36,36,36)",
              "ticks": "outside"
             }
            },
            "type": "scattercarpet"
           }
          ],
          "scattergeo": [
           {
            "marker": {
             "colorbar": {
              "outlinewidth": 1,
              "tickcolor": "rgb(36,36,36)",
              "ticks": "outside"
             }
            },
            "type": "scattergeo"
           }
          ],
          "scattergl": [
           {
            "marker": {
             "colorbar": {
              "outlinewidth": 1,
              "tickcolor": "rgb(36,36,36)",
              "ticks": "outside"
             }
            },
            "type": "scattergl"
           }
          ],
          "scattermapbox": [
           {
            "marker": {
             "colorbar": {
              "outlinewidth": 1,
              "tickcolor": "rgb(36,36,36)",
              "ticks": "outside"
             }
            },
            "type": "scattermapbox"
           }
          ],
          "scatterpolar": [
           {
            "marker": {
             "colorbar": {
              "outlinewidth": 1,
              "tickcolor": "rgb(36,36,36)",
              "ticks": "outside"
             }
            },
            "type": "scatterpolar"
           }
          ],
          "scatterpolargl": [
           {
            "marker": {
             "colorbar": {
              "outlinewidth": 1,
              "tickcolor": "rgb(36,36,36)",
              "ticks": "outside"
             }
            },
            "type": "scatterpolargl"
           }
          ],
          "scatterternary": [
           {
            "marker": {
             "colorbar": {
              "outlinewidth": 1,
              "tickcolor": "rgb(36,36,36)",
              "ticks": "outside"
             }
            },
            "type": "scatterternary"
           }
          ],
          "surface": [
           {
            "colorbar": {
             "outlinewidth": 1,
             "tickcolor": "rgb(36,36,36)",
             "ticks": "outside"
            },
            "colorscale": [
             [
              0,
              "#440154"
             ],
             [
              0.1111111111111111,
              "#482878"
             ],
             [
              0.2222222222222222,
              "#3e4989"
             ],
             [
              0.3333333333333333,
              "#31688e"
             ],
             [
              0.4444444444444444,
              "#26828e"
             ],
             [
              0.5555555555555556,
              "#1f9e89"
             ],
             [
              0.6666666666666666,
              "#35b779"
             ],
             [
              0.7777777777777778,
              "#6ece58"
             ],
             [
              0.8888888888888888,
              "#b5de2b"
             ],
             [
              1,
              "#fde725"
             ]
            ],
            "type": "surface"
           }
          ],
          "table": [
           {
            "cells": {
             "fill": {
              "color": "rgb(237,237,237)"
             },
             "line": {
              "color": "white"
             }
            },
            "header": {
             "fill": {
              "color": "rgb(217,217,217)"
             },
             "line": {
              "color": "white"
             }
            },
            "type": "table"
           }
          ]
         },
         "layout": {
          "annotationdefaults": {
           "arrowhead": 0,
           "arrowwidth": 1
          },
          "autotypenumbers": "strict",
          "coloraxis": {
           "colorbar": {
            "outlinewidth": 1,
            "tickcolor": "rgb(36,36,36)",
            "ticks": "outside"
           }
          },
          "colorscale": {
           "diverging": [
            [
             0,
             "rgb(103,0,31)"
            ],
            [
             0.1,
             "rgb(178,24,43)"
            ],
            [
             0.2,
             "rgb(214,96,77)"
            ],
            [
             0.3,
             "rgb(244,165,130)"
            ],
            [
             0.4,
             "rgb(253,219,199)"
            ],
            [
             0.5,
             "rgb(247,247,247)"
            ],
            [
             0.6,
             "rgb(209,229,240)"
            ],
            [
             0.7,
             "rgb(146,197,222)"
            ],
            [
             0.8,
             "rgb(67,147,195)"
            ],
            [
             0.9,
             "rgb(33,102,172)"
            ],
            [
             1,
             "rgb(5,48,97)"
            ]
           ],
           "sequential": [
            [
             0,
             "#440154"
            ],
            [
             0.1111111111111111,
             "#482878"
            ],
            [
             0.2222222222222222,
             "#3e4989"
            ],
            [
             0.3333333333333333,
             "#31688e"
            ],
            [
             0.4444444444444444,
             "#26828e"
            ],
            [
             0.5555555555555556,
             "#1f9e89"
            ],
            [
             0.6666666666666666,
             "#35b779"
            ],
            [
             0.7777777777777778,
             "#6ece58"
            ],
            [
             0.8888888888888888,
             "#b5de2b"
            ],
            [
             1,
             "#fde725"
            ]
           ],
           "sequentialminus": [
            [
             0,
             "#440154"
            ],
            [
             0.1111111111111111,
             "#482878"
            ],
            [
             0.2222222222222222,
             "#3e4989"
            ],
            [
             0.3333333333333333,
             "#31688e"
            ],
            [
             0.4444444444444444,
             "#26828e"
            ],
            [
             0.5555555555555556,
             "#1f9e89"
            ],
            [
             0.6666666666666666,
             "#35b779"
            ],
            [
             0.7777777777777778,
             "#6ece58"
            ],
            [
             0.8888888888888888,
             "#b5de2b"
            ],
            [
             1,
             "#fde725"
            ]
           ]
          },
          "colorway": [
           "#1F77B4",
           "#FF7F0E",
           "#2CA02C",
           "#D62728",
           "#9467BD",
           "#8C564B",
           "#E377C2",
           "#7F7F7F",
           "#BCBD22",
           "#17BECF"
          ],
          "font": {
           "color": "rgb(36,36,36)"
          },
          "geo": {
           "bgcolor": "white",
           "lakecolor": "white",
           "landcolor": "white",
           "showlakes": true,
           "showland": true,
           "subunitcolor": "white"
          },
          "hoverlabel": {
           "align": "left"
          },
          "hovermode": "closest",
          "mapbox": {
           "style": "light"
          },
          "paper_bgcolor": "white",
          "plot_bgcolor": "white",
          "polar": {
           "angularaxis": {
            "gridcolor": "rgb(232,232,232)",
            "linecolor": "rgb(36,36,36)",
            "showgrid": false,
            "showline": true,
            "ticks": "outside"
           },
           "bgcolor": "white",
           "radialaxis": {
            "gridcolor": "rgb(232,232,232)",
            "linecolor": "rgb(36,36,36)",
            "showgrid": false,
            "showline": true,
            "ticks": "outside"
           }
          },
          "scene": {
           "xaxis": {
            "backgroundcolor": "white",
            "gridcolor": "rgb(232,232,232)",
            "gridwidth": 2,
            "linecolor": "rgb(36,36,36)",
            "showbackground": true,
            "showgrid": false,
            "showline": true,
            "ticks": "outside",
            "zeroline": false,
            "zerolinecolor": "rgb(36,36,36)"
           },
           "yaxis": {
            "backgroundcolor": "white",
            "gridcolor": "rgb(232,232,232)",
            "gridwidth": 2,
            "linecolor": "rgb(36,36,36)",
            "showbackground": true,
            "showgrid": false,
            "showline": true,
            "ticks": "outside",
            "zeroline": false,
            "zerolinecolor": "rgb(36,36,36)"
           },
           "zaxis": {
            "backgroundcolor": "white",
            "gridcolor": "rgb(232,232,232)",
            "gridwidth": 2,
            "linecolor": "rgb(36,36,36)",
            "showbackground": true,
            "showgrid": false,
            "showline": true,
            "ticks": "outside",
            "zeroline": false,
            "zerolinecolor": "rgb(36,36,36)"
           }
          },
          "shapedefaults": {
           "fillcolor": "black",
           "line": {
            "width": 0
           },
           "opacity": 0.3
          },
          "ternary": {
           "aaxis": {
            "gridcolor": "rgb(232,232,232)",
            "linecolor": "rgb(36,36,36)",
            "showgrid": false,
            "showline": true,
            "ticks": "outside"
           },
           "baxis": {
            "gridcolor": "rgb(232,232,232)",
            "linecolor": "rgb(36,36,36)",
            "showgrid": false,
            "showline": true,
            "ticks": "outside"
           },
           "bgcolor": "white",
           "caxis": {
            "gridcolor": "rgb(232,232,232)",
            "linecolor": "rgb(36,36,36)",
            "showgrid": false,
            "showline": true,
            "ticks": "outside"
           }
          },
          "title": {
           "x": 0.05
          },
          "xaxis": {
           "automargin": true,
           "gridcolor": "rgb(232,232,232)",
           "linecolor": "rgb(36,36,36)",
           "showgrid": false,
           "showline": true,
           "ticks": "outside",
           "title": {
            "standoff": 15
           },
           "zeroline": false,
           "zerolinecolor": "rgb(36,36,36)"
          },
          "yaxis": {
           "automargin": true,
           "gridcolor": "rgb(232,232,232)",
           "linecolor": "rgb(36,36,36)",
           "showgrid": false,
           "showline": true,
           "ticks": "outside",
           "title": {
            "standoff": 15
           },
           "zeroline": false,
           "zerolinecolor": "rgb(36,36,36)"
          }
         }
        },
        "width": 600,
        "xaxis": {
         "range": [
          -1,
          100
         ],
         "showgrid": false,
         "title": {
          "text": "<i>d</i><sub>RMS</sub> (pm/V)"
         }
        },
        "yaxis": {
         "range": [
          -1,
          100
         ],
         "showgrid": false,
         "title": {
          "text": "<i>d&#770;</i><sub>RMS</sub> (pm/V)"
         }
        }
       }
      }
     },
     "metadata": {},
     "output_type": "display_data"
    }
   ],
   "source": [
    "# Data\n",
    "\n",
    "mae = mean_absolute_error(df_pred_matten[\"dRMS_true\"], df_pred_matten[\"dRMS_matten\"])\n",
    "mape = mean_absolute_percentage_error(\n",
    "    df_pred_matten[\"dRMS_true\"], df_pred_matten[\"dRMS_matten\"]\n",
    ")\n",
    "rmse = root_mean_squared_error(\n",
    "    df_pred_matten[\"dRMS_true\"], df_pred_matten[\"dRMS_matten\"]\n",
    ")\n",
    "spearmanrho = spearmanr(df_pred_matten[\"dRMS_true\"], df_pred_matten[\"dRMS_matten\"])\n",
    "print(f\"MAE = {mae}\")\n",
    "print(f\"MAPE = {mape}\")\n",
    "print(f\"RMSE = {rmse}\")\n",
    "print(f\"Rho_sp = {spearmanrho.statistic}\")\n",
    "\n",
    "# Scatter plot for previous outputs.\n",
    "scatter_dRMS = go.Scatter(\n",
    "    x=df_pred_matten[\"dRMS_true\"],\n",
    "    y=df_pred_matten[\"dRMS_matten\"],\n",
    "    mode=\"markers\",\n",
    "    name=\"\",\n",
    "    showlegend=False,\n",
    "    text=[mpid for mpid in df_pred_matten.index.values],\n",
    ")\n",
    "\n",
    "ideal = go.Scatter(\n",
    "    x=[-1, 200],\n",
    "    y=[-1, 200],\n",
    "    mode=\"lines\",\n",
    "    line=dict(color=\"gray\", dash=\"dot\"),\n",
    "    showlegend=False,\n",
    ")\n",
    "\n",
    "# Layout\n",
    "layout = go.Layout(\n",
    "    # title=dict(text='Scatter Plot'),\n",
    "    xaxis=dict(title=\"<i>d</i><sub>RMS</sub> (pm/V)\", range=[-1, 100]),\n",
    "    yaxis=dict(title=\"<i>d&#770;</i><sub>RMS</sub> (pm/V)\", range=[-1, 100]),\n",
    "    # legend=dict(font=dict(size=12)),\n",
    ")\n",
    "\n",
    "# Create figure\n",
    "fig = go.Figure(data=[scatter_dRMS, ideal], layout=layout)\n",
    "\n",
    "fig.update_layout(\n",
    "    autosize=False,\n",
    "    font_size=20,\n",
    "    width=600,\n",
    "    height=600,\n",
    "    # plot_bgcolor=\"white\",\n",
    "    template=\"simple_white\",\n",
    ")\n",
    "fig.update_layout(\n",
    "    xaxis=dict(\n",
    "        # tickmode = 'array',\n",
    "        # tickvals = [1, 2,3,4,5,6,7,8],\n",
    "        # ticktext = ['One', 'Three', 'Five', 'Seven', 'Nine', 'Eleven']\n",
    "        showgrid=False,\n",
    "    ),\n",
    "    yaxis=dict(\n",
    "        # tickmode = 'array',\n",
    "        # tickvals = [1, 2,3,4,5,6,7,8],\n",
    "        # ticktext = ['One', 'Three', 'Five', 'Seven', 'Nine', 'Eleven']\n",
    "        showgrid=False,\n",
    "    ),\n",
    ")\n",
    "\n",
    "# Show figure\n",
    "fig.show()"
   ]
  },
  {
   "cell_type": "code",
   "execution_count": null,
   "metadata": {},
   "outputs": [],
   "source": []
  }
 ],
 "metadata": {
  "kernelspec": {
   "display_name": "shgmlenv",
   "language": "python",
   "name": "python3"
  },
  "language_info": {
   "codemirror_mode": {
    "name": "ipython",
    "version": 3
   },
   "file_extension": ".py",
   "mimetype": "text/x-python",
   "name": "python",
   "nbconvert_exporter": "python",
   "pygments_lexer": "ipython3",
   "version": "3.11.0"
  }
 },
 "nbformat": 4,
 "nbformat_minor": 2
}
