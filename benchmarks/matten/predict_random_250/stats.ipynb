{
 "cells": [
  {
   "cell_type": "code",
   "execution_count": 1,
   "metadata": {},
   "outputs": [],
   "source": [
    "from pathlib import Path\n",
    "\n",
    "from scipy.stats import spearmanr\n",
    "from sklearn.metrics import (\n",
    "    mean_absolute_error,\n",
    "    mean_absolute_percentage_error,\n",
    "    root_mean_squared_error,\n",
    ")"
   ]
  },
  {
   "cell_type": "code",
   "execution_count": 2,
   "metadata": {},
   "outputs": [],
   "source": [
    "import os\n",
    "\n",
    "import numpy as np\n",
    "import pandas as pd\n",
    "import plotly.graph_objs as go"
   ]
  },
  {
   "cell_type": "code",
   "execution_count": 3,
   "metadata": {},
   "outputs": [],
   "source": [
    "import shg_ml_benchmarks.utils_shg as shg"
   ]
  },
  {
   "cell_type": "code",
   "execution_count": 4,
   "metadata": {},
   "outputs": [
    {
     "name": "stdout",
     "output_type": "stream",
     "text": [
      "(250, 7)\n"
     ]
    },
    {
     "data": {
      "text/html": [
       "<div>\n",
       "<style scoped>\n",
       "    .dataframe tbody tr th:only-of-type {\n",
       "        vertical-align: middle;\n",
       "    }\n",
       "\n",
       "    .dataframe tbody tr th {\n",
       "        vertical-align: top;\n",
       "    }\n",
       "\n",
       "    .dataframe thead th {\n",
       "        text-align: right;\n",
       "    }\n",
       "</style>\n",
       "<table border=\"1\" class=\"dataframe\">\n",
       "  <thead>\n",
       "    <tr style=\"text-align: right;\">\n",
       "      <th></th>\n",
       "      <th>dijk_matten</th>\n",
       "      <th>dKP_matten</th>\n",
       "      <th>dRMS_matten</th>\n",
       "      <th>dKP_matten_masked</th>\n",
       "      <th>dRMS_matten_masked</th>\n",
       "      <th>dKP_true</th>\n",
       "      <th>dRMS_true</th>\n",
       "    </tr>\n",
       "  </thead>\n",
       "  <tbody>\n",
       "    <tr>\n",
       "      <th>mp-21892</th>\n",
       "      <td>[[[-0.88546324, -2.923241e-06, -3.467049e-07],...</td>\n",
       "      <td>3.373881</td>\n",
       "      <td>1.867279</td>\n",
       "      <td>0.000001</td>\n",
       "      <td>7.705444e-07</td>\n",
       "      <td>1.670288</td>\n",
       "      <td>0.832098</td>\n",
       "    </tr>\n",
       "    <tr>\n",
       "      <th>mp-8070</th>\n",
       "      <td>[[[2.49661, 3.4147845e-06, 0.40592977], [3.414...</td>\n",
       "      <td>5.910080</td>\n",
       "      <td>2.706850</td>\n",
       "      <td>5.910080</td>\n",
       "      <td>2.706850e+00</td>\n",
       "      <td>0.615357</td>\n",
       "      <td>0.305560</td>\n",
       "    </tr>\n",
       "    <tr>\n",
       "      <th>mp-558491</th>\n",
       "      <td>[[[-0.17298138, 0.120728336, 5.1751044e-08], [...</td>\n",
       "      <td>0.145567</td>\n",
       "      <td>0.081193</td>\n",
       "      <td>0.145567</td>\n",
       "      <td>8.119334e-02</td>\n",
       "      <td>0.916306</td>\n",
       "      <td>0.511091</td>\n",
       "    </tr>\n",
       "    <tr>\n",
       "      <th>mp-632684</th>\n",
       "      <td>[[[-1.2744176e-06, -1.1241766e-07, 0.77896], [...</td>\n",
       "      <td>1.049645</td>\n",
       "      <td>0.438047</td>\n",
       "      <td>1.049645</td>\n",
       "      <td>4.380471e-01</td>\n",
       "      <td>0.633297</td>\n",
       "      <td>0.261316</td>\n",
       "    </tr>\n",
       "    <tr>\n",
       "      <th>mp-23329</th>\n",
       "      <td>[[[1.23548925e-05, -0.69867986, 0.23209679], [...</td>\n",
       "      <td>9.077247</td>\n",
       "      <td>3.862126</td>\n",
       "      <td>2.971185</td>\n",
       "      <td>1.296609e+00</td>\n",
       "      <td>8.216653</td>\n",
       "      <td>3.472409</td>\n",
       "    </tr>\n",
       "  </tbody>\n",
       "</table>\n",
       "</div>"
      ],
      "text/plain": [
       "                                                 dijk_matten  dKP_matten  \\\n",
       "mp-21892   [[[-0.88546324, -2.923241e-06, -3.467049e-07],...    3.373881   \n",
       "mp-8070    [[[2.49661, 3.4147845e-06, 0.40592977], [3.414...    5.910080   \n",
       "mp-558491  [[[-0.17298138, 0.120728336, 5.1751044e-08], [...    0.145567   \n",
       "mp-632684  [[[-1.2744176e-06, -1.1241766e-07, 0.77896], [...    1.049645   \n",
       "mp-23329   [[[1.23548925e-05, -0.69867986, 0.23209679], [...    9.077247   \n",
       "\n",
       "           dRMS_matten  dKP_matten_masked  dRMS_matten_masked  dKP_true  \\\n",
       "mp-21892      1.867279           0.000001        7.705444e-07  1.670288   \n",
       "mp-8070       2.706850           5.910080        2.706850e+00  0.615357   \n",
       "mp-558491     0.081193           0.145567        8.119334e-02  0.916306   \n",
       "mp-632684     0.438047           1.049645        4.380471e-01  0.633297   \n",
       "mp-23329      3.862126           2.971185        1.296609e+00  8.216653   \n",
       "\n",
       "           dRMS_true  \n",
       "mp-21892    0.832098  \n",
       "mp-8070     0.305560  \n",
       "mp-558491   0.511091  \n",
       "mp-632684   0.261316  \n",
       "mp-23329    3.472409  "
      ]
     },
     "metadata": {},
     "output_type": "display_data"
    }
   ],
   "source": [
    "df_orig = pd.read_pickle(\n",
    "    \"/home/vtrinquet/Softwares_Packages/Github/modl_uclouvain/shg-ml-benchmarks/data/df_rot_ieee_pmg.pkl.gz\"\n",
    ")\n",
    "df_orig = df_orig.query(\"is_unique_here == True\")\n",
    "df_pred_matten = pd.read_pickle(\"df_pred_matten_holdout.pkl.gz\")\n",
    "\n",
    "# Computing dKP from the Matten tensors predictions\n",
    "list_dKP_matten = []\n",
    "list_dRMS_matten = []\n",
    "list_dKP_matten_masked = []\n",
    "list_dRMS_matten_masked = []\n",
    "for ir, r in df_pred_matten.iterrows():\n",
    "    dijk_matten = shg.from_voigt(r[\"dijk_matten\"])\n",
    "    list_dKP_matten.append(shg.get_dKP(dijk_matten))\n",
    "    list_dRMS_matten.append(shg.get_dRMS(dijk_matten))\n",
    "\n",
    "    dijk_orig = shg.from_voigt(df_orig.loc[ir][\"dijk_full_neum\"])\n",
    "    dijk_matten = np.where(dijk_orig != 0, dijk_matten, 0)\n",
    "    list_dKP_matten_masked.append(shg.get_dKP(dijk_matten))\n",
    "    list_dRMS_matten_masked.append(shg.get_dRMS(dijk_matten))\n",
    "\n",
    "df_pred_matten[\"dKP_matten\"] = list_dKP_matten\n",
    "df_pred_matten[\"dRMS_matten\"] = list_dRMS_matten\n",
    "df_pred_matten[\"dKP_matten_masked\"] = list_dKP_matten_masked\n",
    "df_pred_matten[\"dRMS_matten_masked\"] = list_dRMS_matten_masked\n",
    "\n",
    "# Adding the true dKP to the df\n",
    "df_pred_matten[\"dKP_true\"] = df_orig.filter(df_pred_matten.index, axis=0)[\n",
    "    \"dKP_full_neum\"\n",
    "].tolist()\n",
    "df_pred_matten[\"dRMS_true\"] = [\n",
    "    shg.get_dRMS(d)\n",
    "    for d in df_orig.filter(df_pred_matten.index, axis=0)[\"dijk_full_neum\"].tolist()\n",
    "]\n",
    "\n",
    "print(df_pred_matten.shape)\n",
    "display(df_pred_matten.head())"
   ]
  },
  {
   "cell_type": "code",
   "execution_count": 5,
   "metadata": {},
   "outputs": [
    {
     "name": "stdout",
     "output_type": "stream",
     "text": [
      "(1001, 13)\n"
     ]
    },
    {
     "data": {
      "text/html": [
       "<div>\n",
       "<style scoped>\n",
       "    .dataframe tbody tr th:only-of-type {\n",
       "        vertical-align: middle;\n",
       "    }\n",
       "\n",
       "    .dataframe tbody tr th {\n",
       "        vertical-align: top;\n",
       "    }\n",
       "\n",
       "    .dataframe thead th {\n",
       "        text-align: right;\n",
       "    }\n",
       "</style>\n",
       "<table border=\"1\" class=\"dataframe\">\n",
       "  <thead>\n",
       "    <tr style=\"text-align: right;\">\n",
       "      <th></th>\n",
       "      <th>cumulative time</th>\n",
       "      <th>epoch</th>\n",
       "      <th>epoch time</th>\n",
       "      <th>metric_test/MeanAbsoluteError/shg_tensor_full</th>\n",
       "      <th>metric_val/MeanAbsoluteError/shg_tensor_full</th>\n",
       "      <th>step</th>\n",
       "      <th>test/loss/shg_tensor_full</th>\n",
       "      <th>test/total_loss</th>\n",
       "      <th>train/loss/shg_tensor_full</th>\n",
       "      <th>train/total_loss</th>\n",
       "      <th>val/loss/shg_tensor_full</th>\n",
       "      <th>val/score</th>\n",
       "      <th>val/total_loss</th>\n",
       "    </tr>\n",
       "  </thead>\n",
       "  <tbody>\n",
       "    <tr>\n",
       "      <th>0</th>\n",
       "      <td>42.650837</td>\n",
       "      <td>0</td>\n",
       "      <td>11.581379</td>\n",
       "      <td>NaN</td>\n",
       "      <td>5.360172</td>\n",
       "      <td>66</td>\n",
       "      <td>NaN</td>\n",
       "      <td>NaN</td>\n",
       "      <td>NaN</td>\n",
       "      <td>NaN</td>\n",
       "      <td>793.076477</td>\n",
       "      <td>5.360172</td>\n",
       "      <td>793.076477</td>\n",
       "    </tr>\n",
       "    <tr>\n",
       "      <th>1</th>\n",
       "      <td>NaN</td>\n",
       "      <td>0</td>\n",
       "      <td>NaN</td>\n",
       "      <td>NaN</td>\n",
       "      <td>NaN</td>\n",
       "      <td>66</td>\n",
       "      <td>NaN</td>\n",
       "      <td>NaN</td>\n",
       "      <td>685.362244</td>\n",
       "      <td>685.362244</td>\n",
       "      <td>NaN</td>\n",
       "      <td>NaN</td>\n",
       "      <td>NaN</td>\n",
       "    </tr>\n",
       "    <tr>\n",
       "      <th>2</th>\n",
       "      <td>53.455158</td>\n",
       "      <td>1</td>\n",
       "      <td>10.804320</td>\n",
       "      <td>NaN</td>\n",
       "      <td>5.114588</td>\n",
       "      <td>133</td>\n",
       "      <td>NaN</td>\n",
       "      <td>NaN</td>\n",
       "      <td>NaN</td>\n",
       "      <td>NaN</td>\n",
       "      <td>709.228088</td>\n",
       "      <td>5.114588</td>\n",
       "      <td>709.228088</td>\n",
       "    </tr>\n",
       "    <tr>\n",
       "      <th>3</th>\n",
       "      <td>NaN</td>\n",
       "      <td>1</td>\n",
       "      <td>NaN</td>\n",
       "      <td>NaN</td>\n",
       "      <td>NaN</td>\n",
       "      <td>133</td>\n",
       "      <td>NaN</td>\n",
       "      <td>NaN</td>\n",
       "      <td>596.966492</td>\n",
       "      <td>596.966492</td>\n",
       "      <td>NaN</td>\n",
       "      <td>NaN</td>\n",
       "      <td>NaN</td>\n",
       "    </tr>\n",
       "    <tr>\n",
       "      <th>4</th>\n",
       "      <td>64.224731</td>\n",
       "      <td>2</td>\n",
       "      <td>10.769577</td>\n",
       "      <td>NaN</td>\n",
       "      <td>5.338074</td>\n",
       "      <td>200</td>\n",
       "      <td>NaN</td>\n",
       "      <td>NaN</td>\n",
       "      <td>NaN</td>\n",
       "      <td>NaN</td>\n",
       "      <td>745.423218</td>\n",
       "      <td>5.338074</td>\n",
       "      <td>745.423218</td>\n",
       "    </tr>\n",
       "  </tbody>\n",
       "</table>\n",
       "</div>"
      ],
      "text/plain": [
       "   cumulative time  epoch  epoch time  \\\n",
       "0        42.650837      0   11.581379   \n",
       "1              NaN      0         NaN   \n",
       "2        53.455158      1   10.804320   \n",
       "3              NaN      1         NaN   \n",
       "4        64.224731      2   10.769577   \n",
       "\n",
       "   metric_test/MeanAbsoluteError/shg_tensor_full  \\\n",
       "0                                            NaN   \n",
       "1                                            NaN   \n",
       "2                                            NaN   \n",
       "3                                            NaN   \n",
       "4                                            NaN   \n",
       "\n",
       "   metric_val/MeanAbsoluteError/shg_tensor_full  step  \\\n",
       "0                                      5.360172    66   \n",
       "1                                           NaN    66   \n",
       "2                                      5.114588   133   \n",
       "3                                           NaN   133   \n",
       "4                                      5.338074   200   \n",
       "\n",
       "   test/loss/shg_tensor_full  test/total_loss  train/loss/shg_tensor_full  \\\n",
       "0                        NaN              NaN                         NaN   \n",
       "1                        NaN              NaN                  685.362244   \n",
       "2                        NaN              NaN                         NaN   \n",
       "3                        NaN              NaN                  596.966492   \n",
       "4                        NaN              NaN                         NaN   \n",
       "\n",
       "   train/total_loss  val/loss/shg_tensor_full  val/score  val/total_loss  \n",
       "0               NaN                793.076477   5.360172      793.076477  \n",
       "1        685.362244                       NaN        NaN             NaN  \n",
       "2               NaN                709.228088   5.114588      709.228088  \n",
       "3        596.966492                       NaN        NaN             NaN  \n",
       "4               NaN                745.423218   5.338074      745.423218  "
      ]
     },
     "metadata": {},
     "output_type": "display_data"
    }
   ],
   "source": [
    "type_set = os.path.basename(Path(os.getcwd())).split(\"predict_\")[1]\n",
    "\n",
    "df_lr = pd.read_csv(f\"../scripts_{type_set}/lightning_logs/version_0/metrics.csv\")\n",
    "print(df_lr.shape)\n",
    "display(df_lr.head())"
   ]
  },
  {
   "cell_type": "code",
   "execution_count": 6,
   "metadata": {},
   "outputs": [
    {
     "data": {
      "text/html": [
       "<div>\n",
       "<style scoped>\n",
       "    .dataframe tbody tr th:only-of-type {\n",
       "        vertical-align: middle;\n",
       "    }\n",
       "\n",
       "    .dataframe tbody tr th {\n",
       "        vertical-align: top;\n",
       "    }\n",
       "\n",
       "    .dataframe thead th {\n",
       "        text-align: right;\n",
       "    }\n",
       "</style>\n",
       "<table border=\"1\" class=\"dataframe\">\n",
       "  <thead>\n",
       "    <tr style=\"text-align: right;\">\n",
       "      <th></th>\n",
       "      <th>cumulative time</th>\n",
       "      <th>epoch</th>\n",
       "      <th>epoch time</th>\n",
       "      <th>metric_test/MeanAbsoluteError/shg_tensor_full</th>\n",
       "      <th>metric_val/MeanAbsoluteError/shg_tensor_full</th>\n",
       "      <th>step</th>\n",
       "      <th>test/loss/shg_tensor_full</th>\n",
       "      <th>test/total_loss</th>\n",
       "      <th>train/loss/shg_tensor_full</th>\n",
       "      <th>train/total_loss</th>\n",
       "      <th>val/loss/shg_tensor_full</th>\n",
       "      <th>val/score</th>\n",
       "      <th>val/total_loss</th>\n",
       "    </tr>\n",
       "    <tr>\n",
       "      <th>epoch</th>\n",
       "      <th></th>\n",
       "      <th></th>\n",
       "      <th></th>\n",
       "      <th></th>\n",
       "      <th></th>\n",
       "      <th></th>\n",
       "      <th></th>\n",
       "      <th></th>\n",
       "      <th></th>\n",
       "      <th></th>\n",
       "      <th></th>\n",
       "      <th></th>\n",
       "      <th></th>\n",
       "    </tr>\n",
       "  </thead>\n",
       "  <tbody>\n",
       "    <tr>\n",
       "      <th>0</th>\n",
       "      <td>42.650837</td>\n",
       "      <td>0</td>\n",
       "      <td>11.581379</td>\n",
       "      <td>NaN</td>\n",
       "      <td>5.360172</td>\n",
       "      <td>66</td>\n",
       "      <td>NaN</td>\n",
       "      <td>NaN</td>\n",
       "      <td>NaN</td>\n",
       "      <td>NaN</td>\n",
       "      <td>793.076477</td>\n",
       "      <td>5.360172</td>\n",
       "      <td>793.076477</td>\n",
       "    </tr>\n",
       "    <tr>\n",
       "      <th>1</th>\n",
       "      <td>53.455158</td>\n",
       "      <td>1</td>\n",
       "      <td>10.804320</td>\n",
       "      <td>NaN</td>\n",
       "      <td>5.114588</td>\n",
       "      <td>133</td>\n",
       "      <td>NaN</td>\n",
       "      <td>NaN</td>\n",
       "      <td>NaN</td>\n",
       "      <td>NaN</td>\n",
       "      <td>709.228088</td>\n",
       "      <td>5.114588</td>\n",
       "      <td>709.228088</td>\n",
       "    </tr>\n",
       "    <tr>\n",
       "      <th>2</th>\n",
       "      <td>64.224731</td>\n",
       "      <td>2</td>\n",
       "      <td>10.769577</td>\n",
       "      <td>NaN</td>\n",
       "      <td>5.338074</td>\n",
       "      <td>200</td>\n",
       "      <td>NaN</td>\n",
       "      <td>NaN</td>\n",
       "      <td>NaN</td>\n",
       "      <td>NaN</td>\n",
       "      <td>745.423218</td>\n",
       "      <td>5.338074</td>\n",
       "      <td>745.423218</td>\n",
       "    </tr>\n",
       "    <tr>\n",
       "      <th>3</th>\n",
       "      <td>75.429741</td>\n",
       "      <td>3</td>\n",
       "      <td>11.205003</td>\n",
       "      <td>NaN</td>\n",
       "      <td>5.594665</td>\n",
       "      <td>267</td>\n",
       "      <td>NaN</td>\n",
       "      <td>NaN</td>\n",
       "      <td>NaN</td>\n",
       "      <td>NaN</td>\n",
       "      <td>842.742615</td>\n",
       "      <td>5.594665</td>\n",
       "      <td>842.742615</td>\n",
       "    </tr>\n",
       "    <tr>\n",
       "      <th>4</th>\n",
       "      <td>86.574913</td>\n",
       "      <td>4</td>\n",
       "      <td>11.145176</td>\n",
       "      <td>NaN</td>\n",
       "      <td>5.942023</td>\n",
       "      <td>334</td>\n",
       "      <td>NaN</td>\n",
       "      <td>NaN</td>\n",
       "      <td>NaN</td>\n",
       "      <td>NaN</td>\n",
       "      <td>1181.420654</td>\n",
       "      <td>5.942023</td>\n",
       "      <td>1181.420654</td>\n",
       "    </tr>\n",
       "  </tbody>\n",
       "</table>\n",
       "</div>"
      ],
      "text/plain": [
       "       cumulative time  epoch  epoch time  \\\n",
       "epoch                                       \n",
       "0            42.650837      0   11.581379   \n",
       "1            53.455158      1   10.804320   \n",
       "2            64.224731      2   10.769577   \n",
       "3            75.429741      3   11.205003   \n",
       "4            86.574913      4   11.145176   \n",
       "\n",
       "       metric_test/MeanAbsoluteError/shg_tensor_full  \\\n",
       "epoch                                                  \n",
       "0                                                NaN   \n",
       "1                                                NaN   \n",
       "2                                                NaN   \n",
       "3                                                NaN   \n",
       "4                                                NaN   \n",
       "\n",
       "       metric_val/MeanAbsoluteError/shg_tensor_full  step  \\\n",
       "epoch                                                       \n",
       "0                                          5.360172    66   \n",
       "1                                          5.114588   133   \n",
       "2                                          5.338074   200   \n",
       "3                                          5.594665   267   \n",
       "4                                          5.942023   334   \n",
       "\n",
       "       test/loss/shg_tensor_full  test/total_loss  train/loss/shg_tensor_full  \\\n",
       "epoch                                                                           \n",
       "0                            NaN              NaN                         NaN   \n",
       "1                            NaN              NaN                         NaN   \n",
       "2                            NaN              NaN                         NaN   \n",
       "3                            NaN              NaN                         NaN   \n",
       "4                            NaN              NaN                         NaN   \n",
       "\n",
       "       train/total_loss  val/loss/shg_tensor_full  val/score  val/total_loss  \n",
       "epoch                                                                         \n",
       "0                   NaN                793.076477   5.360172      793.076477  \n",
       "1                   NaN                709.228088   5.114588      709.228088  \n",
       "2                   NaN                745.423218   5.338074      745.423218  \n",
       "3                   NaN                842.742615   5.594665      842.742615  \n",
       "4                   NaN               1181.420654   5.942023     1181.420654  "
      ]
     },
     "metadata": {},
     "output_type": "display_data"
    },
    {
     "data": {
      "text/html": [
       "<div>\n",
       "<style scoped>\n",
       "    .dataframe tbody tr th:only-of-type {\n",
       "        vertical-align: middle;\n",
       "    }\n",
       "\n",
       "    .dataframe tbody tr th {\n",
       "        vertical-align: top;\n",
       "    }\n",
       "\n",
       "    .dataframe thead th {\n",
       "        text-align: right;\n",
       "    }\n",
       "</style>\n",
       "<table border=\"1\" class=\"dataframe\">\n",
       "  <thead>\n",
       "    <tr style=\"text-align: right;\">\n",
       "      <th></th>\n",
       "      <th>cumulative time</th>\n",
       "      <th>epoch</th>\n",
       "      <th>epoch time</th>\n",
       "      <th>metric_test/MeanAbsoluteError/shg_tensor_full</th>\n",
       "      <th>metric_val/MeanAbsoluteError/shg_tensor_full</th>\n",
       "      <th>step</th>\n",
       "      <th>test/loss/shg_tensor_full</th>\n",
       "      <th>test/total_loss</th>\n",
       "      <th>train/loss/shg_tensor_full</th>\n",
       "      <th>train/total_loss</th>\n",
       "      <th>val/loss/shg_tensor_full</th>\n",
       "      <th>val/score</th>\n",
       "      <th>val/total_loss</th>\n",
       "    </tr>\n",
       "    <tr>\n",
       "      <th>epoch</th>\n",
       "      <th></th>\n",
       "      <th></th>\n",
       "      <th></th>\n",
       "      <th></th>\n",
       "      <th></th>\n",
       "      <th></th>\n",
       "      <th></th>\n",
       "      <th></th>\n",
       "      <th></th>\n",
       "      <th></th>\n",
       "      <th></th>\n",
       "      <th></th>\n",
       "      <th></th>\n",
       "    </tr>\n",
       "  </thead>\n",
       "  <tbody>\n",
       "    <tr>\n",
       "      <th>0</th>\n",
       "      <td>NaN</td>\n",
       "      <td>0</td>\n",
       "      <td>NaN</td>\n",
       "      <td>NaN</td>\n",
       "      <td>NaN</td>\n",
       "      <td>66</td>\n",
       "      <td>NaN</td>\n",
       "      <td>NaN</td>\n",
       "      <td>685.362244</td>\n",
       "      <td>685.362244</td>\n",
       "      <td>NaN</td>\n",
       "      <td>NaN</td>\n",
       "      <td>NaN</td>\n",
       "    </tr>\n",
       "    <tr>\n",
       "      <th>1</th>\n",
       "      <td>NaN</td>\n",
       "      <td>1</td>\n",
       "      <td>NaN</td>\n",
       "      <td>NaN</td>\n",
       "      <td>NaN</td>\n",
       "      <td>133</td>\n",
       "      <td>NaN</td>\n",
       "      <td>NaN</td>\n",
       "      <td>596.966492</td>\n",
       "      <td>596.966492</td>\n",
       "      <td>NaN</td>\n",
       "      <td>NaN</td>\n",
       "      <td>NaN</td>\n",
       "    </tr>\n",
       "    <tr>\n",
       "      <th>2</th>\n",
       "      <td>NaN</td>\n",
       "      <td>2</td>\n",
       "      <td>NaN</td>\n",
       "      <td>NaN</td>\n",
       "      <td>NaN</td>\n",
       "      <td>200</td>\n",
       "      <td>NaN</td>\n",
       "      <td>NaN</td>\n",
       "      <td>473.835297</td>\n",
       "      <td>473.835297</td>\n",
       "      <td>NaN</td>\n",
       "      <td>NaN</td>\n",
       "      <td>NaN</td>\n",
       "    </tr>\n",
       "    <tr>\n",
       "      <th>3</th>\n",
       "      <td>NaN</td>\n",
       "      <td>3</td>\n",
       "      <td>NaN</td>\n",
       "      <td>NaN</td>\n",
       "      <td>NaN</td>\n",
       "      <td>267</td>\n",
       "      <td>NaN</td>\n",
       "      <td>NaN</td>\n",
       "      <td>365.096344</td>\n",
       "      <td>365.096344</td>\n",
       "      <td>NaN</td>\n",
       "      <td>NaN</td>\n",
       "      <td>NaN</td>\n",
       "    </tr>\n",
       "    <tr>\n",
       "      <th>4</th>\n",
       "      <td>NaN</td>\n",
       "      <td>4</td>\n",
       "      <td>NaN</td>\n",
       "      <td>NaN</td>\n",
       "      <td>NaN</td>\n",
       "      <td>334</td>\n",
       "      <td>NaN</td>\n",
       "      <td>NaN</td>\n",
       "      <td>275.406647</td>\n",
       "      <td>275.406647</td>\n",
       "      <td>NaN</td>\n",
       "      <td>NaN</td>\n",
       "      <td>NaN</td>\n",
       "    </tr>\n",
       "  </tbody>\n",
       "</table>\n",
       "</div>"
      ],
      "text/plain": [
       "       cumulative time  epoch  epoch time  \\\n",
       "epoch                                       \n",
       "0                  NaN      0         NaN   \n",
       "1                  NaN      1         NaN   \n",
       "2                  NaN      2         NaN   \n",
       "3                  NaN      3         NaN   \n",
       "4                  NaN      4         NaN   \n",
       "\n",
       "       metric_test/MeanAbsoluteError/shg_tensor_full  \\\n",
       "epoch                                                  \n",
       "0                                                NaN   \n",
       "1                                                NaN   \n",
       "2                                                NaN   \n",
       "3                                                NaN   \n",
       "4                                                NaN   \n",
       "\n",
       "       metric_val/MeanAbsoluteError/shg_tensor_full  step  \\\n",
       "epoch                                                       \n",
       "0                                               NaN    66   \n",
       "1                                               NaN   133   \n",
       "2                                               NaN   200   \n",
       "3                                               NaN   267   \n",
       "4                                               NaN   334   \n",
       "\n",
       "       test/loss/shg_tensor_full  test/total_loss  train/loss/shg_tensor_full  \\\n",
       "epoch                                                                           \n",
       "0                            NaN              NaN                  685.362244   \n",
       "1                            NaN              NaN                  596.966492   \n",
       "2                            NaN              NaN                  473.835297   \n",
       "3                            NaN              NaN                  365.096344   \n",
       "4                            NaN              NaN                  275.406647   \n",
       "\n",
       "       train/total_loss  val/loss/shg_tensor_full  val/score  val/total_loss  \n",
       "epoch                                                                         \n",
       "0            685.362244                       NaN        NaN             NaN  \n",
       "1            596.966492                       NaN        NaN             NaN  \n",
       "2            473.835297                       NaN        NaN             NaN  \n",
       "3            365.096344                       NaN        NaN             NaN  \n",
       "4            275.406647                       NaN        NaN             NaN  "
      ]
     },
     "metadata": {},
     "output_type": "display_data"
    }
   ],
   "source": [
    "df_lr_epochs_first = df_lr[df_lr[\"epoch\"].duplicated(keep=\"last\")]\n",
    "df_lr_epochs_first.index = df_lr_epochs_first[\"epoch\"]\n",
    "display(df_lr_epochs_first.head())\n",
    "df_lr_epochs_second = df_lr[df_lr[\"epoch\"].duplicated(keep=\"first\")]\n",
    "df_lr_epochs_second.index = df_lr_epochs_second[\"epoch\"]\n",
    "display(df_lr_epochs_second.head())"
   ]
  },
  {
   "cell_type": "markdown",
   "metadata": {},
   "source": [
    "# Learning rates"
   ]
  },
  {
   "cell_type": "markdown",
   "metadata": {},
   "source": [
    "## Loss"
   ]
  },
  {
   "cell_type": "code",
   "execution_count": 7,
   "metadata": {},
   "outputs": [
    {
     "data": {
      "application/vnd.plotly.v1+json": {
       "config": {
        "plotlyServerURL": "https://plot.ly"
       },
       "data": [
        {
         "mode": "lines+markers",
         "name": "Train loss",
         "showlegend": true,
         "type": "scatter",
         "x": [
          0,
          1,
          2,
          3,
          4,
          5,
          6,
          7,
          8,
          9,
          10,
          11,
          12,
          13,
          14,
          15,
          16,
          17,
          18,
          19,
          20,
          21,
          22,
          23,
          24,
          25,
          26,
          27,
          28,
          29,
          30,
          31,
          32,
          33,
          34,
          35,
          36,
          37,
          38,
          39,
          40,
          41,
          42,
          43,
          44,
          45,
          46,
          47,
          48,
          49,
          50,
          51,
          52,
          53,
          54,
          55,
          56,
          57,
          58,
          59,
          60,
          61,
          62,
          63,
          64,
          65,
          66,
          67,
          68,
          69,
          70,
          71,
          72,
          73,
          74,
          75,
          76,
          77,
          78,
          79,
          80,
          81,
          82,
          83,
          84,
          85,
          86,
          87,
          88,
          89,
          90,
          91,
          92,
          93,
          94,
          95,
          96,
          97,
          98,
          99,
          100,
          101,
          102,
          103,
          104,
          105,
          106,
          107,
          108,
          109,
          110,
          111,
          112,
          113,
          114,
          115,
          116,
          117,
          118,
          119,
          120,
          121,
          122,
          123,
          124,
          125,
          126,
          127,
          128,
          129,
          130,
          131,
          132,
          133,
          134,
          135,
          136,
          137,
          138,
          139,
          140,
          141,
          142,
          143,
          144,
          145,
          146,
          147,
          148,
          149,
          150,
          151,
          152,
          153,
          154,
          155,
          156,
          157,
          158,
          159,
          160,
          161,
          162,
          163,
          164,
          165,
          166,
          167,
          168,
          169,
          170,
          171,
          172,
          173,
          174,
          175,
          176,
          177,
          178,
          179,
          180,
          181,
          182,
          183,
          184,
          185,
          186,
          187,
          188,
          189,
          190,
          191,
          192,
          193,
          194,
          195,
          196,
          197,
          198,
          199,
          200,
          201,
          202,
          203,
          204,
          205,
          206,
          207,
          208,
          209,
          210,
          211,
          212,
          213,
          214,
          215,
          216,
          217,
          218,
          219,
          220,
          221,
          222,
          223,
          224,
          225,
          226,
          227,
          228,
          229,
          230,
          231,
          232,
          233,
          234,
          235,
          236,
          237,
          238,
          239,
          240,
          241,
          242,
          243,
          244,
          245,
          246,
          247,
          248,
          249,
          250,
          251,
          252,
          253,
          254,
          255,
          256,
          257,
          258,
          259,
          260,
          261,
          262,
          263,
          264,
          265,
          266,
          267,
          268,
          269,
          270,
          271,
          272,
          273,
          274,
          275,
          276,
          277,
          278,
          279,
          280,
          281,
          282,
          283,
          284,
          285,
          286,
          287,
          288,
          289,
          290,
          291,
          292,
          293,
          294,
          295,
          296,
          297,
          298,
          299,
          300,
          301,
          302,
          303,
          304,
          305,
          306,
          307,
          308,
          309,
          310,
          311,
          312,
          313,
          314,
          315,
          316,
          317,
          318,
          319,
          320,
          321,
          322,
          323,
          324,
          325,
          326,
          327,
          328,
          329,
          330,
          331,
          332,
          333,
          334,
          335,
          336,
          337,
          338,
          339,
          340,
          341,
          342,
          343,
          344,
          345,
          346,
          347,
          348,
          349,
          350,
          351,
          352,
          353,
          354,
          355,
          356,
          357,
          358,
          359,
          360,
          361,
          362,
          363,
          364,
          365,
          366,
          367,
          368,
          369,
          370,
          371,
          372,
          373,
          374,
          375,
          376,
          377,
          378,
          379,
          380,
          381,
          382,
          383,
          384,
          385,
          386,
          387,
          388,
          389,
          390,
          391,
          392,
          393,
          394,
          395,
          396,
          397,
          398,
          399,
          400,
          401,
          402,
          403,
          404,
          405,
          406,
          407,
          408,
          409,
          410,
          411,
          412,
          413,
          414,
          415,
          416,
          417,
          418,
          419,
          420,
          421,
          422,
          423,
          424,
          425,
          426,
          427,
          428,
          429,
          430,
          431,
          432,
          433,
          434,
          435,
          436,
          437,
          438,
          439,
          440,
          441,
          442,
          443,
          444,
          445,
          446,
          447,
          448,
          449,
          450,
          451,
          452,
          453,
          454,
          455,
          456,
          457,
          458,
          459,
          460,
          461,
          462,
          463,
          464,
          465,
          466,
          467,
          468,
          469,
          470,
          471,
          472,
          473,
          474,
          475,
          476,
          477,
          478,
          479,
          480,
          481,
          482,
          483,
          484,
          485,
          486,
          487,
          488,
          489,
          490,
          491,
          492,
          493,
          494,
          495,
          496,
          497,
          498,
          499
         ],
         "y": [
          685.3622436523438,
          596.9664916992188,
          473.8352966308594,
          365.0963439941406,
          275.4066467285156,
          237.66184997558597,
          215.4700927734375,
          192.6605682373047,
          180.05606079101562,
          163.87159729003906,
          152.96334838867188,
          143.20933532714844,
          132.5086212158203,
          126.4352798461914,
          133.69984436035156,
          125.3424835205078,
          119.19905853271484,
          121.54551696777344,
          123.62232208251952,
          124.33068084716795,
          112.03170776367188,
          112.09684753417967,
          112.31300354003906,
          108.99752807617188,
          107.72362518310548,
          109.38855743408205,
          110.17977905273438,
          117.386474609375,
          108.98220825195312,
          104.30899047851562,
          103.82869720458984,
          103.66651916503906,
          97.05609893798828,
          96.7523422241211,
          99.3838882446289,
          96.74248504638672,
          97.70745086669922,
          102.14354705810548,
          103.83961486816406,
          103.5548858642578,
          100.87229919433594,
          102.56989288330078,
          108.85306549072266,
          104.3018798828125,
          104.46358489990234,
          101.10645294189452,
          99.89130401611328,
          97.37466430664062,
          91.96621704101562,
          93.71656799316406,
          96.25226593017578,
          99.71504974365234,
          100.8212432861328,
          95.88188934326172,
          87.89574432373047,
          88.74652862548828,
          85.94711303710938,
          85.4663314819336,
          85.64630126953125,
          83.75141143798828,
          84.27500915527344,
          83.77704620361328,
          83.28571319580078,
          83.92715454101562,
          83.78347778320312,
          83.23279571533203,
          82.93189239501953,
          83.40345001220703,
          84.79117584228516,
          84.23233795166016,
          85.93313598632812,
          83.44852447509766,
          84.61602783203125,
          84.7839584350586,
          84.70399475097656,
          83.79344940185547,
          84.95326232910156,
          85.62091064453125,
          84.23033142089844,
          85.13993835449219,
          86.6442642211914,
          89.47956848144531,
          87.44082641601562,
          86.58647155761719,
          85.7784652709961,
          84.34403228759766,
          84.55441284179688,
          85.37752532958984,
          86.37345123291016,
          86.72266387939453,
          87.28502655029297,
          86.74919891357422,
          84.01002502441406,
          85.38188934326172,
          84.74772644042969,
          84.92680358886719,
          84.34646606445312,
          84.8807601928711,
          85.46155548095703,
          84.71632385253906,
          83.9312515258789,
          84.27073669433594,
          86.11286926269531,
          86.76750946044922,
          85.42754364013672,
          83.04877471923828,
          81.61779022216797,
          81.06778717041016,
          80.85293579101562,
          80.50171661376953,
          80.89239501953125,
          80.64454650878906,
          81.05403137207031,
          81.81388854980469,
          80.87797546386719,
          80.63611602783203,
          80.80150604248047,
          80.762939453125,
          81.48860931396484,
          80.71144104003906,
          80.90451049804688,
          81.44131469726562,
          80.86492156982422,
          81.31905364990234,
          80.7886734008789,
          80.5052261352539,
          80.87559509277344,
          81.18767547607422,
          81.2162857055664,
          80.28025817871094,
          80.856201171875,
          81.2736587524414,
          81.17350769042969,
          81.74224090576172,
          81.10242462158203,
          81.40251922607422,
          80.89811706542969,
          81.10457611083984,
          81.10599517822266,
          80.55274963378906,
          80.67794036865234,
          80.78510284423828,
          80.5810317993164,
          80.98290252685547,
          81.03569793701172,
          81.0357666015625,
          80.91507720947266,
          80.89138793945312,
          80.72534942626953,
          81.06021118164062,
          82.03961944580078,
          85.5869369506836,
          82.2623062133789,
          81.08023834228516,
          80.84429168701172,
          80.69264221191406,
          79.59999084472656,
          79.45622253417969,
          79.75348663330078,
          79.79227447509766,
          79.62715911865234,
          79.91199493408203,
          79.78868103027344,
          79.70850372314453,
          79.6336669921875,
          79.5515365600586,
          79.48487091064453,
          79.35197448730469,
          79.59867095947266,
          79.48728942871094,
          79.60286712646484,
          79.95063781738281,
          80.08169555664062,
          79.8333740234375,
          79.83880615234375,
          79.24066925048828,
          79.50850677490234,
          79.63712310791016,
          79.92367553710938,
          79.60191345214844,
          79.60942840576172,
          79.74409484863281,
          79.84526824951172,
          79.72881317138672,
          79.37012481689453,
          79.34005737304688,
          79.76383209228516,
          79.7381591796875,
          79.83042907714844,
          79.16641235351562,
          79.52726745605469,
          79.52352142333984,
          79.5524673461914,
          79.24581909179688,
          79.5318832397461,
          79.24517059326172,
          79.33344268798828,
          79.26025390625,
          79.69612884521484,
          79.22886657714844,
          80.13568115234375,
          79.69457244873047,
          79.83329010009766,
          79.35890197753906,
          79.16307830810547,
          79.53388214111328,
          79.30433654785156,
          79.2913818359375,
          78.8609619140625,
          78.89461517333984,
          79.32780456542969,
          79.02418518066406,
          78.76966094970703,
          78.92632293701172,
          79.018798828125,
          78.96934509277344,
          79.63189697265625,
          79.13152313232422,
          79.18992614746094,
          79.08345794677734,
          78.82282257080078,
          78.91387176513672,
          79.13716888427734,
          78.59136199951172,
          79.09953308105469,
          78.93638610839844,
          78.85319519042969,
          79.14491271972656,
          78.84410858154297,
          78.56900787353516,
          78.98471069335938,
          79.04661560058594,
          79.05583953857422,
          78.93658447265625,
          79.15038299560547,
          78.56432342529297,
          79.05292510986328,
          78.77619934082031,
          78.985107421875,
          79.14755249023438,
          78.99594116210938,
          78.747802734375,
          78.81432342529297,
          78.82533264160156,
          78.9884033203125,
          78.88367462158203,
          78.59638214111328,
          79.08499145507812,
          80.27542877197266,
          78.99213409423828,
          79.03695678710938,
          78.6473388671875,
          78.77552795410156,
          78.87178039550781,
          79.10865783691406,
          79.29756927490234,
          78.7401123046875,
          78.91837310791016,
          78.81548309326172,
          78.70284271240234,
          79.00312805175781,
          78.80380249023438,
          78.53734588623047,
          78.66681671142578,
          78.86100769042969,
          78.64590454101562,
          78.41931915283203,
          79.03766632080078,
          78.53330993652344,
          78.81559753417969,
          78.75439453125,
          79.30313110351562,
          78.70691680908203,
          78.80433654785156,
          78.62931060791016,
          78.86033630371094,
          78.66780090332031,
          78.61396026611328,
          78.68755340576172,
          78.56423950195312,
          78.41958618164062,
          78.6717529296875,
          78.62989044189453,
          78.53998565673828,
          78.72307586669922,
          78.69153594970703,
          78.77485656738281,
          78.58749389648438,
          78.4264907836914,
          78.55805206298828,
          78.70465087890625,
          78.55349731445312,
          78.58158111572266,
          78.55252075195312,
          78.48267364501953,
          78.41647338867188,
          78.94684600830078,
          78.72862243652344,
          78.59934997558594,
          78.54953002929688,
          78.64433288574219,
          78.74212646484375,
          78.54019165039062,
          78.7055892944336,
          78.80398559570312,
          78.88727569580078,
          78.49779510498047,
          78.62191009521484,
          78.77497863769531,
          79.48429107666016,
          78.662353515625,
          78.62577819824219,
          78.70635986328125,
          78.31285858154297,
          78.36529541015625,
          78.92853546142578,
          78.64552307128906,
          78.69596099853516,
          78.50664520263672,
          78.62382507324219,
          78.58601379394531,
          79.8682861328125,
          78.84011840820312,
          78.39479064941406,
          78.4848861694336,
          78.50497436523438,
          78.4796371459961,
          78.9156265258789,
          78.44020080566406,
          78.55572509765625,
          79.61785888671875,
          78.4482421875,
          78.83744812011719,
          78.63117218017578,
          78.43135070800781,
          78.62472534179688,
          78.53431701660156,
          78.6969985961914,
          78.39178466796875,
          78.49529266357422,
          78.52679443359375,
          78.49282836914062,
          78.62094116210938,
          78.5419692993164,
          78.55097961425781,
          78.44261932373047,
          78.55024719238281,
          78.46378326416016,
          78.55828094482422,
          78.73410034179688,
          78.46137237548828,
          79.03201293945312,
          79.58357238769531,
          78.4067611694336,
          78.523681640625,
          78.72547149658203,
          78.55692291259766,
          78.52318572998047,
          78.66407012939453,
          78.46003723144531,
          78.32730865478516,
          78.4869613647461,
          78.38961791992188,
          78.35337829589844,
          78.56664276123047,
          78.51773834228516,
          78.59721374511719,
          78.4723129272461,
          78.44867706298828,
          78.46430206298828,
          78.6104736328125,
          78.89253234863281,
          78.48790740966797,
          78.66439819335938,
          78.36565399169922,
          78.40093994140625,
          78.48456573486328,
          78.69327545166016,
          78.41997528076172,
          78.5326919555664,
          78.3944320678711,
          78.65453338623047,
          78.42170715332031,
          78.48422241210938,
          78.40728759765625,
          78.5546875,
          78.4062271118164,
          78.32460021972656,
          78.34708404541016,
          78.61274719238281,
          78.7383804321289,
          78.37249755859375,
          78.30231475830078,
          78.66077423095703,
          78.34365844726562,
          78.38383483886719,
          78.46864318847656,
          78.40715026855469,
          78.31527709960938,
          78.5108871459961,
          78.36539459228516,
          78.38461303710938,
          78.5904312133789,
          78.3973388671875,
          78.49962615966797,
          78.3460922241211,
          78.3587875366211,
          78.63162231445312,
          78.52995300292969,
          78.25078582763672,
          78.32376098632812,
          78.59709167480469,
          78.43968200683594,
          78.61979675292969,
          78.36100006103516,
          78.3366928100586,
          78.30093383789062,
          78.43605041503906,
          78.64727020263672,
          78.37029266357422,
          78.65066528320312,
          78.2916030883789,
          78.57037353515625,
          78.56336212158203,
          78.40118408203125,
          78.6817626953125,
          78.64031219482422,
          78.46705627441406,
          78.47119903564453,
          78.57295227050781,
          78.36711883544922,
          78.45165252685547,
          78.75953674316406,
          78.41365814208984,
          78.45890808105469,
          78.64044952392578,
          78.5296630859375,
          78.42078399658203,
          78.38002014160156,
          78.38809204101562,
          78.44866943359375,
          78.53144073486328,
          78.3795394897461,
          78.63742065429688,
          78.9158935546875,
          78.55282592773438,
          78.3263168334961,
          78.5915298461914,
          78.35155487060547,
          78.30934143066406,
          78.30553436279297,
          78.54206848144531,
          78.30142211914062,
          80.7667236328125,
          78.45830535888672,
          78.36640930175781,
          78.34992980957031,
          78.37236785888672,
          78.38458251953125,
          78.5831069946289,
          78.8765640258789,
          78.59274291992188,
          78.52871704101562,
          78.38517761230469,
          78.35765838623047,
          78.66874694824219,
          78.86007690429688,
          78.5419692993164,
          78.68754577636719,
          78.48238372802734,
          78.48828887939453,
          78.3030776977539,
          78.34912109375,
          78.4267578125,
          78.51588439941406,
          78.29864501953125,
          78.45594787597656,
          78.2861557006836,
          78.25909423828125,
          78.43345642089844,
          78.31497192382812,
          78.37344360351562,
          78.34709167480469,
          78.4044418334961,
          78.58525085449219,
          78.3097915649414,
          78.49391174316406,
          78.5593032836914,
          78.62702941894531,
          78.46954345703125,
          78.43489837646484,
          78.62284851074219,
          78.49368286132812,
          78.8587417602539,
          78.34256744384766,
          78.58103942871094,
          78.80921936035156,
          78.52217102050781,
          78.42293548583984,
          78.44627380371094
         ]
        },
        {
         "mode": "lines+markers",
         "name": "Validation loss",
         "showlegend": true,
         "type": "scatter",
         "x": [
          0,
          1,
          2,
          3,
          4,
          5,
          6,
          7,
          8,
          9,
          10,
          11,
          12,
          13,
          14,
          15,
          16,
          17,
          18,
          19,
          20,
          21,
          22,
          23,
          24,
          25,
          26,
          27,
          28,
          29,
          30,
          31,
          32,
          33,
          34,
          35,
          36,
          37,
          38,
          39,
          40,
          41,
          42,
          43,
          44,
          45,
          46,
          47,
          48,
          49,
          50,
          51,
          52,
          53,
          54,
          55,
          56,
          57,
          58,
          59,
          60,
          61,
          62,
          63,
          64,
          65,
          66,
          67,
          68,
          69,
          70,
          71,
          72,
          73,
          74,
          75,
          76,
          77,
          78,
          79,
          80,
          81,
          82,
          83,
          84,
          85,
          86,
          87,
          88,
          89,
          90,
          91,
          92,
          93,
          94,
          95,
          96,
          97,
          98,
          99,
          100,
          101,
          102,
          103,
          104,
          105,
          106,
          107,
          108,
          109,
          110,
          111,
          112,
          113,
          114,
          115,
          116,
          117,
          118,
          119,
          120,
          121,
          122,
          123,
          124,
          125,
          126,
          127,
          128,
          129,
          130,
          131,
          132,
          133,
          134,
          135,
          136,
          137,
          138,
          139,
          140,
          141,
          142,
          143,
          144,
          145,
          146,
          147,
          148,
          149,
          150,
          151,
          152,
          153,
          154,
          155,
          156,
          157,
          158,
          159,
          160,
          161,
          162,
          163,
          164,
          165,
          166,
          167,
          168,
          169,
          170,
          171,
          172,
          173,
          174,
          175,
          176,
          177,
          178,
          179,
          180,
          181,
          182,
          183,
          184,
          185,
          186,
          187,
          188,
          189,
          190,
          191,
          192,
          193,
          194,
          195,
          196,
          197,
          198,
          199,
          200,
          201,
          202,
          203,
          204,
          205,
          206,
          207,
          208,
          209,
          210,
          211,
          212,
          213,
          214,
          215,
          216,
          217,
          218,
          219,
          220,
          221,
          222,
          223,
          224,
          225,
          226,
          227,
          228,
          229,
          230,
          231,
          232,
          233,
          234,
          235,
          236,
          237,
          238,
          239,
          240,
          241,
          242,
          243,
          244,
          245,
          246,
          247,
          248,
          249,
          250,
          251,
          252,
          253,
          254,
          255,
          256,
          257,
          258,
          259,
          260,
          261,
          262,
          263,
          264,
          265,
          266,
          267,
          268,
          269,
          270,
          271,
          272,
          273,
          274,
          275,
          276,
          277,
          278,
          279,
          280,
          281,
          282,
          283,
          284,
          285,
          286,
          287,
          288,
          289,
          290,
          291,
          292,
          293,
          294,
          295,
          296,
          297,
          298,
          299,
          300,
          301,
          302,
          303,
          304,
          305,
          306,
          307,
          308,
          309,
          310,
          311,
          312,
          313,
          314,
          315,
          316,
          317,
          318,
          319,
          320,
          321,
          322,
          323,
          324,
          325,
          326,
          327,
          328,
          329,
          330,
          331,
          332,
          333,
          334,
          335,
          336,
          337,
          338,
          339,
          340,
          341,
          342,
          343,
          344,
          345,
          346,
          347,
          348,
          349,
          350,
          351,
          352,
          353,
          354,
          355,
          356,
          357,
          358,
          359,
          360,
          361,
          362,
          363,
          364,
          365,
          366,
          367,
          368,
          369,
          370,
          371,
          372,
          373,
          374,
          375,
          376,
          377,
          378,
          379,
          380,
          381,
          382,
          383,
          384,
          385,
          386,
          387,
          388,
          389,
          390,
          391,
          392,
          393,
          394,
          395,
          396,
          397,
          398,
          399,
          400,
          401,
          402,
          403,
          404,
          405,
          406,
          407,
          408,
          409,
          410,
          411,
          412,
          413,
          414,
          415,
          416,
          417,
          418,
          419,
          420,
          421,
          422,
          423,
          424,
          425,
          426,
          427,
          428,
          429,
          430,
          431,
          432,
          433,
          434,
          435,
          436,
          437,
          438,
          439,
          440,
          441,
          442,
          443,
          444,
          445,
          446,
          447,
          448,
          449,
          450,
          451,
          452,
          453,
          454,
          455,
          456,
          457,
          458,
          459,
          460,
          461,
          462,
          463,
          464,
          465,
          466,
          467,
          468,
          469,
          470,
          471,
          472,
          473,
          474,
          475,
          476,
          477,
          478,
          479,
          480,
          481,
          482,
          483,
          484,
          485,
          486,
          487,
          488,
          489,
          490,
          491,
          492,
          493,
          494,
          495,
          496,
          497,
          498,
          499
         ],
         "y": [
          793.0764770507812,
          709.2280883789062,
          745.4232177734375,
          842.7426147460938,
          1181.420654296875,
          789.1407470703125,
          839.0050659179688,
          732.798828125,
          863.2280883789062,
          787.6742553710938,
          853.5636596679688,
          743.6843872070312,
          886.5736694335938,
          709.8931274414062,
          773.2872314453125,
          749.8240356445312,
          861.697265625,
          752.9819946289062,
          819.5536499023438,
          775.2772216796875,
          737.5130004882812,
          811.1770629882812,
          729.5990600585938,
          753.6397094726562,
          753.0367431640625,
          738.6688232421875,
          807.3474731445312,
          706.148193359375,
          734.8598022460938,
          770.39697265625,
          749.4768676757812,
          748.463623046875,
          759.778564453125,
          782.8447265625,
          735.1599731445312,
          727.4428100585938,
          723.8504638671875,
          777.8575439453125,
          703.930908203125,
          731.23193359375,
          851.0601806640625,
          729.9354858398438,
          741.7181396484375,
          745.0857543945312,
          780.3765869140625,
          742.4671630859375,
          814.2080688476562,
          749.16552734375,
          777.9884643554688,
          758.3031005859375,
          738.0619506835938,
          784.7154541015625,
          721.2765502929688,
          723.6517944335938,
          733.2203369140625,
          738.200439453125,
          724.0601196289062,
          754.934814453125,
          737.0399780273438,
          742.7348022460938,
          717.83642578125,
          736.3106689453125,
          727.6187133789062,
          747.5880126953125,
          730.2791137695312,
          741.0294189453125,
          740.3697509765625,
          743.9356689453125,
          732.1173706054688,
          725.1758422851562,
          730.52978515625,
          757.9032592773438,
          741.705078125,
          720.2395629882812,
          755.9480590820312,
          726.0926513671875,
          724.8514404296875,
          720.4395141601562,
          726.556396484375,
          733.506103515625,
          755.319091796875,
          716.2465209960938,
          742.3033447265625,
          734.090087890625,
          724.9677734375,
          727.7111206054688,
          727.9558715820312,
          730.5869140625,
          737.9423217773438,
          744.7745971679688,
          731.9974365234375,
          721.5880737304688,
          719.6281127929688,
          718.489013671875,
          734.60400390625,
          723.9755859375,
          725.7206420898438,
          747.0078125,
          725.61181640625,
          719.5401000976562,
          733.0010986328125,
          732.97607421875,
          733.7752685546875,
          707.2326049804688,
          727.764404296875,
          729.2954711914062,
          721.2736206054688,
          724.9244995117188,
          731.5977172851562,
          729.777587890625,
          735.044189453125,
          730.4920043945312,
          725.1760864257812,
          723.13525390625,
          723.3555908203125,
          724.47705078125,
          713.8477783203125,
          728.3904418945312,
          734.0086669921875,
          727.3115844726562,
          718.2523193359375,
          725.465087890625,
          717.1751708984375,
          717.7898559570312,
          731.494384765625,
          724.2826538085938,
          734.9788818359375,
          718.7268676757812,
          730.236328125,
          722.3001708984375,
          725.167724609375,
          719.9261474609375,
          730.5968017578125,
          716.3007202148438,
          721.2692260742188,
          720.9755859375,
          726.5872802734375,
          729.5103149414062,
          728.647216796875,
          722.3759155273438,
          713.2286376953125,
          723.4139404296875,
          727.2467651367188,
          726.43994140625,
          713.0469970703125,
          721.9760131835938,
          739.9448852539062,
          720.4016723632812,
          718.43994140625,
          709.5430908203125,
          717.5404663085938,
          713.54736328125,
          728.0778198242188,
          707.260986328125,
          715.2498779296875,
          714.4334106445312,
          716.77392578125,
          715.4044799804688,
          722.900146484375,
          715.4525756835938,
          723.079833984375,
          718.310546875,
          718.43701171875,
          723.66943359375,
          716.2781372070312,
          722.2835083007812,
          723.1517944335938,
          717.9220581054688,
          720.92236328125,
          718.5697021484375,
          720.200439453125,
          723.0445556640625,
          722.87841796875,
          720.2503662109375,
          720.38916015625,
          721.17236328125,
          716.564208984375,
          721.3507080078125,
          720.4345703125,
          711.7151489257812,
          722.6837158203125,
          719.1533813476562,
          718.10009765625,
          713.6239624023438,
          720.3980102539062,
          718.092529296875,
          718.6651000976562,
          723.3535766601562,
          718.1591186523438,
          720.318603515625,
          717.4991455078125,
          715.7386474609375,
          722.1593017578125,
          718.1373291015625,
          710.4729614257812,
          718.6464233398438,
          718.37353515625,
          714.5911865234375,
          722.0518188476562,
          718.996337890625,
          722.172119140625,
          723.1324462890625,
          715.8007202148438,
          714.27490234375,
          719.1776733398438,
          715.9791259765625,
          721.4091796875,
          721.1074829101562,
          714.1183471679688,
          720.6734008789062,
          716.4298095703125,
          720.7132568359375,
          713.8253173828125,
          714.7861328125,
          723.9744873046875,
          718.0361938476562,
          716.0208740234375,
          714.9996948242188,
          710.492431640625,
          713.3770751953125,
          714.4187622070312,
          722.785400390625,
          720.4188232421875,
          719.1187744140625,
          719.6553955078125,
          718.51220703125,
          712.6973876953125,
          718.1721801757812,
          712.8478393554688,
          714.8114624023438,
          718.1978149414062,
          716.5069580078125,
          716.8953857421875,
          720.0577392578125,
          718.0650024414062,
          716.3628540039062,
          715.1192626953125,
          715.9853515625,
          724.3984985351562,
          721.39404296875,
          721.0664672851562,
          719.1679077148438,
          719.3960571289062,
          721.8635864257812,
          716.0867309570312,
          719.6036376953125,
          717.14404296875,
          719.1497802734375,
          720.1815795898438,
          719.7989501953125,
          714.5499267578125,
          716.427490234375,
          715.1243896484375,
          717.848876953125,
          719.693115234375,
          717.6146240234375,
          719.7824096679688,
          719.1793212890625,
          714.551025390625,
          718.7311401367188,
          716.5430297851562,
          718.6333618164062,
          717.8929443359375,
          714.7622680664062,
          716.9044189453125,
          716.0432739257812,
          719.5374755859375,
          717.5986328125,
          718.8539428710938,
          718.14599609375,
          717.6500854492188,
          716.0646362304688,
          717.146728515625,
          717.8990478515625,
          717.247314453125,
          714.6510620117188,
          719.441650390625,
          718.5652465820312,
          715.7664794921875,
          720.0345458984375,
          716.9755249023438,
          720.6873779296875,
          718.9168701171875,
          719.6324462890625,
          717.0167236328125,
          720.7686157226562,
          722.568603515625,
          716.2852172851562,
          717.1826782226562,
          721.444091796875,
          714.5650024414062,
          719.8198852539062,
          716.3086547851562,
          716.1190185546875,
          718.7745361328125,
          717.0342407226562,
          716.8610229492188,
          716.7031860351562,
          719.282958984375,
          714.7918090820312,
          716.4172973632812,
          716.6286010742188,
          716.847412109375,
          718.7808227539062,
          716.6369018554688,
          718.8131103515625,
          717.9046630859375,
          718.0475463867188,
          717.0059204101562,
          717.56005859375,
          718.4315795898438,
          718.713134765625,
          715.8055419921875,
          714.807373046875,
          717.093505859375,
          713.353759765625,
          716.2412109375,
          719.4335327148438,
          719.5380249023438,
          715.6422729492188,
          717.413330078125,
          720.0910034179688,
          721.8800659179688,
          718.0527954101562,
          717.7316284179688,
          716.7520141601562,
          717.566650390625,
          717.4597778320312,
          719.4580688476562,
          718.914306640625,
          714.9403686523438,
          719.1240234375,
          719.2130126953125,
          718.24560546875,
          720.4321899414062,
          717.69384765625,
          718.005126953125,
          718.0677490234375,
          719.614990234375,
          717.781982421875,
          718.0745239257812,
          718.9453735351562,
          720.7393798828125,
          718.0071411132812,
          716.6574096679688,
          718.799560546875,
          718.4337768554688,
          718.9855346679688,
          718.16650390625,
          718.5087280273438,
          719.427978515625,
          719.6441040039062,
          718.1485595703125,
          716.4052124023438,
          720.091796875,
          717.6033325195312,
          721.6697387695312,
          717.9605712890625,
          720.4099731445312,
          717.8753051757812,
          717.2179565429688,
          716.1279296875,
          717.1085205078125,
          719,
          715.9742431640625,
          718.7753295898438,
          719.4529418945312,
          719.0746459960938,
          719.3707275390625,
          720.9463500976562,
          718.240478515625,
          715.3419799804688,
          719.6788940429688,
          718.9984741210938,
          718.7337646484375,
          718.038818359375,
          716.2186279296875,
          719.63427734375,
          718.7359008789062,
          718.1131591796875,
          719.1810913085938,
          719.23876953125,
          716.5166625976562,
          718.2994384765625,
          718.520751953125,
          715.2949829101562,
          721.2630004882812,
          718.418701171875,
          722.03857421875,
          719.0847778320312,
          719.5530395507812,
          718.684814453125,
          716.1599731445312,
          716.0146484375,
          717.4602661132812,
          715.1293334960938,
          715.4629516601562,
          715.1410522460938,
          717.9816284179688,
          716.8363037109375,
          718.5068359375,
          719.834716796875,
          716.6485595703125,
          718.7522583007812,
          714.3169555664062,
          716.24365234375,
          717.7960205078125,
          718.5396728515625,
          717.9921264648438,
          717.940673828125,
          716.6978149414062,
          717.7822875976562,
          718.09619140625,
          718.716796875,
          717.4147338867188,
          719.1719360351562,
          718.4358520507812,
          718.2194213867188,
          713.530517578125,
          718.0252685546875,
          716.5179443359375,
          715.5335693359375,
          717.2360229492188,
          719.7583618164062,
          717.1365966796875,
          718.0941772460938,
          715.4349975585938,
          717.4931640625,
          716.7725219726562,
          719.8096313476562,
          717.5580444335938,
          716.31982421875,
          716.05224609375,
          715.6128540039062,
          718.7394409179688,
          717.8196411132812,
          718.0227661132812,
          714.459228515625,
          717.7028198242188,
          718.8614501953125,
          718.2114868164062,
          718.9226684570312,
          715.9063110351562,
          718.1241455078125,
          717.4696655273438,
          718.282470703125,
          716.14990234375,
          719.3391723632812,
          718.1614379882812,
          719.8555908203125,
          719.2742309570312,
          717.938232421875,
          716.103271484375,
          718.67626953125,
          718.5341796875,
          718.342041015625,
          717.1637573242188,
          719.3999633789062,
          718.284423828125,
          716.5343627929688,
          717.4199829101562,
          718.80810546875,
          718.4183349609375,
          716.673583984375,
          718.2156982421875,
          718.7415771484375,
          717.7007446289062,
          717.8107299804688,
          716.6520385742188,
          719.002685546875,
          718.3016967773438,
          719.649658203125,
          717.5546264648438,
          718.3193969726562,
          716.8048706054688,
          718.9463500976562,
          716.188232421875,
          720.1387939453125,
          719.8504028320312,
          719.0121459960938,
          717.4403076171875,
          718.6063842773438,
          719.8626098632812,
          718.0549926757812,
          718.339111328125,
          718.433837890625,
          718.138916015625,
          718.2501220703125,
          718.62158203125,
          720.7547607421875,
          718.4820556640625,
          718.298583984375,
          719.9598388671875,
          716.6934814453125,
          717.9503173828125,
          718.5401000976562,
          717.830322265625,
          718.4376220703125,
          718.6199340820312,
          720.2410278320312
         ]
        }
       ],
       "layout": {
        "autosize": true,
        "font": {
         "size": 20
        },
        "template": {
         "data": {
          "bar": [
           {
            "error_x": {
             "color": "rgb(36,36,36)"
            },
            "error_y": {
             "color": "rgb(36,36,36)"
            },
            "marker": {
             "line": {
              "color": "white",
              "width": 0.5
             },
             "pattern": {
              "fillmode": "overlay",
              "size": 10,
              "solidity": 0.2
             }
            },
            "type": "bar"
           }
          ],
          "barpolar": [
           {
            "marker": {
             "line": {
              "color": "white",
              "width": 0.5
             },
             "pattern": {
              "fillmode": "overlay",
              "size": 10,
              "solidity": 0.2
             }
            },
            "type": "barpolar"
           }
          ],
          "carpet": [
           {
            "aaxis": {
             "endlinecolor": "rgb(36,36,36)",
             "gridcolor": "white",
             "linecolor": "white",
             "minorgridcolor": "white",
             "startlinecolor": "rgb(36,36,36)"
            },
            "baxis": {
             "endlinecolor": "rgb(36,36,36)",
             "gridcolor": "white",
             "linecolor": "white",
             "minorgridcolor": "white",
             "startlinecolor": "rgb(36,36,36)"
            },
            "type": "carpet"
           }
          ],
          "choropleth": [
           {
            "colorbar": {
             "outlinewidth": 1,
             "tickcolor": "rgb(36,36,36)",
             "ticks": "outside"
            },
            "type": "choropleth"
           }
          ],
          "contour": [
           {
            "colorbar": {
             "outlinewidth": 1,
             "tickcolor": "rgb(36,36,36)",
             "ticks": "outside"
            },
            "colorscale": [
             [
              0,
              "#440154"
             ],
             [
              0.1111111111111111,
              "#482878"
             ],
             [
              0.2222222222222222,
              "#3e4989"
             ],
             [
              0.3333333333333333,
              "#31688e"
             ],
             [
              0.4444444444444444,
              "#26828e"
             ],
             [
              0.5555555555555556,
              "#1f9e89"
             ],
             [
              0.6666666666666666,
              "#35b779"
             ],
             [
              0.7777777777777778,
              "#6ece58"
             ],
             [
              0.8888888888888888,
              "#b5de2b"
             ],
             [
              1,
              "#fde725"
             ]
            ],
            "type": "contour"
           }
          ],
          "contourcarpet": [
           {
            "colorbar": {
             "outlinewidth": 1,
             "tickcolor": "rgb(36,36,36)",
             "ticks": "outside"
            },
            "type": "contourcarpet"
           }
          ],
          "heatmap": [
           {
            "colorbar": {
             "outlinewidth": 1,
             "tickcolor": "rgb(36,36,36)",
             "ticks": "outside"
            },
            "colorscale": [
             [
              0,
              "#440154"
             ],
             [
              0.1111111111111111,
              "#482878"
             ],
             [
              0.2222222222222222,
              "#3e4989"
             ],
             [
              0.3333333333333333,
              "#31688e"
             ],
             [
              0.4444444444444444,
              "#26828e"
             ],
             [
              0.5555555555555556,
              "#1f9e89"
             ],
             [
              0.6666666666666666,
              "#35b779"
             ],
             [
              0.7777777777777778,
              "#6ece58"
             ],
             [
              0.8888888888888888,
              "#b5de2b"
             ],
             [
              1,
              "#fde725"
             ]
            ],
            "type": "heatmap"
           }
          ],
          "heatmapgl": [
           {
            "colorbar": {
             "outlinewidth": 1,
             "tickcolor": "rgb(36,36,36)",
             "ticks": "outside"
            },
            "colorscale": [
             [
              0,
              "#440154"
             ],
             [
              0.1111111111111111,
              "#482878"
             ],
             [
              0.2222222222222222,
              "#3e4989"
             ],
             [
              0.3333333333333333,
              "#31688e"
             ],
             [
              0.4444444444444444,
              "#26828e"
             ],
             [
              0.5555555555555556,
              "#1f9e89"
             ],
             [
              0.6666666666666666,
              "#35b779"
             ],
             [
              0.7777777777777778,
              "#6ece58"
             ],
             [
              0.8888888888888888,
              "#b5de2b"
             ],
             [
              1,
              "#fde725"
             ]
            ],
            "type": "heatmapgl"
           }
          ],
          "histogram": [
           {
            "marker": {
             "line": {
              "color": "white",
              "width": 0.6
             }
            },
            "type": "histogram"
           }
          ],
          "histogram2d": [
           {
            "colorbar": {
             "outlinewidth": 1,
             "tickcolor": "rgb(36,36,36)",
             "ticks": "outside"
            },
            "colorscale": [
             [
              0,
              "#440154"
             ],
             [
              0.1111111111111111,
              "#482878"
             ],
             [
              0.2222222222222222,
              "#3e4989"
             ],
             [
              0.3333333333333333,
              "#31688e"
             ],
             [
              0.4444444444444444,
              "#26828e"
             ],
             [
              0.5555555555555556,
              "#1f9e89"
             ],
             [
              0.6666666666666666,
              "#35b779"
             ],
             [
              0.7777777777777778,
              "#6ece58"
             ],
             [
              0.8888888888888888,
              "#b5de2b"
             ],
             [
              1,
              "#fde725"
             ]
            ],
            "type": "histogram2d"
           }
          ],
          "histogram2dcontour": [
           {
            "colorbar": {
             "outlinewidth": 1,
             "tickcolor": "rgb(36,36,36)",
             "ticks": "outside"
            },
            "colorscale": [
             [
              0,
              "#440154"
             ],
             [
              0.1111111111111111,
              "#482878"
             ],
             [
              0.2222222222222222,
              "#3e4989"
             ],
             [
              0.3333333333333333,
              "#31688e"
             ],
             [
              0.4444444444444444,
              "#26828e"
             ],
             [
              0.5555555555555556,
              "#1f9e89"
             ],
             [
              0.6666666666666666,
              "#35b779"
             ],
             [
              0.7777777777777778,
              "#6ece58"
             ],
             [
              0.8888888888888888,
              "#b5de2b"
             ],
             [
              1,
              "#fde725"
             ]
            ],
            "type": "histogram2dcontour"
           }
          ],
          "mesh3d": [
           {
            "colorbar": {
             "outlinewidth": 1,
             "tickcolor": "rgb(36,36,36)",
             "ticks": "outside"
            },
            "type": "mesh3d"
           }
          ],
          "parcoords": [
           {
            "line": {
             "colorbar": {
              "outlinewidth": 1,
              "tickcolor": "rgb(36,36,36)",
              "ticks": "outside"
             }
            },
            "type": "parcoords"
           }
          ],
          "pie": [
           {
            "automargin": true,
            "type": "pie"
           }
          ],
          "scatter": [
           {
            "fillpattern": {
             "fillmode": "overlay",
             "size": 10,
             "solidity": 0.2
            },
            "type": "scatter"
           }
          ],
          "scatter3d": [
           {
            "line": {
             "colorbar": {
              "outlinewidth": 1,
              "tickcolor": "rgb(36,36,36)",
              "ticks": "outside"
             }
            },
            "marker": {
             "colorbar": {
              "outlinewidth": 1,
              "tickcolor": "rgb(36,36,36)",
              "ticks": "outside"
             }
            },
            "type": "scatter3d"
           }
          ],
          "scattercarpet": [
           {
            "marker": {
             "colorbar": {
              "outlinewidth": 1,
              "tickcolor": "rgb(36,36,36)",
              "ticks": "outside"
             }
            },
            "type": "scattercarpet"
           }
          ],
          "scattergeo": [
           {
            "marker": {
             "colorbar": {
              "outlinewidth": 1,
              "tickcolor": "rgb(36,36,36)",
              "ticks": "outside"
             }
            },
            "type": "scattergeo"
           }
          ],
          "scattergl": [
           {
            "marker": {
             "colorbar": {
              "outlinewidth": 1,
              "tickcolor": "rgb(36,36,36)",
              "ticks": "outside"
             }
            },
            "type": "scattergl"
           }
          ],
          "scattermapbox": [
           {
            "marker": {
             "colorbar": {
              "outlinewidth": 1,
              "tickcolor": "rgb(36,36,36)",
              "ticks": "outside"
             }
            },
            "type": "scattermapbox"
           }
          ],
          "scatterpolar": [
           {
            "marker": {
             "colorbar": {
              "outlinewidth": 1,
              "tickcolor": "rgb(36,36,36)",
              "ticks": "outside"
             }
            },
            "type": "scatterpolar"
           }
          ],
          "scatterpolargl": [
           {
            "marker": {
             "colorbar": {
              "outlinewidth": 1,
              "tickcolor": "rgb(36,36,36)",
              "ticks": "outside"
             }
            },
            "type": "scatterpolargl"
           }
          ],
          "scatterternary": [
           {
            "marker": {
             "colorbar": {
              "outlinewidth": 1,
              "tickcolor": "rgb(36,36,36)",
              "ticks": "outside"
             }
            },
            "type": "scatterternary"
           }
          ],
          "surface": [
           {
            "colorbar": {
             "outlinewidth": 1,
             "tickcolor": "rgb(36,36,36)",
             "ticks": "outside"
            },
            "colorscale": [
             [
              0,
              "#440154"
             ],
             [
              0.1111111111111111,
              "#482878"
             ],
             [
              0.2222222222222222,
              "#3e4989"
             ],
             [
              0.3333333333333333,
              "#31688e"
             ],
             [
              0.4444444444444444,
              "#26828e"
             ],
             [
              0.5555555555555556,
              "#1f9e89"
             ],
             [
              0.6666666666666666,
              "#35b779"
             ],
             [
              0.7777777777777778,
              "#6ece58"
             ],
             [
              0.8888888888888888,
              "#b5de2b"
             ],
             [
              1,
              "#fde725"
             ]
            ],
            "type": "surface"
           }
          ],
          "table": [
           {
            "cells": {
             "fill": {
              "color": "rgb(237,237,237)"
             },
             "line": {
              "color": "white"
             }
            },
            "header": {
             "fill": {
              "color": "rgb(217,217,217)"
             },
             "line": {
              "color": "white"
             }
            },
            "type": "table"
           }
          ]
         },
         "layout": {
          "annotationdefaults": {
           "arrowhead": 0,
           "arrowwidth": 1
          },
          "autotypenumbers": "strict",
          "coloraxis": {
           "colorbar": {
            "outlinewidth": 1,
            "tickcolor": "rgb(36,36,36)",
            "ticks": "outside"
           }
          },
          "colorscale": {
           "diverging": [
            [
             0,
             "rgb(103,0,31)"
            ],
            [
             0.1,
             "rgb(178,24,43)"
            ],
            [
             0.2,
             "rgb(214,96,77)"
            ],
            [
             0.3,
             "rgb(244,165,130)"
            ],
            [
             0.4,
             "rgb(253,219,199)"
            ],
            [
             0.5,
             "rgb(247,247,247)"
            ],
            [
             0.6,
             "rgb(209,229,240)"
            ],
            [
             0.7,
             "rgb(146,197,222)"
            ],
            [
             0.8,
             "rgb(67,147,195)"
            ],
            [
             0.9,
             "rgb(33,102,172)"
            ],
            [
             1,
             "rgb(5,48,97)"
            ]
           ],
           "sequential": [
            [
             0,
             "#440154"
            ],
            [
             0.1111111111111111,
             "#482878"
            ],
            [
             0.2222222222222222,
             "#3e4989"
            ],
            [
             0.3333333333333333,
             "#31688e"
            ],
            [
             0.4444444444444444,
             "#26828e"
            ],
            [
             0.5555555555555556,
             "#1f9e89"
            ],
            [
             0.6666666666666666,
             "#35b779"
            ],
            [
             0.7777777777777778,
             "#6ece58"
            ],
            [
             0.8888888888888888,
             "#b5de2b"
            ],
            [
             1,
             "#fde725"
            ]
           ],
           "sequentialminus": [
            [
             0,
             "#440154"
            ],
            [
             0.1111111111111111,
             "#482878"
            ],
            [
             0.2222222222222222,
             "#3e4989"
            ],
            [
             0.3333333333333333,
             "#31688e"
            ],
            [
             0.4444444444444444,
             "#26828e"
            ],
            [
             0.5555555555555556,
             "#1f9e89"
            ],
            [
             0.6666666666666666,
             "#35b779"
            ],
            [
             0.7777777777777778,
             "#6ece58"
            ],
            [
             0.8888888888888888,
             "#b5de2b"
            ],
            [
             1,
             "#fde725"
            ]
           ]
          },
          "colorway": [
           "#1F77B4",
           "#FF7F0E",
           "#2CA02C",
           "#D62728",
           "#9467BD",
           "#8C564B",
           "#E377C2",
           "#7F7F7F",
           "#BCBD22",
           "#17BECF"
          ],
          "font": {
           "color": "rgb(36,36,36)"
          },
          "geo": {
           "bgcolor": "white",
           "lakecolor": "white",
           "landcolor": "white",
           "showlakes": true,
           "showland": true,
           "subunitcolor": "white"
          },
          "hoverlabel": {
           "align": "left"
          },
          "hovermode": "closest",
          "mapbox": {
           "style": "light"
          },
          "paper_bgcolor": "white",
          "plot_bgcolor": "white",
          "polar": {
           "angularaxis": {
            "gridcolor": "rgb(232,232,232)",
            "linecolor": "rgb(36,36,36)",
            "showgrid": false,
            "showline": true,
            "ticks": "outside"
           },
           "bgcolor": "white",
           "radialaxis": {
            "gridcolor": "rgb(232,232,232)",
            "linecolor": "rgb(36,36,36)",
            "showgrid": false,
            "showline": true,
            "ticks": "outside"
           }
          },
          "scene": {
           "xaxis": {
            "backgroundcolor": "white",
            "gridcolor": "rgb(232,232,232)",
            "gridwidth": 2,
            "linecolor": "rgb(36,36,36)",
            "showbackground": true,
            "showgrid": false,
            "showline": true,
            "ticks": "outside",
            "zeroline": false,
            "zerolinecolor": "rgb(36,36,36)"
           },
           "yaxis": {
            "backgroundcolor": "white",
            "gridcolor": "rgb(232,232,232)",
            "gridwidth": 2,
            "linecolor": "rgb(36,36,36)",
            "showbackground": true,
            "showgrid": false,
            "showline": true,
            "ticks": "outside",
            "zeroline": false,
            "zerolinecolor": "rgb(36,36,36)"
           },
           "zaxis": {
            "backgroundcolor": "white",
            "gridcolor": "rgb(232,232,232)",
            "gridwidth": 2,
            "linecolor": "rgb(36,36,36)",
            "showbackground": true,
            "showgrid": false,
            "showline": true,
            "ticks": "outside",
            "zeroline": false,
            "zerolinecolor": "rgb(36,36,36)"
           }
          },
          "shapedefaults": {
           "fillcolor": "black",
           "line": {
            "width": 0
           },
           "opacity": 0.3
          },
          "ternary": {
           "aaxis": {
            "gridcolor": "rgb(232,232,232)",
            "linecolor": "rgb(36,36,36)",
            "showgrid": false,
            "showline": true,
            "ticks": "outside"
           },
           "baxis": {
            "gridcolor": "rgb(232,232,232)",
            "linecolor": "rgb(36,36,36)",
            "showgrid": false,
            "showline": true,
            "ticks": "outside"
           },
           "bgcolor": "white",
           "caxis": {
            "gridcolor": "rgb(232,232,232)",
            "linecolor": "rgb(36,36,36)",
            "showgrid": false,
            "showline": true,
            "ticks": "outside"
           }
          },
          "title": {
           "x": 0.05
          },
          "xaxis": {
           "automargin": true,
           "gridcolor": "rgb(232,232,232)",
           "linecolor": "rgb(36,36,36)",
           "showgrid": false,
           "showline": true,
           "ticks": "outside",
           "title": {
            "standoff": 15
           },
           "zeroline": false,
           "zerolinecolor": "rgb(36,36,36)"
          },
          "yaxis": {
           "automargin": true,
           "gridcolor": "rgb(232,232,232)",
           "linecolor": "rgb(36,36,36)",
           "showgrid": false,
           "showline": true,
           "ticks": "outside",
           "title": {
            "standoff": 15
           },
           "zeroline": false,
           "zerolinecolor": "rgb(36,36,36)"
          }
         }
        },
        "xaxis": {
         "showgrid": false,
         "title": {
          "text": "Epoch"
         }
        },
        "yaxis": {
         "showgrid": false
        }
       }
      }
     },
     "metadata": {},
     "output_type": "display_data"
    }
   ],
   "source": [
    "lr_val = go.Scatter(\n",
    "    x=df_lr_epochs_first.index,\n",
    "    y=df_lr_epochs_first[\"val/loss/shg_tensor_full\"],\n",
    "    mode=\"lines+markers\",\n",
    "    name=\"Validation loss\",\n",
    "    showlegend=True,\n",
    ")\n",
    "lr_train = go.Scatter(\n",
    "    x=df_lr_epochs_second.index,\n",
    "    y=df_lr_epochs_second[\"train/loss/shg_tensor_full\"],\n",
    "    mode=\"lines+markers\",\n",
    "    name=\"Train loss\",\n",
    "    showlegend=True,\n",
    ")\n",
    "\n",
    "# Layout\n",
    "layout = go.Layout(\n",
    "    # title=dict(text='Scatter Plot'),\n",
    "    xaxis=dict(title=\"Epoch\"),\n",
    "    # yaxis=dict(title='<i>d&#770;</i><sub>KP</sub> (pm/V)', range=[-5,180]),\n",
    "    # legend=dict(font=dict(size=12)),\n",
    ")\n",
    "\n",
    "# Create figure\n",
    "fig = go.Figure(data=[lr_train, lr_val], layout=layout)\n",
    "\n",
    "fig.update_layout(\n",
    "    autosize=True,\n",
    "    font_size=20,\n",
    "    # width=600,\n",
    "    # height=600,\n",
    "    # plot_bgcolor=\"white\",\n",
    "    template=\"simple_white\",\n",
    ")\n",
    "fig.update_layout(\n",
    "    xaxis=dict(\n",
    "        # tickmode = 'array',\n",
    "        # tickvals = [1, 2,3,4,5,6,7,8],\n",
    "        # ticktext = ['One', 'Three', 'Five', 'Seven', 'Nine', 'Eleven']\n",
    "        showgrid=False,\n",
    "    ),\n",
    "    yaxis=dict(\n",
    "        # tickmode = 'array',\n",
    "        # tickvals = [1, 2,3,4,5,6,7,8],\n",
    "        # ticktext = ['One', 'Three', 'Five', 'Seven', 'Nine', 'Eleven']\n",
    "        showgrid=False,\n",
    "    ),\n",
    ")\n",
    "\n",
    "# Show figure\n",
    "fig.show()"
   ]
  },
  {
   "cell_type": "markdown",
   "metadata": {},
   "source": [
    "## MAE"
   ]
  },
  {
   "cell_type": "code",
   "execution_count": 8,
   "metadata": {},
   "outputs": [
    {
     "data": {
      "application/vnd.plotly.v1+json": {
       "config": {
        "plotlyServerURL": "https://plot.ly"
       },
       "data": [
        {
         "mode": "lines+markers",
         "name": "Validation loss",
         "showlegend": true,
         "type": "scatter",
         "x": [
          0,
          1,
          2,
          3,
          4,
          5,
          6,
          7,
          8,
          9,
          10,
          11,
          12,
          13,
          14,
          15,
          16,
          17,
          18,
          19,
          20,
          21,
          22,
          23,
          24,
          25,
          26,
          27,
          28,
          29,
          30,
          31,
          32,
          33,
          34,
          35,
          36,
          37,
          38,
          39,
          40,
          41,
          42,
          43,
          44,
          45,
          46,
          47,
          48,
          49,
          50,
          51,
          52,
          53,
          54,
          55,
          56,
          57,
          58,
          59,
          60,
          61,
          62,
          63,
          64,
          65,
          66,
          67,
          68,
          69,
          70,
          71,
          72,
          73,
          74,
          75,
          76,
          77,
          78,
          79,
          80,
          81,
          82,
          83,
          84,
          85,
          86,
          87,
          88,
          89,
          90,
          91,
          92,
          93,
          94,
          95,
          96,
          97,
          98,
          99,
          100,
          101,
          102,
          103,
          104,
          105,
          106,
          107,
          108,
          109,
          110,
          111,
          112,
          113,
          114,
          115,
          116,
          117,
          118,
          119,
          120,
          121,
          122,
          123,
          124,
          125,
          126,
          127,
          128,
          129,
          130,
          131,
          132,
          133,
          134,
          135,
          136,
          137,
          138,
          139,
          140,
          141,
          142,
          143,
          144,
          145,
          146,
          147,
          148,
          149,
          150,
          151,
          152,
          153,
          154,
          155,
          156,
          157,
          158,
          159,
          160,
          161,
          162,
          163,
          164,
          165,
          166,
          167,
          168,
          169,
          170,
          171,
          172,
          173,
          174,
          175,
          176,
          177,
          178,
          179,
          180,
          181,
          182,
          183,
          184,
          185,
          186,
          187,
          188,
          189,
          190,
          191,
          192,
          193,
          194,
          195,
          196,
          197,
          198,
          199,
          200,
          201,
          202,
          203,
          204,
          205,
          206,
          207,
          208,
          209,
          210,
          211,
          212,
          213,
          214,
          215,
          216,
          217,
          218,
          219,
          220,
          221,
          222,
          223,
          224,
          225,
          226,
          227,
          228,
          229,
          230,
          231,
          232,
          233,
          234,
          235,
          236,
          237,
          238,
          239,
          240,
          241,
          242,
          243,
          244,
          245,
          246,
          247,
          248,
          249,
          250,
          251,
          252,
          253,
          254,
          255,
          256,
          257,
          258,
          259,
          260,
          261,
          262,
          263,
          264,
          265,
          266,
          267,
          268,
          269,
          270,
          271,
          272,
          273,
          274,
          275,
          276,
          277,
          278,
          279,
          280,
          281,
          282,
          283,
          284,
          285,
          286,
          287,
          288,
          289,
          290,
          291,
          292,
          293,
          294,
          295,
          296,
          297,
          298,
          299,
          300,
          301,
          302,
          303,
          304,
          305,
          306,
          307,
          308,
          309,
          310,
          311,
          312,
          313,
          314,
          315,
          316,
          317,
          318,
          319,
          320,
          321,
          322,
          323,
          324,
          325,
          326,
          327,
          328,
          329,
          330,
          331,
          332,
          333,
          334,
          335,
          336,
          337,
          338,
          339,
          340,
          341,
          342,
          343,
          344,
          345,
          346,
          347,
          348,
          349,
          350,
          351,
          352,
          353,
          354,
          355,
          356,
          357,
          358,
          359,
          360,
          361,
          362,
          363,
          364,
          365,
          366,
          367,
          368,
          369,
          370,
          371,
          372,
          373,
          374,
          375,
          376,
          377,
          378,
          379,
          380,
          381,
          382,
          383,
          384,
          385,
          386,
          387,
          388,
          389,
          390,
          391,
          392,
          393,
          394,
          395,
          396,
          397,
          398,
          399,
          400,
          401,
          402,
          403,
          404,
          405,
          406,
          407,
          408,
          409,
          410,
          411,
          412,
          413,
          414,
          415,
          416,
          417,
          418,
          419,
          420,
          421,
          422,
          423,
          424,
          425,
          426,
          427,
          428,
          429,
          430,
          431,
          432,
          433,
          434,
          435,
          436,
          437,
          438,
          439,
          440,
          441,
          442,
          443,
          444,
          445,
          446,
          447,
          448,
          449,
          450,
          451,
          452,
          453,
          454,
          455,
          456,
          457,
          458,
          459,
          460,
          461,
          462,
          463,
          464,
          465,
          466,
          467,
          468,
          469,
          470,
          471,
          472,
          473,
          474,
          475,
          476,
          477,
          478,
          479,
          480,
          481,
          482,
          483,
          484,
          485,
          486,
          487,
          488,
          489,
          490,
          491,
          492,
          493,
          494,
          495,
          496,
          497,
          498,
          499
         ],
         "y": [
          5.360172271728516,
          5.114588260650635,
          5.338074207305908,
          5.594665050506592,
          5.942023277282715,
          5.33660888671875,
          5.540308475494385,
          5.361505031585693,
          5.694303035736084,
          5.360653400421143,
          5.719398498535156,
          5.3069987297058105,
          5.766781330108643,
          5.306891918182373,
          5.511626720428467,
          5.404941558837891,
          5.6212663650512695,
          5.513370513916016,
          5.533474445343018,
          5.500716209411621,
          5.406186103820801,
          5.533650875091553,
          5.384846687316895,
          5.406674385070801,
          5.443721771240234,
          5.432243824005127,
          5.670376777648926,
          5.331650733947754,
          5.477960586547852,
          5.501789093017578,
          5.523366451263428,
          5.416264533996582,
          5.467261791229248,
          5.609272480010986,
          5.346131324768066,
          5.397405624389648,
          5.36555290222168,
          5.579889297485352,
          5.391075611114502,
          5.34198808670044,
          5.7130656242370605,
          5.365900039672852,
          5.540430545806885,
          5.443691253662109,
          5.496607303619385,
          5.455156803131104,
          5.603512763977051,
          5.459865093231201,
          5.456034183502197,
          5.557991981506348,
          5.440479755401611,
          5.543392181396484,
          5.40070915222168,
          5.379868030548096,
          5.3961591720581055,
          5.453598499298096,
          5.36274003982544,
          5.440717697143555,
          5.403833866119385,
          5.478128910064697,
          5.391209602355957,
          5.482294082641602,
          5.400516986846924,
          5.499581813812256,
          5.421271324157715,
          5.467981815338135,
          5.459254741668701,
          5.456714630126953,
          5.444748401641846,
          5.41383695602417,
          5.449957370758057,
          5.501208782196045,
          5.461676597595215,
          5.348521709442139,
          5.519566059112549,
          5.417704105377197,
          5.384194850921631,
          5.427908897399902,
          5.41552734375,
          5.403221130371094,
          5.509891510009766,
          5.361771583557129,
          5.480643272399902,
          5.419681072235107,
          5.457916736602783,
          5.4345784187316895,
          5.409781455993652,
          5.412248611450195,
          5.476674556732178,
          5.503124713897705,
          5.424099922180176,
          5.454507827758789,
          5.400683403015137,
          5.389379501342773,
          5.481664657592773,
          5.434133052825928,
          5.418594837188721,
          5.499154090881348,
          5.468145847320557,
          5.4720458984375,
          5.456870079040527,
          5.505958080291748,
          5.4314494132995605,
          5.376261234283447,
          5.460254669189453,
          5.452395439147949,
          5.428044319152832,
          5.451695442199707,
          5.465762138366699,
          5.453292369842529,
          5.4793853759765625,
          5.468209743499756,
          5.461854934692383,
          5.457522869110107,
          5.454402923583984,
          5.444619655609131,
          5.434575080871582,
          5.426217555999756,
          5.51129961013794,
          5.489920139312744,
          5.455988883972168,
          5.486254215240479,
          5.449323654174805,
          5.491888046264648,
          5.509530067443848,
          5.486379146575928,
          5.532472610473633,
          5.436254024505615,
          5.486578464508057,
          5.487936973571777,
          5.494848251342773,
          5.47282075881958,
          5.516449451446533,
          5.451996326446533,
          5.482345104217529,
          5.450570583343506,
          5.483611583709717,
          5.502664566040039,
          5.50970983505249,
          5.459357261657715,
          5.44904899597168,
          5.480077266693115,
          5.506792068481445,
          5.479920864105225,
          5.43171501159668,
          5.477797985076904,
          5.527465343475342,
          5.465645790100098,
          5.471235275268555,
          5.441869735717773,
          5.412674427032471,
          5.434983730316162,
          5.480029106140137,
          5.432857036590576,
          5.470111846923828,
          5.454094886779785,
          5.470943450927734,
          5.470252990722656,
          5.50791072845459,
          5.462337493896484,
          5.4742350578308105,
          5.468839168548584,
          5.4564619064331055,
          5.4896240234375,
          5.46968936920166,
          5.494837760925293,
          5.483041763305664,
          5.484880447387695,
          5.486743927001953,
          5.453349590301514,
          5.479248046875,
          5.471612930297852,
          5.490601539611816,
          5.493760108947754,
          5.460307598114014,
          5.486166477203369,
          5.461438179016113,
          5.498894691467285,
          5.494539260864258,
          5.4591145515441895,
          5.50158166885376,
          5.474966526031494,
          5.482517242431641,
          5.474394798278809,
          5.4715423583984375,
          5.510200023651123,
          5.505459308624268,
          5.506189823150635,
          5.4769134521484375,
          5.48307991027832,
          5.474141597747803,
          5.475742340087891,
          5.498198509216309,
          5.4815545082092285,
          5.477029800415039,
          5.469515800476074,
          5.492078304290772,
          5.4880876541137695,
          5.516507148742676,
          5.484319686889648,
          5.517434597015381,
          5.4961442947387695,
          5.474467754364014,
          5.476531028747559,
          5.494070529937744,
          5.484065055847168,
          5.516592979431152,
          5.507304668426514,
          5.474731922149658,
          5.50092363357544,
          5.478914260864258,
          5.488626003265381,
          5.478702068328857,
          5.47792911529541,
          5.508281230926514,
          5.490957736968994,
          5.464449405670166,
          5.465992450714111,
          5.452880382537842,
          5.4887542724609375,
          5.486591815948486,
          5.510157585144043,
          5.510440826416016,
          5.509927749633789,
          5.49677324295044,
          5.497657775878906,
          5.479633808135986,
          5.488792419433594,
          5.464239120483398,
          5.481068134307861,
          5.491236209869385,
          5.504022121429443,
          5.491464614868164,
          5.521279335021973,
          5.499533653259277,
          5.487215995788574,
          5.478389263153076,
          5.486426830291748,
          5.513670921325684,
          5.497912883758545,
          5.500543594360352,
          5.50811767578125,
          5.495615482330322,
          5.496487617492676,
          5.470058441162109,
          5.5007147789001465,
          5.494203567504883,
          5.4927592277526855,
          5.503121376037598,
          5.4981770515441895,
          5.487102031707764,
          5.486448764801025,
          5.496425628662109,
          5.485037326812744,
          5.499211311340332,
          5.501480579376221,
          5.494597434997559,
          5.485228538513184,
          5.493513107299805,
          5.487828731536865,
          5.479071617126465,
          5.48805570602417,
          5.493304252624512,
          5.484913349151611,
          5.493093967437744,
          5.495933532714844,
          5.510163307189941,
          5.490710735321045,
          5.505568504333496,
          5.501711368560791,
          5.503651142120361,
          5.483386516571045,
          5.499876976013184,
          5.497779846191406,
          5.5020751953125,
          5.484505653381348,
          5.522550582885742,
          5.50320291519165,
          5.496994972229004,
          5.517807483673096,
          5.504773616790772,
          5.517293453216553,
          5.511744976043701,
          5.512546539306641,
          5.505645275115967,
          5.518791198730469,
          5.534634590148926,
          5.498166561126709,
          5.497265815734863,
          5.518948078155518,
          5.498250484466553,
          5.512131214141846,
          5.507854461669922,
          5.499259948730469,
          5.507318019866943,
          5.49886417388916,
          5.496401309967041,
          5.498704433441162,
          5.51643180847168,
          5.497716903686523,
          5.492979049682617,
          5.48960018157959,
          5.499762535095215,
          5.499156475067139,
          5.489870071411133,
          5.501608371734619,
          5.5207366943359375,
          5.496842384338379,
          5.508300304412842,
          5.505155563354492,
          5.510249614715576,
          5.5018510818481445,
          5.500396251678467,
          5.493759632110596,
          5.500967502593994,
          5.467320919036865,
          5.494265556335449,
          5.525776386260986,
          5.502405643463135,
          5.502392768859863,
          5.510677337646484,
          5.499017715454102,
          5.522413730621338,
          5.516132354736328,
          5.512130737304688,
          5.496642589569092,
          5.508471965789795,
          5.514476776123047,
          5.499659061431885,
          5.515130519866943,
          5.485007286071777,
          5.509067058563232,
          5.525402545928955,
          5.510272026062012,
          5.524052143096924,
          5.51567268371582,
          5.514382839202881,
          5.509607791900635,
          5.519188404083252,
          5.501115798950195,
          5.504106998443604,
          5.508076190948486,
          5.527499675750732,
          5.495571613311768,
          5.5014424324035645,
          5.505775451660156,
          5.4987382888793945,
          5.50304651260376,
          5.492476463317871,
          5.505628108978272,
          5.513342380523682,
          5.51339864730835,
          5.502996921539307,
          5.501744270324707,
          5.522331237792969,
          5.4908599853515625,
          5.523620128631592,
          5.50068998336792,
          5.51585865020752,
          5.501035213470459,
          5.504309177398682,
          5.494729518890381,
          5.504916667938232,
          5.509416103363037,
          5.487412929534912,
          5.516231536865234,
          5.508989334106445,
          5.509077548980713,
          5.505829811096191,
          5.510083198547363,
          5.50759220123291,
          5.4893574714660645,
          5.51270055770874,
          5.509934425354004,
          5.495689868927002,
          5.508667469024658,
          5.499026775360107,
          5.509319305419922,
          5.515377998352051,
          5.506129741668701,
          5.514729499816895,
          5.50290060043335,
          5.49485445022583,
          5.498045921325684,
          5.498158931732178,
          5.489749431610107,
          5.530570983886719,
          5.501075744628906,
          5.517600536346436,
          5.507730484008789,
          5.519299983978272,
          5.516272068023682,
          5.502912998199463,
          5.5059733390808105,
          5.504810333251953,
          5.493037223815918,
          5.487544059753418,
          5.485048770904541,
          5.50438928604126,
          5.488582134246826,
          5.497620105743408,
          5.503547191619873,
          5.514941215515137,
          5.519406795501709,
          5.493050575256348,
          5.482647895812988,
          5.497736930847168,
          5.503884792327881,
          5.507344722747803,
          5.510738849639893,
          5.505950927734375,
          5.5104193687438965,
          5.512901306152344,
          5.506499767303467,
          5.505195140838623,
          5.506753921508789,
          5.502742290496826,
          5.5034708976745605,
          5.48588228225708,
          5.506880283355713,
          5.500960350036621,
          5.505934238433838,
          5.505138874053955,
          5.5103440284729,
          5.495121479034424,
          5.509563446044922,
          5.482779502868652,
          5.510425090789795,
          5.506645202636719,
          5.5181498527526855,
          5.503341197967529,
          5.497550964355469,
          5.506105899810791,
          5.4960761070251465,
          5.511332511901856,
          5.517333984375,
          5.508265018463135,
          5.490200996398926,
          5.497056484222412,
          5.513718128204346,
          5.503332614898682,
          5.522945880889893,
          5.497998237609863,
          5.501041889190674,
          5.48858642578125,
          5.500358581542969,
          5.500618934631348,
          5.510129451751709,
          5.516101837158203,
          5.526347160339356,
          5.519003868103027,
          5.515231132507324,
          5.511203289031982,
          5.511100769042969,
          5.520932197570801,
          5.52169132232666,
          5.509804725646973,
          5.515116691589356,
          5.506011486053467,
          5.50366735458374,
          5.506774425506592,
          5.515498638153076,
          5.523470878601074,
          5.49323034286499,
          5.501833915710449,
          5.51331090927124,
          5.506218910217285,
          5.51020097732544,
          5.505701065063477,
          5.509227275848389,
          5.532888412475586,
          5.516445636749268,
          5.507060527801514,
          5.517236232757568,
          5.501344680786133,
          5.515137672424316,
          5.500427722930908,
          5.507913589477539,
          5.526857852935791,
          5.509941577911377,
          5.502223014831543,
          5.510918140411377,
          5.51316499710083,
          5.492837429046631,
          5.506367206573486,
          5.510998249053955,
          5.507163047790527,
          5.501528739929199,
          5.522608280181885,
          5.526739120483398,
          5.502070426940918,
          5.5098137855529785,
          5.527557849884033,
          5.503473281860352,
          5.506565093994141,
          5.488974094390869,
          5.513635635375977,
          5.524563789367676,
          5.506281852722168,
          5.515830993652344
         ]
        }
       ],
       "layout": {
        "autosize": true,
        "font": {
         "size": 20
        },
        "template": {
         "data": {
          "bar": [
           {
            "error_x": {
             "color": "rgb(36,36,36)"
            },
            "error_y": {
             "color": "rgb(36,36,36)"
            },
            "marker": {
             "line": {
              "color": "white",
              "width": 0.5
             },
             "pattern": {
              "fillmode": "overlay",
              "size": 10,
              "solidity": 0.2
             }
            },
            "type": "bar"
           }
          ],
          "barpolar": [
           {
            "marker": {
             "line": {
              "color": "white",
              "width": 0.5
             },
             "pattern": {
              "fillmode": "overlay",
              "size": 10,
              "solidity": 0.2
             }
            },
            "type": "barpolar"
           }
          ],
          "carpet": [
           {
            "aaxis": {
             "endlinecolor": "rgb(36,36,36)",
             "gridcolor": "white",
             "linecolor": "white",
             "minorgridcolor": "white",
             "startlinecolor": "rgb(36,36,36)"
            },
            "baxis": {
             "endlinecolor": "rgb(36,36,36)",
             "gridcolor": "white",
             "linecolor": "white",
             "minorgridcolor": "white",
             "startlinecolor": "rgb(36,36,36)"
            },
            "type": "carpet"
           }
          ],
          "choropleth": [
           {
            "colorbar": {
             "outlinewidth": 1,
             "tickcolor": "rgb(36,36,36)",
             "ticks": "outside"
            },
            "type": "choropleth"
           }
          ],
          "contour": [
           {
            "colorbar": {
             "outlinewidth": 1,
             "tickcolor": "rgb(36,36,36)",
             "ticks": "outside"
            },
            "colorscale": [
             [
              0,
              "#440154"
             ],
             [
              0.1111111111111111,
              "#482878"
             ],
             [
              0.2222222222222222,
              "#3e4989"
             ],
             [
              0.3333333333333333,
              "#31688e"
             ],
             [
              0.4444444444444444,
              "#26828e"
             ],
             [
              0.5555555555555556,
              "#1f9e89"
             ],
             [
              0.6666666666666666,
              "#35b779"
             ],
             [
              0.7777777777777778,
              "#6ece58"
             ],
             [
              0.8888888888888888,
              "#b5de2b"
             ],
             [
              1,
              "#fde725"
             ]
            ],
            "type": "contour"
           }
          ],
          "contourcarpet": [
           {
            "colorbar": {
             "outlinewidth": 1,
             "tickcolor": "rgb(36,36,36)",
             "ticks": "outside"
            },
            "type": "contourcarpet"
           }
          ],
          "heatmap": [
           {
            "colorbar": {
             "outlinewidth": 1,
             "tickcolor": "rgb(36,36,36)",
             "ticks": "outside"
            },
            "colorscale": [
             [
              0,
              "#440154"
             ],
             [
              0.1111111111111111,
              "#482878"
             ],
             [
              0.2222222222222222,
              "#3e4989"
             ],
             [
              0.3333333333333333,
              "#31688e"
             ],
             [
              0.4444444444444444,
              "#26828e"
             ],
             [
              0.5555555555555556,
              "#1f9e89"
             ],
             [
              0.6666666666666666,
              "#35b779"
             ],
             [
              0.7777777777777778,
              "#6ece58"
             ],
             [
              0.8888888888888888,
              "#b5de2b"
             ],
             [
              1,
              "#fde725"
             ]
            ],
            "type": "heatmap"
           }
          ],
          "heatmapgl": [
           {
            "colorbar": {
             "outlinewidth": 1,
             "tickcolor": "rgb(36,36,36)",
             "ticks": "outside"
            },
            "colorscale": [
             [
              0,
              "#440154"
             ],
             [
              0.1111111111111111,
              "#482878"
             ],
             [
              0.2222222222222222,
              "#3e4989"
             ],
             [
              0.3333333333333333,
              "#31688e"
             ],
             [
              0.4444444444444444,
              "#26828e"
             ],
             [
              0.5555555555555556,
              "#1f9e89"
             ],
             [
              0.6666666666666666,
              "#35b779"
             ],
             [
              0.7777777777777778,
              "#6ece58"
             ],
             [
              0.8888888888888888,
              "#b5de2b"
             ],
             [
              1,
              "#fde725"
             ]
            ],
            "type": "heatmapgl"
           }
          ],
          "histogram": [
           {
            "marker": {
             "line": {
              "color": "white",
              "width": 0.6
             }
            },
            "type": "histogram"
           }
          ],
          "histogram2d": [
           {
            "colorbar": {
             "outlinewidth": 1,
             "tickcolor": "rgb(36,36,36)",
             "ticks": "outside"
            },
            "colorscale": [
             [
              0,
              "#440154"
             ],
             [
              0.1111111111111111,
              "#482878"
             ],
             [
              0.2222222222222222,
              "#3e4989"
             ],
             [
              0.3333333333333333,
              "#31688e"
             ],
             [
              0.4444444444444444,
              "#26828e"
             ],
             [
              0.5555555555555556,
              "#1f9e89"
             ],
             [
              0.6666666666666666,
              "#35b779"
             ],
             [
              0.7777777777777778,
              "#6ece58"
             ],
             [
              0.8888888888888888,
              "#b5de2b"
             ],
             [
              1,
              "#fde725"
             ]
            ],
            "type": "histogram2d"
           }
          ],
          "histogram2dcontour": [
           {
            "colorbar": {
             "outlinewidth": 1,
             "tickcolor": "rgb(36,36,36)",
             "ticks": "outside"
            },
            "colorscale": [
             [
              0,
              "#440154"
             ],
             [
              0.1111111111111111,
              "#482878"
             ],
             [
              0.2222222222222222,
              "#3e4989"
             ],
             [
              0.3333333333333333,
              "#31688e"
             ],
             [
              0.4444444444444444,
              "#26828e"
             ],
             [
              0.5555555555555556,
              "#1f9e89"
             ],
             [
              0.6666666666666666,
              "#35b779"
             ],
             [
              0.7777777777777778,
              "#6ece58"
             ],
             [
              0.8888888888888888,
              "#b5de2b"
             ],
             [
              1,
              "#fde725"
             ]
            ],
            "type": "histogram2dcontour"
           }
          ],
          "mesh3d": [
           {
            "colorbar": {
             "outlinewidth": 1,
             "tickcolor": "rgb(36,36,36)",
             "ticks": "outside"
            },
            "type": "mesh3d"
           }
          ],
          "parcoords": [
           {
            "line": {
             "colorbar": {
              "outlinewidth": 1,
              "tickcolor": "rgb(36,36,36)",
              "ticks": "outside"
             }
            },
            "type": "parcoords"
           }
          ],
          "pie": [
           {
            "automargin": true,
            "type": "pie"
           }
          ],
          "scatter": [
           {
            "fillpattern": {
             "fillmode": "overlay",
             "size": 10,
             "solidity": 0.2
            },
            "type": "scatter"
           }
          ],
          "scatter3d": [
           {
            "line": {
             "colorbar": {
              "outlinewidth": 1,
              "tickcolor": "rgb(36,36,36)",
              "ticks": "outside"
             }
            },
            "marker": {
             "colorbar": {
              "outlinewidth": 1,
              "tickcolor": "rgb(36,36,36)",
              "ticks": "outside"
             }
            },
            "type": "scatter3d"
           }
          ],
          "scattercarpet": [
           {
            "marker": {
             "colorbar": {
              "outlinewidth": 1,
              "tickcolor": "rgb(36,36,36)",
              "ticks": "outside"
             }
            },
            "type": "scattercarpet"
           }
          ],
          "scattergeo": [
           {
            "marker": {
             "colorbar": {
              "outlinewidth": 1,
              "tickcolor": "rgb(36,36,36)",
              "ticks": "outside"
             }
            },
            "type": "scattergeo"
           }
          ],
          "scattergl": [
           {
            "marker": {
             "colorbar": {
              "outlinewidth": 1,
              "tickcolor": "rgb(36,36,36)",
              "ticks": "outside"
             }
            },
            "type": "scattergl"
           }
          ],
          "scattermapbox": [
           {
            "marker": {
             "colorbar": {
              "outlinewidth": 1,
              "tickcolor": "rgb(36,36,36)",
              "ticks": "outside"
             }
            },
            "type": "scattermapbox"
           }
          ],
          "scatterpolar": [
           {
            "marker": {
             "colorbar": {
              "outlinewidth": 1,
              "tickcolor": "rgb(36,36,36)",
              "ticks": "outside"
             }
            },
            "type": "scatterpolar"
           }
          ],
          "scatterpolargl": [
           {
            "marker": {
             "colorbar": {
              "outlinewidth": 1,
              "tickcolor": "rgb(36,36,36)",
              "ticks": "outside"
             }
            },
            "type": "scatterpolargl"
           }
          ],
          "scatterternary": [
           {
            "marker": {
             "colorbar": {
              "outlinewidth": 1,
              "tickcolor": "rgb(36,36,36)",
              "ticks": "outside"
             }
            },
            "type": "scatterternary"
           }
          ],
          "surface": [
           {
            "colorbar": {
             "outlinewidth": 1,
             "tickcolor": "rgb(36,36,36)",
             "ticks": "outside"
            },
            "colorscale": [
             [
              0,
              "#440154"
             ],
             [
              0.1111111111111111,
              "#482878"
             ],
             [
              0.2222222222222222,
              "#3e4989"
             ],
             [
              0.3333333333333333,
              "#31688e"
             ],
             [
              0.4444444444444444,
              "#26828e"
             ],
             [
              0.5555555555555556,
              "#1f9e89"
             ],
             [
              0.6666666666666666,
              "#35b779"
             ],
             [
              0.7777777777777778,
              "#6ece58"
             ],
             [
              0.8888888888888888,
              "#b5de2b"
             ],
             [
              1,
              "#fde725"
             ]
            ],
            "type": "surface"
           }
          ],
          "table": [
           {
            "cells": {
             "fill": {
              "color": "rgb(237,237,237)"
             },
             "line": {
              "color": "white"
             }
            },
            "header": {
             "fill": {
              "color": "rgb(217,217,217)"
             },
             "line": {
              "color": "white"
             }
            },
            "type": "table"
           }
          ]
         },
         "layout": {
          "annotationdefaults": {
           "arrowhead": 0,
           "arrowwidth": 1
          },
          "autotypenumbers": "strict",
          "coloraxis": {
           "colorbar": {
            "outlinewidth": 1,
            "tickcolor": "rgb(36,36,36)",
            "ticks": "outside"
           }
          },
          "colorscale": {
           "diverging": [
            [
             0,
             "rgb(103,0,31)"
            ],
            [
             0.1,
             "rgb(178,24,43)"
            ],
            [
             0.2,
             "rgb(214,96,77)"
            ],
            [
             0.3,
             "rgb(244,165,130)"
            ],
            [
             0.4,
             "rgb(253,219,199)"
            ],
            [
             0.5,
             "rgb(247,247,247)"
            ],
            [
             0.6,
             "rgb(209,229,240)"
            ],
            [
             0.7,
             "rgb(146,197,222)"
            ],
            [
             0.8,
             "rgb(67,147,195)"
            ],
            [
             0.9,
             "rgb(33,102,172)"
            ],
            [
             1,
             "rgb(5,48,97)"
            ]
           ],
           "sequential": [
            [
             0,
             "#440154"
            ],
            [
             0.1111111111111111,
             "#482878"
            ],
            [
             0.2222222222222222,
             "#3e4989"
            ],
            [
             0.3333333333333333,
             "#31688e"
            ],
            [
             0.4444444444444444,
             "#26828e"
            ],
            [
             0.5555555555555556,
             "#1f9e89"
            ],
            [
             0.6666666666666666,
             "#35b779"
            ],
            [
             0.7777777777777778,
             "#6ece58"
            ],
            [
             0.8888888888888888,
             "#b5de2b"
            ],
            [
             1,
             "#fde725"
            ]
           ],
           "sequentialminus": [
            [
             0,
             "#440154"
            ],
            [
             0.1111111111111111,
             "#482878"
            ],
            [
             0.2222222222222222,
             "#3e4989"
            ],
            [
             0.3333333333333333,
             "#31688e"
            ],
            [
             0.4444444444444444,
             "#26828e"
            ],
            [
             0.5555555555555556,
             "#1f9e89"
            ],
            [
             0.6666666666666666,
             "#35b779"
            ],
            [
             0.7777777777777778,
             "#6ece58"
            ],
            [
             0.8888888888888888,
             "#b5de2b"
            ],
            [
             1,
             "#fde725"
            ]
           ]
          },
          "colorway": [
           "#1F77B4",
           "#FF7F0E",
           "#2CA02C",
           "#D62728",
           "#9467BD",
           "#8C564B",
           "#E377C2",
           "#7F7F7F",
           "#BCBD22",
           "#17BECF"
          ],
          "font": {
           "color": "rgb(36,36,36)"
          },
          "geo": {
           "bgcolor": "white",
           "lakecolor": "white",
           "landcolor": "white",
           "showlakes": true,
           "showland": true,
           "subunitcolor": "white"
          },
          "hoverlabel": {
           "align": "left"
          },
          "hovermode": "closest",
          "mapbox": {
           "style": "light"
          },
          "paper_bgcolor": "white",
          "plot_bgcolor": "white",
          "polar": {
           "angularaxis": {
            "gridcolor": "rgb(232,232,232)",
            "linecolor": "rgb(36,36,36)",
            "showgrid": false,
            "showline": true,
            "ticks": "outside"
           },
           "bgcolor": "white",
           "radialaxis": {
            "gridcolor": "rgb(232,232,232)",
            "linecolor": "rgb(36,36,36)",
            "showgrid": false,
            "showline": true,
            "ticks": "outside"
           }
          },
          "scene": {
           "xaxis": {
            "backgroundcolor": "white",
            "gridcolor": "rgb(232,232,232)",
            "gridwidth": 2,
            "linecolor": "rgb(36,36,36)",
            "showbackground": true,
            "showgrid": false,
            "showline": true,
            "ticks": "outside",
            "zeroline": false,
            "zerolinecolor": "rgb(36,36,36)"
           },
           "yaxis": {
            "backgroundcolor": "white",
            "gridcolor": "rgb(232,232,232)",
            "gridwidth": 2,
            "linecolor": "rgb(36,36,36)",
            "showbackground": true,
            "showgrid": false,
            "showline": true,
            "ticks": "outside",
            "zeroline": false,
            "zerolinecolor": "rgb(36,36,36)"
           },
           "zaxis": {
            "backgroundcolor": "white",
            "gridcolor": "rgb(232,232,232)",
            "gridwidth": 2,
            "linecolor": "rgb(36,36,36)",
            "showbackground": true,
            "showgrid": false,
            "showline": true,
            "ticks": "outside",
            "zeroline": false,
            "zerolinecolor": "rgb(36,36,36)"
           }
          },
          "shapedefaults": {
           "fillcolor": "black",
           "line": {
            "width": 0
           },
           "opacity": 0.3
          },
          "ternary": {
           "aaxis": {
            "gridcolor": "rgb(232,232,232)",
            "linecolor": "rgb(36,36,36)",
            "showgrid": false,
            "showline": true,
            "ticks": "outside"
           },
           "baxis": {
            "gridcolor": "rgb(232,232,232)",
            "linecolor": "rgb(36,36,36)",
            "showgrid": false,
            "showline": true,
            "ticks": "outside"
           },
           "bgcolor": "white",
           "caxis": {
            "gridcolor": "rgb(232,232,232)",
            "linecolor": "rgb(36,36,36)",
            "showgrid": false,
            "showline": true,
            "ticks": "outside"
           }
          },
          "title": {
           "x": 0.05
          },
          "xaxis": {
           "automargin": true,
           "gridcolor": "rgb(232,232,232)",
           "linecolor": "rgb(36,36,36)",
           "showgrid": false,
           "showline": true,
           "ticks": "outside",
           "title": {
            "standoff": 15
           },
           "zeroline": false,
           "zerolinecolor": "rgb(36,36,36)"
          },
          "yaxis": {
           "automargin": true,
           "gridcolor": "rgb(232,232,232)",
           "linecolor": "rgb(36,36,36)",
           "showgrid": false,
           "showline": true,
           "ticks": "outside",
           "title": {
            "standoff": 15
           },
           "zeroline": false,
           "zerolinecolor": "rgb(36,36,36)"
          }
         }
        },
        "xaxis": {
         "showgrid": false,
         "title": {
          "text": "Epoch"
         }
        },
        "yaxis": {
         "showgrid": false,
         "title": {
          "text": "MAE (pm/V)"
         }
        }
       }
      }
     },
     "metadata": {},
     "output_type": "display_data"
    }
   ],
   "source": [
    "lr_val = go.Scatter(\n",
    "    x=df_lr_epochs_first.index,\n",
    "    y=df_lr_epochs_first[\"metric_val/MeanAbsoluteError/shg_tensor_full\"],\n",
    "    mode=\"lines+markers\",\n",
    "    name=\"Validation loss\",\n",
    "    showlegend=True,\n",
    ")\n",
    "\n",
    "# Layout\n",
    "layout = go.Layout(\n",
    "    # title=dict(text='Scatter Plot'),\n",
    "    xaxis=dict(title=\"Epoch\"),\n",
    "    yaxis=dict(title=\"MAE (pm/V)\"),\n",
    "    # legend=dict(font=dict(size=12)),\n",
    ")\n",
    "\n",
    "# Create figure\n",
    "fig = go.Figure(data=[lr_val], layout=layout)\n",
    "\n",
    "fig.update_layout(\n",
    "    autosize=True,\n",
    "    font_size=20,\n",
    "    # width=600,\n",
    "    # height=600,\n",
    "    # plot_bgcolor=\"white\",\n",
    "    template=\"simple_white\",\n",
    ")\n",
    "fig.update_layout(\n",
    "    xaxis=dict(\n",
    "        # tickmode = 'array',\n",
    "        # tickvals = [1, 2,3,4,5,6,7,8],\n",
    "        # ticktext = ['One', 'Three', 'Five', 'Seven', 'Nine', 'Eleven']\n",
    "        showgrid=False,\n",
    "    ),\n",
    "    yaxis=dict(\n",
    "        # tickmode = 'array',\n",
    "        # tickvals = [1, 2,3,4,5,6,7,8],\n",
    "        # ticktext = ['One', 'Three', 'Five', 'Seven', 'Nine', 'Eleven']\n",
    "        showgrid=False,\n",
    "    ),\n",
    ")\n",
    "\n",
    "# Show figure\n",
    "fig.show()"
   ]
  },
  {
   "cell_type": "markdown",
   "metadata": {},
   "source": [
    "# Errors on dijk"
   ]
  },
  {
   "cell_type": "code",
   "execution_count": 9,
   "metadata": {},
   "outputs": [
    {
     "name": "stdout",
     "output_type": "stream",
     "text": [
      "41.1429808785491\n"
     ]
    }
   ],
   "source": [
    "list_fronorm = []  # = sqrt(sum(sqrd))\n",
    "for ir, r in df_pred_matten.iterrows():\n",
    "    dijk_orig = shg.from_voigt(df_orig.loc[ir][\"dijk_full_neum\"])\n",
    "    dijk_matten = shg.from_voigt(r[\"dijk_matten\"])\n",
    "    if np.count_nonzero(dijk_orig) == 0:\n",
    "        continue\n",
    "    t = dijk_orig - dijk_matten\n",
    "    list_fronorm.append(np.linalg.norm(t))\n",
    "print(np.mean(list_fronorm))"
   ]
  },
  {
   "cell_type": "code",
   "execution_count": 10,
   "metadata": {},
   "outputs": [
    {
     "name": "stdout",
     "output_type": "stream",
     "text": [
      "5.2113742514403\n"
     ]
    }
   ],
   "source": [
    "list_fronorm = []  # = sqrt(sum(sqrd))/nb_nonzero\n",
    "for ir, r in df_pred_matten.iterrows():\n",
    "    dijk_orig = shg.from_voigt(df_orig.loc[ir][\"dijk_full_neum\"])\n",
    "    dijk_matten = shg.from_voigt(r[\"dijk_matten\"])\n",
    "    if np.count_nonzero(dijk_orig) == 0:\n",
    "        continue\n",
    "    list_fronorm.append(\n",
    "        np.linalg.norm(dijk_orig - dijk_matten) / np.count_nonzero(dijk_orig)\n",
    "    )\n",
    "print(np.mean(list_fronorm))"
   ]
  },
  {
   "cell_type": "markdown",
   "metadata": {},
   "source": [
    "## Errors on dijk masked"
   ]
  },
  {
   "cell_type": "code",
   "execution_count": 11,
   "metadata": {},
   "outputs": [
    {
     "name": "stdout",
     "output_type": "stream",
     "text": [
      "39.115518536341604\n"
     ]
    }
   ],
   "source": [
    "# masked\n",
    "list_fronorm = []  # = sqrt(sum(sqrd))\n",
    "for ir, r in df_pred_matten.iterrows():\n",
    "    dijk_orig = shg.from_voigt(df_orig.loc[ir][\"dijk_full_neum\"])\n",
    "    dijk_matten = shg.from_voigt(r[\"dijk_matten\"])\n",
    "    dijk_matten = np.where(dijk_orig != 0, dijk_matten, 0)\n",
    "    if np.count_nonzero(dijk_orig) == 0:\n",
    "        continue\n",
    "    t = dijk_orig - dijk_matten\n",
    "    list_fronorm.append(np.linalg.norm(t))\n",
    "print(np.mean(list_fronorm))"
   ]
  },
  {
   "cell_type": "code",
   "execution_count": 12,
   "metadata": {},
   "outputs": [
    {
     "name": "stdout",
     "output_type": "stream",
     "text": [
      "4.884829758387815\n"
     ]
    }
   ],
   "source": [
    "list_fronorm = []  # = sqrt(sum(sqrd))/nb_nonzero\n",
    "for ir, r in df_pred_matten.iterrows():\n",
    "    dijk_orig = shg.from_voigt(df_orig.loc[ir][\"dijk_full_neum\"])\n",
    "    dijk_matten = shg.from_voigt(r[\"dijk_matten\"])\n",
    "    dijk_matten = np.where(dijk_orig != 0, dijk_matten, 0)\n",
    "    if np.count_nonzero(dijk_orig) == 0:\n",
    "        continue\n",
    "    t = dijk_orig - dijk_matten\n",
    "    list_fronorm.append(\n",
    "        np.linalg.norm(dijk_orig - dijk_matten) / np.count_nonzero(dijk_orig)\n",
    "    )\n",
    "print(np.mean(list_fronorm))"
   ]
  },
  {
   "cell_type": "markdown",
   "metadata": {},
   "source": [
    "# Errors on dKP"
   ]
  },
  {
   "cell_type": "code",
   "execution_count": 13,
   "metadata": {},
   "outputs": [
    {
     "name": "stdout",
     "output_type": "stream",
     "text": [
      "MAE = 9.815472588475336\n",
      "MAPE = 4.112220312007851\n",
      "RMSE = 24.328435027731615\n",
      "Rho_sp = 0.7472471559544952\n"
     ]
    },
    {
     "data": {
      "application/vnd.plotly.v1+json": {
       "config": {
        "plotlyServerURL": "https://plot.ly"
       },
       "data": [
        {
         "mode": "markers",
         "name": "",
         "showlegend": false,
         "text": [
          "mp-21892",
          "mp-8070",
          "mp-558491",
          "mp-632684",
          "mp-23329",
          "mp-555150",
          "mp-6564",
          "mp-18578",
          "mp-760755",
          "mp-28456",
          "mp-4779",
          "mp-6268",
          "mp-706621",
          "mp-559057",
          "mp-24468",
          "mp-1778",
          "mp-2176",
          "mp-22909",
          "mp-4187",
          "mp-10341",
          "mp-9844",
          "mp-5784",
          "mp-20694",
          "mp-9066",
          "mp-6126",
          "mp-632229",
          "mp-12177",
          "mp-21521",
          "mp-1287",
          "mp-756044",
          "mp-754712",
          "mp-4812",
          "mp-18168",
          "mp-23866",
          "mp-558085",
          "mp-230",
          "mp-505702",
          "mp-559065",
          "mp-559545",
          "mp-549720",
          "mp-561385",
          "mp-13666",
          "mp-14444",
          "mp-1550",
          "mp-2469",
          "mp-31451",
          "mp-1023924",
          "mp-1100395",
          "mp-961682",
          "mp-38011",
          "mp-30847",
          "mp-8884",
          "mp-1017534",
          "mp-6980",
          "mp-560588",
          "mp-4524",
          "mp-4514",
          "mp-11714",
          "mp-1180133",
          "mp-675161",
          "mp-983327",
          "mp-1225884",
          "mp-1219554",
          "mp-1196457",
          "mp-560894",
          "mp-1196282",
          "mp-1222122",
          "mp-1219328",
          "mp-1227014",
          "mp-1222205",
          "mp-1227124",
          "mp-1102285",
          "mp-1227389",
          "mp-1180688",
          "mp-1399519",
          "mp-1227110",
          "mp-1079676",
          "mp-24705",
          "mp-1516294",
          "mp-1228342",
          "mp-17862",
          "mp-504952",
          "mp-1222589",
          "mp-1223849",
          "mp-6524",
          "mp-1208039",
          "mp-625175",
          "mp-1219000",
          "mp-532424",
          "mp-1218099",
          "agm002306806",
          "agm003160552",
          "agm003202328",
          "agm002353946",
          "agm002278924",
          "agm002381637",
          "agm003225028",
          "agm003202410",
          "agm003230659",
          "agm003128264",
          "mp-781710",
          "mp-1227011",
          "mp-1216118",
          "agm002166075",
          "agm002135972",
          "mp-3267",
          "agm002224865",
          "agm002347507",
          "agm003157565",
          "mp-1216100",
          "mp-1195571",
          "mp-780232",
          "agm002018869",
          "agm002140778",
          "agm002041336",
          "agm003219193",
          "mp-1228160",
          "mp-1223489",
          "mp-1221169",
          "mp-4431",
          "mp-8393",
          "mp-1105300",
          "mp-36066",
          "mp-1103351",
          "mp-1103228",
          "mp-1029368",
          "mp-1217825",
          "mp-1029633",
          "agm002147818",
          "agm003248171",
          "mp-1223526",
          "agm002153139",
          "mp-239",
          "agm002137320",
          "mp-1079609",
          "mp-558219",
          "mp-555202",
          "mp-1216976",
          "mp-626172",
          "agm002156258",
          "mp-772748",
          "agm002237467",
          "mp-1223389",
          "agm002155430",
          "mp-9427",
          "mp-1225916",
          "agm003237859",
          "agm002156600",
          "mp-1221971",
          "mp-1220913",
          "agm002237807",
          "mp-1221578",
          "mp-1191266",
          "mp-1205304",
          "mp-1218334",
          "agm002215982",
          "mp-559752",
          "mp-1215642",
          "agm002813663",
          "mp-1247873",
          "mp-1194479",
          "mp-558521",
          "agm003213121",
          "agm002286033",
          "agm002297812",
          "mp-1147697",
          "mp-29157",
          "mp-558277",
          "agm003200486",
          "agm002157245",
          "mp-1370",
          "mp-555915",
          "mp-776226",
          "agm002138671",
          "agm002790067",
          "agm002163280",
          "mp-532444",
          "agm002177957",
          "agm006045098",
          "agm002205114",
          "agm2000005406",
          "agm002184995",
          "agm003235252",
          "agm002178912",
          "agm002115629",
          "agm003206267",
          "agm004739450",
          "agm003705731",
          "agm005112928",
          "agm005722808",
          "agm2000126920",
          "agm2000137141",
          "agm005848675",
          "mp-2802611",
          "agm002158085",
          "agm005545163",
          "agm005056300",
          "agm004786326",
          "agm003048447",
          "agm002102212",
          "agm001234439",
          "agm002056302",
          "agm002137665",
          "agm003555711",
          "mp-554918",
          "mp-570756",
          "agm001375463",
          "agm005208831",
          "mp-4452",
          "agm005882616",
          "agm2000001907",
          "agm005721583",
          "agm001281942",
          "agm003267560",
          "agm004773887",
          "agm004852816",
          "agm006020719",
          "agm004957157",
          "agm003112540",
          "agm002293392",
          "agm005785567",
          "agm004948831",
          "agm004787350",
          "agm005954902",
          "agm005199361",
          "agm2000035672",
          "agm002032016",
          "agm005180377",
          "agm002176403",
          "agm002182720",
          "agm002161194",
          "agm2000136656",
          "agm005882580",
          "agm002074653",
          "agm003561427",
          "mp-1208179",
          "agm002078874",
          "agm004949939",
          "agm002017294",
          "mp-556157",
          "mp-2720358",
          "agm002041315",
          "agm003469328",
          "agm005072178",
          "agm001037983",
          "mp-1219050",
          "agm005664742",
          "agm004773455",
          "agm005071058",
          "mp-4122"
         ],
         "type": "scatter",
         "x": [
          1.6702877031054744,
          0.6153567936409394,
          0.916306049190346,
          0.6332971350134445,
          8.216653290326382,
          1.6714733711428025,
          0.1403531239500043,
          5.491953186704058,
          0.0989148861399233,
          8.534205167195006,
          0.2100263698944896,
          6.412929743824089,
          0.17402164883623036,
          1.6293975755324084,
          0.442564857428989,
          0.31993983241561774,
          105.24117753411169,
          2.5879642137648387,
          7.455776004764993,
          1.157818482339108,
          0.9483772869076768,
          0.2392722823262867,
          1.089629325792245,
          0.3187782410759168,
          2.733238270650939,
          2.9096809494071505,
          20.65661380512347,
          7.525570950107779,
          0.14195876287417517,
          0.2817178150189904,
          1.1696456448991597,
          0.7380633214529762,
          2.40853762353919,
          0.9147487969477314,
          0.4043916301028684,
          5.679922422479741,
          1.5660413794640675,
          6.497969001348536,
          5.767520489335899,
          22.184202830713517,
          0.7001223238354805,
          50.26224377818762,
          13.325047557309988,
          8.249912498315384,
          16.7224180311217,
          67.16185442385373,
          2.5747069716896993,
          0.03305460975883652,
          19.413017544051225,
          6.982839424963341,
          37.84125851846766,
          39.55664828037646,
          86.43318649770944,
          61.68514671047256,
          28.66905184837226,
          89.50434406167203,
          12.0838638247286,
          6.449937968827414,
          5.011475693953564,
          0.47930518568311,
          0.1610129159421652,
          0.15713573856920957,
          2.4095157994896765,
          0.10779869903410652,
          0.498530944623206,
          0.020592390517412237,
          3.629591992871674,
          2.7085081891465723,
          36.70940657343026,
          11.69283834160852,
          16.28151897450099,
          7.285592611778784,
          38.202112721920614,
          0.948429369582447,
          0.5353933903184616,
          0.009159898472070336,
          1.4181497304502502,
          1.1892828338121868,
          0.05868079498594491,
          1.3815042676431624,
          33.20634743822916,
          14.64182602964108,
          0.1733496066232448,
          0.09266296905357542,
          1.298295670739857,
          0.9608928044838884,
          0.2779184074445728,
          69.68960287965022,
          0.08417919187705811,
          0.8720676557004222,
          12.510289252578438,
          12.279161879472005,
          32.71175046916167,
          117.13715749406464,
          165.13053811130197,
          56.08907955335334,
          7.753745398112175,
          134.43648298693395,
          3.3060069082616397,
          4.243563953718732,
          16.442143761668234,
          52.33013998938465,
          9.118595159318504,
          1.5177471702485532,
          86.82819893445695,
          26.36390694357336,
          1.162738268371955,
          3.4203895175343315,
          0.2773415097117353,
          0.5021236310807952,
          0.15312458218171773,
          4.974098097490186,
          0.9732146459891192,
          3.7385919216237418,
          42.71723587326203,
          0.2357305320706208,
          0.241494971756244,
          0.16583889893944992,
          10.05019430543853,
          19.617387328593303,
          17.619886264952516,
          26.760013080806115,
          2.4495538231008416,
          2.2421112466956346,
          111.51848794665425,
          14.974014115437331,
          11.927124632823428,
          7.445020961969393,
          0.386614576544783,
          0.4375245326533575,
          0.714080013514555,
          2.535801221550989,
          5.777371774770185,
          1.5328962673060815,
          3.271774712384432,
          4.2561920791556025,
          0.24667704403246857,
          12.644763108596251,
          0.2232558405218656,
          0.6697039819612798,
          0.2716584026966766,
          10.703364611615644,
          26.03769184849257,
          43.19384173653965,
          0.5743918279755333,
          1.1824359493317524,
          0.3447064416103106,
          0.909579154743933,
          5.870613170689007,
          3.700290930724513,
          101.57610363591236,
          0.741207337995033,
          10.936798952527536,
          12.60978099989632,
          57.73467861047733,
          1.0124731257139752,
          0.967698883671382,
          3.5217840745294517,
          10.296863271008496,
          7.272687675092126,
          0.9996127983711948,
          0.9420273957442892,
          3.8961386832490144,
          11.410074228710169,
          1.145439052894341,
          7.443331100363126,
          78.50848151084344,
          10.565441829766325,
          0.009178805338191244,
          9.197490091501706,
          16.47429058979047,
          0.418081267508317,
          2.3354469571638714,
          4.990868142109143,
          46.68049140909839,
          3.9268729723617,
          0.8383339900481478,
          23.395391641086643,
          1.1403213076518863,
          64.16281613192514,
          0.035467308610374365,
          167.32652616660764,
          0.04742064116398367,
          26.79613205748939,
          2.832940117818777,
          19.206783254619253,
          72.39987085288313,
          6.713160335923752,
          4.642317400928152,
          1.2701504665621597,
          0.22479309857821572,
          8.213321581418393,
          7.517340958923934,
          0.898303960815359,
          9.109569841470842,
          1.65217169233468,
          7.567971725262184,
          13.636495888910204,
          9.877113092436913,
          0.5794118565326268,
          0.8272878630490751,
          3.4142465412794816,
          0.21760412867682172,
          0.9123596751216422,
          2.4889948726268245,
          0.09819618485582302,
          29.619974283987936,
          16.625346801089552,
          21.18360387476081,
          0.978781989949186,
          0.7419385205729853,
          9.475740860886464,
          0.8346734032987061,
          19.687937563122517,
          5.221417977978593,
          1.6329978550472095,
          0.4129762319614386,
          0.057462420229136814,
          49.0848053409145,
          28.257195277959458,
          8.944789484740038,
          7.345981150317449,
          1.7134206574052462,
          33.51774850649906,
          46.73998821303138,
          0.003434030768570418,
          4.393400303784358,
          2.052962072742614,
          1.5289283566609753,
          22.179684377652833,
          9.925651677308547,
          3.322929138148421,
          8.573937669458696,
          2.008904656925537,
          25.96943121021971,
          0.8542720885431856,
          0.11781626245550372,
          7.074461553977387,
          16.93465817396815,
          2.3154201935081313,
          0.3324380902117759,
          58.14032833705676,
          0.3121643754820938,
          0.35622622680105753,
          96.24988616273804,
          140.52256752576423,
          3.1945647805715116,
          4.768382722367681,
          1.394860426044515,
          0.8775576912236583
         ],
         "y": [
          3.3738813400268555,
          5.9100799560546875,
          0.1455669105052948,
          1.0496448278427124,
          9.07724666595459,
          2.613344669342041,
          0.9342631697654724,
          1.5897996425628662,
          1.008391499519348,
          6.911776542663574,
          3.151677131652832,
          5.41469669342041,
          1.636820912361145,
          2.185445785522461,
          1.0076416730880735,
          0.06502566486597061,
          102.4160614013672,
          0.6807378530502319,
          4.614629745483398,
          7.530947685241699,
          0.5407707691192627,
          5.90449333190918,
          0.6561859846115112,
          5.4945173263549805,
          2.3324790000915527,
          2.726039409637451,
          4.7583723068237305,
          2.9317166805267334,
          0.14302828907966614,
          2.2542707920074463,
          0.9426642656326294,
          1.6576473712921145,
          1.5646796226501465,
          0.5436790585517883,
          3.3816864490509033,
          1.011300563812256,
          0.5803821682929993,
          4.782474040985107,
          6.5669403076171875,
          3.5802323818206787,
          2.133983612060547,
          9.038411140441896,
          8.006406784057617,
          15.84708309173584,
          11.511335372924805,
          94.94812774658205,
          1.0387111902236938,
          4.44603967666626,
          18.428028106689453,
          3.8517680168151855,
          36.7786865234375,
          77.86835479736328,
          4.134258270263672,
          8.919049263000488,
          2.860126256942749,
          59.366004943847656,
          35.667015075683594,
          8.68079662322998,
          12.217427253723145,
          0.695196270942688,
          0.6802753806114197,
          0.7751926779747009,
          3.8834850788116455,
          1.6391487121582031,
          1.3328429460525513,
          0.15541239082813263,
          20.301719665527344,
          2.178602457046509,
          21.45608139038086,
          14.24506378173828,
          3.925614595413208,
          3.1752843856811523,
          13.519577980041504,
          8.267276763916016,
          0.7632055282592773,
          0.4277400672435761,
          2.096280813217163,
          3.519463300704956,
          11.97514533996582,
          1.1716850996017456,
          9.047858238220217,
          18.633052825927734,
          1.6252996921539309,
          1.0765373706817627,
          6.2536492347717285,
          3.7757508754730225,
          1.5424444675445557,
          22.116161346435547,
          0.755003035068512,
          2.6378378868103027,
          19.683971405029297,
          7.642761707305908,
          26.81349754333496,
          7.399328231811523,
          46.02132415771485,
          45.49114990234375,
          7.470997333526611,
          5.798043251037598,
          3.334604263305664,
          9.614611625671388,
          3.2214653491973877,
          15.955950736999512,
          8.778392791748047,
          13.747846603393556,
          14.556093215942385,
          3.278370141983032,
          14.019386291503906,
          6.398976802825928,
          1.122370362281799,
          1.176357388496399,
          0.6490439176559448,
          4.834774971008301,
          0.17344585061073303,
          3.297194242477417,
          8.563737869262695,
          1.9648367166519165,
          2.914318323135376,
          0.3764943480491638,
          2.8825607299804688,
          38.7414436340332,
          11.10178279876709,
          25.448884963989254,
          4.378687381744385,
          12.564366340637209,
          23.613237380981445,
          13.06735897064209,
          13.478822708129885,
          16.148035049438477,
          1.0681713819503784,
          2.289579153060913,
          2.375709772109986,
          3.915260791778565,
          0.40113499760627747,
          3.6424436569213863,
          3.3444838523864746,
          2.1227190494537354,
          3.549095392227173,
          4.560901641845703,
          1.0045181512832642,
          5.097235202789307,
          2.2656443119049072,
          7.251401901245117,
          21.1141357421875,
          25.539230346679688,
          1.553784728050232,
          1.2236615419387815,
          2.0555853843688965,
          1.6945092678070068,
          8.660613059997559,
          6.212445259094238,
          12.943634033203123,
          0.5974258184432983,
          9.436080932617188,
          2.896193027496338,
          2.804679155349731,
          3.433501958847046,
          1.088843584060669,
          5.335296630859375,
          0.2559284567832947,
          5.577383995056152,
          1.7865290641784668,
          1.062273383140564,
          1.7364603281021118,
          0.16724956035614014,
          1.782723307609558,
          7.18411111831665,
          22.252487182617188,
          4.5348639488220215,
          0.0212633702903986,
          8.921857833862305,
          1.8416153192520144,
          0.7636146545410156,
          2.2771270275115967,
          3.871002197265625,
          33.47494125366211,
          5.5774126052856445,
          0.9893707036972046,
          17.281063079833984,
          2.7009189128875732,
          95.73198699951172,
          2.627840042114258,
          4.691707611083984,
          1.0845636129379272,
          34.562705993652344,
          6.186424732208252,
          21.08906364440918,
          20.034151077270508,
          7.186589241027832,
          3.1532435417175293,
          1.8561547994613647,
          1.920251488685608,
          7.482780933380127,
          18.68476676940918,
          0.8407363295555115,
          10.519145965576172,
          0.40096786618232727,
          13.242386817932127,
          14.611207962036133,
          7.528267860412598,
          1.2859770059585571,
          2.146332263946533,
          2.896094799041748,
          1.364038586616516,
          1.592530608177185,
          3.312658309936523,
          1.6168556213378906,
          94.2138214111328,
          15.054972648620604,
          17.779150009155273,
          2.2356386184692383,
          0.8785179853439331,
          12.488799095153809,
          5.396429538726807,
          8.650352478027344,
          5.656243801116943,
          5.087932586669922,
          1.4277188777923584,
          3.4080350399017334,
          46.01774597167969,
          25.30948257446289,
          11.257614135742188,
          7.778385639190674,
          2.737434148788452,
          5.876784324645996,
          39.429500579833984,
          0.09984692931175232,
          11.238859176635742,
          6.323361396789551,
          1.0364900827407837,
          24.138343811035156,
          16.52833366394043,
          5.013543605804443,
          4.943581581115723,
          3.6724774837493896,
          6.958990573883057,
          0.14281530678272247,
          2.8240597248077393,
          6.535211563110352,
          16.364303588867188,
          1.994264841079712,
          0.4747470021247864,
          14.011932373046877,
          2.2243618965148926,
          0.584082305431366,
          72.0901107788086,
          28.114885330200195,
          7.622163772583008,
          3.3464255332946777,
          3.4647622108459473,
          0.16466987133026123
         ]
        },
        {
         "line": {
          "color": "gray",
          "dash": "dot"
         },
         "mode": "lines",
         "showlegend": false,
         "type": "scatter",
         "x": [
          -1,
          200
         ],
         "y": [
          -1,
          200
         ]
        }
       ],
       "layout": {
        "autosize": false,
        "font": {
         "size": 20
        },
        "height": 600,
        "template": {
         "data": {
          "bar": [
           {
            "error_x": {
             "color": "rgb(36,36,36)"
            },
            "error_y": {
             "color": "rgb(36,36,36)"
            },
            "marker": {
             "line": {
              "color": "white",
              "width": 0.5
             },
             "pattern": {
              "fillmode": "overlay",
              "size": 10,
              "solidity": 0.2
             }
            },
            "type": "bar"
           }
          ],
          "barpolar": [
           {
            "marker": {
             "line": {
              "color": "white",
              "width": 0.5
             },
             "pattern": {
              "fillmode": "overlay",
              "size": 10,
              "solidity": 0.2
             }
            },
            "type": "barpolar"
           }
          ],
          "carpet": [
           {
            "aaxis": {
             "endlinecolor": "rgb(36,36,36)",
             "gridcolor": "white",
             "linecolor": "white",
             "minorgridcolor": "white",
             "startlinecolor": "rgb(36,36,36)"
            },
            "baxis": {
             "endlinecolor": "rgb(36,36,36)",
             "gridcolor": "white",
             "linecolor": "white",
             "minorgridcolor": "white",
             "startlinecolor": "rgb(36,36,36)"
            },
            "type": "carpet"
           }
          ],
          "choropleth": [
           {
            "colorbar": {
             "outlinewidth": 1,
             "tickcolor": "rgb(36,36,36)",
             "ticks": "outside"
            },
            "type": "choropleth"
           }
          ],
          "contour": [
           {
            "colorbar": {
             "outlinewidth": 1,
             "tickcolor": "rgb(36,36,36)",
             "ticks": "outside"
            },
            "colorscale": [
             [
              0,
              "#440154"
             ],
             [
              0.1111111111111111,
              "#482878"
             ],
             [
              0.2222222222222222,
              "#3e4989"
             ],
             [
              0.3333333333333333,
              "#31688e"
             ],
             [
              0.4444444444444444,
              "#26828e"
             ],
             [
              0.5555555555555556,
              "#1f9e89"
             ],
             [
              0.6666666666666666,
              "#35b779"
             ],
             [
              0.7777777777777778,
              "#6ece58"
             ],
             [
              0.8888888888888888,
              "#b5de2b"
             ],
             [
              1,
              "#fde725"
             ]
            ],
            "type": "contour"
           }
          ],
          "contourcarpet": [
           {
            "colorbar": {
             "outlinewidth": 1,
             "tickcolor": "rgb(36,36,36)",
             "ticks": "outside"
            },
            "type": "contourcarpet"
           }
          ],
          "heatmap": [
           {
            "colorbar": {
             "outlinewidth": 1,
             "tickcolor": "rgb(36,36,36)",
             "ticks": "outside"
            },
            "colorscale": [
             [
              0,
              "#440154"
             ],
             [
              0.1111111111111111,
              "#482878"
             ],
             [
              0.2222222222222222,
              "#3e4989"
             ],
             [
              0.3333333333333333,
              "#31688e"
             ],
             [
              0.4444444444444444,
              "#26828e"
             ],
             [
              0.5555555555555556,
              "#1f9e89"
             ],
             [
              0.6666666666666666,
              "#35b779"
             ],
             [
              0.7777777777777778,
              "#6ece58"
             ],
             [
              0.8888888888888888,
              "#b5de2b"
             ],
             [
              1,
              "#fde725"
             ]
            ],
            "type": "heatmap"
           }
          ],
          "heatmapgl": [
           {
            "colorbar": {
             "outlinewidth": 1,
             "tickcolor": "rgb(36,36,36)",
             "ticks": "outside"
            },
            "colorscale": [
             [
              0,
              "#440154"
             ],
             [
              0.1111111111111111,
              "#482878"
             ],
             [
              0.2222222222222222,
              "#3e4989"
             ],
             [
              0.3333333333333333,
              "#31688e"
             ],
             [
              0.4444444444444444,
              "#26828e"
             ],
             [
              0.5555555555555556,
              "#1f9e89"
             ],
             [
              0.6666666666666666,
              "#35b779"
             ],
             [
              0.7777777777777778,
              "#6ece58"
             ],
             [
              0.8888888888888888,
              "#b5de2b"
             ],
             [
              1,
              "#fde725"
             ]
            ],
            "type": "heatmapgl"
           }
          ],
          "histogram": [
           {
            "marker": {
             "line": {
              "color": "white",
              "width": 0.6
             }
            },
            "type": "histogram"
           }
          ],
          "histogram2d": [
           {
            "colorbar": {
             "outlinewidth": 1,
             "tickcolor": "rgb(36,36,36)",
             "ticks": "outside"
            },
            "colorscale": [
             [
              0,
              "#440154"
             ],
             [
              0.1111111111111111,
              "#482878"
             ],
             [
              0.2222222222222222,
              "#3e4989"
             ],
             [
              0.3333333333333333,
              "#31688e"
             ],
             [
              0.4444444444444444,
              "#26828e"
             ],
             [
              0.5555555555555556,
              "#1f9e89"
             ],
             [
              0.6666666666666666,
              "#35b779"
             ],
             [
              0.7777777777777778,
              "#6ece58"
             ],
             [
              0.8888888888888888,
              "#b5de2b"
             ],
             [
              1,
              "#fde725"
             ]
            ],
            "type": "histogram2d"
           }
          ],
          "histogram2dcontour": [
           {
            "colorbar": {
             "outlinewidth": 1,
             "tickcolor": "rgb(36,36,36)",
             "ticks": "outside"
            },
            "colorscale": [
             [
              0,
              "#440154"
             ],
             [
              0.1111111111111111,
              "#482878"
             ],
             [
              0.2222222222222222,
              "#3e4989"
             ],
             [
              0.3333333333333333,
              "#31688e"
             ],
             [
              0.4444444444444444,
              "#26828e"
             ],
             [
              0.5555555555555556,
              "#1f9e89"
             ],
             [
              0.6666666666666666,
              "#35b779"
             ],
             [
              0.7777777777777778,
              "#6ece58"
             ],
             [
              0.8888888888888888,
              "#b5de2b"
             ],
             [
              1,
              "#fde725"
             ]
            ],
            "type": "histogram2dcontour"
           }
          ],
          "mesh3d": [
           {
            "colorbar": {
             "outlinewidth": 1,
             "tickcolor": "rgb(36,36,36)",
             "ticks": "outside"
            },
            "type": "mesh3d"
           }
          ],
          "parcoords": [
           {
            "line": {
             "colorbar": {
              "outlinewidth": 1,
              "tickcolor": "rgb(36,36,36)",
              "ticks": "outside"
             }
            },
            "type": "parcoords"
           }
          ],
          "pie": [
           {
            "automargin": true,
            "type": "pie"
           }
          ],
          "scatter": [
           {
            "fillpattern": {
             "fillmode": "overlay",
             "size": 10,
             "solidity": 0.2
            },
            "type": "scatter"
           }
          ],
          "scatter3d": [
           {
            "line": {
             "colorbar": {
              "outlinewidth": 1,
              "tickcolor": "rgb(36,36,36)",
              "ticks": "outside"
             }
            },
            "marker": {
             "colorbar": {
              "outlinewidth": 1,
              "tickcolor": "rgb(36,36,36)",
              "ticks": "outside"
             }
            },
            "type": "scatter3d"
           }
          ],
          "scattercarpet": [
           {
            "marker": {
             "colorbar": {
              "outlinewidth": 1,
              "tickcolor": "rgb(36,36,36)",
              "ticks": "outside"
             }
            },
            "type": "scattercarpet"
           }
          ],
          "scattergeo": [
           {
            "marker": {
             "colorbar": {
              "outlinewidth": 1,
              "tickcolor": "rgb(36,36,36)",
              "ticks": "outside"
             }
            },
            "type": "scattergeo"
           }
          ],
          "scattergl": [
           {
            "marker": {
             "colorbar": {
              "outlinewidth": 1,
              "tickcolor": "rgb(36,36,36)",
              "ticks": "outside"
             }
            },
            "type": "scattergl"
           }
          ],
          "scattermapbox": [
           {
            "marker": {
             "colorbar": {
              "outlinewidth": 1,
              "tickcolor": "rgb(36,36,36)",
              "ticks": "outside"
             }
            },
            "type": "scattermapbox"
           }
          ],
          "scatterpolar": [
           {
            "marker": {
             "colorbar": {
              "outlinewidth": 1,
              "tickcolor": "rgb(36,36,36)",
              "ticks": "outside"
             }
            },
            "type": "scatterpolar"
           }
          ],
          "scatterpolargl": [
           {
            "marker": {
             "colorbar": {
              "outlinewidth": 1,
              "tickcolor": "rgb(36,36,36)",
              "ticks": "outside"
             }
            },
            "type": "scatterpolargl"
           }
          ],
          "scatterternary": [
           {
            "marker": {
             "colorbar": {
              "outlinewidth": 1,
              "tickcolor": "rgb(36,36,36)",
              "ticks": "outside"
             }
            },
            "type": "scatterternary"
           }
          ],
          "surface": [
           {
            "colorbar": {
             "outlinewidth": 1,
             "tickcolor": "rgb(36,36,36)",
             "ticks": "outside"
            },
            "colorscale": [
             [
              0,
              "#440154"
             ],
             [
              0.1111111111111111,
              "#482878"
             ],
             [
              0.2222222222222222,
              "#3e4989"
             ],
             [
              0.3333333333333333,
              "#31688e"
             ],
             [
              0.4444444444444444,
              "#26828e"
             ],
             [
              0.5555555555555556,
              "#1f9e89"
             ],
             [
              0.6666666666666666,
              "#35b779"
             ],
             [
              0.7777777777777778,
              "#6ece58"
             ],
             [
              0.8888888888888888,
              "#b5de2b"
             ],
             [
              1,
              "#fde725"
             ]
            ],
            "type": "surface"
           }
          ],
          "table": [
           {
            "cells": {
             "fill": {
              "color": "rgb(237,237,237)"
             },
             "line": {
              "color": "white"
             }
            },
            "header": {
             "fill": {
              "color": "rgb(217,217,217)"
             },
             "line": {
              "color": "white"
             }
            },
            "type": "table"
           }
          ]
         },
         "layout": {
          "annotationdefaults": {
           "arrowhead": 0,
           "arrowwidth": 1
          },
          "autotypenumbers": "strict",
          "coloraxis": {
           "colorbar": {
            "outlinewidth": 1,
            "tickcolor": "rgb(36,36,36)",
            "ticks": "outside"
           }
          },
          "colorscale": {
           "diverging": [
            [
             0,
             "rgb(103,0,31)"
            ],
            [
             0.1,
             "rgb(178,24,43)"
            ],
            [
             0.2,
             "rgb(214,96,77)"
            ],
            [
             0.3,
             "rgb(244,165,130)"
            ],
            [
             0.4,
             "rgb(253,219,199)"
            ],
            [
             0.5,
             "rgb(247,247,247)"
            ],
            [
             0.6,
             "rgb(209,229,240)"
            ],
            [
             0.7,
             "rgb(146,197,222)"
            ],
            [
             0.8,
             "rgb(67,147,195)"
            ],
            [
             0.9,
             "rgb(33,102,172)"
            ],
            [
             1,
             "rgb(5,48,97)"
            ]
           ],
           "sequential": [
            [
             0,
             "#440154"
            ],
            [
             0.1111111111111111,
             "#482878"
            ],
            [
             0.2222222222222222,
             "#3e4989"
            ],
            [
             0.3333333333333333,
             "#31688e"
            ],
            [
             0.4444444444444444,
             "#26828e"
            ],
            [
             0.5555555555555556,
             "#1f9e89"
            ],
            [
             0.6666666666666666,
             "#35b779"
            ],
            [
             0.7777777777777778,
             "#6ece58"
            ],
            [
             0.8888888888888888,
             "#b5de2b"
            ],
            [
             1,
             "#fde725"
            ]
           ],
           "sequentialminus": [
            [
             0,
             "#440154"
            ],
            [
             0.1111111111111111,
             "#482878"
            ],
            [
             0.2222222222222222,
             "#3e4989"
            ],
            [
             0.3333333333333333,
             "#31688e"
            ],
            [
             0.4444444444444444,
             "#26828e"
            ],
            [
             0.5555555555555556,
             "#1f9e89"
            ],
            [
             0.6666666666666666,
             "#35b779"
            ],
            [
             0.7777777777777778,
             "#6ece58"
            ],
            [
             0.8888888888888888,
             "#b5de2b"
            ],
            [
             1,
             "#fde725"
            ]
           ]
          },
          "colorway": [
           "#1F77B4",
           "#FF7F0E",
           "#2CA02C",
           "#D62728",
           "#9467BD",
           "#8C564B",
           "#E377C2",
           "#7F7F7F",
           "#BCBD22",
           "#17BECF"
          ],
          "font": {
           "color": "rgb(36,36,36)"
          },
          "geo": {
           "bgcolor": "white",
           "lakecolor": "white",
           "landcolor": "white",
           "showlakes": true,
           "showland": true,
           "subunitcolor": "white"
          },
          "hoverlabel": {
           "align": "left"
          },
          "hovermode": "closest",
          "mapbox": {
           "style": "light"
          },
          "paper_bgcolor": "white",
          "plot_bgcolor": "white",
          "polar": {
           "angularaxis": {
            "gridcolor": "rgb(232,232,232)",
            "linecolor": "rgb(36,36,36)",
            "showgrid": false,
            "showline": true,
            "ticks": "outside"
           },
           "bgcolor": "white",
           "radialaxis": {
            "gridcolor": "rgb(232,232,232)",
            "linecolor": "rgb(36,36,36)",
            "showgrid": false,
            "showline": true,
            "ticks": "outside"
           }
          },
          "scene": {
           "xaxis": {
            "backgroundcolor": "white",
            "gridcolor": "rgb(232,232,232)",
            "gridwidth": 2,
            "linecolor": "rgb(36,36,36)",
            "showbackground": true,
            "showgrid": false,
            "showline": true,
            "ticks": "outside",
            "zeroline": false,
            "zerolinecolor": "rgb(36,36,36)"
           },
           "yaxis": {
            "backgroundcolor": "white",
            "gridcolor": "rgb(232,232,232)",
            "gridwidth": 2,
            "linecolor": "rgb(36,36,36)",
            "showbackground": true,
            "showgrid": false,
            "showline": true,
            "ticks": "outside",
            "zeroline": false,
            "zerolinecolor": "rgb(36,36,36)"
           },
           "zaxis": {
            "backgroundcolor": "white",
            "gridcolor": "rgb(232,232,232)",
            "gridwidth": 2,
            "linecolor": "rgb(36,36,36)",
            "showbackground": true,
            "showgrid": false,
            "showline": true,
            "ticks": "outside",
            "zeroline": false,
            "zerolinecolor": "rgb(36,36,36)"
           }
          },
          "shapedefaults": {
           "fillcolor": "black",
           "line": {
            "width": 0
           },
           "opacity": 0.3
          },
          "ternary": {
           "aaxis": {
            "gridcolor": "rgb(232,232,232)",
            "linecolor": "rgb(36,36,36)",
            "showgrid": false,
            "showline": true,
            "ticks": "outside"
           },
           "baxis": {
            "gridcolor": "rgb(232,232,232)",
            "linecolor": "rgb(36,36,36)",
            "showgrid": false,
            "showline": true,
            "ticks": "outside"
           },
           "bgcolor": "white",
           "caxis": {
            "gridcolor": "rgb(232,232,232)",
            "linecolor": "rgb(36,36,36)",
            "showgrid": false,
            "showline": true,
            "ticks": "outside"
           }
          },
          "title": {
           "x": 0.05
          },
          "xaxis": {
           "automargin": true,
           "gridcolor": "rgb(232,232,232)",
           "linecolor": "rgb(36,36,36)",
           "showgrid": false,
           "showline": true,
           "ticks": "outside",
           "title": {
            "standoff": 15
           },
           "zeroline": false,
           "zerolinecolor": "rgb(36,36,36)"
          },
          "yaxis": {
           "automargin": true,
           "gridcolor": "rgb(232,232,232)",
           "linecolor": "rgb(36,36,36)",
           "showgrid": false,
           "showline": true,
           "ticks": "outside",
           "title": {
            "standoff": 15
           },
           "zeroline": false,
           "zerolinecolor": "rgb(36,36,36)"
          }
         }
        },
        "width": 600,
        "xaxis": {
         "range": [
          -1,
          170
         ],
         "showgrid": false,
         "title": {
          "text": "<i>d</i><sub>KP</sub> (pm/V)"
         }
        },
        "yaxis": {
         "range": [
          -1,
          170
         ],
         "showgrid": false,
         "title": {
          "text": "<i>d&#770;</i><sub>KP</sub> (pm/V)"
         }
        }
       }
      }
     },
     "metadata": {},
     "output_type": "display_data"
    }
   ],
   "source": [
    "# Data\n",
    "\n",
    "mae = mean_absolute_error(df_pred_matten[\"dKP_true\"], df_pred_matten[\"dKP_matten\"])\n",
    "mape = mean_absolute_percentage_error(\n",
    "    df_pred_matten[\"dKP_true\"], df_pred_matten[\"dKP_matten\"]\n",
    ")\n",
    "rmse = root_mean_squared_error(df_pred_matten[\"dKP_true\"], df_pred_matten[\"dKP_matten\"])\n",
    "spearmanrho = spearmanr(df_pred_matten[\"dKP_true\"], df_pred_matten[\"dKP_matten\"])\n",
    "print(f\"MAE = {mae}\")\n",
    "print(f\"MAPE = {mape}\")\n",
    "print(f\"RMSE = {rmse}\")\n",
    "print(f\"Rho_sp = {spearmanrho.statistic}\")\n",
    "\n",
    "# Scatter plot for previous outputs.\n",
    "scatter_dKP = go.Scatter(\n",
    "    x=df_pred_matten[\"dKP_true\"],\n",
    "    y=df_pred_matten[\"dKP_matten\"],\n",
    "    mode=\"markers\",\n",
    "    name=\"\",\n",
    "    showlegend=False,\n",
    "    text=[mpid for mpid in df_pred_matten.index.values],\n",
    ")\n",
    "\n",
    "ideal = go.Scatter(\n",
    "    x=[-1, 200],\n",
    "    y=[-1, 200],\n",
    "    mode=\"lines\",\n",
    "    line=dict(color=\"gray\", dash=\"dot\"),\n",
    "    showlegend=False,\n",
    ")\n",
    "\n",
    "# Layout\n",
    "layout = go.Layout(\n",
    "    # title=dict(text='Scatter Plot'),\n",
    "    xaxis=dict(title=\"<i>d</i><sub>KP</sub> (pm/V)\", range=[-1, 170]),\n",
    "    yaxis=dict(title=\"<i>d&#770;</i><sub>KP</sub> (pm/V)\", range=[-1, 170]),\n",
    "    # legend=dict(font=dict(size=12)),\n",
    ")\n",
    "\n",
    "# Create figure\n",
    "fig = go.Figure(data=[scatter_dKP, ideal], layout=layout)\n",
    "\n",
    "fig.update_layout(\n",
    "    autosize=False,\n",
    "    font_size=20,\n",
    "    width=600,\n",
    "    height=600,\n",
    "    # plot_bgcolor=\"white\",\n",
    "    template=\"simple_white\",\n",
    ")\n",
    "fig.update_layout(\n",
    "    xaxis=dict(\n",
    "        # tickmode = 'array',\n",
    "        # tickvals = [1, 2,3,4,5,6,7,8],\n",
    "        # ticktext = ['One', 'Three', 'Five', 'Seven', 'Nine', 'Eleven']\n",
    "        showgrid=False,\n",
    "    ),\n",
    "    yaxis=dict(\n",
    "        # tickmode = 'array',\n",
    "        # tickvals = [1, 2,3,4,5,6,7,8],\n",
    "        # ticktext = ['One', 'Three', 'Five', 'Seven', 'Nine', 'Eleven']\n",
    "        showgrid=False,\n",
    "    ),\n",
    ")\n",
    "\n",
    "# Show figure\n",
    "fig.show()"
   ]
  },
  {
   "cell_type": "markdown",
   "metadata": {},
   "source": [
    "## Errors on dKP masked"
   ]
  },
  {
   "cell_type": "code",
   "execution_count": 14,
   "metadata": {},
   "outputs": [
    {
     "name": "stdout",
     "output_type": "stream",
     "text": [
      "MAE = 10.837173458536\n",
      "MAPE = 3.4841396727662133\n",
      "RMSE = 26.033160260337404\n",
      "Rho_sp = 0.6249442711083377\n"
     ]
    },
    {
     "data": {
      "application/vnd.plotly.v1+json": {
       "config": {
        "plotlyServerURL": "https://plot.ly"
       },
       "data": [
        {
         "mode": "markers",
         "name": "",
         "showlegend": false,
         "text": [
          "mp-21892",
          "mp-8070",
          "mp-558491",
          "mp-632684",
          "mp-23329",
          "mp-555150",
          "mp-6564",
          "mp-18578",
          "mp-760755",
          "mp-28456",
          "mp-4779",
          "mp-6268",
          "mp-706621",
          "mp-559057",
          "mp-24468",
          "mp-1778",
          "mp-2176",
          "mp-22909",
          "mp-4187",
          "mp-10341",
          "mp-9844",
          "mp-5784",
          "mp-20694",
          "mp-9066",
          "mp-6126",
          "mp-632229",
          "mp-12177",
          "mp-21521",
          "mp-1287",
          "mp-756044",
          "mp-754712",
          "mp-4812",
          "mp-18168",
          "mp-23866",
          "mp-558085",
          "mp-230",
          "mp-505702",
          "mp-559065",
          "mp-559545",
          "mp-549720",
          "mp-561385",
          "mp-13666",
          "mp-14444",
          "mp-1550",
          "mp-2469",
          "mp-31451",
          "mp-1023924",
          "mp-1100395",
          "mp-961682",
          "mp-38011",
          "mp-30847",
          "mp-8884",
          "mp-1017534",
          "mp-6980",
          "mp-560588",
          "mp-4524",
          "mp-4514",
          "mp-11714",
          "mp-1180133",
          "mp-675161",
          "mp-983327",
          "mp-1225884",
          "mp-1219554",
          "mp-1196457",
          "mp-560894",
          "mp-1196282",
          "mp-1222122",
          "mp-1219328",
          "mp-1227014",
          "mp-1222205",
          "mp-1227124",
          "mp-1102285",
          "mp-1227389",
          "mp-1180688",
          "mp-1399519",
          "mp-1227110",
          "mp-1079676",
          "mp-24705",
          "mp-1516294",
          "mp-1228342",
          "mp-17862",
          "mp-504952",
          "mp-1222589",
          "mp-1223849",
          "mp-6524",
          "mp-1208039",
          "mp-625175",
          "mp-1219000",
          "mp-532424",
          "mp-1218099",
          "agm002306806",
          "agm003160552",
          "agm003202328",
          "agm002353946",
          "agm002278924",
          "agm002381637",
          "agm003225028",
          "agm003202410",
          "agm003230659",
          "agm003128264",
          "mp-781710",
          "mp-1227011",
          "mp-1216118",
          "agm002166075",
          "agm002135972",
          "mp-3267",
          "agm002224865",
          "agm002347507",
          "agm003157565",
          "mp-1216100",
          "mp-1195571",
          "mp-780232",
          "agm002018869",
          "agm002140778",
          "agm002041336",
          "agm003219193",
          "mp-1228160",
          "mp-1223489",
          "mp-1221169",
          "mp-4431",
          "mp-8393",
          "mp-1105300",
          "mp-36066",
          "mp-1103351",
          "mp-1103228",
          "mp-1029368",
          "mp-1217825",
          "mp-1029633",
          "agm002147818",
          "agm003248171",
          "mp-1223526",
          "agm002153139",
          "mp-239",
          "agm002137320",
          "mp-1079609",
          "mp-558219",
          "mp-555202",
          "mp-1216976",
          "mp-626172",
          "agm002156258",
          "mp-772748",
          "agm002237467",
          "mp-1223389",
          "agm002155430",
          "mp-9427",
          "mp-1225916",
          "agm003237859",
          "agm002156600",
          "mp-1221971",
          "mp-1220913",
          "agm002237807",
          "mp-1221578",
          "mp-1191266",
          "mp-1205304",
          "mp-1218334",
          "agm002215982",
          "mp-559752",
          "mp-1215642",
          "agm002813663",
          "mp-1247873",
          "mp-1194479",
          "mp-558521",
          "agm003213121",
          "agm002286033",
          "agm002297812",
          "mp-1147697",
          "mp-29157",
          "mp-558277",
          "agm003200486",
          "agm002157245",
          "mp-1370",
          "mp-555915",
          "mp-776226",
          "agm002138671",
          "agm002790067",
          "agm002163280",
          "mp-532444",
          "agm002177957",
          "agm006045098",
          "agm002205114",
          "agm2000005406",
          "agm002184995",
          "agm003235252",
          "agm002178912",
          "agm002115629",
          "agm003206267",
          "agm004739450",
          "agm003705731",
          "agm005112928",
          "agm005722808",
          "agm2000126920",
          "agm2000137141",
          "agm005848675",
          "mp-2802611",
          "agm002158085",
          "agm005545163",
          "agm005056300",
          "agm004786326",
          "agm003048447",
          "agm002102212",
          "agm001234439",
          "agm002056302",
          "agm002137665",
          "agm003555711",
          "mp-554918",
          "mp-570756",
          "agm001375463",
          "agm005208831",
          "mp-4452",
          "agm005882616",
          "agm2000001907",
          "agm005721583",
          "agm001281942",
          "agm003267560",
          "agm004773887",
          "agm004852816",
          "agm006020719",
          "agm004957157",
          "agm003112540",
          "agm002293392",
          "agm005785567",
          "agm004948831",
          "agm004787350",
          "agm005954902",
          "agm005199361",
          "agm2000035672",
          "agm002032016",
          "agm005180377",
          "agm002176403",
          "agm002182720",
          "agm002161194",
          "agm2000136656",
          "agm005882580",
          "agm002074653",
          "agm003561427",
          "mp-1208179",
          "agm002078874",
          "agm004949939",
          "agm002017294",
          "mp-556157",
          "mp-2720358",
          "agm002041315",
          "agm003469328",
          "agm005072178",
          "agm001037983",
          "mp-1219050",
          "agm005664742",
          "agm004773455",
          "agm005071058",
          "mp-4122"
         ],
         "type": "scatter",
         "x": [
          1.6702877031054744,
          0.6153567936409394,
          0.916306049190346,
          0.6332971350134445,
          8.216653290326382,
          1.6714733711428025,
          0.1403531239500043,
          5.491953186704058,
          0.0989148861399233,
          8.534205167195006,
          0.2100263698944896,
          6.412929743824089,
          0.17402164883623036,
          1.6293975755324084,
          0.442564857428989,
          0.31993983241561774,
          105.24117753411169,
          2.5879642137648387,
          7.455776004764993,
          1.157818482339108,
          0.9483772869076768,
          0.2392722823262867,
          1.089629325792245,
          0.3187782410759168,
          2.733238270650939,
          2.9096809494071505,
          20.65661380512347,
          7.525570950107779,
          0.14195876287417517,
          0.2817178150189904,
          1.1696456448991597,
          0.7380633214529762,
          2.40853762353919,
          0.9147487969477314,
          0.4043916301028684,
          5.679922422479741,
          1.5660413794640675,
          6.497969001348536,
          5.767520489335899,
          22.184202830713517,
          0.7001223238354805,
          50.26224377818762,
          13.325047557309988,
          8.249912498315384,
          16.7224180311217,
          67.16185442385373,
          2.5747069716896993,
          0.03305460975883652,
          19.413017544051225,
          6.982839424963341,
          37.84125851846766,
          39.55664828037646,
          86.43318649770944,
          61.68514671047256,
          28.66905184837226,
          89.50434406167203,
          12.0838638247286,
          6.449937968827414,
          5.011475693953564,
          0.47930518568311,
          0.1610129159421652,
          0.15713573856920957,
          2.4095157994896765,
          0.10779869903410652,
          0.498530944623206,
          0.020592390517412237,
          3.629591992871674,
          2.7085081891465723,
          36.70940657343026,
          11.69283834160852,
          16.28151897450099,
          7.285592611778784,
          38.202112721920614,
          0.948429369582447,
          0.5353933903184616,
          0.009159898472070336,
          1.4181497304502502,
          1.1892828338121868,
          0.05868079498594491,
          1.3815042676431624,
          33.20634743822916,
          14.64182602964108,
          0.1733496066232448,
          0.09266296905357542,
          1.298295670739857,
          0.9608928044838884,
          0.2779184074445728,
          69.68960287965022,
          0.08417919187705811,
          0.8720676557004222,
          12.510289252578438,
          12.279161879472005,
          32.71175046916167,
          117.13715749406464,
          165.13053811130197,
          56.08907955335334,
          7.753745398112175,
          134.43648298693395,
          3.3060069082616397,
          4.243563953718732,
          16.442143761668234,
          52.33013998938465,
          9.118595159318504,
          1.5177471702485532,
          86.82819893445695,
          26.36390694357336,
          1.162738268371955,
          3.4203895175343315,
          0.2773415097117353,
          0.5021236310807952,
          0.15312458218171773,
          4.974098097490186,
          0.9732146459891192,
          3.7385919216237418,
          42.71723587326203,
          0.2357305320706208,
          0.241494971756244,
          0.16583889893944992,
          10.05019430543853,
          19.617387328593303,
          17.619886264952516,
          26.760013080806115,
          2.4495538231008416,
          2.2421112466956346,
          111.51848794665425,
          14.974014115437331,
          11.927124632823428,
          7.445020961969393,
          0.386614576544783,
          0.4375245326533575,
          0.714080013514555,
          2.535801221550989,
          5.777371774770185,
          1.5328962673060815,
          3.271774712384432,
          4.2561920791556025,
          0.24667704403246857,
          12.644763108596251,
          0.2232558405218656,
          0.6697039819612798,
          0.2716584026966766,
          10.703364611615644,
          26.03769184849257,
          43.19384173653965,
          0.5743918279755333,
          1.1824359493317524,
          0.3447064416103106,
          0.909579154743933,
          5.870613170689007,
          3.700290930724513,
          101.57610363591236,
          0.741207337995033,
          10.936798952527536,
          12.60978099989632,
          57.73467861047733,
          1.0124731257139752,
          0.967698883671382,
          3.5217840745294517,
          10.296863271008496,
          7.272687675092126,
          0.9996127983711948,
          0.9420273957442892,
          3.8961386832490144,
          11.410074228710169,
          1.145439052894341,
          7.443331100363126,
          78.50848151084344,
          10.565441829766325,
          0.009178805338191244,
          9.197490091501706,
          16.47429058979047,
          0.418081267508317,
          2.3354469571638714,
          4.990868142109143,
          46.68049140909839,
          3.9268729723617,
          0.8383339900481478,
          23.395391641086643,
          1.1403213076518863,
          64.16281613192514,
          0.035467308610374365,
          167.32652616660764,
          0.04742064116398367,
          26.79613205748939,
          2.832940117818777,
          19.206783254619253,
          72.39987085288313,
          6.713160335923752,
          4.642317400928152,
          1.2701504665621597,
          0.22479309857821572,
          8.213321581418393,
          7.517340958923934,
          0.898303960815359,
          9.109569841470842,
          1.65217169233468,
          7.567971725262184,
          13.636495888910204,
          9.877113092436913,
          0.5794118565326268,
          0.8272878630490751,
          3.4142465412794816,
          0.21760412867682172,
          0.9123596751216422,
          2.4889948726268245,
          0.09819618485582302,
          29.619974283987936,
          16.625346801089552,
          21.18360387476081,
          0.978781989949186,
          0.7419385205729853,
          9.475740860886464,
          0.8346734032987061,
          19.687937563122517,
          5.221417977978593,
          1.6329978550472095,
          0.4129762319614386,
          0.057462420229136814,
          49.0848053409145,
          28.257195277959458,
          8.944789484740038,
          7.345981150317449,
          1.7134206574052462,
          33.51774850649906,
          46.73998821303138,
          0.003434030768570418,
          4.393400303784358,
          2.052962072742614,
          1.5289283566609753,
          22.179684377652833,
          9.925651677308547,
          3.322929138148421,
          8.573937669458696,
          2.008904656925537,
          25.96943121021971,
          0.8542720885431856,
          0.11781626245550372,
          7.074461553977387,
          16.93465817396815,
          2.3154201935081313,
          0.3324380902117759,
          58.14032833705676,
          0.3121643754820938,
          0.35622622680105753,
          96.24988616273804,
          140.52256752576423,
          3.1945647805715116,
          4.768382722367681,
          1.394860426044515,
          0.8775576912236583
         ],
         "y": [
          1.4782307289351593e-6,
          5.9100799560546875,
          0.1455669105052948,
          1.0496448278427124,
          2.9711852073669434,
          2.613344669342041,
          0.9342629313468932,
          1.5897996425628662,
          0.8846168518066406,
          6.52272367477417,
          3.151677131652832,
          5.41469669342041,
          1.2342128457021315e-6,
          2.185445785522461,
          1.0076416730880735,
          5.440929840005992e-7,
          3.812027138394569e-9,
          0.25215086340904236,
          2.228915946034249e-6,
          7.530947685241699,
          0.4941087663173675,
          2.5122853912762366e-6,
          2.1580124212050578e-6,
          5.4945173263549805,
          2.3324790000915527,
          2.7224442958831787,
          4.7583723068237305,
          1.6432857137260726e-6,
          6.687247378067696e-7,
          2.2542707920074463,
          0.9426642656326294,
          5.0807386742235394e-8,
          1.5646796226501465,
          0.5436790585517883,
          3.3816864490509033,
          1.011300563812256,
          0.5803821682929993,
          4.782474040985107,
          6.5669403076171875,
          3.1291637420654297,
          0.16908374428749084,
          3.5943801403045654,
          5.5073347091674805,
          9.001051921586622e-7,
          2.8609227342712984e-7,
          9.645581222628152e-9,
          1.0387111902236938,
          1.6720241857726135e-9,
          1.7314105704713252e-9,
          2.468689441680908,
          2.1228377278248445e-8,
          77.86835479736328,
          8.998137701610177e-8,
          8.919049263000488,
          2.860126256942749,
          22.984453201293945,
          30.311603546142575,
          8.68079662322998,
          12.217427253723145,
          0.695196270942688,
          0.6802753806114197,
          0.7751926779747009,
          3.8834850788116455,
          1.6391487121582031,
          1.3328429460525513,
          0.15541239082813263,
          20.301719665527344,
          2.178602457046509,
          21.45608139038086,
          14.24506378173828,
          3.925614595413208,
          3.1752843856811523,
          13.519577980041504,
          8.267276763916016,
          0.7632055282592773,
          0.4277400672435761,
          2.096280813217163,
          3.519463300704956,
          11.97514533996582,
          1.1716850996017456,
          9.047858238220217,
          18.633052825927734,
          1.6252996921539309,
          1.0765373706817627,
          6.2536492347717285,
          3.7757508754730225,
          1.5424444675445557,
          22.116161346435547,
          0.755003035068512,
          2.6378378868103027,
          19.683971405029297,
          7.642761707305908,
          26.81349754333496,
          7.399328231811523,
          46.02132415771485,
          45.49114990234375,
          7.470997333526611,
          5.798043251037598,
          3.334604263305664,
          9.614611625671388,
          3.2214653491973877,
          15.955950736999512,
          8.778392791748047,
          13.747846603393556,
          14.556093215942385,
          3.278370141983032,
          14.019386291503906,
          6.398976802825928,
          1.122370362281799,
          1.176357388496399,
          0.6490439176559448,
          4.834774971008301,
          0.17344585061073303,
          3.297194242477417,
          8.563737869262695,
          1.9648367166519165,
          2.914318323135376,
          0.3764943480491638,
          2.8825607299804688,
          38.7414436340332,
          11.101781845092772,
          25.448884963989254,
          4.378687381744385,
          12.564366340637209,
          23.613237380981445,
          13.06735897064209,
          13.478822708129885,
          16.148035049438477,
          1.0681713819503784,
          2.289579153060913,
          2.375709772109986,
          3.915260791778565,
          0.40113499760627747,
          3.6424436569213863,
          3.3444838523864746,
          2.1227190494537354,
          3.549095392227173,
          4.560901641845703,
          1.0045181512832642,
          5.097235202789307,
          2.2656443119049072,
          7.251401901245117,
          21.1141357421875,
          25.539230346679688,
          1.553784728050232,
          1.2236615419387815,
          2.0555853843688965,
          1.6945092678070068,
          8.660613059997559,
          6.212445259094238,
          12.943634033203123,
          0.5974258184432983,
          9.436080932617188,
          2.896193027496338,
          2.804679155349731,
          3.433501958847046,
          1.088843584060669,
          5.335296630859375,
          0.2559284567832947,
          5.577383995056152,
          1.7865290641784668,
          1.062273383140564,
          1.7364603281021118,
          0.16724956035614014,
          1.782723307609558,
          7.18411111831665,
          22.252487182617188,
          4.5348639488220215,
          0.0212633702903986,
          8.921857833862305,
          1.8416153192520144,
          0.7636146545410156,
          2.2771270275115967,
          3.871002197265625,
          33.47494125366211,
          5.5774126052856445,
          0.9893707036972046,
          17.281063079833984,
          2.7009189128875732,
          95.73199462890624,
          2.627840042114258,
          4.691707611083984,
          1.0845636129379272,
          34.562705993652344,
          6.18642520904541,
          21.08906364440918,
          20.034151077270508,
          7.186589241027832,
          3.1532435417175293,
          1.8561547994613647,
          1.920251488685608,
          7.482780933380127,
          18.68476676940918,
          0.8407363295555115,
          10.519145965576172,
          0.40096786618232727,
          13.242386817932127,
          14.611207962036133,
          7.528267860412598,
          1.2859770059585571,
          2.146332263946533,
          2.896094799041748,
          1.364038586616516,
          1.592530608177185,
          3.312658309936523,
          1.6168556213378906,
          94.2138214111328,
          15.054972648620604,
          17.779150009155273,
          2.2356386184692383,
          0.8785179853439331,
          12.488799095153809,
          5.396429538726807,
          8.650351524353027,
          5.656243801116943,
          5.087932586669922,
          1.4277188777923584,
          3.4080352783203125,
          46.01774597167969,
          25.30948257446289,
          11.257614135742188,
          7.778385639190674,
          2.737434148788452,
          5.876784324645996,
          39.429500579833984,
          0.09984692931175232,
          11.238859176635742,
          6.323361396789551,
          1.0364900827407837,
          24.138343811035156,
          16.52833366394043,
          5.013543605804443,
          4.943581581115723,
          3.6724774837493896,
          6.958990573883057,
          0.14281529188156128,
          2.8240597248077393,
          6.535211563110352,
          16.364303588867188,
          1.994264841079712,
          0.4747470021247864,
          14.011932373046877,
          2.2243618965148926,
          0.584082305431366,
          72.0901107788086,
          28.114885330200195,
          7.622163772583008,
          3.3464255332946777,
          3.4647622108459473,
          0.16466987133026123
         ]
        },
        {
         "line": {
          "color": "gray",
          "dash": "dot"
         },
         "mode": "lines",
         "showlegend": false,
         "type": "scatter",
         "x": [
          -1,
          200
         ],
         "y": [
          -1,
          200
         ]
        }
       ],
       "layout": {
        "autosize": false,
        "font": {
         "size": 20
        },
        "height": 600,
        "template": {
         "data": {
          "bar": [
           {
            "error_x": {
             "color": "rgb(36,36,36)"
            },
            "error_y": {
             "color": "rgb(36,36,36)"
            },
            "marker": {
             "line": {
              "color": "white",
              "width": 0.5
             },
             "pattern": {
              "fillmode": "overlay",
              "size": 10,
              "solidity": 0.2
             }
            },
            "type": "bar"
           }
          ],
          "barpolar": [
           {
            "marker": {
             "line": {
              "color": "white",
              "width": 0.5
             },
             "pattern": {
              "fillmode": "overlay",
              "size": 10,
              "solidity": 0.2
             }
            },
            "type": "barpolar"
           }
          ],
          "carpet": [
           {
            "aaxis": {
             "endlinecolor": "rgb(36,36,36)",
             "gridcolor": "white",
             "linecolor": "white",
             "minorgridcolor": "white",
             "startlinecolor": "rgb(36,36,36)"
            },
            "baxis": {
             "endlinecolor": "rgb(36,36,36)",
             "gridcolor": "white",
             "linecolor": "white",
             "minorgridcolor": "white",
             "startlinecolor": "rgb(36,36,36)"
            },
            "type": "carpet"
           }
          ],
          "choropleth": [
           {
            "colorbar": {
             "outlinewidth": 1,
             "tickcolor": "rgb(36,36,36)",
             "ticks": "outside"
            },
            "type": "choropleth"
           }
          ],
          "contour": [
           {
            "colorbar": {
             "outlinewidth": 1,
             "tickcolor": "rgb(36,36,36)",
             "ticks": "outside"
            },
            "colorscale": [
             [
              0,
              "#440154"
             ],
             [
              0.1111111111111111,
              "#482878"
             ],
             [
              0.2222222222222222,
              "#3e4989"
             ],
             [
              0.3333333333333333,
              "#31688e"
             ],
             [
              0.4444444444444444,
              "#26828e"
             ],
             [
              0.5555555555555556,
              "#1f9e89"
             ],
             [
              0.6666666666666666,
              "#35b779"
             ],
             [
              0.7777777777777778,
              "#6ece58"
             ],
             [
              0.8888888888888888,
              "#b5de2b"
             ],
             [
              1,
              "#fde725"
             ]
            ],
            "type": "contour"
           }
          ],
          "contourcarpet": [
           {
            "colorbar": {
             "outlinewidth": 1,
             "tickcolor": "rgb(36,36,36)",
             "ticks": "outside"
            },
            "type": "contourcarpet"
           }
          ],
          "heatmap": [
           {
            "colorbar": {
             "outlinewidth": 1,
             "tickcolor": "rgb(36,36,36)",
             "ticks": "outside"
            },
            "colorscale": [
             [
              0,
              "#440154"
             ],
             [
              0.1111111111111111,
              "#482878"
             ],
             [
              0.2222222222222222,
              "#3e4989"
             ],
             [
              0.3333333333333333,
              "#31688e"
             ],
             [
              0.4444444444444444,
              "#26828e"
             ],
             [
              0.5555555555555556,
              "#1f9e89"
             ],
             [
              0.6666666666666666,
              "#35b779"
             ],
             [
              0.7777777777777778,
              "#6ece58"
             ],
             [
              0.8888888888888888,
              "#b5de2b"
             ],
             [
              1,
              "#fde725"
             ]
            ],
            "type": "heatmap"
           }
          ],
          "heatmapgl": [
           {
            "colorbar": {
             "outlinewidth": 1,
             "tickcolor": "rgb(36,36,36)",
             "ticks": "outside"
            },
            "colorscale": [
             [
              0,
              "#440154"
             ],
             [
              0.1111111111111111,
              "#482878"
             ],
             [
              0.2222222222222222,
              "#3e4989"
             ],
             [
              0.3333333333333333,
              "#31688e"
             ],
             [
              0.4444444444444444,
              "#26828e"
             ],
             [
              0.5555555555555556,
              "#1f9e89"
             ],
             [
              0.6666666666666666,
              "#35b779"
             ],
             [
              0.7777777777777778,
              "#6ece58"
             ],
             [
              0.8888888888888888,
              "#b5de2b"
             ],
             [
              1,
              "#fde725"
             ]
            ],
            "type": "heatmapgl"
           }
          ],
          "histogram": [
           {
            "marker": {
             "line": {
              "color": "white",
              "width": 0.6
             }
            },
            "type": "histogram"
           }
          ],
          "histogram2d": [
           {
            "colorbar": {
             "outlinewidth": 1,
             "tickcolor": "rgb(36,36,36)",
             "ticks": "outside"
            },
            "colorscale": [
             [
              0,
              "#440154"
             ],
             [
              0.1111111111111111,
              "#482878"
             ],
             [
              0.2222222222222222,
              "#3e4989"
             ],
             [
              0.3333333333333333,
              "#31688e"
             ],
             [
              0.4444444444444444,
              "#26828e"
             ],
             [
              0.5555555555555556,
              "#1f9e89"
             ],
             [
              0.6666666666666666,
              "#35b779"
             ],
             [
              0.7777777777777778,
              "#6ece58"
             ],
             [
              0.8888888888888888,
              "#b5de2b"
             ],
             [
              1,
              "#fde725"
             ]
            ],
            "type": "histogram2d"
           }
          ],
          "histogram2dcontour": [
           {
            "colorbar": {
             "outlinewidth": 1,
             "tickcolor": "rgb(36,36,36)",
             "ticks": "outside"
            },
            "colorscale": [
             [
              0,
              "#440154"
             ],
             [
              0.1111111111111111,
              "#482878"
             ],
             [
              0.2222222222222222,
              "#3e4989"
             ],
             [
              0.3333333333333333,
              "#31688e"
             ],
             [
              0.4444444444444444,
              "#26828e"
             ],
             [
              0.5555555555555556,
              "#1f9e89"
             ],
             [
              0.6666666666666666,
              "#35b779"
             ],
             [
              0.7777777777777778,
              "#6ece58"
             ],
             [
              0.8888888888888888,
              "#b5de2b"
             ],
             [
              1,
              "#fde725"
             ]
            ],
            "type": "histogram2dcontour"
           }
          ],
          "mesh3d": [
           {
            "colorbar": {
             "outlinewidth": 1,
             "tickcolor": "rgb(36,36,36)",
             "ticks": "outside"
            },
            "type": "mesh3d"
           }
          ],
          "parcoords": [
           {
            "line": {
             "colorbar": {
              "outlinewidth": 1,
              "tickcolor": "rgb(36,36,36)",
              "ticks": "outside"
             }
            },
            "type": "parcoords"
           }
          ],
          "pie": [
           {
            "automargin": true,
            "type": "pie"
           }
          ],
          "scatter": [
           {
            "fillpattern": {
             "fillmode": "overlay",
             "size": 10,
             "solidity": 0.2
            },
            "type": "scatter"
           }
          ],
          "scatter3d": [
           {
            "line": {
             "colorbar": {
              "outlinewidth": 1,
              "tickcolor": "rgb(36,36,36)",
              "ticks": "outside"
             }
            },
            "marker": {
             "colorbar": {
              "outlinewidth": 1,
              "tickcolor": "rgb(36,36,36)",
              "ticks": "outside"
             }
            },
            "type": "scatter3d"
           }
          ],
          "scattercarpet": [
           {
            "marker": {
             "colorbar": {
              "outlinewidth": 1,
              "tickcolor": "rgb(36,36,36)",
              "ticks": "outside"
             }
            },
            "type": "scattercarpet"
           }
          ],
          "scattergeo": [
           {
            "marker": {
             "colorbar": {
              "outlinewidth": 1,
              "tickcolor": "rgb(36,36,36)",
              "ticks": "outside"
             }
            },
            "type": "scattergeo"
           }
          ],
          "scattergl": [
           {
            "marker": {
             "colorbar": {
              "outlinewidth": 1,
              "tickcolor": "rgb(36,36,36)",
              "ticks": "outside"
             }
            },
            "type": "scattergl"
           }
          ],
          "scattermapbox": [
           {
            "marker": {
             "colorbar": {
              "outlinewidth": 1,
              "tickcolor": "rgb(36,36,36)",
              "ticks": "outside"
             }
            },
            "type": "scattermapbox"
           }
          ],
          "scatterpolar": [
           {
            "marker": {
             "colorbar": {
              "outlinewidth": 1,
              "tickcolor": "rgb(36,36,36)",
              "ticks": "outside"
             }
            },
            "type": "scatterpolar"
           }
          ],
          "scatterpolargl": [
           {
            "marker": {
             "colorbar": {
              "outlinewidth": 1,
              "tickcolor": "rgb(36,36,36)",
              "ticks": "outside"
             }
            },
            "type": "scatterpolargl"
           }
          ],
          "scatterternary": [
           {
            "marker": {
             "colorbar": {
              "outlinewidth": 1,
              "tickcolor": "rgb(36,36,36)",
              "ticks": "outside"
             }
            },
            "type": "scatterternary"
           }
          ],
          "surface": [
           {
            "colorbar": {
             "outlinewidth": 1,
             "tickcolor": "rgb(36,36,36)",
             "ticks": "outside"
            },
            "colorscale": [
             [
              0,
              "#440154"
             ],
             [
              0.1111111111111111,
              "#482878"
             ],
             [
              0.2222222222222222,
              "#3e4989"
             ],
             [
              0.3333333333333333,
              "#31688e"
             ],
             [
              0.4444444444444444,
              "#26828e"
             ],
             [
              0.5555555555555556,
              "#1f9e89"
             ],
             [
              0.6666666666666666,
              "#35b779"
             ],
             [
              0.7777777777777778,
              "#6ece58"
             ],
             [
              0.8888888888888888,
              "#b5de2b"
             ],
             [
              1,
              "#fde725"
             ]
            ],
            "type": "surface"
           }
          ],
          "table": [
           {
            "cells": {
             "fill": {
              "color": "rgb(237,237,237)"
             },
             "line": {
              "color": "white"
             }
            },
            "header": {
             "fill": {
              "color": "rgb(217,217,217)"
             },
             "line": {
              "color": "white"
             }
            },
            "type": "table"
           }
          ]
         },
         "layout": {
          "annotationdefaults": {
           "arrowhead": 0,
           "arrowwidth": 1
          },
          "autotypenumbers": "strict",
          "coloraxis": {
           "colorbar": {
            "outlinewidth": 1,
            "tickcolor": "rgb(36,36,36)",
            "ticks": "outside"
           }
          },
          "colorscale": {
           "diverging": [
            [
             0,
             "rgb(103,0,31)"
            ],
            [
             0.1,
             "rgb(178,24,43)"
            ],
            [
             0.2,
             "rgb(214,96,77)"
            ],
            [
             0.3,
             "rgb(244,165,130)"
            ],
            [
             0.4,
             "rgb(253,219,199)"
            ],
            [
             0.5,
             "rgb(247,247,247)"
            ],
            [
             0.6,
             "rgb(209,229,240)"
            ],
            [
             0.7,
             "rgb(146,197,222)"
            ],
            [
             0.8,
             "rgb(67,147,195)"
            ],
            [
             0.9,
             "rgb(33,102,172)"
            ],
            [
             1,
             "rgb(5,48,97)"
            ]
           ],
           "sequential": [
            [
             0,
             "#440154"
            ],
            [
             0.1111111111111111,
             "#482878"
            ],
            [
             0.2222222222222222,
             "#3e4989"
            ],
            [
             0.3333333333333333,
             "#31688e"
            ],
            [
             0.4444444444444444,
             "#26828e"
            ],
            [
             0.5555555555555556,
             "#1f9e89"
            ],
            [
             0.6666666666666666,
             "#35b779"
            ],
            [
             0.7777777777777778,
             "#6ece58"
            ],
            [
             0.8888888888888888,
             "#b5de2b"
            ],
            [
             1,
             "#fde725"
            ]
           ],
           "sequentialminus": [
            [
             0,
             "#440154"
            ],
            [
             0.1111111111111111,
             "#482878"
            ],
            [
             0.2222222222222222,
             "#3e4989"
            ],
            [
             0.3333333333333333,
             "#31688e"
            ],
            [
             0.4444444444444444,
             "#26828e"
            ],
            [
             0.5555555555555556,
             "#1f9e89"
            ],
            [
             0.6666666666666666,
             "#35b779"
            ],
            [
             0.7777777777777778,
             "#6ece58"
            ],
            [
             0.8888888888888888,
             "#b5de2b"
            ],
            [
             1,
             "#fde725"
            ]
           ]
          },
          "colorway": [
           "#1F77B4",
           "#FF7F0E",
           "#2CA02C",
           "#D62728",
           "#9467BD",
           "#8C564B",
           "#E377C2",
           "#7F7F7F",
           "#BCBD22",
           "#17BECF"
          ],
          "font": {
           "color": "rgb(36,36,36)"
          },
          "geo": {
           "bgcolor": "white",
           "lakecolor": "white",
           "landcolor": "white",
           "showlakes": true,
           "showland": true,
           "subunitcolor": "white"
          },
          "hoverlabel": {
           "align": "left"
          },
          "hovermode": "closest",
          "mapbox": {
           "style": "light"
          },
          "paper_bgcolor": "white",
          "plot_bgcolor": "white",
          "polar": {
           "angularaxis": {
            "gridcolor": "rgb(232,232,232)",
            "linecolor": "rgb(36,36,36)",
            "showgrid": false,
            "showline": true,
            "ticks": "outside"
           },
           "bgcolor": "white",
           "radialaxis": {
            "gridcolor": "rgb(232,232,232)",
            "linecolor": "rgb(36,36,36)",
            "showgrid": false,
            "showline": true,
            "ticks": "outside"
           }
          },
          "scene": {
           "xaxis": {
            "backgroundcolor": "white",
            "gridcolor": "rgb(232,232,232)",
            "gridwidth": 2,
            "linecolor": "rgb(36,36,36)",
            "showbackground": true,
            "showgrid": false,
            "showline": true,
            "ticks": "outside",
            "zeroline": false,
            "zerolinecolor": "rgb(36,36,36)"
           },
           "yaxis": {
            "backgroundcolor": "white",
            "gridcolor": "rgb(232,232,232)",
            "gridwidth": 2,
            "linecolor": "rgb(36,36,36)",
            "showbackground": true,
            "showgrid": false,
            "showline": true,
            "ticks": "outside",
            "zeroline": false,
            "zerolinecolor": "rgb(36,36,36)"
           },
           "zaxis": {
            "backgroundcolor": "white",
            "gridcolor": "rgb(232,232,232)",
            "gridwidth": 2,
            "linecolor": "rgb(36,36,36)",
            "showbackground": true,
            "showgrid": false,
            "showline": true,
            "ticks": "outside",
            "zeroline": false,
            "zerolinecolor": "rgb(36,36,36)"
           }
          },
          "shapedefaults": {
           "fillcolor": "black",
           "line": {
            "width": 0
           },
           "opacity": 0.3
          },
          "ternary": {
           "aaxis": {
            "gridcolor": "rgb(232,232,232)",
            "linecolor": "rgb(36,36,36)",
            "showgrid": false,
            "showline": true,
            "ticks": "outside"
           },
           "baxis": {
            "gridcolor": "rgb(232,232,232)",
            "linecolor": "rgb(36,36,36)",
            "showgrid": false,
            "showline": true,
            "ticks": "outside"
           },
           "bgcolor": "white",
           "caxis": {
            "gridcolor": "rgb(232,232,232)",
            "linecolor": "rgb(36,36,36)",
            "showgrid": false,
            "showline": true,
            "ticks": "outside"
           }
          },
          "title": {
           "x": 0.05
          },
          "xaxis": {
           "automargin": true,
           "gridcolor": "rgb(232,232,232)",
           "linecolor": "rgb(36,36,36)",
           "showgrid": false,
           "showline": true,
           "ticks": "outside",
           "title": {
            "standoff": 15
           },
           "zeroline": false,
           "zerolinecolor": "rgb(36,36,36)"
          },
          "yaxis": {
           "automargin": true,
           "gridcolor": "rgb(232,232,232)",
           "linecolor": "rgb(36,36,36)",
           "showgrid": false,
           "showline": true,
           "ticks": "outside",
           "title": {
            "standoff": 15
           },
           "zeroline": false,
           "zerolinecolor": "rgb(36,36,36)"
          }
         }
        },
        "width": 600,
        "xaxis": {
         "range": [
          -1,
          170
         ],
         "showgrid": false,
         "title": {
          "text": "<i>d</i><sub>KP</sub> (pm/V)"
         }
        },
        "yaxis": {
         "range": [
          -1,
          170
         ],
         "showgrid": false,
         "title": {
          "text": "<i>d&#770;</i><sub>KP</sub> (pm/V)"
         }
        }
       }
      }
     },
     "metadata": {},
     "output_type": "display_data"
    }
   ],
   "source": [
    "# Data\n",
    "\n",
    "mae = mean_absolute_error(\n",
    "    df_pred_matten[\"dKP_true\"], df_pred_matten[\"dKP_matten_masked\"]\n",
    ")\n",
    "mape = mean_absolute_percentage_error(\n",
    "    df_pred_matten[\"dKP_true\"], df_pred_matten[\"dKP_matten_masked\"]\n",
    ")\n",
    "rmse = root_mean_squared_error(\n",
    "    df_pred_matten[\"dKP_true\"], df_pred_matten[\"dKP_matten_masked\"]\n",
    ")\n",
    "spearmanrho = spearmanr(df_pred_matten[\"dKP_true\"], df_pred_matten[\"dKP_matten_masked\"])\n",
    "print(f\"MAE = {mae}\")\n",
    "print(f\"MAPE = {mape}\")\n",
    "print(f\"RMSE = {rmse}\")\n",
    "print(f\"Rho_sp = {spearmanrho.statistic}\")\n",
    "\n",
    "# Scatter plot for previous outputs.\n",
    "scatter_dKP = go.Scatter(\n",
    "    x=df_pred_matten[\"dKP_true\"],\n",
    "    y=df_pred_matten[\"dKP_matten_masked\"],\n",
    "    mode=\"markers\",\n",
    "    name=\"\",\n",
    "    showlegend=False,\n",
    "    text=[mpid for mpid in df_pred_matten.index.values],\n",
    ")\n",
    "\n",
    "ideal = go.Scatter(\n",
    "    x=[-1, 200],\n",
    "    y=[-1, 200],\n",
    "    mode=\"lines\",\n",
    "    line=dict(color=\"gray\", dash=\"dot\"),\n",
    "    showlegend=False,\n",
    ")\n",
    "\n",
    "# Layout\n",
    "layout = go.Layout(\n",
    "    # title=dict(text='Scatter Plot'),\n",
    "    xaxis=dict(title=\"<i>d</i><sub>KP</sub> (pm/V)\", range=[-1, 170]),\n",
    "    yaxis=dict(title=\"<i>d&#770;</i><sub>KP</sub> (pm/V)\", range=[-1, 170]),\n",
    "    # legend=dict(font=dict(size=12)),\n",
    ")\n",
    "\n",
    "# Create figure\n",
    "fig = go.Figure(data=[scatter_dKP, ideal], layout=layout)\n",
    "\n",
    "fig.update_layout(\n",
    "    autosize=False,\n",
    "    font_size=20,\n",
    "    width=600,\n",
    "    height=600,\n",
    "    # plot_bgcolor=\"white\",\n",
    "    template=\"simple_white\",\n",
    ")\n",
    "fig.update_layout(\n",
    "    xaxis=dict(\n",
    "        # tickmode = 'array',\n",
    "        # tickvals = [1, 2,3,4,5,6,7,8],\n",
    "        # ticktext = ['One', 'Three', 'Five', 'Seven', 'Nine', 'Eleven']\n",
    "        showgrid=False,\n",
    "    ),\n",
    "    yaxis=dict(\n",
    "        # tickmode = 'array',\n",
    "        # tickvals = [1, 2,3,4,5,6,7,8],\n",
    "        # ticktext = ['One', 'Three', 'Five', 'Seven', 'Nine', 'Eleven']\n",
    "        showgrid=False,\n",
    "    ),\n",
    ")\n",
    "\n",
    "# Show figure\n",
    "fig.show()"
   ]
  },
  {
   "cell_type": "markdown",
   "metadata": {},
   "source": [
    "# Errors on dRMS"
   ]
  },
  {
   "cell_type": "code",
   "execution_count": 15,
   "metadata": {},
   "outputs": [
    {
     "name": "stdout",
     "output_type": "stream",
     "text": [
      "MAE = 5.146248766877147\n",
      "MAPE = 4.1771819009943005\n",
      "RMSE = 12.586826274553493\n",
      "Rho_sp = 0.7449400470407526\n"
     ]
    },
    {
     "data": {
      "application/vnd.plotly.v1+json": {
       "config": {
        "plotlyServerURL": "https://plot.ly"
       },
       "data": [
        {
         "mode": "markers",
         "name": "",
         "showlegend": false,
         "text": [
          "mp-21892",
          "mp-8070",
          "mp-558491",
          "mp-632684",
          "mp-23329",
          "mp-555150",
          "mp-6564",
          "mp-18578",
          "mp-760755",
          "mp-28456",
          "mp-4779",
          "mp-6268",
          "mp-706621",
          "mp-559057",
          "mp-24468",
          "mp-1778",
          "mp-2176",
          "mp-22909",
          "mp-4187",
          "mp-10341",
          "mp-9844",
          "mp-5784",
          "mp-20694",
          "mp-9066",
          "mp-6126",
          "mp-632229",
          "mp-12177",
          "mp-21521",
          "mp-1287",
          "mp-756044",
          "mp-754712",
          "mp-4812",
          "mp-18168",
          "mp-23866",
          "mp-558085",
          "mp-230",
          "mp-505702",
          "mp-559065",
          "mp-559545",
          "mp-549720",
          "mp-561385",
          "mp-13666",
          "mp-14444",
          "mp-1550",
          "mp-2469",
          "mp-31451",
          "mp-1023924",
          "mp-1100395",
          "mp-961682",
          "mp-38011",
          "mp-30847",
          "mp-8884",
          "mp-1017534",
          "mp-6980",
          "mp-560588",
          "mp-4524",
          "mp-4514",
          "mp-11714",
          "mp-1180133",
          "mp-675161",
          "mp-983327",
          "mp-1225884",
          "mp-1219554",
          "mp-1196457",
          "mp-560894",
          "mp-1196282",
          "mp-1222122",
          "mp-1219328",
          "mp-1227014",
          "mp-1222205",
          "mp-1227124",
          "mp-1102285",
          "mp-1227389",
          "mp-1180688",
          "mp-1399519",
          "mp-1227110",
          "mp-1079676",
          "mp-24705",
          "mp-1516294",
          "mp-1228342",
          "mp-17862",
          "mp-504952",
          "mp-1222589",
          "mp-1223849",
          "mp-6524",
          "mp-1208039",
          "mp-625175",
          "mp-1219000",
          "mp-532424",
          "mp-1218099",
          "agm002306806",
          "agm003160552",
          "agm003202328",
          "agm002353946",
          "agm002278924",
          "agm002381637",
          "agm003225028",
          "agm003202410",
          "agm003230659",
          "agm003128264",
          "mp-781710",
          "mp-1227011",
          "mp-1216118",
          "agm002166075",
          "agm002135972",
          "mp-3267",
          "agm002224865",
          "agm002347507",
          "agm003157565",
          "mp-1216100",
          "mp-1195571",
          "mp-780232",
          "agm002018869",
          "agm002140778",
          "agm002041336",
          "agm003219193",
          "mp-1228160",
          "mp-1223489",
          "mp-1221169",
          "mp-4431",
          "mp-8393",
          "mp-1105300",
          "mp-36066",
          "mp-1103351",
          "mp-1103228",
          "mp-1029368",
          "mp-1217825",
          "mp-1029633",
          "agm002147818",
          "agm003248171",
          "mp-1223526",
          "agm002153139",
          "mp-239",
          "agm002137320",
          "mp-1079609",
          "mp-558219",
          "mp-555202",
          "mp-1216976",
          "mp-626172",
          "agm002156258",
          "mp-772748",
          "agm002237467",
          "mp-1223389",
          "agm002155430",
          "mp-9427",
          "mp-1225916",
          "agm003237859",
          "agm002156600",
          "mp-1221971",
          "mp-1220913",
          "agm002237807",
          "mp-1221578",
          "mp-1191266",
          "mp-1205304",
          "mp-1218334",
          "agm002215982",
          "mp-559752",
          "mp-1215642",
          "agm002813663",
          "mp-1247873",
          "mp-1194479",
          "mp-558521",
          "agm003213121",
          "agm002286033",
          "agm002297812",
          "mp-1147697",
          "mp-29157",
          "mp-558277",
          "agm003200486",
          "agm002157245",
          "mp-1370",
          "mp-555915",
          "mp-776226",
          "agm002138671",
          "agm002790067",
          "agm002163280",
          "mp-532444",
          "agm002177957",
          "agm006045098",
          "agm002205114",
          "agm2000005406",
          "agm002184995",
          "agm003235252",
          "agm002178912",
          "agm002115629",
          "agm003206267",
          "agm004739450",
          "agm003705731",
          "agm005112928",
          "agm005722808",
          "agm2000126920",
          "agm2000137141",
          "agm005848675",
          "mp-2802611",
          "agm002158085",
          "agm005545163",
          "agm005056300",
          "agm004786326",
          "agm003048447",
          "agm002102212",
          "agm001234439",
          "agm002056302",
          "agm002137665",
          "agm003555711",
          "mp-554918",
          "mp-570756",
          "agm001375463",
          "agm005208831",
          "mp-4452",
          "agm005882616",
          "agm2000001907",
          "agm005721583",
          "agm001281942",
          "agm003267560",
          "agm004773887",
          "agm004852816",
          "agm006020719",
          "agm004957157",
          "agm003112540",
          "agm002293392",
          "agm005785567",
          "agm004948831",
          "agm004787350",
          "agm005954902",
          "agm005199361",
          "agm2000035672",
          "agm002032016",
          "agm005180377",
          "agm002176403",
          "agm002182720",
          "agm002161194",
          "agm2000136656",
          "agm005882580",
          "agm002074653",
          "agm003561427",
          "mp-1208179",
          "agm002078874",
          "agm004949939",
          "agm002017294",
          "mp-556157",
          "mp-2720358",
          "agm002041315",
          "agm003469328",
          "agm005072178",
          "agm001037983",
          "mp-1219050",
          "agm005664742",
          "agm004773455",
          "agm005071058",
          "mp-4122"
         ],
         "type": "scatter",
         "x": [
          0.8320981598795955,
          0.3055595522801001,
          0.5110910956192859,
          0.2613157690884907,
          3.472408650900549,
          0.8299209320546047,
          0.07828523227210067,
          2.9477802528616093,
          0.055162869088356895,
          3.659295035811933,
          0.11469603493802816,
          2.655257365059746,
          0.09564832158407748,
          0.7265346544929211,
          0.2468498748218272,
          0.1784539124521056,
          58.700724258778145,
          1.443497471838485,
          3.823432950319394,
          0.6458002947703209,
          0.5289795773523278,
          0.1247587224238171,
          0.6077662004197643,
          0.15534040782680797,
          1.5245274693645103,
          1.2604252314872877,
          10.04356241601192,
          4.031055950513715,
          0.07918081487536796,
          0.15691560074068578,
          0.6523971708645311,
          0.41167205207378327,
          1.3408202698370553,
          0.5102225018175349,
          0.21727446683212048,
          2.3406597710981147,
          0.8734961480639114,
          3.62439394472391,
          2.4685469302169927,
          10.557327670318816,
          0.3800799145129119,
          27.888063454478687,
          7.387796727517875,
          4.6015813398295675,
          9.327319142421455,
          37.46109260289279,
          1.4361029355009154,
          0.01843698045193445,
          10.828063849008249,
          3.163923628225558,
          21.106845570762644,
          21.75405528582277,
          48.21012807239886,
          30.749835038356316,
          15.092237289494683,
          49.92313791836902,
          5.1609788945394905,
          3.574376389300032,
          2.7952675913853757,
          0.26728147966887433,
          0.0734471136644047,
          0.08764612746717762,
          1.3439637018195625,
          0.060127241596142925,
          0.2780672755710062,
          0.011485886664465443,
          2.0244896887092554,
          1.3321984811845715,
          20.472239623214367,
          4.994965384144942,
          9.07458275372441,
          4.0637094052582015,
          17.475834434449677,
          0.5290086276803644,
          0.22251779339487823,
          0.004068362758161991,
          0.7696344759416462,
          0.6514847668197475,
          0.032730583659987544,
          0.5709224401120938,
          18.521615685845696,
          8.136290831125732,
          0.09104021838845389,
          0.04319627101843022,
          0.7241547268868561,
          0.5359603995305948,
          0.14900057694537197,
          34.28248328640123,
          0.04666108984050775,
          0.43377025628405064,
          6.977905958674158,
          6.848989269263506,
          18.24574267700324,
          48.067720469522214,
          77.80127770554039,
          26.402810428827188,
          3.171752829967179,
          74.98508761533064,
          1.6468244665009362,
          1.7380268579474485,
          8.778994610638915,
          25.054040539076535,
          4.827024042916005,
          0.8465589251547817,
          43.19589965726968,
          12.19053599095385,
          0.6485444203121766,
          1.907802122998098,
          0.15469370324961404,
          0.27890092843170067,
          0.08540881132745014,
          2.763203954116439,
          0.4677587874162859,
          1.8100288924006236,
          21.46284472676041,
          0.12242314239888948,
          0.1273463883036055,
          0.07568899820595372,
          5.601290472489605,
          10.928136503456011,
          9.825867706743235,
          12.015376465281534,
          1.3646047807325432,
          1.2266354615744963,
          62.202040722991825,
          8.268201861260701,
          6.5546304092516,
          3.60677734456495,
          0.18891304995189917,
          0.2405127125489548,
          0.39789055023287656,
          1.240891853793173,
          3.2224640149176285,
          0.8515415513600622,
          1.7963445064966397,
          2.3538382412307697,
          0.13465435118633695,
          5.857707040218371,
          0.10500491864349884,
          0.2780652151597847,
          0.14789601884065873,
          5.970051546638819,
          12.129364453262644,
          24.092373848934617,
          0.3203702259169111,
          0.49212575759514066,
          0.19217550548183543,
          0.5073390131619341,
          3.2716689742920355,
          1.815124892647766,
          53.757923915908336,
          0.4134257007161172,
          5.2201441760276746,
          5.506634027945211,
          28.08717002677484,
          0.557291148226017,
          0.5393648457705732,
          1.964125518702844,
          5.743315931693144,
          3.1789144041772737,
          0.5570699989272992,
          0.5254377772794955,
          1.9139765745798456,
          6.364235337965615,
          0.47237280580385305,
          4.11457904154806,
          41.34962284455252,
          4.513322601455388,
          0.005058641880224271,
          5.1301148693351415,
          9.188920267989444,
          0.23319458957793895,
          1.2760658281788286,
          2.7837732481367383,
          26.03713412063996,
          2.1903050968347224,
          0.45410641540225455,
          12.999884647834325,
          0.6340533278041693,
          34.70853317720789,
          0.017164666920731254,
          93.33027721493907,
          0.02644996992968097,
          14.94616837215311,
          1.576195799699459,
          7.857758084454895,
          40.26099689281005,
          3.635346042879686,
          2.5386288445709133,
          0.6940971008804648,
          0.096938096463029,
          4.581171901494939,
          3.971014398711312,
          0.4961124344295853,
          5.080492247421618,
          0.9215373412983878,
          4.221212949644662,
          7.605703782860104,
          5.462535633207014,
          0.25928842144223757,
          0.4533013926479508,
          1.9043757345471777,
          0.1212071401455686,
          0.44871477736994314,
          1.3881591265457354,
          0.05130142411935495,
          16.521232313586655,
          9.272411215287146,
          11.815649719963146,
          0.515833644006098,
          0.3185523963097873,
          5.279793960110898,
          0.4057963811096978,
          10.981406909308872,
          2.912367802667379,
          0.8845202168351431,
          0.20563647590838707,
          0.027586687711588623,
          27.378120266366295,
          15.75916169644592,
          4.326344554804241,
          3.1928810869729394,
          0.955700381792471,
          18.595815078712224,
          25.63689693075336,
          0.0018751988456714968,
          2.3528588118554525,
          1.0310390919182146,
          0.6286148524301469,
          12.371236879949628,
          5.536263997136642,
          1.8534413205960736,
          4.541418628385257,
          0.9257149253190268,
          14.48505667027818,
          0.4764902055119079,
          0.052656692968634,
          3.4794681762321047,
          9.124150852602597,
          1.1392720963765517,
          0.18542510758501457,
          28.108656464778452,
          0.17399257866696397,
          0.19869349624500424,
          51.882584514101104,
          58.22572578984274,
          1.6187564976273925,
          2.659676810013848,
          0.6665357017920366,
          0.4894782941495787
         ],
         "y": [
          1.8672786951065063,
          2.7068498134613037,
          0.08119334280490875,
          0.4380471110343933,
          3.862126350402832,
          1.4016071557998655,
          0.5211071372032166,
          0.8744294047355652,
          0.4830970168113709,
          3.050284624099731,
          1.695551872253418,
          2.6495392322540283,
          0.839733898639679,
          1.2007393836975098,
          0.5609752535820007,
          0.03626958280801773,
          57.12495040893555,
          0.37969741225242615,
          2.554231643676758,
          4.200562000274658,
          0.30162757635116577,
          2.7790143489837646,
          0.36600303649902344,
          3.0565221309661865,
          1.300994634628296,
          1.1169726848602295,
          2.28624963760376,
          1.6202073097229004,
          0.07977736741304398,
          0.9576313495635986,
          0.5257930159568787,
          0.9245914816856384,
          0.8727079629898071,
          0.30324968695640564,
          1.7535903453826904,
          0.5565933585166931,
          0.32372167706489563,
          2.667536497116089,
          2.856328248977661,
          1.9153392314910889,
          1.1461862325668335,
          4.959444999694824,
          4.135202884674072,
          8.839079856872559,
          6.420715808868408,
          52.95953369140625,
          0.5793654322624207,
          2.47988224029541,
          10.278661727905272,
          2.1475188732147217,
          20.514169692993164,
          43.41838455200195,
          2.305979013442993,
          4.842870712280273,
          1.3436543941497805,
          33.11277389526367,
          15.3847017288208,
          4.835126876831055,
          6.8145551681518555,
          0.381920874118805,
          0.3787440061569214,
          0.432381808757782,
          2.166104555130005,
          0.9142735004425048,
          0.7434242367744446,
          0.08668489009141922,
          11.32375717163086,
          0.981619954109192,
          11.268216133117676,
          6.46396017074585,
          1.803039073944092,
          1.7710890769958496,
          6.800573348999023,
          4.611266613006592,
          0.32904547452926636,
          0.21156643331050873,
          1.073949933052063,
          1.8923677206039429,
          6.679416656494141,
          0.6192776560783386,
          5.046654224395752,
          10.063522338867188,
          0.9058390855789183,
          0.5475497841835022,
          3.488118886947632,
          2.106013059616089,
          0.8403030037879944,
          11.372631072998049,
          0.3568758964538574,
          1.192819595336914,
          10.97919464111328,
          4.2629289627075195,
          14.955855369567873,
          3.319247007369995,
          20.62268447875977,
          18.986589431762695,
          3.1905508041381836,
          3.2339940071105957,
          1.7110981941223145,
          4.570085048675537,
          1.4721620082855225,
          6.59142541885376,
          4.707629203796387,
          7.668182849884033,
          8.101218223571777,
          1.5355474948883057,
          7.819640159606934,
          3.569178819656372,
          0.6260282397270203,
          0.5306007862091064,
          0.3620193898677826,
          2.6936233043670654,
          0.08456819504499435,
          1.6313639879226685,
          4.531233787536621,
          0.974029541015625,
          1.5418044328689575,
          0.1929895281791687,
          1.5552257299423218,
          21.224185943603516,
          5.5308003425598145,
          10.658964157104492,
          2.368255376815796,
          6.997866630554199,
          13.1708345413208,
          7.228281021118164,
          7.383046627044678,
          8.999215126037598,
          0.5957927703857422,
          1.2387031316757202,
          1.3231889009475708,
          2.0664148330688477,
          0.22374242544174192,
          2.0311033725738525,
          1.82926082611084,
          1.0107818841934204,
          1.6715078353881836,
          2.474251508712769,
          0.5530239343643188,
          2.573347330093384,
          1.2408162355422974,
          4.044638633728027,
          9.133831024169922,
          14.245101928710938,
          0.7216559648513794,
          0.6403396725654602,
          1.134408712387085,
          0.9451521039009094,
          4.56508731842041,
          3.1217586994171143,
          7.151993274688721,
          0.333228200674057,
          3.947249174118042,
          1.2366840839385986,
          1.4323195219039917,
          1.5162516832351685,
          0.6060805320739746,
          2.861187696456909,
          0.1427500694990158,
          2.4747159481048584,
          0.94353449344635,
          0.5925077795982361,
          0.7547454237937927,
          0.09328734129667282,
          0.8860812187194824,
          3.9805870056152344,
          11.05722427368164,
          1.9414820671081543,
          0.01086740754544735,
          4.976374626159668,
          1.027203917503357,
          0.4259239137172699,
          1.2641993761062622,
          2.159141778945923,
          18.671430587768555,
          3.1109323501586914,
          0.5344765782356262,
          9.63710117340088,
          1.4867008924484253,
          48.82813262939453,
          1.2310307025909424,
          2.6169095039367676,
          0.6049407124519348,
          19.278156280517575,
          3.228417158126831,
          8.624860763549805,
          10.468852043151855,
          3.912916898727417,
          1.7118366956710815,
          0.9897536635398864,
          0.9593860507011414,
          4.173696041107178,
          10.284637451171877,
          0.4688826501369476,
          5.8672990798950195,
          0.22364918887615204,
          7.3862504959106445,
          8.149742126464844,
          4.122434616088867,
          0.5869647860527039,
          0.9562159180641174,
          1.6153645515441897,
          0.7398483157157898,
          0.8066232204437256,
          1.812542200088501,
          0.8698610663414001,
          52.549957275390625,
          8.034844398498535,
          9.916736602783203,
          1.211026906967163,
          0.4274541437625885,
          6.660321235656738,
          2.865617036819458,
          4.8249359130859375,
          3.15490198135376,
          2.7194178104400635,
          0.7216891050338745,
          1.8970191478729248,
          25.663856506347656,
          14.116923332214355,
          5.877762794494629,
          3.554107189178467,
          1.5268677473068235,
          2.6668078899383545,
          17.906417846679688,
          0.055645089596509933,
          6.133027076721191,
          2.8700857162475586,
          0.42334455251693726,
          13.463725090026855,
          9.219063758850098,
          2.79642105102539,
          2.226733922958374,
          1.573783040046692,
          3.8815395832061768,
          0.07965856045484543,
          1.5014084577560425,
          3.053779125213623,
          8.305835723876953,
          1.1120387315750122,
          0.2648012340068817,
          7.723494529724121,
          1.2132705450057983,
          0.3257855474948883,
          32.262168884277344,
          11.950632095336914,
          3.751780033111572,
          1.8665469884872437,
          1.702043056488037,
          0.0918484628200531
         ]
        },
        {
         "line": {
          "color": "gray",
          "dash": "dot"
         },
         "mode": "lines",
         "showlegend": false,
         "type": "scatter",
         "x": [
          -1,
          200
         ],
         "y": [
          -1,
          200
         ]
        }
       ],
       "layout": {
        "autosize": false,
        "font": {
         "size": 20
        },
        "height": 600,
        "template": {
         "data": {
          "bar": [
           {
            "error_x": {
             "color": "rgb(36,36,36)"
            },
            "error_y": {
             "color": "rgb(36,36,36)"
            },
            "marker": {
             "line": {
              "color": "white",
              "width": 0.5
             },
             "pattern": {
              "fillmode": "overlay",
              "size": 10,
              "solidity": 0.2
             }
            },
            "type": "bar"
           }
          ],
          "barpolar": [
           {
            "marker": {
             "line": {
              "color": "white",
              "width": 0.5
             },
             "pattern": {
              "fillmode": "overlay",
              "size": 10,
              "solidity": 0.2
             }
            },
            "type": "barpolar"
           }
          ],
          "carpet": [
           {
            "aaxis": {
             "endlinecolor": "rgb(36,36,36)",
             "gridcolor": "white",
             "linecolor": "white",
             "minorgridcolor": "white",
             "startlinecolor": "rgb(36,36,36)"
            },
            "baxis": {
             "endlinecolor": "rgb(36,36,36)",
             "gridcolor": "white",
             "linecolor": "white",
             "minorgridcolor": "white",
             "startlinecolor": "rgb(36,36,36)"
            },
            "type": "carpet"
           }
          ],
          "choropleth": [
           {
            "colorbar": {
             "outlinewidth": 1,
             "tickcolor": "rgb(36,36,36)",
             "ticks": "outside"
            },
            "type": "choropleth"
           }
          ],
          "contour": [
           {
            "colorbar": {
             "outlinewidth": 1,
             "tickcolor": "rgb(36,36,36)",
             "ticks": "outside"
            },
            "colorscale": [
             [
              0,
              "#440154"
             ],
             [
              0.1111111111111111,
              "#482878"
             ],
             [
              0.2222222222222222,
              "#3e4989"
             ],
             [
              0.3333333333333333,
              "#31688e"
             ],
             [
              0.4444444444444444,
              "#26828e"
             ],
             [
              0.5555555555555556,
              "#1f9e89"
             ],
             [
              0.6666666666666666,
              "#35b779"
             ],
             [
              0.7777777777777778,
              "#6ece58"
             ],
             [
              0.8888888888888888,
              "#b5de2b"
             ],
             [
              1,
              "#fde725"
             ]
            ],
            "type": "contour"
           }
          ],
          "contourcarpet": [
           {
            "colorbar": {
             "outlinewidth": 1,
             "tickcolor": "rgb(36,36,36)",
             "ticks": "outside"
            },
            "type": "contourcarpet"
           }
          ],
          "heatmap": [
           {
            "colorbar": {
             "outlinewidth": 1,
             "tickcolor": "rgb(36,36,36)",
             "ticks": "outside"
            },
            "colorscale": [
             [
              0,
              "#440154"
             ],
             [
              0.1111111111111111,
              "#482878"
             ],
             [
              0.2222222222222222,
              "#3e4989"
             ],
             [
              0.3333333333333333,
              "#31688e"
             ],
             [
              0.4444444444444444,
              "#26828e"
             ],
             [
              0.5555555555555556,
              "#1f9e89"
             ],
             [
              0.6666666666666666,
              "#35b779"
             ],
             [
              0.7777777777777778,
              "#6ece58"
             ],
             [
              0.8888888888888888,
              "#b5de2b"
             ],
             [
              1,
              "#fde725"
             ]
            ],
            "type": "heatmap"
           }
          ],
          "heatmapgl": [
           {
            "colorbar": {
             "outlinewidth": 1,
             "tickcolor": "rgb(36,36,36)",
             "ticks": "outside"
            },
            "colorscale": [
             [
              0,
              "#440154"
             ],
             [
              0.1111111111111111,
              "#482878"
             ],
             [
              0.2222222222222222,
              "#3e4989"
             ],
             [
              0.3333333333333333,
              "#31688e"
             ],
             [
              0.4444444444444444,
              "#26828e"
             ],
             [
              0.5555555555555556,
              "#1f9e89"
             ],
             [
              0.6666666666666666,
              "#35b779"
             ],
             [
              0.7777777777777778,
              "#6ece58"
             ],
             [
              0.8888888888888888,
              "#b5de2b"
             ],
             [
              1,
              "#fde725"
             ]
            ],
            "type": "heatmapgl"
           }
          ],
          "histogram": [
           {
            "marker": {
             "line": {
              "color": "white",
              "width": 0.6
             }
            },
            "type": "histogram"
           }
          ],
          "histogram2d": [
           {
            "colorbar": {
             "outlinewidth": 1,
             "tickcolor": "rgb(36,36,36)",
             "ticks": "outside"
            },
            "colorscale": [
             [
              0,
              "#440154"
             ],
             [
              0.1111111111111111,
              "#482878"
             ],
             [
              0.2222222222222222,
              "#3e4989"
             ],
             [
              0.3333333333333333,
              "#31688e"
             ],
             [
              0.4444444444444444,
              "#26828e"
             ],
             [
              0.5555555555555556,
              "#1f9e89"
             ],
             [
              0.6666666666666666,
              "#35b779"
             ],
             [
              0.7777777777777778,
              "#6ece58"
             ],
             [
              0.8888888888888888,
              "#b5de2b"
             ],
             [
              1,
              "#fde725"
             ]
            ],
            "type": "histogram2d"
           }
          ],
          "histogram2dcontour": [
           {
            "colorbar": {
             "outlinewidth": 1,
             "tickcolor": "rgb(36,36,36)",
             "ticks": "outside"
            },
            "colorscale": [
             [
              0,
              "#440154"
             ],
             [
              0.1111111111111111,
              "#482878"
             ],
             [
              0.2222222222222222,
              "#3e4989"
             ],
             [
              0.3333333333333333,
              "#31688e"
             ],
             [
              0.4444444444444444,
              "#26828e"
             ],
             [
              0.5555555555555556,
              "#1f9e89"
             ],
             [
              0.6666666666666666,
              "#35b779"
             ],
             [
              0.7777777777777778,
              "#6ece58"
             ],
             [
              0.8888888888888888,
              "#b5de2b"
             ],
             [
              1,
              "#fde725"
             ]
            ],
            "type": "histogram2dcontour"
           }
          ],
          "mesh3d": [
           {
            "colorbar": {
             "outlinewidth": 1,
             "tickcolor": "rgb(36,36,36)",
             "ticks": "outside"
            },
            "type": "mesh3d"
           }
          ],
          "parcoords": [
           {
            "line": {
             "colorbar": {
              "outlinewidth": 1,
              "tickcolor": "rgb(36,36,36)",
              "ticks": "outside"
             }
            },
            "type": "parcoords"
           }
          ],
          "pie": [
           {
            "automargin": true,
            "type": "pie"
           }
          ],
          "scatter": [
           {
            "fillpattern": {
             "fillmode": "overlay",
             "size": 10,
             "solidity": 0.2
            },
            "type": "scatter"
           }
          ],
          "scatter3d": [
           {
            "line": {
             "colorbar": {
              "outlinewidth": 1,
              "tickcolor": "rgb(36,36,36)",
              "ticks": "outside"
             }
            },
            "marker": {
             "colorbar": {
              "outlinewidth": 1,
              "tickcolor": "rgb(36,36,36)",
              "ticks": "outside"
             }
            },
            "type": "scatter3d"
           }
          ],
          "scattercarpet": [
           {
            "marker": {
             "colorbar": {
              "outlinewidth": 1,
              "tickcolor": "rgb(36,36,36)",
              "ticks": "outside"
             }
            },
            "type": "scattercarpet"
           }
          ],
          "scattergeo": [
           {
            "marker": {
             "colorbar": {
              "outlinewidth": 1,
              "tickcolor": "rgb(36,36,36)",
              "ticks": "outside"
             }
            },
            "type": "scattergeo"
           }
          ],
          "scattergl": [
           {
            "marker": {
             "colorbar": {
              "outlinewidth": 1,
              "tickcolor": "rgb(36,36,36)",
              "ticks": "outside"
             }
            },
            "type": "scattergl"
           }
          ],
          "scattermapbox": [
           {
            "marker": {
             "colorbar": {
              "outlinewidth": 1,
              "tickcolor": "rgb(36,36,36)",
              "ticks": "outside"
             }
            },
            "type": "scattermapbox"
           }
          ],
          "scatterpolar": [
           {
            "marker": {
             "colorbar": {
              "outlinewidth": 1,
              "tickcolor": "rgb(36,36,36)",
              "ticks": "outside"
             }
            },
            "type": "scatterpolar"
           }
          ],
          "scatterpolargl": [
           {
            "marker": {
             "colorbar": {
              "outlinewidth": 1,
              "tickcolor": "rgb(36,36,36)",
              "ticks": "outside"
             }
            },
            "type": "scatterpolargl"
           }
          ],
          "scatterternary": [
           {
            "marker": {
             "colorbar": {
              "outlinewidth": 1,
              "tickcolor": "rgb(36,36,36)",
              "ticks": "outside"
             }
            },
            "type": "scatterternary"
           }
          ],
          "surface": [
           {
            "colorbar": {
             "outlinewidth": 1,
             "tickcolor": "rgb(36,36,36)",
             "ticks": "outside"
            },
            "colorscale": [
             [
              0,
              "#440154"
             ],
             [
              0.1111111111111111,
              "#482878"
             ],
             [
              0.2222222222222222,
              "#3e4989"
             ],
             [
              0.3333333333333333,
              "#31688e"
             ],
             [
              0.4444444444444444,
              "#26828e"
             ],
             [
              0.5555555555555556,
              "#1f9e89"
             ],
             [
              0.6666666666666666,
              "#35b779"
             ],
             [
              0.7777777777777778,
              "#6ece58"
             ],
             [
              0.8888888888888888,
              "#b5de2b"
             ],
             [
              1,
              "#fde725"
             ]
            ],
            "type": "surface"
           }
          ],
          "table": [
           {
            "cells": {
             "fill": {
              "color": "rgb(237,237,237)"
             },
             "line": {
              "color": "white"
             }
            },
            "header": {
             "fill": {
              "color": "rgb(217,217,217)"
             },
             "line": {
              "color": "white"
             }
            },
            "type": "table"
           }
          ]
         },
         "layout": {
          "annotationdefaults": {
           "arrowhead": 0,
           "arrowwidth": 1
          },
          "autotypenumbers": "strict",
          "coloraxis": {
           "colorbar": {
            "outlinewidth": 1,
            "tickcolor": "rgb(36,36,36)",
            "ticks": "outside"
           }
          },
          "colorscale": {
           "diverging": [
            [
             0,
             "rgb(103,0,31)"
            ],
            [
             0.1,
             "rgb(178,24,43)"
            ],
            [
             0.2,
             "rgb(214,96,77)"
            ],
            [
             0.3,
             "rgb(244,165,130)"
            ],
            [
             0.4,
             "rgb(253,219,199)"
            ],
            [
             0.5,
             "rgb(247,247,247)"
            ],
            [
             0.6,
             "rgb(209,229,240)"
            ],
            [
             0.7,
             "rgb(146,197,222)"
            ],
            [
             0.8,
             "rgb(67,147,195)"
            ],
            [
             0.9,
             "rgb(33,102,172)"
            ],
            [
             1,
             "rgb(5,48,97)"
            ]
           ],
           "sequential": [
            [
             0,
             "#440154"
            ],
            [
             0.1111111111111111,
             "#482878"
            ],
            [
             0.2222222222222222,
             "#3e4989"
            ],
            [
             0.3333333333333333,
             "#31688e"
            ],
            [
             0.4444444444444444,
             "#26828e"
            ],
            [
             0.5555555555555556,
             "#1f9e89"
            ],
            [
             0.6666666666666666,
             "#35b779"
            ],
            [
             0.7777777777777778,
             "#6ece58"
            ],
            [
             0.8888888888888888,
             "#b5de2b"
            ],
            [
             1,
             "#fde725"
            ]
           ],
           "sequentialminus": [
            [
             0,
             "#440154"
            ],
            [
             0.1111111111111111,
             "#482878"
            ],
            [
             0.2222222222222222,
             "#3e4989"
            ],
            [
             0.3333333333333333,
             "#31688e"
            ],
            [
             0.4444444444444444,
             "#26828e"
            ],
            [
             0.5555555555555556,
             "#1f9e89"
            ],
            [
             0.6666666666666666,
             "#35b779"
            ],
            [
             0.7777777777777778,
             "#6ece58"
            ],
            [
             0.8888888888888888,
             "#b5de2b"
            ],
            [
             1,
             "#fde725"
            ]
           ]
          },
          "colorway": [
           "#1F77B4",
           "#FF7F0E",
           "#2CA02C",
           "#D62728",
           "#9467BD",
           "#8C564B",
           "#E377C2",
           "#7F7F7F",
           "#BCBD22",
           "#17BECF"
          ],
          "font": {
           "color": "rgb(36,36,36)"
          },
          "geo": {
           "bgcolor": "white",
           "lakecolor": "white",
           "landcolor": "white",
           "showlakes": true,
           "showland": true,
           "subunitcolor": "white"
          },
          "hoverlabel": {
           "align": "left"
          },
          "hovermode": "closest",
          "mapbox": {
           "style": "light"
          },
          "paper_bgcolor": "white",
          "plot_bgcolor": "white",
          "polar": {
           "angularaxis": {
            "gridcolor": "rgb(232,232,232)",
            "linecolor": "rgb(36,36,36)",
            "showgrid": false,
            "showline": true,
            "ticks": "outside"
           },
           "bgcolor": "white",
           "radialaxis": {
            "gridcolor": "rgb(232,232,232)",
            "linecolor": "rgb(36,36,36)",
            "showgrid": false,
            "showline": true,
            "ticks": "outside"
           }
          },
          "scene": {
           "xaxis": {
            "backgroundcolor": "white",
            "gridcolor": "rgb(232,232,232)",
            "gridwidth": 2,
            "linecolor": "rgb(36,36,36)",
            "showbackground": true,
            "showgrid": false,
            "showline": true,
            "ticks": "outside",
            "zeroline": false,
            "zerolinecolor": "rgb(36,36,36)"
           },
           "yaxis": {
            "backgroundcolor": "white",
            "gridcolor": "rgb(232,232,232)",
            "gridwidth": 2,
            "linecolor": "rgb(36,36,36)",
            "showbackground": true,
            "showgrid": false,
            "showline": true,
            "ticks": "outside",
            "zeroline": false,
            "zerolinecolor": "rgb(36,36,36)"
           },
           "zaxis": {
            "backgroundcolor": "white",
            "gridcolor": "rgb(232,232,232)",
            "gridwidth": 2,
            "linecolor": "rgb(36,36,36)",
            "showbackground": true,
            "showgrid": false,
            "showline": true,
            "ticks": "outside",
            "zeroline": false,
            "zerolinecolor": "rgb(36,36,36)"
           }
          },
          "shapedefaults": {
           "fillcolor": "black",
           "line": {
            "width": 0
           },
           "opacity": 0.3
          },
          "ternary": {
           "aaxis": {
            "gridcolor": "rgb(232,232,232)",
            "linecolor": "rgb(36,36,36)",
            "showgrid": false,
            "showline": true,
            "ticks": "outside"
           },
           "baxis": {
            "gridcolor": "rgb(232,232,232)",
            "linecolor": "rgb(36,36,36)",
            "showgrid": false,
            "showline": true,
            "ticks": "outside"
           },
           "bgcolor": "white",
           "caxis": {
            "gridcolor": "rgb(232,232,232)",
            "linecolor": "rgb(36,36,36)",
            "showgrid": false,
            "showline": true,
            "ticks": "outside"
           }
          },
          "title": {
           "x": 0.05
          },
          "xaxis": {
           "automargin": true,
           "gridcolor": "rgb(232,232,232)",
           "linecolor": "rgb(36,36,36)",
           "showgrid": false,
           "showline": true,
           "ticks": "outside",
           "title": {
            "standoff": 15
           },
           "zeroline": false,
           "zerolinecolor": "rgb(36,36,36)"
          },
          "yaxis": {
           "automargin": true,
           "gridcolor": "rgb(232,232,232)",
           "linecolor": "rgb(36,36,36)",
           "showgrid": false,
           "showline": true,
           "ticks": "outside",
           "title": {
            "standoff": 15
           },
           "zeroline": false,
           "zerolinecolor": "rgb(36,36,36)"
          }
         }
        },
        "width": 600,
        "xaxis": {
         "range": [
          -1,
          100
         ],
         "showgrid": false,
         "title": {
          "text": "<i>d</i><sub>RMS</sub> (pm/V)"
         }
        },
        "yaxis": {
         "range": [
          -1,
          100
         ],
         "showgrid": false,
         "title": {
          "text": "<i>d&#770;</i><sub>RMS</sub> (pm/V)"
         }
        }
       }
      }
     },
     "metadata": {},
     "output_type": "display_data"
    }
   ],
   "source": [
    "# Data\n",
    "\n",
    "mae = mean_absolute_error(df_pred_matten[\"dRMS_true\"], df_pred_matten[\"dRMS_matten\"])\n",
    "mape = mean_absolute_percentage_error(\n",
    "    df_pred_matten[\"dRMS_true\"], df_pred_matten[\"dRMS_matten\"]\n",
    ")\n",
    "rmse = root_mean_squared_error(\n",
    "    df_pred_matten[\"dRMS_true\"], df_pred_matten[\"dRMS_matten\"]\n",
    ")\n",
    "spearmanrho = spearmanr(df_pred_matten[\"dRMS_true\"], df_pred_matten[\"dRMS_matten\"])\n",
    "print(f\"MAE = {mae}\")\n",
    "print(f\"MAPE = {mape}\")\n",
    "print(f\"RMSE = {rmse}\")\n",
    "print(f\"Rho_sp = {spearmanrho.statistic}\")\n",
    "\n",
    "# Scatter plot for previous outputs.\n",
    "scatter_dRMS = go.Scatter(\n",
    "    x=df_pred_matten[\"dRMS_true\"],\n",
    "    y=df_pred_matten[\"dRMS_matten\"],\n",
    "    mode=\"markers\",\n",
    "    name=\"\",\n",
    "    showlegend=False,\n",
    "    text=[mpid for mpid in df_pred_matten.index.values],\n",
    ")\n",
    "\n",
    "ideal = go.Scatter(\n",
    "    x=[-1, 200],\n",
    "    y=[-1, 200],\n",
    "    mode=\"lines\",\n",
    "    line=dict(color=\"gray\", dash=\"dot\"),\n",
    "    showlegend=False,\n",
    ")\n",
    "\n",
    "# Layout\n",
    "layout = go.Layout(\n",
    "    # title=dict(text='Scatter Plot'),\n",
    "    xaxis=dict(title=\"<i>d</i><sub>RMS</sub> (pm/V)\", range=[-1, 100]),\n",
    "    yaxis=dict(title=\"<i>d&#770;</i><sub>RMS</sub> (pm/V)\", range=[-1, 100]),\n",
    "    # legend=dict(font=dict(size=12)),\n",
    ")\n",
    "\n",
    "# Create figure\n",
    "fig = go.Figure(data=[scatter_dRMS, ideal], layout=layout)\n",
    "\n",
    "fig.update_layout(\n",
    "    autosize=False,\n",
    "    font_size=20,\n",
    "    width=600,\n",
    "    height=600,\n",
    "    # plot_bgcolor=\"white\",\n",
    "    template=\"simple_white\",\n",
    ")\n",
    "fig.update_layout(\n",
    "    xaxis=dict(\n",
    "        # tickmode = 'array',\n",
    "        # tickvals = [1, 2,3,4,5,6,7,8],\n",
    "        # ticktext = ['One', 'Three', 'Five', 'Seven', 'Nine', 'Eleven']\n",
    "        showgrid=False,\n",
    "    ),\n",
    "    yaxis=dict(\n",
    "        # tickmode = 'array',\n",
    "        # tickvals = [1, 2,3,4,5,6,7,8],\n",
    "        # ticktext = ['One', 'Three', 'Five', 'Seven', 'Nine', 'Eleven']\n",
    "        showgrid=False,\n",
    "    ),\n",
    ")\n",
    "\n",
    "# Show figure\n",
    "fig.show()"
   ]
  },
  {
   "cell_type": "code",
   "execution_count": null,
   "metadata": {},
   "outputs": [],
   "source": []
  }
 ],
 "metadata": {
  "kernelspec": {
   "display_name": "shgmlenv",
   "language": "python",
   "name": "python3"
  },
  "language_info": {
   "codemirror_mode": {
    "name": "ipython",
    "version": 3
   },
   "file_extension": ".py",
   "mimetype": "text/x-python",
   "name": "python",
   "nbconvert_exporter": "python",
   "pygments_lexer": "ipython3",
   "version": "3.11.0"
  }
 },
 "nbformat": 4,
 "nbformat_minor": 2
}
