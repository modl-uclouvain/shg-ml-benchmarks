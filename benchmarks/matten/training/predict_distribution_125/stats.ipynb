{
 "cells": [
  {
   "cell_type": "code",
   "execution_count": 1,
   "metadata": {},
   "outputs": [],
   "source": [
    "from pathlib import Path\n",
    "\n",
    "from scipy.stats import spearmanr\n",
    "from sklearn.metrics import (\n",
    "    mean_absolute_error,\n",
    "    mean_absolute_percentage_error,\n",
    "    root_mean_squared_error,\n",
    ")"
   ]
  },
  {
   "cell_type": "code",
   "execution_count": 2,
   "metadata": {},
   "outputs": [],
   "source": [
    "import os\n",
    "\n",
    "import numpy as np\n",
    "import pandas as pd\n",
    "import plotly.graph_objs as go"
   ]
  },
  {
   "cell_type": "code",
   "execution_count": 3,
   "metadata": {},
   "outputs": [],
   "source": [
    "import shg_ml_benchmarks.utils_shg as shg\n",
    "from shg_ml_benchmarks.utils import load_full"
   ]
  },
  {
   "cell_type": "code",
   "execution_count": 4,
   "metadata": {},
   "outputs": [
    {
     "name": "stdout",
     "output_type": "stream",
     "text": [
      "(125, 7)\n"
     ]
    },
    {
     "data": {
      "text/html": [
       "<div>\n",
       "<style scoped>\n",
       "    .dataframe tbody tr th:only-of-type {\n",
       "        vertical-align: middle;\n",
       "    }\n",
       "\n",
       "    .dataframe tbody tr th {\n",
       "        vertical-align: top;\n",
       "    }\n",
       "\n",
       "    .dataframe thead th {\n",
       "        text-align: right;\n",
       "    }\n",
       "</style>\n",
       "<table border=\"1\" class=\"dataframe\">\n",
       "  <thead>\n",
       "    <tr style=\"text-align: right;\">\n",
       "      <th></th>\n",
       "      <th>dijk_matten</th>\n",
       "      <th>dKP_matten</th>\n",
       "      <th>dRMS_matten</th>\n",
       "      <th>dKP_matten_masked</th>\n",
       "      <th>dRMS_matten_masked</th>\n",
       "      <th>dKP_true</th>\n",
       "      <th>dRMS_true</th>\n",
       "    </tr>\n",
       "  </thead>\n",
       "  <tbody>\n",
       "    <tr>\n",
       "      <th>agm001266143</th>\n",
       "      <td>[[[-9.030000000000001e-08, 54.9663047791, 14.2...</td>\n",
       "      <td>53.384082</td>\n",
       "      <td>28.432551</td>\n",
       "      <td>53.384082</td>\n",
       "      <td>28.432551</td>\n",
       "      <td>43.968531</td>\n",
       "      <td>18.641918</td>\n",
       "    </tr>\n",
       "    <tr>\n",
       "      <th>agm002018585</th>\n",
       "      <td>[[[-30.6879119873, 1.523e-07, -0.3404380083000...</td>\n",
       "      <td>20.338900</td>\n",
       "      <td>10.030933</td>\n",
       "      <td>20.338900</td>\n",
       "      <td>10.030933</td>\n",
       "      <td>54.691229</td>\n",
       "      <td>27.523965</td>\n",
       "    </tr>\n",
       "    <tr>\n",
       "      <th>agm002056302</th>\n",
       "      <td>[[[2.9441e-06, 4.6210000000000004e-07, 9.194e-...</td>\n",
       "      <td>4.054910</td>\n",
       "      <td>2.261721</td>\n",
       "      <td>4.054910</td>\n",
       "      <td>2.261721</td>\n",
       "      <td>3.414247</td>\n",
       "      <td>1.904376</td>\n",
       "    </tr>\n",
       "    <tr>\n",
       "      <th>agm002072309</th>\n",
       "      <td>[[[-3.1e-08, 1.7485e-06, 0.4572651982], [1.748...</td>\n",
       "      <td>0.487434</td>\n",
       "      <td>0.269465</td>\n",
       "      <td>0.487434</td>\n",
       "      <td>0.269465</td>\n",
       "      <td>4.324187</td>\n",
       "      <td>1.894918</td>\n",
       "    </tr>\n",
       "    <tr>\n",
       "      <th>agm002073755</th>\n",
       "      <td>[[[-0.08593568950000001, -1.487018466, -0.9524...</td>\n",
       "      <td>1.954081</td>\n",
       "      <td>1.037176</td>\n",
       "      <td>1.954081</td>\n",
       "      <td>1.037176</td>\n",
       "      <td>0.778823</td>\n",
       "      <td>0.412738</td>\n",
       "    </tr>\n",
       "  </tbody>\n",
       "</table>\n",
       "</div>"
      ],
      "text/plain": [
       "                                                    dijk_matten  dKP_matten  \\\n",
       "agm001266143  [[[-9.030000000000001e-08, 54.9663047791, 14.2...   53.384082   \n",
       "agm002018585  [[[-30.6879119873, 1.523e-07, -0.3404380083000...   20.338900   \n",
       "agm002056302  [[[2.9441e-06, 4.6210000000000004e-07, 9.194e-...    4.054910   \n",
       "agm002072309  [[[-3.1e-08, 1.7485e-06, 0.4572651982], [1.748...    0.487434   \n",
       "agm002073755  [[[-0.08593568950000001, -1.487018466, -0.9524...    1.954081   \n",
       "\n",
       "              dRMS_matten  dKP_matten_masked  dRMS_matten_masked   dKP_true  \\\n",
       "agm001266143    28.432551          53.384082           28.432551  43.968531   \n",
       "agm002018585    10.030933          20.338900           10.030933  54.691229   \n",
       "agm002056302     2.261721           4.054910            2.261721   3.414247   \n",
       "agm002072309     0.269465           0.487434            0.269465   4.324187   \n",
       "agm002073755     1.037176           1.954081            1.037176   0.778823   \n",
       "\n",
       "              dRMS_true  \n",
       "agm001266143  18.641918  \n",
       "agm002018585  27.523965  \n",
       "agm002056302   1.904376  \n",
       "agm002072309   1.894918  \n",
       "agm002073755   0.412738  "
      ]
     },
     "metadata": {},
     "output_type": "display_data"
    }
   ],
   "source": [
    "df_orig = load_full()\n",
    "df_pred_matten = pd.read_json(\"df_pred_matten_holdout.json.gz\")\n",
    "\n",
    "# Computing dKP from the Matten tensors predictions\n",
    "list_dKP_matten = []\n",
    "list_dRMS_matten = []\n",
    "list_dKP_matten_masked = []\n",
    "list_dRMS_matten_masked = []\n",
    "for ir, r in df_pred_matten.iterrows():\n",
    "    dijk_matten = shg.from_voigt(r[\"dijk_matten\"])\n",
    "    list_dKP_matten.append(shg.get_dKP(dijk_matten))\n",
    "    list_dRMS_matten.append(shg.get_dRMS(dijk_matten))\n",
    "\n",
    "    dijk_orig = shg.from_voigt(df_orig.loc[ir][\"dijk_full_neum\"])\n",
    "    dijk_matten = np.where(dijk_orig != 0, dijk_matten, 0)\n",
    "    list_dKP_matten_masked.append(shg.get_dKP(dijk_matten))\n",
    "    list_dRMS_matten_masked.append(shg.get_dRMS(dijk_matten))\n",
    "\n",
    "df_pred_matten[\"dKP_matten\"] = list_dKP_matten\n",
    "df_pred_matten[\"dRMS_matten\"] = list_dRMS_matten\n",
    "df_pred_matten[\"dKP_matten_masked\"] = list_dKP_matten_masked\n",
    "df_pred_matten[\"dRMS_matten_masked\"] = list_dRMS_matten_masked\n",
    "\n",
    "# Adding the true dKP to the df\n",
    "df_pred_matten[\"dKP_true\"] = df_orig.filter(df_pred_matten.index, axis=0)[\n",
    "    \"dKP_full_neum\"\n",
    "].tolist()\n",
    "df_pred_matten[\"dRMS_true\"] = [\n",
    "    shg.get_dRMS(d)\n",
    "    for d in df_orig.filter(df_pred_matten.index, axis=0)[\"dijk_full_neum\"].tolist()\n",
    "]\n",
    "\n",
    "print(df_pred_matten.shape)\n",
    "display(df_pred_matten.head())"
   ]
  },
  {
   "cell_type": "code",
   "execution_count": 5,
   "metadata": {},
   "outputs": [
    {
     "name": "stdout",
     "output_type": "stream",
     "text": [
      "(1001, 13)\n"
     ]
    },
    {
     "data": {
      "text/html": [
       "<div>\n",
       "<style scoped>\n",
       "    .dataframe tbody tr th:only-of-type {\n",
       "        vertical-align: middle;\n",
       "    }\n",
       "\n",
       "    .dataframe tbody tr th {\n",
       "        vertical-align: top;\n",
       "    }\n",
       "\n",
       "    .dataframe thead th {\n",
       "        text-align: right;\n",
       "    }\n",
       "</style>\n",
       "<table border=\"1\" class=\"dataframe\">\n",
       "  <thead>\n",
       "    <tr style=\"text-align: right;\">\n",
       "      <th></th>\n",
       "      <th>cumulative time</th>\n",
       "      <th>epoch</th>\n",
       "      <th>epoch time</th>\n",
       "      <th>metric_test/MeanAbsoluteError/shg_tensor_full</th>\n",
       "      <th>metric_val/MeanAbsoluteError/shg_tensor_full</th>\n",
       "      <th>step</th>\n",
       "      <th>test/loss/shg_tensor_full</th>\n",
       "      <th>test/total_loss</th>\n",
       "      <th>train/loss/shg_tensor_full</th>\n",
       "      <th>train/total_loss</th>\n",
       "      <th>val/loss/shg_tensor_full</th>\n",
       "      <th>val/score</th>\n",
       "      <th>val/total_loss</th>\n",
       "    </tr>\n",
       "  </thead>\n",
       "  <tbody>\n",
       "    <tr>\n",
       "      <th>0</th>\n",
       "      <td>27.430830</td>\n",
       "      <td>0</td>\n",
       "      <td>6.226482</td>\n",
       "      <td>NaN</td>\n",
       "      <td>5.364844</td>\n",
       "      <td>78</td>\n",
       "      <td>NaN</td>\n",
       "      <td>NaN</td>\n",
       "      <td>NaN</td>\n",
       "      <td>NaN</td>\n",
       "      <td>662.959778</td>\n",
       "      <td>5.364844</td>\n",
       "      <td>662.959778</td>\n",
       "    </tr>\n",
       "    <tr>\n",
       "      <th>1</th>\n",
       "      <td>NaN</td>\n",
       "      <td>0</td>\n",
       "      <td>NaN</td>\n",
       "      <td>NaN</td>\n",
       "      <td>NaN</td>\n",
       "      <td>78</td>\n",
       "      <td>NaN</td>\n",
       "      <td>NaN</td>\n",
       "      <td>698.017334</td>\n",
       "      <td>698.017334</td>\n",
       "      <td>NaN</td>\n",
       "      <td>NaN</td>\n",
       "      <td>NaN</td>\n",
       "    </tr>\n",
       "    <tr>\n",
       "      <th>2</th>\n",
       "      <td>33.318802</td>\n",
       "      <td>1</td>\n",
       "      <td>5.887972</td>\n",
       "      <td>NaN</td>\n",
       "      <td>4.811693</td>\n",
       "      <td>157</td>\n",
       "      <td>NaN</td>\n",
       "      <td>NaN</td>\n",
       "      <td>NaN</td>\n",
       "      <td>NaN</td>\n",
       "      <td>544.553955</td>\n",
       "      <td>4.811693</td>\n",
       "      <td>544.553955</td>\n",
       "    </tr>\n",
       "    <tr>\n",
       "      <th>3</th>\n",
       "      <td>NaN</td>\n",
       "      <td>1</td>\n",
       "      <td>NaN</td>\n",
       "      <td>NaN</td>\n",
       "      <td>NaN</td>\n",
       "      <td>157</td>\n",
       "      <td>NaN</td>\n",
       "      <td>NaN</td>\n",
       "      <td>608.546692</td>\n",
       "      <td>608.546692</td>\n",
       "      <td>NaN</td>\n",
       "      <td>NaN</td>\n",
       "      <td>NaN</td>\n",
       "    </tr>\n",
       "    <tr>\n",
       "      <th>4</th>\n",
       "      <td>39.206200</td>\n",
       "      <td>2</td>\n",
       "      <td>5.887396</td>\n",
       "      <td>NaN</td>\n",
       "      <td>4.723547</td>\n",
       "      <td>236</td>\n",
       "      <td>NaN</td>\n",
       "      <td>NaN</td>\n",
       "      <td>NaN</td>\n",
       "      <td>NaN</td>\n",
       "      <td>501.473511</td>\n",
       "      <td>4.723547</td>\n",
       "      <td>501.473511</td>\n",
       "    </tr>\n",
       "  </tbody>\n",
       "</table>\n",
       "</div>"
      ],
      "text/plain": [
       "   cumulative time  epoch  epoch time  \\\n",
       "0        27.430830      0    6.226482   \n",
       "1              NaN      0         NaN   \n",
       "2        33.318802      1    5.887972   \n",
       "3              NaN      1         NaN   \n",
       "4        39.206200      2    5.887396   \n",
       "\n",
       "   metric_test/MeanAbsoluteError/shg_tensor_full  \\\n",
       "0                                            NaN   \n",
       "1                                            NaN   \n",
       "2                                            NaN   \n",
       "3                                            NaN   \n",
       "4                                            NaN   \n",
       "\n",
       "   metric_val/MeanAbsoluteError/shg_tensor_full  step  \\\n",
       "0                                      5.364844    78   \n",
       "1                                           NaN    78   \n",
       "2                                      4.811693   157   \n",
       "3                                           NaN   157   \n",
       "4                                      4.723547   236   \n",
       "\n",
       "   test/loss/shg_tensor_full  test/total_loss  train/loss/shg_tensor_full  \\\n",
       "0                        NaN              NaN                         NaN   \n",
       "1                        NaN              NaN                  698.017334   \n",
       "2                        NaN              NaN                         NaN   \n",
       "3                        NaN              NaN                  608.546692   \n",
       "4                        NaN              NaN                         NaN   \n",
       "\n",
       "   train/total_loss  val/loss/shg_tensor_full  val/score  val/total_loss  \n",
       "0               NaN                662.959778   5.364844      662.959778  \n",
       "1        698.017334                       NaN        NaN             NaN  \n",
       "2               NaN                544.553955   4.811693      544.553955  \n",
       "3        608.546692                       NaN        NaN             NaN  \n",
       "4               NaN                501.473511   4.723547      501.473511  "
      ]
     },
     "metadata": {},
     "output_type": "display_data"
    }
   ],
   "source": [
    "type_set = os.path.basename(Path(os.getcwd())).split(\"predict_\")[1]\n",
    "\n",
    "df_lr = pd.read_csv(f\"../scripts_{type_set}/lightning_logs/version_0/metrics.csv\")\n",
    "print(df_lr.shape)\n",
    "display(df_lr.head())"
   ]
  },
  {
   "cell_type": "code",
   "execution_count": 6,
   "metadata": {},
   "outputs": [
    {
     "data": {
      "text/html": [
       "<div>\n",
       "<style scoped>\n",
       "    .dataframe tbody tr th:only-of-type {\n",
       "        vertical-align: middle;\n",
       "    }\n",
       "\n",
       "    .dataframe tbody tr th {\n",
       "        vertical-align: top;\n",
       "    }\n",
       "\n",
       "    .dataframe thead th {\n",
       "        text-align: right;\n",
       "    }\n",
       "</style>\n",
       "<table border=\"1\" class=\"dataframe\">\n",
       "  <thead>\n",
       "    <tr style=\"text-align: right;\">\n",
       "      <th></th>\n",
       "      <th>cumulative time</th>\n",
       "      <th>epoch</th>\n",
       "      <th>epoch time</th>\n",
       "      <th>metric_test/MeanAbsoluteError/shg_tensor_full</th>\n",
       "      <th>metric_val/MeanAbsoluteError/shg_tensor_full</th>\n",
       "      <th>step</th>\n",
       "      <th>test/loss/shg_tensor_full</th>\n",
       "      <th>test/total_loss</th>\n",
       "      <th>train/loss/shg_tensor_full</th>\n",
       "      <th>train/total_loss</th>\n",
       "      <th>val/loss/shg_tensor_full</th>\n",
       "      <th>val/score</th>\n",
       "      <th>val/total_loss</th>\n",
       "    </tr>\n",
       "    <tr>\n",
       "      <th>epoch</th>\n",
       "      <th></th>\n",
       "      <th></th>\n",
       "      <th></th>\n",
       "      <th></th>\n",
       "      <th></th>\n",
       "      <th></th>\n",
       "      <th></th>\n",
       "      <th></th>\n",
       "      <th></th>\n",
       "      <th></th>\n",
       "      <th></th>\n",
       "      <th></th>\n",
       "      <th></th>\n",
       "    </tr>\n",
       "  </thead>\n",
       "  <tbody>\n",
       "    <tr>\n",
       "      <th>0</th>\n",
       "      <td>27.430830</td>\n",
       "      <td>0</td>\n",
       "      <td>6.226482</td>\n",
       "      <td>NaN</td>\n",
       "      <td>5.364844</td>\n",
       "      <td>78</td>\n",
       "      <td>NaN</td>\n",
       "      <td>NaN</td>\n",
       "      <td>NaN</td>\n",
       "      <td>NaN</td>\n",
       "      <td>662.959778</td>\n",
       "      <td>5.364844</td>\n",
       "      <td>662.959778</td>\n",
       "    </tr>\n",
       "    <tr>\n",
       "      <th>1</th>\n",
       "      <td>33.318802</td>\n",
       "      <td>1</td>\n",
       "      <td>5.887972</td>\n",
       "      <td>NaN</td>\n",
       "      <td>4.811693</td>\n",
       "      <td>157</td>\n",
       "      <td>NaN</td>\n",
       "      <td>NaN</td>\n",
       "      <td>NaN</td>\n",
       "      <td>NaN</td>\n",
       "      <td>544.553955</td>\n",
       "      <td>4.811693</td>\n",
       "      <td>544.553955</td>\n",
       "    </tr>\n",
       "    <tr>\n",
       "      <th>2</th>\n",
       "      <td>39.206200</td>\n",
       "      <td>2</td>\n",
       "      <td>5.887396</td>\n",
       "      <td>NaN</td>\n",
       "      <td>4.723547</td>\n",
       "      <td>236</td>\n",
       "      <td>NaN</td>\n",
       "      <td>NaN</td>\n",
       "      <td>NaN</td>\n",
       "      <td>NaN</td>\n",
       "      <td>501.473511</td>\n",
       "      <td>4.723547</td>\n",
       "      <td>501.473511</td>\n",
       "    </tr>\n",
       "    <tr>\n",
       "      <th>3</th>\n",
       "      <td>45.091843</td>\n",
       "      <td>3</td>\n",
       "      <td>5.885644</td>\n",
       "      <td>NaN</td>\n",
       "      <td>4.638742</td>\n",
       "      <td>315</td>\n",
       "      <td>NaN</td>\n",
       "      <td>NaN</td>\n",
       "      <td>NaN</td>\n",
       "      <td>NaN</td>\n",
       "      <td>401.462463</td>\n",
       "      <td>4.638742</td>\n",
       "      <td>401.462463</td>\n",
       "    </tr>\n",
       "    <tr>\n",
       "      <th>4</th>\n",
       "      <td>51.038826</td>\n",
       "      <td>4</td>\n",
       "      <td>5.946982</td>\n",
       "      <td>NaN</td>\n",
       "      <td>4.299441</td>\n",
       "      <td>394</td>\n",
       "      <td>NaN</td>\n",
       "      <td>NaN</td>\n",
       "      <td>NaN</td>\n",
       "      <td>NaN</td>\n",
       "      <td>398.294159</td>\n",
       "      <td>4.299441</td>\n",
       "      <td>398.294159</td>\n",
       "    </tr>\n",
       "  </tbody>\n",
       "</table>\n",
       "</div>"
      ],
      "text/plain": [
       "       cumulative time  epoch  epoch time  \\\n",
       "epoch                                       \n",
       "0            27.430830      0    6.226482   \n",
       "1            33.318802      1    5.887972   \n",
       "2            39.206200      2    5.887396   \n",
       "3            45.091843      3    5.885644   \n",
       "4            51.038826      4    5.946982   \n",
       "\n",
       "       metric_test/MeanAbsoluteError/shg_tensor_full  \\\n",
       "epoch                                                  \n",
       "0                                                NaN   \n",
       "1                                                NaN   \n",
       "2                                                NaN   \n",
       "3                                                NaN   \n",
       "4                                                NaN   \n",
       "\n",
       "       metric_val/MeanAbsoluteError/shg_tensor_full  step  \\\n",
       "epoch                                                       \n",
       "0                                          5.364844    78   \n",
       "1                                          4.811693   157   \n",
       "2                                          4.723547   236   \n",
       "3                                          4.638742   315   \n",
       "4                                          4.299441   394   \n",
       "\n",
       "       test/loss/shg_tensor_full  test/total_loss  train/loss/shg_tensor_full  \\\n",
       "epoch                                                                           \n",
       "0                            NaN              NaN                         NaN   \n",
       "1                            NaN              NaN                         NaN   \n",
       "2                            NaN              NaN                         NaN   \n",
       "3                            NaN              NaN                         NaN   \n",
       "4                            NaN              NaN                         NaN   \n",
       "\n",
       "       train/total_loss  val/loss/shg_tensor_full  val/score  val/total_loss  \n",
       "epoch                                                                         \n",
       "0                   NaN                662.959778   5.364844      662.959778  \n",
       "1                   NaN                544.553955   4.811693      544.553955  \n",
       "2                   NaN                501.473511   4.723547      501.473511  \n",
       "3                   NaN                401.462463   4.638742      401.462463  \n",
       "4                   NaN                398.294159   4.299441      398.294159  "
      ]
     },
     "metadata": {},
     "output_type": "display_data"
    },
    {
     "data": {
      "text/html": [
       "<div>\n",
       "<style scoped>\n",
       "    .dataframe tbody tr th:only-of-type {\n",
       "        vertical-align: middle;\n",
       "    }\n",
       "\n",
       "    .dataframe tbody tr th {\n",
       "        vertical-align: top;\n",
       "    }\n",
       "\n",
       "    .dataframe thead th {\n",
       "        text-align: right;\n",
       "    }\n",
       "</style>\n",
       "<table border=\"1\" class=\"dataframe\">\n",
       "  <thead>\n",
       "    <tr style=\"text-align: right;\">\n",
       "      <th></th>\n",
       "      <th>cumulative time</th>\n",
       "      <th>epoch</th>\n",
       "      <th>epoch time</th>\n",
       "      <th>metric_test/MeanAbsoluteError/shg_tensor_full</th>\n",
       "      <th>metric_val/MeanAbsoluteError/shg_tensor_full</th>\n",
       "      <th>step</th>\n",
       "      <th>test/loss/shg_tensor_full</th>\n",
       "      <th>test/total_loss</th>\n",
       "      <th>train/loss/shg_tensor_full</th>\n",
       "      <th>train/total_loss</th>\n",
       "      <th>val/loss/shg_tensor_full</th>\n",
       "      <th>val/score</th>\n",
       "      <th>val/total_loss</th>\n",
       "    </tr>\n",
       "    <tr>\n",
       "      <th>epoch</th>\n",
       "      <th></th>\n",
       "      <th></th>\n",
       "      <th></th>\n",
       "      <th></th>\n",
       "      <th></th>\n",
       "      <th></th>\n",
       "      <th></th>\n",
       "      <th></th>\n",
       "      <th></th>\n",
       "      <th></th>\n",
       "      <th></th>\n",
       "      <th></th>\n",
       "      <th></th>\n",
       "    </tr>\n",
       "  </thead>\n",
       "  <tbody>\n",
       "    <tr>\n",
       "      <th>0</th>\n",
       "      <td>NaN</td>\n",
       "      <td>0</td>\n",
       "      <td>NaN</td>\n",
       "      <td>NaN</td>\n",
       "      <td>NaN</td>\n",
       "      <td>78</td>\n",
       "      <td>NaN</td>\n",
       "      <td>NaN</td>\n",
       "      <td>698.017334</td>\n",
       "      <td>698.017334</td>\n",
       "      <td>NaN</td>\n",
       "      <td>NaN</td>\n",
       "      <td>NaN</td>\n",
       "    </tr>\n",
       "    <tr>\n",
       "      <th>1</th>\n",
       "      <td>NaN</td>\n",
       "      <td>1</td>\n",
       "      <td>NaN</td>\n",
       "      <td>NaN</td>\n",
       "      <td>NaN</td>\n",
       "      <td>157</td>\n",
       "      <td>NaN</td>\n",
       "      <td>NaN</td>\n",
       "      <td>608.546692</td>\n",
       "      <td>608.546692</td>\n",
       "      <td>NaN</td>\n",
       "      <td>NaN</td>\n",
       "      <td>NaN</td>\n",
       "    </tr>\n",
       "    <tr>\n",
       "      <th>2</th>\n",
       "      <td>NaN</td>\n",
       "      <td>2</td>\n",
       "      <td>NaN</td>\n",
       "      <td>NaN</td>\n",
       "      <td>NaN</td>\n",
       "      <td>236</td>\n",
       "      <td>NaN</td>\n",
       "      <td>NaN</td>\n",
       "      <td>493.638702</td>\n",
       "      <td>493.638702</td>\n",
       "      <td>NaN</td>\n",
       "      <td>NaN</td>\n",
       "      <td>NaN</td>\n",
       "    </tr>\n",
       "    <tr>\n",
       "      <th>3</th>\n",
       "      <td>NaN</td>\n",
       "      <td>3</td>\n",
       "      <td>NaN</td>\n",
       "      <td>NaN</td>\n",
       "      <td>NaN</td>\n",
       "      <td>315</td>\n",
       "      <td>NaN</td>\n",
       "      <td>NaN</td>\n",
       "      <td>364.283020</td>\n",
       "      <td>364.283020</td>\n",
       "      <td>NaN</td>\n",
       "      <td>NaN</td>\n",
       "      <td>NaN</td>\n",
       "    </tr>\n",
       "    <tr>\n",
       "      <th>4</th>\n",
       "      <td>NaN</td>\n",
       "      <td>4</td>\n",
       "      <td>NaN</td>\n",
       "      <td>NaN</td>\n",
       "      <td>NaN</td>\n",
       "      <td>394</td>\n",
       "      <td>NaN</td>\n",
       "      <td>NaN</td>\n",
       "      <td>278.168182</td>\n",
       "      <td>278.168182</td>\n",
       "      <td>NaN</td>\n",
       "      <td>NaN</td>\n",
       "      <td>NaN</td>\n",
       "    </tr>\n",
       "  </tbody>\n",
       "</table>\n",
       "</div>"
      ],
      "text/plain": [
       "       cumulative time  epoch  epoch time  \\\n",
       "epoch                                       \n",
       "0                  NaN      0         NaN   \n",
       "1                  NaN      1         NaN   \n",
       "2                  NaN      2         NaN   \n",
       "3                  NaN      3         NaN   \n",
       "4                  NaN      4         NaN   \n",
       "\n",
       "       metric_test/MeanAbsoluteError/shg_tensor_full  \\\n",
       "epoch                                                  \n",
       "0                                                NaN   \n",
       "1                                                NaN   \n",
       "2                                                NaN   \n",
       "3                                                NaN   \n",
       "4                                                NaN   \n",
       "\n",
       "       metric_val/MeanAbsoluteError/shg_tensor_full  step  \\\n",
       "epoch                                                       \n",
       "0                                               NaN    78   \n",
       "1                                               NaN   157   \n",
       "2                                               NaN   236   \n",
       "3                                               NaN   315   \n",
       "4                                               NaN   394   \n",
       "\n",
       "       test/loss/shg_tensor_full  test/total_loss  train/loss/shg_tensor_full  \\\n",
       "epoch                                                                           \n",
       "0                            NaN              NaN                  698.017334   \n",
       "1                            NaN              NaN                  608.546692   \n",
       "2                            NaN              NaN                  493.638702   \n",
       "3                            NaN              NaN                  364.283020   \n",
       "4                            NaN              NaN                  278.168182   \n",
       "\n",
       "       train/total_loss  val/loss/shg_tensor_full  val/score  val/total_loss  \n",
       "epoch                                                                         \n",
       "0            698.017334                       NaN        NaN             NaN  \n",
       "1            608.546692                       NaN        NaN             NaN  \n",
       "2            493.638702                       NaN        NaN             NaN  \n",
       "3            364.283020                       NaN        NaN             NaN  \n",
       "4            278.168182                       NaN        NaN             NaN  "
      ]
     },
     "metadata": {},
     "output_type": "display_data"
    }
   ],
   "source": [
    "df_lr_epochs_first = df_lr[df_lr[\"epoch\"].duplicated(keep=\"last\")]\n",
    "df_lr_epochs_first.index = df_lr_epochs_first[\"epoch\"]\n",
    "display(df_lr_epochs_first.head())\n",
    "df_lr_epochs_second = df_lr[df_lr[\"epoch\"].duplicated(keep=\"first\")]\n",
    "df_lr_epochs_second.index = df_lr_epochs_second[\"epoch\"]\n",
    "display(df_lr_epochs_second.head())"
   ]
  },
  {
   "cell_type": "markdown",
   "metadata": {},
   "source": [
    "# Learning rates"
   ]
  },
  {
   "cell_type": "markdown",
   "metadata": {},
   "source": [
    "## Loss"
   ]
  },
  {
   "cell_type": "code",
   "execution_count": 7,
   "metadata": {},
   "outputs": [
    {
     "data": {
      "application/vnd.plotly.v1+json": {
       "config": {
        "plotlyServerURL": "https://plot.ly"
       },
       "data": [
        {
         "mode": "lines+markers",
         "name": "Train loss",
         "showlegend": true,
         "type": "scatter",
         "x": [
          0,
          1,
          2,
          3,
          4,
          5,
          6,
          7,
          8,
          9,
          10,
          11,
          12,
          13,
          14,
          15,
          16,
          17,
          18,
          19,
          20,
          21,
          22,
          23,
          24,
          25,
          26,
          27,
          28,
          29,
          30,
          31,
          32,
          33,
          34,
          35,
          36,
          37,
          38,
          39,
          40,
          41,
          42,
          43,
          44,
          45,
          46,
          47,
          48,
          49,
          50,
          51,
          52,
          53,
          54,
          55,
          56,
          57,
          58,
          59,
          60,
          61,
          62,
          63,
          64,
          65,
          66,
          67,
          68,
          69,
          70,
          71,
          72,
          73,
          74,
          75,
          76,
          77,
          78,
          79,
          80,
          81,
          82,
          83,
          84,
          85,
          86,
          87,
          88,
          89,
          90,
          91,
          92,
          93,
          94,
          95,
          96,
          97,
          98,
          99,
          100,
          101,
          102,
          103,
          104,
          105,
          106,
          107,
          108,
          109,
          110,
          111,
          112,
          113,
          114,
          115,
          116,
          117,
          118,
          119,
          120,
          121,
          122,
          123,
          124,
          125,
          126,
          127,
          128,
          129,
          130,
          131,
          132,
          133,
          134,
          135,
          136,
          137,
          138,
          139,
          140,
          141,
          142,
          143,
          144,
          145,
          146,
          147,
          148,
          149,
          150,
          151,
          152,
          153,
          154,
          155,
          156,
          157,
          158,
          159,
          160,
          161,
          162,
          163,
          164,
          165,
          166,
          167,
          168,
          169,
          170,
          171,
          172,
          173,
          174,
          175,
          176,
          177,
          178,
          179,
          180,
          181,
          182,
          183,
          184,
          185,
          186,
          187,
          188,
          189,
          190,
          191,
          192,
          193,
          194,
          195,
          196,
          197,
          198,
          199,
          200,
          201,
          202,
          203,
          204,
          205,
          206,
          207,
          208,
          209,
          210,
          211,
          212,
          213,
          214,
          215,
          216,
          217,
          218,
          219,
          220,
          221,
          222,
          223,
          224,
          225,
          226,
          227,
          228,
          229,
          230,
          231,
          232,
          233,
          234,
          235,
          236,
          237,
          238,
          239,
          240,
          241,
          242,
          243,
          244,
          245,
          246,
          247,
          248,
          249,
          250,
          251,
          252,
          253,
          254,
          255,
          256,
          257,
          258,
          259,
          260,
          261,
          262,
          263,
          264,
          265,
          266,
          267,
          268,
          269,
          270,
          271,
          272,
          273,
          274,
          275,
          276,
          277,
          278,
          279,
          280,
          281,
          282,
          283,
          284,
          285,
          286,
          287,
          288,
          289,
          290,
          291,
          292,
          293,
          294,
          295,
          296,
          297,
          298,
          299,
          300,
          301,
          302,
          303,
          304,
          305,
          306,
          307,
          308,
          309,
          310,
          311,
          312,
          313,
          314,
          315,
          316,
          317,
          318,
          319,
          320,
          321,
          322,
          323,
          324,
          325,
          326,
          327,
          328,
          329,
          330,
          331,
          332,
          333,
          334,
          335,
          336,
          337,
          338,
          339,
          340,
          341,
          342,
          343,
          344,
          345,
          346,
          347,
          348,
          349,
          350,
          351,
          352,
          353,
          354,
          355,
          356,
          357,
          358,
          359,
          360,
          361,
          362,
          363,
          364,
          365,
          366,
          367,
          368,
          369,
          370,
          371,
          372,
          373,
          374,
          375,
          376,
          377,
          378,
          379,
          380,
          381,
          382,
          383,
          384,
          385,
          386,
          387,
          388,
          389,
          390,
          391,
          392,
          393,
          394,
          395,
          396,
          397,
          398,
          399,
          400,
          401,
          402,
          403,
          404,
          405,
          406,
          407,
          408,
          409,
          410,
          411,
          412,
          413,
          414,
          415,
          416,
          417,
          418,
          419,
          420,
          421,
          422,
          423,
          424,
          425,
          426,
          427,
          428,
          429,
          430,
          431,
          432,
          433,
          434,
          435,
          436,
          437,
          438,
          439,
          440,
          441,
          442,
          443,
          444,
          445,
          446,
          447,
          448,
          449,
          450,
          451,
          452,
          453,
          454,
          455,
          456,
          457,
          458,
          459,
          460,
          461,
          462,
          463,
          464,
          465,
          466,
          467,
          468,
          469,
          470,
          471,
          472,
          473,
          474,
          475,
          476,
          477,
          478,
          479,
          480,
          481,
          482,
          483,
          484,
          485,
          486,
          487,
          488,
          489,
          490,
          491,
          492,
          493,
          494,
          495,
          496,
          497,
          498,
          499
         ],
         "y": [
          698.017333984375,
          608.5466918945312,
          493.6387023925781,
          364.2830200195313,
          278.1681823730469,
          272.4268798828125,
          244.17068481445312,
          203.8512115478516,
          176.95022583007812,
          174.73391723632812,
          160.0388946533203,
          157.7497100830078,
          148.16146850585938,
          147.29464721679688,
          135.9686737060547,
          139.352294921875,
          133.6749267578125,
          143.0342559814453,
          139.1466064453125,
          134.5748291015625,
          126.7832260131836,
          117.50714874267578,
          123.97734832763672,
          125.10688018798828,
          114.93975830078124,
          118.2074203491211,
          119.62371063232422,
          133.66856384277344,
          120.4545440673828,
          112.69844818115234,
          110.32997131347656,
          113.2652816772461,
          112.07501983642578,
          111.00505828857422,
          110.14340209960938,
          111.8208999633789,
          113.36224365234376,
          118.10580444335938,
          113.79489135742188,
          111.00788116455078,
          110.2092514038086,
          114.99439239501952,
          109.8458023071289,
          108.2687530517578,
          108.1511001586914,
          108.61248016357422,
          109.10440826416016,
          113.44300842285156,
          115.93302917480467,
          114.67572021484376,
          111.27906036376952,
          120.87733459472656,
          115.08414459228516,
          108.8670654296875,
          106.55870056152344,
          106.6350326538086,
          107.37884521484376,
          107.32555389404295,
          107.2086181640625,
          108.57653045654295,
          110.13943481445312,
          105.56228637695312,
          109.65857696533205,
          106.61370086669922,
          106.70731353759766,
          108.30793762207033,
          106.6335678100586,
          104.11786651611328,
          103.53807067871094,
          103.920166015625,
          102.65374755859376,
          93.94216918945312,
          93.00536346435548,
          93.13265991210938,
          94.22642517089844,
          93.17401123046876,
          92.38975524902344,
          93.06321716308594,
          93.81873321533205,
          93.83309173583984,
          93.2002182006836,
          95.11865234375,
          93.66619873046876,
          92.77814483642578,
          93.86361694335938,
          94.70339965820312,
          95.14073944091795,
          94.49131774902344,
          94.8275146484375,
          97.4616928100586,
          95.72942352294922,
          93.73055267333984,
          94.87228393554688,
          94.03082275390624,
          94.59324645996094,
          93.91285705566406,
          92.7285614013672,
          94.63111877441406,
          95.9679946899414,
          93.81192779541016,
          93.47795104980467,
          93.10953521728516,
          93.52532196044922,
          95.63614654541016,
          104.2400894165039,
          99.2055435180664,
          97.61508178710938,
          94.34966278076172,
          93.94821166992188,
          92.82085418701172,
          93.7192840576172,
          94.79757690429688,
          93.58538818359376,
          93.55191802978516,
          93.69600677490234,
          94.74588012695312,
          95.566162109375,
          94.78644561767578,
          92.95027923583984,
          94.66470336914062,
          94.6863784790039,
          92.61392974853516,
          90.03211212158203,
          90.24395751953124,
          90.30267333984376,
          90.90953826904295,
          90.32354736328124,
          90.4859390258789,
          90.3100128173828,
          90.316162109375,
          89.83540344238281,
          89.95655822753906,
          89.98613739013672,
          90.63298034667967,
          90.6780014038086,
          90.50942993164062,
          91.32083129882812,
          90.56867218017578,
          90.68868255615234,
          90.48502349853516,
          90.11001586914062,
          90.05123901367188,
          90.26869201660156,
          91.24868774414062,
          90.7081527709961,
          90.09037017822266,
          90.75524139404295,
          91.0674819946289,
          90.7491455078125,
          90.49153137207033,
          90.47566223144533,
          89.9982681274414,
          90.4568328857422,
          90.67137145996094,
          90.2101821899414,
          90.3751220703125,
          90.52586364746094,
          90.676513671875,
          90.19782257080078,
          90.51229858398438,
          90.84484100341795,
          90.50099182128906,
          89.77934265136719,
          90.24472045898438,
          90.63370513916016,
          90.87808990478516,
          91.09447479248048,
          90.2364501953125,
          90.21015167236328,
          89.74853515625,
          89.97361755371094,
          89.98656463623047,
          90.08106231689452,
          89.60135650634766,
          88.85273742675781,
          89.20477294921875,
          89.06299591064453,
          89.29402923583984,
          89.19955444335938,
          91.9983367919922,
          89.40670776367188,
          89.2395248413086,
          89.23149871826172,
          89.01173400878906,
          88.83837890625,
          89.04039001464844,
          89.05854797363281,
          89.33112335205078,
          89.39254760742188,
          89.02355194091797,
          88.81035614013672,
          89.04235076904297,
          89.01795196533203,
          88.89093017578125,
          89.00714111328125,
          88.7499008178711,
          88.88578033447266,
          89.23965454101562,
          89.0693359375,
          89.45690155029297,
          89.27062225341797,
          89.28730010986328,
          89.05193328857422,
          88.9886703491211,
          89.23655700683594,
          89.29248046875,
          89.20071411132812,
          89.24853515625,
          89.07402038574219,
          88.95588684082031,
          89.01358032226562,
          89.25982666015625,
          88.75555419921875,
          88.95636749267578,
          89.18158721923828,
          88.90704345703125,
          89.11551666259766,
          89.91849517822266,
          89.0278549194336,
          89.12063598632812,
          88.88600158691406,
          88.85064697265625,
          89.03031921386719,
          88.88145446777344,
          88.68383026123047,
          88.48912811279297,
          88.45945739746094,
          88.98711395263672,
          88.69679260253906,
          88.60137176513672,
          88.63745880126953,
          88.49229431152344,
          88.44194793701172,
          88.5951156616211,
          88.5850601196289,
          88.65743255615234,
          88.38070678710938,
          88.55298614501953,
          88.50566864013672,
          88.511474609375,
          88.47048950195312,
          88.36200714111328,
          88.57470703125,
          88.58980560302734,
          88.56686401367188,
          88.72091674804688,
          89.25151824951172,
          89.06645965576172,
          88.72238159179688,
          88.2732925415039,
          88.52750396728516,
          88.60662078857422,
          88.44133758544922,
          88.3988037109375,
          88.66118621826172,
          88.43256378173828,
          88.48517608642578,
          88.55271911621094,
          88.46100616455078,
          88.54277038574219,
          88.47039031982422,
          88.5440444946289,
          88.49105072021484,
          89.04620361328125,
          88.76774597167969,
          88.46631622314453,
          88.41810607910156,
          88.60956573486328,
          88.23545837402344,
          88.32896423339844,
          88.29878997802734,
          88.32637023925781,
          88.520263671875,
          88.44264221191406,
          88.35499572753906,
          88.38343811035156,
          88.32293701171875,
          88.10234832763672,
          88.35128021240234,
          88.21508026123047,
          88.13875579833984,
          88.1825942993164,
          88.40326690673828,
          88.48800659179688,
          88.33053588867188,
          88.32185363769531,
          88.36536407470703,
          88.48489379882812,
          88.43789672851562,
          88.22320556640625,
          88.2756118774414,
          88.1134262084961,
          88.188720703125,
          88.56044006347656,
          88.1531753540039,
          88.2660140991211,
          88.19558715820312,
          88.36981964111328,
          88.20384979248047,
          88.38607788085938,
          88.06756591796875,
          88.29716491699219,
          88.258544921875,
          88.49264526367188,
          88.04711151123047,
          88.19719696044922,
          88.13882446289062,
          87.97178649902344,
          88.36994934082031,
          88.27971649169922,
          88.21251678466797,
          88.13890838623047,
          88.59320831298828,
          88.12693786621094,
          88.35405731201172,
          88.31775665283203,
          88.28074645996094,
          88.23615264892578,
          88.83747100830078,
          88.39273834228516,
          88.22406005859375,
          88.26988220214844,
          88.0239028930664,
          88.15900421142578,
          88.29612731933594,
          88.11627960205078,
          87.99632263183594,
          88.9777603149414,
          88.16555786132812,
          88.44471740722656,
          88.20903778076172,
          88.21873474121094,
          88.04254913330078,
          88.4048080444336,
          88.06391906738281,
          88.26799774169922,
          88.15354919433594,
          87.96685028076172,
          88.28302764892578,
          88.07489776611328,
          88.15379333496094,
          87.99818420410156,
          87.86376953125,
          88.12824249267578,
          88.18730926513672,
          88.20093536376953,
          88.11361694335938,
          87.9617919921875,
          88.13323211669922,
          88.03717041015625,
          88.05814361572266,
          88.11577606201172,
          87.89762115478516,
          88.11927032470703,
          88.10223388671875,
          88.2664794921875,
          88.13522338867188,
          88.24681091308594,
          87.99246215820312,
          88.12226104736328,
          88.08830261230469,
          88.32282257080078,
          88.3382797241211,
          88.20185852050781,
          87.97625732421875,
          88.23513793945312,
          89.67605590820312,
          87.9857177734375,
          88.16738891601562,
          87.9206771850586,
          88.10001373291016,
          87.99398040771484,
          87.90357971191406,
          88.57000732421875,
          88.39332580566406,
          88.36902618408203,
          88.03128814697266,
          88.1785659790039,
          87.90940856933594,
          88.02458953857422,
          87.9981918334961,
          89.00370788574219,
          88.04275512695312,
          88.01206970214844,
          87.86297607421875,
          87.86872100830078,
          87.94644927978516,
          88.04859161376953,
          87.82962799072266,
          88.13225555419922,
          87.84115600585938,
          87.97228240966797,
          87.93478393554688,
          87.86358642578125,
          88.08802032470703,
          87.9041519165039,
          88.01883697509766,
          88.86673736572266,
          88.0667953491211,
          87.87847900390625,
          88.09437561035156,
          87.9620590209961,
          87.7617416381836,
          87.91792297363281,
          88.23796844482422,
          87.96747589111328,
          87.89453887939453,
          88.43579864501953,
          88.14921569824219,
          88.00857543945312,
          87.96782684326172,
          87.87535858154297,
          87.97347259521484,
          87.97956848144531,
          88.00701904296875,
          88.00888061523438,
          88.00543212890625,
          87.976318359375,
          88.1316146850586,
          88.16802978515625,
          87.95036315917969,
          88.22077178955078,
          88.08280181884766,
          88.91230010986328,
          87.99388122558594,
          88.2229995727539,
          88.05972290039062,
          87.88935852050781,
          88.17310333251953,
          88.19580078125,
          87.9715805053711,
          88.04271697998047,
          87.96534729003906,
          87.9913558959961,
          88.21401977539062,
          88.079345703125,
          87.99073791503906,
          87.7998275756836,
          87.91537475585938,
          87.99101257324219,
          88.05174255371094,
          88.13818359375,
          87.99075317382812,
          87.94883728027344,
          88.02457427978516,
          88.03335571289062,
          88.01024627685547,
          87.91226959228516,
          88.1152572631836,
          88.00675964355469,
          87.92989349365234,
          88.20907592773438,
          87.94803619384766,
          87.92292785644531,
          88.06668853759766,
          87.8380355834961,
          87.96858978271484,
          88.05298614501953,
          88.04884338378906,
          88.00157165527344,
          88.05591583251953,
          88.19709777832031,
          87.90055847167969,
          87.84131622314453,
          87.9575424194336,
          87.98902130126953,
          87.97138214111328,
          88.06316375732422,
          88.0736312866211,
          87.84394836425781,
          88.01712036132812,
          88.07776641845703,
          88.24858856201172,
          87.99174499511719,
          88.0506362915039,
          87.76289367675781,
          88.01286315917969,
          87.99870300292969,
          87.97489166259766,
          88.21897888183594,
          88.08892059326172,
          87.84709167480469,
          88.22412109375,
          87.87750244140625,
          87.90481567382812,
          90.19344329833984,
          88.21588897705078,
          87.86006164550781,
          87.99642944335938,
          88.14542388916016,
          88.01020050048828,
          87.89013671875,
          87.90995788574219,
          87.92509460449219,
          87.83430480957031,
          87.94921112060547,
          87.84597778320312,
          87.94828033447266,
          87.8412857055664,
          87.9828872680664
         ]
        },
        {
         "mode": "lines+markers",
         "name": "Validation loss",
         "showlegend": true,
         "type": "scatter",
         "x": [
          0,
          1,
          2,
          3,
          4,
          5,
          6,
          7,
          8,
          9,
          10,
          11,
          12,
          13,
          14,
          15,
          16,
          17,
          18,
          19,
          20,
          21,
          22,
          23,
          24,
          25,
          26,
          27,
          28,
          29,
          30,
          31,
          32,
          33,
          34,
          35,
          36,
          37,
          38,
          39,
          40,
          41,
          42,
          43,
          44,
          45,
          46,
          47,
          48,
          49,
          50,
          51,
          52,
          53,
          54,
          55,
          56,
          57,
          58,
          59,
          60,
          61,
          62,
          63,
          64,
          65,
          66,
          67,
          68,
          69,
          70,
          71,
          72,
          73,
          74,
          75,
          76,
          77,
          78,
          79,
          80,
          81,
          82,
          83,
          84,
          85,
          86,
          87,
          88,
          89,
          90,
          91,
          92,
          93,
          94,
          95,
          96,
          97,
          98,
          99,
          100,
          101,
          102,
          103,
          104,
          105,
          106,
          107,
          108,
          109,
          110,
          111,
          112,
          113,
          114,
          115,
          116,
          117,
          118,
          119,
          120,
          121,
          122,
          123,
          124,
          125,
          126,
          127,
          128,
          129,
          130,
          131,
          132,
          133,
          134,
          135,
          136,
          137,
          138,
          139,
          140,
          141,
          142,
          143,
          144,
          145,
          146,
          147,
          148,
          149,
          150,
          151,
          152,
          153,
          154,
          155,
          156,
          157,
          158,
          159,
          160,
          161,
          162,
          163,
          164,
          165,
          166,
          167,
          168,
          169,
          170,
          171,
          172,
          173,
          174,
          175,
          176,
          177,
          178,
          179,
          180,
          181,
          182,
          183,
          184,
          185,
          186,
          187,
          188,
          189,
          190,
          191,
          192,
          193,
          194,
          195,
          196,
          197,
          198,
          199,
          200,
          201,
          202,
          203,
          204,
          205,
          206,
          207,
          208,
          209,
          210,
          211,
          212,
          213,
          214,
          215,
          216,
          217,
          218,
          219,
          220,
          221,
          222,
          223,
          224,
          225,
          226,
          227,
          228,
          229,
          230,
          231,
          232,
          233,
          234,
          235,
          236,
          237,
          238,
          239,
          240,
          241,
          242,
          243,
          244,
          245,
          246,
          247,
          248,
          249,
          250,
          251,
          252,
          253,
          254,
          255,
          256,
          257,
          258,
          259,
          260,
          261,
          262,
          263,
          264,
          265,
          266,
          267,
          268,
          269,
          270,
          271,
          272,
          273,
          274,
          275,
          276,
          277,
          278,
          279,
          280,
          281,
          282,
          283,
          284,
          285,
          286,
          287,
          288,
          289,
          290,
          291,
          292,
          293,
          294,
          295,
          296,
          297,
          298,
          299,
          300,
          301,
          302,
          303,
          304,
          305,
          306,
          307,
          308,
          309,
          310,
          311,
          312,
          313,
          314,
          315,
          316,
          317,
          318,
          319,
          320,
          321,
          322,
          323,
          324,
          325,
          326,
          327,
          328,
          329,
          330,
          331,
          332,
          333,
          334,
          335,
          336,
          337,
          338,
          339,
          340,
          341,
          342,
          343,
          344,
          345,
          346,
          347,
          348,
          349,
          350,
          351,
          352,
          353,
          354,
          355,
          356,
          357,
          358,
          359,
          360,
          361,
          362,
          363,
          364,
          365,
          366,
          367,
          368,
          369,
          370,
          371,
          372,
          373,
          374,
          375,
          376,
          377,
          378,
          379,
          380,
          381,
          382,
          383,
          384,
          385,
          386,
          387,
          388,
          389,
          390,
          391,
          392,
          393,
          394,
          395,
          396,
          397,
          398,
          399,
          400,
          401,
          402,
          403,
          404,
          405,
          406,
          407,
          408,
          409,
          410,
          411,
          412,
          413,
          414,
          415,
          416,
          417,
          418,
          419,
          420,
          421,
          422,
          423,
          424,
          425,
          426,
          427,
          428,
          429,
          430,
          431,
          432,
          433,
          434,
          435,
          436,
          437,
          438,
          439,
          440,
          441,
          442,
          443,
          444,
          445,
          446,
          447,
          448,
          449,
          450,
          451,
          452,
          453,
          454,
          455,
          456,
          457,
          458,
          459,
          460,
          461,
          462,
          463,
          464,
          465,
          466,
          467,
          468,
          469,
          470,
          471,
          472,
          473,
          474,
          475,
          476,
          477,
          478,
          479,
          480,
          481,
          482,
          483,
          484,
          485,
          486,
          487,
          488,
          489,
          490,
          491,
          492,
          493,
          494,
          495,
          496,
          497,
          498,
          499
         ],
         "y": [
          662.9597778320312,
          544.553955078125,
          501.4735107421875,
          401.4624633789063,
          398.2941589355469,
          563.7964477539062,
          398.9907531738281,
          351.79962158203125,
          471.8666076660156,
          372.8809814453125,
          512.2823486328125,
          354.8659362792969,
          899.8870239257812,
          348.7615661621094,
          349.9258728027344,
          475.4259643554688,
          331.2308044433594,
          379.8723754882813,
          343.3233642578125,
          517.6588745117188,
          342.5339050292969,
          376.2360534667969,
          328.8959350585937,
          418.9859924316406,
          351.9223937988281,
          404.1040649414063,
          382.23681640625,
          1005.102294921875,
          409.2304992675781,
          1295.4014892578125,
          591.3445434570312,
          697.1032104492188,
          451.93402099609375,
          382.8068237304688,
          473.4235534667969,
          689.096923828125,
          386.9932556152344,
          433.8402099609375,
          370.380615234375,
          481.7798156738281,
          899.7247314453125,
          424.9132995605469,
          395.8407287597656,
          369.1779479980469,
          528.4954833984375,
          402.0901489257813,
          374.6942138671875,
          402.522216796875,
          369.6664733886719,
          501.9966430664063,
          354.2384338378906,
          699.2860717773438,
          355.3135070800781,
          401.9464111328125,
          387.0134887695313,
          375.8924865722656,
          928.3500366210938,
          368.5116882324219,
          589.4636840820312,
          474.194580078125,
          518.3201293945312,
          430.8330993652344,
          441.54974365234375,
          436.4867248535156,
          458.4803161621094,
          350.2856750488281,
          452.4082946777344,
          361.6961975097656,
          531.6090087890625,
          377.741943359375,
          480.81488037109375,
          482.6355285644531,
          465.7124633789063,
          401.2845764160156,
          456.4337768554688,
          438.0583801269531,
          369.0790710449219,
          446.2914123535156,
          390.0294189453125,
          389.2607116699219,
          396.9158325195313,
          472.64208984375,
          409.6658935546875,
          407.0316467285156,
          355.46649169921875,
          744.5880126953125,
          419.4009704589844,
          511.2632751464844,
          396.8756103515625,
          411.0759582519531,
          444.1272583007813,
          398.9476623535156,
          406.6982727050781,
          397.4457092285156,
          421.0567626953125,
          372.28948974609375,
          385.9411315917969,
          432.361572265625,
          399.29833984375,
          363.2875061035156,
          399.2328186035156,
          381.0414733886719,
          384.2483825683594,
          370.37896728515625,
          375.146728515625,
          339.8465576171875,
          407.5972290039063,
          351.5998229980469,
          406.0068359375,
          374.1658935546875,
          357.9981994628906,
          382.69818115234375,
          363.9559631347656,
          368.2215576171875,
          447.862548828125,
          394.1901245117188,
          369.1920776367188,
          367.7351379394531,
          371.892333984375,
          396.2335815429688,
          358.6231384277344,
          374.5686340332031,
          381.6770935058594,
          371.2115173339844,
          369.5856018066406,
          375.0845947265625,
          366.1383972167969,
          373.09124755859375,
          366.9992065429688,
          371.2250671386719,
          365.71392822265625,
          355.83184814453125,
          356.37890625,
          359.1948547363281,
          355.0054626464844,
          370.2926635742188,
          350.98126220703125,
          365.5937805175781,
          362.6668395996094,
          376.45703125,
          361.5435791015625,
          361.4444885253906,
          378.6323852539063,
          369.4361877441406,
          360.6377258300781,
          361.2330322265625,
          375.8916320800781,
          368.0230712890625,
          365.5404357910156,
          357.115478515625,
          372.1851196289063,
          363.7672119140625,
          362.1491394042969,
          376.4137573242188,
          375.7692565917969,
          381.4565734863281,
          379.2529602050781,
          356.6596984863281,
          386.6904296875,
          365.4552917480469,
          356.2622375488281,
          376.5367126464844,
          366.9954223632813,
          384.85296630859375,
          353.1358337402344,
          358.99176025390625,
          362.6648254394531,
          371.9749755859375,
          359.2186889648437,
          359.4919738769531,
          370.81005859375,
          358.4627990722656,
          357.0087890625,
          367.2842712402344,
          360.1488037109375,
          363.7119140625,
          366.4942932128906,
          370.0193481445313,
          367.23345947265625,
          371.7552185058594,
          365.7598571777344,
          370.2143859863281,
          365.6904296875,
          367.0666198730469,
          373.7420959472656,
          365.9017333984375,
          363.2359008789063,
          361.18701171875,
          356.92852783203125,
          374.8421325683594,
          362.5587463378906,
          363.7031555175781,
          357.3162841796875,
          366.901123046875,
          360.3205871582031,
          363.4264526367188,
          360.3921203613281,
          363.9396057128906,
          365.9440307617188,
          364.45989990234375,
          366.5076293945313,
          362.1152648925781,
          368.031005859375,
          360.8004150390625,
          361.6373291015625,
          367.5813598632813,
          369.1051025390625,
          362.0447082519531,
          359.3708801269531,
          369.5160217285156,
          370.0596008300781,
          363.0579223632813,
          363.49700927734375,
          366.1323852539063,
          371.4415893554688,
          367.750244140625,
          372.96038818359375,
          369.7229919433594,
          364.7853698730469,
          373.6134033203125,
          361.8247985839844,
          366.2626953125,
          370.3884582519531,
          368.4360656738281,
          361.0840759277344,
          361.4922790527344,
          368.3842468261719,
          363.7623291015625,
          370.473876953125,
          371.306396484375,
          371.1149291992188,
          370.1575012207031,
          363.5169982910156,
          367.087158203125,
          369.2889404296875,
          367.9358825683594,
          363.5875854492188,
          365.3090515136719,
          363.3815002441406,
          369.21533203125,
          364.7246398925781,
          366.2206115722656,
          365.4085083007813,
          366.33056640625,
          363.4111022949219,
          362.1086120605469,
          366.1172180175781,
          368.4356994628906,
          369.9190673828125,
          365.92327880859375,
          367.9422607421875,
          368.5384521484375,
          368.3114318847656,
          366.7929992675781,
          366.40814208984375,
          365.482666015625,
          364.4308776855469,
          370.3771362304688,
          367.67572021484375,
          366.3654479980469,
          370.3849792480469,
          370.1354064941406,
          366.5754089355469,
          376.00433349609375,
          368.4988708496094,
          371.2414855957031,
          372.9128723144531,
          377.4666748046875,
          373.74615478515625,
          373.79931640625,
          370.3021545410156,
          372.891357421875,
          373.17236328125,
          372.9969787597656,
          371.1928405761719,
          375.01470947265625,
          373.5726623535156,
          369.6203308105469,
          370.6954345703125,
          371.19818115234375,
          372.4067687988281,
          370.6429748535156,
          369.0459289550781,
          368.206298828125,
          365.4259643554688,
          371.9924011230469,
          371.037841796875,
          370.1380615234375,
          371.47943115234375,
          368.9556579589844,
          372.8154296875,
          373.7939758300781,
          370.4578552246094,
          371.906982421875,
          370.06829833984375,
          370.8849182128906,
          371.1076049804688,
          373.1948852539063,
          373.4554443359375,
          369.3591918945313,
          372.2884521484375,
          373.0010070800781,
          377.4203186035156,
          378.3312683105469,
          376.882568359375,
          375.3589477539063,
          374.37347412109375,
          372.63287353515625,
          368.7545166015625,
          377.6251525878906,
          374.1931762695313,
          375.6509399414063,
          376.4152526855469,
          377.9800415039063,
          374.8516845703125,
          376.5913391113281,
          376.7189331054688,
          372.823486328125,
          374.3880615234375,
          374.6141052246094,
          376.919189453125,
          376.9040832519531,
          373.9875183105469,
          373.7747802734375,
          378.4359130859375,
          377.6147155761719,
          375.9242858886719,
          381.2071838378906,
          375.9947814941406,
          377.5633239746094,
          376.8870849609375,
          377.01068115234375,
          378.7290344238281,
          373.6183166503906,
          377.0210266113281,
          375.26995849609375,
          373.85205078125,
          377.0011901855469,
          377.9390258789063,
          375.6433715820313,
          377.7258605957031,
          375.7747497558594,
          376.4919738769531,
          377.3691101074219,
          375.0965881347656,
          379.1899108886719,
          377.6290588378906,
          378.1765747070313,
          379.3684387207031,
          379.1518859863281,
          376.2970275878906,
          374.4001770019531,
          372.7717590332031,
          378.6141357421875,
          378.3924255371094,
          376.6656494140625,
          376.3771667480469,
          375.5583801269531,
          376.9236755371094,
          376.81390380859375,
          379.0784912109375,
          376.2289123535156,
          374.8342590332031,
          375.7227478027344,
          374.3485412597656,
          375.2693786621094,
          377.6402282714844,
          377.6870727539063,
          374.5128784179688,
          376.1966552734375,
          373.9464721679688,
          378.3227844238281,
          377.0528564453125,
          375.4119262695313,
          378.7600708007813,
          376.3660888671875,
          378.7984924316406,
          380.2341003417969,
          377.7344055175781,
          377.8642272949219,
          376.4632873535156,
          378.0242004394531,
          377.8187255859375,
          377.0872497558594,
          377.3148193359375,
          378.2760925292969,
          378.8485107421875,
          375.5248718261719,
          378.1131896972656,
          374.9180603027344,
          376.4556884765625,
          377.30706787109375,
          377.964111328125,
          378.0602722167969,
          378.9229736328125,
          377.7528076171875,
          378.3076477050781,
          379.7471008300781,
          377.12103271484375,
          374.2286987304688,
          378.150146484375,
          377.6500244140625,
          378.8213806152344,
          377.75,
          379.03326416015625,
          379.8067626953125,
          377.2409362792969,
          375.78619384765625,
          376.4768676757813,
          378.3384094238281,
          375.4797058105469,
          376.687255859375,
          373.51165771484375,
          374.6361999511719,
          376.44281005859375,
          374.9793701171875,
          376.8575134277344,
          380.9902038574219,
          374.4891357421875,
          377.759033203125,
          374.9656066894531,
          375.3775024414063,
          374.9983520507813,
          373.0633544921875,
          377.4388427734375,
          375.3467712402344,
          375.7242736816406,
          378.5275573730469,
          376.7310791015625,
          375.6582946777344,
          376.7175903320313,
          378.56195068359375,
          377.5616149902344,
          376.6348876953125,
          377.2154541015625,
          376.8085632324219,
          376.1455993652344,
          376.4129028320313,
          375.8755493164063,
          376.8546447753906,
          379.1737976074219,
          381.24072265625,
          375.5238952636719,
          378.7608947753906,
          379.8381958007813,
          377.3229370117188,
          375.8733825683594,
          376.2612609863281,
          375.0521240234375,
          379.4559631347656,
          376.405517578125,
          378.3694458007813,
          378.6156311035156,
          380.3294067382813,
          376.6335754394531,
          378.324951171875,
          376.2414245605469,
          376.3748474121094,
          378.9232482910156,
          376.262451171875,
          377.82763671875,
          376.3417053222656,
          377.9062194824219,
          374.9919128417969,
          374.3299865722656,
          376.4259033203125,
          376.3416137695313,
          376.6649169921875,
          375.6858825683594,
          376.1099853515625,
          377.9768676757813,
          375.3762512207031,
          374.7278747558594,
          375.50927734375,
          377.1731872558594,
          376.6985168457031,
          376.3280029296875,
          377.4268798828125,
          376.3803405761719,
          379.6168518066406,
          376.1125793457031,
          377.8781127929688,
          376.0296325683594,
          376.9308166503906,
          380.7471618652344,
          383.6319274902344,
          377.8725891113281,
          379.147216796875,
          378.8649597167969,
          377.9703674316406,
          374.68603515625,
          378.6582336425781,
          377.2140502929688,
          377.9841613769531,
          379.38421630859375,
          376.4400939941406,
          380.47900390625,
          377.2976989746094,
          380.07122802734375,
          377.9189758300781
         ]
        }
       ],
       "layout": {
        "autosize": true,
        "font": {
         "size": 20
        },
        "template": {
         "data": {
          "bar": [
           {
            "error_x": {
             "color": "rgb(36,36,36)"
            },
            "error_y": {
             "color": "rgb(36,36,36)"
            },
            "marker": {
             "line": {
              "color": "white",
              "width": 0.5
             },
             "pattern": {
              "fillmode": "overlay",
              "size": 10,
              "solidity": 0.2
             }
            },
            "type": "bar"
           }
          ],
          "barpolar": [
           {
            "marker": {
             "line": {
              "color": "white",
              "width": 0.5
             },
             "pattern": {
              "fillmode": "overlay",
              "size": 10,
              "solidity": 0.2
             }
            },
            "type": "barpolar"
           }
          ],
          "carpet": [
           {
            "aaxis": {
             "endlinecolor": "rgb(36,36,36)",
             "gridcolor": "white",
             "linecolor": "white",
             "minorgridcolor": "white",
             "startlinecolor": "rgb(36,36,36)"
            },
            "baxis": {
             "endlinecolor": "rgb(36,36,36)",
             "gridcolor": "white",
             "linecolor": "white",
             "minorgridcolor": "white",
             "startlinecolor": "rgb(36,36,36)"
            },
            "type": "carpet"
           }
          ],
          "choropleth": [
           {
            "colorbar": {
             "outlinewidth": 1,
             "tickcolor": "rgb(36,36,36)",
             "ticks": "outside"
            },
            "type": "choropleth"
           }
          ],
          "contour": [
           {
            "colorbar": {
             "outlinewidth": 1,
             "tickcolor": "rgb(36,36,36)",
             "ticks": "outside"
            },
            "colorscale": [
             [
              0,
              "#440154"
             ],
             [
              0.1111111111111111,
              "#482878"
             ],
             [
              0.2222222222222222,
              "#3e4989"
             ],
             [
              0.3333333333333333,
              "#31688e"
             ],
             [
              0.4444444444444444,
              "#26828e"
             ],
             [
              0.5555555555555556,
              "#1f9e89"
             ],
             [
              0.6666666666666666,
              "#35b779"
             ],
             [
              0.7777777777777778,
              "#6ece58"
             ],
             [
              0.8888888888888888,
              "#b5de2b"
             ],
             [
              1,
              "#fde725"
             ]
            ],
            "type": "contour"
           }
          ],
          "contourcarpet": [
           {
            "colorbar": {
             "outlinewidth": 1,
             "tickcolor": "rgb(36,36,36)",
             "ticks": "outside"
            },
            "type": "contourcarpet"
           }
          ],
          "heatmap": [
           {
            "colorbar": {
             "outlinewidth": 1,
             "tickcolor": "rgb(36,36,36)",
             "ticks": "outside"
            },
            "colorscale": [
             [
              0,
              "#440154"
             ],
             [
              0.1111111111111111,
              "#482878"
             ],
             [
              0.2222222222222222,
              "#3e4989"
             ],
             [
              0.3333333333333333,
              "#31688e"
             ],
             [
              0.4444444444444444,
              "#26828e"
             ],
             [
              0.5555555555555556,
              "#1f9e89"
             ],
             [
              0.6666666666666666,
              "#35b779"
             ],
             [
              0.7777777777777778,
              "#6ece58"
             ],
             [
              0.8888888888888888,
              "#b5de2b"
             ],
             [
              1,
              "#fde725"
             ]
            ],
            "type": "heatmap"
           }
          ],
          "heatmapgl": [
           {
            "colorbar": {
             "outlinewidth": 1,
             "tickcolor": "rgb(36,36,36)",
             "ticks": "outside"
            },
            "colorscale": [
             [
              0,
              "#440154"
             ],
             [
              0.1111111111111111,
              "#482878"
             ],
             [
              0.2222222222222222,
              "#3e4989"
             ],
             [
              0.3333333333333333,
              "#31688e"
             ],
             [
              0.4444444444444444,
              "#26828e"
             ],
             [
              0.5555555555555556,
              "#1f9e89"
             ],
             [
              0.6666666666666666,
              "#35b779"
             ],
             [
              0.7777777777777778,
              "#6ece58"
             ],
             [
              0.8888888888888888,
              "#b5de2b"
             ],
             [
              1,
              "#fde725"
             ]
            ],
            "type": "heatmapgl"
           }
          ],
          "histogram": [
           {
            "marker": {
             "line": {
              "color": "white",
              "width": 0.6
             }
            },
            "type": "histogram"
           }
          ],
          "histogram2d": [
           {
            "colorbar": {
             "outlinewidth": 1,
             "tickcolor": "rgb(36,36,36)",
             "ticks": "outside"
            },
            "colorscale": [
             [
              0,
              "#440154"
             ],
             [
              0.1111111111111111,
              "#482878"
             ],
             [
              0.2222222222222222,
              "#3e4989"
             ],
             [
              0.3333333333333333,
              "#31688e"
             ],
             [
              0.4444444444444444,
              "#26828e"
             ],
             [
              0.5555555555555556,
              "#1f9e89"
             ],
             [
              0.6666666666666666,
              "#35b779"
             ],
             [
              0.7777777777777778,
              "#6ece58"
             ],
             [
              0.8888888888888888,
              "#b5de2b"
             ],
             [
              1,
              "#fde725"
             ]
            ],
            "type": "histogram2d"
           }
          ],
          "histogram2dcontour": [
           {
            "colorbar": {
             "outlinewidth": 1,
             "tickcolor": "rgb(36,36,36)",
             "ticks": "outside"
            },
            "colorscale": [
             [
              0,
              "#440154"
             ],
             [
              0.1111111111111111,
              "#482878"
             ],
             [
              0.2222222222222222,
              "#3e4989"
             ],
             [
              0.3333333333333333,
              "#31688e"
             ],
             [
              0.4444444444444444,
              "#26828e"
             ],
             [
              0.5555555555555556,
              "#1f9e89"
             ],
             [
              0.6666666666666666,
              "#35b779"
             ],
             [
              0.7777777777777778,
              "#6ece58"
             ],
             [
              0.8888888888888888,
              "#b5de2b"
             ],
             [
              1,
              "#fde725"
             ]
            ],
            "type": "histogram2dcontour"
           }
          ],
          "mesh3d": [
           {
            "colorbar": {
             "outlinewidth": 1,
             "tickcolor": "rgb(36,36,36)",
             "ticks": "outside"
            },
            "type": "mesh3d"
           }
          ],
          "parcoords": [
           {
            "line": {
             "colorbar": {
              "outlinewidth": 1,
              "tickcolor": "rgb(36,36,36)",
              "ticks": "outside"
             }
            },
            "type": "parcoords"
           }
          ],
          "pie": [
           {
            "automargin": true,
            "type": "pie"
           }
          ],
          "scatter": [
           {
            "fillpattern": {
             "fillmode": "overlay",
             "size": 10,
             "solidity": 0.2
            },
            "type": "scatter"
           }
          ],
          "scatter3d": [
           {
            "line": {
             "colorbar": {
              "outlinewidth": 1,
              "tickcolor": "rgb(36,36,36)",
              "ticks": "outside"
             }
            },
            "marker": {
             "colorbar": {
              "outlinewidth": 1,
              "tickcolor": "rgb(36,36,36)",
              "ticks": "outside"
             }
            },
            "type": "scatter3d"
           }
          ],
          "scattercarpet": [
           {
            "marker": {
             "colorbar": {
              "outlinewidth": 1,
              "tickcolor": "rgb(36,36,36)",
              "ticks": "outside"
             }
            },
            "type": "scattercarpet"
           }
          ],
          "scattergeo": [
           {
            "marker": {
             "colorbar": {
              "outlinewidth": 1,
              "tickcolor": "rgb(36,36,36)",
              "ticks": "outside"
             }
            },
            "type": "scattergeo"
           }
          ],
          "scattergl": [
           {
            "marker": {
             "colorbar": {
              "outlinewidth": 1,
              "tickcolor": "rgb(36,36,36)",
              "ticks": "outside"
             }
            },
            "type": "scattergl"
           }
          ],
          "scattermapbox": [
           {
            "marker": {
             "colorbar": {
              "outlinewidth": 1,
              "tickcolor": "rgb(36,36,36)",
              "ticks": "outside"
             }
            },
            "type": "scattermapbox"
           }
          ],
          "scatterpolar": [
           {
            "marker": {
             "colorbar": {
              "outlinewidth": 1,
              "tickcolor": "rgb(36,36,36)",
              "ticks": "outside"
             }
            },
            "type": "scatterpolar"
           }
          ],
          "scatterpolargl": [
           {
            "marker": {
             "colorbar": {
              "outlinewidth": 1,
              "tickcolor": "rgb(36,36,36)",
              "ticks": "outside"
             }
            },
            "type": "scatterpolargl"
           }
          ],
          "scatterternary": [
           {
            "marker": {
             "colorbar": {
              "outlinewidth": 1,
              "tickcolor": "rgb(36,36,36)",
              "ticks": "outside"
             }
            },
            "type": "scatterternary"
           }
          ],
          "surface": [
           {
            "colorbar": {
             "outlinewidth": 1,
             "tickcolor": "rgb(36,36,36)",
             "ticks": "outside"
            },
            "colorscale": [
             [
              0,
              "#440154"
             ],
             [
              0.1111111111111111,
              "#482878"
             ],
             [
              0.2222222222222222,
              "#3e4989"
             ],
             [
              0.3333333333333333,
              "#31688e"
             ],
             [
              0.4444444444444444,
              "#26828e"
             ],
             [
              0.5555555555555556,
              "#1f9e89"
             ],
             [
              0.6666666666666666,
              "#35b779"
             ],
             [
              0.7777777777777778,
              "#6ece58"
             ],
             [
              0.8888888888888888,
              "#b5de2b"
             ],
             [
              1,
              "#fde725"
             ]
            ],
            "type": "surface"
           }
          ],
          "table": [
           {
            "cells": {
             "fill": {
              "color": "rgb(237,237,237)"
             },
             "line": {
              "color": "white"
             }
            },
            "header": {
             "fill": {
              "color": "rgb(217,217,217)"
             },
             "line": {
              "color": "white"
             }
            },
            "type": "table"
           }
          ]
         },
         "layout": {
          "annotationdefaults": {
           "arrowhead": 0,
           "arrowwidth": 1
          },
          "autotypenumbers": "strict",
          "coloraxis": {
           "colorbar": {
            "outlinewidth": 1,
            "tickcolor": "rgb(36,36,36)",
            "ticks": "outside"
           }
          },
          "colorscale": {
           "diverging": [
            [
             0,
             "rgb(103,0,31)"
            ],
            [
             0.1,
             "rgb(178,24,43)"
            ],
            [
             0.2,
             "rgb(214,96,77)"
            ],
            [
             0.3,
             "rgb(244,165,130)"
            ],
            [
             0.4,
             "rgb(253,219,199)"
            ],
            [
             0.5,
             "rgb(247,247,247)"
            ],
            [
             0.6,
             "rgb(209,229,240)"
            ],
            [
             0.7,
             "rgb(146,197,222)"
            ],
            [
             0.8,
             "rgb(67,147,195)"
            ],
            [
             0.9,
             "rgb(33,102,172)"
            ],
            [
             1,
             "rgb(5,48,97)"
            ]
           ],
           "sequential": [
            [
             0,
             "#440154"
            ],
            [
             0.1111111111111111,
             "#482878"
            ],
            [
             0.2222222222222222,
             "#3e4989"
            ],
            [
             0.3333333333333333,
             "#31688e"
            ],
            [
             0.4444444444444444,
             "#26828e"
            ],
            [
             0.5555555555555556,
             "#1f9e89"
            ],
            [
             0.6666666666666666,
             "#35b779"
            ],
            [
             0.7777777777777778,
             "#6ece58"
            ],
            [
             0.8888888888888888,
             "#b5de2b"
            ],
            [
             1,
             "#fde725"
            ]
           ],
           "sequentialminus": [
            [
             0,
             "#440154"
            ],
            [
             0.1111111111111111,
             "#482878"
            ],
            [
             0.2222222222222222,
             "#3e4989"
            ],
            [
             0.3333333333333333,
             "#31688e"
            ],
            [
             0.4444444444444444,
             "#26828e"
            ],
            [
             0.5555555555555556,
             "#1f9e89"
            ],
            [
             0.6666666666666666,
             "#35b779"
            ],
            [
             0.7777777777777778,
             "#6ece58"
            ],
            [
             0.8888888888888888,
             "#b5de2b"
            ],
            [
             1,
             "#fde725"
            ]
           ]
          },
          "colorway": [
           "#1F77B4",
           "#FF7F0E",
           "#2CA02C",
           "#D62728",
           "#9467BD",
           "#8C564B",
           "#E377C2",
           "#7F7F7F",
           "#BCBD22",
           "#17BECF"
          ],
          "font": {
           "color": "rgb(36,36,36)"
          },
          "geo": {
           "bgcolor": "white",
           "lakecolor": "white",
           "landcolor": "white",
           "showlakes": true,
           "showland": true,
           "subunitcolor": "white"
          },
          "hoverlabel": {
           "align": "left"
          },
          "hovermode": "closest",
          "mapbox": {
           "style": "light"
          },
          "paper_bgcolor": "white",
          "plot_bgcolor": "white",
          "polar": {
           "angularaxis": {
            "gridcolor": "rgb(232,232,232)",
            "linecolor": "rgb(36,36,36)",
            "showgrid": false,
            "showline": true,
            "ticks": "outside"
           },
           "bgcolor": "white",
           "radialaxis": {
            "gridcolor": "rgb(232,232,232)",
            "linecolor": "rgb(36,36,36)",
            "showgrid": false,
            "showline": true,
            "ticks": "outside"
           }
          },
          "scene": {
           "xaxis": {
            "backgroundcolor": "white",
            "gridcolor": "rgb(232,232,232)",
            "gridwidth": 2,
            "linecolor": "rgb(36,36,36)",
            "showbackground": true,
            "showgrid": false,
            "showline": true,
            "ticks": "outside",
            "zeroline": false,
            "zerolinecolor": "rgb(36,36,36)"
           },
           "yaxis": {
            "backgroundcolor": "white",
            "gridcolor": "rgb(232,232,232)",
            "gridwidth": 2,
            "linecolor": "rgb(36,36,36)",
            "showbackground": true,
            "showgrid": false,
            "showline": true,
            "ticks": "outside",
            "zeroline": false,
            "zerolinecolor": "rgb(36,36,36)"
           },
           "zaxis": {
            "backgroundcolor": "white",
            "gridcolor": "rgb(232,232,232)",
            "gridwidth": 2,
            "linecolor": "rgb(36,36,36)",
            "showbackground": true,
            "showgrid": false,
            "showline": true,
            "ticks": "outside",
            "zeroline": false,
            "zerolinecolor": "rgb(36,36,36)"
           }
          },
          "shapedefaults": {
           "fillcolor": "black",
           "line": {
            "width": 0
           },
           "opacity": 0.3
          },
          "ternary": {
           "aaxis": {
            "gridcolor": "rgb(232,232,232)",
            "linecolor": "rgb(36,36,36)",
            "showgrid": false,
            "showline": true,
            "ticks": "outside"
           },
           "baxis": {
            "gridcolor": "rgb(232,232,232)",
            "linecolor": "rgb(36,36,36)",
            "showgrid": false,
            "showline": true,
            "ticks": "outside"
           },
           "bgcolor": "white",
           "caxis": {
            "gridcolor": "rgb(232,232,232)",
            "linecolor": "rgb(36,36,36)",
            "showgrid": false,
            "showline": true,
            "ticks": "outside"
           }
          },
          "title": {
           "x": 0.05
          },
          "xaxis": {
           "automargin": true,
           "gridcolor": "rgb(232,232,232)",
           "linecolor": "rgb(36,36,36)",
           "showgrid": false,
           "showline": true,
           "ticks": "outside",
           "title": {
            "standoff": 15
           },
           "zeroline": false,
           "zerolinecolor": "rgb(36,36,36)"
          },
          "yaxis": {
           "automargin": true,
           "gridcolor": "rgb(232,232,232)",
           "linecolor": "rgb(36,36,36)",
           "showgrid": false,
           "showline": true,
           "ticks": "outside",
           "title": {
            "standoff": 15
           },
           "zeroline": false,
           "zerolinecolor": "rgb(36,36,36)"
          }
         }
        },
        "xaxis": {
         "showgrid": false,
         "title": {
          "text": "Epoch"
         }
        },
        "yaxis": {
         "showgrid": false
        }
       }
      }
     },
     "metadata": {},
     "output_type": "display_data"
    }
   ],
   "source": [
    "lr_val = go.Scatter(\n",
    "    x=df_lr_epochs_first.index,\n",
    "    y=df_lr_epochs_first[\"val/loss/shg_tensor_full\"],\n",
    "    mode=\"lines+markers\",\n",
    "    name=\"Validation loss\",\n",
    "    showlegend=True,\n",
    ")\n",
    "lr_train = go.Scatter(\n",
    "    x=df_lr_epochs_second.index,\n",
    "    y=df_lr_epochs_second[\"train/loss/shg_tensor_full\"],\n",
    "    mode=\"lines+markers\",\n",
    "    name=\"Train loss\",\n",
    "    showlegend=True,\n",
    ")\n",
    "\n",
    "# Layout\n",
    "layout = go.Layout(\n",
    "    # title=dict(text='Scatter Plot'),\n",
    "    xaxis=dict(title=\"Epoch\"),\n",
    "    # yaxis=dict(title='<i>d&#770;</i><sub>KP</sub> (pm/V)', range=[-5,180]),\n",
    "    # legend=dict(font=dict(size=12)),\n",
    ")\n",
    "\n",
    "# Create figure\n",
    "fig = go.Figure(data=[lr_train, lr_val], layout=layout)\n",
    "\n",
    "fig.update_layout(\n",
    "    autosize=True,\n",
    "    font_size=20,\n",
    "    # width=600,\n",
    "    # height=600,\n",
    "    # plot_bgcolor=\"white\",\n",
    "    template=\"simple_white\",\n",
    ")\n",
    "fig.update_layout(\n",
    "    xaxis=dict(\n",
    "        # tickmode = 'array',\n",
    "        # tickvals = [1, 2,3,4,5,6,7,8],\n",
    "        # ticktext = ['One', 'Three', 'Five', 'Seven', 'Nine', 'Eleven']\n",
    "        showgrid=False,\n",
    "    ),\n",
    "    yaxis=dict(\n",
    "        # tickmode = 'array',\n",
    "        # tickvals = [1, 2,3,4,5,6,7,8],\n",
    "        # ticktext = ['One', 'Three', 'Five', 'Seven', 'Nine', 'Eleven']\n",
    "        showgrid=False,\n",
    "    ),\n",
    ")\n",
    "\n",
    "# Show figure\n",
    "fig.show()"
   ]
  },
  {
   "cell_type": "markdown",
   "metadata": {},
   "source": [
    "## MAE"
   ]
  },
  {
   "cell_type": "code",
   "execution_count": 8,
   "metadata": {},
   "outputs": [
    {
     "data": {
      "application/vnd.plotly.v1+json": {
       "config": {
        "plotlyServerURL": "https://plot.ly"
       },
       "data": [
        {
         "mode": "lines+markers",
         "name": "Validation loss",
         "showlegend": true,
         "type": "scatter",
         "x": [
          0,
          1,
          2,
          3,
          4,
          5,
          6,
          7,
          8,
          9,
          10,
          11,
          12,
          13,
          14,
          15,
          16,
          17,
          18,
          19,
          20,
          21,
          22,
          23,
          24,
          25,
          26,
          27,
          28,
          29,
          30,
          31,
          32,
          33,
          34,
          35,
          36,
          37,
          38,
          39,
          40,
          41,
          42,
          43,
          44,
          45,
          46,
          47,
          48,
          49,
          50,
          51,
          52,
          53,
          54,
          55,
          56,
          57,
          58,
          59,
          60,
          61,
          62,
          63,
          64,
          65,
          66,
          67,
          68,
          69,
          70,
          71,
          72,
          73,
          74,
          75,
          76,
          77,
          78,
          79,
          80,
          81,
          82,
          83,
          84,
          85,
          86,
          87,
          88,
          89,
          90,
          91,
          92,
          93,
          94,
          95,
          96,
          97,
          98,
          99,
          100,
          101,
          102,
          103,
          104,
          105,
          106,
          107,
          108,
          109,
          110,
          111,
          112,
          113,
          114,
          115,
          116,
          117,
          118,
          119,
          120,
          121,
          122,
          123,
          124,
          125,
          126,
          127,
          128,
          129,
          130,
          131,
          132,
          133,
          134,
          135,
          136,
          137,
          138,
          139,
          140,
          141,
          142,
          143,
          144,
          145,
          146,
          147,
          148,
          149,
          150,
          151,
          152,
          153,
          154,
          155,
          156,
          157,
          158,
          159,
          160,
          161,
          162,
          163,
          164,
          165,
          166,
          167,
          168,
          169,
          170,
          171,
          172,
          173,
          174,
          175,
          176,
          177,
          178,
          179,
          180,
          181,
          182,
          183,
          184,
          185,
          186,
          187,
          188,
          189,
          190,
          191,
          192,
          193,
          194,
          195,
          196,
          197,
          198,
          199,
          200,
          201,
          202,
          203,
          204,
          205,
          206,
          207,
          208,
          209,
          210,
          211,
          212,
          213,
          214,
          215,
          216,
          217,
          218,
          219,
          220,
          221,
          222,
          223,
          224,
          225,
          226,
          227,
          228,
          229,
          230,
          231,
          232,
          233,
          234,
          235,
          236,
          237,
          238,
          239,
          240,
          241,
          242,
          243,
          244,
          245,
          246,
          247,
          248,
          249,
          250,
          251,
          252,
          253,
          254,
          255,
          256,
          257,
          258,
          259,
          260,
          261,
          262,
          263,
          264,
          265,
          266,
          267,
          268,
          269,
          270,
          271,
          272,
          273,
          274,
          275,
          276,
          277,
          278,
          279,
          280,
          281,
          282,
          283,
          284,
          285,
          286,
          287,
          288,
          289,
          290,
          291,
          292,
          293,
          294,
          295,
          296,
          297,
          298,
          299,
          300,
          301,
          302,
          303,
          304,
          305,
          306,
          307,
          308,
          309,
          310,
          311,
          312,
          313,
          314,
          315,
          316,
          317,
          318,
          319,
          320,
          321,
          322,
          323,
          324,
          325,
          326,
          327,
          328,
          329,
          330,
          331,
          332,
          333,
          334,
          335,
          336,
          337,
          338,
          339,
          340,
          341,
          342,
          343,
          344,
          345,
          346,
          347,
          348,
          349,
          350,
          351,
          352,
          353,
          354,
          355,
          356,
          357,
          358,
          359,
          360,
          361,
          362,
          363,
          364,
          365,
          366,
          367,
          368,
          369,
          370,
          371,
          372,
          373,
          374,
          375,
          376,
          377,
          378,
          379,
          380,
          381,
          382,
          383,
          384,
          385,
          386,
          387,
          388,
          389,
          390,
          391,
          392,
          393,
          394,
          395,
          396,
          397,
          398,
          399,
          400,
          401,
          402,
          403,
          404,
          405,
          406,
          407,
          408,
          409,
          410,
          411,
          412,
          413,
          414,
          415,
          416,
          417,
          418,
          419,
          420,
          421,
          422,
          423,
          424,
          425,
          426,
          427,
          428,
          429,
          430,
          431,
          432,
          433,
          434,
          435,
          436,
          437,
          438,
          439,
          440,
          441,
          442,
          443,
          444,
          445,
          446,
          447,
          448,
          449,
          450,
          451,
          452,
          453,
          454,
          455,
          456,
          457,
          458,
          459,
          460,
          461,
          462,
          463,
          464,
          465,
          466,
          467,
          468,
          469,
          470,
          471,
          472,
          473,
          474,
          475,
          476,
          477,
          478,
          479,
          480,
          481,
          482,
          483,
          484,
          485,
          486,
          487,
          488,
          489,
          490,
          491,
          492,
          493,
          494,
          495,
          496,
          497,
          498,
          499
         ],
         "y": [
          5.36484432220459,
          4.81169319152832,
          4.723546981811523,
          4.638741970062256,
          4.299440860748291,
          4.81178092956543,
          4.476724147796631,
          4.223696708679199,
          4.769724845886231,
          4.330703258514404,
          4.7969255447387695,
          4.334288120269775,
          5.0671491622924805,
          4.349361419677734,
          4.221612930297852,
          4.679605484008789,
          4.161773204803467,
          4.440479755401611,
          4.136595249176025,
          4.602602005004883,
          4.178339958190918,
          4.470040321350098,
          4.153445720672607,
          4.502971172332764,
          4.345658779144287,
          4.452116966247559,
          4.39927864074707,
          5.339714050292969,
          4.578065872192383,
          5.448949813842773,
          4.974305629730225,
          5.156557083129883,
          4.695080757141113,
          4.480623722076416,
          4.718734264373779,
          5.177804470062256,
          4.490918159484863,
          4.7771735191345215,
          4.455514907836914,
          4.792840003967285,
          5.127659797668457,
          4.7779741287231445,
          4.621367931365967,
          4.502766132354736,
          4.872524261474609,
          4.586195468902588,
          4.528604030609131,
          4.528379917144775,
          4.498082637786865,
          4.689929485321045,
          4.309342384338379,
          5.145947456359863,
          4.447433948516846,
          4.601336479187012,
          4.555443286895752,
          4.498120307922363,
          5.236631870269775,
          4.345218658447266,
          5.115647792816162,
          4.796597957611084,
          4.807046890258789,
          4.63251543045044,
          4.576622009277344,
          4.609458923339844,
          4.712843894958496,
          4.3114824295043945,
          4.718710899353027,
          4.394395351409912,
          4.692956447601318,
          4.428043842315674,
          4.7071967124938965,
          4.747854232788086,
          4.767678260803223,
          4.572556018829346,
          4.753170490264893,
          4.634263515472412,
          4.396974086761475,
          4.648574352264404,
          4.465328216552734,
          4.508048057556152,
          4.56056547164917,
          4.747827529907227,
          4.567590236663818,
          4.579177379608154,
          4.35521411895752,
          5.161417007446289,
          4.657754421234131,
          4.900480270385742,
          4.549918174743652,
          4.599579811096191,
          4.6714301109313965,
          4.529172420501709,
          4.601076602935791,
          4.517161846160889,
          4.673413276672363,
          4.42637300491333,
          4.527222633361816,
          4.67543363571167,
          4.506242752075195,
          4.371547222137451,
          4.592519760131836,
          4.490278244018555,
          4.488570690155029,
          4.393925189971924,
          4.372655868530273,
          4.223232746124268,
          4.58336877822876,
          4.282528877258301,
          4.501905918121338,
          4.414490222930908,
          4.297197818756104,
          4.422884941101074,
          4.3829026222229,
          4.357224464416504,
          4.638227462768555,
          4.559197425842285,
          4.410606861114502,
          4.36603593826294,
          4.356910228729248,
          4.496586799621582,
          4.3567399978637695,
          4.457914352416992,
          4.454308032989502,
          4.389703273773193,
          4.414112567901611,
          4.453691005706787,
          4.398493766784668,
          4.434067249298096,
          4.403327941894531,
          4.448645114898682,
          4.38357400894165,
          4.372194290161133,
          4.351585865020752,
          4.395552158355713,
          4.368347644805908,
          4.43582010269165,
          4.3816094398498535,
          4.405377388000488,
          4.436934471130371,
          4.47332763671875,
          4.415348529815674,
          4.437150001525879,
          4.422574043273926,
          4.434783458709717,
          4.3912672996521,
          4.439499855041504,
          4.506893634796143,
          4.479641914367676,
          4.442445278167725,
          4.385616302490234,
          4.4933061599731445,
          4.456989288330078,
          4.454549789428711,
          4.527494430541992,
          4.508553504943848,
          4.551947593688965,
          4.4988322257995605,
          4.415786743164063,
          4.555257320404053,
          4.458032608032227,
          4.417855739593506,
          4.515237808227539,
          4.474305629730225,
          4.536350727081299,
          4.383616924285889,
          4.424811363220215,
          4.405013561248779,
          4.49444055557251,
          4.392437934875488,
          4.4470648765563965,
          4.468507289886475,
          4.474517345428467,
          4.426399230957031,
          4.456228733062744,
          4.416945934295654,
          4.447789669036865,
          4.443466663360596,
          4.467790126800537,
          4.466765403747559,
          4.435866355895996,
          4.455051898956299,
          4.482785224914551,
          4.486713409423828,
          4.4895548820495605,
          4.507453918457031,
          4.4764838218688965,
          4.481689453125,
          4.459836483001709,
          4.456164360046387,
          4.514925003051758,
          4.447434425354004,
          4.465974807739258,
          4.452239036560059,
          4.473511695861816,
          4.466882228851318,
          4.46754789352417,
          4.451054573059082,
          4.499667644500732,
          4.476071357727051,
          4.473826408386231,
          4.49617862701416,
          4.480430603027344,
          4.499141216278076,
          4.46740198135376,
          4.468517780303955,
          4.50229549407959,
          4.520062446594238,
          4.450210094451904,
          4.453605175018311,
          4.491033554077148,
          4.499981880187988,
          4.482062339782715,
          4.503978729248047,
          4.504296779632568,
          4.524990081787109,
          4.503562450408936,
          4.501322746276856,
          4.488361835479736,
          4.477047443389893,
          4.502974987030029,
          4.4759626388549805,
          4.50421142578125,
          4.496765613555908,
          4.506343364715576,
          4.459471702575684,
          4.466070652008057,
          4.495079040527344,
          4.488957405090332,
          4.500943183898926,
          4.547204494476318,
          4.513952255249023,
          4.523780345916748,
          4.484778881072998,
          4.495579719543457,
          4.4964447021484375,
          4.493063926696777,
          4.4823079109191895,
          4.496249675750732,
          4.478626251220703,
          4.510743141174316,
          4.4900336265563965,
          4.49469804763794,
          4.494911193847656,
          4.50336217880249,
          4.4917988777160645,
          4.476569652557373,
          4.4890666007995605,
          4.515176773071289,
          4.540370941162109,
          4.50943660736084,
          4.511544704437256,
          4.519549369812012,
          4.506696224212647,
          4.48217248916626,
          4.496617794036865,
          4.506990432739258,
          4.514955997467041,
          4.515262603759766,
          4.532685279846191,
          4.5199809074401855,
          4.520347595214844,
          4.5395917892456055,
          4.505750179290772,
          4.524919033050537,
          4.52382230758667,
          4.559621334075928,
          4.559238910675049,
          4.5545334815979,
          4.549580097198486,
          4.546023845672607,
          4.531351089477539,
          4.536811351776123,
          4.524158000946045,
          4.518487930297852,
          4.514199256896973,
          4.532156944274902,
          4.535163402557373,
          4.53203010559082,
          4.525267601013184,
          4.531925201416016,
          4.532683372497559,
          4.526057720184326,
          4.528481483459473,
          4.52878999710083,
          4.515596389770508,
          4.534478664398193,
          4.535581111907959,
          4.530054569244385,
          4.533341407775879,
          4.5286407470703125,
          4.535825252532959,
          4.529284954071045,
          4.514949798583984,
          4.530335426330566,
          4.510749816894531,
          4.521546840667725,
          4.530324935913086,
          4.535397052764893,
          4.533154010772705,
          4.529355525970459,
          4.527556419372559,
          4.548630714416504,
          4.541659355163574,
          4.567578315734863,
          4.554070472717285,
          4.556384086608887,
          4.548546314239502,
          4.5439453125,
          4.516955852508545,
          4.548354625701904,
          4.538112163543701,
          4.558694839477539,
          4.547582626342773,
          4.557732105255127,
          4.5543622970581055,
          4.558540344238281,
          4.561527252197266,
          4.553974151611328,
          4.560664653778076,
          4.549657821655273,
          4.566221237182617,
          4.555131435394287,
          4.538755893707275,
          4.549436092376709,
          4.545534610748291,
          4.556934833526611,
          4.551517009735107,
          4.542917251586914,
          4.553908824920654,
          4.5745344161987305,
          4.556049823760986,
          4.55596399307251,
          4.550851345062256,
          4.5704522132873535,
          4.546555519104004,
          4.544862270355225,
          4.546375751495361,
          4.555742740631104,
          4.570356845855713,
          4.564760208129883,
          4.548862457275391,
          4.554502964019775,
          4.553081035614014,
          4.555254459381104,
          4.548023223876953,
          4.563787460327148,
          4.551325798034668,
          4.558350563049316,
          4.573615074157715,
          4.566727161407471,
          4.558762550354004,
          4.5344414710998535,
          4.536803245544434,
          4.55523681640625,
          4.55525016784668,
          4.551816463470459,
          4.547573566436768,
          4.544275760650635,
          4.543514728546143,
          4.551013469696045,
          4.565444946289063,
          4.553181171417236,
          4.541812896728516,
          4.539717674255371,
          4.565067768096924,
          4.549383640289307,
          4.5484466552734375,
          4.572282791137695,
          4.550073146820068,
          4.548751354217529,
          4.560466766357422,
          4.552305698394775,
          4.567206859588623,
          4.556775093078613,
          4.575517654418945,
          4.551156997680664,
          4.574353694915772,
          4.5811767578125,
          4.596149921417236,
          4.564453601837158,
          4.560462474822998,
          4.577595233917236,
          4.566401481628418,
          4.5664896965026855,
          4.566731452941895,
          4.567521095275879,
          4.566062450408936,
          4.552204132080078,
          4.566511154174805,
          4.554189682006836,
          4.565720081329346,
          4.568535327911377,
          4.564375877380371,
          4.556423664093018,
          4.571888446807861,
          4.562222003936768,
          4.569047927856445,
          4.543850898742676,
          4.553709030151367,
          4.559107780456543,
          4.576032161712647,
          4.555139064788818,
          4.564737796783447,
          4.559134006500244,
          4.555863857269287,
          4.575016975402832,
          4.5694260597229,
          4.557114601135254,
          4.573696136474609,
          4.581537246704102,
          4.5499138832092285,
          4.563501358032227,
          4.57453727722168,
          4.561056137084961,
          4.550063133239746,
          4.558369159698486,
          4.567965030670166,
          4.5744829177856445,
          4.5457444190979,
          4.574169158935547,
          4.558064937591553,
          4.557880401611328,
          4.546584129333496,
          4.533941745758057,
          4.561731815338135,
          4.562810897827148,
          4.55609130859375,
          4.546152591705322,
          4.5592193603515625,
          4.561016082763672,
          4.554234981536865,
          4.562077045440674,
          4.574685096740723,
          4.574869632720947,
          4.560534954071045,
          4.562730312347412,
          4.565329074859619,
          4.556506633758545,
          4.546939849853516,
          4.558532238006592,
          4.576953411102295,
          4.570881843566895,
          4.552036285400391,
          4.564906120300293,
          4.591804504394531,
          4.589930534362793,
          4.56073522567749,
          4.554904460906982,
          4.556833744049072,
          4.572932243347168,
          4.567967891693115,
          4.572544574737549,
          4.580925941467285,
          4.563965797424316,
          4.559035301208496,
          4.578136920928955,
          4.551809310913086,
          4.560319423675537,
          4.574280261993408,
          4.555080413818359,
          4.588476657867432,
          4.551809787750244,
          4.564631462097168,
          4.554823398590088,
          4.556519985198975,
          4.561541557312012,
          4.563730239868164,
          4.544493675231934,
          4.544956684112549,
          4.551034927368164,
          4.5626630783081055,
          4.556796550750732,
          4.559698581695557,
          4.562533855438232,
          4.554551601409912,
          4.548339366912842,
          4.553305149078369,
          4.543994426727295,
          4.5663580894470215,
          4.575101375579834,
          4.551310062408447,
          4.559569835662842,
          4.545814037322998,
          4.567290782928467,
          4.568608283996582,
          4.56897497177124,
          4.567982196807861,
          4.564517974853516,
          4.554409980773926,
          4.563111305236816,
          4.560872077941895,
          4.582301139831543,
          4.592524528503418,
          4.56225061416626,
          4.5760931968688965,
          4.552967071533203,
          4.58199405670166,
          4.572776794433594,
          4.565302848815918,
          4.571001529693604
         ]
        }
       ],
       "layout": {
        "autosize": true,
        "font": {
         "size": 20
        },
        "template": {
         "data": {
          "bar": [
           {
            "error_x": {
             "color": "rgb(36,36,36)"
            },
            "error_y": {
             "color": "rgb(36,36,36)"
            },
            "marker": {
             "line": {
              "color": "white",
              "width": 0.5
             },
             "pattern": {
              "fillmode": "overlay",
              "size": 10,
              "solidity": 0.2
             }
            },
            "type": "bar"
           }
          ],
          "barpolar": [
           {
            "marker": {
             "line": {
              "color": "white",
              "width": 0.5
             },
             "pattern": {
              "fillmode": "overlay",
              "size": 10,
              "solidity": 0.2
             }
            },
            "type": "barpolar"
           }
          ],
          "carpet": [
           {
            "aaxis": {
             "endlinecolor": "rgb(36,36,36)",
             "gridcolor": "white",
             "linecolor": "white",
             "minorgridcolor": "white",
             "startlinecolor": "rgb(36,36,36)"
            },
            "baxis": {
             "endlinecolor": "rgb(36,36,36)",
             "gridcolor": "white",
             "linecolor": "white",
             "minorgridcolor": "white",
             "startlinecolor": "rgb(36,36,36)"
            },
            "type": "carpet"
           }
          ],
          "choropleth": [
           {
            "colorbar": {
             "outlinewidth": 1,
             "tickcolor": "rgb(36,36,36)",
             "ticks": "outside"
            },
            "type": "choropleth"
           }
          ],
          "contour": [
           {
            "colorbar": {
             "outlinewidth": 1,
             "tickcolor": "rgb(36,36,36)",
             "ticks": "outside"
            },
            "colorscale": [
             [
              0,
              "#440154"
             ],
             [
              0.1111111111111111,
              "#482878"
             ],
             [
              0.2222222222222222,
              "#3e4989"
             ],
             [
              0.3333333333333333,
              "#31688e"
             ],
             [
              0.4444444444444444,
              "#26828e"
             ],
             [
              0.5555555555555556,
              "#1f9e89"
             ],
             [
              0.6666666666666666,
              "#35b779"
             ],
             [
              0.7777777777777778,
              "#6ece58"
             ],
             [
              0.8888888888888888,
              "#b5de2b"
             ],
             [
              1,
              "#fde725"
             ]
            ],
            "type": "contour"
           }
          ],
          "contourcarpet": [
           {
            "colorbar": {
             "outlinewidth": 1,
             "tickcolor": "rgb(36,36,36)",
             "ticks": "outside"
            },
            "type": "contourcarpet"
           }
          ],
          "heatmap": [
           {
            "colorbar": {
             "outlinewidth": 1,
             "tickcolor": "rgb(36,36,36)",
             "ticks": "outside"
            },
            "colorscale": [
             [
              0,
              "#440154"
             ],
             [
              0.1111111111111111,
              "#482878"
             ],
             [
              0.2222222222222222,
              "#3e4989"
             ],
             [
              0.3333333333333333,
              "#31688e"
             ],
             [
              0.4444444444444444,
              "#26828e"
             ],
             [
              0.5555555555555556,
              "#1f9e89"
             ],
             [
              0.6666666666666666,
              "#35b779"
             ],
             [
              0.7777777777777778,
              "#6ece58"
             ],
             [
              0.8888888888888888,
              "#b5de2b"
             ],
             [
              1,
              "#fde725"
             ]
            ],
            "type": "heatmap"
           }
          ],
          "heatmapgl": [
           {
            "colorbar": {
             "outlinewidth": 1,
             "tickcolor": "rgb(36,36,36)",
             "ticks": "outside"
            },
            "colorscale": [
             [
              0,
              "#440154"
             ],
             [
              0.1111111111111111,
              "#482878"
             ],
             [
              0.2222222222222222,
              "#3e4989"
             ],
             [
              0.3333333333333333,
              "#31688e"
             ],
             [
              0.4444444444444444,
              "#26828e"
             ],
             [
              0.5555555555555556,
              "#1f9e89"
             ],
             [
              0.6666666666666666,
              "#35b779"
             ],
             [
              0.7777777777777778,
              "#6ece58"
             ],
             [
              0.8888888888888888,
              "#b5de2b"
             ],
             [
              1,
              "#fde725"
             ]
            ],
            "type": "heatmapgl"
           }
          ],
          "histogram": [
           {
            "marker": {
             "line": {
              "color": "white",
              "width": 0.6
             }
            },
            "type": "histogram"
           }
          ],
          "histogram2d": [
           {
            "colorbar": {
             "outlinewidth": 1,
             "tickcolor": "rgb(36,36,36)",
             "ticks": "outside"
            },
            "colorscale": [
             [
              0,
              "#440154"
             ],
             [
              0.1111111111111111,
              "#482878"
             ],
             [
              0.2222222222222222,
              "#3e4989"
             ],
             [
              0.3333333333333333,
              "#31688e"
             ],
             [
              0.4444444444444444,
              "#26828e"
             ],
             [
              0.5555555555555556,
              "#1f9e89"
             ],
             [
              0.6666666666666666,
              "#35b779"
             ],
             [
              0.7777777777777778,
              "#6ece58"
             ],
             [
              0.8888888888888888,
              "#b5de2b"
             ],
             [
              1,
              "#fde725"
             ]
            ],
            "type": "histogram2d"
           }
          ],
          "histogram2dcontour": [
           {
            "colorbar": {
             "outlinewidth": 1,
             "tickcolor": "rgb(36,36,36)",
             "ticks": "outside"
            },
            "colorscale": [
             [
              0,
              "#440154"
             ],
             [
              0.1111111111111111,
              "#482878"
             ],
             [
              0.2222222222222222,
              "#3e4989"
             ],
             [
              0.3333333333333333,
              "#31688e"
             ],
             [
              0.4444444444444444,
              "#26828e"
             ],
             [
              0.5555555555555556,
              "#1f9e89"
             ],
             [
              0.6666666666666666,
              "#35b779"
             ],
             [
              0.7777777777777778,
              "#6ece58"
             ],
             [
              0.8888888888888888,
              "#b5de2b"
             ],
             [
              1,
              "#fde725"
             ]
            ],
            "type": "histogram2dcontour"
           }
          ],
          "mesh3d": [
           {
            "colorbar": {
             "outlinewidth": 1,
             "tickcolor": "rgb(36,36,36)",
             "ticks": "outside"
            },
            "type": "mesh3d"
           }
          ],
          "parcoords": [
           {
            "line": {
             "colorbar": {
              "outlinewidth": 1,
              "tickcolor": "rgb(36,36,36)",
              "ticks": "outside"
             }
            },
            "type": "parcoords"
           }
          ],
          "pie": [
           {
            "automargin": true,
            "type": "pie"
           }
          ],
          "scatter": [
           {
            "fillpattern": {
             "fillmode": "overlay",
             "size": 10,
             "solidity": 0.2
            },
            "type": "scatter"
           }
          ],
          "scatter3d": [
           {
            "line": {
             "colorbar": {
              "outlinewidth": 1,
              "tickcolor": "rgb(36,36,36)",
              "ticks": "outside"
             }
            },
            "marker": {
             "colorbar": {
              "outlinewidth": 1,
              "tickcolor": "rgb(36,36,36)",
              "ticks": "outside"
             }
            },
            "type": "scatter3d"
           }
          ],
          "scattercarpet": [
           {
            "marker": {
             "colorbar": {
              "outlinewidth": 1,
              "tickcolor": "rgb(36,36,36)",
              "ticks": "outside"
             }
            },
            "type": "scattercarpet"
           }
          ],
          "scattergeo": [
           {
            "marker": {
             "colorbar": {
              "outlinewidth": 1,
              "tickcolor": "rgb(36,36,36)",
              "ticks": "outside"
             }
            },
            "type": "scattergeo"
           }
          ],
          "scattergl": [
           {
            "marker": {
             "colorbar": {
              "outlinewidth": 1,
              "tickcolor": "rgb(36,36,36)",
              "ticks": "outside"
             }
            },
            "type": "scattergl"
           }
          ],
          "scattermapbox": [
           {
            "marker": {
             "colorbar": {
              "outlinewidth": 1,
              "tickcolor": "rgb(36,36,36)",
              "ticks": "outside"
             }
            },
            "type": "scattermapbox"
           }
          ],
          "scatterpolar": [
           {
            "marker": {
             "colorbar": {
              "outlinewidth": 1,
              "tickcolor": "rgb(36,36,36)",
              "ticks": "outside"
             }
            },
            "type": "scatterpolar"
           }
          ],
          "scatterpolargl": [
           {
            "marker": {
             "colorbar": {
              "outlinewidth": 1,
              "tickcolor": "rgb(36,36,36)",
              "ticks": "outside"
             }
            },
            "type": "scatterpolargl"
           }
          ],
          "scatterternary": [
           {
            "marker": {
             "colorbar": {
              "outlinewidth": 1,
              "tickcolor": "rgb(36,36,36)",
              "ticks": "outside"
             }
            },
            "type": "scatterternary"
           }
          ],
          "surface": [
           {
            "colorbar": {
             "outlinewidth": 1,
             "tickcolor": "rgb(36,36,36)",
             "ticks": "outside"
            },
            "colorscale": [
             [
              0,
              "#440154"
             ],
             [
              0.1111111111111111,
              "#482878"
             ],
             [
              0.2222222222222222,
              "#3e4989"
             ],
             [
              0.3333333333333333,
              "#31688e"
             ],
             [
              0.4444444444444444,
              "#26828e"
             ],
             [
              0.5555555555555556,
              "#1f9e89"
             ],
             [
              0.6666666666666666,
              "#35b779"
             ],
             [
              0.7777777777777778,
              "#6ece58"
             ],
             [
              0.8888888888888888,
              "#b5de2b"
             ],
             [
              1,
              "#fde725"
             ]
            ],
            "type": "surface"
           }
          ],
          "table": [
           {
            "cells": {
             "fill": {
              "color": "rgb(237,237,237)"
             },
             "line": {
              "color": "white"
             }
            },
            "header": {
             "fill": {
              "color": "rgb(217,217,217)"
             },
             "line": {
              "color": "white"
             }
            },
            "type": "table"
           }
          ]
         },
         "layout": {
          "annotationdefaults": {
           "arrowhead": 0,
           "arrowwidth": 1
          },
          "autotypenumbers": "strict",
          "coloraxis": {
           "colorbar": {
            "outlinewidth": 1,
            "tickcolor": "rgb(36,36,36)",
            "ticks": "outside"
           }
          },
          "colorscale": {
           "diverging": [
            [
             0,
             "rgb(103,0,31)"
            ],
            [
             0.1,
             "rgb(178,24,43)"
            ],
            [
             0.2,
             "rgb(214,96,77)"
            ],
            [
             0.3,
             "rgb(244,165,130)"
            ],
            [
             0.4,
             "rgb(253,219,199)"
            ],
            [
             0.5,
             "rgb(247,247,247)"
            ],
            [
             0.6,
             "rgb(209,229,240)"
            ],
            [
             0.7,
             "rgb(146,197,222)"
            ],
            [
             0.8,
             "rgb(67,147,195)"
            ],
            [
             0.9,
             "rgb(33,102,172)"
            ],
            [
             1,
             "rgb(5,48,97)"
            ]
           ],
           "sequential": [
            [
             0,
             "#440154"
            ],
            [
             0.1111111111111111,
             "#482878"
            ],
            [
             0.2222222222222222,
             "#3e4989"
            ],
            [
             0.3333333333333333,
             "#31688e"
            ],
            [
             0.4444444444444444,
             "#26828e"
            ],
            [
             0.5555555555555556,
             "#1f9e89"
            ],
            [
             0.6666666666666666,
             "#35b779"
            ],
            [
             0.7777777777777778,
             "#6ece58"
            ],
            [
             0.8888888888888888,
             "#b5de2b"
            ],
            [
             1,
             "#fde725"
            ]
           ],
           "sequentialminus": [
            [
             0,
             "#440154"
            ],
            [
             0.1111111111111111,
             "#482878"
            ],
            [
             0.2222222222222222,
             "#3e4989"
            ],
            [
             0.3333333333333333,
             "#31688e"
            ],
            [
             0.4444444444444444,
             "#26828e"
            ],
            [
             0.5555555555555556,
             "#1f9e89"
            ],
            [
             0.6666666666666666,
             "#35b779"
            ],
            [
             0.7777777777777778,
             "#6ece58"
            ],
            [
             0.8888888888888888,
             "#b5de2b"
            ],
            [
             1,
             "#fde725"
            ]
           ]
          },
          "colorway": [
           "#1F77B4",
           "#FF7F0E",
           "#2CA02C",
           "#D62728",
           "#9467BD",
           "#8C564B",
           "#E377C2",
           "#7F7F7F",
           "#BCBD22",
           "#17BECF"
          ],
          "font": {
           "color": "rgb(36,36,36)"
          },
          "geo": {
           "bgcolor": "white",
           "lakecolor": "white",
           "landcolor": "white",
           "showlakes": true,
           "showland": true,
           "subunitcolor": "white"
          },
          "hoverlabel": {
           "align": "left"
          },
          "hovermode": "closest",
          "mapbox": {
           "style": "light"
          },
          "paper_bgcolor": "white",
          "plot_bgcolor": "white",
          "polar": {
           "angularaxis": {
            "gridcolor": "rgb(232,232,232)",
            "linecolor": "rgb(36,36,36)",
            "showgrid": false,
            "showline": true,
            "ticks": "outside"
           },
           "bgcolor": "white",
           "radialaxis": {
            "gridcolor": "rgb(232,232,232)",
            "linecolor": "rgb(36,36,36)",
            "showgrid": false,
            "showline": true,
            "ticks": "outside"
           }
          },
          "scene": {
           "xaxis": {
            "backgroundcolor": "white",
            "gridcolor": "rgb(232,232,232)",
            "gridwidth": 2,
            "linecolor": "rgb(36,36,36)",
            "showbackground": true,
            "showgrid": false,
            "showline": true,
            "ticks": "outside",
            "zeroline": false,
            "zerolinecolor": "rgb(36,36,36)"
           },
           "yaxis": {
            "backgroundcolor": "white",
            "gridcolor": "rgb(232,232,232)",
            "gridwidth": 2,
            "linecolor": "rgb(36,36,36)",
            "showbackground": true,
            "showgrid": false,
            "showline": true,
            "ticks": "outside",
            "zeroline": false,
            "zerolinecolor": "rgb(36,36,36)"
           },
           "zaxis": {
            "backgroundcolor": "white",
            "gridcolor": "rgb(232,232,232)",
            "gridwidth": 2,
            "linecolor": "rgb(36,36,36)",
            "showbackground": true,
            "showgrid": false,
            "showline": true,
            "ticks": "outside",
            "zeroline": false,
            "zerolinecolor": "rgb(36,36,36)"
           }
          },
          "shapedefaults": {
           "fillcolor": "black",
           "line": {
            "width": 0
           },
           "opacity": 0.3
          },
          "ternary": {
           "aaxis": {
            "gridcolor": "rgb(232,232,232)",
            "linecolor": "rgb(36,36,36)",
            "showgrid": false,
            "showline": true,
            "ticks": "outside"
           },
           "baxis": {
            "gridcolor": "rgb(232,232,232)",
            "linecolor": "rgb(36,36,36)",
            "showgrid": false,
            "showline": true,
            "ticks": "outside"
           },
           "bgcolor": "white",
           "caxis": {
            "gridcolor": "rgb(232,232,232)",
            "linecolor": "rgb(36,36,36)",
            "showgrid": false,
            "showline": true,
            "ticks": "outside"
           }
          },
          "title": {
           "x": 0.05
          },
          "xaxis": {
           "automargin": true,
           "gridcolor": "rgb(232,232,232)",
           "linecolor": "rgb(36,36,36)",
           "showgrid": false,
           "showline": true,
           "ticks": "outside",
           "title": {
            "standoff": 15
           },
           "zeroline": false,
           "zerolinecolor": "rgb(36,36,36)"
          },
          "yaxis": {
           "automargin": true,
           "gridcolor": "rgb(232,232,232)",
           "linecolor": "rgb(36,36,36)",
           "showgrid": false,
           "showline": true,
           "ticks": "outside",
           "title": {
            "standoff": 15
           },
           "zeroline": false,
           "zerolinecolor": "rgb(36,36,36)"
          }
         }
        },
        "xaxis": {
         "showgrid": false,
         "title": {
          "text": "Epoch"
         }
        },
        "yaxis": {
         "showgrid": false,
         "title": {
          "text": "MAE (pm/V)"
         }
        }
       }
      }
     },
     "metadata": {},
     "output_type": "display_data"
    }
   ],
   "source": [
    "lr_val = go.Scatter(\n",
    "    x=df_lr_epochs_first.index,\n",
    "    y=df_lr_epochs_first[\"metric_val/MeanAbsoluteError/shg_tensor_full\"],\n",
    "    mode=\"lines+markers\",\n",
    "    name=\"Validation loss\",\n",
    "    showlegend=True,\n",
    ")\n",
    "\n",
    "# Layout\n",
    "layout = go.Layout(\n",
    "    # title=dict(text='Scatter Plot'),\n",
    "    xaxis=dict(title=\"Epoch\"),\n",
    "    yaxis=dict(title=\"MAE (pm/V)\"),\n",
    "    # legend=dict(font=dict(size=12)),\n",
    ")\n",
    "\n",
    "# Create figure\n",
    "fig = go.Figure(data=[lr_val], layout=layout)\n",
    "\n",
    "fig.update_layout(\n",
    "    autosize=True,\n",
    "    font_size=20,\n",
    "    # width=600,\n",
    "    # height=600,\n",
    "    # plot_bgcolor=\"white\",\n",
    "    template=\"simple_white\",\n",
    ")\n",
    "fig.update_layout(\n",
    "    xaxis=dict(\n",
    "        # tickmode = 'array',\n",
    "        # tickvals = [1, 2,3,4,5,6,7,8],\n",
    "        # ticktext = ['One', 'Three', 'Five', 'Seven', 'Nine', 'Eleven']\n",
    "        showgrid=False,\n",
    "    ),\n",
    "    yaxis=dict(\n",
    "        # tickmode = 'array',\n",
    "        # tickvals = [1, 2,3,4,5,6,7,8],\n",
    "        # ticktext = ['One', 'Three', 'Five', 'Seven', 'Nine', 'Eleven']\n",
    "        showgrid=False,\n",
    "    ),\n",
    ")\n",
    "\n",
    "# Show figure\n",
    "fig.show()"
   ]
  },
  {
   "cell_type": "markdown",
   "metadata": {},
   "source": [
    "# Errors on dijk"
   ]
  },
  {
   "cell_type": "code",
   "execution_count": 9,
   "metadata": {},
   "outputs": [
    {
     "name": "stdout",
     "output_type": "stream",
     "text": [
      "27.850491517943713\n"
     ]
    }
   ],
   "source": [
    "list_fronorm = []  # = sqrt(sum(sqrd))/nb_nonzero\n",
    "for ir, r in df_pred_matten.iterrows():\n",
    "    dijk_orig = shg.from_voigt(df_orig.loc[ir][\"dijk_full_neum\"])\n",
    "    dijk_matten = shg.from_voigt(r[\"dijk_matten\"])\n",
    "    if np.count_nonzero(dijk_orig) == 0:\n",
    "        continue\n",
    "    t = dijk_orig - dijk_matten\n",
    "    list_fronorm.append(np.linalg.norm(t))\n",
    "print(np.mean(list_fronorm))"
   ]
  },
  {
   "cell_type": "code",
   "execution_count": 10,
   "metadata": {},
   "outputs": [
    {
     "name": "stdout",
     "output_type": "stream",
     "text": [
      "3.151488548594864\n"
     ]
    }
   ],
   "source": [
    "list_fronorm = []  # = sqrt(sum(sqrd))/nb_nonzero\n",
    "for ir, r in df_pred_matten.iterrows():\n",
    "    dijk_orig = shg.from_voigt(df_orig.loc[ir][\"dijk_full_neum\"])\n",
    "    dijk_matten = shg.from_voigt(r[\"dijk_matten\"])\n",
    "    if np.count_nonzero(dijk_orig) == 0:\n",
    "        continue\n",
    "    list_fronorm.append(\n",
    "        np.linalg.norm(dijk_orig - dijk_matten) / np.count_nonzero(dijk_orig)\n",
    "    )\n",
    "print(np.mean(list_fronorm))"
   ]
  },
  {
   "cell_type": "markdown",
   "metadata": {},
   "source": [
    "## Errors on dijk masked"
   ]
  },
  {
   "cell_type": "code",
   "execution_count": 11,
   "metadata": {},
   "outputs": [
    {
     "name": "stdout",
     "output_type": "stream",
     "text": [
      "27.741180600222044\n"
     ]
    }
   ],
   "source": [
    "# masked\n",
    "list_fronorm = []  # = sqrt(sum(sqrd))\n",
    "for ir, r in df_pred_matten.iterrows():\n",
    "    dijk_orig = shg.from_voigt(df_orig.loc[ir][\"dijk_full_neum\"])\n",
    "    dijk_matten = shg.from_voigt(r[\"dijk_matten\"])\n",
    "    dijk_matten = np.where(dijk_orig != 0, dijk_matten, 0)\n",
    "    if np.count_nonzero(dijk_orig) == 0:\n",
    "        continue\n",
    "    t = dijk_orig - dijk_matten\n",
    "    list_fronorm.append(np.linalg.norm(t))\n",
    "print(np.mean(list_fronorm))"
   ]
  },
  {
   "cell_type": "code",
   "execution_count": 12,
   "metadata": {},
   "outputs": [
    {
     "name": "stdout",
     "output_type": "stream",
     "text": [
      "3.137278647779327\n"
     ]
    }
   ],
   "source": [
    "list_fronorm = []  # = sqrt(sum(sqrd))/nb_nonzero\n",
    "for ir, r in df_pred_matten.iterrows():\n",
    "    dijk_orig = shg.from_voigt(df_orig.loc[ir][\"dijk_full_neum\"])\n",
    "    dijk_matten = shg.from_voigt(r[\"dijk_matten\"])\n",
    "    dijk_matten = np.where(dijk_orig != 0, dijk_matten, 0)\n",
    "    if np.count_nonzero(dijk_orig) == 0:\n",
    "        continue\n",
    "    t = dijk_orig - dijk_matten\n",
    "    list_fronorm.append(\n",
    "        np.linalg.norm(dijk_orig - dijk_matten) / np.count_nonzero(dijk_orig)\n",
    "    )\n",
    "print(np.mean(list_fronorm))"
   ]
  },
  {
   "cell_type": "markdown",
   "metadata": {},
   "source": [
    "# Errors on dKP"
   ]
  },
  {
   "cell_type": "code",
   "execution_count": 13,
   "metadata": {},
   "outputs": [
    {
     "name": "stdout",
     "output_type": "stream",
     "text": [
      "MAE = 7.317150981253159\n",
      "MAPE = 5.495031524563235\n",
      "RMSE = 19.053817917209322\n",
      "Rho_sp = 0.8211551459293394\n"
     ]
    },
    {
     "data": {
      "application/vnd.plotly.v1+json": {
       "config": {
        "plotlyServerURL": "https://plot.ly"
       },
       "data": [
        {
         "mode": "markers",
         "name": "",
         "showlegend": false,
         "text": [
          "agm001266143",
          "agm002018585",
          "agm002056302",
          "agm002072309",
          "agm002073755",
          "agm002074655",
          "agm002077911",
          "agm002079795",
          "agm002091778",
          "agm002097562",
          "agm002128787",
          "agm002137965",
          "agm002149208",
          "agm002153716",
          "agm002156258",
          "agm002156599",
          "agm002186848",
          "agm002190330",
          "agm002224787",
          "agm002225219",
          "agm002233061",
          "agm002254137",
          "agm002336867",
          "agm002848041",
          "agm003160584",
          "agm003202330",
          "agm003204906",
          "agm003464867",
          "agm003612680",
          "agm003713453",
          "agm003743952",
          "agm004786105",
          "agm004947354",
          "agm004951594",
          "agm004958126",
          "agm005112928",
          "agm005539186",
          "agm005605704",
          "agm005769288",
          "agm005882580",
          "agm005955873",
          "agm006056059",
          "agm1000019508",
          "agm2000011039",
          "agm2000016398",
          "agm2000084944",
          "agm2000085596",
          "agm2000128632",
          "agm2000145156",
          "mp-1019889",
          "mp-1023936",
          "mp-1029408",
          "mp-1029652",
          "mp-1029932",
          "mp-1078049",
          "mp-1184796",
          "mp-1189731",
          "mp-1195571",
          "mp-1208039",
          "mp-1215615",
          "mp-1217830",
          "mp-1218158",
          "mp-1219293",
          "mp-1219501",
          "mp-1220818",
          "mp-1222496",
          "mp-1222565",
          "mp-1222661",
          "mp-1223489",
          "mp-1224376",
          "mp-1226863",
          "mp-1227512",
          "mp-1227993",
          "mp-1227994",
          "mp-1228522",
          "mp-1228745",
          "mp-14568",
          "mp-17066",
          "mp-17207",
          "mp-21521",
          "mp-23280",
          "mp-23363",
          "mp-23794",
          "mp-27316",
          "mp-27914",
          "mp-27987",
          "mp-28089",
          "mp-28473",
          "mp-29155",
          "mp-29524",
          "mp-32959",
          "mp-33723",
          "mp-36779",
          "mp-504908",
          "mp-504910",
          "mp-542931",
          "mp-550959",
          "mp-552663",
          "mp-554002",
          "mp-556719",
          "mp-559065",
          "mp-559373",
          "mp-559961",
          "mp-560521",
          "mp-560588",
          "mp-560699",
          "mp-561664",
          "mp-567246",
          "mp-568328",
          "mp-568802",
          "mp-570213",
          "mp-571195",
          "mp-6126",
          "mp-672158",
          "mp-685097",
          "mp-753401",
          "mp-756570",
          "mp-761842",
          "mp-769218",
          "mp-774907",
          "mp-8673",
          "mp-985293",
          "mp-997027",
          "mp-998230",
          "mp-998591"
         ],
         "type": "scatter",
         "x": [
          43.968530914559544,
          54.6912292348329,
          3.4142465412794816,
          4.32418733114614,
          0.7788232618052845,
          3.7228595616256026,
          12.832633060146621,
          1.1708441498882223,
          0.2783258415331899,
          0.34842903614392196,
          9.858569970196434,
          0.6487480606321404,
          0.10231253569172748,
          0.8144675798809927,
          0.6697039819612798,
          1.8024461459341663,
          79.4768634175712,
          15.892256694829985,
          7.0744998779788295,
          14.507992538982233,
          7.16194207642384,
          149.9275761804818,
          152.98293104417633,
          0.08344883276158094,
          90.79203620782998,
          25.223716035364323,
          11.37286913043258,
          12.750065071693525,
          1.2633783503178502,
          4.5442349171249825,
          0.14019029396151453,
          51.10264335435639,
          9.426151519815113,
          7.752634454484365,
          2.309893558248592,
          4.642317400928152,
          11.758299411626162,
          33.282363081997445,
          4.794806642978556,
          8.573937669458696,
          0.3751102312697991,
          0.11321990699399173,
          0.1593103431074272,
          0.3006290156208269,
          0.005829952858059599,
          0.049863181733714665,
          0.06715360500489441,
          0.06453354090037837,
          0.012591937323744707,
          0.17102515912585783,
          3.0591929560011626,
          9.690848200484714,
          3.8881581044576814,
          31.20313037881622,
          17.407042488042737,
          0.14218505611295798,
          0.14517743143654102,
          0.15312458218171773,
          0.9608928044838883,
          23.854101232501012,
          2.5747644325051726,
          2.679311404714401,
          0.2946553434582469,
          19.0123736304027,
          1.7072913685526085,
          0.14926792790511195,
          0.5592838068452768,
          41.53962348277774,
          0.16583889893944992,
          21.48443104444253,
          0.43425712087376206,
          27.27617983506982,
          15.879312359111916,
          2.3722891448775867,
          6.088427426823999,
          8.900296735559502,
          0.05693700562131313,
          0.08069039549892627,
          17.716498953291016,
          7.525570950107779,
          0.10452602745853683,
          0.010129295197848578,
          0.3089031851104004,
          0.09656095502735947,
          0.10739522408833391,
          1.9273729064654526,
          2.7748029778490784,
          0.40370523077325804,
          4.085505620629653,
          0.44036346173538204,
          1.2622156296146276,
          29.918324472872094,
          2.4159273472732505,
          0.56674092610356,
          2.296502866313475,
          0.7157653778102706,
          7.8015261446332955,
          1.1163863903846039,
          0.5056199893193122,
          1.6713697870620894,
          6.497969001348536,
          0.9893111430406292,
          0.7254527988278862,
          0.24777052816539916,
          28.66905184837226,
          0.8428103858348076,
          0.8595041527708492,
          0.3758466546966247,
          56.27826460907506,
          47.75126434935444,
          132.69232469789213,
          102.53669239046302,
          2.733238270650939,
          0.5680124185482882,
          4.319626625691693,
          2.1579374947092145,
          14.05313916159886,
          0.7386538601299635,
          60.60976637012658,
          2.5363166888008384,
          6.7202651069153765,
          0.16018299858273644,
          10.160940417235814,
          5.730294993730515,
          9.06165842559303
         ],
         "y": [
          53.384081500391474,
          20.338900289137708,
          4.054909750546746,
          0.4874338800941643,
          1.9540808851109668,
          4.577086588193808,
          14.041175804085297,
          3.5963587074479197,
          3.82983189092939,
          1.1129180742812417,
          19.017006653570952,
          2.8557865550514774,
          1.529334037112782,
          0.5489308725231098,
          2.1716010581004745,
          3.504585351051589,
          54.57754755781868,
          8.827955915452021,
          5.1738519899806255,
          14.99536188485833,
          7.03470484253694,
          80.57018619961639,
          125.18346938890613,
          0.8183184212373483,
          26.21638583123787,
          4.648671607771289,
          14.719866667054422,
          17.59811182227849,
          1.7379202137726426,
          3.1835004998493033,
          0.6138894412656971,
          43.205970351274104,
          2.7047722221772736,
          7.947908480484567,
          2.1189952456056393,
          1.9784118272365228,
          5.1901241696563565,
          34.11174865403164,
          1.5881398213366316,
          2.0425841753936886,
          1.5648756751172619,
          4.133042815155211,
          0.8684604388653174,
          1.611176145872367,
          1.638922857746403,
          0.6347527626302307,
          3.93325881020514,
          1.254501977615218,
          0.43161297981703467,
          1.8479139206752664,
          6.18180532988079,
          8.295739194511388,
          2.327440683701804,
          12.263554730323163,
          17.326494015907368,
          1.1736607332162423,
          0.7898920808656084,
          0.35435710088555866,
          1.6721310871075985,
          20.659484925608055,
          6.740284305269442,
          6.303372452248507,
          3.566697453810383,
          13.118478964267752,
          5.834338510865032,
          1.8955411136265246,
          0.9688013830732994,
          23.326555973599003,
          1.3215689059439668,
          19.14420446187876,
          2.1263220099313274,
          14.427959919023772,
          16.26393284254002,
          3.700763225890667,
          7.787530689261666,
          10.592311014052072,
          1.2922400616952756,
          0.34338426644786507,
          7.95397342262907,
          2.5507085079306853,
          0.693552046451893,
          0.05969403142010533,
          0.6395562976630731,
          0.5145043832506137,
          1.3163944915743688,
          2.6851442565721233,
          7.540869094613343,
          2.0594312421942313,
          4.051954544544032,
          1.181887315625367,
          2.511237642418977,
          25.459173250902797,
          1.842187943031024,
          0.6505099741440133,
          7.415719155711025,
          1.7241163324335727,
          8.302915143103455,
          4.194078131394295,
          2.696842858234372,
          2.5095938466285914,
          4.264485432959873,
          3.955657527633503,
          0.025795101494620373,
          1.6543111545873117,
          3.8580543500274347,
          1.2051506309985025,
          0.2715651139856623,
          0.06263534921026767,
          4.051279115071861,
          12.444535328305525,
          7.397967071383246,
          7.5630773606174735,
          2.7892816151658075,
          0.9568317379735596,
          1.0491800985505058,
          2.9781084670845446,
          3.1635311969929902,
          2.2611408419381496,
          14.915212973066192,
          4.832903694976548,
          10.077847880775478,
          1.6344570103900036,
          2.2610830076539714,
          5.388690727999076,
          9.234417533284361
         ]
        },
        {
         "line": {
          "color": "gray",
          "dash": "dot"
         },
         "mode": "lines",
         "showlegend": false,
         "type": "scatter",
         "x": [
          -1,
          200
         ],
         "y": [
          -1,
          200
         ]
        }
       ],
       "layout": {
        "autosize": false,
        "font": {
         "size": 20
        },
        "height": 600,
        "template": {
         "data": {
          "bar": [
           {
            "error_x": {
             "color": "rgb(36,36,36)"
            },
            "error_y": {
             "color": "rgb(36,36,36)"
            },
            "marker": {
             "line": {
              "color": "white",
              "width": 0.5
             },
             "pattern": {
              "fillmode": "overlay",
              "size": 10,
              "solidity": 0.2
             }
            },
            "type": "bar"
           }
          ],
          "barpolar": [
           {
            "marker": {
             "line": {
              "color": "white",
              "width": 0.5
             },
             "pattern": {
              "fillmode": "overlay",
              "size": 10,
              "solidity": 0.2
             }
            },
            "type": "barpolar"
           }
          ],
          "carpet": [
           {
            "aaxis": {
             "endlinecolor": "rgb(36,36,36)",
             "gridcolor": "white",
             "linecolor": "white",
             "minorgridcolor": "white",
             "startlinecolor": "rgb(36,36,36)"
            },
            "baxis": {
             "endlinecolor": "rgb(36,36,36)",
             "gridcolor": "white",
             "linecolor": "white",
             "minorgridcolor": "white",
             "startlinecolor": "rgb(36,36,36)"
            },
            "type": "carpet"
           }
          ],
          "choropleth": [
           {
            "colorbar": {
             "outlinewidth": 1,
             "tickcolor": "rgb(36,36,36)",
             "ticks": "outside"
            },
            "type": "choropleth"
           }
          ],
          "contour": [
           {
            "colorbar": {
             "outlinewidth": 1,
             "tickcolor": "rgb(36,36,36)",
             "ticks": "outside"
            },
            "colorscale": [
             [
              0,
              "#440154"
             ],
             [
              0.1111111111111111,
              "#482878"
             ],
             [
              0.2222222222222222,
              "#3e4989"
             ],
             [
              0.3333333333333333,
              "#31688e"
             ],
             [
              0.4444444444444444,
              "#26828e"
             ],
             [
              0.5555555555555556,
              "#1f9e89"
             ],
             [
              0.6666666666666666,
              "#35b779"
             ],
             [
              0.7777777777777778,
              "#6ece58"
             ],
             [
              0.8888888888888888,
              "#b5de2b"
             ],
             [
              1,
              "#fde725"
             ]
            ],
            "type": "contour"
           }
          ],
          "contourcarpet": [
           {
            "colorbar": {
             "outlinewidth": 1,
             "tickcolor": "rgb(36,36,36)",
             "ticks": "outside"
            },
            "type": "contourcarpet"
           }
          ],
          "heatmap": [
           {
            "colorbar": {
             "outlinewidth": 1,
             "tickcolor": "rgb(36,36,36)",
             "ticks": "outside"
            },
            "colorscale": [
             [
              0,
              "#440154"
             ],
             [
              0.1111111111111111,
              "#482878"
             ],
             [
              0.2222222222222222,
              "#3e4989"
             ],
             [
              0.3333333333333333,
              "#31688e"
             ],
             [
              0.4444444444444444,
              "#26828e"
             ],
             [
              0.5555555555555556,
              "#1f9e89"
             ],
             [
              0.6666666666666666,
              "#35b779"
             ],
             [
              0.7777777777777778,
              "#6ece58"
             ],
             [
              0.8888888888888888,
              "#b5de2b"
             ],
             [
              1,
              "#fde725"
             ]
            ],
            "type": "heatmap"
           }
          ],
          "heatmapgl": [
           {
            "colorbar": {
             "outlinewidth": 1,
             "tickcolor": "rgb(36,36,36)",
             "ticks": "outside"
            },
            "colorscale": [
             [
              0,
              "#440154"
             ],
             [
              0.1111111111111111,
              "#482878"
             ],
             [
              0.2222222222222222,
              "#3e4989"
             ],
             [
              0.3333333333333333,
              "#31688e"
             ],
             [
              0.4444444444444444,
              "#26828e"
             ],
             [
              0.5555555555555556,
              "#1f9e89"
             ],
             [
              0.6666666666666666,
              "#35b779"
             ],
             [
              0.7777777777777778,
              "#6ece58"
             ],
             [
              0.8888888888888888,
              "#b5de2b"
             ],
             [
              1,
              "#fde725"
             ]
            ],
            "type": "heatmapgl"
           }
          ],
          "histogram": [
           {
            "marker": {
             "line": {
              "color": "white",
              "width": 0.6
             }
            },
            "type": "histogram"
           }
          ],
          "histogram2d": [
           {
            "colorbar": {
             "outlinewidth": 1,
             "tickcolor": "rgb(36,36,36)",
             "ticks": "outside"
            },
            "colorscale": [
             [
              0,
              "#440154"
             ],
             [
              0.1111111111111111,
              "#482878"
             ],
             [
              0.2222222222222222,
              "#3e4989"
             ],
             [
              0.3333333333333333,
              "#31688e"
             ],
             [
              0.4444444444444444,
              "#26828e"
             ],
             [
              0.5555555555555556,
              "#1f9e89"
             ],
             [
              0.6666666666666666,
              "#35b779"
             ],
             [
              0.7777777777777778,
              "#6ece58"
             ],
             [
              0.8888888888888888,
              "#b5de2b"
             ],
             [
              1,
              "#fde725"
             ]
            ],
            "type": "histogram2d"
           }
          ],
          "histogram2dcontour": [
           {
            "colorbar": {
             "outlinewidth": 1,
             "tickcolor": "rgb(36,36,36)",
             "ticks": "outside"
            },
            "colorscale": [
             [
              0,
              "#440154"
             ],
             [
              0.1111111111111111,
              "#482878"
             ],
             [
              0.2222222222222222,
              "#3e4989"
             ],
             [
              0.3333333333333333,
              "#31688e"
             ],
             [
              0.4444444444444444,
              "#26828e"
             ],
             [
              0.5555555555555556,
              "#1f9e89"
             ],
             [
              0.6666666666666666,
              "#35b779"
             ],
             [
              0.7777777777777778,
              "#6ece58"
             ],
             [
              0.8888888888888888,
              "#b5de2b"
             ],
             [
              1,
              "#fde725"
             ]
            ],
            "type": "histogram2dcontour"
           }
          ],
          "mesh3d": [
           {
            "colorbar": {
             "outlinewidth": 1,
             "tickcolor": "rgb(36,36,36)",
             "ticks": "outside"
            },
            "type": "mesh3d"
           }
          ],
          "parcoords": [
           {
            "line": {
             "colorbar": {
              "outlinewidth": 1,
              "tickcolor": "rgb(36,36,36)",
              "ticks": "outside"
             }
            },
            "type": "parcoords"
           }
          ],
          "pie": [
           {
            "automargin": true,
            "type": "pie"
           }
          ],
          "scatter": [
           {
            "fillpattern": {
             "fillmode": "overlay",
             "size": 10,
             "solidity": 0.2
            },
            "type": "scatter"
           }
          ],
          "scatter3d": [
           {
            "line": {
             "colorbar": {
              "outlinewidth": 1,
              "tickcolor": "rgb(36,36,36)",
              "ticks": "outside"
             }
            },
            "marker": {
             "colorbar": {
              "outlinewidth": 1,
              "tickcolor": "rgb(36,36,36)",
              "ticks": "outside"
             }
            },
            "type": "scatter3d"
           }
          ],
          "scattercarpet": [
           {
            "marker": {
             "colorbar": {
              "outlinewidth": 1,
              "tickcolor": "rgb(36,36,36)",
              "ticks": "outside"
             }
            },
            "type": "scattercarpet"
           }
          ],
          "scattergeo": [
           {
            "marker": {
             "colorbar": {
              "outlinewidth": 1,
              "tickcolor": "rgb(36,36,36)",
              "ticks": "outside"
             }
            },
            "type": "scattergeo"
           }
          ],
          "scattergl": [
           {
            "marker": {
             "colorbar": {
              "outlinewidth": 1,
              "tickcolor": "rgb(36,36,36)",
              "ticks": "outside"
             }
            },
            "type": "scattergl"
           }
          ],
          "scattermapbox": [
           {
            "marker": {
             "colorbar": {
              "outlinewidth": 1,
              "tickcolor": "rgb(36,36,36)",
              "ticks": "outside"
             }
            },
            "type": "scattermapbox"
           }
          ],
          "scatterpolar": [
           {
            "marker": {
             "colorbar": {
              "outlinewidth": 1,
              "tickcolor": "rgb(36,36,36)",
              "ticks": "outside"
             }
            },
            "type": "scatterpolar"
           }
          ],
          "scatterpolargl": [
           {
            "marker": {
             "colorbar": {
              "outlinewidth": 1,
              "tickcolor": "rgb(36,36,36)",
              "ticks": "outside"
             }
            },
            "type": "scatterpolargl"
           }
          ],
          "scatterternary": [
           {
            "marker": {
             "colorbar": {
              "outlinewidth": 1,
              "tickcolor": "rgb(36,36,36)",
              "ticks": "outside"
             }
            },
            "type": "scatterternary"
           }
          ],
          "surface": [
           {
            "colorbar": {
             "outlinewidth": 1,
             "tickcolor": "rgb(36,36,36)",
             "ticks": "outside"
            },
            "colorscale": [
             [
              0,
              "#440154"
             ],
             [
              0.1111111111111111,
              "#482878"
             ],
             [
              0.2222222222222222,
              "#3e4989"
             ],
             [
              0.3333333333333333,
              "#31688e"
             ],
             [
              0.4444444444444444,
              "#26828e"
             ],
             [
              0.5555555555555556,
              "#1f9e89"
             ],
             [
              0.6666666666666666,
              "#35b779"
             ],
             [
              0.7777777777777778,
              "#6ece58"
             ],
             [
              0.8888888888888888,
              "#b5de2b"
             ],
             [
              1,
              "#fde725"
             ]
            ],
            "type": "surface"
           }
          ],
          "table": [
           {
            "cells": {
             "fill": {
              "color": "rgb(237,237,237)"
             },
             "line": {
              "color": "white"
             }
            },
            "header": {
             "fill": {
              "color": "rgb(217,217,217)"
             },
             "line": {
              "color": "white"
             }
            },
            "type": "table"
           }
          ]
         },
         "layout": {
          "annotationdefaults": {
           "arrowhead": 0,
           "arrowwidth": 1
          },
          "autotypenumbers": "strict",
          "coloraxis": {
           "colorbar": {
            "outlinewidth": 1,
            "tickcolor": "rgb(36,36,36)",
            "ticks": "outside"
           }
          },
          "colorscale": {
           "diverging": [
            [
             0,
             "rgb(103,0,31)"
            ],
            [
             0.1,
             "rgb(178,24,43)"
            ],
            [
             0.2,
             "rgb(214,96,77)"
            ],
            [
             0.3,
             "rgb(244,165,130)"
            ],
            [
             0.4,
             "rgb(253,219,199)"
            ],
            [
             0.5,
             "rgb(247,247,247)"
            ],
            [
             0.6,
             "rgb(209,229,240)"
            ],
            [
             0.7,
             "rgb(146,197,222)"
            ],
            [
             0.8,
             "rgb(67,147,195)"
            ],
            [
             0.9,
             "rgb(33,102,172)"
            ],
            [
             1,
             "rgb(5,48,97)"
            ]
           ],
           "sequential": [
            [
             0,
             "#440154"
            ],
            [
             0.1111111111111111,
             "#482878"
            ],
            [
             0.2222222222222222,
             "#3e4989"
            ],
            [
             0.3333333333333333,
             "#31688e"
            ],
            [
             0.4444444444444444,
             "#26828e"
            ],
            [
             0.5555555555555556,
             "#1f9e89"
            ],
            [
             0.6666666666666666,
             "#35b779"
            ],
            [
             0.7777777777777778,
             "#6ece58"
            ],
            [
             0.8888888888888888,
             "#b5de2b"
            ],
            [
             1,
             "#fde725"
            ]
           ],
           "sequentialminus": [
            [
             0,
             "#440154"
            ],
            [
             0.1111111111111111,
             "#482878"
            ],
            [
             0.2222222222222222,
             "#3e4989"
            ],
            [
             0.3333333333333333,
             "#31688e"
            ],
            [
             0.4444444444444444,
             "#26828e"
            ],
            [
             0.5555555555555556,
             "#1f9e89"
            ],
            [
             0.6666666666666666,
             "#35b779"
            ],
            [
             0.7777777777777778,
             "#6ece58"
            ],
            [
             0.8888888888888888,
             "#b5de2b"
            ],
            [
             1,
             "#fde725"
            ]
           ]
          },
          "colorway": [
           "#1F77B4",
           "#FF7F0E",
           "#2CA02C",
           "#D62728",
           "#9467BD",
           "#8C564B",
           "#E377C2",
           "#7F7F7F",
           "#BCBD22",
           "#17BECF"
          ],
          "font": {
           "color": "rgb(36,36,36)"
          },
          "geo": {
           "bgcolor": "white",
           "lakecolor": "white",
           "landcolor": "white",
           "showlakes": true,
           "showland": true,
           "subunitcolor": "white"
          },
          "hoverlabel": {
           "align": "left"
          },
          "hovermode": "closest",
          "mapbox": {
           "style": "light"
          },
          "paper_bgcolor": "white",
          "plot_bgcolor": "white",
          "polar": {
           "angularaxis": {
            "gridcolor": "rgb(232,232,232)",
            "linecolor": "rgb(36,36,36)",
            "showgrid": false,
            "showline": true,
            "ticks": "outside"
           },
           "bgcolor": "white",
           "radialaxis": {
            "gridcolor": "rgb(232,232,232)",
            "linecolor": "rgb(36,36,36)",
            "showgrid": false,
            "showline": true,
            "ticks": "outside"
           }
          },
          "scene": {
           "xaxis": {
            "backgroundcolor": "white",
            "gridcolor": "rgb(232,232,232)",
            "gridwidth": 2,
            "linecolor": "rgb(36,36,36)",
            "showbackground": true,
            "showgrid": false,
            "showline": true,
            "ticks": "outside",
            "zeroline": false,
            "zerolinecolor": "rgb(36,36,36)"
           },
           "yaxis": {
            "backgroundcolor": "white",
            "gridcolor": "rgb(232,232,232)",
            "gridwidth": 2,
            "linecolor": "rgb(36,36,36)",
            "showbackground": true,
            "showgrid": false,
            "showline": true,
            "ticks": "outside",
            "zeroline": false,
            "zerolinecolor": "rgb(36,36,36)"
           },
           "zaxis": {
            "backgroundcolor": "white",
            "gridcolor": "rgb(232,232,232)",
            "gridwidth": 2,
            "linecolor": "rgb(36,36,36)",
            "showbackground": true,
            "showgrid": false,
            "showline": true,
            "ticks": "outside",
            "zeroline": false,
            "zerolinecolor": "rgb(36,36,36)"
           }
          },
          "shapedefaults": {
           "fillcolor": "black",
           "line": {
            "width": 0
           },
           "opacity": 0.3
          },
          "ternary": {
           "aaxis": {
            "gridcolor": "rgb(232,232,232)",
            "linecolor": "rgb(36,36,36)",
            "showgrid": false,
            "showline": true,
            "ticks": "outside"
           },
           "baxis": {
            "gridcolor": "rgb(232,232,232)",
            "linecolor": "rgb(36,36,36)",
            "showgrid": false,
            "showline": true,
            "ticks": "outside"
           },
           "bgcolor": "white",
           "caxis": {
            "gridcolor": "rgb(232,232,232)",
            "linecolor": "rgb(36,36,36)",
            "showgrid": false,
            "showline": true,
            "ticks": "outside"
           }
          },
          "title": {
           "x": 0.05
          },
          "xaxis": {
           "automargin": true,
           "gridcolor": "rgb(232,232,232)",
           "linecolor": "rgb(36,36,36)",
           "showgrid": false,
           "showline": true,
           "ticks": "outside",
           "title": {
            "standoff": 15
           },
           "zeroline": false,
           "zerolinecolor": "rgb(36,36,36)"
          },
          "yaxis": {
           "automargin": true,
           "gridcolor": "rgb(232,232,232)",
           "linecolor": "rgb(36,36,36)",
           "showgrid": false,
           "showline": true,
           "ticks": "outside",
           "title": {
            "standoff": 15
           },
           "zeroline": false,
           "zerolinecolor": "rgb(36,36,36)"
          }
         }
        },
        "width": 600,
        "xaxis": {
         "range": [
          -1,
          170
         ],
         "showgrid": false,
         "title": {
          "text": "<i>d</i><sub>KP</sub> (pm/V)"
         }
        },
        "yaxis": {
         "range": [
          -1,
          170
         ],
         "showgrid": false,
         "title": {
          "text": "<i>d&#770;</i><sub>KP</sub> (pm/V)"
         }
        }
       }
      }
     },
     "metadata": {},
     "output_type": "display_data"
    }
   ],
   "source": [
    "# Data\n",
    "\n",
    "mae = mean_absolute_error(df_pred_matten[\"dKP_true\"], df_pred_matten[\"dKP_matten\"])\n",
    "mape = mean_absolute_percentage_error(\n",
    "    df_pred_matten[\"dKP_true\"], df_pred_matten[\"dKP_matten\"]\n",
    ")\n",
    "rmse = root_mean_squared_error(df_pred_matten[\"dKP_true\"], df_pred_matten[\"dKP_matten\"])\n",
    "spearmanrho = spearmanr(df_pred_matten[\"dKP_true\"], df_pred_matten[\"dKP_matten\"])\n",
    "print(f\"MAE = {mae}\")\n",
    "print(f\"MAPE = {mape}\")\n",
    "print(f\"RMSE = {rmse}\")\n",
    "print(f\"Rho_sp = {spearmanrho.statistic}\")\n",
    "\n",
    "# Scatter plot for previous outputs.\n",
    "scatter_dKP = go.Scatter(\n",
    "    x=df_pred_matten[\"dKP_true\"],\n",
    "    y=df_pred_matten[\"dKP_matten\"],\n",
    "    mode=\"markers\",\n",
    "    name=\"\",\n",
    "    showlegend=False,\n",
    "    text=[mpid for mpid in df_pred_matten.index.values],\n",
    ")\n",
    "\n",
    "ideal = go.Scatter(\n",
    "    x=[-1, 200],\n",
    "    y=[-1, 200],\n",
    "    mode=\"lines\",\n",
    "    line=dict(color=\"gray\", dash=\"dot\"),\n",
    "    showlegend=False,\n",
    ")\n",
    "\n",
    "# Layout\n",
    "layout = go.Layout(\n",
    "    # title=dict(text='Scatter Plot'),\n",
    "    xaxis=dict(title=\"<i>d</i><sub>KP</sub> (pm/V)\", range=[-1, 170]),\n",
    "    yaxis=dict(title=\"<i>d&#770;</i><sub>KP</sub> (pm/V)\", range=[-1, 170]),\n",
    "    # legend=dict(font=dict(size=12)),\n",
    ")\n",
    "\n",
    "# Create figure\n",
    "fig = go.Figure(data=[scatter_dKP, ideal], layout=layout)\n",
    "\n",
    "fig.update_layout(\n",
    "    autosize=False,\n",
    "    font_size=20,\n",
    "    width=600,\n",
    "    height=600,\n",
    "    # plot_bgcolor=\"white\",\n",
    "    template=\"simple_white\",\n",
    ")\n",
    "fig.update_layout(\n",
    "    xaxis=dict(\n",
    "        # tickmode = 'array',\n",
    "        # tickvals = [1, 2,3,4,5,6,7,8],\n",
    "        # ticktext = ['One', 'Three', 'Five', 'Seven', 'Nine', 'Eleven']\n",
    "        showgrid=False,\n",
    "    ),\n",
    "    yaxis=dict(\n",
    "        # tickmode = 'array',\n",
    "        # tickvals = [1, 2,3,4,5,6,7,8],\n",
    "        # ticktext = ['One', 'Three', 'Five', 'Seven', 'Nine', 'Eleven']\n",
    "        showgrid=False,\n",
    "    ),\n",
    ")\n",
    "\n",
    "# Show figure\n",
    "fig.show()"
   ]
  },
  {
   "cell_type": "markdown",
   "metadata": {},
   "source": [
    "## Errors on dKP masked"
   ]
  },
  {
   "cell_type": "code",
   "execution_count": 14,
   "metadata": {},
   "outputs": [
    {
     "name": "stdout",
     "output_type": "stream",
     "text": [
      "MAE = 7.392368093762388\n",
      "MAPE = 5.400849188446492\n",
      "RMSE = 19.475425347382142\n",
      "Rho_sp = 0.7512626728110599\n"
     ]
    },
    {
     "data": {
      "application/vnd.plotly.v1+json": {
       "config": {
        "plotlyServerURL": "https://plot.ly"
       },
       "data": [
        {
         "mode": "markers",
         "name": "",
         "showlegend": false,
         "text": [
          "agm001266143",
          "agm002018585",
          "agm002056302",
          "agm002072309",
          "agm002073755",
          "agm002074655",
          "agm002077911",
          "agm002079795",
          "agm002091778",
          "agm002097562",
          "agm002128787",
          "agm002137965",
          "agm002149208",
          "agm002153716",
          "agm002156258",
          "agm002156599",
          "agm002186848",
          "agm002190330",
          "agm002224787",
          "agm002225219",
          "agm002233061",
          "agm002254137",
          "agm002336867",
          "agm002848041",
          "agm003160584",
          "agm003202330",
          "agm003204906",
          "agm003464867",
          "agm003612680",
          "agm003713453",
          "agm003743952",
          "agm004786105",
          "agm004947354",
          "agm004951594",
          "agm004958126",
          "agm005112928",
          "agm005539186",
          "agm005605704",
          "agm005769288",
          "agm005882580",
          "agm005955873",
          "agm006056059",
          "agm1000019508",
          "agm2000011039",
          "agm2000016398",
          "agm2000084944",
          "agm2000085596",
          "agm2000128632",
          "agm2000145156",
          "mp-1019889",
          "mp-1023936",
          "mp-1029408",
          "mp-1029652",
          "mp-1029932",
          "mp-1078049",
          "mp-1184796",
          "mp-1189731",
          "mp-1195571",
          "mp-1208039",
          "mp-1215615",
          "mp-1217830",
          "mp-1218158",
          "mp-1219293",
          "mp-1219501",
          "mp-1220818",
          "mp-1222496",
          "mp-1222565",
          "mp-1222661",
          "mp-1223489",
          "mp-1224376",
          "mp-1226863",
          "mp-1227512",
          "mp-1227993",
          "mp-1227994",
          "mp-1228522",
          "mp-1228745",
          "mp-14568",
          "mp-17066",
          "mp-17207",
          "mp-21521",
          "mp-23280",
          "mp-23363",
          "mp-23794",
          "mp-27316",
          "mp-27914",
          "mp-27987",
          "mp-28089",
          "mp-28473",
          "mp-29155",
          "mp-29524",
          "mp-32959",
          "mp-33723",
          "mp-36779",
          "mp-504908",
          "mp-504910",
          "mp-542931",
          "mp-550959",
          "mp-552663",
          "mp-554002",
          "mp-556719",
          "mp-559065",
          "mp-559373",
          "mp-559961",
          "mp-560521",
          "mp-560588",
          "mp-560699",
          "mp-561664",
          "mp-567246",
          "mp-568328",
          "mp-568802",
          "mp-570213",
          "mp-571195",
          "mp-6126",
          "mp-672158",
          "mp-685097",
          "mp-753401",
          "mp-756570",
          "mp-761842",
          "mp-769218",
          "mp-774907",
          "mp-8673",
          "mp-985293",
          "mp-997027",
          "mp-998230",
          "mp-998591"
         ],
         "type": "scatter",
         "x": [
          43.968530914559544,
          54.6912292348329,
          3.4142465412794816,
          4.32418733114614,
          0.7788232618052845,
          3.7228595616256026,
          12.832633060146621,
          1.1708441498882223,
          0.2783258415331899,
          0.34842903614392196,
          9.858569970196434,
          0.6487480606321404,
          0.10231253569172748,
          0.8144675798809927,
          0.6697039819612798,
          1.8024461459341663,
          79.4768634175712,
          15.892256694829985,
          7.0744998779788295,
          14.507992538982233,
          7.16194207642384,
          149.9275761804818,
          152.98293104417633,
          0.08344883276158094,
          90.79203620782998,
          25.223716035364323,
          11.37286913043258,
          12.750065071693525,
          1.2633783503178502,
          4.5442349171249825,
          0.14019029396151453,
          51.10264335435639,
          9.426151519815113,
          7.752634454484365,
          2.309893558248592,
          4.642317400928152,
          11.758299411626162,
          33.282363081997445,
          4.794806642978556,
          8.573937669458696,
          0.3751102312697991,
          0.11321990699399173,
          0.1593103431074272,
          0.3006290156208269,
          0.005829952858059599,
          0.049863181733714665,
          0.06715360500489441,
          0.06453354090037837,
          0.012591937323744707,
          0.17102515912585783,
          3.0591929560011626,
          9.690848200484714,
          3.8881581044576814,
          31.20313037881622,
          17.407042488042737,
          0.14218505611295798,
          0.14517743143654102,
          0.15312458218171773,
          0.9608928044838883,
          23.854101232501012,
          2.5747644325051726,
          2.679311404714401,
          0.2946553434582469,
          19.0123736304027,
          1.7072913685526085,
          0.14926792790511195,
          0.5592838068452768,
          41.53962348277774,
          0.16583889893944992,
          21.48443104444253,
          0.43425712087376206,
          27.27617983506982,
          15.879312359111916,
          2.3722891448775867,
          6.088427426823999,
          8.900296735559502,
          0.05693700562131313,
          0.08069039549892627,
          17.716498953291016,
          7.525570950107779,
          0.10452602745853683,
          0.010129295197848578,
          0.3089031851104004,
          0.09656095502735947,
          0.10739522408833391,
          1.9273729064654526,
          2.7748029778490784,
          0.40370523077325804,
          4.085505620629653,
          0.44036346173538204,
          1.2622156296146276,
          29.918324472872094,
          2.4159273472732505,
          0.56674092610356,
          2.296502866313475,
          0.7157653778102706,
          7.8015261446332955,
          1.1163863903846039,
          0.5056199893193122,
          1.6713697870620894,
          6.497969001348536,
          0.9893111430406292,
          0.7254527988278862,
          0.24777052816539916,
          28.66905184837226,
          0.8428103858348076,
          0.8595041527708492,
          0.3758466546966247,
          56.27826460907506,
          47.75126434935444,
          132.69232469789213,
          102.53669239046302,
          2.733238270650939,
          0.5680124185482882,
          4.319626625691693,
          2.1579374947092145,
          14.05313916159886,
          0.7386538601299635,
          60.60976637012658,
          2.5363166888008384,
          6.7202651069153765,
          0.16018299858273644,
          10.160940417235814,
          5.730294993730515,
          9.06165842559303
         ],
         "y": [
          53.38408150039139,
          20.338900289137708,
          4.05490975054622,
          0.48743388008981436,
          1.9540808851109668,
          4.577086588193626,
          14.041175804085297,
          3.5963587074479197,
          3.82983189092939,
          1.1129180742805327,
          19.017006653570952,
          2.855786555050269,
          1.5293340371127397,
          0.5489308725228799,
          2.1716010581004728,
          3.504585351051018,
          54.57754755781868,
          8.827955915451959,
          5.173851989978639,
          14.99536188485833,
          7.034704842535967,
          80.5701861996152,
          125.1834640335567,
          0.8183184212339217,
          26.2163858312377,
          4.648671607770458,
          14.719866667054422,
          17.59811182227712,
          1.7379202137726426,
          3.1835004998492913,
          0.6138894412651967,
          43.205970351274104,
          2.7047722221772736,
          7.947908480484408,
          2.1189952456056393,
          1.9784118272365208,
          5.190124169656356,
          34.11174865403164,
          1.5881398213349227,
          2.0425841753936886,
          1.56487567511724,
          4.133042815155211,
          0.8684604388653174,
          1.6111761458710192,
          1.6389228577463162,
          0.6347527626286807,
          3.9332588102040225,
          1.254501977615218,
          0.43161297980206204,
          1.8479139206726816,
          6.181805329870145,
          8.295739194509528,
          2.3274406837005217,
          12.263554730322856,
          17.326494015906345,
          1.1736607332162423,
          0.7898920808569564,
          0.3543571008776405,
          1.6721310871048978,
          20.659484925608012,
          6.740284305264945,
          6.303372452248507,
          3.566697453810383,
          13.118478964264026,
          5.834338510863391,
          1.8955411136134177,
          0.9688013830721441,
          23.326555973598968,
          1.3215689059420155,
          19.144204461878022,
          2.126322009930038,
          14.427959919019322,
          16.26393284254002,
          3.700763225890667,
          7.787530689261419,
          10.592311014045842,
          1.292240061692997,
          0.34338426643658965,
          7.95397342262223,
          0.000003950039895265677,
          0.6935520464448935,
          0.059694031342993725,
          0.6395562976627936,
          0.5145043832484785,
          0.0000026655320039882684,
          2.655114505068868,
          7.540869094613343,
          2.059431242194064,
          4.051954544541402,
          9.523198142280925e-7,
          2.5112376424179765,
          25.459173250902996,
          1.842187943031024,
          0.650509974095298,
          7.415719155708992,
          1.7241163324308537,
          8.302915143102982,
          2.788672452766502,
          2.696842858234372,
          2.2749989435755045,
          4.2644854329567,
          3.955657527633171,
          0.025795100826048207,
          1.6543111545686882,
          3.8580543500273694,
          1.2051506309985025,
          0.2715651139610312,
          0.06263534921368938,
          4.051279115009263,
          12.444535328300885,
          2.7129451576785384e-8,
          7.563077360616829,
          2.789281615164781,
          0.9568317379735596,
          1.0491800985427184,
          2.978108467080628,
          3.1635311969929902,
          2.261140841936671,
          14.184186284963918,
          4.832903694973615,
          10.077847880775012,
          1.6344570103876812,
          0.4658492035339062,
          5.388690727999076,
          9.234417533283484
         ]
        },
        {
         "line": {
          "color": "gray",
          "dash": "dot"
         },
         "mode": "lines",
         "showlegend": false,
         "type": "scatter",
         "x": [
          -1,
          200
         ],
         "y": [
          -1,
          200
         ]
        }
       ],
       "layout": {
        "autosize": false,
        "font": {
         "size": 20
        },
        "height": 600,
        "template": {
         "data": {
          "bar": [
           {
            "error_x": {
             "color": "rgb(36,36,36)"
            },
            "error_y": {
             "color": "rgb(36,36,36)"
            },
            "marker": {
             "line": {
              "color": "white",
              "width": 0.5
             },
             "pattern": {
              "fillmode": "overlay",
              "size": 10,
              "solidity": 0.2
             }
            },
            "type": "bar"
           }
          ],
          "barpolar": [
           {
            "marker": {
             "line": {
              "color": "white",
              "width": 0.5
             },
             "pattern": {
              "fillmode": "overlay",
              "size": 10,
              "solidity": 0.2
             }
            },
            "type": "barpolar"
           }
          ],
          "carpet": [
           {
            "aaxis": {
             "endlinecolor": "rgb(36,36,36)",
             "gridcolor": "white",
             "linecolor": "white",
             "minorgridcolor": "white",
             "startlinecolor": "rgb(36,36,36)"
            },
            "baxis": {
             "endlinecolor": "rgb(36,36,36)",
             "gridcolor": "white",
             "linecolor": "white",
             "minorgridcolor": "white",
             "startlinecolor": "rgb(36,36,36)"
            },
            "type": "carpet"
           }
          ],
          "choropleth": [
           {
            "colorbar": {
             "outlinewidth": 1,
             "tickcolor": "rgb(36,36,36)",
             "ticks": "outside"
            },
            "type": "choropleth"
           }
          ],
          "contour": [
           {
            "colorbar": {
             "outlinewidth": 1,
             "tickcolor": "rgb(36,36,36)",
             "ticks": "outside"
            },
            "colorscale": [
             [
              0,
              "#440154"
             ],
             [
              0.1111111111111111,
              "#482878"
             ],
             [
              0.2222222222222222,
              "#3e4989"
             ],
             [
              0.3333333333333333,
              "#31688e"
             ],
             [
              0.4444444444444444,
              "#26828e"
             ],
             [
              0.5555555555555556,
              "#1f9e89"
             ],
             [
              0.6666666666666666,
              "#35b779"
             ],
             [
              0.7777777777777778,
              "#6ece58"
             ],
             [
              0.8888888888888888,
              "#b5de2b"
             ],
             [
              1,
              "#fde725"
             ]
            ],
            "type": "contour"
           }
          ],
          "contourcarpet": [
           {
            "colorbar": {
             "outlinewidth": 1,
             "tickcolor": "rgb(36,36,36)",
             "ticks": "outside"
            },
            "type": "contourcarpet"
           }
          ],
          "heatmap": [
           {
            "colorbar": {
             "outlinewidth": 1,
             "tickcolor": "rgb(36,36,36)",
             "ticks": "outside"
            },
            "colorscale": [
             [
              0,
              "#440154"
             ],
             [
              0.1111111111111111,
              "#482878"
             ],
             [
              0.2222222222222222,
              "#3e4989"
             ],
             [
              0.3333333333333333,
              "#31688e"
             ],
             [
              0.4444444444444444,
              "#26828e"
             ],
             [
              0.5555555555555556,
              "#1f9e89"
             ],
             [
              0.6666666666666666,
              "#35b779"
             ],
             [
              0.7777777777777778,
              "#6ece58"
             ],
             [
              0.8888888888888888,
              "#b5de2b"
             ],
             [
              1,
              "#fde725"
             ]
            ],
            "type": "heatmap"
           }
          ],
          "heatmapgl": [
           {
            "colorbar": {
             "outlinewidth": 1,
             "tickcolor": "rgb(36,36,36)",
             "ticks": "outside"
            },
            "colorscale": [
             [
              0,
              "#440154"
             ],
             [
              0.1111111111111111,
              "#482878"
             ],
             [
              0.2222222222222222,
              "#3e4989"
             ],
             [
              0.3333333333333333,
              "#31688e"
             ],
             [
              0.4444444444444444,
              "#26828e"
             ],
             [
              0.5555555555555556,
              "#1f9e89"
             ],
             [
              0.6666666666666666,
              "#35b779"
             ],
             [
              0.7777777777777778,
              "#6ece58"
             ],
             [
              0.8888888888888888,
              "#b5de2b"
             ],
             [
              1,
              "#fde725"
             ]
            ],
            "type": "heatmapgl"
           }
          ],
          "histogram": [
           {
            "marker": {
             "line": {
              "color": "white",
              "width": 0.6
             }
            },
            "type": "histogram"
           }
          ],
          "histogram2d": [
           {
            "colorbar": {
             "outlinewidth": 1,
             "tickcolor": "rgb(36,36,36)",
             "ticks": "outside"
            },
            "colorscale": [
             [
              0,
              "#440154"
             ],
             [
              0.1111111111111111,
              "#482878"
             ],
             [
              0.2222222222222222,
              "#3e4989"
             ],
             [
              0.3333333333333333,
              "#31688e"
             ],
             [
              0.4444444444444444,
              "#26828e"
             ],
             [
              0.5555555555555556,
              "#1f9e89"
             ],
             [
              0.6666666666666666,
              "#35b779"
             ],
             [
              0.7777777777777778,
              "#6ece58"
             ],
             [
              0.8888888888888888,
              "#b5de2b"
             ],
             [
              1,
              "#fde725"
             ]
            ],
            "type": "histogram2d"
           }
          ],
          "histogram2dcontour": [
           {
            "colorbar": {
             "outlinewidth": 1,
             "tickcolor": "rgb(36,36,36)",
             "ticks": "outside"
            },
            "colorscale": [
             [
              0,
              "#440154"
             ],
             [
              0.1111111111111111,
              "#482878"
             ],
             [
              0.2222222222222222,
              "#3e4989"
             ],
             [
              0.3333333333333333,
              "#31688e"
             ],
             [
              0.4444444444444444,
              "#26828e"
             ],
             [
              0.5555555555555556,
              "#1f9e89"
             ],
             [
              0.6666666666666666,
              "#35b779"
             ],
             [
              0.7777777777777778,
              "#6ece58"
             ],
             [
              0.8888888888888888,
              "#b5de2b"
             ],
             [
              1,
              "#fde725"
             ]
            ],
            "type": "histogram2dcontour"
           }
          ],
          "mesh3d": [
           {
            "colorbar": {
             "outlinewidth": 1,
             "tickcolor": "rgb(36,36,36)",
             "ticks": "outside"
            },
            "type": "mesh3d"
           }
          ],
          "parcoords": [
           {
            "line": {
             "colorbar": {
              "outlinewidth": 1,
              "tickcolor": "rgb(36,36,36)",
              "ticks": "outside"
             }
            },
            "type": "parcoords"
           }
          ],
          "pie": [
           {
            "automargin": true,
            "type": "pie"
           }
          ],
          "scatter": [
           {
            "fillpattern": {
             "fillmode": "overlay",
             "size": 10,
             "solidity": 0.2
            },
            "type": "scatter"
           }
          ],
          "scatter3d": [
           {
            "line": {
             "colorbar": {
              "outlinewidth": 1,
              "tickcolor": "rgb(36,36,36)",
              "ticks": "outside"
             }
            },
            "marker": {
             "colorbar": {
              "outlinewidth": 1,
              "tickcolor": "rgb(36,36,36)",
              "ticks": "outside"
             }
            },
            "type": "scatter3d"
           }
          ],
          "scattercarpet": [
           {
            "marker": {
             "colorbar": {
              "outlinewidth": 1,
              "tickcolor": "rgb(36,36,36)",
              "ticks": "outside"
             }
            },
            "type": "scattercarpet"
           }
          ],
          "scattergeo": [
           {
            "marker": {
             "colorbar": {
              "outlinewidth": 1,
              "tickcolor": "rgb(36,36,36)",
              "ticks": "outside"
             }
            },
            "type": "scattergeo"
           }
          ],
          "scattergl": [
           {
            "marker": {
             "colorbar": {
              "outlinewidth": 1,
              "tickcolor": "rgb(36,36,36)",
              "ticks": "outside"
             }
            },
            "type": "scattergl"
           }
          ],
          "scattermapbox": [
           {
            "marker": {
             "colorbar": {
              "outlinewidth": 1,
              "tickcolor": "rgb(36,36,36)",
              "ticks": "outside"
             }
            },
            "type": "scattermapbox"
           }
          ],
          "scatterpolar": [
           {
            "marker": {
             "colorbar": {
              "outlinewidth": 1,
              "tickcolor": "rgb(36,36,36)",
              "ticks": "outside"
             }
            },
            "type": "scatterpolar"
           }
          ],
          "scatterpolargl": [
           {
            "marker": {
             "colorbar": {
              "outlinewidth": 1,
              "tickcolor": "rgb(36,36,36)",
              "ticks": "outside"
             }
            },
            "type": "scatterpolargl"
           }
          ],
          "scatterternary": [
           {
            "marker": {
             "colorbar": {
              "outlinewidth": 1,
              "tickcolor": "rgb(36,36,36)",
              "ticks": "outside"
             }
            },
            "type": "scatterternary"
           }
          ],
          "surface": [
           {
            "colorbar": {
             "outlinewidth": 1,
             "tickcolor": "rgb(36,36,36)",
             "ticks": "outside"
            },
            "colorscale": [
             [
              0,
              "#440154"
             ],
             [
              0.1111111111111111,
              "#482878"
             ],
             [
              0.2222222222222222,
              "#3e4989"
             ],
             [
              0.3333333333333333,
              "#31688e"
             ],
             [
              0.4444444444444444,
              "#26828e"
             ],
             [
              0.5555555555555556,
              "#1f9e89"
             ],
             [
              0.6666666666666666,
              "#35b779"
             ],
             [
              0.7777777777777778,
              "#6ece58"
             ],
             [
              0.8888888888888888,
              "#b5de2b"
             ],
             [
              1,
              "#fde725"
             ]
            ],
            "type": "surface"
           }
          ],
          "table": [
           {
            "cells": {
             "fill": {
              "color": "rgb(237,237,237)"
             },
             "line": {
              "color": "white"
             }
            },
            "header": {
             "fill": {
              "color": "rgb(217,217,217)"
             },
             "line": {
              "color": "white"
             }
            },
            "type": "table"
           }
          ]
         },
         "layout": {
          "annotationdefaults": {
           "arrowhead": 0,
           "arrowwidth": 1
          },
          "autotypenumbers": "strict",
          "coloraxis": {
           "colorbar": {
            "outlinewidth": 1,
            "tickcolor": "rgb(36,36,36)",
            "ticks": "outside"
           }
          },
          "colorscale": {
           "diverging": [
            [
             0,
             "rgb(103,0,31)"
            ],
            [
             0.1,
             "rgb(178,24,43)"
            ],
            [
             0.2,
             "rgb(214,96,77)"
            ],
            [
             0.3,
             "rgb(244,165,130)"
            ],
            [
             0.4,
             "rgb(253,219,199)"
            ],
            [
             0.5,
             "rgb(247,247,247)"
            ],
            [
             0.6,
             "rgb(209,229,240)"
            ],
            [
             0.7,
             "rgb(146,197,222)"
            ],
            [
             0.8,
             "rgb(67,147,195)"
            ],
            [
             0.9,
             "rgb(33,102,172)"
            ],
            [
             1,
             "rgb(5,48,97)"
            ]
           ],
           "sequential": [
            [
             0,
             "#440154"
            ],
            [
             0.1111111111111111,
             "#482878"
            ],
            [
             0.2222222222222222,
             "#3e4989"
            ],
            [
             0.3333333333333333,
             "#31688e"
            ],
            [
             0.4444444444444444,
             "#26828e"
            ],
            [
             0.5555555555555556,
             "#1f9e89"
            ],
            [
             0.6666666666666666,
             "#35b779"
            ],
            [
             0.7777777777777778,
             "#6ece58"
            ],
            [
             0.8888888888888888,
             "#b5de2b"
            ],
            [
             1,
             "#fde725"
            ]
           ],
           "sequentialminus": [
            [
             0,
             "#440154"
            ],
            [
             0.1111111111111111,
             "#482878"
            ],
            [
             0.2222222222222222,
             "#3e4989"
            ],
            [
             0.3333333333333333,
             "#31688e"
            ],
            [
             0.4444444444444444,
             "#26828e"
            ],
            [
             0.5555555555555556,
             "#1f9e89"
            ],
            [
             0.6666666666666666,
             "#35b779"
            ],
            [
             0.7777777777777778,
             "#6ece58"
            ],
            [
             0.8888888888888888,
             "#b5de2b"
            ],
            [
             1,
             "#fde725"
            ]
           ]
          },
          "colorway": [
           "#1F77B4",
           "#FF7F0E",
           "#2CA02C",
           "#D62728",
           "#9467BD",
           "#8C564B",
           "#E377C2",
           "#7F7F7F",
           "#BCBD22",
           "#17BECF"
          ],
          "font": {
           "color": "rgb(36,36,36)"
          },
          "geo": {
           "bgcolor": "white",
           "lakecolor": "white",
           "landcolor": "white",
           "showlakes": true,
           "showland": true,
           "subunitcolor": "white"
          },
          "hoverlabel": {
           "align": "left"
          },
          "hovermode": "closest",
          "mapbox": {
           "style": "light"
          },
          "paper_bgcolor": "white",
          "plot_bgcolor": "white",
          "polar": {
           "angularaxis": {
            "gridcolor": "rgb(232,232,232)",
            "linecolor": "rgb(36,36,36)",
            "showgrid": false,
            "showline": true,
            "ticks": "outside"
           },
           "bgcolor": "white",
           "radialaxis": {
            "gridcolor": "rgb(232,232,232)",
            "linecolor": "rgb(36,36,36)",
            "showgrid": false,
            "showline": true,
            "ticks": "outside"
           }
          },
          "scene": {
           "xaxis": {
            "backgroundcolor": "white",
            "gridcolor": "rgb(232,232,232)",
            "gridwidth": 2,
            "linecolor": "rgb(36,36,36)",
            "showbackground": true,
            "showgrid": false,
            "showline": true,
            "ticks": "outside",
            "zeroline": false,
            "zerolinecolor": "rgb(36,36,36)"
           },
           "yaxis": {
            "backgroundcolor": "white",
            "gridcolor": "rgb(232,232,232)",
            "gridwidth": 2,
            "linecolor": "rgb(36,36,36)",
            "showbackground": true,
            "showgrid": false,
            "showline": true,
            "ticks": "outside",
            "zeroline": false,
            "zerolinecolor": "rgb(36,36,36)"
           },
           "zaxis": {
            "backgroundcolor": "white",
            "gridcolor": "rgb(232,232,232)",
            "gridwidth": 2,
            "linecolor": "rgb(36,36,36)",
            "showbackground": true,
            "showgrid": false,
            "showline": true,
            "ticks": "outside",
            "zeroline": false,
            "zerolinecolor": "rgb(36,36,36)"
           }
          },
          "shapedefaults": {
           "fillcolor": "black",
           "line": {
            "width": 0
           },
           "opacity": 0.3
          },
          "ternary": {
           "aaxis": {
            "gridcolor": "rgb(232,232,232)",
            "linecolor": "rgb(36,36,36)",
            "showgrid": false,
            "showline": true,
            "ticks": "outside"
           },
           "baxis": {
            "gridcolor": "rgb(232,232,232)",
            "linecolor": "rgb(36,36,36)",
            "showgrid": false,
            "showline": true,
            "ticks": "outside"
           },
           "bgcolor": "white",
           "caxis": {
            "gridcolor": "rgb(232,232,232)",
            "linecolor": "rgb(36,36,36)",
            "showgrid": false,
            "showline": true,
            "ticks": "outside"
           }
          },
          "title": {
           "x": 0.05
          },
          "xaxis": {
           "automargin": true,
           "gridcolor": "rgb(232,232,232)",
           "linecolor": "rgb(36,36,36)",
           "showgrid": false,
           "showline": true,
           "ticks": "outside",
           "title": {
            "standoff": 15
           },
           "zeroline": false,
           "zerolinecolor": "rgb(36,36,36)"
          },
          "yaxis": {
           "automargin": true,
           "gridcolor": "rgb(232,232,232)",
           "linecolor": "rgb(36,36,36)",
           "showgrid": false,
           "showline": true,
           "ticks": "outside",
           "title": {
            "standoff": 15
           },
           "zeroline": false,
           "zerolinecolor": "rgb(36,36,36)"
          }
         }
        },
        "width": 600,
        "xaxis": {
         "range": [
          -1,
          170
         ],
         "showgrid": false,
         "title": {
          "text": "<i>d</i><sub>KP</sub> (pm/V)"
         }
        },
        "yaxis": {
         "range": [
          -1,
          170
         ],
         "showgrid": false,
         "title": {
          "text": "<i>d&#770;</i><sub>KP</sub> (pm/V)"
         }
        }
       }
      }
     },
     "metadata": {},
     "output_type": "display_data"
    }
   ],
   "source": [
    "# Data\n",
    "\n",
    "mae = mean_absolute_error(\n",
    "    df_pred_matten[\"dKP_true\"], df_pred_matten[\"dKP_matten_masked\"]\n",
    ")\n",
    "mape = mean_absolute_percentage_error(\n",
    "    df_pred_matten[\"dKP_true\"], df_pred_matten[\"dKP_matten_masked\"]\n",
    ")\n",
    "rmse = root_mean_squared_error(\n",
    "    df_pred_matten[\"dKP_true\"], df_pred_matten[\"dKP_matten_masked\"]\n",
    ")\n",
    "spearmanrho = spearmanr(df_pred_matten[\"dKP_true\"], df_pred_matten[\"dKP_matten_masked\"])\n",
    "print(f\"MAE = {mae}\")\n",
    "print(f\"MAPE = {mape}\")\n",
    "print(f\"RMSE = {rmse}\")\n",
    "print(f\"Rho_sp = {spearmanrho.statistic}\")\n",
    "\n",
    "# Scatter plot for previous outputs.\n",
    "scatter_dKP = go.Scatter(\n",
    "    x=df_pred_matten[\"dKP_true\"],\n",
    "    y=df_pred_matten[\"dKP_matten_masked\"],\n",
    "    mode=\"markers\",\n",
    "    name=\"\",\n",
    "    showlegend=False,\n",
    "    text=[mpid for mpid in df_pred_matten.index.values],\n",
    ")\n",
    "\n",
    "ideal = go.Scatter(\n",
    "    x=[-1, 200],\n",
    "    y=[-1, 200],\n",
    "    mode=\"lines\",\n",
    "    line=dict(color=\"gray\", dash=\"dot\"),\n",
    "    showlegend=False,\n",
    ")\n",
    "\n",
    "# Layout\n",
    "layout = go.Layout(\n",
    "    # title=dict(text='Scatter Plot'),\n",
    "    xaxis=dict(title=\"<i>d</i><sub>KP</sub> (pm/V)\", range=[-1, 170]),\n",
    "    yaxis=dict(title=\"<i>d&#770;</i><sub>KP</sub> (pm/V)\", range=[-1, 170]),\n",
    "    # legend=dict(font=dict(size=12)),\n",
    ")\n",
    "\n",
    "# Create figure\n",
    "fig = go.Figure(data=[scatter_dKP, ideal], layout=layout)\n",
    "\n",
    "fig.update_layout(\n",
    "    autosize=False,\n",
    "    font_size=20,\n",
    "    width=600,\n",
    "    height=600,\n",
    "    # plot_bgcolor=\"white\",\n",
    "    template=\"simple_white\",\n",
    ")\n",
    "fig.update_layout(\n",
    "    xaxis=dict(\n",
    "        # tickmode = 'array',\n",
    "        # tickvals = [1, 2,3,4,5,6,7,8],\n",
    "        # ticktext = ['One', 'Three', 'Five', 'Seven', 'Nine', 'Eleven']\n",
    "        showgrid=False,\n",
    "    ),\n",
    "    yaxis=dict(\n",
    "        # tickmode = 'array',\n",
    "        # tickvals = [1, 2,3,4,5,6,7,8],\n",
    "        # ticktext = ['One', 'Three', 'Five', 'Seven', 'Nine', 'Eleven']\n",
    "        showgrid=False,\n",
    "    ),\n",
    ")\n",
    "\n",
    "# Show figure\n",
    "fig.show()"
   ]
  },
  {
   "cell_type": "markdown",
   "metadata": {},
   "source": [
    "# Errors on dRMS"
   ]
  },
  {
   "cell_type": "code",
   "execution_count": 15,
   "metadata": {},
   "outputs": [
    {
     "name": "stdout",
     "output_type": "stream",
     "text": [
      "MAE = 3.7669926865625576\n",
      "MAPE = 5.454054391021038\n",
      "RMSE = 9.958291068630716\n",
      "Rho_sp = 0.8220890937019968\n"
     ]
    },
    {
     "data": {
      "application/vnd.plotly.v1+json": {
       "config": {
        "plotlyServerURL": "https://plot.ly"
       },
       "data": [
        {
         "mode": "markers",
         "name": "",
         "showlegend": false,
         "text": [
          "agm001266143",
          "agm002018585",
          "agm002056302",
          "agm002072309",
          "agm002073755",
          "agm002074655",
          "agm002077911",
          "agm002079795",
          "agm002091778",
          "agm002097562",
          "agm002128787",
          "agm002137965",
          "agm002149208",
          "agm002153716",
          "agm002156258",
          "agm002156599",
          "agm002186848",
          "agm002190330",
          "agm002224787",
          "agm002225219",
          "agm002233061",
          "agm002254137",
          "agm002336867",
          "agm002848041",
          "agm003160584",
          "agm003202330",
          "agm003204906",
          "agm003464867",
          "agm003612680",
          "agm003713453",
          "agm003743952",
          "agm004786105",
          "agm004947354",
          "agm004951594",
          "agm004958126",
          "agm005112928",
          "agm005539186",
          "agm005605704",
          "agm005769288",
          "agm005882580",
          "agm005955873",
          "agm006056059",
          "agm1000019508",
          "agm2000011039",
          "agm2000016398",
          "agm2000084944",
          "agm2000085596",
          "agm2000128632",
          "agm2000145156",
          "mp-1019889",
          "mp-1023936",
          "mp-1029408",
          "mp-1029652",
          "mp-1029932",
          "mp-1078049",
          "mp-1184796",
          "mp-1189731",
          "mp-1195571",
          "mp-1208039",
          "mp-1215615",
          "mp-1217830",
          "mp-1218158",
          "mp-1219293",
          "mp-1219501",
          "mp-1220818",
          "mp-1222496",
          "mp-1222565",
          "mp-1222661",
          "mp-1223489",
          "mp-1224376",
          "mp-1226863",
          "mp-1227512",
          "mp-1227993",
          "mp-1227994",
          "mp-1228522",
          "mp-1228745",
          "mp-14568",
          "mp-17066",
          "mp-17207",
          "mp-21521",
          "mp-23280",
          "mp-23363",
          "mp-23794",
          "mp-27316",
          "mp-27914",
          "mp-27987",
          "mp-28089",
          "mp-28473",
          "mp-29155",
          "mp-29524",
          "mp-32959",
          "mp-33723",
          "mp-36779",
          "mp-504908",
          "mp-504910",
          "mp-542931",
          "mp-550959",
          "mp-552663",
          "mp-554002",
          "mp-556719",
          "mp-559065",
          "mp-559373",
          "mp-559961",
          "mp-560521",
          "mp-560588",
          "mp-560699",
          "mp-561664",
          "mp-567246",
          "mp-568328",
          "mp-568802",
          "mp-570213",
          "mp-571195",
          "mp-6126",
          "mp-672158",
          "mp-685097",
          "mp-753401",
          "mp-756570",
          "mp-761842",
          "mp-769218",
          "mp-774907",
          "mp-8673",
          "mp-985293",
          "mp-997027",
          "mp-998230",
          "mp-998591"
         ],
         "type": "scatter",
         "x": [
          18.641917956846328,
          27.523964816761662,
          1.9043757345471775,
          1.8949180976558824,
          0.4127382828009604,
          1.6008212312444683,
          7.030363434251404,
          0.64989018962338,
          0.1550826897849664,
          0.19392514150071977,
          5.149840346256586,
          0.36185437974827767,
          0.04916717731356422,
          0.4542883113295838,
          0.2780652151597847,
          1.0053564268556814,
          40.37568042175892,
          8.86427727198853,
          3.945967503750054,
          8.091652151931028,
          3.9947404317975215,
          71.3507713802054,
          85.3030936148387,
          0.04654553508836129,
          38.38188747374577,
          14.069116618290602,
          5.466189601494676,
          7.111646520796197,
          0.5891062223896992,
          2.518535369849038,
          0.05869290960482676,
          28.490687652971516,
          4.132756156605557,
          3.618036992890018,
          1.2095248131114487,
          2.5386288445709133,
          6.557973723103588,
          18.55580386190302,
          2.501945014118235,
          4.541418628385257,
          0.2070814735858991,
          0.06226821189703696,
          0.08778452046050943,
          0.15932214423429253,
          0.002636171237064758,
          0.020610994462546245,
          0.03737141045290503,
          0.027977452125422034,
          0.007023447076933109,
          0.09539327611482312,
          1.7063363064938597,
          5.281042338943232,
          1.9626477661409982,
          17.233191749688025,
          9.709184419950411,
          0.07220688134979748,
          0.061965542127149234,
          0.08540881132745014,
          0.5359603995305948,
          13.305181980087214,
          1.409997362084576,
          1.2513423794863887,
          0.16146803679820965,
          10.604595350725655,
          0.952281627809749,
          0.07121757694327087,
          0.2991441060746409,
          23.169694990210896,
          0.07568899820595372,
          10.666207574002994,
          0.1927849540782835,
          13.024463539048822,
          8.726944458556536,
          1.2939577600258463,
          3.3958755809326817,
          4.964348335289573,
          0.031642486865264774,
          0.04500695229278447,
          8.071956049436514,
          4.031055950513715,
          0.05830183260464078,
          0.005649850926002318,
          0.1713885680715042,
          0.053702290671197785,
          0.059902194023585625,
          0.832407012587531,
          1.547707727516533,
          0.2172465842970688,
          2.2787861606407467,
          0.24562300372010806,
          0.5490867595221783,
          13.69227850335526,
          1.347326476485888,
          0.3161129855145007,
          0.9606664204732474,
          0.39212509526803,
          4.351480858552293,
          0.5716743329994832,
          0.22535291024130646,
          0.9312284329219849,
          3.6243939447239106,
          0.5506442424164563,
          0.4046382386110391,
          0.13819979777948316,
          15.092237289494683,
          0.4177736640446222,
          0.4794085115089379,
          0.15704989361251492,
          31.390516240746972,
          21.834135305382254,
          74.01224260173773,
          57.18902242594154,
          1.5245274693645103,
          0.27081305037351555,
          2.408009282891713,
          0.9330879457857163,
          5.763894827606056,
          0.4119842493798001,
          26.78864316450086,
          1.414689858766974,
          3.2942815959684775,
          0.08934580789636003,
          5.667501786063784,
          2.732303956070978,
          4.079652617530469
         ],
         "y": [
          28.432550563235647,
          10.030932570480651,
          2.2617205996571124,
          0.26946541174887795,
          1.0371758329843603,
          1.8778333426967877,
          7.7748608336158975,
          1.9745812090437735,
          2.1355148865966815,
          0.6166852269457234,
          8.696175625518707,
          1.5928816366166225,
          0.8042856087017193,
          0.30617901224693744,
          0.9675165110559276,
          1.9547643152011247,
          26.27634624990418,
          4.923998553642481,
          2.8858367621469188,
          8.36401233953934,
          3.9237708934774873,
          39.479261283010025,
          69.82400311063212,
          0.45643620801655893,
          13.962004707902839,
          2.5929051404707146,
          6.902851382950076,
          9.81575780278471,
          0.8978511943131017,
          1.7611876546456464,
          0.3268263397686725,
          24.099137298985546,
          1.335696444176237,
          3.842806064994232,
          1.1817778973997974,
          1.1030218703572297,
          2.834784562711217,
          18.992285803091693,
          0.8693529282241442,
          0.9641487721951638,
          0.8602643721488794,
          2.2960683505318245,
          0.40959912239841006,
          0.8788658329395667,
          0.7089998501734639,
          0.26213395545696916,
          2.0577079029595775,
          0.6994322831030987,
          0.24074221809369487,
          1.0307171399365236,
          3.448046274215926,
          4.627140675542283,
          1.2741294530508183,
          6.840224969016513,
          9.664256628727674,
          0.5328982857662412,
          0.43759260280731155,
          0.19765094761886223,
          0.9326701598049796,
          11.52331013735971,
          3.237363800803748,
          3.382788686737981,
          1.975866567305115,
          7.317137972219932,
          3.254238542205797,
          1.057081363658837,
          0.5261285390473822,
          13.01093129321327,
          0.5841826335488365,
          9.2495876574972,
          1.1360079624050081,
          8.019851409551546,
          8.818083077877773,
          1.9488274515639594,
          4.249041547252588,
          5.908108809382595,
          0.6288723359438029,
          0.19153059298460653,
          4.148179689211068,
          1.3081356520277694,
          0.38684484905666067,
          0.033295739938870264,
          0.35666325146893,
          0.2856962096452813,
          0.7342497668330836,
          1.1201712779831636,
          4.206090453888762,
          1.1267202747788414,
          2.2600722645016247,
          0.6592252485662282,
          1.3979968964206562,
          12.337683668919091,
          0.9607108200337661,
          0.3628371281401165,
          4.126363907962421,
          0.9308870121228902,
          4.631141762240031,
          2.04438717431402,
          1.3130796248892456,
          1.3683415122827596,
          2.3786163303293577,
          2.1837796883350227,
          0.014387820123953413,
          0.9227306763265722,
          2.014380563677692,
          0.6456915397894875,
          0.15147178364598873,
          0.03287188029323577,
          2.2596955279401967,
          5.87219013729428,
          4.12638888416106,
          4.216826215988629,
          1.5557869534347357,
          0.4409702143099109,
          0.5738760016813507,
          1.3574984692269396,
          1.556415993483557,
          1.1222745699951393,
          8.249221003749625,
          2.695664889116803,
          5.608575280011872,
          0.9116565637877823,
          1.2611718461190715,
          2.9656858758459568,
          4.155170145673418
         ]
        },
        {
         "line": {
          "color": "gray",
          "dash": "dot"
         },
         "mode": "lines",
         "showlegend": false,
         "type": "scatter",
         "x": [
          -1,
          200
         ],
         "y": [
          -1,
          200
         ]
        }
       ],
       "layout": {
        "autosize": false,
        "font": {
         "size": 20
        },
        "height": 600,
        "template": {
         "data": {
          "bar": [
           {
            "error_x": {
             "color": "rgb(36,36,36)"
            },
            "error_y": {
             "color": "rgb(36,36,36)"
            },
            "marker": {
             "line": {
              "color": "white",
              "width": 0.5
             },
             "pattern": {
              "fillmode": "overlay",
              "size": 10,
              "solidity": 0.2
             }
            },
            "type": "bar"
           }
          ],
          "barpolar": [
           {
            "marker": {
             "line": {
              "color": "white",
              "width": 0.5
             },
             "pattern": {
              "fillmode": "overlay",
              "size": 10,
              "solidity": 0.2
             }
            },
            "type": "barpolar"
           }
          ],
          "carpet": [
           {
            "aaxis": {
             "endlinecolor": "rgb(36,36,36)",
             "gridcolor": "white",
             "linecolor": "white",
             "minorgridcolor": "white",
             "startlinecolor": "rgb(36,36,36)"
            },
            "baxis": {
             "endlinecolor": "rgb(36,36,36)",
             "gridcolor": "white",
             "linecolor": "white",
             "minorgridcolor": "white",
             "startlinecolor": "rgb(36,36,36)"
            },
            "type": "carpet"
           }
          ],
          "choropleth": [
           {
            "colorbar": {
             "outlinewidth": 1,
             "tickcolor": "rgb(36,36,36)",
             "ticks": "outside"
            },
            "type": "choropleth"
           }
          ],
          "contour": [
           {
            "colorbar": {
             "outlinewidth": 1,
             "tickcolor": "rgb(36,36,36)",
             "ticks": "outside"
            },
            "colorscale": [
             [
              0,
              "#440154"
             ],
             [
              0.1111111111111111,
              "#482878"
             ],
             [
              0.2222222222222222,
              "#3e4989"
             ],
             [
              0.3333333333333333,
              "#31688e"
             ],
             [
              0.4444444444444444,
              "#26828e"
             ],
             [
              0.5555555555555556,
              "#1f9e89"
             ],
             [
              0.6666666666666666,
              "#35b779"
             ],
             [
              0.7777777777777778,
              "#6ece58"
             ],
             [
              0.8888888888888888,
              "#b5de2b"
             ],
             [
              1,
              "#fde725"
             ]
            ],
            "type": "contour"
           }
          ],
          "contourcarpet": [
           {
            "colorbar": {
             "outlinewidth": 1,
             "tickcolor": "rgb(36,36,36)",
             "ticks": "outside"
            },
            "type": "contourcarpet"
           }
          ],
          "heatmap": [
           {
            "colorbar": {
             "outlinewidth": 1,
             "tickcolor": "rgb(36,36,36)",
             "ticks": "outside"
            },
            "colorscale": [
             [
              0,
              "#440154"
             ],
             [
              0.1111111111111111,
              "#482878"
             ],
             [
              0.2222222222222222,
              "#3e4989"
             ],
             [
              0.3333333333333333,
              "#31688e"
             ],
             [
              0.4444444444444444,
              "#26828e"
             ],
             [
              0.5555555555555556,
              "#1f9e89"
             ],
             [
              0.6666666666666666,
              "#35b779"
             ],
             [
              0.7777777777777778,
              "#6ece58"
             ],
             [
              0.8888888888888888,
              "#b5de2b"
             ],
             [
              1,
              "#fde725"
             ]
            ],
            "type": "heatmap"
           }
          ],
          "heatmapgl": [
           {
            "colorbar": {
             "outlinewidth": 1,
             "tickcolor": "rgb(36,36,36)",
             "ticks": "outside"
            },
            "colorscale": [
             [
              0,
              "#440154"
             ],
             [
              0.1111111111111111,
              "#482878"
             ],
             [
              0.2222222222222222,
              "#3e4989"
             ],
             [
              0.3333333333333333,
              "#31688e"
             ],
             [
              0.4444444444444444,
              "#26828e"
             ],
             [
              0.5555555555555556,
              "#1f9e89"
             ],
             [
              0.6666666666666666,
              "#35b779"
             ],
             [
              0.7777777777777778,
              "#6ece58"
             ],
             [
              0.8888888888888888,
              "#b5de2b"
             ],
             [
              1,
              "#fde725"
             ]
            ],
            "type": "heatmapgl"
           }
          ],
          "histogram": [
           {
            "marker": {
             "line": {
              "color": "white",
              "width": 0.6
             }
            },
            "type": "histogram"
           }
          ],
          "histogram2d": [
           {
            "colorbar": {
             "outlinewidth": 1,
             "tickcolor": "rgb(36,36,36)",
             "ticks": "outside"
            },
            "colorscale": [
             [
              0,
              "#440154"
             ],
             [
              0.1111111111111111,
              "#482878"
             ],
             [
              0.2222222222222222,
              "#3e4989"
             ],
             [
              0.3333333333333333,
              "#31688e"
             ],
             [
              0.4444444444444444,
              "#26828e"
             ],
             [
              0.5555555555555556,
              "#1f9e89"
             ],
             [
              0.6666666666666666,
              "#35b779"
             ],
             [
              0.7777777777777778,
              "#6ece58"
             ],
             [
              0.8888888888888888,
              "#b5de2b"
             ],
             [
              1,
              "#fde725"
             ]
            ],
            "type": "histogram2d"
           }
          ],
          "histogram2dcontour": [
           {
            "colorbar": {
             "outlinewidth": 1,
             "tickcolor": "rgb(36,36,36)",
             "ticks": "outside"
            },
            "colorscale": [
             [
              0,
              "#440154"
             ],
             [
              0.1111111111111111,
              "#482878"
             ],
             [
              0.2222222222222222,
              "#3e4989"
             ],
             [
              0.3333333333333333,
              "#31688e"
             ],
             [
              0.4444444444444444,
              "#26828e"
             ],
             [
              0.5555555555555556,
              "#1f9e89"
             ],
             [
              0.6666666666666666,
              "#35b779"
             ],
             [
              0.7777777777777778,
              "#6ece58"
             ],
             [
              0.8888888888888888,
              "#b5de2b"
             ],
             [
              1,
              "#fde725"
             ]
            ],
            "type": "histogram2dcontour"
           }
          ],
          "mesh3d": [
           {
            "colorbar": {
             "outlinewidth": 1,
             "tickcolor": "rgb(36,36,36)",
             "ticks": "outside"
            },
            "type": "mesh3d"
           }
          ],
          "parcoords": [
           {
            "line": {
             "colorbar": {
              "outlinewidth": 1,
              "tickcolor": "rgb(36,36,36)",
              "ticks": "outside"
             }
            },
            "type": "parcoords"
           }
          ],
          "pie": [
           {
            "automargin": true,
            "type": "pie"
           }
          ],
          "scatter": [
           {
            "fillpattern": {
             "fillmode": "overlay",
             "size": 10,
             "solidity": 0.2
            },
            "type": "scatter"
           }
          ],
          "scatter3d": [
           {
            "line": {
             "colorbar": {
              "outlinewidth": 1,
              "tickcolor": "rgb(36,36,36)",
              "ticks": "outside"
             }
            },
            "marker": {
             "colorbar": {
              "outlinewidth": 1,
              "tickcolor": "rgb(36,36,36)",
              "ticks": "outside"
             }
            },
            "type": "scatter3d"
           }
          ],
          "scattercarpet": [
           {
            "marker": {
             "colorbar": {
              "outlinewidth": 1,
              "tickcolor": "rgb(36,36,36)",
              "ticks": "outside"
             }
            },
            "type": "scattercarpet"
           }
          ],
          "scattergeo": [
           {
            "marker": {
             "colorbar": {
              "outlinewidth": 1,
              "tickcolor": "rgb(36,36,36)",
              "ticks": "outside"
             }
            },
            "type": "scattergeo"
           }
          ],
          "scattergl": [
           {
            "marker": {
             "colorbar": {
              "outlinewidth": 1,
              "tickcolor": "rgb(36,36,36)",
              "ticks": "outside"
             }
            },
            "type": "scattergl"
           }
          ],
          "scattermapbox": [
           {
            "marker": {
             "colorbar": {
              "outlinewidth": 1,
              "tickcolor": "rgb(36,36,36)",
              "ticks": "outside"
             }
            },
            "type": "scattermapbox"
           }
          ],
          "scatterpolar": [
           {
            "marker": {
             "colorbar": {
              "outlinewidth": 1,
              "tickcolor": "rgb(36,36,36)",
              "ticks": "outside"
             }
            },
            "type": "scatterpolar"
           }
          ],
          "scatterpolargl": [
           {
            "marker": {
             "colorbar": {
              "outlinewidth": 1,
              "tickcolor": "rgb(36,36,36)",
              "ticks": "outside"
             }
            },
            "type": "scatterpolargl"
           }
          ],
          "scatterternary": [
           {
            "marker": {
             "colorbar": {
              "outlinewidth": 1,
              "tickcolor": "rgb(36,36,36)",
              "ticks": "outside"
             }
            },
            "type": "scatterternary"
           }
          ],
          "surface": [
           {
            "colorbar": {
             "outlinewidth": 1,
             "tickcolor": "rgb(36,36,36)",
             "ticks": "outside"
            },
            "colorscale": [
             [
              0,
              "#440154"
             ],
             [
              0.1111111111111111,
              "#482878"
             ],
             [
              0.2222222222222222,
              "#3e4989"
             ],
             [
              0.3333333333333333,
              "#31688e"
             ],
             [
              0.4444444444444444,
              "#26828e"
             ],
             [
              0.5555555555555556,
              "#1f9e89"
             ],
             [
              0.6666666666666666,
              "#35b779"
             ],
             [
              0.7777777777777778,
              "#6ece58"
             ],
             [
              0.8888888888888888,
              "#b5de2b"
             ],
             [
              1,
              "#fde725"
             ]
            ],
            "type": "surface"
           }
          ],
          "table": [
           {
            "cells": {
             "fill": {
              "color": "rgb(237,237,237)"
             },
             "line": {
              "color": "white"
             }
            },
            "header": {
             "fill": {
              "color": "rgb(217,217,217)"
             },
             "line": {
              "color": "white"
             }
            },
            "type": "table"
           }
          ]
         },
         "layout": {
          "annotationdefaults": {
           "arrowhead": 0,
           "arrowwidth": 1
          },
          "autotypenumbers": "strict",
          "coloraxis": {
           "colorbar": {
            "outlinewidth": 1,
            "tickcolor": "rgb(36,36,36)",
            "ticks": "outside"
           }
          },
          "colorscale": {
           "diverging": [
            [
             0,
             "rgb(103,0,31)"
            ],
            [
             0.1,
             "rgb(178,24,43)"
            ],
            [
             0.2,
             "rgb(214,96,77)"
            ],
            [
             0.3,
             "rgb(244,165,130)"
            ],
            [
             0.4,
             "rgb(253,219,199)"
            ],
            [
             0.5,
             "rgb(247,247,247)"
            ],
            [
             0.6,
             "rgb(209,229,240)"
            ],
            [
             0.7,
             "rgb(146,197,222)"
            ],
            [
             0.8,
             "rgb(67,147,195)"
            ],
            [
             0.9,
             "rgb(33,102,172)"
            ],
            [
             1,
             "rgb(5,48,97)"
            ]
           ],
           "sequential": [
            [
             0,
             "#440154"
            ],
            [
             0.1111111111111111,
             "#482878"
            ],
            [
             0.2222222222222222,
             "#3e4989"
            ],
            [
             0.3333333333333333,
             "#31688e"
            ],
            [
             0.4444444444444444,
             "#26828e"
            ],
            [
             0.5555555555555556,
             "#1f9e89"
            ],
            [
             0.6666666666666666,
             "#35b779"
            ],
            [
             0.7777777777777778,
             "#6ece58"
            ],
            [
             0.8888888888888888,
             "#b5de2b"
            ],
            [
             1,
             "#fde725"
            ]
           ],
           "sequentialminus": [
            [
             0,
             "#440154"
            ],
            [
             0.1111111111111111,
             "#482878"
            ],
            [
             0.2222222222222222,
             "#3e4989"
            ],
            [
             0.3333333333333333,
             "#31688e"
            ],
            [
             0.4444444444444444,
             "#26828e"
            ],
            [
             0.5555555555555556,
             "#1f9e89"
            ],
            [
             0.6666666666666666,
             "#35b779"
            ],
            [
             0.7777777777777778,
             "#6ece58"
            ],
            [
             0.8888888888888888,
             "#b5de2b"
            ],
            [
             1,
             "#fde725"
            ]
           ]
          },
          "colorway": [
           "#1F77B4",
           "#FF7F0E",
           "#2CA02C",
           "#D62728",
           "#9467BD",
           "#8C564B",
           "#E377C2",
           "#7F7F7F",
           "#BCBD22",
           "#17BECF"
          ],
          "font": {
           "color": "rgb(36,36,36)"
          },
          "geo": {
           "bgcolor": "white",
           "lakecolor": "white",
           "landcolor": "white",
           "showlakes": true,
           "showland": true,
           "subunitcolor": "white"
          },
          "hoverlabel": {
           "align": "left"
          },
          "hovermode": "closest",
          "mapbox": {
           "style": "light"
          },
          "paper_bgcolor": "white",
          "plot_bgcolor": "white",
          "polar": {
           "angularaxis": {
            "gridcolor": "rgb(232,232,232)",
            "linecolor": "rgb(36,36,36)",
            "showgrid": false,
            "showline": true,
            "ticks": "outside"
           },
           "bgcolor": "white",
           "radialaxis": {
            "gridcolor": "rgb(232,232,232)",
            "linecolor": "rgb(36,36,36)",
            "showgrid": false,
            "showline": true,
            "ticks": "outside"
           }
          },
          "scene": {
           "xaxis": {
            "backgroundcolor": "white",
            "gridcolor": "rgb(232,232,232)",
            "gridwidth": 2,
            "linecolor": "rgb(36,36,36)",
            "showbackground": true,
            "showgrid": false,
            "showline": true,
            "ticks": "outside",
            "zeroline": false,
            "zerolinecolor": "rgb(36,36,36)"
           },
           "yaxis": {
            "backgroundcolor": "white",
            "gridcolor": "rgb(232,232,232)",
            "gridwidth": 2,
            "linecolor": "rgb(36,36,36)",
            "showbackground": true,
            "showgrid": false,
            "showline": true,
            "ticks": "outside",
            "zeroline": false,
            "zerolinecolor": "rgb(36,36,36)"
           },
           "zaxis": {
            "backgroundcolor": "white",
            "gridcolor": "rgb(232,232,232)",
            "gridwidth": 2,
            "linecolor": "rgb(36,36,36)",
            "showbackground": true,
            "showgrid": false,
            "showline": true,
            "ticks": "outside",
            "zeroline": false,
            "zerolinecolor": "rgb(36,36,36)"
           }
          },
          "shapedefaults": {
           "fillcolor": "black",
           "line": {
            "width": 0
           },
           "opacity": 0.3
          },
          "ternary": {
           "aaxis": {
            "gridcolor": "rgb(232,232,232)",
            "linecolor": "rgb(36,36,36)",
            "showgrid": false,
            "showline": true,
            "ticks": "outside"
           },
           "baxis": {
            "gridcolor": "rgb(232,232,232)",
            "linecolor": "rgb(36,36,36)",
            "showgrid": false,
            "showline": true,
            "ticks": "outside"
           },
           "bgcolor": "white",
           "caxis": {
            "gridcolor": "rgb(232,232,232)",
            "linecolor": "rgb(36,36,36)",
            "showgrid": false,
            "showline": true,
            "ticks": "outside"
           }
          },
          "title": {
           "x": 0.05
          },
          "xaxis": {
           "automargin": true,
           "gridcolor": "rgb(232,232,232)",
           "linecolor": "rgb(36,36,36)",
           "showgrid": false,
           "showline": true,
           "ticks": "outside",
           "title": {
            "standoff": 15
           },
           "zeroline": false,
           "zerolinecolor": "rgb(36,36,36)"
          },
          "yaxis": {
           "automargin": true,
           "gridcolor": "rgb(232,232,232)",
           "linecolor": "rgb(36,36,36)",
           "showgrid": false,
           "showline": true,
           "ticks": "outside",
           "title": {
            "standoff": 15
           },
           "zeroline": false,
           "zerolinecolor": "rgb(36,36,36)"
          }
         }
        },
        "width": 600,
        "xaxis": {
         "range": [
          -1,
          100
         ],
         "showgrid": false,
         "title": {
          "text": "<i>d</i><sub>RMS</sub> (pm/V)"
         }
        },
        "yaxis": {
         "range": [
          -1,
          100
         ],
         "showgrid": false,
         "title": {
          "text": "<i>d&#770;</i><sub>RMS</sub> (pm/V)"
         }
        }
       }
      }
     },
     "metadata": {},
     "output_type": "display_data"
    }
   ],
   "source": [
    "# Data\n",
    "\n",
    "mae = mean_absolute_error(df_pred_matten[\"dRMS_true\"], df_pred_matten[\"dRMS_matten\"])\n",
    "mape = mean_absolute_percentage_error(\n",
    "    df_pred_matten[\"dRMS_true\"], df_pred_matten[\"dRMS_matten\"]\n",
    ")\n",
    "rmse = root_mean_squared_error(\n",
    "    df_pred_matten[\"dRMS_true\"], df_pred_matten[\"dRMS_matten\"]\n",
    ")\n",
    "spearmanrho = spearmanr(df_pred_matten[\"dRMS_true\"], df_pred_matten[\"dRMS_matten\"])\n",
    "print(f\"MAE = {mae}\")\n",
    "print(f\"MAPE = {mape}\")\n",
    "print(f\"RMSE = {rmse}\")\n",
    "print(f\"Rho_sp = {spearmanrho.statistic}\")\n",
    "\n",
    "# Scatter plot for previous outputs.\n",
    "scatter_dRMS = go.Scatter(\n",
    "    x=df_pred_matten[\"dRMS_true\"],\n",
    "    y=df_pred_matten[\"dRMS_matten\"],\n",
    "    mode=\"markers\",\n",
    "    name=\"\",\n",
    "    showlegend=False,\n",
    "    text=[mpid for mpid in df_pred_matten.index.values],\n",
    ")\n",
    "\n",
    "ideal = go.Scatter(\n",
    "    x=[-1, 200],\n",
    "    y=[-1, 200],\n",
    "    mode=\"lines\",\n",
    "    line=dict(color=\"gray\", dash=\"dot\"),\n",
    "    showlegend=False,\n",
    ")\n",
    "\n",
    "# Layout\n",
    "layout = go.Layout(\n",
    "    # title=dict(text='Scatter Plot'),\n",
    "    xaxis=dict(title=\"<i>d</i><sub>RMS</sub> (pm/V)\", range=[-1, 100]),\n",
    "    yaxis=dict(title=\"<i>d&#770;</i><sub>RMS</sub> (pm/V)\", range=[-1, 100]),\n",
    "    # legend=dict(font=dict(size=12)),\n",
    ")\n",
    "\n",
    "# Create figure\n",
    "fig = go.Figure(data=[scatter_dRMS, ideal], layout=layout)\n",
    "\n",
    "fig.update_layout(\n",
    "    autosize=False,\n",
    "    font_size=20,\n",
    "    width=600,\n",
    "    height=600,\n",
    "    # plot_bgcolor=\"white\",\n",
    "    template=\"simple_white\",\n",
    ")\n",
    "fig.update_layout(\n",
    "    xaxis=dict(\n",
    "        # tickmode = 'array',\n",
    "        # tickvals = [1, 2,3,4,5,6,7,8],\n",
    "        # ticktext = ['One', 'Three', 'Five', 'Seven', 'Nine', 'Eleven']\n",
    "        showgrid=False,\n",
    "    ),\n",
    "    yaxis=dict(\n",
    "        # tickmode = 'array',\n",
    "        # tickvals = [1, 2,3,4,5,6,7,8],\n",
    "        # ticktext = ['One', 'Three', 'Five', 'Seven', 'Nine', 'Eleven']\n",
    "        showgrid=False,\n",
    "    ),\n",
    ")\n",
    "\n",
    "# Show figure\n",
    "fig.show()"
   ]
  },
  {
   "cell_type": "code",
   "execution_count": null,
   "metadata": {},
   "outputs": [],
   "source": []
  }
 ],
 "metadata": {
  "kernelspec": {
   "display_name": "shgmlenv",
   "language": "python",
   "name": "python3"
  },
  "language_info": {
   "codemirror_mode": {
    "name": "ipython",
    "version": 3
   },
   "file_extension": ".py",
   "mimetype": "text/x-python",
   "name": "python",
   "nbconvert_exporter": "python",
   "pygments_lexer": "ipython3",
   "version": "3.11.0"
  }
 },
 "nbformat": 4,
 "nbformat_minor": 2
}
