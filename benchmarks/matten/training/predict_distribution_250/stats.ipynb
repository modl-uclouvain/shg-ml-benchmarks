{
 "cells": [
  {
   "cell_type": "code",
   "execution_count": 1,
   "metadata": {},
   "outputs": [],
   "source": [
    "from pathlib import Path\n",
    "\n",
    "from scipy.stats import spearmanr\n",
    "from sklearn.metrics import (\n",
    "    mean_absolute_error,\n",
    "    mean_absolute_percentage_error,\n",
    "    root_mean_squared_error,\n",
    ")"
   ]
  },
  {
   "cell_type": "code",
   "execution_count": 2,
   "metadata": {},
   "outputs": [],
   "source": [
    "import os\n",
    "\n",
    "import numpy as np\n",
    "import pandas as pd\n",
    "import plotly.graph_objs as go"
   ]
  },
  {
   "cell_type": "code",
   "execution_count": 3,
   "metadata": {},
   "outputs": [],
   "source": [
    "import shg_ml_benchmarks.utils_shg as shg\n",
    "from shg_ml_benchmarks.utils import load_full"
   ]
  },
  {
   "cell_type": "code",
   "execution_count": 4,
   "metadata": {},
   "outputs": [
    {
     "name": "stdout",
     "output_type": "stream",
     "text": [
      "(250, 7)\n"
     ]
    },
    {
     "data": {
      "text/html": [
       "<div>\n",
       "<style scoped>\n",
       "    .dataframe tbody tr th:only-of-type {\n",
       "        vertical-align: middle;\n",
       "    }\n",
       "\n",
       "    .dataframe tbody tr th {\n",
       "        vertical-align: top;\n",
       "    }\n",
       "\n",
       "    .dataframe thead th {\n",
       "        text-align: right;\n",
       "    }\n",
       "</style>\n",
       "<table border=\"1\" class=\"dataframe\">\n",
       "  <thead>\n",
       "    <tr style=\"text-align: right;\">\n",
       "      <th></th>\n",
       "      <th>dijk_matten</th>\n",
       "      <th>dKP_matten</th>\n",
       "      <th>dRMS_matten</th>\n",
       "      <th>dKP_matten_masked</th>\n",
       "      <th>dRMS_matten_masked</th>\n",
       "      <th>dKP_true</th>\n",
       "      <th>dRMS_true</th>\n",
       "    </tr>\n",
       "  </thead>\n",
       "  <tbody>\n",
       "    <tr>\n",
       "      <th>agm001234439</th>\n",
       "      <td>[[[2.8334748745000002, 0.030544720600000002, 0...</td>\n",
       "      <td>1.403993</td>\n",
       "      <td>0.780324</td>\n",
       "      <td>1.403993</td>\n",
       "      <td>0.780324</td>\n",
       "      <td>0.827288</td>\n",
       "      <td>0.453301</td>\n",
       "    </tr>\n",
       "    <tr>\n",
       "      <th>agm001347560</th>\n",
       "      <td>[[[5.8048700000000005e-05, 8.793300000000001e-...</td>\n",
       "      <td>189.072237</td>\n",
       "      <td>105.459455</td>\n",
       "      <td>189.072237</td>\n",
       "      <td>105.459455</td>\n",
       "      <td>119.177507</td>\n",
       "      <td>66.474038</td>\n",
       "    </tr>\n",
       "    <tr>\n",
       "      <th>agm002041688</th>\n",
       "      <td>[[[5.156993866, 3.0818479061, -5.3886313438], ...</td>\n",
       "      <td>15.653956</td>\n",
       "      <td>7.101285</td>\n",
       "      <td>15.653956</td>\n",
       "      <td>7.101285</td>\n",
       "      <td>5.595534</td>\n",
       "      <td>2.876049</td>\n",
       "    </tr>\n",
       "    <tr>\n",
       "      <th>agm002054632</th>\n",
       "      <td>[[[-24.1034183502, -3.5733189583, -1.764526367...</td>\n",
       "      <td>24.358271</td>\n",
       "      <td>13.386800</td>\n",
       "      <td>24.358271</td>\n",
       "      <td>13.386800</td>\n",
       "      <td>45.303136</td>\n",
       "      <td>21.072020</td>\n",
       "    </tr>\n",
       "    <tr>\n",
       "      <th>agm002072314</th>\n",
       "      <td>[[[-4.614e-06, -1.298e-07, -0.5090533495], [-1...</td>\n",
       "      <td>0.509487</td>\n",
       "      <td>0.260996</td>\n",
       "      <td>0.509487</td>\n",
       "      <td>0.260996</td>\n",
       "      <td>3.674658</td>\n",
       "      <td>1.610681</td>\n",
       "    </tr>\n",
       "  </tbody>\n",
       "</table>\n",
       "</div>"
      ],
      "text/plain": [
       "                                                    dijk_matten  dKP_matten  \\\n",
       "agm001234439  [[[2.8334748745000002, 0.030544720600000002, 0...    1.403993   \n",
       "agm001347560  [[[5.8048700000000005e-05, 8.793300000000001e-...  189.072237   \n",
       "agm002041688  [[[5.156993866, 3.0818479061, -5.3886313438], ...   15.653956   \n",
       "agm002054632  [[[-24.1034183502, -3.5733189583, -1.764526367...   24.358271   \n",
       "agm002072314  [[[-4.614e-06, -1.298e-07, -0.5090533495], [-1...    0.509487   \n",
       "\n",
       "              dRMS_matten  dKP_matten_masked  dRMS_matten_masked    dKP_true  \\\n",
       "agm001234439     0.780324           1.403993            0.780324    0.827288   \n",
       "agm001347560   105.459455         189.072237          105.459455  119.177507   \n",
       "agm002041688     7.101285          15.653956            7.101285    5.595534   \n",
       "agm002054632    13.386800          24.358271           13.386800   45.303136   \n",
       "agm002072314     0.260996           0.509487            0.260996    3.674658   \n",
       "\n",
       "              dRMS_true  \n",
       "agm001234439   0.453301  \n",
       "agm001347560  66.474038  \n",
       "agm002041688   2.876049  \n",
       "agm002054632  21.072020  \n",
       "agm002072314   1.610681  "
      ]
     },
     "metadata": {},
     "output_type": "display_data"
    }
   ],
   "source": [
    "df_orig = load_full()\n",
    "df_pred_matten = pd.read_json(\"df_pred_matten_holdout.json.gz\")\n",
    "\n",
    "# Computing dKP from the Matten tensors predictions\n",
    "list_dKP_matten = []\n",
    "list_dRMS_matten = []\n",
    "list_dKP_matten_masked = []\n",
    "list_dRMS_matten_masked = []\n",
    "for ir, r in df_pred_matten.iterrows():\n",
    "    dijk_matten = shg.from_voigt(r[\"dijk_matten\"])\n",
    "    list_dKP_matten.append(shg.get_dKP(dijk_matten))\n",
    "    list_dRMS_matten.append(shg.get_dRMS(dijk_matten))\n",
    "\n",
    "    dijk_orig = shg.from_voigt(df_orig.loc[ir][\"dijk_full_neum\"])\n",
    "    dijk_matten = np.where(dijk_orig != 0, dijk_matten, 0)\n",
    "    list_dKP_matten_masked.append(shg.get_dKP(dijk_matten))\n",
    "    list_dRMS_matten_masked.append(shg.get_dRMS(dijk_matten))\n",
    "\n",
    "df_pred_matten[\"dKP_matten\"] = list_dKP_matten\n",
    "df_pred_matten[\"dRMS_matten\"] = list_dRMS_matten\n",
    "df_pred_matten[\"dKP_matten_masked\"] = list_dKP_matten_masked\n",
    "df_pred_matten[\"dRMS_matten_masked\"] = list_dRMS_matten_masked\n",
    "\n",
    "# Adding the true dKP to the df\n",
    "df_pred_matten[\"dKP_true\"] = df_orig.filter(df_pred_matten.index, axis=0)[\n",
    "    \"dKP_full_neum\"\n",
    "].tolist()\n",
    "df_pred_matten[\"dRMS_true\"] = [\n",
    "    shg.get_dRMS(d)\n",
    "    for d in df_orig.filter(df_pred_matten.index, axis=0)[\"dijk_full_neum\"].tolist()\n",
    "]\n",
    "\n",
    "print(df_pred_matten.shape)\n",
    "display(df_pred_matten.head())"
   ]
  },
  {
   "cell_type": "code",
   "execution_count": 5,
   "metadata": {},
   "outputs": [
    {
     "name": "stdout",
     "output_type": "stream",
     "text": [
      "(1001, 13)\n"
     ]
    },
    {
     "data": {
      "text/html": [
       "<div>\n",
       "<style scoped>\n",
       "    .dataframe tbody tr th:only-of-type {\n",
       "        vertical-align: middle;\n",
       "    }\n",
       "\n",
       "    .dataframe tbody tr th {\n",
       "        vertical-align: top;\n",
       "    }\n",
       "\n",
       "    .dataframe thead th {\n",
       "        text-align: right;\n",
       "    }\n",
       "</style>\n",
       "<table border=\"1\" class=\"dataframe\">\n",
       "  <thead>\n",
       "    <tr style=\"text-align: right;\">\n",
       "      <th></th>\n",
       "      <th>cumulative time</th>\n",
       "      <th>epoch</th>\n",
       "      <th>epoch time</th>\n",
       "      <th>metric_test/MeanAbsoluteError/shg_tensor_full</th>\n",
       "      <th>metric_val/MeanAbsoluteError/shg_tensor_full</th>\n",
       "      <th>step</th>\n",
       "      <th>test/loss/shg_tensor_full</th>\n",
       "      <th>test/total_loss</th>\n",
       "      <th>train/loss/shg_tensor_full</th>\n",
       "      <th>train/total_loss</th>\n",
       "      <th>val/loss/shg_tensor_full</th>\n",
       "      <th>val/score</th>\n",
       "      <th>val/total_loss</th>\n",
       "    </tr>\n",
       "  </thead>\n",
       "  <tbody>\n",
       "    <tr>\n",
       "      <th>0</th>\n",
       "      <td>48.687542</td>\n",
       "      <td>0</td>\n",
       "      <td>12.907778</td>\n",
       "      <td>NaN</td>\n",
       "      <td>5.426843</td>\n",
       "      <td>74</td>\n",
       "      <td>NaN</td>\n",
       "      <td>NaN</td>\n",
       "      <td>NaN</td>\n",
       "      <td>NaN</td>\n",
       "      <td>600.077026</td>\n",
       "      <td>5.426843</td>\n",
       "      <td>600.077026</td>\n",
       "    </tr>\n",
       "    <tr>\n",
       "      <th>1</th>\n",
       "      <td>NaN</td>\n",
       "      <td>0</td>\n",
       "      <td>NaN</td>\n",
       "      <td>NaN</td>\n",
       "      <td>NaN</td>\n",
       "      <td>74</td>\n",
       "      <td>NaN</td>\n",
       "      <td>NaN</td>\n",
       "      <td>709.328308</td>\n",
       "      <td>709.328308</td>\n",
       "      <td>NaN</td>\n",
       "      <td>NaN</td>\n",
       "      <td>NaN</td>\n",
       "    </tr>\n",
       "    <tr>\n",
       "      <th>2</th>\n",
       "      <td>61.045540</td>\n",
       "      <td>1</td>\n",
       "      <td>12.357997</td>\n",
       "      <td>NaN</td>\n",
       "      <td>5.269061</td>\n",
       "      <td>149</td>\n",
       "      <td>NaN</td>\n",
       "      <td>NaN</td>\n",
       "      <td>NaN</td>\n",
       "      <td>NaN</td>\n",
       "      <td>531.813293</td>\n",
       "      <td>5.269061</td>\n",
       "      <td>531.813293</td>\n",
       "    </tr>\n",
       "    <tr>\n",
       "      <th>3</th>\n",
       "      <td>NaN</td>\n",
       "      <td>1</td>\n",
       "      <td>NaN</td>\n",
       "      <td>NaN</td>\n",
       "      <td>NaN</td>\n",
       "      <td>149</td>\n",
       "      <td>NaN</td>\n",
       "      <td>NaN</td>\n",
       "      <td>627.722534</td>\n",
       "      <td>627.722534</td>\n",
       "      <td>NaN</td>\n",
       "      <td>NaN</td>\n",
       "      <td>NaN</td>\n",
       "    </tr>\n",
       "    <tr>\n",
       "      <th>4</th>\n",
       "      <td>73.375443</td>\n",
       "      <td>2</td>\n",
       "      <td>12.329903</td>\n",
       "      <td>NaN</td>\n",
       "      <td>5.120953</td>\n",
       "      <td>224</td>\n",
       "      <td>NaN</td>\n",
       "      <td>NaN</td>\n",
       "      <td>NaN</td>\n",
       "      <td>NaN</td>\n",
       "      <td>495.294250</td>\n",
       "      <td>5.120953</td>\n",
       "      <td>495.294250</td>\n",
       "    </tr>\n",
       "  </tbody>\n",
       "</table>\n",
       "</div>"
      ],
      "text/plain": [
       "   cumulative time  epoch  epoch time  \\\n",
       "0        48.687542      0   12.907778   \n",
       "1              NaN      0         NaN   \n",
       "2        61.045540      1   12.357997   \n",
       "3              NaN      1         NaN   \n",
       "4        73.375443      2   12.329903   \n",
       "\n",
       "   metric_test/MeanAbsoluteError/shg_tensor_full  \\\n",
       "0                                            NaN   \n",
       "1                                            NaN   \n",
       "2                                            NaN   \n",
       "3                                            NaN   \n",
       "4                                            NaN   \n",
       "\n",
       "   metric_val/MeanAbsoluteError/shg_tensor_full  step  \\\n",
       "0                                      5.426843    74   \n",
       "1                                           NaN    74   \n",
       "2                                      5.269061   149   \n",
       "3                                           NaN   149   \n",
       "4                                      5.120953   224   \n",
       "\n",
       "   test/loss/shg_tensor_full  test/total_loss  train/loss/shg_tensor_full  \\\n",
       "0                        NaN              NaN                         NaN   \n",
       "1                        NaN              NaN                  709.328308   \n",
       "2                        NaN              NaN                         NaN   \n",
       "3                        NaN              NaN                  627.722534   \n",
       "4                        NaN              NaN                         NaN   \n",
       "\n",
       "   train/total_loss  val/loss/shg_tensor_full  val/score  val/total_loss  \n",
       "0               NaN                600.077026   5.426843      600.077026  \n",
       "1        709.328308                       NaN        NaN             NaN  \n",
       "2               NaN                531.813293   5.269061      531.813293  \n",
       "3        627.722534                       NaN        NaN             NaN  \n",
       "4               NaN                495.294250   5.120953      495.294250  "
      ]
     },
     "metadata": {},
     "output_type": "display_data"
    }
   ],
   "source": [
    "type_set = os.path.basename(Path(os.getcwd())).split(\"predict_\")[1]\n",
    "\n",
    "df_lr = pd.read_csv(f\"../scripts_{type_set}/lightning_logs/version_0/metrics.csv\")\n",
    "print(df_lr.shape)\n",
    "display(df_lr.head())"
   ]
  },
  {
   "cell_type": "code",
   "execution_count": 6,
   "metadata": {},
   "outputs": [
    {
     "data": {
      "text/html": [
       "<div>\n",
       "<style scoped>\n",
       "    .dataframe tbody tr th:only-of-type {\n",
       "        vertical-align: middle;\n",
       "    }\n",
       "\n",
       "    .dataframe tbody tr th {\n",
       "        vertical-align: top;\n",
       "    }\n",
       "\n",
       "    .dataframe thead th {\n",
       "        text-align: right;\n",
       "    }\n",
       "</style>\n",
       "<table border=\"1\" class=\"dataframe\">\n",
       "  <thead>\n",
       "    <tr style=\"text-align: right;\">\n",
       "      <th></th>\n",
       "      <th>cumulative time</th>\n",
       "      <th>epoch</th>\n",
       "      <th>epoch time</th>\n",
       "      <th>metric_test/MeanAbsoluteError/shg_tensor_full</th>\n",
       "      <th>metric_val/MeanAbsoluteError/shg_tensor_full</th>\n",
       "      <th>step</th>\n",
       "      <th>test/loss/shg_tensor_full</th>\n",
       "      <th>test/total_loss</th>\n",
       "      <th>train/loss/shg_tensor_full</th>\n",
       "      <th>train/total_loss</th>\n",
       "      <th>val/loss/shg_tensor_full</th>\n",
       "      <th>val/score</th>\n",
       "      <th>val/total_loss</th>\n",
       "    </tr>\n",
       "    <tr>\n",
       "      <th>epoch</th>\n",
       "      <th></th>\n",
       "      <th></th>\n",
       "      <th></th>\n",
       "      <th></th>\n",
       "      <th></th>\n",
       "      <th></th>\n",
       "      <th></th>\n",
       "      <th></th>\n",
       "      <th></th>\n",
       "      <th></th>\n",
       "      <th></th>\n",
       "      <th></th>\n",
       "      <th></th>\n",
       "    </tr>\n",
       "  </thead>\n",
       "  <tbody>\n",
       "    <tr>\n",
       "      <th>0</th>\n",
       "      <td>48.687542</td>\n",
       "      <td>0</td>\n",
       "      <td>12.907778</td>\n",
       "      <td>NaN</td>\n",
       "      <td>5.426843</td>\n",
       "      <td>74</td>\n",
       "      <td>NaN</td>\n",
       "      <td>NaN</td>\n",
       "      <td>NaN</td>\n",
       "      <td>NaN</td>\n",
       "      <td>600.077026</td>\n",
       "      <td>5.426843</td>\n",
       "      <td>600.077026</td>\n",
       "    </tr>\n",
       "    <tr>\n",
       "      <th>1</th>\n",
       "      <td>61.045540</td>\n",
       "      <td>1</td>\n",
       "      <td>12.357997</td>\n",
       "      <td>NaN</td>\n",
       "      <td>5.269061</td>\n",
       "      <td>149</td>\n",
       "      <td>NaN</td>\n",
       "      <td>NaN</td>\n",
       "      <td>NaN</td>\n",
       "      <td>NaN</td>\n",
       "      <td>531.813293</td>\n",
       "      <td>5.269061</td>\n",
       "      <td>531.813293</td>\n",
       "    </tr>\n",
       "    <tr>\n",
       "      <th>2</th>\n",
       "      <td>73.375443</td>\n",
       "      <td>2</td>\n",
       "      <td>12.329903</td>\n",
       "      <td>NaN</td>\n",
       "      <td>5.120953</td>\n",
       "      <td>224</td>\n",
       "      <td>NaN</td>\n",
       "      <td>NaN</td>\n",
       "      <td>NaN</td>\n",
       "      <td>NaN</td>\n",
       "      <td>495.294250</td>\n",
       "      <td>5.120953</td>\n",
       "      <td>495.294250</td>\n",
       "    </tr>\n",
       "    <tr>\n",
       "      <th>3</th>\n",
       "      <td>85.751953</td>\n",
       "      <td>3</td>\n",
       "      <td>12.376513</td>\n",
       "      <td>NaN</td>\n",
       "      <td>5.183712</td>\n",
       "      <td>299</td>\n",
       "      <td>NaN</td>\n",
       "      <td>NaN</td>\n",
       "      <td>NaN</td>\n",
       "      <td>NaN</td>\n",
       "      <td>554.202576</td>\n",
       "      <td>5.183712</td>\n",
       "      <td>554.202576</td>\n",
       "    </tr>\n",
       "    <tr>\n",
       "      <th>4</th>\n",
       "      <td>98.145844</td>\n",
       "      <td>4</td>\n",
       "      <td>12.393886</td>\n",
       "      <td>NaN</td>\n",
       "      <td>5.212463</td>\n",
       "      <td>374</td>\n",
       "      <td>NaN</td>\n",
       "      <td>NaN</td>\n",
       "      <td>NaN</td>\n",
       "      <td>NaN</td>\n",
       "      <td>591.223206</td>\n",
       "      <td>5.212463</td>\n",
       "      <td>591.223206</td>\n",
       "    </tr>\n",
       "  </tbody>\n",
       "</table>\n",
       "</div>"
      ],
      "text/plain": [
       "       cumulative time  epoch  epoch time  \\\n",
       "epoch                                       \n",
       "0            48.687542      0   12.907778   \n",
       "1            61.045540      1   12.357997   \n",
       "2            73.375443      2   12.329903   \n",
       "3            85.751953      3   12.376513   \n",
       "4            98.145844      4   12.393886   \n",
       "\n",
       "       metric_test/MeanAbsoluteError/shg_tensor_full  \\\n",
       "epoch                                                  \n",
       "0                                                NaN   \n",
       "1                                                NaN   \n",
       "2                                                NaN   \n",
       "3                                                NaN   \n",
       "4                                                NaN   \n",
       "\n",
       "       metric_val/MeanAbsoluteError/shg_tensor_full  step  \\\n",
       "epoch                                                       \n",
       "0                                          5.426843    74   \n",
       "1                                          5.269061   149   \n",
       "2                                          5.120953   224   \n",
       "3                                          5.183712   299   \n",
       "4                                          5.212463   374   \n",
       "\n",
       "       test/loss/shg_tensor_full  test/total_loss  train/loss/shg_tensor_full  \\\n",
       "epoch                                                                           \n",
       "0                            NaN              NaN                         NaN   \n",
       "1                            NaN              NaN                         NaN   \n",
       "2                            NaN              NaN                         NaN   \n",
       "3                            NaN              NaN                         NaN   \n",
       "4                            NaN              NaN                         NaN   \n",
       "\n",
       "       train/total_loss  val/loss/shg_tensor_full  val/score  val/total_loss  \n",
       "epoch                                                                         \n",
       "0                   NaN                600.077026   5.426843      600.077026  \n",
       "1                   NaN                531.813293   5.269061      531.813293  \n",
       "2                   NaN                495.294250   5.120953      495.294250  \n",
       "3                   NaN                554.202576   5.183712      554.202576  \n",
       "4                   NaN                591.223206   5.212463      591.223206  "
      ]
     },
     "metadata": {},
     "output_type": "display_data"
    },
    {
     "data": {
      "text/html": [
       "<div>\n",
       "<style scoped>\n",
       "    .dataframe tbody tr th:only-of-type {\n",
       "        vertical-align: middle;\n",
       "    }\n",
       "\n",
       "    .dataframe tbody tr th {\n",
       "        vertical-align: top;\n",
       "    }\n",
       "\n",
       "    .dataframe thead th {\n",
       "        text-align: right;\n",
       "    }\n",
       "</style>\n",
       "<table border=\"1\" class=\"dataframe\">\n",
       "  <thead>\n",
       "    <tr style=\"text-align: right;\">\n",
       "      <th></th>\n",
       "      <th>cumulative time</th>\n",
       "      <th>epoch</th>\n",
       "      <th>epoch time</th>\n",
       "      <th>metric_test/MeanAbsoluteError/shg_tensor_full</th>\n",
       "      <th>metric_val/MeanAbsoluteError/shg_tensor_full</th>\n",
       "      <th>step</th>\n",
       "      <th>test/loss/shg_tensor_full</th>\n",
       "      <th>test/total_loss</th>\n",
       "      <th>train/loss/shg_tensor_full</th>\n",
       "      <th>train/total_loss</th>\n",
       "      <th>val/loss/shg_tensor_full</th>\n",
       "      <th>val/score</th>\n",
       "      <th>val/total_loss</th>\n",
       "    </tr>\n",
       "    <tr>\n",
       "      <th>epoch</th>\n",
       "      <th></th>\n",
       "      <th></th>\n",
       "      <th></th>\n",
       "      <th></th>\n",
       "      <th></th>\n",
       "      <th></th>\n",
       "      <th></th>\n",
       "      <th></th>\n",
       "      <th></th>\n",
       "      <th></th>\n",
       "      <th></th>\n",
       "      <th></th>\n",
       "      <th></th>\n",
       "    </tr>\n",
       "  </thead>\n",
       "  <tbody>\n",
       "    <tr>\n",
       "      <th>0</th>\n",
       "      <td>NaN</td>\n",
       "      <td>0</td>\n",
       "      <td>NaN</td>\n",
       "      <td>NaN</td>\n",
       "      <td>NaN</td>\n",
       "      <td>74</td>\n",
       "      <td>NaN</td>\n",
       "      <td>NaN</td>\n",
       "      <td>709.328308</td>\n",
       "      <td>709.328308</td>\n",
       "      <td>NaN</td>\n",
       "      <td>NaN</td>\n",
       "      <td>NaN</td>\n",
       "    </tr>\n",
       "    <tr>\n",
       "      <th>1</th>\n",
       "      <td>NaN</td>\n",
       "      <td>1</td>\n",
       "      <td>NaN</td>\n",
       "      <td>NaN</td>\n",
       "      <td>NaN</td>\n",
       "      <td>149</td>\n",
       "      <td>NaN</td>\n",
       "      <td>NaN</td>\n",
       "      <td>627.722534</td>\n",
       "      <td>627.722534</td>\n",
       "      <td>NaN</td>\n",
       "      <td>NaN</td>\n",
       "      <td>NaN</td>\n",
       "    </tr>\n",
       "    <tr>\n",
       "      <th>2</th>\n",
       "      <td>NaN</td>\n",
       "      <td>2</td>\n",
       "      <td>NaN</td>\n",
       "      <td>NaN</td>\n",
       "      <td>NaN</td>\n",
       "      <td>224</td>\n",
       "      <td>NaN</td>\n",
       "      <td>NaN</td>\n",
       "      <td>504.990906</td>\n",
       "      <td>504.990906</td>\n",
       "      <td>NaN</td>\n",
       "      <td>NaN</td>\n",
       "      <td>NaN</td>\n",
       "    </tr>\n",
       "    <tr>\n",
       "      <th>3</th>\n",
       "      <td>NaN</td>\n",
       "      <td>3</td>\n",
       "      <td>NaN</td>\n",
       "      <td>NaN</td>\n",
       "      <td>NaN</td>\n",
       "      <td>299</td>\n",
       "      <td>NaN</td>\n",
       "      <td>NaN</td>\n",
       "      <td>359.805542</td>\n",
       "      <td>359.805542</td>\n",
       "      <td>NaN</td>\n",
       "      <td>NaN</td>\n",
       "      <td>NaN</td>\n",
       "    </tr>\n",
       "    <tr>\n",
       "      <th>4</th>\n",
       "      <td>NaN</td>\n",
       "      <td>4</td>\n",
       "      <td>NaN</td>\n",
       "      <td>NaN</td>\n",
       "      <td>NaN</td>\n",
       "      <td>374</td>\n",
       "      <td>NaN</td>\n",
       "      <td>NaN</td>\n",
       "      <td>286.304962</td>\n",
       "      <td>286.304962</td>\n",
       "      <td>NaN</td>\n",
       "      <td>NaN</td>\n",
       "      <td>NaN</td>\n",
       "    </tr>\n",
       "  </tbody>\n",
       "</table>\n",
       "</div>"
      ],
      "text/plain": [
       "       cumulative time  epoch  epoch time  \\\n",
       "epoch                                       \n",
       "0                  NaN      0         NaN   \n",
       "1                  NaN      1         NaN   \n",
       "2                  NaN      2         NaN   \n",
       "3                  NaN      3         NaN   \n",
       "4                  NaN      4         NaN   \n",
       "\n",
       "       metric_test/MeanAbsoluteError/shg_tensor_full  \\\n",
       "epoch                                                  \n",
       "0                                                NaN   \n",
       "1                                                NaN   \n",
       "2                                                NaN   \n",
       "3                                                NaN   \n",
       "4                                                NaN   \n",
       "\n",
       "       metric_val/MeanAbsoluteError/shg_tensor_full  step  \\\n",
       "epoch                                                       \n",
       "0                                               NaN    74   \n",
       "1                                               NaN   149   \n",
       "2                                               NaN   224   \n",
       "3                                               NaN   299   \n",
       "4                                               NaN   374   \n",
       "\n",
       "       test/loss/shg_tensor_full  test/total_loss  train/loss/shg_tensor_full  \\\n",
       "epoch                                                                           \n",
       "0                            NaN              NaN                  709.328308   \n",
       "1                            NaN              NaN                  627.722534   \n",
       "2                            NaN              NaN                  504.990906   \n",
       "3                            NaN              NaN                  359.805542   \n",
       "4                            NaN              NaN                  286.304962   \n",
       "\n",
       "       train/total_loss  val/loss/shg_tensor_full  val/score  val/total_loss  \n",
       "epoch                                                                         \n",
       "0            709.328308                       NaN        NaN             NaN  \n",
       "1            627.722534                       NaN        NaN             NaN  \n",
       "2            504.990906                       NaN        NaN             NaN  \n",
       "3            359.805542                       NaN        NaN             NaN  \n",
       "4            286.304962                       NaN        NaN             NaN  "
      ]
     },
     "metadata": {},
     "output_type": "display_data"
    }
   ],
   "source": [
    "df_lr_epochs_first = df_lr[df_lr[\"epoch\"].duplicated(keep=\"last\")]\n",
    "df_lr_epochs_first.index = df_lr_epochs_first[\"epoch\"]\n",
    "display(df_lr_epochs_first.head())\n",
    "df_lr_epochs_second = df_lr[df_lr[\"epoch\"].duplicated(keep=\"first\")]\n",
    "df_lr_epochs_second.index = df_lr_epochs_second[\"epoch\"]\n",
    "display(df_lr_epochs_second.head())"
   ]
  },
  {
   "cell_type": "markdown",
   "metadata": {},
   "source": [
    "# Learning rates"
   ]
  },
  {
   "cell_type": "markdown",
   "metadata": {},
   "source": [
    "## Loss"
   ]
  },
  {
   "cell_type": "code",
   "execution_count": 7,
   "metadata": {},
   "outputs": [
    {
     "data": {
      "application/vnd.plotly.v1+json": {
       "config": {
        "plotlyServerURL": "https://plot.ly"
       },
       "data": [
        {
         "mode": "lines+markers",
         "name": "Train loss",
         "showlegend": true,
         "type": "scatter",
         "x": [
          0,
          1,
          2,
          3,
          4,
          5,
          6,
          7,
          8,
          9,
          10,
          11,
          12,
          13,
          14,
          15,
          16,
          17,
          18,
          19,
          20,
          21,
          22,
          23,
          24,
          25,
          26,
          27,
          28,
          29,
          30,
          31,
          32,
          33,
          34,
          35,
          36,
          37,
          38,
          39,
          40,
          41,
          42,
          43,
          44,
          45,
          46,
          47,
          48,
          49,
          50,
          51,
          52,
          53,
          54,
          55,
          56,
          57,
          58,
          59,
          60,
          61,
          62,
          63,
          64,
          65,
          66,
          67,
          68,
          69,
          70,
          71,
          72,
          73,
          74,
          75,
          76,
          77,
          78,
          79,
          80,
          81,
          82,
          83,
          84,
          85,
          86,
          87,
          88,
          89,
          90,
          91,
          92,
          93,
          94,
          95,
          96,
          97,
          98,
          99,
          100,
          101,
          102,
          103,
          104,
          105,
          106,
          107,
          108,
          109,
          110,
          111,
          112,
          113,
          114,
          115,
          116,
          117,
          118,
          119,
          120,
          121,
          122,
          123,
          124,
          125,
          126,
          127,
          128,
          129,
          130,
          131,
          132,
          133,
          134,
          135,
          136,
          137,
          138,
          139,
          140,
          141,
          142,
          143,
          144,
          145,
          146,
          147,
          148,
          149,
          150,
          151,
          152,
          153,
          154,
          155,
          156,
          157,
          158,
          159,
          160,
          161,
          162,
          163,
          164,
          165,
          166,
          167,
          168,
          169,
          170,
          171,
          172,
          173,
          174,
          175,
          176,
          177,
          178,
          179,
          180,
          181,
          182,
          183,
          184,
          185,
          186,
          187,
          188,
          189,
          190,
          191,
          192,
          193,
          194,
          195,
          196,
          197,
          198,
          199,
          200,
          201,
          202,
          203,
          204,
          205,
          206,
          207,
          208,
          209,
          210,
          211,
          212,
          213,
          214,
          215,
          216,
          217,
          218,
          219,
          220,
          221,
          222,
          223,
          224,
          225,
          226,
          227,
          228,
          229,
          230,
          231,
          232,
          233,
          234,
          235,
          236,
          237,
          238,
          239,
          240,
          241,
          242,
          243,
          244,
          245,
          246,
          247,
          248,
          249,
          250,
          251,
          252,
          253,
          254,
          255,
          256,
          257,
          258,
          259,
          260,
          261,
          262,
          263,
          264,
          265,
          266,
          267,
          268,
          269,
          270,
          271,
          272,
          273,
          274,
          275,
          276,
          277,
          278,
          279,
          280,
          281,
          282,
          283,
          284,
          285,
          286,
          287,
          288,
          289,
          290,
          291,
          292,
          293,
          294,
          295,
          296,
          297,
          298,
          299,
          300,
          301,
          302,
          303,
          304,
          305,
          306,
          307,
          308,
          309,
          310,
          311,
          312,
          313,
          314,
          315,
          316,
          317,
          318,
          319,
          320,
          321,
          322,
          323,
          324,
          325,
          326,
          327,
          328,
          329,
          330,
          331,
          332,
          333,
          334,
          335,
          336,
          337,
          338,
          339,
          340,
          341,
          342,
          343,
          344,
          345,
          346,
          347,
          348,
          349,
          350,
          351,
          352,
          353,
          354,
          355,
          356,
          357,
          358,
          359,
          360,
          361,
          362,
          363,
          364,
          365,
          366,
          367,
          368,
          369,
          370,
          371,
          372,
          373,
          374,
          375,
          376,
          377,
          378,
          379,
          380,
          381,
          382,
          383,
          384,
          385,
          386,
          387,
          388,
          389,
          390,
          391,
          392,
          393,
          394,
          395,
          396,
          397,
          398,
          399,
          400,
          401,
          402,
          403,
          404,
          405,
          406,
          407,
          408,
          409,
          410,
          411,
          412,
          413,
          414,
          415,
          416,
          417,
          418,
          419,
          420,
          421,
          422,
          423,
          424,
          425,
          426,
          427,
          428,
          429,
          430,
          431,
          432,
          433,
          434,
          435,
          436,
          437,
          438,
          439,
          440,
          441,
          442,
          443,
          444,
          445,
          446,
          447,
          448,
          449,
          450,
          451,
          452,
          453,
          454,
          455,
          456,
          457,
          458,
          459,
          460,
          461,
          462,
          463,
          464,
          465,
          466,
          467,
          468,
          469,
          470,
          471,
          472,
          473,
          474,
          475,
          476,
          477,
          478,
          479,
          480,
          481,
          482,
          483,
          484,
          485,
          486,
          487,
          488,
          489,
          490,
          491,
          492,
          493,
          494,
          495,
          496,
          497,
          498,
          499
         ],
         "y": [
          709.3283081054688,
          627.7225341796875,
          504.9909057617188,
          359.8055419921875,
          286.3049621582031,
          239.6369171142578,
          229.42042541503903,
          197.88499450683597,
          191.1199493408203,
          179.7176055908203,
          163.14894104003906,
          154.33050537109375,
          149.4169464111328,
          139.448486328125,
          141.34767150878906,
          137.20651245117188,
          146.83306884765625,
          136.69192504882812,
          132.15728759765625,
          126.45040130615234,
          120.07320404052734,
          120.35565185546876,
          126.31640625,
          126.6973648071289,
          125.33224487304688,
          123.22272491455078,
          125.75143432617188,
          135.11163330078125,
          120.48392486572266,
          117.36930847167967,
          119.01686096191406,
          116.99407196044922,
          116.3132095336914,
          113.7007827758789,
          118.13998413085938,
          115.42561340332033,
          137.48959350585938,
          130.32833862304688,
          126.88855743408205,
          122.87311553955078,
          114.64183807373048,
          111.33748626708984,
          110.39240264892578,
          109.20357513427734,
          108.0686492919922,
          111.32333374023438,
          110.46729278564452,
          114.16590118408205,
          109.64160919189452,
          109.2120590209961,
          109.86873626708984,
          111.8953857421875,
          117.31133270263672,
          114.66607666015624,
          110.97428894042967,
          112.58673858642578,
          110.3948211669922,
          110.52643585205078,
          112.38982391357422,
          110.4204559326172,
          107.30725860595705,
          106.90589904785156,
          107.07090759277344,
          107.18904876708984,
          107.53309631347656,
          106.74754333496094,
          105.3984832763672,
          102.88174438476562,
          104.91510009765624,
          107.54088592529295,
          106.572265625,
          107.87227630615234,
          119.19669342041016,
          112.712646484375,
          117.67430877685548,
          110.65455627441406,
          105.7465591430664,
          106.73163604736328,
          104.02793884277344,
          103.99198150634766,
          104.73702239990234,
          104.33625030517578,
          104.0157470703125,
          103.79602813720705,
          101.53838348388672,
          103.68934631347656,
          105.71572875976562,
          105.505859375,
          103.84127044677734,
          113.3376235961914,
          104.3341827392578,
          102.30194854736328,
          101.7947998046875,
          107.192138671875,
          109.6170425415039,
          104.0583267211914,
          100.58358764648438,
          107.32731628417967,
          108.78536224365234,
          107.05438995361328,
          102.33663940429688,
          100.87786102294922,
          102.46991729736328,
          103.12337493896484,
          95.48274230957033,
          94.67132568359376,
          94.50383758544922,
          93.97763061523438,
          95.56756591796876,
          95.11688232421876,
          94.19112396240234,
          95.26385498046876,
          94.17452239990234,
          95.21061706542967,
          94.86681365966795,
          94.57589721679688,
          94.07527160644533,
          94.3330078125,
          94.32371520996094,
          96.12415313720705,
          96.33867645263672,
          94.58805084228516,
          94.6378936767578,
          93.7914581298828,
          94.2669677734375,
          94.40608215332033,
          95.25674438476562,
          95.00323486328124,
          95.78491973876952,
          95.22429656982422,
          94.65056610107422,
          94.48190307617188,
          94.07591247558594,
          94.71434020996094,
          96.89069366455078,
          97.40884399414062,
          95.77930450439452,
          98.69976806640624,
          95.19112396240234,
          97.01568603515624,
          96.20062255859376,
          94.72901916503906,
          95.2091293334961,
          94.41979217529295,
          97.14571380615234,
          97.73916625976562,
          96.97896575927734,
          95.17668914794922,
          95.50943756103516,
          94.59398651123048,
          95.47720336914062,
          95.51868438720705,
          97.37979125976562,
          97.0428466796875,
          95.26110076904295,
          93.0132827758789,
          92.62816619873048,
          92.4758071899414,
          92.4747314453125,
          92.06729125976562,
          91.90303802490234,
          92.16268157958984,
          92.0987777709961,
          91.93438720703124,
          92.03126525878906,
          92.09053802490234,
          92.36177825927734,
          92.2535400390625,
          92.11920166015624,
          92.2818832397461,
          92.58353424072266,
          92.23301696777344,
          92.54796600341795,
          91.95668029785156,
          91.83082580566406,
          92.13692474365234,
          92.31355285644533,
          93.09637451171876,
          92.59984588623048,
          92.17645263671876,
          92.1142120361328,
          92.09525299072266,
          92.28463745117188,
          92.33319091796876,
          92.75582885742188,
          92.73719024658205,
          93.34529876708984,
          92.69061279296876,
          92.67068481445312,
          92.2991714477539,
          91.97222137451172,
          92.33670043945312,
          92.97314453125,
          92.2976303100586,
          92.57158660888672,
          92.80206298828124,
          92.43849182128906,
          92.67761993408205,
          92.40676879882812,
          92.19615173339844,
          92.07131958007812,
          91.92375946044922,
          92.0661849975586,
          92.60631561279295,
          93.35340881347656,
          92.15813446044922,
          91.7358856201172,
          91.4695816040039,
          91.53929901123048,
          91.63302612304688,
          91.67386627197266,
          91.03660583496094,
          91.23541259765624,
          91.29962158203124,
          91.56954956054688,
          91.68962860107422,
          91.37670135498048,
          91.3137435913086,
          91.1742172241211,
          91.18563079833984,
          91.14450073242188,
          91.23773193359376,
          91.34020233154295,
          91.6273956298828,
          91.64580535888672,
          91.6964340209961,
          91.51831817626952,
          91.34748840332033,
          91.22319793701172,
          91.68684387207033,
          91.26109313964844,
          91.83602905273438,
          92.24382781982422,
          91.97966766357422,
          91.64361572265624,
          91.3738784790039,
          91.27130889892578,
          91.14698028564452,
          91.0737075805664,
          91.5049057006836,
          91.20570373535156,
          91.07189178466795,
          91.036376953125,
          91.57325744628906,
          91.4025421142578,
          91.11776733398438,
          91.39743041992188,
          91.5060043334961,
          91.29832458496094,
          91.34224700927734,
          91.44873046875,
          91.56201934814452,
          91.4073715209961,
          91.21185302734376,
          91.43047332763672,
          91.03327178955078,
          90.96891784667967,
          91.08143615722656,
          90.9036636352539,
          90.72693634033205,
          90.85773468017578,
          91.14158630371094,
          90.96062469482422,
          90.9986572265625,
          90.90209197998048,
          90.68777465820312,
          90.78495025634766,
          90.79519653320312,
          90.80500030517578,
          90.82732391357422,
          91.01874542236328,
          90.81852722167967,
          90.95635223388672,
          90.76766967773438,
          90.83138275146484,
          91.01187896728516,
          90.99410247802734,
          91.05294799804688,
          90.74454498291016,
          90.74673461914062,
          90.72764587402344,
          90.8261489868164,
          90.87052917480467,
          90.90058135986328,
          90.83145141601562,
          91.14329528808594,
          90.96696472167967,
          91.07585144042967,
          90.85553741455078,
          91.00862884521484,
          90.70917510986328,
          90.94296264648438,
          90.74524688720705,
          90.97483825683594,
          91.02256774902344,
          90.71653747558594,
          90.85967254638672,
          90.96511840820312,
          90.68048095703124,
          90.94226837158205,
          90.82967376708984,
          90.83258056640624,
          90.87918853759766,
          91.05033111572266,
          90.75440979003906,
          90.82388305664062,
          90.93067932128906,
          90.899658203125,
          91.04375457763672,
          90.79240417480467,
          90.56324005126952,
          90.63850402832033,
          90.6288833618164,
          90.7510223388672,
          90.51970672607422,
          90.82308197021484,
          90.58810424804688,
          91.01775360107422,
          90.79178619384766,
          90.83248138427734,
          90.8486099243164,
          90.61648559570312,
          90.50568389892578,
          90.7473373413086,
          91.14295196533205,
          90.64974975585938,
          90.96184539794922,
          90.75875091552734,
          90.6265869140625,
          90.76797485351562,
          90.93658447265624,
          90.49637603759766,
          90.61524963378906,
          90.55213165283205,
          90.50940704345705,
          90.60183715820312,
          90.70333862304688,
          90.81891632080078,
          90.63629150390624,
          90.38328552246094,
          90.7017059326172,
          90.57935333251952,
          90.8087921142578,
          90.59828186035156,
          90.62981414794922,
          90.5531768798828,
          90.71653747558594,
          90.63996124267578,
          90.71704864501952,
          90.52362060546876,
          90.58594512939452,
          90.61530303955078,
          90.78402709960938,
          90.6603775024414,
          90.6107406616211,
          90.67639923095705,
          90.52564239501952,
          90.478759765625,
          90.594970703125,
          90.5234146118164,
          90.79068756103516,
          90.4220199584961,
          90.60269165039062,
          90.47733306884766,
          90.39131927490234,
          90.65025329589844,
          90.54192352294922,
          90.74445343017578,
          90.49403381347656,
          90.63121795654295,
          90.49486541748048,
          90.41455841064452,
          90.4750747680664,
          90.74698638916016,
          90.60415649414062,
          90.39855194091795,
          90.56647491455078,
          90.47189331054688,
          90.44107055664062,
          90.43943786621094,
          90.59336853027344,
          90.49583435058594,
          90.60841369628906,
          90.41276550292967,
          90.47792053222656,
          90.7904281616211,
          90.61990356445312,
          90.48575592041016,
          90.38943481445312,
          90.60468292236328,
          90.69461822509766,
          90.47411346435548,
          90.39595794677734,
          90.52181243896484,
          90.5868911743164,
          90.62688446044922,
          90.36199188232422,
          90.68231964111328,
          90.6287612915039,
          90.404541015625,
          90.2498016357422,
          90.3960418701172,
          90.66287231445312,
          90.56781005859376,
          90.61734008789062,
          90.66075134277344,
          90.58057403564452,
          90.87034606933594,
          91.95565795898438,
          90.50482940673828,
          90.40695190429688,
          90.40193939208984,
          90.45403289794922,
          90.37381744384766,
          90.59001922607422,
          90.37088775634766,
          90.6140594482422,
          90.50822448730467,
          90.40609741210938,
          90.49212646484376,
          90.52095794677734,
          90.53451538085938,
          90.37244415283205,
          90.96638488769533,
          91.25039672851562,
          90.36465454101562,
          90.38532257080078,
          90.447021484375,
          90.51603698730467,
          90.4290008544922,
          90.38095092773438,
          90.54207611083984,
          90.58824920654295,
          90.66558837890624,
          90.56829071044922,
          90.47044372558594,
          90.3818817138672,
          90.46588134765624,
          90.63159942626952,
          91.14151000976562,
          90.49730682373048,
          90.54792022705078,
          90.59337615966795,
          90.49192810058594,
          90.44148254394533,
          90.323486328125,
          90.66338348388672,
          90.42433166503906,
          90.45883178710938,
          90.35685729980467,
          90.5106964111328,
          90.3574447631836,
          90.31900024414062,
          90.65827178955078,
          90.61678314208984,
          90.46424865722656,
          90.45880126953124,
          90.38087463378906,
          90.43223571777344,
          90.39129638671876,
          90.63755798339844,
          90.37840270996094,
          90.48711395263672,
          90.50059509277344,
          90.40129852294922,
          90.56309509277344,
          90.2883071899414,
          90.43568420410156,
          90.43306732177734,
          90.61644744873048,
          90.38458251953124,
          90.52913665771484,
          90.52849578857422,
          90.41252136230467,
          90.66761779785156,
          90.57583618164062,
          90.40460968017578,
          90.43167877197266,
          90.42920684814452,
          90.75668334960938,
          90.3766632080078,
          90.40322875976562,
          90.4552230834961,
          90.47264862060548,
          90.43429565429688,
          90.4308624267578,
          90.39746856689452,
          90.3841781616211,
          90.46974182128906,
          90.60077667236328,
          90.30154418945312,
          90.56275177001952,
          90.4381103515625,
          90.4892578125,
          90.38180541992188,
          90.47411346435548,
          90.46170043945312,
          90.46785736083984,
          90.49699401855467,
          90.41441345214844
         ]
        },
        {
         "mode": "lines+markers",
         "name": "Validation loss",
         "showlegend": true,
         "type": "scatter",
         "x": [
          0,
          1,
          2,
          3,
          4,
          5,
          6,
          7,
          8,
          9,
          10,
          11,
          12,
          13,
          14,
          15,
          16,
          17,
          18,
          19,
          20,
          21,
          22,
          23,
          24,
          25,
          26,
          27,
          28,
          29,
          30,
          31,
          32,
          33,
          34,
          35,
          36,
          37,
          38,
          39,
          40,
          41,
          42,
          43,
          44,
          45,
          46,
          47,
          48,
          49,
          50,
          51,
          52,
          53,
          54,
          55,
          56,
          57,
          58,
          59,
          60,
          61,
          62,
          63,
          64,
          65,
          66,
          67,
          68,
          69,
          70,
          71,
          72,
          73,
          74,
          75,
          76,
          77,
          78,
          79,
          80,
          81,
          82,
          83,
          84,
          85,
          86,
          87,
          88,
          89,
          90,
          91,
          92,
          93,
          94,
          95,
          96,
          97,
          98,
          99,
          100,
          101,
          102,
          103,
          104,
          105,
          106,
          107,
          108,
          109,
          110,
          111,
          112,
          113,
          114,
          115,
          116,
          117,
          118,
          119,
          120,
          121,
          122,
          123,
          124,
          125,
          126,
          127,
          128,
          129,
          130,
          131,
          132,
          133,
          134,
          135,
          136,
          137,
          138,
          139,
          140,
          141,
          142,
          143,
          144,
          145,
          146,
          147,
          148,
          149,
          150,
          151,
          152,
          153,
          154,
          155,
          156,
          157,
          158,
          159,
          160,
          161,
          162,
          163,
          164,
          165,
          166,
          167,
          168,
          169,
          170,
          171,
          172,
          173,
          174,
          175,
          176,
          177,
          178,
          179,
          180,
          181,
          182,
          183,
          184,
          185,
          186,
          187,
          188,
          189,
          190,
          191,
          192,
          193,
          194,
          195,
          196,
          197,
          198,
          199,
          200,
          201,
          202,
          203,
          204,
          205,
          206,
          207,
          208,
          209,
          210,
          211,
          212,
          213,
          214,
          215,
          216,
          217,
          218,
          219,
          220,
          221,
          222,
          223,
          224,
          225,
          226,
          227,
          228,
          229,
          230,
          231,
          232,
          233,
          234,
          235,
          236,
          237,
          238,
          239,
          240,
          241,
          242,
          243,
          244,
          245,
          246,
          247,
          248,
          249,
          250,
          251,
          252,
          253,
          254,
          255,
          256,
          257,
          258,
          259,
          260,
          261,
          262,
          263,
          264,
          265,
          266,
          267,
          268,
          269,
          270,
          271,
          272,
          273,
          274,
          275,
          276,
          277,
          278,
          279,
          280,
          281,
          282,
          283,
          284,
          285,
          286,
          287,
          288,
          289,
          290,
          291,
          292,
          293,
          294,
          295,
          296,
          297,
          298,
          299,
          300,
          301,
          302,
          303,
          304,
          305,
          306,
          307,
          308,
          309,
          310,
          311,
          312,
          313,
          314,
          315,
          316,
          317,
          318,
          319,
          320,
          321,
          322,
          323,
          324,
          325,
          326,
          327,
          328,
          329,
          330,
          331,
          332,
          333,
          334,
          335,
          336,
          337,
          338,
          339,
          340,
          341,
          342,
          343,
          344,
          345,
          346,
          347,
          348,
          349,
          350,
          351,
          352,
          353,
          354,
          355,
          356,
          357,
          358,
          359,
          360,
          361,
          362,
          363,
          364,
          365,
          366,
          367,
          368,
          369,
          370,
          371,
          372,
          373,
          374,
          375,
          376,
          377,
          378,
          379,
          380,
          381,
          382,
          383,
          384,
          385,
          386,
          387,
          388,
          389,
          390,
          391,
          392,
          393,
          394,
          395,
          396,
          397,
          398,
          399,
          400,
          401,
          402,
          403,
          404,
          405,
          406,
          407,
          408,
          409,
          410,
          411,
          412,
          413,
          414,
          415,
          416,
          417,
          418,
          419,
          420,
          421,
          422,
          423,
          424,
          425,
          426,
          427,
          428,
          429,
          430,
          431,
          432,
          433,
          434,
          435,
          436,
          437,
          438,
          439,
          440,
          441,
          442,
          443,
          444,
          445,
          446,
          447,
          448,
          449,
          450,
          451,
          452,
          453,
          454,
          455,
          456,
          457,
          458,
          459,
          460,
          461,
          462,
          463,
          464,
          465,
          466,
          467,
          468,
          469,
          470,
          471,
          472,
          473,
          474,
          475,
          476,
          477,
          478,
          479,
          480,
          481,
          482,
          483,
          484,
          485,
          486,
          487,
          488,
          489,
          490,
          491,
          492,
          493,
          494,
          495,
          496,
          497,
          498,
          499
         ],
         "y": [
          600.0770263671875,
          531.8132934570312,
          495.2942504882813,
          554.2025756835938,
          591.2232055664062,
          1011.9156494140624,
          778.3538818359375,
          784.5769653320312,
          813.5035400390625,
          842.7999267578125,
          717.0269775390625,
          875.258056640625,
          828.2184448242188,
          683.1541137695312,
          907.7935791015624,
          626.6414794921875,
          701.6556396484375,
          962.5400390625,
          655.83544921875,
          589.572265625,
          648.9298706054688,
          581.3004150390625,
          594.0260009765625,
          630.5830078125,
          647.0416870117188,
          675.536865234375,
          722.0684814453125,
          591.180908203125,
          592.012939453125,
          667.3463134765625,
          670.0993041992188,
          616.01025390625,
          673.6851806640625,
          538.10205078125,
          701.2609252929688,
          563.4163208007812,
          529.4197387695312,
          581.5060424804688,
          538.0245361328125,
          563.6547241210938,
          546.7218017578125,
          632.9375610351562,
          528.0256958007812,
          588.808837890625,
          578.9090576171875,
          536.4976806640625,
          552.9139404296875,
          592.5004272460938,
          585.2211303710938,
          521.6640014648438,
          573.5277709960938,
          497.4944152832031,
          543.2410278320312,
          547.8283081054688,
          552.2056274414062,
          535.2241821289062,
          586.3952026367188,
          529.3540649414062,
          563.7412719726562,
          535.9170532226562,
          556.6476440429688,
          543.714599609375,
          574.5841674804688,
          546.1263427734375,
          528.1171875,
          530.366455078125,
          593.8236083984375,
          540.0313110351562,
          569.0452880859375,
          552.4489135742188,
          576.46044921875,
          592.5974731445312,
          509.1081237792969,
          554.24169921875,
          562.56884765625,
          538.3999633789062,
          562.3488159179688,
          522.4275512695312,
          530.20458984375,
          587.3529663085938,
          529.6861572265625,
          542.0936889648438,
          547.97705078125,
          550.732177734375,
          546.3208618164062,
          594.072265625,
          551.2862548828125,
          541.6420288085938,
          514.7102661132812,
          570.478271484375,
          580.283447265625,
          557.1761474609375,
          532.9823608398438,
          538.6286010742188,
          549.7659912109375,
          538.6072387695312,
          557.2283935546875,
          538.4647216796875,
          554.302001953125,
          613.6643676757812,
          551.60791015625,
          571.382080078125,
          533.8932495117188,
          565.21826171875,
          546.8217163085938,
          564.220703125,
          548.1008911132812,
          558.2890014648438,
          541.23486328125,
          544.708740234375,
          535.8206787109375,
          562.0532836914062,
          552.8196411132812,
          534.6377563476562,
          545.6075439453125,
          562.0836181640625,
          555.056396484375,
          541.5552978515625,
          536.7988891601562,
          552.6178588867188,
          551.5579833984375,
          541.1410522460938,
          538.1928100585938,
          569.9986572265625,
          526.1056518554688,
          548.077880859375,
          539.2467651367188,
          557.7708129882812,
          550.1111450195312,
          560.2484130859375,
          545.092529296875,
          541.2410888671875,
          533.445068359375,
          522.657470703125,
          534.2437744140625,
          536.5684814453125,
          545.1116943359375,
          536.0794677734375,
          529.1869506835938,
          520.417724609375,
          534.8373413085938,
          542.0144653320312,
          532.2891235351562,
          539.3873901367188,
          532.0538940429688,
          526.66455078125,
          524.0175170898438,
          535.728271484375,
          540.1806030273438,
          531.01513671875,
          531.2926025390625,
          537.3433227539062,
          519.083251953125,
          539.132568359375,
          534.0059204101562,
          535.1642456054688,
          536.3282470703125,
          531.6204833984375,
          531.3895874023438,
          528.2280883789062,
          531.7379760742188,
          534.7846069335938,
          535.5868530273438,
          533.2130737304688,
          535.2525024414062,
          532.1610717773438,
          531.2332153320312,
          532.2528076171875,
          530.4437866210938,
          529.9545288085938,
          531.0341186523438,
          538.8793334960938,
          524.6503295898438,
          535.046630859375,
          534.4873046875,
          528.9475708007812,
          534.0958251953125,
          531.667724609375,
          529.3331909179688,
          524.1068725585938,
          531.0571899414062,
          525.2031860351562,
          531.2492065429688,
          530.0220336914062,
          529.65185546875,
          524.188720703125,
          527.3389282226562,
          525.4539184570312,
          533.6319580078125,
          525.4439697265625,
          539.70849609375,
          531.06396484375,
          534.3550415039062,
          526.9576416015625,
          532.742431640625,
          529.3930053710938,
          529.357666015625,
          519.6182861328125,
          528.74853515625,
          527.4771728515625,
          534.840087890625,
          530.7301025390625,
          531.2113037109375,
          530.1018676757812,
          536.0757446289062,
          530.19384765625,
          528.3560180664062,
          525.6415405273438,
          529.355712890625,
          525.5243530273438,
          531.272216796875,
          526.354248046875,
          526.3572387695312,
          524.514892578125,
          532.2266235351562,
          530.3077392578125,
          528.572998046875,
          526.6818237304688,
          532.9004516601562,
          531.9923095703125,
          529.6397094726562,
          531.6697998046875,
          532.7618408203125,
          527.5298461914062,
          523.9370727539062,
          529.8424072265625,
          525.649169921875,
          526.1019897460938,
          527.6375122070312,
          528.8695678710938,
          526.6695556640625,
          529.4426879882812,
          525.36962890625,
          525.5773315429688,
          529.923828125,
          529.3361206054688,
          528.5117797851562,
          524.4501342773438,
          522.2719116210938,
          530.87451171875,
          528.373046875,
          523.7205810546875,
          525.4210815429688,
          525.0272216796875,
          528.8250122070312,
          528.0604858398438,
          526.7008666992188,
          529.2959594726562,
          525.31787109375,
          524.9161376953125,
          524.748779296875,
          526.040771484375,
          525.8541870117188,
          527.0267944335938,
          527.6322631835938,
          526.57763671875,
          527.0216064453125,
          525.8259887695312,
          522.2923583984375,
          523.7153930664062,
          522.1373291015625,
          526.6229248046875,
          527.110107421875,
          523.0557861328125,
          524.6366577148438,
          526.7236328125,
          525.84130859375,
          525.6099853515625,
          526.878662109375,
          520.0614624023438,
          527.7896728515625,
          525.106689453125,
          527.281982421875,
          527.2588500976562,
          527.2341918945312,
          525.078857421875,
          524.8450927734375,
          521.193359375,
          524.979248046875,
          524.3679809570312,
          524.5211791992188,
          525.5621948242188,
          525.3013305664062,
          524.712646484375,
          526.6793823242188,
          526.5591430664062,
          525.7933349609375,
          522.85693359375,
          526.9076538085938,
          527.8896484375,
          525.3426513671875,
          528.3977661132812,
          525.7503662109375,
          525.4898071289062,
          524.1460571289062,
          524.2097778320312,
          527.145751953125,
          524.9676513671875,
          523.5880126953125,
          525.4148559570312,
          527.0047607421875,
          528.4334716796875,
          524.3663330078125,
          526.9420776367188,
          523.1021728515625,
          523.205078125,
          525.362548828125,
          526.3081665039062,
          527.650634765625,
          526.4443359375,
          525.9575805664062,
          525.8439331054688,
          523.5823974609375,
          526.1257934570312,
          526.75439453125,
          525.3601684570312,
          524.8282470703125,
          525.4263916015625,
          525.8452758789062,
          526.8383178710938,
          524.7552490234375,
          524.5106201171875,
          523.17724609375,
          524.8304443359375,
          523.274658203125,
          522.7017822265625,
          525.2034912109375,
          524.1934814453125,
          524.4193725585938,
          525.8955078125,
          526.249267578125,
          526.8445434570312,
          527.0101318359375,
          525.0048828125,
          525.306640625,
          524.5181884765625,
          524.4163818359375,
          526.55126953125,
          524.7012329101562,
          525.6736450195312,
          523.4740600585938,
          527.3058471679688,
          526.4788208007812,
          526.158203125,
          523.572509765625,
          522.9617919921875,
          525.1279296875,
          523.1881103515625,
          525.1636352539062,
          526.5057983398438,
          523.783935546875,
          523.6491088867188,
          524.3889770507812,
          522.0214233398438,
          526.0669555664062,
          526.0787353515625,
          526.4678955078125,
          524.8922729492188,
          525.4662475585938,
          527.2015991210938,
          526.6728515625,
          526.7857666015625,
          524.7987670898438,
          525.7205810546875,
          526.1178588867188,
          526.2002563476562,
          526.8338623046875,
          525.0581665039062,
          525.2942504882812,
          523.81884765625,
          524.4598388671875,
          526.090087890625,
          525.6390991210938,
          525.533203125,
          524.2904663085938,
          525.2470703125,
          523.4783935546875,
          525.0023803710938,
          525.1348876953125,
          522.5480346679688,
          524.528564453125,
          525.0672607421875,
          525.8802490234375,
          523.8220825195312,
          525.815673828125,
          524.3226928710938,
          522.9325561523438,
          525.8114624023438,
          524.3827514648438,
          524.5347900390625,
          524.2846069335938,
          523.2384033203125,
          524.0870971679688,
          522.6991577148438,
          523.5830078125,
          523.8775634765625,
          522.786376953125,
          523.7722778320312,
          522.891357421875,
          524.8856201171875,
          524.4126586914062,
          521.2259521484375,
          523.4376220703125,
          523.2774047851562,
          524.139892578125,
          523.7559814453125,
          523.6392822265625,
          523.3565063476562,
          524.2426147460938,
          522.7311401367188,
          523.327392578125,
          523.105712890625,
          523.4629516601562,
          522.9920654296875,
          522.66064453125,
          523.07373046875,
          522.6318359375,
          523.5087280273438,
          523.9776000976562,
          524.1917114257812,
          523.4056396484375,
          523.4824829101562,
          525.2916259765625,
          523.0671997070312,
          522.255126953125,
          522.2378540039062,
          526.1923828125,
          524.5457763671875,
          524.10888671875,
          524.9904174804688,
          524.08203125,
          523.176025390625,
          523.3798217773438,
          524.86572265625,
          523.5364379882812,
          524.5557250976562,
          524.320068359375,
          523.3090209960938,
          523.8494873046875,
          523.066162109375,
          525.0783081054688,
          524.0930786132812,
          523.5070190429688,
          524.214599609375,
          524.283203125,
          523.6055297851562,
          524.2711181640625,
          526.0358276367188,
          524.53759765625,
          523.8890991210938,
          524.7619018554688,
          522.8781127929688,
          524.7872924804688,
          523.9241943359375,
          525.1871337890625,
          524.3621215820312,
          524.315185546875,
          524.4882202148438,
          524.2113037109375,
          525.0399169921875,
          522.060791015625,
          526.2597045898438,
          525.2688598632812,
          525.0874633789062,
          525.34619140625,
          526.1475219726562,
          523.8460693359375,
          525.0498046875,
          524.1119384765625,
          523.499755859375,
          525.3316650390625,
          524.0314331054688,
          524.0521850585938,
          523.9605102539062,
          525.5977783203125,
          524.2402954101562,
          526.11669921875,
          524.893310546875,
          525.4427490234375,
          524.8452758789062,
          525.726318359375,
          524.2742919921875,
          524.6504516601562,
          524.4863891601562,
          526.2490234375,
          524.0770263671875,
          523.739990234375,
          524.2908325195312,
          523.5961303710938,
          524.8753051757812,
          525.345947265625,
          525.3649291992188,
          522.5596313476562,
          524.654541015625,
          524.1117553710938,
          524.505615234375,
          523.0403442382812,
          526.59619140625,
          523.085693359375,
          523.663818359375
         ]
        }
       ],
       "layout": {
        "autosize": true,
        "font": {
         "size": 20
        },
        "template": {
         "data": {
          "bar": [
           {
            "error_x": {
             "color": "rgb(36,36,36)"
            },
            "error_y": {
             "color": "rgb(36,36,36)"
            },
            "marker": {
             "line": {
              "color": "white",
              "width": 0.5
             },
             "pattern": {
              "fillmode": "overlay",
              "size": 10,
              "solidity": 0.2
             }
            },
            "type": "bar"
           }
          ],
          "barpolar": [
           {
            "marker": {
             "line": {
              "color": "white",
              "width": 0.5
             },
             "pattern": {
              "fillmode": "overlay",
              "size": 10,
              "solidity": 0.2
             }
            },
            "type": "barpolar"
           }
          ],
          "carpet": [
           {
            "aaxis": {
             "endlinecolor": "rgb(36,36,36)",
             "gridcolor": "white",
             "linecolor": "white",
             "minorgridcolor": "white",
             "startlinecolor": "rgb(36,36,36)"
            },
            "baxis": {
             "endlinecolor": "rgb(36,36,36)",
             "gridcolor": "white",
             "linecolor": "white",
             "minorgridcolor": "white",
             "startlinecolor": "rgb(36,36,36)"
            },
            "type": "carpet"
           }
          ],
          "choropleth": [
           {
            "colorbar": {
             "outlinewidth": 1,
             "tickcolor": "rgb(36,36,36)",
             "ticks": "outside"
            },
            "type": "choropleth"
           }
          ],
          "contour": [
           {
            "colorbar": {
             "outlinewidth": 1,
             "tickcolor": "rgb(36,36,36)",
             "ticks": "outside"
            },
            "colorscale": [
             [
              0,
              "#440154"
             ],
             [
              0.1111111111111111,
              "#482878"
             ],
             [
              0.2222222222222222,
              "#3e4989"
             ],
             [
              0.3333333333333333,
              "#31688e"
             ],
             [
              0.4444444444444444,
              "#26828e"
             ],
             [
              0.5555555555555556,
              "#1f9e89"
             ],
             [
              0.6666666666666666,
              "#35b779"
             ],
             [
              0.7777777777777778,
              "#6ece58"
             ],
             [
              0.8888888888888888,
              "#b5de2b"
             ],
             [
              1,
              "#fde725"
             ]
            ],
            "type": "contour"
           }
          ],
          "contourcarpet": [
           {
            "colorbar": {
             "outlinewidth": 1,
             "tickcolor": "rgb(36,36,36)",
             "ticks": "outside"
            },
            "type": "contourcarpet"
           }
          ],
          "heatmap": [
           {
            "colorbar": {
             "outlinewidth": 1,
             "tickcolor": "rgb(36,36,36)",
             "ticks": "outside"
            },
            "colorscale": [
             [
              0,
              "#440154"
             ],
             [
              0.1111111111111111,
              "#482878"
             ],
             [
              0.2222222222222222,
              "#3e4989"
             ],
             [
              0.3333333333333333,
              "#31688e"
             ],
             [
              0.4444444444444444,
              "#26828e"
             ],
             [
              0.5555555555555556,
              "#1f9e89"
             ],
             [
              0.6666666666666666,
              "#35b779"
             ],
             [
              0.7777777777777778,
              "#6ece58"
             ],
             [
              0.8888888888888888,
              "#b5de2b"
             ],
             [
              1,
              "#fde725"
             ]
            ],
            "type": "heatmap"
           }
          ],
          "heatmapgl": [
           {
            "colorbar": {
             "outlinewidth": 1,
             "tickcolor": "rgb(36,36,36)",
             "ticks": "outside"
            },
            "colorscale": [
             [
              0,
              "#440154"
             ],
             [
              0.1111111111111111,
              "#482878"
             ],
             [
              0.2222222222222222,
              "#3e4989"
             ],
             [
              0.3333333333333333,
              "#31688e"
             ],
             [
              0.4444444444444444,
              "#26828e"
             ],
             [
              0.5555555555555556,
              "#1f9e89"
             ],
             [
              0.6666666666666666,
              "#35b779"
             ],
             [
              0.7777777777777778,
              "#6ece58"
             ],
             [
              0.8888888888888888,
              "#b5de2b"
             ],
             [
              1,
              "#fde725"
             ]
            ],
            "type": "heatmapgl"
           }
          ],
          "histogram": [
           {
            "marker": {
             "line": {
              "color": "white",
              "width": 0.6
             }
            },
            "type": "histogram"
           }
          ],
          "histogram2d": [
           {
            "colorbar": {
             "outlinewidth": 1,
             "tickcolor": "rgb(36,36,36)",
             "ticks": "outside"
            },
            "colorscale": [
             [
              0,
              "#440154"
             ],
             [
              0.1111111111111111,
              "#482878"
             ],
             [
              0.2222222222222222,
              "#3e4989"
             ],
             [
              0.3333333333333333,
              "#31688e"
             ],
             [
              0.4444444444444444,
              "#26828e"
             ],
             [
              0.5555555555555556,
              "#1f9e89"
             ],
             [
              0.6666666666666666,
              "#35b779"
             ],
             [
              0.7777777777777778,
              "#6ece58"
             ],
             [
              0.8888888888888888,
              "#b5de2b"
             ],
             [
              1,
              "#fde725"
             ]
            ],
            "type": "histogram2d"
           }
          ],
          "histogram2dcontour": [
           {
            "colorbar": {
             "outlinewidth": 1,
             "tickcolor": "rgb(36,36,36)",
             "ticks": "outside"
            },
            "colorscale": [
             [
              0,
              "#440154"
             ],
             [
              0.1111111111111111,
              "#482878"
             ],
             [
              0.2222222222222222,
              "#3e4989"
             ],
             [
              0.3333333333333333,
              "#31688e"
             ],
             [
              0.4444444444444444,
              "#26828e"
             ],
             [
              0.5555555555555556,
              "#1f9e89"
             ],
             [
              0.6666666666666666,
              "#35b779"
             ],
             [
              0.7777777777777778,
              "#6ece58"
             ],
             [
              0.8888888888888888,
              "#b5de2b"
             ],
             [
              1,
              "#fde725"
             ]
            ],
            "type": "histogram2dcontour"
           }
          ],
          "mesh3d": [
           {
            "colorbar": {
             "outlinewidth": 1,
             "tickcolor": "rgb(36,36,36)",
             "ticks": "outside"
            },
            "type": "mesh3d"
           }
          ],
          "parcoords": [
           {
            "line": {
             "colorbar": {
              "outlinewidth": 1,
              "tickcolor": "rgb(36,36,36)",
              "ticks": "outside"
             }
            },
            "type": "parcoords"
           }
          ],
          "pie": [
           {
            "automargin": true,
            "type": "pie"
           }
          ],
          "scatter": [
           {
            "fillpattern": {
             "fillmode": "overlay",
             "size": 10,
             "solidity": 0.2
            },
            "type": "scatter"
           }
          ],
          "scatter3d": [
           {
            "line": {
             "colorbar": {
              "outlinewidth": 1,
              "tickcolor": "rgb(36,36,36)",
              "ticks": "outside"
             }
            },
            "marker": {
             "colorbar": {
              "outlinewidth": 1,
              "tickcolor": "rgb(36,36,36)",
              "ticks": "outside"
             }
            },
            "type": "scatter3d"
           }
          ],
          "scattercarpet": [
           {
            "marker": {
             "colorbar": {
              "outlinewidth": 1,
              "tickcolor": "rgb(36,36,36)",
              "ticks": "outside"
             }
            },
            "type": "scattercarpet"
           }
          ],
          "scattergeo": [
           {
            "marker": {
             "colorbar": {
              "outlinewidth": 1,
              "tickcolor": "rgb(36,36,36)",
              "ticks": "outside"
             }
            },
            "type": "scattergeo"
           }
          ],
          "scattergl": [
           {
            "marker": {
             "colorbar": {
              "outlinewidth": 1,
              "tickcolor": "rgb(36,36,36)",
              "ticks": "outside"
             }
            },
            "type": "scattergl"
           }
          ],
          "scattermapbox": [
           {
            "marker": {
             "colorbar": {
              "outlinewidth": 1,
              "tickcolor": "rgb(36,36,36)",
              "ticks": "outside"
             }
            },
            "type": "scattermapbox"
           }
          ],
          "scatterpolar": [
           {
            "marker": {
             "colorbar": {
              "outlinewidth": 1,
              "tickcolor": "rgb(36,36,36)",
              "ticks": "outside"
             }
            },
            "type": "scatterpolar"
           }
          ],
          "scatterpolargl": [
           {
            "marker": {
             "colorbar": {
              "outlinewidth": 1,
              "tickcolor": "rgb(36,36,36)",
              "ticks": "outside"
             }
            },
            "type": "scatterpolargl"
           }
          ],
          "scatterternary": [
           {
            "marker": {
             "colorbar": {
              "outlinewidth": 1,
              "tickcolor": "rgb(36,36,36)",
              "ticks": "outside"
             }
            },
            "type": "scatterternary"
           }
          ],
          "surface": [
           {
            "colorbar": {
             "outlinewidth": 1,
             "tickcolor": "rgb(36,36,36)",
             "ticks": "outside"
            },
            "colorscale": [
             [
              0,
              "#440154"
             ],
             [
              0.1111111111111111,
              "#482878"
             ],
             [
              0.2222222222222222,
              "#3e4989"
             ],
             [
              0.3333333333333333,
              "#31688e"
             ],
             [
              0.4444444444444444,
              "#26828e"
             ],
             [
              0.5555555555555556,
              "#1f9e89"
             ],
             [
              0.6666666666666666,
              "#35b779"
             ],
             [
              0.7777777777777778,
              "#6ece58"
             ],
             [
              0.8888888888888888,
              "#b5de2b"
             ],
             [
              1,
              "#fde725"
             ]
            ],
            "type": "surface"
           }
          ],
          "table": [
           {
            "cells": {
             "fill": {
              "color": "rgb(237,237,237)"
             },
             "line": {
              "color": "white"
             }
            },
            "header": {
             "fill": {
              "color": "rgb(217,217,217)"
             },
             "line": {
              "color": "white"
             }
            },
            "type": "table"
           }
          ]
         },
         "layout": {
          "annotationdefaults": {
           "arrowhead": 0,
           "arrowwidth": 1
          },
          "autotypenumbers": "strict",
          "coloraxis": {
           "colorbar": {
            "outlinewidth": 1,
            "tickcolor": "rgb(36,36,36)",
            "ticks": "outside"
           }
          },
          "colorscale": {
           "diverging": [
            [
             0,
             "rgb(103,0,31)"
            ],
            [
             0.1,
             "rgb(178,24,43)"
            ],
            [
             0.2,
             "rgb(214,96,77)"
            ],
            [
             0.3,
             "rgb(244,165,130)"
            ],
            [
             0.4,
             "rgb(253,219,199)"
            ],
            [
             0.5,
             "rgb(247,247,247)"
            ],
            [
             0.6,
             "rgb(209,229,240)"
            ],
            [
             0.7,
             "rgb(146,197,222)"
            ],
            [
             0.8,
             "rgb(67,147,195)"
            ],
            [
             0.9,
             "rgb(33,102,172)"
            ],
            [
             1,
             "rgb(5,48,97)"
            ]
           ],
           "sequential": [
            [
             0,
             "#440154"
            ],
            [
             0.1111111111111111,
             "#482878"
            ],
            [
             0.2222222222222222,
             "#3e4989"
            ],
            [
             0.3333333333333333,
             "#31688e"
            ],
            [
             0.4444444444444444,
             "#26828e"
            ],
            [
             0.5555555555555556,
             "#1f9e89"
            ],
            [
             0.6666666666666666,
             "#35b779"
            ],
            [
             0.7777777777777778,
             "#6ece58"
            ],
            [
             0.8888888888888888,
             "#b5de2b"
            ],
            [
             1,
             "#fde725"
            ]
           ],
           "sequentialminus": [
            [
             0,
             "#440154"
            ],
            [
             0.1111111111111111,
             "#482878"
            ],
            [
             0.2222222222222222,
             "#3e4989"
            ],
            [
             0.3333333333333333,
             "#31688e"
            ],
            [
             0.4444444444444444,
             "#26828e"
            ],
            [
             0.5555555555555556,
             "#1f9e89"
            ],
            [
             0.6666666666666666,
             "#35b779"
            ],
            [
             0.7777777777777778,
             "#6ece58"
            ],
            [
             0.8888888888888888,
             "#b5de2b"
            ],
            [
             1,
             "#fde725"
            ]
           ]
          },
          "colorway": [
           "#1F77B4",
           "#FF7F0E",
           "#2CA02C",
           "#D62728",
           "#9467BD",
           "#8C564B",
           "#E377C2",
           "#7F7F7F",
           "#BCBD22",
           "#17BECF"
          ],
          "font": {
           "color": "rgb(36,36,36)"
          },
          "geo": {
           "bgcolor": "white",
           "lakecolor": "white",
           "landcolor": "white",
           "showlakes": true,
           "showland": true,
           "subunitcolor": "white"
          },
          "hoverlabel": {
           "align": "left"
          },
          "hovermode": "closest",
          "mapbox": {
           "style": "light"
          },
          "paper_bgcolor": "white",
          "plot_bgcolor": "white",
          "polar": {
           "angularaxis": {
            "gridcolor": "rgb(232,232,232)",
            "linecolor": "rgb(36,36,36)",
            "showgrid": false,
            "showline": true,
            "ticks": "outside"
           },
           "bgcolor": "white",
           "radialaxis": {
            "gridcolor": "rgb(232,232,232)",
            "linecolor": "rgb(36,36,36)",
            "showgrid": false,
            "showline": true,
            "ticks": "outside"
           }
          },
          "scene": {
           "xaxis": {
            "backgroundcolor": "white",
            "gridcolor": "rgb(232,232,232)",
            "gridwidth": 2,
            "linecolor": "rgb(36,36,36)",
            "showbackground": true,
            "showgrid": false,
            "showline": true,
            "ticks": "outside",
            "zeroline": false,
            "zerolinecolor": "rgb(36,36,36)"
           },
           "yaxis": {
            "backgroundcolor": "white",
            "gridcolor": "rgb(232,232,232)",
            "gridwidth": 2,
            "linecolor": "rgb(36,36,36)",
            "showbackground": true,
            "showgrid": false,
            "showline": true,
            "ticks": "outside",
            "zeroline": false,
            "zerolinecolor": "rgb(36,36,36)"
           },
           "zaxis": {
            "backgroundcolor": "white",
            "gridcolor": "rgb(232,232,232)",
            "gridwidth": 2,
            "linecolor": "rgb(36,36,36)",
            "showbackground": true,
            "showgrid": false,
            "showline": true,
            "ticks": "outside",
            "zeroline": false,
            "zerolinecolor": "rgb(36,36,36)"
           }
          },
          "shapedefaults": {
           "fillcolor": "black",
           "line": {
            "width": 0
           },
           "opacity": 0.3
          },
          "ternary": {
           "aaxis": {
            "gridcolor": "rgb(232,232,232)",
            "linecolor": "rgb(36,36,36)",
            "showgrid": false,
            "showline": true,
            "ticks": "outside"
           },
           "baxis": {
            "gridcolor": "rgb(232,232,232)",
            "linecolor": "rgb(36,36,36)",
            "showgrid": false,
            "showline": true,
            "ticks": "outside"
           },
           "bgcolor": "white",
           "caxis": {
            "gridcolor": "rgb(232,232,232)",
            "linecolor": "rgb(36,36,36)",
            "showgrid": false,
            "showline": true,
            "ticks": "outside"
           }
          },
          "title": {
           "x": 0.05
          },
          "xaxis": {
           "automargin": true,
           "gridcolor": "rgb(232,232,232)",
           "linecolor": "rgb(36,36,36)",
           "showgrid": false,
           "showline": true,
           "ticks": "outside",
           "title": {
            "standoff": 15
           },
           "zeroline": false,
           "zerolinecolor": "rgb(36,36,36)"
          },
          "yaxis": {
           "automargin": true,
           "gridcolor": "rgb(232,232,232)",
           "linecolor": "rgb(36,36,36)",
           "showgrid": false,
           "showline": true,
           "ticks": "outside",
           "title": {
            "standoff": 15
           },
           "zeroline": false,
           "zerolinecolor": "rgb(36,36,36)"
          }
         }
        },
        "xaxis": {
         "showgrid": false,
         "title": {
          "text": "Epoch"
         }
        },
        "yaxis": {
         "showgrid": false
        }
       }
      }
     },
     "metadata": {},
     "output_type": "display_data"
    }
   ],
   "source": [
    "lr_val = go.Scatter(\n",
    "    x=df_lr_epochs_first.index,\n",
    "    y=df_lr_epochs_first[\"val/loss/shg_tensor_full\"],\n",
    "    mode=\"lines+markers\",\n",
    "    name=\"Validation loss\",\n",
    "    showlegend=True,\n",
    ")\n",
    "lr_train = go.Scatter(\n",
    "    x=df_lr_epochs_second.index,\n",
    "    y=df_lr_epochs_second[\"train/loss/shg_tensor_full\"],\n",
    "    mode=\"lines+markers\",\n",
    "    name=\"Train loss\",\n",
    "    showlegend=True,\n",
    ")\n",
    "\n",
    "# Layout\n",
    "layout = go.Layout(\n",
    "    # title=dict(text='Scatter Plot'),\n",
    "    xaxis=dict(title=\"Epoch\"),\n",
    "    # yaxis=dict(title='<i>d&#770;</i><sub>KP</sub> (pm/V)', range=[-5,180]),\n",
    "    # legend=dict(font=dict(size=12)),\n",
    ")\n",
    "\n",
    "# Create figure\n",
    "fig = go.Figure(data=[lr_train, lr_val], layout=layout)\n",
    "\n",
    "fig.update_layout(\n",
    "    autosize=True,\n",
    "    font_size=20,\n",
    "    # width=600,\n",
    "    # height=600,\n",
    "    # plot_bgcolor=\"white\",\n",
    "    template=\"simple_white\",\n",
    ")\n",
    "fig.update_layout(\n",
    "    xaxis=dict(\n",
    "        # tickmode = 'array',\n",
    "        # tickvals = [1, 2,3,4,5,6,7,8],\n",
    "        # ticktext = ['One', 'Three', 'Five', 'Seven', 'Nine', 'Eleven']\n",
    "        showgrid=False,\n",
    "    ),\n",
    "    yaxis=dict(\n",
    "        # tickmode = 'array',\n",
    "        # tickvals = [1, 2,3,4,5,6,7,8],\n",
    "        # ticktext = ['One', 'Three', 'Five', 'Seven', 'Nine', 'Eleven']\n",
    "        showgrid=False,\n",
    "    ),\n",
    ")\n",
    "\n",
    "# Show figure\n",
    "fig.show()"
   ]
  },
  {
   "cell_type": "markdown",
   "metadata": {},
   "source": [
    "## MAE"
   ]
  },
  {
   "cell_type": "code",
   "execution_count": 8,
   "metadata": {},
   "outputs": [
    {
     "data": {
      "application/vnd.plotly.v1+json": {
       "config": {
        "plotlyServerURL": "https://plot.ly"
       },
       "data": [
        {
         "mode": "lines+markers",
         "name": "Validation loss",
         "showlegend": true,
         "type": "scatter",
         "x": [
          0,
          1,
          2,
          3,
          4,
          5,
          6,
          7,
          8,
          9,
          10,
          11,
          12,
          13,
          14,
          15,
          16,
          17,
          18,
          19,
          20,
          21,
          22,
          23,
          24,
          25,
          26,
          27,
          28,
          29,
          30,
          31,
          32,
          33,
          34,
          35,
          36,
          37,
          38,
          39,
          40,
          41,
          42,
          43,
          44,
          45,
          46,
          47,
          48,
          49,
          50,
          51,
          52,
          53,
          54,
          55,
          56,
          57,
          58,
          59,
          60,
          61,
          62,
          63,
          64,
          65,
          66,
          67,
          68,
          69,
          70,
          71,
          72,
          73,
          74,
          75,
          76,
          77,
          78,
          79,
          80,
          81,
          82,
          83,
          84,
          85,
          86,
          87,
          88,
          89,
          90,
          91,
          92,
          93,
          94,
          95,
          96,
          97,
          98,
          99,
          100,
          101,
          102,
          103,
          104,
          105,
          106,
          107,
          108,
          109,
          110,
          111,
          112,
          113,
          114,
          115,
          116,
          117,
          118,
          119,
          120,
          121,
          122,
          123,
          124,
          125,
          126,
          127,
          128,
          129,
          130,
          131,
          132,
          133,
          134,
          135,
          136,
          137,
          138,
          139,
          140,
          141,
          142,
          143,
          144,
          145,
          146,
          147,
          148,
          149,
          150,
          151,
          152,
          153,
          154,
          155,
          156,
          157,
          158,
          159,
          160,
          161,
          162,
          163,
          164,
          165,
          166,
          167,
          168,
          169,
          170,
          171,
          172,
          173,
          174,
          175,
          176,
          177,
          178,
          179,
          180,
          181,
          182,
          183,
          184,
          185,
          186,
          187,
          188,
          189,
          190,
          191,
          192,
          193,
          194,
          195,
          196,
          197,
          198,
          199,
          200,
          201,
          202,
          203,
          204,
          205,
          206,
          207,
          208,
          209,
          210,
          211,
          212,
          213,
          214,
          215,
          216,
          217,
          218,
          219,
          220,
          221,
          222,
          223,
          224,
          225,
          226,
          227,
          228,
          229,
          230,
          231,
          232,
          233,
          234,
          235,
          236,
          237,
          238,
          239,
          240,
          241,
          242,
          243,
          244,
          245,
          246,
          247,
          248,
          249,
          250,
          251,
          252,
          253,
          254,
          255,
          256,
          257,
          258,
          259,
          260,
          261,
          262,
          263,
          264,
          265,
          266,
          267,
          268,
          269,
          270,
          271,
          272,
          273,
          274,
          275,
          276,
          277,
          278,
          279,
          280,
          281,
          282,
          283,
          284,
          285,
          286,
          287,
          288,
          289,
          290,
          291,
          292,
          293,
          294,
          295,
          296,
          297,
          298,
          299,
          300,
          301,
          302,
          303,
          304,
          305,
          306,
          307,
          308,
          309,
          310,
          311,
          312,
          313,
          314,
          315,
          316,
          317,
          318,
          319,
          320,
          321,
          322,
          323,
          324,
          325,
          326,
          327,
          328,
          329,
          330,
          331,
          332,
          333,
          334,
          335,
          336,
          337,
          338,
          339,
          340,
          341,
          342,
          343,
          344,
          345,
          346,
          347,
          348,
          349,
          350,
          351,
          352,
          353,
          354,
          355,
          356,
          357,
          358,
          359,
          360,
          361,
          362,
          363,
          364,
          365,
          366,
          367,
          368,
          369,
          370,
          371,
          372,
          373,
          374,
          375,
          376,
          377,
          378,
          379,
          380,
          381,
          382,
          383,
          384,
          385,
          386,
          387,
          388,
          389,
          390,
          391,
          392,
          393,
          394,
          395,
          396,
          397,
          398,
          399,
          400,
          401,
          402,
          403,
          404,
          405,
          406,
          407,
          408,
          409,
          410,
          411,
          412,
          413,
          414,
          415,
          416,
          417,
          418,
          419,
          420,
          421,
          422,
          423,
          424,
          425,
          426,
          427,
          428,
          429,
          430,
          431,
          432,
          433,
          434,
          435,
          436,
          437,
          438,
          439,
          440,
          441,
          442,
          443,
          444,
          445,
          446,
          447,
          448,
          449,
          450,
          451,
          452,
          453,
          454,
          455,
          456,
          457,
          458,
          459,
          460,
          461,
          462,
          463,
          464,
          465,
          466,
          467,
          468,
          469,
          470,
          471,
          472,
          473,
          474,
          475,
          476,
          477,
          478,
          479,
          480,
          481,
          482,
          483,
          484,
          485,
          486,
          487,
          488,
          489,
          490,
          491,
          492,
          493,
          494,
          495,
          496,
          497,
          498,
          499
         ],
         "y": [
          5.426843166351318,
          5.2690606117248535,
          5.12095308303833,
          5.183712482452393,
          5.21246337890625,
          5.595139503479004,
          5.439553737640381,
          5.434637546539307,
          5.429452419281006,
          5.481959819793701,
          5.343735694885254,
          5.558416366577148,
          5.482429504394531,
          5.332757949829102,
          5.635865688323975,
          5.233800888061523,
          5.428258895874023,
          5.725039958953857,
          5.343393802642822,
          5.325271129608154,
          5.40331506729126,
          5.285006999969482,
          5.462676048278809,
          5.490451335906982,
          5.491633415222168,
          5.475520133972168,
          5.637496471405029,
          5.331597805023193,
          5.354918003082275,
          5.515452861785889,
          5.493173599243164,
          5.434123992919922,
          5.624527931213379,
          5.212688446044922,
          5.454506874084473,
          5.370779991149902,
          5.273759841918945,
          5.382084369659424,
          5.336367130279541,
          5.3576979637146,
          5.4131951332092285,
          5.512630939483643,
          5.2990803718566895,
          5.436113357543945,
          5.436751365661621,
          5.283642292022705,
          5.374756336212158,
          5.404816627502441,
          5.368246555328369,
          5.356525897979736,
          5.410581588745117,
          5.120436191558838,
          5.382016181945801,
          5.3781914710998535,
          5.435565948486328,
          5.349412441253662,
          5.5744242668151855,
          5.311102867126465,
          5.447535514831543,
          5.252905368804932,
          5.349845886230469,
          5.369157791137695,
          5.434005737304688,
          5.363966464996338,
          5.411202907562256,
          5.416379928588867,
          5.459436893463135,
          5.366203308105469,
          5.471647262573242,
          5.488332748413086,
          5.483658313751221,
          5.392213344573975,
          5.437432765960693,
          5.4340643882751465,
          5.527880668640137,
          5.373079776763916,
          5.400135040283203,
          5.340428352355957,
          5.31596040725708,
          5.420327663421631,
          5.3352885246276855,
          5.343879222869873,
          5.42907190322876,
          5.440061092376709,
          5.4423017501831055,
          5.492815971374512,
          5.389718532562256,
          5.415870666503906,
          5.230495452880859,
          5.52887773513794,
          5.405207633972168,
          5.37889289855957,
          5.391844272613525,
          5.338953018188477,
          5.417388439178467,
          5.370520114898682,
          5.401402950286865,
          5.32599401473999,
          5.419467926025391,
          5.4384355545043945,
          5.422518730163574,
          5.468828678131104,
          5.473057746887207,
          5.462302207946777,
          5.403003215789795,
          5.413882255554199,
          5.402892589569092,
          5.389560699462891,
          5.363605499267578,
          5.396474838256836,
          5.367165565490723,
          5.448368072509766,
          5.374356746673584,
          5.366183757781982,
          5.406782627105713,
          5.42585563659668,
          5.387585163116455,
          5.373747825622559,
          5.358900547027588,
          5.412039756774902,
          5.402578353881836,
          5.445039749145508,
          5.383759498596191,
          5.471513748168945,
          5.342439651489258,
          5.41545295715332,
          5.39849853515625,
          5.414440631866455,
          5.3959503173828125,
          5.421710968017578,
          5.378143310546875,
          5.357725143432617,
          5.387951374053955,
          5.315102577209473,
          5.317511081695557,
          5.4074015617370605,
          5.3686137199401855,
          5.360946178436279,
          5.367195129394531,
          5.28125,
          5.326103687286377,
          5.4005560874938965,
          5.372886657714844,
          5.398486137390137,
          5.402248382568359,
          5.331911087036133,
          5.279956817626953,
          5.342932224273682,
          5.400954246520996,
          5.333192348480225,
          5.31938362121582,
          5.324059963226318,
          5.275021076202393,
          5.328212738037109,
          5.375536918640137,
          5.343965530395508,
          5.367665767669678,
          5.330285549163818,
          5.3466668128967285,
          5.333983421325684,
          5.360187530517578,
          5.37377405166626,
          5.368890285491943,
          5.361608028411865,
          5.357424736022949,
          5.354708671569824,
          5.374826431274414,
          5.3140058517456055,
          5.351022720336914,
          5.351650238037109,
          5.336894512176514,
          5.374689102172852,
          5.311553001403809,
          5.352362155914307,
          5.361832618713379,
          5.327724456787109,
          5.36173152923584,
          5.359402179718018,
          5.327815532684326,
          5.3301215171813965,
          5.345630645751953,
          5.358745098114014,
          5.379845142364502,
          5.354519367218018,
          5.360937595367432,
          5.316240787506104,
          5.355605602264404,
          5.341904163360596,
          5.385787963867188,
          5.3378424644470215,
          5.377285480499268,
          5.374922752380371,
          5.386302471160889,
          5.350674629211426,
          5.384673118591309,
          5.356703758239746,
          5.363584995269775,
          5.332835674285889,
          5.339314937591553,
          5.349367141723633,
          5.372874736785889,
          5.369832515716553,
          5.3775129318237305,
          5.365445137023926,
          5.425409317016602,
          5.366353988647461,
          5.367153167724609,
          5.351593971252441,
          5.385621547698975,
          5.34345293045044,
          5.3636474609375,
          5.354530334472656,
          5.356176376342773,
          5.341311931610107,
          5.375356197357178,
          5.362423419952393,
          5.368801593780518,
          5.368562698364258,
          5.380509376525879,
          5.376351833343506,
          5.383620738983154,
          5.385548114776611,
          5.4005303382873535,
          5.373590469360352,
          5.333004474639893,
          5.368977546691895,
          5.345224380493164,
          5.357219219207764,
          5.36374044418335,
          5.371608734130859,
          5.370738506317139,
          5.365535736083984,
          5.372775077819824,
          5.366555690765381,
          5.383213996887207,
          5.396313667297363,
          5.379055500030518,
          5.354772090911865,
          5.344542026519775,
          5.420720100402832,
          5.380112648010254,
          5.370457649230957,
          5.384946823120117,
          5.364437103271484,
          5.371932506561279,
          5.3734893798828125,
          5.382134437561035,
          5.382920265197754,
          5.373687744140625,
          5.368613243103027,
          5.377941131591797,
          5.391244888305664,
          5.389476776123047,
          5.396355152130127,
          5.391351699829102,
          5.390476703643799,
          5.374422550201416,
          5.386142253875732,
          5.360612869262695,
          5.380149841308594,
          5.361852169036865,
          5.386142253875732,
          5.3951592445373535,
          5.374862194061279,
          5.3783392906188965,
          5.38914155960083,
          5.387516498565674,
          5.406577110290527,
          5.3904805183410645,
          5.384944438934326,
          5.391000747680664,
          5.398262023925781,
          5.39574670791626,
          5.390913009643555,
          5.391844272613525,
          5.388713359832764,
          5.388141632080078,
          5.376805782318115,
          5.400554656982422,
          5.385126113891602,
          5.378660678863525,
          5.401908874511719,
          5.400365352630615,
          5.387486934661865,
          5.40244197845459,
          5.401517868041992,
          5.388936996459961,
          5.385885715484619,
          5.401381015777588,
          5.4217023849487305,
          5.398162841796875,
          5.417940139770508,
          5.418102264404297,
          5.393409252166748,
          5.402993202209473,
          5.384600162506104,
          5.405149936676025,
          5.394454479217529,
          5.386560916900635,
          5.391188621520996,
          5.402770519256592,
          5.402537345886231,
          5.398070812225342,
          5.392756462097168,
          5.401736736297607,
          5.3966217041015625,
          5.408714771270752,
          5.411068916320801,
          5.415180683135986,
          5.399435043334961,
          5.401642799377441,
          5.407105922698975,
          5.389571189880371,
          5.393328666687012,
          5.4028849601745605,
          5.394614219665527,
          5.390104293823242,
          5.392162799835205,
          5.416574478149414,
          5.420216083526611,
          5.407311916351318,
          5.403367042541504,
          5.395089149475098,
          5.407739162445068,
          5.38186502456665,
          5.392334461212158,
          5.410556793212891,
          5.403076171875,
          5.400280475616455,
          5.414508819580078,
          5.421473979949951,
          5.412298202514648,
          5.416254997253418,
          5.409064769744873,
          5.403537750244141,
          5.403425216674805,
          5.397498607635498,
          5.414188861846924,
          5.396655559539795,
          5.40501594543457,
          5.394460201263428,
          5.4072041511535645,
          5.416640758514404,
          5.405063629150391,
          5.39479923248291,
          5.383169174194336,
          5.39404821395874,
          5.3916120529174805,
          5.4001288414001465,
          5.403213024139404,
          5.404086112976074,
          5.393495082855225,
          5.401830673217773,
          5.397327423095703,
          5.405742168426514,
          5.418314456939697,
          5.41398286819458,
          5.408865451812744,
          5.410647869110107,
          5.412574768066406,
          5.424173355102539,
          5.4202728271484375,
          5.406740665435791,
          5.41835880279541,
          5.423886775970459,
          5.408144474029541,
          5.41193437576294,
          5.418129920959473,
          5.417984485626221,
          5.395874500274658,
          5.408506870269775,
          5.4141130447387695,
          5.410122871398926,
          5.4169135093688965,
          5.394984722137451,
          5.415644645690918,
          5.401470184326172,
          5.407450675964356,
          5.409511566162109,
          5.390926837921143,
          5.425397872924805,
          5.41562032699585,
          5.413875102996826,
          5.402403354644775,
          5.4034810066223145,
          5.410698890686035,
          5.395985126495361,
          5.419650554656982,
          5.410583972930908,
          5.409798622131348,
          5.400035381317139,
          5.404790878295898,
          5.399057865142822,
          5.3970947265625,
          5.407149314880371,
          5.405908107757568,
          5.401013374328613,
          5.406721591949463,
          5.388497829437256,
          5.416765213012695,
          5.40471076965332,
          5.39526891708374,
          5.393393039703369,
          5.405618190765381,
          5.404038906097412,
          5.4095869064331055,
          5.398189067840576,
          5.39945125579834,
          5.401694297790527,
          5.414619445800781,
          5.4048285484313965,
          5.405892372131348,
          5.4044294357299805,
          5.41423225402832,
          5.402453422546387,
          5.401849746704102,
          5.405393123626709,
          5.40546178817749,
          5.409882068634033,
          5.402916431427002,
          5.405041694641113,
          5.4117865562438965,
          5.422109127044678,
          5.398160934448242,
          5.394152641296387,
          5.389304637908936,
          5.427737712860107,
          5.401144027709961,
          5.401522159576416,
          5.411651134490967,
          5.40290117263794,
          5.401566028594971,
          5.407223224639893,
          5.40688419342041,
          5.410813331604004,
          5.409411907196045,
          5.411197662353516,
          5.401700973510742,
          5.408154487609863,
          5.409042835235596,
          5.430543899536133,
          5.419132232666016,
          5.419865608215332,
          5.409073829650879,
          5.404454231262207,
          5.407082557678223,
          5.41039514541626,
          5.421994209289551,
          5.396632194519043,
          5.409049987792969,
          5.40568733215332,
          5.402522087097168,
          5.413361072540283,
          5.410415172576904,
          5.421402454376221,
          5.416293144226074,
          5.407021045684815,
          5.411287307739258,
          5.40422248840332,
          5.412045478820801,
          5.397171974182129,
          5.416565418243408,
          5.4167680740356445,
          5.4161057472229,
          5.415480136871338,
          5.4170756340026855,
          5.418655872344971,
          5.4238600730896,
          5.405088901519775,
          5.405003070831299,
          5.422425270080566,
          5.405149936676025,
          5.401611804962158,
          5.408932209014893,
          5.414249897003174,
          5.406975269317627,
          5.4137468338012695,
          5.428138256072998,
          5.4160332679748535,
          5.414249420166016,
          5.410857677459717,
          5.419668197631836,
          5.411405086517334,
          5.410247802734375,
          5.4229607582092285,
          5.416738510131836,
          5.405289649963379,
          5.408432960510254,
          5.404544830322266,
          5.415010452270508,
          5.423460006713867,
          5.417788505554199,
          5.402243137359619,
          5.421082019805908,
          5.415207862854004,
          5.419698238372803,
          5.407138347625732,
          5.428839206695557,
          5.407222270965576,
          5.404979228973389
         ]
        }
       ],
       "layout": {
        "autosize": true,
        "font": {
         "size": 20
        },
        "template": {
         "data": {
          "bar": [
           {
            "error_x": {
             "color": "rgb(36,36,36)"
            },
            "error_y": {
             "color": "rgb(36,36,36)"
            },
            "marker": {
             "line": {
              "color": "white",
              "width": 0.5
             },
             "pattern": {
              "fillmode": "overlay",
              "size": 10,
              "solidity": 0.2
             }
            },
            "type": "bar"
           }
          ],
          "barpolar": [
           {
            "marker": {
             "line": {
              "color": "white",
              "width": 0.5
             },
             "pattern": {
              "fillmode": "overlay",
              "size": 10,
              "solidity": 0.2
             }
            },
            "type": "barpolar"
           }
          ],
          "carpet": [
           {
            "aaxis": {
             "endlinecolor": "rgb(36,36,36)",
             "gridcolor": "white",
             "linecolor": "white",
             "minorgridcolor": "white",
             "startlinecolor": "rgb(36,36,36)"
            },
            "baxis": {
             "endlinecolor": "rgb(36,36,36)",
             "gridcolor": "white",
             "linecolor": "white",
             "minorgridcolor": "white",
             "startlinecolor": "rgb(36,36,36)"
            },
            "type": "carpet"
           }
          ],
          "choropleth": [
           {
            "colorbar": {
             "outlinewidth": 1,
             "tickcolor": "rgb(36,36,36)",
             "ticks": "outside"
            },
            "type": "choropleth"
           }
          ],
          "contour": [
           {
            "colorbar": {
             "outlinewidth": 1,
             "tickcolor": "rgb(36,36,36)",
             "ticks": "outside"
            },
            "colorscale": [
             [
              0,
              "#440154"
             ],
             [
              0.1111111111111111,
              "#482878"
             ],
             [
              0.2222222222222222,
              "#3e4989"
             ],
             [
              0.3333333333333333,
              "#31688e"
             ],
             [
              0.4444444444444444,
              "#26828e"
             ],
             [
              0.5555555555555556,
              "#1f9e89"
             ],
             [
              0.6666666666666666,
              "#35b779"
             ],
             [
              0.7777777777777778,
              "#6ece58"
             ],
             [
              0.8888888888888888,
              "#b5de2b"
             ],
             [
              1,
              "#fde725"
             ]
            ],
            "type": "contour"
           }
          ],
          "contourcarpet": [
           {
            "colorbar": {
             "outlinewidth": 1,
             "tickcolor": "rgb(36,36,36)",
             "ticks": "outside"
            },
            "type": "contourcarpet"
           }
          ],
          "heatmap": [
           {
            "colorbar": {
             "outlinewidth": 1,
             "tickcolor": "rgb(36,36,36)",
             "ticks": "outside"
            },
            "colorscale": [
             [
              0,
              "#440154"
             ],
             [
              0.1111111111111111,
              "#482878"
             ],
             [
              0.2222222222222222,
              "#3e4989"
             ],
             [
              0.3333333333333333,
              "#31688e"
             ],
             [
              0.4444444444444444,
              "#26828e"
             ],
             [
              0.5555555555555556,
              "#1f9e89"
             ],
             [
              0.6666666666666666,
              "#35b779"
             ],
             [
              0.7777777777777778,
              "#6ece58"
             ],
             [
              0.8888888888888888,
              "#b5de2b"
             ],
             [
              1,
              "#fde725"
             ]
            ],
            "type": "heatmap"
           }
          ],
          "heatmapgl": [
           {
            "colorbar": {
             "outlinewidth": 1,
             "tickcolor": "rgb(36,36,36)",
             "ticks": "outside"
            },
            "colorscale": [
             [
              0,
              "#440154"
             ],
             [
              0.1111111111111111,
              "#482878"
             ],
             [
              0.2222222222222222,
              "#3e4989"
             ],
             [
              0.3333333333333333,
              "#31688e"
             ],
             [
              0.4444444444444444,
              "#26828e"
             ],
             [
              0.5555555555555556,
              "#1f9e89"
             ],
             [
              0.6666666666666666,
              "#35b779"
             ],
             [
              0.7777777777777778,
              "#6ece58"
             ],
             [
              0.8888888888888888,
              "#b5de2b"
             ],
             [
              1,
              "#fde725"
             ]
            ],
            "type": "heatmapgl"
           }
          ],
          "histogram": [
           {
            "marker": {
             "line": {
              "color": "white",
              "width": 0.6
             }
            },
            "type": "histogram"
           }
          ],
          "histogram2d": [
           {
            "colorbar": {
             "outlinewidth": 1,
             "tickcolor": "rgb(36,36,36)",
             "ticks": "outside"
            },
            "colorscale": [
             [
              0,
              "#440154"
             ],
             [
              0.1111111111111111,
              "#482878"
             ],
             [
              0.2222222222222222,
              "#3e4989"
             ],
             [
              0.3333333333333333,
              "#31688e"
             ],
             [
              0.4444444444444444,
              "#26828e"
             ],
             [
              0.5555555555555556,
              "#1f9e89"
             ],
             [
              0.6666666666666666,
              "#35b779"
             ],
             [
              0.7777777777777778,
              "#6ece58"
             ],
             [
              0.8888888888888888,
              "#b5de2b"
             ],
             [
              1,
              "#fde725"
             ]
            ],
            "type": "histogram2d"
           }
          ],
          "histogram2dcontour": [
           {
            "colorbar": {
             "outlinewidth": 1,
             "tickcolor": "rgb(36,36,36)",
             "ticks": "outside"
            },
            "colorscale": [
             [
              0,
              "#440154"
             ],
             [
              0.1111111111111111,
              "#482878"
             ],
             [
              0.2222222222222222,
              "#3e4989"
             ],
             [
              0.3333333333333333,
              "#31688e"
             ],
             [
              0.4444444444444444,
              "#26828e"
             ],
             [
              0.5555555555555556,
              "#1f9e89"
             ],
             [
              0.6666666666666666,
              "#35b779"
             ],
             [
              0.7777777777777778,
              "#6ece58"
             ],
             [
              0.8888888888888888,
              "#b5de2b"
             ],
             [
              1,
              "#fde725"
             ]
            ],
            "type": "histogram2dcontour"
           }
          ],
          "mesh3d": [
           {
            "colorbar": {
             "outlinewidth": 1,
             "tickcolor": "rgb(36,36,36)",
             "ticks": "outside"
            },
            "type": "mesh3d"
           }
          ],
          "parcoords": [
           {
            "line": {
             "colorbar": {
              "outlinewidth": 1,
              "tickcolor": "rgb(36,36,36)",
              "ticks": "outside"
             }
            },
            "type": "parcoords"
           }
          ],
          "pie": [
           {
            "automargin": true,
            "type": "pie"
           }
          ],
          "scatter": [
           {
            "fillpattern": {
             "fillmode": "overlay",
             "size": 10,
             "solidity": 0.2
            },
            "type": "scatter"
           }
          ],
          "scatter3d": [
           {
            "line": {
             "colorbar": {
              "outlinewidth": 1,
              "tickcolor": "rgb(36,36,36)",
              "ticks": "outside"
             }
            },
            "marker": {
             "colorbar": {
              "outlinewidth": 1,
              "tickcolor": "rgb(36,36,36)",
              "ticks": "outside"
             }
            },
            "type": "scatter3d"
           }
          ],
          "scattercarpet": [
           {
            "marker": {
             "colorbar": {
              "outlinewidth": 1,
              "tickcolor": "rgb(36,36,36)",
              "ticks": "outside"
             }
            },
            "type": "scattercarpet"
           }
          ],
          "scattergeo": [
           {
            "marker": {
             "colorbar": {
              "outlinewidth": 1,
              "tickcolor": "rgb(36,36,36)",
              "ticks": "outside"
             }
            },
            "type": "scattergeo"
           }
          ],
          "scattergl": [
           {
            "marker": {
             "colorbar": {
              "outlinewidth": 1,
              "tickcolor": "rgb(36,36,36)",
              "ticks": "outside"
             }
            },
            "type": "scattergl"
           }
          ],
          "scattermapbox": [
           {
            "marker": {
             "colorbar": {
              "outlinewidth": 1,
              "tickcolor": "rgb(36,36,36)",
              "ticks": "outside"
             }
            },
            "type": "scattermapbox"
           }
          ],
          "scatterpolar": [
           {
            "marker": {
             "colorbar": {
              "outlinewidth": 1,
              "tickcolor": "rgb(36,36,36)",
              "ticks": "outside"
             }
            },
            "type": "scatterpolar"
           }
          ],
          "scatterpolargl": [
           {
            "marker": {
             "colorbar": {
              "outlinewidth": 1,
              "tickcolor": "rgb(36,36,36)",
              "ticks": "outside"
             }
            },
            "type": "scatterpolargl"
           }
          ],
          "scatterternary": [
           {
            "marker": {
             "colorbar": {
              "outlinewidth": 1,
              "tickcolor": "rgb(36,36,36)",
              "ticks": "outside"
             }
            },
            "type": "scatterternary"
           }
          ],
          "surface": [
           {
            "colorbar": {
             "outlinewidth": 1,
             "tickcolor": "rgb(36,36,36)",
             "ticks": "outside"
            },
            "colorscale": [
             [
              0,
              "#440154"
             ],
             [
              0.1111111111111111,
              "#482878"
             ],
             [
              0.2222222222222222,
              "#3e4989"
             ],
             [
              0.3333333333333333,
              "#31688e"
             ],
             [
              0.4444444444444444,
              "#26828e"
             ],
             [
              0.5555555555555556,
              "#1f9e89"
             ],
             [
              0.6666666666666666,
              "#35b779"
             ],
             [
              0.7777777777777778,
              "#6ece58"
             ],
             [
              0.8888888888888888,
              "#b5de2b"
             ],
             [
              1,
              "#fde725"
             ]
            ],
            "type": "surface"
           }
          ],
          "table": [
           {
            "cells": {
             "fill": {
              "color": "rgb(237,237,237)"
             },
             "line": {
              "color": "white"
             }
            },
            "header": {
             "fill": {
              "color": "rgb(217,217,217)"
             },
             "line": {
              "color": "white"
             }
            },
            "type": "table"
           }
          ]
         },
         "layout": {
          "annotationdefaults": {
           "arrowhead": 0,
           "arrowwidth": 1
          },
          "autotypenumbers": "strict",
          "coloraxis": {
           "colorbar": {
            "outlinewidth": 1,
            "tickcolor": "rgb(36,36,36)",
            "ticks": "outside"
           }
          },
          "colorscale": {
           "diverging": [
            [
             0,
             "rgb(103,0,31)"
            ],
            [
             0.1,
             "rgb(178,24,43)"
            ],
            [
             0.2,
             "rgb(214,96,77)"
            ],
            [
             0.3,
             "rgb(244,165,130)"
            ],
            [
             0.4,
             "rgb(253,219,199)"
            ],
            [
             0.5,
             "rgb(247,247,247)"
            ],
            [
             0.6,
             "rgb(209,229,240)"
            ],
            [
             0.7,
             "rgb(146,197,222)"
            ],
            [
             0.8,
             "rgb(67,147,195)"
            ],
            [
             0.9,
             "rgb(33,102,172)"
            ],
            [
             1,
             "rgb(5,48,97)"
            ]
           ],
           "sequential": [
            [
             0,
             "#440154"
            ],
            [
             0.1111111111111111,
             "#482878"
            ],
            [
             0.2222222222222222,
             "#3e4989"
            ],
            [
             0.3333333333333333,
             "#31688e"
            ],
            [
             0.4444444444444444,
             "#26828e"
            ],
            [
             0.5555555555555556,
             "#1f9e89"
            ],
            [
             0.6666666666666666,
             "#35b779"
            ],
            [
             0.7777777777777778,
             "#6ece58"
            ],
            [
             0.8888888888888888,
             "#b5de2b"
            ],
            [
             1,
             "#fde725"
            ]
           ],
           "sequentialminus": [
            [
             0,
             "#440154"
            ],
            [
             0.1111111111111111,
             "#482878"
            ],
            [
             0.2222222222222222,
             "#3e4989"
            ],
            [
             0.3333333333333333,
             "#31688e"
            ],
            [
             0.4444444444444444,
             "#26828e"
            ],
            [
             0.5555555555555556,
             "#1f9e89"
            ],
            [
             0.6666666666666666,
             "#35b779"
            ],
            [
             0.7777777777777778,
             "#6ece58"
            ],
            [
             0.8888888888888888,
             "#b5de2b"
            ],
            [
             1,
             "#fde725"
            ]
           ]
          },
          "colorway": [
           "#1F77B4",
           "#FF7F0E",
           "#2CA02C",
           "#D62728",
           "#9467BD",
           "#8C564B",
           "#E377C2",
           "#7F7F7F",
           "#BCBD22",
           "#17BECF"
          ],
          "font": {
           "color": "rgb(36,36,36)"
          },
          "geo": {
           "bgcolor": "white",
           "lakecolor": "white",
           "landcolor": "white",
           "showlakes": true,
           "showland": true,
           "subunitcolor": "white"
          },
          "hoverlabel": {
           "align": "left"
          },
          "hovermode": "closest",
          "mapbox": {
           "style": "light"
          },
          "paper_bgcolor": "white",
          "plot_bgcolor": "white",
          "polar": {
           "angularaxis": {
            "gridcolor": "rgb(232,232,232)",
            "linecolor": "rgb(36,36,36)",
            "showgrid": false,
            "showline": true,
            "ticks": "outside"
           },
           "bgcolor": "white",
           "radialaxis": {
            "gridcolor": "rgb(232,232,232)",
            "linecolor": "rgb(36,36,36)",
            "showgrid": false,
            "showline": true,
            "ticks": "outside"
           }
          },
          "scene": {
           "xaxis": {
            "backgroundcolor": "white",
            "gridcolor": "rgb(232,232,232)",
            "gridwidth": 2,
            "linecolor": "rgb(36,36,36)",
            "showbackground": true,
            "showgrid": false,
            "showline": true,
            "ticks": "outside",
            "zeroline": false,
            "zerolinecolor": "rgb(36,36,36)"
           },
           "yaxis": {
            "backgroundcolor": "white",
            "gridcolor": "rgb(232,232,232)",
            "gridwidth": 2,
            "linecolor": "rgb(36,36,36)",
            "showbackground": true,
            "showgrid": false,
            "showline": true,
            "ticks": "outside",
            "zeroline": false,
            "zerolinecolor": "rgb(36,36,36)"
           },
           "zaxis": {
            "backgroundcolor": "white",
            "gridcolor": "rgb(232,232,232)",
            "gridwidth": 2,
            "linecolor": "rgb(36,36,36)",
            "showbackground": true,
            "showgrid": false,
            "showline": true,
            "ticks": "outside",
            "zeroline": false,
            "zerolinecolor": "rgb(36,36,36)"
           }
          },
          "shapedefaults": {
           "fillcolor": "black",
           "line": {
            "width": 0
           },
           "opacity": 0.3
          },
          "ternary": {
           "aaxis": {
            "gridcolor": "rgb(232,232,232)",
            "linecolor": "rgb(36,36,36)",
            "showgrid": false,
            "showline": true,
            "ticks": "outside"
           },
           "baxis": {
            "gridcolor": "rgb(232,232,232)",
            "linecolor": "rgb(36,36,36)",
            "showgrid": false,
            "showline": true,
            "ticks": "outside"
           },
           "bgcolor": "white",
           "caxis": {
            "gridcolor": "rgb(232,232,232)",
            "linecolor": "rgb(36,36,36)",
            "showgrid": false,
            "showline": true,
            "ticks": "outside"
           }
          },
          "title": {
           "x": 0.05
          },
          "xaxis": {
           "automargin": true,
           "gridcolor": "rgb(232,232,232)",
           "linecolor": "rgb(36,36,36)",
           "showgrid": false,
           "showline": true,
           "ticks": "outside",
           "title": {
            "standoff": 15
           },
           "zeroline": false,
           "zerolinecolor": "rgb(36,36,36)"
          },
          "yaxis": {
           "automargin": true,
           "gridcolor": "rgb(232,232,232)",
           "linecolor": "rgb(36,36,36)",
           "showgrid": false,
           "showline": true,
           "ticks": "outside",
           "title": {
            "standoff": 15
           },
           "zeroline": false,
           "zerolinecolor": "rgb(36,36,36)"
          }
         }
        },
        "xaxis": {
         "showgrid": false,
         "title": {
          "text": "Epoch"
         }
        },
        "yaxis": {
         "showgrid": false,
         "title": {
          "text": "MAE (pm/V)"
         }
        }
       }
      }
     },
     "metadata": {},
     "output_type": "display_data"
    }
   ],
   "source": [
    "lr_val = go.Scatter(\n",
    "    x=df_lr_epochs_first.index,\n",
    "    y=df_lr_epochs_first[\"metric_val/MeanAbsoluteError/shg_tensor_full\"],\n",
    "    mode=\"lines+markers\",\n",
    "    name=\"Validation loss\",\n",
    "    showlegend=True,\n",
    ")\n",
    "\n",
    "# Layout\n",
    "layout = go.Layout(\n",
    "    # title=dict(text='Scatter Plot'),\n",
    "    xaxis=dict(title=\"Epoch\"),\n",
    "    yaxis=dict(title=\"MAE (pm/V)\"),\n",
    "    # legend=dict(font=dict(size=12)),\n",
    ")\n",
    "\n",
    "# Create figure\n",
    "fig = go.Figure(data=[lr_val], layout=layout)\n",
    "\n",
    "fig.update_layout(\n",
    "    autosize=True,\n",
    "    font_size=20,\n",
    "    # width=600,\n",
    "    # height=600,\n",
    "    # plot_bgcolor=\"white\",\n",
    "    template=\"simple_white\",\n",
    ")\n",
    "fig.update_layout(\n",
    "    xaxis=dict(\n",
    "        # tickmode = 'array',\n",
    "        # tickvals = [1, 2,3,4,5,6,7,8],\n",
    "        # ticktext = ['One', 'Three', 'Five', 'Seven', 'Nine', 'Eleven']\n",
    "        showgrid=False,\n",
    "    ),\n",
    "    yaxis=dict(\n",
    "        # tickmode = 'array',\n",
    "        # tickvals = [1, 2,3,4,5,6,7,8],\n",
    "        # ticktext = ['One', 'Three', 'Five', 'Seven', 'Nine', 'Eleven']\n",
    "        showgrid=False,\n",
    "    ),\n",
    ")\n",
    "\n",
    "# Show figure\n",
    "fig.show()"
   ]
  },
  {
   "cell_type": "markdown",
   "metadata": {},
   "source": [
    "# Errors on dijk"
   ]
  },
  {
   "cell_type": "code",
   "execution_count": 9,
   "metadata": {},
   "outputs": [
    {
     "name": "stdout",
     "output_type": "stream",
     "text": [
      "32.56678429175125\n"
     ]
    }
   ],
   "source": [
    "list_fronorm = []  # = sqrt(sum(sqrd))/nb_nonzero\n",
    "for ir, r in df_pred_matten.iterrows():\n",
    "    dijk_orig = shg.from_voigt(df_orig.loc[ir][\"dijk_full_neum\"])\n",
    "    dijk_matten = shg.from_voigt(r[\"dijk_matten\"])\n",
    "    if np.count_nonzero(dijk_orig) == 0:\n",
    "        continue\n",
    "    t = dijk_orig - dijk_matten\n",
    "    list_fronorm.append(np.linalg.norm(t))\n",
    "print(np.mean(list_fronorm))"
   ]
  },
  {
   "cell_type": "code",
   "execution_count": 10,
   "metadata": {},
   "outputs": [
    {
     "name": "stdout",
     "output_type": "stream",
     "text": [
      "3.8486072897105013\n"
     ]
    }
   ],
   "source": [
    "list_fronorm = []  # = sqrt(sum(sqrd))/nb_nonzero\n",
    "for ir, r in df_pred_matten.iterrows():\n",
    "    dijk_orig = shg.from_voigt(df_orig.loc[ir][\"dijk_full_neum\"])\n",
    "    dijk_matten = shg.from_voigt(r[\"dijk_matten\"])\n",
    "    if np.count_nonzero(dijk_orig) == 0:\n",
    "        continue\n",
    "    list_fronorm.append(\n",
    "        np.linalg.norm(dijk_orig - dijk_matten) / np.count_nonzero(dijk_orig)\n",
    "    )\n",
    "print(np.mean(list_fronorm))"
   ]
  },
  {
   "cell_type": "markdown",
   "metadata": {},
   "source": [
    "## Errors on dijk masked"
   ]
  },
  {
   "cell_type": "code",
   "execution_count": 11,
   "metadata": {},
   "outputs": [
    {
     "name": "stdout",
     "output_type": "stream",
     "text": [
      "30.9475236323985\n"
     ]
    }
   ],
   "source": [
    "# masked\n",
    "list_fronorm = []  # = sqrt(sum(sqrd))\n",
    "for ir, r in df_pred_matten.iterrows():\n",
    "    dijk_orig = shg.from_voigt(df_orig.loc[ir][\"dijk_full_neum\"])\n",
    "    dijk_matten = shg.from_voigt(r[\"dijk_matten\"])\n",
    "    dijk_matten = np.where(dijk_orig != 0, dijk_matten, 0)\n",
    "    if np.count_nonzero(dijk_orig) == 0:\n",
    "        continue\n",
    "    t = dijk_orig - dijk_matten\n",
    "    list_fronorm.append(np.linalg.norm(t))\n",
    "print(np.mean(list_fronorm))"
   ]
  },
  {
   "cell_type": "code",
   "execution_count": 12,
   "metadata": {},
   "outputs": [
    {
     "name": "stdout",
     "output_type": "stream",
     "text": [
      "3.5892438538033415\n"
     ]
    }
   ],
   "source": [
    "list_fronorm = []  # = sqrt(sum(sqrd))/nb_nonzero\n",
    "for ir, r in df_pred_matten.iterrows():\n",
    "    dijk_orig = shg.from_voigt(df_orig.loc[ir][\"dijk_full_neum\"])\n",
    "    dijk_matten = shg.from_voigt(r[\"dijk_matten\"])\n",
    "    dijk_matten = np.where(dijk_orig != 0, dijk_matten, 0)\n",
    "    if np.count_nonzero(dijk_orig) == 0:\n",
    "        continue\n",
    "    t = dijk_orig - dijk_matten\n",
    "    list_fronorm.append(\n",
    "        np.linalg.norm(dijk_orig - dijk_matten) / np.count_nonzero(dijk_orig)\n",
    "    )\n",
    "print(np.mean(list_fronorm))"
   ]
  },
  {
   "cell_type": "markdown",
   "metadata": {},
   "source": [
    "# Errors on dKP"
   ]
  },
  {
   "cell_type": "code",
   "execution_count": 13,
   "metadata": {},
   "outputs": [
    {
     "name": "stdout",
     "output_type": "stream",
     "text": [
      "MAE = 8.154118007629796\n",
      "MAPE = 7.2082266636523045\n",
      "RMSE = 20.61773030443456\n",
      "Rho_sp = 0.7870278884462151\n"
     ]
    },
    {
     "data": {
      "application/vnd.plotly.v1+json": {
       "config": {
        "plotlyServerURL": "https://plot.ly"
       },
       "data": [
        {
         "mode": "markers",
         "name": "",
         "showlegend": false,
         "text": [
          "agm001234439",
          "agm001347560",
          "agm002041688",
          "agm002054632",
          "agm002072314",
          "agm002073747",
          "agm002102214",
          "agm002133608",
          "agm002133663",
          "agm002135972",
          "agm002138386",
          "agm002147787",
          "agm002149208",
          "agm002153441",
          "agm002156258",
          "agm002158429",
          "agm002158908",
          "agm002162961",
          "agm002171920",
          "agm002177947",
          "agm002183415",
          "agm002197344",
          "agm002205114",
          "agm002205907",
          "agm002215982",
          "agm002218325",
          "agm002233584",
          "agm002363904",
          "agm002790067",
          "agm002793928",
          "agm002845532",
          "agm002848041",
          "agm002861773",
          "agm003046706",
          "agm003048415",
          "agm003110472",
          "agm003160554",
          "agm003200486",
          "agm003206623",
          "agm003220800",
          "agm003227564",
          "agm003234420",
          "agm003263235",
          "agm003267560",
          "agm003268240",
          "agm003445531",
          "agm003445638",
          "agm003716707",
          "agm004442672",
          "agm004751295",
          "agm004785400",
          "agm004786073",
          "agm004788917",
          "agm004852876",
          "agm004879066",
          "agm004929360",
          "agm004954098",
          "agm004954137",
          "agm004956590",
          "agm004957147",
          "agm005049826",
          "agm005069643",
          "agm005074722",
          "agm005086003",
          "agm005086011",
          "agm005180379",
          "agm005189644",
          "agm005408965",
          "agm005543540",
          "agm005607967",
          "agm005698720",
          "agm005723638",
          "agm005769896",
          "agm005839737",
          "agm005848257",
          "agm005849998",
          "agm006124765",
          "agm1000019892",
          "agm2000001840",
          "agm2000002067",
          "agm2000005425",
          "agm2000011096",
          "agm2000012572",
          "agm2000015113",
          "agm2000022161",
          "agm2000081842",
          "agm2000086862",
          "agm2000101795",
          "agm2000128635",
          "agm2000139348",
          "mp-1008556",
          "mp-1017534",
          "mp-1018093",
          "mp-1019715",
          "mp-1028576",
          "mp-1029422",
          "mp-10572",
          "mp-1079609",
          "mp-1080058",
          "mp-1095543",
          "mp-1096810",
          "mp-1097061",
          "mp-1101862",
          "mp-1102285",
          "mp-1103351",
          "mp-1105127",
          "mp-1105300",
          "mp-1120718",
          "mp-1147693",
          "mp-1147697",
          "mp-1147725",
          "mp-1184046",
          "mp-1188121",
          "mp-1190717",
          "mp-1192126",
          "mp-1193269",
          "mp-1194520",
          "mp-1198890",
          "mp-1202153",
          "mp-1204358",
          "mp-1210659",
          "mp-1210722",
          "mp-1215297",
          "mp-1215418",
          "mp-1215430",
          "mp-1215966",
          "mp-1216132",
          "mp-1216863",
          "mp-1216944",
          "mp-1217833",
          "mp-1218006",
          "mp-1218158",
          "mp-1220190",
          "mp-1220913",
          "mp-1221954",
          "mp-1223536",
          "mp-1223822",
          "mp-1227011",
          "mp-1227036",
          "mp-1227366",
          "mp-1227567",
          "mp-1227994",
          "mp-1228823",
          "mp-1229086",
          "mp-1300570",
          "mp-13666",
          "mp-14367",
          "mp-14444",
          "mp-15776",
          "mp-15833",
          "mp-15840",
          "mp-16792",
          "mp-17862",
          "mp-18609",
          "mp-18938",
          "mp-19219",
          "mp-21521",
          "mp-22965",
          "mp-23173",
          "mp-23321",
          "mp-23363",
          "mp-23407",
          "mp-23560",
          "mp-23778",
          "mp-23807",
          "mp-23866",
          "mp-23887",
          "mp-23914",
          "mp-24118",
          "mp-24402",
          "mp-2691",
          "mp-27313",
          "mp-27594",
          "mp-27726",
          "mp-27755",
          "mp-27914",
          "mp-28020",
          "mp-28140",
          "mp-28264",
          "mp-28873",
          "mp-28918",
          "mp-29305",
          "mp-29362",
          "mp-29524",
          "mp-29525",
          "mp-29910",
          "mp-30530",
          "mp-30847",
          "mp-31451",
          "mp-3491",
          "mp-35799",
          "mp-3589",
          "mp-36111",
          "mp-38103",
          "mp-4524",
          "mp-4586",
          "mp-4681",
          "mp-4690",
          "mp-5020",
          "mp-540634",
          "mp-551629",
          "mp-553887",
          "mp-554560",
          "mp-554918",
          "mp-555150",
          "mp-555203",
          "mp-555915",
          "mp-556024",
          "mp-556966",
          "mp-557027",
          "mp-557773",
          "mp-559065",
          "mp-559961",
          "mp-568968",
          "mp-570084",
          "mp-570136",
          "mp-5854",
          "mp-6062",
          "mp-622018",
          "mp-625521",
          "mp-626620",
          "mp-639506",
          "mp-639714",
          "mp-672118",
          "mp-675779",
          "mp-685145",
          "mp-696347",
          "mp-696946",
          "mp-706621",
          "mp-7324",
          "mp-754585",
          "mp-756570",
          "mp-7582",
          "mp-766345",
          "mp-767604",
          "mp-772748",
          "mp-772875",
          "mp-776259",
          "mp-779863",
          "mp-781710",
          "mp-830",
          "mp-8377",
          "mp-862539",
          "mp-863374",
          "mp-863755",
          "mp-9064",
          "mp-9197",
          "mp-983357",
          "mp-984766",
          "mp-998623"
         ],
         "type": "scatter",
         "x": [
          0.8272878630490751,
          119.17750722717321,
          5.595534498515963,
          45.303135851927564,
          3.6746577314042463,
          0.3950018116943311,
          0.5597603921863004,
          1.7272854408234093,
          0.0991741151465185,
          86.82819893445695,
          0.07204482741368785,
          0.0704271802524718,
          0.10231253569172748,
          0.7280654950849078,
          0.6697039819612798,
          4.119900280407139,
          30.75886427580862,
          29.33632071738057,
          21.371117289633542,
          57.421371513153915,
          63.41989568740686,
          10.346359350445816,
          64.16281613192514,
          60.42555880885499,
          1.0124731257139752,
          59.22118482426684,
          17.949940135731698,
          1.3390533054425817,
          46.68049140909839,
          13.815006459707828,
          1.0167609356637073,
          0.08344883276158094,
          14.475313088692246,
          5.102750745654848,
          11.762962459658203,
          12.462211550072594,
          72.51218728068382,
          0.009178805338191244,
          3.554589581362436,
          0.2376055939921027,
          0.23370080862578618,
          3.741263229982967,
          0.18408586504634641,
          19.687937563122517,
          128.57872321549112,
          2.533583054179051,
          1.8019306394927284,
          0.4841544135615684,
          0.0394322781829729,
          0.22694560248003484,
          17.43350792144079,
          2.7022513119493685,
          9.998036580257422,
          11.888698474022261,
          2.861884361265005,
          0.7145712554340605,
          8.746398626595365,
          8.880827412274467,
          0.2351408462270188,
          0.33584670726814886,
          6.162135670885474,
          4.606765053649747,
          0.11350109261963574,
          0.07295203027669746,
          0.09888976127830623,
          1.3222404458453203,
          4.676862008798201,
          1.835492230005784,
          0.8747801231678206,
          0.7241109877815762,
          3.122715013301309,
          18.659315188916388,
          97.68395764628198,
          0.4474691438551195,
          0.7736585573982434,
          56.19223404049812,
          10.632646096506013,
          0.0025494951937533525,
          1.4487561627496062,
          0.05789700711715668,
          0.011049020246936872,
          0.012228322303897629,
          0.042045060250899366,
          15.065563845869699,
          0.035194003373272,
          0.10739298694633051,
          0.033560379211186785,
          0.4131498408273308,
          0.009932503021346586,
          0.04399397096239267,
          2.072813575855084,
          86.43318649770944,
          99.04720476942921,
          0.9043530781146025,
          6.896748303683057,
          23.456218204440205,
          3.502880754734303,
          3.271774712384432,
          13.521219613286018,
          0.4235021433678197,
          8.267358086543753,
          0.42339392807386145,
          0.00926976728536528,
          7.2855926117787835,
          2.2421112466956346,
          165.11423137705333,
          26.760013080806115,
          8.365441040618439,
          7.670721448917315,
          7.443331100363126,
          8.530966099400597,
          42.282563090591545,
          0.1927772631282608,
          0.7406551680101052,
          0.854671044191776,
          0.004901906744179846,
          0.21283349650605804,
          0.171657918794524,
          6.748073345420762,
          0.24092657562867958,
          0.7808956594922749,
          4.883311614501596,
          12.472602553594912,
          102.95884557570939,
          40.70959571626302,
          8.91652058404514,
          3.886109063244815,
          9.121339783904686,
          1.0621837379758228,
          12.355454539173833,
          11.992339659471991,
          2.679311404714401,
          0.977077794807452,
          3.700290930724513,
          3.1668728275623117,
          15.363950385077864,
          0.6576829542553341,
          52.33013998938465,
          0.031333688358619716,
          9.119878419348035,
          107.30558261963216,
          2.3722891448775867,
          5.1957559821920585,
          0.16975347704375415,
          0.7138283781538486,
          50.26224377818762,
          0.09337521112741362,
          13.325047557309988,
          49.554229465557135,
          3.124842923790021,
          0.013112295945231701,
          7.048895297257652,
          33.20634743822916,
          47.96142567259269,
          2.445284299440702,
          1.7623403848746162,
          7.525570950107779,
          73.65819366822149,
          24.60466994929397,
          0.04048209925507434,
          0.010129295197848578,
          8.003880799957166,
          1.9324550393290865,
          0.9910381306437389,
          0.5288809978394777,
          0.9147487969477314,
          0.8128075093615331,
          0.13943147786634916,
          0.37874647042209203,
          0.05552424214135506,
          42.697559270275974,
          0.07496110195732313,
          24.032527373065566,
          1.8292924700531092,
          0.020291279821523046,
          0.10739522408833391,
          1.2745786250549451,
          11.55925304247615,
          16.167441970176085,
          1.685246556794829,
          9.530587117292916,
          2.0701988005076837,
          0.15013353166282417,
          0.44036346173538204,
          0.04959017790781204,
          2.005285335624167,
          4.306735198495529,
          37.84125851846766,
          67.16185442385373,
          3.2333363341489685,
          0.6126159490925168,
          0.7867697816903596,
          14.770006430271795,
          0.6556969325541743,
          89.50434406167203,
          22.59791344724751,
          20.70370536443482,
          0.23325192444863693,
          17.00593064077109,
          0.46039401208381553,
          1.1664455610018762,
          4.38282793604309,
          0.5567874577407241,
          2.4889948726268245,
          1.6714733711428025,
          0.5807809308869348,
          0.418081267508317,
          0.013943248393690464,
          0.45241150568782784,
          0.1458877440321602,
          0.1155290578338306,
          6.497969001348536,
          0.7254527988278862,
          32.55807279795252,
          29.824951103584578,
          0.869239575417028,
          0.6266017074568863,
          1.729192132434956,
          77.7206428201921,
          1.6026487619302416,
          1.4533820723763253,
          0.00871668578972436,
          5.535053276145763,
          0.8698482475910191,
          6.1363025179488515,
          11.486556413251712,
          0.38411570469334094,
          0.9635091453928637,
          0.17402164883623036,
          0.4445418900700682,
          6.211407706114043,
          14.05313916159886,
          25.905156109625487,
          0.06179004100546308,
          19.020750537047295,
          0.2716584026966766,
          0.007324108310589076,
          2.805753714798062,
          7.036324657579612,
          16.442143761668234,
          4.9548548591558745,
          1.284568323780706,
          0.5885377837373961,
          5.296053149018608,
          5.7317530008358455,
          0.7760408658560501,
          0.26055049885420734,
          0.16371619610032787,
          0.11980201080974372,
          2.0173458365469084
         ],
         "y": [
          1.4039931505352499,
          189.07223664612087,
          15.653955936006467,
          24.358270764383715,
          0.5094866528356159,
          0.917608604820135,
          1.4803867299130253,
          14.085146867144381,
          0.010641193035627503,
          8.443223768971778,
          1.4381576752384995,
          3.5804115965931107,
          2.3369416167816284,
          0.5978411738475615,
          3.905285083095186,
          7.274390052995447,
          10.263148015221752,
          5.999033483202976,
          14.601704390521862,
          3.5043689201699104,
          23.20998687168854,
          12.008394561757681,
          59.57260478311898,
          56.255148063373596,
          2.068050468435645,
          57.38294992696657,
          5.488040947989287,
          1.9118091126138328,
          35.930365644702675,
          3.8424911721952326,
          10.140387357246906,
          0.6309906318666098,
          13.021803065618098,
          5.772354335487951,
          17.904603682414525,
          29.633755337518213,
          22.024822595146198,
          0.06202086576645669,
          4.860008116395131,
          1.8907751376155482,
          1.5677344913233662,
          4.7869563216271045,
          0.3564050091493914,
          6.219490806848937,
          18.112213690072036,
          4.221633910213693,
          1.945485439485107,
          0.7407659089976096,
          1.0141311438526142,
          2.1355844624658697,
          15.5036512097372,
          4.1408932212205425,
          4.517018047382468,
          13.474404085537964,
          2.6687899874768775,
          0.6559241955275583,
          8.305637744443072,
          9.132972994670407,
          2.249085817686556,
          1.2918593571697465,
          1.5461395644758575,
          3.9201538975696986,
          0.7599092601363014,
          1.538056904471687,
          2.8597657199242414,
          3.1593558479221566,
          5.8545226017606415,
          2.866269074442721,
          1.7096814034644954,
          3.0071662949067757,
          8.003552696541739,
          20.838686886547514,
          2.7115173897863882,
          2.6525824346294096,
          1.634879634334892,
          46.794399590645405,
          26.757425043978337,
          0.685076278073477,
          1.660481011098978,
          0.7073439435704818,
          0.5776474784434598,
          0.6949068581935123,
          1.2978039504499896,
          22.249034710418407,
          0.6776853901910799,
          1.8152506311951797,
          1.218364494576164,
          3.7066853088818372,
          2.065013116843396,
          3.758641786898577,
          3.1187042815438852,
          11.655563742562014,
          63.861542467257216,
          2.6358956392120487,
          7.730519350201131,
          17.457511617137815,
          6.034663619563185,
          7.470186247806182,
          12.384920818080847,
          1.977808977128044,
          7.272821414227979,
          0.9872352921388802,
          0.48410162050419475,
          10.609117765754936,
          7.049176931691353,
          10.365474806624785,
          17.32137261220556,
          3.7745971986923816,
          7.789900681770479,
          7.313128477808917,
          8.87531967155756,
          2.2188486928409574,
          1.0916486369968044,
          1.8718677404358823,
          2.6596516084471338,
          0.10221814510397274,
          3.4156892184801504,
          0.22536850922950552,
          5.40053324328629,
          0.5494137152112247,
          3.045744182999037,
          3.4493383534657505,
          12.691417966133042,
          42.898299174058145,
          25.073271720448393,
          9.268560425647077,
          4.364970892744899,
          7.5780879688249225,
          1.942886713608499,
          7.053561257189298,
          18.95571613427552,
          4.735152872634629,
          1.2049321709293872,
          4.335601990102685,
          4.7679459927937495,
          14.759484070331418,
          1.0099351986544722,
          11.460025115092938,
          2.145593259372667,
          4.813815103769775,
          42.455249283055245,
          3.6166549138551285,
          2.4256492360059467,
          1.4837849912352172,
          0.1340471836833164,
          6.070410683841561,
          1.3466797725274722,
          3.433335817325464,
          43.83230347386065,
          2.5798275271083724,
          0.48173491134942986,
          3.4800008504200384,
          4.367053735795477,
          3.274861307299856,
          3.742370213369475,
          2.0084672463076876,
          3.1009108984738902,
          13.281390322027486,
          1.1432241956444755,
          4.448254776888211,
          0.7482049199475737,
          6.98048575304962,
          2.0755758086042815,
          0.7115914773560243,
          2.387888427348077,
          2.038307287954692,
          1.0103528753721047,
          0.1764134907697591,
          0.9314914661470176,
          0.7194170002916072,
          13.03509175602244,
          1.52352642883454,
          16.039424506560753,
          0.5621394242781027,
          0.3197661778586319,
          0.2757381587865633,
          5.606779775649884,
          8.374624173354887,
          0.4628271667515886,
          2.100217985123849,
          1.7845628712614816,
          1.1985625466282825,
          2.429550285235173,
          1.2400478707973608,
          0.5144170649573064,
          6.211227790892521,
          3.0071343353802718,
          24.20712404644202,
          95.07307483449902,
          4.2214813523095565,
          1.3134270718384442,
          1.0739329603329641,
          47.20666720330819,
          3.670869589361055,
          49.14004410413204,
          32.46015990193313,
          11.694784198042047,
          1.330311990777305,
          14.708375152850161,
          1.3440929427550692,
          3.2904402881163484,
          5.725678391303697,
          1.5391206868971956,
          3.0705164087405628,
          4.879078571593203,
          0.8975993130598023,
          0.5237753012470089,
          1.000798921600535,
          0.9699788631953673,
          0.9048507051023167,
          1.9252623598308465,
          1.997284978935898,
          0.4228829547638586,
          38.50892694285899,
          45.210958794113864,
          1.4795057993400171,
          2.418632836803142,
          1.6936775154723782,
          0.5274819994320418,
          1.1133164182859783,
          1.2943258027077607,
          0.20750370890394512,
          6.153533836224566,
          2.1753600419760897,
          2.2902440433300515,
          14.972277551918813,
          2.644801680274716,
          0.8962913658298929,
          0.7769620291270827,
          2.024701927344894,
          1.5911450692594267,
          2.2577885843671197,
          39.1413643985175,
          0.16531294900990826,
          19.585454624514856,
          2.33869062759326,
          0.02437552695053584,
          2.731297071019984,
          7.020825647052029,
          4.977411789978304,
          8.078211752506128,
          0.8841137673733722,
          2.0046769585690027,
          6.5588796067276265,
          6.363364212102247,
          0.5512549028869772,
          2.471340512548477,
          1.8945324419307317,
          1.1793360315666817,
          2.127229383497928
         ]
        },
        {
         "line": {
          "color": "gray",
          "dash": "dot"
         },
         "mode": "lines",
         "showlegend": false,
         "type": "scatter",
         "x": [
          -1,
          200
         ],
         "y": [
          -1,
          200
         ]
        }
       ],
       "layout": {
        "autosize": false,
        "font": {
         "size": 20
        },
        "height": 600,
        "template": {
         "data": {
          "bar": [
           {
            "error_x": {
             "color": "rgb(36,36,36)"
            },
            "error_y": {
             "color": "rgb(36,36,36)"
            },
            "marker": {
             "line": {
              "color": "white",
              "width": 0.5
             },
             "pattern": {
              "fillmode": "overlay",
              "size": 10,
              "solidity": 0.2
             }
            },
            "type": "bar"
           }
          ],
          "barpolar": [
           {
            "marker": {
             "line": {
              "color": "white",
              "width": 0.5
             },
             "pattern": {
              "fillmode": "overlay",
              "size": 10,
              "solidity": 0.2
             }
            },
            "type": "barpolar"
           }
          ],
          "carpet": [
           {
            "aaxis": {
             "endlinecolor": "rgb(36,36,36)",
             "gridcolor": "white",
             "linecolor": "white",
             "minorgridcolor": "white",
             "startlinecolor": "rgb(36,36,36)"
            },
            "baxis": {
             "endlinecolor": "rgb(36,36,36)",
             "gridcolor": "white",
             "linecolor": "white",
             "minorgridcolor": "white",
             "startlinecolor": "rgb(36,36,36)"
            },
            "type": "carpet"
           }
          ],
          "choropleth": [
           {
            "colorbar": {
             "outlinewidth": 1,
             "tickcolor": "rgb(36,36,36)",
             "ticks": "outside"
            },
            "type": "choropleth"
           }
          ],
          "contour": [
           {
            "colorbar": {
             "outlinewidth": 1,
             "tickcolor": "rgb(36,36,36)",
             "ticks": "outside"
            },
            "colorscale": [
             [
              0,
              "#440154"
             ],
             [
              0.1111111111111111,
              "#482878"
             ],
             [
              0.2222222222222222,
              "#3e4989"
             ],
             [
              0.3333333333333333,
              "#31688e"
             ],
             [
              0.4444444444444444,
              "#26828e"
             ],
             [
              0.5555555555555556,
              "#1f9e89"
             ],
             [
              0.6666666666666666,
              "#35b779"
             ],
             [
              0.7777777777777778,
              "#6ece58"
             ],
             [
              0.8888888888888888,
              "#b5de2b"
             ],
             [
              1,
              "#fde725"
             ]
            ],
            "type": "contour"
           }
          ],
          "contourcarpet": [
           {
            "colorbar": {
             "outlinewidth": 1,
             "tickcolor": "rgb(36,36,36)",
             "ticks": "outside"
            },
            "type": "contourcarpet"
           }
          ],
          "heatmap": [
           {
            "colorbar": {
             "outlinewidth": 1,
             "tickcolor": "rgb(36,36,36)",
             "ticks": "outside"
            },
            "colorscale": [
             [
              0,
              "#440154"
             ],
             [
              0.1111111111111111,
              "#482878"
             ],
             [
              0.2222222222222222,
              "#3e4989"
             ],
             [
              0.3333333333333333,
              "#31688e"
             ],
             [
              0.4444444444444444,
              "#26828e"
             ],
             [
              0.5555555555555556,
              "#1f9e89"
             ],
             [
              0.6666666666666666,
              "#35b779"
             ],
             [
              0.7777777777777778,
              "#6ece58"
             ],
             [
              0.8888888888888888,
              "#b5de2b"
             ],
             [
              1,
              "#fde725"
             ]
            ],
            "type": "heatmap"
           }
          ],
          "heatmapgl": [
           {
            "colorbar": {
             "outlinewidth": 1,
             "tickcolor": "rgb(36,36,36)",
             "ticks": "outside"
            },
            "colorscale": [
             [
              0,
              "#440154"
             ],
             [
              0.1111111111111111,
              "#482878"
             ],
             [
              0.2222222222222222,
              "#3e4989"
             ],
             [
              0.3333333333333333,
              "#31688e"
             ],
             [
              0.4444444444444444,
              "#26828e"
             ],
             [
              0.5555555555555556,
              "#1f9e89"
             ],
             [
              0.6666666666666666,
              "#35b779"
             ],
             [
              0.7777777777777778,
              "#6ece58"
             ],
             [
              0.8888888888888888,
              "#b5de2b"
             ],
             [
              1,
              "#fde725"
             ]
            ],
            "type": "heatmapgl"
           }
          ],
          "histogram": [
           {
            "marker": {
             "line": {
              "color": "white",
              "width": 0.6
             }
            },
            "type": "histogram"
           }
          ],
          "histogram2d": [
           {
            "colorbar": {
             "outlinewidth": 1,
             "tickcolor": "rgb(36,36,36)",
             "ticks": "outside"
            },
            "colorscale": [
             [
              0,
              "#440154"
             ],
             [
              0.1111111111111111,
              "#482878"
             ],
             [
              0.2222222222222222,
              "#3e4989"
             ],
             [
              0.3333333333333333,
              "#31688e"
             ],
             [
              0.4444444444444444,
              "#26828e"
             ],
             [
              0.5555555555555556,
              "#1f9e89"
             ],
             [
              0.6666666666666666,
              "#35b779"
             ],
             [
              0.7777777777777778,
              "#6ece58"
             ],
             [
              0.8888888888888888,
              "#b5de2b"
             ],
             [
              1,
              "#fde725"
             ]
            ],
            "type": "histogram2d"
           }
          ],
          "histogram2dcontour": [
           {
            "colorbar": {
             "outlinewidth": 1,
             "tickcolor": "rgb(36,36,36)",
             "ticks": "outside"
            },
            "colorscale": [
             [
              0,
              "#440154"
             ],
             [
              0.1111111111111111,
              "#482878"
             ],
             [
              0.2222222222222222,
              "#3e4989"
             ],
             [
              0.3333333333333333,
              "#31688e"
             ],
             [
              0.4444444444444444,
              "#26828e"
             ],
             [
              0.5555555555555556,
              "#1f9e89"
             ],
             [
              0.6666666666666666,
              "#35b779"
             ],
             [
              0.7777777777777778,
              "#6ece58"
             ],
             [
              0.8888888888888888,
              "#b5de2b"
             ],
             [
              1,
              "#fde725"
             ]
            ],
            "type": "histogram2dcontour"
           }
          ],
          "mesh3d": [
           {
            "colorbar": {
             "outlinewidth": 1,
             "tickcolor": "rgb(36,36,36)",
             "ticks": "outside"
            },
            "type": "mesh3d"
           }
          ],
          "parcoords": [
           {
            "line": {
             "colorbar": {
              "outlinewidth": 1,
              "tickcolor": "rgb(36,36,36)",
              "ticks": "outside"
             }
            },
            "type": "parcoords"
           }
          ],
          "pie": [
           {
            "automargin": true,
            "type": "pie"
           }
          ],
          "scatter": [
           {
            "fillpattern": {
             "fillmode": "overlay",
             "size": 10,
             "solidity": 0.2
            },
            "type": "scatter"
           }
          ],
          "scatter3d": [
           {
            "line": {
             "colorbar": {
              "outlinewidth": 1,
              "tickcolor": "rgb(36,36,36)",
              "ticks": "outside"
             }
            },
            "marker": {
             "colorbar": {
              "outlinewidth": 1,
              "tickcolor": "rgb(36,36,36)",
              "ticks": "outside"
             }
            },
            "type": "scatter3d"
           }
          ],
          "scattercarpet": [
           {
            "marker": {
             "colorbar": {
              "outlinewidth": 1,
              "tickcolor": "rgb(36,36,36)",
              "ticks": "outside"
             }
            },
            "type": "scattercarpet"
           }
          ],
          "scattergeo": [
           {
            "marker": {
             "colorbar": {
              "outlinewidth": 1,
              "tickcolor": "rgb(36,36,36)",
              "ticks": "outside"
             }
            },
            "type": "scattergeo"
           }
          ],
          "scattergl": [
           {
            "marker": {
             "colorbar": {
              "outlinewidth": 1,
              "tickcolor": "rgb(36,36,36)",
              "ticks": "outside"
             }
            },
            "type": "scattergl"
           }
          ],
          "scattermapbox": [
           {
            "marker": {
             "colorbar": {
              "outlinewidth": 1,
              "tickcolor": "rgb(36,36,36)",
              "ticks": "outside"
             }
            },
            "type": "scattermapbox"
           }
          ],
          "scatterpolar": [
           {
            "marker": {
             "colorbar": {
              "outlinewidth": 1,
              "tickcolor": "rgb(36,36,36)",
              "ticks": "outside"
             }
            },
            "type": "scatterpolar"
           }
          ],
          "scatterpolargl": [
           {
            "marker": {
             "colorbar": {
              "outlinewidth": 1,
              "tickcolor": "rgb(36,36,36)",
              "ticks": "outside"
             }
            },
            "type": "scatterpolargl"
           }
          ],
          "scatterternary": [
           {
            "marker": {
             "colorbar": {
              "outlinewidth": 1,
              "tickcolor": "rgb(36,36,36)",
              "ticks": "outside"
             }
            },
            "type": "scatterternary"
           }
          ],
          "surface": [
           {
            "colorbar": {
             "outlinewidth": 1,
             "tickcolor": "rgb(36,36,36)",
             "ticks": "outside"
            },
            "colorscale": [
             [
              0,
              "#440154"
             ],
             [
              0.1111111111111111,
              "#482878"
             ],
             [
              0.2222222222222222,
              "#3e4989"
             ],
             [
              0.3333333333333333,
              "#31688e"
             ],
             [
              0.4444444444444444,
              "#26828e"
             ],
             [
              0.5555555555555556,
              "#1f9e89"
             ],
             [
              0.6666666666666666,
              "#35b779"
             ],
             [
              0.7777777777777778,
              "#6ece58"
             ],
             [
              0.8888888888888888,
              "#b5de2b"
             ],
             [
              1,
              "#fde725"
             ]
            ],
            "type": "surface"
           }
          ],
          "table": [
           {
            "cells": {
             "fill": {
              "color": "rgb(237,237,237)"
             },
             "line": {
              "color": "white"
             }
            },
            "header": {
             "fill": {
              "color": "rgb(217,217,217)"
             },
             "line": {
              "color": "white"
             }
            },
            "type": "table"
           }
          ]
         },
         "layout": {
          "annotationdefaults": {
           "arrowhead": 0,
           "arrowwidth": 1
          },
          "autotypenumbers": "strict",
          "coloraxis": {
           "colorbar": {
            "outlinewidth": 1,
            "tickcolor": "rgb(36,36,36)",
            "ticks": "outside"
           }
          },
          "colorscale": {
           "diverging": [
            [
             0,
             "rgb(103,0,31)"
            ],
            [
             0.1,
             "rgb(178,24,43)"
            ],
            [
             0.2,
             "rgb(214,96,77)"
            ],
            [
             0.3,
             "rgb(244,165,130)"
            ],
            [
             0.4,
             "rgb(253,219,199)"
            ],
            [
             0.5,
             "rgb(247,247,247)"
            ],
            [
             0.6,
             "rgb(209,229,240)"
            ],
            [
             0.7,
             "rgb(146,197,222)"
            ],
            [
             0.8,
             "rgb(67,147,195)"
            ],
            [
             0.9,
             "rgb(33,102,172)"
            ],
            [
             1,
             "rgb(5,48,97)"
            ]
           ],
           "sequential": [
            [
             0,
             "#440154"
            ],
            [
             0.1111111111111111,
             "#482878"
            ],
            [
             0.2222222222222222,
             "#3e4989"
            ],
            [
             0.3333333333333333,
             "#31688e"
            ],
            [
             0.4444444444444444,
             "#26828e"
            ],
            [
             0.5555555555555556,
             "#1f9e89"
            ],
            [
             0.6666666666666666,
             "#35b779"
            ],
            [
             0.7777777777777778,
             "#6ece58"
            ],
            [
             0.8888888888888888,
             "#b5de2b"
            ],
            [
             1,
             "#fde725"
            ]
           ],
           "sequentialminus": [
            [
             0,
             "#440154"
            ],
            [
             0.1111111111111111,
             "#482878"
            ],
            [
             0.2222222222222222,
             "#3e4989"
            ],
            [
             0.3333333333333333,
             "#31688e"
            ],
            [
             0.4444444444444444,
             "#26828e"
            ],
            [
             0.5555555555555556,
             "#1f9e89"
            ],
            [
             0.6666666666666666,
             "#35b779"
            ],
            [
             0.7777777777777778,
             "#6ece58"
            ],
            [
             0.8888888888888888,
             "#b5de2b"
            ],
            [
             1,
             "#fde725"
            ]
           ]
          },
          "colorway": [
           "#1F77B4",
           "#FF7F0E",
           "#2CA02C",
           "#D62728",
           "#9467BD",
           "#8C564B",
           "#E377C2",
           "#7F7F7F",
           "#BCBD22",
           "#17BECF"
          ],
          "font": {
           "color": "rgb(36,36,36)"
          },
          "geo": {
           "bgcolor": "white",
           "lakecolor": "white",
           "landcolor": "white",
           "showlakes": true,
           "showland": true,
           "subunitcolor": "white"
          },
          "hoverlabel": {
           "align": "left"
          },
          "hovermode": "closest",
          "mapbox": {
           "style": "light"
          },
          "paper_bgcolor": "white",
          "plot_bgcolor": "white",
          "polar": {
           "angularaxis": {
            "gridcolor": "rgb(232,232,232)",
            "linecolor": "rgb(36,36,36)",
            "showgrid": false,
            "showline": true,
            "ticks": "outside"
           },
           "bgcolor": "white",
           "radialaxis": {
            "gridcolor": "rgb(232,232,232)",
            "linecolor": "rgb(36,36,36)",
            "showgrid": false,
            "showline": true,
            "ticks": "outside"
           }
          },
          "scene": {
           "xaxis": {
            "backgroundcolor": "white",
            "gridcolor": "rgb(232,232,232)",
            "gridwidth": 2,
            "linecolor": "rgb(36,36,36)",
            "showbackground": true,
            "showgrid": false,
            "showline": true,
            "ticks": "outside",
            "zeroline": false,
            "zerolinecolor": "rgb(36,36,36)"
           },
           "yaxis": {
            "backgroundcolor": "white",
            "gridcolor": "rgb(232,232,232)",
            "gridwidth": 2,
            "linecolor": "rgb(36,36,36)",
            "showbackground": true,
            "showgrid": false,
            "showline": true,
            "ticks": "outside",
            "zeroline": false,
            "zerolinecolor": "rgb(36,36,36)"
           },
           "zaxis": {
            "backgroundcolor": "white",
            "gridcolor": "rgb(232,232,232)",
            "gridwidth": 2,
            "linecolor": "rgb(36,36,36)",
            "showbackground": true,
            "showgrid": false,
            "showline": true,
            "ticks": "outside",
            "zeroline": false,
            "zerolinecolor": "rgb(36,36,36)"
           }
          },
          "shapedefaults": {
           "fillcolor": "black",
           "line": {
            "width": 0
           },
           "opacity": 0.3
          },
          "ternary": {
           "aaxis": {
            "gridcolor": "rgb(232,232,232)",
            "linecolor": "rgb(36,36,36)",
            "showgrid": false,
            "showline": true,
            "ticks": "outside"
           },
           "baxis": {
            "gridcolor": "rgb(232,232,232)",
            "linecolor": "rgb(36,36,36)",
            "showgrid": false,
            "showline": true,
            "ticks": "outside"
           },
           "bgcolor": "white",
           "caxis": {
            "gridcolor": "rgb(232,232,232)",
            "linecolor": "rgb(36,36,36)",
            "showgrid": false,
            "showline": true,
            "ticks": "outside"
           }
          },
          "title": {
           "x": 0.05
          },
          "xaxis": {
           "automargin": true,
           "gridcolor": "rgb(232,232,232)",
           "linecolor": "rgb(36,36,36)",
           "showgrid": false,
           "showline": true,
           "ticks": "outside",
           "title": {
            "standoff": 15
           },
           "zeroline": false,
           "zerolinecolor": "rgb(36,36,36)"
          },
          "yaxis": {
           "automargin": true,
           "gridcolor": "rgb(232,232,232)",
           "linecolor": "rgb(36,36,36)",
           "showgrid": false,
           "showline": true,
           "ticks": "outside",
           "title": {
            "standoff": 15
           },
           "zeroline": false,
           "zerolinecolor": "rgb(36,36,36)"
          }
         }
        },
        "width": 600,
        "xaxis": {
         "range": [
          -1,
          150
         ],
         "showgrid": false,
         "title": {
          "text": "<i>d</i><sub>KP</sub> (pm/V)"
         }
        },
        "yaxis": {
         "range": [
          -1,
          150
         ],
         "showgrid": false,
         "title": {
          "text": "<i>d&#770;</i><sub>KP</sub> (pm/V)"
         }
        }
       }
      }
     },
     "metadata": {},
     "output_type": "display_data"
    }
   ],
   "source": [
    "# Data\n",
    "\n",
    "mae = mean_absolute_error(df_pred_matten[\"dKP_true\"], df_pred_matten[\"dKP_matten\"])\n",
    "mape = mean_absolute_percentage_error(\n",
    "    df_pred_matten[\"dKP_true\"], df_pred_matten[\"dKP_matten\"]\n",
    ")\n",
    "rmse = root_mean_squared_error(df_pred_matten[\"dKP_true\"], df_pred_matten[\"dKP_matten\"])\n",
    "spearmanrho = spearmanr(df_pred_matten[\"dKP_true\"], df_pred_matten[\"dKP_matten\"])\n",
    "print(f\"MAE = {mae}\")\n",
    "print(f\"MAPE = {mape}\")\n",
    "print(f\"RMSE = {rmse}\")\n",
    "print(f\"Rho_sp = {spearmanrho.statistic}\")\n",
    "\n",
    "# Scatter plot for previous outputs.\n",
    "scatter_dKP = go.Scatter(\n",
    "    x=df_pred_matten[\"dKP_true\"],\n",
    "    y=df_pred_matten[\"dKP_matten\"],\n",
    "    mode=\"markers\",\n",
    "    name=\"\",\n",
    "    showlegend=False,\n",
    "    text=[mpid for mpid in df_pred_matten.index.values],\n",
    ")\n",
    "\n",
    "ideal = go.Scatter(\n",
    "    x=[-1, 200],\n",
    "    y=[-1, 200],\n",
    "    mode=\"lines\",\n",
    "    line=dict(color=\"gray\", dash=\"dot\"),\n",
    "    showlegend=False,\n",
    ")\n",
    "\n",
    "# Layout\n",
    "layout = go.Layout(\n",
    "    # title=dict(text='Scatter Plot'),\n",
    "    xaxis=dict(title=\"<i>d</i><sub>KP</sub> (pm/V)\", range=[-1, 150]),\n",
    "    yaxis=dict(title=\"<i>d&#770;</i><sub>KP</sub> (pm/V)\", range=[-1, 150]),\n",
    "    # legend=dict(font=dict(size=12)),\n",
    ")\n",
    "\n",
    "# Create figure\n",
    "fig = go.Figure(data=[scatter_dKP, ideal], layout=layout)\n",
    "\n",
    "fig.update_layout(\n",
    "    autosize=False,\n",
    "    font_size=20,\n",
    "    width=600,\n",
    "    height=600,\n",
    "    # plot_bgcolor=\"white\",\n",
    "    template=\"simple_white\",\n",
    ")\n",
    "fig.update_layout(\n",
    "    xaxis=dict(\n",
    "        # tickmode = 'array',\n",
    "        # tickvals = [1, 2,3,4,5,6,7,8],\n",
    "        # ticktext = ['One', 'Three', 'Five', 'Seven', 'Nine', 'Eleven']\n",
    "        showgrid=False,\n",
    "    ),\n",
    "    yaxis=dict(\n",
    "        # tickmode = 'array',\n",
    "        # tickvals = [1, 2,3,4,5,6,7,8],\n",
    "        # ticktext = ['One', 'Three', 'Five', 'Seven', 'Nine', 'Eleven']\n",
    "        showgrid=False,\n",
    "    ),\n",
    ")\n",
    "\n",
    "# Show figure\n",
    "fig.show()"
   ]
  },
  {
   "cell_type": "markdown",
   "metadata": {},
   "source": [
    "## Errors on dKP masked"
   ]
  },
  {
   "cell_type": "code",
   "execution_count": 14,
   "metadata": {},
   "outputs": [
    {
     "name": "stdout",
     "output_type": "stream",
     "text": [
      "MAE = 8.712632685840285\n",
      "MAPE = 7.137269740478439\n",
      "RMSE = 21.742057242309183\n",
      "Rho_sp = 0.6331020976335621\n"
     ]
    },
    {
     "data": {
      "application/vnd.plotly.v1+json": {
       "config": {
        "plotlyServerURL": "https://plot.ly"
       },
       "data": [
        {
         "mode": "markers",
         "name": "",
         "showlegend": false,
         "text": [
          "agm001234439",
          "agm001347560",
          "agm002041688",
          "agm002054632",
          "agm002072314",
          "agm002073747",
          "agm002102214",
          "agm002133608",
          "agm002133663",
          "agm002135972",
          "agm002138386",
          "agm002147787",
          "agm002149208",
          "agm002153441",
          "agm002156258",
          "agm002158429",
          "agm002158908",
          "agm002162961",
          "agm002171920",
          "agm002177947",
          "agm002183415",
          "agm002197344",
          "agm002205114",
          "agm002205907",
          "agm002215982",
          "agm002218325",
          "agm002233584",
          "agm002363904",
          "agm002790067",
          "agm002793928",
          "agm002845532",
          "agm002848041",
          "agm002861773",
          "agm003046706",
          "agm003048415",
          "agm003110472",
          "agm003160554",
          "agm003200486",
          "agm003206623",
          "agm003220800",
          "agm003227564",
          "agm003234420",
          "agm003263235",
          "agm003267560",
          "agm003268240",
          "agm003445531",
          "agm003445638",
          "agm003716707",
          "agm004442672",
          "agm004751295",
          "agm004785400",
          "agm004786073",
          "agm004788917",
          "agm004852876",
          "agm004879066",
          "agm004929360",
          "agm004954098",
          "agm004954137",
          "agm004956590",
          "agm004957147",
          "agm005049826",
          "agm005069643",
          "agm005074722",
          "agm005086003",
          "agm005086011",
          "agm005180379",
          "agm005189644",
          "agm005408965",
          "agm005543540",
          "agm005607967",
          "agm005698720",
          "agm005723638",
          "agm005769896",
          "agm005839737",
          "agm005848257",
          "agm005849998",
          "agm006124765",
          "agm1000019892",
          "agm2000001840",
          "agm2000002067",
          "agm2000005425",
          "agm2000011096",
          "agm2000012572",
          "agm2000015113",
          "agm2000022161",
          "agm2000081842",
          "agm2000086862",
          "agm2000101795",
          "agm2000128635",
          "agm2000139348",
          "mp-1008556",
          "mp-1017534",
          "mp-1018093",
          "mp-1019715",
          "mp-1028576",
          "mp-1029422",
          "mp-10572",
          "mp-1079609",
          "mp-1080058",
          "mp-1095543",
          "mp-1096810",
          "mp-1097061",
          "mp-1101862",
          "mp-1102285",
          "mp-1103351",
          "mp-1105127",
          "mp-1105300",
          "mp-1120718",
          "mp-1147693",
          "mp-1147697",
          "mp-1147725",
          "mp-1184046",
          "mp-1188121",
          "mp-1190717",
          "mp-1192126",
          "mp-1193269",
          "mp-1194520",
          "mp-1198890",
          "mp-1202153",
          "mp-1204358",
          "mp-1210659",
          "mp-1210722",
          "mp-1215297",
          "mp-1215418",
          "mp-1215430",
          "mp-1215966",
          "mp-1216132",
          "mp-1216863",
          "mp-1216944",
          "mp-1217833",
          "mp-1218006",
          "mp-1218158",
          "mp-1220190",
          "mp-1220913",
          "mp-1221954",
          "mp-1223536",
          "mp-1223822",
          "mp-1227011",
          "mp-1227036",
          "mp-1227366",
          "mp-1227567",
          "mp-1227994",
          "mp-1228823",
          "mp-1229086",
          "mp-1300570",
          "mp-13666",
          "mp-14367",
          "mp-14444",
          "mp-15776",
          "mp-15833",
          "mp-15840",
          "mp-16792",
          "mp-17862",
          "mp-18609",
          "mp-18938",
          "mp-19219",
          "mp-21521",
          "mp-22965",
          "mp-23173",
          "mp-23321",
          "mp-23363",
          "mp-23407",
          "mp-23560",
          "mp-23778",
          "mp-23807",
          "mp-23866",
          "mp-23887",
          "mp-23914",
          "mp-24118",
          "mp-24402",
          "mp-2691",
          "mp-27313",
          "mp-27594",
          "mp-27726",
          "mp-27755",
          "mp-27914",
          "mp-28020",
          "mp-28140",
          "mp-28264",
          "mp-28873",
          "mp-28918",
          "mp-29305",
          "mp-29362",
          "mp-29524",
          "mp-29525",
          "mp-29910",
          "mp-30530",
          "mp-30847",
          "mp-31451",
          "mp-3491",
          "mp-35799",
          "mp-3589",
          "mp-36111",
          "mp-38103",
          "mp-4524",
          "mp-4586",
          "mp-4681",
          "mp-4690",
          "mp-5020",
          "mp-540634",
          "mp-551629",
          "mp-553887",
          "mp-554560",
          "mp-554918",
          "mp-555150",
          "mp-555203",
          "mp-555915",
          "mp-556024",
          "mp-556966",
          "mp-557027",
          "mp-557773",
          "mp-559065",
          "mp-559961",
          "mp-568968",
          "mp-570084",
          "mp-570136",
          "mp-5854",
          "mp-6062",
          "mp-622018",
          "mp-625521",
          "mp-626620",
          "mp-639506",
          "mp-639714",
          "mp-672118",
          "mp-675779",
          "mp-685145",
          "mp-696347",
          "mp-696946",
          "mp-706621",
          "mp-7324",
          "mp-754585",
          "mp-756570",
          "mp-7582",
          "mp-766345",
          "mp-767604",
          "mp-772748",
          "mp-772875",
          "mp-776259",
          "mp-779863",
          "mp-781710",
          "mp-830",
          "mp-8377",
          "mp-862539",
          "mp-863374",
          "mp-863755",
          "mp-9064",
          "mp-9197",
          "mp-983357",
          "mp-984766",
          "mp-998623"
         ],
         "type": "scatter",
         "x": [
          0.8272878630490751,
          119.17750722717321,
          5.595534498515963,
          45.303135851927564,
          3.6746577314042463,
          0.3950018116943311,
          0.5597603921863004,
          1.7272854408234093,
          0.0991741151465185,
          86.82819893445695,
          0.07204482741368785,
          0.0704271802524718,
          0.10231253569172748,
          0.7280654950849078,
          0.6697039819612798,
          4.119900280407139,
          30.75886427580862,
          29.33632071738057,
          21.371117289633542,
          57.421371513153915,
          63.41989568740686,
          10.346359350445816,
          64.16281613192514,
          60.42555880885499,
          1.0124731257139752,
          59.22118482426684,
          17.949940135731698,
          1.3390533054425817,
          46.68049140909839,
          13.815006459707828,
          1.0167609356637073,
          0.08344883276158094,
          14.475313088692246,
          5.102750745654848,
          11.762962459658203,
          12.462211550072594,
          72.51218728068382,
          0.009178805338191244,
          3.554589581362436,
          0.2376055939921027,
          0.23370080862578618,
          3.741263229982967,
          0.18408586504634641,
          19.687937563122517,
          128.57872321549112,
          2.533583054179051,
          1.8019306394927284,
          0.4841544135615684,
          0.0394322781829729,
          0.22694560248003484,
          17.43350792144079,
          2.7022513119493685,
          9.998036580257422,
          11.888698474022261,
          2.861884361265005,
          0.7145712554340605,
          8.746398626595365,
          8.880827412274467,
          0.2351408462270188,
          0.33584670726814886,
          6.162135670885474,
          4.606765053649747,
          0.11350109261963574,
          0.07295203027669746,
          0.09888976127830623,
          1.3222404458453203,
          4.676862008798201,
          1.835492230005784,
          0.8747801231678206,
          0.7241109877815762,
          3.122715013301309,
          18.659315188916388,
          97.68395764628198,
          0.4474691438551195,
          0.7736585573982434,
          56.19223404049812,
          10.632646096506013,
          0.0025494951937533525,
          1.4487561627496062,
          0.05789700711715668,
          0.011049020246936872,
          0.012228322303897629,
          0.042045060250899366,
          15.065563845869699,
          0.035194003373272,
          0.10739298694633051,
          0.033560379211186785,
          0.4131498408273308,
          0.009932503021346586,
          0.04399397096239267,
          2.072813575855084,
          86.43318649770944,
          99.04720476942921,
          0.9043530781146025,
          6.896748303683057,
          23.456218204440205,
          3.502880754734303,
          3.271774712384432,
          13.521219613286018,
          0.4235021433678197,
          8.267358086543753,
          0.42339392807386145,
          0.00926976728536528,
          7.2855926117787835,
          2.2421112466956346,
          165.11423137705333,
          26.760013080806115,
          8.365441040618439,
          7.670721448917315,
          7.443331100363126,
          8.530966099400597,
          42.282563090591545,
          0.1927772631282608,
          0.7406551680101052,
          0.854671044191776,
          0.004901906744179846,
          0.21283349650605804,
          0.171657918794524,
          6.748073345420762,
          0.24092657562867958,
          0.7808956594922749,
          4.883311614501596,
          12.472602553594912,
          102.95884557570939,
          40.70959571626302,
          8.91652058404514,
          3.886109063244815,
          9.121339783904686,
          1.0621837379758228,
          12.355454539173833,
          11.992339659471991,
          2.679311404714401,
          0.977077794807452,
          3.700290930724513,
          3.1668728275623117,
          15.363950385077864,
          0.6576829542553341,
          52.33013998938465,
          0.031333688358619716,
          9.119878419348035,
          107.30558261963216,
          2.3722891448775867,
          5.1957559821920585,
          0.16975347704375415,
          0.7138283781538486,
          50.26224377818762,
          0.09337521112741362,
          13.325047557309988,
          49.554229465557135,
          3.124842923790021,
          0.013112295945231701,
          7.048895297257652,
          33.20634743822916,
          47.96142567259269,
          2.445284299440702,
          1.7623403848746162,
          7.525570950107779,
          73.65819366822149,
          24.60466994929397,
          0.04048209925507434,
          0.010129295197848578,
          8.003880799957166,
          1.9324550393290865,
          0.9910381306437389,
          0.5288809978394777,
          0.9147487969477314,
          0.8128075093615331,
          0.13943147786634916,
          0.37874647042209203,
          0.05552424214135506,
          42.697559270275974,
          0.07496110195732313,
          24.032527373065566,
          1.8292924700531092,
          0.020291279821523046,
          0.10739522408833391,
          1.2745786250549451,
          11.55925304247615,
          16.167441970176085,
          1.685246556794829,
          9.530587117292916,
          2.0701988005076837,
          0.15013353166282417,
          0.44036346173538204,
          0.04959017790781204,
          2.005285335624167,
          4.306735198495529,
          37.84125851846766,
          67.16185442385373,
          3.2333363341489685,
          0.6126159490925168,
          0.7867697816903596,
          14.770006430271795,
          0.6556969325541743,
          89.50434406167203,
          22.59791344724751,
          20.70370536443482,
          0.23325192444863693,
          17.00593064077109,
          0.46039401208381553,
          1.1664455610018762,
          4.38282793604309,
          0.5567874577407241,
          2.4889948726268245,
          1.6714733711428025,
          0.5807809308869348,
          0.418081267508317,
          0.013943248393690464,
          0.45241150568782784,
          0.1458877440321602,
          0.1155290578338306,
          6.497969001348536,
          0.7254527988278862,
          32.55807279795252,
          29.824951103584578,
          0.869239575417028,
          0.6266017074568863,
          1.729192132434956,
          77.7206428201921,
          1.6026487619302416,
          1.4533820723763253,
          0.00871668578972436,
          5.535053276145763,
          0.8698482475910191,
          6.1363025179488515,
          11.486556413251712,
          0.38411570469334094,
          0.9635091453928637,
          0.17402164883623036,
          0.4445418900700682,
          6.211407706114043,
          14.05313916159886,
          25.905156109625487,
          0.06179004100546308,
          19.020750537047295,
          0.2716584026966766,
          0.007324108310589076,
          2.805753714798062,
          7.036324657579612,
          16.442143761668234,
          4.9548548591558745,
          1.284568323780706,
          0.5885377837373961,
          5.296053149018608,
          5.7317530008358455,
          0.7760408658560501,
          0.26055049885420734,
          0.16371619610032787,
          0.11980201080974372,
          2.0173458365469084
         ],
         "y": [
          1.4039931505352499,
          189.07223664611377,
          15.653955936006467,
          24.358270764383715,
          0.5094866528302406,
          0.9176086048196233,
          1.4803867299130253,
          14.08514686714372,
          0.01064118807862873,
          8.443223768968112,
          1.4381576752384995,
          3.580411596592942,
          2.3369416167816133,
          0.5978411738475325,
          3.905285083095173,
          7.274390052995174,
          10.263148015221752,
          5.999033483202963,
          14.6017043905216,
          3.5043689201667276,
          23.20998687168647,
          12.008394561755518,
          59.572604783118834,
          56.25514806337359,
          2.068050468435645,
          57.38294992696655,
          5.488040947985757,
          1.9118091126137082,
          35.93036564470225,
          3.8424911721845905,
          10.140387357245661,
          0.6309906318646993,
          13.021803065616774,
          5.772354335487951,
          17.904603682414525,
          29.633755337518213,
          22.02482259514619,
          0.0620208657661749,
          4.8600081163944155,
          1.8907751376155242,
          1.567734491317697,
          4.7869563216269695,
          0.35640500914926965,
          6.2194908068489765,
          18.112213690069453,
          4.221633910213684,
          1.9454854394851042,
          0.7407659089974071,
          1.014131143842787,
          2.1355844624654745,
          15.5036512097372,
          4.140893221218175,
          4.517018047379844,
          13.474404085537719,
          2.6687899874768117,
          0.6559241955275583,
          8.305637744442201,
          9.132972994669073,
          2.249085817686556,
          1.2918593571697465,
          1.5461395644739002,
          3.920153897568628,
          0.7599092601360059,
          1.5380569044704253,
          2.859765719923667,
          3.1593558479221566,
          5.8545226017606415,
          2.8662690744423514,
          1.7096814034644947,
          3.00716629490632,
          8.003552696541739,
          20.838686886547514,
          2.711517389786407,
          2.65258243462925,
          1.634879634334892,
          46.79439959064399,
          26.757425043978337,
          0.685076278073477,
          1.660481011098924,
          0.7073439435704818,
          0.577647478443313,
          0.6949068581935123,
          1.2978039504499896,
          22.249034710418407,
          0.677685390191005,
          1.81525063119476,
          1.2183644945757968,
          3.7066853088808602,
          2.065013116843397,
          3.7586417868985658,
          0.0000024731870076597814,
          2.1349568881562256e-7,
          63.86154246725626,
          2.6358956392115687,
          7.730519350200975,
          17.457511617137605,
          6.034663619562423,
          7.470186247806182,
          12.38492081808083,
          1.9778089771278824,
          7.272821414227521,
          0.9872352921388736,
          0.4841016204990175,
          10.609117765753966,
          7.049176931635046,
          10.365474806623707,
          17.321372612203596,
          3.774597198687574,
          7.789900681770479,
          7.313128477808917,
          8.87531967155756,
          2.2188486928316853,
          1.0916486369941474,
          1.8718677404356243,
          2.6596516084385047,
          0.10221814506560636,
          3.4156892184788257,
          0.2253685092248763,
          5.400533243285318,
          0.5494137152112247,
          3.045744182993314,
          3.4493383534642557,
          12.691417966133058,
          42.898299174058145,
          0.0000024110897282586327,
          9.268560425647077,
          4.36497089274481,
          7.578087968823557,
          1.9428867135602204,
          7.053561257187216,
          18.9557161342755,
          4.735152872634629,
          1.2049321709266225,
          4.335601990102685,
          4.767945992793314,
          14.759484070331418,
          1.0099351986544016,
          11.460025115091156,
          2.145593259371103,
          4.813815103769141,
          42.455249283055245,
          3.6166549138551285,
          2.425649236001584,
          1.483784991232495,
          0.13404718364887297,
          5.592947203501705,
          1.3466797725175048,
          1.073401589619758,
          43.83230347386065,
          2.5798275271067297,
          0.48173491134292984,
          3.480000573600224,
          4.367053735787148,
          3.27486130728771,
          2.0094784068176796,
          2.008467246302674,
          0.0000022399158779909996,
          13.281390322026976,
          1.1432241956147104,
          4.448254776858681,
          0.7482049199446145,
          6.980485753047859,
          2.075575808591701,
          0.7115914773540021,
          2.387888427346829,
          2.0383072879524335,
          1.010352875371941,
          0.17641349076679047,
          0.9314914661466472,
          0.7194170002842801,
          7.515956787300698e-7,
          1.5235264288345183,
          16.039424506560024,
          7.221442887744277e-7,
          0.3197661778575125,
          1.1705386427989956e-7,
          5.606779775647504,
          8.374624173347756,
          0.4628271667408537,
          2.100217985123499,
          1.7845628712614816,
          1.0075845183107446,
          2.4295502852345456,
          0.0000022563083138487205,
          0.5144170649445678,
          6.211227790880879,
          4.0542049599326946e-7,
          4.589187603175845e-8,
          9.381212227486535e-9,
          4.221481352307885,
          1.3134270718161223,
          0.08843677717490682,
          0.0000040736435077914504,
          3.670869589358667,
          19.02531551747073,
          32.460159901931874,
          11.694784198039862,
          0.08264906634572458,
          11.10240644787381,
          1.3440929427501134,
          0.0000022999182733927123,
          5.725678391303697,
          1.5391206868967067,
          3.0705164087402674,
          4.879078571592358,
          0.3025600432423817,
          0.5237753012310625,
          1.000798921600535,
          0.9699788631811586,
          0.904850705100044,
          1.9252623598265253,
          1.9972849789330822,
          0.4228829547138435,
          38.508926942857606,
          45.210958794108244,
          1.4795057993400127,
          2.4186328368016543,
          0.671066719468744,
          0.5274819994266202,
          1.1133164182859554,
          0.00000244719175888648,
          0.08163275457839919,
          6.153533836223792,
          2.1753600419760897,
          2.2902440433300515,
          8.561062618181552,
          2.6448016802743175,
          0.8962913658211279,
          0.0000011465203436817816,
          2.0247019273431888,
          1.5911450692594267,
          2.2577885843671197,
          39.14136439851675,
          0.16531294900839794,
          19.585454624514856,
          2.3386906275905894,
          0.024375526833149846,
          2.731297071019984,
          7.020825647052029,
          4.977411789978304,
          0.000003055486177120006,
          0.8841137673534867,
          1.4765476073316761,
          4.649303715187631,
          6.3633642121010485,
          8.935292262654178e-7,
          2.4713405125409516,
          1.8945324419307317,
          1.1793360315659942,
          2.127229383497928
         ]
        },
        {
         "line": {
          "color": "gray",
          "dash": "dot"
         },
         "mode": "lines",
         "showlegend": false,
         "type": "scatter",
         "x": [
          -1,
          200
         ],
         "y": [
          -1,
          200
         ]
        }
       ],
       "layout": {
        "autosize": false,
        "font": {
         "size": 20
        },
        "height": 600,
        "template": {
         "data": {
          "bar": [
           {
            "error_x": {
             "color": "rgb(36,36,36)"
            },
            "error_y": {
             "color": "rgb(36,36,36)"
            },
            "marker": {
             "line": {
              "color": "white",
              "width": 0.5
             },
             "pattern": {
              "fillmode": "overlay",
              "size": 10,
              "solidity": 0.2
             }
            },
            "type": "bar"
           }
          ],
          "barpolar": [
           {
            "marker": {
             "line": {
              "color": "white",
              "width": 0.5
             },
             "pattern": {
              "fillmode": "overlay",
              "size": 10,
              "solidity": 0.2
             }
            },
            "type": "barpolar"
           }
          ],
          "carpet": [
           {
            "aaxis": {
             "endlinecolor": "rgb(36,36,36)",
             "gridcolor": "white",
             "linecolor": "white",
             "minorgridcolor": "white",
             "startlinecolor": "rgb(36,36,36)"
            },
            "baxis": {
             "endlinecolor": "rgb(36,36,36)",
             "gridcolor": "white",
             "linecolor": "white",
             "minorgridcolor": "white",
             "startlinecolor": "rgb(36,36,36)"
            },
            "type": "carpet"
           }
          ],
          "choropleth": [
           {
            "colorbar": {
             "outlinewidth": 1,
             "tickcolor": "rgb(36,36,36)",
             "ticks": "outside"
            },
            "type": "choropleth"
           }
          ],
          "contour": [
           {
            "colorbar": {
             "outlinewidth": 1,
             "tickcolor": "rgb(36,36,36)",
             "ticks": "outside"
            },
            "colorscale": [
             [
              0,
              "#440154"
             ],
             [
              0.1111111111111111,
              "#482878"
             ],
             [
              0.2222222222222222,
              "#3e4989"
             ],
             [
              0.3333333333333333,
              "#31688e"
             ],
             [
              0.4444444444444444,
              "#26828e"
             ],
             [
              0.5555555555555556,
              "#1f9e89"
             ],
             [
              0.6666666666666666,
              "#35b779"
             ],
             [
              0.7777777777777778,
              "#6ece58"
             ],
             [
              0.8888888888888888,
              "#b5de2b"
             ],
             [
              1,
              "#fde725"
             ]
            ],
            "type": "contour"
           }
          ],
          "contourcarpet": [
           {
            "colorbar": {
             "outlinewidth": 1,
             "tickcolor": "rgb(36,36,36)",
             "ticks": "outside"
            },
            "type": "contourcarpet"
           }
          ],
          "heatmap": [
           {
            "colorbar": {
             "outlinewidth": 1,
             "tickcolor": "rgb(36,36,36)",
             "ticks": "outside"
            },
            "colorscale": [
             [
              0,
              "#440154"
             ],
             [
              0.1111111111111111,
              "#482878"
             ],
             [
              0.2222222222222222,
              "#3e4989"
             ],
             [
              0.3333333333333333,
              "#31688e"
             ],
             [
              0.4444444444444444,
              "#26828e"
             ],
             [
              0.5555555555555556,
              "#1f9e89"
             ],
             [
              0.6666666666666666,
              "#35b779"
             ],
             [
              0.7777777777777778,
              "#6ece58"
             ],
             [
              0.8888888888888888,
              "#b5de2b"
             ],
             [
              1,
              "#fde725"
             ]
            ],
            "type": "heatmap"
           }
          ],
          "heatmapgl": [
           {
            "colorbar": {
             "outlinewidth": 1,
             "tickcolor": "rgb(36,36,36)",
             "ticks": "outside"
            },
            "colorscale": [
             [
              0,
              "#440154"
             ],
             [
              0.1111111111111111,
              "#482878"
             ],
             [
              0.2222222222222222,
              "#3e4989"
             ],
             [
              0.3333333333333333,
              "#31688e"
             ],
             [
              0.4444444444444444,
              "#26828e"
             ],
             [
              0.5555555555555556,
              "#1f9e89"
             ],
             [
              0.6666666666666666,
              "#35b779"
             ],
             [
              0.7777777777777778,
              "#6ece58"
             ],
             [
              0.8888888888888888,
              "#b5de2b"
             ],
             [
              1,
              "#fde725"
             ]
            ],
            "type": "heatmapgl"
           }
          ],
          "histogram": [
           {
            "marker": {
             "line": {
              "color": "white",
              "width": 0.6
             }
            },
            "type": "histogram"
           }
          ],
          "histogram2d": [
           {
            "colorbar": {
             "outlinewidth": 1,
             "tickcolor": "rgb(36,36,36)",
             "ticks": "outside"
            },
            "colorscale": [
             [
              0,
              "#440154"
             ],
             [
              0.1111111111111111,
              "#482878"
             ],
             [
              0.2222222222222222,
              "#3e4989"
             ],
             [
              0.3333333333333333,
              "#31688e"
             ],
             [
              0.4444444444444444,
              "#26828e"
             ],
             [
              0.5555555555555556,
              "#1f9e89"
             ],
             [
              0.6666666666666666,
              "#35b779"
             ],
             [
              0.7777777777777778,
              "#6ece58"
             ],
             [
              0.8888888888888888,
              "#b5de2b"
             ],
             [
              1,
              "#fde725"
             ]
            ],
            "type": "histogram2d"
           }
          ],
          "histogram2dcontour": [
           {
            "colorbar": {
             "outlinewidth": 1,
             "tickcolor": "rgb(36,36,36)",
             "ticks": "outside"
            },
            "colorscale": [
             [
              0,
              "#440154"
             ],
             [
              0.1111111111111111,
              "#482878"
             ],
             [
              0.2222222222222222,
              "#3e4989"
             ],
             [
              0.3333333333333333,
              "#31688e"
             ],
             [
              0.4444444444444444,
              "#26828e"
             ],
             [
              0.5555555555555556,
              "#1f9e89"
             ],
             [
              0.6666666666666666,
              "#35b779"
             ],
             [
              0.7777777777777778,
              "#6ece58"
             ],
             [
              0.8888888888888888,
              "#b5de2b"
             ],
             [
              1,
              "#fde725"
             ]
            ],
            "type": "histogram2dcontour"
           }
          ],
          "mesh3d": [
           {
            "colorbar": {
             "outlinewidth": 1,
             "tickcolor": "rgb(36,36,36)",
             "ticks": "outside"
            },
            "type": "mesh3d"
           }
          ],
          "parcoords": [
           {
            "line": {
             "colorbar": {
              "outlinewidth": 1,
              "tickcolor": "rgb(36,36,36)",
              "ticks": "outside"
             }
            },
            "type": "parcoords"
           }
          ],
          "pie": [
           {
            "automargin": true,
            "type": "pie"
           }
          ],
          "scatter": [
           {
            "fillpattern": {
             "fillmode": "overlay",
             "size": 10,
             "solidity": 0.2
            },
            "type": "scatter"
           }
          ],
          "scatter3d": [
           {
            "line": {
             "colorbar": {
              "outlinewidth": 1,
              "tickcolor": "rgb(36,36,36)",
              "ticks": "outside"
             }
            },
            "marker": {
             "colorbar": {
              "outlinewidth": 1,
              "tickcolor": "rgb(36,36,36)",
              "ticks": "outside"
             }
            },
            "type": "scatter3d"
           }
          ],
          "scattercarpet": [
           {
            "marker": {
             "colorbar": {
              "outlinewidth": 1,
              "tickcolor": "rgb(36,36,36)",
              "ticks": "outside"
             }
            },
            "type": "scattercarpet"
           }
          ],
          "scattergeo": [
           {
            "marker": {
             "colorbar": {
              "outlinewidth": 1,
              "tickcolor": "rgb(36,36,36)",
              "ticks": "outside"
             }
            },
            "type": "scattergeo"
           }
          ],
          "scattergl": [
           {
            "marker": {
             "colorbar": {
              "outlinewidth": 1,
              "tickcolor": "rgb(36,36,36)",
              "ticks": "outside"
             }
            },
            "type": "scattergl"
           }
          ],
          "scattermapbox": [
           {
            "marker": {
             "colorbar": {
              "outlinewidth": 1,
              "tickcolor": "rgb(36,36,36)",
              "ticks": "outside"
             }
            },
            "type": "scattermapbox"
           }
          ],
          "scatterpolar": [
           {
            "marker": {
             "colorbar": {
              "outlinewidth": 1,
              "tickcolor": "rgb(36,36,36)",
              "ticks": "outside"
             }
            },
            "type": "scatterpolar"
           }
          ],
          "scatterpolargl": [
           {
            "marker": {
             "colorbar": {
              "outlinewidth": 1,
              "tickcolor": "rgb(36,36,36)",
              "ticks": "outside"
             }
            },
            "type": "scatterpolargl"
           }
          ],
          "scatterternary": [
           {
            "marker": {
             "colorbar": {
              "outlinewidth": 1,
              "tickcolor": "rgb(36,36,36)",
              "ticks": "outside"
             }
            },
            "type": "scatterternary"
           }
          ],
          "surface": [
           {
            "colorbar": {
             "outlinewidth": 1,
             "tickcolor": "rgb(36,36,36)",
             "ticks": "outside"
            },
            "colorscale": [
             [
              0,
              "#440154"
             ],
             [
              0.1111111111111111,
              "#482878"
             ],
             [
              0.2222222222222222,
              "#3e4989"
             ],
             [
              0.3333333333333333,
              "#31688e"
             ],
             [
              0.4444444444444444,
              "#26828e"
             ],
             [
              0.5555555555555556,
              "#1f9e89"
             ],
             [
              0.6666666666666666,
              "#35b779"
             ],
             [
              0.7777777777777778,
              "#6ece58"
             ],
             [
              0.8888888888888888,
              "#b5de2b"
             ],
             [
              1,
              "#fde725"
             ]
            ],
            "type": "surface"
           }
          ],
          "table": [
           {
            "cells": {
             "fill": {
              "color": "rgb(237,237,237)"
             },
             "line": {
              "color": "white"
             }
            },
            "header": {
             "fill": {
              "color": "rgb(217,217,217)"
             },
             "line": {
              "color": "white"
             }
            },
            "type": "table"
           }
          ]
         },
         "layout": {
          "annotationdefaults": {
           "arrowhead": 0,
           "arrowwidth": 1
          },
          "autotypenumbers": "strict",
          "coloraxis": {
           "colorbar": {
            "outlinewidth": 1,
            "tickcolor": "rgb(36,36,36)",
            "ticks": "outside"
           }
          },
          "colorscale": {
           "diverging": [
            [
             0,
             "rgb(103,0,31)"
            ],
            [
             0.1,
             "rgb(178,24,43)"
            ],
            [
             0.2,
             "rgb(214,96,77)"
            ],
            [
             0.3,
             "rgb(244,165,130)"
            ],
            [
             0.4,
             "rgb(253,219,199)"
            ],
            [
             0.5,
             "rgb(247,247,247)"
            ],
            [
             0.6,
             "rgb(209,229,240)"
            ],
            [
             0.7,
             "rgb(146,197,222)"
            ],
            [
             0.8,
             "rgb(67,147,195)"
            ],
            [
             0.9,
             "rgb(33,102,172)"
            ],
            [
             1,
             "rgb(5,48,97)"
            ]
           ],
           "sequential": [
            [
             0,
             "#440154"
            ],
            [
             0.1111111111111111,
             "#482878"
            ],
            [
             0.2222222222222222,
             "#3e4989"
            ],
            [
             0.3333333333333333,
             "#31688e"
            ],
            [
             0.4444444444444444,
             "#26828e"
            ],
            [
             0.5555555555555556,
             "#1f9e89"
            ],
            [
             0.6666666666666666,
             "#35b779"
            ],
            [
             0.7777777777777778,
             "#6ece58"
            ],
            [
             0.8888888888888888,
             "#b5de2b"
            ],
            [
             1,
             "#fde725"
            ]
           ],
           "sequentialminus": [
            [
             0,
             "#440154"
            ],
            [
             0.1111111111111111,
             "#482878"
            ],
            [
             0.2222222222222222,
             "#3e4989"
            ],
            [
             0.3333333333333333,
             "#31688e"
            ],
            [
             0.4444444444444444,
             "#26828e"
            ],
            [
             0.5555555555555556,
             "#1f9e89"
            ],
            [
             0.6666666666666666,
             "#35b779"
            ],
            [
             0.7777777777777778,
             "#6ece58"
            ],
            [
             0.8888888888888888,
             "#b5de2b"
            ],
            [
             1,
             "#fde725"
            ]
           ]
          },
          "colorway": [
           "#1F77B4",
           "#FF7F0E",
           "#2CA02C",
           "#D62728",
           "#9467BD",
           "#8C564B",
           "#E377C2",
           "#7F7F7F",
           "#BCBD22",
           "#17BECF"
          ],
          "font": {
           "color": "rgb(36,36,36)"
          },
          "geo": {
           "bgcolor": "white",
           "lakecolor": "white",
           "landcolor": "white",
           "showlakes": true,
           "showland": true,
           "subunitcolor": "white"
          },
          "hoverlabel": {
           "align": "left"
          },
          "hovermode": "closest",
          "mapbox": {
           "style": "light"
          },
          "paper_bgcolor": "white",
          "plot_bgcolor": "white",
          "polar": {
           "angularaxis": {
            "gridcolor": "rgb(232,232,232)",
            "linecolor": "rgb(36,36,36)",
            "showgrid": false,
            "showline": true,
            "ticks": "outside"
           },
           "bgcolor": "white",
           "radialaxis": {
            "gridcolor": "rgb(232,232,232)",
            "linecolor": "rgb(36,36,36)",
            "showgrid": false,
            "showline": true,
            "ticks": "outside"
           }
          },
          "scene": {
           "xaxis": {
            "backgroundcolor": "white",
            "gridcolor": "rgb(232,232,232)",
            "gridwidth": 2,
            "linecolor": "rgb(36,36,36)",
            "showbackground": true,
            "showgrid": false,
            "showline": true,
            "ticks": "outside",
            "zeroline": false,
            "zerolinecolor": "rgb(36,36,36)"
           },
           "yaxis": {
            "backgroundcolor": "white",
            "gridcolor": "rgb(232,232,232)",
            "gridwidth": 2,
            "linecolor": "rgb(36,36,36)",
            "showbackground": true,
            "showgrid": false,
            "showline": true,
            "ticks": "outside",
            "zeroline": false,
            "zerolinecolor": "rgb(36,36,36)"
           },
           "zaxis": {
            "backgroundcolor": "white",
            "gridcolor": "rgb(232,232,232)",
            "gridwidth": 2,
            "linecolor": "rgb(36,36,36)",
            "showbackground": true,
            "showgrid": false,
            "showline": true,
            "ticks": "outside",
            "zeroline": false,
            "zerolinecolor": "rgb(36,36,36)"
           }
          },
          "shapedefaults": {
           "fillcolor": "black",
           "line": {
            "width": 0
           },
           "opacity": 0.3
          },
          "ternary": {
           "aaxis": {
            "gridcolor": "rgb(232,232,232)",
            "linecolor": "rgb(36,36,36)",
            "showgrid": false,
            "showline": true,
            "ticks": "outside"
           },
           "baxis": {
            "gridcolor": "rgb(232,232,232)",
            "linecolor": "rgb(36,36,36)",
            "showgrid": false,
            "showline": true,
            "ticks": "outside"
           },
           "bgcolor": "white",
           "caxis": {
            "gridcolor": "rgb(232,232,232)",
            "linecolor": "rgb(36,36,36)",
            "showgrid": false,
            "showline": true,
            "ticks": "outside"
           }
          },
          "title": {
           "x": 0.05
          },
          "xaxis": {
           "automargin": true,
           "gridcolor": "rgb(232,232,232)",
           "linecolor": "rgb(36,36,36)",
           "showgrid": false,
           "showline": true,
           "ticks": "outside",
           "title": {
            "standoff": 15
           },
           "zeroline": false,
           "zerolinecolor": "rgb(36,36,36)"
          },
          "yaxis": {
           "automargin": true,
           "gridcolor": "rgb(232,232,232)",
           "linecolor": "rgb(36,36,36)",
           "showgrid": false,
           "showline": true,
           "ticks": "outside",
           "title": {
            "standoff": 15
           },
           "zeroline": false,
           "zerolinecolor": "rgb(36,36,36)"
          }
         }
        },
        "width": 600,
        "xaxis": {
         "range": [
          -1,
          150
         ],
         "showgrid": false,
         "title": {
          "text": "<i>d</i><sub>KP</sub> (pm/V)"
         }
        },
        "yaxis": {
         "range": [
          -1,
          150
         ],
         "showgrid": false,
         "title": {
          "text": "<i>d&#770;</i><sub>KP</sub> (pm/V)"
         }
        }
       }
      }
     },
     "metadata": {},
     "output_type": "display_data"
    }
   ],
   "source": [
    "# Data\n",
    "\n",
    "mae = mean_absolute_error(\n",
    "    df_pred_matten[\"dKP_true\"], df_pred_matten[\"dKP_matten_masked\"]\n",
    ")\n",
    "mape = mean_absolute_percentage_error(\n",
    "    df_pred_matten[\"dKP_true\"], df_pred_matten[\"dKP_matten_masked\"]\n",
    ")\n",
    "rmse = root_mean_squared_error(\n",
    "    df_pred_matten[\"dKP_true\"], df_pred_matten[\"dKP_matten_masked\"]\n",
    ")\n",
    "spearmanrho = spearmanr(df_pred_matten[\"dKP_true\"], df_pred_matten[\"dKP_matten_masked\"])\n",
    "print(f\"MAE = {mae}\")\n",
    "print(f\"MAPE = {mape}\")\n",
    "print(f\"RMSE = {rmse}\")\n",
    "print(f\"Rho_sp = {spearmanrho.statistic}\")\n",
    "\n",
    "# Scatter plot for previous outputs.\n",
    "scatter_dKP = go.Scatter(\n",
    "    x=df_pred_matten[\"dKP_true\"],\n",
    "    y=df_pred_matten[\"dKP_matten_masked\"],\n",
    "    mode=\"markers\",\n",
    "    name=\"\",\n",
    "    showlegend=False,\n",
    "    text=[mpid for mpid in df_pred_matten.index.values],\n",
    ")\n",
    "\n",
    "ideal = go.Scatter(\n",
    "    x=[-1, 200],\n",
    "    y=[-1, 200],\n",
    "    mode=\"lines\",\n",
    "    line=dict(color=\"gray\", dash=\"dot\"),\n",
    "    showlegend=False,\n",
    ")\n",
    "\n",
    "# Layout\n",
    "layout = go.Layout(\n",
    "    # title=dict(text='Scatter Plot'),\n",
    "    xaxis=dict(title=\"<i>d</i><sub>KP</sub> (pm/V)\", range=[-1, 150]),\n",
    "    yaxis=dict(title=\"<i>d&#770;</i><sub>KP</sub> (pm/V)\", range=[-1, 150]),\n",
    "    # legend=dict(font=dict(size=12)),\n",
    ")\n",
    "\n",
    "# Create figure\n",
    "fig = go.Figure(data=[scatter_dKP, ideal], layout=layout)\n",
    "\n",
    "fig.update_layout(\n",
    "    autosize=False,\n",
    "    font_size=20,\n",
    "    width=600,\n",
    "    height=600,\n",
    "    # plot_bgcolor=\"white\",\n",
    "    template=\"simple_white\",\n",
    ")\n",
    "fig.update_layout(\n",
    "    xaxis=dict(\n",
    "        # tickmode = 'array',\n",
    "        # tickvals = [1, 2,3,4,5,6,7,8],\n",
    "        # ticktext = ['One', 'Three', 'Five', 'Seven', 'Nine', 'Eleven']\n",
    "        showgrid=False,\n",
    "    ),\n",
    "    yaxis=dict(\n",
    "        # tickmode = 'array',\n",
    "        # tickvals = [1, 2,3,4,5,6,7,8],\n",
    "        # ticktext = ['One', 'Three', 'Five', 'Seven', 'Nine', 'Eleven']\n",
    "        showgrid=False,\n",
    "    ),\n",
    ")\n",
    "\n",
    "# Show figure\n",
    "fig.show()"
   ]
  },
  {
   "cell_type": "markdown",
   "metadata": {},
   "source": [
    "# Errors on dRMS"
   ]
  },
  {
   "cell_type": "code",
   "execution_count": 15,
   "metadata": {},
   "outputs": [
    {
     "name": "stdout",
     "output_type": "stream",
     "text": [
      "MAE = 4.290890359798537\n",
      "MAPE = 7.070167103524031\n",
      "RMSE = 10.783131053594627\n",
      "Rho_sp = 0.7906882350117601\n"
     ]
    },
    {
     "data": {
      "application/vnd.plotly.v1+json": {
       "config": {
        "plotlyServerURL": "https://plot.ly"
       },
       "data": [
        {
         "mode": "markers",
         "name": "",
         "showlegend": false,
         "text": [
          "agm001234439",
          "agm001347560",
          "agm002041688",
          "agm002054632",
          "agm002072314",
          "agm002073747",
          "agm002102214",
          "agm002133608",
          "agm002133663",
          "agm002135972",
          "agm002138386",
          "agm002147787",
          "agm002149208",
          "agm002153441",
          "agm002156258",
          "agm002158429",
          "agm002158908",
          "agm002162961",
          "agm002171920",
          "agm002177947",
          "agm002183415",
          "agm002197344",
          "agm002205114",
          "agm002205907",
          "agm002215982",
          "agm002218325",
          "agm002233584",
          "agm002363904",
          "agm002790067",
          "agm002793928",
          "agm002845532",
          "agm002848041",
          "agm002861773",
          "agm003046706",
          "agm003048415",
          "agm003110472",
          "agm003160554",
          "agm003200486",
          "agm003206623",
          "agm003220800",
          "agm003227564",
          "agm003234420",
          "agm003263235",
          "agm003267560",
          "agm003268240",
          "agm003445531",
          "agm003445638",
          "agm003716707",
          "agm004442672",
          "agm004751295",
          "agm004785400",
          "agm004786073",
          "agm004788917",
          "agm004852876",
          "agm004879066",
          "agm004929360",
          "agm004954098",
          "agm004954137",
          "agm004956590",
          "agm004957147",
          "agm005049826",
          "agm005069643",
          "agm005074722",
          "agm005086003",
          "agm005086011",
          "agm005180379",
          "agm005189644",
          "agm005408965",
          "agm005543540",
          "agm005607967",
          "agm005698720",
          "agm005723638",
          "agm005769896",
          "agm005839737",
          "agm005848257",
          "agm005849998",
          "agm006124765",
          "agm1000019892",
          "agm2000001840",
          "agm2000002067",
          "agm2000005425",
          "agm2000011096",
          "agm2000012572",
          "agm2000015113",
          "agm2000022161",
          "agm2000081842",
          "agm2000086862",
          "agm2000101795",
          "agm2000128635",
          "agm2000139348",
          "mp-1008556",
          "mp-1017534",
          "mp-1018093",
          "mp-1019715",
          "mp-1028576",
          "mp-1029422",
          "mp-10572",
          "mp-1079609",
          "mp-1080058",
          "mp-1095543",
          "mp-1096810",
          "mp-1097061",
          "mp-1101862",
          "mp-1102285",
          "mp-1103351",
          "mp-1105127",
          "mp-1105300",
          "mp-1120718",
          "mp-1147693",
          "mp-1147697",
          "mp-1147725",
          "mp-1184046",
          "mp-1188121",
          "mp-1190717",
          "mp-1192126",
          "mp-1193269",
          "mp-1194520",
          "mp-1198890",
          "mp-1202153",
          "mp-1204358",
          "mp-1210659",
          "mp-1210722",
          "mp-1215297",
          "mp-1215418",
          "mp-1215430",
          "mp-1215966",
          "mp-1216132",
          "mp-1216863",
          "mp-1216944",
          "mp-1217833",
          "mp-1218006",
          "mp-1218158",
          "mp-1220190",
          "mp-1220913",
          "mp-1221954",
          "mp-1223536",
          "mp-1223822",
          "mp-1227011",
          "mp-1227036",
          "mp-1227366",
          "mp-1227567",
          "mp-1227994",
          "mp-1228823",
          "mp-1229086",
          "mp-1300570",
          "mp-13666",
          "mp-14367",
          "mp-14444",
          "mp-15776",
          "mp-15833",
          "mp-15840",
          "mp-16792",
          "mp-17862",
          "mp-18609",
          "mp-18938",
          "mp-19219",
          "mp-21521",
          "mp-22965",
          "mp-23173",
          "mp-23321",
          "mp-23363",
          "mp-23407",
          "mp-23560",
          "mp-23778",
          "mp-23807",
          "mp-23866",
          "mp-23887",
          "mp-23914",
          "mp-24118",
          "mp-24402",
          "mp-2691",
          "mp-27313",
          "mp-27594",
          "mp-27726",
          "mp-27755",
          "mp-27914",
          "mp-28020",
          "mp-28140",
          "mp-28264",
          "mp-28873",
          "mp-28918",
          "mp-29305",
          "mp-29362",
          "mp-29524",
          "mp-29525",
          "mp-29910",
          "mp-30530",
          "mp-30847",
          "mp-31451",
          "mp-3491",
          "mp-35799",
          "mp-3589",
          "mp-36111",
          "mp-38103",
          "mp-4524",
          "mp-4586",
          "mp-4681",
          "mp-4690",
          "mp-5020",
          "mp-540634",
          "mp-551629",
          "mp-553887",
          "mp-554560",
          "mp-554918",
          "mp-555150",
          "mp-555203",
          "mp-555915",
          "mp-556024",
          "mp-556966",
          "mp-557027",
          "mp-557773",
          "mp-559065",
          "mp-559961",
          "mp-568968",
          "mp-570084",
          "mp-570136",
          "mp-5854",
          "mp-6062",
          "mp-622018",
          "mp-625521",
          "mp-626620",
          "mp-639506",
          "mp-639714",
          "mp-672118",
          "mp-675779",
          "mp-685145",
          "mp-696347",
          "mp-696946",
          "mp-706621",
          "mp-7324",
          "mp-754585",
          "mp-756570",
          "mp-7582",
          "mp-766345",
          "mp-767604",
          "mp-772748",
          "mp-772875",
          "mp-776259",
          "mp-779863",
          "mp-781710",
          "mp-830",
          "mp-8377",
          "mp-862539",
          "mp-863374",
          "mp-863755",
          "mp-9064",
          "mp-9197",
          "mp-983357",
          "mp-984766",
          "mp-998623"
         ],
         "type": "scatter",
         "x": [
          0.4533013926479508,
          66.47403757263447,
          2.8760490008516695,
          21.072019500648846,
          1.6106805224528309,
          0.22031903699392938,
          0.2599110202883883,
          0.8922093681825307,
          0.04893175672758362,
          43.19589965726968,
          0.03980417599795451,
          0.029799354205208635,
          0.04916717731356422,
          0.39655120589222165,
          0.2780652151597847,
          1.7172249446122005,
          17.150950214528677,
          15.668905153270495,
          9.38803148621998,
          31.95928679605838,
          28.93943018629221,
          5.556211433690573,
          34.70853317720789,
          33.703766424235305,
          0.557291148226017,
          25.924788504005832,
          10.011897239782938,
          0.5542367515312687,
          26.037134120639962,
          7.705642447431718,
          0.5671221542741391,
          0.04654553508836129,
          8.073943888582871,
          2.807765869912735,
          6.401131739030694,
          6.9164394927356945,
          40.44536568953385,
          0.005058641880224271,
          1.9373948715081852,
          0.13142539205936524,
          0.13035208316392344,
          2.074001596282979,
          0.08799619565860789,
          10.981406909308872,
          71.7177853181269,
          1.3981470172484547,
          0.9545575962353502,
          0.20021382476051658,
          0.02199427394057677,
          0.12656488537822613,
          9.721341898577435,
          1.5023001091781325,
          5.576638367017888,
          6.6242307922274595,
          1.5962828304214907,
          0.3984624779458092,
          3.9592710974784646,
          3.9977291178686825,
          0.12976755682577373,
          0.18730898485352082,
          3.4370750626064095,
          2.413751636308674,
          0.06330738684656279,
          0.040690698391344246,
          0.05515807353003739,
          0.710034855971309,
          2.410535344463982,
          0.9580173329068804,
          0.41501142480161085,
          0.4005034704950259,
          1.3931306741016163,
          9.072394432009103,
          54.41320793883334,
          0.24445711711210052,
          0.4208403619797093,
          31.336240016148327,
          5.888787538742367,
          0.0013919849203768114,
          0.62215801000216,
          0.025348836695053008,
          0.004678693482898905,
          0.006262651408543067,
          0.023451576004632102,
          7.392716705490637,
          0.019376720461760595,
          0.059426569315293686,
          0.016751258143000516,
          0.2093862768042806,
          0.005183460074926065,
          0.022684074715904296,
          1.1561601742500711,
          48.21012807239886,
          53.90013909944864,
          0.5044240468876908,
          3.846822405333189,
          12.915420218485307,
          1.953813536801136,
          1.7963445064966395,
          6.071186863002315,
          0.20384795991559287,
          4.611312024036267,
          0.2090836908912749,
          0.005170429161958946,
          4.0637094052582015,
          1.2266354615744965,
          74.38405083102126,
          12.015376465281534,
          4.666020082008711,
          4.257225292398373,
          4.11457904154806,
          4.7492093781081115,
          23.57719541576322,
          0.09150401200163785,
          0.41231879979349984,
          0.43403919394084745,
          0.0027341369004929643,
          0.08887528398867922,
          0.09564313156615437,
          2.978453275524011,
          0.1261051953877179,
          0.43556278879410076,
          2.7237810833087095,
          5.628593975276655,
          57.25339239899564,
          22.70672762144007,
          4.002774491778165,
          1.757262067841884,
          3.9026528150020736,
          0.5533307654422426,
          6.891543281723829,
          6.655817364771552,
          1.2513423794863887,
          0.5095592485945627,
          1.815124892647766,
          1.6394510279560965,
          8.568855644538859,
          0.366838025305518,
          25.054040539076535,
          0.017421214434149457,
          5.0804201226415655,
          47.875435914454904,
          1.2939577600258463,
          2.898054225283593,
          0.07611526352683401,
          0.296782116288397,
          27.888063454478687,
          0.05208220441299119,
          7.387796727517875,
          27.63697790247166,
          1.7429541090219847,
          0.007313689248973471,
          2.901690549179481,
          18.521615685845696,
          26.751605117228994,
          1.3293160472565806,
          0.9653095121770116,
          4.031055950513715,
          37.412500256188764,
          11.328674098586433,
          0.01660372027617822,
          0.005649850926002318,
          3.4964043062250787,
          1.077871922987321,
          0.5527746591204474,
          0.2841656539387942,
          0.5102225018175349,
          0.44840949984332734,
          0.07777116264756335,
          0.21125468799535665,
          0.030969942602180372,
          23.815560714672905,
          0.03466549408575768,
          13.072062931972047,
          0.9081031445104393,
          0.011006441627252384,
          0.059902194023585625,
          0.710925990838824,
          6.44744330482146,
          7.297180689468901,
          0.703845615626849,
          4.429290663912266,
          1.13696472299824,
          0.08374048305644864,
          0.24562300372010806,
          0.02766007970945303,
          0.998406058742212,
          2.402182123632338,
          21.106845570762644,
          37.46109260289279,
          1.6402051371692528,
          0.29701331056912283,
          0.43883921761684336,
          8.238315981239777,
          0.3657302753260582,
          49.92313791836902,
          12.604513909592562,
          8.668731237194425,
          0.13010170753221384,
          6.980015770101142,
          0.25679551091078306,
          0.6506122493455897,
          2.0793452382271496,
          0.3105612061114631,
          1.3881591265457354,
          0.8299209320546047,
          0.3239441260308986,
          0.23319458957793898,
          0.00777702020853594,
          0.25234308156873275,
          0.07805602034315366,
          0.06443902972847297,
          3.6243939447239106,
          0.4046382386110391,
          18.160025367355544,
          12.486495261684922,
          0.4798318491015135,
          0.3166708870615907,
          0.9644972902703632,
          43.350503389458225,
          0.8784044021088419,
          0.6825893987957943,
          0.0048619350427466556,
          2.6184384726898546,
          0.43128611691086577,
          2.718051598376253,
          6.379851104109996,
          0.19565834617196773,
          0.5245766400078169,
          0.09564832158407749,
          0.24501478227779028,
          2.7167161160453843,
          5.763894827606056,
          14.449205732032413,
          0.03359748018746823,
          7.79349183037387,
          0.14789601884065873,
          0.0040851924356505994,
          1.5234329294183324,
          3.9242696798834085,
          8.778994610638915,
          2.763685998622565,
          0.716497978572799,
          0.3272139660895496,
          2.5904674927199394,
          3.033653069722586,
          0.4328549142790999,
          0.12223782830129007,
          0.08688628464103329,
          0.06655169156275835,
          0.855733410220202
         ],
         "y": [
          0.780324090156789,
          105.45945501946521,
          7.101285059583132,
          13.386800279672224,
          0.2609956806622146,
          0.5118161191177294,
          0.8106719796536951,
          7.226462564285233,
          0.005870274624597824,
          4.69206573889992,
          0.6137918564823058,
          1.8857480109087597,
          1.1636691183515657,
          0.33333005244792496,
          1.7391941811915057,
          2.9837406274020366,
          5.724509005774255,
          3.3460837873222395,
          6.174090440640204,
          1.9475402476710866,
          12.93672418645449,
          6.307030221101199,
          29.007823150769244,
          31.377622447586997,
          1.0575418442918116,
          26.472193233627717,
          2.926703687776964,
          0.985912421039438,
          20.041000449117288,
          2.143239177388201,
          5.656037836919983,
          0.3519497592001019,
          7.263214732267629,
          3.2168158975803953,
          9.986106478266885,
          16.369887111355553,
          12.284859104575547,
          0.03337862932917784,
          2.4695926848062575,
          0.8336947630490412,
          0.8744405207357439,
          2.130259533626406,
          0.19370455302373393,
          3.4690662289910046,
          10.102510124350767,
          1.9531102427054519,
          1.068740113285158,
          0.3043041964351471,
          0.5656553264829041,
          1.1907417077737084,
          8.647513278859176,
          2.0981331072151392,
          2.5194722929180764,
          7.4983337694397765,
          1.4885799344908437,
          0.36489931779626406,
          3.671856196963319,
          4.071441394751994,
          1.095642590651977,
          0.6204876342802151,
          0.8623954460263319,
          2.179642819300916,
          0.4238346393943809,
          0.8578871536705224,
          1.5951011087420066,
          1.7621155425647876,
          3.1701733758280173,
          1.4284310597470744,
          0.7630889992669431,
          1.3380854061273741,
          4.354611396093576,
          8.816925447532087,
          1.1417608768893481,
          1.3574437634017267,
          0.7560938399006366,
          26.06054527643899,
          11.803731458782439,
          0.37011368747438705,
          0.8515903761282554,
          0.32129276427493925,
          0.2468359578375197,
          0.38227315939970097,
          0.7231654518730273,
          11.91681954558136,
          0.32644150533019134,
          0.9182895388308222,
          0.6631399789378448,
          1.837318543525645,
          0.856255775332065,
          1.8673776422380644,
          1.7395301379653367,
          6.501162846747696,
          26.181427462735172,
          1.4702323436293712,
          4.311864579396219,
          9.713032498668404,
          3.3659745493786195,
          4.103597568578888,
          5.574869296921971,
          0.8888647541490294,
          4.05658597160364,
          0.4929002620675374,
          0.27001898310404576,
          5.91748316759976,
          3.891865949427679,
          4.736237717268558,
          8.470757691793022,
          2.105369728275315,
          4.2590125039168285,
          4.038917633802897,
          4.935793098150956,
          1.2146910707114416,
          0.45446073913182883,
          0.8290343646212889,
          1.3252338185172186,
          0.05701371232172375,
          1.4904980459568262,
          0.11756792665791353,
          2.2433664353914486,
          0.24953281601917018,
          1.6988349393083668,
          1.9239490122236382,
          5.778122065447713,
          23.821329973033716,
          13.985202788617459,
          4.238516972640405,
          1.8893258595913707,
          3.1601342326707345,
          0.8054327486922778,
          3.9342884990660414,
          9.629185858198,
          2.2093057163719205,
          0.5658882628620143,
          2.325111806230227,
          2.65680302222772,
          8.221210951019248,
          0.5633149400692921,
          6.360818032916586,
          1.1904995540066101,
          2.6706711828875394,
          18.232093848781027,
          1.8780037096240727,
          1.3529625027724452,
          0.8237422711172409,
          0.07286336201055935,
          2.606746782331097,
          0.7511420894771348,
          1.9125664021029616,
          24.44847871858039,
          1.438959044855597,
          0.26869889580697487,
          1.4989707683032556,
          2.4358261963098133,
          1.8266303655066767,
          1.930709589597899,
          1.105773509083468,
          1.4302329610897422,
          7.406186392231671,
          0.5821638628970003,
          1.925253444554516,
          0.41732876545054476,
          3.0447029138848474,
          1.1577008740658237,
          0.3969067628840281,
          1.1596151887846449,
          1.1369134864160306,
          0.5551371438243418,
          0.09839874391173364,
          0.5195611165218195,
          0.4012716310341275,
          7.270626809645178,
          0.7015073998488138,
          6.616381140487116,
          0.3034486037093098,
          0.1775060736821507,
          0.153799396830279,
          3.1273123439105706,
          4.671142188727411,
          0.22502618030767862,
          0.9964514991173866,
          0.9177055601608374,
          0.5812786333664031,
          1.3551384040738197,
          0.6916656563144642,
          0.2869281301413067,
          2.723370903190871,
          1.6772993952205146,
          13.502088698006526,
          53.02922754247191,
          1.9073648796133307,
          0.7238457226826829,
          0.5990111860582513,
          26.330620956602502,
          2.0475132320249285,
          27.40900706936573,
          18.105412163234238,
          4.827256504603275,
          0.7420125770013767,
          6.006892693453568,
          0.7496992247660794,
          1.8353199058427967,
          3.116719712116465,
          0.8584805031589509,
          1.2965975594199926,
          2.689331243169401,
          0.5006569766596363,
          0.29214790495676995,
          0.55821758377182,
          0.5410283609435201,
          0.499962759206421,
          1.0738600380407042,
          1.1140323356481587,
          0.23587284276177248,
          21.47925322520727,
          18.475045165471816,
          0.8108663822082135,
          1.215845036720279,
          0.9446881833563946,
          0.29421540242707156,
          0.49330606330831817,
          0.6166203666838356,
          0.1157400390623506,
          3.1060090069430775,
          0.9328733934708967,
          1.0227919165225072,
          8.28538166205936,
          1.4141383180007234,
          0.4830834104696266,
          0.35364622403124674,
          1.0433491254300915,
          0.8088826271866811,
          0.9924103375180127,
          21.83200998416232,
          0.09214387705920551,
          8.026238199624448,
          1.3008122548666343,
          0.013596019347341256,
          1.4975022657306727,
          3.9144348071847532,
          2.5666375391734157,
          4.5058112394644425,
          0.49313509871101907,
          1.108773247830449,
          3.2654063224138348,
          3.4413176599543855,
          0.3074752944456601,
          1.3771438335026542,
          1.0026220030638966,
          0.49079997994737684,
          1.006667475935573
         ]
        },
        {
         "line": {
          "color": "gray",
          "dash": "dot"
         },
         "mode": "lines",
         "showlegend": false,
         "type": "scatter",
         "x": [
          -1,
          200
         ],
         "y": [
          -1,
          200
         ]
        }
       ],
       "layout": {
        "autosize": false,
        "font": {
         "size": 20
        },
        "height": 600,
        "template": {
         "data": {
          "bar": [
           {
            "error_x": {
             "color": "rgb(36,36,36)"
            },
            "error_y": {
             "color": "rgb(36,36,36)"
            },
            "marker": {
             "line": {
              "color": "white",
              "width": 0.5
             },
             "pattern": {
              "fillmode": "overlay",
              "size": 10,
              "solidity": 0.2
             }
            },
            "type": "bar"
           }
          ],
          "barpolar": [
           {
            "marker": {
             "line": {
              "color": "white",
              "width": 0.5
             },
             "pattern": {
              "fillmode": "overlay",
              "size": 10,
              "solidity": 0.2
             }
            },
            "type": "barpolar"
           }
          ],
          "carpet": [
           {
            "aaxis": {
             "endlinecolor": "rgb(36,36,36)",
             "gridcolor": "white",
             "linecolor": "white",
             "minorgridcolor": "white",
             "startlinecolor": "rgb(36,36,36)"
            },
            "baxis": {
             "endlinecolor": "rgb(36,36,36)",
             "gridcolor": "white",
             "linecolor": "white",
             "minorgridcolor": "white",
             "startlinecolor": "rgb(36,36,36)"
            },
            "type": "carpet"
           }
          ],
          "choropleth": [
           {
            "colorbar": {
             "outlinewidth": 1,
             "tickcolor": "rgb(36,36,36)",
             "ticks": "outside"
            },
            "type": "choropleth"
           }
          ],
          "contour": [
           {
            "colorbar": {
             "outlinewidth": 1,
             "tickcolor": "rgb(36,36,36)",
             "ticks": "outside"
            },
            "colorscale": [
             [
              0,
              "#440154"
             ],
             [
              0.1111111111111111,
              "#482878"
             ],
             [
              0.2222222222222222,
              "#3e4989"
             ],
             [
              0.3333333333333333,
              "#31688e"
             ],
             [
              0.4444444444444444,
              "#26828e"
             ],
             [
              0.5555555555555556,
              "#1f9e89"
             ],
             [
              0.6666666666666666,
              "#35b779"
             ],
             [
              0.7777777777777778,
              "#6ece58"
             ],
             [
              0.8888888888888888,
              "#b5de2b"
             ],
             [
              1,
              "#fde725"
             ]
            ],
            "type": "contour"
           }
          ],
          "contourcarpet": [
           {
            "colorbar": {
             "outlinewidth": 1,
             "tickcolor": "rgb(36,36,36)",
             "ticks": "outside"
            },
            "type": "contourcarpet"
           }
          ],
          "heatmap": [
           {
            "colorbar": {
             "outlinewidth": 1,
             "tickcolor": "rgb(36,36,36)",
             "ticks": "outside"
            },
            "colorscale": [
             [
              0,
              "#440154"
             ],
             [
              0.1111111111111111,
              "#482878"
             ],
             [
              0.2222222222222222,
              "#3e4989"
             ],
             [
              0.3333333333333333,
              "#31688e"
             ],
             [
              0.4444444444444444,
              "#26828e"
             ],
             [
              0.5555555555555556,
              "#1f9e89"
             ],
             [
              0.6666666666666666,
              "#35b779"
             ],
             [
              0.7777777777777778,
              "#6ece58"
             ],
             [
              0.8888888888888888,
              "#b5de2b"
             ],
             [
              1,
              "#fde725"
             ]
            ],
            "type": "heatmap"
           }
          ],
          "heatmapgl": [
           {
            "colorbar": {
             "outlinewidth": 1,
             "tickcolor": "rgb(36,36,36)",
             "ticks": "outside"
            },
            "colorscale": [
             [
              0,
              "#440154"
             ],
             [
              0.1111111111111111,
              "#482878"
             ],
             [
              0.2222222222222222,
              "#3e4989"
             ],
             [
              0.3333333333333333,
              "#31688e"
             ],
             [
              0.4444444444444444,
              "#26828e"
             ],
             [
              0.5555555555555556,
              "#1f9e89"
             ],
             [
              0.6666666666666666,
              "#35b779"
             ],
             [
              0.7777777777777778,
              "#6ece58"
             ],
             [
              0.8888888888888888,
              "#b5de2b"
             ],
             [
              1,
              "#fde725"
             ]
            ],
            "type": "heatmapgl"
           }
          ],
          "histogram": [
           {
            "marker": {
             "line": {
              "color": "white",
              "width": 0.6
             }
            },
            "type": "histogram"
           }
          ],
          "histogram2d": [
           {
            "colorbar": {
             "outlinewidth": 1,
             "tickcolor": "rgb(36,36,36)",
             "ticks": "outside"
            },
            "colorscale": [
             [
              0,
              "#440154"
             ],
             [
              0.1111111111111111,
              "#482878"
             ],
             [
              0.2222222222222222,
              "#3e4989"
             ],
             [
              0.3333333333333333,
              "#31688e"
             ],
             [
              0.4444444444444444,
              "#26828e"
             ],
             [
              0.5555555555555556,
              "#1f9e89"
             ],
             [
              0.6666666666666666,
              "#35b779"
             ],
             [
              0.7777777777777778,
              "#6ece58"
             ],
             [
              0.8888888888888888,
              "#b5de2b"
             ],
             [
              1,
              "#fde725"
             ]
            ],
            "type": "histogram2d"
           }
          ],
          "histogram2dcontour": [
           {
            "colorbar": {
             "outlinewidth": 1,
             "tickcolor": "rgb(36,36,36)",
             "ticks": "outside"
            },
            "colorscale": [
             [
              0,
              "#440154"
             ],
             [
              0.1111111111111111,
              "#482878"
             ],
             [
              0.2222222222222222,
              "#3e4989"
             ],
             [
              0.3333333333333333,
              "#31688e"
             ],
             [
              0.4444444444444444,
              "#26828e"
             ],
             [
              0.5555555555555556,
              "#1f9e89"
             ],
             [
              0.6666666666666666,
              "#35b779"
             ],
             [
              0.7777777777777778,
              "#6ece58"
             ],
             [
              0.8888888888888888,
              "#b5de2b"
             ],
             [
              1,
              "#fde725"
             ]
            ],
            "type": "histogram2dcontour"
           }
          ],
          "mesh3d": [
           {
            "colorbar": {
             "outlinewidth": 1,
             "tickcolor": "rgb(36,36,36)",
             "ticks": "outside"
            },
            "type": "mesh3d"
           }
          ],
          "parcoords": [
           {
            "line": {
             "colorbar": {
              "outlinewidth": 1,
              "tickcolor": "rgb(36,36,36)",
              "ticks": "outside"
             }
            },
            "type": "parcoords"
           }
          ],
          "pie": [
           {
            "automargin": true,
            "type": "pie"
           }
          ],
          "scatter": [
           {
            "fillpattern": {
             "fillmode": "overlay",
             "size": 10,
             "solidity": 0.2
            },
            "type": "scatter"
           }
          ],
          "scatter3d": [
           {
            "line": {
             "colorbar": {
              "outlinewidth": 1,
              "tickcolor": "rgb(36,36,36)",
              "ticks": "outside"
             }
            },
            "marker": {
             "colorbar": {
              "outlinewidth": 1,
              "tickcolor": "rgb(36,36,36)",
              "ticks": "outside"
             }
            },
            "type": "scatter3d"
           }
          ],
          "scattercarpet": [
           {
            "marker": {
             "colorbar": {
              "outlinewidth": 1,
              "tickcolor": "rgb(36,36,36)",
              "ticks": "outside"
             }
            },
            "type": "scattercarpet"
           }
          ],
          "scattergeo": [
           {
            "marker": {
             "colorbar": {
              "outlinewidth": 1,
              "tickcolor": "rgb(36,36,36)",
              "ticks": "outside"
             }
            },
            "type": "scattergeo"
           }
          ],
          "scattergl": [
           {
            "marker": {
             "colorbar": {
              "outlinewidth": 1,
              "tickcolor": "rgb(36,36,36)",
              "ticks": "outside"
             }
            },
            "type": "scattergl"
           }
          ],
          "scattermapbox": [
           {
            "marker": {
             "colorbar": {
              "outlinewidth": 1,
              "tickcolor": "rgb(36,36,36)",
              "ticks": "outside"
             }
            },
            "type": "scattermapbox"
           }
          ],
          "scatterpolar": [
           {
            "marker": {
             "colorbar": {
              "outlinewidth": 1,
              "tickcolor": "rgb(36,36,36)",
              "ticks": "outside"
             }
            },
            "type": "scatterpolar"
           }
          ],
          "scatterpolargl": [
           {
            "marker": {
             "colorbar": {
              "outlinewidth": 1,
              "tickcolor": "rgb(36,36,36)",
              "ticks": "outside"
             }
            },
            "type": "scatterpolargl"
           }
          ],
          "scatterternary": [
           {
            "marker": {
             "colorbar": {
              "outlinewidth": 1,
              "tickcolor": "rgb(36,36,36)",
              "ticks": "outside"
             }
            },
            "type": "scatterternary"
           }
          ],
          "surface": [
           {
            "colorbar": {
             "outlinewidth": 1,
             "tickcolor": "rgb(36,36,36)",
             "ticks": "outside"
            },
            "colorscale": [
             [
              0,
              "#440154"
             ],
             [
              0.1111111111111111,
              "#482878"
             ],
             [
              0.2222222222222222,
              "#3e4989"
             ],
             [
              0.3333333333333333,
              "#31688e"
             ],
             [
              0.4444444444444444,
              "#26828e"
             ],
             [
              0.5555555555555556,
              "#1f9e89"
             ],
             [
              0.6666666666666666,
              "#35b779"
             ],
             [
              0.7777777777777778,
              "#6ece58"
             ],
             [
              0.8888888888888888,
              "#b5de2b"
             ],
             [
              1,
              "#fde725"
             ]
            ],
            "type": "surface"
           }
          ],
          "table": [
           {
            "cells": {
             "fill": {
              "color": "rgb(237,237,237)"
             },
             "line": {
              "color": "white"
             }
            },
            "header": {
             "fill": {
              "color": "rgb(217,217,217)"
             },
             "line": {
              "color": "white"
             }
            },
            "type": "table"
           }
          ]
         },
         "layout": {
          "annotationdefaults": {
           "arrowhead": 0,
           "arrowwidth": 1
          },
          "autotypenumbers": "strict",
          "coloraxis": {
           "colorbar": {
            "outlinewidth": 1,
            "tickcolor": "rgb(36,36,36)",
            "ticks": "outside"
           }
          },
          "colorscale": {
           "diverging": [
            [
             0,
             "rgb(103,0,31)"
            ],
            [
             0.1,
             "rgb(178,24,43)"
            ],
            [
             0.2,
             "rgb(214,96,77)"
            ],
            [
             0.3,
             "rgb(244,165,130)"
            ],
            [
             0.4,
             "rgb(253,219,199)"
            ],
            [
             0.5,
             "rgb(247,247,247)"
            ],
            [
             0.6,
             "rgb(209,229,240)"
            ],
            [
             0.7,
             "rgb(146,197,222)"
            ],
            [
             0.8,
             "rgb(67,147,195)"
            ],
            [
             0.9,
             "rgb(33,102,172)"
            ],
            [
             1,
             "rgb(5,48,97)"
            ]
           ],
           "sequential": [
            [
             0,
             "#440154"
            ],
            [
             0.1111111111111111,
             "#482878"
            ],
            [
             0.2222222222222222,
             "#3e4989"
            ],
            [
             0.3333333333333333,
             "#31688e"
            ],
            [
             0.4444444444444444,
             "#26828e"
            ],
            [
             0.5555555555555556,
             "#1f9e89"
            ],
            [
             0.6666666666666666,
             "#35b779"
            ],
            [
             0.7777777777777778,
             "#6ece58"
            ],
            [
             0.8888888888888888,
             "#b5de2b"
            ],
            [
             1,
             "#fde725"
            ]
           ],
           "sequentialminus": [
            [
             0,
             "#440154"
            ],
            [
             0.1111111111111111,
             "#482878"
            ],
            [
             0.2222222222222222,
             "#3e4989"
            ],
            [
             0.3333333333333333,
             "#31688e"
            ],
            [
             0.4444444444444444,
             "#26828e"
            ],
            [
             0.5555555555555556,
             "#1f9e89"
            ],
            [
             0.6666666666666666,
             "#35b779"
            ],
            [
             0.7777777777777778,
             "#6ece58"
            ],
            [
             0.8888888888888888,
             "#b5de2b"
            ],
            [
             1,
             "#fde725"
            ]
           ]
          },
          "colorway": [
           "#1F77B4",
           "#FF7F0E",
           "#2CA02C",
           "#D62728",
           "#9467BD",
           "#8C564B",
           "#E377C2",
           "#7F7F7F",
           "#BCBD22",
           "#17BECF"
          ],
          "font": {
           "color": "rgb(36,36,36)"
          },
          "geo": {
           "bgcolor": "white",
           "lakecolor": "white",
           "landcolor": "white",
           "showlakes": true,
           "showland": true,
           "subunitcolor": "white"
          },
          "hoverlabel": {
           "align": "left"
          },
          "hovermode": "closest",
          "mapbox": {
           "style": "light"
          },
          "paper_bgcolor": "white",
          "plot_bgcolor": "white",
          "polar": {
           "angularaxis": {
            "gridcolor": "rgb(232,232,232)",
            "linecolor": "rgb(36,36,36)",
            "showgrid": false,
            "showline": true,
            "ticks": "outside"
           },
           "bgcolor": "white",
           "radialaxis": {
            "gridcolor": "rgb(232,232,232)",
            "linecolor": "rgb(36,36,36)",
            "showgrid": false,
            "showline": true,
            "ticks": "outside"
           }
          },
          "scene": {
           "xaxis": {
            "backgroundcolor": "white",
            "gridcolor": "rgb(232,232,232)",
            "gridwidth": 2,
            "linecolor": "rgb(36,36,36)",
            "showbackground": true,
            "showgrid": false,
            "showline": true,
            "ticks": "outside",
            "zeroline": false,
            "zerolinecolor": "rgb(36,36,36)"
           },
           "yaxis": {
            "backgroundcolor": "white",
            "gridcolor": "rgb(232,232,232)",
            "gridwidth": 2,
            "linecolor": "rgb(36,36,36)",
            "showbackground": true,
            "showgrid": false,
            "showline": true,
            "ticks": "outside",
            "zeroline": false,
            "zerolinecolor": "rgb(36,36,36)"
           },
           "zaxis": {
            "backgroundcolor": "white",
            "gridcolor": "rgb(232,232,232)",
            "gridwidth": 2,
            "linecolor": "rgb(36,36,36)",
            "showbackground": true,
            "showgrid": false,
            "showline": true,
            "ticks": "outside",
            "zeroline": false,
            "zerolinecolor": "rgb(36,36,36)"
           }
          },
          "shapedefaults": {
           "fillcolor": "black",
           "line": {
            "width": 0
           },
           "opacity": 0.3
          },
          "ternary": {
           "aaxis": {
            "gridcolor": "rgb(232,232,232)",
            "linecolor": "rgb(36,36,36)",
            "showgrid": false,
            "showline": true,
            "ticks": "outside"
           },
           "baxis": {
            "gridcolor": "rgb(232,232,232)",
            "linecolor": "rgb(36,36,36)",
            "showgrid": false,
            "showline": true,
            "ticks": "outside"
           },
           "bgcolor": "white",
           "caxis": {
            "gridcolor": "rgb(232,232,232)",
            "linecolor": "rgb(36,36,36)",
            "showgrid": false,
            "showline": true,
            "ticks": "outside"
           }
          },
          "title": {
           "x": 0.05
          },
          "xaxis": {
           "automargin": true,
           "gridcolor": "rgb(232,232,232)",
           "linecolor": "rgb(36,36,36)",
           "showgrid": false,
           "showline": true,
           "ticks": "outside",
           "title": {
            "standoff": 15
           },
           "zeroline": false,
           "zerolinecolor": "rgb(36,36,36)"
          },
          "yaxis": {
           "automargin": true,
           "gridcolor": "rgb(232,232,232)",
           "linecolor": "rgb(36,36,36)",
           "showgrid": false,
           "showline": true,
           "ticks": "outside",
           "title": {
            "standoff": 15
           },
           "zeroline": false,
           "zerolinecolor": "rgb(36,36,36)"
          }
         }
        },
        "width": 600,
        "xaxis": {
         "range": [
          -1,
          100
         ],
         "showgrid": false,
         "title": {
          "text": "<i>d</i><sub>RMS</sub> (pm/V)"
         }
        },
        "yaxis": {
         "range": [
          -1,
          100
         ],
         "showgrid": false,
         "title": {
          "text": "<i>d&#770;</i><sub>RMS</sub> (pm/V)"
         }
        }
       }
      }
     },
     "metadata": {},
     "output_type": "display_data"
    }
   ],
   "source": [
    "# Data\n",
    "\n",
    "mae = mean_absolute_error(df_pred_matten[\"dRMS_true\"], df_pred_matten[\"dRMS_matten\"])\n",
    "mape = mean_absolute_percentage_error(\n",
    "    df_pred_matten[\"dRMS_true\"], df_pred_matten[\"dRMS_matten\"]\n",
    ")\n",
    "rmse = root_mean_squared_error(\n",
    "    df_pred_matten[\"dRMS_true\"], df_pred_matten[\"dRMS_matten\"]\n",
    ")\n",
    "spearmanrho = spearmanr(df_pred_matten[\"dRMS_true\"], df_pred_matten[\"dRMS_matten\"])\n",
    "print(f\"MAE = {mae}\")\n",
    "print(f\"MAPE = {mape}\")\n",
    "print(f\"RMSE = {rmse}\")\n",
    "print(f\"Rho_sp = {spearmanrho.statistic}\")\n",
    "\n",
    "# Scatter plot for previous outputs.\n",
    "scatter_dRMS = go.Scatter(\n",
    "    x=df_pred_matten[\"dRMS_true\"],\n",
    "    y=df_pred_matten[\"dRMS_matten\"],\n",
    "    mode=\"markers\",\n",
    "    name=\"\",\n",
    "    showlegend=False,\n",
    "    text=[mpid for mpid in df_pred_matten.index.values],\n",
    ")\n",
    "\n",
    "ideal = go.Scatter(\n",
    "    x=[-1, 200],\n",
    "    y=[-1, 200],\n",
    "    mode=\"lines\",\n",
    "    line=dict(color=\"gray\", dash=\"dot\"),\n",
    "    showlegend=False,\n",
    ")\n",
    "\n",
    "# Layout\n",
    "layout = go.Layout(\n",
    "    # title=dict(text='Scatter Plot'),\n",
    "    xaxis=dict(title=\"<i>d</i><sub>RMS</sub> (pm/V)\", range=[-1, 100]),\n",
    "    yaxis=dict(title=\"<i>d&#770;</i><sub>RMS</sub> (pm/V)\", range=[-1, 100]),\n",
    "    # legend=dict(font=dict(size=12)),\n",
    ")\n",
    "\n",
    "# Create figure\n",
    "fig = go.Figure(data=[scatter_dRMS, ideal], layout=layout)\n",
    "\n",
    "fig.update_layout(\n",
    "    autosize=False,\n",
    "    font_size=20,\n",
    "    width=600,\n",
    "    height=600,\n",
    "    # plot_bgcolor=\"white\",\n",
    "    template=\"simple_white\",\n",
    ")\n",
    "fig.update_layout(\n",
    "    xaxis=dict(\n",
    "        # tickmode = 'array',\n",
    "        # tickvals = [1, 2,3,4,5,6,7,8],\n",
    "        # ticktext = ['One', 'Three', 'Five', 'Seven', 'Nine', 'Eleven']\n",
    "        showgrid=False,\n",
    "    ),\n",
    "    yaxis=dict(\n",
    "        # tickmode = 'array',\n",
    "        # tickvals = [1, 2,3,4,5,6,7,8],\n",
    "        # ticktext = ['One', 'Three', 'Five', 'Seven', 'Nine', 'Eleven']\n",
    "        showgrid=False,\n",
    "    ),\n",
    ")\n",
    "\n",
    "# Show figure\n",
    "fig.show()"
   ]
  }
 ],
 "metadata": {
  "kernelspec": {
   "display_name": "shgmlenv",
   "language": "python",
   "name": "python3"
  },
  "language_info": {
   "codemirror_mode": {
    "name": "ipython",
    "version": 3
   },
   "file_extension": ".py",
   "mimetype": "text/x-python",
   "name": "python",
   "nbconvert_exporter": "python",
   "pygments_lexer": "ipython3",
   "version": "3.11.0"
  }
 },
 "nbformat": 4,
 "nbformat_minor": 2
}
