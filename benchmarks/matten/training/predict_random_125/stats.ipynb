{
 "cells": [
  {
   "cell_type": "code",
   "execution_count": 1,
   "metadata": {},
   "outputs": [],
   "source": [
    "from pathlib import Path\n",
    "\n",
    "from scipy.stats import spearmanr\n",
    "from sklearn.metrics import (\n",
    "    mean_absolute_error,\n",
    "    mean_absolute_percentage_error,\n",
    "    root_mean_squared_error,\n",
    ")"
   ]
  },
  {
   "cell_type": "code",
   "execution_count": 2,
   "metadata": {},
   "outputs": [],
   "source": [
    "import os\n",
    "\n",
    "import numpy as np\n",
    "import pandas as pd\n",
    "import plotly.graph_objs as go"
   ]
  },
  {
   "cell_type": "code",
   "execution_count": 3,
   "metadata": {},
   "outputs": [],
   "source": [
    "import shg_ml_benchmarks.utils_shg as shg\n",
    "from shg_ml_benchmarks.utils import load_full"
   ]
  },
  {
   "cell_type": "code",
   "execution_count": 4,
   "metadata": {},
   "outputs": [
    {
     "name": "stdout",
     "output_type": "stream",
     "text": [
      "(125, 7)\n"
     ]
    },
    {
     "data": {
      "text/html": [
       "<div>\n",
       "<style scoped>\n",
       "    .dataframe tbody tr th:only-of-type {\n",
       "        vertical-align: middle;\n",
       "    }\n",
       "\n",
       "    .dataframe tbody tr th {\n",
       "        vertical-align: top;\n",
       "    }\n",
       "\n",
       "    .dataframe thead th {\n",
       "        text-align: right;\n",
       "    }\n",
       "</style>\n",
       "<table border=\"1\" class=\"dataframe\">\n",
       "  <thead>\n",
       "    <tr style=\"text-align: right;\">\n",
       "      <th></th>\n",
       "      <th>dijk_matten</th>\n",
       "      <th>dKP_matten</th>\n",
       "      <th>dRMS_matten</th>\n",
       "      <th>dKP_matten_masked</th>\n",
       "      <th>dRMS_matten_masked</th>\n",
       "      <th>dKP_true</th>\n",
       "      <th>dRMS_true</th>\n",
       "    </tr>\n",
       "  </thead>\n",
       "  <tbody>\n",
       "    <tr>\n",
       "      <th>agm001234439</th>\n",
       "      <td>[[[-8.6924057007, -0.0041565285, 0.0179934725]...</td>\n",
       "      <td>3.540656</td>\n",
       "      <td>1.721976</td>\n",
       "      <td>3.540656</td>\n",
       "      <td>1.721976</td>\n",
       "      <td>0.827288</td>\n",
       "      <td>0.453301</td>\n",
       "    </tr>\n",
       "    <tr>\n",
       "      <th>agm001375463</th>\n",
       "      <td>[[[1.36401e-05, 2.27095e-05, 2.370700000000000...</td>\n",
       "      <td>62.218008</td>\n",
       "      <td>34.703547</td>\n",
       "      <td>62.218008</td>\n",
       "      <td>34.703547</td>\n",
       "      <td>29.619974</td>\n",
       "      <td>16.521232</td>\n",
       "    </tr>\n",
       "    <tr>\n",
       "      <th>agm002017294</th>\n",
       "      <td>[[[30.9816150665, 3.688e-07, -0.6063389778], [...</td>\n",
       "      <td>32.016900</td>\n",
       "      <td>17.485157</td>\n",
       "      <td>32.016900</td>\n",
       "      <td>17.485157</td>\n",
       "      <td>16.934658</td>\n",
       "      <td>9.124151</td>\n",
       "    </tr>\n",
       "    <tr>\n",
       "      <th>agm002041315</th>\n",
       "      <td>[[[10.2990655899, 3.5331497192, -8.8525695801]...</td>\n",
       "      <td>12.683992</td>\n",
       "      <td>6.423282</td>\n",
       "      <td>12.683992</td>\n",
       "      <td>6.423282</td>\n",
       "      <td>58.140328</td>\n",
       "      <td>28.108656</td>\n",
       "    </tr>\n",
       "    <tr>\n",
       "      <th>agm002041336</th>\n",
       "      <td>[[[1.2979961634000001, -5.311e-07, 7.784829139...</td>\n",
       "      <td>7.987534</td>\n",
       "      <td>4.267645</td>\n",
       "      <td>7.987534</td>\n",
       "      <td>4.267645</td>\n",
       "      <td>42.717236</td>\n",
       "      <td>21.462845</td>\n",
       "    </tr>\n",
       "  </tbody>\n",
       "</table>\n",
       "</div>"
      ],
      "text/plain": [
       "                                                    dijk_matten  dKP_matten  \\\n",
       "agm001234439  [[[-8.6924057007, -0.0041565285, 0.0179934725]...    3.540656   \n",
       "agm001375463  [[[1.36401e-05, 2.27095e-05, 2.370700000000000...   62.218008   \n",
       "agm002017294  [[[30.9816150665, 3.688e-07, -0.6063389778], [...   32.016900   \n",
       "agm002041315  [[[10.2990655899, 3.5331497192, -8.8525695801]...   12.683992   \n",
       "agm002041336  [[[1.2979961634000001, -5.311e-07, 7.784829139...    7.987534   \n",
       "\n",
       "              dRMS_matten  dKP_matten_masked  dRMS_matten_masked   dKP_true  \\\n",
       "agm001234439     1.721976           3.540656            1.721976   0.827288   \n",
       "agm001375463    34.703547          62.218008           34.703547  29.619974   \n",
       "agm002017294    17.485157          32.016900           17.485157  16.934658   \n",
       "agm002041315     6.423282          12.683992            6.423282  58.140328   \n",
       "agm002041336     4.267645           7.987534            4.267645  42.717236   \n",
       "\n",
       "              dRMS_true  \n",
       "agm001234439   0.453301  \n",
       "agm001375463  16.521232  \n",
       "agm002017294   9.124151  \n",
       "agm002041315  28.108656  \n",
       "agm002041336  21.462845  "
      ]
     },
     "metadata": {},
     "output_type": "display_data"
    }
   ],
   "source": [
    "df_orig = load_full()\n",
    "df_pred_matten = pd.read_json(\"df_pred_matten_holdout.json.gz\")\n",
    "\n",
    "# Computing dKP from the Matten tensors predictions\n",
    "list_dKP_matten = []\n",
    "list_dRMS_matten = []\n",
    "list_dKP_matten_masked = []\n",
    "list_dRMS_matten_masked = []\n",
    "for ir, r in df_pred_matten.iterrows():\n",
    "    dijk_matten = shg.from_voigt(r[\"dijk_matten\"])\n",
    "    list_dKP_matten.append(shg.get_dKP(dijk_matten))\n",
    "    list_dRMS_matten.append(shg.get_dRMS(dijk_matten))\n",
    "\n",
    "    dijk_orig = shg.from_voigt(df_orig.loc[ir][\"dijk_full_neum\"])\n",
    "    dijk_matten = np.where(dijk_orig != 0, dijk_matten, 0)\n",
    "    list_dKP_matten_masked.append(shg.get_dKP(dijk_matten))\n",
    "    list_dRMS_matten_masked.append(shg.get_dRMS(dijk_matten))\n",
    "\n",
    "df_pred_matten[\"dKP_matten\"] = list_dKP_matten\n",
    "df_pred_matten[\"dRMS_matten\"] = list_dRMS_matten\n",
    "df_pred_matten[\"dKP_matten_masked\"] = list_dKP_matten_masked\n",
    "df_pred_matten[\"dRMS_matten_masked\"] = list_dRMS_matten_masked\n",
    "\n",
    "# Adding the true dKP to the df\n",
    "df_pred_matten[\"dKP_true\"] = df_orig.filter(df_pred_matten.index, axis=0)[\n",
    "    \"dKP_full_neum\"\n",
    "].tolist()\n",
    "df_pred_matten[\"dRMS_true\"] = [\n",
    "    shg.get_dRMS(d)\n",
    "    for d in df_orig.filter(df_pred_matten.index, axis=0)[\"dijk_full_neum\"].tolist()\n",
    "]\n",
    "\n",
    "print(df_pred_matten.shape)\n",
    "display(df_pred_matten.head())"
   ]
  },
  {
   "cell_type": "code",
   "execution_count": 5,
   "metadata": {},
   "outputs": [
    {
     "name": "stdout",
     "output_type": "stream",
     "text": [
      "(1001, 13)\n"
     ]
    },
    {
     "data": {
      "text/html": [
       "<div>\n",
       "<style scoped>\n",
       "    .dataframe tbody tr th:only-of-type {\n",
       "        vertical-align: middle;\n",
       "    }\n",
       "\n",
       "    .dataframe tbody tr th {\n",
       "        vertical-align: top;\n",
       "    }\n",
       "\n",
       "    .dataframe thead th {\n",
       "        text-align: right;\n",
       "    }\n",
       "</style>\n",
       "<table border=\"1\" class=\"dataframe\">\n",
       "  <thead>\n",
       "    <tr style=\"text-align: right;\">\n",
       "      <th></th>\n",
       "      <th>cumulative time</th>\n",
       "      <th>epoch</th>\n",
       "      <th>epoch time</th>\n",
       "      <th>metric_test/MeanAbsoluteError/shg_tensor_full</th>\n",
       "      <th>metric_val/MeanAbsoluteError/shg_tensor_full</th>\n",
       "      <th>step</th>\n",
       "      <th>test/loss/shg_tensor_full</th>\n",
       "      <th>test/total_loss</th>\n",
       "      <th>train/loss/shg_tensor_full</th>\n",
       "      <th>train/total_loss</th>\n",
       "      <th>val/loss/shg_tensor_full</th>\n",
       "      <th>val/score</th>\n",
       "      <th>val/total_loss</th>\n",
       "    </tr>\n",
       "  </thead>\n",
       "  <tbody>\n",
       "    <tr>\n",
       "      <th>0</th>\n",
       "      <td>35.118488</td>\n",
       "      <td>0</td>\n",
       "      <td>10.174336</td>\n",
       "      <td>NaN</td>\n",
       "      <td>6.472612</td>\n",
       "      <td>78</td>\n",
       "      <td>NaN</td>\n",
       "      <td>NaN</td>\n",
       "      <td>NaN</td>\n",
       "      <td>NaN</td>\n",
       "      <td>900.419128</td>\n",
       "      <td>6.472612</td>\n",
       "      <td>900.419128</td>\n",
       "    </tr>\n",
       "    <tr>\n",
       "      <th>1</th>\n",
       "      <td>NaN</td>\n",
       "      <td>0</td>\n",
       "      <td>NaN</td>\n",
       "      <td>NaN</td>\n",
       "      <td>NaN</td>\n",
       "      <td>78</td>\n",
       "      <td>NaN</td>\n",
       "      <td>NaN</td>\n",
       "      <td>686.117615</td>\n",
       "      <td>686.117615</td>\n",
       "      <td>NaN</td>\n",
       "      <td>NaN</td>\n",
       "      <td>NaN</td>\n",
       "    </tr>\n",
       "    <tr>\n",
       "      <th>2</th>\n",
       "      <td>45.143501</td>\n",
       "      <td>1</td>\n",
       "      <td>10.025016</td>\n",
       "      <td>NaN</td>\n",
       "      <td>6.761095</td>\n",
       "      <td>157</td>\n",
       "      <td>NaN</td>\n",
       "      <td>NaN</td>\n",
       "      <td>NaN</td>\n",
       "      <td>NaN</td>\n",
       "      <td>935.142151</td>\n",
       "      <td>6.761095</td>\n",
       "      <td>935.142151</td>\n",
       "    </tr>\n",
       "    <tr>\n",
       "      <th>3</th>\n",
       "      <td>NaN</td>\n",
       "      <td>1</td>\n",
       "      <td>NaN</td>\n",
       "      <td>NaN</td>\n",
       "      <td>NaN</td>\n",
       "      <td>157</td>\n",
       "      <td>NaN</td>\n",
       "      <td>NaN</td>\n",
       "      <td>579.893921</td>\n",
       "      <td>579.893921</td>\n",
       "      <td>NaN</td>\n",
       "      <td>NaN</td>\n",
       "      <td>NaN</td>\n",
       "    </tr>\n",
       "    <tr>\n",
       "      <th>4</th>\n",
       "      <td>55.190868</td>\n",
       "      <td>2</td>\n",
       "      <td>10.047364</td>\n",
       "      <td>NaN</td>\n",
       "      <td>6.942076</td>\n",
       "      <td>236</td>\n",
       "      <td>NaN</td>\n",
       "      <td>NaN</td>\n",
       "      <td>NaN</td>\n",
       "      <td>NaN</td>\n",
       "      <td>1019.060181</td>\n",
       "      <td>6.942076</td>\n",
       "      <td>1019.060181</td>\n",
       "    </tr>\n",
       "  </tbody>\n",
       "</table>\n",
       "</div>"
      ],
      "text/plain": [
       "   cumulative time  epoch  epoch time  \\\n",
       "0        35.118488      0   10.174336   \n",
       "1              NaN      0         NaN   \n",
       "2        45.143501      1   10.025016   \n",
       "3              NaN      1         NaN   \n",
       "4        55.190868      2   10.047364   \n",
       "\n",
       "   metric_test/MeanAbsoluteError/shg_tensor_full  \\\n",
       "0                                            NaN   \n",
       "1                                            NaN   \n",
       "2                                            NaN   \n",
       "3                                            NaN   \n",
       "4                                            NaN   \n",
       "\n",
       "   metric_val/MeanAbsoluteError/shg_tensor_full  step  \\\n",
       "0                                      6.472612    78   \n",
       "1                                           NaN    78   \n",
       "2                                      6.761095   157   \n",
       "3                                           NaN   157   \n",
       "4                                      6.942076   236   \n",
       "\n",
       "   test/loss/shg_tensor_full  test/total_loss  train/loss/shg_tensor_full  \\\n",
       "0                        NaN              NaN                         NaN   \n",
       "1                        NaN              NaN                  686.117615   \n",
       "2                        NaN              NaN                         NaN   \n",
       "3                        NaN              NaN                  579.893921   \n",
       "4                        NaN              NaN                         NaN   \n",
       "\n",
       "   train/total_loss  val/loss/shg_tensor_full  val/score  val/total_loss  \n",
       "0               NaN                900.419128   6.472612      900.419128  \n",
       "1        686.117615                       NaN        NaN             NaN  \n",
       "2               NaN                935.142151   6.761095      935.142151  \n",
       "3        579.893921                       NaN        NaN             NaN  \n",
       "4               NaN               1019.060181   6.942076     1019.060181  "
      ]
     },
     "metadata": {},
     "output_type": "display_data"
    }
   ],
   "source": [
    "type_set = os.path.basename(Path(os.getcwd())).split(\"predict_\")[1]\n",
    "\n",
    "df_lr = pd.read_csv(f\"../scripts_{type_set}/lightning_logs/version_0/metrics.csv\")\n",
    "print(df_lr.shape)\n",
    "display(df_lr.head())"
   ]
  },
  {
   "cell_type": "code",
   "execution_count": 6,
   "metadata": {},
   "outputs": [
    {
     "data": {
      "text/html": [
       "<div>\n",
       "<style scoped>\n",
       "    .dataframe tbody tr th:only-of-type {\n",
       "        vertical-align: middle;\n",
       "    }\n",
       "\n",
       "    .dataframe tbody tr th {\n",
       "        vertical-align: top;\n",
       "    }\n",
       "\n",
       "    .dataframe thead th {\n",
       "        text-align: right;\n",
       "    }\n",
       "</style>\n",
       "<table border=\"1\" class=\"dataframe\">\n",
       "  <thead>\n",
       "    <tr style=\"text-align: right;\">\n",
       "      <th></th>\n",
       "      <th>cumulative time</th>\n",
       "      <th>epoch</th>\n",
       "      <th>epoch time</th>\n",
       "      <th>metric_test/MeanAbsoluteError/shg_tensor_full</th>\n",
       "      <th>metric_val/MeanAbsoluteError/shg_tensor_full</th>\n",
       "      <th>step</th>\n",
       "      <th>test/loss/shg_tensor_full</th>\n",
       "      <th>test/total_loss</th>\n",
       "      <th>train/loss/shg_tensor_full</th>\n",
       "      <th>train/total_loss</th>\n",
       "      <th>val/loss/shg_tensor_full</th>\n",
       "      <th>val/score</th>\n",
       "      <th>val/total_loss</th>\n",
       "    </tr>\n",
       "    <tr>\n",
       "      <th>epoch</th>\n",
       "      <th></th>\n",
       "      <th></th>\n",
       "      <th></th>\n",
       "      <th></th>\n",
       "      <th></th>\n",
       "      <th></th>\n",
       "      <th></th>\n",
       "      <th></th>\n",
       "      <th></th>\n",
       "      <th></th>\n",
       "      <th></th>\n",
       "      <th></th>\n",
       "      <th></th>\n",
       "    </tr>\n",
       "  </thead>\n",
       "  <tbody>\n",
       "    <tr>\n",
       "      <th>0</th>\n",
       "      <td>35.118488</td>\n",
       "      <td>0</td>\n",
       "      <td>10.174336</td>\n",
       "      <td>NaN</td>\n",
       "      <td>6.472612</td>\n",
       "      <td>78</td>\n",
       "      <td>NaN</td>\n",
       "      <td>NaN</td>\n",
       "      <td>NaN</td>\n",
       "      <td>NaN</td>\n",
       "      <td>900.419128</td>\n",
       "      <td>6.472612</td>\n",
       "      <td>900.419128</td>\n",
       "    </tr>\n",
       "    <tr>\n",
       "      <th>1</th>\n",
       "      <td>45.143501</td>\n",
       "      <td>1</td>\n",
       "      <td>10.025016</td>\n",
       "      <td>NaN</td>\n",
       "      <td>6.761095</td>\n",
       "      <td>157</td>\n",
       "      <td>NaN</td>\n",
       "      <td>NaN</td>\n",
       "      <td>NaN</td>\n",
       "      <td>NaN</td>\n",
       "      <td>935.142151</td>\n",
       "      <td>6.761095</td>\n",
       "      <td>935.142151</td>\n",
       "    </tr>\n",
       "    <tr>\n",
       "      <th>2</th>\n",
       "      <td>55.190868</td>\n",
       "      <td>2</td>\n",
       "      <td>10.047364</td>\n",
       "      <td>NaN</td>\n",
       "      <td>6.942076</td>\n",
       "      <td>236</td>\n",
       "      <td>NaN</td>\n",
       "      <td>NaN</td>\n",
       "      <td>NaN</td>\n",
       "      <td>NaN</td>\n",
       "      <td>1019.060181</td>\n",
       "      <td>6.942076</td>\n",
       "      <td>1019.060181</td>\n",
       "    </tr>\n",
       "    <tr>\n",
       "      <th>3</th>\n",
       "      <td>65.224243</td>\n",
       "      <td>3</td>\n",
       "      <td>10.033379</td>\n",
       "      <td>NaN</td>\n",
       "      <td>6.654158</td>\n",
       "      <td>315</td>\n",
       "      <td>NaN</td>\n",
       "      <td>NaN</td>\n",
       "      <td>NaN</td>\n",
       "      <td>NaN</td>\n",
       "      <td>955.351990</td>\n",
       "      <td>6.654158</td>\n",
       "      <td>955.351990</td>\n",
       "    </tr>\n",
       "    <tr>\n",
       "      <th>4</th>\n",
       "      <td>75.300331</td>\n",
       "      <td>4</td>\n",
       "      <td>10.076086</td>\n",
       "      <td>NaN</td>\n",
       "      <td>6.479339</td>\n",
       "      <td>394</td>\n",
       "      <td>NaN</td>\n",
       "      <td>NaN</td>\n",
       "      <td>NaN</td>\n",
       "      <td>NaN</td>\n",
       "      <td>923.829895</td>\n",
       "      <td>6.479339</td>\n",
       "      <td>923.829895</td>\n",
       "    </tr>\n",
       "  </tbody>\n",
       "</table>\n",
       "</div>"
      ],
      "text/plain": [
       "       cumulative time  epoch  epoch time  \\\n",
       "epoch                                       \n",
       "0            35.118488      0   10.174336   \n",
       "1            45.143501      1   10.025016   \n",
       "2            55.190868      2   10.047364   \n",
       "3            65.224243      3   10.033379   \n",
       "4            75.300331      4   10.076086   \n",
       "\n",
       "       metric_test/MeanAbsoluteError/shg_tensor_full  \\\n",
       "epoch                                                  \n",
       "0                                                NaN   \n",
       "1                                                NaN   \n",
       "2                                                NaN   \n",
       "3                                                NaN   \n",
       "4                                                NaN   \n",
       "\n",
       "       metric_val/MeanAbsoluteError/shg_tensor_full  step  \\\n",
       "epoch                                                       \n",
       "0                                          6.472612    78   \n",
       "1                                          6.761095   157   \n",
       "2                                          6.942076   236   \n",
       "3                                          6.654158   315   \n",
       "4                                          6.479339   394   \n",
       "\n",
       "       test/loss/shg_tensor_full  test/total_loss  train/loss/shg_tensor_full  \\\n",
       "epoch                                                                           \n",
       "0                            NaN              NaN                         NaN   \n",
       "1                            NaN              NaN                         NaN   \n",
       "2                            NaN              NaN                         NaN   \n",
       "3                            NaN              NaN                         NaN   \n",
       "4                            NaN              NaN                         NaN   \n",
       "\n",
       "       train/total_loss  val/loss/shg_tensor_full  val/score  val/total_loss  \n",
       "epoch                                                                         \n",
       "0                   NaN                900.419128   6.472612      900.419128  \n",
       "1                   NaN                935.142151   6.761095      935.142151  \n",
       "2                   NaN               1019.060181   6.942076     1019.060181  \n",
       "3                   NaN                955.351990   6.654158      955.351990  \n",
       "4                   NaN                923.829895   6.479339      923.829895  "
      ]
     },
     "metadata": {},
     "output_type": "display_data"
    },
    {
     "data": {
      "text/html": [
       "<div>\n",
       "<style scoped>\n",
       "    .dataframe tbody tr th:only-of-type {\n",
       "        vertical-align: middle;\n",
       "    }\n",
       "\n",
       "    .dataframe tbody tr th {\n",
       "        vertical-align: top;\n",
       "    }\n",
       "\n",
       "    .dataframe thead th {\n",
       "        text-align: right;\n",
       "    }\n",
       "</style>\n",
       "<table border=\"1\" class=\"dataframe\">\n",
       "  <thead>\n",
       "    <tr style=\"text-align: right;\">\n",
       "      <th></th>\n",
       "      <th>cumulative time</th>\n",
       "      <th>epoch</th>\n",
       "      <th>epoch time</th>\n",
       "      <th>metric_test/MeanAbsoluteError/shg_tensor_full</th>\n",
       "      <th>metric_val/MeanAbsoluteError/shg_tensor_full</th>\n",
       "      <th>step</th>\n",
       "      <th>test/loss/shg_tensor_full</th>\n",
       "      <th>test/total_loss</th>\n",
       "      <th>train/loss/shg_tensor_full</th>\n",
       "      <th>train/total_loss</th>\n",
       "      <th>val/loss/shg_tensor_full</th>\n",
       "      <th>val/score</th>\n",
       "      <th>val/total_loss</th>\n",
       "    </tr>\n",
       "    <tr>\n",
       "      <th>epoch</th>\n",
       "      <th></th>\n",
       "      <th></th>\n",
       "      <th></th>\n",
       "      <th></th>\n",
       "      <th></th>\n",
       "      <th></th>\n",
       "      <th></th>\n",
       "      <th></th>\n",
       "      <th></th>\n",
       "      <th></th>\n",
       "      <th></th>\n",
       "      <th></th>\n",
       "      <th></th>\n",
       "    </tr>\n",
       "  </thead>\n",
       "  <tbody>\n",
       "    <tr>\n",
       "      <th>0</th>\n",
       "      <td>NaN</td>\n",
       "      <td>0</td>\n",
       "      <td>NaN</td>\n",
       "      <td>NaN</td>\n",
       "      <td>NaN</td>\n",
       "      <td>78</td>\n",
       "      <td>NaN</td>\n",
       "      <td>NaN</td>\n",
       "      <td>686.117615</td>\n",
       "      <td>686.117615</td>\n",
       "      <td>NaN</td>\n",
       "      <td>NaN</td>\n",
       "      <td>NaN</td>\n",
       "    </tr>\n",
       "    <tr>\n",
       "      <th>1</th>\n",
       "      <td>NaN</td>\n",
       "      <td>1</td>\n",
       "      <td>NaN</td>\n",
       "      <td>NaN</td>\n",
       "      <td>NaN</td>\n",
       "      <td>157</td>\n",
       "      <td>NaN</td>\n",
       "      <td>NaN</td>\n",
       "      <td>579.893921</td>\n",
       "      <td>579.893921</td>\n",
       "      <td>NaN</td>\n",
       "      <td>NaN</td>\n",
       "      <td>NaN</td>\n",
       "    </tr>\n",
       "    <tr>\n",
       "      <th>2</th>\n",
       "      <td>NaN</td>\n",
       "      <td>2</td>\n",
       "      <td>NaN</td>\n",
       "      <td>NaN</td>\n",
       "      <td>NaN</td>\n",
       "      <td>236</td>\n",
       "      <td>NaN</td>\n",
       "      <td>NaN</td>\n",
       "      <td>457.362396</td>\n",
       "      <td>457.362396</td>\n",
       "      <td>NaN</td>\n",
       "      <td>NaN</td>\n",
       "      <td>NaN</td>\n",
       "    </tr>\n",
       "    <tr>\n",
       "      <th>3</th>\n",
       "      <td>NaN</td>\n",
       "      <td>3</td>\n",
       "      <td>NaN</td>\n",
       "      <td>NaN</td>\n",
       "      <td>NaN</td>\n",
       "      <td>315</td>\n",
       "      <td>NaN</td>\n",
       "      <td>NaN</td>\n",
       "      <td>352.297516</td>\n",
       "      <td>352.297516</td>\n",
       "      <td>NaN</td>\n",
       "      <td>NaN</td>\n",
       "      <td>NaN</td>\n",
       "    </tr>\n",
       "    <tr>\n",
       "      <th>4</th>\n",
       "      <td>NaN</td>\n",
       "      <td>4</td>\n",
       "      <td>NaN</td>\n",
       "      <td>NaN</td>\n",
       "      <td>NaN</td>\n",
       "      <td>394</td>\n",
       "      <td>NaN</td>\n",
       "      <td>NaN</td>\n",
       "      <td>279.183777</td>\n",
       "      <td>279.183777</td>\n",
       "      <td>NaN</td>\n",
       "      <td>NaN</td>\n",
       "      <td>NaN</td>\n",
       "    </tr>\n",
       "  </tbody>\n",
       "</table>\n",
       "</div>"
      ],
      "text/plain": [
       "       cumulative time  epoch  epoch time  \\\n",
       "epoch                                       \n",
       "0                  NaN      0         NaN   \n",
       "1                  NaN      1         NaN   \n",
       "2                  NaN      2         NaN   \n",
       "3                  NaN      3         NaN   \n",
       "4                  NaN      4         NaN   \n",
       "\n",
       "       metric_test/MeanAbsoluteError/shg_tensor_full  \\\n",
       "epoch                                                  \n",
       "0                                                NaN   \n",
       "1                                                NaN   \n",
       "2                                                NaN   \n",
       "3                                                NaN   \n",
       "4                                                NaN   \n",
       "\n",
       "       metric_val/MeanAbsoluteError/shg_tensor_full  step  \\\n",
       "epoch                                                       \n",
       "0                                               NaN    78   \n",
       "1                                               NaN   157   \n",
       "2                                               NaN   236   \n",
       "3                                               NaN   315   \n",
       "4                                               NaN   394   \n",
       "\n",
       "       test/loss/shg_tensor_full  test/total_loss  train/loss/shg_tensor_full  \\\n",
       "epoch                                                                           \n",
       "0                            NaN              NaN                  686.117615   \n",
       "1                            NaN              NaN                  579.893921   \n",
       "2                            NaN              NaN                  457.362396   \n",
       "3                            NaN              NaN                  352.297516   \n",
       "4                            NaN              NaN                  279.183777   \n",
       "\n",
       "       train/total_loss  val/loss/shg_tensor_full  val/score  val/total_loss  \n",
       "epoch                                                                         \n",
       "0            686.117615                       NaN        NaN             NaN  \n",
       "1            579.893921                       NaN        NaN             NaN  \n",
       "2            457.362396                       NaN        NaN             NaN  \n",
       "3            352.297516                       NaN        NaN             NaN  \n",
       "4            279.183777                       NaN        NaN             NaN  "
      ]
     },
     "metadata": {},
     "output_type": "display_data"
    }
   ],
   "source": [
    "df_lr_epochs_first = df_lr[df_lr[\"epoch\"].duplicated(keep=\"last\")]\n",
    "df_lr_epochs_first.index = df_lr_epochs_first[\"epoch\"]\n",
    "display(df_lr_epochs_first.head())\n",
    "df_lr_epochs_second = df_lr[df_lr[\"epoch\"].duplicated(keep=\"first\")]\n",
    "df_lr_epochs_second.index = df_lr_epochs_second[\"epoch\"]\n",
    "display(df_lr_epochs_second.head())"
   ]
  },
  {
   "cell_type": "markdown",
   "metadata": {},
   "source": [
    "# Learning rates"
   ]
  },
  {
   "cell_type": "markdown",
   "metadata": {},
   "source": [
    "## Loss"
   ]
  },
  {
   "cell_type": "code",
   "execution_count": 7,
   "metadata": {},
   "outputs": [
    {
     "data": {
      "application/vnd.plotly.v1+json": {
       "config": {
        "plotlyServerURL": "https://plot.ly"
       },
       "data": [
        {
         "mode": "lines+markers",
         "name": "Train loss",
         "showlegend": true,
         "type": "scatter",
         "x": [
          0,
          1,
          2,
          3,
          4,
          5,
          6,
          7,
          8,
          9,
          10,
          11,
          12,
          13,
          14,
          15,
          16,
          17,
          18,
          19,
          20,
          21,
          22,
          23,
          24,
          25,
          26,
          27,
          28,
          29,
          30,
          31,
          32,
          33,
          34,
          35,
          36,
          37,
          38,
          39,
          40,
          41,
          42,
          43,
          44,
          45,
          46,
          47,
          48,
          49,
          50,
          51,
          52,
          53,
          54,
          55,
          56,
          57,
          58,
          59,
          60,
          61,
          62,
          63,
          64,
          65,
          66,
          67,
          68,
          69,
          70,
          71,
          72,
          73,
          74,
          75,
          76,
          77,
          78,
          79,
          80,
          81,
          82,
          83,
          84,
          85,
          86,
          87,
          88,
          89,
          90,
          91,
          92,
          93,
          94,
          95,
          96,
          97,
          98,
          99,
          100,
          101,
          102,
          103,
          104,
          105,
          106,
          107,
          108,
          109,
          110,
          111,
          112,
          113,
          114,
          115,
          116,
          117,
          118,
          119,
          120,
          121,
          122,
          123,
          124,
          125,
          126,
          127,
          128,
          129,
          130,
          131,
          132,
          133,
          134,
          135,
          136,
          137,
          138,
          139,
          140,
          141,
          142,
          143,
          144,
          145,
          146,
          147,
          148,
          149,
          150,
          151,
          152,
          153,
          154,
          155,
          156,
          157,
          158,
          159,
          160,
          161,
          162,
          163,
          164,
          165,
          166,
          167,
          168,
          169,
          170,
          171,
          172,
          173,
          174,
          175,
          176,
          177,
          178,
          179,
          180,
          181,
          182,
          183,
          184,
          185,
          186,
          187,
          188,
          189,
          190,
          191,
          192,
          193,
          194,
          195,
          196,
          197,
          198,
          199,
          200,
          201,
          202,
          203,
          204,
          205,
          206,
          207,
          208,
          209,
          210,
          211,
          212,
          213,
          214,
          215,
          216,
          217,
          218,
          219,
          220,
          221,
          222,
          223,
          224,
          225,
          226,
          227,
          228,
          229,
          230,
          231,
          232,
          233,
          234,
          235,
          236,
          237,
          238,
          239,
          240,
          241,
          242,
          243,
          244,
          245,
          246,
          247,
          248,
          249,
          250,
          251,
          252,
          253,
          254,
          255,
          256,
          257,
          258,
          259,
          260,
          261,
          262,
          263,
          264,
          265,
          266,
          267,
          268,
          269,
          270,
          271,
          272,
          273,
          274,
          275,
          276,
          277,
          278,
          279,
          280,
          281,
          282,
          283,
          284,
          285,
          286,
          287,
          288,
          289,
          290,
          291,
          292,
          293,
          294,
          295,
          296,
          297,
          298,
          299,
          300,
          301,
          302,
          303,
          304,
          305,
          306,
          307,
          308,
          309,
          310,
          311,
          312,
          313,
          314,
          315,
          316,
          317,
          318,
          319,
          320,
          321,
          322,
          323,
          324,
          325,
          326,
          327,
          328,
          329,
          330,
          331,
          332,
          333,
          334,
          335,
          336,
          337,
          338,
          339,
          340,
          341,
          342,
          343,
          344,
          345,
          346,
          347,
          348,
          349,
          350,
          351,
          352,
          353,
          354,
          355,
          356,
          357,
          358,
          359,
          360,
          361,
          362,
          363,
          364,
          365,
          366,
          367,
          368,
          369,
          370,
          371,
          372,
          373,
          374,
          375,
          376,
          377,
          378,
          379,
          380,
          381,
          382,
          383,
          384,
          385,
          386,
          387,
          388,
          389,
          390,
          391,
          392,
          393,
          394,
          395,
          396,
          397,
          398,
          399,
          400,
          401,
          402,
          403,
          404,
          405,
          406,
          407,
          408,
          409,
          410,
          411,
          412,
          413,
          414,
          415,
          416,
          417,
          418,
          419,
          420,
          421,
          422,
          423,
          424,
          425,
          426,
          427,
          428,
          429,
          430,
          431,
          432,
          433,
          434,
          435,
          436,
          437,
          438,
          439,
          440,
          441,
          442,
          443,
          444,
          445,
          446,
          447,
          448,
          449,
          450,
          451,
          452,
          453,
          454,
          455,
          456,
          457,
          458,
          459,
          460,
          461,
          462,
          463,
          464,
          465,
          466,
          467,
          468,
          469,
          470,
          471,
          472,
          473,
          474,
          475,
          476,
          477,
          478,
          479,
          480,
          481,
          482,
          483,
          484,
          485,
          486,
          487,
          488,
          489,
          490,
          491,
          492,
          493,
          494,
          495,
          496,
          497,
          498,
          499
         ],
         "y": [
          686.1176147460938,
          579.8939208984375,
          457.3623962402344,
          352.2975158691406,
          279.18377685546875,
          246.42132568359372,
          212.5667724609375,
          200.5673370361328,
          178.66795349121094,
          159.35475158691406,
          158.27423095703125,
          153.9406280517578,
          146.93740844726562,
          137.4495086669922,
          136.43392944335938,
          129.5067901611328,
          129.8828125,
          127.09823608398438,
          123.04019927978516,
          116.78292083740234,
          114.36398315429688,
          122.38068389892578,
          120.19959259033205,
          136.97561645507812,
          119.6817398071289,
          132.7810821533203,
          147.001953125,
          124.53092193603516,
          114.82434844970705,
          108.7774658203125,
          108.10771942138672,
          109.99456787109376,
          108.94795989990234,
          108.95729064941406,
          108.31690979003906,
          108.16979217529295,
          118.00211334228516,
          114.81243896484376,
          106.86618041992188,
          109.33715057373048,
          107.32307434082033,
          105.34169006347656,
          107.20948791503906,
          118.59232330322266,
          115.86881256103516,
          109.16748046875,
          121.5604476928711,
          134.0026397705078,
          116.84519958496094,
          107.4664535522461,
          104.98301696777344,
          103.95235443115234,
          103.67703247070312,
          102.59693908691406,
          104.0229034423828,
          107.24343872070312,
          107.85511016845705,
          104.63838958740234,
          102.03113555908205,
          108.93922424316406,
          111.45956420898438,
          108.6139678955078,
          104.6590576171875,
          101.646728515625,
          103.010986328125,
          103.16910552978516,
          104.6153564453125,
          102.90229034423828,
          101.83757781982422,
          103.31765747070312,
          102.503662109375,
          103.44510650634766,
          101.47132110595705,
          100.43772888183594,
          98.7437973022461,
          112.57611846923828,
          106.76831817626952,
          102.80574035644533,
          102.21504974365234,
          112.87539672851562,
          110.15958404541016,
          105.63375854492188,
          101.6024932861328,
          100.93358612060548,
          110.04851531982422,
          106.86087799072266,
          100.88581085205078,
          97.92518615722656,
          102.00223541259766,
          102.39971923828124,
          101.03900909423828,
          97.45691680908205,
          98.00128936767578,
          98.33114624023438,
          99.00899505615234,
          97.7556610107422,
          97.8675308227539,
          98.87130737304688,
          98.40238189697266,
          91.79490661621094,
          90.66468048095705,
          90.65377044677734,
          89.69406127929688,
          89.47921752929688,
          91.17044830322266,
          89.92732238769531,
          89.54469299316406,
          89.97817993164062,
          90.04275512695312,
          90.81621551513672,
          90.814453125,
          90.62537384033205,
          89.45336151123047,
          90.20980072021484,
          91.91404724121094,
          94.01956939697266,
          93.50001525878906,
          92.88384246826172,
          90.45714569091795,
          90.84685516357422,
          91.15222930908205,
          90.97689819335938,
          91.52281951904295,
          90.86516571044922,
          90.24726104736328,
          90.23223114013672,
          90.13021087646484,
          91.17832946777344,
          91.50700378417967,
          105.24346160888672,
          120.01828002929688,
          96.59373474121094,
          93.47283935546876,
          90.4547348022461,
          89.9862060546875,
          89.40775299072266,
          89.7884750366211,
          89.62591552734375,
          91.38623046875,
          89.73986053466797,
          92.61432647705078,
          89.83515167236328,
          89.8276596069336,
          89.89838409423828,
          89.17435455322266,
          89.66885375976562,
          94.71481323242188,
          93.4119644165039,
          91.01123046875,
          90.58494567871094,
          88.57418060302734,
          87.92748260498047,
          88.07738494873047,
          88.2451171875,
          88.57550811767578,
          87.97296142578125,
          87.9210205078125,
          87.77716827392578,
          87.99272155761719,
          88.24798583984375,
          88.94908905029297,
          91.3296890258789,
          88.75230407714844,
          87.5932846069336,
          87.89933776855469,
          87.7929916381836,
          87.90570831298828,
          88.5374526977539,
          88.1279067993164,
          87.9013900756836,
          87.8609848022461,
          88.35509490966797,
          87.91316223144531,
          87.59943389892578,
          87.7991714477539,
          87.72819519042969,
          87.88074493408203,
          87.95861053466797,
          88.4228744506836,
          88.47018432617188,
          88.20608520507812,
          88.68792724609375,
          88.59811401367188,
          88.15887451171875,
          88.30475616455078,
          88.54840850830078,
          89.00028991699219,
          89.16766357421875,
          88.77890014648438,
          89.17503356933594,
          88.41899108886719,
          87.77857971191406,
          88.32933807373047,
          88.15790557861328,
          87.43386840820312,
          87.56039428710938,
          87.96296691894531,
          88.17090606689453,
          87.99431610107422,
          88.04568481445312,
          87.2648696899414,
          86.94093322753906,
          87.12183380126953,
          87.500244140625,
          87.98848724365234,
          87.01057434082031,
          86.99429321289062,
          86.92701721191406,
          86.93379211425781,
          87.19871520996094,
          87.07979583740234,
          87.31790924072266,
          87.15109252929688,
          86.99691772460938,
          87.3235092163086,
          89.49244689941406,
          87.33097076416016,
          87.06680297851562,
          87.11734008789062,
          87.19390106201172,
          87.2346420288086,
          87.01908874511719,
          86.88846588134766,
          86.95895385742188,
          87.73844909667969,
          87.95809173583984,
          86.95782470703125,
          87.0357894897461,
          87.40779113769531,
          86.94534301757812,
          87.2137222290039,
          87.3223876953125,
          86.9535903930664,
          86.84272003173828,
          87.3138427734375,
          87.1146011352539,
          87.53994750976562,
          88.17923736572266,
          86.92552185058594,
          87.0099868774414,
          87.10379028320312,
          86.9587631225586,
          87.09700012207031,
          87.25232696533203,
          86.93012237548828,
          86.99284362792969,
          86.78333282470703,
          87.15963745117188,
          87.04360961914062,
          87.14891815185547,
          87.10801696777344,
          87.0264663696289,
          86.9632797241211,
          86.72161102294922,
          86.57758331298828,
          86.73573303222656,
          86.41909790039062,
          86.71833801269531,
          86.87525939941406,
          86.96652221679688,
          86.78054809570312,
          86.7295913696289,
          86.70391845703125,
          86.69532775878906,
          86.45436096191406,
          86.60626220703125,
          86.50684356689453,
          86.70841979980469,
          86.61376953125,
          86.83085632324219,
          86.65972900390625,
          86.8389663696289,
          86.6023178100586,
          86.4609146118164,
          87.121337890625,
          86.75332641601562,
          86.91254425048828,
          86.74601745605469,
          86.58245086669922,
          86.48076629638672,
          86.65185546875,
          86.6832275390625,
          86.84413146972656,
          86.65633392333984,
          86.7370834350586,
          86.52237701416016,
          86.62372589111328,
          86.37114715576172,
          86.56240844726562,
          86.66443634033203,
          86.62217712402344,
          86.54959869384766,
          86.58441925048828,
          86.67130279541016,
          86.77437591552734,
          86.63697052001953,
          86.60238647460938,
          86.98748779296875,
          86.72798919677734,
          86.62271118164062,
          86.52886199951172,
          86.58476257324219,
          86.50305938720703,
          86.26073455810547,
          86.5141372680664,
          86.49701690673828,
          86.58396911621094,
          86.68077087402344,
          86.73645782470703,
          86.46101379394531,
          86.43863677978516,
          86.33109283447266,
          86.53752899169922,
          86.98026275634766,
          86.43235778808594,
          86.47025299072266,
          86.58235168457031,
          86.74378204345703,
          86.439697265625,
          86.40336608886719,
          86.47380065917969,
          86.81543731689453,
          86.50588989257812,
          87.14961242675781,
          86.37538146972656,
          86.42658996582031,
          86.49662780761719,
          86.91717529296875,
          86.41658020019531,
          86.29891967773438,
          86.3638916015625,
          86.49471282958984,
          86.46903991699219,
          86.86190795898438,
          86.85331726074219,
          86.34573364257812,
          86.45552825927734,
          87.14271545410156,
          86.63450622558594,
          87.21614074707031,
          86.57633972167969,
          86.35844421386719,
          86.44596862792969,
          86.40547180175781,
          86.4141616821289,
          86.7494888305664,
          86.5099105834961,
          86.58765411376953,
          86.4045639038086,
          86.38712310791016,
          86.48234558105469,
          86.45665740966797,
          86.56254577636719,
          86.57008361816406,
          86.5029525756836,
          86.47063446044922,
          86.6180419921875,
          86.60769653320312,
          86.41211700439453,
          86.2916259765625,
          86.63613891601562,
          86.3769760131836,
          86.21531677246094,
          86.50178527832031,
          86.43465423583984,
          86.42731475830078,
          86.28388214111328,
          86.5192642211914,
          86.39563751220703,
          86.34654235839844,
          86.2682876586914,
          86.38729858398438,
          86.35042572021484,
          86.95044708251953,
          86.2083740234375,
          86.25382995605469,
          86.36888122558594,
          86.61521911621094,
          86.40141296386719,
          86.38048553466797,
          86.51011657714844,
          86.35214233398438,
          86.28779602050781,
          86.2488784790039,
          86.392333984375,
          86.31442260742188,
          86.27425384521484,
          86.23104095458984,
          86.20211791992188,
          86.28832244873047,
          86.60136413574219,
          86.18006896972656,
          86.26847076416016,
          86.59860229492188,
          86.3007583618164,
          86.25306701660156,
          86.23218536376953,
          86.29029083251953,
          86.35526275634766,
          87.25550842285156,
          86.42830657958984,
          86.43389892578125,
          86.32634735107422,
          86.49198913574219,
          86.20464324951172,
          86.16651916503906,
          86.32439422607422,
          86.6861572265625,
          86.32455444335938,
          86.29426574707031,
          86.27237701416016,
          86.36490631103516,
          86.29615783691406,
          86.29847717285156,
          86.298828125,
          86.4595718383789,
          86.29708099365234,
          86.37114715576172,
          86.39192962646484,
          86.31571197509766,
          86.28086853027344,
          86.34033203125,
          86.80238342285156,
          86.21025085449219,
          86.55724334716797,
          86.24091339111328,
          86.33712768554688,
          86.3531494140625,
          86.39505767822266,
          86.25100708007812,
          86.3671646118164,
          86.40058898925781,
          86.2446517944336,
          86.26652526855469,
          86.34617614746094,
          86.4599380493164,
          86.32453918457031,
          86.13232421875,
          86.42523956298828,
          86.50550842285156,
          86.3748779296875,
          86.26509094238281,
          86.28726196289062,
          86.20610809326172,
          86.37749481201172,
          86.32012176513672,
          86.40271759033203,
          86.27137756347656,
          87.10768127441406,
          86.2586441040039,
          86.33259582519531,
          86.30095672607422,
          86.3375473022461,
          86.35167694091797,
          86.14199829101562,
          86.52618408203125,
          86.34264373779297,
          86.26864624023438,
          87.01605987548828,
          86.47948455810547,
          86.29434204101562,
          86.21170806884766,
          86.10900115966797,
          86.35851287841797,
          86.311767578125,
          86.65296173095703,
          86.5903549194336,
          86.26233673095703,
          86.3882827758789,
          86.202880859375,
          86.35588836669922,
          86.21961975097656,
          86.34901428222656,
          86.18756866455078,
          86.21724700927734,
          86.18634796142578,
          86.32293701171875,
          86.26153564453125,
          86.2172622680664,
          86.23302459716797,
          86.29164123535156,
          86.22227478027344,
          86.7962417602539,
          86.37498474121094,
          86.3803482055664,
          86.27716064453125,
          86.2998275756836,
          86.23294067382812,
          86.14627075195312,
          86.05825805664062,
          86.18444061279297,
          86.18936920166016,
          86.29178619384766,
          86.46196746826172,
          86.32605743408203,
          86.43781280517578,
          86.29729461669922,
          86.17327117919922,
          86.20709228515625,
          86.21589660644531
         ]
        },
        {
         "mode": "lines+markers",
         "name": "Validation loss",
         "showlegend": true,
         "type": "scatter",
         "x": [
          0,
          1,
          2,
          3,
          4,
          5,
          6,
          7,
          8,
          9,
          10,
          11,
          12,
          13,
          14,
          15,
          16,
          17,
          18,
          19,
          20,
          21,
          22,
          23,
          24,
          25,
          26,
          27,
          28,
          29,
          30,
          31,
          32,
          33,
          34,
          35,
          36,
          37,
          38,
          39,
          40,
          41,
          42,
          43,
          44,
          45,
          46,
          47,
          48,
          49,
          50,
          51,
          52,
          53,
          54,
          55,
          56,
          57,
          58,
          59,
          60,
          61,
          62,
          63,
          64,
          65,
          66,
          67,
          68,
          69,
          70,
          71,
          72,
          73,
          74,
          75,
          76,
          77,
          78,
          79,
          80,
          81,
          82,
          83,
          84,
          85,
          86,
          87,
          88,
          89,
          90,
          91,
          92,
          93,
          94,
          95,
          96,
          97,
          98,
          99,
          100,
          101,
          102,
          103,
          104,
          105,
          106,
          107,
          108,
          109,
          110,
          111,
          112,
          113,
          114,
          115,
          116,
          117,
          118,
          119,
          120,
          121,
          122,
          123,
          124,
          125,
          126,
          127,
          128,
          129,
          130,
          131,
          132,
          133,
          134,
          135,
          136,
          137,
          138,
          139,
          140,
          141,
          142,
          143,
          144,
          145,
          146,
          147,
          148,
          149,
          150,
          151,
          152,
          153,
          154,
          155,
          156,
          157,
          158,
          159,
          160,
          161,
          162,
          163,
          164,
          165,
          166,
          167,
          168,
          169,
          170,
          171,
          172,
          173,
          174,
          175,
          176,
          177,
          178,
          179,
          180,
          181,
          182,
          183,
          184,
          185,
          186,
          187,
          188,
          189,
          190,
          191,
          192,
          193,
          194,
          195,
          196,
          197,
          198,
          199,
          200,
          201,
          202,
          203,
          204,
          205,
          206,
          207,
          208,
          209,
          210,
          211,
          212,
          213,
          214,
          215,
          216,
          217,
          218,
          219,
          220,
          221,
          222,
          223,
          224,
          225,
          226,
          227,
          228,
          229,
          230,
          231,
          232,
          233,
          234,
          235,
          236,
          237,
          238,
          239,
          240,
          241,
          242,
          243,
          244,
          245,
          246,
          247,
          248,
          249,
          250,
          251,
          252,
          253,
          254,
          255,
          256,
          257,
          258,
          259,
          260,
          261,
          262,
          263,
          264,
          265,
          266,
          267,
          268,
          269,
          270,
          271,
          272,
          273,
          274,
          275,
          276,
          277,
          278,
          279,
          280,
          281,
          282,
          283,
          284,
          285,
          286,
          287,
          288,
          289,
          290,
          291,
          292,
          293,
          294,
          295,
          296,
          297,
          298,
          299,
          300,
          301,
          302,
          303,
          304,
          305,
          306,
          307,
          308,
          309,
          310,
          311,
          312,
          313,
          314,
          315,
          316,
          317,
          318,
          319,
          320,
          321,
          322,
          323,
          324,
          325,
          326,
          327,
          328,
          329,
          330,
          331,
          332,
          333,
          334,
          335,
          336,
          337,
          338,
          339,
          340,
          341,
          342,
          343,
          344,
          345,
          346,
          347,
          348,
          349,
          350,
          351,
          352,
          353,
          354,
          355,
          356,
          357,
          358,
          359,
          360,
          361,
          362,
          363,
          364,
          365,
          366,
          367,
          368,
          369,
          370,
          371,
          372,
          373,
          374,
          375,
          376,
          377,
          378,
          379,
          380,
          381,
          382,
          383,
          384,
          385,
          386,
          387,
          388,
          389,
          390,
          391,
          392,
          393,
          394,
          395,
          396,
          397,
          398,
          399,
          400,
          401,
          402,
          403,
          404,
          405,
          406,
          407,
          408,
          409,
          410,
          411,
          412,
          413,
          414,
          415,
          416,
          417,
          418,
          419,
          420,
          421,
          422,
          423,
          424,
          425,
          426,
          427,
          428,
          429,
          430,
          431,
          432,
          433,
          434,
          435,
          436,
          437,
          438,
          439,
          440,
          441,
          442,
          443,
          444,
          445,
          446,
          447,
          448,
          449,
          450,
          451,
          452,
          453,
          454,
          455,
          456,
          457,
          458,
          459,
          460,
          461,
          462,
          463,
          464,
          465,
          466,
          467,
          468,
          469,
          470,
          471,
          472,
          473,
          474,
          475,
          476,
          477,
          478,
          479,
          480,
          481,
          482,
          483,
          484,
          485,
          486,
          487,
          488,
          489,
          490,
          491,
          492,
          493,
          494,
          495,
          496,
          497,
          498,
          499
         ],
         "y": [
          900.4191284179688,
          935.1421508789062,
          1019.0601806640624,
          955.3519897460938,
          923.8298950195312,
          917.0264282226562,
          973.927490234375,
          1080.0479736328125,
          1043.2801513671875,
          971.7207641601562,
          997.4044799804688,
          962.79248046875,
          979.7677612304688,
          970.4688110351562,
          985.3646240234376,
          907.616455078125,
          903.021484375,
          944.5452270507812,
          944.3827514648438,
          908.5230712890624,
          981.271484375,
          924.8298950195312,
          897.9205322265625,
          941.9593505859376,
          950.0675048828124,
          924.8399047851562,
          926.957763671875,
          910.0243530273438,
          894.2272338867188,
          933.5166625976562,
          951.3010864257812,
          946.8809814453124,
          939.0120239257812,
          950.3165283203124,
          880.355712890625,
          963.0631713867188,
          881.811767578125,
          962.2828979492188,
          913.098876953125,
          934.2011108398438,
          888.0725708007812,
          897.6785888671875,
          883.0740356445312,
          907.3945922851562,
          892.7355346679688,
          925.4119873046876,
          865.7947998046875,
          902.47021484375,
          906.285400390625,
          931.3253784179688,
          920.2276000976562,
          899.9338989257812,
          924.1692504882812,
          929.7732543945312,
          896.9423217773438,
          962.3510131835938,
          912.7496948242188,
          918.5862426757812,
          957.5663452148438,
          932.5765991210938,
          922.2291259765624,
          893.893798828125,
          924.2501831054688,
          942.8656616210938,
          941.8518676757812,
          896.4288940429688,
          949.3198852539062,
          939.1909790039062,
          935.7164916992188,
          928.7213134765624,
          947.0728759765624,
          938.0726318359376,
          931.335693359375,
          933.919189453125,
          905.8978881835938,
          937.0427856445312,
          950.1119995117188,
          936.4374389648438,
          896.9965209960938,
          1014.1055297851562,
          919.9229736328124,
          937.5441284179688,
          923.940185546875,
          943.5586547851562,
          1012.8060913085938,
          973.3182983398438,
          981.7965087890624,
          1007.7703857421876,
          952.1014404296876,
          950.8162841796876,
          954.4345092773438,
          954.8771362304688,
          963.9335327148438,
          947.2666625976562,
          950.3756713867188,
          935.6062622070312,
          1001.8309326171876,
          1004.3803100585938,
          954.9324951171876,
          968.1996459960938,
          957.5264282226562,
          974.9765014648438,
          962.697998046875,
          955.1668701171876,
          980.0812377929688,
          981.4981079101562,
          958.14892578125,
          970.4696044921876,
          973.8448486328124,
          968.7366333007812,
          980.3053588867188,
          965.9651489257812,
          962.0738525390624,
          968.9742431640624,
          969.1036987304688,
          934.3295288085938,
          963.4005126953124,
          949.72998046875,
          961.2274169921876,
          968.0209350585938,
          957.3992919921876,
          975.2697143554688,
          958.8743286132812,
          953.0196533203124,
          962.6990356445312,
          973.1763305664062,
          948.911376953125,
          944.3076171875,
          972.906982421875,
          953.9385375976562,
          977.70263671875,
          967.079345703125,
          989.6624755859376,
          955.1864013671876,
          970.2918090820312,
          979.933349609375,
          972.6893310546876,
          976.7198486328124,
          966.8017578125,
          978.9031982421876,
          951.4022216796876,
          975.8289184570312,
          973.427001953125,
          963.8832397460938,
          975.478759765625,
          986.8515014648438,
          965.3171997070312,
          977.67236328125,
          970.7462768554688,
          968.4549560546876,
          981.5645141601562,
          976.3739013671876,
          969.5372924804688,
          980.0323486328124,
          968.9158935546876,
          978.2589111328124,
          973.3418579101562,
          979.7147216796876,
          971.86474609375,
          973.7390747070312,
          973.9454956054688,
          970.9002075195312,
          975.0313720703124,
          967.1131591796876,
          967.791259765625,
          979.2703857421876,
          970.0133666992188,
          967.472412109375,
          987.7347412109376,
          976.830078125,
          977.6912231445312,
          973.43701171875,
          985.523681640625,
          984.5345458984376,
          977.527099609375,
          989.3676147460938,
          981.7496948242188,
          976.385498046875,
          977.3512573242188,
          992.0675659179688,
          972.48876953125,
          985.9916381835938,
          983.0274047851562,
          977.7611694335938,
          980.9451904296876,
          985.2727661132812,
          975.6292724609376,
          983.4730834960938,
          973.2808837890624,
          975.0926513671876,
          985.4072875976562,
          978.9591064453124,
          984.06591796875,
          992.7269287109376,
          968.2215576171876,
          979.4285888671876,
          981.5419921875,
          975.4143676757812,
          985.130859375,
          979.7357788085938,
          982.1936645507812,
          981.3517456054688,
          976.549560546875,
          983.9732666015624,
          987.1976318359376,
          976.3590698242188,
          982.1743774414062,
          977.052001953125,
          974.9545288085938,
          981.4122314453124,
          978.6744995117188,
          978.41552734375,
          978.5435180664062,
          981.0352172851562,
          988.246826171875,
          984.1859130859376,
          978.017333984375,
          980.3125,
          980.6911010742188,
          983.0223999023438,
          984.518310546875,
          993.375,
          982.7115478515624,
          984.4766845703124,
          992.21533203125,
          982.0611572265624,
          988.4158325195312,
          986.8377075195312,
          987.2673950195312,
          984.9222412109376,
          987.7376708984376,
          986.2553100585938,
          978.599365234375,
          988.9610595703124,
          980.9525146484376,
          979.6268310546876,
          986.7803955078124,
          978.9181518554688,
          984.4464721679688,
          984.7093505859376,
          986.0711059570312,
          985.2130737304688,
          988.006103515625,
          977.8536987304688,
          985.8467407226562,
          989.8674926757812,
          980.292724609375,
          986.0239868164062,
          988.590576171875,
          986.7839965820312,
          981.307373046875,
          983.6968994140624,
          984.8444213867188,
          982.98779296875,
          985.7584838867188,
          980.1659545898438,
          983.472900390625,
          982.8452758789062,
          979.4928588867188,
          976.0714721679688,
          980.1817016601562,
          979.9331665039062,
          981.6863403320312,
          980.0113525390624,
          976.5806884765624,
          985.5428466796876,
          979.4171752929688,
          978.2321166992188,
          982.0272827148438,
          980.5106811523438,
          982.4566650390624,
          983.3677978515624,
          983.3764038085938,
          982.183837890625,
          979.0523681640624,
          980.8610229492188,
          984.0192260742188,
          982.290771484375,
          980.1673583984376,
          982.381103515625,
          980.0436401367188,
          977.3115844726562,
          983.6836547851562,
          982.022216796875,
          979.8161010742188,
          983.6331787109376,
          983.1074829101562,
          980.7725830078124,
          983.02197265625,
          980.545166015625,
          979.0332641601562,
          982.0116577148438,
          977.1144409179688,
          983.3788452148438,
          980.3831176757812,
          983.3755493164062,
          982.3167114257812,
          983.6991577148438,
          986.1121215820312,
          983.875732421875,
          981.9385986328124,
          982.9881591796876,
          986.293212890625,
          985.6717529296876,
          983.8601684570312,
          983.3031616210938,
          983.2120971679688,
          983.5409545898438,
          981.5674438476562,
          984.6849365234376,
          982.6384887695312,
          981.705810546875,
          983.3802490234376,
          980.2058715820312,
          985.0852661132812,
          983.3511352539062,
          985.19677734375,
          984.4234008789062,
          981.3146362304688,
          982.807861328125,
          982.7235107421876,
          984.5839233398438,
          981.7545166015624,
          985.583984375,
          982.7111206054688,
          983.5597534179688,
          988.2510986328124,
          983.0723876953124,
          983.3652954101562,
          988.275390625,
          986.411376953125,
          984.0736083984376,
          984.5618896484376,
          982.1790161132812,
          981.1233520507812,
          978.9072875976562,
          984.1704711914062,
          979.4550170898438,
          980.1434326171876,
          984.741455078125,
          984.4490966796876,
          983.20751953125,
          981.6590576171876,
          985.2147827148438,
          983.6176147460938,
          979.6148071289062,
          979.9215087890624,
          985.9930419921876,
          981.7108154296876,
          983.6075439453124,
          982.1744384765624,
          984.4503784179688,
          983.5787353515624,
          983.9629516601562,
          985.1909790039062,
          984.1325073242188,
          986.796875,
          982.929931640625,
          984.9852294921876,
          982.8942260742188,
          980.5547485351562,
          986.85498046875,
          983.4503784179688,
          981.3092041015624,
          981.062744140625,
          981.396728515625,
          982.7243041992188,
          981.721923828125,
          982.463623046875,
          984.0701293945312,
          984.899658203125,
          982.11376953125,
          982.547119140625,
          983.6268920898438,
          983.02490234375,
          985.1590576171876,
          986.7966918945312,
          982.3932495117188,
          983.9663696289062,
          984.748291015625,
          983.2531127929688,
          984.9866943359376,
          981.926025390625,
          984.4283447265624,
          983.8694458007812,
          980.3709106445312,
          986.617919921875,
          983.3035278320312,
          981.9031372070312,
          984.871337890625,
          982.2079467773438,
          981.8236083984376,
          984.45751953125,
          982.7701416015624,
          983.4257202148438,
          984.1217651367188,
          983.5133666992188,
          981.2008666992188,
          983.2572631835938,
          984.7686157226562,
          984.3629150390624,
          982.6874389648438,
          984.8836669921876,
          979.1347045898438,
          979.868408203125,
          983.0387573242188,
          984.4849853515624,
          982.2638549804688,
          983.5244750976562,
          985.1934814453124,
          982.6257934570312,
          986.7926025390624,
          986.3629150390624,
          982.5831298828124,
          985.4147338867188,
          982.6411743164062,
          983.435302734375,
          980.693603515625,
          984.9409790039062,
          982.7493286132812,
          984.5001220703124,
          981.6854248046876,
          981.8148803710938,
          985.324462890625,
          984.6132202148438,
          984.3099365234376,
          982.6516723632812,
          980.7048950195312,
          983.9495849609376,
          988.324951171875,
          980.97412109375,
          983.5448608398438,
          984.63623046875,
          983.6641235351562,
          984.3731079101562,
          986.3493041992188,
          985.85302734375,
          983.0729370117188,
          981.606201171875,
          984.936279296875,
          984.73486328125,
          982.6994018554688,
          983.1849365234376,
          982.36181640625,
          983.9484252929688,
          985.314453125,
          980.762939453125,
          985.52978515625,
          984.4348754882812,
          984.4000854492188,
          984.0797119140624,
          982.1871948242188,
          985.7515869140624,
          982.452880859375,
          982.60302734375,
          982.5724487304688,
          984.9042358398438,
          983.3756103515624,
          980.2032470703124,
          986.76220703125,
          983.9931640625,
          985.5790405273438,
          983.6961059570312,
          983.1489868164062,
          982.5648193359376,
          984.3113403320312,
          983.8809204101562,
          985.155029296875,
          984.9830322265624,
          984.25439453125,
          984.3447875976562,
          985.541748046875,
          982.5219116210938,
          983.4818115234376,
          983.4635009765624,
          985.175537109375,
          985.223876953125,
          985.8883666992188,
          982.6558837890624,
          983.4609985351562,
          986.8323364257812,
          983.0414428710938,
          985.4373168945312,
          984.1016235351562,
          985.3704833984376,
          984.2039794921876,
          984.9043579101562,
          985.0101928710938,
          984.40576171875,
          982.5579833984376,
          985.1754150390624,
          985.9974975585938,
          983.62158203125,
          982.720703125,
          980.54541015625,
          986.732177734375,
          982.8079223632812,
          983.5982666015624,
          983.9967651367188,
          984.8751831054688
         ]
        }
       ],
       "layout": {
        "autosize": true,
        "font": {
         "size": 20
        },
        "template": {
         "data": {
          "bar": [
           {
            "error_x": {
             "color": "rgb(36,36,36)"
            },
            "error_y": {
             "color": "rgb(36,36,36)"
            },
            "marker": {
             "line": {
              "color": "white",
              "width": 0.5
             },
             "pattern": {
              "fillmode": "overlay",
              "size": 10,
              "solidity": 0.2
             }
            },
            "type": "bar"
           }
          ],
          "barpolar": [
           {
            "marker": {
             "line": {
              "color": "white",
              "width": 0.5
             },
             "pattern": {
              "fillmode": "overlay",
              "size": 10,
              "solidity": 0.2
             }
            },
            "type": "barpolar"
           }
          ],
          "carpet": [
           {
            "aaxis": {
             "endlinecolor": "rgb(36,36,36)",
             "gridcolor": "white",
             "linecolor": "white",
             "minorgridcolor": "white",
             "startlinecolor": "rgb(36,36,36)"
            },
            "baxis": {
             "endlinecolor": "rgb(36,36,36)",
             "gridcolor": "white",
             "linecolor": "white",
             "minorgridcolor": "white",
             "startlinecolor": "rgb(36,36,36)"
            },
            "type": "carpet"
           }
          ],
          "choropleth": [
           {
            "colorbar": {
             "outlinewidth": 1,
             "tickcolor": "rgb(36,36,36)",
             "ticks": "outside"
            },
            "type": "choropleth"
           }
          ],
          "contour": [
           {
            "colorbar": {
             "outlinewidth": 1,
             "tickcolor": "rgb(36,36,36)",
             "ticks": "outside"
            },
            "colorscale": [
             [
              0,
              "#440154"
             ],
             [
              0.1111111111111111,
              "#482878"
             ],
             [
              0.2222222222222222,
              "#3e4989"
             ],
             [
              0.3333333333333333,
              "#31688e"
             ],
             [
              0.4444444444444444,
              "#26828e"
             ],
             [
              0.5555555555555556,
              "#1f9e89"
             ],
             [
              0.6666666666666666,
              "#35b779"
             ],
             [
              0.7777777777777778,
              "#6ece58"
             ],
             [
              0.8888888888888888,
              "#b5de2b"
             ],
             [
              1,
              "#fde725"
             ]
            ],
            "type": "contour"
           }
          ],
          "contourcarpet": [
           {
            "colorbar": {
             "outlinewidth": 1,
             "tickcolor": "rgb(36,36,36)",
             "ticks": "outside"
            },
            "type": "contourcarpet"
           }
          ],
          "heatmap": [
           {
            "colorbar": {
             "outlinewidth": 1,
             "tickcolor": "rgb(36,36,36)",
             "ticks": "outside"
            },
            "colorscale": [
             [
              0,
              "#440154"
             ],
             [
              0.1111111111111111,
              "#482878"
             ],
             [
              0.2222222222222222,
              "#3e4989"
             ],
             [
              0.3333333333333333,
              "#31688e"
             ],
             [
              0.4444444444444444,
              "#26828e"
             ],
             [
              0.5555555555555556,
              "#1f9e89"
             ],
             [
              0.6666666666666666,
              "#35b779"
             ],
             [
              0.7777777777777778,
              "#6ece58"
             ],
             [
              0.8888888888888888,
              "#b5de2b"
             ],
             [
              1,
              "#fde725"
             ]
            ],
            "type": "heatmap"
           }
          ],
          "heatmapgl": [
           {
            "colorbar": {
             "outlinewidth": 1,
             "tickcolor": "rgb(36,36,36)",
             "ticks": "outside"
            },
            "colorscale": [
             [
              0,
              "#440154"
             ],
             [
              0.1111111111111111,
              "#482878"
             ],
             [
              0.2222222222222222,
              "#3e4989"
             ],
             [
              0.3333333333333333,
              "#31688e"
             ],
             [
              0.4444444444444444,
              "#26828e"
             ],
             [
              0.5555555555555556,
              "#1f9e89"
             ],
             [
              0.6666666666666666,
              "#35b779"
             ],
             [
              0.7777777777777778,
              "#6ece58"
             ],
             [
              0.8888888888888888,
              "#b5de2b"
             ],
             [
              1,
              "#fde725"
             ]
            ],
            "type": "heatmapgl"
           }
          ],
          "histogram": [
           {
            "marker": {
             "line": {
              "color": "white",
              "width": 0.6
             }
            },
            "type": "histogram"
           }
          ],
          "histogram2d": [
           {
            "colorbar": {
             "outlinewidth": 1,
             "tickcolor": "rgb(36,36,36)",
             "ticks": "outside"
            },
            "colorscale": [
             [
              0,
              "#440154"
             ],
             [
              0.1111111111111111,
              "#482878"
             ],
             [
              0.2222222222222222,
              "#3e4989"
             ],
             [
              0.3333333333333333,
              "#31688e"
             ],
             [
              0.4444444444444444,
              "#26828e"
             ],
             [
              0.5555555555555556,
              "#1f9e89"
             ],
             [
              0.6666666666666666,
              "#35b779"
             ],
             [
              0.7777777777777778,
              "#6ece58"
             ],
             [
              0.8888888888888888,
              "#b5de2b"
             ],
             [
              1,
              "#fde725"
             ]
            ],
            "type": "histogram2d"
           }
          ],
          "histogram2dcontour": [
           {
            "colorbar": {
             "outlinewidth": 1,
             "tickcolor": "rgb(36,36,36)",
             "ticks": "outside"
            },
            "colorscale": [
             [
              0,
              "#440154"
             ],
             [
              0.1111111111111111,
              "#482878"
             ],
             [
              0.2222222222222222,
              "#3e4989"
             ],
             [
              0.3333333333333333,
              "#31688e"
             ],
             [
              0.4444444444444444,
              "#26828e"
             ],
             [
              0.5555555555555556,
              "#1f9e89"
             ],
             [
              0.6666666666666666,
              "#35b779"
             ],
             [
              0.7777777777777778,
              "#6ece58"
             ],
             [
              0.8888888888888888,
              "#b5de2b"
             ],
             [
              1,
              "#fde725"
             ]
            ],
            "type": "histogram2dcontour"
           }
          ],
          "mesh3d": [
           {
            "colorbar": {
             "outlinewidth": 1,
             "tickcolor": "rgb(36,36,36)",
             "ticks": "outside"
            },
            "type": "mesh3d"
           }
          ],
          "parcoords": [
           {
            "line": {
             "colorbar": {
              "outlinewidth": 1,
              "tickcolor": "rgb(36,36,36)",
              "ticks": "outside"
             }
            },
            "type": "parcoords"
           }
          ],
          "pie": [
           {
            "automargin": true,
            "type": "pie"
           }
          ],
          "scatter": [
           {
            "fillpattern": {
             "fillmode": "overlay",
             "size": 10,
             "solidity": 0.2
            },
            "type": "scatter"
           }
          ],
          "scatter3d": [
           {
            "line": {
             "colorbar": {
              "outlinewidth": 1,
              "tickcolor": "rgb(36,36,36)",
              "ticks": "outside"
             }
            },
            "marker": {
             "colorbar": {
              "outlinewidth": 1,
              "tickcolor": "rgb(36,36,36)",
              "ticks": "outside"
             }
            },
            "type": "scatter3d"
           }
          ],
          "scattercarpet": [
           {
            "marker": {
             "colorbar": {
              "outlinewidth": 1,
              "tickcolor": "rgb(36,36,36)",
              "ticks": "outside"
             }
            },
            "type": "scattercarpet"
           }
          ],
          "scattergeo": [
           {
            "marker": {
             "colorbar": {
              "outlinewidth": 1,
              "tickcolor": "rgb(36,36,36)",
              "ticks": "outside"
             }
            },
            "type": "scattergeo"
           }
          ],
          "scattergl": [
           {
            "marker": {
             "colorbar": {
              "outlinewidth": 1,
              "tickcolor": "rgb(36,36,36)",
              "ticks": "outside"
             }
            },
            "type": "scattergl"
           }
          ],
          "scattermapbox": [
           {
            "marker": {
             "colorbar": {
              "outlinewidth": 1,
              "tickcolor": "rgb(36,36,36)",
              "ticks": "outside"
             }
            },
            "type": "scattermapbox"
           }
          ],
          "scatterpolar": [
           {
            "marker": {
             "colorbar": {
              "outlinewidth": 1,
              "tickcolor": "rgb(36,36,36)",
              "ticks": "outside"
             }
            },
            "type": "scatterpolar"
           }
          ],
          "scatterpolargl": [
           {
            "marker": {
             "colorbar": {
              "outlinewidth": 1,
              "tickcolor": "rgb(36,36,36)",
              "ticks": "outside"
             }
            },
            "type": "scatterpolargl"
           }
          ],
          "scatterternary": [
           {
            "marker": {
             "colorbar": {
              "outlinewidth": 1,
              "tickcolor": "rgb(36,36,36)",
              "ticks": "outside"
             }
            },
            "type": "scatterternary"
           }
          ],
          "surface": [
           {
            "colorbar": {
             "outlinewidth": 1,
             "tickcolor": "rgb(36,36,36)",
             "ticks": "outside"
            },
            "colorscale": [
             [
              0,
              "#440154"
             ],
             [
              0.1111111111111111,
              "#482878"
             ],
             [
              0.2222222222222222,
              "#3e4989"
             ],
             [
              0.3333333333333333,
              "#31688e"
             ],
             [
              0.4444444444444444,
              "#26828e"
             ],
             [
              0.5555555555555556,
              "#1f9e89"
             ],
             [
              0.6666666666666666,
              "#35b779"
             ],
             [
              0.7777777777777778,
              "#6ece58"
             ],
             [
              0.8888888888888888,
              "#b5de2b"
             ],
             [
              1,
              "#fde725"
             ]
            ],
            "type": "surface"
           }
          ],
          "table": [
           {
            "cells": {
             "fill": {
              "color": "rgb(237,237,237)"
             },
             "line": {
              "color": "white"
             }
            },
            "header": {
             "fill": {
              "color": "rgb(217,217,217)"
             },
             "line": {
              "color": "white"
             }
            },
            "type": "table"
           }
          ]
         },
         "layout": {
          "annotationdefaults": {
           "arrowhead": 0,
           "arrowwidth": 1
          },
          "autotypenumbers": "strict",
          "coloraxis": {
           "colorbar": {
            "outlinewidth": 1,
            "tickcolor": "rgb(36,36,36)",
            "ticks": "outside"
           }
          },
          "colorscale": {
           "diverging": [
            [
             0,
             "rgb(103,0,31)"
            ],
            [
             0.1,
             "rgb(178,24,43)"
            ],
            [
             0.2,
             "rgb(214,96,77)"
            ],
            [
             0.3,
             "rgb(244,165,130)"
            ],
            [
             0.4,
             "rgb(253,219,199)"
            ],
            [
             0.5,
             "rgb(247,247,247)"
            ],
            [
             0.6,
             "rgb(209,229,240)"
            ],
            [
             0.7,
             "rgb(146,197,222)"
            ],
            [
             0.8,
             "rgb(67,147,195)"
            ],
            [
             0.9,
             "rgb(33,102,172)"
            ],
            [
             1,
             "rgb(5,48,97)"
            ]
           ],
           "sequential": [
            [
             0,
             "#440154"
            ],
            [
             0.1111111111111111,
             "#482878"
            ],
            [
             0.2222222222222222,
             "#3e4989"
            ],
            [
             0.3333333333333333,
             "#31688e"
            ],
            [
             0.4444444444444444,
             "#26828e"
            ],
            [
             0.5555555555555556,
             "#1f9e89"
            ],
            [
             0.6666666666666666,
             "#35b779"
            ],
            [
             0.7777777777777778,
             "#6ece58"
            ],
            [
             0.8888888888888888,
             "#b5de2b"
            ],
            [
             1,
             "#fde725"
            ]
           ],
           "sequentialminus": [
            [
             0,
             "#440154"
            ],
            [
             0.1111111111111111,
             "#482878"
            ],
            [
             0.2222222222222222,
             "#3e4989"
            ],
            [
             0.3333333333333333,
             "#31688e"
            ],
            [
             0.4444444444444444,
             "#26828e"
            ],
            [
             0.5555555555555556,
             "#1f9e89"
            ],
            [
             0.6666666666666666,
             "#35b779"
            ],
            [
             0.7777777777777778,
             "#6ece58"
            ],
            [
             0.8888888888888888,
             "#b5de2b"
            ],
            [
             1,
             "#fde725"
            ]
           ]
          },
          "colorway": [
           "#1F77B4",
           "#FF7F0E",
           "#2CA02C",
           "#D62728",
           "#9467BD",
           "#8C564B",
           "#E377C2",
           "#7F7F7F",
           "#BCBD22",
           "#17BECF"
          ],
          "font": {
           "color": "rgb(36,36,36)"
          },
          "geo": {
           "bgcolor": "white",
           "lakecolor": "white",
           "landcolor": "white",
           "showlakes": true,
           "showland": true,
           "subunitcolor": "white"
          },
          "hoverlabel": {
           "align": "left"
          },
          "hovermode": "closest",
          "mapbox": {
           "style": "light"
          },
          "paper_bgcolor": "white",
          "plot_bgcolor": "white",
          "polar": {
           "angularaxis": {
            "gridcolor": "rgb(232,232,232)",
            "linecolor": "rgb(36,36,36)",
            "showgrid": false,
            "showline": true,
            "ticks": "outside"
           },
           "bgcolor": "white",
           "radialaxis": {
            "gridcolor": "rgb(232,232,232)",
            "linecolor": "rgb(36,36,36)",
            "showgrid": false,
            "showline": true,
            "ticks": "outside"
           }
          },
          "scene": {
           "xaxis": {
            "backgroundcolor": "white",
            "gridcolor": "rgb(232,232,232)",
            "gridwidth": 2,
            "linecolor": "rgb(36,36,36)",
            "showbackground": true,
            "showgrid": false,
            "showline": true,
            "ticks": "outside",
            "zeroline": false,
            "zerolinecolor": "rgb(36,36,36)"
           },
           "yaxis": {
            "backgroundcolor": "white",
            "gridcolor": "rgb(232,232,232)",
            "gridwidth": 2,
            "linecolor": "rgb(36,36,36)",
            "showbackground": true,
            "showgrid": false,
            "showline": true,
            "ticks": "outside",
            "zeroline": false,
            "zerolinecolor": "rgb(36,36,36)"
           },
           "zaxis": {
            "backgroundcolor": "white",
            "gridcolor": "rgb(232,232,232)",
            "gridwidth": 2,
            "linecolor": "rgb(36,36,36)",
            "showbackground": true,
            "showgrid": false,
            "showline": true,
            "ticks": "outside",
            "zeroline": false,
            "zerolinecolor": "rgb(36,36,36)"
           }
          },
          "shapedefaults": {
           "fillcolor": "black",
           "line": {
            "width": 0
           },
           "opacity": 0.3
          },
          "ternary": {
           "aaxis": {
            "gridcolor": "rgb(232,232,232)",
            "linecolor": "rgb(36,36,36)",
            "showgrid": false,
            "showline": true,
            "ticks": "outside"
           },
           "baxis": {
            "gridcolor": "rgb(232,232,232)",
            "linecolor": "rgb(36,36,36)",
            "showgrid": false,
            "showline": true,
            "ticks": "outside"
           },
           "bgcolor": "white",
           "caxis": {
            "gridcolor": "rgb(232,232,232)",
            "linecolor": "rgb(36,36,36)",
            "showgrid": false,
            "showline": true,
            "ticks": "outside"
           }
          },
          "title": {
           "x": 0.05
          },
          "xaxis": {
           "automargin": true,
           "gridcolor": "rgb(232,232,232)",
           "linecolor": "rgb(36,36,36)",
           "showgrid": false,
           "showline": true,
           "ticks": "outside",
           "title": {
            "standoff": 15
           },
           "zeroline": false,
           "zerolinecolor": "rgb(36,36,36)"
          },
          "yaxis": {
           "automargin": true,
           "gridcolor": "rgb(232,232,232)",
           "linecolor": "rgb(36,36,36)",
           "showgrid": false,
           "showline": true,
           "ticks": "outside",
           "title": {
            "standoff": 15
           },
           "zeroline": false,
           "zerolinecolor": "rgb(36,36,36)"
          }
         }
        },
        "xaxis": {
         "showgrid": false,
         "title": {
          "text": "Epoch"
         }
        },
        "yaxis": {
         "showgrid": false
        }
       }
      }
     },
     "metadata": {},
     "output_type": "display_data"
    }
   ],
   "source": [
    "lr_val = go.Scatter(\n",
    "    x=df_lr_epochs_first.index,\n",
    "    y=df_lr_epochs_first[\"val/loss/shg_tensor_full\"],\n",
    "    mode=\"lines+markers\",\n",
    "    name=\"Validation loss\",\n",
    "    showlegend=True,\n",
    ")\n",
    "lr_train = go.Scatter(\n",
    "    x=df_lr_epochs_second.index,\n",
    "    y=df_lr_epochs_second[\"train/loss/shg_tensor_full\"],\n",
    "    mode=\"lines+markers\",\n",
    "    name=\"Train loss\",\n",
    "    showlegend=True,\n",
    ")\n",
    "\n",
    "# Layout\n",
    "layout = go.Layout(\n",
    "    # title=dict(text='Scatter Plot'),\n",
    "    xaxis=dict(title=\"Epoch\"),\n",
    "    # yaxis=dict(title='<i>d&#770;</i><sub>KP</sub> (pm/V)', range=[-5,180]),\n",
    "    # legend=dict(font=dict(size=12)),\n",
    ")\n",
    "\n",
    "# Create figure\n",
    "fig = go.Figure(data=[lr_train, lr_val], layout=layout)\n",
    "\n",
    "fig.update_layout(\n",
    "    autosize=True,\n",
    "    font_size=20,\n",
    "    # width=600,\n",
    "    # height=600,\n",
    "    # plot_bgcolor=\"white\",\n",
    "    template=\"simple_white\",\n",
    ")\n",
    "fig.update_layout(\n",
    "    xaxis=dict(\n",
    "        # tickmode = 'array',\n",
    "        # tickvals = [1, 2,3,4,5,6,7,8],\n",
    "        # ticktext = ['One', 'Three', 'Five', 'Seven', 'Nine', 'Eleven']\n",
    "        showgrid=False,\n",
    "    ),\n",
    "    yaxis=dict(\n",
    "        # tickmode = 'array',\n",
    "        # tickvals = [1, 2,3,4,5,6,7,8],\n",
    "        # ticktext = ['One', 'Three', 'Five', 'Seven', 'Nine', 'Eleven']\n",
    "        showgrid=False,\n",
    "    ),\n",
    ")\n",
    "\n",
    "# Show figure\n",
    "fig.show()"
   ]
  },
  {
   "cell_type": "markdown",
   "metadata": {},
   "source": [
    "## MAE"
   ]
  },
  {
   "cell_type": "code",
   "execution_count": 8,
   "metadata": {},
   "outputs": [
    {
     "data": {
      "application/vnd.plotly.v1+json": {
       "config": {
        "plotlyServerURL": "https://plot.ly"
       },
       "data": [
        {
         "mode": "lines+markers",
         "name": "Validation loss",
         "showlegend": true,
         "type": "scatter",
         "x": [
          0,
          1,
          2,
          3,
          4,
          5,
          6,
          7,
          8,
          9,
          10,
          11,
          12,
          13,
          14,
          15,
          16,
          17,
          18,
          19,
          20,
          21,
          22,
          23,
          24,
          25,
          26,
          27,
          28,
          29,
          30,
          31,
          32,
          33,
          34,
          35,
          36,
          37,
          38,
          39,
          40,
          41,
          42,
          43,
          44,
          45,
          46,
          47,
          48,
          49,
          50,
          51,
          52,
          53,
          54,
          55,
          56,
          57,
          58,
          59,
          60,
          61,
          62,
          63,
          64,
          65,
          66,
          67,
          68,
          69,
          70,
          71,
          72,
          73,
          74,
          75,
          76,
          77,
          78,
          79,
          80,
          81,
          82,
          83,
          84,
          85,
          86,
          87,
          88,
          89,
          90,
          91,
          92,
          93,
          94,
          95,
          96,
          97,
          98,
          99,
          100,
          101,
          102,
          103,
          104,
          105,
          106,
          107,
          108,
          109,
          110,
          111,
          112,
          113,
          114,
          115,
          116,
          117,
          118,
          119,
          120,
          121,
          122,
          123,
          124,
          125,
          126,
          127,
          128,
          129,
          130,
          131,
          132,
          133,
          134,
          135,
          136,
          137,
          138,
          139,
          140,
          141,
          142,
          143,
          144,
          145,
          146,
          147,
          148,
          149,
          150,
          151,
          152,
          153,
          154,
          155,
          156,
          157,
          158,
          159,
          160,
          161,
          162,
          163,
          164,
          165,
          166,
          167,
          168,
          169,
          170,
          171,
          172,
          173,
          174,
          175,
          176,
          177,
          178,
          179,
          180,
          181,
          182,
          183,
          184,
          185,
          186,
          187,
          188,
          189,
          190,
          191,
          192,
          193,
          194,
          195,
          196,
          197,
          198,
          199,
          200,
          201,
          202,
          203,
          204,
          205,
          206,
          207,
          208,
          209,
          210,
          211,
          212,
          213,
          214,
          215,
          216,
          217,
          218,
          219,
          220,
          221,
          222,
          223,
          224,
          225,
          226,
          227,
          228,
          229,
          230,
          231,
          232,
          233,
          234,
          235,
          236,
          237,
          238,
          239,
          240,
          241,
          242,
          243,
          244,
          245,
          246,
          247,
          248,
          249,
          250,
          251,
          252,
          253,
          254,
          255,
          256,
          257,
          258,
          259,
          260,
          261,
          262,
          263,
          264,
          265,
          266,
          267,
          268,
          269,
          270,
          271,
          272,
          273,
          274,
          275,
          276,
          277,
          278,
          279,
          280,
          281,
          282,
          283,
          284,
          285,
          286,
          287,
          288,
          289,
          290,
          291,
          292,
          293,
          294,
          295,
          296,
          297,
          298,
          299,
          300,
          301,
          302,
          303,
          304,
          305,
          306,
          307,
          308,
          309,
          310,
          311,
          312,
          313,
          314,
          315,
          316,
          317,
          318,
          319,
          320,
          321,
          322,
          323,
          324,
          325,
          326,
          327,
          328,
          329,
          330,
          331,
          332,
          333,
          334,
          335,
          336,
          337,
          338,
          339,
          340,
          341,
          342,
          343,
          344,
          345,
          346,
          347,
          348,
          349,
          350,
          351,
          352,
          353,
          354,
          355,
          356,
          357,
          358,
          359,
          360,
          361,
          362,
          363,
          364,
          365,
          366,
          367,
          368,
          369,
          370,
          371,
          372,
          373,
          374,
          375,
          376,
          377,
          378,
          379,
          380,
          381,
          382,
          383,
          384,
          385,
          386,
          387,
          388,
          389,
          390,
          391,
          392,
          393,
          394,
          395,
          396,
          397,
          398,
          399,
          400,
          401,
          402,
          403,
          404,
          405,
          406,
          407,
          408,
          409,
          410,
          411,
          412,
          413,
          414,
          415,
          416,
          417,
          418,
          419,
          420,
          421,
          422,
          423,
          424,
          425,
          426,
          427,
          428,
          429,
          430,
          431,
          432,
          433,
          434,
          435,
          436,
          437,
          438,
          439,
          440,
          441,
          442,
          443,
          444,
          445,
          446,
          447,
          448,
          449,
          450,
          451,
          452,
          453,
          454,
          455,
          456,
          457,
          458,
          459,
          460,
          461,
          462,
          463,
          464,
          465,
          466,
          467,
          468,
          469,
          470,
          471,
          472,
          473,
          474,
          475,
          476,
          477,
          478,
          479,
          480,
          481,
          482,
          483,
          484,
          485,
          486,
          487,
          488,
          489,
          490,
          491,
          492,
          493,
          494,
          495,
          496,
          497,
          498,
          499
         ],
         "y": [
          6.472612380981445,
          6.761094570159912,
          6.942075729370117,
          6.654157638549805,
          6.479339122772217,
          6.457290172576904,
          6.626884937286377,
          6.810443878173828,
          6.698010921478272,
          6.804361820220947,
          6.79636812210083,
          6.806049823760986,
          6.723226547241211,
          6.822590827941895,
          6.791935920715332,
          6.587696075439453,
          6.649885177612305,
          6.761931419372559,
          6.7149529457092285,
          6.682302951812744,
          6.822947502136231,
          6.766197681427002,
          6.6033782958984375,
          6.777065753936768,
          6.604103088378906,
          6.676974773406982,
          6.830589294433594,
          6.681050777435303,
          6.602193832397461,
          6.7283244132995605,
          6.801104068756104,
          6.883517265319824,
          6.821617126464844,
          6.8698554039001465,
          6.616393089294434,
          6.832723617553711,
          6.701988220214844,
          6.933445930480957,
          6.659649848937988,
          6.845129013061523,
          6.623377323150635,
          6.665617942810059,
          6.669217109680176,
          6.71749210357666,
          6.565755367279053,
          6.703821659088135,
          6.378624439239502,
          6.66335916519165,
          6.684409141540527,
          6.706982612609863,
          6.784224987030029,
          6.701550006866455,
          6.828522682189941,
          6.850185871124268,
          6.751342296600342,
          6.951821327209473,
          6.7091875076293945,
          6.815054893493652,
          6.853815078735352,
          6.758800029754639,
          6.82383918762207,
          6.715562343597412,
          6.7567291259765625,
          6.817641258239746,
          6.802609443664551,
          6.651216506958008,
          6.892422676086426,
          6.754652976989746,
          6.870536804199219,
          6.815174102783203,
          6.84911584854126,
          6.93010950088501,
          6.769351005554199,
          6.828076362609863,
          6.645174980163574,
          6.933956146240234,
          6.763423442840576,
          6.847616195678711,
          6.653645992279053,
          7.134496688842773,
          6.747287273406982,
          6.74001407623291,
          6.767103672027588,
          6.784287452697754,
          7.073960304260254,
          6.941544532775879,
          6.955613136291504,
          6.972803115844727,
          6.832193851470947,
          6.819989204406738,
          6.771078109741211,
          6.867354869842529,
          6.826127529144287,
          6.804136753082275,
          6.825685977935791,
          6.7560014724731445,
          7.009003162384033,
          6.999961853027344,
          6.742551326751709,
          6.851064682006836,
          6.851805686950684,
          6.886941432952881,
          6.832220077514648,
          6.900732040405273,
          6.910807132720947,
          6.93947172164917,
          6.871524333953857,
          6.895177364349365,
          6.922459602355957,
          6.899042129516602,
          6.893543720245361,
          6.908536911010742,
          6.892415523529053,
          6.943556308746338,
          6.923302173614502,
          6.894134521484375,
          6.950953960418701,
          6.929895877838135,
          6.902790069580078,
          6.956190586090088,
          6.910947799682617,
          7.0416259765625,
          6.945138931274414,
          6.960648536682129,
          7.004873275756836,
          6.986039638519287,
          6.952479839324951,
          6.884260177612305,
          7.033644676208496,
          6.937939643859863,
          6.98995304107666,
          7.0006422996521,
          7.090932846069336,
          6.940306186676025,
          6.990620136260986,
          7.015977382659912,
          6.978851795196533,
          6.986489772796631,
          6.963443756103516,
          7.011462688446045,
          6.89327335357666,
          7.061224937438965,
          7.0341796875,
          6.969649314880371,
          7.023265838623047,
          7.056779861450195,
          6.947954654693604,
          7.089815616607666,
          7.015663146972656,
          6.996317386627197,
          7.106638908386231,
          7.078296661376953,
          7.00921630859375,
          7.060223579406738,
          7.043421745300293,
          7.07210636138916,
          7.022536754608154,
          7.072083473205566,
          7.033357620239258,
          7.036487579345703,
          7.027809143066406,
          7.05129861831665,
          7.032657623291016,
          7.031648635864258,
          7.0426788330078125,
          7.069738388061523,
          7.031199455261231,
          7.026731014251709,
          7.100028038024902,
          7.085323333740234,
          7.033437728881836,
          7.049540519714356,
          7.103464126586914,
          7.083954811096191,
          7.071117401123047,
          7.094479560852051,
          7.082022666931152,
          7.075312614440918,
          7.075377941131592,
          7.081470966339111,
          7.057404041290283,
          7.106634140014648,
          7.093862533569336,
          7.061219692230225,
          7.093267917633057,
          7.098690509796143,
          7.088307857513428,
          7.100124835968018,
          7.1217546463012695,
          7.082454681396484,
          7.113288879394531,
          7.09995174407959,
          7.109037399291992,
          7.141715049743652,
          7.067511081695557,
          7.10882568359375,
          7.10932731628418,
          7.08989143371582,
          7.148572444915772,
          7.11173677444458,
          7.117954730987549,
          7.1023454666137695,
          7.124576568603516,
          7.114677906036377,
          7.15137243270874,
          7.099486827850342,
          7.121245384216309,
          7.1097822189331055,
          7.12722110748291,
          7.113434314727783,
          7.126441478729248,
          7.12347412109375,
          7.103397846221924,
          7.130096912384033,
          7.12930154800415,
          7.164887428283691,
          7.161887645721436,
          7.144560813903809,
          7.169347763061523,
          7.163928031921387,
          7.186272621154785,
          7.162602424621582,
          7.1441826820373535,
          7.143544673919678,
          7.17970609664917,
          7.144421100616455,
          7.157783031463623,
          7.171078205108643,
          7.155196666717529,
          7.197705268859863,
          7.168951511383057,
          7.172884941101074,
          7.144289016723633,
          7.188437461853027,
          7.134138107299805,
          7.132796764373779,
          7.175406455993652,
          7.151811122894287,
          7.17814826965332,
          7.185101509094238,
          7.190115451812744,
          7.176454544067383,
          7.179874420166016,
          7.183445930480957,
          7.177203178405762,
          7.184554100036621,
          7.15900993347168,
          7.193695545196533,
          7.175665855407715,
          7.198625564575195,
          7.136662483215332,
          7.167042255401611,
          7.179379463195801,
          7.1606764793396,
          7.2097392082214355,
          7.153899192810059,
          7.171638488769531,
          7.161971092224121,
          7.163124084472656,
          7.12649393081665,
          7.165676593780518,
          7.159517288208008,
          7.147278308868408,
          7.160217761993408,
          7.139777183532715,
          7.19069242477417,
          7.169227123260498,
          7.123765468597412,
          7.156973361968994,
          7.145360946655273,
          7.1700053215026855,
          7.170312404632568,
          7.1614532470703125,
          7.181141376495361,
          7.171093940734863,
          7.177525043487549,
          7.207672595977783,
          7.1833343505859375,
          7.162150859832764,
          7.182471752166748,
          7.1785430908203125,
          7.158320426940918,
          7.194374084472656,
          7.191255569458008,
          7.175257205963135,
          7.178958415985107,
          7.1896586418151855,
          7.158310890197754,
          7.1833343505859375,
          7.182285785675049,
          7.164087295532227,
          7.18766975402832,
          7.161491394042969,
          7.195965766906738,
          7.183171272277832,
          7.194373607635498,
          7.182565689086914,
          7.190117359161377,
          7.189953804016113,
          7.18485164642334,
          7.157247543334961,
          7.197298526763916,
          7.226492404937744,
          7.20506477355957,
          7.169692993164063,
          7.206473350524902,
          7.210336685180664,
          7.191476345062256,
          7.214252948760986,
          7.2034101486206055,
          7.187954902648926,
          7.1736345291137695,
          7.209488391876221,
          7.17236852645874,
          7.207366466522217,
          7.1774210929870605,
          7.203401565551758,
          7.193256378173828,
          7.181523323059082,
          7.184805393218994,
          7.186646938323975,
          7.197623252868652,
          7.202107906341553,
          7.184654712677002,
          7.209182739257812,
          7.213468551635742,
          7.244688510894775,
          7.214449882507324,
          7.198495388031006,
          7.21425724029541,
          7.2078857421875,
          7.224225997924805,
          7.199692249298096,
          7.184441566467285,
          7.175642013549805,
          7.191105365753174,
          7.195549011230469,
          7.2112016677856445,
          7.208632946014404,
          7.222217082977295,
          7.20918607711792,
          7.215946674346924,
          7.198988437652588,
          7.20969820022583,
          7.225430488586426,
          7.184823513031006,
          7.182658672332764,
          7.213412284851074,
          7.205762386322021,
          7.20874547958374,
          7.214542865753174,
          7.206542015075684,
          7.200615406036377,
          7.198458671569824,
          7.204336643218994,
          7.201408386230469,
          7.220783710479736,
          7.197117328643799,
          7.213563919067383,
          7.2057085037231445,
          7.158485889434815,
          7.217841625213623,
          7.201158046722412,
          7.20323657989502,
          7.184299945831299,
          7.2009477615356445,
          7.221482753753662,
          7.208963871002197,
          7.214395523071289,
          7.236109256744385,
          7.215856075286865,
          7.207202434539795,
          7.194918632507324,
          7.213701725006103,
          7.212258815765381,
          7.208672046661377,
          7.239848613739014,
          7.223872661590576,
          7.218754768371582,
          7.202413082122803,
          7.200586795806885,
          7.213788986206055,
          7.205528259277344,
          7.212307929992676,
          7.210278034210205,
          7.16975212097168,
          7.227142810821533,
          7.218757629394531,
          7.201700687408447,
          7.231310367584228,
          7.22848653793335,
          7.211207866668701,
          7.216540813446045,
          7.187707901000977,
          7.216424942016602,
          7.215855598449707,
          7.213165760040283,
          7.194149017333984,
          7.226111888885498,
          7.206913471221924,
          7.244901657104492,
          7.209117412567139,
          7.220228672027588,
          7.199781894683838,
          7.228639125823975,
          7.20559549331665,
          7.215032577514648,
          7.208179473876953,
          7.207892417907715,
          7.232710838317871,
          7.23850679397583,
          7.209992408752441,
          7.214134216308594,
          7.194459438323975,
          7.206751346588135,
          7.20501708984375,
          7.244790077209473,
          7.199493885040283,
          7.217216491699219,
          7.215860843658447,
          7.217202186584473,
          7.212787628173828,
          7.19543981552124,
          7.243599891662598,
          7.248315811157227,
          7.22606086730957,
          7.228901386260986,
          7.222385883331299,
          7.233997821807861,
          7.241985321044922,
          7.183591365814209,
          7.218924045562744,
          7.2467451095581055,
          7.232003688812256,
          7.218464851379394,
          7.243940830230713,
          7.238429069519043,
          7.221119403839111,
          7.208199977874756,
          7.233184337615967,
          7.231812477111816,
          7.2296271324157715,
          7.215886116027832,
          7.208773612976074,
          7.249828338623047,
          7.254038333892822,
          7.215078353881836,
          7.22654914855957,
          7.216617107391357,
          7.230471134185791,
          7.21605920791626,
          7.203402996063232,
          7.233843803405762,
          7.211184978485107,
          7.209875106811523,
          7.221043109893799,
          7.223662376403809,
          7.22857666015625,
          7.193400859832764,
          7.228934288024902,
          7.227784156799316,
          7.25226879119873,
          7.216373443603516,
          7.21802806854248,
          7.216781139373779,
          7.213618755340576,
          7.216037273406982,
          7.229297637939453,
          7.221935272216797,
          7.19915771484375,
          7.213082790374756,
          7.225249290466309,
          7.226382732391357,
          7.212760925292969,
          7.201100826263428,
          7.22305154800415,
          7.226620197296143,
          7.228357791900635,
          7.221122741699219,
          7.214712619781494,
          7.2235822677612305,
          7.228837490081787,
          7.219268798828125,
          7.231063365936279,
          7.222756385803223,
          7.219089031219482,
          7.238692283630371,
          7.219581127166748,
          7.212441444396973,
          7.210952281951904,
          7.226157188415527,
          7.240281105041504,
          7.229830265045166,
          7.20920467376709,
          7.209355354309082,
          7.252053260803223,
          7.219076633453369,
          7.253377914428711,
          7.237867832183838,
          7.227089881896973
         ]
        }
       ],
       "layout": {
        "autosize": true,
        "font": {
         "size": 20
        },
        "template": {
         "data": {
          "bar": [
           {
            "error_x": {
             "color": "rgb(36,36,36)"
            },
            "error_y": {
             "color": "rgb(36,36,36)"
            },
            "marker": {
             "line": {
              "color": "white",
              "width": 0.5
             },
             "pattern": {
              "fillmode": "overlay",
              "size": 10,
              "solidity": 0.2
             }
            },
            "type": "bar"
           }
          ],
          "barpolar": [
           {
            "marker": {
             "line": {
              "color": "white",
              "width": 0.5
             },
             "pattern": {
              "fillmode": "overlay",
              "size": 10,
              "solidity": 0.2
             }
            },
            "type": "barpolar"
           }
          ],
          "carpet": [
           {
            "aaxis": {
             "endlinecolor": "rgb(36,36,36)",
             "gridcolor": "white",
             "linecolor": "white",
             "minorgridcolor": "white",
             "startlinecolor": "rgb(36,36,36)"
            },
            "baxis": {
             "endlinecolor": "rgb(36,36,36)",
             "gridcolor": "white",
             "linecolor": "white",
             "minorgridcolor": "white",
             "startlinecolor": "rgb(36,36,36)"
            },
            "type": "carpet"
           }
          ],
          "choropleth": [
           {
            "colorbar": {
             "outlinewidth": 1,
             "tickcolor": "rgb(36,36,36)",
             "ticks": "outside"
            },
            "type": "choropleth"
           }
          ],
          "contour": [
           {
            "colorbar": {
             "outlinewidth": 1,
             "tickcolor": "rgb(36,36,36)",
             "ticks": "outside"
            },
            "colorscale": [
             [
              0,
              "#440154"
             ],
             [
              0.1111111111111111,
              "#482878"
             ],
             [
              0.2222222222222222,
              "#3e4989"
             ],
             [
              0.3333333333333333,
              "#31688e"
             ],
             [
              0.4444444444444444,
              "#26828e"
             ],
             [
              0.5555555555555556,
              "#1f9e89"
             ],
             [
              0.6666666666666666,
              "#35b779"
             ],
             [
              0.7777777777777778,
              "#6ece58"
             ],
             [
              0.8888888888888888,
              "#b5de2b"
             ],
             [
              1,
              "#fde725"
             ]
            ],
            "type": "contour"
           }
          ],
          "contourcarpet": [
           {
            "colorbar": {
             "outlinewidth": 1,
             "tickcolor": "rgb(36,36,36)",
             "ticks": "outside"
            },
            "type": "contourcarpet"
           }
          ],
          "heatmap": [
           {
            "colorbar": {
             "outlinewidth": 1,
             "tickcolor": "rgb(36,36,36)",
             "ticks": "outside"
            },
            "colorscale": [
             [
              0,
              "#440154"
             ],
             [
              0.1111111111111111,
              "#482878"
             ],
             [
              0.2222222222222222,
              "#3e4989"
             ],
             [
              0.3333333333333333,
              "#31688e"
             ],
             [
              0.4444444444444444,
              "#26828e"
             ],
             [
              0.5555555555555556,
              "#1f9e89"
             ],
             [
              0.6666666666666666,
              "#35b779"
             ],
             [
              0.7777777777777778,
              "#6ece58"
             ],
             [
              0.8888888888888888,
              "#b5de2b"
             ],
             [
              1,
              "#fde725"
             ]
            ],
            "type": "heatmap"
           }
          ],
          "heatmapgl": [
           {
            "colorbar": {
             "outlinewidth": 1,
             "tickcolor": "rgb(36,36,36)",
             "ticks": "outside"
            },
            "colorscale": [
             [
              0,
              "#440154"
             ],
             [
              0.1111111111111111,
              "#482878"
             ],
             [
              0.2222222222222222,
              "#3e4989"
             ],
             [
              0.3333333333333333,
              "#31688e"
             ],
             [
              0.4444444444444444,
              "#26828e"
             ],
             [
              0.5555555555555556,
              "#1f9e89"
             ],
             [
              0.6666666666666666,
              "#35b779"
             ],
             [
              0.7777777777777778,
              "#6ece58"
             ],
             [
              0.8888888888888888,
              "#b5de2b"
             ],
             [
              1,
              "#fde725"
             ]
            ],
            "type": "heatmapgl"
           }
          ],
          "histogram": [
           {
            "marker": {
             "line": {
              "color": "white",
              "width": 0.6
             }
            },
            "type": "histogram"
           }
          ],
          "histogram2d": [
           {
            "colorbar": {
             "outlinewidth": 1,
             "tickcolor": "rgb(36,36,36)",
             "ticks": "outside"
            },
            "colorscale": [
             [
              0,
              "#440154"
             ],
             [
              0.1111111111111111,
              "#482878"
             ],
             [
              0.2222222222222222,
              "#3e4989"
             ],
             [
              0.3333333333333333,
              "#31688e"
             ],
             [
              0.4444444444444444,
              "#26828e"
             ],
             [
              0.5555555555555556,
              "#1f9e89"
             ],
             [
              0.6666666666666666,
              "#35b779"
             ],
             [
              0.7777777777777778,
              "#6ece58"
             ],
             [
              0.8888888888888888,
              "#b5de2b"
             ],
             [
              1,
              "#fde725"
             ]
            ],
            "type": "histogram2d"
           }
          ],
          "histogram2dcontour": [
           {
            "colorbar": {
             "outlinewidth": 1,
             "tickcolor": "rgb(36,36,36)",
             "ticks": "outside"
            },
            "colorscale": [
             [
              0,
              "#440154"
             ],
             [
              0.1111111111111111,
              "#482878"
             ],
             [
              0.2222222222222222,
              "#3e4989"
             ],
             [
              0.3333333333333333,
              "#31688e"
             ],
             [
              0.4444444444444444,
              "#26828e"
             ],
             [
              0.5555555555555556,
              "#1f9e89"
             ],
             [
              0.6666666666666666,
              "#35b779"
             ],
             [
              0.7777777777777778,
              "#6ece58"
             ],
             [
              0.8888888888888888,
              "#b5de2b"
             ],
             [
              1,
              "#fde725"
             ]
            ],
            "type": "histogram2dcontour"
           }
          ],
          "mesh3d": [
           {
            "colorbar": {
             "outlinewidth": 1,
             "tickcolor": "rgb(36,36,36)",
             "ticks": "outside"
            },
            "type": "mesh3d"
           }
          ],
          "parcoords": [
           {
            "line": {
             "colorbar": {
              "outlinewidth": 1,
              "tickcolor": "rgb(36,36,36)",
              "ticks": "outside"
             }
            },
            "type": "parcoords"
           }
          ],
          "pie": [
           {
            "automargin": true,
            "type": "pie"
           }
          ],
          "scatter": [
           {
            "fillpattern": {
             "fillmode": "overlay",
             "size": 10,
             "solidity": 0.2
            },
            "type": "scatter"
           }
          ],
          "scatter3d": [
           {
            "line": {
             "colorbar": {
              "outlinewidth": 1,
              "tickcolor": "rgb(36,36,36)",
              "ticks": "outside"
             }
            },
            "marker": {
             "colorbar": {
              "outlinewidth": 1,
              "tickcolor": "rgb(36,36,36)",
              "ticks": "outside"
             }
            },
            "type": "scatter3d"
           }
          ],
          "scattercarpet": [
           {
            "marker": {
             "colorbar": {
              "outlinewidth": 1,
              "tickcolor": "rgb(36,36,36)",
              "ticks": "outside"
             }
            },
            "type": "scattercarpet"
           }
          ],
          "scattergeo": [
           {
            "marker": {
             "colorbar": {
              "outlinewidth": 1,
              "tickcolor": "rgb(36,36,36)",
              "ticks": "outside"
             }
            },
            "type": "scattergeo"
           }
          ],
          "scattergl": [
           {
            "marker": {
             "colorbar": {
              "outlinewidth": 1,
              "tickcolor": "rgb(36,36,36)",
              "ticks": "outside"
             }
            },
            "type": "scattergl"
           }
          ],
          "scattermapbox": [
           {
            "marker": {
             "colorbar": {
              "outlinewidth": 1,
              "tickcolor": "rgb(36,36,36)",
              "ticks": "outside"
             }
            },
            "type": "scattermapbox"
           }
          ],
          "scatterpolar": [
           {
            "marker": {
             "colorbar": {
              "outlinewidth": 1,
              "tickcolor": "rgb(36,36,36)",
              "ticks": "outside"
             }
            },
            "type": "scatterpolar"
           }
          ],
          "scatterpolargl": [
           {
            "marker": {
             "colorbar": {
              "outlinewidth": 1,
              "tickcolor": "rgb(36,36,36)",
              "ticks": "outside"
             }
            },
            "type": "scatterpolargl"
           }
          ],
          "scatterternary": [
           {
            "marker": {
             "colorbar": {
              "outlinewidth": 1,
              "tickcolor": "rgb(36,36,36)",
              "ticks": "outside"
             }
            },
            "type": "scatterternary"
           }
          ],
          "surface": [
           {
            "colorbar": {
             "outlinewidth": 1,
             "tickcolor": "rgb(36,36,36)",
             "ticks": "outside"
            },
            "colorscale": [
             [
              0,
              "#440154"
             ],
             [
              0.1111111111111111,
              "#482878"
             ],
             [
              0.2222222222222222,
              "#3e4989"
             ],
             [
              0.3333333333333333,
              "#31688e"
             ],
             [
              0.4444444444444444,
              "#26828e"
             ],
             [
              0.5555555555555556,
              "#1f9e89"
             ],
             [
              0.6666666666666666,
              "#35b779"
             ],
             [
              0.7777777777777778,
              "#6ece58"
             ],
             [
              0.8888888888888888,
              "#b5de2b"
             ],
             [
              1,
              "#fde725"
             ]
            ],
            "type": "surface"
           }
          ],
          "table": [
           {
            "cells": {
             "fill": {
              "color": "rgb(237,237,237)"
             },
             "line": {
              "color": "white"
             }
            },
            "header": {
             "fill": {
              "color": "rgb(217,217,217)"
             },
             "line": {
              "color": "white"
             }
            },
            "type": "table"
           }
          ]
         },
         "layout": {
          "annotationdefaults": {
           "arrowhead": 0,
           "arrowwidth": 1
          },
          "autotypenumbers": "strict",
          "coloraxis": {
           "colorbar": {
            "outlinewidth": 1,
            "tickcolor": "rgb(36,36,36)",
            "ticks": "outside"
           }
          },
          "colorscale": {
           "diverging": [
            [
             0,
             "rgb(103,0,31)"
            ],
            [
             0.1,
             "rgb(178,24,43)"
            ],
            [
             0.2,
             "rgb(214,96,77)"
            ],
            [
             0.3,
             "rgb(244,165,130)"
            ],
            [
             0.4,
             "rgb(253,219,199)"
            ],
            [
             0.5,
             "rgb(247,247,247)"
            ],
            [
             0.6,
             "rgb(209,229,240)"
            ],
            [
             0.7,
             "rgb(146,197,222)"
            ],
            [
             0.8,
             "rgb(67,147,195)"
            ],
            [
             0.9,
             "rgb(33,102,172)"
            ],
            [
             1,
             "rgb(5,48,97)"
            ]
           ],
           "sequential": [
            [
             0,
             "#440154"
            ],
            [
             0.1111111111111111,
             "#482878"
            ],
            [
             0.2222222222222222,
             "#3e4989"
            ],
            [
             0.3333333333333333,
             "#31688e"
            ],
            [
             0.4444444444444444,
             "#26828e"
            ],
            [
             0.5555555555555556,
             "#1f9e89"
            ],
            [
             0.6666666666666666,
             "#35b779"
            ],
            [
             0.7777777777777778,
             "#6ece58"
            ],
            [
             0.8888888888888888,
             "#b5de2b"
            ],
            [
             1,
             "#fde725"
            ]
           ],
           "sequentialminus": [
            [
             0,
             "#440154"
            ],
            [
             0.1111111111111111,
             "#482878"
            ],
            [
             0.2222222222222222,
             "#3e4989"
            ],
            [
             0.3333333333333333,
             "#31688e"
            ],
            [
             0.4444444444444444,
             "#26828e"
            ],
            [
             0.5555555555555556,
             "#1f9e89"
            ],
            [
             0.6666666666666666,
             "#35b779"
            ],
            [
             0.7777777777777778,
             "#6ece58"
            ],
            [
             0.8888888888888888,
             "#b5de2b"
            ],
            [
             1,
             "#fde725"
            ]
           ]
          },
          "colorway": [
           "#1F77B4",
           "#FF7F0E",
           "#2CA02C",
           "#D62728",
           "#9467BD",
           "#8C564B",
           "#E377C2",
           "#7F7F7F",
           "#BCBD22",
           "#17BECF"
          ],
          "font": {
           "color": "rgb(36,36,36)"
          },
          "geo": {
           "bgcolor": "white",
           "lakecolor": "white",
           "landcolor": "white",
           "showlakes": true,
           "showland": true,
           "subunitcolor": "white"
          },
          "hoverlabel": {
           "align": "left"
          },
          "hovermode": "closest",
          "mapbox": {
           "style": "light"
          },
          "paper_bgcolor": "white",
          "plot_bgcolor": "white",
          "polar": {
           "angularaxis": {
            "gridcolor": "rgb(232,232,232)",
            "linecolor": "rgb(36,36,36)",
            "showgrid": false,
            "showline": true,
            "ticks": "outside"
           },
           "bgcolor": "white",
           "radialaxis": {
            "gridcolor": "rgb(232,232,232)",
            "linecolor": "rgb(36,36,36)",
            "showgrid": false,
            "showline": true,
            "ticks": "outside"
           }
          },
          "scene": {
           "xaxis": {
            "backgroundcolor": "white",
            "gridcolor": "rgb(232,232,232)",
            "gridwidth": 2,
            "linecolor": "rgb(36,36,36)",
            "showbackground": true,
            "showgrid": false,
            "showline": true,
            "ticks": "outside",
            "zeroline": false,
            "zerolinecolor": "rgb(36,36,36)"
           },
           "yaxis": {
            "backgroundcolor": "white",
            "gridcolor": "rgb(232,232,232)",
            "gridwidth": 2,
            "linecolor": "rgb(36,36,36)",
            "showbackground": true,
            "showgrid": false,
            "showline": true,
            "ticks": "outside",
            "zeroline": false,
            "zerolinecolor": "rgb(36,36,36)"
           },
           "zaxis": {
            "backgroundcolor": "white",
            "gridcolor": "rgb(232,232,232)",
            "gridwidth": 2,
            "linecolor": "rgb(36,36,36)",
            "showbackground": true,
            "showgrid": false,
            "showline": true,
            "ticks": "outside",
            "zeroline": false,
            "zerolinecolor": "rgb(36,36,36)"
           }
          },
          "shapedefaults": {
           "fillcolor": "black",
           "line": {
            "width": 0
           },
           "opacity": 0.3
          },
          "ternary": {
           "aaxis": {
            "gridcolor": "rgb(232,232,232)",
            "linecolor": "rgb(36,36,36)",
            "showgrid": false,
            "showline": true,
            "ticks": "outside"
           },
           "baxis": {
            "gridcolor": "rgb(232,232,232)",
            "linecolor": "rgb(36,36,36)",
            "showgrid": false,
            "showline": true,
            "ticks": "outside"
           },
           "bgcolor": "white",
           "caxis": {
            "gridcolor": "rgb(232,232,232)",
            "linecolor": "rgb(36,36,36)",
            "showgrid": false,
            "showline": true,
            "ticks": "outside"
           }
          },
          "title": {
           "x": 0.05
          },
          "xaxis": {
           "automargin": true,
           "gridcolor": "rgb(232,232,232)",
           "linecolor": "rgb(36,36,36)",
           "showgrid": false,
           "showline": true,
           "ticks": "outside",
           "title": {
            "standoff": 15
           },
           "zeroline": false,
           "zerolinecolor": "rgb(36,36,36)"
          },
          "yaxis": {
           "automargin": true,
           "gridcolor": "rgb(232,232,232)",
           "linecolor": "rgb(36,36,36)",
           "showgrid": false,
           "showline": true,
           "ticks": "outside",
           "title": {
            "standoff": 15
           },
           "zeroline": false,
           "zerolinecolor": "rgb(36,36,36)"
          }
         }
        },
        "xaxis": {
         "showgrid": false,
         "title": {
          "text": "Epoch"
         }
        },
        "yaxis": {
         "showgrid": false,
         "title": {
          "text": "MAE (pm/V)"
         }
        }
       }
      }
     },
     "metadata": {},
     "output_type": "display_data"
    }
   ],
   "source": [
    "lr_val = go.Scatter(\n",
    "    x=df_lr_epochs_first.index,\n",
    "    y=df_lr_epochs_first[\"metric_val/MeanAbsoluteError/shg_tensor_full\"],\n",
    "    mode=\"lines+markers\",\n",
    "    name=\"Validation loss\",\n",
    "    showlegend=True,\n",
    ")\n",
    "\n",
    "# Layout\n",
    "layout = go.Layout(\n",
    "    # title=dict(text='Scatter Plot'),\n",
    "    xaxis=dict(title=\"Epoch\"),\n",
    "    yaxis=dict(title=\"MAE (pm/V)\"),\n",
    "    # legend=dict(font=dict(size=12)),\n",
    ")\n",
    "\n",
    "# Create figure\n",
    "fig = go.Figure(data=[lr_val], layout=layout)\n",
    "\n",
    "fig.update_layout(\n",
    "    autosize=True,\n",
    "    font_size=20,\n",
    "    # width=600,\n",
    "    # height=600,\n",
    "    # plot_bgcolor=\"white\",\n",
    "    template=\"simple_white\",\n",
    ")\n",
    "fig.update_layout(\n",
    "    xaxis=dict(\n",
    "        # tickmode = 'array',\n",
    "        # tickvals = [1, 2,3,4,5,6,7,8],\n",
    "        # ticktext = ['One', 'Three', 'Five', 'Seven', 'Nine', 'Eleven']\n",
    "        showgrid=False,\n",
    "    ),\n",
    "    yaxis=dict(\n",
    "        # tickmode = 'array',\n",
    "        # tickvals = [1, 2,3,4,5,6,7,8],\n",
    "        # ticktext = ['One', 'Three', 'Five', 'Seven', 'Nine', 'Eleven']\n",
    "        showgrid=False,\n",
    "    ),\n",
    ")\n",
    "\n",
    "# Show figure\n",
    "fig.show()"
   ]
  },
  {
   "cell_type": "markdown",
   "metadata": {},
   "source": [
    "# Errors on dijk"
   ]
  },
  {
   "cell_type": "code",
   "execution_count": 9,
   "metadata": {},
   "outputs": [
    {
     "name": "stdout",
     "output_type": "stream",
     "text": [
      "45.33567232370665\n"
     ]
    }
   ],
   "source": [
    "list_fronorm = []  # = sqrt(sum(sqrd))/nb_nonzero\n",
    "for ir, r in df_pred_matten.iterrows():\n",
    "    dijk_orig = shg.from_voigt(df_orig.loc[ir][\"dijk_full_neum\"])\n",
    "    dijk_matten = shg.from_voigt(r[\"dijk_matten\"])\n",
    "    if np.count_nonzero(dijk_orig) == 0:\n",
    "        continue\n",
    "    t = dijk_orig - dijk_matten\n",
    "    list_fronorm.append(np.linalg.norm(t))\n",
    "print(np.mean(list_fronorm))"
   ]
  },
  {
   "cell_type": "code",
   "execution_count": 10,
   "metadata": {},
   "outputs": [
    {
     "name": "stdout",
     "output_type": "stream",
     "text": [
      "6.122502086880777\n"
     ]
    }
   ],
   "source": [
    "list_fronorm = []  # = sqrt(sum(sqrd))/nb_nonzero\n",
    "for ir, r in df_pred_matten.iterrows():\n",
    "    dijk_orig = shg.from_voigt(df_orig.loc[ir][\"dijk_full_neum\"])\n",
    "    dijk_matten = shg.from_voigt(r[\"dijk_matten\"])\n",
    "    if np.count_nonzero(dijk_orig) == 0:\n",
    "        continue\n",
    "    list_fronorm.append(\n",
    "        np.linalg.norm(dijk_orig - dijk_matten) / np.count_nonzero(dijk_orig)\n",
    "    )\n",
    "print(np.mean(list_fronorm))"
   ]
  },
  {
   "cell_type": "markdown",
   "metadata": {},
   "source": [
    "## Errors on dijk masked"
   ]
  },
  {
   "cell_type": "code",
   "execution_count": 11,
   "metadata": {},
   "outputs": [
    {
     "name": "stdout",
     "output_type": "stream",
     "text": [
      "42.79267766075234\n"
     ]
    }
   ],
   "source": [
    "# masked\n",
    "list_fronorm = []  # = sqrt(sum(sqrd))\n",
    "for ir, r in df_pred_matten.iterrows():\n",
    "    dijk_orig = shg.from_voigt(df_orig.loc[ir][\"dijk_full_neum\"])\n",
    "    dijk_matten = shg.from_voigt(r[\"dijk_matten\"])\n",
    "    dijk_matten = np.where(dijk_orig != 0, dijk_matten, 0)\n",
    "    if np.count_nonzero(dijk_orig) == 0:\n",
    "        continue\n",
    "    t = dijk_orig - dijk_matten\n",
    "    list_fronorm.append(np.linalg.norm(t))\n",
    "print(np.mean(list_fronorm))"
   ]
  },
  {
   "cell_type": "code",
   "execution_count": 12,
   "metadata": {},
   "outputs": [
    {
     "name": "stdout",
     "output_type": "stream",
     "text": [
      "5.708147546274905\n"
     ]
    }
   ],
   "source": [
    "list_fronorm = []  # = sqrt(sum(sqrd))/nb_nonzero\n",
    "for ir, r in df_pred_matten.iterrows():\n",
    "    dijk_orig = shg.from_voigt(df_orig.loc[ir][\"dijk_full_neum\"])\n",
    "    dijk_matten = shg.from_voigt(r[\"dijk_matten\"])\n",
    "    dijk_matten = np.where(dijk_orig != 0, dijk_matten, 0)\n",
    "    if np.count_nonzero(dijk_orig) == 0:\n",
    "        continue\n",
    "    t = dijk_orig - dijk_matten\n",
    "    list_fronorm.append(\n",
    "        np.linalg.norm(dijk_orig - dijk_matten) / np.count_nonzero(dijk_orig)\n",
    "    )\n",
    "print(np.mean(list_fronorm))"
   ]
  },
  {
   "cell_type": "markdown",
   "metadata": {},
   "source": [
    "# Errors on dKP"
   ]
  },
  {
   "cell_type": "code",
   "execution_count": 13,
   "metadata": {},
   "outputs": [
    {
     "name": "stdout",
     "output_type": "stream",
     "text": [
      "MAE = 9.694475185080988\n",
      "MAPE = 2.3138662393422\n",
      "RMSE = 24.079037789135512\n",
      "Rho_sp = 0.8343778801843317\n"
     ]
    },
    {
     "data": {
      "application/vnd.plotly.v1+json": {
       "config": {
        "plotlyServerURL": "https://plot.ly"
       },
       "data": [
        {
         "mode": "markers",
         "name": "",
         "showlegend": false,
         "text": [
          "agm001234439",
          "agm001375463",
          "agm002017294",
          "agm002041315",
          "agm002041336",
          "agm002056302",
          "agm002137665",
          "agm002138671",
          "agm002140778",
          "agm002147818",
          "agm002153139",
          "agm002156258",
          "agm002161194",
          "agm002176403",
          "agm002184995",
          "agm002205114",
          "agm002224865",
          "agm002237807",
          "agm002278924",
          "agm002297812",
          "agm002790067",
          "agm003112540",
          "agm003157565",
          "agm003160552",
          "agm003202328",
          "agm003202410",
          "agm003206267",
          "agm003213121",
          "agm003219193",
          "agm003235252",
          "agm003237859",
          "agm003469328",
          "agm003705731",
          "agm004773455",
          "agm004786326",
          "agm004787350",
          "agm005056300",
          "agm005071058",
          "agm005072178",
          "agm005664742",
          "agm005721583",
          "agm005748012",
          "agm005754384",
          "agm005848675",
          "agm006020719",
          "agm006047746",
          "agm2000126920",
          "agm2000136656",
          "agm2000137141",
          "mp-1023924",
          "mp-1029368",
          "mp-1029633",
          "mp-1079676",
          "mp-1102285",
          "mp-1103351",
          "mp-1105300",
          "mp-11714",
          "mp-1180133",
          "mp-1196282",
          "mp-1196457",
          "mp-1208039",
          "mp-1208179",
          "mp-1215642",
          "mp-1216976",
          "mp-1219328",
          "mp-1221169",
          "mp-1221971",
          "mp-1223389",
          "mp-1223489",
          "mp-1223849",
          "mp-1225884",
          "mp-1225916",
          "mp-1227011",
          "mp-1227110",
          "mp-1227124",
          "mp-1227389",
          "mp-1228160",
          "mp-1228342",
          "mp-1287",
          "mp-13666",
          "mp-14444",
          "mp-1778",
          "mp-17862",
          "mp-18168",
          "mp-21521",
          "mp-2176",
          "mp-21892",
          "mp-22909",
          "mp-23329",
          "mp-2469",
          "mp-2802611",
          "mp-29157",
          "mp-31451",
          "mp-38011",
          "mp-4431",
          "mp-4524",
          "mp-504952",
          "mp-505702",
          "mp-549720",
          "mp-554918",
          "mp-555150",
          "mp-555202",
          "mp-555915",
          "mp-558491",
          "mp-559057",
          "mp-559065",
          "mp-559545",
          "mp-560894",
          "mp-561385",
          "mp-6126",
          "mp-625175",
          "mp-626172",
          "mp-6268",
          "mp-632229",
          "mp-632684",
          "mp-6980",
          "mp-754712",
          "mp-756044",
          "mp-760755",
          "mp-772748",
          "mp-8070",
          "mp-8884",
          "mp-9066",
          "mp-9427",
          "mp-9844"
         ],
         "type": "scatter",
         "x": [
          0.8272878630490751,
          29.619974283987936,
          16.93465817396815,
          58.14032833705676,
          42.71723587326203,
          3.4142465412794816,
          0.21760412867682172,
          4.990868142109143,
          3.7385919216237418,
          0.386614576544783,
          2.535801221550989,
          0.6697039819612798,
          9.925651677308547,
          1.5289283566609753,
          167.32652616660764,
          64.16281613192514,
          1.162738268371955,
          101.57610363591236,
          165.13053811130195,
          1.145439052894341,
          46.68049140909839,
          49.0848053409145,
          0.2773415097117353,
          12.279161879472003,
          32.71175046916167,
          134.43648298693395,
          19.206783254619253,
          3.8961386832490144,
          0.2357305320706208,
          0.04742064116398367,
          0.3447064416103106,
          0.3121643754820938,
          6.713160335923752,
          4.768382722367681,
          13.636495888910204,
          1.7134206574052462,
          7.5679717252621845,
          1.394860426044515,
          0.35622622680105753,
          3.1945647805715116,
          9.475740860886464,
          0.4218049160508704,
          1.4778264262831153,
          7.517340958923934,
          0.4129762319614386,
          50.76951872995719,
          0.22479309857821572,
          3.322929138148421,
          8.213321581418393,
          2.5747069716896993,
          14.974014115437333,
          7.445020961969393,
          1.4181497304502502,
          7.2855926117787835,
          2.2421112466956346,
          26.760013080806115,
          6.449937968827414,
          5.011475693953564,
          0.020592390517412237,
          0.10779869903410651,
          0.9608928044838883,
          0.8542720885431856,
          3.5217840745294517,
          12.644763108596253,
          2.7085081891465723,
          10.05019430543853,
          5.870613170689007,
          26.03769184849257,
          0.16583889893944992,
          0.09266296905357542,
          0.15713573856920957,
          1.1824359493317524,
          52.33013998938465,
          0.009159898472070336,
          16.28151897450099,
          38.202112721920614,
          0.24149497175624401,
          1.3815042676431624,
          0.14195876287417517,
          50.26224377818762,
          13.325047557309988,
          0.31993983241561774,
          33.20634743822916,
          2.40853762353919,
          7.525570950107779,
          105.24117753411167,
          1.6702877031054744,
          2.5879642137648387,
          8.216653290326382,
          16.7224180311217,
          0.898303960815359,
          78.50848151084344,
          67.16185442385373,
          6.982839424963341,
          19.617387328593306,
          89.50434406167203,
          14.641826029641079,
          1.5660413794640677,
          22.184202830713517,
          2.4889948726268245,
          1.6714733711428025,
          0.24667704403246854,
          0.418081267508317,
          0.916306049190346,
          1.6293975755324084,
          6.497969001348536,
          5.767520489335899,
          0.498530944623206,
          0.7001223238354805,
          2.733238270650939,
          0.2779184074445728,
          0.22325584052186562,
          6.412929743824089,
          2.9096809494071505,
          0.6332971350134445,
          61.68514671047256,
          1.1696456448991595,
          0.2817178150189904,
          0.0989148861399233,
          0.2716584026966766,
          0.6153567936409394,
          39.55664828037646,
          0.3187782410759168,
          0.5743918279755333,
          0.9483772869076769
         ],
         "y": [
          3.5406561374939525,
          62.21800819710004,
          32.01689979356122,
          12.683991726997725,
          7.987534165774817,
          1.2612381299889117,
          1.2917587261059846,
          3.5324883310748696,
          1.877452806035673,
          1.4470971815655957,
          6.872658922622319,
          1.7791746897528573,
          8.22265734997232,
          1.94283910496133,
          25.727264104797964,
          79.09939491262517,
          16.371081924415833,
          34.67284748568719,
          45.600308437362976,
          3.8456081838941842,
          33.90895477619782,
          44.142281118016776,
          0.39697530799966263,
          4.959527198960022,
          17.42279028765844,
          14.820846874224246,
          20.761097364147883,
          8.794758009340411,
          2.446332502870372,
          0.8105056127051598,
          1.842498575679247,
          0.3574651775101919,
          6.856209429836758,
          3.324579937920628,
          6.0269576538943355,
          0.7916953723106723,
          10.78375983679079,
          3.5390795355106803,
          0.07506141537334719,
          4.599971507737948,
          17.975596901558973,
          3.489438890881473,
          2.7077037595584126,
          26.835207040835257,
          0.644000809817819,
          39.62133939336796,
          0.4178126525873377,
          0.9346875658283286,
          10.979221483731335,
          0.12093687727272949,
          13.883447344138585,
          12.938835525433884,
          0.815918736130886,
          9.448781301715636,
          4.036391610495593,
          21.863711056412505,
          8.106481328949043,
          1.111957509480128,
          0.18642113797933657,
          0.09258773101750793,
          0.8691512665034717,
          2.5219859595375547,
          6.550975423261331,
          3.0537023447510943,
          4.093101459399602,
          4.005166973497707,
          9.458876413288623,
          24.643541468905884,
          0.6230136692614695,
          0.7546241471696716,
          2.1308199852226526,
          1.7404778140797157,
          11.393574584029944,
          0.5083826317196918,
          16.522596387335753,
          17.562247040397352,
          1.692579297990885,
          4.5352101436468315,
          0.8815967802493515,
          5.158270583925922,
          3.448122983575308,
          0.19383181047046932,
          5.514589277651411,
          2.265304625499672,
          2.4928445073663066,
          103.73474910672535,
          0.9864425273632659,
          2.492805351961132,
          13.656315985286207,
          9.329958936567342,
          1.5235314516216534,
          26.0526057779374,
          71.35239526671207,
          9.88454970609498,
          28.5357784156326,
          60.958007602316826,
          18.5324900101492,
          4.507474581851355,
          7.105262605981442,
          2.346261600353475,
          2.5949001093934316,
          2.2434228102002716,
          0.5954840818579187,
          1.4361993232058374,
          1.611312192918564,
          2.23577741899061,
          5.839677619965149,
          6.173696127348395,
          1.3861163330924253,
          5.906061962929155,
          0.9562861821999212,
          0.8932833772950963,
          7.632657184936417,
          3.3543486864047347,
          5.057040572757211,
          10.833804475181019,
          1.3432292784118933,
          1.8421465656054936,
          0.6681832096883604,
          1.1079896212886717,
          4.214551765286609,
          72.56037953347426,
          4.87083066267906,
          2.806637173558308,
          1.6581784507678483
         ]
        },
        {
         "line": {
          "color": "gray",
          "dash": "dot"
         },
         "mode": "lines",
         "showlegend": false,
         "type": "scatter",
         "x": [
          -1,
          200
         ],
         "y": [
          -1,
          200
         ]
        }
       ],
       "layout": {
        "autosize": false,
        "font": {
         "size": 20
        },
        "height": 600,
        "template": {
         "data": {
          "bar": [
           {
            "error_x": {
             "color": "rgb(36,36,36)"
            },
            "error_y": {
             "color": "rgb(36,36,36)"
            },
            "marker": {
             "line": {
              "color": "white",
              "width": 0.5
             },
             "pattern": {
              "fillmode": "overlay",
              "size": 10,
              "solidity": 0.2
             }
            },
            "type": "bar"
           }
          ],
          "barpolar": [
           {
            "marker": {
             "line": {
              "color": "white",
              "width": 0.5
             },
             "pattern": {
              "fillmode": "overlay",
              "size": 10,
              "solidity": 0.2
             }
            },
            "type": "barpolar"
           }
          ],
          "carpet": [
           {
            "aaxis": {
             "endlinecolor": "rgb(36,36,36)",
             "gridcolor": "white",
             "linecolor": "white",
             "minorgridcolor": "white",
             "startlinecolor": "rgb(36,36,36)"
            },
            "baxis": {
             "endlinecolor": "rgb(36,36,36)",
             "gridcolor": "white",
             "linecolor": "white",
             "minorgridcolor": "white",
             "startlinecolor": "rgb(36,36,36)"
            },
            "type": "carpet"
           }
          ],
          "choropleth": [
           {
            "colorbar": {
             "outlinewidth": 1,
             "tickcolor": "rgb(36,36,36)",
             "ticks": "outside"
            },
            "type": "choropleth"
           }
          ],
          "contour": [
           {
            "colorbar": {
             "outlinewidth": 1,
             "tickcolor": "rgb(36,36,36)",
             "ticks": "outside"
            },
            "colorscale": [
             [
              0,
              "#440154"
             ],
             [
              0.1111111111111111,
              "#482878"
             ],
             [
              0.2222222222222222,
              "#3e4989"
             ],
             [
              0.3333333333333333,
              "#31688e"
             ],
             [
              0.4444444444444444,
              "#26828e"
             ],
             [
              0.5555555555555556,
              "#1f9e89"
             ],
             [
              0.6666666666666666,
              "#35b779"
             ],
             [
              0.7777777777777778,
              "#6ece58"
             ],
             [
              0.8888888888888888,
              "#b5de2b"
             ],
             [
              1,
              "#fde725"
             ]
            ],
            "type": "contour"
           }
          ],
          "contourcarpet": [
           {
            "colorbar": {
             "outlinewidth": 1,
             "tickcolor": "rgb(36,36,36)",
             "ticks": "outside"
            },
            "type": "contourcarpet"
           }
          ],
          "heatmap": [
           {
            "colorbar": {
             "outlinewidth": 1,
             "tickcolor": "rgb(36,36,36)",
             "ticks": "outside"
            },
            "colorscale": [
             [
              0,
              "#440154"
             ],
             [
              0.1111111111111111,
              "#482878"
             ],
             [
              0.2222222222222222,
              "#3e4989"
             ],
             [
              0.3333333333333333,
              "#31688e"
             ],
             [
              0.4444444444444444,
              "#26828e"
             ],
             [
              0.5555555555555556,
              "#1f9e89"
             ],
             [
              0.6666666666666666,
              "#35b779"
             ],
             [
              0.7777777777777778,
              "#6ece58"
             ],
             [
              0.8888888888888888,
              "#b5de2b"
             ],
             [
              1,
              "#fde725"
             ]
            ],
            "type": "heatmap"
           }
          ],
          "heatmapgl": [
           {
            "colorbar": {
             "outlinewidth": 1,
             "tickcolor": "rgb(36,36,36)",
             "ticks": "outside"
            },
            "colorscale": [
             [
              0,
              "#440154"
             ],
             [
              0.1111111111111111,
              "#482878"
             ],
             [
              0.2222222222222222,
              "#3e4989"
             ],
             [
              0.3333333333333333,
              "#31688e"
             ],
             [
              0.4444444444444444,
              "#26828e"
             ],
             [
              0.5555555555555556,
              "#1f9e89"
             ],
             [
              0.6666666666666666,
              "#35b779"
             ],
             [
              0.7777777777777778,
              "#6ece58"
             ],
             [
              0.8888888888888888,
              "#b5de2b"
             ],
             [
              1,
              "#fde725"
             ]
            ],
            "type": "heatmapgl"
           }
          ],
          "histogram": [
           {
            "marker": {
             "line": {
              "color": "white",
              "width": 0.6
             }
            },
            "type": "histogram"
           }
          ],
          "histogram2d": [
           {
            "colorbar": {
             "outlinewidth": 1,
             "tickcolor": "rgb(36,36,36)",
             "ticks": "outside"
            },
            "colorscale": [
             [
              0,
              "#440154"
             ],
             [
              0.1111111111111111,
              "#482878"
             ],
             [
              0.2222222222222222,
              "#3e4989"
             ],
             [
              0.3333333333333333,
              "#31688e"
             ],
             [
              0.4444444444444444,
              "#26828e"
             ],
             [
              0.5555555555555556,
              "#1f9e89"
             ],
             [
              0.6666666666666666,
              "#35b779"
             ],
             [
              0.7777777777777778,
              "#6ece58"
             ],
             [
              0.8888888888888888,
              "#b5de2b"
             ],
             [
              1,
              "#fde725"
             ]
            ],
            "type": "histogram2d"
           }
          ],
          "histogram2dcontour": [
           {
            "colorbar": {
             "outlinewidth": 1,
             "tickcolor": "rgb(36,36,36)",
             "ticks": "outside"
            },
            "colorscale": [
             [
              0,
              "#440154"
             ],
             [
              0.1111111111111111,
              "#482878"
             ],
             [
              0.2222222222222222,
              "#3e4989"
             ],
             [
              0.3333333333333333,
              "#31688e"
             ],
             [
              0.4444444444444444,
              "#26828e"
             ],
             [
              0.5555555555555556,
              "#1f9e89"
             ],
             [
              0.6666666666666666,
              "#35b779"
             ],
             [
              0.7777777777777778,
              "#6ece58"
             ],
             [
              0.8888888888888888,
              "#b5de2b"
             ],
             [
              1,
              "#fde725"
             ]
            ],
            "type": "histogram2dcontour"
           }
          ],
          "mesh3d": [
           {
            "colorbar": {
             "outlinewidth": 1,
             "tickcolor": "rgb(36,36,36)",
             "ticks": "outside"
            },
            "type": "mesh3d"
           }
          ],
          "parcoords": [
           {
            "line": {
             "colorbar": {
              "outlinewidth": 1,
              "tickcolor": "rgb(36,36,36)",
              "ticks": "outside"
             }
            },
            "type": "parcoords"
           }
          ],
          "pie": [
           {
            "automargin": true,
            "type": "pie"
           }
          ],
          "scatter": [
           {
            "fillpattern": {
             "fillmode": "overlay",
             "size": 10,
             "solidity": 0.2
            },
            "type": "scatter"
           }
          ],
          "scatter3d": [
           {
            "line": {
             "colorbar": {
              "outlinewidth": 1,
              "tickcolor": "rgb(36,36,36)",
              "ticks": "outside"
             }
            },
            "marker": {
             "colorbar": {
              "outlinewidth": 1,
              "tickcolor": "rgb(36,36,36)",
              "ticks": "outside"
             }
            },
            "type": "scatter3d"
           }
          ],
          "scattercarpet": [
           {
            "marker": {
             "colorbar": {
              "outlinewidth": 1,
              "tickcolor": "rgb(36,36,36)",
              "ticks": "outside"
             }
            },
            "type": "scattercarpet"
           }
          ],
          "scattergeo": [
           {
            "marker": {
             "colorbar": {
              "outlinewidth": 1,
              "tickcolor": "rgb(36,36,36)",
              "ticks": "outside"
             }
            },
            "type": "scattergeo"
           }
          ],
          "scattergl": [
           {
            "marker": {
             "colorbar": {
              "outlinewidth": 1,
              "tickcolor": "rgb(36,36,36)",
              "ticks": "outside"
             }
            },
            "type": "scattergl"
           }
          ],
          "scattermapbox": [
           {
            "marker": {
             "colorbar": {
              "outlinewidth": 1,
              "tickcolor": "rgb(36,36,36)",
              "ticks": "outside"
             }
            },
            "type": "scattermapbox"
           }
          ],
          "scatterpolar": [
           {
            "marker": {
             "colorbar": {
              "outlinewidth": 1,
              "tickcolor": "rgb(36,36,36)",
              "ticks": "outside"
             }
            },
            "type": "scatterpolar"
           }
          ],
          "scatterpolargl": [
           {
            "marker": {
             "colorbar": {
              "outlinewidth": 1,
              "tickcolor": "rgb(36,36,36)",
              "ticks": "outside"
             }
            },
            "type": "scatterpolargl"
           }
          ],
          "scatterternary": [
           {
            "marker": {
             "colorbar": {
              "outlinewidth": 1,
              "tickcolor": "rgb(36,36,36)",
              "ticks": "outside"
             }
            },
            "type": "scatterternary"
           }
          ],
          "surface": [
           {
            "colorbar": {
             "outlinewidth": 1,
             "tickcolor": "rgb(36,36,36)",
             "ticks": "outside"
            },
            "colorscale": [
             [
              0,
              "#440154"
             ],
             [
              0.1111111111111111,
              "#482878"
             ],
             [
              0.2222222222222222,
              "#3e4989"
             ],
             [
              0.3333333333333333,
              "#31688e"
             ],
             [
              0.4444444444444444,
              "#26828e"
             ],
             [
              0.5555555555555556,
              "#1f9e89"
             ],
             [
              0.6666666666666666,
              "#35b779"
             ],
             [
              0.7777777777777778,
              "#6ece58"
             ],
             [
              0.8888888888888888,
              "#b5de2b"
             ],
             [
              1,
              "#fde725"
             ]
            ],
            "type": "surface"
           }
          ],
          "table": [
           {
            "cells": {
             "fill": {
              "color": "rgb(237,237,237)"
             },
             "line": {
              "color": "white"
             }
            },
            "header": {
             "fill": {
              "color": "rgb(217,217,217)"
             },
             "line": {
              "color": "white"
             }
            },
            "type": "table"
           }
          ]
         },
         "layout": {
          "annotationdefaults": {
           "arrowhead": 0,
           "arrowwidth": 1
          },
          "autotypenumbers": "strict",
          "coloraxis": {
           "colorbar": {
            "outlinewidth": 1,
            "tickcolor": "rgb(36,36,36)",
            "ticks": "outside"
           }
          },
          "colorscale": {
           "diverging": [
            [
             0,
             "rgb(103,0,31)"
            ],
            [
             0.1,
             "rgb(178,24,43)"
            ],
            [
             0.2,
             "rgb(214,96,77)"
            ],
            [
             0.3,
             "rgb(244,165,130)"
            ],
            [
             0.4,
             "rgb(253,219,199)"
            ],
            [
             0.5,
             "rgb(247,247,247)"
            ],
            [
             0.6,
             "rgb(209,229,240)"
            ],
            [
             0.7,
             "rgb(146,197,222)"
            ],
            [
             0.8,
             "rgb(67,147,195)"
            ],
            [
             0.9,
             "rgb(33,102,172)"
            ],
            [
             1,
             "rgb(5,48,97)"
            ]
           ],
           "sequential": [
            [
             0,
             "#440154"
            ],
            [
             0.1111111111111111,
             "#482878"
            ],
            [
             0.2222222222222222,
             "#3e4989"
            ],
            [
             0.3333333333333333,
             "#31688e"
            ],
            [
             0.4444444444444444,
             "#26828e"
            ],
            [
             0.5555555555555556,
             "#1f9e89"
            ],
            [
             0.6666666666666666,
             "#35b779"
            ],
            [
             0.7777777777777778,
             "#6ece58"
            ],
            [
             0.8888888888888888,
             "#b5de2b"
            ],
            [
             1,
             "#fde725"
            ]
           ],
           "sequentialminus": [
            [
             0,
             "#440154"
            ],
            [
             0.1111111111111111,
             "#482878"
            ],
            [
             0.2222222222222222,
             "#3e4989"
            ],
            [
             0.3333333333333333,
             "#31688e"
            ],
            [
             0.4444444444444444,
             "#26828e"
            ],
            [
             0.5555555555555556,
             "#1f9e89"
            ],
            [
             0.6666666666666666,
             "#35b779"
            ],
            [
             0.7777777777777778,
             "#6ece58"
            ],
            [
             0.8888888888888888,
             "#b5de2b"
            ],
            [
             1,
             "#fde725"
            ]
           ]
          },
          "colorway": [
           "#1F77B4",
           "#FF7F0E",
           "#2CA02C",
           "#D62728",
           "#9467BD",
           "#8C564B",
           "#E377C2",
           "#7F7F7F",
           "#BCBD22",
           "#17BECF"
          ],
          "font": {
           "color": "rgb(36,36,36)"
          },
          "geo": {
           "bgcolor": "white",
           "lakecolor": "white",
           "landcolor": "white",
           "showlakes": true,
           "showland": true,
           "subunitcolor": "white"
          },
          "hoverlabel": {
           "align": "left"
          },
          "hovermode": "closest",
          "mapbox": {
           "style": "light"
          },
          "paper_bgcolor": "white",
          "plot_bgcolor": "white",
          "polar": {
           "angularaxis": {
            "gridcolor": "rgb(232,232,232)",
            "linecolor": "rgb(36,36,36)",
            "showgrid": false,
            "showline": true,
            "ticks": "outside"
           },
           "bgcolor": "white",
           "radialaxis": {
            "gridcolor": "rgb(232,232,232)",
            "linecolor": "rgb(36,36,36)",
            "showgrid": false,
            "showline": true,
            "ticks": "outside"
           }
          },
          "scene": {
           "xaxis": {
            "backgroundcolor": "white",
            "gridcolor": "rgb(232,232,232)",
            "gridwidth": 2,
            "linecolor": "rgb(36,36,36)",
            "showbackground": true,
            "showgrid": false,
            "showline": true,
            "ticks": "outside",
            "zeroline": false,
            "zerolinecolor": "rgb(36,36,36)"
           },
           "yaxis": {
            "backgroundcolor": "white",
            "gridcolor": "rgb(232,232,232)",
            "gridwidth": 2,
            "linecolor": "rgb(36,36,36)",
            "showbackground": true,
            "showgrid": false,
            "showline": true,
            "ticks": "outside",
            "zeroline": false,
            "zerolinecolor": "rgb(36,36,36)"
           },
           "zaxis": {
            "backgroundcolor": "white",
            "gridcolor": "rgb(232,232,232)",
            "gridwidth": 2,
            "linecolor": "rgb(36,36,36)",
            "showbackground": true,
            "showgrid": false,
            "showline": true,
            "ticks": "outside",
            "zeroline": false,
            "zerolinecolor": "rgb(36,36,36)"
           }
          },
          "shapedefaults": {
           "fillcolor": "black",
           "line": {
            "width": 0
           },
           "opacity": 0.3
          },
          "ternary": {
           "aaxis": {
            "gridcolor": "rgb(232,232,232)",
            "linecolor": "rgb(36,36,36)",
            "showgrid": false,
            "showline": true,
            "ticks": "outside"
           },
           "baxis": {
            "gridcolor": "rgb(232,232,232)",
            "linecolor": "rgb(36,36,36)",
            "showgrid": false,
            "showline": true,
            "ticks": "outside"
           },
           "bgcolor": "white",
           "caxis": {
            "gridcolor": "rgb(232,232,232)",
            "linecolor": "rgb(36,36,36)",
            "showgrid": false,
            "showline": true,
            "ticks": "outside"
           }
          },
          "title": {
           "x": 0.05
          },
          "xaxis": {
           "automargin": true,
           "gridcolor": "rgb(232,232,232)",
           "linecolor": "rgb(36,36,36)",
           "showgrid": false,
           "showline": true,
           "ticks": "outside",
           "title": {
            "standoff": 15
           },
           "zeroline": false,
           "zerolinecolor": "rgb(36,36,36)"
          },
          "yaxis": {
           "automargin": true,
           "gridcolor": "rgb(232,232,232)",
           "linecolor": "rgb(36,36,36)",
           "showgrid": false,
           "showline": true,
           "ticks": "outside",
           "title": {
            "standoff": 15
           },
           "zeroline": false,
           "zerolinecolor": "rgb(36,36,36)"
          }
         }
        },
        "width": 600,
        "xaxis": {
         "range": [
          -1,
          170
         ],
         "showgrid": false,
         "title": {
          "text": "<i>d</i><sub>KP</sub> (pm/V)"
         }
        },
        "yaxis": {
         "range": [
          -1,
          170
         ],
         "showgrid": false,
         "title": {
          "text": "<i>d&#770;</i><sub>KP</sub> (pm/V)"
         }
        }
       }
      }
     },
     "metadata": {},
     "output_type": "display_data"
    }
   ],
   "source": [
    "# Data\n",
    "\n",
    "mae = mean_absolute_error(df_pred_matten[\"dKP_true\"], df_pred_matten[\"dKP_matten\"])\n",
    "mape = mean_absolute_percentage_error(\n",
    "    df_pred_matten[\"dKP_true\"], df_pred_matten[\"dKP_matten\"]\n",
    ")\n",
    "rmse = root_mean_squared_error(df_pred_matten[\"dKP_true\"], df_pred_matten[\"dKP_matten\"])\n",
    "spearmanrho = spearmanr(df_pred_matten[\"dKP_true\"], df_pred_matten[\"dKP_matten\"])\n",
    "print(f\"MAE = {mae}\")\n",
    "print(f\"MAPE = {mape}\")\n",
    "print(f\"RMSE = {rmse}\")\n",
    "print(f\"Rho_sp = {spearmanrho.statistic}\")\n",
    "\n",
    "# Scatter plot for previous outputs.\n",
    "scatter_dKP = go.Scatter(\n",
    "    x=df_pred_matten[\"dKP_true\"],\n",
    "    y=df_pred_matten[\"dKP_matten\"],\n",
    "    mode=\"markers\",\n",
    "    name=\"\",\n",
    "    showlegend=False,\n",
    "    text=[mpid for mpid in df_pred_matten.index.values],\n",
    ")\n",
    "\n",
    "ideal = go.Scatter(\n",
    "    x=[-1, 200],\n",
    "    y=[-1, 200],\n",
    "    mode=\"lines\",\n",
    "    line=dict(color=\"gray\", dash=\"dot\"),\n",
    "    showlegend=False,\n",
    ")\n",
    "\n",
    "# Layout\n",
    "layout = go.Layout(\n",
    "    # title=dict(text='Scatter Plot'),\n",
    "    xaxis=dict(title=\"<i>d</i><sub>KP</sub> (pm/V)\", range=[-1, 170]),\n",
    "    yaxis=dict(title=\"<i>d&#770;</i><sub>KP</sub> (pm/V)\", range=[-1, 170]),\n",
    "    # legend=dict(font=dict(size=12)),\n",
    ")\n",
    "\n",
    "# Create figure\n",
    "fig = go.Figure(data=[scatter_dKP, ideal], layout=layout)\n",
    "\n",
    "fig.update_layout(\n",
    "    autosize=False,\n",
    "    font_size=20,\n",
    "    width=600,\n",
    "    height=600,\n",
    "    # plot_bgcolor=\"white\",\n",
    "    template=\"simple_white\",\n",
    ")\n",
    "fig.update_layout(\n",
    "    xaxis=dict(\n",
    "        # tickmode = 'array',\n",
    "        # tickvals = [1, 2,3,4,5,6,7,8],\n",
    "        # ticktext = ['One', 'Three', 'Five', 'Seven', 'Nine', 'Eleven']\n",
    "        showgrid=False,\n",
    "    ),\n",
    "    yaxis=dict(\n",
    "        # tickmode = 'array',\n",
    "        # tickvals = [1, 2,3,4,5,6,7,8],\n",
    "        # ticktext = ['One', 'Three', 'Five', 'Seven', 'Nine', 'Eleven']\n",
    "        showgrid=False,\n",
    "    ),\n",
    ")\n",
    "\n",
    "# Show figure\n",
    "fig.show()"
   ]
  },
  {
   "cell_type": "markdown",
   "metadata": {},
   "source": [
    "## Errors on dKP masked"
   ]
  },
  {
   "cell_type": "code",
   "execution_count": 14,
   "metadata": {},
   "outputs": [
    {
     "name": "stdout",
     "output_type": "stream",
     "text": [
      "MAE = 11.458779017828524\n",
      "MAPE = 2.3074098024038365\n",
      "RMSE = 27.147447364081\n",
      "Rho_sp = 0.6782119815668202\n"
     ]
    },
    {
     "data": {
      "application/vnd.plotly.v1+json": {
       "config": {
        "plotlyServerURL": "https://plot.ly"
       },
       "data": [
        {
         "mode": "markers",
         "name": "",
         "showlegend": false,
         "text": [
          "agm001234439",
          "agm001375463",
          "agm002017294",
          "agm002041315",
          "agm002041336",
          "agm002056302",
          "agm002137665",
          "agm002138671",
          "agm002140778",
          "agm002147818",
          "agm002153139",
          "agm002156258",
          "agm002161194",
          "agm002176403",
          "agm002184995",
          "agm002205114",
          "agm002224865",
          "agm002237807",
          "agm002278924",
          "agm002297812",
          "agm002790067",
          "agm003112540",
          "agm003157565",
          "agm003160552",
          "agm003202328",
          "agm003202410",
          "agm003206267",
          "agm003213121",
          "agm003219193",
          "agm003235252",
          "agm003237859",
          "agm003469328",
          "agm003705731",
          "agm004773455",
          "agm004786326",
          "agm004787350",
          "agm005056300",
          "agm005071058",
          "agm005072178",
          "agm005664742",
          "agm005721583",
          "agm005748012",
          "agm005754384",
          "agm005848675",
          "agm006020719",
          "agm006047746",
          "agm2000126920",
          "agm2000136656",
          "agm2000137141",
          "mp-1023924",
          "mp-1029368",
          "mp-1029633",
          "mp-1079676",
          "mp-1102285",
          "mp-1103351",
          "mp-1105300",
          "mp-11714",
          "mp-1180133",
          "mp-1196282",
          "mp-1196457",
          "mp-1208039",
          "mp-1208179",
          "mp-1215642",
          "mp-1216976",
          "mp-1219328",
          "mp-1221169",
          "mp-1221971",
          "mp-1223389",
          "mp-1223489",
          "mp-1223849",
          "mp-1225884",
          "mp-1225916",
          "mp-1227011",
          "mp-1227110",
          "mp-1227124",
          "mp-1227389",
          "mp-1228160",
          "mp-1228342",
          "mp-1287",
          "mp-13666",
          "mp-14444",
          "mp-1778",
          "mp-17862",
          "mp-18168",
          "mp-21521",
          "mp-2176",
          "mp-21892",
          "mp-22909",
          "mp-23329",
          "mp-2469",
          "mp-2802611",
          "mp-29157",
          "mp-31451",
          "mp-38011",
          "mp-4431",
          "mp-4524",
          "mp-504952",
          "mp-505702",
          "mp-549720",
          "mp-554918",
          "mp-555150",
          "mp-555202",
          "mp-555915",
          "mp-558491",
          "mp-559057",
          "mp-559065",
          "mp-559545",
          "mp-560894",
          "mp-561385",
          "mp-6126",
          "mp-625175",
          "mp-626172",
          "mp-6268",
          "mp-632229",
          "mp-632684",
          "mp-6980",
          "mp-754712",
          "mp-756044",
          "mp-760755",
          "mp-772748",
          "mp-8070",
          "mp-8884",
          "mp-9066",
          "mp-9427",
          "mp-9844"
         ],
         "type": "scatter",
         "x": [
          0.8272878630490751,
          29.619974283987936,
          16.93465817396815,
          58.14032833705676,
          42.71723587326203,
          3.4142465412794816,
          0.21760412867682172,
          4.990868142109143,
          3.7385919216237418,
          0.386614576544783,
          2.535801221550989,
          0.6697039819612798,
          9.925651677308547,
          1.5289283566609753,
          167.32652616660764,
          64.16281613192514,
          1.162738268371955,
          101.57610363591236,
          165.13053811130195,
          1.145439052894341,
          46.68049140909839,
          49.0848053409145,
          0.2773415097117353,
          12.279161879472003,
          32.71175046916167,
          134.43648298693395,
          19.206783254619253,
          3.8961386832490144,
          0.2357305320706208,
          0.04742064116398367,
          0.3447064416103106,
          0.3121643754820938,
          6.713160335923752,
          4.768382722367681,
          13.636495888910204,
          1.7134206574052462,
          7.5679717252621845,
          1.394860426044515,
          0.35622622680105753,
          3.1945647805715116,
          9.475740860886464,
          0.4218049160508704,
          1.4778264262831153,
          7.517340958923934,
          0.4129762319614386,
          50.76951872995719,
          0.22479309857821572,
          3.322929138148421,
          8.213321581418393,
          2.5747069716896993,
          14.974014115437333,
          7.445020961969393,
          1.4181497304502502,
          7.2855926117787835,
          2.2421112466956346,
          26.760013080806115,
          6.449937968827414,
          5.011475693953564,
          0.020592390517412237,
          0.10779869903410651,
          0.9608928044838883,
          0.8542720885431856,
          3.5217840745294517,
          12.644763108596253,
          2.7085081891465723,
          10.05019430543853,
          5.870613170689007,
          26.03769184849257,
          0.16583889893944992,
          0.09266296905357542,
          0.15713573856920957,
          1.1824359493317524,
          52.33013998938465,
          0.009159898472070336,
          16.28151897450099,
          38.202112721920614,
          0.24149497175624401,
          1.3815042676431624,
          0.14195876287417517,
          50.26224377818762,
          13.325047557309988,
          0.31993983241561774,
          33.20634743822916,
          2.40853762353919,
          7.525570950107779,
          105.24117753411167,
          1.6702877031054744,
          2.5879642137648387,
          8.216653290326382,
          16.7224180311217,
          0.898303960815359,
          78.50848151084344,
          67.16185442385373,
          6.982839424963341,
          19.617387328593306,
          89.50434406167203,
          14.641826029641079,
          1.5660413794640677,
          22.184202830713517,
          2.4889948726268245,
          1.6714733711428025,
          0.24667704403246854,
          0.418081267508317,
          0.916306049190346,
          1.6293975755324084,
          6.497969001348536,
          5.767520489335899,
          0.498530944623206,
          0.7001223238354805,
          2.733238270650939,
          0.2779184074445728,
          0.22325584052186562,
          6.412929743824089,
          2.9096809494071505,
          0.6332971350134445,
          61.68514671047256,
          1.1696456448991595,
          0.2817178150189904,
          0.0989148861399233,
          0.2716584026966766,
          0.6153567936409394,
          39.55664828037646,
          0.3187782410759168,
          0.5743918279755333,
          0.9483772869076769
         ],
         "y": [
          3.5406561374939525,
          62.21800819708487,
          32.01689979356123,
          12.683991726997725,
          7.987534165774807,
          1.261238129988613,
          1.2917587261059846,
          3.532488331073629,
          1.877452806035673,
          1.4470971815651736,
          6.872658922622316,
          1.7791746897528549,
          8.222657349967806,
          1.9428391049609888,
          25.72726410479669,
          79.09939491262433,
          16.371081924415147,
          34.67284748567751,
          45.600308437357505,
          3.845608183893888,
          33.9089547761973,
          44.142281118015035,
          0.3969753079917947,
          4.959527198960013,
          17.422790287658366,
          14.820846874222015,
          20.761097364147606,
          8.794758009340411,
          2.446332502870372,
          0.8105056127033731,
          1.842498575676959,
          0.3574651775101919,
          6.8562094298367615,
          3.3245799379154217,
          6.026957653893443,
          0.7916953723105553,
          10.783759836790093,
          3.5390795355106803,
          0.07506141536000918,
          4.59997150773615,
          17.97559690155843,
          3.4894388908808884,
          2.7077037595505784,
          26.835207040835257,
          0.6440008098174227,
          39.62133939334631,
          0.4178126525873377,
          0.9346875658079896,
          10.979221483724956,
          0.12093687715177368,
          13.883447344138009,
          12.938835525431752,
          0.8159187361299259,
          9.448781301714023,
          4.036391610455655,
          21.863711056411056,
          8.106481328948592,
          1.1119575094799279,
          0.18642113797224116,
          0.09258773099456302,
          0.8691512664991728,
          2.521985959537087,
          6.550975423260144,
          3.0537023447510943,
          4.093101459399602,
          4.005166973494874,
          9.458876413288623,
          24.643541468904466,
          0.6230136692499882,
          0.7546241471696716,
          2.130819985222592,
          1.7404778140792283,
          11.393574584029949,
          0.5083826317046904,
          16.522596387335675,
          17.56224704039723,
          1.692579297990885,
          4.535210143646673,
          0.0000023520350084453213,
          4.107176888745064,
          2.12774526203792,
          5.644785267331762e-7,
          5.5145892776325764,
          2.265304625498686,
          0.00000690355303037777,
          3.465132444386918e-9,
          8.016870574577327e-7,
          0.9233519551418159,
          4.764094734443543,
          2.2667037111818817e-7,
          1.5235314516215708,
          26.0526057779374,
          1.4029560628493376e-8,
          7.334341373052695,
          28.535778415631707,
          23.600822302272352,
          18.5324900101492,
          4.507474581846927,
          1.6321462726331655,
          2.3462616003533325,
          2.594900109391428,
          2.2434228101989873,
          0.5954840818009097,
          1.4361993232046213,
          1.61131219291608,
          2.235777418988453,
          5.839677619964501,
          6.173696127347341,
          0.5897938238458821,
          5.9060619629290345,
          0.9562861821971924,
          0.8932833772950963,
          7.632657184935586,
          3.3051952787022962,
          5.05704057275707,
          10.833804475180703,
          1.3432292783983562,
          1.8421465656049427,
          0.6286978424541043,
          1.107989621284315,
          4.214551765285578,
          72.5603795334738,
          4.870830662676083,
          2.8066371735564166,
          1.5150975044906498
         ]
        },
        {
         "line": {
          "color": "gray",
          "dash": "dot"
         },
         "mode": "lines",
         "showlegend": false,
         "type": "scatter",
         "x": [
          -1,
          200
         ],
         "y": [
          -1,
          200
         ]
        }
       ],
       "layout": {
        "autosize": false,
        "font": {
         "size": 20
        },
        "height": 600,
        "template": {
         "data": {
          "bar": [
           {
            "error_x": {
             "color": "rgb(36,36,36)"
            },
            "error_y": {
             "color": "rgb(36,36,36)"
            },
            "marker": {
             "line": {
              "color": "white",
              "width": 0.5
             },
             "pattern": {
              "fillmode": "overlay",
              "size": 10,
              "solidity": 0.2
             }
            },
            "type": "bar"
           }
          ],
          "barpolar": [
           {
            "marker": {
             "line": {
              "color": "white",
              "width": 0.5
             },
             "pattern": {
              "fillmode": "overlay",
              "size": 10,
              "solidity": 0.2
             }
            },
            "type": "barpolar"
           }
          ],
          "carpet": [
           {
            "aaxis": {
             "endlinecolor": "rgb(36,36,36)",
             "gridcolor": "white",
             "linecolor": "white",
             "minorgridcolor": "white",
             "startlinecolor": "rgb(36,36,36)"
            },
            "baxis": {
             "endlinecolor": "rgb(36,36,36)",
             "gridcolor": "white",
             "linecolor": "white",
             "minorgridcolor": "white",
             "startlinecolor": "rgb(36,36,36)"
            },
            "type": "carpet"
           }
          ],
          "choropleth": [
           {
            "colorbar": {
             "outlinewidth": 1,
             "tickcolor": "rgb(36,36,36)",
             "ticks": "outside"
            },
            "type": "choropleth"
           }
          ],
          "contour": [
           {
            "colorbar": {
             "outlinewidth": 1,
             "tickcolor": "rgb(36,36,36)",
             "ticks": "outside"
            },
            "colorscale": [
             [
              0,
              "#440154"
             ],
             [
              0.1111111111111111,
              "#482878"
             ],
             [
              0.2222222222222222,
              "#3e4989"
             ],
             [
              0.3333333333333333,
              "#31688e"
             ],
             [
              0.4444444444444444,
              "#26828e"
             ],
             [
              0.5555555555555556,
              "#1f9e89"
             ],
             [
              0.6666666666666666,
              "#35b779"
             ],
             [
              0.7777777777777778,
              "#6ece58"
             ],
             [
              0.8888888888888888,
              "#b5de2b"
             ],
             [
              1,
              "#fde725"
             ]
            ],
            "type": "contour"
           }
          ],
          "contourcarpet": [
           {
            "colorbar": {
             "outlinewidth": 1,
             "tickcolor": "rgb(36,36,36)",
             "ticks": "outside"
            },
            "type": "contourcarpet"
           }
          ],
          "heatmap": [
           {
            "colorbar": {
             "outlinewidth": 1,
             "tickcolor": "rgb(36,36,36)",
             "ticks": "outside"
            },
            "colorscale": [
             [
              0,
              "#440154"
             ],
             [
              0.1111111111111111,
              "#482878"
             ],
             [
              0.2222222222222222,
              "#3e4989"
             ],
             [
              0.3333333333333333,
              "#31688e"
             ],
             [
              0.4444444444444444,
              "#26828e"
             ],
             [
              0.5555555555555556,
              "#1f9e89"
             ],
             [
              0.6666666666666666,
              "#35b779"
             ],
             [
              0.7777777777777778,
              "#6ece58"
             ],
             [
              0.8888888888888888,
              "#b5de2b"
             ],
             [
              1,
              "#fde725"
             ]
            ],
            "type": "heatmap"
           }
          ],
          "heatmapgl": [
           {
            "colorbar": {
             "outlinewidth": 1,
             "tickcolor": "rgb(36,36,36)",
             "ticks": "outside"
            },
            "colorscale": [
             [
              0,
              "#440154"
             ],
             [
              0.1111111111111111,
              "#482878"
             ],
             [
              0.2222222222222222,
              "#3e4989"
             ],
             [
              0.3333333333333333,
              "#31688e"
             ],
             [
              0.4444444444444444,
              "#26828e"
             ],
             [
              0.5555555555555556,
              "#1f9e89"
             ],
             [
              0.6666666666666666,
              "#35b779"
             ],
             [
              0.7777777777777778,
              "#6ece58"
             ],
             [
              0.8888888888888888,
              "#b5de2b"
             ],
             [
              1,
              "#fde725"
             ]
            ],
            "type": "heatmapgl"
           }
          ],
          "histogram": [
           {
            "marker": {
             "line": {
              "color": "white",
              "width": 0.6
             }
            },
            "type": "histogram"
           }
          ],
          "histogram2d": [
           {
            "colorbar": {
             "outlinewidth": 1,
             "tickcolor": "rgb(36,36,36)",
             "ticks": "outside"
            },
            "colorscale": [
             [
              0,
              "#440154"
             ],
             [
              0.1111111111111111,
              "#482878"
             ],
             [
              0.2222222222222222,
              "#3e4989"
             ],
             [
              0.3333333333333333,
              "#31688e"
             ],
             [
              0.4444444444444444,
              "#26828e"
             ],
             [
              0.5555555555555556,
              "#1f9e89"
             ],
             [
              0.6666666666666666,
              "#35b779"
             ],
             [
              0.7777777777777778,
              "#6ece58"
             ],
             [
              0.8888888888888888,
              "#b5de2b"
             ],
             [
              1,
              "#fde725"
             ]
            ],
            "type": "histogram2d"
           }
          ],
          "histogram2dcontour": [
           {
            "colorbar": {
             "outlinewidth": 1,
             "tickcolor": "rgb(36,36,36)",
             "ticks": "outside"
            },
            "colorscale": [
             [
              0,
              "#440154"
             ],
             [
              0.1111111111111111,
              "#482878"
             ],
             [
              0.2222222222222222,
              "#3e4989"
             ],
             [
              0.3333333333333333,
              "#31688e"
             ],
             [
              0.4444444444444444,
              "#26828e"
             ],
             [
              0.5555555555555556,
              "#1f9e89"
             ],
             [
              0.6666666666666666,
              "#35b779"
             ],
             [
              0.7777777777777778,
              "#6ece58"
             ],
             [
              0.8888888888888888,
              "#b5de2b"
             ],
             [
              1,
              "#fde725"
             ]
            ],
            "type": "histogram2dcontour"
           }
          ],
          "mesh3d": [
           {
            "colorbar": {
             "outlinewidth": 1,
             "tickcolor": "rgb(36,36,36)",
             "ticks": "outside"
            },
            "type": "mesh3d"
           }
          ],
          "parcoords": [
           {
            "line": {
             "colorbar": {
              "outlinewidth": 1,
              "tickcolor": "rgb(36,36,36)",
              "ticks": "outside"
             }
            },
            "type": "parcoords"
           }
          ],
          "pie": [
           {
            "automargin": true,
            "type": "pie"
           }
          ],
          "scatter": [
           {
            "fillpattern": {
             "fillmode": "overlay",
             "size": 10,
             "solidity": 0.2
            },
            "type": "scatter"
           }
          ],
          "scatter3d": [
           {
            "line": {
             "colorbar": {
              "outlinewidth": 1,
              "tickcolor": "rgb(36,36,36)",
              "ticks": "outside"
             }
            },
            "marker": {
             "colorbar": {
              "outlinewidth": 1,
              "tickcolor": "rgb(36,36,36)",
              "ticks": "outside"
             }
            },
            "type": "scatter3d"
           }
          ],
          "scattercarpet": [
           {
            "marker": {
             "colorbar": {
              "outlinewidth": 1,
              "tickcolor": "rgb(36,36,36)",
              "ticks": "outside"
             }
            },
            "type": "scattercarpet"
           }
          ],
          "scattergeo": [
           {
            "marker": {
             "colorbar": {
              "outlinewidth": 1,
              "tickcolor": "rgb(36,36,36)",
              "ticks": "outside"
             }
            },
            "type": "scattergeo"
           }
          ],
          "scattergl": [
           {
            "marker": {
             "colorbar": {
              "outlinewidth": 1,
              "tickcolor": "rgb(36,36,36)",
              "ticks": "outside"
             }
            },
            "type": "scattergl"
           }
          ],
          "scattermapbox": [
           {
            "marker": {
             "colorbar": {
              "outlinewidth": 1,
              "tickcolor": "rgb(36,36,36)",
              "ticks": "outside"
             }
            },
            "type": "scattermapbox"
           }
          ],
          "scatterpolar": [
           {
            "marker": {
             "colorbar": {
              "outlinewidth": 1,
              "tickcolor": "rgb(36,36,36)",
              "ticks": "outside"
             }
            },
            "type": "scatterpolar"
           }
          ],
          "scatterpolargl": [
           {
            "marker": {
             "colorbar": {
              "outlinewidth": 1,
              "tickcolor": "rgb(36,36,36)",
              "ticks": "outside"
             }
            },
            "type": "scatterpolargl"
           }
          ],
          "scatterternary": [
           {
            "marker": {
             "colorbar": {
              "outlinewidth": 1,
              "tickcolor": "rgb(36,36,36)",
              "ticks": "outside"
             }
            },
            "type": "scatterternary"
           }
          ],
          "surface": [
           {
            "colorbar": {
             "outlinewidth": 1,
             "tickcolor": "rgb(36,36,36)",
             "ticks": "outside"
            },
            "colorscale": [
             [
              0,
              "#440154"
             ],
             [
              0.1111111111111111,
              "#482878"
             ],
             [
              0.2222222222222222,
              "#3e4989"
             ],
             [
              0.3333333333333333,
              "#31688e"
             ],
             [
              0.4444444444444444,
              "#26828e"
             ],
             [
              0.5555555555555556,
              "#1f9e89"
             ],
             [
              0.6666666666666666,
              "#35b779"
             ],
             [
              0.7777777777777778,
              "#6ece58"
             ],
             [
              0.8888888888888888,
              "#b5de2b"
             ],
             [
              1,
              "#fde725"
             ]
            ],
            "type": "surface"
           }
          ],
          "table": [
           {
            "cells": {
             "fill": {
              "color": "rgb(237,237,237)"
             },
             "line": {
              "color": "white"
             }
            },
            "header": {
             "fill": {
              "color": "rgb(217,217,217)"
             },
             "line": {
              "color": "white"
             }
            },
            "type": "table"
           }
          ]
         },
         "layout": {
          "annotationdefaults": {
           "arrowhead": 0,
           "arrowwidth": 1
          },
          "autotypenumbers": "strict",
          "coloraxis": {
           "colorbar": {
            "outlinewidth": 1,
            "tickcolor": "rgb(36,36,36)",
            "ticks": "outside"
           }
          },
          "colorscale": {
           "diverging": [
            [
             0,
             "rgb(103,0,31)"
            ],
            [
             0.1,
             "rgb(178,24,43)"
            ],
            [
             0.2,
             "rgb(214,96,77)"
            ],
            [
             0.3,
             "rgb(244,165,130)"
            ],
            [
             0.4,
             "rgb(253,219,199)"
            ],
            [
             0.5,
             "rgb(247,247,247)"
            ],
            [
             0.6,
             "rgb(209,229,240)"
            ],
            [
             0.7,
             "rgb(146,197,222)"
            ],
            [
             0.8,
             "rgb(67,147,195)"
            ],
            [
             0.9,
             "rgb(33,102,172)"
            ],
            [
             1,
             "rgb(5,48,97)"
            ]
           ],
           "sequential": [
            [
             0,
             "#440154"
            ],
            [
             0.1111111111111111,
             "#482878"
            ],
            [
             0.2222222222222222,
             "#3e4989"
            ],
            [
             0.3333333333333333,
             "#31688e"
            ],
            [
             0.4444444444444444,
             "#26828e"
            ],
            [
             0.5555555555555556,
             "#1f9e89"
            ],
            [
             0.6666666666666666,
             "#35b779"
            ],
            [
             0.7777777777777778,
             "#6ece58"
            ],
            [
             0.8888888888888888,
             "#b5de2b"
            ],
            [
             1,
             "#fde725"
            ]
           ],
           "sequentialminus": [
            [
             0,
             "#440154"
            ],
            [
             0.1111111111111111,
             "#482878"
            ],
            [
             0.2222222222222222,
             "#3e4989"
            ],
            [
             0.3333333333333333,
             "#31688e"
            ],
            [
             0.4444444444444444,
             "#26828e"
            ],
            [
             0.5555555555555556,
             "#1f9e89"
            ],
            [
             0.6666666666666666,
             "#35b779"
            ],
            [
             0.7777777777777778,
             "#6ece58"
            ],
            [
             0.8888888888888888,
             "#b5de2b"
            ],
            [
             1,
             "#fde725"
            ]
           ]
          },
          "colorway": [
           "#1F77B4",
           "#FF7F0E",
           "#2CA02C",
           "#D62728",
           "#9467BD",
           "#8C564B",
           "#E377C2",
           "#7F7F7F",
           "#BCBD22",
           "#17BECF"
          ],
          "font": {
           "color": "rgb(36,36,36)"
          },
          "geo": {
           "bgcolor": "white",
           "lakecolor": "white",
           "landcolor": "white",
           "showlakes": true,
           "showland": true,
           "subunitcolor": "white"
          },
          "hoverlabel": {
           "align": "left"
          },
          "hovermode": "closest",
          "mapbox": {
           "style": "light"
          },
          "paper_bgcolor": "white",
          "plot_bgcolor": "white",
          "polar": {
           "angularaxis": {
            "gridcolor": "rgb(232,232,232)",
            "linecolor": "rgb(36,36,36)",
            "showgrid": false,
            "showline": true,
            "ticks": "outside"
           },
           "bgcolor": "white",
           "radialaxis": {
            "gridcolor": "rgb(232,232,232)",
            "linecolor": "rgb(36,36,36)",
            "showgrid": false,
            "showline": true,
            "ticks": "outside"
           }
          },
          "scene": {
           "xaxis": {
            "backgroundcolor": "white",
            "gridcolor": "rgb(232,232,232)",
            "gridwidth": 2,
            "linecolor": "rgb(36,36,36)",
            "showbackground": true,
            "showgrid": false,
            "showline": true,
            "ticks": "outside",
            "zeroline": false,
            "zerolinecolor": "rgb(36,36,36)"
           },
           "yaxis": {
            "backgroundcolor": "white",
            "gridcolor": "rgb(232,232,232)",
            "gridwidth": 2,
            "linecolor": "rgb(36,36,36)",
            "showbackground": true,
            "showgrid": false,
            "showline": true,
            "ticks": "outside",
            "zeroline": false,
            "zerolinecolor": "rgb(36,36,36)"
           },
           "zaxis": {
            "backgroundcolor": "white",
            "gridcolor": "rgb(232,232,232)",
            "gridwidth": 2,
            "linecolor": "rgb(36,36,36)",
            "showbackground": true,
            "showgrid": false,
            "showline": true,
            "ticks": "outside",
            "zeroline": false,
            "zerolinecolor": "rgb(36,36,36)"
           }
          },
          "shapedefaults": {
           "fillcolor": "black",
           "line": {
            "width": 0
           },
           "opacity": 0.3
          },
          "ternary": {
           "aaxis": {
            "gridcolor": "rgb(232,232,232)",
            "linecolor": "rgb(36,36,36)",
            "showgrid": false,
            "showline": true,
            "ticks": "outside"
           },
           "baxis": {
            "gridcolor": "rgb(232,232,232)",
            "linecolor": "rgb(36,36,36)",
            "showgrid": false,
            "showline": true,
            "ticks": "outside"
           },
           "bgcolor": "white",
           "caxis": {
            "gridcolor": "rgb(232,232,232)",
            "linecolor": "rgb(36,36,36)",
            "showgrid": false,
            "showline": true,
            "ticks": "outside"
           }
          },
          "title": {
           "x": 0.05
          },
          "xaxis": {
           "automargin": true,
           "gridcolor": "rgb(232,232,232)",
           "linecolor": "rgb(36,36,36)",
           "showgrid": false,
           "showline": true,
           "ticks": "outside",
           "title": {
            "standoff": 15
           },
           "zeroline": false,
           "zerolinecolor": "rgb(36,36,36)"
          },
          "yaxis": {
           "automargin": true,
           "gridcolor": "rgb(232,232,232)",
           "linecolor": "rgb(36,36,36)",
           "showgrid": false,
           "showline": true,
           "ticks": "outside",
           "title": {
            "standoff": 15
           },
           "zeroline": false,
           "zerolinecolor": "rgb(36,36,36)"
          }
         }
        },
        "width": 600,
        "xaxis": {
         "range": [
          -1,
          170
         ],
         "showgrid": false,
         "title": {
          "text": "<i>d</i><sub>KP</sub> (pm/V)"
         }
        },
        "yaxis": {
         "range": [
          -1,
          170
         ],
         "showgrid": false,
         "title": {
          "text": "<i>d&#770;</i><sub>KP</sub> (pm/V)"
         }
        }
       }
      }
     },
     "metadata": {},
     "output_type": "display_data"
    }
   ],
   "source": [
    "# Data\n",
    "\n",
    "mae = mean_absolute_error(\n",
    "    df_pred_matten[\"dKP_true\"], df_pred_matten[\"dKP_matten_masked\"]\n",
    ")\n",
    "mape = mean_absolute_percentage_error(\n",
    "    df_pred_matten[\"dKP_true\"], df_pred_matten[\"dKP_matten_masked\"]\n",
    ")\n",
    "rmse = root_mean_squared_error(\n",
    "    df_pred_matten[\"dKP_true\"], df_pred_matten[\"dKP_matten_masked\"]\n",
    ")\n",
    "spearmanrho = spearmanr(df_pred_matten[\"dKP_true\"], df_pred_matten[\"dKP_matten_masked\"])\n",
    "print(f\"MAE = {mae}\")\n",
    "print(f\"MAPE = {mape}\")\n",
    "print(f\"RMSE = {rmse}\")\n",
    "print(f\"Rho_sp = {spearmanrho.statistic}\")\n",
    "\n",
    "# Scatter plot for previous outputs.\n",
    "scatter_dKP = go.Scatter(\n",
    "    x=df_pred_matten[\"dKP_true\"],\n",
    "    y=df_pred_matten[\"dKP_matten_masked\"],\n",
    "    mode=\"markers\",\n",
    "    name=\"\",\n",
    "    showlegend=False,\n",
    "    text=[mpid for mpid in df_pred_matten.index.values],\n",
    ")\n",
    "\n",
    "ideal = go.Scatter(\n",
    "    x=[-1, 200],\n",
    "    y=[-1, 200],\n",
    "    mode=\"lines\",\n",
    "    line=dict(color=\"gray\", dash=\"dot\"),\n",
    "    showlegend=False,\n",
    ")\n",
    "\n",
    "# Layout\n",
    "layout = go.Layout(\n",
    "    # title=dict(text='Scatter Plot'),\n",
    "    xaxis=dict(title=\"<i>d</i><sub>KP</sub> (pm/V)\", range=[-1, 170]),\n",
    "    yaxis=dict(title=\"<i>d&#770;</i><sub>KP</sub> (pm/V)\", range=[-1, 170]),\n",
    "    # legend=dict(font=dict(size=12)),\n",
    ")\n",
    "\n",
    "# Create figure\n",
    "fig = go.Figure(data=[scatter_dKP, ideal], layout=layout)\n",
    "\n",
    "fig.update_layout(\n",
    "    autosize=False,\n",
    "    font_size=20,\n",
    "    width=600,\n",
    "    height=600,\n",
    "    # plot_bgcolor=\"white\",\n",
    "    template=\"simple_white\",\n",
    ")\n",
    "fig.update_layout(\n",
    "    xaxis=dict(\n",
    "        # tickmode = 'array',\n",
    "        # tickvals = [1, 2,3,4,5,6,7,8],\n",
    "        # ticktext = ['One', 'Three', 'Five', 'Seven', 'Nine', 'Eleven']\n",
    "        showgrid=False,\n",
    "    ),\n",
    "    yaxis=dict(\n",
    "        # tickmode = 'array',\n",
    "        # tickvals = [1, 2,3,4,5,6,7,8],\n",
    "        # ticktext = ['One', 'Three', 'Five', 'Seven', 'Nine', 'Eleven']\n",
    "        showgrid=False,\n",
    "    ),\n",
    ")\n",
    "\n",
    "# Show figure\n",
    "fig.show()"
   ]
  },
  {
   "cell_type": "markdown",
   "metadata": {},
   "source": [
    "# Errors on dRMS"
   ]
  },
  {
   "cell_type": "code",
   "execution_count": 15,
   "metadata": {},
   "outputs": [
    {
     "name": "stdout",
     "output_type": "stream",
     "text": [
      "MAE = 5.025920872893325\n",
      "MAPE = 2.430654890324469\n",
      "RMSE = 12.724261123153925\n",
      "Rho_sp = 0.8321351766513057\n"
     ]
    },
    {
     "data": {
      "application/vnd.plotly.v1+json": {
       "config": {
        "plotlyServerURL": "https://plot.ly"
       },
       "data": [
        {
         "mode": "markers",
         "name": "",
         "showlegend": false,
         "text": [
          "agm001234439",
          "agm001375463",
          "agm002017294",
          "agm002041315",
          "agm002041336",
          "agm002056302",
          "agm002137665",
          "agm002138671",
          "agm002140778",
          "agm002147818",
          "agm002153139",
          "agm002156258",
          "agm002161194",
          "agm002176403",
          "agm002184995",
          "agm002205114",
          "agm002224865",
          "agm002237807",
          "agm002278924",
          "agm002297812",
          "agm002790067",
          "agm003112540",
          "agm003157565",
          "agm003160552",
          "agm003202328",
          "agm003202410",
          "agm003206267",
          "agm003213121",
          "agm003219193",
          "agm003235252",
          "agm003237859",
          "agm003469328",
          "agm003705731",
          "agm004773455",
          "agm004786326",
          "agm004787350",
          "agm005056300",
          "agm005071058",
          "agm005072178",
          "agm005664742",
          "agm005721583",
          "agm005748012",
          "agm005754384",
          "agm005848675",
          "agm006020719",
          "agm006047746",
          "agm2000126920",
          "agm2000136656",
          "agm2000137141",
          "mp-1023924",
          "mp-1029368",
          "mp-1029633",
          "mp-1079676",
          "mp-1102285",
          "mp-1103351",
          "mp-1105300",
          "mp-11714",
          "mp-1180133",
          "mp-1196282",
          "mp-1196457",
          "mp-1208039",
          "mp-1208179",
          "mp-1215642",
          "mp-1216976",
          "mp-1219328",
          "mp-1221169",
          "mp-1221971",
          "mp-1223389",
          "mp-1223489",
          "mp-1223849",
          "mp-1225884",
          "mp-1225916",
          "mp-1227011",
          "mp-1227110",
          "mp-1227124",
          "mp-1227389",
          "mp-1228160",
          "mp-1228342",
          "mp-1287",
          "mp-13666",
          "mp-14444",
          "mp-1778",
          "mp-17862",
          "mp-18168",
          "mp-21521",
          "mp-2176",
          "mp-21892",
          "mp-22909",
          "mp-23329",
          "mp-2469",
          "mp-2802611",
          "mp-29157",
          "mp-31451",
          "mp-38011",
          "mp-4431",
          "mp-4524",
          "mp-504952",
          "mp-505702",
          "mp-549720",
          "mp-554918",
          "mp-555150",
          "mp-555202",
          "mp-555915",
          "mp-558491",
          "mp-559057",
          "mp-559065",
          "mp-559545",
          "mp-560894",
          "mp-561385",
          "mp-6126",
          "mp-625175",
          "mp-626172",
          "mp-6268",
          "mp-632229",
          "mp-632684",
          "mp-6980",
          "mp-754712",
          "mp-756044",
          "mp-760755",
          "mp-772748",
          "mp-8070",
          "mp-8884",
          "mp-9066",
          "mp-9427",
          "mp-9844"
         ],
         "type": "scatter",
         "x": [
          0.4533013926479508,
          16.521232313586655,
          9.124150852602597,
          28.108656464778452,
          21.46284472676041,
          1.9043757345471775,
          0.1212071401455686,
          2.7837732481367383,
          1.8100288924006236,
          0.18891304995189917,
          1.240891853793173,
          0.2780652151597847,
          5.536263997136642,
          0.6286148524301469,
          93.33027721493909,
          34.70853317720789,
          0.6485444203121766,
          53.757923915908336,
          77.80127770554039,
          0.47237280580385305,
          26.037134120639962,
          27.378120266366295,
          0.15469370324961404,
          6.848989269263506,
          18.24574267700324,
          74.98508761533064,
          7.857758084454895,
          1.9139765745798456,
          0.12242314239888949,
          0.02644996992968097,
          0.19217550548183546,
          0.17399257866696397,
          3.6353460428796867,
          2.659676810013848,
          7.605703782860104,
          0.955700381792471,
          4.221212949644662,
          0.6665357017920366,
          0.19869349624500426,
          1.6187564976273923,
          5.279793960110898,
          0.23527108344118575,
          0.8242921980178596,
          3.971014398711312,
          0.20563647590838707,
          25.018244935546193,
          0.096938096463029,
          1.8534413205960736,
          4.581171901494939,
          1.4361029355009154,
          8.268201861260701,
          3.60677734456495,
          0.7696344759416462,
          4.0637094052582015,
          1.2266354615744965,
          12.015376465281534,
          3.574376389300032,
          2.7952675913853757,
          0.011485886664465445,
          0.060127241596142925,
          0.5359603995305948,
          0.4764902055119079,
          1.9641255187028441,
          5.857707040218371,
          1.3321984811845717,
          5.601290472489605,
          3.2716689742920355,
          12.129364453262644,
          0.07568899820595372,
          0.04319627101843022,
          0.08764612746717762,
          0.49212575759514066,
          25.054040539076535,
          0.004068362758161991,
          9.07458275372441,
          17.475834434449677,
          0.12734638830360553,
          0.5709224401120938,
          0.07918081487536796,
          27.888063454478687,
          7.387796727517875,
          0.1784539124521056,
          18.521615685845696,
          1.3408202698370553,
          4.031055950513715,
          58.700724258778145,
          0.8320981598795955,
          1.443497471838485,
          3.472408650900549,
          9.327319142421455,
          0.4961124344295853,
          41.34962284455252,
          37.46109260289279,
          3.163923628225558,
          10.928136503456011,
          49.92313791836902,
          8.136290831125732,
          0.8734961480639114,
          10.557327670318816,
          1.3881591265457354,
          0.8299209320546047,
          0.13465435118633695,
          0.23319458957793898,
          0.5110910956192859,
          0.7265346544929211,
          3.6243939447239106,
          2.4685469302169927,
          0.2780672755710062,
          0.3800799145129119,
          1.5245274693645103,
          0.14900057694537197,
          0.10500491864349884,
          2.655257365059746,
          1.2604252314872875,
          0.2613157690884907,
          30.749835038356316,
          0.6523971708645311,
          0.15691560074068578,
          0.055162869088356895,
          0.14789601884065873,
          0.3055595522801001,
          21.75405528582277,
          0.15534040782680797,
          0.3203702259169111,
          0.5289795773523278
         ],
         "y": [
          1.721975767187377,
          34.70354692605235,
          17.485157275728536,
          6.423281529818109,
          4.267644830188358,
          0.703485018201505,
          0.6800012673104632,
          1.9703278538721363,
          0.9403668630483774,
          0.5960022866875497,
          3.101758271305286,
          0.9633165311436483,
          4.586379144404711,
          0.7941319342680849,
          14.349982312378932,
          37.62591315398939,
          9.131353224848745,
          17.652863492973637,
          22.49689016602526,
          1.9521736981406863,
          18.91351133519756,
          24.53791478312331,
          0.22142224781425127,
          2.76629210525224,
          9.717968122913287,
          8.266673426030097,
          8.488235814122131,
          4.153525774981949,
          1.354231527618858,
          0.4520784316211563,
          0.8795073118421686,
          0.17100699075335007,
          3.7233842393797976,
          1.8543620927158,
          3.3616713519807346,
          0.4415865808028881,
          6.014893860790953,
          1.9276508525640161,
          0.041867257183992326,
          2.252823102290759,
          9.988222531009772,
          1.7796654979199398,
          1.5102849995451941,
          14.05494897870096,
          0.3267945503206659,
          22.062936221859164,
          0.2206214009138872,
          0.5213438157437641,
          6.123917158600513,
          0.06745536723860929,
          7.705150060090596,
          7.21469432043831,
          0.3370704496331328,
          5.270278409738699,
          2.2485171328603273,
          10.049170272369839,
          4.506584039124132,
          0.6202202662575634,
          0.10398074283167094,
          0.051642968990717866,
          0.48478941446256146,
          1.40669655988342,
          3.638039658759174,
          1.420454791181672,
          1.8617018126684932,
          2.1933081793468285,
          4.83545908236419,
          11.658621671640883,
          0.33767954242863163,
          0.3446210572272352,
          1.1885146035838046,
          0.8468481939006061,
          6.066900353143576,
          0.2749823395483051,
          8.943783484049378,
          9.527946656741584,
          0.9113226425832912,
          2.391400790086201,
          0.4917311903655331,
          2.4659371039071156,
          1.9232676639817015,
          0.10811421845033563,
          3.0758909409080126,
          1.2033617662387965,
          1.3786154537574171,
          57.86047862675899,
          0.473316253917808,
          1.3904203946106861,
          5.839197514034464,
          5.204002460948748,
          0.7222532778054859,
          12.551156765234376,
          39.79846461141144,
          4.295753223356034,
          15.91178630441496,
          34.00075217201246,
          9.260314138695367,
          2.5141492021686545,
          3.774575761481848,
          0.998965018725966,
          1.3604883796512783,
          1.1888894578356455,
          0.3321451518084589,
          0.8010737092406114,
          0.868236604761706,
          1.2470570631312339,
          2.6683248125411017,
          3.4435231771470796,
          0.6320305117395678,
          3.2942439724107,
          0.52594095446354,
          0.4919217037513075,
          3.1992564287061978,
          1.4014788978211468,
          2.8204790625537717,
          5.9517103984891735,
          0.7492174958115262,
          0.9402472135204788,
          0.2859988311514972,
          0.5779125506761555,
          2.253082889009672,
          40.4701673324589,
          2.5312126797077483,
          1.1686452032570207,
          0.9248877510779844
         ]
        },
        {
         "line": {
          "color": "gray",
          "dash": "dot"
         },
         "mode": "lines",
         "showlegend": false,
         "type": "scatter",
         "x": [
          -1,
          200
         ],
         "y": [
          -1,
          200
         ]
        }
       ],
       "layout": {
        "autosize": false,
        "font": {
         "size": 20
        },
        "height": 600,
        "template": {
         "data": {
          "bar": [
           {
            "error_x": {
             "color": "rgb(36,36,36)"
            },
            "error_y": {
             "color": "rgb(36,36,36)"
            },
            "marker": {
             "line": {
              "color": "white",
              "width": 0.5
             },
             "pattern": {
              "fillmode": "overlay",
              "size": 10,
              "solidity": 0.2
             }
            },
            "type": "bar"
           }
          ],
          "barpolar": [
           {
            "marker": {
             "line": {
              "color": "white",
              "width": 0.5
             },
             "pattern": {
              "fillmode": "overlay",
              "size": 10,
              "solidity": 0.2
             }
            },
            "type": "barpolar"
           }
          ],
          "carpet": [
           {
            "aaxis": {
             "endlinecolor": "rgb(36,36,36)",
             "gridcolor": "white",
             "linecolor": "white",
             "minorgridcolor": "white",
             "startlinecolor": "rgb(36,36,36)"
            },
            "baxis": {
             "endlinecolor": "rgb(36,36,36)",
             "gridcolor": "white",
             "linecolor": "white",
             "minorgridcolor": "white",
             "startlinecolor": "rgb(36,36,36)"
            },
            "type": "carpet"
           }
          ],
          "choropleth": [
           {
            "colorbar": {
             "outlinewidth": 1,
             "tickcolor": "rgb(36,36,36)",
             "ticks": "outside"
            },
            "type": "choropleth"
           }
          ],
          "contour": [
           {
            "colorbar": {
             "outlinewidth": 1,
             "tickcolor": "rgb(36,36,36)",
             "ticks": "outside"
            },
            "colorscale": [
             [
              0,
              "#440154"
             ],
             [
              0.1111111111111111,
              "#482878"
             ],
             [
              0.2222222222222222,
              "#3e4989"
             ],
             [
              0.3333333333333333,
              "#31688e"
             ],
             [
              0.4444444444444444,
              "#26828e"
             ],
             [
              0.5555555555555556,
              "#1f9e89"
             ],
             [
              0.6666666666666666,
              "#35b779"
             ],
             [
              0.7777777777777778,
              "#6ece58"
             ],
             [
              0.8888888888888888,
              "#b5de2b"
             ],
             [
              1,
              "#fde725"
             ]
            ],
            "type": "contour"
           }
          ],
          "contourcarpet": [
           {
            "colorbar": {
             "outlinewidth": 1,
             "tickcolor": "rgb(36,36,36)",
             "ticks": "outside"
            },
            "type": "contourcarpet"
           }
          ],
          "heatmap": [
           {
            "colorbar": {
             "outlinewidth": 1,
             "tickcolor": "rgb(36,36,36)",
             "ticks": "outside"
            },
            "colorscale": [
             [
              0,
              "#440154"
             ],
             [
              0.1111111111111111,
              "#482878"
             ],
             [
              0.2222222222222222,
              "#3e4989"
             ],
             [
              0.3333333333333333,
              "#31688e"
             ],
             [
              0.4444444444444444,
              "#26828e"
             ],
             [
              0.5555555555555556,
              "#1f9e89"
             ],
             [
              0.6666666666666666,
              "#35b779"
             ],
             [
              0.7777777777777778,
              "#6ece58"
             ],
             [
              0.8888888888888888,
              "#b5de2b"
             ],
             [
              1,
              "#fde725"
             ]
            ],
            "type": "heatmap"
           }
          ],
          "heatmapgl": [
           {
            "colorbar": {
             "outlinewidth": 1,
             "tickcolor": "rgb(36,36,36)",
             "ticks": "outside"
            },
            "colorscale": [
             [
              0,
              "#440154"
             ],
             [
              0.1111111111111111,
              "#482878"
             ],
             [
              0.2222222222222222,
              "#3e4989"
             ],
             [
              0.3333333333333333,
              "#31688e"
             ],
             [
              0.4444444444444444,
              "#26828e"
             ],
             [
              0.5555555555555556,
              "#1f9e89"
             ],
             [
              0.6666666666666666,
              "#35b779"
             ],
             [
              0.7777777777777778,
              "#6ece58"
             ],
             [
              0.8888888888888888,
              "#b5de2b"
             ],
             [
              1,
              "#fde725"
             ]
            ],
            "type": "heatmapgl"
           }
          ],
          "histogram": [
           {
            "marker": {
             "line": {
              "color": "white",
              "width": 0.6
             }
            },
            "type": "histogram"
           }
          ],
          "histogram2d": [
           {
            "colorbar": {
             "outlinewidth": 1,
             "tickcolor": "rgb(36,36,36)",
             "ticks": "outside"
            },
            "colorscale": [
             [
              0,
              "#440154"
             ],
             [
              0.1111111111111111,
              "#482878"
             ],
             [
              0.2222222222222222,
              "#3e4989"
             ],
             [
              0.3333333333333333,
              "#31688e"
             ],
             [
              0.4444444444444444,
              "#26828e"
             ],
             [
              0.5555555555555556,
              "#1f9e89"
             ],
             [
              0.6666666666666666,
              "#35b779"
             ],
             [
              0.7777777777777778,
              "#6ece58"
             ],
             [
              0.8888888888888888,
              "#b5de2b"
             ],
             [
              1,
              "#fde725"
             ]
            ],
            "type": "histogram2d"
           }
          ],
          "histogram2dcontour": [
           {
            "colorbar": {
             "outlinewidth": 1,
             "tickcolor": "rgb(36,36,36)",
             "ticks": "outside"
            },
            "colorscale": [
             [
              0,
              "#440154"
             ],
             [
              0.1111111111111111,
              "#482878"
             ],
             [
              0.2222222222222222,
              "#3e4989"
             ],
             [
              0.3333333333333333,
              "#31688e"
             ],
             [
              0.4444444444444444,
              "#26828e"
             ],
             [
              0.5555555555555556,
              "#1f9e89"
             ],
             [
              0.6666666666666666,
              "#35b779"
             ],
             [
              0.7777777777777778,
              "#6ece58"
             ],
             [
              0.8888888888888888,
              "#b5de2b"
             ],
             [
              1,
              "#fde725"
             ]
            ],
            "type": "histogram2dcontour"
           }
          ],
          "mesh3d": [
           {
            "colorbar": {
             "outlinewidth": 1,
             "tickcolor": "rgb(36,36,36)",
             "ticks": "outside"
            },
            "type": "mesh3d"
           }
          ],
          "parcoords": [
           {
            "line": {
             "colorbar": {
              "outlinewidth": 1,
              "tickcolor": "rgb(36,36,36)",
              "ticks": "outside"
             }
            },
            "type": "parcoords"
           }
          ],
          "pie": [
           {
            "automargin": true,
            "type": "pie"
           }
          ],
          "scatter": [
           {
            "fillpattern": {
             "fillmode": "overlay",
             "size": 10,
             "solidity": 0.2
            },
            "type": "scatter"
           }
          ],
          "scatter3d": [
           {
            "line": {
             "colorbar": {
              "outlinewidth": 1,
              "tickcolor": "rgb(36,36,36)",
              "ticks": "outside"
             }
            },
            "marker": {
             "colorbar": {
              "outlinewidth": 1,
              "tickcolor": "rgb(36,36,36)",
              "ticks": "outside"
             }
            },
            "type": "scatter3d"
           }
          ],
          "scattercarpet": [
           {
            "marker": {
             "colorbar": {
              "outlinewidth": 1,
              "tickcolor": "rgb(36,36,36)",
              "ticks": "outside"
             }
            },
            "type": "scattercarpet"
           }
          ],
          "scattergeo": [
           {
            "marker": {
             "colorbar": {
              "outlinewidth": 1,
              "tickcolor": "rgb(36,36,36)",
              "ticks": "outside"
             }
            },
            "type": "scattergeo"
           }
          ],
          "scattergl": [
           {
            "marker": {
             "colorbar": {
              "outlinewidth": 1,
              "tickcolor": "rgb(36,36,36)",
              "ticks": "outside"
             }
            },
            "type": "scattergl"
           }
          ],
          "scattermapbox": [
           {
            "marker": {
             "colorbar": {
              "outlinewidth": 1,
              "tickcolor": "rgb(36,36,36)",
              "ticks": "outside"
             }
            },
            "type": "scattermapbox"
           }
          ],
          "scatterpolar": [
           {
            "marker": {
             "colorbar": {
              "outlinewidth": 1,
              "tickcolor": "rgb(36,36,36)",
              "ticks": "outside"
             }
            },
            "type": "scatterpolar"
           }
          ],
          "scatterpolargl": [
           {
            "marker": {
             "colorbar": {
              "outlinewidth": 1,
              "tickcolor": "rgb(36,36,36)",
              "ticks": "outside"
             }
            },
            "type": "scatterpolargl"
           }
          ],
          "scatterternary": [
           {
            "marker": {
             "colorbar": {
              "outlinewidth": 1,
              "tickcolor": "rgb(36,36,36)",
              "ticks": "outside"
             }
            },
            "type": "scatterternary"
           }
          ],
          "surface": [
           {
            "colorbar": {
             "outlinewidth": 1,
             "tickcolor": "rgb(36,36,36)",
             "ticks": "outside"
            },
            "colorscale": [
             [
              0,
              "#440154"
             ],
             [
              0.1111111111111111,
              "#482878"
             ],
             [
              0.2222222222222222,
              "#3e4989"
             ],
             [
              0.3333333333333333,
              "#31688e"
             ],
             [
              0.4444444444444444,
              "#26828e"
             ],
             [
              0.5555555555555556,
              "#1f9e89"
             ],
             [
              0.6666666666666666,
              "#35b779"
             ],
             [
              0.7777777777777778,
              "#6ece58"
             ],
             [
              0.8888888888888888,
              "#b5de2b"
             ],
             [
              1,
              "#fde725"
             ]
            ],
            "type": "surface"
           }
          ],
          "table": [
           {
            "cells": {
             "fill": {
              "color": "rgb(237,237,237)"
             },
             "line": {
              "color": "white"
             }
            },
            "header": {
             "fill": {
              "color": "rgb(217,217,217)"
             },
             "line": {
              "color": "white"
             }
            },
            "type": "table"
           }
          ]
         },
         "layout": {
          "annotationdefaults": {
           "arrowhead": 0,
           "arrowwidth": 1
          },
          "autotypenumbers": "strict",
          "coloraxis": {
           "colorbar": {
            "outlinewidth": 1,
            "tickcolor": "rgb(36,36,36)",
            "ticks": "outside"
           }
          },
          "colorscale": {
           "diverging": [
            [
             0,
             "rgb(103,0,31)"
            ],
            [
             0.1,
             "rgb(178,24,43)"
            ],
            [
             0.2,
             "rgb(214,96,77)"
            ],
            [
             0.3,
             "rgb(244,165,130)"
            ],
            [
             0.4,
             "rgb(253,219,199)"
            ],
            [
             0.5,
             "rgb(247,247,247)"
            ],
            [
             0.6,
             "rgb(209,229,240)"
            ],
            [
             0.7,
             "rgb(146,197,222)"
            ],
            [
             0.8,
             "rgb(67,147,195)"
            ],
            [
             0.9,
             "rgb(33,102,172)"
            ],
            [
             1,
             "rgb(5,48,97)"
            ]
           ],
           "sequential": [
            [
             0,
             "#440154"
            ],
            [
             0.1111111111111111,
             "#482878"
            ],
            [
             0.2222222222222222,
             "#3e4989"
            ],
            [
             0.3333333333333333,
             "#31688e"
            ],
            [
             0.4444444444444444,
             "#26828e"
            ],
            [
             0.5555555555555556,
             "#1f9e89"
            ],
            [
             0.6666666666666666,
             "#35b779"
            ],
            [
             0.7777777777777778,
             "#6ece58"
            ],
            [
             0.8888888888888888,
             "#b5de2b"
            ],
            [
             1,
             "#fde725"
            ]
           ],
           "sequentialminus": [
            [
             0,
             "#440154"
            ],
            [
             0.1111111111111111,
             "#482878"
            ],
            [
             0.2222222222222222,
             "#3e4989"
            ],
            [
             0.3333333333333333,
             "#31688e"
            ],
            [
             0.4444444444444444,
             "#26828e"
            ],
            [
             0.5555555555555556,
             "#1f9e89"
            ],
            [
             0.6666666666666666,
             "#35b779"
            ],
            [
             0.7777777777777778,
             "#6ece58"
            ],
            [
             0.8888888888888888,
             "#b5de2b"
            ],
            [
             1,
             "#fde725"
            ]
           ]
          },
          "colorway": [
           "#1F77B4",
           "#FF7F0E",
           "#2CA02C",
           "#D62728",
           "#9467BD",
           "#8C564B",
           "#E377C2",
           "#7F7F7F",
           "#BCBD22",
           "#17BECF"
          ],
          "font": {
           "color": "rgb(36,36,36)"
          },
          "geo": {
           "bgcolor": "white",
           "lakecolor": "white",
           "landcolor": "white",
           "showlakes": true,
           "showland": true,
           "subunitcolor": "white"
          },
          "hoverlabel": {
           "align": "left"
          },
          "hovermode": "closest",
          "mapbox": {
           "style": "light"
          },
          "paper_bgcolor": "white",
          "plot_bgcolor": "white",
          "polar": {
           "angularaxis": {
            "gridcolor": "rgb(232,232,232)",
            "linecolor": "rgb(36,36,36)",
            "showgrid": false,
            "showline": true,
            "ticks": "outside"
           },
           "bgcolor": "white",
           "radialaxis": {
            "gridcolor": "rgb(232,232,232)",
            "linecolor": "rgb(36,36,36)",
            "showgrid": false,
            "showline": true,
            "ticks": "outside"
           }
          },
          "scene": {
           "xaxis": {
            "backgroundcolor": "white",
            "gridcolor": "rgb(232,232,232)",
            "gridwidth": 2,
            "linecolor": "rgb(36,36,36)",
            "showbackground": true,
            "showgrid": false,
            "showline": true,
            "ticks": "outside",
            "zeroline": false,
            "zerolinecolor": "rgb(36,36,36)"
           },
           "yaxis": {
            "backgroundcolor": "white",
            "gridcolor": "rgb(232,232,232)",
            "gridwidth": 2,
            "linecolor": "rgb(36,36,36)",
            "showbackground": true,
            "showgrid": false,
            "showline": true,
            "ticks": "outside",
            "zeroline": false,
            "zerolinecolor": "rgb(36,36,36)"
           },
           "zaxis": {
            "backgroundcolor": "white",
            "gridcolor": "rgb(232,232,232)",
            "gridwidth": 2,
            "linecolor": "rgb(36,36,36)",
            "showbackground": true,
            "showgrid": false,
            "showline": true,
            "ticks": "outside",
            "zeroline": false,
            "zerolinecolor": "rgb(36,36,36)"
           }
          },
          "shapedefaults": {
           "fillcolor": "black",
           "line": {
            "width": 0
           },
           "opacity": 0.3
          },
          "ternary": {
           "aaxis": {
            "gridcolor": "rgb(232,232,232)",
            "linecolor": "rgb(36,36,36)",
            "showgrid": false,
            "showline": true,
            "ticks": "outside"
           },
           "baxis": {
            "gridcolor": "rgb(232,232,232)",
            "linecolor": "rgb(36,36,36)",
            "showgrid": false,
            "showline": true,
            "ticks": "outside"
           },
           "bgcolor": "white",
           "caxis": {
            "gridcolor": "rgb(232,232,232)",
            "linecolor": "rgb(36,36,36)",
            "showgrid": false,
            "showline": true,
            "ticks": "outside"
           }
          },
          "title": {
           "x": 0.05
          },
          "xaxis": {
           "automargin": true,
           "gridcolor": "rgb(232,232,232)",
           "linecolor": "rgb(36,36,36)",
           "showgrid": false,
           "showline": true,
           "ticks": "outside",
           "title": {
            "standoff": 15
           },
           "zeroline": false,
           "zerolinecolor": "rgb(36,36,36)"
          },
          "yaxis": {
           "automargin": true,
           "gridcolor": "rgb(232,232,232)",
           "linecolor": "rgb(36,36,36)",
           "showgrid": false,
           "showline": true,
           "ticks": "outside",
           "title": {
            "standoff": 15
           },
           "zeroline": false,
           "zerolinecolor": "rgb(36,36,36)"
          }
         }
        },
        "width": 600,
        "xaxis": {
         "range": [
          -1,
          100
         ],
         "showgrid": false,
         "title": {
          "text": "<i>d</i><sub>RMS</sub> (pm/V)"
         }
        },
        "yaxis": {
         "range": [
          -1,
          100
         ],
         "showgrid": false,
         "title": {
          "text": "<i>d&#770;</i><sub>RMS</sub> (pm/V)"
         }
        }
       }
      }
     },
     "metadata": {},
     "output_type": "display_data"
    }
   ],
   "source": [
    "# Data\n",
    "\n",
    "mae = mean_absolute_error(df_pred_matten[\"dRMS_true\"], df_pred_matten[\"dRMS_matten\"])\n",
    "mape = mean_absolute_percentage_error(\n",
    "    df_pred_matten[\"dRMS_true\"], df_pred_matten[\"dRMS_matten\"]\n",
    ")\n",
    "rmse = root_mean_squared_error(\n",
    "    df_pred_matten[\"dRMS_true\"], df_pred_matten[\"dRMS_matten\"]\n",
    ")\n",
    "spearmanrho = spearmanr(df_pred_matten[\"dRMS_true\"], df_pred_matten[\"dRMS_matten\"])\n",
    "print(f\"MAE = {mae}\")\n",
    "print(f\"MAPE = {mape}\")\n",
    "print(f\"RMSE = {rmse}\")\n",
    "print(f\"Rho_sp = {spearmanrho.statistic}\")\n",
    "\n",
    "# Scatter plot for previous outputs.\n",
    "scatter_dRMS = go.Scatter(\n",
    "    x=df_pred_matten[\"dRMS_true\"],\n",
    "    y=df_pred_matten[\"dRMS_matten\"],\n",
    "    mode=\"markers\",\n",
    "    name=\"\",\n",
    "    showlegend=False,\n",
    "    text=[mpid for mpid in df_pred_matten.index.values],\n",
    ")\n",
    "\n",
    "ideal = go.Scatter(\n",
    "    x=[-1, 200],\n",
    "    y=[-1, 200],\n",
    "    mode=\"lines\",\n",
    "    line=dict(color=\"gray\", dash=\"dot\"),\n",
    "    showlegend=False,\n",
    ")\n",
    "\n",
    "# Layout\n",
    "layout = go.Layout(\n",
    "    # title=dict(text='Scatter Plot'),\n",
    "    xaxis=dict(title=\"<i>d</i><sub>RMS</sub> (pm/V)\", range=[-1, 100]),\n",
    "    yaxis=dict(title=\"<i>d&#770;</i><sub>RMS</sub> (pm/V)\", range=[-1, 100]),\n",
    "    # legend=dict(font=dict(size=12)),\n",
    ")\n",
    "\n",
    "# Create figure\n",
    "fig = go.Figure(data=[scatter_dRMS, ideal], layout=layout)\n",
    "\n",
    "fig.update_layout(\n",
    "    autosize=False,\n",
    "    font_size=20,\n",
    "    width=600,\n",
    "    height=600,\n",
    "    # plot_bgcolor=\"white\",\n",
    "    template=\"simple_white\",\n",
    ")\n",
    "fig.update_layout(\n",
    "    xaxis=dict(\n",
    "        # tickmode = 'array',\n",
    "        # tickvals = [1, 2,3,4,5,6,7,8],\n",
    "        # ticktext = ['One', 'Three', 'Five', 'Seven', 'Nine', 'Eleven']\n",
    "        showgrid=False,\n",
    "    ),\n",
    "    yaxis=dict(\n",
    "        # tickmode = 'array',\n",
    "        # tickvals = [1, 2,3,4,5,6,7,8],\n",
    "        # ticktext = ['One', 'Three', 'Five', 'Seven', 'Nine', 'Eleven']\n",
    "        showgrid=False,\n",
    "    ),\n",
    ")\n",
    "\n",
    "# Show figure\n",
    "fig.show()"
   ]
  },
  {
   "cell_type": "code",
   "execution_count": null,
   "metadata": {},
   "outputs": [],
   "source": []
  }
 ],
 "metadata": {
  "kernelspec": {
   "display_name": "shgmlenv",
   "language": "python",
   "name": "python3"
  },
  "language_info": {
   "codemirror_mode": {
    "name": "ipython",
    "version": 3
   },
   "file_extension": ".py",
   "mimetype": "text/x-python",
   "name": "python",
   "nbconvert_exporter": "python",
   "pygments_lexer": "ipython3",
   "version": "3.11.0"
  }
 },
 "nbformat": 4,
 "nbformat_minor": 2
}
