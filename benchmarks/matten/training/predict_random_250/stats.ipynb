{
 "cells": [
  {
   "cell_type": "code",
   "execution_count": 1,
   "metadata": {},
   "outputs": [],
   "source": [
    "from pathlib import Path\n",
    "\n",
    "from scipy.stats import spearmanr\n",
    "from sklearn.metrics import (\n",
    "    mean_absolute_error,\n",
    "    mean_absolute_percentage_error,\n",
    "    root_mean_squared_error,\n",
    ")"
   ]
  },
  {
   "cell_type": "code",
   "execution_count": 2,
   "metadata": {},
   "outputs": [],
   "source": [
    "import os\n",
    "\n",
    "import numpy as np\n",
    "import pandas as pd\n",
    "import plotly.graph_objs as go"
   ]
  },
  {
   "cell_type": "code",
   "execution_count": 3,
   "metadata": {},
   "outputs": [],
   "source": [
    "import shg_ml_benchmarks.utils_shg as shg\n",
    "from shg_ml_benchmarks.utils import load_full"
   ]
  },
  {
   "cell_type": "code",
   "execution_count": 4,
   "metadata": {},
   "outputs": [
    {
     "name": "stdout",
     "output_type": "stream",
     "text": [
      "(250, 7)\n"
     ]
    },
    {
     "data": {
      "text/html": [
       "<div>\n",
       "<style scoped>\n",
       "    .dataframe tbody tr th:only-of-type {\n",
       "        vertical-align: middle;\n",
       "    }\n",
       "\n",
       "    .dataframe tbody tr th {\n",
       "        vertical-align: top;\n",
       "    }\n",
       "\n",
       "    .dataframe thead th {\n",
       "        text-align: right;\n",
       "    }\n",
       "</style>\n",
       "<table border=\"1\" class=\"dataframe\">\n",
       "  <thead>\n",
       "    <tr style=\"text-align: right;\">\n",
       "      <th></th>\n",
       "      <th>dijk_matten</th>\n",
       "      <th>dKP_matten</th>\n",
       "      <th>dRMS_matten</th>\n",
       "      <th>dKP_matten_masked</th>\n",
       "      <th>dRMS_matten_masked</th>\n",
       "      <th>dKP_true</th>\n",
       "      <th>dRMS_true</th>\n",
       "    </tr>\n",
       "  </thead>\n",
       "  <tbody>\n",
       "    <tr>\n",
       "      <th>agm001037983</th>\n",
       "      <td>[[[2.7746e-06, 34.3841590881, -3.4562e-06], [3...</td>\n",
       "      <td>51.933734</td>\n",
       "      <td>22.589935</td>\n",
       "      <td>51.933734</td>\n",
       "      <td>22.589935</td>\n",
       "      <td>96.249886</td>\n",
       "      <td>51.882585</td>\n",
       "    </tr>\n",
       "    <tr>\n",
       "      <th>agm001234439</th>\n",
       "      <td>[[[-4.1286501884, 0.0486521758, 0.0402038172],...</td>\n",
       "      <td>2.920813</td>\n",
       "      <td>1.199770</td>\n",
       "      <td>2.920813</td>\n",
       "      <td>1.199770</td>\n",
       "      <td>0.827288</td>\n",
       "      <td>0.453301</td>\n",
       "    </tr>\n",
       "    <tr>\n",
       "      <th>agm001281942</th>\n",
       "      <td>[[[-1.2936e-06, -5.017e-07, -5.5243134499], [-...</td>\n",
       "      <td>13.281893</td>\n",
       "      <td>5.700829</td>\n",
       "      <td>13.281893</td>\n",
       "      <td>5.700829</td>\n",
       "      <td>0.834673</td>\n",
       "      <td>0.405796</td>\n",
       "    </tr>\n",
       "    <tr>\n",
       "      <th>agm001375463</th>\n",
       "      <td>[[[-2.14159e-05, 1.0246000000000001e-06, 1.073...</td>\n",
       "      <td>67.147503</td>\n",
       "      <td>37.453088</td>\n",
       "      <td>67.147503</td>\n",
       "      <td>37.453088</td>\n",
       "      <td>29.619974</td>\n",
       "      <td>16.521232</td>\n",
       "    </tr>\n",
       "    <tr>\n",
       "      <th>agm002017294</th>\n",
       "      <td>[[[-28.060798645, -2.88e-08, 0.181937933000000...</td>\n",
       "      <td>22.813186</td>\n",
       "      <td>9.699016</td>\n",
       "      <td>22.813186</td>\n",
       "      <td>9.699016</td>\n",
       "      <td>16.934658</td>\n",
       "      <td>9.124151</td>\n",
       "    </tr>\n",
       "  </tbody>\n",
       "</table>\n",
       "</div>"
      ],
      "text/plain": [
       "                                                    dijk_matten  dKP_matten  \\\n",
       "agm001037983  [[[2.7746e-06, 34.3841590881, -3.4562e-06], [3...   51.933734   \n",
       "agm001234439  [[[-4.1286501884, 0.0486521758, 0.0402038172],...    2.920813   \n",
       "agm001281942  [[[-1.2936e-06, -5.017e-07, -5.5243134499], [-...   13.281893   \n",
       "agm001375463  [[[-2.14159e-05, 1.0246000000000001e-06, 1.073...   67.147503   \n",
       "agm002017294  [[[-28.060798645, -2.88e-08, 0.181937933000000...   22.813186   \n",
       "\n",
       "              dRMS_matten  dKP_matten_masked  dRMS_matten_masked   dKP_true  \\\n",
       "agm001037983    22.589935          51.933734           22.589935  96.249886   \n",
       "agm001234439     1.199770           2.920813            1.199770   0.827288   \n",
       "agm001281942     5.700829          13.281893            5.700829   0.834673   \n",
       "agm001375463    37.453088          67.147503           37.453088  29.619974   \n",
       "agm002017294     9.699016          22.813186            9.699016  16.934658   \n",
       "\n",
       "              dRMS_true  \n",
       "agm001037983  51.882585  \n",
       "agm001234439   0.453301  \n",
       "agm001281942   0.405796  \n",
       "agm001375463  16.521232  \n",
       "agm002017294   9.124151  "
      ]
     },
     "metadata": {},
     "output_type": "display_data"
    }
   ],
   "source": [
    "df_orig = load_full()\n",
    "df_pred_matten = pd.read_json(\"df_pred_matten_holdout.json.gz\")\n",
    "\n",
    "# Computing dKP from the Matten tensors predictions\n",
    "list_dKP_matten = []\n",
    "list_dRMS_matten = []\n",
    "list_dKP_matten_masked = []\n",
    "list_dRMS_matten_masked = []\n",
    "for ir, r in df_pred_matten.iterrows():\n",
    "    dijk_matten = shg.from_voigt(r[\"dijk_matten\"])\n",
    "    list_dKP_matten.append(shg.get_dKP(dijk_matten))\n",
    "    list_dRMS_matten.append(shg.get_dRMS(dijk_matten))\n",
    "\n",
    "    dijk_orig = shg.from_voigt(df_orig.loc[ir][\"dijk_full_neum\"])\n",
    "    dijk_matten = np.where(dijk_orig != 0, dijk_matten, 0)\n",
    "    list_dKP_matten_masked.append(shg.get_dKP(dijk_matten))\n",
    "    list_dRMS_matten_masked.append(shg.get_dRMS(dijk_matten))\n",
    "\n",
    "df_pred_matten[\"dKP_matten\"] = list_dKP_matten\n",
    "df_pred_matten[\"dRMS_matten\"] = list_dRMS_matten\n",
    "df_pred_matten[\"dKP_matten_masked\"] = list_dKP_matten_masked\n",
    "df_pred_matten[\"dRMS_matten_masked\"] = list_dRMS_matten_masked\n",
    "\n",
    "# Adding the true dKP to the df\n",
    "df_pred_matten[\"dKP_true\"] = df_orig.filter(df_pred_matten.index, axis=0)[\n",
    "    \"dKP_full_neum\"\n",
    "].tolist()\n",
    "df_pred_matten[\"dRMS_true\"] = [\n",
    "    shg.get_dRMS(d)\n",
    "    for d in df_orig.filter(df_pred_matten.index, axis=0)[\"dijk_full_neum\"].tolist()\n",
    "]\n",
    "\n",
    "print(df_pred_matten.shape)\n",
    "display(df_pred_matten.head())"
   ]
  },
  {
   "cell_type": "code",
   "execution_count": 5,
   "metadata": {},
   "outputs": [
    {
     "name": "stdout",
     "output_type": "stream",
     "text": [
      "(1001, 13)\n"
     ]
    },
    {
     "data": {
      "text/html": [
       "<div>\n",
       "<style scoped>\n",
       "    .dataframe tbody tr th:only-of-type {\n",
       "        vertical-align: middle;\n",
       "    }\n",
       "\n",
       "    .dataframe tbody tr th {\n",
       "        vertical-align: top;\n",
       "    }\n",
       "\n",
       "    .dataframe thead th {\n",
       "        text-align: right;\n",
       "    }\n",
       "</style>\n",
       "<table border=\"1\" class=\"dataframe\">\n",
       "  <thead>\n",
       "    <tr style=\"text-align: right;\">\n",
       "      <th></th>\n",
       "      <th>cumulative time</th>\n",
       "      <th>epoch</th>\n",
       "      <th>epoch time</th>\n",
       "      <th>metric_test/MeanAbsoluteError/shg_tensor_full</th>\n",
       "      <th>metric_val/MeanAbsoluteError/shg_tensor_full</th>\n",
       "      <th>step</th>\n",
       "      <th>test/loss/shg_tensor_full</th>\n",
       "      <th>test/total_loss</th>\n",
       "      <th>train/loss/shg_tensor_full</th>\n",
       "      <th>train/total_loss</th>\n",
       "      <th>val/loss/shg_tensor_full</th>\n",
       "      <th>val/score</th>\n",
       "      <th>val/total_loss</th>\n",
       "    </tr>\n",
       "  </thead>\n",
       "  <tbody>\n",
       "    <tr>\n",
       "      <th>0</th>\n",
       "      <td>35.970184</td>\n",
       "      <td>0</td>\n",
       "      <td>9.803946</td>\n",
       "      <td>NaN</td>\n",
       "      <td>5.938630</td>\n",
       "      <td>74</td>\n",
       "      <td>NaN</td>\n",
       "      <td>NaN</td>\n",
       "      <td>NaN</td>\n",
       "      <td>NaN</td>\n",
       "      <td>728.617371</td>\n",
       "      <td>5.938630</td>\n",
       "      <td>728.617371</td>\n",
       "    </tr>\n",
       "    <tr>\n",
       "      <th>1</th>\n",
       "      <td>NaN</td>\n",
       "      <td>0</td>\n",
       "      <td>NaN</td>\n",
       "      <td>NaN</td>\n",
       "      <td>NaN</td>\n",
       "      <td>74</td>\n",
       "      <td>NaN</td>\n",
       "      <td>NaN</td>\n",
       "      <td>695.522095</td>\n",
       "      <td>695.522095</td>\n",
       "      <td>NaN</td>\n",
       "      <td>NaN</td>\n",
       "      <td>NaN</td>\n",
       "    </tr>\n",
       "    <tr>\n",
       "      <th>2</th>\n",
       "      <td>45.583492</td>\n",
       "      <td>1</td>\n",
       "      <td>9.613308</td>\n",
       "      <td>NaN</td>\n",
       "      <td>6.047523</td>\n",
       "      <td>149</td>\n",
       "      <td>NaN</td>\n",
       "      <td>NaN</td>\n",
       "      <td>NaN</td>\n",
       "      <td>NaN</td>\n",
       "      <td>781.614990</td>\n",
       "      <td>6.047523</td>\n",
       "      <td>781.614990</td>\n",
       "    </tr>\n",
       "    <tr>\n",
       "      <th>3</th>\n",
       "      <td>NaN</td>\n",
       "      <td>1</td>\n",
       "      <td>NaN</td>\n",
       "      <td>NaN</td>\n",
       "      <td>NaN</td>\n",
       "      <td>149</td>\n",
       "      <td>NaN</td>\n",
       "      <td>NaN</td>\n",
       "      <td>601.060608</td>\n",
       "      <td>601.060608</td>\n",
       "      <td>NaN</td>\n",
       "      <td>NaN</td>\n",
       "      <td>NaN</td>\n",
       "    </tr>\n",
       "    <tr>\n",
       "      <th>4</th>\n",
       "      <td>55.200657</td>\n",
       "      <td>2</td>\n",
       "      <td>9.617167</td>\n",
       "      <td>NaN</td>\n",
       "      <td>5.821424</td>\n",
       "      <td>224</td>\n",
       "      <td>NaN</td>\n",
       "      <td>NaN</td>\n",
       "      <td>NaN</td>\n",
       "      <td>NaN</td>\n",
       "      <td>707.662170</td>\n",
       "      <td>5.821424</td>\n",
       "      <td>707.662170</td>\n",
       "    </tr>\n",
       "  </tbody>\n",
       "</table>\n",
       "</div>"
      ],
      "text/plain": [
       "   cumulative time  epoch  epoch time  \\\n",
       "0        35.970184      0    9.803946   \n",
       "1              NaN      0         NaN   \n",
       "2        45.583492      1    9.613308   \n",
       "3              NaN      1         NaN   \n",
       "4        55.200657      2    9.617167   \n",
       "\n",
       "   metric_test/MeanAbsoluteError/shg_tensor_full  \\\n",
       "0                                            NaN   \n",
       "1                                            NaN   \n",
       "2                                            NaN   \n",
       "3                                            NaN   \n",
       "4                                            NaN   \n",
       "\n",
       "   metric_val/MeanAbsoluteError/shg_tensor_full  step  \\\n",
       "0                                      5.938630    74   \n",
       "1                                           NaN    74   \n",
       "2                                      6.047523   149   \n",
       "3                                           NaN   149   \n",
       "4                                      5.821424   224   \n",
       "\n",
       "   test/loss/shg_tensor_full  test/total_loss  train/loss/shg_tensor_full  \\\n",
       "0                        NaN              NaN                         NaN   \n",
       "1                        NaN              NaN                  695.522095   \n",
       "2                        NaN              NaN                         NaN   \n",
       "3                        NaN              NaN                  601.060608   \n",
       "4                        NaN              NaN                         NaN   \n",
       "\n",
       "   train/total_loss  val/loss/shg_tensor_full  val/score  val/total_loss  \n",
       "0               NaN                728.617371   5.938630      728.617371  \n",
       "1        695.522095                       NaN        NaN             NaN  \n",
       "2               NaN                781.614990   6.047523      781.614990  \n",
       "3        601.060608                       NaN        NaN             NaN  \n",
       "4               NaN                707.662170   5.821424      707.662170  "
      ]
     },
     "metadata": {},
     "output_type": "display_data"
    }
   ],
   "source": [
    "type_set = os.path.basename(Path(os.getcwd())).split(\"predict_\")[1]\n",
    "\n",
    "df_lr = pd.read_csv(f\"../scripts_{type_set}/lightning_logs/version_0/metrics.csv\")\n",
    "print(df_lr.shape)\n",
    "display(df_lr.head())"
   ]
  },
  {
   "cell_type": "code",
   "execution_count": 6,
   "metadata": {},
   "outputs": [
    {
     "data": {
      "text/html": [
       "<div>\n",
       "<style scoped>\n",
       "    .dataframe tbody tr th:only-of-type {\n",
       "        vertical-align: middle;\n",
       "    }\n",
       "\n",
       "    .dataframe tbody tr th {\n",
       "        vertical-align: top;\n",
       "    }\n",
       "\n",
       "    .dataframe thead th {\n",
       "        text-align: right;\n",
       "    }\n",
       "</style>\n",
       "<table border=\"1\" class=\"dataframe\">\n",
       "  <thead>\n",
       "    <tr style=\"text-align: right;\">\n",
       "      <th></th>\n",
       "      <th>cumulative time</th>\n",
       "      <th>epoch</th>\n",
       "      <th>epoch time</th>\n",
       "      <th>metric_test/MeanAbsoluteError/shg_tensor_full</th>\n",
       "      <th>metric_val/MeanAbsoluteError/shg_tensor_full</th>\n",
       "      <th>step</th>\n",
       "      <th>test/loss/shg_tensor_full</th>\n",
       "      <th>test/total_loss</th>\n",
       "      <th>train/loss/shg_tensor_full</th>\n",
       "      <th>train/total_loss</th>\n",
       "      <th>val/loss/shg_tensor_full</th>\n",
       "      <th>val/score</th>\n",
       "      <th>val/total_loss</th>\n",
       "    </tr>\n",
       "    <tr>\n",
       "      <th>epoch</th>\n",
       "      <th></th>\n",
       "      <th></th>\n",
       "      <th></th>\n",
       "      <th></th>\n",
       "      <th></th>\n",
       "      <th></th>\n",
       "      <th></th>\n",
       "      <th></th>\n",
       "      <th></th>\n",
       "      <th></th>\n",
       "      <th></th>\n",
       "      <th></th>\n",
       "      <th></th>\n",
       "    </tr>\n",
       "  </thead>\n",
       "  <tbody>\n",
       "    <tr>\n",
       "      <th>0</th>\n",
       "      <td>35.970184</td>\n",
       "      <td>0</td>\n",
       "      <td>9.803946</td>\n",
       "      <td>NaN</td>\n",
       "      <td>5.938630</td>\n",
       "      <td>74</td>\n",
       "      <td>NaN</td>\n",
       "      <td>NaN</td>\n",
       "      <td>NaN</td>\n",
       "      <td>NaN</td>\n",
       "      <td>728.617371</td>\n",
       "      <td>5.938630</td>\n",
       "      <td>728.617371</td>\n",
       "    </tr>\n",
       "    <tr>\n",
       "      <th>1</th>\n",
       "      <td>45.583492</td>\n",
       "      <td>1</td>\n",
       "      <td>9.613308</td>\n",
       "      <td>NaN</td>\n",
       "      <td>6.047523</td>\n",
       "      <td>149</td>\n",
       "      <td>NaN</td>\n",
       "      <td>NaN</td>\n",
       "      <td>NaN</td>\n",
       "      <td>NaN</td>\n",
       "      <td>781.614990</td>\n",
       "      <td>6.047523</td>\n",
       "      <td>781.614990</td>\n",
       "    </tr>\n",
       "    <tr>\n",
       "      <th>2</th>\n",
       "      <td>55.200657</td>\n",
       "      <td>2</td>\n",
       "      <td>9.617167</td>\n",
       "      <td>NaN</td>\n",
       "      <td>5.821424</td>\n",
       "      <td>224</td>\n",
       "      <td>NaN</td>\n",
       "      <td>NaN</td>\n",
       "      <td>NaN</td>\n",
       "      <td>NaN</td>\n",
       "      <td>707.662170</td>\n",
       "      <td>5.821424</td>\n",
       "      <td>707.662170</td>\n",
       "    </tr>\n",
       "    <tr>\n",
       "      <th>3</th>\n",
       "      <td>64.821938</td>\n",
       "      <td>3</td>\n",
       "      <td>9.621279</td>\n",
       "      <td>NaN</td>\n",
       "      <td>6.068695</td>\n",
       "      <td>299</td>\n",
       "      <td>NaN</td>\n",
       "      <td>NaN</td>\n",
       "      <td>NaN</td>\n",
       "      <td>NaN</td>\n",
       "      <td>805.297180</td>\n",
       "      <td>6.068695</td>\n",
       "      <td>805.297180</td>\n",
       "    </tr>\n",
       "    <tr>\n",
       "      <th>4</th>\n",
       "      <td>74.470840</td>\n",
       "      <td>4</td>\n",
       "      <td>9.648905</td>\n",
       "      <td>NaN</td>\n",
       "      <td>5.660926</td>\n",
       "      <td>374</td>\n",
       "      <td>NaN</td>\n",
       "      <td>NaN</td>\n",
       "      <td>NaN</td>\n",
       "      <td>NaN</td>\n",
       "      <td>710.174500</td>\n",
       "      <td>5.660926</td>\n",
       "      <td>710.174500</td>\n",
       "    </tr>\n",
       "  </tbody>\n",
       "</table>\n",
       "</div>"
      ],
      "text/plain": [
       "       cumulative time  epoch  epoch time  \\\n",
       "epoch                                       \n",
       "0            35.970184      0    9.803946   \n",
       "1            45.583492      1    9.613308   \n",
       "2            55.200657      2    9.617167   \n",
       "3            64.821938      3    9.621279   \n",
       "4            74.470840      4    9.648905   \n",
       "\n",
       "       metric_test/MeanAbsoluteError/shg_tensor_full  \\\n",
       "epoch                                                  \n",
       "0                                                NaN   \n",
       "1                                                NaN   \n",
       "2                                                NaN   \n",
       "3                                                NaN   \n",
       "4                                                NaN   \n",
       "\n",
       "       metric_val/MeanAbsoluteError/shg_tensor_full  step  \\\n",
       "epoch                                                       \n",
       "0                                          5.938630    74   \n",
       "1                                          6.047523   149   \n",
       "2                                          5.821424   224   \n",
       "3                                          6.068695   299   \n",
       "4                                          5.660926   374   \n",
       "\n",
       "       test/loss/shg_tensor_full  test/total_loss  train/loss/shg_tensor_full  \\\n",
       "epoch                                                                           \n",
       "0                            NaN              NaN                         NaN   \n",
       "1                            NaN              NaN                         NaN   \n",
       "2                            NaN              NaN                         NaN   \n",
       "3                            NaN              NaN                         NaN   \n",
       "4                            NaN              NaN                         NaN   \n",
       "\n",
       "       train/total_loss  val/loss/shg_tensor_full  val/score  val/total_loss  \n",
       "epoch                                                                         \n",
       "0                   NaN                728.617371   5.938630      728.617371  \n",
       "1                   NaN                781.614990   6.047523      781.614990  \n",
       "2                   NaN                707.662170   5.821424      707.662170  \n",
       "3                   NaN                805.297180   6.068695      805.297180  \n",
       "4                   NaN                710.174500   5.660926      710.174500  "
      ]
     },
     "metadata": {},
     "output_type": "display_data"
    },
    {
     "data": {
      "text/html": [
       "<div>\n",
       "<style scoped>\n",
       "    .dataframe tbody tr th:only-of-type {\n",
       "        vertical-align: middle;\n",
       "    }\n",
       "\n",
       "    .dataframe tbody tr th {\n",
       "        vertical-align: top;\n",
       "    }\n",
       "\n",
       "    .dataframe thead th {\n",
       "        text-align: right;\n",
       "    }\n",
       "</style>\n",
       "<table border=\"1\" class=\"dataframe\">\n",
       "  <thead>\n",
       "    <tr style=\"text-align: right;\">\n",
       "      <th></th>\n",
       "      <th>cumulative time</th>\n",
       "      <th>epoch</th>\n",
       "      <th>epoch time</th>\n",
       "      <th>metric_test/MeanAbsoluteError/shg_tensor_full</th>\n",
       "      <th>metric_val/MeanAbsoluteError/shg_tensor_full</th>\n",
       "      <th>step</th>\n",
       "      <th>test/loss/shg_tensor_full</th>\n",
       "      <th>test/total_loss</th>\n",
       "      <th>train/loss/shg_tensor_full</th>\n",
       "      <th>train/total_loss</th>\n",
       "      <th>val/loss/shg_tensor_full</th>\n",
       "      <th>val/score</th>\n",
       "      <th>val/total_loss</th>\n",
       "    </tr>\n",
       "    <tr>\n",
       "      <th>epoch</th>\n",
       "      <th></th>\n",
       "      <th></th>\n",
       "      <th></th>\n",
       "      <th></th>\n",
       "      <th></th>\n",
       "      <th></th>\n",
       "      <th></th>\n",
       "      <th></th>\n",
       "      <th></th>\n",
       "      <th></th>\n",
       "      <th></th>\n",
       "      <th></th>\n",
       "      <th></th>\n",
       "    </tr>\n",
       "  </thead>\n",
       "  <tbody>\n",
       "    <tr>\n",
       "      <th>0</th>\n",
       "      <td>NaN</td>\n",
       "      <td>0</td>\n",
       "      <td>NaN</td>\n",
       "      <td>NaN</td>\n",
       "      <td>NaN</td>\n",
       "      <td>74</td>\n",
       "      <td>NaN</td>\n",
       "      <td>NaN</td>\n",
       "      <td>695.522095</td>\n",
       "      <td>695.522095</td>\n",
       "      <td>NaN</td>\n",
       "      <td>NaN</td>\n",
       "      <td>NaN</td>\n",
       "    </tr>\n",
       "    <tr>\n",
       "      <th>1</th>\n",
       "      <td>NaN</td>\n",
       "      <td>1</td>\n",
       "      <td>NaN</td>\n",
       "      <td>NaN</td>\n",
       "      <td>NaN</td>\n",
       "      <td>149</td>\n",
       "      <td>NaN</td>\n",
       "      <td>NaN</td>\n",
       "      <td>601.060608</td>\n",
       "      <td>601.060608</td>\n",
       "      <td>NaN</td>\n",
       "      <td>NaN</td>\n",
       "      <td>NaN</td>\n",
       "    </tr>\n",
       "    <tr>\n",
       "      <th>2</th>\n",
       "      <td>NaN</td>\n",
       "      <td>2</td>\n",
       "      <td>NaN</td>\n",
       "      <td>NaN</td>\n",
       "      <td>NaN</td>\n",
       "      <td>224</td>\n",
       "      <td>NaN</td>\n",
       "      <td>NaN</td>\n",
       "      <td>482.272247</td>\n",
       "      <td>482.272247</td>\n",
       "      <td>NaN</td>\n",
       "      <td>NaN</td>\n",
       "      <td>NaN</td>\n",
       "    </tr>\n",
       "    <tr>\n",
       "      <th>3</th>\n",
       "      <td>NaN</td>\n",
       "      <td>3</td>\n",
       "      <td>NaN</td>\n",
       "      <td>NaN</td>\n",
       "      <td>NaN</td>\n",
       "      <td>299</td>\n",
       "      <td>NaN</td>\n",
       "      <td>NaN</td>\n",
       "      <td>368.987244</td>\n",
       "      <td>368.987244</td>\n",
       "      <td>NaN</td>\n",
       "      <td>NaN</td>\n",
       "      <td>NaN</td>\n",
       "    </tr>\n",
       "    <tr>\n",
       "      <th>4</th>\n",
       "      <td>NaN</td>\n",
       "      <td>4</td>\n",
       "      <td>NaN</td>\n",
       "      <td>NaN</td>\n",
       "      <td>NaN</td>\n",
       "      <td>374</td>\n",
       "      <td>NaN</td>\n",
       "      <td>NaN</td>\n",
       "      <td>287.438171</td>\n",
       "      <td>287.438171</td>\n",
       "      <td>NaN</td>\n",
       "      <td>NaN</td>\n",
       "      <td>NaN</td>\n",
       "    </tr>\n",
       "  </tbody>\n",
       "</table>\n",
       "</div>"
      ],
      "text/plain": [
       "       cumulative time  epoch  epoch time  \\\n",
       "epoch                                       \n",
       "0                  NaN      0         NaN   \n",
       "1                  NaN      1         NaN   \n",
       "2                  NaN      2         NaN   \n",
       "3                  NaN      3         NaN   \n",
       "4                  NaN      4         NaN   \n",
       "\n",
       "       metric_test/MeanAbsoluteError/shg_tensor_full  \\\n",
       "epoch                                                  \n",
       "0                                                NaN   \n",
       "1                                                NaN   \n",
       "2                                                NaN   \n",
       "3                                                NaN   \n",
       "4                                                NaN   \n",
       "\n",
       "       metric_val/MeanAbsoluteError/shg_tensor_full  step  \\\n",
       "epoch                                                       \n",
       "0                                               NaN    74   \n",
       "1                                               NaN   149   \n",
       "2                                               NaN   224   \n",
       "3                                               NaN   299   \n",
       "4                                               NaN   374   \n",
       "\n",
       "       test/loss/shg_tensor_full  test/total_loss  train/loss/shg_tensor_full  \\\n",
       "epoch                                                                           \n",
       "0                            NaN              NaN                  695.522095   \n",
       "1                            NaN              NaN                  601.060608   \n",
       "2                            NaN              NaN                  482.272247   \n",
       "3                            NaN              NaN                  368.987244   \n",
       "4                            NaN              NaN                  287.438171   \n",
       "\n",
       "       train/total_loss  val/loss/shg_tensor_full  val/score  val/total_loss  \n",
       "epoch                                                                         \n",
       "0            695.522095                       NaN        NaN             NaN  \n",
       "1            601.060608                       NaN        NaN             NaN  \n",
       "2            482.272247                       NaN        NaN             NaN  \n",
       "3            368.987244                       NaN        NaN             NaN  \n",
       "4            287.438171                       NaN        NaN             NaN  "
      ]
     },
     "metadata": {},
     "output_type": "display_data"
    }
   ],
   "source": [
    "df_lr_epochs_first = df_lr[df_lr[\"epoch\"].duplicated(keep=\"last\")]\n",
    "df_lr_epochs_first.index = df_lr_epochs_first[\"epoch\"]\n",
    "display(df_lr_epochs_first.head())\n",
    "df_lr_epochs_second = df_lr[df_lr[\"epoch\"].duplicated(keep=\"first\")]\n",
    "df_lr_epochs_second.index = df_lr_epochs_second[\"epoch\"]\n",
    "display(df_lr_epochs_second.head())"
   ]
  },
  {
   "cell_type": "markdown",
   "metadata": {},
   "source": [
    "# Learning rates"
   ]
  },
  {
   "cell_type": "markdown",
   "metadata": {},
   "source": [
    "## Loss"
   ]
  },
  {
   "cell_type": "code",
   "execution_count": 7,
   "metadata": {},
   "outputs": [
    {
     "data": {
      "application/vnd.plotly.v1+json": {
       "config": {
        "plotlyServerURL": "https://plot.ly"
       },
       "data": [
        {
         "mode": "lines+markers",
         "name": "Train loss",
         "showlegend": true,
         "type": "scatter",
         "x": [
          0,
          1,
          2,
          3,
          4,
          5,
          6,
          7,
          8,
          9,
          10,
          11,
          12,
          13,
          14,
          15,
          16,
          17,
          18,
          19,
          20,
          21,
          22,
          23,
          24,
          25,
          26,
          27,
          28,
          29,
          30,
          31,
          32,
          33,
          34,
          35,
          36,
          37,
          38,
          39,
          40,
          41,
          42,
          43,
          44,
          45,
          46,
          47,
          48,
          49,
          50,
          51,
          52,
          53,
          54,
          55,
          56,
          57,
          58,
          59,
          60,
          61,
          62,
          63,
          64,
          65,
          66,
          67,
          68,
          69,
          70,
          71,
          72,
          73,
          74,
          75,
          76,
          77,
          78,
          79,
          80,
          81,
          82,
          83,
          84,
          85,
          86,
          87,
          88,
          89,
          90,
          91,
          92,
          93,
          94,
          95,
          96,
          97,
          98,
          99,
          100,
          101,
          102,
          103,
          104,
          105,
          106,
          107,
          108,
          109,
          110,
          111,
          112,
          113,
          114,
          115,
          116,
          117,
          118,
          119,
          120,
          121,
          122,
          123,
          124,
          125,
          126,
          127,
          128,
          129,
          130,
          131,
          132,
          133,
          134,
          135,
          136,
          137,
          138,
          139,
          140,
          141,
          142,
          143,
          144,
          145,
          146,
          147,
          148,
          149,
          150,
          151,
          152,
          153,
          154,
          155,
          156,
          157,
          158,
          159,
          160,
          161,
          162,
          163,
          164,
          165,
          166,
          167,
          168,
          169,
          170,
          171,
          172,
          173,
          174,
          175,
          176,
          177,
          178,
          179,
          180,
          181,
          182,
          183,
          184,
          185,
          186,
          187,
          188,
          189,
          190,
          191,
          192,
          193,
          194,
          195,
          196,
          197,
          198,
          199,
          200,
          201,
          202,
          203,
          204,
          205,
          206,
          207,
          208,
          209,
          210,
          211,
          212,
          213,
          214,
          215,
          216,
          217,
          218,
          219,
          220,
          221,
          222,
          223,
          224,
          225,
          226,
          227,
          228,
          229,
          230,
          231,
          232,
          233,
          234,
          235,
          236,
          237,
          238,
          239,
          240,
          241,
          242,
          243,
          244,
          245,
          246,
          247,
          248,
          249,
          250,
          251,
          252,
          253,
          254,
          255,
          256,
          257,
          258,
          259,
          260,
          261,
          262,
          263,
          264,
          265,
          266,
          267,
          268,
          269,
          270,
          271,
          272,
          273,
          274,
          275,
          276,
          277,
          278,
          279,
          280,
          281,
          282,
          283,
          284,
          285,
          286,
          287,
          288,
          289,
          290,
          291,
          292,
          293,
          294,
          295,
          296,
          297,
          298,
          299,
          300,
          301,
          302,
          303,
          304,
          305,
          306,
          307,
          308,
          309,
          310,
          311,
          312,
          313,
          314,
          315,
          316,
          317,
          318,
          319,
          320,
          321,
          322,
          323,
          324,
          325,
          326,
          327,
          328,
          329,
          330,
          331,
          332,
          333,
          334,
          335,
          336,
          337,
          338,
          339,
          340,
          341,
          342,
          343,
          344,
          345,
          346,
          347,
          348,
          349,
          350,
          351,
          352,
          353,
          354,
          355,
          356,
          357,
          358,
          359,
          360,
          361,
          362,
          363,
          364,
          365,
          366,
          367,
          368,
          369,
          370,
          371,
          372,
          373,
          374,
          375,
          376,
          377,
          378,
          379,
          380,
          381,
          382,
          383,
          384,
          385,
          386,
          387,
          388,
          389,
          390,
          391,
          392,
          393,
          394,
          395,
          396,
          397,
          398,
          399,
          400,
          401,
          402,
          403,
          404,
          405,
          406,
          407,
          408,
          409,
          410,
          411,
          412,
          413,
          414,
          415,
          416,
          417,
          418,
          419,
          420,
          421,
          422,
          423,
          424,
          425,
          426,
          427,
          428,
          429,
          430,
          431,
          432,
          433,
          434,
          435,
          436,
          437,
          438,
          439,
          440,
          441,
          442,
          443,
          444,
          445,
          446,
          447,
          448,
          449,
          450,
          451,
          452,
          453,
          454,
          455,
          456,
          457,
          458,
          459,
          460,
          461,
          462,
          463,
          464,
          465,
          466,
          467,
          468,
          469,
          470,
          471,
          472,
          473,
          474,
          475,
          476,
          477,
          478,
          479,
          480,
          481,
          482,
          483,
          484,
          485,
          486,
          487,
          488,
          489,
          490,
          491,
          492,
          493,
          494,
          495,
          496,
          497,
          498,
          499
         ],
         "y": [
          695.5220947265625,
          601.0606079101562,
          482.2722473144531,
          368.98724365234375,
          287.43817138671875,
          248.21421813964844,
          224.50433349609372,
          196.9920196533203,
          170.61041259765625,
          162.9557647705078,
          157.1986846923828,
          140.98501586914062,
          142.48941040039062,
          138.443359375,
          130.97946166992188,
          147.08248901367188,
          140.80975341796875,
          124.1630401611328,
          126.21546173095705,
          121.60372161865234,
          121.56495666503906,
          117.0384292602539,
          116.09706115722656,
          120.73922729492188,
          119.08421325683594,
          121.24392700195312,
          130.9225311279297,
          121.47270965576172,
          114.5069580078125,
          115.61300659179688,
          117.08905792236328,
          119.24718475341795,
          126.35773468017578,
          117.62347412109376,
          110.15245819091795,
          113.51171875,
          110.04037475585938,
          110.044677734375,
          107.74475860595705,
          107.12579345703124,
          108.69766998291016,
          113.58759307861328,
          113.99622344970705,
          108.63420867919922,
          107.24811553955078,
          109.94810485839844,
          111.57465362548828,
          111.32605743408205,
          107.73908233642578,
          104.02654266357422,
          104.63288116455078,
          104.77251434326172,
          108.3955535888672,
          106.01040649414062,
          107.94818115234376,
          105.21463012695312,
          102.9295654296875,
          103.66289520263672,
          129.15553283691406,
          122.37323760986328,
          107.87835693359376,
          104.9530258178711,
          104.43628692626952,
          101.31861877441406,
          100.67381286621094,
          106.56613159179688,
          105.63233947753906,
          94.30706787109376,
          92.65789031982422,
          92.0443115234375,
          92.19341278076172,
          91.82650756835938,
          92.3309097290039,
          92.26016998291016,
          92.96176147460938,
          93.14391326904295,
          92.0331802368164,
          92.88301849365234,
          93.83572387695312,
          92.61895751953124,
          91.7471160888672,
          91.76237487792967,
          92.92374420166016,
          94.74162292480467,
          94.87845611572266,
          94.29402923583984,
          93.00598907470705,
          92.1048355102539,
          93.9982681274414,
          93.5810546875,
          96.30279541015624,
          96.21319580078124,
          92.7998504638672,
          92.70938110351562,
          94.0124282836914,
          107.2719497680664,
          98.73248291015624,
          97.3123550415039,
          96.07938385009766,
          94.51344299316406,
          93.3571548461914,
          92.11211395263672,
          92.05754852294922,
          92.70890808105467,
          93.3471450805664,
          93.42122650146484,
          94.26097106933594,
          93.35167694091795,
          92.36856842041016,
          91.88701629638672,
          93.7155303955078,
          95.72925567626952,
          94.1193618774414,
          95.94696044921876,
          95.91461944580078,
          95.4718246459961,
          93.972412109375,
          92.59230041503906,
          90.74470520019533,
          90.00846099853516,
          90.33079528808594,
          90.24016571044922,
          90.29670715332033,
          89.96537017822266,
          89.95828247070312,
          89.88896179199219,
          89.41008758544922,
          89.56088256835938,
          89.879638671875,
          89.63845825195312,
          90.2285385131836,
          89.83493041992188,
          90.26599884033205,
          89.69520568847656,
          89.6795654296875,
          89.61595153808594,
          90.16818237304688,
          89.89086151123047,
          90.45986938476562,
          90.22211456298828,
          90.12088012695312,
          90.3655014038086,
          90.04387664794922,
          89.76514434814453,
          89.87669372558594,
          89.69865417480469,
          90.47086334228516,
          90.00630950927734,
          91.46611785888672,
          91.04851531982422,
          90.01851654052734,
          89.42298126220703,
          89.77828216552734,
          90.19690704345705,
          90.6844253540039,
          90.11705017089844,
          90.10232543945312,
          90.21084594726562,
          89.8888931274414,
          89.64922332763672,
          89.9073715209961,
          89.79064178466797,
          89.76998901367188,
          89.7401123046875,
          89.79653930664062,
          90.52793884277344,
          89.86460876464844,
          90.48235321044922,
          89.90901184082031,
          88.92253112792969,
          89.26460266113281,
          88.88224029541016,
          88.69133758544922,
          88.60662078857422,
          88.83295440673828,
          88.9410171508789,
          88.71138763427734,
          88.85160827636719,
          88.84276580810547,
          88.59220123291016,
          88.67796325683594,
          89.43109893798828,
          89.24353790283203,
          88.95295715332031,
          89.09623718261719,
          89.19898223876953,
          89.67904663085938,
          89.04779815673828,
          88.89884948730469,
          89.09165954589844,
          88.54415130615234,
          88.86404418945312,
          88.76536560058594,
          88.72779083251953,
          88.90796661376953,
          88.77757263183594,
          88.74246978759766,
          88.82907104492188,
          88.76394653320312,
          88.83438110351562,
          88.915283203125,
          88.66374969482422,
          88.72097778320312,
          90.10614776611328,
          89.19788360595703,
          88.7228775024414,
          88.95558166503906,
          88.53990936279297,
          88.62813568115234,
          88.85791778564453,
          88.57413482666016,
          88.91960906982422,
          88.39276123046875,
          88.96647644042969,
          88.71341705322266,
          88.96485900878906,
          88.77679443359375,
          88.83418273925781,
          88.61019134521484,
          88.44982147216797,
          88.2724838256836,
          88.30547332763672,
          88.33055114746094,
          88.24931335449219,
          88.21749114990234,
          88.29106140136719,
          88.25057220458984,
          88.14202880859375,
          88.26441192626953,
          88.16129302978516,
          88.3495101928711,
          88.26828002929688,
          88.40401458740234,
          88.12866973876953,
          88.18858337402344,
          88.31178283691406,
          88.37590026855469,
          88.22164916992188,
          88.17859649658203,
          88.26793670654297,
          88.24908447265625,
          88.37330627441406,
          88.61709594726562,
          88.164306640625,
          88.48258972167969,
          88.19664001464844,
          88.22066497802734,
          88.24073028564453,
          88.35626220703125,
          88.39317321777344,
          88.11642456054688,
          88.15353393554688,
          88.21955871582031,
          88.39479064941406,
          88.3953857421875,
          88.24159240722656,
          88.40591430664062,
          88.23163604736328,
          88.17113494873047,
          88.25287628173828,
          88.30167388916016,
          88.24356079101562,
          88.36563110351562,
          88.31036376953125,
          88.08949279785156,
          88.11555480957031,
          88.32767486572266,
          88.38846588134766,
          88.3542251586914,
          88.18278503417969,
          88.43034362792969,
          88.14531707763672,
          88.02422332763672,
          87.92192840576172,
          88.0370864868164,
          88.08021545410156,
          88.08103942871094,
          88.25414276123047,
          88.0019760131836,
          87.97532653808594,
          88.27596282958984,
          88.08116912841797,
          87.89481353759766,
          87.95292663574219,
          88.0478515625,
          87.99657440185547,
          87.94657135009766,
          88.12351989746094,
          88.09639739990234,
          87.95613861083984,
          87.89710998535156,
          88.140625,
          88.05418395996094,
          87.99456787109375,
          88.01020050048828,
          87.96734619140625,
          87.95857238769531,
          87.98125457763672,
          88.09899139404297,
          88.03085327148438,
          87.96746063232422,
          88.07099151611328,
          87.94851684570312,
          88.14107513427734,
          87.91520690917969,
          88.202880859375,
          87.89781188964844,
          88.23052978515625,
          88.40436553955078,
          88.0564956665039,
          88.00868225097656,
          87.99992370605469,
          88.04825592041016,
          87.93866729736328,
          87.98828887939453,
          88.05259704589844,
          88.24668884277344,
          87.95662689208984,
          87.89984130859375,
          88.0771484375,
          87.96610260009766,
          88.15605926513672,
          87.84008026123047,
          87.84920501708984,
          87.99384307861328,
          87.92252349853516,
          87.82766723632812,
          88.01217651367188,
          87.9136962890625,
          87.90918731689453,
          87.99829864501953,
          87.81380462646484,
          87.88499450683594,
          87.95568084716797,
          87.90816497802734,
          87.94638061523438,
          87.86827850341797,
          87.91100311279297,
          87.95777893066406,
          88.00032043457031,
          87.94357299804688,
          87.90032196044922,
          87.93850708007812,
          87.8283462524414,
          87.99905395507812,
          87.9980697631836,
          87.98200988769531,
          87.91429138183594,
          87.95066833496094,
          88.06746673583984,
          88.0337905883789,
          87.971923828125,
          87.8876953125,
          87.8757095336914,
          87.88541412353516,
          87.9073715209961,
          87.83527374267578,
          87.86129760742188,
          87.92037200927734,
          88.11492156982422,
          87.88516235351562,
          87.88992309570312,
          87.88164520263672,
          87.73057556152344,
          88.01879119873047,
          87.91520690917969,
          87.87745666503906,
          87.9899673461914,
          87.99735260009766,
          87.94810485839844,
          87.90067291259766,
          87.95984649658203,
          88.00379180908203,
          87.85298156738281,
          87.92565155029297,
          87.84510040283203,
          87.90974426269531,
          87.93518829345703,
          87.95092010498047,
          88.06519317626953,
          87.95315551757812,
          87.89836883544922,
          87.90103912353516,
          87.8966064453125,
          88.06871795654297,
          87.75347900390625,
          87.85392761230469,
          87.7589340209961,
          87.87940216064453,
          87.7800064086914,
          88.20948791503906,
          87.8455810546875,
          87.95419311523438,
          87.73519897460938,
          87.87370300292969,
          87.65509033203125,
          88.10215759277344,
          87.82017517089844,
          87.83267974853516,
          87.85247039794922,
          87.80594635009766,
          87.97077178955078,
          87.8963394165039,
          87.92642974853516,
          88.11206817626953,
          87.86764526367188,
          87.90196228027344,
          87.82147979736328,
          88.15522766113281,
          87.85610961914062,
          87.78153228759766,
          88.05706024169922,
          87.90992736816406,
          88.1029052734375,
          87.79674530029297,
          87.75203704833984,
          87.904296875,
          87.86492156982422,
          87.76752471923828,
          87.89921569824219,
          87.90174102783203,
          87.81942749023438,
          87.9400863647461,
          87.76580047607422,
          87.8594741821289,
          87.82391357421875,
          87.81405639648438,
          87.81046295166016,
          87.7905044555664,
          88.00235748291016,
          87.93011474609375,
          88.1039047241211,
          87.7972183227539,
          87.93621826171875,
          87.8702163696289,
          87.94812774658203,
          87.70548248291016,
          87.67216491699219,
          87.93052673339844,
          87.82670593261719,
          87.82540130615234,
          87.79387664794922,
          87.67501068115234,
          87.89363098144531,
          87.7519760131836,
          87.91104125976562,
          87.95219421386719,
          88.01630401611328,
          87.8513412475586,
          87.77462768554688,
          87.79239654541016,
          88.00444793701172,
          87.8520278930664,
          87.8299789428711,
          87.77303314208984,
          87.77741241455078,
          87.78141784667969,
          87.7867431640625,
          87.95064544677734,
          87.75182342529297,
          87.82838439941406,
          87.72578430175781,
          87.72308349609375,
          87.8864974975586,
          87.7289810180664,
          87.74494171142578,
          87.77145385742188,
          87.78211975097656,
          87.75732421875,
          87.81272888183594,
          87.84892272949219,
          87.7485122680664,
          87.77061462402344,
          87.89934539794922,
          87.93077850341797,
          87.7440414428711,
          87.76859283447266,
          88.03810119628906,
          87.89549255371094,
          87.89256286621094,
          87.8517837524414,
          87.86287689208984,
          87.74004364013672,
          87.85755920410156,
          87.9647445678711,
          87.95667266845703,
          87.87654876708984,
          87.7842025756836,
          87.74981689453125,
          87.68710327148438,
          87.66516876220703,
          87.80644989013672,
          87.81544494628906,
          87.90103912353516,
          87.87142181396484,
          87.74029541015625,
          87.78746032714844,
          87.79407501220703,
          87.9007339477539,
          87.7520980834961
         ]
        },
        {
         "mode": "lines+markers",
         "name": "Validation loss",
         "showlegend": true,
         "type": "scatter",
         "x": [
          0,
          1,
          2,
          3,
          4,
          5,
          6,
          7,
          8,
          9,
          10,
          11,
          12,
          13,
          14,
          15,
          16,
          17,
          18,
          19,
          20,
          21,
          22,
          23,
          24,
          25,
          26,
          27,
          28,
          29,
          30,
          31,
          32,
          33,
          34,
          35,
          36,
          37,
          38,
          39,
          40,
          41,
          42,
          43,
          44,
          45,
          46,
          47,
          48,
          49,
          50,
          51,
          52,
          53,
          54,
          55,
          56,
          57,
          58,
          59,
          60,
          61,
          62,
          63,
          64,
          65,
          66,
          67,
          68,
          69,
          70,
          71,
          72,
          73,
          74,
          75,
          76,
          77,
          78,
          79,
          80,
          81,
          82,
          83,
          84,
          85,
          86,
          87,
          88,
          89,
          90,
          91,
          92,
          93,
          94,
          95,
          96,
          97,
          98,
          99,
          100,
          101,
          102,
          103,
          104,
          105,
          106,
          107,
          108,
          109,
          110,
          111,
          112,
          113,
          114,
          115,
          116,
          117,
          118,
          119,
          120,
          121,
          122,
          123,
          124,
          125,
          126,
          127,
          128,
          129,
          130,
          131,
          132,
          133,
          134,
          135,
          136,
          137,
          138,
          139,
          140,
          141,
          142,
          143,
          144,
          145,
          146,
          147,
          148,
          149,
          150,
          151,
          152,
          153,
          154,
          155,
          156,
          157,
          158,
          159,
          160,
          161,
          162,
          163,
          164,
          165,
          166,
          167,
          168,
          169,
          170,
          171,
          172,
          173,
          174,
          175,
          176,
          177,
          178,
          179,
          180,
          181,
          182,
          183,
          184,
          185,
          186,
          187,
          188,
          189,
          190,
          191,
          192,
          193,
          194,
          195,
          196,
          197,
          198,
          199,
          200,
          201,
          202,
          203,
          204,
          205,
          206,
          207,
          208,
          209,
          210,
          211,
          212,
          213,
          214,
          215,
          216,
          217,
          218,
          219,
          220,
          221,
          222,
          223,
          224,
          225,
          226,
          227,
          228,
          229,
          230,
          231,
          232,
          233,
          234,
          235,
          236,
          237,
          238,
          239,
          240,
          241,
          242,
          243,
          244,
          245,
          246,
          247,
          248,
          249,
          250,
          251,
          252,
          253,
          254,
          255,
          256,
          257,
          258,
          259,
          260,
          261,
          262,
          263,
          264,
          265,
          266,
          267,
          268,
          269,
          270,
          271,
          272,
          273,
          274,
          275,
          276,
          277,
          278,
          279,
          280,
          281,
          282,
          283,
          284,
          285,
          286,
          287,
          288,
          289,
          290,
          291,
          292,
          293,
          294,
          295,
          296,
          297,
          298,
          299,
          300,
          301,
          302,
          303,
          304,
          305,
          306,
          307,
          308,
          309,
          310,
          311,
          312,
          313,
          314,
          315,
          316,
          317,
          318,
          319,
          320,
          321,
          322,
          323,
          324,
          325,
          326,
          327,
          328,
          329,
          330,
          331,
          332,
          333,
          334,
          335,
          336,
          337,
          338,
          339,
          340,
          341,
          342,
          343,
          344,
          345,
          346,
          347,
          348,
          349,
          350,
          351,
          352,
          353,
          354,
          355,
          356,
          357,
          358,
          359,
          360,
          361,
          362,
          363,
          364,
          365,
          366,
          367,
          368,
          369,
          370,
          371,
          372,
          373,
          374,
          375,
          376,
          377,
          378,
          379,
          380,
          381,
          382,
          383,
          384,
          385,
          386,
          387,
          388,
          389,
          390,
          391,
          392,
          393,
          394,
          395,
          396,
          397,
          398,
          399,
          400,
          401,
          402,
          403,
          404,
          405,
          406,
          407,
          408,
          409,
          410,
          411,
          412,
          413,
          414,
          415,
          416,
          417,
          418,
          419,
          420,
          421,
          422,
          423,
          424,
          425,
          426,
          427,
          428,
          429,
          430,
          431,
          432,
          433,
          434,
          435,
          436,
          437,
          438,
          439,
          440,
          441,
          442,
          443,
          444,
          445,
          446,
          447,
          448,
          449,
          450,
          451,
          452,
          453,
          454,
          455,
          456,
          457,
          458,
          459,
          460,
          461,
          462,
          463,
          464,
          465,
          466,
          467,
          468,
          469,
          470,
          471,
          472,
          473,
          474,
          475,
          476,
          477,
          478,
          479,
          480,
          481,
          482,
          483,
          484,
          485,
          486,
          487,
          488,
          489,
          490,
          491,
          492,
          493,
          494,
          495,
          496,
          497,
          498,
          499
         ],
         "y": [
          728.6173706054688,
          781.614990234375,
          707.6621704101562,
          805.2971801757812,
          710.1744995117188,
          713.8021240234375,
          702.2310791015625,
          718.0294189453125,
          707.8002319335938,
          729.2598876953125,
          723.0335693359375,
          696.0420532226562,
          720.5740356445312,
          705.91943359375,
          654.8057861328125,
          725.9681396484375,
          654.1416015625,
          648.5531005859375,
          716.4234008789062,
          673.9071044921875,
          695.0204467773438,
          691.2792358398438,
          722.6484375,
          685.2686157226562,
          701.135498046875,
          698.3241577148438,
          684.8961791992188,
          705.0746459960938,
          688.1783447265625,
          673.3247680664062,
          689.6754150390625,
          661.9476318359375,
          685.3133544921875,
          687.8594970703125,
          696.2406616210938,
          685.765380859375,
          693.4393920898438,
          695.2247314453125,
          698.248291015625,
          702.503662109375,
          723.3050537109375,
          709.9598388671875,
          690.72314453125,
          709.5790405273438,
          705.0424194335938,
          710.787353515625,
          694.929931640625,
          710.2080688476562,
          700.6161499023438,
          662.0042724609375,
          731.5795288085938,
          732.0115356445312,
          712.778076171875,
          665.7257690429688,
          691.626953125,
          697.738037109375,
          709.729736328125,
          704.7250366210938,
          770.875244140625,
          706.34130859375,
          725.8660888671875,
          708.1355590820312,
          689.6107788085938,
          690.60986328125,
          722.688720703125,
          701.3578491210938,
          694.0462646484375,
          722.8077392578125,
          727.6007690429688,
          699.4020385742188,
          706.6738891601562,
          718.3070678710938,
          715.3055419921875,
          720.6799926757812,
          717.920166015625,
          718.7214965820312,
          720.54931640625,
          713.2149047851562,
          727.4143676757812,
          710.0596313476562,
          749.1592407226562,
          724.817138671875,
          712.7128295898438,
          715.5839233398438,
          713.9844360351562,
          720.7647094726562,
          717.0988159179688,
          703.9773559570312,
          731.0068359375,
          728.6561889648438,
          732.079833984375,
          733.6452026367188,
          737.866455078125,
          724.49658203125,
          715.6893920898438,
          738.1727294921875,
          732.1238403320312,
          718.1989135742188,
          717.1709594726562,
          725.2406616210938,
          720.4392700195312,
          712.6171875,
          708.709228515625,
          727.0438842773438,
          723.2782592773438,
          724.951904296875,
          722.35400390625,
          716.7916259765625,
          718.6532592773438,
          704.916259765625,
          737.4642944335938,
          726.8875122070312,
          737.5037841796875,
          711.7352294921875,
          738.2084350585938,
          728.4777221679688,
          715.72216796875,
          744.7803344726562,
          730.0387573242188,
          734.8800659179688,
          725.8685913085938,
          729.9874877929688,
          727.44873046875,
          728.4525146484375,
          732.577392578125,
          727.724365234375,
          726.9343872070312,
          733.6912841796875,
          732.8582763671875,
          727.0181274414062,
          733.3723754882812,
          734.59033203125,
          734.0850830078125,
          727.4791870117188,
          741.3374633789062,
          730.9376831054688,
          732.1796264648438,
          738.433837890625,
          728.2111206054688,
          723.3658447265625,
          726.5028076171875,
          738.3345947265625,
          744.4928588867188,
          738.0792846679688,
          726.523681640625,
          726.6884155273438,
          732.1551513671875,
          730.6154174804688,
          725.5953979492188,
          730.1353149414062,
          740.7404174804688,
          711.3026123046875,
          735.922119140625,
          722.07763671875,
          720.6773681640625,
          735.7645263671875,
          737.6766357421875,
          729.92041015625,
          728.0750122070312,
          727.7783203125,
          729.8318481445312,
          732.2211303710938,
          733.7206420898438,
          732.7308959960938,
          723.4322509765625,
          732.1578979492188,
          739.2122802734375,
          749.8118286132812,
          746.2078857421875,
          740.468505859375,
          740.4637451171875,
          740.6725463867188,
          738.1673583984375,
          736.3032836914062,
          737.5052490234375,
          741.2537841796875,
          733.9299926757812,
          732.8662109375,
          739.3160400390625,
          736.363037109375,
          738.3204956054688,
          737.7759399414062,
          741.52197265625,
          737.8641967773438,
          734.329345703125,
          735.1412353515625,
          736.7555541992188,
          737.7215576171875,
          740.0404052734375,
          737.9052734375,
          738.6311645507812,
          740.2767944335938,
          740.0723876953125,
          740.0523681640625,
          737.5014038085938,
          741.9251098632812,
          740.6097412109375,
          744.0858764648438,
          734.8368530273438,
          741.8660888671875,
          733.796142578125,
          733.6136474609375,
          736.12939453125,
          743.7034301757812,
          730.9247436523438,
          741.1939086914062,
          738.20947265625,
          734.9678955078125,
          734.7730102539062,
          735.6473999023438,
          737.307373046875,
          735.1683349609375,
          733.2992553710938,
          736.9859008789062,
          733.80517578125,
          738.8281860351562,
          739.1957397460938,
          738.5159301757812,
          735.49365234375,
          736.3855590820312,
          739.2905883789062,
          735.6983032226562,
          737.1611328125,
          734.6995239257812,
          740.0989990234375,
          740.021240234375,
          738.85302734375,
          742.0045166015625,
          736.3872680664062,
          739.757568359375,
          733.080078125,
          735.6571044921875,
          739.9261474609375,
          736.6578369140625,
          739.498046875,
          737.8749389648438,
          734.541748046875,
          736.667724609375,
          734.5831909179688,
          737.0502319335938,
          738.1212158203125,
          734.9774780273438,
          732.1463012695312,
          738.5762939453125,
          737.2276000976562,
          739.2538452148438,
          739.843017578125,
          737.301513671875,
          738.0257568359375,
          737.9347534179688,
          739.6729125976562,
          740.3403930664062,
          734.4124755859375,
          735.0095825195312,
          738.1027221679688,
          736.742431640625,
          738.891845703125,
          740.8471069335938,
          739.1949462890625,
          737.0797729492188,
          739.7476196289062,
          739.4298706054688,
          739.1417846679688,
          738.7592163085938,
          739.6521606445312,
          736.6524047851562,
          740.1761474609375,
          738.9255981445312,
          732.0595092773438,
          740.503662109375,
          737.1904907226562,
          740.4000854492188,
          740.1567993164062,
          738.8822021484375,
          741.1901245117188,
          741.258544921875,
          739.6226806640625,
          737.3464965820312,
          740.5997314453125,
          740.6135864257812,
          741.896484375,
          736.2281494140625,
          736.8566284179688,
          740.4810180664062,
          736.2174072265625,
          740.288330078125,
          738.3411254882812,
          737.531005859375,
          738.6009521484375,
          738.4851684570312,
          739.177490234375,
          738.2223510742188,
          743.6013793945312,
          740.6989135742188,
          738.2796020507812,
          737.0477905273438,
          738.9961547851562,
          740.7274780273438,
          737.7424926757812,
          734.9828491210938,
          737.593017578125,
          738.8739013671875,
          737.4022216796875,
          738.583740234375,
          741.2839965820312,
          739.8211669921875,
          736.5452270507812,
          739.9052124023438,
          741.5215454101562,
          739.5946655273438,
          739.3726196289062,
          738.3191528320312,
          738.4026489257812,
          737.5990600585938,
          737.71826171875,
          738.5225830078125,
          739.1863403320312,
          738.4258422851562,
          735.5167846679688,
          737.458984375,
          740.2064208984375,
          737.6014404296875,
          737.1450805664062,
          736.7069091796875,
          738.6198120117188,
          739.2847290039062,
          739.5265502929688,
          739.47998046875,
          739.1649780273438,
          739.7607421875,
          740.2201538085938,
          740.6517944335938,
          740.5216064453125,
          740.3477783203125,
          741.0924072265625,
          737.6510620117188,
          740.9234008789062,
          740.8490600585938,
          740.1226806640625,
          740.56201171875,
          740.1069946289062,
          740.492919921875,
          740.7254028320312,
          738.8096313476562,
          739.94384765625,
          736.8193359375,
          737.9462280273438,
          742.3240356445312,
          739.7908325195312,
          741.2219848632812,
          740.1516723632812,
          738.824951171875,
          740.9290161132812,
          740.4691772460938,
          741.0039672851562,
          739.971923828125,
          741.2041015625,
          737.1600952148438,
          738.8363647460938,
          738.5316162109375,
          740.4676513671875,
          738.5390014648438,
          738.871826171875,
          738.5108032226562,
          738.4600830078125,
          740.8304443359375,
          739.5571899414062,
          738.2373657226562,
          739.7654418945312,
          736.6405029296875,
          739.5396728515625,
          739.5696411132812,
          739.5184326171875,
          738.9656982421875,
          738.8098754882812,
          738.3624267578125,
          738.8899536132812,
          737.7260131835938,
          737.1421508789062,
          740.060546875,
          741.1712646484375,
          738.7219848632812,
          739.1192016601562,
          739.84326171875,
          737.9180908203125,
          740.2761840820312,
          740.1819458007812,
          738.7657470703125,
          737.0970458984375,
          738.2882690429688,
          736.784423828125,
          738.2416381835938,
          737.5523681640625,
          739.7144165039062,
          738.1371459960938,
          739.042236328125,
          738.9163818359375,
          737.7992553710938,
          739.1087646484375,
          738.7737426757812,
          738.5243530273438,
          740.864501953125,
          738.6408081054688,
          738.0175170898438,
          738.60791015625,
          738.9216918945312,
          737.74560546875,
          737.583251953125,
          739.713623046875,
          737.6554565429688,
          738.1170654296875,
          737.6929931640625,
          738.6213989257812,
          736.6216430664062,
          739.2317504882812,
          741.1349487304688,
          738.5150146484375,
          741.389404296875,
          738.1661376953125,
          740.0755004882812,
          740.60986328125,
          739.9461669921875,
          740.3237915039062,
          739.8356323242188,
          738.9896850585938,
          739.1298828125,
          740.4141845703125,
          739.7150268554688,
          739.1121826171875,
          737.1834106445312,
          738.8970336914062,
          739.193359375,
          739.0250244140625,
          737.920654296875,
          737.712646484375,
          739.2613525390625,
          739.6213989257812,
          740.5059204101562,
          740.8391723632812,
          739.6746826171875,
          738.7261352539062,
          738.0178833007812,
          738.9474487304688,
          740.2947998046875,
          739.49755859375,
          739.52294921875,
          740.2064819335938,
          739.5949096679688,
          740.7928466796875,
          740.9212646484375,
          737.464111328125,
          741.0079956054688,
          741.5963134765625,
          738.6686401367188,
          740.8844604492188,
          739.1395874023438,
          738.9089965820312,
          739.141357421875,
          739.360595703125,
          740.53955078125,
          739.1826171875,
          739.9033203125,
          739.2601318359375,
          740.3927001953125,
          740.3042602539062,
          740.5742797851562,
          740.4717407226562,
          740.0472412109375,
          741.0842895507812,
          739.3944702148438,
          739.8590087890625,
          739.8836059570312,
          738.716796875,
          738.1192626953125,
          742.3863525390625,
          740.4735107421875,
          739.0720825195312,
          739.7888793945312,
          738.6915283203125,
          739.151611328125,
          739.240478515625,
          740.9823608398438,
          740.7084350585938,
          739.2606201171875,
          738.994384765625,
          741.140869140625,
          739.9630126953125,
          740.0409545898438,
          740.4951782226562,
          736.9507446289062,
          740.3094482421875,
          741.0996704101562,
          739.8004760742188,
          739.5445556640625,
          739.3314819335938,
          740.0110473632812,
          739.2938842773438,
          741.8052368164062,
          741.5248413085938,
          741.5352783203125
         ]
        }
       ],
       "layout": {
        "autosize": true,
        "font": {
         "size": 20
        },
        "template": {
         "data": {
          "bar": [
           {
            "error_x": {
             "color": "rgb(36,36,36)"
            },
            "error_y": {
             "color": "rgb(36,36,36)"
            },
            "marker": {
             "line": {
              "color": "white",
              "width": 0.5
             },
             "pattern": {
              "fillmode": "overlay",
              "size": 10,
              "solidity": 0.2
             }
            },
            "type": "bar"
           }
          ],
          "barpolar": [
           {
            "marker": {
             "line": {
              "color": "white",
              "width": 0.5
             },
             "pattern": {
              "fillmode": "overlay",
              "size": 10,
              "solidity": 0.2
             }
            },
            "type": "barpolar"
           }
          ],
          "carpet": [
           {
            "aaxis": {
             "endlinecolor": "rgb(36,36,36)",
             "gridcolor": "white",
             "linecolor": "white",
             "minorgridcolor": "white",
             "startlinecolor": "rgb(36,36,36)"
            },
            "baxis": {
             "endlinecolor": "rgb(36,36,36)",
             "gridcolor": "white",
             "linecolor": "white",
             "minorgridcolor": "white",
             "startlinecolor": "rgb(36,36,36)"
            },
            "type": "carpet"
           }
          ],
          "choropleth": [
           {
            "colorbar": {
             "outlinewidth": 1,
             "tickcolor": "rgb(36,36,36)",
             "ticks": "outside"
            },
            "type": "choropleth"
           }
          ],
          "contour": [
           {
            "colorbar": {
             "outlinewidth": 1,
             "tickcolor": "rgb(36,36,36)",
             "ticks": "outside"
            },
            "colorscale": [
             [
              0,
              "#440154"
             ],
             [
              0.1111111111111111,
              "#482878"
             ],
             [
              0.2222222222222222,
              "#3e4989"
             ],
             [
              0.3333333333333333,
              "#31688e"
             ],
             [
              0.4444444444444444,
              "#26828e"
             ],
             [
              0.5555555555555556,
              "#1f9e89"
             ],
             [
              0.6666666666666666,
              "#35b779"
             ],
             [
              0.7777777777777778,
              "#6ece58"
             ],
             [
              0.8888888888888888,
              "#b5de2b"
             ],
             [
              1,
              "#fde725"
             ]
            ],
            "type": "contour"
           }
          ],
          "contourcarpet": [
           {
            "colorbar": {
             "outlinewidth": 1,
             "tickcolor": "rgb(36,36,36)",
             "ticks": "outside"
            },
            "type": "contourcarpet"
           }
          ],
          "heatmap": [
           {
            "colorbar": {
             "outlinewidth": 1,
             "tickcolor": "rgb(36,36,36)",
             "ticks": "outside"
            },
            "colorscale": [
             [
              0,
              "#440154"
             ],
             [
              0.1111111111111111,
              "#482878"
             ],
             [
              0.2222222222222222,
              "#3e4989"
             ],
             [
              0.3333333333333333,
              "#31688e"
             ],
             [
              0.4444444444444444,
              "#26828e"
             ],
             [
              0.5555555555555556,
              "#1f9e89"
             ],
             [
              0.6666666666666666,
              "#35b779"
             ],
             [
              0.7777777777777778,
              "#6ece58"
             ],
             [
              0.8888888888888888,
              "#b5de2b"
             ],
             [
              1,
              "#fde725"
             ]
            ],
            "type": "heatmap"
           }
          ],
          "heatmapgl": [
           {
            "colorbar": {
             "outlinewidth": 1,
             "tickcolor": "rgb(36,36,36)",
             "ticks": "outside"
            },
            "colorscale": [
             [
              0,
              "#440154"
             ],
             [
              0.1111111111111111,
              "#482878"
             ],
             [
              0.2222222222222222,
              "#3e4989"
             ],
             [
              0.3333333333333333,
              "#31688e"
             ],
             [
              0.4444444444444444,
              "#26828e"
             ],
             [
              0.5555555555555556,
              "#1f9e89"
             ],
             [
              0.6666666666666666,
              "#35b779"
             ],
             [
              0.7777777777777778,
              "#6ece58"
             ],
             [
              0.8888888888888888,
              "#b5de2b"
             ],
             [
              1,
              "#fde725"
             ]
            ],
            "type": "heatmapgl"
           }
          ],
          "histogram": [
           {
            "marker": {
             "line": {
              "color": "white",
              "width": 0.6
             }
            },
            "type": "histogram"
           }
          ],
          "histogram2d": [
           {
            "colorbar": {
             "outlinewidth": 1,
             "tickcolor": "rgb(36,36,36)",
             "ticks": "outside"
            },
            "colorscale": [
             [
              0,
              "#440154"
             ],
             [
              0.1111111111111111,
              "#482878"
             ],
             [
              0.2222222222222222,
              "#3e4989"
             ],
             [
              0.3333333333333333,
              "#31688e"
             ],
             [
              0.4444444444444444,
              "#26828e"
             ],
             [
              0.5555555555555556,
              "#1f9e89"
             ],
             [
              0.6666666666666666,
              "#35b779"
             ],
             [
              0.7777777777777778,
              "#6ece58"
             ],
             [
              0.8888888888888888,
              "#b5de2b"
             ],
             [
              1,
              "#fde725"
             ]
            ],
            "type": "histogram2d"
           }
          ],
          "histogram2dcontour": [
           {
            "colorbar": {
             "outlinewidth": 1,
             "tickcolor": "rgb(36,36,36)",
             "ticks": "outside"
            },
            "colorscale": [
             [
              0,
              "#440154"
             ],
             [
              0.1111111111111111,
              "#482878"
             ],
             [
              0.2222222222222222,
              "#3e4989"
             ],
             [
              0.3333333333333333,
              "#31688e"
             ],
             [
              0.4444444444444444,
              "#26828e"
             ],
             [
              0.5555555555555556,
              "#1f9e89"
             ],
             [
              0.6666666666666666,
              "#35b779"
             ],
             [
              0.7777777777777778,
              "#6ece58"
             ],
             [
              0.8888888888888888,
              "#b5de2b"
             ],
             [
              1,
              "#fde725"
             ]
            ],
            "type": "histogram2dcontour"
           }
          ],
          "mesh3d": [
           {
            "colorbar": {
             "outlinewidth": 1,
             "tickcolor": "rgb(36,36,36)",
             "ticks": "outside"
            },
            "type": "mesh3d"
           }
          ],
          "parcoords": [
           {
            "line": {
             "colorbar": {
              "outlinewidth": 1,
              "tickcolor": "rgb(36,36,36)",
              "ticks": "outside"
             }
            },
            "type": "parcoords"
           }
          ],
          "pie": [
           {
            "automargin": true,
            "type": "pie"
           }
          ],
          "scatter": [
           {
            "fillpattern": {
             "fillmode": "overlay",
             "size": 10,
             "solidity": 0.2
            },
            "type": "scatter"
           }
          ],
          "scatter3d": [
           {
            "line": {
             "colorbar": {
              "outlinewidth": 1,
              "tickcolor": "rgb(36,36,36)",
              "ticks": "outside"
             }
            },
            "marker": {
             "colorbar": {
              "outlinewidth": 1,
              "tickcolor": "rgb(36,36,36)",
              "ticks": "outside"
             }
            },
            "type": "scatter3d"
           }
          ],
          "scattercarpet": [
           {
            "marker": {
             "colorbar": {
              "outlinewidth": 1,
              "tickcolor": "rgb(36,36,36)",
              "ticks": "outside"
             }
            },
            "type": "scattercarpet"
           }
          ],
          "scattergeo": [
           {
            "marker": {
             "colorbar": {
              "outlinewidth": 1,
              "tickcolor": "rgb(36,36,36)",
              "ticks": "outside"
             }
            },
            "type": "scattergeo"
           }
          ],
          "scattergl": [
           {
            "marker": {
             "colorbar": {
              "outlinewidth": 1,
              "tickcolor": "rgb(36,36,36)",
              "ticks": "outside"
             }
            },
            "type": "scattergl"
           }
          ],
          "scattermapbox": [
           {
            "marker": {
             "colorbar": {
              "outlinewidth": 1,
              "tickcolor": "rgb(36,36,36)",
              "ticks": "outside"
             }
            },
            "type": "scattermapbox"
           }
          ],
          "scatterpolar": [
           {
            "marker": {
             "colorbar": {
              "outlinewidth": 1,
              "tickcolor": "rgb(36,36,36)",
              "ticks": "outside"
             }
            },
            "type": "scatterpolar"
           }
          ],
          "scatterpolargl": [
           {
            "marker": {
             "colorbar": {
              "outlinewidth": 1,
              "tickcolor": "rgb(36,36,36)",
              "ticks": "outside"
             }
            },
            "type": "scatterpolargl"
           }
          ],
          "scatterternary": [
           {
            "marker": {
             "colorbar": {
              "outlinewidth": 1,
              "tickcolor": "rgb(36,36,36)",
              "ticks": "outside"
             }
            },
            "type": "scatterternary"
           }
          ],
          "surface": [
           {
            "colorbar": {
             "outlinewidth": 1,
             "tickcolor": "rgb(36,36,36)",
             "ticks": "outside"
            },
            "colorscale": [
             [
              0,
              "#440154"
             ],
             [
              0.1111111111111111,
              "#482878"
             ],
             [
              0.2222222222222222,
              "#3e4989"
             ],
             [
              0.3333333333333333,
              "#31688e"
             ],
             [
              0.4444444444444444,
              "#26828e"
             ],
             [
              0.5555555555555556,
              "#1f9e89"
             ],
             [
              0.6666666666666666,
              "#35b779"
             ],
             [
              0.7777777777777778,
              "#6ece58"
             ],
             [
              0.8888888888888888,
              "#b5de2b"
             ],
             [
              1,
              "#fde725"
             ]
            ],
            "type": "surface"
           }
          ],
          "table": [
           {
            "cells": {
             "fill": {
              "color": "rgb(237,237,237)"
             },
             "line": {
              "color": "white"
             }
            },
            "header": {
             "fill": {
              "color": "rgb(217,217,217)"
             },
             "line": {
              "color": "white"
             }
            },
            "type": "table"
           }
          ]
         },
         "layout": {
          "annotationdefaults": {
           "arrowhead": 0,
           "arrowwidth": 1
          },
          "autotypenumbers": "strict",
          "coloraxis": {
           "colorbar": {
            "outlinewidth": 1,
            "tickcolor": "rgb(36,36,36)",
            "ticks": "outside"
           }
          },
          "colorscale": {
           "diverging": [
            [
             0,
             "rgb(103,0,31)"
            ],
            [
             0.1,
             "rgb(178,24,43)"
            ],
            [
             0.2,
             "rgb(214,96,77)"
            ],
            [
             0.3,
             "rgb(244,165,130)"
            ],
            [
             0.4,
             "rgb(253,219,199)"
            ],
            [
             0.5,
             "rgb(247,247,247)"
            ],
            [
             0.6,
             "rgb(209,229,240)"
            ],
            [
             0.7,
             "rgb(146,197,222)"
            ],
            [
             0.8,
             "rgb(67,147,195)"
            ],
            [
             0.9,
             "rgb(33,102,172)"
            ],
            [
             1,
             "rgb(5,48,97)"
            ]
           ],
           "sequential": [
            [
             0,
             "#440154"
            ],
            [
             0.1111111111111111,
             "#482878"
            ],
            [
             0.2222222222222222,
             "#3e4989"
            ],
            [
             0.3333333333333333,
             "#31688e"
            ],
            [
             0.4444444444444444,
             "#26828e"
            ],
            [
             0.5555555555555556,
             "#1f9e89"
            ],
            [
             0.6666666666666666,
             "#35b779"
            ],
            [
             0.7777777777777778,
             "#6ece58"
            ],
            [
             0.8888888888888888,
             "#b5de2b"
            ],
            [
             1,
             "#fde725"
            ]
           ],
           "sequentialminus": [
            [
             0,
             "#440154"
            ],
            [
             0.1111111111111111,
             "#482878"
            ],
            [
             0.2222222222222222,
             "#3e4989"
            ],
            [
             0.3333333333333333,
             "#31688e"
            ],
            [
             0.4444444444444444,
             "#26828e"
            ],
            [
             0.5555555555555556,
             "#1f9e89"
            ],
            [
             0.6666666666666666,
             "#35b779"
            ],
            [
             0.7777777777777778,
             "#6ece58"
            ],
            [
             0.8888888888888888,
             "#b5de2b"
            ],
            [
             1,
             "#fde725"
            ]
           ]
          },
          "colorway": [
           "#1F77B4",
           "#FF7F0E",
           "#2CA02C",
           "#D62728",
           "#9467BD",
           "#8C564B",
           "#E377C2",
           "#7F7F7F",
           "#BCBD22",
           "#17BECF"
          ],
          "font": {
           "color": "rgb(36,36,36)"
          },
          "geo": {
           "bgcolor": "white",
           "lakecolor": "white",
           "landcolor": "white",
           "showlakes": true,
           "showland": true,
           "subunitcolor": "white"
          },
          "hoverlabel": {
           "align": "left"
          },
          "hovermode": "closest",
          "mapbox": {
           "style": "light"
          },
          "paper_bgcolor": "white",
          "plot_bgcolor": "white",
          "polar": {
           "angularaxis": {
            "gridcolor": "rgb(232,232,232)",
            "linecolor": "rgb(36,36,36)",
            "showgrid": false,
            "showline": true,
            "ticks": "outside"
           },
           "bgcolor": "white",
           "radialaxis": {
            "gridcolor": "rgb(232,232,232)",
            "linecolor": "rgb(36,36,36)",
            "showgrid": false,
            "showline": true,
            "ticks": "outside"
           }
          },
          "scene": {
           "xaxis": {
            "backgroundcolor": "white",
            "gridcolor": "rgb(232,232,232)",
            "gridwidth": 2,
            "linecolor": "rgb(36,36,36)",
            "showbackground": true,
            "showgrid": false,
            "showline": true,
            "ticks": "outside",
            "zeroline": false,
            "zerolinecolor": "rgb(36,36,36)"
           },
           "yaxis": {
            "backgroundcolor": "white",
            "gridcolor": "rgb(232,232,232)",
            "gridwidth": 2,
            "linecolor": "rgb(36,36,36)",
            "showbackground": true,
            "showgrid": false,
            "showline": true,
            "ticks": "outside",
            "zeroline": false,
            "zerolinecolor": "rgb(36,36,36)"
           },
           "zaxis": {
            "backgroundcolor": "white",
            "gridcolor": "rgb(232,232,232)",
            "gridwidth": 2,
            "linecolor": "rgb(36,36,36)",
            "showbackground": true,
            "showgrid": false,
            "showline": true,
            "ticks": "outside",
            "zeroline": false,
            "zerolinecolor": "rgb(36,36,36)"
           }
          },
          "shapedefaults": {
           "fillcolor": "black",
           "line": {
            "width": 0
           },
           "opacity": 0.3
          },
          "ternary": {
           "aaxis": {
            "gridcolor": "rgb(232,232,232)",
            "linecolor": "rgb(36,36,36)",
            "showgrid": false,
            "showline": true,
            "ticks": "outside"
           },
           "baxis": {
            "gridcolor": "rgb(232,232,232)",
            "linecolor": "rgb(36,36,36)",
            "showgrid": false,
            "showline": true,
            "ticks": "outside"
           },
           "bgcolor": "white",
           "caxis": {
            "gridcolor": "rgb(232,232,232)",
            "linecolor": "rgb(36,36,36)",
            "showgrid": false,
            "showline": true,
            "ticks": "outside"
           }
          },
          "title": {
           "x": 0.05
          },
          "xaxis": {
           "automargin": true,
           "gridcolor": "rgb(232,232,232)",
           "linecolor": "rgb(36,36,36)",
           "showgrid": false,
           "showline": true,
           "ticks": "outside",
           "title": {
            "standoff": 15
           },
           "zeroline": false,
           "zerolinecolor": "rgb(36,36,36)"
          },
          "yaxis": {
           "automargin": true,
           "gridcolor": "rgb(232,232,232)",
           "linecolor": "rgb(36,36,36)",
           "showgrid": false,
           "showline": true,
           "ticks": "outside",
           "title": {
            "standoff": 15
           },
           "zeroline": false,
           "zerolinecolor": "rgb(36,36,36)"
          }
         }
        },
        "xaxis": {
         "showgrid": false,
         "title": {
          "text": "Epoch"
         }
        },
        "yaxis": {
         "showgrid": false
        }
       }
      }
     },
     "metadata": {},
     "output_type": "display_data"
    }
   ],
   "source": [
    "lr_val = go.Scatter(\n",
    "    x=df_lr_epochs_first.index,\n",
    "    y=df_lr_epochs_first[\"val/loss/shg_tensor_full\"],\n",
    "    mode=\"lines+markers\",\n",
    "    name=\"Validation loss\",\n",
    "    showlegend=True,\n",
    ")\n",
    "lr_train = go.Scatter(\n",
    "    x=df_lr_epochs_second.index,\n",
    "    y=df_lr_epochs_second[\"train/loss/shg_tensor_full\"],\n",
    "    mode=\"lines+markers\",\n",
    "    name=\"Train loss\",\n",
    "    showlegend=True,\n",
    ")\n",
    "\n",
    "# Layout\n",
    "layout = go.Layout(\n",
    "    # title=dict(text='Scatter Plot'),\n",
    "    xaxis=dict(title=\"Epoch\"),\n",
    "    # yaxis=dict(title='<i>d&#770;</i><sub>KP</sub> (pm/V)', range=[-5,180]),\n",
    "    # legend=dict(font=dict(size=12)),\n",
    ")\n",
    "\n",
    "# Create figure\n",
    "fig = go.Figure(data=[lr_train, lr_val], layout=layout)\n",
    "\n",
    "fig.update_layout(\n",
    "    autosize=True,\n",
    "    font_size=20,\n",
    "    # width=600,\n",
    "    # height=600,\n",
    "    # plot_bgcolor=\"white\",\n",
    "    template=\"simple_white\",\n",
    ")\n",
    "fig.update_layout(\n",
    "    xaxis=dict(\n",
    "        # tickmode = 'array',\n",
    "        # tickvals = [1, 2,3,4,5,6,7,8],\n",
    "        # ticktext = ['One', 'Three', 'Five', 'Seven', 'Nine', 'Eleven']\n",
    "        showgrid=False,\n",
    "    ),\n",
    "    yaxis=dict(\n",
    "        # tickmode = 'array',\n",
    "        # tickvals = [1, 2,3,4,5,6,7,8],\n",
    "        # ticktext = ['One', 'Three', 'Five', 'Seven', 'Nine', 'Eleven']\n",
    "        showgrid=False,\n",
    "    ),\n",
    ")\n",
    "\n",
    "# Show figure\n",
    "fig.show()"
   ]
  },
  {
   "cell_type": "markdown",
   "metadata": {},
   "source": [
    "## MAE"
   ]
  },
  {
   "cell_type": "code",
   "execution_count": 8,
   "metadata": {},
   "outputs": [
    {
     "data": {
      "application/vnd.plotly.v1+json": {
       "config": {
        "plotlyServerURL": "https://plot.ly"
       },
       "data": [
        {
         "mode": "lines+markers",
         "name": "Validation loss",
         "showlegend": true,
         "type": "scatter",
         "x": [
          0,
          1,
          2,
          3,
          4,
          5,
          6,
          7,
          8,
          9,
          10,
          11,
          12,
          13,
          14,
          15,
          16,
          17,
          18,
          19,
          20,
          21,
          22,
          23,
          24,
          25,
          26,
          27,
          28,
          29,
          30,
          31,
          32,
          33,
          34,
          35,
          36,
          37,
          38,
          39,
          40,
          41,
          42,
          43,
          44,
          45,
          46,
          47,
          48,
          49,
          50,
          51,
          52,
          53,
          54,
          55,
          56,
          57,
          58,
          59,
          60,
          61,
          62,
          63,
          64,
          65,
          66,
          67,
          68,
          69,
          70,
          71,
          72,
          73,
          74,
          75,
          76,
          77,
          78,
          79,
          80,
          81,
          82,
          83,
          84,
          85,
          86,
          87,
          88,
          89,
          90,
          91,
          92,
          93,
          94,
          95,
          96,
          97,
          98,
          99,
          100,
          101,
          102,
          103,
          104,
          105,
          106,
          107,
          108,
          109,
          110,
          111,
          112,
          113,
          114,
          115,
          116,
          117,
          118,
          119,
          120,
          121,
          122,
          123,
          124,
          125,
          126,
          127,
          128,
          129,
          130,
          131,
          132,
          133,
          134,
          135,
          136,
          137,
          138,
          139,
          140,
          141,
          142,
          143,
          144,
          145,
          146,
          147,
          148,
          149,
          150,
          151,
          152,
          153,
          154,
          155,
          156,
          157,
          158,
          159,
          160,
          161,
          162,
          163,
          164,
          165,
          166,
          167,
          168,
          169,
          170,
          171,
          172,
          173,
          174,
          175,
          176,
          177,
          178,
          179,
          180,
          181,
          182,
          183,
          184,
          185,
          186,
          187,
          188,
          189,
          190,
          191,
          192,
          193,
          194,
          195,
          196,
          197,
          198,
          199,
          200,
          201,
          202,
          203,
          204,
          205,
          206,
          207,
          208,
          209,
          210,
          211,
          212,
          213,
          214,
          215,
          216,
          217,
          218,
          219,
          220,
          221,
          222,
          223,
          224,
          225,
          226,
          227,
          228,
          229,
          230,
          231,
          232,
          233,
          234,
          235,
          236,
          237,
          238,
          239,
          240,
          241,
          242,
          243,
          244,
          245,
          246,
          247,
          248,
          249,
          250,
          251,
          252,
          253,
          254,
          255,
          256,
          257,
          258,
          259,
          260,
          261,
          262,
          263,
          264,
          265,
          266,
          267,
          268,
          269,
          270,
          271,
          272,
          273,
          274,
          275,
          276,
          277,
          278,
          279,
          280,
          281,
          282,
          283,
          284,
          285,
          286,
          287,
          288,
          289,
          290,
          291,
          292,
          293,
          294,
          295,
          296,
          297,
          298,
          299,
          300,
          301,
          302,
          303,
          304,
          305,
          306,
          307,
          308,
          309,
          310,
          311,
          312,
          313,
          314,
          315,
          316,
          317,
          318,
          319,
          320,
          321,
          322,
          323,
          324,
          325,
          326,
          327,
          328,
          329,
          330,
          331,
          332,
          333,
          334,
          335,
          336,
          337,
          338,
          339,
          340,
          341,
          342,
          343,
          344,
          345,
          346,
          347,
          348,
          349,
          350,
          351,
          352,
          353,
          354,
          355,
          356,
          357,
          358,
          359,
          360,
          361,
          362,
          363,
          364,
          365,
          366,
          367,
          368,
          369,
          370,
          371,
          372,
          373,
          374,
          375,
          376,
          377,
          378,
          379,
          380,
          381,
          382,
          383,
          384,
          385,
          386,
          387,
          388,
          389,
          390,
          391,
          392,
          393,
          394,
          395,
          396,
          397,
          398,
          399,
          400,
          401,
          402,
          403,
          404,
          405,
          406,
          407,
          408,
          409,
          410,
          411,
          412,
          413,
          414,
          415,
          416,
          417,
          418,
          419,
          420,
          421,
          422,
          423,
          424,
          425,
          426,
          427,
          428,
          429,
          430,
          431,
          432,
          433,
          434,
          435,
          436,
          437,
          438,
          439,
          440,
          441,
          442,
          443,
          444,
          445,
          446,
          447,
          448,
          449,
          450,
          451,
          452,
          453,
          454,
          455,
          456,
          457,
          458,
          459,
          460,
          461,
          462,
          463,
          464,
          465,
          466,
          467,
          468,
          469,
          470,
          471,
          472,
          473,
          474,
          475,
          476,
          477,
          478,
          479,
          480,
          481,
          482,
          483,
          484,
          485,
          486,
          487,
          488,
          489,
          490,
          491,
          492,
          493,
          494,
          495,
          496,
          497,
          498,
          499
         ],
         "y": [
          5.938629627227783,
          6.047523498535156,
          5.821424007415772,
          6.068694591522217,
          5.660926342010498,
          6.074511528015137,
          5.85708475112915,
          5.673512935638428,
          5.884120941162109,
          5.973750114440918,
          5.885789394378662,
          5.756373405456543,
          5.936564922332764,
          5.972484111785889,
          5.62380313873291,
          5.826643466949463,
          5.747677803039551,
          5.72122049331665,
          5.874313831329346,
          5.878635883331299,
          5.82657527923584,
          5.820169925689697,
          5.982952117919922,
          5.86814546585083,
          5.823719501495361,
          5.903650760650635,
          5.75605058670044,
          5.8755364418029785,
          5.773580074310303,
          5.719263076782227,
          5.855569362640381,
          5.747566223144531,
          5.842106819152832,
          5.84762716293335,
          5.885476589202881,
          5.863893032073975,
          5.906871318817139,
          5.826592445373535,
          5.966670513153076,
          5.805805683135986,
          5.931442260742188,
          6.023125648498535,
          5.77416467666626,
          5.921668529510498,
          5.8815107345581055,
          5.930403232574463,
          5.890845775604248,
          5.930422306060791,
          5.9796013832092285,
          5.797150135040283,
          6.005681991577148,
          5.993629455566406,
          6.016681671142578,
          5.872453689575195,
          5.872553825378418,
          5.959174633026123,
          6.026824951171875,
          5.929811954498291,
          6.118468761444092,
          5.881206512451172,
          5.9403605461120605,
          5.937787055969238,
          5.8577070236206055,
          5.842552661895752,
          5.92929744720459,
          5.972588062286377,
          5.816844940185547,
          5.928992748260498,
          6.056801795959473,
          5.881587982177734,
          5.918993949890137,
          5.9426798820495605,
          5.91806697845459,
          5.934548377990723,
          5.988539695739746,
          5.939272403717041,
          5.965096950531006,
          5.922745704650879,
          6.020364284515381,
          5.986177921295166,
          6.071865081787109,
          6.013802528381348,
          5.981813907623291,
          5.929568290710449,
          6.011903762817383,
          5.984827518463135,
          5.973893642425537,
          5.9494805335998535,
          5.987846851348877,
          5.957046985626221,
          5.99728536605835,
          6.067517757415772,
          6.0467023849487305,
          6.033113479614258,
          5.906850814819336,
          6.101641178131104,
          5.98012638092041,
          5.899828910827637,
          5.961794376373291,
          6.003171920776367,
          5.922642707824707,
          5.966262340545654,
          5.951492786407471,
          6.025196552276611,
          6.098715305328369,
          5.986517906188965,
          5.961434364318848,
          5.957057476043701,
          5.980739116668701,
          5.915282726287842,
          6.030926704406738,
          5.987718105316162,
          5.990976333618164,
          5.960508823394775,
          6.045588493347168,
          5.945065975189209,
          5.987947940826416,
          6.072848320007324,
          5.983337879180908,
          6.065439224243164,
          6.008296966552734,
          6.023742198944092,
          5.979334831237793,
          6.014184474945068,
          6.019335746765137,
          6.049032211303711,
          6.010535717010498,
          6.012486934661865,
          6.006497859954834,
          6.03705644607544,
          6.014534950256348,
          6.061058044433594,
          6.041833877563477,
          6.004790782928467,
          6.083959102630615,
          6.041295528411865,
          6.060575008392334,
          6.01296329498291,
          6.005436420440674,
          6.023868083953857,
          5.988799571990967,
          6.090232849121094,
          6.089086532592773,
          6.055727481842041,
          6.049463272094727,
          6.044313907623291,
          6.03917407989502,
          6.048342704772949,
          6.068371295928955,
          6.0465593338012695,
          6.085986614227295,
          5.978524684906006,
          6.065219879150391,
          6.024846076965332,
          6.013792037963867,
          6.052114963531494,
          6.073078155517578,
          6.077425956726074,
          6.053577899932861,
          6.062310218811035,
          6.043263912200928,
          6.029978275299072,
          6.072705268859863,
          6.082221984863281,
          6.01475715637207,
          6.02249002456665,
          6.0875654220581055,
          6.099836826324463,
          6.072941780090332,
          6.06130838394165,
          6.087905406951904,
          6.103496074676514,
          6.051253318786621,
          6.086437702178955,
          6.0419135093688965,
          6.082980632781982,
          6.056784629821777,
          6.064911365509033,
          6.08537483215332,
          6.042706489562988,
          6.065679550170898,
          6.020686149597168,
          6.066569805145264,
          6.086604118347168,
          6.054556369781494,
          6.073843955993652,
          6.086695194244385,
          6.068974494934082,
          6.08591890335083,
          6.064659118652344,
          6.069476127624512,
          6.073482990264893,
          6.067451477050781,
          6.0788655281066895,
          6.067968845367432,
          6.088465690612793,
          6.096017360687256,
          6.096286773681641,
          6.068949222564697,
          6.090211868286133,
          6.063826560974121,
          6.075194358825684,
          6.080096244812012,
          6.071600437164307,
          6.062315464019775,
          6.093841552734375,
          6.0867414474487305,
          6.096518516540527,
          6.082583427429199,
          6.078982353210449,
          6.063947677612305,
          6.06826639175415,
          6.0675554275512695,
          6.098073959350586,
          6.061112403869629,
          6.079943656921387,
          6.07029390335083,
          6.088449001312256,
          6.0842695236206055,
          6.08293342590332,
          6.090068340301514,
          6.107036113739014,
          6.0802001953125,
          6.092542171478272,
          6.080478668212891,
          6.103090286254883,
          6.09715461730957,
          6.127392292022705,
          6.097070217132568,
          6.081452369689941,
          6.0670166015625,
          6.072685718536377,
          6.103387355804443,
          6.106048583984375,
          6.10283899307251,
          6.087685108184815,
          6.077356338500977,
          6.091948986053467,
          6.079156875610352,
          6.082959175109863,
          6.090324401855469,
          6.078305244445801,
          6.085196495056152,
          6.121414661407471,
          6.096444606781006,
          6.096665859222412,
          6.096481800079346,
          6.106368541717529,
          6.107206344604492,
          6.0886759757995605,
          6.122273921966553,
          6.121420383453369,
          6.112935543060303,
          6.076444149017334,
          6.120554924011231,
          6.097830295562744,
          6.093128681182861,
          6.138400077819824,
          6.0873308181762695,
          6.111817359924316,
          6.114250183105469,
          6.099291324615479,
          6.0892767906188965,
          6.09839391708374,
          6.110423564910889,
          6.093991756439209,
          6.093090057373047,
          6.111063003540039,
          6.068105220794678,
          6.114335060119629,
          6.084722518920898,
          6.092329502105713,
          6.11005163192749,
          6.094508647918701,
          6.112936973571777,
          6.1069746017456055,
          6.120846271514893,
          6.111793518066406,
          6.105484962463379,
          6.111506462097168,
          6.104854583740234,
          6.101570129394531,
          6.101639270782471,
          6.126336574554443,
          6.08943510055542,
          6.118701934814453,
          6.105396270751953,
          6.109769344329834,
          6.122156143188477,
          6.118409156799316,
          6.0970330238342285,
          6.111999988555908,
          6.140965461730957,
          6.124011516571045,
          6.093995094299316,
          6.089398384094238,
          6.09855842590332,
          6.117342472076416,
          6.1097846031188965,
          6.109622478485107,
          6.11233377456665,
          6.104710102081299,
          6.10297966003418,
          6.09391975402832,
          6.118534564971924,
          6.108535289764404,
          6.098748207092285,
          6.101227760314941,
          6.1223626136779785,
          6.104658603668213,
          6.125216960906982,
          6.120471000671387,
          6.111504077911377,
          6.10390043258667,
          6.10593318939209,
          6.10814905166626,
          6.115468978881836,
          6.109444618225098,
          6.090919017791748,
          6.103500843048096,
          6.135595321655273,
          6.117526531219482,
          6.105154037475586,
          6.101161956787109,
          6.132352352142334,
          6.128541946411133,
          6.131492614746094,
          6.121655464172363,
          6.111897945404053,
          6.12815523147583,
          6.122276782989502,
          6.133906841278076,
          6.122864246368408,
          6.107169628143311,
          6.118112564086914,
          6.103148460388184,
          6.121416568756104,
          6.130819320678711,
          6.128241062164307,
          6.120072841644287,
          6.119055271148682,
          6.12528133392334,
          6.11663818359375,
          6.109982013702393,
          6.096987247467041,
          6.108931541442871,
          6.118250846862793,
          6.140224456787109,
          6.117402076721191,
          6.132943153381348,
          6.135863780975342,
          6.130197048187256,
          6.136345386505127,
          6.113632678985596,
          6.12892484664917,
          6.125323295593262,
          6.134292602539063,
          6.120197296142578,
          6.121614456176758,
          6.13304328918457,
          6.136473655700684,
          6.124510288238525,
          6.114926338195801,
          6.124356269836426,
          6.097767353057861,
          6.134232997894287,
          6.118198394775391,
          6.119187355041504,
          6.148823261260986,
          6.096426010131836,
          6.1184844970703125,
          6.112408638000488,
          6.1207122802734375,
          6.125627040863037,
          6.132906436920166,
          6.129000186920166,
          6.131336688995361,
          6.125986576080322,
          6.124632835388184,
          6.128076553344727,
          6.1402587890625,
          6.132624626159668,
          6.128462314605713,
          6.133679866790772,
          6.1030378341674805,
          6.127623558044434,
          6.134600162506104,
          6.122618198394775,
          6.111390590667725,
          6.133632183074951,
          6.109553813934326,
          6.139355659484863,
          6.126966953277588,
          6.132789611816406,
          6.1268696784973145,
          6.136969566345215,
          6.119819164276123,
          6.12590217590332,
          6.138367652893066,
          6.126939296722412,
          6.12899923324585,
          6.1431193351745605,
          6.126969337463379,
          6.130924224853516,
          6.112696647644043,
          6.13505744934082,
          6.123568534851074,
          6.128150463104248,
          6.13339900970459,
          6.123644828796387,
          6.136383533477783,
          6.111259937286377,
          6.131677150726318,
          6.100719451904297,
          6.139566421508789,
          6.124275207519531,
          6.119726657867432,
          6.122514247894287,
          6.140659332275391,
          6.129561901092529,
          6.128692150115967,
          6.11566686630249,
          6.119165420532227,
          6.138917446136475,
          6.135647773742676,
          6.116480827331543,
          6.135627746582031,
          6.124069690704346,
          6.122478008270264,
          6.094030380249023,
          6.131523132324219,
          6.13769006729126,
          6.1276726722717285,
          6.107175827026367,
          6.120608806610107,
          6.125513076782227,
          6.135162353515625,
          6.128872871398926,
          6.135358810424805,
          6.130687713623047,
          6.131270885467529,
          6.128939628601074,
          6.126896858215332,
          6.141998291015625,
          6.133284568786621,
          6.120643615722656,
          6.127480983734131,
          6.123547554016113,
          6.13857364654541,
          6.128414630889893,
          6.115045547485352,
          6.135965824127197,
          6.128612995147705,
          6.1316657066345215,
          6.122687339782715,
          6.128039836883545,
          6.129382610321045,
          6.147280693054199,
          6.119484901428223,
          6.120554924011231,
          6.1349968910217285,
          6.126135349273682,
          6.125986099243164,
          6.12523889541626,
          6.140079021453857,
          6.132924556732178,
          6.137547492980957,
          6.121951103210449,
          6.143272399902344,
          6.1188249588012695,
          6.129384994506836,
          6.160039901733398,
          6.132669448852539,
          6.120811939239502,
          6.150516986846924,
          6.139740467071533,
          6.141540050506592,
          6.1217217445373535,
          6.139220714569092,
          6.146413326263428,
          6.134376525878906,
          6.13590145111084,
          6.138843059539795,
          6.113688945770264,
          6.128054141998291,
          6.135285377502441,
          6.136651992797852,
          6.133300304412842,
          6.124929904937744,
          6.118908882141113,
          6.142318248748779,
          6.133379459381104,
          6.131318092346191,
          6.117593288421631,
          6.135138988494873,
          6.123213291168213,
          6.1232991218566895,
          6.12885856628418,
          6.164281845092773,
          6.128150939941406
         ]
        }
       ],
       "layout": {
        "autosize": true,
        "font": {
         "size": 20
        },
        "template": {
         "data": {
          "bar": [
           {
            "error_x": {
             "color": "rgb(36,36,36)"
            },
            "error_y": {
             "color": "rgb(36,36,36)"
            },
            "marker": {
             "line": {
              "color": "white",
              "width": 0.5
             },
             "pattern": {
              "fillmode": "overlay",
              "size": 10,
              "solidity": 0.2
             }
            },
            "type": "bar"
           }
          ],
          "barpolar": [
           {
            "marker": {
             "line": {
              "color": "white",
              "width": 0.5
             },
             "pattern": {
              "fillmode": "overlay",
              "size": 10,
              "solidity": 0.2
             }
            },
            "type": "barpolar"
           }
          ],
          "carpet": [
           {
            "aaxis": {
             "endlinecolor": "rgb(36,36,36)",
             "gridcolor": "white",
             "linecolor": "white",
             "minorgridcolor": "white",
             "startlinecolor": "rgb(36,36,36)"
            },
            "baxis": {
             "endlinecolor": "rgb(36,36,36)",
             "gridcolor": "white",
             "linecolor": "white",
             "minorgridcolor": "white",
             "startlinecolor": "rgb(36,36,36)"
            },
            "type": "carpet"
           }
          ],
          "choropleth": [
           {
            "colorbar": {
             "outlinewidth": 1,
             "tickcolor": "rgb(36,36,36)",
             "ticks": "outside"
            },
            "type": "choropleth"
           }
          ],
          "contour": [
           {
            "colorbar": {
             "outlinewidth": 1,
             "tickcolor": "rgb(36,36,36)",
             "ticks": "outside"
            },
            "colorscale": [
             [
              0,
              "#440154"
             ],
             [
              0.1111111111111111,
              "#482878"
             ],
             [
              0.2222222222222222,
              "#3e4989"
             ],
             [
              0.3333333333333333,
              "#31688e"
             ],
             [
              0.4444444444444444,
              "#26828e"
             ],
             [
              0.5555555555555556,
              "#1f9e89"
             ],
             [
              0.6666666666666666,
              "#35b779"
             ],
             [
              0.7777777777777778,
              "#6ece58"
             ],
             [
              0.8888888888888888,
              "#b5de2b"
             ],
             [
              1,
              "#fde725"
             ]
            ],
            "type": "contour"
           }
          ],
          "contourcarpet": [
           {
            "colorbar": {
             "outlinewidth": 1,
             "tickcolor": "rgb(36,36,36)",
             "ticks": "outside"
            },
            "type": "contourcarpet"
           }
          ],
          "heatmap": [
           {
            "colorbar": {
             "outlinewidth": 1,
             "tickcolor": "rgb(36,36,36)",
             "ticks": "outside"
            },
            "colorscale": [
             [
              0,
              "#440154"
             ],
             [
              0.1111111111111111,
              "#482878"
             ],
             [
              0.2222222222222222,
              "#3e4989"
             ],
             [
              0.3333333333333333,
              "#31688e"
             ],
             [
              0.4444444444444444,
              "#26828e"
             ],
             [
              0.5555555555555556,
              "#1f9e89"
             ],
             [
              0.6666666666666666,
              "#35b779"
             ],
             [
              0.7777777777777778,
              "#6ece58"
             ],
             [
              0.8888888888888888,
              "#b5de2b"
             ],
             [
              1,
              "#fde725"
             ]
            ],
            "type": "heatmap"
           }
          ],
          "heatmapgl": [
           {
            "colorbar": {
             "outlinewidth": 1,
             "tickcolor": "rgb(36,36,36)",
             "ticks": "outside"
            },
            "colorscale": [
             [
              0,
              "#440154"
             ],
             [
              0.1111111111111111,
              "#482878"
             ],
             [
              0.2222222222222222,
              "#3e4989"
             ],
             [
              0.3333333333333333,
              "#31688e"
             ],
             [
              0.4444444444444444,
              "#26828e"
             ],
             [
              0.5555555555555556,
              "#1f9e89"
             ],
             [
              0.6666666666666666,
              "#35b779"
             ],
             [
              0.7777777777777778,
              "#6ece58"
             ],
             [
              0.8888888888888888,
              "#b5de2b"
             ],
             [
              1,
              "#fde725"
             ]
            ],
            "type": "heatmapgl"
           }
          ],
          "histogram": [
           {
            "marker": {
             "line": {
              "color": "white",
              "width": 0.6
             }
            },
            "type": "histogram"
           }
          ],
          "histogram2d": [
           {
            "colorbar": {
             "outlinewidth": 1,
             "tickcolor": "rgb(36,36,36)",
             "ticks": "outside"
            },
            "colorscale": [
             [
              0,
              "#440154"
             ],
             [
              0.1111111111111111,
              "#482878"
             ],
             [
              0.2222222222222222,
              "#3e4989"
             ],
             [
              0.3333333333333333,
              "#31688e"
             ],
             [
              0.4444444444444444,
              "#26828e"
             ],
             [
              0.5555555555555556,
              "#1f9e89"
             ],
             [
              0.6666666666666666,
              "#35b779"
             ],
             [
              0.7777777777777778,
              "#6ece58"
             ],
             [
              0.8888888888888888,
              "#b5de2b"
             ],
             [
              1,
              "#fde725"
             ]
            ],
            "type": "histogram2d"
           }
          ],
          "histogram2dcontour": [
           {
            "colorbar": {
             "outlinewidth": 1,
             "tickcolor": "rgb(36,36,36)",
             "ticks": "outside"
            },
            "colorscale": [
             [
              0,
              "#440154"
             ],
             [
              0.1111111111111111,
              "#482878"
             ],
             [
              0.2222222222222222,
              "#3e4989"
             ],
             [
              0.3333333333333333,
              "#31688e"
             ],
             [
              0.4444444444444444,
              "#26828e"
             ],
             [
              0.5555555555555556,
              "#1f9e89"
             ],
             [
              0.6666666666666666,
              "#35b779"
             ],
             [
              0.7777777777777778,
              "#6ece58"
             ],
             [
              0.8888888888888888,
              "#b5de2b"
             ],
             [
              1,
              "#fde725"
             ]
            ],
            "type": "histogram2dcontour"
           }
          ],
          "mesh3d": [
           {
            "colorbar": {
             "outlinewidth": 1,
             "tickcolor": "rgb(36,36,36)",
             "ticks": "outside"
            },
            "type": "mesh3d"
           }
          ],
          "parcoords": [
           {
            "line": {
             "colorbar": {
              "outlinewidth": 1,
              "tickcolor": "rgb(36,36,36)",
              "ticks": "outside"
             }
            },
            "type": "parcoords"
           }
          ],
          "pie": [
           {
            "automargin": true,
            "type": "pie"
           }
          ],
          "scatter": [
           {
            "fillpattern": {
             "fillmode": "overlay",
             "size": 10,
             "solidity": 0.2
            },
            "type": "scatter"
           }
          ],
          "scatter3d": [
           {
            "line": {
             "colorbar": {
              "outlinewidth": 1,
              "tickcolor": "rgb(36,36,36)",
              "ticks": "outside"
             }
            },
            "marker": {
             "colorbar": {
              "outlinewidth": 1,
              "tickcolor": "rgb(36,36,36)",
              "ticks": "outside"
             }
            },
            "type": "scatter3d"
           }
          ],
          "scattercarpet": [
           {
            "marker": {
             "colorbar": {
              "outlinewidth": 1,
              "tickcolor": "rgb(36,36,36)",
              "ticks": "outside"
             }
            },
            "type": "scattercarpet"
           }
          ],
          "scattergeo": [
           {
            "marker": {
             "colorbar": {
              "outlinewidth": 1,
              "tickcolor": "rgb(36,36,36)",
              "ticks": "outside"
             }
            },
            "type": "scattergeo"
           }
          ],
          "scattergl": [
           {
            "marker": {
             "colorbar": {
              "outlinewidth": 1,
              "tickcolor": "rgb(36,36,36)",
              "ticks": "outside"
             }
            },
            "type": "scattergl"
           }
          ],
          "scattermapbox": [
           {
            "marker": {
             "colorbar": {
              "outlinewidth": 1,
              "tickcolor": "rgb(36,36,36)",
              "ticks": "outside"
             }
            },
            "type": "scattermapbox"
           }
          ],
          "scatterpolar": [
           {
            "marker": {
             "colorbar": {
              "outlinewidth": 1,
              "tickcolor": "rgb(36,36,36)",
              "ticks": "outside"
             }
            },
            "type": "scatterpolar"
           }
          ],
          "scatterpolargl": [
           {
            "marker": {
             "colorbar": {
              "outlinewidth": 1,
              "tickcolor": "rgb(36,36,36)",
              "ticks": "outside"
             }
            },
            "type": "scatterpolargl"
           }
          ],
          "scatterternary": [
           {
            "marker": {
             "colorbar": {
              "outlinewidth": 1,
              "tickcolor": "rgb(36,36,36)",
              "ticks": "outside"
             }
            },
            "type": "scatterternary"
           }
          ],
          "surface": [
           {
            "colorbar": {
             "outlinewidth": 1,
             "tickcolor": "rgb(36,36,36)",
             "ticks": "outside"
            },
            "colorscale": [
             [
              0,
              "#440154"
             ],
             [
              0.1111111111111111,
              "#482878"
             ],
             [
              0.2222222222222222,
              "#3e4989"
             ],
             [
              0.3333333333333333,
              "#31688e"
             ],
             [
              0.4444444444444444,
              "#26828e"
             ],
             [
              0.5555555555555556,
              "#1f9e89"
             ],
             [
              0.6666666666666666,
              "#35b779"
             ],
             [
              0.7777777777777778,
              "#6ece58"
             ],
             [
              0.8888888888888888,
              "#b5de2b"
             ],
             [
              1,
              "#fde725"
             ]
            ],
            "type": "surface"
           }
          ],
          "table": [
           {
            "cells": {
             "fill": {
              "color": "rgb(237,237,237)"
             },
             "line": {
              "color": "white"
             }
            },
            "header": {
             "fill": {
              "color": "rgb(217,217,217)"
             },
             "line": {
              "color": "white"
             }
            },
            "type": "table"
           }
          ]
         },
         "layout": {
          "annotationdefaults": {
           "arrowhead": 0,
           "arrowwidth": 1
          },
          "autotypenumbers": "strict",
          "coloraxis": {
           "colorbar": {
            "outlinewidth": 1,
            "tickcolor": "rgb(36,36,36)",
            "ticks": "outside"
           }
          },
          "colorscale": {
           "diverging": [
            [
             0,
             "rgb(103,0,31)"
            ],
            [
             0.1,
             "rgb(178,24,43)"
            ],
            [
             0.2,
             "rgb(214,96,77)"
            ],
            [
             0.3,
             "rgb(244,165,130)"
            ],
            [
             0.4,
             "rgb(253,219,199)"
            ],
            [
             0.5,
             "rgb(247,247,247)"
            ],
            [
             0.6,
             "rgb(209,229,240)"
            ],
            [
             0.7,
             "rgb(146,197,222)"
            ],
            [
             0.8,
             "rgb(67,147,195)"
            ],
            [
             0.9,
             "rgb(33,102,172)"
            ],
            [
             1,
             "rgb(5,48,97)"
            ]
           ],
           "sequential": [
            [
             0,
             "#440154"
            ],
            [
             0.1111111111111111,
             "#482878"
            ],
            [
             0.2222222222222222,
             "#3e4989"
            ],
            [
             0.3333333333333333,
             "#31688e"
            ],
            [
             0.4444444444444444,
             "#26828e"
            ],
            [
             0.5555555555555556,
             "#1f9e89"
            ],
            [
             0.6666666666666666,
             "#35b779"
            ],
            [
             0.7777777777777778,
             "#6ece58"
            ],
            [
             0.8888888888888888,
             "#b5de2b"
            ],
            [
             1,
             "#fde725"
            ]
           ],
           "sequentialminus": [
            [
             0,
             "#440154"
            ],
            [
             0.1111111111111111,
             "#482878"
            ],
            [
             0.2222222222222222,
             "#3e4989"
            ],
            [
             0.3333333333333333,
             "#31688e"
            ],
            [
             0.4444444444444444,
             "#26828e"
            ],
            [
             0.5555555555555556,
             "#1f9e89"
            ],
            [
             0.6666666666666666,
             "#35b779"
            ],
            [
             0.7777777777777778,
             "#6ece58"
            ],
            [
             0.8888888888888888,
             "#b5de2b"
            ],
            [
             1,
             "#fde725"
            ]
           ]
          },
          "colorway": [
           "#1F77B4",
           "#FF7F0E",
           "#2CA02C",
           "#D62728",
           "#9467BD",
           "#8C564B",
           "#E377C2",
           "#7F7F7F",
           "#BCBD22",
           "#17BECF"
          ],
          "font": {
           "color": "rgb(36,36,36)"
          },
          "geo": {
           "bgcolor": "white",
           "lakecolor": "white",
           "landcolor": "white",
           "showlakes": true,
           "showland": true,
           "subunitcolor": "white"
          },
          "hoverlabel": {
           "align": "left"
          },
          "hovermode": "closest",
          "mapbox": {
           "style": "light"
          },
          "paper_bgcolor": "white",
          "plot_bgcolor": "white",
          "polar": {
           "angularaxis": {
            "gridcolor": "rgb(232,232,232)",
            "linecolor": "rgb(36,36,36)",
            "showgrid": false,
            "showline": true,
            "ticks": "outside"
           },
           "bgcolor": "white",
           "radialaxis": {
            "gridcolor": "rgb(232,232,232)",
            "linecolor": "rgb(36,36,36)",
            "showgrid": false,
            "showline": true,
            "ticks": "outside"
           }
          },
          "scene": {
           "xaxis": {
            "backgroundcolor": "white",
            "gridcolor": "rgb(232,232,232)",
            "gridwidth": 2,
            "linecolor": "rgb(36,36,36)",
            "showbackground": true,
            "showgrid": false,
            "showline": true,
            "ticks": "outside",
            "zeroline": false,
            "zerolinecolor": "rgb(36,36,36)"
           },
           "yaxis": {
            "backgroundcolor": "white",
            "gridcolor": "rgb(232,232,232)",
            "gridwidth": 2,
            "linecolor": "rgb(36,36,36)",
            "showbackground": true,
            "showgrid": false,
            "showline": true,
            "ticks": "outside",
            "zeroline": false,
            "zerolinecolor": "rgb(36,36,36)"
           },
           "zaxis": {
            "backgroundcolor": "white",
            "gridcolor": "rgb(232,232,232)",
            "gridwidth": 2,
            "linecolor": "rgb(36,36,36)",
            "showbackground": true,
            "showgrid": false,
            "showline": true,
            "ticks": "outside",
            "zeroline": false,
            "zerolinecolor": "rgb(36,36,36)"
           }
          },
          "shapedefaults": {
           "fillcolor": "black",
           "line": {
            "width": 0
           },
           "opacity": 0.3
          },
          "ternary": {
           "aaxis": {
            "gridcolor": "rgb(232,232,232)",
            "linecolor": "rgb(36,36,36)",
            "showgrid": false,
            "showline": true,
            "ticks": "outside"
           },
           "baxis": {
            "gridcolor": "rgb(232,232,232)",
            "linecolor": "rgb(36,36,36)",
            "showgrid": false,
            "showline": true,
            "ticks": "outside"
           },
           "bgcolor": "white",
           "caxis": {
            "gridcolor": "rgb(232,232,232)",
            "linecolor": "rgb(36,36,36)",
            "showgrid": false,
            "showline": true,
            "ticks": "outside"
           }
          },
          "title": {
           "x": 0.05
          },
          "xaxis": {
           "automargin": true,
           "gridcolor": "rgb(232,232,232)",
           "linecolor": "rgb(36,36,36)",
           "showgrid": false,
           "showline": true,
           "ticks": "outside",
           "title": {
            "standoff": 15
           },
           "zeroline": false,
           "zerolinecolor": "rgb(36,36,36)"
          },
          "yaxis": {
           "automargin": true,
           "gridcolor": "rgb(232,232,232)",
           "linecolor": "rgb(36,36,36)",
           "showgrid": false,
           "showline": true,
           "ticks": "outside",
           "title": {
            "standoff": 15
           },
           "zeroline": false,
           "zerolinecolor": "rgb(36,36,36)"
          }
         }
        },
        "xaxis": {
         "showgrid": false,
         "title": {
          "text": "Epoch"
         }
        },
        "yaxis": {
         "showgrid": false,
         "title": {
          "text": "MAE (pm/V)"
         }
        }
       }
      }
     },
     "metadata": {},
     "output_type": "display_data"
    }
   ],
   "source": [
    "lr_val = go.Scatter(\n",
    "    x=df_lr_epochs_first.index,\n",
    "    y=df_lr_epochs_first[\"metric_val/MeanAbsoluteError/shg_tensor_full\"],\n",
    "    mode=\"lines+markers\",\n",
    "    name=\"Validation loss\",\n",
    "    showlegend=True,\n",
    ")\n",
    "\n",
    "# Layout\n",
    "layout = go.Layout(\n",
    "    # title=dict(text='Scatter Plot'),\n",
    "    xaxis=dict(title=\"Epoch\"),\n",
    "    yaxis=dict(title=\"MAE (pm/V)\"),\n",
    "    # legend=dict(font=dict(size=12)),\n",
    ")\n",
    "\n",
    "# Create figure\n",
    "fig = go.Figure(data=[lr_val], layout=layout)\n",
    "\n",
    "fig.update_layout(\n",
    "    autosize=True,\n",
    "    font_size=20,\n",
    "    # width=600,\n",
    "    # height=600,\n",
    "    # plot_bgcolor=\"white\",\n",
    "    template=\"simple_white\",\n",
    ")\n",
    "fig.update_layout(\n",
    "    xaxis=dict(\n",
    "        # tickmode = 'array',\n",
    "        # tickvals = [1, 2,3,4,5,6,7,8],\n",
    "        # ticktext = ['One', 'Three', 'Five', 'Seven', 'Nine', 'Eleven']\n",
    "        showgrid=False,\n",
    "    ),\n",
    "    yaxis=dict(\n",
    "        # tickmode = 'array',\n",
    "        # tickvals = [1, 2,3,4,5,6,7,8],\n",
    "        # ticktext = ['One', 'Three', 'Five', 'Seven', 'Nine', 'Eleven']\n",
    "        showgrid=False,\n",
    "    ),\n",
    ")\n",
    "\n",
    "# Show figure\n",
    "fig.show()"
   ]
  },
  {
   "cell_type": "markdown",
   "metadata": {},
   "source": [
    "# Errors on dijk"
   ]
  },
  {
   "cell_type": "code",
   "execution_count": 9,
   "metadata": {},
   "outputs": [
    {
     "name": "stdout",
     "output_type": "stream",
     "text": [
      "38.52112930503969\n"
     ]
    }
   ],
   "source": [
    "list_fronorm = []  # = sqrt(sum(sqrd))\n",
    "for ir, r in df_pred_matten.iterrows():\n",
    "    dijk_orig = shg.from_voigt(df_orig.loc[ir][\"dijk_full_neum\"])\n",
    "    dijk_matten = shg.from_voigt(r[\"dijk_matten\"])\n",
    "    if np.count_nonzero(dijk_orig) == 0:\n",
    "        continue\n",
    "    t = dijk_orig - dijk_matten\n",
    "    list_fronorm.append(np.linalg.norm(t))\n",
    "print(np.mean(list_fronorm))"
   ]
  },
  {
   "cell_type": "code",
   "execution_count": 10,
   "metadata": {},
   "outputs": [
    {
     "name": "stdout",
     "output_type": "stream",
     "text": [
      "4.7649289835944755\n"
     ]
    }
   ],
   "source": [
    "list_fronorm = []  # = sqrt(sum(sqrd))/nb_nonzero\n",
    "for ir, r in df_pred_matten.iterrows():\n",
    "    dijk_orig = shg.from_voigt(df_orig.loc[ir][\"dijk_full_neum\"])\n",
    "    dijk_matten = shg.from_voigt(r[\"dijk_matten\"])\n",
    "    if np.count_nonzero(dijk_orig) == 0:\n",
    "        continue\n",
    "    list_fronorm.append(\n",
    "        np.linalg.norm(dijk_orig - dijk_matten) / np.count_nonzero(dijk_orig)\n",
    "    )\n",
    "print(np.mean(list_fronorm))"
   ]
  },
  {
   "cell_type": "markdown",
   "metadata": {},
   "source": [
    "## Errors on dijk masked"
   ]
  },
  {
   "cell_type": "code",
   "execution_count": 11,
   "metadata": {},
   "outputs": [
    {
     "name": "stdout",
     "output_type": "stream",
     "text": [
      "36.85093500481664\n"
     ]
    }
   ],
   "source": [
    "# masked\n",
    "list_fronorm = []  # = sqrt(sum(sqrd))\n",
    "for ir, r in df_pred_matten.iterrows():\n",
    "    dijk_orig = shg.from_voigt(df_orig.loc[ir][\"dijk_full_neum\"])\n",
    "    dijk_matten = shg.from_voigt(r[\"dijk_matten\"])\n",
    "    dijk_matten = np.where(dijk_orig != 0, dijk_matten, 0)\n",
    "    if np.count_nonzero(dijk_orig) == 0:\n",
    "        continue\n",
    "    t = dijk_orig - dijk_matten\n",
    "    list_fronorm.append(np.linalg.norm(t))\n",
    "print(np.mean(list_fronorm))"
   ]
  },
  {
   "cell_type": "code",
   "execution_count": 12,
   "metadata": {},
   "outputs": [
    {
     "name": "stdout",
     "output_type": "stream",
     "text": [
      "4.496587051931763\n"
     ]
    }
   ],
   "source": [
    "list_fronorm = []  # = sqrt(sum(sqrd))/nb_nonzero\n",
    "for ir, r in df_pred_matten.iterrows():\n",
    "    dijk_orig = shg.from_voigt(df_orig.loc[ir][\"dijk_full_neum\"])\n",
    "    dijk_matten = shg.from_voigt(r[\"dijk_matten\"])\n",
    "    dijk_matten = np.where(dijk_orig != 0, dijk_matten, 0)\n",
    "    if np.count_nonzero(dijk_orig) == 0:\n",
    "        continue\n",
    "    t = dijk_orig - dijk_matten\n",
    "    list_fronorm.append(\n",
    "        np.linalg.norm(dijk_orig - dijk_matten) / np.count_nonzero(dijk_orig)\n",
    "    )\n",
    "print(np.mean(list_fronorm))"
   ]
  },
  {
   "cell_type": "markdown",
   "metadata": {},
   "source": [
    "# Errors on dKP"
   ]
  },
  {
   "cell_type": "code",
   "execution_count": 13,
   "metadata": {},
   "outputs": [
    {
     "name": "stdout",
     "output_type": "stream",
     "text": [
      "MAE = 9.34025654667141\n",
      "MAPE = 3.217166219047011\n",
      "RMSE = 22.75051064748195\n",
      "Rho_sp = 0.766770028320453\n"
     ]
    },
    {
     "data": {
      "application/vnd.plotly.v1+json": {
       "config": {
        "plotlyServerURL": "https://plot.ly"
       },
       "data": [
        {
         "mode": "markers",
         "name": "",
         "showlegend": false,
         "text": [
          "agm001037983",
          "agm001234439",
          "agm001281942",
          "agm001375463",
          "agm002017294",
          "agm002018869",
          "agm002032016",
          "agm002041315",
          "agm002041336",
          "agm002056302",
          "agm002074653",
          "agm002078874",
          "agm002102212",
          "agm002115629",
          "agm002135972",
          "agm002137320",
          "agm002137665",
          "agm002138671",
          "agm002140778",
          "agm002147818",
          "agm002153139",
          "agm002155430",
          "agm002156258",
          "agm002156600",
          "agm002157245",
          "agm002158085",
          "agm002161194",
          "agm002163280",
          "agm002166075",
          "agm002176403",
          "agm002177957",
          "agm002178912",
          "agm002182720",
          "agm002184995",
          "agm002205114",
          "agm002215982",
          "agm002224865",
          "agm002237467",
          "agm002237807",
          "agm002278924",
          "agm002286033",
          "agm002293392",
          "agm002297812",
          "agm002306806",
          "agm002347507",
          "agm002353946",
          "agm002381637",
          "agm002790067",
          "agm002813663",
          "agm003048447",
          "agm003112540",
          "agm003128264",
          "agm003157565",
          "agm003160552",
          "agm003200486",
          "agm003202328",
          "agm003202410",
          "agm003206267",
          "agm003213121",
          "agm003219193",
          "agm003225028",
          "agm003230659",
          "agm003235252",
          "agm003237859",
          "agm003248171",
          "agm003267560",
          "agm003469328",
          "agm003555711",
          "agm003561427",
          "agm003705731",
          "agm004739450",
          "agm004773455",
          "agm004773887",
          "agm004786326",
          "agm004787350",
          "agm004852816",
          "agm004948831",
          "agm004949939",
          "agm004957157",
          "agm005056300",
          "agm005071058",
          "agm005072178",
          "agm005112928",
          "agm005180377",
          "agm005199361",
          "agm005208831",
          "agm005545163",
          "agm005664742",
          "agm005721583",
          "agm005722808",
          "agm005785567",
          "agm005848675",
          "agm005882580",
          "agm005882616",
          "agm005954902",
          "agm006020719",
          "agm006045098",
          "agm2000001907",
          "agm2000005406",
          "agm2000035672",
          "agm2000126920",
          "agm2000136656",
          "agm2000137141",
          "mp-1017534",
          "mp-1023924",
          "mp-1029368",
          "mp-1029633",
          "mp-10341",
          "mp-1079609",
          "mp-1079676",
          "mp-1100395",
          "mp-1102285",
          "mp-1103228",
          "mp-1103351",
          "mp-1105300",
          "mp-1147697",
          "mp-11714",
          "mp-1180133",
          "mp-1180688",
          "mp-1191266",
          "mp-1194479",
          "mp-1195571",
          "mp-1196282",
          "mp-1196457",
          "mp-1205304",
          "mp-1208039",
          "mp-1208179",
          "mp-1215642",
          "mp-1216100",
          "mp-1216118",
          "mp-1216976",
          "mp-12177",
          "mp-1217825",
          "mp-1218099",
          "mp-1218334",
          "mp-1219000",
          "mp-1219050",
          "mp-1219328",
          "mp-1219554",
          "mp-1220913",
          "mp-1221169",
          "mp-1221578",
          "mp-1221971",
          "mp-1222122",
          "mp-1222205",
          "mp-1222589",
          "mp-1223389",
          "mp-1223489",
          "mp-1223526",
          "mp-1223849",
          "mp-1225884",
          "mp-1225916",
          "mp-1227011",
          "mp-1227014",
          "mp-1227110",
          "mp-1227124",
          "mp-1227389",
          "mp-1228160",
          "mp-1228342",
          "mp-1247873",
          "mp-1287",
          "mp-13666",
          "mp-1370",
          "mp-1399519",
          "mp-14444",
          "mp-1516294",
          "mp-1550",
          "mp-1778",
          "mp-17862",
          "mp-18168",
          "mp-18578",
          "mp-20694",
          "mp-21521",
          "mp-2176",
          "mp-21892",
          "mp-22909",
          "mp-230",
          "mp-23329",
          "mp-23866",
          "mp-239",
          "mp-24468",
          "mp-2469",
          "mp-24705",
          "mp-2720358",
          "mp-2802611",
          "mp-28456",
          "mp-29157",
          "mp-30847",
          "mp-31451",
          "mp-3267",
          "mp-36066",
          "mp-38011",
          "mp-4122",
          "mp-4187",
          "mp-4431",
          "mp-4452",
          "mp-4514",
          "mp-4524",
          "mp-4779",
          "mp-4812",
          "mp-504952",
          "mp-505702",
          "mp-532424",
          "mp-532444",
          "mp-549720",
          "mp-554918",
          "mp-555150",
          "mp-555202",
          "mp-555915",
          "mp-556157",
          "mp-558085",
          "mp-558219",
          "mp-558277",
          "mp-558491",
          "mp-558521",
          "mp-559057",
          "mp-559065",
          "mp-559545",
          "mp-559752",
          "mp-560588",
          "mp-560894",
          "mp-561385",
          "mp-570756",
          "mp-5784",
          "mp-6126",
          "mp-625175",
          "mp-626172",
          "mp-6268",
          "mp-632229",
          "mp-632684",
          "mp-6524",
          "mp-6564",
          "mp-675161",
          "mp-6980",
          "mp-706621",
          "mp-754712",
          "mp-756044",
          "mp-760755",
          "mp-772748",
          "mp-776226",
          "mp-780232",
          "mp-781710",
          "mp-8070",
          "mp-8393",
          "mp-8884",
          "mp-9066",
          "mp-9427",
          "mp-961682",
          "mp-983327",
          "mp-9844"
         ],
         "type": "scatter",
         "x": [
          96.24988616273804,
          0.8272878630490751,
          0.8346734032987061,
          29.619974283987936,
          16.93465817396815,
          0.9732146459891193,
          4.393400303784358,
          58.14032833705676,
          42.71723587326203,
          3.4142465412794816,
          2.008904656925537,
          0.11781626245550372,
          0.5794118565326268,
          2.832940117818777,
          86.82819893445695,
          1.5328962673060815,
          0.21760412867682172,
          4.990868142109143,
          3.7385919216237418,
          0.386614576544783,
          2.535801221550989,
          43.19384173653965,
          0.6697039819612798,
          0.909579154743933,
          9.197490091501706,
          9.109569841470842,
          9.925651677308547,
          3.9268729723617,
          1.5177471702485532,
          1.5289283566609753,
          23.395391641086643,
          26.79613205748939,
          22.179684377652833,
          167.32652616660764,
          64.16281613192514,
          1.0124731257139752,
          1.162738268371955,
          10.703364611615644,
          101.57610363591236,
          165.13053811130195,
          11.410074228710169,
          28.257195277959454,
          1.145439052894341,
          12.510289252578438,
          3.4203895175343315,
          117.13715749406465,
          56.08907955335334,
          46.68049140909839,
          10.296863271008496,
          9.877113092436911,
          49.0848053409145,
          4.243563953718732,
          0.2773415097117353,
          12.279161879472003,
          0.009178805338191244,
          32.71175046916167,
          134.43648298693395,
          19.206783254619253,
          3.8961386832490144,
          0.2357305320706208,
          7.753745398112175,
          3.3060069082616397,
          0.04742064116398367,
          0.3447064416103106,
          0.4375245326533575,
          19.687937563122517,
          0.3121643754820938,
          0.9123596751216422,
          25.969431210219714,
          6.713160335923752,
          72.39987085288313,
          4.768382722367681,
          5.221417977978593,
          13.636495888910204,
          1.7134206574052462,
          1.6329978550472095,
          7.345981150317449,
          7.074461553977387,
          0.057462420229136814,
          7.5679717252621845,
          1.394860426044515,
          0.35622622680105753,
          4.642317400928152,
          2.052962072742614,
          46.73998821303138,
          16.625346801089552,
          1.6521716923346799,
          3.1945647805715116,
          9.475740860886464,
          1.2701504665621597,
          8.944789484740038,
          7.517340958923934,
          8.573937669458696,
          0.978781989949186,
          33.51774850649906,
          0.4129762319614386,
          1.1403213076518863,
          0.7419385205729853,
          0.035467308610374365,
          0.003434030768570418,
          0.22479309857821572,
          3.322929138148421,
          8.213321581418393,
          86.43318649770944,
          2.5747069716896993,
          14.974014115437333,
          7.445020961969393,
          1.157818482339108,
          3.271774712384432,
          1.4181497304502502,
          0.03305460975883652,
          7.2855926117787835,
          111.51848794665425,
          2.2421112466956346,
          26.760013080806115,
          7.443331100363126,
          6.449937968827414,
          5.011475693953564,
          0.948429369582447,
          10.936798952527536,
          0.9996127983711949,
          0.15312458218171773,
          0.020592390517412237,
          0.10779869903410651,
          12.609780999896321,
          0.9608928044838883,
          0.8542720885431856,
          3.5217840745294517,
          0.5021236310807952,
          9.118595159318504,
          12.644763108596253,
          20.656613805123474,
          11.927124632823427,
          0.8720676557004222,
          57.73467861047733,
          69.68960287965022,
          140.52256752576423,
          2.7085081891465723,
          2.4095157994896765,
          3.700290930724513,
          10.05019430543853,
          0.741207337995033,
          5.870613170689007,
          3.629591992871674,
          11.69283834160852,
          0.1733496066232448,
          26.03769184849257,
          0.16583889893944992,
          0.714080013514555,
          0.09266296905357542,
          0.15713573856920957,
          1.1824359493317524,
          52.33013998938465,
          36.70940657343026,
          0.009159898472070336,
          16.28151897450099,
          38.202112721920614,
          0.24149497175624401,
          1.3815042676431624,
          7.272687675092126,
          0.14195876287417517,
          50.26224377818762,
          16.47429058979047,
          0.5353933903184616,
          13.325047557309988,
          0.05868079498594491,
          8.249912498315384,
          0.31993983241561774,
          33.20634743822916,
          2.40853762353919,
          5.491953186704058,
          1.089629325792245,
          7.525570950107779,
          105.24117753411167,
          1.6702877031054744,
          2.5879642137648387,
          5.679922422479741,
          8.216653290326382,
          0.9147487969477314,
          5.777371774770185,
          0.442564857428989,
          16.7224180311217,
          1.1892828338121868,
          0.3324380902117759,
          0.898303960815359,
          8.534205167195006,
          78.50848151084344,
          37.84125851846766,
          67.16185442385373,
          26.363906943573358,
          2.4495538231008416,
          6.982839424963341,
          0.8775576912236583,
          7.455776004764993,
          19.617387328593306,
          21.183603874760806,
          12.0838638247286,
          89.50434406167203,
          0.21002636989448958,
          0.7380633214529762,
          14.641826029641079,
          1.5660413794640677,
          0.08417919187705811,
          0.8383339900481478,
          22.184202830713517,
          2.4889948726268245,
          1.6714733711428025,
          0.24667704403246854,
          0.418081267508317,
          2.3154201935081313,
          0.4043916301028684,
          4.2561920791556025,
          10.565441829766325,
          0.916306049190346,
          0.9420273957442893,
          1.6293975755324084,
          6.497969001348536,
          5.767520489335899,
          0.9676988836713821,
          28.66905184837226,
          0.498530944623206,
          0.7001223238354805,
          0.09819618485582302,
          0.2392722823262867,
          2.733238270650939,
          0.2779184074445728,
          0.22325584052186562,
          6.412929743824089,
          2.9096809494071505,
          0.6332971350134445,
          1.298295670739857,
          0.1403531239500043,
          0.47930518568311,
          61.68514671047256,
          0.17402164883623036,
          1.1696456448991595,
          0.2817178150189904,
          0.0989148861399233,
          0.2716584026966766,
          2.3354469571638714,
          4.974098097490186,
          16.442143761668234,
          0.6153567936409394,
          17.619886264952516,
          39.55664828037646,
          0.3187782410759168,
          0.5743918279755333,
          19.413017544051222,
          0.16101291594216519,
          0.9483772869076769
         ],
         "y": [
          51.93373373222533,
          2.920812679721593,
          13.281892731465025,
          67.14750295894066,
          22.813186345290898,
          0.5252182765783043,
          11.461439568667673,
          21.9501571001395,
          14.9989792957475,
          3.728207355909823,
          1.6681736224919959,
          1.9857906311702358,
          2.0303122400312708,
          6.320725030562865,
          6.946814408296515,
          3.1249905444545147,
          0.7315593473918214,
          5.030450933661379,
          6.524517868770642,
          2.466111674727204,
          2.6138056592737495,
          19.888500034876074,
          2.216398784657362,
          1.566971075255481,
          15.07571918499658,
          9.264149063780959,
          11.40063501167025,
          3.7872731906044264,
          0.9643786612656471,
          0.6646996736648068,
          22.392821639148806,
          17.229456552699734,
          26.554039078339656,
          41.05000198240004,
          96.21440346516694,
          1.2182455402058592,
          8.324251472264972,
          8.743966486859728,
          20.30763045580154,
          66.75417085291141,
          12.333665236218172,
          23.917773356229812,
          2.1499215246416417,
          20.563246142581107,
          4.041011859713117,
          4.757547266892813,
          86.29814677606802,
          36.02766297082097,
          3.714582296757582,
          7.922640711253759,
          48.24755764550748,
          6.561867388082242,
          0.6354320549820915,
          4.6575948549097035,
          0.03195920008297673,
          34.080710558447365,
          11.531188782457555,
          20.125609475159155,
          5.258207687030883,
          1.8610090475938996,
          6.265803318140481,
          5.266465953058421,
          0.15110329782867654,
          1.2474497467607026,
          0.845247304278569,
          3.4225440592483514,
          0.7511744296715136,
          1.2558957031038351,
          10.661242715097037,
          4.313534902624279,
          26.13249203697105,
          1.575806065130305,
          3.4999516461317732,
          9.97857807697055,
          0.7856695005666445,
          1.7420658941984686,
          7.51296928054527,
          6.114511897940205,
          1.226058168732396,
          7.3122615366571715,
          3.2635138746121566,
          0.44284331592118215,
          1.2170464013631868,
          3.109556476084894,
          17.024346270285186,
          20.13396985880839,
          2.2304609633895964,
          5.469490362666819,
          17.1076383990095,
          3.4573501205146617,
          9.088281942718659,
          25.399885332676025,
          3.6228155559869193,
          0.941076812333431,
          21.621575739058304,
          4.194974603575125,
          1.121491587604783,
          1.3715724748694167,
          3.023627659141709,
          0.17159713784919522,
          1.6110873093419342,
          11.975716299325455,
          7.889820186697633,
          9.438223482720709,
          1.6195044456096028,
          16.346201890586958,
          11.47213178818061,
          4.1926751132022835,
          3.2765257080185184,
          0.9178839002647317,
          2.950260293167721,
          9.190779285521218,
          62.19613008130181,
          12.344560593292066,
          25.893873851397647,
          7.053099280319936,
          8.387371872789128,
          4.96129073112706,
          12.34585601501909,
          6.676259507699745,
          1.9876112052798525,
          0.7425148487786773,
          0.6439015733713344,
          0.3661702426179555,
          2.231467648608275,
          2.659135803343921,
          1.6833939785043104,
          4.493677883825782,
          1.1793480797514553,
          8.585726759382599,
          2.459527752464004,
          4.155965817292021,
          12.51950805973415,
          2.52600735695638,
          2.9795429695280227,
          19.355736809270045,
          8.623009963766659,
          3.7039477843805204,
          6.399522345930142,
          6.607731227842011,
          1.451529918412711,
          6.991872289260272,
          7.030150201822517,
          0.14684211237712128,
          13.539293278402319,
          2.8754601501871337,
          22.284080028234964,
          0.734052641382562,
          2.753506102906757,
          0.8912979886963666,
          1.0571084752552042,
          3.664714344539747,
          31.562004926332147,
          18.03456370628044,
          0.22127831503136483,
          19.43822671827347,
          6.0002883457130425,
          2.344294995513136,
          3.3840547135048564,
          8.174583721281744,
          0.5420759501799554,
          6.079537165901944,
          2.7848341119527396,
          1.3757037956352183,
          6.385242162690557,
          3.7034256183661327,
          4.3064240706185135,
          0.4133998394646744,
          0.6202642077120574,
          2.4389304537352103,
          1.4816269874545849,
          1.3178916428090577,
          3.982578470899576,
          102.25392549427573,
          9.422603508677806,
          2.338786407621782,
          2.987099570869194,
          10.042532956821391,
          1.070427052237217,
          0.005108494011218873,
          2.7052804567847946,
          12.639408903080856,
          3.878629256900853,
          2.0948150740658735,
          0.8950190540789644,
          4.963734806754803,
          13.234335580145391,
          25.824554940660978,
          73.58127090314323,
          5.410178429747413,
          5.432429993498004,
          3.5142399946825327,
          6.406753358591521,
          5.255951344226836,
          39.51687980758179,
          23.18460846443607,
          31.72560250886948,
          65.76546647528113,
          4.065805801228353,
          1.1417674580697987,
          12.583128419369983,
          0.8360668855369199,
          0.44521520806177733,
          0.9963093353340715,
          3.3318034215179106,
          0.799918313801659,
          1.8994522894606354,
          2.9353341691727604,
          1.4136919800316083,
          2.212412327030145,
          1.6240782414976218,
          2.8573980361089304,
          5.050449436837309,
          1.3190979396270124,
          0.6511671265100197,
          3.891399912416842,
          5.447489133648595,
          4.013175661012089,
          1.2797800532315813,
          3.8052375176356272,
          2.067306631993356,
          1.3291802068542264,
          2.3717270218482644,
          5.260394632759232,
          1.3306207311393758,
          0.9970704991055326,
          1.0884125614600257,
          3.9407822253988005,
          2.957367956685963,
          3.3063384236387034,
          0.01794548297235772,
          0.8869961570245078,
          0.8571646233229124,
          9.087750987246174,
          0.49548671804165284,
          1.6116856430435607,
          1.5978525474427152,
          0.5348848383057304,
          1.3743639720112737,
          2.185594188450791,
          5.297104855849023,
          3.7741939973407295,
          4.909551294822598,
          26.381342126172925,
          82.12229348487075,
          3.2471116109897458,
          1.344516767479325,
          3.726078445966274,
          2.875613396102016,
          3.3629550788080014
         ]
        },
        {
         "line": {
          "color": "gray",
          "dash": "dot"
         },
         "mode": "lines",
         "showlegend": false,
         "type": "scatter",
         "x": [
          -1,
          200
         ],
         "y": [
          -1,
          200
         ]
        }
       ],
       "layout": {
        "autosize": false,
        "font": {
         "size": 20
        },
        "height": 600,
        "template": {
         "data": {
          "bar": [
           {
            "error_x": {
             "color": "rgb(36,36,36)"
            },
            "error_y": {
             "color": "rgb(36,36,36)"
            },
            "marker": {
             "line": {
              "color": "white",
              "width": 0.5
             },
             "pattern": {
              "fillmode": "overlay",
              "size": 10,
              "solidity": 0.2
             }
            },
            "type": "bar"
           }
          ],
          "barpolar": [
           {
            "marker": {
             "line": {
              "color": "white",
              "width": 0.5
             },
             "pattern": {
              "fillmode": "overlay",
              "size": 10,
              "solidity": 0.2
             }
            },
            "type": "barpolar"
           }
          ],
          "carpet": [
           {
            "aaxis": {
             "endlinecolor": "rgb(36,36,36)",
             "gridcolor": "white",
             "linecolor": "white",
             "minorgridcolor": "white",
             "startlinecolor": "rgb(36,36,36)"
            },
            "baxis": {
             "endlinecolor": "rgb(36,36,36)",
             "gridcolor": "white",
             "linecolor": "white",
             "minorgridcolor": "white",
             "startlinecolor": "rgb(36,36,36)"
            },
            "type": "carpet"
           }
          ],
          "choropleth": [
           {
            "colorbar": {
             "outlinewidth": 1,
             "tickcolor": "rgb(36,36,36)",
             "ticks": "outside"
            },
            "type": "choropleth"
           }
          ],
          "contour": [
           {
            "colorbar": {
             "outlinewidth": 1,
             "tickcolor": "rgb(36,36,36)",
             "ticks": "outside"
            },
            "colorscale": [
             [
              0,
              "#440154"
             ],
             [
              0.1111111111111111,
              "#482878"
             ],
             [
              0.2222222222222222,
              "#3e4989"
             ],
             [
              0.3333333333333333,
              "#31688e"
             ],
             [
              0.4444444444444444,
              "#26828e"
             ],
             [
              0.5555555555555556,
              "#1f9e89"
             ],
             [
              0.6666666666666666,
              "#35b779"
             ],
             [
              0.7777777777777778,
              "#6ece58"
             ],
             [
              0.8888888888888888,
              "#b5de2b"
             ],
             [
              1,
              "#fde725"
             ]
            ],
            "type": "contour"
           }
          ],
          "contourcarpet": [
           {
            "colorbar": {
             "outlinewidth": 1,
             "tickcolor": "rgb(36,36,36)",
             "ticks": "outside"
            },
            "type": "contourcarpet"
           }
          ],
          "heatmap": [
           {
            "colorbar": {
             "outlinewidth": 1,
             "tickcolor": "rgb(36,36,36)",
             "ticks": "outside"
            },
            "colorscale": [
             [
              0,
              "#440154"
             ],
             [
              0.1111111111111111,
              "#482878"
             ],
             [
              0.2222222222222222,
              "#3e4989"
             ],
             [
              0.3333333333333333,
              "#31688e"
             ],
             [
              0.4444444444444444,
              "#26828e"
             ],
             [
              0.5555555555555556,
              "#1f9e89"
             ],
             [
              0.6666666666666666,
              "#35b779"
             ],
             [
              0.7777777777777778,
              "#6ece58"
             ],
             [
              0.8888888888888888,
              "#b5de2b"
             ],
             [
              1,
              "#fde725"
             ]
            ],
            "type": "heatmap"
           }
          ],
          "heatmapgl": [
           {
            "colorbar": {
             "outlinewidth": 1,
             "tickcolor": "rgb(36,36,36)",
             "ticks": "outside"
            },
            "colorscale": [
             [
              0,
              "#440154"
             ],
             [
              0.1111111111111111,
              "#482878"
             ],
             [
              0.2222222222222222,
              "#3e4989"
             ],
             [
              0.3333333333333333,
              "#31688e"
             ],
             [
              0.4444444444444444,
              "#26828e"
             ],
             [
              0.5555555555555556,
              "#1f9e89"
             ],
             [
              0.6666666666666666,
              "#35b779"
             ],
             [
              0.7777777777777778,
              "#6ece58"
             ],
             [
              0.8888888888888888,
              "#b5de2b"
             ],
             [
              1,
              "#fde725"
             ]
            ],
            "type": "heatmapgl"
           }
          ],
          "histogram": [
           {
            "marker": {
             "line": {
              "color": "white",
              "width": 0.6
             }
            },
            "type": "histogram"
           }
          ],
          "histogram2d": [
           {
            "colorbar": {
             "outlinewidth": 1,
             "tickcolor": "rgb(36,36,36)",
             "ticks": "outside"
            },
            "colorscale": [
             [
              0,
              "#440154"
             ],
             [
              0.1111111111111111,
              "#482878"
             ],
             [
              0.2222222222222222,
              "#3e4989"
             ],
             [
              0.3333333333333333,
              "#31688e"
             ],
             [
              0.4444444444444444,
              "#26828e"
             ],
             [
              0.5555555555555556,
              "#1f9e89"
             ],
             [
              0.6666666666666666,
              "#35b779"
             ],
             [
              0.7777777777777778,
              "#6ece58"
             ],
             [
              0.8888888888888888,
              "#b5de2b"
             ],
             [
              1,
              "#fde725"
             ]
            ],
            "type": "histogram2d"
           }
          ],
          "histogram2dcontour": [
           {
            "colorbar": {
             "outlinewidth": 1,
             "tickcolor": "rgb(36,36,36)",
             "ticks": "outside"
            },
            "colorscale": [
             [
              0,
              "#440154"
             ],
             [
              0.1111111111111111,
              "#482878"
             ],
             [
              0.2222222222222222,
              "#3e4989"
             ],
             [
              0.3333333333333333,
              "#31688e"
             ],
             [
              0.4444444444444444,
              "#26828e"
             ],
             [
              0.5555555555555556,
              "#1f9e89"
             ],
             [
              0.6666666666666666,
              "#35b779"
             ],
             [
              0.7777777777777778,
              "#6ece58"
             ],
             [
              0.8888888888888888,
              "#b5de2b"
             ],
             [
              1,
              "#fde725"
             ]
            ],
            "type": "histogram2dcontour"
           }
          ],
          "mesh3d": [
           {
            "colorbar": {
             "outlinewidth": 1,
             "tickcolor": "rgb(36,36,36)",
             "ticks": "outside"
            },
            "type": "mesh3d"
           }
          ],
          "parcoords": [
           {
            "line": {
             "colorbar": {
              "outlinewidth": 1,
              "tickcolor": "rgb(36,36,36)",
              "ticks": "outside"
             }
            },
            "type": "parcoords"
           }
          ],
          "pie": [
           {
            "automargin": true,
            "type": "pie"
           }
          ],
          "scatter": [
           {
            "fillpattern": {
             "fillmode": "overlay",
             "size": 10,
             "solidity": 0.2
            },
            "type": "scatter"
           }
          ],
          "scatter3d": [
           {
            "line": {
             "colorbar": {
              "outlinewidth": 1,
              "tickcolor": "rgb(36,36,36)",
              "ticks": "outside"
             }
            },
            "marker": {
             "colorbar": {
              "outlinewidth": 1,
              "tickcolor": "rgb(36,36,36)",
              "ticks": "outside"
             }
            },
            "type": "scatter3d"
           }
          ],
          "scattercarpet": [
           {
            "marker": {
             "colorbar": {
              "outlinewidth": 1,
              "tickcolor": "rgb(36,36,36)",
              "ticks": "outside"
             }
            },
            "type": "scattercarpet"
           }
          ],
          "scattergeo": [
           {
            "marker": {
             "colorbar": {
              "outlinewidth": 1,
              "tickcolor": "rgb(36,36,36)",
              "ticks": "outside"
             }
            },
            "type": "scattergeo"
           }
          ],
          "scattergl": [
           {
            "marker": {
             "colorbar": {
              "outlinewidth": 1,
              "tickcolor": "rgb(36,36,36)",
              "ticks": "outside"
             }
            },
            "type": "scattergl"
           }
          ],
          "scattermapbox": [
           {
            "marker": {
             "colorbar": {
              "outlinewidth": 1,
              "tickcolor": "rgb(36,36,36)",
              "ticks": "outside"
             }
            },
            "type": "scattermapbox"
           }
          ],
          "scatterpolar": [
           {
            "marker": {
             "colorbar": {
              "outlinewidth": 1,
              "tickcolor": "rgb(36,36,36)",
              "ticks": "outside"
             }
            },
            "type": "scatterpolar"
           }
          ],
          "scatterpolargl": [
           {
            "marker": {
             "colorbar": {
              "outlinewidth": 1,
              "tickcolor": "rgb(36,36,36)",
              "ticks": "outside"
             }
            },
            "type": "scatterpolargl"
           }
          ],
          "scatterternary": [
           {
            "marker": {
             "colorbar": {
              "outlinewidth": 1,
              "tickcolor": "rgb(36,36,36)",
              "ticks": "outside"
             }
            },
            "type": "scatterternary"
           }
          ],
          "surface": [
           {
            "colorbar": {
             "outlinewidth": 1,
             "tickcolor": "rgb(36,36,36)",
             "ticks": "outside"
            },
            "colorscale": [
             [
              0,
              "#440154"
             ],
             [
              0.1111111111111111,
              "#482878"
             ],
             [
              0.2222222222222222,
              "#3e4989"
             ],
             [
              0.3333333333333333,
              "#31688e"
             ],
             [
              0.4444444444444444,
              "#26828e"
             ],
             [
              0.5555555555555556,
              "#1f9e89"
             ],
             [
              0.6666666666666666,
              "#35b779"
             ],
             [
              0.7777777777777778,
              "#6ece58"
             ],
             [
              0.8888888888888888,
              "#b5de2b"
             ],
             [
              1,
              "#fde725"
             ]
            ],
            "type": "surface"
           }
          ],
          "table": [
           {
            "cells": {
             "fill": {
              "color": "rgb(237,237,237)"
             },
             "line": {
              "color": "white"
             }
            },
            "header": {
             "fill": {
              "color": "rgb(217,217,217)"
             },
             "line": {
              "color": "white"
             }
            },
            "type": "table"
           }
          ]
         },
         "layout": {
          "annotationdefaults": {
           "arrowhead": 0,
           "arrowwidth": 1
          },
          "autotypenumbers": "strict",
          "coloraxis": {
           "colorbar": {
            "outlinewidth": 1,
            "tickcolor": "rgb(36,36,36)",
            "ticks": "outside"
           }
          },
          "colorscale": {
           "diverging": [
            [
             0,
             "rgb(103,0,31)"
            ],
            [
             0.1,
             "rgb(178,24,43)"
            ],
            [
             0.2,
             "rgb(214,96,77)"
            ],
            [
             0.3,
             "rgb(244,165,130)"
            ],
            [
             0.4,
             "rgb(253,219,199)"
            ],
            [
             0.5,
             "rgb(247,247,247)"
            ],
            [
             0.6,
             "rgb(209,229,240)"
            ],
            [
             0.7,
             "rgb(146,197,222)"
            ],
            [
             0.8,
             "rgb(67,147,195)"
            ],
            [
             0.9,
             "rgb(33,102,172)"
            ],
            [
             1,
             "rgb(5,48,97)"
            ]
           ],
           "sequential": [
            [
             0,
             "#440154"
            ],
            [
             0.1111111111111111,
             "#482878"
            ],
            [
             0.2222222222222222,
             "#3e4989"
            ],
            [
             0.3333333333333333,
             "#31688e"
            ],
            [
             0.4444444444444444,
             "#26828e"
            ],
            [
             0.5555555555555556,
             "#1f9e89"
            ],
            [
             0.6666666666666666,
             "#35b779"
            ],
            [
             0.7777777777777778,
             "#6ece58"
            ],
            [
             0.8888888888888888,
             "#b5de2b"
            ],
            [
             1,
             "#fde725"
            ]
           ],
           "sequentialminus": [
            [
             0,
             "#440154"
            ],
            [
             0.1111111111111111,
             "#482878"
            ],
            [
             0.2222222222222222,
             "#3e4989"
            ],
            [
             0.3333333333333333,
             "#31688e"
            ],
            [
             0.4444444444444444,
             "#26828e"
            ],
            [
             0.5555555555555556,
             "#1f9e89"
            ],
            [
             0.6666666666666666,
             "#35b779"
            ],
            [
             0.7777777777777778,
             "#6ece58"
            ],
            [
             0.8888888888888888,
             "#b5de2b"
            ],
            [
             1,
             "#fde725"
            ]
           ]
          },
          "colorway": [
           "#1F77B4",
           "#FF7F0E",
           "#2CA02C",
           "#D62728",
           "#9467BD",
           "#8C564B",
           "#E377C2",
           "#7F7F7F",
           "#BCBD22",
           "#17BECF"
          ],
          "font": {
           "color": "rgb(36,36,36)"
          },
          "geo": {
           "bgcolor": "white",
           "lakecolor": "white",
           "landcolor": "white",
           "showlakes": true,
           "showland": true,
           "subunitcolor": "white"
          },
          "hoverlabel": {
           "align": "left"
          },
          "hovermode": "closest",
          "mapbox": {
           "style": "light"
          },
          "paper_bgcolor": "white",
          "plot_bgcolor": "white",
          "polar": {
           "angularaxis": {
            "gridcolor": "rgb(232,232,232)",
            "linecolor": "rgb(36,36,36)",
            "showgrid": false,
            "showline": true,
            "ticks": "outside"
           },
           "bgcolor": "white",
           "radialaxis": {
            "gridcolor": "rgb(232,232,232)",
            "linecolor": "rgb(36,36,36)",
            "showgrid": false,
            "showline": true,
            "ticks": "outside"
           }
          },
          "scene": {
           "xaxis": {
            "backgroundcolor": "white",
            "gridcolor": "rgb(232,232,232)",
            "gridwidth": 2,
            "linecolor": "rgb(36,36,36)",
            "showbackground": true,
            "showgrid": false,
            "showline": true,
            "ticks": "outside",
            "zeroline": false,
            "zerolinecolor": "rgb(36,36,36)"
           },
           "yaxis": {
            "backgroundcolor": "white",
            "gridcolor": "rgb(232,232,232)",
            "gridwidth": 2,
            "linecolor": "rgb(36,36,36)",
            "showbackground": true,
            "showgrid": false,
            "showline": true,
            "ticks": "outside",
            "zeroline": false,
            "zerolinecolor": "rgb(36,36,36)"
           },
           "zaxis": {
            "backgroundcolor": "white",
            "gridcolor": "rgb(232,232,232)",
            "gridwidth": 2,
            "linecolor": "rgb(36,36,36)",
            "showbackground": true,
            "showgrid": false,
            "showline": true,
            "ticks": "outside",
            "zeroline": false,
            "zerolinecolor": "rgb(36,36,36)"
           }
          },
          "shapedefaults": {
           "fillcolor": "black",
           "line": {
            "width": 0
           },
           "opacity": 0.3
          },
          "ternary": {
           "aaxis": {
            "gridcolor": "rgb(232,232,232)",
            "linecolor": "rgb(36,36,36)",
            "showgrid": false,
            "showline": true,
            "ticks": "outside"
           },
           "baxis": {
            "gridcolor": "rgb(232,232,232)",
            "linecolor": "rgb(36,36,36)",
            "showgrid": false,
            "showline": true,
            "ticks": "outside"
           },
           "bgcolor": "white",
           "caxis": {
            "gridcolor": "rgb(232,232,232)",
            "linecolor": "rgb(36,36,36)",
            "showgrid": false,
            "showline": true,
            "ticks": "outside"
           }
          },
          "title": {
           "x": 0.05
          },
          "xaxis": {
           "automargin": true,
           "gridcolor": "rgb(232,232,232)",
           "linecolor": "rgb(36,36,36)",
           "showgrid": false,
           "showline": true,
           "ticks": "outside",
           "title": {
            "standoff": 15
           },
           "zeroline": false,
           "zerolinecolor": "rgb(36,36,36)"
          },
          "yaxis": {
           "automargin": true,
           "gridcolor": "rgb(232,232,232)",
           "linecolor": "rgb(36,36,36)",
           "showgrid": false,
           "showline": true,
           "ticks": "outside",
           "title": {
            "standoff": 15
           },
           "zeroline": false,
           "zerolinecolor": "rgb(36,36,36)"
          }
         }
        },
        "width": 600,
        "xaxis": {
         "range": [
          -1,
          170
         ],
         "showgrid": false,
         "title": {
          "text": "<i>d</i><sub>KP</sub> (pm/V)"
         }
        },
        "yaxis": {
         "range": [
          -1,
          170
         ],
         "showgrid": false,
         "title": {
          "text": "<i>d&#770;</i><sub>KP</sub> (pm/V)"
         }
        }
       }
      }
     },
     "metadata": {},
     "output_type": "display_data"
    }
   ],
   "source": [
    "# Data\n",
    "\n",
    "mae = mean_absolute_error(df_pred_matten[\"dKP_true\"], df_pred_matten[\"dKP_matten\"])\n",
    "mape = mean_absolute_percentage_error(\n",
    "    df_pred_matten[\"dKP_true\"], df_pred_matten[\"dKP_matten\"]\n",
    ")\n",
    "rmse = root_mean_squared_error(df_pred_matten[\"dKP_true\"], df_pred_matten[\"dKP_matten\"])\n",
    "spearmanrho = spearmanr(df_pred_matten[\"dKP_true\"], df_pred_matten[\"dKP_matten\"])\n",
    "print(f\"MAE = {mae}\")\n",
    "print(f\"MAPE = {mape}\")\n",
    "print(f\"RMSE = {rmse}\")\n",
    "print(f\"Rho_sp = {spearmanrho.statistic}\")\n",
    "\n",
    "# Scatter plot for previous outputs.\n",
    "scatter_dKP = go.Scatter(\n",
    "    x=df_pred_matten[\"dKP_true\"],\n",
    "    y=df_pred_matten[\"dKP_matten\"],\n",
    "    mode=\"markers\",\n",
    "    name=\"\",\n",
    "    showlegend=False,\n",
    "    text=[mpid for mpid in df_pred_matten.index.values],\n",
    ")\n",
    "\n",
    "ideal = go.Scatter(\n",
    "    x=[-1, 200],\n",
    "    y=[-1, 200],\n",
    "    mode=\"lines\",\n",
    "    line=dict(color=\"gray\", dash=\"dot\"),\n",
    "    showlegend=False,\n",
    ")\n",
    "\n",
    "# Layout\n",
    "layout = go.Layout(\n",
    "    # title=dict(text='Scatter Plot'),\n",
    "    xaxis=dict(title=\"<i>d</i><sub>KP</sub> (pm/V)\", range=[-1, 170]),\n",
    "    yaxis=dict(title=\"<i>d&#770;</i><sub>KP</sub> (pm/V)\", range=[-1, 170]),\n",
    "    # legend=dict(font=dict(size=12)),\n",
    ")\n",
    "\n",
    "# Create figure\n",
    "fig = go.Figure(data=[scatter_dKP, ideal], layout=layout)\n",
    "\n",
    "fig.update_layout(\n",
    "    autosize=False,\n",
    "    font_size=20,\n",
    "    width=600,\n",
    "    height=600,\n",
    "    # plot_bgcolor=\"white\",\n",
    "    template=\"simple_white\",\n",
    ")\n",
    "fig.update_layout(\n",
    "    xaxis=dict(\n",
    "        # tickmode = 'array',\n",
    "        # tickvals = [1, 2,3,4,5,6,7,8],\n",
    "        # ticktext = ['One', 'Three', 'Five', 'Seven', 'Nine', 'Eleven']\n",
    "        showgrid=False,\n",
    "    ),\n",
    "    yaxis=dict(\n",
    "        # tickmode = 'array',\n",
    "        # tickvals = [1, 2,3,4,5,6,7,8],\n",
    "        # ticktext = ['One', 'Three', 'Five', 'Seven', 'Nine', 'Eleven']\n",
    "        showgrid=False,\n",
    "    ),\n",
    ")\n",
    "\n",
    "# Show figure\n",
    "fig.show()"
   ]
  },
  {
   "cell_type": "markdown",
   "metadata": {},
   "source": [
    "## Errors on dKP masked"
   ]
  },
  {
   "cell_type": "code",
   "execution_count": 14,
   "metadata": {},
   "outputs": [
    {
     "name": "stdout",
     "output_type": "stream",
     "text": [
      "MAE = 10.39212291536786\n",
      "MAPE = 2.7928944341976587\n",
      "RMSE = 24.65603148981203\n",
      "Rho_sp = 0.6343025008400134\n"
     ]
    },
    {
     "data": {
      "application/vnd.plotly.v1+json": {
       "config": {
        "plotlyServerURL": "https://plot.ly"
       },
       "data": [
        {
         "mode": "markers",
         "name": "",
         "showlegend": false,
         "text": [
          "agm001037983",
          "agm001234439",
          "agm001281942",
          "agm001375463",
          "agm002017294",
          "agm002018869",
          "agm002032016",
          "agm002041315",
          "agm002041336",
          "agm002056302",
          "agm002074653",
          "agm002078874",
          "agm002102212",
          "agm002115629",
          "agm002135972",
          "agm002137320",
          "agm002137665",
          "agm002138671",
          "agm002140778",
          "agm002147818",
          "agm002153139",
          "agm002155430",
          "agm002156258",
          "agm002156600",
          "agm002157245",
          "agm002158085",
          "agm002161194",
          "agm002163280",
          "agm002166075",
          "agm002176403",
          "agm002177957",
          "agm002178912",
          "agm002182720",
          "agm002184995",
          "agm002205114",
          "agm002215982",
          "agm002224865",
          "agm002237467",
          "agm002237807",
          "agm002278924",
          "agm002286033",
          "agm002293392",
          "agm002297812",
          "agm002306806",
          "agm002347507",
          "agm002353946",
          "agm002381637",
          "agm002790067",
          "agm002813663",
          "agm003048447",
          "agm003112540",
          "agm003128264",
          "agm003157565",
          "agm003160552",
          "agm003200486",
          "agm003202328",
          "agm003202410",
          "agm003206267",
          "agm003213121",
          "agm003219193",
          "agm003225028",
          "agm003230659",
          "agm003235252",
          "agm003237859",
          "agm003248171",
          "agm003267560",
          "agm003469328",
          "agm003555711",
          "agm003561427",
          "agm003705731",
          "agm004739450",
          "agm004773455",
          "agm004773887",
          "agm004786326",
          "agm004787350",
          "agm004852816",
          "agm004948831",
          "agm004949939",
          "agm004957157",
          "agm005056300",
          "agm005071058",
          "agm005072178",
          "agm005112928",
          "agm005180377",
          "agm005199361",
          "agm005208831",
          "agm005545163",
          "agm005664742",
          "agm005721583",
          "agm005722808",
          "agm005785567",
          "agm005848675",
          "agm005882580",
          "agm005882616",
          "agm005954902",
          "agm006020719",
          "agm006045098",
          "agm2000001907",
          "agm2000005406",
          "agm2000035672",
          "agm2000126920",
          "agm2000136656",
          "agm2000137141",
          "mp-1017534",
          "mp-1023924",
          "mp-1029368",
          "mp-1029633",
          "mp-10341",
          "mp-1079609",
          "mp-1079676",
          "mp-1100395",
          "mp-1102285",
          "mp-1103228",
          "mp-1103351",
          "mp-1105300",
          "mp-1147697",
          "mp-11714",
          "mp-1180133",
          "mp-1180688",
          "mp-1191266",
          "mp-1194479",
          "mp-1195571",
          "mp-1196282",
          "mp-1196457",
          "mp-1205304",
          "mp-1208039",
          "mp-1208179",
          "mp-1215642",
          "mp-1216100",
          "mp-1216118",
          "mp-1216976",
          "mp-12177",
          "mp-1217825",
          "mp-1218099",
          "mp-1218334",
          "mp-1219000",
          "mp-1219050",
          "mp-1219328",
          "mp-1219554",
          "mp-1220913",
          "mp-1221169",
          "mp-1221578",
          "mp-1221971",
          "mp-1222122",
          "mp-1222205",
          "mp-1222589",
          "mp-1223389",
          "mp-1223489",
          "mp-1223526",
          "mp-1223849",
          "mp-1225884",
          "mp-1225916",
          "mp-1227011",
          "mp-1227014",
          "mp-1227110",
          "mp-1227124",
          "mp-1227389",
          "mp-1228160",
          "mp-1228342",
          "mp-1247873",
          "mp-1287",
          "mp-13666",
          "mp-1370",
          "mp-1399519",
          "mp-14444",
          "mp-1516294",
          "mp-1550",
          "mp-1778",
          "mp-17862",
          "mp-18168",
          "mp-18578",
          "mp-20694",
          "mp-21521",
          "mp-2176",
          "mp-21892",
          "mp-22909",
          "mp-230",
          "mp-23329",
          "mp-23866",
          "mp-239",
          "mp-24468",
          "mp-2469",
          "mp-24705",
          "mp-2720358",
          "mp-2802611",
          "mp-28456",
          "mp-29157",
          "mp-30847",
          "mp-31451",
          "mp-3267",
          "mp-36066",
          "mp-38011",
          "mp-4122",
          "mp-4187",
          "mp-4431",
          "mp-4452",
          "mp-4514",
          "mp-4524",
          "mp-4779",
          "mp-4812",
          "mp-504952",
          "mp-505702",
          "mp-532424",
          "mp-532444",
          "mp-549720",
          "mp-554918",
          "mp-555150",
          "mp-555202",
          "mp-555915",
          "mp-556157",
          "mp-558085",
          "mp-558219",
          "mp-558277",
          "mp-558491",
          "mp-558521",
          "mp-559057",
          "mp-559065",
          "mp-559545",
          "mp-559752",
          "mp-560588",
          "mp-560894",
          "mp-561385",
          "mp-570756",
          "mp-5784",
          "mp-6126",
          "mp-625175",
          "mp-626172",
          "mp-6268",
          "mp-632229",
          "mp-632684",
          "mp-6524",
          "mp-6564",
          "mp-675161",
          "mp-6980",
          "mp-706621",
          "mp-754712",
          "mp-756044",
          "mp-760755",
          "mp-772748",
          "mp-776226",
          "mp-780232",
          "mp-781710",
          "mp-8070",
          "mp-8393",
          "mp-8884",
          "mp-9066",
          "mp-9427",
          "mp-961682",
          "mp-983327",
          "mp-9844"
         ],
         "type": "scatter",
         "x": [
          96.24988616273804,
          0.8272878630490751,
          0.8346734032987061,
          29.619974283987936,
          16.93465817396815,
          0.9732146459891193,
          4.393400303784358,
          58.14032833705676,
          42.71723587326203,
          3.4142465412794816,
          2.008904656925537,
          0.11781626245550372,
          0.5794118565326268,
          2.832940117818777,
          86.82819893445695,
          1.5328962673060815,
          0.21760412867682172,
          4.990868142109143,
          3.7385919216237418,
          0.386614576544783,
          2.535801221550989,
          43.19384173653965,
          0.6697039819612798,
          0.909579154743933,
          9.197490091501706,
          9.109569841470842,
          9.925651677308547,
          3.9268729723617,
          1.5177471702485532,
          1.5289283566609753,
          23.395391641086643,
          26.79613205748939,
          22.179684377652833,
          167.32652616660764,
          64.16281613192514,
          1.0124731257139752,
          1.162738268371955,
          10.703364611615644,
          101.57610363591236,
          165.13053811130195,
          11.410074228710169,
          28.257195277959454,
          1.145439052894341,
          12.510289252578438,
          3.4203895175343315,
          117.13715749406465,
          56.08907955335334,
          46.68049140909839,
          10.296863271008496,
          9.877113092436911,
          49.0848053409145,
          4.243563953718732,
          0.2773415097117353,
          12.279161879472003,
          0.009178805338191244,
          32.71175046916167,
          134.43648298693395,
          19.206783254619253,
          3.8961386832490144,
          0.2357305320706208,
          7.753745398112175,
          3.3060069082616397,
          0.04742064116398367,
          0.3447064416103106,
          0.4375245326533575,
          19.687937563122517,
          0.3121643754820938,
          0.9123596751216422,
          25.969431210219714,
          6.713160335923752,
          72.39987085288313,
          4.768382722367681,
          5.221417977978593,
          13.636495888910204,
          1.7134206574052462,
          1.6329978550472095,
          7.345981150317449,
          7.074461553977387,
          0.057462420229136814,
          7.5679717252621845,
          1.394860426044515,
          0.35622622680105753,
          4.642317400928152,
          2.052962072742614,
          46.73998821303138,
          16.625346801089552,
          1.6521716923346799,
          3.1945647805715116,
          9.475740860886464,
          1.2701504665621597,
          8.944789484740038,
          7.517340958923934,
          8.573937669458696,
          0.978781989949186,
          33.51774850649906,
          0.4129762319614386,
          1.1403213076518863,
          0.7419385205729853,
          0.035467308610374365,
          0.003434030768570418,
          0.22479309857821572,
          3.322929138148421,
          8.213321581418393,
          86.43318649770944,
          2.5747069716896993,
          14.974014115437333,
          7.445020961969393,
          1.157818482339108,
          3.271774712384432,
          1.4181497304502502,
          0.03305460975883652,
          7.2855926117787835,
          111.51848794665425,
          2.2421112466956346,
          26.760013080806115,
          7.443331100363126,
          6.449937968827414,
          5.011475693953564,
          0.948429369582447,
          10.936798952527536,
          0.9996127983711949,
          0.15312458218171773,
          0.020592390517412237,
          0.10779869903410651,
          12.609780999896321,
          0.9608928044838883,
          0.8542720885431856,
          3.5217840745294517,
          0.5021236310807952,
          9.118595159318504,
          12.644763108596253,
          20.656613805123474,
          11.927124632823427,
          0.8720676557004222,
          57.73467861047733,
          69.68960287965022,
          140.52256752576423,
          2.7085081891465723,
          2.4095157994896765,
          3.700290930724513,
          10.05019430543853,
          0.741207337995033,
          5.870613170689007,
          3.629591992871674,
          11.69283834160852,
          0.1733496066232448,
          26.03769184849257,
          0.16583889893944992,
          0.714080013514555,
          0.09266296905357542,
          0.15713573856920957,
          1.1824359493317524,
          52.33013998938465,
          36.70940657343026,
          0.009159898472070336,
          16.28151897450099,
          38.202112721920614,
          0.24149497175624401,
          1.3815042676431624,
          7.272687675092126,
          0.14195876287417517,
          50.26224377818762,
          16.47429058979047,
          0.5353933903184616,
          13.325047557309988,
          0.05868079498594491,
          8.249912498315384,
          0.31993983241561774,
          33.20634743822916,
          2.40853762353919,
          5.491953186704058,
          1.089629325792245,
          7.525570950107779,
          105.24117753411167,
          1.6702877031054744,
          2.5879642137648387,
          5.679922422479741,
          8.216653290326382,
          0.9147487969477314,
          5.777371774770185,
          0.442564857428989,
          16.7224180311217,
          1.1892828338121868,
          0.3324380902117759,
          0.898303960815359,
          8.534205167195006,
          78.50848151084344,
          37.84125851846766,
          67.16185442385373,
          26.363906943573358,
          2.4495538231008416,
          6.982839424963341,
          0.8775576912236583,
          7.455776004764993,
          19.617387328593306,
          21.183603874760806,
          12.0838638247286,
          89.50434406167203,
          0.21002636989448958,
          0.7380633214529762,
          14.641826029641079,
          1.5660413794640677,
          0.08417919187705811,
          0.8383339900481478,
          22.184202830713517,
          2.4889948726268245,
          1.6714733711428025,
          0.24667704403246854,
          0.418081267508317,
          2.3154201935081313,
          0.4043916301028684,
          4.2561920791556025,
          10.565441829766325,
          0.916306049190346,
          0.9420273957442893,
          1.6293975755324084,
          6.497969001348536,
          5.767520489335899,
          0.9676988836713821,
          28.66905184837226,
          0.498530944623206,
          0.7001223238354805,
          0.09819618485582302,
          0.2392722823262867,
          2.733238270650939,
          0.2779184074445728,
          0.22325584052186562,
          6.412929743824089,
          2.9096809494071505,
          0.6332971350134445,
          1.298295670739857,
          0.1403531239500043,
          0.47930518568311,
          61.68514671047256,
          0.17402164883623036,
          1.1696456448991595,
          0.2817178150189904,
          0.0989148861399233,
          0.2716584026966766,
          2.3354469571638714,
          4.974098097490186,
          16.442143761668234,
          0.6153567936409394,
          17.619886264952516,
          39.55664828037646,
          0.3187782410759168,
          0.5743918279755333,
          19.413017544051222,
          0.16101291594216519,
          0.9483772869076769
         ],
         "y": [
          51.933733732223274,
          2.920812679721593,
          13.28189273146471,
          67.14750295893889,
          22.813186345290898,
          0.5252182765769838,
          11.461439568667673,
          21.9501571001395,
          14.99897929574748,
          3.72820735590959,
          1.6681736224919959,
          1.9857906311702358,
          2.0303122400312708,
          6.3207250305628015,
          6.946814408294164,
          3.1249905444534507,
          0.7315593473918214,
          5.030450933659913,
          6.524517868770642,
          2.4661116747265353,
          2.613805659273712,
          19.888500034875,
          2.2163987846573585,
          1.566971075251962,
          15.075719184988925,
          9.264149063780959,
          11.400635011663486,
          3.7872731906027317,
          0.9643786611530104,
          0.6646996736637051,
          22.392821639148632,
          17.229456552693133,
          26.55403907833925,
          41.050001982398776,
          96.21440346516687,
          1.2182455402058592,
          8.324251472264294,
          8.743966486857799,
          20.307630455800926,
          66.75417085291112,
          12.333665236216671,
          23.917773356229812,
          2.1499215246415067,
          20.563246142576837,
          4.0410118597106575,
          4.7575472668768874,
          86.29814677606788,
          36.02766297082087,
          3.7145822967563533,
          7.922640711252888,
          48.247557645506696,
          6.561867388082195,
          0.635432054979895,
          4.657594854909689,
          0.03195920008289828,
          34.08071055844735,
          11.531188782457182,
          20.12560947515907,
          5.258207687030883,
          1.8610090475938996,
          6.2658033181332735,
          5.266465953058421,
          0.15110329782702242,
          1.247449746755794,
          0.8452473042769277,
          3.4225440592483465,
          0.7511744296715136,
          1.2558957031012865,
          10.661242715096423,
          4.31353490262427,
          26.132492036970433,
          1.5758060651297718,
          3.499951646130691,
          9.978578076968837,
          0.7856695005665941,
          1.7420658941962412,
          7.512969280545231,
          6.114511897940205,
          1.226058168731976,
          7.31226153665381,
          3.2635138746121566,
          0.4428433159187824,
          1.2170464013631708,
          3.109556476084894,
          17.024346270285186,
          20.13396985880839,
          2.230460963389244,
          5.46949036266583,
          17.107638399008128,
          3.4573501205140738,
          9.088281942718659,
          25.399885332676025,
          3.6228155559869193,
          0.941076812333431,
          21.62157573905788,
          4.1949746035749715,
          1.1214915876016567,
          1.371572474869411,
          3.023627659141709,
          0.17159713784919522,
          1.6110873093419342,
          11.975716299325079,
          7.88982018668894,
          2.216405060108867e-7,
          1.6195044455838992,
          16.346201890585387,
          11.472131788180148,
          4.192675113202706,
          3.2765257080185184,
          0.9178839002644299,
          5.662533506681062e-9,
          9.190779285520744,
          62.19613008129783,
          12.344560593281226,
          25.893873851397014,
          7.053099280319936,
          8.387371872788462,
          4.961290731127007,
          12.345856015016855,
          6.676259507696151,
          1.9876112052793617,
          0.7425148487768516,
          0.6439015733665703,
          0.36617024261376896,
          2.2314676486072,
          2.6591358033415404,
          1.68339397850287,
          4.493677883824848,
          1.1793480797491085,
          8.585726759381604,
          2.459527752464004,
          4.15596581729161,
          12.519508059734061,
          2.5260073569511685,
          2.9795429695280227,
          19.355736809270045,
          8.623009963766659,
          3.7039477843805204,
          6.3995223459299195,
          6.607731227842011,
          1.451529918402304,
          6.991872289259067,
          7.030150201822517,
          0.14684211239158412,
          13.539293278402319,
          2.8754601501871337,
          22.28408002823457,
          0.7340526413752809,
          2.753506102906336,
          0.8912979886963666,
          1.057108475255107,
          3.664714344538993,
          31.562004926332158,
          18.03456370627181,
          0.22127831502155404,
          19.438226718273476,
          6.000288345709401,
          2.344294995513136,
          3.38405471350454,
          8.174583721281744,
          0.0000016463143585713195,
          3.509301373747187,
          2.784834111951087,
          1.3757037956093936,
          4.279475909831837,
          3.7034256183612184,
          0.0000010940521827460647,
          7.815986547729321e-7,
          0.620264207386571,
          2.4389304537321848,
          1.4816269874530479,
          7.519337404319612e-7,
          0.000005771501482448459,
          1.21364150979015e-7,
          9.975961663156185e-7,
          0.866302938753607,
          2.98709957086768,
          3.6556752485879462,
          1.0704270522332422,
          0.005108488071160807,
          2.7052804567834987,
          0.000002836253163443429,
          3.878629256900853,
          2.094815074063602,
          0.8950190540788188,
          4.47014969324273,
          13.234335580145391,
          1.0674298237221165e-7,
          2.611526647111116e-8,
          5.4101784297455975,
          5.432429993497926,
          2.892421970499742,
          6.4067533585905485,
          0.00000229917571047083,
          39.516879807581354,
          23.18460846443535,
          27.147715112051348,
          25.46209993597775,
          4.065805801228353,
          8.989905807547231e-7,
          12.583128419369983,
          0.8360668854787678,
          0.4452152080616921,
          0.9963093353340715,
          1.0310084285665488,
          0.7999183138015613,
          1.899452289459546,
          2.9353341691707855,
          1.4136919800155396,
          2.212412327029123,
          1.6240782414960142,
          2.8573980361062326,
          5.050449436836663,
          1.3190979396261027,
          0.6511671264990332,
          3.8913999124164853,
          5.447489133646231,
          4.013175661011763,
          1.2797800532291268,
          3.8052375176346818,
          2.067306631992739,
          1.1411941412613444,
          2.371727021848211,
          1.3375800607992105e-7,
          1.3306207311305274,
          0.9970704991010673,
          1.0884125614600257,
          3.9407822253972755,
          2.809273407230653,
          3.3063384236369324,
          0.017945482859838567,
          0.8869953249262394,
          0.8571646233199638,
          9.087750987245748,
          9.739286580404034e-7,
          1.6116856430398565,
          1.597852547434801,
          0.4635260698184089,
          1.3743639720068046,
          2.185594188450791,
          5.297104855849023,
          3.7741939973407295,
          4.9095512948222035,
          26.381342126172914,
          82.12229348487026,
          3.247111610981188,
          1.3445167674687324,
          2.1128856368212915e-9,
          2.875613396101391,
          3.0727718572494735
         ]
        },
        {
         "line": {
          "color": "gray",
          "dash": "dot"
         },
         "mode": "lines",
         "showlegend": false,
         "type": "scatter",
         "x": [
          -1,
          200
         ],
         "y": [
          -1,
          200
         ]
        }
       ],
       "layout": {
        "autosize": false,
        "font": {
         "size": 20
        },
        "height": 600,
        "template": {
         "data": {
          "bar": [
           {
            "error_x": {
             "color": "rgb(36,36,36)"
            },
            "error_y": {
             "color": "rgb(36,36,36)"
            },
            "marker": {
             "line": {
              "color": "white",
              "width": 0.5
             },
             "pattern": {
              "fillmode": "overlay",
              "size": 10,
              "solidity": 0.2
             }
            },
            "type": "bar"
           }
          ],
          "barpolar": [
           {
            "marker": {
             "line": {
              "color": "white",
              "width": 0.5
             },
             "pattern": {
              "fillmode": "overlay",
              "size": 10,
              "solidity": 0.2
             }
            },
            "type": "barpolar"
           }
          ],
          "carpet": [
           {
            "aaxis": {
             "endlinecolor": "rgb(36,36,36)",
             "gridcolor": "white",
             "linecolor": "white",
             "minorgridcolor": "white",
             "startlinecolor": "rgb(36,36,36)"
            },
            "baxis": {
             "endlinecolor": "rgb(36,36,36)",
             "gridcolor": "white",
             "linecolor": "white",
             "minorgridcolor": "white",
             "startlinecolor": "rgb(36,36,36)"
            },
            "type": "carpet"
           }
          ],
          "choropleth": [
           {
            "colorbar": {
             "outlinewidth": 1,
             "tickcolor": "rgb(36,36,36)",
             "ticks": "outside"
            },
            "type": "choropleth"
           }
          ],
          "contour": [
           {
            "colorbar": {
             "outlinewidth": 1,
             "tickcolor": "rgb(36,36,36)",
             "ticks": "outside"
            },
            "colorscale": [
             [
              0,
              "#440154"
             ],
             [
              0.1111111111111111,
              "#482878"
             ],
             [
              0.2222222222222222,
              "#3e4989"
             ],
             [
              0.3333333333333333,
              "#31688e"
             ],
             [
              0.4444444444444444,
              "#26828e"
             ],
             [
              0.5555555555555556,
              "#1f9e89"
             ],
             [
              0.6666666666666666,
              "#35b779"
             ],
             [
              0.7777777777777778,
              "#6ece58"
             ],
             [
              0.8888888888888888,
              "#b5de2b"
             ],
             [
              1,
              "#fde725"
             ]
            ],
            "type": "contour"
           }
          ],
          "contourcarpet": [
           {
            "colorbar": {
             "outlinewidth": 1,
             "tickcolor": "rgb(36,36,36)",
             "ticks": "outside"
            },
            "type": "contourcarpet"
           }
          ],
          "heatmap": [
           {
            "colorbar": {
             "outlinewidth": 1,
             "tickcolor": "rgb(36,36,36)",
             "ticks": "outside"
            },
            "colorscale": [
             [
              0,
              "#440154"
             ],
             [
              0.1111111111111111,
              "#482878"
             ],
             [
              0.2222222222222222,
              "#3e4989"
             ],
             [
              0.3333333333333333,
              "#31688e"
             ],
             [
              0.4444444444444444,
              "#26828e"
             ],
             [
              0.5555555555555556,
              "#1f9e89"
             ],
             [
              0.6666666666666666,
              "#35b779"
             ],
             [
              0.7777777777777778,
              "#6ece58"
             ],
             [
              0.8888888888888888,
              "#b5de2b"
             ],
             [
              1,
              "#fde725"
             ]
            ],
            "type": "heatmap"
           }
          ],
          "heatmapgl": [
           {
            "colorbar": {
             "outlinewidth": 1,
             "tickcolor": "rgb(36,36,36)",
             "ticks": "outside"
            },
            "colorscale": [
             [
              0,
              "#440154"
             ],
             [
              0.1111111111111111,
              "#482878"
             ],
             [
              0.2222222222222222,
              "#3e4989"
             ],
             [
              0.3333333333333333,
              "#31688e"
             ],
             [
              0.4444444444444444,
              "#26828e"
             ],
             [
              0.5555555555555556,
              "#1f9e89"
             ],
             [
              0.6666666666666666,
              "#35b779"
             ],
             [
              0.7777777777777778,
              "#6ece58"
             ],
             [
              0.8888888888888888,
              "#b5de2b"
             ],
             [
              1,
              "#fde725"
             ]
            ],
            "type": "heatmapgl"
           }
          ],
          "histogram": [
           {
            "marker": {
             "line": {
              "color": "white",
              "width": 0.6
             }
            },
            "type": "histogram"
           }
          ],
          "histogram2d": [
           {
            "colorbar": {
             "outlinewidth": 1,
             "tickcolor": "rgb(36,36,36)",
             "ticks": "outside"
            },
            "colorscale": [
             [
              0,
              "#440154"
             ],
             [
              0.1111111111111111,
              "#482878"
             ],
             [
              0.2222222222222222,
              "#3e4989"
             ],
             [
              0.3333333333333333,
              "#31688e"
             ],
             [
              0.4444444444444444,
              "#26828e"
             ],
             [
              0.5555555555555556,
              "#1f9e89"
             ],
             [
              0.6666666666666666,
              "#35b779"
             ],
             [
              0.7777777777777778,
              "#6ece58"
             ],
             [
              0.8888888888888888,
              "#b5de2b"
             ],
             [
              1,
              "#fde725"
             ]
            ],
            "type": "histogram2d"
           }
          ],
          "histogram2dcontour": [
           {
            "colorbar": {
             "outlinewidth": 1,
             "tickcolor": "rgb(36,36,36)",
             "ticks": "outside"
            },
            "colorscale": [
             [
              0,
              "#440154"
             ],
             [
              0.1111111111111111,
              "#482878"
             ],
             [
              0.2222222222222222,
              "#3e4989"
             ],
             [
              0.3333333333333333,
              "#31688e"
             ],
             [
              0.4444444444444444,
              "#26828e"
             ],
             [
              0.5555555555555556,
              "#1f9e89"
             ],
             [
              0.6666666666666666,
              "#35b779"
             ],
             [
              0.7777777777777778,
              "#6ece58"
             ],
             [
              0.8888888888888888,
              "#b5de2b"
             ],
             [
              1,
              "#fde725"
             ]
            ],
            "type": "histogram2dcontour"
           }
          ],
          "mesh3d": [
           {
            "colorbar": {
             "outlinewidth": 1,
             "tickcolor": "rgb(36,36,36)",
             "ticks": "outside"
            },
            "type": "mesh3d"
           }
          ],
          "parcoords": [
           {
            "line": {
             "colorbar": {
              "outlinewidth": 1,
              "tickcolor": "rgb(36,36,36)",
              "ticks": "outside"
             }
            },
            "type": "parcoords"
           }
          ],
          "pie": [
           {
            "automargin": true,
            "type": "pie"
           }
          ],
          "scatter": [
           {
            "fillpattern": {
             "fillmode": "overlay",
             "size": 10,
             "solidity": 0.2
            },
            "type": "scatter"
           }
          ],
          "scatter3d": [
           {
            "line": {
             "colorbar": {
              "outlinewidth": 1,
              "tickcolor": "rgb(36,36,36)",
              "ticks": "outside"
             }
            },
            "marker": {
             "colorbar": {
              "outlinewidth": 1,
              "tickcolor": "rgb(36,36,36)",
              "ticks": "outside"
             }
            },
            "type": "scatter3d"
           }
          ],
          "scattercarpet": [
           {
            "marker": {
             "colorbar": {
              "outlinewidth": 1,
              "tickcolor": "rgb(36,36,36)",
              "ticks": "outside"
             }
            },
            "type": "scattercarpet"
           }
          ],
          "scattergeo": [
           {
            "marker": {
             "colorbar": {
              "outlinewidth": 1,
              "tickcolor": "rgb(36,36,36)",
              "ticks": "outside"
             }
            },
            "type": "scattergeo"
           }
          ],
          "scattergl": [
           {
            "marker": {
             "colorbar": {
              "outlinewidth": 1,
              "tickcolor": "rgb(36,36,36)",
              "ticks": "outside"
             }
            },
            "type": "scattergl"
           }
          ],
          "scattermapbox": [
           {
            "marker": {
             "colorbar": {
              "outlinewidth": 1,
              "tickcolor": "rgb(36,36,36)",
              "ticks": "outside"
             }
            },
            "type": "scattermapbox"
           }
          ],
          "scatterpolar": [
           {
            "marker": {
             "colorbar": {
              "outlinewidth": 1,
              "tickcolor": "rgb(36,36,36)",
              "ticks": "outside"
             }
            },
            "type": "scatterpolar"
           }
          ],
          "scatterpolargl": [
           {
            "marker": {
             "colorbar": {
              "outlinewidth": 1,
              "tickcolor": "rgb(36,36,36)",
              "ticks": "outside"
             }
            },
            "type": "scatterpolargl"
           }
          ],
          "scatterternary": [
           {
            "marker": {
             "colorbar": {
              "outlinewidth": 1,
              "tickcolor": "rgb(36,36,36)",
              "ticks": "outside"
             }
            },
            "type": "scatterternary"
           }
          ],
          "surface": [
           {
            "colorbar": {
             "outlinewidth": 1,
             "tickcolor": "rgb(36,36,36)",
             "ticks": "outside"
            },
            "colorscale": [
             [
              0,
              "#440154"
             ],
             [
              0.1111111111111111,
              "#482878"
             ],
             [
              0.2222222222222222,
              "#3e4989"
             ],
             [
              0.3333333333333333,
              "#31688e"
             ],
             [
              0.4444444444444444,
              "#26828e"
             ],
             [
              0.5555555555555556,
              "#1f9e89"
             ],
             [
              0.6666666666666666,
              "#35b779"
             ],
             [
              0.7777777777777778,
              "#6ece58"
             ],
             [
              0.8888888888888888,
              "#b5de2b"
             ],
             [
              1,
              "#fde725"
             ]
            ],
            "type": "surface"
           }
          ],
          "table": [
           {
            "cells": {
             "fill": {
              "color": "rgb(237,237,237)"
             },
             "line": {
              "color": "white"
             }
            },
            "header": {
             "fill": {
              "color": "rgb(217,217,217)"
             },
             "line": {
              "color": "white"
             }
            },
            "type": "table"
           }
          ]
         },
         "layout": {
          "annotationdefaults": {
           "arrowhead": 0,
           "arrowwidth": 1
          },
          "autotypenumbers": "strict",
          "coloraxis": {
           "colorbar": {
            "outlinewidth": 1,
            "tickcolor": "rgb(36,36,36)",
            "ticks": "outside"
           }
          },
          "colorscale": {
           "diverging": [
            [
             0,
             "rgb(103,0,31)"
            ],
            [
             0.1,
             "rgb(178,24,43)"
            ],
            [
             0.2,
             "rgb(214,96,77)"
            ],
            [
             0.3,
             "rgb(244,165,130)"
            ],
            [
             0.4,
             "rgb(253,219,199)"
            ],
            [
             0.5,
             "rgb(247,247,247)"
            ],
            [
             0.6,
             "rgb(209,229,240)"
            ],
            [
             0.7,
             "rgb(146,197,222)"
            ],
            [
             0.8,
             "rgb(67,147,195)"
            ],
            [
             0.9,
             "rgb(33,102,172)"
            ],
            [
             1,
             "rgb(5,48,97)"
            ]
           ],
           "sequential": [
            [
             0,
             "#440154"
            ],
            [
             0.1111111111111111,
             "#482878"
            ],
            [
             0.2222222222222222,
             "#3e4989"
            ],
            [
             0.3333333333333333,
             "#31688e"
            ],
            [
             0.4444444444444444,
             "#26828e"
            ],
            [
             0.5555555555555556,
             "#1f9e89"
            ],
            [
             0.6666666666666666,
             "#35b779"
            ],
            [
             0.7777777777777778,
             "#6ece58"
            ],
            [
             0.8888888888888888,
             "#b5de2b"
            ],
            [
             1,
             "#fde725"
            ]
           ],
           "sequentialminus": [
            [
             0,
             "#440154"
            ],
            [
             0.1111111111111111,
             "#482878"
            ],
            [
             0.2222222222222222,
             "#3e4989"
            ],
            [
             0.3333333333333333,
             "#31688e"
            ],
            [
             0.4444444444444444,
             "#26828e"
            ],
            [
             0.5555555555555556,
             "#1f9e89"
            ],
            [
             0.6666666666666666,
             "#35b779"
            ],
            [
             0.7777777777777778,
             "#6ece58"
            ],
            [
             0.8888888888888888,
             "#b5de2b"
            ],
            [
             1,
             "#fde725"
            ]
           ]
          },
          "colorway": [
           "#1F77B4",
           "#FF7F0E",
           "#2CA02C",
           "#D62728",
           "#9467BD",
           "#8C564B",
           "#E377C2",
           "#7F7F7F",
           "#BCBD22",
           "#17BECF"
          ],
          "font": {
           "color": "rgb(36,36,36)"
          },
          "geo": {
           "bgcolor": "white",
           "lakecolor": "white",
           "landcolor": "white",
           "showlakes": true,
           "showland": true,
           "subunitcolor": "white"
          },
          "hoverlabel": {
           "align": "left"
          },
          "hovermode": "closest",
          "mapbox": {
           "style": "light"
          },
          "paper_bgcolor": "white",
          "plot_bgcolor": "white",
          "polar": {
           "angularaxis": {
            "gridcolor": "rgb(232,232,232)",
            "linecolor": "rgb(36,36,36)",
            "showgrid": false,
            "showline": true,
            "ticks": "outside"
           },
           "bgcolor": "white",
           "radialaxis": {
            "gridcolor": "rgb(232,232,232)",
            "linecolor": "rgb(36,36,36)",
            "showgrid": false,
            "showline": true,
            "ticks": "outside"
           }
          },
          "scene": {
           "xaxis": {
            "backgroundcolor": "white",
            "gridcolor": "rgb(232,232,232)",
            "gridwidth": 2,
            "linecolor": "rgb(36,36,36)",
            "showbackground": true,
            "showgrid": false,
            "showline": true,
            "ticks": "outside",
            "zeroline": false,
            "zerolinecolor": "rgb(36,36,36)"
           },
           "yaxis": {
            "backgroundcolor": "white",
            "gridcolor": "rgb(232,232,232)",
            "gridwidth": 2,
            "linecolor": "rgb(36,36,36)",
            "showbackground": true,
            "showgrid": false,
            "showline": true,
            "ticks": "outside",
            "zeroline": false,
            "zerolinecolor": "rgb(36,36,36)"
           },
           "zaxis": {
            "backgroundcolor": "white",
            "gridcolor": "rgb(232,232,232)",
            "gridwidth": 2,
            "linecolor": "rgb(36,36,36)",
            "showbackground": true,
            "showgrid": false,
            "showline": true,
            "ticks": "outside",
            "zeroline": false,
            "zerolinecolor": "rgb(36,36,36)"
           }
          },
          "shapedefaults": {
           "fillcolor": "black",
           "line": {
            "width": 0
           },
           "opacity": 0.3
          },
          "ternary": {
           "aaxis": {
            "gridcolor": "rgb(232,232,232)",
            "linecolor": "rgb(36,36,36)",
            "showgrid": false,
            "showline": true,
            "ticks": "outside"
           },
           "baxis": {
            "gridcolor": "rgb(232,232,232)",
            "linecolor": "rgb(36,36,36)",
            "showgrid": false,
            "showline": true,
            "ticks": "outside"
           },
           "bgcolor": "white",
           "caxis": {
            "gridcolor": "rgb(232,232,232)",
            "linecolor": "rgb(36,36,36)",
            "showgrid": false,
            "showline": true,
            "ticks": "outside"
           }
          },
          "title": {
           "x": 0.05
          },
          "xaxis": {
           "automargin": true,
           "gridcolor": "rgb(232,232,232)",
           "linecolor": "rgb(36,36,36)",
           "showgrid": false,
           "showline": true,
           "ticks": "outside",
           "title": {
            "standoff": 15
           },
           "zeroline": false,
           "zerolinecolor": "rgb(36,36,36)"
          },
          "yaxis": {
           "automargin": true,
           "gridcolor": "rgb(232,232,232)",
           "linecolor": "rgb(36,36,36)",
           "showgrid": false,
           "showline": true,
           "ticks": "outside",
           "title": {
            "standoff": 15
           },
           "zeroline": false,
           "zerolinecolor": "rgb(36,36,36)"
          }
         }
        },
        "width": 600,
        "xaxis": {
         "range": [
          -1,
          170
         ],
         "showgrid": false,
         "title": {
          "text": "<i>d</i><sub>KP</sub> (pm/V)"
         }
        },
        "yaxis": {
         "range": [
          -1,
          170
         ],
         "showgrid": false,
         "title": {
          "text": "<i>d&#770;</i><sub>KP</sub> (pm/V)"
         }
        }
       }
      }
     },
     "metadata": {},
     "output_type": "display_data"
    }
   ],
   "source": [
    "# Data\n",
    "\n",
    "mae = mean_absolute_error(\n",
    "    df_pred_matten[\"dKP_true\"], df_pred_matten[\"dKP_matten_masked\"]\n",
    ")\n",
    "mape = mean_absolute_percentage_error(\n",
    "    df_pred_matten[\"dKP_true\"], df_pred_matten[\"dKP_matten_masked\"]\n",
    ")\n",
    "rmse = root_mean_squared_error(\n",
    "    df_pred_matten[\"dKP_true\"], df_pred_matten[\"dKP_matten_masked\"]\n",
    ")\n",
    "spearmanrho = spearmanr(df_pred_matten[\"dKP_true\"], df_pred_matten[\"dKP_matten_masked\"])\n",
    "print(f\"MAE = {mae}\")\n",
    "print(f\"MAPE = {mape}\")\n",
    "print(f\"RMSE = {rmse}\")\n",
    "print(f\"Rho_sp = {spearmanrho.statistic}\")\n",
    "\n",
    "# Scatter plot for previous outputs.\n",
    "scatter_dKP = go.Scatter(\n",
    "    x=df_pred_matten[\"dKP_true\"],\n",
    "    y=df_pred_matten[\"dKP_matten_masked\"],\n",
    "    mode=\"markers\",\n",
    "    name=\"\",\n",
    "    showlegend=False,\n",
    "    text=[mpid for mpid in df_pred_matten.index.values],\n",
    ")\n",
    "\n",
    "ideal = go.Scatter(\n",
    "    x=[-1, 200],\n",
    "    y=[-1, 200],\n",
    "    mode=\"lines\",\n",
    "    line=dict(color=\"gray\", dash=\"dot\"),\n",
    "    showlegend=False,\n",
    ")\n",
    "\n",
    "# Layout\n",
    "layout = go.Layout(\n",
    "    # title=dict(text='Scatter Plot'),\n",
    "    xaxis=dict(title=\"<i>d</i><sub>KP</sub> (pm/V)\", range=[-1, 170]),\n",
    "    yaxis=dict(title=\"<i>d&#770;</i><sub>KP</sub> (pm/V)\", range=[-1, 170]),\n",
    "    # legend=dict(font=dict(size=12)),\n",
    ")\n",
    "\n",
    "# Create figure\n",
    "fig = go.Figure(data=[scatter_dKP, ideal], layout=layout)\n",
    "\n",
    "fig.update_layout(\n",
    "    autosize=False,\n",
    "    font_size=20,\n",
    "    width=600,\n",
    "    height=600,\n",
    "    # plot_bgcolor=\"white\",\n",
    "    template=\"simple_white\",\n",
    ")\n",
    "fig.update_layout(\n",
    "    xaxis=dict(\n",
    "        # tickmode = 'array',\n",
    "        # tickvals = [1, 2,3,4,5,6,7,8],\n",
    "        # ticktext = ['One', 'Three', 'Five', 'Seven', 'Nine', 'Eleven']\n",
    "        showgrid=False,\n",
    "    ),\n",
    "    yaxis=dict(\n",
    "        # tickmode = 'array',\n",
    "        # tickvals = [1, 2,3,4,5,6,7,8],\n",
    "        # ticktext = ['One', 'Three', 'Five', 'Seven', 'Nine', 'Eleven']\n",
    "        showgrid=False,\n",
    "    ),\n",
    ")\n",
    "\n",
    "# Show figure\n",
    "fig.show()"
   ]
  },
  {
   "cell_type": "markdown",
   "metadata": {},
   "source": [
    "# Errors on dRMS"
   ]
  },
  {
   "cell_type": "code",
   "execution_count": 15,
   "metadata": {},
   "outputs": [
    {
     "name": "stdout",
     "output_type": "stream",
     "text": [
      "MAE = 4.7666452982401974\n",
      "MAPE = 3.1229622553860747\n",
      "RMSE = 11.543238719918591\n",
      "Rho_sp = 0.7723050928814861\n"
     ]
    },
    {
     "data": {
      "application/vnd.plotly.v1+json": {
       "config": {
        "plotlyServerURL": "https://plot.ly"
       },
       "data": [
        {
         "mode": "markers",
         "name": "",
         "showlegend": false,
         "text": [
          "agm001037983",
          "agm001234439",
          "agm001281942",
          "agm001375463",
          "agm002017294",
          "agm002018869",
          "agm002032016",
          "agm002041315",
          "agm002041336",
          "agm002056302",
          "agm002074653",
          "agm002078874",
          "agm002102212",
          "agm002115629",
          "agm002135972",
          "agm002137320",
          "agm002137665",
          "agm002138671",
          "agm002140778",
          "agm002147818",
          "agm002153139",
          "agm002155430",
          "agm002156258",
          "agm002156600",
          "agm002157245",
          "agm002158085",
          "agm002161194",
          "agm002163280",
          "agm002166075",
          "agm002176403",
          "agm002177957",
          "agm002178912",
          "agm002182720",
          "agm002184995",
          "agm002205114",
          "agm002215982",
          "agm002224865",
          "agm002237467",
          "agm002237807",
          "agm002278924",
          "agm002286033",
          "agm002293392",
          "agm002297812",
          "agm002306806",
          "agm002347507",
          "agm002353946",
          "agm002381637",
          "agm002790067",
          "agm002813663",
          "agm003048447",
          "agm003112540",
          "agm003128264",
          "agm003157565",
          "agm003160552",
          "agm003200486",
          "agm003202328",
          "agm003202410",
          "agm003206267",
          "agm003213121",
          "agm003219193",
          "agm003225028",
          "agm003230659",
          "agm003235252",
          "agm003237859",
          "agm003248171",
          "agm003267560",
          "agm003469328",
          "agm003555711",
          "agm003561427",
          "agm003705731",
          "agm004739450",
          "agm004773455",
          "agm004773887",
          "agm004786326",
          "agm004787350",
          "agm004852816",
          "agm004948831",
          "agm004949939",
          "agm004957157",
          "agm005056300",
          "agm005071058",
          "agm005072178",
          "agm005112928",
          "agm005180377",
          "agm005199361",
          "agm005208831",
          "agm005545163",
          "agm005664742",
          "agm005721583",
          "agm005722808",
          "agm005785567",
          "agm005848675",
          "agm005882580",
          "agm005882616",
          "agm005954902",
          "agm006020719",
          "agm006045098",
          "agm2000001907",
          "agm2000005406",
          "agm2000035672",
          "agm2000126920",
          "agm2000136656",
          "agm2000137141",
          "mp-1017534",
          "mp-1023924",
          "mp-1029368",
          "mp-1029633",
          "mp-10341",
          "mp-1079609",
          "mp-1079676",
          "mp-1100395",
          "mp-1102285",
          "mp-1103228",
          "mp-1103351",
          "mp-1105300",
          "mp-1147697",
          "mp-11714",
          "mp-1180133",
          "mp-1180688",
          "mp-1191266",
          "mp-1194479",
          "mp-1195571",
          "mp-1196282",
          "mp-1196457",
          "mp-1205304",
          "mp-1208039",
          "mp-1208179",
          "mp-1215642",
          "mp-1216100",
          "mp-1216118",
          "mp-1216976",
          "mp-12177",
          "mp-1217825",
          "mp-1218099",
          "mp-1218334",
          "mp-1219000",
          "mp-1219050",
          "mp-1219328",
          "mp-1219554",
          "mp-1220913",
          "mp-1221169",
          "mp-1221578",
          "mp-1221971",
          "mp-1222122",
          "mp-1222205",
          "mp-1222589",
          "mp-1223389",
          "mp-1223489",
          "mp-1223526",
          "mp-1223849",
          "mp-1225884",
          "mp-1225916",
          "mp-1227011",
          "mp-1227014",
          "mp-1227110",
          "mp-1227124",
          "mp-1227389",
          "mp-1228160",
          "mp-1228342",
          "mp-1247873",
          "mp-1287",
          "mp-13666",
          "mp-1370",
          "mp-1399519",
          "mp-14444",
          "mp-1516294",
          "mp-1550",
          "mp-1778",
          "mp-17862",
          "mp-18168",
          "mp-18578",
          "mp-20694",
          "mp-21521",
          "mp-2176",
          "mp-21892",
          "mp-22909",
          "mp-230",
          "mp-23329",
          "mp-23866",
          "mp-239",
          "mp-24468",
          "mp-2469",
          "mp-24705",
          "mp-2720358",
          "mp-2802611",
          "mp-28456",
          "mp-29157",
          "mp-30847",
          "mp-31451",
          "mp-3267",
          "mp-36066",
          "mp-38011",
          "mp-4122",
          "mp-4187",
          "mp-4431",
          "mp-4452",
          "mp-4514",
          "mp-4524",
          "mp-4779",
          "mp-4812",
          "mp-504952",
          "mp-505702",
          "mp-532424",
          "mp-532444",
          "mp-549720",
          "mp-554918",
          "mp-555150",
          "mp-555202",
          "mp-555915",
          "mp-556157",
          "mp-558085",
          "mp-558219",
          "mp-558277",
          "mp-558491",
          "mp-558521",
          "mp-559057",
          "mp-559065",
          "mp-559545",
          "mp-559752",
          "mp-560588",
          "mp-560894",
          "mp-561385",
          "mp-570756",
          "mp-5784",
          "mp-6126",
          "mp-625175",
          "mp-626172",
          "mp-6268",
          "mp-632229",
          "mp-632684",
          "mp-6524",
          "mp-6564",
          "mp-675161",
          "mp-6980",
          "mp-706621",
          "mp-754712",
          "mp-756044",
          "mp-760755",
          "mp-772748",
          "mp-776226",
          "mp-780232",
          "mp-781710",
          "mp-8070",
          "mp-8393",
          "mp-8884",
          "mp-9066",
          "mp-9427",
          "mp-961682",
          "mp-983327",
          "mp-9844"
         ],
         "type": "scatter",
         "x": [
          51.882584514101104,
          0.4533013926479508,
          0.4057963811096978,
          16.521232313586655,
          9.124150852602597,
          0.46775878741628596,
          2.3528588118554525,
          28.108656464778452,
          21.46284472676041,
          1.9043757345471775,
          0.9257149253190269,
          0.052656692968634004,
          0.25928842144223757,
          1.5761957996994593,
          43.19589965726968,
          0.8515415513600622,
          0.1212071401455686,
          2.7837732481367383,
          1.8100288924006236,
          0.18891304995189917,
          1.240891853793173,
          24.092373848934614,
          0.2780652151597847,
          0.5073390131619341,
          5.1301148693351415,
          5.080492247421618,
          5.536263997136642,
          2.1903050968347224,
          0.8465589251547817,
          0.6286148524301469,
          12.999884647834325,
          14.94616837215311,
          12.371236879949628,
          93.33027721493909,
          34.70853317720789,
          0.557291148226017,
          0.6485444203121766,
          5.970051546638819,
          53.757923915908336,
          77.80127770554039,
          6.364235337965615,
          15.75916169644592,
          0.47237280580385305,
          6.977905958674158,
          1.9078021229980981,
          48.067720469522214,
          26.402810428827188,
          26.037134120639962,
          5.743315931693144,
          5.462535633207014,
          27.378120266366295,
          1.7380268579474485,
          0.15469370324961404,
          6.848989269263506,
          0.005058641880224271,
          18.24574267700324,
          74.98508761533064,
          7.857758084454895,
          1.9139765745798456,
          0.12242314239888949,
          3.171752829967179,
          1.6468244665009362,
          0.02644996992968097,
          0.19217550548183546,
          0.24051271254895482,
          10.981406909308872,
          0.17399257866696397,
          0.44871477736994314,
          14.48505667027818,
          3.6353460428796867,
          40.26099689281005,
          2.659676810013848,
          2.912367802667379,
          7.605703782860104,
          0.955700381792471,
          0.8845202168351431,
          3.1928810869729394,
          3.4794681762321047,
          0.027586687711588623,
          4.221212949644662,
          0.6665357017920366,
          0.19869349624500426,
          2.5386288445709133,
          1.0310390919182146,
          25.63689693075336,
          9.272411215287146,
          0.9215373412983878,
          1.6187564976273923,
          5.279793960110898,
          0.6940971008804648,
          4.326344554804241,
          3.971014398711312,
          4.541418628385257,
          0.515833644006098,
          18.595815078712224,
          0.20563647590838707,
          0.6340533278041693,
          0.3185523963097873,
          0.017164666920731254,
          0.0018751988456714966,
          0.096938096463029,
          1.8534413205960736,
          4.581171901494939,
          48.21012807239886,
          1.4361029355009154,
          8.268201861260701,
          3.60677734456495,
          0.6458002947703209,
          1.7963445064966395,
          0.7696344759416462,
          0.01843698045193445,
          4.0637094052582015,
          62.202040722991825,
          1.2266354615744965,
          12.015376465281534,
          4.11457904154806,
          3.574376389300032,
          2.7952675913853757,
          0.5290086276803644,
          5.2201441760276746,
          0.5570699989272992,
          0.08540881132745014,
          0.011485886664465445,
          0.060127241596142925,
          5.506634027945211,
          0.5359603995305948,
          0.4764902055119079,
          1.9641255187028441,
          0.27890092843170067,
          4.827024042916005,
          5.857707040218371,
          10.04356241601192,
          6.5546304092516,
          0.43377025628405064,
          28.087170026774842,
          34.28248328640123,
          58.22572578984274,
          1.3321984811845717,
          1.3439637018195625,
          1.815124892647766,
          5.601290472489605,
          0.4134257007161172,
          3.2716689742920355,
          2.0244896887092554,
          4.994965384144942,
          0.09104021838845389,
          12.129364453262644,
          0.07568899820595372,
          0.39789055023287656,
          0.04319627101843022,
          0.08764612746717762,
          0.49212575759514066,
          25.054040539076535,
          20.472239623214367,
          0.004068362758161991,
          9.07458275372441,
          17.475834434449677,
          0.12734638830360553,
          0.5709224401120938,
          3.1789144041772737,
          0.07918081487536796,
          27.888063454478687,
          9.188920267989444,
          0.22251779339487826,
          7.387796727517875,
          0.032730583659987544,
          4.6015813398295675,
          0.1784539124521056,
          18.521615685845696,
          1.3408202698370553,
          2.9477802528616093,
          0.6077662004197643,
          4.031055950513715,
          58.700724258778145,
          0.8320981598795955,
          1.443497471838485,
          2.3406597710981147,
          3.472408650900549,
          0.5102225018175349,
          3.2224640149176285,
          0.2468498748218272,
          9.327319142421455,
          0.6514847668197475,
          0.18542510758501454,
          0.4961124344295853,
          3.659295035811933,
          41.34962284455252,
          21.106845570762644,
          37.46109260289279,
          12.19053599095385,
          1.3646047807325432,
          3.163923628225558,
          0.4894782941495787,
          3.8234329503193933,
          10.928136503456011,
          11.815649719963146,
          5.1609788945394905,
          49.92313791836902,
          0.11469603493802816,
          0.41167205207378327,
          8.136290831125732,
          0.8734961480639114,
          0.04666108984050775,
          0.45410641540225455,
          10.557327670318816,
          1.3881591265457354,
          0.8299209320546047,
          0.13465435118633695,
          0.23319458957793898,
          1.1392720963765515,
          0.21727446683212046,
          2.3538382412307697,
          4.513322601455388,
          0.5110910956192859,
          0.5254377772794955,
          0.7265346544929211,
          3.6243939447239106,
          2.4685469302169927,
          0.5393648457705732,
          15.092237289494683,
          0.2780672755710062,
          0.3800799145129119,
          0.05130142411935495,
          0.1247587224238171,
          1.5245274693645103,
          0.14900057694537197,
          0.10500491864349884,
          2.655257365059746,
          1.2604252314872875,
          0.2613157690884907,
          0.7241547268868561,
          0.07828523227210067,
          0.26728147966887433,
          30.749835038356316,
          0.09564832158407749,
          0.6523971708645311,
          0.15691560074068578,
          0.055162869088356895,
          0.14789601884065873,
          1.2760658281788286,
          2.763203954116439,
          8.778994610638915,
          0.3055595522801001,
          9.825867706743235,
          21.75405528582277,
          0.15534040782680797,
          0.3203702259169111,
          10.828063849008247,
          0.0734471136644047,
          0.5289795773523278
         ],
         "y": [
          22.589935039193886,
          1.1997704110797278,
          5.7008288336257555,
          37.45308773821585,
          9.69901577986438,
          0.23576463632564776,
          5.8720865947607805,
          12.166923643246502,
          8.360290006141131,
          2.0794947102133454,
          0.903858702064631,
          1.0265060434656468,
          0.8702916300684838,
          3.483652240314708,
          3.8628374132703875,
          1.3173883792651002,
          0.34926993293848907,
          2.805851474423511,
          3.289827934078291,
          1.0435389685513232,
          1.303319070054795,
          11.093275311268183,
          0.9091778332162607,
          0.874014707600521,
          8.408834408892828,
          5.1672928215316665,
          6.358970394245397,
          2.112440058761889,
          0.5379047175260022,
          0.3010722196862348,
          12.489991139330797,
          9.610131717698678,
          14.81113535991368,
          22.896597165212345,
          46.48417248832449,
          0.6531772771302903,
          4.643045638440856,
          4.877151488605865,
          11.321048579100244,
          28.362840455572794,
          6.8793897891974405,
          13.340685644551161,
          1.1767986110104673,
          11.469630708851396,
          2.2539687265144996,
          2.6516408624638874,
          39.39129246878869,
          20.095270304751864,
          2.0718950153119575,
          4.09689237292328,
          26.831315837222373,
          2.768501294008927,
          0.35442706665407314,
          2.5978822899291467,
          0.017819666894253624,
          19.00931213342048,
          6.431789808466873,
          8.237303404644075,
          2.7717066424801677,
          1.002983146628407,
          2.843563506420197,
          2.8170475069960634,
          0.08428139277992906,
          0.6470313057731727,
          0.4713990879512396,
          1.9090038689498428,
          0.41038565556966616,
          0.6906894636212436,
          5.94655707526609,
          2.395600850862197,
          13.858254273062693,
          0.8789426295095608,
          1.9521797580803328,
          5.565784699845774,
          0.4382255101274009,
          0.9716777405153972,
          3.247469283642297,
          3.3938349649424304,
          0.6448602684721185,
          4.078584620855457,
          1.7833029080024363,
          0.24700620029897397,
          0.6755069594880901,
          1.2952740610482087,
          7.144279994893759,
          11.21528107793871,
          1.2440916858751252,
          2.9170888660933145,
          9.437314947592295,
          1.628082649837746,
          4.774726416142,
          14.040478116735418,
          1.832258118996606,
          0.41750931969586635,
          12.015463679363808,
          1.9074538634426637,
          0.6131221583390483,
          0.634929525409569,
          1.2845807774305016,
          0.08513508203492888,
          0.6852591312762073,
          6.679735411172088,
          4.4007314444992245,
          5.264389539658428,
          0.9033164216162328,
          9.10278431485095,
          6.382850504829694,
          2.338562447636439,
          1.7759411797060225,
          0.4176612014262348,
          1.6455765701093794,
          5.126371760595336,
          34.691343896092505,
          6.563355607834638,
          11.632907759649012,
          3.893329294278565,
          4.670150220315618,
          2.767275756498679,
          6.886189480740735,
          3.028329766747029,
          0.907402697687066,
          0.41415499538722017,
          0.3591511383079926,
          0.20424000326928052,
          0.9137721633755082,
          1.483195087855045,
          0.9389523004814736,
          2.477865327852262,
          0.6573687732380639,
          4.47529664452546,
          1.3449421845864507,
          2.263610267963124,
          6.885973865396134,
          1.0940825005621742,
          1.4173276816500686,
          10.251209377957094,
          3.6173513041380323,
          1.9655355400534005,
          3.569483023834151,
          3.49348119033866,
          0.7889886419294974,
          3.899880036703525,
          3.771119626538752,
          0.08190461706676251,
          5.8787139782069335,
          1.5807933637881395,
          10.63389673144311,
          0.3690301761854156,
          1.5221408344679357,
          0.47366665399479224,
          0.5896269366376012,
          2.0168286515498317,
          17.450119185728113,
          10.009930232137826,
          0.1155651419955641,
          10.841424374708327,
          2.9540630445586213,
          1.1965305335799516,
          1.8749829209808953,
          3.5514938778843304,
          0.30235551923056575,
          3.154116195656207,
          1.5533062546662295,
          0.5750821934761602,
          3.318614554731542,
          2.065672117419318,
          2.402008584793649,
          0.2305834137667351,
          0.34596684564214275,
          1.3482870289960411,
          0.8206565925331978,
          0.7350848378943156,
          2.2104610042925037,
          57.0345146781691,
          5.180333525686175,
          1.3045127319055705,
          1.5379573347457933,
          4.226626017255305,
          0.5970556839512573,
          0.0028493812358244977,
          1.36068100177379,
          7.049925458817747,
          2.1225266215441425,
          1.1684320236343275,
          0.49629375075233845,
          2.4194732847289533,
          6.683842838709833,
          14.404248547922737,
          41.041672044156535,
          2.7265126778093536,
          2.808194037055394,
          1.671084772253708,
          3.5735162899975967,
          2.9273102363679078,
          21.943303645841667,
          12.931756755358114,
          13.485960247435262,
          36.68222461748968,
          1.755211104518468,
          0.6368474611754241,
          5.808362942438072,
          0.4663358284216071,
          0.19325405640232318,
          0.5354520660819173,
          1.836550042239871,
          0.44310083067564504,
          0.9825149652689621,
          1.498386227010173,
          0.788519713013961,
          1.0109788574329823,
          0.675553242586738,
          1.5316359280332636,
          2.409557079121484,
          0.7357576781127452,
          0.3632036702274445,
          1.6251775358327762,
          3.0384642687349297,
          1.7759629290794117,
          0.6992046823227747,
          1.7446551303789863,
          1.1530885477183934,
          0.7023730475439748,
          0.9966321908426642,
          2.25702278368882,
          0.742184784147106,
          0.5380188815914798,
          0.6060576532087847,
          1.8970840750738396,
          1.3161157367961118,
          1.4065615430062701,
          0.010009512159989046,
          0.494742818846479,
          0.4744360181446337,
          5.066184432484855,
          0.276339550515479,
          0.8989553019155387,
          0.666514718669805,
          0.2813116718417137,
          0.7628624332010512,
          1.2090724497484255,
          2.943627961393806,
          1.8365828792990315,
          2.3608917660970903,
          12.184772842657312,
          45.59045091752534,
          1.8076200448212085,
          0.6558943086113775,
          2.078307260980086,
          1.3050203131487121,
          1.8757667236453734
         ]
        },
        {
         "line": {
          "color": "gray",
          "dash": "dot"
         },
         "mode": "lines",
         "showlegend": false,
         "type": "scatter",
         "x": [
          -1,
          200
         ],
         "y": [
          -1,
          200
         ]
        }
       ],
       "layout": {
        "autosize": false,
        "font": {
         "size": 20
        },
        "height": 600,
        "template": {
         "data": {
          "bar": [
           {
            "error_x": {
             "color": "rgb(36,36,36)"
            },
            "error_y": {
             "color": "rgb(36,36,36)"
            },
            "marker": {
             "line": {
              "color": "white",
              "width": 0.5
             },
             "pattern": {
              "fillmode": "overlay",
              "size": 10,
              "solidity": 0.2
             }
            },
            "type": "bar"
           }
          ],
          "barpolar": [
           {
            "marker": {
             "line": {
              "color": "white",
              "width": 0.5
             },
             "pattern": {
              "fillmode": "overlay",
              "size": 10,
              "solidity": 0.2
             }
            },
            "type": "barpolar"
           }
          ],
          "carpet": [
           {
            "aaxis": {
             "endlinecolor": "rgb(36,36,36)",
             "gridcolor": "white",
             "linecolor": "white",
             "minorgridcolor": "white",
             "startlinecolor": "rgb(36,36,36)"
            },
            "baxis": {
             "endlinecolor": "rgb(36,36,36)",
             "gridcolor": "white",
             "linecolor": "white",
             "minorgridcolor": "white",
             "startlinecolor": "rgb(36,36,36)"
            },
            "type": "carpet"
           }
          ],
          "choropleth": [
           {
            "colorbar": {
             "outlinewidth": 1,
             "tickcolor": "rgb(36,36,36)",
             "ticks": "outside"
            },
            "type": "choropleth"
           }
          ],
          "contour": [
           {
            "colorbar": {
             "outlinewidth": 1,
             "tickcolor": "rgb(36,36,36)",
             "ticks": "outside"
            },
            "colorscale": [
             [
              0,
              "#440154"
             ],
             [
              0.1111111111111111,
              "#482878"
             ],
             [
              0.2222222222222222,
              "#3e4989"
             ],
             [
              0.3333333333333333,
              "#31688e"
             ],
             [
              0.4444444444444444,
              "#26828e"
             ],
             [
              0.5555555555555556,
              "#1f9e89"
             ],
             [
              0.6666666666666666,
              "#35b779"
             ],
             [
              0.7777777777777778,
              "#6ece58"
             ],
             [
              0.8888888888888888,
              "#b5de2b"
             ],
             [
              1,
              "#fde725"
             ]
            ],
            "type": "contour"
           }
          ],
          "contourcarpet": [
           {
            "colorbar": {
             "outlinewidth": 1,
             "tickcolor": "rgb(36,36,36)",
             "ticks": "outside"
            },
            "type": "contourcarpet"
           }
          ],
          "heatmap": [
           {
            "colorbar": {
             "outlinewidth": 1,
             "tickcolor": "rgb(36,36,36)",
             "ticks": "outside"
            },
            "colorscale": [
             [
              0,
              "#440154"
             ],
             [
              0.1111111111111111,
              "#482878"
             ],
             [
              0.2222222222222222,
              "#3e4989"
             ],
             [
              0.3333333333333333,
              "#31688e"
             ],
             [
              0.4444444444444444,
              "#26828e"
             ],
             [
              0.5555555555555556,
              "#1f9e89"
             ],
             [
              0.6666666666666666,
              "#35b779"
             ],
             [
              0.7777777777777778,
              "#6ece58"
             ],
             [
              0.8888888888888888,
              "#b5de2b"
             ],
             [
              1,
              "#fde725"
             ]
            ],
            "type": "heatmap"
           }
          ],
          "heatmapgl": [
           {
            "colorbar": {
             "outlinewidth": 1,
             "tickcolor": "rgb(36,36,36)",
             "ticks": "outside"
            },
            "colorscale": [
             [
              0,
              "#440154"
             ],
             [
              0.1111111111111111,
              "#482878"
             ],
             [
              0.2222222222222222,
              "#3e4989"
             ],
             [
              0.3333333333333333,
              "#31688e"
             ],
             [
              0.4444444444444444,
              "#26828e"
             ],
             [
              0.5555555555555556,
              "#1f9e89"
             ],
             [
              0.6666666666666666,
              "#35b779"
             ],
             [
              0.7777777777777778,
              "#6ece58"
             ],
             [
              0.8888888888888888,
              "#b5de2b"
             ],
             [
              1,
              "#fde725"
             ]
            ],
            "type": "heatmapgl"
           }
          ],
          "histogram": [
           {
            "marker": {
             "line": {
              "color": "white",
              "width": 0.6
             }
            },
            "type": "histogram"
           }
          ],
          "histogram2d": [
           {
            "colorbar": {
             "outlinewidth": 1,
             "tickcolor": "rgb(36,36,36)",
             "ticks": "outside"
            },
            "colorscale": [
             [
              0,
              "#440154"
             ],
             [
              0.1111111111111111,
              "#482878"
             ],
             [
              0.2222222222222222,
              "#3e4989"
             ],
             [
              0.3333333333333333,
              "#31688e"
             ],
             [
              0.4444444444444444,
              "#26828e"
             ],
             [
              0.5555555555555556,
              "#1f9e89"
             ],
             [
              0.6666666666666666,
              "#35b779"
             ],
             [
              0.7777777777777778,
              "#6ece58"
             ],
             [
              0.8888888888888888,
              "#b5de2b"
             ],
             [
              1,
              "#fde725"
             ]
            ],
            "type": "histogram2d"
           }
          ],
          "histogram2dcontour": [
           {
            "colorbar": {
             "outlinewidth": 1,
             "tickcolor": "rgb(36,36,36)",
             "ticks": "outside"
            },
            "colorscale": [
             [
              0,
              "#440154"
             ],
             [
              0.1111111111111111,
              "#482878"
             ],
             [
              0.2222222222222222,
              "#3e4989"
             ],
             [
              0.3333333333333333,
              "#31688e"
             ],
             [
              0.4444444444444444,
              "#26828e"
             ],
             [
              0.5555555555555556,
              "#1f9e89"
             ],
             [
              0.6666666666666666,
              "#35b779"
             ],
             [
              0.7777777777777778,
              "#6ece58"
             ],
             [
              0.8888888888888888,
              "#b5de2b"
             ],
             [
              1,
              "#fde725"
             ]
            ],
            "type": "histogram2dcontour"
           }
          ],
          "mesh3d": [
           {
            "colorbar": {
             "outlinewidth": 1,
             "tickcolor": "rgb(36,36,36)",
             "ticks": "outside"
            },
            "type": "mesh3d"
           }
          ],
          "parcoords": [
           {
            "line": {
             "colorbar": {
              "outlinewidth": 1,
              "tickcolor": "rgb(36,36,36)",
              "ticks": "outside"
             }
            },
            "type": "parcoords"
           }
          ],
          "pie": [
           {
            "automargin": true,
            "type": "pie"
           }
          ],
          "scatter": [
           {
            "fillpattern": {
             "fillmode": "overlay",
             "size": 10,
             "solidity": 0.2
            },
            "type": "scatter"
           }
          ],
          "scatter3d": [
           {
            "line": {
             "colorbar": {
              "outlinewidth": 1,
              "tickcolor": "rgb(36,36,36)",
              "ticks": "outside"
             }
            },
            "marker": {
             "colorbar": {
              "outlinewidth": 1,
              "tickcolor": "rgb(36,36,36)",
              "ticks": "outside"
             }
            },
            "type": "scatter3d"
           }
          ],
          "scattercarpet": [
           {
            "marker": {
             "colorbar": {
              "outlinewidth": 1,
              "tickcolor": "rgb(36,36,36)",
              "ticks": "outside"
             }
            },
            "type": "scattercarpet"
           }
          ],
          "scattergeo": [
           {
            "marker": {
             "colorbar": {
              "outlinewidth": 1,
              "tickcolor": "rgb(36,36,36)",
              "ticks": "outside"
             }
            },
            "type": "scattergeo"
           }
          ],
          "scattergl": [
           {
            "marker": {
             "colorbar": {
              "outlinewidth": 1,
              "tickcolor": "rgb(36,36,36)",
              "ticks": "outside"
             }
            },
            "type": "scattergl"
           }
          ],
          "scattermapbox": [
           {
            "marker": {
             "colorbar": {
              "outlinewidth": 1,
              "tickcolor": "rgb(36,36,36)",
              "ticks": "outside"
             }
            },
            "type": "scattermapbox"
           }
          ],
          "scatterpolar": [
           {
            "marker": {
             "colorbar": {
              "outlinewidth": 1,
              "tickcolor": "rgb(36,36,36)",
              "ticks": "outside"
             }
            },
            "type": "scatterpolar"
           }
          ],
          "scatterpolargl": [
           {
            "marker": {
             "colorbar": {
              "outlinewidth": 1,
              "tickcolor": "rgb(36,36,36)",
              "ticks": "outside"
             }
            },
            "type": "scatterpolargl"
           }
          ],
          "scatterternary": [
           {
            "marker": {
             "colorbar": {
              "outlinewidth": 1,
              "tickcolor": "rgb(36,36,36)",
              "ticks": "outside"
             }
            },
            "type": "scatterternary"
           }
          ],
          "surface": [
           {
            "colorbar": {
             "outlinewidth": 1,
             "tickcolor": "rgb(36,36,36)",
             "ticks": "outside"
            },
            "colorscale": [
             [
              0,
              "#440154"
             ],
             [
              0.1111111111111111,
              "#482878"
             ],
             [
              0.2222222222222222,
              "#3e4989"
             ],
             [
              0.3333333333333333,
              "#31688e"
             ],
             [
              0.4444444444444444,
              "#26828e"
             ],
             [
              0.5555555555555556,
              "#1f9e89"
             ],
             [
              0.6666666666666666,
              "#35b779"
             ],
             [
              0.7777777777777778,
              "#6ece58"
             ],
             [
              0.8888888888888888,
              "#b5de2b"
             ],
             [
              1,
              "#fde725"
             ]
            ],
            "type": "surface"
           }
          ],
          "table": [
           {
            "cells": {
             "fill": {
              "color": "rgb(237,237,237)"
             },
             "line": {
              "color": "white"
             }
            },
            "header": {
             "fill": {
              "color": "rgb(217,217,217)"
             },
             "line": {
              "color": "white"
             }
            },
            "type": "table"
           }
          ]
         },
         "layout": {
          "annotationdefaults": {
           "arrowhead": 0,
           "arrowwidth": 1
          },
          "autotypenumbers": "strict",
          "coloraxis": {
           "colorbar": {
            "outlinewidth": 1,
            "tickcolor": "rgb(36,36,36)",
            "ticks": "outside"
           }
          },
          "colorscale": {
           "diverging": [
            [
             0,
             "rgb(103,0,31)"
            ],
            [
             0.1,
             "rgb(178,24,43)"
            ],
            [
             0.2,
             "rgb(214,96,77)"
            ],
            [
             0.3,
             "rgb(244,165,130)"
            ],
            [
             0.4,
             "rgb(253,219,199)"
            ],
            [
             0.5,
             "rgb(247,247,247)"
            ],
            [
             0.6,
             "rgb(209,229,240)"
            ],
            [
             0.7,
             "rgb(146,197,222)"
            ],
            [
             0.8,
             "rgb(67,147,195)"
            ],
            [
             0.9,
             "rgb(33,102,172)"
            ],
            [
             1,
             "rgb(5,48,97)"
            ]
           ],
           "sequential": [
            [
             0,
             "#440154"
            ],
            [
             0.1111111111111111,
             "#482878"
            ],
            [
             0.2222222222222222,
             "#3e4989"
            ],
            [
             0.3333333333333333,
             "#31688e"
            ],
            [
             0.4444444444444444,
             "#26828e"
            ],
            [
             0.5555555555555556,
             "#1f9e89"
            ],
            [
             0.6666666666666666,
             "#35b779"
            ],
            [
             0.7777777777777778,
             "#6ece58"
            ],
            [
             0.8888888888888888,
             "#b5de2b"
            ],
            [
             1,
             "#fde725"
            ]
           ],
           "sequentialminus": [
            [
             0,
             "#440154"
            ],
            [
             0.1111111111111111,
             "#482878"
            ],
            [
             0.2222222222222222,
             "#3e4989"
            ],
            [
             0.3333333333333333,
             "#31688e"
            ],
            [
             0.4444444444444444,
             "#26828e"
            ],
            [
             0.5555555555555556,
             "#1f9e89"
            ],
            [
             0.6666666666666666,
             "#35b779"
            ],
            [
             0.7777777777777778,
             "#6ece58"
            ],
            [
             0.8888888888888888,
             "#b5de2b"
            ],
            [
             1,
             "#fde725"
            ]
           ]
          },
          "colorway": [
           "#1F77B4",
           "#FF7F0E",
           "#2CA02C",
           "#D62728",
           "#9467BD",
           "#8C564B",
           "#E377C2",
           "#7F7F7F",
           "#BCBD22",
           "#17BECF"
          ],
          "font": {
           "color": "rgb(36,36,36)"
          },
          "geo": {
           "bgcolor": "white",
           "lakecolor": "white",
           "landcolor": "white",
           "showlakes": true,
           "showland": true,
           "subunitcolor": "white"
          },
          "hoverlabel": {
           "align": "left"
          },
          "hovermode": "closest",
          "mapbox": {
           "style": "light"
          },
          "paper_bgcolor": "white",
          "plot_bgcolor": "white",
          "polar": {
           "angularaxis": {
            "gridcolor": "rgb(232,232,232)",
            "linecolor": "rgb(36,36,36)",
            "showgrid": false,
            "showline": true,
            "ticks": "outside"
           },
           "bgcolor": "white",
           "radialaxis": {
            "gridcolor": "rgb(232,232,232)",
            "linecolor": "rgb(36,36,36)",
            "showgrid": false,
            "showline": true,
            "ticks": "outside"
           }
          },
          "scene": {
           "xaxis": {
            "backgroundcolor": "white",
            "gridcolor": "rgb(232,232,232)",
            "gridwidth": 2,
            "linecolor": "rgb(36,36,36)",
            "showbackground": true,
            "showgrid": false,
            "showline": true,
            "ticks": "outside",
            "zeroline": false,
            "zerolinecolor": "rgb(36,36,36)"
           },
           "yaxis": {
            "backgroundcolor": "white",
            "gridcolor": "rgb(232,232,232)",
            "gridwidth": 2,
            "linecolor": "rgb(36,36,36)",
            "showbackground": true,
            "showgrid": false,
            "showline": true,
            "ticks": "outside",
            "zeroline": false,
            "zerolinecolor": "rgb(36,36,36)"
           },
           "zaxis": {
            "backgroundcolor": "white",
            "gridcolor": "rgb(232,232,232)",
            "gridwidth": 2,
            "linecolor": "rgb(36,36,36)",
            "showbackground": true,
            "showgrid": false,
            "showline": true,
            "ticks": "outside",
            "zeroline": false,
            "zerolinecolor": "rgb(36,36,36)"
           }
          },
          "shapedefaults": {
           "fillcolor": "black",
           "line": {
            "width": 0
           },
           "opacity": 0.3
          },
          "ternary": {
           "aaxis": {
            "gridcolor": "rgb(232,232,232)",
            "linecolor": "rgb(36,36,36)",
            "showgrid": false,
            "showline": true,
            "ticks": "outside"
           },
           "baxis": {
            "gridcolor": "rgb(232,232,232)",
            "linecolor": "rgb(36,36,36)",
            "showgrid": false,
            "showline": true,
            "ticks": "outside"
           },
           "bgcolor": "white",
           "caxis": {
            "gridcolor": "rgb(232,232,232)",
            "linecolor": "rgb(36,36,36)",
            "showgrid": false,
            "showline": true,
            "ticks": "outside"
           }
          },
          "title": {
           "x": 0.05
          },
          "xaxis": {
           "automargin": true,
           "gridcolor": "rgb(232,232,232)",
           "linecolor": "rgb(36,36,36)",
           "showgrid": false,
           "showline": true,
           "ticks": "outside",
           "title": {
            "standoff": 15
           },
           "zeroline": false,
           "zerolinecolor": "rgb(36,36,36)"
          },
          "yaxis": {
           "automargin": true,
           "gridcolor": "rgb(232,232,232)",
           "linecolor": "rgb(36,36,36)",
           "showgrid": false,
           "showline": true,
           "ticks": "outside",
           "title": {
            "standoff": 15
           },
           "zeroline": false,
           "zerolinecolor": "rgb(36,36,36)"
          }
         }
        },
        "width": 600,
        "xaxis": {
         "range": [
          -1,
          100
         ],
         "showgrid": false,
         "title": {
          "text": "<i>d</i><sub>RMS</sub> (pm/V)"
         }
        },
        "yaxis": {
         "range": [
          -1,
          100
         ],
         "showgrid": false,
         "title": {
          "text": "<i>d&#770;</i><sub>RMS</sub> (pm/V)"
         }
        }
       }
      }
     },
     "metadata": {},
     "output_type": "display_data"
    }
   ],
   "source": [
    "# Data\n",
    "\n",
    "mae = mean_absolute_error(df_pred_matten[\"dRMS_true\"], df_pred_matten[\"dRMS_matten\"])\n",
    "mape = mean_absolute_percentage_error(\n",
    "    df_pred_matten[\"dRMS_true\"], df_pred_matten[\"dRMS_matten\"]\n",
    ")\n",
    "rmse = root_mean_squared_error(\n",
    "    df_pred_matten[\"dRMS_true\"], df_pred_matten[\"dRMS_matten\"]\n",
    ")\n",
    "spearmanrho = spearmanr(df_pred_matten[\"dRMS_true\"], df_pred_matten[\"dRMS_matten\"])\n",
    "print(f\"MAE = {mae}\")\n",
    "print(f\"MAPE = {mape}\")\n",
    "print(f\"RMSE = {rmse}\")\n",
    "print(f\"Rho_sp = {spearmanrho.statistic}\")\n",
    "\n",
    "# Scatter plot for previous outputs.\n",
    "scatter_dRMS = go.Scatter(\n",
    "    x=df_pred_matten[\"dRMS_true\"],\n",
    "    y=df_pred_matten[\"dRMS_matten\"],\n",
    "    mode=\"markers\",\n",
    "    name=\"\",\n",
    "    showlegend=False,\n",
    "    text=[mpid for mpid in df_pred_matten.index.values],\n",
    ")\n",
    "\n",
    "ideal = go.Scatter(\n",
    "    x=[-1, 200],\n",
    "    y=[-1, 200],\n",
    "    mode=\"lines\",\n",
    "    line=dict(color=\"gray\", dash=\"dot\"),\n",
    "    showlegend=False,\n",
    ")\n",
    "\n",
    "# Layout\n",
    "layout = go.Layout(\n",
    "    # title=dict(text='Scatter Plot'),\n",
    "    xaxis=dict(title=\"<i>d</i><sub>RMS</sub> (pm/V)\", range=[-1, 100]),\n",
    "    yaxis=dict(title=\"<i>d&#770;</i><sub>RMS</sub> (pm/V)\", range=[-1, 100]),\n",
    "    # legend=dict(font=dict(size=12)),\n",
    ")\n",
    "\n",
    "# Create figure\n",
    "fig = go.Figure(data=[scatter_dRMS, ideal], layout=layout)\n",
    "\n",
    "fig.update_layout(\n",
    "    autosize=False,\n",
    "    font_size=20,\n",
    "    width=600,\n",
    "    height=600,\n",
    "    # plot_bgcolor=\"white\",\n",
    "    template=\"simple_white\",\n",
    ")\n",
    "fig.update_layout(\n",
    "    xaxis=dict(\n",
    "        # tickmode = 'array',\n",
    "        # tickvals = [1, 2,3,4,5,6,7,8],\n",
    "        # ticktext = ['One', 'Three', 'Five', 'Seven', 'Nine', 'Eleven']\n",
    "        showgrid=False,\n",
    "    ),\n",
    "    yaxis=dict(\n",
    "        # tickmode = 'array',\n",
    "        # tickvals = [1, 2,3,4,5,6,7,8],\n",
    "        # ticktext = ['One', 'Three', 'Five', 'Seven', 'Nine', 'Eleven']\n",
    "        showgrid=False,\n",
    "    ),\n",
    ")\n",
    "\n",
    "# Show figure\n",
    "fig.show()"
   ]
  },
  {
   "cell_type": "code",
   "execution_count": null,
   "metadata": {},
   "outputs": [],
   "source": []
  }
 ],
 "metadata": {
  "kernelspec": {
   "display_name": "shgmlenv",
   "language": "python",
   "name": "python3"
  },
  "language_info": {
   "codemirror_mode": {
    "name": "ipython",
    "version": 3
   },
   "file_extension": ".py",
   "mimetype": "text/x-python",
   "name": "python",
   "nbconvert_exporter": "python",
   "pygments_lexer": "ipython3",
   "version": "3.11.0"
  }
 },
 "nbformat": 4,
 "nbformat_minor": 2
}
