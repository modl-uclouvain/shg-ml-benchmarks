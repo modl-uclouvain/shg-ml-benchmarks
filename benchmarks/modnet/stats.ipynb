{
 "cells": [
  {
   "cell_type": "code",
   "execution_count": 1,
   "metadata": {},
   "outputs": [],
   "source": [
    "import json\n",
    "\n",
    "import numpy as np\n",
    "import pandas as pd\n",
    "import plotly.graph_objs as go\n",
    "from sklearn.metrics import r2_score\n",
    "\n",
    "from shg_ml_benchmarks.utils import BENCHMARKS_DIR, load_holdout"
   ]
  },
  {
   "cell_type": "markdown",
   "metadata": {},
   "source": [
    "# Load data"
   ]
  },
  {
   "cell_type": "code",
   "execution_count": 2,
   "metadata": {},
   "outputs": [
    {
     "name": "stdout",
     "output_type": "stream",
     "text": [
      "(125, 2)\n"
     ]
    },
    {
     "data": {
      "text/html": [
       "<div>\n",
       "<style scoped>\n",
       "    .dataframe tbody tr th:only-of-type {\n",
       "        vertical-align: middle;\n",
       "    }\n",
       "\n",
       "    .dataframe tbody tr th {\n",
       "        vertical-align: top;\n",
       "    }\n",
       "\n",
       "    .dataframe thead th {\n",
       "        text-align: right;\n",
       "    }\n",
       "</style>\n",
       "<table border=\"1\" class=\"dataframe\">\n",
       "  <thead>\n",
       "    <tr style=\"text-align: right;\">\n",
       "      <th></th>\n",
       "      <th>predictions</th>\n",
       "      <th>uncertainties</th>\n",
       "    </tr>\n",
       "  </thead>\n",
       "  <tbody>\n",
       "    <tr>\n",
       "      <th>mp-552663</th>\n",
       "      <td>1.358480</td>\n",
       "      <td>0.589436</td>\n",
       "    </tr>\n",
       "    <tr>\n",
       "      <th>mp-753401</th>\n",
       "      <td>1.820289</td>\n",
       "      <td>0.876528</td>\n",
       "    </tr>\n",
       "    <tr>\n",
       "      <th>mp-23363</th>\n",
       "      <td>0.172901</td>\n",
       "      <td>0.112393</td>\n",
       "    </tr>\n",
       "    <tr>\n",
       "      <th>mp-559961</th>\n",
       "      <td>2.637100</td>\n",
       "      <td>0.809798</td>\n",
       "    </tr>\n",
       "    <tr>\n",
       "      <th>mp-17066</th>\n",
       "      <td>1.264187</td>\n",
       "      <td>0.604361</td>\n",
       "    </tr>\n",
       "  </tbody>\n",
       "</table>\n",
       "</div>"
      ],
      "text/plain": [
       "           predictions  uncertainties\n",
       "mp-552663     1.358480       0.589436\n",
       "mp-753401     1.820289       0.876528\n",
       "mp-23363      0.172901       0.112393\n",
       "mp-559961     2.637100       0.809798\n",
       "mp-17066      1.264187       0.604361"
      ]
     },
     "metadata": {},
     "output_type": "display_data"
    }
   ],
   "source": [
    "model_label = \"modnet\"\n",
    "model_tags = \"mmf_pgnn_\"\n",
    "task = \"distribution_125\"\n",
    "\n",
    "results_fname = f\"{model_tags}results.json\"\n",
    "results_path = BENCHMARKS_DIR / model_label / \"tasks\" / task / results_fname\n",
    "with open(results_path, \"r\") as f:\n",
    "    data = json.load(f)\n",
    "\n",
    "metrics = data.pop(\"metrics\")\n",
    "df_pred_unc = pd.DataFrame(data=data)\n",
    "print(df_pred_unc.shape)\n",
    "display(df_pred_unc.head())"
   ]
  },
  {
   "cell_type": "code",
   "execution_count": 3,
   "metadata": {},
   "outputs": [],
   "source": [
    "holdout_df = load_holdout(task).filter(df_pred_unc.index, axis=0)"
   ]
  },
  {
   "cell_type": "markdown",
   "metadata": {},
   "source": [
    "# Parity plot - log"
   ]
  },
  {
   "cell_type": "code",
   "execution_count": 4,
   "metadata": {},
   "outputs": [
    {
     "data": {
      "application/vnd.plotly.v1+json": {
       "config": {
        "plotlyServerURL": "https://plot.ly"
       },
       "data": [
        {
         "mode": "markers",
         "name": "",
         "showlegend": false,
         "text": [
          "mp-552663",
          "mp-753401",
          "mp-23363",
          "mp-559961",
          "mp-17066",
          "mp-29155",
          "mp-542931",
          "mp-27316",
          "mp-6126",
          "mp-997027",
          "mp-21521",
          "mp-8673",
          "mp-23280",
          "mp-561664",
          "mp-23794",
          "mp-756570",
          "mp-27987",
          "mp-550959",
          "mp-556719",
          "mp-27914",
          "mp-29524",
          "mp-504908",
          "mp-559065",
          "mp-769218",
          "mp-570213",
          "mp-1023936",
          "mp-560588",
          "mp-1222661",
          "mp-1227993",
          "mp-567246",
          "mp-1184796",
          "mp-1217830",
          "mp-774907",
          "mp-672158",
          "mp-1228522",
          "mp-504910",
          "mp-568802",
          "mp-1222565",
          "mp-33723",
          "mp-1227512",
          "mp-1189731",
          "mp-28089",
          "mp-36779",
          "mp-560521",
          "mp-571195",
          "mp-1208039",
          "mp-1224376",
          "mp-1219501",
          "mp-1218158",
          "mp-17207",
          "agm003202330",
          "agm002254137",
          "agm002186848",
          "agm002224787",
          "agm002153716",
          "mp-1195571",
          "mp-998230",
          "mp-1223489",
          "mp-1029932",
          "mp-28473",
          "mp-1228745",
          "mp-1029652",
          "mp-985293",
          "mp-1019889",
          "mp-1227994",
          "agm002156258",
          "mp-559373",
          "mp-1215615",
          "mp-1219293",
          "mp-560699",
          "agm002156599",
          "mp-1078049",
          "mp-554002",
          "mp-1226863",
          "agm002848041",
          "agm002336867",
          "mp-1222496",
          "agm003160584",
          "mp-568328",
          "agm002137965",
          "agm002074655",
          "agm2000085596",
          "agm005539186",
          "agm002073755",
          "agm002149208",
          "agm002225219",
          "agm003713453",
          "agm1000019508",
          "agm2000011039",
          "agm005769288",
          "agm005112928",
          "agm001266143",
          "agm005955873",
          "agm002077911",
          "agm002097562",
          "agm2000016398",
          "agm2000145156",
          "agm002056302",
          "agm002190330",
          "mp-685097",
          "agm003464867",
          "agm003204906",
          "agm002072309",
          "agm003612680",
          "agm002128787",
          "agm2000128632",
          "agm005882580",
          "agm003743952",
          "mp-1029408",
          "agm2000084944",
          "mp-998591",
          "agm004958126",
          "agm002233061",
          "agm005605704",
          "mp-1220818",
          "mp-761842",
          "mp-14568",
          "agm004947354",
          "agm006056059",
          "mp-32959",
          "agm002091778",
          "agm004951594",
          "agm002079795",
          "agm002018585",
          "agm004786105"
         ],
         "type": "scatter",
         "x": [
          0.11009703197924924,
          0.7691529019629036,
          -4.592323538872693,
          -0.32095926897028487,
          -2.5171357256722606,
          1.4074454955924198,
          -0.33440285034435596,
          -2.337580811734735,
          1.005487085967149,
          2.3185509986184103,
          2.0183066815251465,
          1.905127604190746,
          -2.258319172000336,
          -0.15139962255851527,
          -1.1747273679731742,
          2.6428457986952703,
          0.6561578872985051,
          2.0543193741250803,
          0.5136435219961208,
          -2.2312395663473907,
          -0.8201548436622684,
          -0.567853000126619,
          1.871489666744384,
          4.104456041313405,
          4.888033100161943,
          1.1181511413099128,
          3.355818208137122,
          3.726647754439092,
          2.7650171525584897,
          -0.9785740520325,
          -1.9506258577615776,
          0.9457580474086552,
          0.930712906065857,
          -0.5656119968586392,
          1.8063898261803264,
          0.8313874729054991,
          3.8660055450967015,
          -0.5810982301121206,
          3.3984711512999723,
          3.306013787798052,
          -1.9297986195498888,
          1.0205797457045462,
          0.8820832081275523,
          -1.3952522508175258,
          4.630220709061966,
          -0.03989242203594581,
          3.0673285353516495,
          2.945090010904687,
          0.9855598229690008,
          2.8744963496568476,
          3.227784664463102,
          5.010152352035054,
          4.375465953109872,
          1.9564967524058423,
          -0.20522065543880316,
          -1.8765034262960585,
          1.7457670117279211,
          -1.7967384501708528,
          3.4405184224368184,
          -0.9070702941270304,
          2.186084617256394,
          1.357935550498175,
          -1.831438376179809,
          -1.765944603910963,
          0.8638553728959156,
          -0.4009194821956806,
          -0.010746393155664617,
          3.171956161985026,
          -1.221948932928841,
          -0.17101327411568193,
          0.5891447123015938,
          2.856874865027175,
          -0.6819699010937628,
          -0.8341184758980481,
          -2.4835216162509544,
          5.030326353366186,
          -1.902012413956002,
          4.508571574798542,
          4.030308396821867,
          -0.432710833898198,
          1.3144920723487423,
          -2.7007726716029277,
          2.464559324158839,
          -0.24997113715089964,
          -2.2797230750007285,
          2.674699707151309,
          1.5138593783934942,
          -1.8369011356903615,
          -1.2018782806368469,
          1.5675333828046232,
          1.535213681414796,
          3.7834741715488054,
          -0.9805353461537808,
          2.5519913843949884,
          -1.054320696076026,
          -5.144746364748553,
          -4.374698564785749,
          1.2279568365509097,
          2.7658319902778548,
          1.463168969282763,
          2.545536375253649,
          2.4312306180959693,
          1.464224222415336,
          0.23378936328834635,
          2.288341124647539,
          -2.7405701763814596,
          2.14872709843379,
          -1.964754536724552,
          2.2711819556615875,
          -2.9984723895710323,
          2.2040521524858843,
          0.8372014447917839,
          1.9687811839177107,
          3.505027619501831,
          0.5349081196696716,
          -0.30292585730254923,
          -2.8658097868306,
          2.2434879030397643,
          -2.1784232718366727,
          0.2328686129265657,
          -1.2789627598088726,
          2.048032715213161,
          0.15772498428777643,
          4.001703353515542,
          3.933836224919828
         ],
         "y": [
          0.3063666737264288,
          0.5989952883549423,
          -1.7550344388081676,
          0.9696796406261832,
          0.2344295878754449,
          0.4588016985865437,
          0.2125661088896503,
          -1.9627878700503691,
          0.4322984966131432,
          1.0698017549115533,
          0.8487552724141297,
          1.2939661203115425,
          0.07157878269292084,
          0.04825466892797038,
          -1.0787974670371911,
          0.24315202017942897,
          -0.4501093038236113,
          1.4782289333973055,
          -0.7502471835539607,
          -0.578389852012693,
          -0.84819732137456,
          1.8541985390280813,
          2.1560122463367146,
          3.4404714869251776,
          4.172527372977251,
          1.1995804903759677,
          2.4909700497033485,
          3.74188902350058,
          2.086186374644522,
          1.388600545351641,
          -2.1289213130137186,
          0.8471102073597226,
          1.569449379863682,
          1.0934368389738012,
          1.8190848015824608,
          0.46484663786287805,
          3.839300041255995,
          -0.590608846485308,
          4.078046027065308,
          4.171261262406349,
          0.7244061925225791,
          2.8036597320334233,
          0.4267849642385432,
          -1.5425251499348418,
          4.4510174716535555,
          -0.012511713386378765,
          3.314213608828104,
          2.5714523266075817,
          1.4879932362501669,
          2.7400064729023903,
          3.898138764330586,
          4.839342237785234,
          4.395328785376551,
          2.2559143491277815,
          0.09686056210430125,
          -0.2614246275676127,
          1.609457271835329,
          -1.145669537526053,
          2.6152099350601077,
          -1.2940936323654686,
          2.859676946531912,
          1.3394160914643858,
          -0.4096309887086136,
          -1.143599741073782,
          0.22129381150954328,
          -1.3190178748299677,
          0.8281069315811072,
          2.759099563534359,
          -2.0158425180091086,
          1.2936657659382,
          -0.3832196499606073,
          2.873990243350138,
          -0.6085087657164757,
          -0.395882012830413,
          -0.42410190704860457,
          4.742496515633264,
          0.9638375311645262,
          3.9500595813004273,
          4.632292170672674,
          -0.7384057247539838,
          0.44691076370223687,
          1.5495802929488176,
          2.393340571059263,
          -0.8361777298702694,
          -1.5838863530417648,
          2.625605462980601,
          0.7608418630131382,
          -0.8104617366045582,
          -0.8082022373148268,
          2.1675989160515265,
          1.9603498795353365,
          3.9797900995082713,
          -1.5218927296021585,
          2.598785147462872,
          -0.6569670616683507,
          -2.915477340846708,
          -2.7476403017903923,
          0.6042673282803567,
          3.255493583806179,
          1.221415067069625,
          2.517123688701977,
          2.464909029536312,
          0.8673388257662532,
          -0.7686140987192808,
          3.0529889110244306,
          -0.6420680268643029,
          0.9347891354416094,
          0.8777794609159292,
          2.046349105989559,
          -2.478672166878974,
          1.5145608835115865,
          0.534511300778501,
          3.7789056070348006,
          3.034680290373968,
          1.5282470213343935,
          1.373133559593192,
          -2.117403029641351,
          1.4268345242423963,
          -1.1146504229575784,
          -0.565720090072606,
          1.5313112943583125,
          1.690962558416011,
          0.4869303458220456,
          4.271977265015246,
          3.5921441756289716
         ]
        },
        {
         "line": {
          "color": "gray",
          "dash": "dot"
         },
         "mode": "lines",
         "showlegend": false,
         "type": "scatter",
         "x": [
          -10,
          8
         ],
         "y": [
          -10,
          8
         ]
        }
       ],
       "layout": {
        "autosize": false,
        "font": {
         "size": 20
        },
        "height": 600,
        "template": {
         "data": {
          "bar": [
           {
            "error_x": {
             "color": "rgb(36,36,36)"
            },
            "error_y": {
             "color": "rgb(36,36,36)"
            },
            "marker": {
             "line": {
              "color": "white",
              "width": 0.5
             },
             "pattern": {
              "fillmode": "overlay",
              "size": 10,
              "solidity": 0.2
             }
            },
            "type": "bar"
           }
          ],
          "barpolar": [
           {
            "marker": {
             "line": {
              "color": "white",
              "width": 0.5
             },
             "pattern": {
              "fillmode": "overlay",
              "size": 10,
              "solidity": 0.2
             }
            },
            "type": "barpolar"
           }
          ],
          "carpet": [
           {
            "aaxis": {
             "endlinecolor": "rgb(36,36,36)",
             "gridcolor": "white",
             "linecolor": "white",
             "minorgridcolor": "white",
             "startlinecolor": "rgb(36,36,36)"
            },
            "baxis": {
             "endlinecolor": "rgb(36,36,36)",
             "gridcolor": "white",
             "linecolor": "white",
             "minorgridcolor": "white",
             "startlinecolor": "rgb(36,36,36)"
            },
            "type": "carpet"
           }
          ],
          "choropleth": [
           {
            "colorbar": {
             "outlinewidth": 1,
             "tickcolor": "rgb(36,36,36)",
             "ticks": "outside"
            },
            "type": "choropleth"
           }
          ],
          "contour": [
           {
            "colorbar": {
             "outlinewidth": 1,
             "tickcolor": "rgb(36,36,36)",
             "ticks": "outside"
            },
            "colorscale": [
             [
              0,
              "#440154"
             ],
             [
              0.1111111111111111,
              "#482878"
             ],
             [
              0.2222222222222222,
              "#3e4989"
             ],
             [
              0.3333333333333333,
              "#31688e"
             ],
             [
              0.4444444444444444,
              "#26828e"
             ],
             [
              0.5555555555555556,
              "#1f9e89"
             ],
             [
              0.6666666666666666,
              "#35b779"
             ],
             [
              0.7777777777777778,
              "#6ece58"
             ],
             [
              0.8888888888888888,
              "#b5de2b"
             ],
             [
              1,
              "#fde725"
             ]
            ],
            "type": "contour"
           }
          ],
          "contourcarpet": [
           {
            "colorbar": {
             "outlinewidth": 1,
             "tickcolor": "rgb(36,36,36)",
             "ticks": "outside"
            },
            "type": "contourcarpet"
           }
          ],
          "heatmap": [
           {
            "colorbar": {
             "outlinewidth": 1,
             "tickcolor": "rgb(36,36,36)",
             "ticks": "outside"
            },
            "colorscale": [
             [
              0,
              "#440154"
             ],
             [
              0.1111111111111111,
              "#482878"
             ],
             [
              0.2222222222222222,
              "#3e4989"
             ],
             [
              0.3333333333333333,
              "#31688e"
             ],
             [
              0.4444444444444444,
              "#26828e"
             ],
             [
              0.5555555555555556,
              "#1f9e89"
             ],
             [
              0.6666666666666666,
              "#35b779"
             ],
             [
              0.7777777777777778,
              "#6ece58"
             ],
             [
              0.8888888888888888,
              "#b5de2b"
             ],
             [
              1,
              "#fde725"
             ]
            ],
            "type": "heatmap"
           }
          ],
          "heatmapgl": [
           {
            "colorbar": {
             "outlinewidth": 1,
             "tickcolor": "rgb(36,36,36)",
             "ticks": "outside"
            },
            "colorscale": [
             [
              0,
              "#440154"
             ],
             [
              0.1111111111111111,
              "#482878"
             ],
             [
              0.2222222222222222,
              "#3e4989"
             ],
             [
              0.3333333333333333,
              "#31688e"
             ],
             [
              0.4444444444444444,
              "#26828e"
             ],
             [
              0.5555555555555556,
              "#1f9e89"
             ],
             [
              0.6666666666666666,
              "#35b779"
             ],
             [
              0.7777777777777778,
              "#6ece58"
             ],
             [
              0.8888888888888888,
              "#b5de2b"
             ],
             [
              1,
              "#fde725"
             ]
            ],
            "type": "heatmapgl"
           }
          ],
          "histogram": [
           {
            "marker": {
             "line": {
              "color": "white",
              "width": 0.6
             }
            },
            "type": "histogram"
           }
          ],
          "histogram2d": [
           {
            "colorbar": {
             "outlinewidth": 1,
             "tickcolor": "rgb(36,36,36)",
             "ticks": "outside"
            },
            "colorscale": [
             [
              0,
              "#440154"
             ],
             [
              0.1111111111111111,
              "#482878"
             ],
             [
              0.2222222222222222,
              "#3e4989"
             ],
             [
              0.3333333333333333,
              "#31688e"
             ],
             [
              0.4444444444444444,
              "#26828e"
             ],
             [
              0.5555555555555556,
              "#1f9e89"
             ],
             [
              0.6666666666666666,
              "#35b779"
             ],
             [
              0.7777777777777778,
              "#6ece58"
             ],
             [
              0.8888888888888888,
              "#b5de2b"
             ],
             [
              1,
              "#fde725"
             ]
            ],
            "type": "histogram2d"
           }
          ],
          "histogram2dcontour": [
           {
            "colorbar": {
             "outlinewidth": 1,
             "tickcolor": "rgb(36,36,36)",
             "ticks": "outside"
            },
            "colorscale": [
             [
              0,
              "#440154"
             ],
             [
              0.1111111111111111,
              "#482878"
             ],
             [
              0.2222222222222222,
              "#3e4989"
             ],
             [
              0.3333333333333333,
              "#31688e"
             ],
             [
              0.4444444444444444,
              "#26828e"
             ],
             [
              0.5555555555555556,
              "#1f9e89"
             ],
             [
              0.6666666666666666,
              "#35b779"
             ],
             [
              0.7777777777777778,
              "#6ece58"
             ],
             [
              0.8888888888888888,
              "#b5de2b"
             ],
             [
              1,
              "#fde725"
             ]
            ],
            "type": "histogram2dcontour"
           }
          ],
          "mesh3d": [
           {
            "colorbar": {
             "outlinewidth": 1,
             "tickcolor": "rgb(36,36,36)",
             "ticks": "outside"
            },
            "type": "mesh3d"
           }
          ],
          "parcoords": [
           {
            "line": {
             "colorbar": {
              "outlinewidth": 1,
              "tickcolor": "rgb(36,36,36)",
              "ticks": "outside"
             }
            },
            "type": "parcoords"
           }
          ],
          "pie": [
           {
            "automargin": true,
            "type": "pie"
           }
          ],
          "scatter": [
           {
            "fillpattern": {
             "fillmode": "overlay",
             "size": 10,
             "solidity": 0.2
            },
            "type": "scatter"
           }
          ],
          "scatter3d": [
           {
            "line": {
             "colorbar": {
              "outlinewidth": 1,
              "tickcolor": "rgb(36,36,36)",
              "ticks": "outside"
             }
            },
            "marker": {
             "colorbar": {
              "outlinewidth": 1,
              "tickcolor": "rgb(36,36,36)",
              "ticks": "outside"
             }
            },
            "type": "scatter3d"
           }
          ],
          "scattercarpet": [
           {
            "marker": {
             "colorbar": {
              "outlinewidth": 1,
              "tickcolor": "rgb(36,36,36)",
              "ticks": "outside"
             }
            },
            "type": "scattercarpet"
           }
          ],
          "scattergeo": [
           {
            "marker": {
             "colorbar": {
              "outlinewidth": 1,
              "tickcolor": "rgb(36,36,36)",
              "ticks": "outside"
             }
            },
            "type": "scattergeo"
           }
          ],
          "scattergl": [
           {
            "marker": {
             "colorbar": {
              "outlinewidth": 1,
              "tickcolor": "rgb(36,36,36)",
              "ticks": "outside"
             }
            },
            "type": "scattergl"
           }
          ],
          "scattermapbox": [
           {
            "marker": {
             "colorbar": {
              "outlinewidth": 1,
              "tickcolor": "rgb(36,36,36)",
              "ticks": "outside"
             }
            },
            "type": "scattermapbox"
           }
          ],
          "scatterpolar": [
           {
            "marker": {
             "colorbar": {
              "outlinewidth": 1,
              "tickcolor": "rgb(36,36,36)",
              "ticks": "outside"
             }
            },
            "type": "scatterpolar"
           }
          ],
          "scatterpolargl": [
           {
            "marker": {
             "colorbar": {
              "outlinewidth": 1,
              "tickcolor": "rgb(36,36,36)",
              "ticks": "outside"
             }
            },
            "type": "scatterpolargl"
           }
          ],
          "scatterternary": [
           {
            "marker": {
             "colorbar": {
              "outlinewidth": 1,
              "tickcolor": "rgb(36,36,36)",
              "ticks": "outside"
             }
            },
            "type": "scatterternary"
           }
          ],
          "surface": [
           {
            "colorbar": {
             "outlinewidth": 1,
             "tickcolor": "rgb(36,36,36)",
             "ticks": "outside"
            },
            "colorscale": [
             [
              0,
              "#440154"
             ],
             [
              0.1111111111111111,
              "#482878"
             ],
             [
              0.2222222222222222,
              "#3e4989"
             ],
             [
              0.3333333333333333,
              "#31688e"
             ],
             [
              0.4444444444444444,
              "#26828e"
             ],
             [
              0.5555555555555556,
              "#1f9e89"
             ],
             [
              0.6666666666666666,
              "#35b779"
             ],
             [
              0.7777777777777778,
              "#6ece58"
             ],
             [
              0.8888888888888888,
              "#b5de2b"
             ],
             [
              1,
              "#fde725"
             ]
            ],
            "type": "surface"
           }
          ],
          "table": [
           {
            "cells": {
             "fill": {
              "color": "rgb(237,237,237)"
             },
             "line": {
              "color": "white"
             }
            },
            "header": {
             "fill": {
              "color": "rgb(217,217,217)"
             },
             "line": {
              "color": "white"
             }
            },
            "type": "table"
           }
          ]
         },
         "layout": {
          "annotationdefaults": {
           "arrowhead": 0,
           "arrowwidth": 1
          },
          "autotypenumbers": "strict",
          "coloraxis": {
           "colorbar": {
            "outlinewidth": 1,
            "tickcolor": "rgb(36,36,36)",
            "ticks": "outside"
           }
          },
          "colorscale": {
           "diverging": [
            [
             0,
             "rgb(103,0,31)"
            ],
            [
             0.1,
             "rgb(178,24,43)"
            ],
            [
             0.2,
             "rgb(214,96,77)"
            ],
            [
             0.3,
             "rgb(244,165,130)"
            ],
            [
             0.4,
             "rgb(253,219,199)"
            ],
            [
             0.5,
             "rgb(247,247,247)"
            ],
            [
             0.6,
             "rgb(209,229,240)"
            ],
            [
             0.7,
             "rgb(146,197,222)"
            ],
            [
             0.8,
             "rgb(67,147,195)"
            ],
            [
             0.9,
             "rgb(33,102,172)"
            ],
            [
             1,
             "rgb(5,48,97)"
            ]
           ],
           "sequential": [
            [
             0,
             "#440154"
            ],
            [
             0.1111111111111111,
             "#482878"
            ],
            [
             0.2222222222222222,
             "#3e4989"
            ],
            [
             0.3333333333333333,
             "#31688e"
            ],
            [
             0.4444444444444444,
             "#26828e"
            ],
            [
             0.5555555555555556,
             "#1f9e89"
            ],
            [
             0.6666666666666666,
             "#35b779"
            ],
            [
             0.7777777777777778,
             "#6ece58"
            ],
            [
             0.8888888888888888,
             "#b5de2b"
            ],
            [
             1,
             "#fde725"
            ]
           ],
           "sequentialminus": [
            [
             0,
             "#440154"
            ],
            [
             0.1111111111111111,
             "#482878"
            ],
            [
             0.2222222222222222,
             "#3e4989"
            ],
            [
             0.3333333333333333,
             "#31688e"
            ],
            [
             0.4444444444444444,
             "#26828e"
            ],
            [
             0.5555555555555556,
             "#1f9e89"
            ],
            [
             0.6666666666666666,
             "#35b779"
            ],
            [
             0.7777777777777778,
             "#6ece58"
            ],
            [
             0.8888888888888888,
             "#b5de2b"
            ],
            [
             1,
             "#fde725"
            ]
           ]
          },
          "colorway": [
           "#1F77B4",
           "#FF7F0E",
           "#2CA02C",
           "#D62728",
           "#9467BD",
           "#8C564B",
           "#E377C2",
           "#7F7F7F",
           "#BCBD22",
           "#17BECF"
          ],
          "font": {
           "color": "rgb(36,36,36)"
          },
          "geo": {
           "bgcolor": "white",
           "lakecolor": "white",
           "landcolor": "white",
           "showlakes": true,
           "showland": true,
           "subunitcolor": "white"
          },
          "hoverlabel": {
           "align": "left"
          },
          "hovermode": "closest",
          "mapbox": {
           "style": "light"
          },
          "paper_bgcolor": "white",
          "plot_bgcolor": "white",
          "polar": {
           "angularaxis": {
            "gridcolor": "rgb(232,232,232)",
            "linecolor": "rgb(36,36,36)",
            "showgrid": false,
            "showline": true,
            "ticks": "outside"
           },
           "bgcolor": "white",
           "radialaxis": {
            "gridcolor": "rgb(232,232,232)",
            "linecolor": "rgb(36,36,36)",
            "showgrid": false,
            "showline": true,
            "ticks": "outside"
           }
          },
          "scene": {
           "xaxis": {
            "backgroundcolor": "white",
            "gridcolor": "rgb(232,232,232)",
            "gridwidth": 2,
            "linecolor": "rgb(36,36,36)",
            "showbackground": true,
            "showgrid": false,
            "showline": true,
            "ticks": "outside",
            "zeroline": false,
            "zerolinecolor": "rgb(36,36,36)"
           },
           "yaxis": {
            "backgroundcolor": "white",
            "gridcolor": "rgb(232,232,232)",
            "gridwidth": 2,
            "linecolor": "rgb(36,36,36)",
            "showbackground": true,
            "showgrid": false,
            "showline": true,
            "ticks": "outside",
            "zeroline": false,
            "zerolinecolor": "rgb(36,36,36)"
           },
           "zaxis": {
            "backgroundcolor": "white",
            "gridcolor": "rgb(232,232,232)",
            "gridwidth": 2,
            "linecolor": "rgb(36,36,36)",
            "showbackground": true,
            "showgrid": false,
            "showline": true,
            "ticks": "outside",
            "zeroline": false,
            "zerolinecolor": "rgb(36,36,36)"
           }
          },
          "shapedefaults": {
           "fillcolor": "black",
           "line": {
            "width": 0
           },
           "opacity": 0.3
          },
          "ternary": {
           "aaxis": {
            "gridcolor": "rgb(232,232,232)",
            "linecolor": "rgb(36,36,36)",
            "showgrid": false,
            "showline": true,
            "ticks": "outside"
           },
           "baxis": {
            "gridcolor": "rgb(232,232,232)",
            "linecolor": "rgb(36,36,36)",
            "showgrid": false,
            "showline": true,
            "ticks": "outside"
           },
           "bgcolor": "white",
           "caxis": {
            "gridcolor": "rgb(232,232,232)",
            "linecolor": "rgb(36,36,36)",
            "showgrid": false,
            "showline": true,
            "ticks": "outside"
           }
          },
          "title": {
           "x": 0.05
          },
          "xaxis": {
           "automargin": true,
           "gridcolor": "rgb(232,232,232)",
           "linecolor": "rgb(36,36,36)",
           "showgrid": false,
           "showline": true,
           "ticks": "outside",
           "title": {
            "standoff": 15
           },
           "zeroline": false,
           "zerolinecolor": "rgb(36,36,36)"
          },
          "yaxis": {
           "automargin": true,
           "gridcolor": "rgb(232,232,232)",
           "linecolor": "rgb(36,36,36)",
           "showgrid": false,
           "showline": true,
           "ticks": "outside",
           "title": {
            "standoff": 15
           },
           "zeroline": false,
           "zerolinecolor": "rgb(36,36,36)"
          }
         }
        },
        "width": 600,
        "xaxis": {
         "dtick": 2,
         "range": [
          -8.5,
          5.2
         ],
         "showgrid": false,
         "tick0": 0,
         "tickmode": "linear",
         "title": {
          "text": "ln(<i>d</i><sub>KP</sub>) (pm/V)"
         }
        },
        "yaxis": {
         "dtick": 2,
         "range": [
          -8.5,
          5.2
         ],
         "showgrid": false,
         "tick0": 0,
         "tickmode": "linear",
         "title": {
          "text": "ln(<i>d&#770;</i><sub>KP</sub>) (pm/V)"
         }
        }
       }
      }
     },
     "metadata": {},
     "output_type": "display_data"
    }
   ],
   "source": [
    "true_values = holdout_df[\"dKP_full_neum\"].tolist()\n",
    "pred_values = df_pred_unc[\"predictions\"].tolist()\n",
    "\n",
    "# Scatter plot for previous outputs.\n",
    "scatter_plot = go.Scatter(\n",
    "    x=np.log(true_values),\n",
    "    y=np.log(pred_values),\n",
    "    mode=\"markers\",\n",
    "    name=\"\",\n",
    "    showlegend=False,\n",
    "    text=[mpid for mpid in holdout_df.index.tolist()],\n",
    ")\n",
    "\n",
    "ideal = go.Scatter(\n",
    "    x=[-10, 8],\n",
    "    y=[-10, 8],\n",
    "    mode=\"lines\",\n",
    "    line=dict(color=\"gray\", dash=\"dot\"),\n",
    "    showlegend=False,\n",
    ")\n",
    "\n",
    "# Layout\n",
    "layout = go.Layout(\n",
    "    # title=dict(text='Scatter Plot'),\n",
    "    xaxis=dict(title=\"ln(<i>d</i><sub>KP</sub>) (pm/V)\", range=[-8.5, 5.2]),\n",
    "    yaxis=dict(title=\"ln(<i>d&#770;</i><sub>KP</sub>) (pm/V)\", range=[-8.5, 5.2]),\n",
    "    # legend=dict(font=dict(size=12)),\n",
    ")\n",
    "\n",
    "# Create figure\n",
    "fig = go.Figure(data=[scatter_plot, ideal], layout=layout)\n",
    "\n",
    "fig.update_layout(\n",
    "    autosize=False,\n",
    "    font_size=20,\n",
    "    width=600,\n",
    "    height=600,\n",
    "    # plot_bgcolor=\"white\",\n",
    "    template=\"simple_white\",\n",
    ")\n",
    "fig.update_layout(\n",
    "    xaxis=dict(\n",
    "        tickmode=\"linear\",\n",
    "        tick0=0,\n",
    "        dtick=2,\n",
    "        showgrid=False,\n",
    "    ),\n",
    "    yaxis=dict(\n",
    "        tickmode=\"linear\",\n",
    "        tick0=0,\n",
    "        dtick=2,\n",
    "        showgrid=False,\n",
    "    ),\n",
    ")\n",
    "\n",
    "fig.show()"
   ]
  },
  {
   "cell_type": "code",
   "execution_count": 5,
   "metadata": {},
   "outputs": [
    {
     "data": {
      "text/plain": [
       "0.8118740952271818"
      ]
     },
     "execution_count": 5,
     "metadata": {},
     "output_type": "execute_result"
    }
   ],
   "source": [
    "np.mean(np.abs(np.log(true_values) - np.log(pred_values)))"
   ]
  },
  {
   "cell_type": "code",
   "execution_count": 6,
   "metadata": {},
   "outputs": [
    {
     "data": {
      "text/plain": [
       "0.738924405977687"
      ]
     },
     "execution_count": 6,
     "metadata": {},
     "output_type": "execute_result"
    }
   ],
   "source": [
    "r2_score(np.log(true_values), np.log(pred_values))"
   ]
  },
  {
   "cell_type": "code",
   "execution_count": 8,
   "metadata": {},
   "outputs": [
    {
     "data": {
      "text/plain": [
       "0.8073915856579492"
      ]
     },
     "execution_count": 8,
     "metadata": {},
     "output_type": "execute_result"
    }
   ],
   "source": [
    "r2_score(true_values, pred_values)"
   ]
  }
 ],
 "metadata": {
  "kernelspec": {
   "display_name": "shgmlenv",
   "language": "python",
   "name": "python3"
  },
  "language_info": {
   "codemirror_mode": {
    "name": "ipython",
    "version": 3
   },
   "file_extension": ".py",
   "mimetype": "text/x-python",
   "name": "python",
   "nbconvert_exporter": "python",
   "pygments_lexer": "ipython3",
   "version": "3.11.0"
  }
 },
 "nbformat": 4,
 "nbformat_minor": 2
}
