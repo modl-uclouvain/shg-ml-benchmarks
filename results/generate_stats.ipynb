{
 "cells": [
  {
   "cell_type": "code",
   "execution_count": 1,
   "metadata": {},
   "outputs": [],
   "source": [
    "import json\n",
    "import os\n",
    "from collections import Counter\n",
    "from pathlib import Path\n",
    "\n",
    "import pandas as pd\n",
    "import plotly.graph_objs as go\n",
    "\n",
    "from shg_ml_benchmarks.utils import SHG_BENCHMARK_SPLITS, load_holdout"
   ]
  },
  {
   "cell_type": "markdown",
   "metadata": {},
   "source": [
    "# Gather metrics"
   ]
  },
  {
   "cell_type": "code",
   "execution_count": 2,
   "metadata": {},
   "outputs": [
    {
     "name": "stdout",
     "output_type": "stream",
     "text": [
      "{'modnet_nan': {'tasks': {}}, 'matten': {'tasks': {}}, 'modnet': {'tasks': {}}, 'mean_value': {'tasks': {}}, 'et': {'tasks_dflt': {}, 'tasks_An': {}}, 'darwin-1.5': {'tasks': {}}, 'lgbm': {'tasks_dflt': {}, 'tasks_An': {}}, 'claude-sonnet-3.5': {'tasks': {}}}\n",
      "{'modnet_nan': {'tasks': {'distribution_125': {}, 'distribution_250': {}, 'random_125': {}, 'random_250': {}}}, 'matten': {'tasks': {'distribution_125': {}, 'distribution_250': {}, 'random_125': {}, 'random_250': {}}}, 'modnet': {'tasks': {'distribution_125': {}, 'distribution_250': {}, 'random_125': {}, 'random_250': {}}}, 'mean_value': {'tasks': {'random_250': {}}}, 'et': {'tasks_dflt': {'distribution_125': {}, 'distribution_250': {}, 'random_125': {}, 'random_250': {}}, 'tasks_An': {'distribution_125': {}, 'distribution_250': {}, 'random_125': {}, 'random_250': {}}}, 'darwin-1.5': {'tasks': {'distribution_125': {}, 'distribution_250': {}, 'random_125': {}, 'random_250': {}}}, 'lgbm': {'tasks_dflt': {'distribution_125': {}, 'distribution_250': {}, 'random_125': {}, 'random_250': {}}, 'tasks_An': {'distribution_125': {}, 'distribution_250': {}, 'random_125': {}, 'random_250': {}}}, 'claude-sonnet-3.5': {'tasks': {'random_125': {}}}}\n"
     ]
    }
   ],
   "source": [
    "# 1. Lists all directories in the previous dir\n",
    "path_benchmarks = Path(\"..\")\n",
    "model_names = next(os.walk(path_benchmarks), (None, None, []))[1]\n",
    "model_names.remove(\"results_stats\")\n",
    "model_names\n",
    "# 2. Create a dict with the name of the models as keys\n",
    "dict_results = {m: {} for m in model_names}\n",
    "dict_results\n",
    "# 3. The values will be a new dict with the denomination of the \"tasks_...\" or \"tasks\" dir as key\n",
    "for m in dict_results.keys():\n",
    "    path_tasks = path_benchmarks / m\n",
    "    for d in next(os.walk(path_tasks), (None, None, []))[1]:\n",
    "        if \"tasks\" in d:\n",
    "            dict_results[m].update({d: {}})\n",
    "\n",
    "print(dict_results)\n",
    "# 4. The values of this last dict will be a new dict with the task (or split) as key so random_125 for example\n",
    "for m in dict_results.keys():\n",
    "    path_tasks = path_benchmarks / m\n",
    "    for t in dict_results[m].keys():\n",
    "        path_split = path_tasks / t\n",
    "        for d in next(os.walk(path_split), (None, None, []))[1]:\n",
    "            if \"distribution\" in d or \"random\" in d:\n",
    "                dict_results[m][t].update({d: {}})\n",
    "\n",
    "print(dict_results)\n",
    "# 5. The values of this last dict will be a new dict with the type of features (mmf e.g.) as key\n",
    "for m in dict_results.keys():\n",
    "    path_tasks = path_benchmarks / m\n",
    "    for t in dict_results[m].keys():\n",
    "        path_split = path_tasks / t\n",
    "        for s in dict_results[m][t].keys():\n",
    "            path_feat = path_split / s\n",
    "\n",
    "            for f in next(os.walk(path_feat), (None, None, []))[2]:\n",
    "                if \"json\" not in f:\n",
    "                    continue\n",
    "                path_results = path_feat / f\n",
    "                with open(path_results, \"r\") as file:\n",
    "                    results = json.load(file)\n",
    "                dict_results[m][t][s].update({f.split(\".json\")[0]: results[\"metrics\"]})\n",
    "\n",
    "# display(dict_results)"
   ]
  },
  {
   "cell_type": "code",
   "execution_count": 3,
   "metadata": {},
   "outputs": [],
   "source": [
    "# Function to unravel the dict keys\n",
    "f = {}\n",
    "stack = [(dict_results, \"\")]  # Stack holds tuples of (current_dict, current_key)\n",
    "\n",
    "while stack:\n",
    "    c, p = stack.pop()\n",
    "\n",
    "    for k, v in c.items():\n",
    "        new_key = f\"{p}_{k}\" if p else k\n",
    "\n",
    "        if isinstance(v, dict):\n",
    "            stack.append((v, new_key))  # Push the nested dictionary onto the stack\n",
    "        else:\n",
    "            f[new_key] = v  # Add to the flattened dictionary\n",
    "\n",
    "# print(f)"
   ]
  },
  {
   "cell_type": "code",
   "execution_count": 4,
   "metadata": {},
   "outputs": [],
   "source": [
    "dict_results_ravel = {}\n",
    "for k, v in f.items():\n",
    "    new_k, metric = k.replace(\"_tasks\", \"\").split(\"results_\")\n",
    "    if new_k not in dict_results_ravel.keys():\n",
    "        dict_results_ravel[new_k] = {}\n",
    "    dict_results_ravel[new_k][metric] = v"
   ]
  },
  {
   "cell_type": "code",
   "execution_count": 5,
   "metadata": {},
   "outputs": [
    {
     "name": "stdout",
     "output_type": "stream",
     "text": [
      "random_125\n"
     ]
    },
    {
     "data": {
      "text/html": [
       "<style type=\"text/css\">\n",
       "#T_58198_row0_col0, #T_58198_row0_col1, #T_58198_row0_col2, #T_58198_row0_col3, #T_58198_row2_col0, #T_58198_row2_col1, #T_58198_row2_col2, #T_58198_row2_col3 {\n",
       "  color: red;\n",
       "}\n",
       "#T_58198_row11_col0, #T_58198_row11_col1, #T_58198_row11_col2, #T_58198_row11_col3 {\n",
       "  color: red;\n",
       "  color: red;\n",
       "  font-weight: bold;\n",
       "}\n",
       "</style>\n",
       "<table id=\"T_58198\">\n",
       "  <thead>\n",
       "    <tr>\n",
       "      <th class=\"blank level0\" >&nbsp;</th>\n",
       "      <th id=\"T_58198_level0_col0\" class=\"col_heading level0 col0\" >mae</th>\n",
       "      <th id=\"T_58198_level0_col1\" class=\"col_heading level0 col1\" >rmse</th>\n",
       "      <th id=\"T_58198_level0_col2\" class=\"col_heading level0 col2\" >spearman</th>\n",
       "      <th id=\"T_58198_level0_col3\" class=\"col_heading level0 col3\" >r2_score</th>\n",
       "    </tr>\n",
       "  </thead>\n",
       "  <tbody>\n",
       "    <tr>\n",
       "      <th id=\"T_58198_level0_row0\" class=\"row_heading level0 row0\" >modnet_mmf_pgnn_</th>\n",
       "      <td id=\"T_58198_row0_col0\" class=\"data row0 col0\" >7.304253</td>\n",
       "      <td id=\"T_58198_row0_col1\" class=\"data row0 col1\" >19.423989</td>\n",
       "      <td id=\"T_58198_row0_col2\" class=\"data row0 col2\" >0.916129</td>\n",
       "      <td id=\"T_58198_row0_col3\" class=\"data row0 col3\" >0.600429</td>\n",
       "    </tr>\n",
       "    <tr>\n",
       "      <th id=\"T_58198_level0_row1\" class=\"row_heading level0 row1\" >modnet_nan_mmf_</th>\n",
       "      <td id=\"T_58198_row1_col0\" class=\"data row1 col0\" >8.575768</td>\n",
       "      <td id=\"T_58198_row1_col1\" class=\"data row1 col1\" >22.312438</td>\n",
       "      <td id=\"T_58198_row1_col2\" class=\"data row1 col2\" >0.914353</td>\n",
       "      <td id=\"T_58198_row1_col3\" class=\"data row1 col3\" >0.472757</td>\n",
       "    </tr>\n",
       "    <tr>\n",
       "      <th id=\"T_58198_level0_row2\" class=\"row_heading level0 row2\" >modnet_nan_mmf_pgnn_</th>\n",
       "      <td id=\"T_58198_row2_col0\" class=\"data row2 col0\" >7.207251</td>\n",
       "      <td id=\"T_58198_row2_col1\" class=\"data row2 col1\" >19.035574</td>\n",
       "      <td id=\"T_58198_row2_col2\" class=\"data row2 col2\" >0.914292</td>\n",
       "      <td id=\"T_58198_row2_col3\" class=\"data row2 col3\" >0.616250</td>\n",
       "    </tr>\n",
       "    <tr>\n",
       "      <th id=\"T_58198_level0_row3\" class=\"row_heading level0 row3\" >modnet_mmf_</th>\n",
       "      <td id=\"T_58198_row3_col0\" class=\"data row3 col0\" >8.803178</td>\n",
       "      <td id=\"T_58198_row3_col1\" class=\"data row3 col1\" >23.035541</td>\n",
       "      <td id=\"T_58198_row3_col2\" class=\"data row3 col2\" >0.907785</td>\n",
       "      <td id=\"T_58198_row3_col3\" class=\"data row3 col3\" >0.438029</td>\n",
       "    </tr>\n",
       "    <tr>\n",
       "      <th id=\"T_58198_level0_row4\" class=\"row_heading level0 row4\" >modnet_pgnn_</th>\n",
       "      <td id=\"T_58198_row4_col0\" class=\"data row4 col0\" >8.262533</td>\n",
       "      <td id=\"T_58198_row4_col1\" class=\"data row4 col1\" >19.751812</td>\n",
       "      <td id=\"T_58198_row4_col2\" class=\"data row4 col2\" >0.901475</td>\n",
       "      <td id=\"T_58198_row4_col3\" class=\"data row4 col3\" >0.586828</td>\n",
       "    </tr>\n",
       "    <tr>\n",
       "      <th id=\"T_58198_level0_row5\" class=\"row_heading level0 row5\" >modnet_nan_pgnn_</th>\n",
       "      <td id=\"T_58198_row5_col0\" class=\"data row5 col0\" >8.112097</td>\n",
       "      <td id=\"T_58198_row5_col1\" class=\"data row5 col1\" >19.017002</td>\n",
       "      <td id=\"T_58198_row5_col2\" class=\"data row5 col2\" >0.900725</td>\n",
       "      <td id=\"T_58198_row5_col3\" class=\"data row5 col3\" >0.616998</td>\n",
       "    </tr>\n",
       "    <tr>\n",
       "      <th id=\"T_58198_level0_row6\" class=\"row_heading level0 row6\" >et_dflt_mmf_pgnn_</th>\n",
       "      <td id=\"T_58198_row6_col0\" class=\"data row6 col0\" >8.307911</td>\n",
       "      <td id=\"T_58198_row6_col1\" class=\"data row6 col1\" >19.589507</td>\n",
       "      <td id=\"T_58198_row6_col2\" class=\"data row6 col2\" >0.894224</td>\n",
       "      <td id=\"T_58198_row6_col3\" class=\"data row6 col3\" >0.593591</td>\n",
       "    </tr>\n",
       "    <tr>\n",
       "      <th id=\"T_58198_level0_row7\" class=\"row_heading level0 row7\" >et_dflt_mmf_</th>\n",
       "      <td id=\"T_58198_row7_col0\" class=\"data row7 col0\" >8.192585</td>\n",
       "      <td id=\"T_58198_row7_col1\" class=\"data row7 col1\" >19.784299</td>\n",
       "      <td id=\"T_58198_row7_col2\" class=\"data row7 col2\" >0.892774</td>\n",
       "      <td id=\"T_58198_row7_col3\" class=\"data row7 col3\" >0.585468</td>\n",
       "    </tr>\n",
       "    <tr>\n",
       "      <th id=\"T_58198_level0_row8\" class=\"row_heading level0 row8\" >et_dflt_pgnn_</th>\n",
       "      <td id=\"T_58198_row8_col0\" class=\"data row8 col0\" >8.341509</td>\n",
       "      <td id=\"T_58198_row8_col1\" class=\"data row8 col1\" >19.831881</td>\n",
       "      <td id=\"T_58198_row8_col2\" class=\"data row8 col2\" >0.889002</td>\n",
       "      <td id=\"T_58198_row8_col3\" class=\"data row8 col3\" >0.583472</td>\n",
       "    </tr>\n",
       "    <tr>\n",
       "      <th id=\"T_58198_level0_row9\" class=\"row_heading level0 row9\" >et_An_pgnn_</th>\n",
       "      <td id=\"T_58198_row9_col0\" class=\"data row9 col0\" >8.647093</td>\n",
       "      <td id=\"T_58198_row9_col1\" class=\"data row9 col1\" >20.012587</td>\n",
       "      <td id=\"T_58198_row9_col2\" class=\"data row9 col2\" >0.886495</td>\n",
       "      <td id=\"T_58198_row9_col3\" class=\"data row9 col3\" >0.575846</td>\n",
       "    </tr>\n",
       "    <tr>\n",
       "      <th id=\"T_58198_level0_row10\" class=\"row_heading level0 row10\" >et_An_mmf_</th>\n",
       "      <td id=\"T_58198_row10_col0\" class=\"data row10 col0\" >8.647552</td>\n",
       "      <td id=\"T_58198_row10_col1\" class=\"data row10 col1\" >19.931938</td>\n",
       "      <td id=\"T_58198_row10_col2\" class=\"data row10 col2\" >0.882402</td>\n",
       "      <td id=\"T_58198_row10_col3\" class=\"data row10 col3\" >0.579258</td>\n",
       "    </tr>\n",
       "    <tr>\n",
       "      <th id=\"T_58198_level0_row11\" class=\"row_heading level0 row11\" >lgbm_dflt_mmf_pgnn_</th>\n",
       "      <td id=\"T_58198_row11_col0\" class=\"data row11 col0\" >7.689738</td>\n",
       "      <td id=\"T_58198_row11_col1\" class=\"data row11 col1\" >18.333103</td>\n",
       "      <td id=\"T_58198_row11_col2\" class=\"data row11 col2\" >0.880614</td>\n",
       "      <td id=\"T_58198_row11_col3\" class=\"data row11 col3\" >0.644050</td>\n",
       "    </tr>\n",
       "    <tr>\n",
       "      <th id=\"T_58198_level0_row12\" class=\"row_heading level0 row12\" >lgbm_dflt_mmf_</th>\n",
       "      <td id=\"T_58198_row12_col0\" class=\"data row12 col0\" >7.743431</td>\n",
       "      <td id=\"T_58198_row12_col1\" class=\"data row12 col1\" >18.366044</td>\n",
       "      <td id=\"T_58198_row12_col2\" class=\"data row12 col2\" >0.879220</td>\n",
       "      <td id=\"T_58198_row12_col3\" class=\"data row12 col3\" >0.642770</td>\n",
       "    </tr>\n",
       "    <tr>\n",
       "      <th id=\"T_58198_level0_row13\" class=\"row_heading level0 row13\" >et_An_mmf_pgnn_</th>\n",
       "      <td id=\"T_58198_row13_col0\" class=\"data row13 col0\" >8.537435</td>\n",
       "      <td id=\"T_58198_row13_col1\" class=\"data row13 col1\" >19.984474</td>\n",
       "      <td id=\"T_58198_row13_col2\" class=\"data row13 col2\" >0.877677</td>\n",
       "      <td id=\"T_58198_row13_col3\" class=\"data row13 col3\" >0.577037</td>\n",
       "    </tr>\n",
       "    <tr>\n",
       "      <th id=\"T_58198_level0_row14\" class=\"row_heading level0 row14\" >lgbm_dflt_pgnn_</th>\n",
       "      <td id=\"T_58198_row14_col0\" class=\"data row14 col0\" >8.861628</td>\n",
       "      <td id=\"T_58198_row14_col1\" class=\"data row14 col1\" >21.021451</td>\n",
       "      <td id=\"T_58198_row14_col2\" class=\"data row14 col2\" >0.875619</td>\n",
       "      <td id=\"T_58198_row14_col3\" class=\"data row14 col3\" >0.532004</td>\n",
       "    </tr>\n",
       "    <tr>\n",
       "      <th id=\"T_58198_level0_row15\" class=\"row_heading level0 row15\" >lgbm_An_mmf_pgnn_</th>\n",
       "      <td id=\"T_58198_row15_col0\" class=\"data row15 col0\" >9.151583</td>\n",
       "      <td id=\"T_58198_row15_col1\" class=\"data row15 col1\" >19.734747</td>\n",
       "      <td id=\"T_58198_row15_col2\" class=\"data row15 col2\" >0.852442</td>\n",
       "      <td id=\"T_58198_row15_col3\" class=\"data row15 col3\" >0.587542</td>\n",
       "    </tr>\n",
       "    <tr>\n",
       "      <th id=\"T_58198_level0_row16\" class=\"row_heading level0 row16\" >lgbm_An_pgnn_</th>\n",
       "      <td id=\"T_58198_row16_col0\" class=\"data row16 col0\" >10.001763</td>\n",
       "      <td id=\"T_58198_row16_col1\" class=\"data row16 col1\" >22.092309</td>\n",
       "      <td id=\"T_58198_row16_col2\" class=\"data row16 col2\" >0.846943</td>\n",
       "      <td id=\"T_58198_row16_col3\" class=\"data row16 col3\" >0.483109</td>\n",
       "    </tr>\n",
       "    <tr>\n",
       "      <th id=\"T_58198_level0_row17\" class=\"row_heading level0 row17\" >lgbm_An_mmf_</th>\n",
       "      <td id=\"T_58198_row17_col0\" class=\"data row17 col0\" >8.867190</td>\n",
       "      <td id=\"T_58198_row17_col1\" class=\"data row17 col1\" >20.112379</td>\n",
       "      <td id=\"T_58198_row17_col2\" class=\"data row17 col2\" >0.837309</td>\n",
       "      <td id=\"T_58198_row17_col3\" class=\"data row17 col3\" >0.571606</td>\n",
       "    </tr>\n",
       "    <tr>\n",
       "      <th id=\"T_58198_level0_row18\" class=\"row_heading level0 row18\" >claude-sonnet-3.5-robocrystallographer-icl_</th>\n",
       "      <td id=\"T_58198_row18_col0\" class=\"data row18 col0\" >13.542982</td>\n",
       "      <td id=\"T_58198_row18_col1\" class=\"data row18 col1\" >30.403195</td>\n",
       "      <td id=\"T_58198_row18_col2\" class=\"data row18 col2\" >nan</td>\n",
       "      <td id=\"T_58198_row18_col3\" class=\"data row18 col3\" >nan</td>\n",
       "    </tr>\n",
       "    <tr>\n",
       "      <th id=\"T_58198_level0_row19\" class=\"row_heading level0 row19\" >claude-sonnet-3.5-robocrystallographer-no-icl_</th>\n",
       "      <td id=\"T_58198_row19_col0\" class=\"data row19 col0\" >17.988617</td>\n",
       "      <td id=\"T_58198_row19_col1\" class=\"data row19 col1\" >33.544002</td>\n",
       "      <td id=\"T_58198_row19_col2\" class=\"data row19 col2\" >nan</td>\n",
       "      <td id=\"T_58198_row19_col3\" class=\"data row19 col3\" >nan</td>\n",
       "    </tr>\n",
       "    <tr>\n",
       "      <th id=\"T_58198_level0_row20\" class=\"row_heading level0 row20\" >claude-sonnet-3.5-composition_spacegroup-icl_</th>\n",
       "      <td id=\"T_58198_row20_col0\" class=\"data row20 col0\" >16.077849</td>\n",
       "      <td id=\"T_58198_row20_col1\" class=\"data row20 col1\" >33.257322</td>\n",
       "      <td id=\"T_58198_row20_col2\" class=\"data row20 col2\" >nan</td>\n",
       "      <td id=\"T_58198_row20_col3\" class=\"data row20 col3\" >nan</td>\n",
       "    </tr>\n",
       "    <tr>\n",
       "      <th id=\"T_58198_level0_row21\" class=\"row_heading level0 row21\" >claude-sonnet-3.5-composition-no-icl_</th>\n",
       "      <td id=\"T_58198_row21_col0\" class=\"data row21 col0\" >14.046418</td>\n",
       "      <td id=\"T_58198_row21_col1\" class=\"data row21 col1\" >31.539511</td>\n",
       "      <td id=\"T_58198_row21_col2\" class=\"data row21 col2\" >nan</td>\n",
       "      <td id=\"T_58198_row21_col3\" class=\"data row21 col3\" >nan</td>\n",
       "    </tr>\n",
       "    <tr>\n",
       "      <th id=\"T_58198_level0_row22\" class=\"row_heading level0 row22\" >claude-sonnet-3.5-composition-icl_</th>\n",
       "      <td id=\"T_58198_row22_col0\" class=\"data row22 col0\" >14.529159</td>\n",
       "      <td id=\"T_58198_row22_col1\" class=\"data row22 col1\" >32.038716</td>\n",
       "      <td id=\"T_58198_row22_col2\" class=\"data row22 col2\" >nan</td>\n",
       "      <td id=\"T_58198_row22_col3\" class=\"data row22 col3\" >nan</td>\n",
       "    </tr>\n",
       "    <tr>\n",
       "      <th id=\"T_58198_level0_row23\" class=\"row_heading level0 row23\" >claude-sonnet-3.5-composition_spacegroup-no-icl_</th>\n",
       "      <td id=\"T_58198_row23_col0\" class=\"data row23 col0\" >13.582721</td>\n",
       "      <td id=\"T_58198_row23_col1\" class=\"data row23 col1\" >29.179411</td>\n",
       "      <td id=\"T_58198_row23_col2\" class=\"data row23 col2\" >nan</td>\n",
       "      <td id=\"T_58198_row23_col3\" class=\"data row23 col3\" >nan</td>\n",
       "    </tr>\n",
       "    <tr>\n",
       "      <th id=\"T_58198_level0_row24\" class=\"row_heading level0 row24\" >darwin-1.5-composition-no-icl_</th>\n",
       "      <td id=\"T_58198_row24_col0\" class=\"data row24 col0\" >15.954918</td>\n",
       "      <td id=\"T_58198_row24_col1\" class=\"data row24 col1\" >34.313321</td>\n",
       "      <td id=\"T_58198_row24_col2\" class=\"data row24 col2\" >nan</td>\n",
       "      <td id=\"T_58198_row24_col3\" class=\"data row24 col3\" >nan</td>\n",
       "    </tr>\n",
       "    <tr>\n",
       "      <th id=\"T_58198_level0_row25\" class=\"row_heading level0 row25\" >darwin-1.5-composition_spacegroup-no-icl_</th>\n",
       "      <td id=\"T_58198_row25_col0\" class=\"data row25 col0\" >15.959336</td>\n",
       "      <td id=\"T_58198_row25_col1\" class=\"data row25 col1\" >34.323373</td>\n",
       "      <td id=\"T_58198_row25_col2\" class=\"data row25 col2\" >nan</td>\n",
       "      <td id=\"T_58198_row25_col3\" class=\"data row25 col3\" >nan</td>\n",
       "    </tr>\n",
       "    <tr>\n",
       "      <th id=\"T_58198_level0_row26\" class=\"row_heading level0 row26\" >darwin-1.5-robocrystallographer-no-icl_</th>\n",
       "      <td id=\"T_58198_row26_col0\" class=\"data row26 col0\" >15.682900</td>\n",
       "      <td id=\"T_58198_row26_col1\" class=\"data row26 col1\" >34.267757</td>\n",
       "      <td id=\"T_58198_row26_col2\" class=\"data row26 col2\" >nan</td>\n",
       "      <td id=\"T_58198_row26_col3\" class=\"data row26 col3\" >nan</td>\n",
       "    </tr>\n",
       "    <tr>\n",
       "      <th id=\"T_58198_level0_row27\" class=\"row_heading level0 row27\" >matten_</th>\n",
       "      <td id=\"T_58198_row27_col0\" class=\"data row27 col0\" >9.997367</td>\n",
       "      <td id=\"T_58198_row27_col1\" class=\"data row27 col1\" >25.644691</td>\n",
       "      <td id=\"T_58198_row27_col2\" class=\"data row27 col2\" >nan</td>\n",
       "      <td id=\"T_58198_row27_col3\" class=\"data row27 col3\" >nan</td>\n",
       "    </tr>\n",
       "  </tbody>\n",
       "</table>\n"
      ],
      "text/plain": [
       "<pandas.io.formats.style.Styler at 0x70ed6345d890>"
      ]
     },
     "metadata": {},
     "output_type": "display_data"
    },
    {
     "name": "stdout",
     "output_type": "stream",
     "text": [
      "random_250\n"
     ]
    },
    {
     "data": {
      "text/html": [
       "<style type=\"text/css\">\n",
       "#T_2bb87_row0_col0, #T_2bb87_row0_col1, #T_2bb87_row0_col2, #T_2bb87_row0_col3 {\n",
       "  color: red;\n",
       "}\n",
       "#T_2bb87_row6_col0, #T_2bb87_row6_col1, #T_2bb87_row6_col2, #T_2bb87_row6_col3 {\n",
       "  color: red;\n",
       "  color: red;\n",
       "  color: red;\n",
       "  font-weight: bold;\n",
       "}\n",
       "</style>\n",
       "<table id=\"T_2bb87\">\n",
       "  <thead>\n",
       "    <tr>\n",
       "      <th class=\"blank level0\" >&nbsp;</th>\n",
       "      <th id=\"T_2bb87_level0_col0\" class=\"col_heading level0 col0\" >mae</th>\n",
       "      <th id=\"T_2bb87_level0_col1\" class=\"col_heading level0 col1\" >rmse</th>\n",
       "      <th id=\"T_2bb87_level0_col2\" class=\"col_heading level0 col2\" >spearman</th>\n",
       "      <th id=\"T_2bb87_level0_col3\" class=\"col_heading level0 col3\" >r2_score</th>\n",
       "    </tr>\n",
       "  </thead>\n",
       "  <tbody>\n",
       "    <tr>\n",
       "      <th id=\"T_2bb87_level0_row0\" class=\"row_heading level0 row0\" >modnet_mmf_pgnn_</th>\n",
       "      <td id=\"T_2bb87_row0_col0\" class=\"data row0 col0\" >7.669056</td>\n",
       "      <td id=\"T_2bb87_row0_col1\" class=\"data row0 col1\" >19.340598</td>\n",
       "      <td id=\"T_2bb87_row0_col2\" class=\"data row0 col2\" >0.911464</td>\n",
       "      <td id=\"T_2bb87_row0_col3\" class=\"data row0 col3\" >0.525602</td>\n",
       "    </tr>\n",
       "    <tr>\n",
       "      <th id=\"T_2bb87_level0_row1\" class=\"row_heading level0 row1\" >modnet_mmf_</th>\n",
       "      <td id=\"T_2bb87_row1_col0\" class=\"data row1 col0\" >8.180140</td>\n",
       "      <td id=\"T_2bb87_row1_col1\" class=\"data row1 col1\" >19.811614</td>\n",
       "      <td id=\"T_2bb87_row1_col2\" class=\"data row1 col2\" >0.905217</td>\n",
       "      <td id=\"T_2bb87_row1_col3\" class=\"data row1 col3\" >0.502214</td>\n",
       "    </tr>\n",
       "    <tr>\n",
       "      <th id=\"T_2bb87_level0_row2\" class=\"row_heading level0 row2\" >modnet_nan_mmf_pgnn_</th>\n",
       "      <td id=\"T_2bb87_row2_col0\" class=\"data row2 col0\" >7.694188</td>\n",
       "      <td id=\"T_2bb87_row2_col1\" class=\"data row2 col1\" >19.223358</td>\n",
       "      <td id=\"T_2bb87_row2_col2\" class=\"data row2 col2\" >0.904237</td>\n",
       "      <td id=\"T_2bb87_row2_col3\" class=\"data row2 col3\" >0.531336</td>\n",
       "    </tr>\n",
       "    <tr>\n",
       "      <th id=\"T_2bb87_level0_row3\" class=\"row_heading level0 row3\" >modnet_nan_mmf_</th>\n",
       "      <td id=\"T_2bb87_row3_col0\" class=\"data row3 col0\" >8.079505</td>\n",
       "      <td id=\"T_2bb87_row3_col1\" class=\"data row3 col1\" >19.572426</td>\n",
       "      <td id=\"T_2bb87_row3_col2\" class=\"data row3 col2\" >0.902699</td>\n",
       "      <td id=\"T_2bb87_row3_col3\" class=\"data row3 col3\" >0.514161</td>\n",
       "    </tr>\n",
       "    <tr>\n",
       "      <th id=\"T_2bb87_level0_row4\" class=\"row_heading level0 row4\" >modnet_nan_pgnn_</th>\n",
       "      <td id=\"T_2bb87_row4_col0\" class=\"data row4 col0\" >7.931116</td>\n",
       "      <td id=\"T_2bb87_row4_col1\" class=\"data row4 col1\" >18.978913</td>\n",
       "      <td id=\"T_2bb87_row4_col2\" class=\"data row4 col2\" >0.891716</td>\n",
       "      <td id=\"T_2bb87_row4_col3\" class=\"data row4 col3\" >0.543180</td>\n",
       "    </tr>\n",
       "    <tr>\n",
       "      <th id=\"T_2bb87_level0_row5\" class=\"row_heading level0 row5\" >modnet_pgnn_</th>\n",
       "      <td id=\"T_2bb87_row5_col0\" class=\"data row5 col0\" >7.761428</td>\n",
       "      <td id=\"T_2bb87_row5_col1\" class=\"data row5 col1\" >18.943342</td>\n",
       "      <td id=\"T_2bb87_row5_col2\" class=\"data row5 col2\" >0.891700</td>\n",
       "      <td id=\"T_2bb87_row5_col3\" class=\"data row5 col3\" >0.544891</td>\n",
       "    </tr>\n",
       "    <tr>\n",
       "      <th id=\"T_2bb87_level0_row6\" class=\"row_heading level0 row6\" >et_dflt_mmf_</th>\n",
       "      <td id=\"T_2bb87_row6_col0\" class=\"data row6 col0\" >7.545741</td>\n",
       "      <td id=\"T_2bb87_row6_col1\" class=\"data row6 col1\" >18.001918</td>\n",
       "      <td id=\"T_2bb87_row6_col2\" class=\"data row6 col2\" >0.888101</td>\n",
       "      <td id=\"T_2bb87_row6_col3\" class=\"data row6 col3\" >0.589002</td>\n",
       "    </tr>\n",
       "    <tr>\n",
       "      <th id=\"T_2bb87_level0_row7\" class=\"row_heading level0 row7\" >et_dflt_mmf_pgnn_</th>\n",
       "      <td id=\"T_2bb87_row7_col0\" class=\"data row7 col0\" >8.358040</td>\n",
       "      <td id=\"T_2bb87_row7_col1\" class=\"data row7 col1\" >18.637842</td>\n",
       "      <td id=\"T_2bb87_row7_col2\" class=\"data row7 col2\" >0.881947</td>\n",
       "      <td id=\"T_2bb87_row7_col3\" class=\"data row7 col3\" >0.559451</td>\n",
       "    </tr>\n",
       "    <tr>\n",
       "      <th id=\"T_2bb87_level0_row8\" class=\"row_heading level0 row8\" >lgbm_dflt_mmf_pgnn_</th>\n",
       "      <td id=\"T_2bb87_row8_col0\" class=\"data row8 col0\" >9.191596</td>\n",
       "      <td id=\"T_2bb87_row8_col1\" class=\"data row8 col1\" >19.964367</td>\n",
       "      <td id=\"T_2bb87_row8_col2\" class=\"data row8 col2\" >0.865527</td>\n",
       "      <td id=\"T_2bb87_row8_col3\" class=\"data row8 col3\" >0.494509</td>\n",
       "    </tr>\n",
       "    <tr>\n",
       "      <th id=\"T_2bb87_level0_row9\" class=\"row_heading level0 row9\" >et_dflt_pgnn_</th>\n",
       "      <td id=\"T_2bb87_row9_col0\" class=\"data row9 col0\" >8.775236</td>\n",
       "      <td id=\"T_2bb87_row9_col1\" class=\"data row9 col1\" >19.223841</td>\n",
       "      <td id=\"T_2bb87_row9_col2\" class=\"data row9 col2\" >0.863953</td>\n",
       "      <td id=\"T_2bb87_row9_col3\" class=\"data row9 col3\" >0.531313</td>\n",
       "    </tr>\n",
       "    <tr>\n",
       "      <th id=\"T_2bb87_level0_row10\" class=\"row_heading level0 row10\" >et_An_mmf_pgnn_</th>\n",
       "      <td id=\"T_2bb87_row10_col0\" class=\"data row10 col0\" >8.421179</td>\n",
       "      <td id=\"T_2bb87_row10_col1\" class=\"data row10 col1\" >18.395604</td>\n",
       "      <td id=\"T_2bb87_row10_col2\" class=\"data row10 col2\" >0.861294</td>\n",
       "      <td id=\"T_2bb87_row10_col3\" class=\"data row10 col3\" >0.570829</td>\n",
       "    </tr>\n",
       "    <tr>\n",
       "      <th id=\"T_2bb87_level0_row11\" class=\"row_heading level0 row11\" >et_An_mmf_</th>\n",
       "      <td id=\"T_2bb87_row11_col0\" class=\"data row11 col0\" >8.082588</td>\n",
       "      <td id=\"T_2bb87_row11_col1\" class=\"data row11 col1\" >18.117841</td>\n",
       "      <td id=\"T_2bb87_row11_col2\" class=\"data row11 col2\" >0.859724</td>\n",
       "      <td id=\"T_2bb87_row11_col3\" class=\"data row11 col3\" >0.583691</td>\n",
       "    </tr>\n",
       "    <tr>\n",
       "      <th id=\"T_2bb87_level0_row12\" class=\"row_heading level0 row12\" >et_An_pgnn_</th>\n",
       "      <td id=\"T_2bb87_row12_col0\" class=\"data row12 col0\" >8.912484</td>\n",
       "      <td id=\"T_2bb87_row12_col1\" class=\"data row12 col1\" >19.565746</td>\n",
       "      <td id=\"T_2bb87_row12_col2\" class=\"data row12 col2\" >0.855289</td>\n",
       "      <td id=\"T_2bb87_row12_col3\" class=\"data row12 col3\" >0.514493</td>\n",
       "    </tr>\n",
       "    <tr>\n",
       "      <th id=\"T_2bb87_level0_row13\" class=\"row_heading level0 row13\" >lgbm_dflt_pgnn_</th>\n",
       "      <td id=\"T_2bb87_row13_col0\" class=\"data row13 col0\" >8.964196</td>\n",
       "      <td id=\"T_2bb87_row13_col1\" class=\"data row13 col1\" >19.642232</td>\n",
       "      <td id=\"T_2bb87_row13_col2\" class=\"data row13 col2\" >0.853225</td>\n",
       "      <td id=\"T_2bb87_row13_col3\" class=\"data row13 col3\" >0.510690</td>\n",
       "    </tr>\n",
       "    <tr>\n",
       "      <th id=\"T_2bb87_level0_row14\" class=\"row_heading level0 row14\" >lgbm_An_mmf_pgnn_</th>\n",
       "      <td id=\"T_2bb87_row14_col0\" class=\"data row14 col0\" >9.127552</td>\n",
       "      <td id=\"T_2bb87_row14_col1\" class=\"data row14 col1\" >19.763387</td>\n",
       "      <td id=\"T_2bb87_row14_col2\" class=\"data row14 col2\" >0.852039</td>\n",
       "      <td id=\"T_2bb87_row14_col3\" class=\"data row14 col3\" >0.504635</td>\n",
       "    </tr>\n",
       "    <tr>\n",
       "      <th id=\"T_2bb87_level0_row15\" class=\"row_heading level0 row15\" >lgbm_dflt_mmf_</th>\n",
       "      <td id=\"T_2bb87_row15_col0\" class=\"data row15 col0\" >8.071111</td>\n",
       "      <td id=\"T_2bb87_row15_col1\" class=\"data row15 col1\" >18.428455</td>\n",
       "      <td id=\"T_2bb87_row15_col2\" class=\"data row15 col2\" >0.843201</td>\n",
       "      <td id=\"T_2bb87_row15_col3\" class=\"data row15 col3\" >0.569294</td>\n",
       "    </tr>\n",
       "    <tr>\n",
       "      <th id=\"T_2bb87_level0_row16\" class=\"row_heading level0 row16\" >lgbm_An_pgnn_</th>\n",
       "      <td id=\"T_2bb87_row16_col0\" class=\"data row16 col0\" >9.420131</td>\n",
       "      <td id=\"T_2bb87_row16_col1\" class=\"data row16 col1\" >20.438576</td>\n",
       "      <td id=\"T_2bb87_row16_col2\" class=\"data row16 col2\" >0.842432</td>\n",
       "      <td id=\"T_2bb87_row16_col3\" class=\"data row16 col3\" >0.470210</td>\n",
       "    </tr>\n",
       "    <tr>\n",
       "      <th id=\"T_2bb87_level0_row17\" class=\"row_heading level0 row17\" >lgbm_An_mmf_</th>\n",
       "      <td id=\"T_2bb87_row17_col0\" class=\"data row17 col0\" >8.016118</td>\n",
       "      <td id=\"T_2bb87_row17_col1\" class=\"data row17 col1\" >18.092160</td>\n",
       "      <td id=\"T_2bb87_row17_col2\" class=\"data row17 col2\" >0.825054</td>\n",
       "      <td id=\"T_2bb87_row17_col3\" class=\"data row17 col3\" >0.584871</td>\n",
       "    </tr>\n",
       "    <tr>\n",
       "      <th id=\"T_2bb87_level0_row18\" class=\"row_heading level0 row18\" >darwin-1.5-composition-no-icl_</th>\n",
       "      <td id=\"T_2bb87_row18_col0\" class=\"data row18 col0\" >14.822625</td>\n",
       "      <td id=\"T_2bb87_row18_col1\" class=\"data row18 col1\" >31.370871</td>\n",
       "      <td id=\"T_2bb87_row18_col2\" class=\"data row18 col2\" >nan</td>\n",
       "      <td id=\"T_2bb87_row18_col3\" class=\"data row18 col3\" >nan</td>\n",
       "    </tr>\n",
       "    <tr>\n",
       "      <th id=\"T_2bb87_level0_row19\" class=\"row_heading level0 row19\" >darwin-1.5-composition_spacegroup-no-icl_</th>\n",
       "      <td id=\"T_2bb87_row19_col0\" class=\"data row19 col0\" >14.888488</td>\n",
       "      <td id=\"T_2bb87_row19_col1\" class=\"data row19 col1\" >31.412218</td>\n",
       "      <td id=\"T_2bb87_row19_col2\" class=\"data row19 col2\" >nan</td>\n",
       "      <td id=\"T_2bb87_row19_col3\" class=\"data row19 col3\" >nan</td>\n",
       "    </tr>\n",
       "    <tr>\n",
       "      <th id=\"T_2bb87_level0_row20\" class=\"row_heading level0 row20\" >mean_value_</th>\n",
       "      <td id=\"T_2bb87_row20_col0\" class=\"data row20 col0\" >16.953476</td>\n",
       "      <td id=\"T_2bb87_row20_col1\" class=\"data row20 col1\" >28.115598</td>\n",
       "      <td id=\"T_2bb87_row20_col2\" class=\"data row20 col2\" >nan</td>\n",
       "      <td id=\"T_2bb87_row20_col3\" class=\"data row20 col3\" >nan</td>\n",
       "    </tr>\n",
       "    <tr>\n",
       "      <th id=\"T_2bb87_level0_row21\" class=\"row_heading level0 row21\" >matten_</th>\n",
       "      <td id=\"T_2bb87_row21_col0\" class=\"data row21 col0\" >9.815473</td>\n",
       "      <td id=\"T_2bb87_row21_col1\" class=\"data row21 col1\" >24.328435</td>\n",
       "      <td id=\"T_2bb87_row21_col2\" class=\"data row21 col2\" >nan</td>\n",
       "      <td id=\"T_2bb87_row21_col3\" class=\"data row21 col3\" >nan</td>\n",
       "    </tr>\n",
       "  </tbody>\n",
       "</table>\n"
      ],
      "text/plain": [
       "<pandas.io.formats.style.Styler at 0x70ed5f4e8510>"
      ]
     },
     "metadata": {},
     "output_type": "display_data"
    },
    {
     "name": "stdout",
     "output_type": "stream",
     "text": [
      "distribution_125\n"
     ]
    },
    {
     "data": {
      "text/html": [
       "<style type=\"text/css\">\n",
       "#T_e89ec_row0_col0, #T_e89ec_row0_col1, #T_e89ec_row0_col2, #T_e89ec_row0_col3 {\n",
       "  color: red;\n",
       "}\n",
       "#T_e89ec_row3_col0, #T_e89ec_row3_col1, #T_e89ec_row3_col2, #T_e89ec_row3_col3 {\n",
       "  color: red;\n",
       "  color: red;\n",
       "  color: red;\n",
       "  font-weight: bold;\n",
       "}\n",
       "</style>\n",
       "<table id=\"T_e89ec\">\n",
       "  <thead>\n",
       "    <tr>\n",
       "      <th class=\"blank level0\" >&nbsp;</th>\n",
       "      <th id=\"T_e89ec_level0_col0\" class=\"col_heading level0 col0\" >mae</th>\n",
       "      <th id=\"T_e89ec_level0_col1\" class=\"col_heading level0 col1\" >rmse</th>\n",
       "      <th id=\"T_e89ec_level0_col2\" class=\"col_heading level0 col2\" >spearman</th>\n",
       "      <th id=\"T_e89ec_level0_col3\" class=\"col_heading level0 col3\" >r2_score</th>\n",
       "    </tr>\n",
       "  </thead>\n",
       "  <tbody>\n",
       "    <tr>\n",
       "      <th id=\"T_e89ec_level0_row0\" class=\"row_heading level0 row0\" >modnet_nan_mmf_pgnn_</th>\n",
       "      <td id=\"T_e89ec_row0_col0\" class=\"data row0 col0\" >6.050881</td>\n",
       "      <td id=\"T_e89ec_row0_col1\" class=\"data row0 col1\" >14.269081</td>\n",
       "      <td id=\"T_e89ec_row0_col2\" class=\"data row0 col2\" >0.885794</td>\n",
       "      <td id=\"T_e89ec_row0_col3\" class=\"data row0 col3\" >0.731001</td>\n",
       "    </tr>\n",
       "    <tr>\n",
       "      <th id=\"T_e89ec_level0_row1\" class=\"row_heading level0 row1\" >modnet_nan_mmf_</th>\n",
       "      <td id=\"T_e89ec_row1_col0\" class=\"data row1 col0\" >6.322740</td>\n",
       "      <td id=\"T_e89ec_row1_col1\" class=\"data row1 col1\" >13.445159</td>\n",
       "      <td id=\"T_e89ec_row1_col2\" class=\"data row1 col2\" >0.865438</td>\n",
       "      <td id=\"T_e89ec_row1_col3\" class=\"data row1 col3\" >0.761169</td>\n",
       "    </tr>\n",
       "    <tr>\n",
       "      <th id=\"T_e89ec_level0_row2\" class=\"row_heading level0 row2\" >modnet_mmf_</th>\n",
       "      <td id=\"T_e89ec_row2_col0\" class=\"data row2 col0\" >6.492044</td>\n",
       "      <td id=\"T_e89ec_row2_col1\" class=\"data row2 col1\" >13.945333</td>\n",
       "      <td id=\"T_e89ec_row2_col2\" class=\"data row2 col2\" >0.864332</td>\n",
       "      <td id=\"T_e89ec_row2_col3\" class=\"data row2 col3\" >0.743069</td>\n",
       "    </tr>\n",
       "    <tr>\n",
       "      <th id=\"T_e89ec_level0_row3\" class=\"row_heading level0 row3\" >modnet_mmf_pgnn_</th>\n",
       "      <td id=\"T_e89ec_row3_col0\" class=\"data row3 col0\" >5.567543</td>\n",
       "      <td id=\"T_e89ec_row3_col1\" class=\"data row3 col1\" >12.074188</td>\n",
       "      <td id=\"T_e89ec_row3_col2\" class=\"data row3 col2\" >0.860172</td>\n",
       "      <td id=\"T_e89ec_row3_col3\" class=\"data row3 col3\" >0.807392</td>\n",
       "    </tr>\n",
       "    <tr>\n",
       "      <th id=\"T_e89ec_level0_row4\" class=\"row_heading level0 row4\" >modnet_pgnn_</th>\n",
       "      <td id=\"T_e89ec_row4_col0\" class=\"data row4 col0\" >6.542703</td>\n",
       "      <td id=\"T_e89ec_row4_col1\" class=\"data row4 col1\" >14.962140</td>\n",
       "      <td id=\"T_e89ec_row4_col2\" class=\"data row4 col2\" >0.855152</td>\n",
       "      <td id=\"T_e89ec_row4_col3\" class=\"data row4 col3\" >0.704235</td>\n",
       "    </tr>\n",
       "    <tr>\n",
       "      <th id=\"T_e89ec_level0_row5\" class=\"row_heading level0 row5\" >modnet_nan_pgnn_</th>\n",
       "      <td id=\"T_e89ec_row5_col0\" class=\"data row5 col0\" >6.560970</td>\n",
       "      <td id=\"T_e89ec_row5_col1\" class=\"data row5 col1\" >14.911195</td>\n",
       "      <td id=\"T_e89ec_row5_col2\" class=\"data row5 col2\" >0.844104</td>\n",
       "      <td id=\"T_e89ec_row5_col3\" class=\"data row5 col3\" >0.706246</td>\n",
       "    </tr>\n",
       "    <tr>\n",
       "      <th id=\"T_e89ec_level0_row6\" class=\"row_heading level0 row6\" >lgbm_dflt_mmf_pgnn_</th>\n",
       "      <td id=\"T_e89ec_row6_col0\" class=\"data row6 col0\" >7.301577</td>\n",
       "      <td id=\"T_e89ec_row6_col1\" class=\"data row6 col1\" >14.945985</td>\n",
       "      <td id=\"T_e89ec_row6_col2\" class=\"data row6 col2\" >0.843207</td>\n",
       "      <td id=\"T_e89ec_row6_col3\" class=\"data row6 col3\" >0.704873</td>\n",
       "    </tr>\n",
       "    <tr>\n",
       "      <th id=\"T_e89ec_level0_row7\" class=\"row_heading level0 row7\" >et_dflt_mmf_pgnn_</th>\n",
       "      <td id=\"T_e89ec_row7_col0\" class=\"data row7 col0\" >7.202488</td>\n",
       "      <td id=\"T_e89ec_row7_col1\" class=\"data row7 col1\" >14.867961</td>\n",
       "      <td id=\"T_e89ec_row7_col2\" class=\"data row7 col2\" >0.815736</td>\n",
       "      <td id=\"T_e89ec_row7_col3\" class=\"data row7 col3\" >0.707947</td>\n",
       "    </tr>\n",
       "    <tr>\n",
       "      <th id=\"T_e89ec_level0_row8\" class=\"row_heading level0 row8\" >et_dflt_mmf_</th>\n",
       "      <td id=\"T_e89ec_row8_col0\" class=\"data row8 col0\" >6.839354</td>\n",
       "      <td id=\"T_e89ec_row8_col1\" class=\"data row8 col1\" >14.120979</td>\n",
       "      <td id=\"T_e89ec_row8_col2\" class=\"data row8 col2\" >0.813573</td>\n",
       "      <td id=\"T_e89ec_row8_col3\" class=\"data row8 col3\" >0.736556</td>\n",
       "    </tr>\n",
       "    <tr>\n",
       "      <th id=\"T_e89ec_level0_row9\" class=\"row_heading level0 row9\" >lgbm_An_mmf_pgnn_</th>\n",
       "      <td id=\"T_e89ec_row9_col0\" class=\"data row9 col0\" >7.884289</td>\n",
       "      <td id=\"T_e89ec_row9_col1\" class=\"data row9 col1\" >17.348162</td>\n",
       "      <td id=\"T_e89ec_row9_col2\" class=\"data row9 col2\" >0.810488</td>\n",
       "      <td id=\"T_e89ec_row9_col3\" class=\"data row9 col3\" >0.602382</td>\n",
       "    </tr>\n",
       "    <tr>\n",
       "      <th id=\"T_e89ec_level0_row10\" class=\"row_heading level0 row10\" >lgbm_dflt_mmf_</th>\n",
       "      <td id=\"T_e89ec_row10_col0\" class=\"data row10 col0\" >6.904597</td>\n",
       "      <td id=\"T_e89ec_row10_col1\" class=\"data row10 col1\" >13.838455</td>\n",
       "      <td id=\"T_e89ec_row10_col2\" class=\"data row10 col2\" >0.806748</td>\n",
       "      <td id=\"T_e89ec_row10_col3\" class=\"data row10 col3\" >0.746992</td>\n",
       "    </tr>\n",
       "    <tr>\n",
       "      <th id=\"T_e89ec_level0_row11\" class=\"row_heading level0 row11\" >lgbm_An_mmf_</th>\n",
       "      <td id=\"T_e89ec_row11_col0\" class=\"data row11 col0\" >7.494076</td>\n",
       "      <td id=\"T_e89ec_row11_col1\" class=\"data row11 col1\" >14.547788</td>\n",
       "      <td id=\"T_e89ec_row11_col2\" class=\"data row11 col2\" >0.806273</td>\n",
       "      <td id=\"T_e89ec_row11_col3\" class=\"data row11 col3\" >0.720390</td>\n",
       "    </tr>\n",
       "    <tr>\n",
       "      <th id=\"T_e89ec_level0_row12\" class=\"row_heading level0 row12\" >et_dflt_pgnn_</th>\n",
       "      <td id=\"T_e89ec_row12_col0\" class=\"data row12 col0\" >7.493740</td>\n",
       "      <td id=\"T_e89ec_row12_col1\" class=\"data row12 col1\" >15.093935</td>\n",
       "      <td id=\"T_e89ec_row12_col2\" class=\"data row12 col2\" >0.798667</td>\n",
       "      <td id=\"T_e89ec_row12_col3\" class=\"data row12 col3\" >0.699001</td>\n",
       "    </tr>\n",
       "    <tr>\n",
       "      <th id=\"T_e89ec_level0_row13\" class=\"row_heading level0 row13\" >lgbm_dflt_pgnn_</th>\n",
       "      <td id=\"T_e89ec_row13_col0\" class=\"data row13 col0\" >8.085883</td>\n",
       "      <td id=\"T_e89ec_row13_col1\" class=\"data row13 col1\" >16.197706</td>\n",
       "      <td id=\"T_e89ec_row13_col2\" class=\"data row13 col2\" >0.798568</td>\n",
       "      <td id=\"T_e89ec_row13_col3\" class=\"data row13 col3\" >0.653370</td>\n",
       "    </tr>\n",
       "    <tr>\n",
       "      <th id=\"T_e89ec_level0_row14\" class=\"row_heading level0 row14\" >et_An_mmf_pgnn_</th>\n",
       "      <td id=\"T_e89ec_row14_col0\" class=\"data row14 col0\" >7.535542</td>\n",
       "      <td id=\"T_e89ec_row14_col1\" class=\"data row14 col1\" >15.169931</td>\n",
       "      <td id=\"T_e89ec_row14_col2\" class=\"data row14 col2\" >0.793524</td>\n",
       "      <td id=\"T_e89ec_row14_col3\" class=\"data row14 col3\" >0.695963</td>\n",
       "    </tr>\n",
       "    <tr>\n",
       "      <th id=\"T_e89ec_level0_row15\" class=\"row_heading level0 row15\" >et_An_pgnn_</th>\n",
       "      <td id=\"T_e89ec_row15_col0\" class=\"data row15 col0\" >7.918795</td>\n",
       "      <td id=\"T_e89ec_row15_col1\" class=\"data row15 col1\" >16.335552</td>\n",
       "      <td id=\"T_e89ec_row15_col2\" class=\"data row15 col2\" >0.791066</td>\n",
       "      <td id=\"T_e89ec_row15_col3\" class=\"data row15 col3\" >0.647445</td>\n",
       "    </tr>\n",
       "    <tr>\n",
       "      <th id=\"T_e89ec_level0_row16\" class=\"row_heading level0 row16\" >lgbm_An_pgnn_</th>\n",
       "      <td id=\"T_e89ec_row16_col0\" class=\"data row16 col0\" >8.297967</td>\n",
       "      <td id=\"T_e89ec_row16_col1\" class=\"data row16 col1\" >17.074869</td>\n",
       "      <td id=\"T_e89ec_row16_col2\" class=\"data row16 col2\" >0.781874</td>\n",
       "      <td id=\"T_e89ec_row16_col3\" class=\"data row16 col3\" >0.614811</td>\n",
       "    </tr>\n",
       "    <tr>\n",
       "      <th id=\"T_e89ec_level0_row17\" class=\"row_heading level0 row17\" >et_An_mmf_</th>\n",
       "      <td id=\"T_e89ec_row17_col0\" class=\"data row17 col0\" >8.313777</td>\n",
       "      <td id=\"T_e89ec_row17_col1\" class=\"data row17 col1\" >16.655241</td>\n",
       "      <td id=\"T_e89ec_row17_col2\" class=\"data row17 col2\" >0.767476</td>\n",
       "      <td id=\"T_e89ec_row17_col3\" class=\"data row17 col3\" >0.633511</td>\n",
       "    </tr>\n",
       "    <tr>\n",
       "      <th id=\"T_e89ec_level0_row18\" class=\"row_heading level0 row18\" >darwin-1.5-composition-no-icl_</th>\n",
       "      <td id=\"T_e89ec_row18_col0\" class=\"data row18 col0\" >13.306298</td>\n",
       "      <td id=\"T_e89ec_row18_col1\" class=\"data row18 col1\" >30.028525</td>\n",
       "      <td id=\"T_e89ec_row18_col2\" class=\"data row18 col2\" >nan</td>\n",
       "      <td id=\"T_e89ec_row18_col3\" class=\"data row18 col3\" >nan</td>\n",
       "    </tr>\n",
       "    <tr>\n",
       "      <th id=\"T_e89ec_level0_row19\" class=\"row_heading level0 row19\" >darwin-1.5-composition_spacegroup-no-icl_</th>\n",
       "      <td id=\"T_e89ec_row19_col0\" class=\"data row19 col0\" >13.611006</td>\n",
       "      <td id=\"T_e89ec_row19_col1\" class=\"data row19 col1\" >30.243682</td>\n",
       "      <td id=\"T_e89ec_row19_col2\" class=\"data row19 col2\" >nan</td>\n",
       "      <td id=\"T_e89ec_row19_col3\" class=\"data row19 col3\" >nan</td>\n",
       "    </tr>\n",
       "    <tr>\n",
       "      <th id=\"T_e89ec_level0_row20\" class=\"row_heading level0 row20\" >darwin-1.5-robocrystallographer-no-icl_</th>\n",
       "      <td id=\"T_e89ec_row20_col0\" class=\"data row20 col0\" >13.137656</td>\n",
       "      <td id=\"T_e89ec_row20_col1\" class=\"data row20 col1\" >29.805097</td>\n",
       "      <td id=\"T_e89ec_row20_col2\" class=\"data row20 col2\" >nan</td>\n",
       "      <td id=\"T_e89ec_row20_col3\" class=\"data row20 col3\" >nan</td>\n",
       "    </tr>\n",
       "    <tr>\n",
       "      <th id=\"T_e89ec_level0_row21\" class=\"row_heading level0 row21\" >matten_</th>\n",
       "      <td id=\"T_e89ec_row21_col0\" class=\"data row21 col0\" >7.522901</td>\n",
       "      <td id=\"T_e89ec_row21_col1\" class=\"data row21 col1\" >19.128959</td>\n",
       "      <td id=\"T_e89ec_row21_col2\" class=\"data row21 col2\" >nan</td>\n",
       "      <td id=\"T_e89ec_row21_col3\" class=\"data row21 col3\" >nan</td>\n",
       "    </tr>\n",
       "  </tbody>\n",
       "</table>\n"
      ],
      "text/plain": [
       "<pandas.io.formats.style.Styler at 0x70ed5f49f990>"
      ]
     },
     "metadata": {},
     "output_type": "display_data"
    },
    {
     "name": "stdout",
     "output_type": "stream",
     "text": [
      "distribution_250\n"
     ]
    },
    {
     "data": {
      "text/html": [
       "<style type=\"text/css\">\n",
       "#T_62dff_row0_col0, #T_62dff_row0_col1, #T_62dff_row0_col2, #T_62dff_row0_col3 {\n",
       "  color: red;\n",
       "  color: red;\n",
       "  font-weight: bold;\n",
       "}\n",
       "#T_62dff_row3_col0, #T_62dff_row3_col1, #T_62dff_row3_col2, #T_62dff_row3_col3 {\n",
       "  color: red;\n",
       "  color: red;\n",
       "}\n",
       "</style>\n",
       "<table id=\"T_62dff\">\n",
       "  <thead>\n",
       "    <tr>\n",
       "      <th class=\"blank level0\" >&nbsp;</th>\n",
       "      <th id=\"T_62dff_level0_col0\" class=\"col_heading level0 col0\" >mae</th>\n",
       "      <th id=\"T_62dff_level0_col1\" class=\"col_heading level0 col1\" >rmse</th>\n",
       "      <th id=\"T_62dff_level0_col2\" class=\"col_heading level0 col2\" >spearman</th>\n",
       "      <th id=\"T_62dff_level0_col3\" class=\"col_heading level0 col3\" >r2_score</th>\n",
       "    </tr>\n",
       "  </thead>\n",
       "  <tbody>\n",
       "    <tr>\n",
       "      <th id=\"T_62dff_level0_row0\" class=\"row_heading level0 row0\" >modnet_nan_mmf_pgnn_</th>\n",
       "      <td id=\"T_62dff_row0_col0\" class=\"data row0 col0\" >5.248858</td>\n",
       "      <td id=\"T_62dff_row0_col1\" class=\"data row0 col1\" >14.235615</td>\n",
       "      <td id=\"T_62dff_row0_col2\" class=\"data row0 col2\" >0.898054</td>\n",
       "      <td id=\"T_62dff_row0_col3\" class=\"data row0 col3\" >0.683677</td>\n",
       "    </tr>\n",
       "    <tr>\n",
       "      <th id=\"T_62dff_level0_row1\" class=\"row_heading level0 row1\" >modnet_nan_mmf_</th>\n",
       "      <td id=\"T_62dff_row1_col0\" class=\"data row1 col0\" >5.784565</td>\n",
       "      <td id=\"T_62dff_row1_col1\" class=\"data row1 col1\" >15.741625</td>\n",
       "      <td id=\"T_62dff_row1_col2\" class=\"data row1 col2\" >0.886173</td>\n",
       "      <td id=\"T_62dff_row1_col3\" class=\"data row1 col3\" >0.613209</td>\n",
       "    </tr>\n",
       "    <tr>\n",
       "      <th id=\"T_62dff_level0_row2\" class=\"row_heading level0 row2\" >modnet_mmf_pgnn_</th>\n",
       "      <td id=\"T_62dff_row2_col0\" class=\"data row2 col0\" >5.765881</td>\n",
       "      <td id=\"T_62dff_row2_col1\" class=\"data row2 col1\" >15.279833</td>\n",
       "      <td id=\"T_62dff_row2_col2\" class=\"data row2 col2\" >0.883553</td>\n",
       "      <td id=\"T_62dff_row2_col3\" class=\"data row2 col3\" >0.635569</td>\n",
       "    </tr>\n",
       "    <tr>\n",
       "      <th id=\"T_62dff_level0_row3\" class=\"row_heading level0 row3\" >modnet_nan_pgnn_</th>\n",
       "      <td id=\"T_62dff_row3_col0\" class=\"data row3 col0\" >5.604163</td>\n",
       "      <td id=\"T_62dff_row3_col1\" class=\"data row3 col1\" >13.879715</td>\n",
       "      <td id=\"T_62dff_row3_col2\" class=\"data row3 col2\" >0.871287</td>\n",
       "      <td id=\"T_62dff_row3_col3\" class=\"data row3 col3\" >0.699296</td>\n",
       "    </tr>\n",
       "    <tr>\n",
       "      <th id=\"T_62dff_level0_row4\" class=\"row_heading level0 row4\" >modnet_pgnn_</th>\n",
       "      <td id=\"T_62dff_row4_col0\" class=\"data row4 col0\" >5.817681</td>\n",
       "      <td id=\"T_62dff_row4_col1\" class=\"data row4 col1\" >14.483580</td>\n",
       "      <td id=\"T_62dff_row4_col2\" class=\"data row4 col2\" >0.869175</td>\n",
       "      <td id=\"T_62dff_row4_col3\" class=\"data row4 col3\" >0.672562</td>\n",
       "    </tr>\n",
       "    <tr>\n",
       "      <th id=\"T_62dff_level0_row5\" class=\"row_heading level0 row5\" >modnet_mmf_</th>\n",
       "      <td id=\"T_62dff_row5_col0\" class=\"data row5 col0\" >5.609491</td>\n",
       "      <td id=\"T_62dff_row5_col1\" class=\"data row5 col1\" >14.656513</td>\n",
       "      <td id=\"T_62dff_row5_col2\" class=\"data row5 col2\" >0.869088</td>\n",
       "      <td id=\"T_62dff_row5_col3\" class=\"data row5 col3\" >0.664696</td>\n",
       "    </tr>\n",
       "    <tr>\n",
       "      <th id=\"T_62dff_level0_row6\" class=\"row_heading level0 row6\" >et_dflt_pgnn_</th>\n",
       "      <td id=\"T_62dff_row6_col0\" class=\"data row6 col0\" >6.675432</td>\n",
       "      <td id=\"T_62dff_row6_col1\" class=\"data row6 col1\" >15.839602</td>\n",
       "      <td id=\"T_62dff_row6_col2\" class=\"data row6 col2\" >0.849602</td>\n",
       "      <td id=\"T_62dff_row6_col3\" class=\"data row6 col3\" >0.608379</td>\n",
       "    </tr>\n",
       "    <tr>\n",
       "      <th id=\"T_62dff_level0_row7\" class=\"row_heading level0 row7\" >et_dflt_mmf_pgnn_</th>\n",
       "      <td id=\"T_62dff_row7_col0\" class=\"data row7 col0\" >6.189507</td>\n",
       "      <td id=\"T_62dff_row7_col1\" class=\"data row7 col1\" >15.023034</td>\n",
       "      <td id=\"T_62dff_row7_col2\" class=\"data row7 col2\" >0.844422</td>\n",
       "      <td id=\"T_62dff_row7_col3\" class=\"data row7 col3\" >0.647716</td>\n",
       "    </tr>\n",
       "    <tr>\n",
       "      <th id=\"T_62dff_level0_row8\" class=\"row_heading level0 row8\" >et_dflt_mmf_</th>\n",
       "      <td id=\"T_62dff_row8_col0\" class=\"data row8 col0\" >6.144405</td>\n",
       "      <td id=\"T_62dff_row8_col1\" class=\"data row8 col1\" >15.278746</td>\n",
       "      <td id=\"T_62dff_row8_col2\" class=\"data row8 col2\" >0.837960</td>\n",
       "      <td id=\"T_62dff_row8_col3\" class=\"data row8 col3\" >0.635621</td>\n",
       "    </tr>\n",
       "    <tr>\n",
       "      <th id=\"T_62dff_level0_row9\" class=\"row_heading level0 row9\" >lgbm_dflt_mmf_pgnn_</th>\n",
       "      <td id=\"T_62dff_row9_col0\" class=\"data row9 col0\" >6.410858</td>\n",
       "      <td id=\"T_62dff_row9_col1\" class=\"data row9 col1\" >14.737723</td>\n",
       "      <td id=\"T_62dff_row9_col2\" class=\"data row9 col2\" >0.835139</td>\n",
       "      <td id=\"T_62dff_row9_col3\" class=\"data row9 col3\" >0.660970</td>\n",
       "    </tr>\n",
       "    <tr>\n",
       "      <th id=\"T_62dff_level0_row10\" class=\"row_heading level0 row10\" >et_An_mmf_pgnn_</th>\n",
       "      <td id=\"T_62dff_row10_col0\" class=\"data row10 col0\" >6.630075</td>\n",
       "      <td id=\"T_62dff_row10_col1\" class=\"data row10 col1\" >15.324600</td>\n",
       "      <td id=\"T_62dff_row10_col2\" class=\"data row10 col2\" >0.834100</td>\n",
       "      <td id=\"T_62dff_row10_col3\" class=\"data row10 col3\" >0.633431</td>\n",
       "    </tr>\n",
       "    <tr>\n",
       "      <th id=\"T_62dff_level0_row11\" class=\"row_heading level0 row11\" >et_An_pgnn_</th>\n",
       "      <td id=\"T_62dff_row11_col0\" class=\"data row11 col0\" >6.823786</td>\n",
       "      <td id=\"T_62dff_row11_col1\" class=\"data row11 col1\" >15.388477</td>\n",
       "      <td id=\"T_62dff_row11_col2\" class=\"data row11 col2\" >0.831295</td>\n",
       "      <td id=\"T_62dff_row11_col3\" class=\"data row11 col3\" >0.630368</td>\n",
       "    </tr>\n",
       "    <tr>\n",
       "      <th id=\"T_62dff_level0_row12\" class=\"row_heading level0 row12\" >lgbm_dflt_pgnn_</th>\n",
       "      <td id=\"T_62dff_row12_col0\" class=\"data row12 col0\" >6.525860</td>\n",
       "      <td id=\"T_62dff_row12_col1\" class=\"data row12 col1\" >15.106007</td>\n",
       "      <td id=\"T_62dff_row12_col2\" class=\"data row12 col2\" >0.825350</td>\n",
       "      <td id=\"T_62dff_row12_col3\" class=\"data row12 col3\" >0.643814</td>\n",
       "    </tr>\n",
       "    <tr>\n",
       "      <th id=\"T_62dff_level0_row13\" class=\"row_heading level0 row13\" >lgbm_An_mmf_pgnn_</th>\n",
       "      <td id=\"T_62dff_row13_col0\" class=\"data row13 col0\" >7.016667</td>\n",
       "      <td id=\"T_62dff_row13_col1\" class=\"data row13 col1\" >15.809482</td>\n",
       "      <td id=\"T_62dff_row13_col2\" class=\"data row13 col2\" >0.823383</td>\n",
       "      <td id=\"T_62dff_row13_col3\" class=\"data row13 col3\" >0.609867</td>\n",
       "    </tr>\n",
       "    <tr>\n",
       "      <th id=\"T_62dff_level0_row14\" class=\"row_heading level0 row14\" >lgbm_An_pgnn_</th>\n",
       "      <td id=\"T_62dff_row14_col0\" class=\"data row14 col0\" >6.817769</td>\n",
       "      <td id=\"T_62dff_row14_col1\" class=\"data row14 col1\" >15.561593</td>\n",
       "      <td id=\"T_62dff_row14_col2\" class=\"data row14 col2\" >0.822469</td>\n",
       "      <td id=\"T_62dff_row14_col3\" class=\"data row14 col3\" >0.622005</td>\n",
       "    </tr>\n",
       "    <tr>\n",
       "      <th id=\"T_62dff_level0_row15\" class=\"row_heading level0 row15\" >lgbm_dflt_mmf_</th>\n",
       "      <td id=\"T_62dff_row15_col0\" class=\"data row15 col0\" >6.112112</td>\n",
       "      <td id=\"T_62dff_row15_col1\" class=\"data row15 col1\" >14.770501</td>\n",
       "      <td id=\"T_62dff_row15_col2\" class=\"data row15 col2\" >0.819730</td>\n",
       "      <td id=\"T_62dff_row15_col3\" class=\"data row15 col3\" >0.659460</td>\n",
       "    </tr>\n",
       "    <tr>\n",
       "      <th id=\"T_62dff_level0_row16\" class=\"row_heading level0 row16\" >lgbm_An_mmf_</th>\n",
       "      <td id=\"T_62dff_row16_col0\" class=\"data row16 col0\" >6.596558</td>\n",
       "      <td id=\"T_62dff_row16_col1\" class=\"data row16 col1\" >15.285115</td>\n",
       "      <td id=\"T_62dff_row16_col2\" class=\"data row16 col2\" >0.798749</td>\n",
       "      <td id=\"T_62dff_row16_col3\" class=\"data row16 col3\" >0.635317</td>\n",
       "    </tr>\n",
       "    <tr>\n",
       "      <th id=\"T_62dff_level0_row17\" class=\"row_heading level0 row17\" >et_An_mmf_</th>\n",
       "      <td id=\"T_62dff_row17_col0\" class=\"data row17 col0\" >6.949693</td>\n",
       "      <td id=\"T_62dff_row17_col1\" class=\"data row17 col1\" >15.245760</td>\n",
       "      <td id=\"T_62dff_row17_col2\" class=\"data row17 col2\" >0.798448</td>\n",
       "      <td id=\"T_62dff_row17_col3\" class=\"data row17 col3\" >0.637193</td>\n",
       "    </tr>\n",
       "    <tr>\n",
       "      <th id=\"T_62dff_level0_row18\" class=\"row_heading level0 row18\" >darwin-1.5-composition-no-icl_</th>\n",
       "      <td id=\"T_62dff_row18_col0\" class=\"data row18 col0\" >13.136474</td>\n",
       "      <td id=\"T_62dff_row18_col1\" class=\"data row18 col1\" >27.978376</td>\n",
       "      <td id=\"T_62dff_row18_col2\" class=\"data row18 col2\" >nan</td>\n",
       "      <td id=\"T_62dff_row18_col3\" class=\"data row18 col3\" >nan</td>\n",
       "    </tr>\n",
       "    <tr>\n",
       "      <th id=\"T_62dff_level0_row19\" class=\"row_heading level0 row19\" >darwin-1.5-composition_spacegroup-no-icl_</th>\n",
       "      <td id=\"T_62dff_row19_col0\" class=\"data row19 col0\" >12.955979</td>\n",
       "      <td id=\"T_62dff_row19_col1\" class=\"data row19 col1\" >28.052872</td>\n",
       "      <td id=\"T_62dff_row19_col2\" class=\"data row19 col2\" >nan</td>\n",
       "      <td id=\"T_62dff_row19_col3\" class=\"data row19 col3\" >nan</td>\n",
       "    </tr>\n",
       "    <tr>\n",
       "      <th id=\"T_62dff_level0_row20\" class=\"row_heading level0 row20\" >darwin-1.5-robocrystallographer-no-icl_</th>\n",
       "      <td id=\"T_62dff_row20_col0\" class=\"data row20 col0\" >13.320132</td>\n",
       "      <td id=\"T_62dff_row20_col1\" class=\"data row20 col1\" >28.002219</td>\n",
       "      <td id=\"T_62dff_row20_col2\" class=\"data row20 col2\" >nan</td>\n",
       "      <td id=\"T_62dff_row20_col3\" class=\"data row20 col3\" >nan</td>\n",
       "    </tr>\n",
       "    <tr>\n",
       "      <th id=\"T_62dff_level0_row21\" class=\"row_heading level0 row21\" >matten_</th>\n",
       "      <td id=\"T_62dff_row21_col0\" class=\"data row21 col0\" >7.946160</td>\n",
       "      <td id=\"T_62dff_row21_col1\" class=\"data row21 col1\" >20.879391</td>\n",
       "      <td id=\"T_62dff_row21_col2\" class=\"data row21 col2\" >nan</td>\n",
       "      <td id=\"T_62dff_row21_col3\" class=\"data row21 col3\" >nan</td>\n",
       "    </tr>\n",
       "  </tbody>\n",
       "</table>\n"
      ],
      "text/plain": [
       "<pandas.io.formats.style.Styler at 0x70ed5f452990>"
      ]
     },
     "metadata": {},
     "output_type": "display_data"
    }
   ],
   "source": [
    "def df_style(val):\n",
    "    return \"color: red\"\n",
    "\n",
    "\n",
    "def df_style_bold(val):\n",
    "    return \"font-weight: bold\"\n",
    "\n",
    "\n",
    "import numpy as np\n",
    "\n",
    "\n",
    "def highlight_max(s, props=\"color:red\"):\n",
    "    return np.where(s == np.nanmax(s.values), props, \"\")\n",
    "\n",
    "\n",
    "df_results = pd.DataFrame.from_dict(dict_results_ravel, orient=\"index\")\n",
    "\n",
    "dict_df_results_splits = {}\n",
    "for split in [\"random_125\", \"random_250\", \"distribution_125\", \"distribution_250\"]:\n",
    "    indexes = []\n",
    "    for i in df_results.index:\n",
    "        if split in i:\n",
    "            indexes.append(i)\n",
    "    df_tmp = df_results.filter(indexes, axis=0)\n",
    "    new_index = []\n",
    "    for i in df_tmp.index:\n",
    "        tmp = i.replace(split, \"\").replace(\"__\", \"_\")\n",
    "        splitted_tmp = tmp.split(\"_\")\n",
    "        if (\n",
    "            splitted_tmp[0] in splitted_tmp[1]\n",
    "        ):  # Which is the case for claude and darwin\n",
    "            tmp = tmp.split(splitted_tmp[0] + \"_\")[1]\n",
    "\n",
    "        new_index.append(tmp)\n",
    "    df_tmp.index = new_index\n",
    "    df_tmp = df_tmp.sort_values(by=\"spearman\", ascending=False)\n",
    "\n",
    "    # and apply styling to it via the `subset` arg; first arg is styler function above\n",
    "    idx_best = []\n",
    "    idx_best.extend(df_tmp[[\"mae\", \"rmse\"]].idxmin().tolist())\n",
    "    idx_best.extend(df_tmp[[\"spearman\", \"r2_score\"]].idxmax().tolist())\n",
    "    df_tmp = df_tmp.style.applymap(\n",
    "        df_style, subset=(idx_best, [\"mae\", \"rmse\", \"spearman\", \"r2_score\"])\n",
    "    )\n",
    "\n",
    "    idx_best_max, idx_best_max_count = Counter(idx_best).most_common(1)[0]\n",
    "    if idx_best_max_count > 1:\n",
    "        df_tmp = df_tmp.applymap(\n",
    "            df_style_bold,\n",
    "            subset=([idx_best_max], [\"mae\", \"rmse\", \"spearman\", \"r2_score\"]),\n",
    "        )\n",
    "\n",
    "    dict_df_results_splits[split] = df_tmp\n",
    "\n",
    "    print(split)\n",
    "    display(dict_df_results_splits[split])"
   ]
  },
  {
   "cell_type": "markdown",
   "metadata": {},
   "source": [
    "# Investigate predictions errors"
   ]
  },
  {
   "cell_type": "code",
   "execution_count": 6,
   "metadata": {},
   "outputs": [],
   "source": [
    "# 1. Lists all directories in the previous dir\n",
    "path_benchmarks = Path(\"..\")\n",
    "model_names = next(os.walk(path_benchmarks), (None, None, []))[1]\n",
    "model_names.remove(\"results_stats\")\n",
    "model_names\n",
    "# 2. Create a dict with the name of the models as keys\n",
    "dict_results = {m: {} for m in model_names}\n",
    "dict_results\n",
    "# 3. The values will be a new dict with the denomination of the \"tasks_...\" or \"tasks\" dir as key\n",
    "for m in dict_results.keys():\n",
    "    path_tasks = path_benchmarks / m\n",
    "    for d in next(os.walk(path_tasks), (None, None, []))[1]:\n",
    "        if \"tasks\" in d:\n",
    "            dict_results[m].update({d: {}})\n",
    "\n",
    "# print(dict_results)\n",
    "# 4. The values of this last dict will be a new dict with the task (or split) as key so random_125 for example\n",
    "for m in dict_results.keys():\n",
    "    path_tasks = path_benchmarks / m\n",
    "    for t in dict_results[m].keys():\n",
    "        path_split = path_tasks / t\n",
    "        for d in next(os.walk(path_split), (None, None, []))[1]:\n",
    "            if \"distribution\" in d or \"random\" in d:\n",
    "                dict_results[m][t].update({d: {}})\n",
    "\n",
    "# print(dict_results)\n",
    "# 5. The values of this last dict will be a new dict with the type of features (mmf e.g.) as key\n",
    "for m in dict_results.keys():\n",
    "    path_tasks = path_benchmarks / m\n",
    "    for t in dict_results[m].keys():\n",
    "        path_split = path_tasks / t\n",
    "        for s in dict_results[m][t].keys():\n",
    "            path_feat = path_split / s\n",
    "\n",
    "            for f in next(os.walk(path_feat), (None, None, []))[2]:\n",
    "                if \"json\" not in f:\n",
    "                    continue\n",
    "                path_results = path_feat / f\n",
    "                with open(path_results, \"r\") as file:\n",
    "                    results = json.load(file)\n",
    "                dict_results[m][t][s].update(\n",
    "                    {f.split(\".json\")[0]: results[\"predictions\"]}\n",
    "                )\n",
    "\n",
    "# Function to unravel the dict keys\n",
    "f = {}\n",
    "stack = [(dict_results, \"\")]  # Stack holds tuples of (current_dict, current_key)\n",
    "\n",
    "while stack:\n",
    "    c, p = stack.pop()\n",
    "\n",
    "    for k, v in c.items():\n",
    "        new_key = f\"{p}_{k}\" if p else k\n",
    "\n",
    "        if isinstance(v, dict):\n",
    "            stack.append((v, new_key))  # Push the nested dictionary onto the stack\n",
    "        else:\n",
    "            f[new_key] = v  # Add to the flattened dictionary\n",
    "\n",
    "# print(f)\n",
    "\n",
    "# Unravel the dict keys\n",
    "dict_results_ravel = {}\n",
    "for k, v in f.items():\n",
    "    new_k, metric = k.replace(\"_tasks\", \"\").split(\"results_\")\n",
    "    if new_k not in dict_results_ravel.keys():\n",
    "        dict_results_ravel[new_k] = {}\n",
    "    dict_results_ravel[new_k][metric] = v\n",
    "\n",
    "# display(dict_results_ravel)"
   ]
  },
  {
   "cell_type": "code",
   "execution_count": 7,
   "metadata": {},
   "outputs": [
    {
     "name": "stderr",
     "output_type": "stream",
     "text": [
      "/tmp/ipykernel_40938/1044345493.py:29: RuntimeWarning: invalid value encountered in log\n",
      "  y=np.log(pred_values_vt),\n",
      "/tmp/ipykernel_40938/1044345493.py:39: RuntimeWarning: invalid value encountered in log\n",
      "  y=np.log(pred_values_nac),\n"
     ]
    },
    {
     "data": {
      "application/vnd.plotly.v1+json": {
       "config": {
        "plotlyServerURL": "https://plot.ly"
       },
       "data": [
        {
         "mode": "markers",
         "name": "",
         "showlegend": false,
         "text": [
          "mp-11714",
          "mp-1180133",
          "mp-1225884",
          "mp-1196457",
          "mp-560894",
          "mp-1196282",
          "mp-1219328",
          "mp-1227124",
          "mp-1102285",
          "mp-1227389",
          "mp-1227110",
          "mp-1079676",
          "mp-1228342",
          "mp-17862",
          "mp-504952",
          "mp-1223849",
          "mp-1208039",
          "mp-625175",
          "agm003160552",
          "agm003202328",
          "agm002278924",
          "agm003202410",
          "mp-1227011",
          "agm002224865",
          "agm003157565",
          "agm002140778",
          "agm002041336",
          "agm003219193",
          "mp-1228160",
          "mp-1223489",
          "mp-1221169",
          "mp-4431",
          "mp-1105300",
          "mp-1103351",
          "mp-1029368",
          "mp-1029633",
          "agm002147818",
          "agm002153139",
          "mp-555202",
          "mp-1216976",
          "mp-626172",
          "agm002156258",
          "mp-772748",
          "mp-1223389",
          "mp-9427",
          "mp-1225916",
          "agm003237859",
          "mp-1221971",
          "agm002237807",
          "mp-1215642",
          "agm003213121",
          "agm002297812",
          "mp-29157",
          "mp-555915",
          "agm002138671",
          "agm002790067",
          "agm002205114",
          "agm002184995",
          "agm003235252",
          "agm003206267",
          "agm003705731",
          "agm2000126920",
          "agm2000137141",
          "agm005848675",
          "mp-2802611",
          "agm005056300",
          "agm004786326",
          "agm001234439",
          "agm002056302",
          "agm002137665",
          "mp-554918",
          "agm001375463",
          "agm005721583",
          "agm006020719",
          "agm003112540",
          "agm004787350",
          "agm002176403",
          "agm002161194",
          "agm2000136656",
          "mp-1208179",
          "agm002017294",
          "agm002041315",
          "agm003469328",
          "agm005072178",
          "agm005664742",
          "agm004773455",
          "agm005071058",
          "agm006047746",
          "agm005754384",
          "agm005748012"
         ],
         "type": "scatter",
         "x": [
          1.8640705135253752,
          1.6117304214168595,
          -1.850645270291186,
          -2.2274896889093165,
          -0.696089616034016,
          -3.882833663787394,
          0.9963979996100724,
          2.790030659323957,
          1.9858987831854715,
          3.6428908209397224,
          -4.692920184192641,
          0.34935301523658263,
          0.3231729545138501,
          3.502741045546834,
          2.6838822295557954,
          -2.3787863570552736,
          -0.03989242203594581,
          -1.2804277067714025,
          2.507903669532472,
          3.4877343549200677,
          5.1067363011827345,
          4.901091842048587,
          3.957572495507323,
          0.15077779951791634,
          -1.2825056451299668,
          1.3187090489912512,
          3.7546024892173433,
          -1.4450659395820022,
          -1.4209066269913853,
          -1.7967384501708528,
          2.3075919681926687,
          2.9764162815898874,
          3.28690872407927,
          0.8074179428193387,
          2.706316306471154,
          2.0075454817088243,
          -0.950327008457287,
          0.9305096508337292,
          -1.3996753119350664,
          2.537243145948521,
          -1.4994368982155892,
          -0.4009194821956806,
          -1.3032098743935028,
          3.2595451747209663,
          -0.554443488411422,
          0.1675766744469721,
          -1.0650621180496211,
          1.7699590867643369,
          4.620808307046488,
          1.2589677005652813,
          1.359985981463237,
          0.1357880158166226,
          4.363206663676072,
          -0.8720794454781192,
          1.6076098710058706,
          3.8433263345501425,
          4.161423854925523,
          5.119947149916917,
          -3.0486976774750096,
          2.955263511151345,
          1.904069829063425,
          -1.4925748617087051,
          2.1057574191623862,
          2.0172124795442072,
          -0.10724678152218822,
          2.023925095651449,
          2.6127497197709366,
          -0.18960256344954837,
          1.2279568365509097,
          -1.5250777904817183,
          0.9118789633700044,
          3.3884489406417044,
          2.2487349390343057,
          -0.8843652374073264,
          3.893549523381594,
          0.53849175685732,
          0.4245670695122952,
          2.2951224845999403,
          1.2008466644831577,
          -0.15750553108580967,
          2.8293623014760114,
          4.062859542466981,
          -1.1642253854125997,
          -1.0321892814124467,
          1.1614508596374045,
          1.562007195494622,
          0.3327943572530076,
          3.9272961494965513,
          0.3905723773908419,
          -0.8632123560720705
         ],
         "y": [
          1.847895349035546,
          1.604035993398461,
          null,
          -2.1474111522794748,
          1.160608301318134,
          null,
          3.021059326561428,
          3.380212750732462,
          2.2155141536786704,
          3.2067619221470425,
          -0.9707837660866472,
          0.12641124625111816,
          0.9755346176942314,
          3.6909657224830865,
          3.8104074526388234,
          -0.6392357063997129,
          -1.7134787121265669,
          null,
          4.071380998698147,
          3.221453789050119,
          4.248678985449216,
          3.436772792497496,
          4.081129734033861,
          1.9356596770257917,
          null,
          1.2891101705644714,
          3.050040134983569,
          -1.3991061763225976,
          -0.9450342563059668,
          -1.9858348808468955,
          2.977552411779903,
          3.118383940828549,
          3.5452645954441087,
          2.809130716968491,
          2.807468727823915,
          2.7917162835908056,
          -0.06495594061430014,
          0.37942181444514494,
          -1.061724392685532,
          3.16222154120793,
          -0.910163726641888,
          -0.2402943277747285,
          -0.9062704428303344,
          3.1587212889648506,
          -1.4157788642340068,
          -0.07929144661320203,
          0.09880411676069868,
          2.0478337160900013,
          4.009897417026438,
          2.0835267041717547,
          2.4714741336503576,
          0.5816535700853716,
          4.083975392557579,
          1.7135011766740325,
          1.617724812642362,
          3.6186503397610097,
          4.0445793823845415,
          4.322264325118932,
          -0.9268498723157091,
          2.6932651847918847,
          1.7435237332582658,
          null,
          2.734033393445785,
          3.1314126796071684,
          -0.12832375590275466,
          2.0968870821478314,
          2.5061685021281317,
          1.6249871286856492,
          0.32423655709813615,
          null,
          -0.6079892338945587,
          3.791731469745887,
          3.014610405331742,
          0.0013360534608103268,
          3.768952451318078,
          0.9145113735336964,
          null,
          2.7401209733647565,
          2.7818448194535876,
          -0.19248140399726132,
          2.803086161770323,
          3.9455061810795016,
          -0.32975717183918285,
          -1.2925293591873286,
          1.1753072533926754,
          1.1969680150408444,
          0.3843146452577369,
          3.8495052801955487,
          1.299573503702392,
          0.180860652231595
         ]
        },
        {
         "marker": {
          "color": "red"
         },
         "mode": "markers",
         "name": "",
         "showlegend": false,
         "text": [
          "mp-21892",
          "mp-8070",
          "mp-558491",
          "mp-632684",
          "mp-23329",
          "mp-555150",
          "mp-760755",
          "mp-6268",
          "mp-559057",
          "mp-1778",
          "mp-2176",
          "mp-22909",
          "mp-9844",
          "mp-9066",
          "mp-6126",
          "mp-632229",
          "mp-21521",
          "mp-1287",
          "mp-756044",
          "mp-754712",
          "mp-18168",
          "mp-505702",
          "mp-559065",
          "mp-559545",
          "mp-549720",
          "mp-561385",
          "mp-13666",
          "mp-14444",
          "mp-2469",
          "mp-31451",
          "mp-1023924",
          "mp-38011",
          "mp-8884",
          "mp-6980",
          "mp-4524"
         ],
         "type": "scatter",
         "x": [
          0.5129958888992996,
          -0.4855530271371922,
          -0.08740485527531697,
          -0.45681555937106766,
          2.1061629838671,
          0.513705495637027,
          -2.3134955345928385,
          1.8583162248321317,
          0.4882103609421548,
          -1.1396223245682315,
          4.656254645145144,
          0.9508715487860324,
          -0.05300287393081044,
          -1.1432595869803444,
          1.005487085967149,
          1.068043435793579,
          2.0183066815251465,
          -1.952218665850329,
          -1.266849364995467,
          0.15670083532845222,
          0.8790197681158867,
          0.44855102088749943,
          1.871489666744384,
          1.7522422636101158,
          3.0993804513799335,
          -0.35650021086904377,
          3.917254174536937,
          2.5896455390744313,
          2.8167502162864495,
          4.2071054438569275,
          0.9457357302382252,
          1.943455628463224,
          3.677733778199943,
          4.122043167902257,
          4.494287161104849
         ],
         "y": [
          1.2155126840811317,
          -0.9968426696652852,
          -2.569197418763152,
          -0.803335399835307,
          1.5019748885696391,
          -0.4431977866927547,
          -3.7859287383966618,
          1.0710103502204356,
          1.1595903165832595,
          0.6704572346945241,
          4.213849721097073,
          null,
          0.09917873709390523,
          -0.7521698762865919,
          1.1602803747371666,
          -0.4427447145435658,
          0.9718985263584368,
          3.2245529473693746,
          -2.1488215191774924,
          null,
          1.1789762496360283,
          0.6478768144379307,
          1.695136901326829,
          1.8594811997691365,
          2.947065513290301,
          0.8372562504654334,
          3.6639812996680017,
          2.522935248855665,
          3.618070179173992,
          4.231183817636207,
          1.673616810741788,
          1.6989294728085973,
          4.233249497596459,
          3.1953337568892213,
          4.364315781415252
         ]
        },
        {
         "line": {
          "color": "gray",
          "dash": "dot"
         },
         "mode": "lines",
         "showlegend": false,
         "type": "scatter",
         "x": [
          -10,
          8
         ],
         "y": [
          -10,
          8
         ]
        }
       ],
       "layout": {
        "autosize": false,
        "font": {
         "size": 20
        },
        "height": 600,
        "template": {
         "data": {
          "bar": [
           {
            "error_x": {
             "color": "rgb(36,36,36)"
            },
            "error_y": {
             "color": "rgb(36,36,36)"
            },
            "marker": {
             "line": {
              "color": "white",
              "width": 0.5
             },
             "pattern": {
              "fillmode": "overlay",
              "size": 10,
              "solidity": 0.2
             }
            },
            "type": "bar"
           }
          ],
          "barpolar": [
           {
            "marker": {
             "line": {
              "color": "white",
              "width": 0.5
             },
             "pattern": {
              "fillmode": "overlay",
              "size": 10,
              "solidity": 0.2
             }
            },
            "type": "barpolar"
           }
          ],
          "carpet": [
           {
            "aaxis": {
             "endlinecolor": "rgb(36,36,36)",
             "gridcolor": "white",
             "linecolor": "white",
             "minorgridcolor": "white",
             "startlinecolor": "rgb(36,36,36)"
            },
            "baxis": {
             "endlinecolor": "rgb(36,36,36)",
             "gridcolor": "white",
             "linecolor": "white",
             "minorgridcolor": "white",
             "startlinecolor": "rgb(36,36,36)"
            },
            "type": "carpet"
           }
          ],
          "choropleth": [
           {
            "colorbar": {
             "outlinewidth": 1,
             "tickcolor": "rgb(36,36,36)",
             "ticks": "outside"
            },
            "type": "choropleth"
           }
          ],
          "contour": [
           {
            "colorbar": {
             "outlinewidth": 1,
             "tickcolor": "rgb(36,36,36)",
             "ticks": "outside"
            },
            "colorscale": [
             [
              0,
              "#440154"
             ],
             [
              0.1111111111111111,
              "#482878"
             ],
             [
              0.2222222222222222,
              "#3e4989"
             ],
             [
              0.3333333333333333,
              "#31688e"
             ],
             [
              0.4444444444444444,
              "#26828e"
             ],
             [
              0.5555555555555556,
              "#1f9e89"
             ],
             [
              0.6666666666666666,
              "#35b779"
             ],
             [
              0.7777777777777778,
              "#6ece58"
             ],
             [
              0.8888888888888888,
              "#b5de2b"
             ],
             [
              1,
              "#fde725"
             ]
            ],
            "type": "contour"
           }
          ],
          "contourcarpet": [
           {
            "colorbar": {
             "outlinewidth": 1,
             "tickcolor": "rgb(36,36,36)",
             "ticks": "outside"
            },
            "type": "contourcarpet"
           }
          ],
          "heatmap": [
           {
            "colorbar": {
             "outlinewidth": 1,
             "tickcolor": "rgb(36,36,36)",
             "ticks": "outside"
            },
            "colorscale": [
             [
              0,
              "#440154"
             ],
             [
              0.1111111111111111,
              "#482878"
             ],
             [
              0.2222222222222222,
              "#3e4989"
             ],
             [
              0.3333333333333333,
              "#31688e"
             ],
             [
              0.4444444444444444,
              "#26828e"
             ],
             [
              0.5555555555555556,
              "#1f9e89"
             ],
             [
              0.6666666666666666,
              "#35b779"
             ],
             [
              0.7777777777777778,
              "#6ece58"
             ],
             [
              0.8888888888888888,
              "#b5de2b"
             ],
             [
              1,
              "#fde725"
             ]
            ],
            "type": "heatmap"
           }
          ],
          "heatmapgl": [
           {
            "colorbar": {
             "outlinewidth": 1,
             "tickcolor": "rgb(36,36,36)",
             "ticks": "outside"
            },
            "colorscale": [
             [
              0,
              "#440154"
             ],
             [
              0.1111111111111111,
              "#482878"
             ],
             [
              0.2222222222222222,
              "#3e4989"
             ],
             [
              0.3333333333333333,
              "#31688e"
             ],
             [
              0.4444444444444444,
              "#26828e"
             ],
             [
              0.5555555555555556,
              "#1f9e89"
             ],
             [
              0.6666666666666666,
              "#35b779"
             ],
             [
              0.7777777777777778,
              "#6ece58"
             ],
             [
              0.8888888888888888,
              "#b5de2b"
             ],
             [
              1,
              "#fde725"
             ]
            ],
            "type": "heatmapgl"
           }
          ],
          "histogram": [
           {
            "marker": {
             "line": {
              "color": "white",
              "width": 0.6
             }
            },
            "type": "histogram"
           }
          ],
          "histogram2d": [
           {
            "colorbar": {
             "outlinewidth": 1,
             "tickcolor": "rgb(36,36,36)",
             "ticks": "outside"
            },
            "colorscale": [
             [
              0,
              "#440154"
             ],
             [
              0.1111111111111111,
              "#482878"
             ],
             [
              0.2222222222222222,
              "#3e4989"
             ],
             [
              0.3333333333333333,
              "#31688e"
             ],
             [
              0.4444444444444444,
              "#26828e"
             ],
             [
              0.5555555555555556,
              "#1f9e89"
             ],
             [
              0.6666666666666666,
              "#35b779"
             ],
             [
              0.7777777777777778,
              "#6ece58"
             ],
             [
              0.8888888888888888,
              "#b5de2b"
             ],
             [
              1,
              "#fde725"
             ]
            ],
            "type": "histogram2d"
           }
          ],
          "histogram2dcontour": [
           {
            "colorbar": {
             "outlinewidth": 1,
             "tickcolor": "rgb(36,36,36)",
             "ticks": "outside"
            },
            "colorscale": [
             [
              0,
              "#440154"
             ],
             [
              0.1111111111111111,
              "#482878"
             ],
             [
              0.2222222222222222,
              "#3e4989"
             ],
             [
              0.3333333333333333,
              "#31688e"
             ],
             [
              0.4444444444444444,
              "#26828e"
             ],
             [
              0.5555555555555556,
              "#1f9e89"
             ],
             [
              0.6666666666666666,
              "#35b779"
             ],
             [
              0.7777777777777778,
              "#6ece58"
             ],
             [
              0.8888888888888888,
              "#b5de2b"
             ],
             [
              1,
              "#fde725"
             ]
            ],
            "type": "histogram2dcontour"
           }
          ],
          "mesh3d": [
           {
            "colorbar": {
             "outlinewidth": 1,
             "tickcolor": "rgb(36,36,36)",
             "ticks": "outside"
            },
            "type": "mesh3d"
           }
          ],
          "parcoords": [
           {
            "line": {
             "colorbar": {
              "outlinewidth": 1,
              "tickcolor": "rgb(36,36,36)",
              "ticks": "outside"
             }
            },
            "type": "parcoords"
           }
          ],
          "pie": [
           {
            "automargin": true,
            "type": "pie"
           }
          ],
          "scatter": [
           {
            "fillpattern": {
             "fillmode": "overlay",
             "size": 10,
             "solidity": 0.2
            },
            "type": "scatter"
           }
          ],
          "scatter3d": [
           {
            "line": {
             "colorbar": {
              "outlinewidth": 1,
              "tickcolor": "rgb(36,36,36)",
              "ticks": "outside"
             }
            },
            "marker": {
             "colorbar": {
              "outlinewidth": 1,
              "tickcolor": "rgb(36,36,36)",
              "ticks": "outside"
             }
            },
            "type": "scatter3d"
           }
          ],
          "scattercarpet": [
           {
            "marker": {
             "colorbar": {
              "outlinewidth": 1,
              "tickcolor": "rgb(36,36,36)",
              "ticks": "outside"
             }
            },
            "type": "scattercarpet"
           }
          ],
          "scattergeo": [
           {
            "marker": {
             "colorbar": {
              "outlinewidth": 1,
              "tickcolor": "rgb(36,36,36)",
              "ticks": "outside"
             }
            },
            "type": "scattergeo"
           }
          ],
          "scattergl": [
           {
            "marker": {
             "colorbar": {
              "outlinewidth": 1,
              "tickcolor": "rgb(36,36,36)",
              "ticks": "outside"
             }
            },
            "type": "scattergl"
           }
          ],
          "scattermapbox": [
           {
            "marker": {
             "colorbar": {
              "outlinewidth": 1,
              "tickcolor": "rgb(36,36,36)",
              "ticks": "outside"
             }
            },
            "type": "scattermapbox"
           }
          ],
          "scatterpolar": [
           {
            "marker": {
             "colorbar": {
              "outlinewidth": 1,
              "tickcolor": "rgb(36,36,36)",
              "ticks": "outside"
             }
            },
            "type": "scatterpolar"
           }
          ],
          "scatterpolargl": [
           {
            "marker": {
             "colorbar": {
              "outlinewidth": 1,
              "tickcolor": "rgb(36,36,36)",
              "ticks": "outside"
             }
            },
            "type": "scatterpolargl"
           }
          ],
          "scatterternary": [
           {
            "marker": {
             "colorbar": {
              "outlinewidth": 1,
              "tickcolor": "rgb(36,36,36)",
              "ticks": "outside"
             }
            },
            "type": "scatterternary"
           }
          ],
          "surface": [
           {
            "colorbar": {
             "outlinewidth": 1,
             "tickcolor": "rgb(36,36,36)",
             "ticks": "outside"
            },
            "colorscale": [
             [
              0,
              "#440154"
             ],
             [
              0.1111111111111111,
              "#482878"
             ],
             [
              0.2222222222222222,
              "#3e4989"
             ],
             [
              0.3333333333333333,
              "#31688e"
             ],
             [
              0.4444444444444444,
              "#26828e"
             ],
             [
              0.5555555555555556,
              "#1f9e89"
             ],
             [
              0.6666666666666666,
              "#35b779"
             ],
             [
              0.7777777777777778,
              "#6ece58"
             ],
             [
              0.8888888888888888,
              "#b5de2b"
             ],
             [
              1,
              "#fde725"
             ]
            ],
            "type": "surface"
           }
          ],
          "table": [
           {
            "cells": {
             "fill": {
              "color": "rgb(237,237,237)"
             },
             "line": {
              "color": "white"
             }
            },
            "header": {
             "fill": {
              "color": "rgb(217,217,217)"
             },
             "line": {
              "color": "white"
             }
            },
            "type": "table"
           }
          ]
         },
         "layout": {
          "annotationdefaults": {
           "arrowhead": 0,
           "arrowwidth": 1
          },
          "autotypenumbers": "strict",
          "coloraxis": {
           "colorbar": {
            "outlinewidth": 1,
            "tickcolor": "rgb(36,36,36)",
            "ticks": "outside"
           }
          },
          "colorscale": {
           "diverging": [
            [
             0,
             "rgb(103,0,31)"
            ],
            [
             0.1,
             "rgb(178,24,43)"
            ],
            [
             0.2,
             "rgb(214,96,77)"
            ],
            [
             0.3,
             "rgb(244,165,130)"
            ],
            [
             0.4,
             "rgb(253,219,199)"
            ],
            [
             0.5,
             "rgb(247,247,247)"
            ],
            [
             0.6,
             "rgb(209,229,240)"
            ],
            [
             0.7,
             "rgb(146,197,222)"
            ],
            [
             0.8,
             "rgb(67,147,195)"
            ],
            [
             0.9,
             "rgb(33,102,172)"
            ],
            [
             1,
             "rgb(5,48,97)"
            ]
           ],
           "sequential": [
            [
             0,
             "#440154"
            ],
            [
             0.1111111111111111,
             "#482878"
            ],
            [
             0.2222222222222222,
             "#3e4989"
            ],
            [
             0.3333333333333333,
             "#31688e"
            ],
            [
             0.4444444444444444,
             "#26828e"
            ],
            [
             0.5555555555555556,
             "#1f9e89"
            ],
            [
             0.6666666666666666,
             "#35b779"
            ],
            [
             0.7777777777777778,
             "#6ece58"
            ],
            [
             0.8888888888888888,
             "#b5de2b"
            ],
            [
             1,
             "#fde725"
            ]
           ],
           "sequentialminus": [
            [
             0,
             "#440154"
            ],
            [
             0.1111111111111111,
             "#482878"
            ],
            [
             0.2222222222222222,
             "#3e4989"
            ],
            [
             0.3333333333333333,
             "#31688e"
            ],
            [
             0.4444444444444444,
             "#26828e"
            ],
            [
             0.5555555555555556,
             "#1f9e89"
            ],
            [
             0.6666666666666666,
             "#35b779"
            ],
            [
             0.7777777777777778,
             "#6ece58"
            ],
            [
             0.8888888888888888,
             "#b5de2b"
            ],
            [
             1,
             "#fde725"
            ]
           ]
          },
          "colorway": [
           "#1F77B4",
           "#FF7F0E",
           "#2CA02C",
           "#D62728",
           "#9467BD",
           "#8C564B",
           "#E377C2",
           "#7F7F7F",
           "#BCBD22",
           "#17BECF"
          ],
          "font": {
           "color": "rgb(36,36,36)"
          },
          "geo": {
           "bgcolor": "white",
           "lakecolor": "white",
           "landcolor": "white",
           "showlakes": true,
           "showland": true,
           "subunitcolor": "white"
          },
          "hoverlabel": {
           "align": "left"
          },
          "hovermode": "closest",
          "mapbox": {
           "style": "light"
          },
          "paper_bgcolor": "white",
          "plot_bgcolor": "white",
          "polar": {
           "angularaxis": {
            "gridcolor": "rgb(232,232,232)",
            "linecolor": "rgb(36,36,36)",
            "showgrid": false,
            "showline": true,
            "ticks": "outside"
           },
           "bgcolor": "white",
           "radialaxis": {
            "gridcolor": "rgb(232,232,232)",
            "linecolor": "rgb(36,36,36)",
            "showgrid": false,
            "showline": true,
            "ticks": "outside"
           }
          },
          "scene": {
           "xaxis": {
            "backgroundcolor": "white",
            "gridcolor": "rgb(232,232,232)",
            "gridwidth": 2,
            "linecolor": "rgb(36,36,36)",
            "showbackground": true,
            "showgrid": false,
            "showline": true,
            "ticks": "outside",
            "zeroline": false,
            "zerolinecolor": "rgb(36,36,36)"
           },
           "yaxis": {
            "backgroundcolor": "white",
            "gridcolor": "rgb(232,232,232)",
            "gridwidth": 2,
            "linecolor": "rgb(36,36,36)",
            "showbackground": true,
            "showgrid": false,
            "showline": true,
            "ticks": "outside",
            "zeroline": false,
            "zerolinecolor": "rgb(36,36,36)"
           },
           "zaxis": {
            "backgroundcolor": "white",
            "gridcolor": "rgb(232,232,232)",
            "gridwidth": 2,
            "linecolor": "rgb(36,36,36)",
            "showbackground": true,
            "showgrid": false,
            "showline": true,
            "ticks": "outside",
            "zeroline": false,
            "zerolinecolor": "rgb(36,36,36)"
           }
          },
          "shapedefaults": {
           "fillcolor": "black",
           "line": {
            "width": 0
           },
           "opacity": 0.3
          },
          "ternary": {
           "aaxis": {
            "gridcolor": "rgb(232,232,232)",
            "linecolor": "rgb(36,36,36)",
            "showgrid": false,
            "showline": true,
            "ticks": "outside"
           },
           "baxis": {
            "gridcolor": "rgb(232,232,232)",
            "linecolor": "rgb(36,36,36)",
            "showgrid": false,
            "showline": true,
            "ticks": "outside"
           },
           "bgcolor": "white",
           "caxis": {
            "gridcolor": "rgb(232,232,232)",
            "linecolor": "rgb(36,36,36)",
            "showgrid": false,
            "showline": true,
            "ticks": "outside"
           }
          },
          "title": {
           "x": 0.05
          },
          "xaxis": {
           "automargin": true,
           "gridcolor": "rgb(232,232,232)",
           "linecolor": "rgb(36,36,36)",
           "showgrid": false,
           "showline": true,
           "ticks": "outside",
           "title": {
            "standoff": 15
           },
           "zeroline": false,
           "zerolinecolor": "rgb(36,36,36)"
          },
          "yaxis": {
           "automargin": true,
           "gridcolor": "rgb(232,232,232)",
           "linecolor": "rgb(36,36,36)",
           "showgrid": false,
           "showline": true,
           "ticks": "outside",
           "title": {
            "standoff": 15
           },
           "zeroline": false,
           "zerolinecolor": "rgb(36,36,36)"
          }
         }
        },
        "title": {
         "text": "lgbm_dflt_random_125_mmf_pgnn_"
        },
        "width": 600,
        "xaxis": {
         "dtick": 2,
         "range": [
          -6.2,
          6.2
         ],
         "showgrid": false,
         "tick0": 0,
         "tickmode": "linear",
         "title": {
          "text": "ln(<i>d</i><sub>KP</sub>) (pm/V)"
         }
        },
        "yaxis": {
         "dtick": 2,
         "range": [
          -6.2,
          6.2
         ],
         "showgrid": false,
         "tick0": 0,
         "tickmode": "linear",
         "title": {
          "text": "ln(<i>d&#770;</i><sub>KP</sub>) (pm/V)"
         }
        }
       }
      }
     },
     "metadata": {},
     "output_type": "display_data"
    },
    {
     "data": {
      "application/vnd.plotly.v1+json": {
       "config": {
        "plotlyServerURL": "https://plot.ly"
       },
       "data": [
        {
         "mode": "markers",
         "name": "",
         "showlegend": false,
         "text": [
          "mp-11714",
          "mp-1180133",
          "mp-1225884",
          "mp-1196457",
          "mp-560894",
          "mp-1196282",
          "mp-1219328",
          "mp-1227124",
          "mp-1102285",
          "mp-1227389",
          "mp-1227110",
          "mp-1079676",
          "mp-1228342",
          "mp-17862",
          "mp-504952",
          "mp-1223849",
          "mp-1208039",
          "mp-625175",
          "agm003160552",
          "agm003202328",
          "agm002278924",
          "agm003202410",
          "mp-1227011",
          "agm002224865",
          "agm003157565",
          "agm002140778",
          "agm002041336",
          "agm003219193",
          "mp-1228160",
          "mp-1223489",
          "mp-1221169",
          "mp-4431",
          "mp-1105300",
          "mp-1103351",
          "mp-1029368",
          "mp-1029633",
          "agm002147818",
          "agm002153139",
          "mp-555202",
          "mp-1216976",
          "mp-626172",
          "agm002156258",
          "mp-772748",
          "mp-1223389",
          "mp-9427",
          "mp-1225916",
          "agm003237859",
          "mp-1221971",
          "agm002237807",
          "mp-1215642",
          "agm003213121",
          "agm002297812",
          "mp-29157",
          "mp-555915",
          "agm002138671",
          "agm002790067",
          "agm002205114",
          "agm002184995",
          "agm003235252",
          "agm003206267",
          "agm003705731",
          "agm2000126920",
          "agm2000137141",
          "agm005848675",
          "mp-2802611",
          "agm005056300",
          "agm004786326",
          "agm001234439",
          "agm002056302",
          "agm002137665",
          "mp-554918",
          "agm001375463",
          "agm005721583",
          "agm006020719",
          "agm003112540",
          "agm004787350",
          "agm002176403",
          "agm002161194",
          "agm2000136656",
          "mp-1208179",
          "agm002017294",
          "agm002041315",
          "agm003469328",
          "agm005072178",
          "agm005664742",
          "agm004773455",
          "agm005071058",
          "agm006047746",
          "agm005754384",
          "agm005748012"
         ],
         "type": "scatter",
         "x": [
          1.8640705135253752,
          1.6117304214168595,
          -1.850645270291186,
          -2.2274896889093165,
          -0.696089616034016,
          -3.882833663787394,
          0.9963979996100724,
          2.790030659323957,
          1.9858987831854715,
          3.6428908209397224,
          -4.692920184192641,
          0.34935301523658263,
          0.3231729545138501,
          3.502741045546834,
          2.6838822295557954,
          -2.3787863570552736,
          -0.03989242203594581,
          -1.2804277067714025,
          2.507903669532472,
          3.4877343549200677,
          5.1067363011827345,
          4.901091842048587,
          3.957572495507323,
          0.15077779951791634,
          -1.2825056451299668,
          1.3187090489912512,
          3.7546024892173433,
          -1.4450659395820022,
          -1.4209066269913853,
          -1.7967384501708528,
          2.3075919681926687,
          2.9764162815898874,
          3.28690872407927,
          0.8074179428193387,
          2.706316306471154,
          2.0075454817088243,
          -0.950327008457287,
          0.9305096508337292,
          -1.3996753119350664,
          2.537243145948521,
          -1.4994368982155892,
          -0.4009194821956806,
          -1.3032098743935028,
          3.2595451747209663,
          -0.554443488411422,
          0.1675766744469721,
          -1.0650621180496211,
          1.7699590867643369,
          4.620808307046488,
          1.2589677005652813,
          1.359985981463237,
          0.1357880158166226,
          4.363206663676072,
          -0.8720794454781192,
          1.6076098710058706,
          3.8433263345501425,
          4.161423854925523,
          5.119947149916917,
          -3.0486976774750096,
          2.955263511151345,
          1.904069829063425,
          -1.4925748617087051,
          2.1057574191623862,
          2.0172124795442072,
          -0.10724678152218822,
          2.023925095651449,
          2.6127497197709366,
          -0.18960256344954837,
          1.2279568365509097,
          -1.5250777904817183,
          0.9118789633700044,
          3.3884489406417044,
          2.2487349390343057,
          -0.8843652374073264,
          3.893549523381594,
          0.53849175685732,
          0.4245670695122952,
          2.2951224845999403,
          1.2008466644831577,
          -0.15750553108580967,
          2.8293623014760114,
          4.062859542466981,
          -1.1642253854125997,
          -1.0321892814124467,
          1.1614508596374045,
          1.562007195494622,
          0.3327943572530076,
          3.9272961494965513,
          0.3905723773908419,
          -0.8632123560720705
         ],
         "y": [
          1.9398701532968576,
          2.164265520817883,
          -0.5724823177058456,
          -0.8249350951144093,
          -0.7731826410958171,
          -1.4641583547435646,
          2.926529571876313,
          3.5264176611494285,
          1.5579435295999746,
          3.031799961824083,
          -1.8656951450162087,
          0.6418506096528447,
          0.7076652491650625,
          3.8925193353019263,
          3.810342035312371,
          -0.15999285997722346,
          0.09193162205042704,
          -1.0744832079666378,
          4.181609713182133,
          3.2425059888125953,
          4.122045709667667,
          4.077126129347994,
          3.511267656528831,
          2.071666589420266,
          -0.5561218728100717,
          0.5091728588436856,
          3.753802337299012,
          -1.0380594835699928,
          -1.6950302796369725,
          -1.3770084841448706,
          3.005631234304457,
          2.9196765095750683,
          3.3898750910507656,
          2.8333081600273764,
          2.4257006821273746,
          2.7622990722354244,
          -1.6256401426176266,
          0.5076113479690276,
          -0.11355335535243342,
          3.277862761823555,
          -2.179803857438086,
          -0.3120264840406255,
          -1.4619854643193606,
          3.0488223419222615,
          -0.46281183872506226,
          0.15876531898810095,
          -0.002830715929306269,
          2.2340768293268893,
          3.7480530180722,
          2.1845153655399017,
          1.952930621732717,
          0.043418030013687096,
          3.976697462888864,
          1.358877974971995,
          1.7680112158986112,
          3.6430580321122,
          4.143670681614144,
          4.0165349586015475,
          -1.0300763550607006,
          2.8264353206978092,
          1.5915187544217002,
          0.9003762673462138,
          3.222669230929427,
          3.367390626743652,
          -0.5424966929446147,
          2.0622279356575226,
          2.5450155212958383,
          2.5042799776777644,
          0.5893089513553805,
          -1.5158623957356856,
          0.05646438106876012,
          4.149350625375857,
          2.8402394753163094,
          -1.0944821528086544,
          3.9385138862128657,
          0.5825912284244685,
          0.1397388362387407,
          2.594536830894892,
          2.6105634696747595,
          -0.6026913633839756,
          3.1138587526721992,
          4.044072474086032,
          -1.4674461924246347,
          -1.6806667021221162,
          0.7553253583815345,
          1.0978637513432432,
          0.6185222985328912,
          3.954252266784704,
          0.5903239019050884,
          -0.29577020550554467
         ]
        },
        {
         "marker": {
          "color": "red"
         },
         "mode": "markers",
         "name": "",
         "showlegend": false,
         "text": [
          "mp-21892",
          "mp-8070",
          "mp-558491",
          "mp-632684",
          "mp-23329",
          "mp-555150",
          "mp-760755",
          "mp-6268",
          "mp-559057",
          "mp-1778",
          "mp-2176",
          "mp-22909",
          "mp-9844",
          "mp-9066",
          "mp-6126",
          "mp-632229",
          "mp-21521",
          "mp-1287",
          "mp-756044",
          "mp-754712",
          "mp-18168",
          "mp-505702",
          "mp-559065",
          "mp-559545",
          "mp-549720",
          "mp-561385",
          "mp-13666",
          "mp-14444",
          "mp-2469",
          "mp-31451",
          "mp-1023924",
          "mp-38011",
          "mp-8884",
          "mp-6980",
          "mp-4524"
         ],
         "type": "scatter",
         "x": [
          0.5129958888992996,
          -0.4855530271371922,
          -0.08740485527531697,
          -0.45681555937106766,
          2.1061629838671,
          0.513705495637027,
          -2.3134955345928385,
          1.8583162248321317,
          0.4882103609421548,
          -1.1396223245682315,
          4.656254645145144,
          0.9508715487860324,
          -0.05300287393081044,
          -1.1432595869803444,
          1.005487085967149,
          1.068043435793579,
          2.0183066815251465,
          -1.952218665850329,
          -1.266849364995467,
          0.15670083532845222,
          0.8790197681158867,
          0.44855102088749943,
          1.871489666744384,
          1.7522422636101158,
          3.0993804513799335,
          -0.35650021086904377,
          3.917254174536937,
          2.5896455390744313,
          2.8167502162864495,
          4.2071054438569275,
          0.9457357302382252,
          1.943455628463224,
          3.677733778199943,
          4.122043167902257,
          4.494287161104849
         ],
         "y": [
          1.70209768324374,
          -0.7785638031768575,
          -0.5891506244787709,
          -0.7065872426730777,
          1.8575136775490488,
          0.05857959762554965,
          -2.0497593771003473,
          1.402070022819131,
          1.0406367234332243,
          0.4108307270978641,
          4.3252456599305384,
          0.467709262781059,
          -0.0915887331270272,
          -0.3115624310024512,
          1.5562182203412849,
          0.6241470297089808,
          1.6538863529529797,
          3.112679177930808,
          0.3858170049869691,
          1.028982682697394,
          1.3515979275636962,
          1.819379482732431,
          2.1936999397800916,
          2.255241132728494,
          3.2961135853527206,
          0.7348315301698163,
          3.462687720741467,
          2.609732589707577,
          2.5545458134307326,
          4.297224497186341,
          2.764650421058343,
          0.7377700285892376,
          4.380569280400473,
          2.453932927799855,
          4.265296927365744
         ]
        },
        {
         "line": {
          "color": "gray",
          "dash": "dot"
         },
         "mode": "lines",
         "showlegend": false,
         "type": "scatter",
         "x": [
          -10,
          8
         ],
         "y": [
          -10,
          8
         ]
        }
       ],
       "layout": {
        "autosize": false,
        "font": {
         "size": 20
        },
        "height": 600,
        "template": {
         "data": {
          "bar": [
           {
            "error_x": {
             "color": "rgb(36,36,36)"
            },
            "error_y": {
             "color": "rgb(36,36,36)"
            },
            "marker": {
             "line": {
              "color": "white",
              "width": 0.5
             },
             "pattern": {
              "fillmode": "overlay",
              "size": 10,
              "solidity": 0.2
             }
            },
            "type": "bar"
           }
          ],
          "barpolar": [
           {
            "marker": {
             "line": {
              "color": "white",
              "width": 0.5
             },
             "pattern": {
              "fillmode": "overlay",
              "size": 10,
              "solidity": 0.2
             }
            },
            "type": "barpolar"
           }
          ],
          "carpet": [
           {
            "aaxis": {
             "endlinecolor": "rgb(36,36,36)",
             "gridcolor": "white",
             "linecolor": "white",
             "minorgridcolor": "white",
             "startlinecolor": "rgb(36,36,36)"
            },
            "baxis": {
             "endlinecolor": "rgb(36,36,36)",
             "gridcolor": "white",
             "linecolor": "white",
             "minorgridcolor": "white",
             "startlinecolor": "rgb(36,36,36)"
            },
            "type": "carpet"
           }
          ],
          "choropleth": [
           {
            "colorbar": {
             "outlinewidth": 1,
             "tickcolor": "rgb(36,36,36)",
             "ticks": "outside"
            },
            "type": "choropleth"
           }
          ],
          "contour": [
           {
            "colorbar": {
             "outlinewidth": 1,
             "tickcolor": "rgb(36,36,36)",
             "ticks": "outside"
            },
            "colorscale": [
             [
              0,
              "#440154"
             ],
             [
              0.1111111111111111,
              "#482878"
             ],
             [
              0.2222222222222222,
              "#3e4989"
             ],
             [
              0.3333333333333333,
              "#31688e"
             ],
             [
              0.4444444444444444,
              "#26828e"
             ],
             [
              0.5555555555555556,
              "#1f9e89"
             ],
             [
              0.6666666666666666,
              "#35b779"
             ],
             [
              0.7777777777777778,
              "#6ece58"
             ],
             [
              0.8888888888888888,
              "#b5de2b"
             ],
             [
              1,
              "#fde725"
             ]
            ],
            "type": "contour"
           }
          ],
          "contourcarpet": [
           {
            "colorbar": {
             "outlinewidth": 1,
             "tickcolor": "rgb(36,36,36)",
             "ticks": "outside"
            },
            "type": "contourcarpet"
           }
          ],
          "heatmap": [
           {
            "colorbar": {
             "outlinewidth": 1,
             "tickcolor": "rgb(36,36,36)",
             "ticks": "outside"
            },
            "colorscale": [
             [
              0,
              "#440154"
             ],
             [
              0.1111111111111111,
              "#482878"
             ],
             [
              0.2222222222222222,
              "#3e4989"
             ],
             [
              0.3333333333333333,
              "#31688e"
             ],
             [
              0.4444444444444444,
              "#26828e"
             ],
             [
              0.5555555555555556,
              "#1f9e89"
             ],
             [
              0.6666666666666666,
              "#35b779"
             ],
             [
              0.7777777777777778,
              "#6ece58"
             ],
             [
              0.8888888888888888,
              "#b5de2b"
             ],
             [
              1,
              "#fde725"
             ]
            ],
            "type": "heatmap"
           }
          ],
          "heatmapgl": [
           {
            "colorbar": {
             "outlinewidth": 1,
             "tickcolor": "rgb(36,36,36)",
             "ticks": "outside"
            },
            "colorscale": [
             [
              0,
              "#440154"
             ],
             [
              0.1111111111111111,
              "#482878"
             ],
             [
              0.2222222222222222,
              "#3e4989"
             ],
             [
              0.3333333333333333,
              "#31688e"
             ],
             [
              0.4444444444444444,
              "#26828e"
             ],
             [
              0.5555555555555556,
              "#1f9e89"
             ],
             [
              0.6666666666666666,
              "#35b779"
             ],
             [
              0.7777777777777778,
              "#6ece58"
             ],
             [
              0.8888888888888888,
              "#b5de2b"
             ],
             [
              1,
              "#fde725"
             ]
            ],
            "type": "heatmapgl"
           }
          ],
          "histogram": [
           {
            "marker": {
             "line": {
              "color": "white",
              "width": 0.6
             }
            },
            "type": "histogram"
           }
          ],
          "histogram2d": [
           {
            "colorbar": {
             "outlinewidth": 1,
             "tickcolor": "rgb(36,36,36)",
             "ticks": "outside"
            },
            "colorscale": [
             [
              0,
              "#440154"
             ],
             [
              0.1111111111111111,
              "#482878"
             ],
             [
              0.2222222222222222,
              "#3e4989"
             ],
             [
              0.3333333333333333,
              "#31688e"
             ],
             [
              0.4444444444444444,
              "#26828e"
             ],
             [
              0.5555555555555556,
              "#1f9e89"
             ],
             [
              0.6666666666666666,
              "#35b779"
             ],
             [
              0.7777777777777778,
              "#6ece58"
             ],
             [
              0.8888888888888888,
              "#b5de2b"
             ],
             [
              1,
              "#fde725"
             ]
            ],
            "type": "histogram2d"
           }
          ],
          "histogram2dcontour": [
           {
            "colorbar": {
             "outlinewidth": 1,
             "tickcolor": "rgb(36,36,36)",
             "ticks": "outside"
            },
            "colorscale": [
             [
              0,
              "#440154"
             ],
             [
              0.1111111111111111,
              "#482878"
             ],
             [
              0.2222222222222222,
              "#3e4989"
             ],
             [
              0.3333333333333333,
              "#31688e"
             ],
             [
              0.4444444444444444,
              "#26828e"
             ],
             [
              0.5555555555555556,
              "#1f9e89"
             ],
             [
              0.6666666666666666,
              "#35b779"
             ],
             [
              0.7777777777777778,
              "#6ece58"
             ],
             [
              0.8888888888888888,
              "#b5de2b"
             ],
             [
              1,
              "#fde725"
             ]
            ],
            "type": "histogram2dcontour"
           }
          ],
          "mesh3d": [
           {
            "colorbar": {
             "outlinewidth": 1,
             "tickcolor": "rgb(36,36,36)",
             "ticks": "outside"
            },
            "type": "mesh3d"
           }
          ],
          "parcoords": [
           {
            "line": {
             "colorbar": {
              "outlinewidth": 1,
              "tickcolor": "rgb(36,36,36)",
              "ticks": "outside"
             }
            },
            "type": "parcoords"
           }
          ],
          "pie": [
           {
            "automargin": true,
            "type": "pie"
           }
          ],
          "scatter": [
           {
            "fillpattern": {
             "fillmode": "overlay",
             "size": 10,
             "solidity": 0.2
            },
            "type": "scatter"
           }
          ],
          "scatter3d": [
           {
            "line": {
             "colorbar": {
              "outlinewidth": 1,
              "tickcolor": "rgb(36,36,36)",
              "ticks": "outside"
             }
            },
            "marker": {
             "colorbar": {
              "outlinewidth": 1,
              "tickcolor": "rgb(36,36,36)",
              "ticks": "outside"
             }
            },
            "type": "scatter3d"
           }
          ],
          "scattercarpet": [
           {
            "marker": {
             "colorbar": {
              "outlinewidth": 1,
              "tickcolor": "rgb(36,36,36)",
              "ticks": "outside"
             }
            },
            "type": "scattercarpet"
           }
          ],
          "scattergeo": [
           {
            "marker": {
             "colorbar": {
              "outlinewidth": 1,
              "tickcolor": "rgb(36,36,36)",
              "ticks": "outside"
             }
            },
            "type": "scattergeo"
           }
          ],
          "scattergl": [
           {
            "marker": {
             "colorbar": {
              "outlinewidth": 1,
              "tickcolor": "rgb(36,36,36)",
              "ticks": "outside"
             }
            },
            "type": "scattergl"
           }
          ],
          "scattermapbox": [
           {
            "marker": {
             "colorbar": {
              "outlinewidth": 1,
              "tickcolor": "rgb(36,36,36)",
              "ticks": "outside"
             }
            },
            "type": "scattermapbox"
           }
          ],
          "scatterpolar": [
           {
            "marker": {
             "colorbar": {
              "outlinewidth": 1,
              "tickcolor": "rgb(36,36,36)",
              "ticks": "outside"
             }
            },
            "type": "scatterpolar"
           }
          ],
          "scatterpolargl": [
           {
            "marker": {
             "colorbar": {
              "outlinewidth": 1,
              "tickcolor": "rgb(36,36,36)",
              "ticks": "outside"
             }
            },
            "type": "scatterpolargl"
           }
          ],
          "scatterternary": [
           {
            "marker": {
             "colorbar": {
              "outlinewidth": 1,
              "tickcolor": "rgb(36,36,36)",
              "ticks": "outside"
             }
            },
            "type": "scatterternary"
           }
          ],
          "surface": [
           {
            "colorbar": {
             "outlinewidth": 1,
             "tickcolor": "rgb(36,36,36)",
             "ticks": "outside"
            },
            "colorscale": [
             [
              0,
              "#440154"
             ],
             [
              0.1111111111111111,
              "#482878"
             ],
             [
              0.2222222222222222,
              "#3e4989"
             ],
             [
              0.3333333333333333,
              "#31688e"
             ],
             [
              0.4444444444444444,
              "#26828e"
             ],
             [
              0.5555555555555556,
              "#1f9e89"
             ],
             [
              0.6666666666666666,
              "#35b779"
             ],
             [
              0.7777777777777778,
              "#6ece58"
             ],
             [
              0.8888888888888888,
              "#b5de2b"
             ],
             [
              1,
              "#fde725"
             ]
            ],
            "type": "surface"
           }
          ],
          "table": [
           {
            "cells": {
             "fill": {
              "color": "rgb(237,237,237)"
             },
             "line": {
              "color": "white"
             }
            },
            "header": {
             "fill": {
              "color": "rgb(217,217,217)"
             },
             "line": {
              "color": "white"
             }
            },
            "type": "table"
           }
          ]
         },
         "layout": {
          "annotationdefaults": {
           "arrowhead": 0,
           "arrowwidth": 1
          },
          "autotypenumbers": "strict",
          "coloraxis": {
           "colorbar": {
            "outlinewidth": 1,
            "tickcolor": "rgb(36,36,36)",
            "ticks": "outside"
           }
          },
          "colorscale": {
           "diverging": [
            [
             0,
             "rgb(103,0,31)"
            ],
            [
             0.1,
             "rgb(178,24,43)"
            ],
            [
             0.2,
             "rgb(214,96,77)"
            ],
            [
             0.3,
             "rgb(244,165,130)"
            ],
            [
             0.4,
             "rgb(253,219,199)"
            ],
            [
             0.5,
             "rgb(247,247,247)"
            ],
            [
             0.6,
             "rgb(209,229,240)"
            ],
            [
             0.7,
             "rgb(146,197,222)"
            ],
            [
             0.8,
             "rgb(67,147,195)"
            ],
            [
             0.9,
             "rgb(33,102,172)"
            ],
            [
             1,
             "rgb(5,48,97)"
            ]
           ],
           "sequential": [
            [
             0,
             "#440154"
            ],
            [
             0.1111111111111111,
             "#482878"
            ],
            [
             0.2222222222222222,
             "#3e4989"
            ],
            [
             0.3333333333333333,
             "#31688e"
            ],
            [
             0.4444444444444444,
             "#26828e"
            ],
            [
             0.5555555555555556,
             "#1f9e89"
            ],
            [
             0.6666666666666666,
             "#35b779"
            ],
            [
             0.7777777777777778,
             "#6ece58"
            ],
            [
             0.8888888888888888,
             "#b5de2b"
            ],
            [
             1,
             "#fde725"
            ]
           ],
           "sequentialminus": [
            [
             0,
             "#440154"
            ],
            [
             0.1111111111111111,
             "#482878"
            ],
            [
             0.2222222222222222,
             "#3e4989"
            ],
            [
             0.3333333333333333,
             "#31688e"
            ],
            [
             0.4444444444444444,
             "#26828e"
            ],
            [
             0.5555555555555556,
             "#1f9e89"
            ],
            [
             0.6666666666666666,
             "#35b779"
            ],
            [
             0.7777777777777778,
             "#6ece58"
            ],
            [
             0.8888888888888888,
             "#b5de2b"
            ],
            [
             1,
             "#fde725"
            ]
           ]
          },
          "colorway": [
           "#1F77B4",
           "#FF7F0E",
           "#2CA02C",
           "#D62728",
           "#9467BD",
           "#8C564B",
           "#E377C2",
           "#7F7F7F",
           "#BCBD22",
           "#17BECF"
          ],
          "font": {
           "color": "rgb(36,36,36)"
          },
          "geo": {
           "bgcolor": "white",
           "lakecolor": "white",
           "landcolor": "white",
           "showlakes": true,
           "showland": true,
           "subunitcolor": "white"
          },
          "hoverlabel": {
           "align": "left"
          },
          "hovermode": "closest",
          "mapbox": {
           "style": "light"
          },
          "paper_bgcolor": "white",
          "plot_bgcolor": "white",
          "polar": {
           "angularaxis": {
            "gridcolor": "rgb(232,232,232)",
            "linecolor": "rgb(36,36,36)",
            "showgrid": false,
            "showline": true,
            "ticks": "outside"
           },
           "bgcolor": "white",
           "radialaxis": {
            "gridcolor": "rgb(232,232,232)",
            "linecolor": "rgb(36,36,36)",
            "showgrid": false,
            "showline": true,
            "ticks": "outside"
           }
          },
          "scene": {
           "xaxis": {
            "backgroundcolor": "white",
            "gridcolor": "rgb(232,232,232)",
            "gridwidth": 2,
            "linecolor": "rgb(36,36,36)",
            "showbackground": true,
            "showgrid": false,
            "showline": true,
            "ticks": "outside",
            "zeroline": false,
            "zerolinecolor": "rgb(36,36,36)"
           },
           "yaxis": {
            "backgroundcolor": "white",
            "gridcolor": "rgb(232,232,232)",
            "gridwidth": 2,
            "linecolor": "rgb(36,36,36)",
            "showbackground": true,
            "showgrid": false,
            "showline": true,
            "ticks": "outside",
            "zeroline": false,
            "zerolinecolor": "rgb(36,36,36)"
           },
           "zaxis": {
            "backgroundcolor": "white",
            "gridcolor": "rgb(232,232,232)",
            "gridwidth": 2,
            "linecolor": "rgb(36,36,36)",
            "showbackground": true,
            "showgrid": false,
            "showline": true,
            "ticks": "outside",
            "zeroline": false,
            "zerolinecolor": "rgb(36,36,36)"
           }
          },
          "shapedefaults": {
           "fillcolor": "black",
           "line": {
            "width": 0
           },
           "opacity": 0.3
          },
          "ternary": {
           "aaxis": {
            "gridcolor": "rgb(232,232,232)",
            "linecolor": "rgb(36,36,36)",
            "showgrid": false,
            "showline": true,
            "ticks": "outside"
           },
           "baxis": {
            "gridcolor": "rgb(232,232,232)",
            "linecolor": "rgb(36,36,36)",
            "showgrid": false,
            "showline": true,
            "ticks": "outside"
           },
           "bgcolor": "white",
           "caxis": {
            "gridcolor": "rgb(232,232,232)",
            "linecolor": "rgb(36,36,36)",
            "showgrid": false,
            "showline": true,
            "ticks": "outside"
           }
          },
          "title": {
           "x": 0.05
          },
          "xaxis": {
           "automargin": true,
           "gridcolor": "rgb(232,232,232)",
           "linecolor": "rgb(36,36,36)",
           "showgrid": false,
           "showline": true,
           "ticks": "outside",
           "title": {
            "standoff": 15
           },
           "zeroline": false,
           "zerolinecolor": "rgb(36,36,36)"
          },
          "yaxis": {
           "automargin": true,
           "gridcolor": "rgb(232,232,232)",
           "linecolor": "rgb(36,36,36)",
           "showgrid": false,
           "showline": true,
           "ticks": "outside",
           "title": {
            "standoff": 15
           },
           "zeroline": false,
           "zerolinecolor": "rgb(36,36,36)"
          }
         }
        },
        "title": {
         "text": "et_dflt_random_125_mmf_pgnn_"
        },
        "width": 600,
        "xaxis": {
         "dtick": 2,
         "range": [
          -6.2,
          6.2
         ],
         "showgrid": false,
         "tick0": 0,
         "tickmode": "linear",
         "title": {
          "text": "ln(<i>d</i><sub>KP</sub>) (pm/V)"
         }
        },
        "yaxis": {
         "dtick": 2,
         "range": [
          -6.2,
          6.2
         ],
         "showgrid": false,
         "tick0": 0,
         "tickmode": "linear",
         "title": {
          "text": "ln(<i>d&#770;</i><sub>KP</sub>) (pm/V)"
         }
        }
       }
      }
     },
     "metadata": {},
     "output_type": "display_data"
    },
    {
     "data": {
      "application/vnd.plotly.v1+json": {
       "config": {
        "plotlyServerURL": "https://plot.ly"
       },
       "data": [
        {
         "mode": "markers",
         "name": "",
         "showlegend": false,
         "text": [
          "mp-11714",
          "mp-1180133",
          "mp-1225884",
          "mp-1196457",
          "mp-560894",
          "mp-1196282",
          "mp-1219328",
          "mp-1227124",
          "mp-1102285",
          "mp-1227389",
          "mp-1227110",
          "mp-1079676",
          "mp-1228342",
          "mp-17862",
          "mp-504952",
          "mp-1223849",
          "mp-1208039",
          "mp-625175",
          "agm003160552",
          "agm003202328",
          "agm002278924",
          "agm003202410",
          "mp-1227011",
          "agm002224865",
          "agm003157565",
          "agm002140778",
          "agm002041336",
          "agm003219193",
          "mp-1228160",
          "mp-1223489",
          "mp-1221169",
          "mp-4431",
          "mp-1105300",
          "mp-1103351",
          "mp-1029368",
          "mp-1029633",
          "agm002147818",
          "agm002153139",
          "mp-555202",
          "mp-1216976",
          "mp-626172",
          "agm002156258",
          "mp-772748",
          "mp-1223389",
          "mp-9427",
          "mp-1225916",
          "agm003237859",
          "mp-1221971",
          "agm002237807",
          "mp-1215642",
          "agm003213121",
          "agm002297812",
          "mp-29157",
          "mp-555915",
          "agm002138671",
          "agm002790067",
          "agm002205114",
          "agm002184995",
          "agm003235252",
          "agm003206267",
          "agm003705731",
          "agm2000126920",
          "agm2000137141",
          "agm005848675",
          "mp-2802611",
          "agm005056300",
          "agm004786326",
          "agm001234439",
          "agm002056302",
          "agm002137665",
          "mp-554918",
          "agm001375463",
          "agm005721583",
          "agm006020719",
          "agm003112540",
          "agm004787350",
          "agm002176403",
          "agm002161194",
          "agm2000136656",
          "mp-1208179",
          "agm002017294",
          "agm002041315",
          "agm003469328",
          "agm005072178",
          "agm005664742",
          "agm004773455",
          "agm005071058",
          "agm006047746",
          "agm005754384",
          "agm005748012"
         ],
         "type": "scatter",
         "x": [
          1.8640705135253752,
          1.6117304214168595,
          -1.850645270291186,
          -2.2274896889093165,
          -0.696089616034016,
          -3.882833663787394,
          0.9963979996100724,
          2.790030659323957,
          1.9858987831854715,
          3.6428908209397224,
          -4.692920184192641,
          0.34935301523658263,
          0.3231729545138501,
          3.502741045546834,
          2.6838822295557954,
          -2.3787863570552736,
          -0.03989242203594581,
          -1.2804277067714025,
          2.507903669532472,
          3.4877343549200677,
          5.1067363011827345,
          4.901091842048587,
          3.957572495507323,
          0.15077779951791634,
          -1.2825056451299668,
          1.3187090489912512,
          3.7546024892173433,
          -1.4450659395820022,
          -1.4209066269913853,
          -1.7967384501708528,
          2.3075919681926687,
          2.9764162815898874,
          3.28690872407927,
          0.8074179428193387,
          2.706316306471154,
          2.0075454817088243,
          -0.950327008457287,
          0.9305096508337292,
          -1.3996753119350664,
          2.537243145948521,
          -1.4994368982155892,
          -0.4009194821956806,
          -1.3032098743935028,
          3.2595451747209663,
          -0.554443488411422,
          0.1675766744469721,
          -1.0650621180496211,
          1.7699590867643369,
          4.620808307046488,
          1.2589677005652813,
          1.359985981463237,
          0.1357880158166226,
          4.363206663676072,
          -0.8720794454781192,
          1.6076098710058706,
          3.8433263345501425,
          4.161423854925523,
          5.119947149916917,
          -3.0486976774750096,
          2.955263511151345,
          1.904069829063425,
          -1.4925748617087051,
          2.1057574191623862,
          2.0172124795442072,
          -0.10724678152218822,
          2.023925095651449,
          2.6127497197709366,
          -0.18960256344954837,
          1.2279568365509097,
          -1.5250777904817183,
          0.9118789633700044,
          3.3884489406417044,
          2.2487349390343057,
          -0.8843652374073264,
          3.893549523381594,
          0.53849175685732,
          0.4245670695122952,
          2.2951224845999403,
          1.2008466644831577,
          -0.15750553108580967,
          2.8293623014760114,
          4.062859542466981,
          -1.1642253854125997,
          -1.0321892814124467,
          1.1614508596374045,
          1.562007195494622,
          0.3327943572530076,
          3.9272961494965513,
          0.3905723773908419,
          -0.8632123560720705
         ],
         "y": [
          1.9032317033105963,
          1.521956419575129,
          -1.259110881835526,
          -1.0037475956584714,
          -1.5682405744693566,
          -1.8225801809265711,
          2.2795136707521504,
          2.854923598051335,
          1.8144020011343505,
          1.9973379774029312,
          -1.3370826709310586,
          -1.853982576844698,
          -0.28047109711724594,
          3.922335402582674,
          3.8156167432724137,
          -0.3131563278654725,
          0.10242643257538482,
          -1.3921760059212878,
          3.849333603693166,
          2.9475601472721458,
          4.783661326495712,
          2.8747103749344776,
          3.933606258072544,
          0.9083314366973188,
          -1.4080379816812425,
          0.2360508441993876,
          3.6006187813432287,
          -1.448212189026744,
          -1.054277365801047,
          -1.2658045437336536,
          2.518432192365593,
          2.918260130758323,
          3.2670542151443347,
          2.4990341723850236,
          1.8227907248044513,
          1.6639098815109066,
          -1.8390417525790372,
          0.3675226265883165,
          -0.6642059388343989,
          3.1690661897988432,
          -1.723406646469332,
          -1.3439654383165864,
          -1.5609404527426085,
          2.8630009932319123,
          -0.8654683020850878,
          0.020529871372411097,
          -1.7480555269278342,
          2.078229402535507,
          3.5769129997286258,
          1.5460828744604873,
          1.361719006342568,
          0.06973901804324176,
          3.991614068344592,
          0.4508170794583232,
          1.174558140522547,
          3.768157022341171,
          3.737139234734955,
          3.918894863108105,
          -1.0746333488513,
          2.685054443314456,
          1.7525352974099384,
          -0.09116742262531737,
          3.1640611141125223,
          3.0096741488206153,
          -0.4850055046079505,
          1.8313842294048657,
          2.5022103792858106,
          1.4821436767159042,
          0.4291939057564341,
          -1.6415484879485065,
          0.05182964597247893,
          3.665859657380226,
          2.0333546444704753,
          -1.3367262786586498,
          4.035406580373143,
          0.7045668272738272,
          0.15840512005922378,
          2.6754713426918717,
          2.105139286891601,
          -0.4617978337059474,
          2.786699985419884,
          4.02598765735414,
          -1.741112829031409,
          -1.7823545610037854,
          1.3492135381640518,
          0.8705778982130679,
          0.09753239262103736,
          3.7423280312885576,
          0.352936343762373,
          -1.1278607508626728
         ]
        },
        {
         "marker": {
          "color": "red"
         },
         "mode": "markers",
         "name": "",
         "showlegend": false,
         "text": [
          "mp-21892",
          "mp-8070",
          "mp-558491",
          "mp-632684",
          "mp-23329",
          "mp-555150",
          "mp-760755",
          "mp-6268",
          "mp-559057",
          "mp-1778",
          "mp-2176",
          "mp-22909",
          "mp-9844",
          "mp-9066",
          "mp-6126",
          "mp-632229",
          "mp-21521",
          "mp-1287",
          "mp-756044",
          "mp-754712",
          "mp-18168",
          "mp-505702",
          "mp-559065",
          "mp-559545",
          "mp-549720",
          "mp-561385",
          "mp-13666",
          "mp-14444",
          "mp-2469",
          "mp-31451",
          "mp-1023924",
          "mp-38011",
          "mp-8884",
          "mp-6980",
          "mp-4524"
         ],
         "type": "scatter",
         "x": [
          0.5129958888992996,
          -0.4855530271371922,
          -0.08740485527531697,
          -0.45681555937106766,
          2.1061629838671,
          0.513705495637027,
          -2.3134955345928385,
          1.8583162248321317,
          0.4882103609421548,
          -1.1396223245682315,
          4.656254645145144,
          0.9508715487860324,
          -0.05300287393081044,
          -1.1432595869803444,
          1.005487085967149,
          1.068043435793579,
          2.0183066815251465,
          -1.952218665850329,
          -1.266849364995467,
          0.15670083532845222,
          0.8790197681158867,
          0.44855102088749943,
          1.871489666744384,
          1.7522422636101158,
          3.0993804513799335,
          -0.35650021086904377,
          3.917254174536937,
          2.5896455390744313,
          2.8167502162864495,
          4.2071054438569275,
          0.9457357302382252,
          1.943455628463224,
          3.677733778199943,
          4.122043167902257,
          4.494287161104849
         ],
         "y": [
          0.12507488211099793,
          -1.251590249559728,
          -0.4899457449534431,
          -0.5849106010178079,
          1.598483065115311,
          0.03761097312254635,
          -1.2331477230331227,
          -0.3070295764340966,
          0.8768230705070641,
          -1.0212734519487978,
          4.36196445793533,
          -0.06408003606829941,
          -0.2181694775781748,
          -0.7721882323304164,
          0.6067235926789267,
          0.565284949148338,
          0.95454461227447,
          1.2026665144126407,
          -0.7563688455411832,
          -0.053172366630355745,
          0.9719080078703952,
          0.5779777652068714,
          2.2728517712447673,
          1.475842539840191,
          2.9944606944131875,
          -0.256342454937684,
          3.1618573781826456,
          2.543299503899681,
          2.7359890875443553,
          4.464584376037429,
          1.7971654359647533,
          0.4409771618928136,
          4.499071126596495,
          1.88935980218136,
          4.515876932817755
         ]
        },
        {
         "line": {
          "color": "gray",
          "dash": "dot"
         },
         "mode": "lines",
         "showlegend": false,
         "type": "scatter",
         "x": [
          -10,
          8
         ],
         "y": [
          -10,
          8
         ]
        }
       ],
       "layout": {
        "autosize": false,
        "font": {
         "size": 20
        },
        "height": 600,
        "template": {
         "data": {
          "bar": [
           {
            "error_x": {
             "color": "rgb(36,36,36)"
            },
            "error_y": {
             "color": "rgb(36,36,36)"
            },
            "marker": {
             "line": {
              "color": "white",
              "width": 0.5
             },
             "pattern": {
              "fillmode": "overlay",
              "size": 10,
              "solidity": 0.2
             }
            },
            "type": "bar"
           }
          ],
          "barpolar": [
           {
            "marker": {
             "line": {
              "color": "white",
              "width": 0.5
             },
             "pattern": {
              "fillmode": "overlay",
              "size": 10,
              "solidity": 0.2
             }
            },
            "type": "barpolar"
           }
          ],
          "carpet": [
           {
            "aaxis": {
             "endlinecolor": "rgb(36,36,36)",
             "gridcolor": "white",
             "linecolor": "white",
             "minorgridcolor": "white",
             "startlinecolor": "rgb(36,36,36)"
            },
            "baxis": {
             "endlinecolor": "rgb(36,36,36)",
             "gridcolor": "white",
             "linecolor": "white",
             "minorgridcolor": "white",
             "startlinecolor": "rgb(36,36,36)"
            },
            "type": "carpet"
           }
          ],
          "choropleth": [
           {
            "colorbar": {
             "outlinewidth": 1,
             "tickcolor": "rgb(36,36,36)",
             "ticks": "outside"
            },
            "type": "choropleth"
           }
          ],
          "contour": [
           {
            "colorbar": {
             "outlinewidth": 1,
             "tickcolor": "rgb(36,36,36)",
             "ticks": "outside"
            },
            "colorscale": [
             [
              0,
              "#440154"
             ],
             [
              0.1111111111111111,
              "#482878"
             ],
             [
              0.2222222222222222,
              "#3e4989"
             ],
             [
              0.3333333333333333,
              "#31688e"
             ],
             [
              0.4444444444444444,
              "#26828e"
             ],
             [
              0.5555555555555556,
              "#1f9e89"
             ],
             [
              0.6666666666666666,
              "#35b779"
             ],
             [
              0.7777777777777778,
              "#6ece58"
             ],
             [
              0.8888888888888888,
              "#b5de2b"
             ],
             [
              1,
              "#fde725"
             ]
            ],
            "type": "contour"
           }
          ],
          "contourcarpet": [
           {
            "colorbar": {
             "outlinewidth": 1,
             "tickcolor": "rgb(36,36,36)",
             "ticks": "outside"
            },
            "type": "contourcarpet"
           }
          ],
          "heatmap": [
           {
            "colorbar": {
             "outlinewidth": 1,
             "tickcolor": "rgb(36,36,36)",
             "ticks": "outside"
            },
            "colorscale": [
             [
              0,
              "#440154"
             ],
             [
              0.1111111111111111,
              "#482878"
             ],
             [
              0.2222222222222222,
              "#3e4989"
             ],
             [
              0.3333333333333333,
              "#31688e"
             ],
             [
              0.4444444444444444,
              "#26828e"
             ],
             [
              0.5555555555555556,
              "#1f9e89"
             ],
             [
              0.6666666666666666,
              "#35b779"
             ],
             [
              0.7777777777777778,
              "#6ece58"
             ],
             [
              0.8888888888888888,
              "#b5de2b"
             ],
             [
              1,
              "#fde725"
             ]
            ],
            "type": "heatmap"
           }
          ],
          "heatmapgl": [
           {
            "colorbar": {
             "outlinewidth": 1,
             "tickcolor": "rgb(36,36,36)",
             "ticks": "outside"
            },
            "colorscale": [
             [
              0,
              "#440154"
             ],
             [
              0.1111111111111111,
              "#482878"
             ],
             [
              0.2222222222222222,
              "#3e4989"
             ],
             [
              0.3333333333333333,
              "#31688e"
             ],
             [
              0.4444444444444444,
              "#26828e"
             ],
             [
              0.5555555555555556,
              "#1f9e89"
             ],
             [
              0.6666666666666666,
              "#35b779"
             ],
             [
              0.7777777777777778,
              "#6ece58"
             ],
             [
              0.8888888888888888,
              "#b5de2b"
             ],
             [
              1,
              "#fde725"
             ]
            ],
            "type": "heatmapgl"
           }
          ],
          "histogram": [
           {
            "marker": {
             "line": {
              "color": "white",
              "width": 0.6
             }
            },
            "type": "histogram"
           }
          ],
          "histogram2d": [
           {
            "colorbar": {
             "outlinewidth": 1,
             "tickcolor": "rgb(36,36,36)",
             "ticks": "outside"
            },
            "colorscale": [
             [
              0,
              "#440154"
             ],
             [
              0.1111111111111111,
              "#482878"
             ],
             [
              0.2222222222222222,
              "#3e4989"
             ],
             [
              0.3333333333333333,
              "#31688e"
             ],
             [
              0.4444444444444444,
              "#26828e"
             ],
             [
              0.5555555555555556,
              "#1f9e89"
             ],
             [
              0.6666666666666666,
              "#35b779"
             ],
             [
              0.7777777777777778,
              "#6ece58"
             ],
             [
              0.8888888888888888,
              "#b5de2b"
             ],
             [
              1,
              "#fde725"
             ]
            ],
            "type": "histogram2d"
           }
          ],
          "histogram2dcontour": [
           {
            "colorbar": {
             "outlinewidth": 1,
             "tickcolor": "rgb(36,36,36)",
             "ticks": "outside"
            },
            "colorscale": [
             [
              0,
              "#440154"
             ],
             [
              0.1111111111111111,
              "#482878"
             ],
             [
              0.2222222222222222,
              "#3e4989"
             ],
             [
              0.3333333333333333,
              "#31688e"
             ],
             [
              0.4444444444444444,
              "#26828e"
             ],
             [
              0.5555555555555556,
              "#1f9e89"
             ],
             [
              0.6666666666666666,
              "#35b779"
             ],
             [
              0.7777777777777778,
              "#6ece58"
             ],
             [
              0.8888888888888888,
              "#b5de2b"
             ],
             [
              1,
              "#fde725"
             ]
            ],
            "type": "histogram2dcontour"
           }
          ],
          "mesh3d": [
           {
            "colorbar": {
             "outlinewidth": 1,
             "tickcolor": "rgb(36,36,36)",
             "ticks": "outside"
            },
            "type": "mesh3d"
           }
          ],
          "parcoords": [
           {
            "line": {
             "colorbar": {
              "outlinewidth": 1,
              "tickcolor": "rgb(36,36,36)",
              "ticks": "outside"
             }
            },
            "type": "parcoords"
           }
          ],
          "pie": [
           {
            "automargin": true,
            "type": "pie"
           }
          ],
          "scatter": [
           {
            "fillpattern": {
             "fillmode": "overlay",
             "size": 10,
             "solidity": 0.2
            },
            "type": "scatter"
           }
          ],
          "scatter3d": [
           {
            "line": {
             "colorbar": {
              "outlinewidth": 1,
              "tickcolor": "rgb(36,36,36)",
              "ticks": "outside"
             }
            },
            "marker": {
             "colorbar": {
              "outlinewidth": 1,
              "tickcolor": "rgb(36,36,36)",
              "ticks": "outside"
             }
            },
            "type": "scatter3d"
           }
          ],
          "scattercarpet": [
           {
            "marker": {
             "colorbar": {
              "outlinewidth": 1,
              "tickcolor": "rgb(36,36,36)",
              "ticks": "outside"
             }
            },
            "type": "scattercarpet"
           }
          ],
          "scattergeo": [
           {
            "marker": {
             "colorbar": {
              "outlinewidth": 1,
              "tickcolor": "rgb(36,36,36)",
              "ticks": "outside"
             }
            },
            "type": "scattergeo"
           }
          ],
          "scattergl": [
           {
            "marker": {
             "colorbar": {
              "outlinewidth": 1,
              "tickcolor": "rgb(36,36,36)",
              "ticks": "outside"
             }
            },
            "type": "scattergl"
           }
          ],
          "scattermapbox": [
           {
            "marker": {
             "colorbar": {
              "outlinewidth": 1,
              "tickcolor": "rgb(36,36,36)",
              "ticks": "outside"
             }
            },
            "type": "scattermapbox"
           }
          ],
          "scatterpolar": [
           {
            "marker": {
             "colorbar": {
              "outlinewidth": 1,
              "tickcolor": "rgb(36,36,36)",
              "ticks": "outside"
             }
            },
            "type": "scatterpolar"
           }
          ],
          "scatterpolargl": [
           {
            "marker": {
             "colorbar": {
              "outlinewidth": 1,
              "tickcolor": "rgb(36,36,36)",
              "ticks": "outside"
             }
            },
            "type": "scatterpolargl"
           }
          ],
          "scatterternary": [
           {
            "marker": {
             "colorbar": {
              "outlinewidth": 1,
              "tickcolor": "rgb(36,36,36)",
              "ticks": "outside"
             }
            },
            "type": "scatterternary"
           }
          ],
          "surface": [
           {
            "colorbar": {
             "outlinewidth": 1,
             "tickcolor": "rgb(36,36,36)",
             "ticks": "outside"
            },
            "colorscale": [
             [
              0,
              "#440154"
             ],
             [
              0.1111111111111111,
              "#482878"
             ],
             [
              0.2222222222222222,
              "#3e4989"
             ],
             [
              0.3333333333333333,
              "#31688e"
             ],
             [
              0.4444444444444444,
              "#26828e"
             ],
             [
              0.5555555555555556,
              "#1f9e89"
             ],
             [
              0.6666666666666666,
              "#35b779"
             ],
             [
              0.7777777777777778,
              "#6ece58"
             ],
             [
              0.8888888888888888,
              "#b5de2b"
             ],
             [
              1,
              "#fde725"
             ]
            ],
            "type": "surface"
           }
          ],
          "table": [
           {
            "cells": {
             "fill": {
              "color": "rgb(237,237,237)"
             },
             "line": {
              "color": "white"
             }
            },
            "header": {
             "fill": {
              "color": "rgb(217,217,217)"
             },
             "line": {
              "color": "white"
             }
            },
            "type": "table"
           }
          ]
         },
         "layout": {
          "annotationdefaults": {
           "arrowhead": 0,
           "arrowwidth": 1
          },
          "autotypenumbers": "strict",
          "coloraxis": {
           "colorbar": {
            "outlinewidth": 1,
            "tickcolor": "rgb(36,36,36)",
            "ticks": "outside"
           }
          },
          "colorscale": {
           "diverging": [
            [
             0,
             "rgb(103,0,31)"
            ],
            [
             0.1,
             "rgb(178,24,43)"
            ],
            [
             0.2,
             "rgb(214,96,77)"
            ],
            [
             0.3,
             "rgb(244,165,130)"
            ],
            [
             0.4,
             "rgb(253,219,199)"
            ],
            [
             0.5,
             "rgb(247,247,247)"
            ],
            [
             0.6,
             "rgb(209,229,240)"
            ],
            [
             0.7,
             "rgb(146,197,222)"
            ],
            [
             0.8,
             "rgb(67,147,195)"
            ],
            [
             0.9,
             "rgb(33,102,172)"
            ],
            [
             1,
             "rgb(5,48,97)"
            ]
           ],
           "sequential": [
            [
             0,
             "#440154"
            ],
            [
             0.1111111111111111,
             "#482878"
            ],
            [
             0.2222222222222222,
             "#3e4989"
            ],
            [
             0.3333333333333333,
             "#31688e"
            ],
            [
             0.4444444444444444,
             "#26828e"
            ],
            [
             0.5555555555555556,
             "#1f9e89"
            ],
            [
             0.6666666666666666,
             "#35b779"
            ],
            [
             0.7777777777777778,
             "#6ece58"
            ],
            [
             0.8888888888888888,
             "#b5de2b"
            ],
            [
             1,
             "#fde725"
            ]
           ],
           "sequentialminus": [
            [
             0,
             "#440154"
            ],
            [
             0.1111111111111111,
             "#482878"
            ],
            [
             0.2222222222222222,
             "#3e4989"
            ],
            [
             0.3333333333333333,
             "#31688e"
            ],
            [
             0.4444444444444444,
             "#26828e"
            ],
            [
             0.5555555555555556,
             "#1f9e89"
            ],
            [
             0.6666666666666666,
             "#35b779"
            ],
            [
             0.7777777777777778,
             "#6ece58"
            ],
            [
             0.8888888888888888,
             "#b5de2b"
            ],
            [
             1,
             "#fde725"
            ]
           ]
          },
          "colorway": [
           "#1F77B4",
           "#FF7F0E",
           "#2CA02C",
           "#D62728",
           "#9467BD",
           "#8C564B",
           "#E377C2",
           "#7F7F7F",
           "#BCBD22",
           "#17BECF"
          ],
          "font": {
           "color": "rgb(36,36,36)"
          },
          "geo": {
           "bgcolor": "white",
           "lakecolor": "white",
           "landcolor": "white",
           "showlakes": true,
           "showland": true,
           "subunitcolor": "white"
          },
          "hoverlabel": {
           "align": "left"
          },
          "hovermode": "closest",
          "mapbox": {
           "style": "light"
          },
          "paper_bgcolor": "white",
          "plot_bgcolor": "white",
          "polar": {
           "angularaxis": {
            "gridcolor": "rgb(232,232,232)",
            "linecolor": "rgb(36,36,36)",
            "showgrid": false,
            "showline": true,
            "ticks": "outside"
           },
           "bgcolor": "white",
           "radialaxis": {
            "gridcolor": "rgb(232,232,232)",
            "linecolor": "rgb(36,36,36)",
            "showgrid": false,
            "showline": true,
            "ticks": "outside"
           }
          },
          "scene": {
           "xaxis": {
            "backgroundcolor": "white",
            "gridcolor": "rgb(232,232,232)",
            "gridwidth": 2,
            "linecolor": "rgb(36,36,36)",
            "showbackground": true,
            "showgrid": false,
            "showline": true,
            "ticks": "outside",
            "zeroline": false,
            "zerolinecolor": "rgb(36,36,36)"
           },
           "yaxis": {
            "backgroundcolor": "white",
            "gridcolor": "rgb(232,232,232)",
            "gridwidth": 2,
            "linecolor": "rgb(36,36,36)",
            "showbackground": true,
            "showgrid": false,
            "showline": true,
            "ticks": "outside",
            "zeroline": false,
            "zerolinecolor": "rgb(36,36,36)"
           },
           "zaxis": {
            "backgroundcolor": "white",
            "gridcolor": "rgb(232,232,232)",
            "gridwidth": 2,
            "linecolor": "rgb(36,36,36)",
            "showbackground": true,
            "showgrid": false,
            "showline": true,
            "ticks": "outside",
            "zeroline": false,
            "zerolinecolor": "rgb(36,36,36)"
           }
          },
          "shapedefaults": {
           "fillcolor": "black",
           "line": {
            "width": 0
           },
           "opacity": 0.3
          },
          "ternary": {
           "aaxis": {
            "gridcolor": "rgb(232,232,232)",
            "linecolor": "rgb(36,36,36)",
            "showgrid": false,
            "showline": true,
            "ticks": "outside"
           },
           "baxis": {
            "gridcolor": "rgb(232,232,232)",
            "linecolor": "rgb(36,36,36)",
            "showgrid": false,
            "showline": true,
            "ticks": "outside"
           },
           "bgcolor": "white",
           "caxis": {
            "gridcolor": "rgb(232,232,232)",
            "linecolor": "rgb(36,36,36)",
            "showgrid": false,
            "showline": true,
            "ticks": "outside"
           }
          },
          "title": {
           "x": 0.05
          },
          "xaxis": {
           "automargin": true,
           "gridcolor": "rgb(232,232,232)",
           "linecolor": "rgb(36,36,36)",
           "showgrid": false,
           "showline": true,
           "ticks": "outside",
           "title": {
            "standoff": 15
           },
           "zeroline": false,
           "zerolinecolor": "rgb(36,36,36)"
          },
          "yaxis": {
           "automargin": true,
           "gridcolor": "rgb(232,232,232)",
           "linecolor": "rgb(36,36,36)",
           "showgrid": false,
           "showline": true,
           "ticks": "outside",
           "title": {
            "standoff": 15
           },
           "zeroline": false,
           "zerolinecolor": "rgb(36,36,36)"
          }
         }
        },
        "title": {
         "text": "modnet_random_125_mmf_pgnn_"
        },
        "width": 600,
        "xaxis": {
         "dtick": 2,
         "range": [
          -6.2,
          6.2
         ],
         "showgrid": false,
         "tick0": 0,
         "tickmode": "linear",
         "title": {
          "text": "ln(<i>d</i><sub>KP</sub>) (pm/V)"
         }
        },
        "yaxis": {
         "dtick": 2,
         "range": [
          -6.2,
          6.2
         ],
         "showgrid": false,
         "tick0": 0,
         "tickmode": "linear",
         "title": {
          "text": "ln(<i>d&#770;</i><sub>KP</sub>) (pm/V)"
         }
        }
       }
      }
     },
     "metadata": {},
     "output_type": "display_data"
    },
    {
     "data": {
      "application/vnd.plotly.v1+json": {
       "config": {
        "plotlyServerURL": "https://plot.ly"
       },
       "data": [
        {
         "mode": "markers",
         "name": "",
         "showlegend": false,
         "text": [
          "mp-11714",
          "mp-1180133",
          "mp-1225884",
          "mp-1196457",
          "mp-560894",
          "mp-1196282",
          "mp-1219328",
          "mp-1227124",
          "mp-1102285",
          "mp-1227389",
          "mp-1227110",
          "mp-1079676",
          "mp-1228342",
          "mp-17862",
          "mp-504952",
          "mp-1223849",
          "mp-1208039",
          "mp-625175",
          "agm003160552",
          "agm003202328",
          "agm002278924",
          "agm003202410",
          "mp-1227011",
          "agm002224865",
          "agm003157565",
          "agm002140778",
          "agm002041336",
          "agm003219193",
          "mp-1228160",
          "mp-1223489",
          "mp-1221169",
          "mp-4431",
          "mp-1105300",
          "mp-1103351",
          "mp-1029368",
          "mp-1029633",
          "agm002147818",
          "agm002153139",
          "mp-555202",
          "mp-1216976",
          "mp-626172",
          "agm002156258",
          "mp-772748",
          "mp-1223389",
          "mp-9427",
          "mp-1225916",
          "agm003237859",
          "mp-1221971",
          "agm002237807",
          "mp-1215642",
          "agm003213121",
          "agm002297812",
          "mp-29157",
          "mp-555915",
          "agm002138671",
          "agm002790067",
          "agm002205114",
          "agm002184995",
          "agm003235252",
          "agm003206267",
          "agm003705731",
          "agm2000126920",
          "agm2000137141",
          "agm005848675",
          "mp-2802611",
          "agm005056300",
          "agm004786326",
          "agm001234439",
          "agm002056302",
          "agm002137665",
          "mp-554918",
          "agm001375463",
          "agm005721583",
          "agm006020719",
          "agm003112540",
          "agm004787350",
          "agm002176403",
          "agm002161194",
          "agm2000136656",
          "mp-1208179",
          "agm002017294",
          "agm002041315",
          "agm003469328",
          "agm005072178",
          "agm005664742",
          "agm004773455",
          "agm005071058",
          "agm006047746",
          "agm005754384",
          "agm005748012"
         ],
         "type": "scatter",
         "x": [
          1.8640705135253752,
          1.6117304214168595,
          -1.850645270291186,
          -2.2274896889093165,
          -0.696089616034016,
          -3.882833663787394,
          0.9963979996100724,
          2.790030659323957,
          1.9858987831854715,
          3.6428908209397224,
          -4.692920184192641,
          0.34935301523658263,
          0.3231729545138501,
          3.502741045546834,
          2.6838822295557954,
          -2.3787863570552736,
          -0.03989242203594581,
          -1.2804277067714025,
          2.507903669532472,
          3.4877343549200677,
          5.1067363011827345,
          4.901091842048587,
          3.957572495507323,
          0.15077779951791634,
          -1.2825056451299668,
          1.3187090489912512,
          3.7546024892173433,
          -1.4450659395820022,
          -1.4209066269913853,
          -1.7967384501708528,
          2.3075919681926687,
          2.9764162815898874,
          3.28690872407927,
          0.8074179428193387,
          2.706316306471154,
          2.0075454817088243,
          -0.950327008457287,
          0.9305096508337292,
          -1.3996753119350664,
          2.537243145948521,
          -1.4994368982155892,
          -0.4009194821956806,
          -1.3032098743935028,
          3.2595451747209663,
          -0.554443488411422,
          0.1675766744469721,
          -1.0650621180496211,
          1.7699590867643369,
          4.620808307046488,
          1.2589677005652813,
          1.359985981463237,
          0.1357880158166226,
          4.363206663676072,
          -0.8720794454781192,
          1.6076098710058706,
          3.8433263345501425,
          4.161423854925523,
          5.119947149916917,
          -3.0486976774750096,
          2.955263511151345,
          1.904069829063425,
          -1.4925748617087051,
          2.1057574191623862,
          2.0172124795442072,
          -0.10724678152218822,
          2.023925095651449,
          2.6127497197709366,
          -0.18960256344954837,
          1.2279568365509097,
          -1.5250777904817183,
          0.9118789633700044,
          3.3884489406417044,
          2.2487349390343057,
          -0.8843652374073264,
          3.893549523381594,
          0.53849175685732,
          0.4245670695122952,
          2.2951224845999403,
          1.2008466644831577,
          -0.15750553108580967,
          2.8293623014760114,
          4.062859542466981,
          -1.1642253854125997,
          -1.0321892814124467,
          1.1614508596374045,
          1.562007195494622,
          0.3327943572530076,
          3.9272961494965513,
          0.3905723773908419,
          -0.8632123560720705
         ],
         "y": [
          2.048754432052625,
          1.497411742458898,
          -0.4158625572775673,
          -1.413229247915358,
          -0.29234937213352985,
          -0.06713796572657407,
          1.4048639313996028,
          2.8307374322128473,
          1.5106496808996008,
          2.4726814640386037,
          -1.254090464873433,
          0.78390772342198,
          -0.06444302112678098,
          2.44385520044749,
          3.211952223549684,
          0.6620026223445262,
          0.009934621957529874,
          1.0297131450641015,
          2.3253140478384897,
          3.6640917651061073,
          3.5896942102729312,
          1.9363727600287168,
          2.673261940598791,
          2.439950176114573,
          1.3427772956775177,
          1.5852237420123052,
          2.7141982758714795,
          0.7683066529977565,
          0.6612425769478718,
          -0.5511313991045436,
          0.7741646497987328,
          3.299301914771382,
          3.242856148605827,
          2.2709177938863316,
          2.8505411993343324,
          2.051945774196964,
          1.0227604215922057,
          1.8583174884898963,
          0.6758697411645178,
          1.3482130630079658,
          0.32853575957781184,
          0.6703495453313483,
          0.5677482679721999,
          3.216741998064099,
          0.2239499182807367,
          1.7655951469630815,
          0.9130025792819032,
          1.6853327280786323,
          2.66712910438856,
          1.758309191331804,
          1.216972936545229,
          1.1898302339312654,
          2.5249044853493077,
          -1.5856589268151515,
          0.9034147199575024,
          3.628965303323157,
          4.459539922050985,
          3.0116072050706615,
          -0.05710301039194165,
          3.009083806088871,
          1.497771575076181,
          1.02430010554821,
          1.462016629052375,
          2.8937385839575933,
          0.7051774094423617,
          2.626640252090805,
          1.8896375389920768,
          0.6420733031100008,
          -0.06690859942204966,
          -0.4312557381724302,
          0.3468054012650864,
          4.167658516391672,
          2.764873118945566,
          0.6028627046556687,
          3.900849551904532,
          -0.693526762534138,
          1.4218083047859171,
          2.1850589032594763,
          1.8432795466115564,
          0.31059845444902884,
          3.257889323661021,
          3.081208103913058,
          0.380636012117674,
          -0.5144056647017986,
          1.7365386181198956,
          0.3754684697626251,
          1.46618776977646,
          3.610811012197843,
          1.6666877232248285,
          -0.5120714754447027
         ]
        },
        {
         "marker": {
          "color": "red"
         },
         "mode": "markers",
         "name": "",
         "showlegend": false,
         "text": [
          "mp-21892",
          "mp-8070",
          "mp-558491",
          "mp-632684",
          "mp-23329",
          "mp-555150",
          "mp-760755",
          "mp-6268",
          "mp-559057",
          "mp-1778",
          "mp-2176",
          "mp-22909",
          "mp-9844",
          "mp-9066",
          "mp-6126",
          "mp-632229",
          "mp-21521",
          "mp-1287",
          "mp-756044",
          "mp-754712",
          "mp-18168",
          "mp-505702",
          "mp-559065",
          "mp-559545",
          "mp-549720",
          "mp-561385",
          "mp-13666",
          "mp-14444",
          "mp-2469",
          "mp-31451",
          "mp-1023924",
          "mp-38011",
          "mp-8884",
          "mp-6980",
          "mp-4524"
         ],
         "type": "scatter",
         "x": [
          0.5129958888992996,
          -0.4855530271371922,
          -0.08740485527531697,
          -0.45681555937106766,
          2.1061629838671,
          0.513705495637027,
          -2.3134955345928385,
          1.8583162248321317,
          0.4882103609421548,
          -1.1396223245682315,
          4.656254645145144,
          0.9508715487860324,
          -0.05300287393081044,
          -1.1432595869803444,
          1.005487085967149,
          1.068043435793579,
          2.0183066815251465,
          -1.952218665850329,
          -1.266849364995467,
          0.15670083532845222,
          0.8790197681158867,
          0.44855102088749943,
          1.871489666744384,
          1.7522422636101158,
          3.0993804513799335,
          -0.35650021086904377,
          3.917254174536937,
          2.5896455390744313,
          2.8167502162864495,
          4.2071054438569275,
          0.9457357302382252,
          1.943455628463224,
          3.677733778199943,
          4.122043167902257,
          4.494287161104849
         ],
         "y": [
          1.2861638184027742,
          1.6558943323382145,
          2.002993493587043,
          0.5235776528912521,
          0.8566273395995604,
          0.5416996118121377,
          -0.8523894722425758,
          2.0194190025747845,
          1.3491103303992766,
          0.21052643184078432,
          4.628534141841291,
          1.1002727838186528,
          0.21917702560646224,
          1.858729318028236,
          0.6185482648698548,
          0.9371808340147496,
          1.4069819892355144,
          0.7488887461709305,
          1.0705974698603709,
          -0.7752364137310673,
          1.1318978231753871,
          -0.6667505608411786,
          1.235519899850271,
          1.3426149084192234,
          2.0391959418446466,
          1.0931092317930116,
          2.187367771543856,
          1.5303269741318315,
          2.2704608863637192,
          4.041226414382757,
          1.4098639585686472,
          1.49755843384817,
          4.3221557835777045,
          1.8114782601748352,
          3.9757922976420943
         ]
        },
        {
         "line": {
          "color": "gray",
          "dash": "dot"
         },
         "mode": "lines",
         "showlegend": false,
         "type": "scatter",
         "x": [
          -10,
          8
         ],
         "y": [
          -10,
          8
         ]
        }
       ],
       "layout": {
        "autosize": false,
        "font": {
         "size": 20
        },
        "height": 600,
        "template": {
         "data": {
          "bar": [
           {
            "error_x": {
             "color": "rgb(36,36,36)"
            },
            "error_y": {
             "color": "rgb(36,36,36)"
            },
            "marker": {
             "line": {
              "color": "white",
              "width": 0.5
             },
             "pattern": {
              "fillmode": "overlay",
              "size": 10,
              "solidity": 0.2
             }
            },
            "type": "bar"
           }
          ],
          "barpolar": [
           {
            "marker": {
             "line": {
              "color": "white",
              "width": 0.5
             },
             "pattern": {
              "fillmode": "overlay",
              "size": 10,
              "solidity": 0.2
             }
            },
            "type": "barpolar"
           }
          ],
          "carpet": [
           {
            "aaxis": {
             "endlinecolor": "rgb(36,36,36)",
             "gridcolor": "white",
             "linecolor": "white",
             "minorgridcolor": "white",
             "startlinecolor": "rgb(36,36,36)"
            },
            "baxis": {
             "endlinecolor": "rgb(36,36,36)",
             "gridcolor": "white",
             "linecolor": "white",
             "minorgridcolor": "white",
             "startlinecolor": "rgb(36,36,36)"
            },
            "type": "carpet"
           }
          ],
          "choropleth": [
           {
            "colorbar": {
             "outlinewidth": 1,
             "tickcolor": "rgb(36,36,36)",
             "ticks": "outside"
            },
            "type": "choropleth"
           }
          ],
          "contour": [
           {
            "colorbar": {
             "outlinewidth": 1,
             "tickcolor": "rgb(36,36,36)",
             "ticks": "outside"
            },
            "colorscale": [
             [
              0,
              "#440154"
             ],
             [
              0.1111111111111111,
              "#482878"
             ],
             [
              0.2222222222222222,
              "#3e4989"
             ],
             [
              0.3333333333333333,
              "#31688e"
             ],
             [
              0.4444444444444444,
              "#26828e"
             ],
             [
              0.5555555555555556,
              "#1f9e89"
             ],
             [
              0.6666666666666666,
              "#35b779"
             ],
             [
              0.7777777777777778,
              "#6ece58"
             ],
             [
              0.8888888888888888,
              "#b5de2b"
             ],
             [
              1,
              "#fde725"
             ]
            ],
            "type": "contour"
           }
          ],
          "contourcarpet": [
           {
            "colorbar": {
             "outlinewidth": 1,
             "tickcolor": "rgb(36,36,36)",
             "ticks": "outside"
            },
            "type": "contourcarpet"
           }
          ],
          "heatmap": [
           {
            "colorbar": {
             "outlinewidth": 1,
             "tickcolor": "rgb(36,36,36)",
             "ticks": "outside"
            },
            "colorscale": [
             [
              0,
              "#440154"
             ],
             [
              0.1111111111111111,
              "#482878"
             ],
             [
              0.2222222222222222,
              "#3e4989"
             ],
             [
              0.3333333333333333,
              "#31688e"
             ],
             [
              0.4444444444444444,
              "#26828e"
             ],
             [
              0.5555555555555556,
              "#1f9e89"
             ],
             [
              0.6666666666666666,
              "#35b779"
             ],
             [
              0.7777777777777778,
              "#6ece58"
             ],
             [
              0.8888888888888888,
              "#b5de2b"
             ],
             [
              1,
              "#fde725"
             ]
            ],
            "type": "heatmap"
           }
          ],
          "heatmapgl": [
           {
            "colorbar": {
             "outlinewidth": 1,
             "tickcolor": "rgb(36,36,36)",
             "ticks": "outside"
            },
            "colorscale": [
             [
              0,
              "#440154"
             ],
             [
              0.1111111111111111,
              "#482878"
             ],
             [
              0.2222222222222222,
              "#3e4989"
             ],
             [
              0.3333333333333333,
              "#31688e"
             ],
             [
              0.4444444444444444,
              "#26828e"
             ],
             [
              0.5555555555555556,
              "#1f9e89"
             ],
             [
              0.6666666666666666,
              "#35b779"
             ],
             [
              0.7777777777777778,
              "#6ece58"
             ],
             [
              0.8888888888888888,
              "#b5de2b"
             ],
             [
              1,
              "#fde725"
             ]
            ],
            "type": "heatmapgl"
           }
          ],
          "histogram": [
           {
            "marker": {
             "line": {
              "color": "white",
              "width": 0.6
             }
            },
            "type": "histogram"
           }
          ],
          "histogram2d": [
           {
            "colorbar": {
             "outlinewidth": 1,
             "tickcolor": "rgb(36,36,36)",
             "ticks": "outside"
            },
            "colorscale": [
             [
              0,
              "#440154"
             ],
             [
              0.1111111111111111,
              "#482878"
             ],
             [
              0.2222222222222222,
              "#3e4989"
             ],
             [
              0.3333333333333333,
              "#31688e"
             ],
             [
              0.4444444444444444,
              "#26828e"
             ],
             [
              0.5555555555555556,
              "#1f9e89"
             ],
             [
              0.6666666666666666,
              "#35b779"
             ],
             [
              0.7777777777777778,
              "#6ece58"
             ],
             [
              0.8888888888888888,
              "#b5de2b"
             ],
             [
              1,
              "#fde725"
             ]
            ],
            "type": "histogram2d"
           }
          ],
          "histogram2dcontour": [
           {
            "colorbar": {
             "outlinewidth": 1,
             "tickcolor": "rgb(36,36,36)",
             "ticks": "outside"
            },
            "colorscale": [
             [
              0,
              "#440154"
             ],
             [
              0.1111111111111111,
              "#482878"
             ],
             [
              0.2222222222222222,
              "#3e4989"
             ],
             [
              0.3333333333333333,
              "#31688e"
             ],
             [
              0.4444444444444444,
              "#26828e"
             ],
             [
              0.5555555555555556,
              "#1f9e89"
             ],
             [
              0.6666666666666666,
              "#35b779"
             ],
             [
              0.7777777777777778,
              "#6ece58"
             ],
             [
              0.8888888888888888,
              "#b5de2b"
             ],
             [
              1,
              "#fde725"
             ]
            ],
            "type": "histogram2dcontour"
           }
          ],
          "mesh3d": [
           {
            "colorbar": {
             "outlinewidth": 1,
             "tickcolor": "rgb(36,36,36)",
             "ticks": "outside"
            },
            "type": "mesh3d"
           }
          ],
          "parcoords": [
           {
            "line": {
             "colorbar": {
              "outlinewidth": 1,
              "tickcolor": "rgb(36,36,36)",
              "ticks": "outside"
             }
            },
            "type": "parcoords"
           }
          ],
          "pie": [
           {
            "automargin": true,
            "type": "pie"
           }
          ],
          "scatter": [
           {
            "fillpattern": {
             "fillmode": "overlay",
             "size": 10,
             "solidity": 0.2
            },
            "type": "scatter"
           }
          ],
          "scatter3d": [
           {
            "line": {
             "colorbar": {
              "outlinewidth": 1,
              "tickcolor": "rgb(36,36,36)",
              "ticks": "outside"
             }
            },
            "marker": {
             "colorbar": {
              "outlinewidth": 1,
              "tickcolor": "rgb(36,36,36)",
              "ticks": "outside"
             }
            },
            "type": "scatter3d"
           }
          ],
          "scattercarpet": [
           {
            "marker": {
             "colorbar": {
              "outlinewidth": 1,
              "tickcolor": "rgb(36,36,36)",
              "ticks": "outside"
             }
            },
            "type": "scattercarpet"
           }
          ],
          "scattergeo": [
           {
            "marker": {
             "colorbar": {
              "outlinewidth": 1,
              "tickcolor": "rgb(36,36,36)",
              "ticks": "outside"
             }
            },
            "type": "scattergeo"
           }
          ],
          "scattergl": [
           {
            "marker": {
             "colorbar": {
              "outlinewidth": 1,
              "tickcolor": "rgb(36,36,36)",
              "ticks": "outside"
             }
            },
            "type": "scattergl"
           }
          ],
          "scattermapbox": [
           {
            "marker": {
             "colorbar": {
              "outlinewidth": 1,
              "tickcolor": "rgb(36,36,36)",
              "ticks": "outside"
             }
            },
            "type": "scattermapbox"
           }
          ],
          "scatterpolar": [
           {
            "marker": {
             "colorbar": {
              "outlinewidth": 1,
              "tickcolor": "rgb(36,36,36)",
              "ticks": "outside"
             }
            },
            "type": "scatterpolar"
           }
          ],
          "scatterpolargl": [
           {
            "marker": {
             "colorbar": {
              "outlinewidth": 1,
              "tickcolor": "rgb(36,36,36)",
              "ticks": "outside"
             }
            },
            "type": "scatterpolargl"
           }
          ],
          "scatterternary": [
           {
            "marker": {
             "colorbar": {
              "outlinewidth": 1,
              "tickcolor": "rgb(36,36,36)",
              "ticks": "outside"
             }
            },
            "type": "scatterternary"
           }
          ],
          "surface": [
           {
            "colorbar": {
             "outlinewidth": 1,
             "tickcolor": "rgb(36,36,36)",
             "ticks": "outside"
            },
            "colorscale": [
             [
              0,
              "#440154"
             ],
             [
              0.1111111111111111,
              "#482878"
             ],
             [
              0.2222222222222222,
              "#3e4989"
             ],
             [
              0.3333333333333333,
              "#31688e"
             ],
             [
              0.4444444444444444,
              "#26828e"
             ],
             [
              0.5555555555555556,
              "#1f9e89"
             ],
             [
              0.6666666666666666,
              "#35b779"
             ],
             [
              0.7777777777777778,
              "#6ece58"
             ],
             [
              0.8888888888888888,
              "#b5de2b"
             ],
             [
              1,
              "#fde725"
             ]
            ],
            "type": "surface"
           }
          ],
          "table": [
           {
            "cells": {
             "fill": {
              "color": "rgb(237,237,237)"
             },
             "line": {
              "color": "white"
             }
            },
            "header": {
             "fill": {
              "color": "rgb(217,217,217)"
             },
             "line": {
              "color": "white"
             }
            },
            "type": "table"
           }
          ]
         },
         "layout": {
          "annotationdefaults": {
           "arrowhead": 0,
           "arrowwidth": 1
          },
          "autotypenumbers": "strict",
          "coloraxis": {
           "colorbar": {
            "outlinewidth": 1,
            "tickcolor": "rgb(36,36,36)",
            "ticks": "outside"
           }
          },
          "colorscale": {
           "diverging": [
            [
             0,
             "rgb(103,0,31)"
            ],
            [
             0.1,
             "rgb(178,24,43)"
            ],
            [
             0.2,
             "rgb(214,96,77)"
            ],
            [
             0.3,
             "rgb(244,165,130)"
            ],
            [
             0.4,
             "rgb(253,219,199)"
            ],
            [
             0.5,
             "rgb(247,247,247)"
            ],
            [
             0.6,
             "rgb(209,229,240)"
            ],
            [
             0.7,
             "rgb(146,197,222)"
            ],
            [
             0.8,
             "rgb(67,147,195)"
            ],
            [
             0.9,
             "rgb(33,102,172)"
            ],
            [
             1,
             "rgb(5,48,97)"
            ]
           ],
           "sequential": [
            [
             0,
             "#440154"
            ],
            [
             0.1111111111111111,
             "#482878"
            ],
            [
             0.2222222222222222,
             "#3e4989"
            ],
            [
             0.3333333333333333,
             "#31688e"
            ],
            [
             0.4444444444444444,
             "#26828e"
            ],
            [
             0.5555555555555556,
             "#1f9e89"
            ],
            [
             0.6666666666666666,
             "#35b779"
            ],
            [
             0.7777777777777778,
             "#6ece58"
            ],
            [
             0.8888888888888888,
             "#b5de2b"
            ],
            [
             1,
             "#fde725"
            ]
           ],
           "sequentialminus": [
            [
             0,
             "#440154"
            ],
            [
             0.1111111111111111,
             "#482878"
            ],
            [
             0.2222222222222222,
             "#3e4989"
            ],
            [
             0.3333333333333333,
             "#31688e"
            ],
            [
             0.4444444444444444,
             "#26828e"
            ],
            [
             0.5555555555555556,
             "#1f9e89"
            ],
            [
             0.6666666666666666,
             "#35b779"
            ],
            [
             0.7777777777777778,
             "#6ece58"
            ],
            [
             0.8888888888888888,
             "#b5de2b"
            ],
            [
             1,
             "#fde725"
            ]
           ]
          },
          "colorway": [
           "#1F77B4",
           "#FF7F0E",
           "#2CA02C",
           "#D62728",
           "#9467BD",
           "#8C564B",
           "#E377C2",
           "#7F7F7F",
           "#BCBD22",
           "#17BECF"
          ],
          "font": {
           "color": "rgb(36,36,36)"
          },
          "geo": {
           "bgcolor": "white",
           "lakecolor": "white",
           "landcolor": "white",
           "showlakes": true,
           "showland": true,
           "subunitcolor": "white"
          },
          "hoverlabel": {
           "align": "left"
          },
          "hovermode": "closest",
          "mapbox": {
           "style": "light"
          },
          "paper_bgcolor": "white",
          "plot_bgcolor": "white",
          "polar": {
           "angularaxis": {
            "gridcolor": "rgb(232,232,232)",
            "linecolor": "rgb(36,36,36)",
            "showgrid": false,
            "showline": true,
            "ticks": "outside"
           },
           "bgcolor": "white",
           "radialaxis": {
            "gridcolor": "rgb(232,232,232)",
            "linecolor": "rgb(36,36,36)",
            "showgrid": false,
            "showline": true,
            "ticks": "outside"
           }
          },
          "scene": {
           "xaxis": {
            "backgroundcolor": "white",
            "gridcolor": "rgb(232,232,232)",
            "gridwidth": 2,
            "linecolor": "rgb(36,36,36)",
            "showbackground": true,
            "showgrid": false,
            "showline": true,
            "ticks": "outside",
            "zeroline": false,
            "zerolinecolor": "rgb(36,36,36)"
           },
           "yaxis": {
            "backgroundcolor": "white",
            "gridcolor": "rgb(232,232,232)",
            "gridwidth": 2,
            "linecolor": "rgb(36,36,36)",
            "showbackground": true,
            "showgrid": false,
            "showline": true,
            "ticks": "outside",
            "zeroline": false,
            "zerolinecolor": "rgb(36,36,36)"
           },
           "zaxis": {
            "backgroundcolor": "white",
            "gridcolor": "rgb(232,232,232)",
            "gridwidth": 2,
            "linecolor": "rgb(36,36,36)",
            "showbackground": true,
            "showgrid": false,
            "showline": true,
            "ticks": "outside",
            "zeroline": false,
            "zerolinecolor": "rgb(36,36,36)"
           }
          },
          "shapedefaults": {
           "fillcolor": "black",
           "line": {
            "width": 0
           },
           "opacity": 0.3
          },
          "ternary": {
           "aaxis": {
            "gridcolor": "rgb(232,232,232)",
            "linecolor": "rgb(36,36,36)",
            "showgrid": false,
            "showline": true,
            "ticks": "outside"
           },
           "baxis": {
            "gridcolor": "rgb(232,232,232)",
            "linecolor": "rgb(36,36,36)",
            "showgrid": false,
            "showline": true,
            "ticks": "outside"
           },
           "bgcolor": "white",
           "caxis": {
            "gridcolor": "rgb(232,232,232)",
            "linecolor": "rgb(36,36,36)",
            "showgrid": false,
            "showline": true,
            "ticks": "outside"
           }
          },
          "title": {
           "x": 0.05
          },
          "xaxis": {
           "automargin": true,
           "gridcolor": "rgb(232,232,232)",
           "linecolor": "rgb(36,36,36)",
           "showgrid": false,
           "showline": true,
           "ticks": "outside",
           "title": {
            "standoff": 15
           },
           "zeroline": false,
           "zerolinecolor": "rgb(36,36,36)"
          },
          "yaxis": {
           "automargin": true,
           "gridcolor": "rgb(232,232,232)",
           "linecolor": "rgb(36,36,36)",
           "showgrid": false,
           "showline": true,
           "ticks": "outside",
           "title": {
            "standoff": 15
           },
           "zeroline": false,
           "zerolinecolor": "rgb(36,36,36)"
          }
         }
        },
        "title": {
         "text": "matten_random_125_"
        },
        "width": 600,
        "xaxis": {
         "dtick": 2,
         "range": [
          -6.2,
          6.2
         ],
         "showgrid": false,
         "tick0": 0,
         "tickmode": "linear",
         "title": {
          "text": "ln(<i>d</i><sub>KP</sub>) (pm/V)"
         }
        },
        "yaxis": {
         "dtick": 2,
         "range": [
          -6.2,
          6.2
         ],
         "showgrid": false,
         "tick0": 0,
         "tickmode": "linear",
         "title": {
          "text": "ln(<i>d&#770;</i><sub>KP</sub>) (pm/V)"
         }
        }
       }
      }
     },
     "metadata": {},
     "output_type": "display_data"
    },
    {
     "data": {
      "application/vnd.plotly.v1+json": {
       "config": {
        "plotlyServerURL": "https://plot.ly"
       },
       "data": [
        {
         "mode": "markers",
         "name": "",
         "showlegend": false,
         "text": [
          "mp-11714",
          "mp-1180133",
          "mp-1225884",
          "mp-1196457",
          "mp-560894",
          "mp-1196282",
          "mp-1219328",
          "mp-1227124",
          "mp-1102285",
          "mp-1227389",
          "mp-1227110",
          "mp-1079676",
          "mp-1228342",
          "mp-17862",
          "mp-504952",
          "mp-1223849",
          "mp-1208039",
          "mp-625175",
          "agm003160552",
          "agm003202328",
          "agm002278924",
          "agm003202410",
          "mp-1227011",
          "agm002224865",
          "agm003157565",
          "agm002140778",
          "agm002041336",
          "agm003219193",
          "mp-1228160",
          "mp-1223489",
          "mp-1221169",
          "mp-4431",
          "mp-1105300",
          "mp-1103351",
          "mp-1029368",
          "mp-1029633",
          "agm002147818",
          "agm002153139",
          "mp-555202",
          "mp-1216976",
          "mp-626172",
          "agm002156258",
          "mp-772748",
          "mp-1223389",
          "mp-9427",
          "mp-1225916",
          "agm003237859",
          "mp-1221971",
          "agm002237807",
          "mp-1215642",
          "agm003213121",
          "agm002297812",
          "mp-29157",
          "mp-555915",
          "agm002138671",
          "agm002790067",
          "agm002205114",
          "agm002184995",
          "agm003235252",
          "agm003206267",
          "agm003705731",
          "agm2000126920",
          "agm2000137141",
          "agm005848675",
          "mp-2802611",
          "agm005056300",
          "agm004786326",
          "agm001234439",
          "agm002056302",
          "agm002137665",
          "mp-554918",
          "agm001375463",
          "agm005721583",
          "agm006020719",
          "agm003112540",
          "agm004787350",
          "agm002176403",
          "agm002161194",
          "agm2000136656",
          "mp-1208179",
          "agm002017294",
          "agm002041315",
          "agm003469328",
          "agm005072178",
          "agm005664742",
          "agm004773455",
          "agm005071058",
          "agm006047746",
          "agm005754384",
          "agm005748012"
         ],
         "type": "scatter",
         "x": [
          1.8640705135253752,
          1.6117304214168595,
          -1.850645270291186,
          -2.2274896889093165,
          -0.696089616034016,
          -3.882833663787394,
          0.9963979996100724,
          2.790030659323957,
          1.9858987831854715,
          3.6428908209397224,
          -4.692920184192641,
          0.34935301523658263,
          0.3231729545138501,
          3.502741045546834,
          2.6838822295557954,
          -2.3787863570552736,
          -0.03989242203594581,
          -1.2804277067714025,
          2.507903669532472,
          3.4877343549200677,
          5.1067363011827345,
          4.901091842048587,
          3.957572495507323,
          0.15077779951791634,
          -1.2825056451299668,
          1.3187090489912512,
          3.7546024892173433,
          -1.4450659395820022,
          -1.4209066269913853,
          -1.7967384501708528,
          2.3075919681926687,
          2.9764162815898874,
          3.28690872407927,
          0.8074179428193387,
          2.706316306471154,
          2.0075454817088243,
          -0.950327008457287,
          0.9305096508337292,
          -1.3996753119350664,
          2.537243145948521,
          -1.4994368982155892,
          -0.4009194821956806,
          -1.3032098743935028,
          3.2595451747209663,
          -0.554443488411422,
          0.1675766744469721,
          -1.0650621180496211,
          1.7699590867643369,
          4.620808307046488,
          1.2589677005652813,
          1.359985981463237,
          0.1357880158166226,
          4.363206663676072,
          -0.8720794454781192,
          1.6076098710058706,
          3.8433263345501425,
          4.161423854925523,
          5.119947149916917,
          -3.0486976774750096,
          2.955263511151345,
          1.904069829063425,
          -1.4925748617087051,
          2.1057574191623862,
          2.0172124795442072,
          -0.10724678152218822,
          2.023925095651449,
          2.6127497197709366,
          -0.18960256344954837,
          1.2279568365509097,
          -1.5250777904817183,
          0.9118789633700044,
          3.3884489406417044,
          2.2487349390343057,
          -0.8843652374073264,
          3.893549523381594,
          0.53849175685732,
          0.4245670695122952,
          2.2951224845999403,
          1.2008466644831577,
          -0.15750553108580967,
          2.8293623014760114,
          4.062859542466981,
          -1.1642253854125997,
          -1.0321892814124467,
          1.1614508596374045,
          1.562007195494622,
          0.3327943572530076,
          3.9272961494965513,
          0.3905723773908419,
          -0.8632123560720705
         ],
         "y": [
          1.8984983098813757,
          1.2816130811887267,
          -0.9351134756268414,
          -0.8975599010192058,
          -1.097379828359019,
          -3.4465822604014247,
          2.46046443674689,
          3.043874001477294,
          1.6254466854369671,
          2.3775278900550982,
          -1.693729876324562,
          -1.5041967547497357,
          0.4720743991558555,
          3.747852070173741,
          3.5909770827195584,
          -0.5759022679440635,
          0.2877649790758144,
          -1.2195731458481287,
          3.7525873376658847,
          3.2638741206691098,
          4.6899728763872135,
          2.8165415679727746,
          3.716243713954398,
          0.7504070827143566,
          -1.4421778942966117,
          0.2616016395062527,
          3.36696330410798,
          -1.5078277038454486,
          -0.96244039026238,
          -1.494413366176604,
          2.8297060941282233,
          2.8949757612782596,
          3.298056603006588,
          2.478673359710066,
          2.0872668552830005,
          1.868306359242649,
          -1.684329123465801,
          0.405333571874849,
          -0.7719642244295409,
          3.1170022984912564,
          -1.8877752175303215,
          -0.9482329063536776,
          -1.5496010553157191,
          3.0481818396618774,
          -0.7522452563917471,
          0.07915334112230704,
          -1.867953945195786,
          2.0904811493950683,
          3.933769312956926,
          1.3103381760269492,
          1.4544708721518989,
          0.16975208192223618,
          3.946523203969525,
          0.343800599737911,
          1.2435954333494408,
          3.7373318697186098,
          4.016179137048981,
          3.9185267733831215,
          -1.224256914627663,
          2.811263523357772,
          1.9167616947438957,
          0.04117402910642557,
          2.9499947820418004,
          2.939011421943072,
          -0.5536584409967757,
          1.798634818703433,
          2.271044680068211,
          1.346095142996656,
          0.3808921764692726,
          -1.795629119039934,
          -0.28372611921274365,
          3.974086733697208,
          2.312236095279295,
          -0.9930757610841084,
          4.055807224523404,
          0.49231218795528014,
          -0.23737645765415913,
          2.6456154496465443,
          1.981497716754259,
          -0.6338383726338964,
          2.9318802639465176,
          4.056311523427831,
          -1.4958703405556866,
          -1.58223017789718,
          1.2350307323830156,
          1.2165469823614112,
          0.3090011992402337,
          3.673200558553982,
          0.6409468443680778,
          -0.8562095435095953
         ]
        },
        {
         "marker": {
          "color": "red"
         },
         "mode": "markers",
         "name": "",
         "showlegend": false,
         "text": [
          "mp-21892",
          "mp-8070",
          "mp-558491",
          "mp-632684",
          "mp-23329",
          "mp-555150",
          "mp-760755",
          "mp-6268",
          "mp-559057",
          "mp-1778",
          "mp-2176",
          "mp-22909",
          "mp-9844",
          "mp-9066",
          "mp-6126",
          "mp-632229",
          "mp-21521",
          "mp-1287",
          "mp-756044",
          "mp-754712",
          "mp-18168",
          "mp-505702",
          "mp-559065",
          "mp-559545",
          "mp-549720",
          "mp-561385",
          "mp-13666",
          "mp-14444",
          "mp-2469",
          "mp-31451",
          "mp-1023924",
          "mp-38011",
          "mp-8884",
          "mp-6980",
          "mp-4524"
         ],
         "type": "scatter",
         "x": [
          0.5129958888992996,
          -0.4855530271371922,
          -0.08740485527531697,
          -0.45681555937106766,
          2.1061629838671,
          0.513705495637027,
          -2.3134955345928385,
          1.8583162248321317,
          0.4882103609421548,
          -1.1396223245682315,
          4.656254645145144,
          0.9508715487860324,
          -0.05300287393081044,
          -1.1432595869803444,
          1.005487085967149,
          1.068043435793579,
          2.0183066815251465,
          -1.952218665850329,
          -1.266849364995467,
          0.15670083532845222,
          0.8790197681158867,
          0.44855102088749943,
          1.871489666744384,
          1.7522422636101158,
          3.0993804513799335,
          -0.35650021086904377,
          3.917254174536937,
          2.5896455390744313,
          2.8167502162864495,
          4.2071054438569275,
          0.9457357302382252,
          1.943455628463224,
          3.677733778199943,
          4.122043167902257,
          4.494287161104849
         ],
         "y": [
          0.6628715925963657,
          -1.036371933900247,
          -0.34306665547403314,
          -0.4508206333992286,
          1.919990863323081,
          -0.07094185742774478,
          -1.0822515999975064,
          -0.06278244218204979,
          0.8793958564787703,
          -0.28575393410797856,
          4.278696442445902,
          0.09877232468198062,
          -0.006661139968422023,
          -0.7442157091341699,
          0.771041080391122,
          0.9146859368836152,
          1.239260630796862,
          2.685243026523973,
          -0.7287456643828749,
          -0.1471382708337455,
          0.9255307858483676,
          0.5996413925977807,
          2.262575517440057,
          1.5837377791442384,
          3.297507860653081,
          -1.2113929902955007,
          3.247662278641952,
          2.472861814814667,
          2.4261130593264357,
          4.398145866405768,
          1.7359955605817154,
          0.4444614778385401,
          4.471258384800888,
          2.429819293642873,
          4.525168320172572
         ]
        },
        {
         "line": {
          "color": "gray",
          "dash": "dot"
         },
         "mode": "lines",
         "showlegend": false,
         "type": "scatter",
         "x": [
          -10,
          8
         ],
         "y": [
          -10,
          8
         ]
        }
       ],
       "layout": {
        "autosize": false,
        "font": {
         "size": 20
        },
        "height": 600,
        "template": {
         "data": {
          "bar": [
           {
            "error_x": {
             "color": "rgb(36,36,36)"
            },
            "error_y": {
             "color": "rgb(36,36,36)"
            },
            "marker": {
             "line": {
              "color": "white",
              "width": 0.5
             },
             "pattern": {
              "fillmode": "overlay",
              "size": 10,
              "solidity": 0.2
             }
            },
            "type": "bar"
           }
          ],
          "barpolar": [
           {
            "marker": {
             "line": {
              "color": "white",
              "width": 0.5
             },
             "pattern": {
              "fillmode": "overlay",
              "size": 10,
              "solidity": 0.2
             }
            },
            "type": "barpolar"
           }
          ],
          "carpet": [
           {
            "aaxis": {
             "endlinecolor": "rgb(36,36,36)",
             "gridcolor": "white",
             "linecolor": "white",
             "minorgridcolor": "white",
             "startlinecolor": "rgb(36,36,36)"
            },
            "baxis": {
             "endlinecolor": "rgb(36,36,36)",
             "gridcolor": "white",
             "linecolor": "white",
             "minorgridcolor": "white",
             "startlinecolor": "rgb(36,36,36)"
            },
            "type": "carpet"
           }
          ],
          "choropleth": [
           {
            "colorbar": {
             "outlinewidth": 1,
             "tickcolor": "rgb(36,36,36)",
             "ticks": "outside"
            },
            "type": "choropleth"
           }
          ],
          "contour": [
           {
            "colorbar": {
             "outlinewidth": 1,
             "tickcolor": "rgb(36,36,36)",
             "ticks": "outside"
            },
            "colorscale": [
             [
              0,
              "#440154"
             ],
             [
              0.1111111111111111,
              "#482878"
             ],
             [
              0.2222222222222222,
              "#3e4989"
             ],
             [
              0.3333333333333333,
              "#31688e"
             ],
             [
              0.4444444444444444,
              "#26828e"
             ],
             [
              0.5555555555555556,
              "#1f9e89"
             ],
             [
              0.6666666666666666,
              "#35b779"
             ],
             [
              0.7777777777777778,
              "#6ece58"
             ],
             [
              0.8888888888888888,
              "#b5de2b"
             ],
             [
              1,
              "#fde725"
             ]
            ],
            "type": "contour"
           }
          ],
          "contourcarpet": [
           {
            "colorbar": {
             "outlinewidth": 1,
             "tickcolor": "rgb(36,36,36)",
             "ticks": "outside"
            },
            "type": "contourcarpet"
           }
          ],
          "heatmap": [
           {
            "colorbar": {
             "outlinewidth": 1,
             "tickcolor": "rgb(36,36,36)",
             "ticks": "outside"
            },
            "colorscale": [
             [
              0,
              "#440154"
             ],
             [
              0.1111111111111111,
              "#482878"
             ],
             [
              0.2222222222222222,
              "#3e4989"
             ],
             [
              0.3333333333333333,
              "#31688e"
             ],
             [
              0.4444444444444444,
              "#26828e"
             ],
             [
              0.5555555555555556,
              "#1f9e89"
             ],
             [
              0.6666666666666666,
              "#35b779"
             ],
             [
              0.7777777777777778,
              "#6ece58"
             ],
             [
              0.8888888888888888,
              "#b5de2b"
             ],
             [
              1,
              "#fde725"
             ]
            ],
            "type": "heatmap"
           }
          ],
          "heatmapgl": [
           {
            "colorbar": {
             "outlinewidth": 1,
             "tickcolor": "rgb(36,36,36)",
             "ticks": "outside"
            },
            "colorscale": [
             [
              0,
              "#440154"
             ],
             [
              0.1111111111111111,
              "#482878"
             ],
             [
              0.2222222222222222,
              "#3e4989"
             ],
             [
              0.3333333333333333,
              "#31688e"
             ],
             [
              0.4444444444444444,
              "#26828e"
             ],
             [
              0.5555555555555556,
              "#1f9e89"
             ],
             [
              0.6666666666666666,
              "#35b779"
             ],
             [
              0.7777777777777778,
              "#6ece58"
             ],
             [
              0.8888888888888888,
              "#b5de2b"
             ],
             [
              1,
              "#fde725"
             ]
            ],
            "type": "heatmapgl"
           }
          ],
          "histogram": [
           {
            "marker": {
             "line": {
              "color": "white",
              "width": 0.6
             }
            },
            "type": "histogram"
           }
          ],
          "histogram2d": [
           {
            "colorbar": {
             "outlinewidth": 1,
             "tickcolor": "rgb(36,36,36)",
             "ticks": "outside"
            },
            "colorscale": [
             [
              0,
              "#440154"
             ],
             [
              0.1111111111111111,
              "#482878"
             ],
             [
              0.2222222222222222,
              "#3e4989"
             ],
             [
              0.3333333333333333,
              "#31688e"
             ],
             [
              0.4444444444444444,
              "#26828e"
             ],
             [
              0.5555555555555556,
              "#1f9e89"
             ],
             [
              0.6666666666666666,
              "#35b779"
             ],
             [
              0.7777777777777778,
              "#6ece58"
             ],
             [
              0.8888888888888888,
              "#b5de2b"
             ],
             [
              1,
              "#fde725"
             ]
            ],
            "type": "histogram2d"
           }
          ],
          "histogram2dcontour": [
           {
            "colorbar": {
             "outlinewidth": 1,
             "tickcolor": "rgb(36,36,36)",
             "ticks": "outside"
            },
            "colorscale": [
             [
              0,
              "#440154"
             ],
             [
              0.1111111111111111,
              "#482878"
             ],
             [
              0.2222222222222222,
              "#3e4989"
             ],
             [
              0.3333333333333333,
              "#31688e"
             ],
             [
              0.4444444444444444,
              "#26828e"
             ],
             [
              0.5555555555555556,
              "#1f9e89"
             ],
             [
              0.6666666666666666,
              "#35b779"
             ],
             [
              0.7777777777777778,
              "#6ece58"
             ],
             [
              0.8888888888888888,
              "#b5de2b"
             ],
             [
              1,
              "#fde725"
             ]
            ],
            "type": "histogram2dcontour"
           }
          ],
          "mesh3d": [
           {
            "colorbar": {
             "outlinewidth": 1,
             "tickcolor": "rgb(36,36,36)",
             "ticks": "outside"
            },
            "type": "mesh3d"
           }
          ],
          "parcoords": [
           {
            "line": {
             "colorbar": {
              "outlinewidth": 1,
              "tickcolor": "rgb(36,36,36)",
              "ticks": "outside"
             }
            },
            "type": "parcoords"
           }
          ],
          "pie": [
           {
            "automargin": true,
            "type": "pie"
           }
          ],
          "scatter": [
           {
            "fillpattern": {
             "fillmode": "overlay",
             "size": 10,
             "solidity": 0.2
            },
            "type": "scatter"
           }
          ],
          "scatter3d": [
           {
            "line": {
             "colorbar": {
              "outlinewidth": 1,
              "tickcolor": "rgb(36,36,36)",
              "ticks": "outside"
             }
            },
            "marker": {
             "colorbar": {
              "outlinewidth": 1,
              "tickcolor": "rgb(36,36,36)",
              "ticks": "outside"
             }
            },
            "type": "scatter3d"
           }
          ],
          "scattercarpet": [
           {
            "marker": {
             "colorbar": {
              "outlinewidth": 1,
              "tickcolor": "rgb(36,36,36)",
              "ticks": "outside"
             }
            },
            "type": "scattercarpet"
           }
          ],
          "scattergeo": [
           {
            "marker": {
             "colorbar": {
              "outlinewidth": 1,
              "tickcolor": "rgb(36,36,36)",
              "ticks": "outside"
             }
            },
            "type": "scattergeo"
           }
          ],
          "scattergl": [
           {
            "marker": {
             "colorbar": {
              "outlinewidth": 1,
              "tickcolor": "rgb(36,36,36)",
              "ticks": "outside"
             }
            },
            "type": "scattergl"
           }
          ],
          "scattermapbox": [
           {
            "marker": {
             "colorbar": {
              "outlinewidth": 1,
              "tickcolor": "rgb(36,36,36)",
              "ticks": "outside"
             }
            },
            "type": "scattermapbox"
           }
          ],
          "scatterpolar": [
           {
            "marker": {
             "colorbar": {
              "outlinewidth": 1,
              "tickcolor": "rgb(36,36,36)",
              "ticks": "outside"
             }
            },
            "type": "scatterpolar"
           }
          ],
          "scatterpolargl": [
           {
            "marker": {
             "colorbar": {
              "outlinewidth": 1,
              "tickcolor": "rgb(36,36,36)",
              "ticks": "outside"
             }
            },
            "type": "scatterpolargl"
           }
          ],
          "scatterternary": [
           {
            "marker": {
             "colorbar": {
              "outlinewidth": 1,
              "tickcolor": "rgb(36,36,36)",
              "ticks": "outside"
             }
            },
            "type": "scatterternary"
           }
          ],
          "surface": [
           {
            "colorbar": {
             "outlinewidth": 1,
             "tickcolor": "rgb(36,36,36)",
             "ticks": "outside"
            },
            "colorscale": [
             [
              0,
              "#440154"
             ],
             [
              0.1111111111111111,
              "#482878"
             ],
             [
              0.2222222222222222,
              "#3e4989"
             ],
             [
              0.3333333333333333,
              "#31688e"
             ],
             [
              0.4444444444444444,
              "#26828e"
             ],
             [
              0.5555555555555556,
              "#1f9e89"
             ],
             [
              0.6666666666666666,
              "#35b779"
             ],
             [
              0.7777777777777778,
              "#6ece58"
             ],
             [
              0.8888888888888888,
              "#b5de2b"
             ],
             [
              1,
              "#fde725"
             ]
            ],
            "type": "surface"
           }
          ],
          "table": [
           {
            "cells": {
             "fill": {
              "color": "rgb(237,237,237)"
             },
             "line": {
              "color": "white"
             }
            },
            "header": {
             "fill": {
              "color": "rgb(217,217,217)"
             },
             "line": {
              "color": "white"
             }
            },
            "type": "table"
           }
          ]
         },
         "layout": {
          "annotationdefaults": {
           "arrowhead": 0,
           "arrowwidth": 1
          },
          "autotypenumbers": "strict",
          "coloraxis": {
           "colorbar": {
            "outlinewidth": 1,
            "tickcolor": "rgb(36,36,36)",
            "ticks": "outside"
           }
          },
          "colorscale": {
           "diverging": [
            [
             0,
             "rgb(103,0,31)"
            ],
            [
             0.1,
             "rgb(178,24,43)"
            ],
            [
             0.2,
             "rgb(214,96,77)"
            ],
            [
             0.3,
             "rgb(244,165,130)"
            ],
            [
             0.4,
             "rgb(253,219,199)"
            ],
            [
             0.5,
             "rgb(247,247,247)"
            ],
            [
             0.6,
             "rgb(209,229,240)"
            ],
            [
             0.7,
             "rgb(146,197,222)"
            ],
            [
             0.8,
             "rgb(67,147,195)"
            ],
            [
             0.9,
             "rgb(33,102,172)"
            ],
            [
             1,
             "rgb(5,48,97)"
            ]
           ],
           "sequential": [
            [
             0,
             "#440154"
            ],
            [
             0.1111111111111111,
             "#482878"
            ],
            [
             0.2222222222222222,
             "#3e4989"
            ],
            [
             0.3333333333333333,
             "#31688e"
            ],
            [
             0.4444444444444444,
             "#26828e"
            ],
            [
             0.5555555555555556,
             "#1f9e89"
            ],
            [
             0.6666666666666666,
             "#35b779"
            ],
            [
             0.7777777777777778,
             "#6ece58"
            ],
            [
             0.8888888888888888,
             "#b5de2b"
            ],
            [
             1,
             "#fde725"
            ]
           ],
           "sequentialminus": [
            [
             0,
             "#440154"
            ],
            [
             0.1111111111111111,
             "#482878"
            ],
            [
             0.2222222222222222,
             "#3e4989"
            ],
            [
             0.3333333333333333,
             "#31688e"
            ],
            [
             0.4444444444444444,
             "#26828e"
            ],
            [
             0.5555555555555556,
             "#1f9e89"
            ],
            [
             0.6666666666666666,
             "#35b779"
            ],
            [
             0.7777777777777778,
             "#6ece58"
            ],
            [
             0.8888888888888888,
             "#b5de2b"
            ],
            [
             1,
             "#fde725"
            ]
           ]
          },
          "colorway": [
           "#1F77B4",
           "#FF7F0E",
           "#2CA02C",
           "#D62728",
           "#9467BD",
           "#8C564B",
           "#E377C2",
           "#7F7F7F",
           "#BCBD22",
           "#17BECF"
          ],
          "font": {
           "color": "rgb(36,36,36)"
          },
          "geo": {
           "bgcolor": "white",
           "lakecolor": "white",
           "landcolor": "white",
           "showlakes": true,
           "showland": true,
           "subunitcolor": "white"
          },
          "hoverlabel": {
           "align": "left"
          },
          "hovermode": "closest",
          "mapbox": {
           "style": "light"
          },
          "paper_bgcolor": "white",
          "plot_bgcolor": "white",
          "polar": {
           "angularaxis": {
            "gridcolor": "rgb(232,232,232)",
            "linecolor": "rgb(36,36,36)",
            "showgrid": false,
            "showline": true,
            "ticks": "outside"
           },
           "bgcolor": "white",
           "radialaxis": {
            "gridcolor": "rgb(232,232,232)",
            "linecolor": "rgb(36,36,36)",
            "showgrid": false,
            "showline": true,
            "ticks": "outside"
           }
          },
          "scene": {
           "xaxis": {
            "backgroundcolor": "white",
            "gridcolor": "rgb(232,232,232)",
            "gridwidth": 2,
            "linecolor": "rgb(36,36,36)",
            "showbackground": true,
            "showgrid": false,
            "showline": true,
            "ticks": "outside",
            "zeroline": false,
            "zerolinecolor": "rgb(36,36,36)"
           },
           "yaxis": {
            "backgroundcolor": "white",
            "gridcolor": "rgb(232,232,232)",
            "gridwidth": 2,
            "linecolor": "rgb(36,36,36)",
            "showbackground": true,
            "showgrid": false,
            "showline": true,
            "ticks": "outside",
            "zeroline": false,
            "zerolinecolor": "rgb(36,36,36)"
           },
           "zaxis": {
            "backgroundcolor": "white",
            "gridcolor": "rgb(232,232,232)",
            "gridwidth": 2,
            "linecolor": "rgb(36,36,36)",
            "showbackground": true,
            "showgrid": false,
            "showline": true,
            "ticks": "outside",
            "zeroline": false,
            "zerolinecolor": "rgb(36,36,36)"
           }
          },
          "shapedefaults": {
           "fillcolor": "black",
           "line": {
            "width": 0
           },
           "opacity": 0.3
          },
          "ternary": {
           "aaxis": {
            "gridcolor": "rgb(232,232,232)",
            "linecolor": "rgb(36,36,36)",
            "showgrid": false,
            "showline": true,
            "ticks": "outside"
           },
           "baxis": {
            "gridcolor": "rgb(232,232,232)",
            "linecolor": "rgb(36,36,36)",
            "showgrid": false,
            "showline": true,
            "ticks": "outside"
           },
           "bgcolor": "white",
           "caxis": {
            "gridcolor": "rgb(232,232,232)",
            "linecolor": "rgb(36,36,36)",
            "showgrid": false,
            "showline": true,
            "ticks": "outside"
           }
          },
          "title": {
           "x": 0.05
          },
          "xaxis": {
           "automargin": true,
           "gridcolor": "rgb(232,232,232)",
           "linecolor": "rgb(36,36,36)",
           "showgrid": false,
           "showline": true,
           "ticks": "outside",
           "title": {
            "standoff": 15
           },
           "zeroline": false,
           "zerolinecolor": "rgb(36,36,36)"
          },
          "yaxis": {
           "automargin": true,
           "gridcolor": "rgb(232,232,232)",
           "linecolor": "rgb(36,36,36)",
           "showgrid": false,
           "showline": true,
           "ticks": "outside",
           "title": {
            "standoff": 15
           },
           "zeroline": false,
           "zerolinecolor": "rgb(36,36,36)"
          }
         }
        },
        "title": {
         "text": "modnet_nan_random_125_mmf_pgnn_"
        },
        "width": 600,
        "xaxis": {
         "dtick": 2,
         "range": [
          -6.2,
          6.2
         ],
         "showgrid": false,
         "tick0": 0,
         "tickmode": "linear",
         "title": {
          "text": "ln(<i>d</i><sub>KP</sub>) (pm/V)"
         }
        },
        "yaxis": {
         "dtick": 2,
         "range": [
          -6.2,
          6.2
         ],
         "showgrid": false,
         "tick0": 0,
         "tickmode": "linear",
         "title": {
          "text": "ln(<i>d&#770;</i><sub>KP</sub>) (pm/V)"
         }
        }
       }
      }
     },
     "metadata": {},
     "output_type": "display_data"
    },
    {
     "name": "stderr",
     "output_type": "stream",
     "text": [
      "/tmp/ipykernel_40938/1044345493.py:29: RuntimeWarning:\n",
      "\n",
      "invalid value encountered in log\n",
      "\n",
      "/tmp/ipykernel_40938/1044345493.py:39: RuntimeWarning:\n",
      "\n",
      "invalid value encountered in log\n",
      "\n"
     ]
    },
    {
     "data": {
      "application/vnd.plotly.v1+json": {
       "config": {
        "plotlyServerURL": "https://plot.ly"
       },
       "data": [
        {
         "mode": "markers",
         "name": "",
         "showlegend": false,
         "text": [
          "mp-11714",
          "mp-1180133",
          "mp-675161",
          "mp-983327",
          "mp-1225884",
          "mp-1219554",
          "mp-1196457",
          "mp-560894",
          "mp-1196282",
          "mp-1222122",
          "mp-1219328",
          "mp-1227014",
          "mp-1222205",
          "mp-1227124",
          "mp-1102285",
          "mp-1227389",
          "mp-1180688",
          "mp-1399519",
          "mp-1227110",
          "mp-1079676",
          "mp-24705",
          "mp-1516294",
          "mp-1228342",
          "mp-17862",
          "mp-504952",
          "mp-1222589",
          "mp-1223849",
          "mp-6524",
          "mp-1208039",
          "mp-625175",
          "mp-1219000",
          "mp-532424",
          "mp-1218099",
          "agm002306806",
          "agm003160552",
          "agm003202328",
          "agm002353946",
          "agm002278924",
          "agm002381637",
          "agm003225028",
          "agm003202410",
          "agm003230659",
          "agm003128264",
          "mp-781710",
          "mp-1227011",
          "mp-1216118",
          "agm002166075",
          "agm002135972",
          "mp-3267",
          "agm002224865",
          "agm002347507",
          "agm003157565",
          "mp-1216100",
          "mp-1195571",
          "mp-780232",
          "agm002018869",
          "agm002140778",
          "agm002041336",
          "agm003219193",
          "mp-1228160",
          "mp-1223489",
          "mp-1221169",
          "mp-4431",
          "mp-8393",
          "mp-1105300",
          "mp-36066",
          "mp-1103351",
          "mp-1103228",
          "mp-1029368",
          "mp-1217825",
          "mp-1029633",
          "agm002147818",
          "agm003248171",
          "mp-1223526",
          "agm002153139",
          "mp-239",
          "agm002137320",
          "mp-1079609",
          "mp-558219",
          "mp-555202",
          "mp-1216976",
          "mp-626172",
          "agm002156258",
          "mp-772748",
          "agm002237467",
          "mp-1223389",
          "agm002155430",
          "mp-9427",
          "mp-1225916",
          "agm003237859",
          "agm002156600",
          "mp-1221971",
          "mp-1220913",
          "agm002237807",
          "mp-1221578",
          "mp-1191266",
          "mp-1205304",
          "mp-1218334",
          "agm002215982",
          "mp-559752",
          "mp-1215642",
          "agm002813663",
          "mp-1247873",
          "mp-1194479",
          "mp-558521",
          "agm003213121",
          "agm002286033",
          "agm002297812",
          "mp-1147697",
          "mp-29157",
          "mp-558277",
          "agm003200486",
          "agm002157245",
          "mp-1370",
          "mp-555915",
          "mp-776226",
          "agm002138671",
          "agm002790067",
          "agm002163280",
          "mp-532444",
          "agm002177957",
          "agm006045098",
          "agm002205114",
          "agm2000005406",
          "agm002184995",
          "agm003235252",
          "agm002178912",
          "agm002115629",
          "agm003206267",
          "agm004739450",
          "agm003705731",
          "agm005112928",
          "agm005722808",
          "agm2000126920",
          "agm2000137141",
          "agm005848675",
          "mp-2802611",
          "agm002158085",
          "agm005545163",
          "agm005056300",
          "agm004786326",
          "agm003048447",
          "agm002102212",
          "agm001234439",
          "agm002056302",
          "agm002137665",
          "agm003555711",
          "mp-554918",
          "mp-570756",
          "agm001375463",
          "agm005208831",
          "mp-4452",
          "agm005882616",
          "agm2000001907",
          "agm005721583",
          "agm001281942",
          "agm003267560",
          "agm004773887",
          "agm004852816",
          "agm006020719",
          "agm004957157",
          "agm003112540",
          "agm002293392",
          "agm005785567",
          "agm004948831",
          "agm004787350",
          "agm005954902",
          "agm005199361",
          "agm2000035672",
          "agm002032016",
          "agm005180377",
          "agm002176403",
          "agm002182720",
          "agm002161194",
          "agm2000136656",
          "agm005882580",
          "agm002074653",
          "agm003561427",
          "mp-1208179",
          "agm002078874",
          "agm004949939",
          "agm002017294",
          "mp-556157",
          "mp-2720358",
          "agm002041315",
          "agm003469328",
          "agm005072178",
          "agm001037983",
          "mp-1219050",
          "agm005664742",
          "agm004773455",
          "agm005071058",
          "mp-4122"
         ],
         "type": "scatter",
         "x": [
          1.8640705135253752,
          1.6117304214168595,
          -0.735417753590477,
          -1.8262706939721245,
          -1.850645270291186,
          0.879425814242005,
          -2.2274896889093165,
          -0.696089616034016,
          -3.882833663787394,
          1.289120243301616,
          0.9963979996100724,
          3.603033032121485,
          2.4589765468345712,
          2.790030659323957,
          1.9858987831854715,
          3.6428908209397224,
          -0.05294795776462664,
          -0.6247534932868787,
          -4.692920184192641,
          0.34935301523658263,
          0.17335046478847826,
          -2.835642777981388,
          0.3231729545138501,
          3.502741045546834,
          2.6838822295557954,
          -1.752444876116761,
          -2.3787863570552736,
          0.26105238181782164,
          -0.03989242203594581,
          -1.2804277067714025,
          4.244051137050639,
          -2.4748075156257054,
          -0.13688827127044767,
          2.526551445920425,
          2.507903669532472,
          3.4877343549200677,
          4.763345534480794,
          5.1067363011827345,
          4.026941133211829,
          2.0481760038002164,
          4.901091842048587,
          1.1957410890099702,
          1.4454034712975874,
          2.7998477802550448,
          3.957572495507323,
          2.210315752672521,
          0.41722711058822537,
          4.46393144142344,
          3.2719959135064016,
          0.15077779951791634,
          1.2297544386049692,
          -1.2825056451299668,
          -0.6889089125582464,
          -1.8765034262960585,
          1.6042440672394471,
          -0.027150618875364636,
          1.3187090489912512,
          3.7546024892173433,
          -1.4450659395820022,
          -1.4209066269913853,
          -1.7967384501708528,
          2.3075919681926687,
          2.9764162815898874,
          2.8690281656036887,
          3.28690872407927,
          0.8959058949519814,
          0.8074179428193387,
          4.7141903883357745,
          2.706316306471154,
          2.47881518717918,
          2.0075454817088243,
          -0.950327008457287,
          -0.8266225001203459,
          -0.33676025917534985,
          0.9305096508337292,
          1.7539488690248592,
          0.42715893113319353,
          1.1853325631867693,
          1.4483748824014988,
          -1.3996753119350664,
          2.537243145948521,
          -1.4994368982155892,
          -0.4009194821956806,
          -1.3032098743935028,
          2.3705581417226256,
          3.2595451747209663,
          3.76569793269359,
          -0.554443488411422,
          0.1675766744469721,
          -1.0650621180496211,
          -0.09477325375659072,
          1.7699590867643369,
          1.3084114464845522,
          4.620808307046488,
          -0.2994748844647402,
          2.3921331538606,
          2.5344727826488813,
          4.055858008755907,
          0.012395977141582776,
          -0.032834310685466286,
          1.2589677005652813,
          2.331839312059552,
          1.984125917185856,
          -0.00038727661071183303,
          -0.059720922297569944,
          1.359985981463237,
          2.434496669436536,
          0.1357880158166226,
          2.0073184771879147,
          4.363206663676072,
          2.3575884703323733,
          -4.690858220270285,
          2.2189306306927823,
          2.801801019661196,
          -0.8720794454781192,
          0.8482032891473601,
          1.6076098710058706,
          3.8433263345501425,
          1.3678434278258595,
          -0.17633870175908242,
          3.152539064553639,
          0.13131007151193197,
          4.161423854925523,
          -3.339143890989934,
          5.119947149916917,
          -3.0486976774750096,
          3.2882575508876983,
          1.0413150832507418,
          2.955263511151345,
          4.282204515590123,
          1.904069829063425,
          1.535213681414796,
          0.23913537106058216,
          -1.4925748617087051,
          2.1057574191623862,
          2.0172124795442072,
          -0.10724678152218822,
          2.209325491877229,
          0.5020905996831126,
          2.023925095651449,
          2.6127497197709366,
          2.2902202719401097,
          -0.5457417303895249,
          -0.18960256344954837,
          1.2279568365509097,
          -1.5250777904817183,
          -0.09172098603956426,
          0.9118789633700044,
          -2.3207879151317936,
          3.3884489406417044,
          2.8109284465402595,
          3.053227480314319,
          -0.021446347716552343,
          -0.2984888956181751,
          2.2487349390343057,
          -0.18071476441805265,
          2.980006141767316,
          1.652769008297107,
          0.4904175004830009,
          -0.8843652374073264,
          -2.856624106075478,
          3.893549523381594,
          3.341348125266644,
          2.191071182277935,
          1.9941533814150725,
          0.53849175685732,
          3.5120751046974377,
          3.8446000769290665,
          -5.674020556567256,
          1.480103483943564,
          0.7192836638002035,
          0.4245670695122952,
          3.0991767517782693,
          2.2951224845999403,
          1.2008466644831577,
          2.14872709843379,
          0.6975896267302939,
          3.256920123633489,
          -0.15750553108580967,
          -2.138628965887914,
          1.9564913351882427,
          2.8293623014760114,
          0.839591180142205,
          -1.1013016310744437,
          4.062859542466981,
          -1.1642253854125997,
          -1.0321892814124467,
          4.566947790442395,
          4.94536809883449,
          1.1614508596374045,
          1.562007195494622,
          0.3327943572530076,
          -0.1306125808189969
         ],
         "y": [
          1.8558759394152624,
          1.2074735733837247,
          -1.4223249624450125,
          -0.3081891582514251,
          0.6631672309384496,
          2.6797250151743466,
          -2.6945091319714596,
          0.8643248668350612,
          null,
          3.4544435775819693,
          3.431239383185143,
          4.27013657906873,
          2.054162976067826,
          3.404470706784561,
          1.6542676107608656,
          2.9440466974910886,
          3.283176742675048,
          2.3783277578357995,
          -1.3395420343071451,
          null,
          -1.27800855651873,
          0.9869183042884622,
          0.5597123936700463,
          3.852000412090405,
          3.882741599526333,
          -0.6673874317479521,
          null,
          0.5694599866145984,
          -1.5386358170894705,
          -1.5528153801626758,
          3.814182407321008,
          null,
          1.7160579226018098,
          3.037120294116991,
          4.041316504261652,
          3.2947098049906125,
          3.2793691180436557,
          3.673025042502947,
          4.512906868402224,
          1.7221256480835754,
          3.804319757857011,
          -0.04239416198166236,
          1.8555329361393988,
          3.208468581446353,
          3.665209655377117,
          2.173545858045849,
          1.4826855714360216,
          4.414320920621284,
          3.101599390551396,
          2.3621536007134214,
          1.4977402943215674,
          1.0407301999444645,
          -1.5348062618894296,
          -4.418523498306676,
          1.5472143664760545,
          4.16376295207985,
          1.714724183504274,
          3.3588721208107377,
          -0.8254026446216913,
          null,
          -1.2922665502394264,
          3.1422173071083246,
          2.9274269207933297,
          3.8068688520035576,
          3.4727634119253996,
          0.6497894875581703,
          2.8125114447153297,
          4.405456650704063,
          2.635398936749844,
          2.3745447308082124,
          2.8287470728762423,
          -1.2420595549337874,
          -0.8673962004378565,
          -0.3992607173681464,
          -0.07086566955941384,
          3.095446370836404,
          0.03801421030429747,
          0.7324202682691071,
          2.0483799597754113,
          -0.08098648022400481,
          2.903042110762862,
          -0.5371554485417674,
          -0.7978751749516354,
          -2.3069417679416535,
          2.3885922783232827,
          3.252139219116024,
          3.4712736860248694,
          -0.9543165256254572,
          0.4211245780018577,
          0.08034796954008562,
          0.4196336148973334,
          2.456473920553899,
          1.9861931486234583,
          4.059521965376753,
          0.10392628147560612,
          1.5607434461387053,
          2.0501280500113306,
          3.4180265657917936,
          0.5506469478569729,
          -0.6758073047071192,
          2.321316467539112,
          1.7945989706650027,
          3.5983139038318552,
          -0.8551008906609097,
          0.613127516061537,
          2.2892191328026428,
          2.2829937572757713,
          0.32721851074185065,
          1.9504430896128375,
          3.9382367172827792,
          2.1836654390262047,
          0.931735208843344,
          3.0520695880279898,
          3.2784412878996707,
          2.0248682642129685,
          1.25228887234398,
          1.6189617560140683,
          3.737745866836227,
          1.4072857522579332,
          0.3344318017718697,
          2.842405318816725,
          -0.4927436123339045,
          3.7478763498129113,
          -0.8213777378651288,
          4.348754201066494,
          -1.447048661640776,
          3.119308707227044,
          0.6353185747352152,
          2.5893819866881382,
          4.165062181474236,
          1.7760325680058815,
          3.9609385058550655,
          null,
          null,
          2.7373435279974556,
          3.0221000378626752,
          -0.6463252266562103,
          2.7100223996300814,
          1.5197191156936365,
          1.8671154185499628,
          2.6232980465917013,
          2.6385085397004464,
          null,
          1.5780555048193756,
          0.6321812558250562,
          0.28566513721003295,
          0.9970073707107212,
          null,
          -3.093195830963803,
          4.217226878571818,
          3.87190565354537,
          2.875319971441775,
          -0.72472944267198,
          -0.9946357626937452,
          2.69618218668276,
          1.0205251811784657,
          4.440775598204268,
          2.06626991725313,
          1.954004188724048,
          -0.15226086178638962,
          -1.0769215025128025,
          3.974122506382929,
          3.433461304249244,
          2.431863226520962,
          2.34418992800203,
          0.8483095887145995,
          4.075336945268377,
          3.935290300645907,
          -3.5212422365345097,
          1.6326401476938324,
          0.889923238457487,
          0.7940482602311676,
          2.979157120669735,
          2.836610619684984,
          2.530037065799191,
          1.2364630255418632,
          0.5417419291764601,
          2.5884107690865132,
          -0.9084628135420318,
          -0.12435977630157924,
          4.002568840420621,
          3.22374993969683,
          0.9930561155409788,
          -1.371197470697335,
          4.302981462258957,
          -1.4952296152499138,
          -2.022619290044158,
          4.309648094850465,
          4.4041718157823215,
          1.1210361177717043,
          0.9217639837062096,
          0.2237989079601483,
          0.6187050840557625
         ]
        },
        {
         "marker": {
          "color": "red"
         },
         "mode": "markers",
         "name": "",
         "showlegend": false,
         "text": [
          "mp-21892",
          "mp-8070",
          "mp-558491",
          "mp-632684",
          "mp-23329",
          "mp-555150",
          "mp-6564",
          "mp-18578",
          "mp-760755",
          "mp-28456",
          "mp-4779",
          "mp-6268",
          "mp-706621",
          "mp-559057",
          "mp-24468",
          "mp-1778",
          "mp-2176",
          "mp-22909",
          "mp-4187",
          "mp-10341",
          "mp-9844",
          "mp-5784",
          "mp-20694",
          "mp-9066",
          "mp-6126",
          "mp-632229",
          "mp-12177",
          "mp-21521",
          "mp-1287",
          "mp-756044",
          "mp-754712",
          "mp-4812",
          "mp-18168",
          "mp-23866",
          "mp-558085",
          "mp-230",
          "mp-505702",
          "mp-559065",
          "mp-559545",
          "mp-549720",
          "mp-561385",
          "mp-13666",
          "mp-14444",
          "mp-1550",
          "mp-2469",
          "mp-31451",
          "mp-1023924",
          "mp-1100395",
          "mp-961682",
          "mp-38011",
          "mp-30847",
          "mp-8884",
          "mp-1017534",
          "mp-6980",
          "mp-560588",
          "mp-4524",
          "mp-4514"
         ],
         "type": "scatter",
         "x": [
          0.5129958888992996,
          -0.4855530271371922,
          -0.08740485527531697,
          -0.45681555937106766,
          2.1061629838671,
          0.513705495637027,
          -1.9635937181390624,
          1.703283963962633,
          -2.3134955345928385,
          2.144082225629274,
          -1.5605221852218962,
          1.8583162248321317,
          -1.748575568907935,
          0.4882103609421548,
          -0.8151682548135614,
          -1.1396223245682315,
          4.656254645145144,
          0.9508715487860324,
          2.0089890346526387,
          0.1465376158615837,
          -0.05300287393081044,
          -1.4301531189156178,
          0.08583757032428084,
          -1.1432595869803444,
          1.005487085967149,
          1.068043435793579,
          3.0280355492477735,
          2.0183066815251465,
          -1.952218665850329,
          -1.266849364995467,
          0.15670083532845222,
          -0.3037256566355995,
          0.8790197681158867,
          -0.08910579025424446,
          -0.905371489125012,
          1.7369375746256583,
          0.44855102088749943,
          1.871489666744384,
          1.7522422636101158,
          3.0993804513799335,
          -0.35650021086904377,
          3.917254174536937,
          2.5896455390744313,
          2.110202594025541,
          2.8167502162864495,
          4.2071054438569275,
          0.9457357302382252,
          -3.4095942440797313,
          2.9659438484697773,
          1.943455628463224,
          3.633400002575317,
          3.677733778199943,
          4.4593717050440915,
          4.122043167902257,
          3.355818208137122,
          4.494287161104849,
          2.491870994405037
         ],
         "y": [
          1.4193529650209549,
          null,
          -0.4003410366439145,
          -0.7718556862336777,
          2.0307662475575357,
          0.045519362810177544,
          -1.191801309782679,
          1.7912014157317178,
          null,
          2.808094673138024,
          -0.27579811594461967,
          0.922376404602236,
          -0.25694763338066146,
          0.8840552079413878,
          -0.11858113825378584,
          0.19403277713766015,
          4.277322594822538,
          0.142137136101968,
          2.8215133296663333,
          1.065731506531026,
          -1.0440863320947156,
          -0.3626094619650342,
          3.347285102186133,
          -4.167535188485805,
          1.561102327359052,
          1.03043414699376,
          2.2339702251988816,
          2.1725280833107137,
          2.734340656237172,
          -0.740973408322075,
          null,
          0.4542701196021813,
          1.1381268290353428,
          0.4236054282574516,
          0.11022469758807524,
          2.35092267812004,
          1.5063437153810746,
          1.7098845078532754,
          1.8670200310548195,
          2.950190464246919,
          -0.0429584824953342,
          3.366238244244348,
          2.4466031869896327,
          3.2152128747521895,
          3.370334720094324,
          4.310209959946884,
          2.10749487920589,
          null,
          4.621142803143836,
          1.696785140441348,
          4.580180165216024,
          4.529715180767774,
          3.760477282830208,
          2.9046223440364343,
          3.334938067394617,
          4.4462182135668025,
          2.4130788116825426
         ]
        },
        {
         "line": {
          "color": "gray",
          "dash": "dot"
         },
         "mode": "lines",
         "showlegend": false,
         "type": "scatter",
         "x": [
          -10,
          8
         ],
         "y": [
          -10,
          8
         ]
        }
       ],
       "layout": {
        "autosize": false,
        "font": {
         "size": 20
        },
        "height": 600,
        "template": {
         "data": {
          "bar": [
           {
            "error_x": {
             "color": "rgb(36,36,36)"
            },
            "error_y": {
             "color": "rgb(36,36,36)"
            },
            "marker": {
             "line": {
              "color": "white",
              "width": 0.5
             },
             "pattern": {
              "fillmode": "overlay",
              "size": 10,
              "solidity": 0.2
             }
            },
            "type": "bar"
           }
          ],
          "barpolar": [
           {
            "marker": {
             "line": {
              "color": "white",
              "width": 0.5
             },
             "pattern": {
              "fillmode": "overlay",
              "size": 10,
              "solidity": 0.2
             }
            },
            "type": "barpolar"
           }
          ],
          "carpet": [
           {
            "aaxis": {
             "endlinecolor": "rgb(36,36,36)",
             "gridcolor": "white",
             "linecolor": "white",
             "minorgridcolor": "white",
             "startlinecolor": "rgb(36,36,36)"
            },
            "baxis": {
             "endlinecolor": "rgb(36,36,36)",
             "gridcolor": "white",
             "linecolor": "white",
             "minorgridcolor": "white",
             "startlinecolor": "rgb(36,36,36)"
            },
            "type": "carpet"
           }
          ],
          "choropleth": [
           {
            "colorbar": {
             "outlinewidth": 1,
             "tickcolor": "rgb(36,36,36)",
             "ticks": "outside"
            },
            "type": "choropleth"
           }
          ],
          "contour": [
           {
            "colorbar": {
             "outlinewidth": 1,
             "tickcolor": "rgb(36,36,36)",
             "ticks": "outside"
            },
            "colorscale": [
             [
              0,
              "#440154"
             ],
             [
              0.1111111111111111,
              "#482878"
             ],
             [
              0.2222222222222222,
              "#3e4989"
             ],
             [
              0.3333333333333333,
              "#31688e"
             ],
             [
              0.4444444444444444,
              "#26828e"
             ],
             [
              0.5555555555555556,
              "#1f9e89"
             ],
             [
              0.6666666666666666,
              "#35b779"
             ],
             [
              0.7777777777777778,
              "#6ece58"
             ],
             [
              0.8888888888888888,
              "#b5de2b"
             ],
             [
              1,
              "#fde725"
             ]
            ],
            "type": "contour"
           }
          ],
          "contourcarpet": [
           {
            "colorbar": {
             "outlinewidth": 1,
             "tickcolor": "rgb(36,36,36)",
             "ticks": "outside"
            },
            "type": "contourcarpet"
           }
          ],
          "heatmap": [
           {
            "colorbar": {
             "outlinewidth": 1,
             "tickcolor": "rgb(36,36,36)",
             "ticks": "outside"
            },
            "colorscale": [
             [
              0,
              "#440154"
             ],
             [
              0.1111111111111111,
              "#482878"
             ],
             [
              0.2222222222222222,
              "#3e4989"
             ],
             [
              0.3333333333333333,
              "#31688e"
             ],
             [
              0.4444444444444444,
              "#26828e"
             ],
             [
              0.5555555555555556,
              "#1f9e89"
             ],
             [
              0.6666666666666666,
              "#35b779"
             ],
             [
              0.7777777777777778,
              "#6ece58"
             ],
             [
              0.8888888888888888,
              "#b5de2b"
             ],
             [
              1,
              "#fde725"
             ]
            ],
            "type": "heatmap"
           }
          ],
          "heatmapgl": [
           {
            "colorbar": {
             "outlinewidth": 1,
             "tickcolor": "rgb(36,36,36)",
             "ticks": "outside"
            },
            "colorscale": [
             [
              0,
              "#440154"
             ],
             [
              0.1111111111111111,
              "#482878"
             ],
             [
              0.2222222222222222,
              "#3e4989"
             ],
             [
              0.3333333333333333,
              "#31688e"
             ],
             [
              0.4444444444444444,
              "#26828e"
             ],
             [
              0.5555555555555556,
              "#1f9e89"
             ],
             [
              0.6666666666666666,
              "#35b779"
             ],
             [
              0.7777777777777778,
              "#6ece58"
             ],
             [
              0.8888888888888888,
              "#b5de2b"
             ],
             [
              1,
              "#fde725"
             ]
            ],
            "type": "heatmapgl"
           }
          ],
          "histogram": [
           {
            "marker": {
             "line": {
              "color": "white",
              "width": 0.6
             }
            },
            "type": "histogram"
           }
          ],
          "histogram2d": [
           {
            "colorbar": {
             "outlinewidth": 1,
             "tickcolor": "rgb(36,36,36)",
             "ticks": "outside"
            },
            "colorscale": [
             [
              0,
              "#440154"
             ],
             [
              0.1111111111111111,
              "#482878"
             ],
             [
              0.2222222222222222,
              "#3e4989"
             ],
             [
              0.3333333333333333,
              "#31688e"
             ],
             [
              0.4444444444444444,
              "#26828e"
             ],
             [
              0.5555555555555556,
              "#1f9e89"
             ],
             [
              0.6666666666666666,
              "#35b779"
             ],
             [
              0.7777777777777778,
              "#6ece58"
             ],
             [
              0.8888888888888888,
              "#b5de2b"
             ],
             [
              1,
              "#fde725"
             ]
            ],
            "type": "histogram2d"
           }
          ],
          "histogram2dcontour": [
           {
            "colorbar": {
             "outlinewidth": 1,
             "tickcolor": "rgb(36,36,36)",
             "ticks": "outside"
            },
            "colorscale": [
             [
              0,
              "#440154"
             ],
             [
              0.1111111111111111,
              "#482878"
             ],
             [
              0.2222222222222222,
              "#3e4989"
             ],
             [
              0.3333333333333333,
              "#31688e"
             ],
             [
              0.4444444444444444,
              "#26828e"
             ],
             [
              0.5555555555555556,
              "#1f9e89"
             ],
             [
              0.6666666666666666,
              "#35b779"
             ],
             [
              0.7777777777777778,
              "#6ece58"
             ],
             [
              0.8888888888888888,
              "#b5de2b"
             ],
             [
              1,
              "#fde725"
             ]
            ],
            "type": "histogram2dcontour"
           }
          ],
          "mesh3d": [
           {
            "colorbar": {
             "outlinewidth": 1,
             "tickcolor": "rgb(36,36,36)",
             "ticks": "outside"
            },
            "type": "mesh3d"
           }
          ],
          "parcoords": [
           {
            "line": {
             "colorbar": {
              "outlinewidth": 1,
              "tickcolor": "rgb(36,36,36)",
              "ticks": "outside"
             }
            },
            "type": "parcoords"
           }
          ],
          "pie": [
           {
            "automargin": true,
            "type": "pie"
           }
          ],
          "scatter": [
           {
            "fillpattern": {
             "fillmode": "overlay",
             "size": 10,
             "solidity": 0.2
            },
            "type": "scatter"
           }
          ],
          "scatter3d": [
           {
            "line": {
             "colorbar": {
              "outlinewidth": 1,
              "tickcolor": "rgb(36,36,36)",
              "ticks": "outside"
             }
            },
            "marker": {
             "colorbar": {
              "outlinewidth": 1,
              "tickcolor": "rgb(36,36,36)",
              "ticks": "outside"
             }
            },
            "type": "scatter3d"
           }
          ],
          "scattercarpet": [
           {
            "marker": {
             "colorbar": {
              "outlinewidth": 1,
              "tickcolor": "rgb(36,36,36)",
              "ticks": "outside"
             }
            },
            "type": "scattercarpet"
           }
          ],
          "scattergeo": [
           {
            "marker": {
             "colorbar": {
              "outlinewidth": 1,
              "tickcolor": "rgb(36,36,36)",
              "ticks": "outside"
             }
            },
            "type": "scattergeo"
           }
          ],
          "scattergl": [
           {
            "marker": {
             "colorbar": {
              "outlinewidth": 1,
              "tickcolor": "rgb(36,36,36)",
              "ticks": "outside"
             }
            },
            "type": "scattergl"
           }
          ],
          "scattermapbox": [
           {
            "marker": {
             "colorbar": {
              "outlinewidth": 1,
              "tickcolor": "rgb(36,36,36)",
              "ticks": "outside"
             }
            },
            "type": "scattermapbox"
           }
          ],
          "scatterpolar": [
           {
            "marker": {
             "colorbar": {
              "outlinewidth": 1,
              "tickcolor": "rgb(36,36,36)",
              "ticks": "outside"
             }
            },
            "type": "scatterpolar"
           }
          ],
          "scatterpolargl": [
           {
            "marker": {
             "colorbar": {
              "outlinewidth": 1,
              "tickcolor": "rgb(36,36,36)",
              "ticks": "outside"
             }
            },
            "type": "scatterpolargl"
           }
          ],
          "scatterternary": [
           {
            "marker": {
             "colorbar": {
              "outlinewidth": 1,
              "tickcolor": "rgb(36,36,36)",
              "ticks": "outside"
             }
            },
            "type": "scatterternary"
           }
          ],
          "surface": [
           {
            "colorbar": {
             "outlinewidth": 1,
             "tickcolor": "rgb(36,36,36)",
             "ticks": "outside"
            },
            "colorscale": [
             [
              0,
              "#440154"
             ],
             [
              0.1111111111111111,
              "#482878"
             ],
             [
              0.2222222222222222,
              "#3e4989"
             ],
             [
              0.3333333333333333,
              "#31688e"
             ],
             [
              0.4444444444444444,
              "#26828e"
             ],
             [
              0.5555555555555556,
              "#1f9e89"
             ],
             [
              0.6666666666666666,
              "#35b779"
             ],
             [
              0.7777777777777778,
              "#6ece58"
             ],
             [
              0.8888888888888888,
              "#b5de2b"
             ],
             [
              1,
              "#fde725"
             ]
            ],
            "type": "surface"
           }
          ],
          "table": [
           {
            "cells": {
             "fill": {
              "color": "rgb(237,237,237)"
             },
             "line": {
              "color": "white"
             }
            },
            "header": {
             "fill": {
              "color": "rgb(217,217,217)"
             },
             "line": {
              "color": "white"
             }
            },
            "type": "table"
           }
          ]
         },
         "layout": {
          "annotationdefaults": {
           "arrowhead": 0,
           "arrowwidth": 1
          },
          "autotypenumbers": "strict",
          "coloraxis": {
           "colorbar": {
            "outlinewidth": 1,
            "tickcolor": "rgb(36,36,36)",
            "ticks": "outside"
           }
          },
          "colorscale": {
           "diverging": [
            [
             0,
             "rgb(103,0,31)"
            ],
            [
             0.1,
             "rgb(178,24,43)"
            ],
            [
             0.2,
             "rgb(214,96,77)"
            ],
            [
             0.3,
             "rgb(244,165,130)"
            ],
            [
             0.4,
             "rgb(253,219,199)"
            ],
            [
             0.5,
             "rgb(247,247,247)"
            ],
            [
             0.6,
             "rgb(209,229,240)"
            ],
            [
             0.7,
             "rgb(146,197,222)"
            ],
            [
             0.8,
             "rgb(67,147,195)"
            ],
            [
             0.9,
             "rgb(33,102,172)"
            ],
            [
             1,
             "rgb(5,48,97)"
            ]
           ],
           "sequential": [
            [
             0,
             "#440154"
            ],
            [
             0.1111111111111111,
             "#482878"
            ],
            [
             0.2222222222222222,
             "#3e4989"
            ],
            [
             0.3333333333333333,
             "#31688e"
            ],
            [
             0.4444444444444444,
             "#26828e"
            ],
            [
             0.5555555555555556,
             "#1f9e89"
            ],
            [
             0.6666666666666666,
             "#35b779"
            ],
            [
             0.7777777777777778,
             "#6ece58"
            ],
            [
             0.8888888888888888,
             "#b5de2b"
            ],
            [
             1,
             "#fde725"
            ]
           ],
           "sequentialminus": [
            [
             0,
             "#440154"
            ],
            [
             0.1111111111111111,
             "#482878"
            ],
            [
             0.2222222222222222,
             "#3e4989"
            ],
            [
             0.3333333333333333,
             "#31688e"
            ],
            [
             0.4444444444444444,
             "#26828e"
            ],
            [
             0.5555555555555556,
             "#1f9e89"
            ],
            [
             0.6666666666666666,
             "#35b779"
            ],
            [
             0.7777777777777778,
             "#6ece58"
            ],
            [
             0.8888888888888888,
             "#b5de2b"
            ],
            [
             1,
             "#fde725"
            ]
           ]
          },
          "colorway": [
           "#1F77B4",
           "#FF7F0E",
           "#2CA02C",
           "#D62728",
           "#9467BD",
           "#8C564B",
           "#E377C2",
           "#7F7F7F",
           "#BCBD22",
           "#17BECF"
          ],
          "font": {
           "color": "rgb(36,36,36)"
          },
          "geo": {
           "bgcolor": "white",
           "lakecolor": "white",
           "landcolor": "white",
           "showlakes": true,
           "showland": true,
           "subunitcolor": "white"
          },
          "hoverlabel": {
           "align": "left"
          },
          "hovermode": "closest",
          "mapbox": {
           "style": "light"
          },
          "paper_bgcolor": "white",
          "plot_bgcolor": "white",
          "polar": {
           "angularaxis": {
            "gridcolor": "rgb(232,232,232)",
            "linecolor": "rgb(36,36,36)",
            "showgrid": false,
            "showline": true,
            "ticks": "outside"
           },
           "bgcolor": "white",
           "radialaxis": {
            "gridcolor": "rgb(232,232,232)",
            "linecolor": "rgb(36,36,36)",
            "showgrid": false,
            "showline": true,
            "ticks": "outside"
           }
          },
          "scene": {
           "xaxis": {
            "backgroundcolor": "white",
            "gridcolor": "rgb(232,232,232)",
            "gridwidth": 2,
            "linecolor": "rgb(36,36,36)",
            "showbackground": true,
            "showgrid": false,
            "showline": true,
            "ticks": "outside",
            "zeroline": false,
            "zerolinecolor": "rgb(36,36,36)"
           },
           "yaxis": {
            "backgroundcolor": "white",
            "gridcolor": "rgb(232,232,232)",
            "gridwidth": 2,
            "linecolor": "rgb(36,36,36)",
            "showbackground": true,
            "showgrid": false,
            "showline": true,
            "ticks": "outside",
            "zeroline": false,
            "zerolinecolor": "rgb(36,36,36)"
           },
           "zaxis": {
            "backgroundcolor": "white",
            "gridcolor": "rgb(232,232,232)",
            "gridwidth": 2,
            "linecolor": "rgb(36,36,36)",
            "showbackground": true,
            "showgrid": false,
            "showline": true,
            "ticks": "outside",
            "zeroline": false,
            "zerolinecolor": "rgb(36,36,36)"
           }
          },
          "shapedefaults": {
           "fillcolor": "black",
           "line": {
            "width": 0
           },
           "opacity": 0.3
          },
          "ternary": {
           "aaxis": {
            "gridcolor": "rgb(232,232,232)",
            "linecolor": "rgb(36,36,36)",
            "showgrid": false,
            "showline": true,
            "ticks": "outside"
           },
           "baxis": {
            "gridcolor": "rgb(232,232,232)",
            "linecolor": "rgb(36,36,36)",
            "showgrid": false,
            "showline": true,
            "ticks": "outside"
           },
           "bgcolor": "white",
           "caxis": {
            "gridcolor": "rgb(232,232,232)",
            "linecolor": "rgb(36,36,36)",
            "showgrid": false,
            "showline": true,
            "ticks": "outside"
           }
          },
          "title": {
           "x": 0.05
          },
          "xaxis": {
           "automargin": true,
           "gridcolor": "rgb(232,232,232)",
           "linecolor": "rgb(36,36,36)",
           "showgrid": false,
           "showline": true,
           "ticks": "outside",
           "title": {
            "standoff": 15
           },
           "zeroline": false,
           "zerolinecolor": "rgb(36,36,36)"
          },
          "yaxis": {
           "automargin": true,
           "gridcolor": "rgb(232,232,232)",
           "linecolor": "rgb(36,36,36)",
           "showgrid": false,
           "showline": true,
           "ticks": "outside",
           "title": {
            "standoff": 15
           },
           "zeroline": false,
           "zerolinecolor": "rgb(36,36,36)"
          }
         }
        },
        "title": {
         "text": "lgbm_dflt_random_250_mmf_pgnn_"
        },
        "width": 600,
        "xaxis": {
         "dtick": 2,
         "range": [
          -6.2,
          6.2
         ],
         "showgrid": false,
         "tick0": 0,
         "tickmode": "linear",
         "title": {
          "text": "ln(<i>d</i><sub>KP</sub>) (pm/V)"
         }
        },
        "yaxis": {
         "dtick": 2,
         "range": [
          -6.2,
          6.2
         ],
         "showgrid": false,
         "tick0": 0,
         "tickmode": "linear",
         "title": {
          "text": "ln(<i>d&#770;</i><sub>KP</sub>) (pm/V)"
         }
        }
       }
      }
     },
     "metadata": {},
     "output_type": "display_data"
    },
    {
     "data": {
      "application/vnd.plotly.v1+json": {
       "config": {
        "plotlyServerURL": "https://plot.ly"
       },
       "data": [
        {
         "mode": "markers",
         "name": "",
         "showlegend": false,
         "text": [
          "mp-11714",
          "mp-1180133",
          "mp-675161",
          "mp-983327",
          "mp-1225884",
          "mp-1219554",
          "mp-1196457",
          "mp-560894",
          "mp-1196282",
          "mp-1222122",
          "mp-1219328",
          "mp-1227014",
          "mp-1222205",
          "mp-1227124",
          "mp-1102285",
          "mp-1227389",
          "mp-1180688",
          "mp-1399519",
          "mp-1227110",
          "mp-1079676",
          "mp-24705",
          "mp-1516294",
          "mp-1228342",
          "mp-17862",
          "mp-504952",
          "mp-1222589",
          "mp-1223849",
          "mp-6524",
          "mp-1208039",
          "mp-625175",
          "mp-1219000",
          "mp-532424",
          "mp-1218099",
          "agm002306806",
          "agm003160552",
          "agm003202328",
          "agm002353946",
          "agm002278924",
          "agm002381637",
          "agm003225028",
          "agm003202410",
          "agm003230659",
          "agm003128264",
          "mp-781710",
          "mp-1227011",
          "mp-1216118",
          "agm002166075",
          "agm002135972",
          "mp-3267",
          "agm002224865",
          "agm002347507",
          "agm003157565",
          "mp-1216100",
          "mp-1195571",
          "mp-780232",
          "agm002018869",
          "agm002140778",
          "agm002041336",
          "agm003219193",
          "mp-1228160",
          "mp-1223489",
          "mp-1221169",
          "mp-4431",
          "mp-8393",
          "mp-1105300",
          "mp-36066",
          "mp-1103351",
          "mp-1103228",
          "mp-1029368",
          "mp-1217825",
          "mp-1029633",
          "agm002147818",
          "agm003248171",
          "mp-1223526",
          "agm002153139",
          "mp-239",
          "agm002137320",
          "mp-1079609",
          "mp-558219",
          "mp-555202",
          "mp-1216976",
          "mp-626172",
          "agm002156258",
          "mp-772748",
          "agm002237467",
          "mp-1223389",
          "agm002155430",
          "mp-9427",
          "mp-1225916",
          "agm003237859",
          "agm002156600",
          "mp-1221971",
          "mp-1220913",
          "agm002237807",
          "mp-1221578",
          "mp-1191266",
          "mp-1205304",
          "mp-1218334",
          "agm002215982",
          "mp-559752",
          "mp-1215642",
          "agm002813663",
          "mp-1247873",
          "mp-1194479",
          "mp-558521",
          "agm003213121",
          "agm002286033",
          "agm002297812",
          "mp-1147697",
          "mp-29157",
          "mp-558277",
          "agm003200486",
          "agm002157245",
          "mp-1370",
          "mp-555915",
          "mp-776226",
          "agm002138671",
          "agm002790067",
          "agm002163280",
          "mp-532444",
          "agm002177957",
          "agm006045098",
          "agm002205114",
          "agm2000005406",
          "agm002184995",
          "agm003235252",
          "agm002178912",
          "agm002115629",
          "agm003206267",
          "agm004739450",
          "agm003705731",
          "agm005112928",
          "agm005722808",
          "agm2000126920",
          "agm2000137141",
          "agm005848675",
          "mp-2802611",
          "agm002158085",
          "agm005545163",
          "agm005056300",
          "agm004786326",
          "agm003048447",
          "agm002102212",
          "agm001234439",
          "agm002056302",
          "agm002137665",
          "agm003555711",
          "mp-554918",
          "mp-570756",
          "agm001375463",
          "agm005208831",
          "mp-4452",
          "agm005882616",
          "agm2000001907",
          "agm005721583",
          "agm001281942",
          "agm003267560",
          "agm004773887",
          "agm004852816",
          "agm006020719",
          "agm004957157",
          "agm003112540",
          "agm002293392",
          "agm005785567",
          "agm004948831",
          "agm004787350",
          "agm005954902",
          "agm005199361",
          "agm2000035672",
          "agm002032016",
          "agm005180377",
          "agm002176403",
          "agm002182720",
          "agm002161194",
          "agm2000136656",
          "agm005882580",
          "agm002074653",
          "agm003561427",
          "mp-1208179",
          "agm002078874",
          "agm004949939",
          "agm002017294",
          "mp-556157",
          "mp-2720358",
          "agm002041315",
          "agm003469328",
          "agm005072178",
          "agm001037983",
          "mp-1219050",
          "agm005664742",
          "agm004773455",
          "agm005071058",
          "mp-4122"
         ],
         "type": "scatter",
         "x": [
          1.8640705135253752,
          1.6117304214168595,
          -0.735417753590477,
          -1.8262706939721245,
          -1.850645270291186,
          0.879425814242005,
          -2.2274896889093165,
          -0.696089616034016,
          -3.882833663787394,
          1.289120243301616,
          0.9963979996100724,
          3.603033032121485,
          2.4589765468345712,
          2.790030659323957,
          1.9858987831854715,
          3.6428908209397224,
          -0.05294795776462664,
          -0.6247534932868787,
          -4.692920184192641,
          0.34935301523658263,
          0.17335046478847826,
          -2.835642777981388,
          0.3231729545138501,
          3.502741045546834,
          2.6838822295557954,
          -1.752444876116761,
          -2.3787863570552736,
          0.26105238181782164,
          -0.03989242203594581,
          -1.2804277067714025,
          4.244051137050639,
          -2.4748075156257054,
          -0.13688827127044767,
          2.526551445920425,
          2.507903669532472,
          3.4877343549200677,
          4.763345534480794,
          5.1067363011827345,
          4.026941133211829,
          2.0481760038002164,
          4.901091842048587,
          1.1957410890099702,
          1.4454034712975874,
          2.7998477802550448,
          3.957572495507323,
          2.210315752672521,
          0.41722711058822537,
          4.46393144142344,
          3.2719959135064016,
          0.15077779951791634,
          1.2297544386049692,
          -1.2825056451299668,
          -0.6889089125582464,
          -1.8765034262960585,
          1.6042440672394471,
          -0.027150618875364636,
          1.3187090489912512,
          3.7546024892173433,
          -1.4450659395820022,
          -1.4209066269913853,
          -1.7967384501708528,
          2.3075919681926687,
          2.9764162815898874,
          2.8690281656036887,
          3.28690872407927,
          0.8959058949519814,
          0.8074179428193387,
          4.7141903883357745,
          2.706316306471154,
          2.47881518717918,
          2.0075454817088243,
          -0.950327008457287,
          -0.8266225001203459,
          -0.33676025917534985,
          0.9305096508337292,
          1.7539488690248592,
          0.42715893113319353,
          1.1853325631867693,
          1.4483748824014988,
          -1.3996753119350664,
          2.537243145948521,
          -1.4994368982155892,
          -0.4009194821956806,
          -1.3032098743935028,
          2.3705581417226256,
          3.2595451747209663,
          3.76569793269359,
          -0.554443488411422,
          0.1675766744469721,
          -1.0650621180496211,
          -0.09477325375659072,
          1.7699590867643369,
          1.3084114464845522,
          4.620808307046488,
          -0.2994748844647402,
          2.3921331538606,
          2.5344727826488813,
          4.055858008755907,
          0.012395977141582776,
          -0.032834310685466286,
          1.2589677005652813,
          2.331839312059552,
          1.984125917185856,
          -0.00038727661071183303,
          -0.059720922297569944,
          1.359985981463237,
          2.434496669436536,
          0.1357880158166226,
          2.0073184771879147,
          4.363206663676072,
          2.3575884703323733,
          -4.690858220270285,
          2.2189306306927823,
          2.801801019661196,
          -0.8720794454781192,
          0.8482032891473601,
          1.6076098710058706,
          3.8433263345501425,
          1.3678434278258595,
          -0.17633870175908242,
          3.152539064553639,
          0.13131007151193197,
          4.161423854925523,
          -3.339143890989934,
          5.119947149916917,
          -3.0486976774750096,
          3.2882575508876983,
          1.0413150832507418,
          2.955263511151345,
          4.282204515590123,
          1.904069829063425,
          1.535213681414796,
          0.23913537106058216,
          -1.4925748617087051,
          2.1057574191623862,
          2.0172124795442072,
          -0.10724678152218822,
          2.209325491877229,
          0.5020905996831126,
          2.023925095651449,
          2.6127497197709366,
          2.2902202719401097,
          -0.5457417303895249,
          -0.18960256344954837,
          1.2279568365509097,
          -1.5250777904817183,
          -0.09172098603956426,
          0.9118789633700044,
          -2.3207879151317936,
          3.3884489406417044,
          2.8109284465402595,
          3.053227480314319,
          -0.021446347716552343,
          -0.2984888956181751,
          2.2487349390343057,
          -0.18071476441805265,
          2.980006141767316,
          1.652769008297107,
          0.4904175004830009,
          -0.8843652374073264,
          -2.856624106075478,
          3.893549523381594,
          3.341348125266644,
          2.191071182277935,
          1.9941533814150725,
          0.53849175685732,
          3.5120751046974377,
          3.8446000769290665,
          -5.674020556567256,
          1.480103483943564,
          0.7192836638002035,
          0.4245670695122952,
          3.0991767517782693,
          2.2951224845999403,
          1.2008466644831577,
          2.14872709843379,
          0.6975896267302939,
          3.256920123633489,
          -0.15750553108580967,
          -2.138628965887914,
          1.9564913351882427,
          2.8293623014760114,
          0.839591180142205,
          -1.1013016310744437,
          4.062859542466981,
          -1.1642253854125997,
          -1.0321892814124467,
          4.566947790442395,
          4.94536809883449,
          1.1614508596374045,
          1.562007195494622,
          0.3327943572530076,
          -0.1306125808189969
         ],
         "y": [
          1.9215575023113665,
          2.0842377214027463,
          -0.771922047906957,
          -0.3272403718089836,
          -0.9624723152301148,
          2.0171707440345914,
          -0.7254671366753609,
          -0.8792278977093966,
          -1.5350320968832334,
          3.2377724873134177,
          2.6947654492017032,
          4.05885755730669,
          2.1563455460933088,
          3.3904497151172452,
          1.9725255125055208,
          3.1285213895333555,
          3.196174595876469,
          1.8459589644673888,
          -1.914140137201332,
          0.13802492534851868,
          0.04610225940359535,
          1.429240317716458,
          0.6443485809830121,
          3.8299535997591065,
          3.852281298541041,
          -1.2781052943804436,
          -0.11836491232685813,
          -0.3436769956627948,
          0.19022615788508687,
          -1.2145653691476264,
          3.9548997880626686,
          -0.136384591266059,
          1.3329492765273248,
          3.2160949672887873,
          4.188844301415917,
          3.2880466575118716,
          3.546081533949919,
          4.037830836815003,
          4.625700332127796,
          2.198898717251126,
          3.9268117569394336,
          0.6216654648654351,
          1.5021680560781137,
          2.6898937309968,
          3.4062881112489176,
          2.34211342273025,
          3.0382517243336347,
          4.353681635618153,
          3.2333666803627072,
          1.9927913245950253,
          1.4971274087474102,
          -1.03215116495849,
          0.17770313231522716,
          0.44497970890249894,
          1.576688645814855,
          4.251307695728006,
          0.9878180445692714,
          3.6890748304934142,
          -1.0116847706103955,
          -1.703088613835387,
          -1.4495852616806246,
          2.995980942284028,
          3.019230077721184,
          3.6428673220984606,
          3.3676608070981215,
          0.9005204632404061,
          2.904732321889264,
          4.059405570597163,
          2.6302678251699314,
          3.1306519436003963,
          2.8962218671186917,
          -1.7724150830718757,
          -1.2329983317133353,
          -0.7055329677310124,
          0.5683044590669298,
          2.446112593528148,
          0.6699689284967885,
          1.0676593561951364,
          2.106736756340737,
          -0.6640142103178007,
          3.2119465036554544,
          -2.3946756546676387,
          -0.6265454033800293,
          -1.3789149284058229,
          2.3002140828369986,
          3.004972671043975,
          3.4255072985532555,
          -0.49277228316368465,
          -0.014567929008037432,
          0.050642513252464,
          0.15192453547751147,
          2.2825770899038007,
          1.509545432018771,
          3.592911804775847,
          1.02757646378506,
          2.038060153903793,
          1.9244391762531363,
          3.7359643096318496,
          -0.08468551917632444,
          -0.14811931729660602,
          2.3602552092881384,
          2.5026639731875986,
          3.360372814723468,
          -0.2220208329590619,
          0.584482988074043,
          2.058593538295494,
          2.1505087387016997,
          0.18523846365848587,
          2.015725411255664,
          3.969277571104693,
          2.2162658833735276,
          0.21369890762179383,
          2.6439719846350807,
          3.5656054346317423,
          1.1913999465111231,
          0.7023584667999853,
          1.4070737263426405,
          3.680972131769118,
          1.2990266557724484,
          -0.2194700712528066,
          2.994441287262533,
          0.07374656467214023,
          4.079790730631192,
          -0.9393486010293364,
          4.09955968657392,
          -0.8969873818151198,
          3.0625468570049788,
          0.8163218856241443,
          2.6791788874339932,
          4.148492691262033,
          1.513573958279908,
          3.785788776955001,
          1.0839097152830817,
          0.7509140619291924,
          3.2015714271901192,
          3.3216231420213633,
          -0.5083989365973094,
          2.3889704711941326,
          0.3454936291804452,
          1.957005105765608,
          2.474491702658423,
          2.632284005146632,
          -0.6033027602919524,
          2.520680666228616,
          0.7947893642544337,
          -1.4586307954549405,
          0.6748280041918261,
          0.04516458955946203,
          -1.0147756377888597,
          4.299788993917907,
          3.2544371800763483,
          2.953477937211056,
          -0.2244440518757795,
          -0.3615639538329044,
          2.693975650766234,
          0.2906358241981223,
          4.234093394310657,
          1.9170932330344088,
          2.0764340877089147,
          -0.974929584426912,
          -2.429303881850291,
          3.95493866354764,
          3.605949289009271,
          2.5915238856137446,
          2.1772870937447872,
          0.5077308240300955,
          4.190647265921343,
          3.9370257771053945,
          -1.5744060845791743,
          2.0075669168000325,
          1.7780825807070064,
          0.3305349695752079,
          2.999509432694893,
          2.5477153880018117,
          2.571481724089899,
          1.1129075298961006,
          0.4229064107863221,
          2.934274865781436,
          -0.3215943734078022,
          0.26326312533272084,
          2.8512506954663484,
          3.3094929537043165,
          1.468738326540772,
          -0.6885858445710531,
          4.027889021746133,
          -1.1671581190010438,
          -1.6046399450652402,
          4.281998142298956,
          4.362994933355614,
          0.974764227169708,
          1.1330799617083094,
          0.6041156060856404,
          0.303306535275675
         ]
        },
        {
         "marker": {
          "color": "red"
         },
         "mode": "markers",
         "name": "",
         "showlegend": false,
         "text": [
          "mp-21892",
          "mp-8070",
          "mp-558491",
          "mp-632684",
          "mp-23329",
          "mp-555150",
          "mp-6564",
          "mp-18578",
          "mp-760755",
          "mp-28456",
          "mp-4779",
          "mp-6268",
          "mp-706621",
          "mp-559057",
          "mp-24468",
          "mp-1778",
          "mp-2176",
          "mp-22909",
          "mp-4187",
          "mp-10341",
          "mp-9844",
          "mp-5784",
          "mp-20694",
          "mp-9066",
          "mp-6126",
          "mp-632229",
          "mp-12177",
          "mp-21521",
          "mp-1287",
          "mp-756044",
          "mp-754712",
          "mp-4812",
          "mp-18168",
          "mp-23866",
          "mp-558085",
          "mp-230",
          "mp-505702",
          "mp-559065",
          "mp-559545",
          "mp-549720",
          "mp-561385",
          "mp-13666",
          "mp-14444",
          "mp-1550",
          "mp-2469",
          "mp-31451",
          "mp-1023924",
          "mp-1100395",
          "mp-961682",
          "mp-38011",
          "mp-30847",
          "mp-8884",
          "mp-1017534",
          "mp-6980",
          "mp-560588",
          "mp-4524",
          "mp-4514"
         ],
         "type": "scatter",
         "x": [
          0.5129958888992996,
          -0.4855530271371922,
          -0.08740485527531697,
          -0.45681555937106766,
          2.1061629838671,
          0.513705495637027,
          -1.9635937181390624,
          1.703283963962633,
          -2.3134955345928385,
          2.144082225629274,
          -1.5605221852218962,
          1.8583162248321317,
          -1.748575568907935,
          0.4882103609421548,
          -0.8151682548135614,
          -1.1396223245682315,
          4.656254645145144,
          0.9508715487860324,
          2.0089890346526387,
          0.1465376158615837,
          -0.05300287393081044,
          -1.4301531189156178,
          0.08583757032428084,
          -1.1432595869803444,
          1.005487085967149,
          1.068043435793579,
          3.0280355492477735,
          2.0183066815251465,
          -1.952218665850329,
          -1.266849364995467,
          0.15670083532845222,
          -0.3037256566355995,
          0.8790197681158867,
          -0.08910579025424446,
          -0.905371489125012,
          1.7369375746256583,
          0.44855102088749943,
          1.871489666744384,
          1.7522422636101158,
          3.0993804513799335,
          -0.35650021086904377,
          3.917254174536937,
          2.5896455390744313,
          2.110202594025541,
          2.8167502162864495,
          4.2071054438569275,
          0.9457357302382252,
          -3.4095942440797313,
          2.9659438484697773,
          1.943455628463224,
          3.633400002575317,
          3.677733778199943,
          4.4593717050440915,
          4.122043167902257,
          3.355818208137122,
          4.494287161104849,
          2.491870994405037
         ],
         "y": [
          1.371223164496986,
          -0.817094003369651,
          -0.5399618094260434,
          -0.6860923398080622,
          1.8920753920761793,
          -0.06001979409895647,
          -0.4629621150157945,
          2.0332134312791843,
          -0.101444025559351,
          2.7812505656114688,
          -0.23990590002927173,
          1.1934330580005048,
          -1.0317143724264015,
          0.7738418933182686,
          -0.28079045546606435,
          0.8520243701504727,
          4.292888322192607,
          0.5115630014017242,
          2.2325026281324742,
          0.650677204757795,
          -0.12455084306308722,
          0.2574514264144071,
          2.263673123970305,
          -0.06591051157342925,
          1.4951797365214852,
          0.6680708497215235,
          1.5456912952739332,
          1.8991094611392891,
          2.9590095066928415,
          0.44691362322122047,
          0.8853089583452517,
          0.468013468512014,
          0.6047762020884844,
          0.6561283731441895,
          -0.0343418352567437,
          3.197554045069161,
          1.7794701281143632,
          2.2228803639129966,
          1.90789989431718,
          3.1322396111673605,
          0.6642856916994824,
          3.423246349103141,
          2.8436841604853647,
          2.954643336178307,
          2.579358239126416,
          4.361034316578979,
          2.3853860508941684,
          1.324763560613289,
          4.197747124915042,
          1.404570413464642,
          3.7994276722460265,
          4.388999459661207,
          3.706601085273706,
          2.783281048968284,
          2.9722113014742675,
          4.245521691256807,
          2.5285163491341858
         ]
        },
        {
         "line": {
          "color": "gray",
          "dash": "dot"
         },
         "mode": "lines",
         "showlegend": false,
         "type": "scatter",
         "x": [
          -10,
          8
         ],
         "y": [
          -10,
          8
         ]
        }
       ],
       "layout": {
        "autosize": false,
        "font": {
         "size": 20
        },
        "height": 600,
        "template": {
         "data": {
          "bar": [
           {
            "error_x": {
             "color": "rgb(36,36,36)"
            },
            "error_y": {
             "color": "rgb(36,36,36)"
            },
            "marker": {
             "line": {
              "color": "white",
              "width": 0.5
             },
             "pattern": {
              "fillmode": "overlay",
              "size": 10,
              "solidity": 0.2
             }
            },
            "type": "bar"
           }
          ],
          "barpolar": [
           {
            "marker": {
             "line": {
              "color": "white",
              "width": 0.5
             },
             "pattern": {
              "fillmode": "overlay",
              "size": 10,
              "solidity": 0.2
             }
            },
            "type": "barpolar"
           }
          ],
          "carpet": [
           {
            "aaxis": {
             "endlinecolor": "rgb(36,36,36)",
             "gridcolor": "white",
             "linecolor": "white",
             "minorgridcolor": "white",
             "startlinecolor": "rgb(36,36,36)"
            },
            "baxis": {
             "endlinecolor": "rgb(36,36,36)",
             "gridcolor": "white",
             "linecolor": "white",
             "minorgridcolor": "white",
             "startlinecolor": "rgb(36,36,36)"
            },
            "type": "carpet"
           }
          ],
          "choropleth": [
           {
            "colorbar": {
             "outlinewidth": 1,
             "tickcolor": "rgb(36,36,36)",
             "ticks": "outside"
            },
            "type": "choropleth"
           }
          ],
          "contour": [
           {
            "colorbar": {
             "outlinewidth": 1,
             "tickcolor": "rgb(36,36,36)",
             "ticks": "outside"
            },
            "colorscale": [
             [
              0,
              "#440154"
             ],
             [
              0.1111111111111111,
              "#482878"
             ],
             [
              0.2222222222222222,
              "#3e4989"
             ],
             [
              0.3333333333333333,
              "#31688e"
             ],
             [
              0.4444444444444444,
              "#26828e"
             ],
             [
              0.5555555555555556,
              "#1f9e89"
             ],
             [
              0.6666666666666666,
              "#35b779"
             ],
             [
              0.7777777777777778,
              "#6ece58"
             ],
             [
              0.8888888888888888,
              "#b5de2b"
             ],
             [
              1,
              "#fde725"
             ]
            ],
            "type": "contour"
           }
          ],
          "contourcarpet": [
           {
            "colorbar": {
             "outlinewidth": 1,
             "tickcolor": "rgb(36,36,36)",
             "ticks": "outside"
            },
            "type": "contourcarpet"
           }
          ],
          "heatmap": [
           {
            "colorbar": {
             "outlinewidth": 1,
             "tickcolor": "rgb(36,36,36)",
             "ticks": "outside"
            },
            "colorscale": [
             [
              0,
              "#440154"
             ],
             [
              0.1111111111111111,
              "#482878"
             ],
             [
              0.2222222222222222,
              "#3e4989"
             ],
             [
              0.3333333333333333,
              "#31688e"
             ],
             [
              0.4444444444444444,
              "#26828e"
             ],
             [
              0.5555555555555556,
              "#1f9e89"
             ],
             [
              0.6666666666666666,
              "#35b779"
             ],
             [
              0.7777777777777778,
              "#6ece58"
             ],
             [
              0.8888888888888888,
              "#b5de2b"
             ],
             [
              1,
              "#fde725"
             ]
            ],
            "type": "heatmap"
           }
          ],
          "heatmapgl": [
           {
            "colorbar": {
             "outlinewidth": 1,
             "tickcolor": "rgb(36,36,36)",
             "ticks": "outside"
            },
            "colorscale": [
             [
              0,
              "#440154"
             ],
             [
              0.1111111111111111,
              "#482878"
             ],
             [
              0.2222222222222222,
              "#3e4989"
             ],
             [
              0.3333333333333333,
              "#31688e"
             ],
             [
              0.4444444444444444,
              "#26828e"
             ],
             [
              0.5555555555555556,
              "#1f9e89"
             ],
             [
              0.6666666666666666,
              "#35b779"
             ],
             [
              0.7777777777777778,
              "#6ece58"
             ],
             [
              0.8888888888888888,
              "#b5de2b"
             ],
             [
              1,
              "#fde725"
             ]
            ],
            "type": "heatmapgl"
           }
          ],
          "histogram": [
           {
            "marker": {
             "line": {
              "color": "white",
              "width": 0.6
             }
            },
            "type": "histogram"
           }
          ],
          "histogram2d": [
           {
            "colorbar": {
             "outlinewidth": 1,
             "tickcolor": "rgb(36,36,36)",
             "ticks": "outside"
            },
            "colorscale": [
             [
              0,
              "#440154"
             ],
             [
              0.1111111111111111,
              "#482878"
             ],
             [
              0.2222222222222222,
              "#3e4989"
             ],
             [
              0.3333333333333333,
              "#31688e"
             ],
             [
              0.4444444444444444,
              "#26828e"
             ],
             [
              0.5555555555555556,
              "#1f9e89"
             ],
             [
              0.6666666666666666,
              "#35b779"
             ],
             [
              0.7777777777777778,
              "#6ece58"
             ],
             [
              0.8888888888888888,
              "#b5de2b"
             ],
             [
              1,
              "#fde725"
             ]
            ],
            "type": "histogram2d"
           }
          ],
          "histogram2dcontour": [
           {
            "colorbar": {
             "outlinewidth": 1,
             "tickcolor": "rgb(36,36,36)",
             "ticks": "outside"
            },
            "colorscale": [
             [
              0,
              "#440154"
             ],
             [
              0.1111111111111111,
              "#482878"
             ],
             [
              0.2222222222222222,
              "#3e4989"
             ],
             [
              0.3333333333333333,
              "#31688e"
             ],
             [
              0.4444444444444444,
              "#26828e"
             ],
             [
              0.5555555555555556,
              "#1f9e89"
             ],
             [
              0.6666666666666666,
              "#35b779"
             ],
             [
              0.7777777777777778,
              "#6ece58"
             ],
             [
              0.8888888888888888,
              "#b5de2b"
             ],
             [
              1,
              "#fde725"
             ]
            ],
            "type": "histogram2dcontour"
           }
          ],
          "mesh3d": [
           {
            "colorbar": {
             "outlinewidth": 1,
             "tickcolor": "rgb(36,36,36)",
             "ticks": "outside"
            },
            "type": "mesh3d"
           }
          ],
          "parcoords": [
           {
            "line": {
             "colorbar": {
              "outlinewidth": 1,
              "tickcolor": "rgb(36,36,36)",
              "ticks": "outside"
             }
            },
            "type": "parcoords"
           }
          ],
          "pie": [
           {
            "automargin": true,
            "type": "pie"
           }
          ],
          "scatter": [
           {
            "fillpattern": {
             "fillmode": "overlay",
             "size": 10,
             "solidity": 0.2
            },
            "type": "scatter"
           }
          ],
          "scatter3d": [
           {
            "line": {
             "colorbar": {
              "outlinewidth": 1,
              "tickcolor": "rgb(36,36,36)",
              "ticks": "outside"
             }
            },
            "marker": {
             "colorbar": {
              "outlinewidth": 1,
              "tickcolor": "rgb(36,36,36)",
              "ticks": "outside"
             }
            },
            "type": "scatter3d"
           }
          ],
          "scattercarpet": [
           {
            "marker": {
             "colorbar": {
              "outlinewidth": 1,
              "tickcolor": "rgb(36,36,36)",
              "ticks": "outside"
             }
            },
            "type": "scattercarpet"
           }
          ],
          "scattergeo": [
           {
            "marker": {
             "colorbar": {
              "outlinewidth": 1,
              "tickcolor": "rgb(36,36,36)",
              "ticks": "outside"
             }
            },
            "type": "scattergeo"
           }
          ],
          "scattergl": [
           {
            "marker": {
             "colorbar": {
              "outlinewidth": 1,
              "tickcolor": "rgb(36,36,36)",
              "ticks": "outside"
             }
            },
            "type": "scattergl"
           }
          ],
          "scattermapbox": [
           {
            "marker": {
             "colorbar": {
              "outlinewidth": 1,
              "tickcolor": "rgb(36,36,36)",
              "ticks": "outside"
             }
            },
            "type": "scattermapbox"
           }
          ],
          "scatterpolar": [
           {
            "marker": {
             "colorbar": {
              "outlinewidth": 1,
              "tickcolor": "rgb(36,36,36)",
              "ticks": "outside"
             }
            },
            "type": "scatterpolar"
           }
          ],
          "scatterpolargl": [
           {
            "marker": {
             "colorbar": {
              "outlinewidth": 1,
              "tickcolor": "rgb(36,36,36)",
              "ticks": "outside"
             }
            },
            "type": "scatterpolargl"
           }
          ],
          "scatterternary": [
           {
            "marker": {
             "colorbar": {
              "outlinewidth": 1,
              "tickcolor": "rgb(36,36,36)",
              "ticks": "outside"
             }
            },
            "type": "scatterternary"
           }
          ],
          "surface": [
           {
            "colorbar": {
             "outlinewidth": 1,
             "tickcolor": "rgb(36,36,36)",
             "ticks": "outside"
            },
            "colorscale": [
             [
              0,
              "#440154"
             ],
             [
              0.1111111111111111,
              "#482878"
             ],
             [
              0.2222222222222222,
              "#3e4989"
             ],
             [
              0.3333333333333333,
              "#31688e"
             ],
             [
              0.4444444444444444,
              "#26828e"
             ],
             [
              0.5555555555555556,
              "#1f9e89"
             ],
             [
              0.6666666666666666,
              "#35b779"
             ],
             [
              0.7777777777777778,
              "#6ece58"
             ],
             [
              0.8888888888888888,
              "#b5de2b"
             ],
             [
              1,
              "#fde725"
             ]
            ],
            "type": "surface"
           }
          ],
          "table": [
           {
            "cells": {
             "fill": {
              "color": "rgb(237,237,237)"
             },
             "line": {
              "color": "white"
             }
            },
            "header": {
             "fill": {
              "color": "rgb(217,217,217)"
             },
             "line": {
              "color": "white"
             }
            },
            "type": "table"
           }
          ]
         },
         "layout": {
          "annotationdefaults": {
           "arrowhead": 0,
           "arrowwidth": 1
          },
          "autotypenumbers": "strict",
          "coloraxis": {
           "colorbar": {
            "outlinewidth": 1,
            "tickcolor": "rgb(36,36,36)",
            "ticks": "outside"
           }
          },
          "colorscale": {
           "diverging": [
            [
             0,
             "rgb(103,0,31)"
            ],
            [
             0.1,
             "rgb(178,24,43)"
            ],
            [
             0.2,
             "rgb(214,96,77)"
            ],
            [
             0.3,
             "rgb(244,165,130)"
            ],
            [
             0.4,
             "rgb(253,219,199)"
            ],
            [
             0.5,
             "rgb(247,247,247)"
            ],
            [
             0.6,
             "rgb(209,229,240)"
            ],
            [
             0.7,
             "rgb(146,197,222)"
            ],
            [
             0.8,
             "rgb(67,147,195)"
            ],
            [
             0.9,
             "rgb(33,102,172)"
            ],
            [
             1,
             "rgb(5,48,97)"
            ]
           ],
           "sequential": [
            [
             0,
             "#440154"
            ],
            [
             0.1111111111111111,
             "#482878"
            ],
            [
             0.2222222222222222,
             "#3e4989"
            ],
            [
             0.3333333333333333,
             "#31688e"
            ],
            [
             0.4444444444444444,
             "#26828e"
            ],
            [
             0.5555555555555556,
             "#1f9e89"
            ],
            [
             0.6666666666666666,
             "#35b779"
            ],
            [
             0.7777777777777778,
             "#6ece58"
            ],
            [
             0.8888888888888888,
             "#b5de2b"
            ],
            [
             1,
             "#fde725"
            ]
           ],
           "sequentialminus": [
            [
             0,
             "#440154"
            ],
            [
             0.1111111111111111,
             "#482878"
            ],
            [
             0.2222222222222222,
             "#3e4989"
            ],
            [
             0.3333333333333333,
             "#31688e"
            ],
            [
             0.4444444444444444,
             "#26828e"
            ],
            [
             0.5555555555555556,
             "#1f9e89"
            ],
            [
             0.6666666666666666,
             "#35b779"
            ],
            [
             0.7777777777777778,
             "#6ece58"
            ],
            [
             0.8888888888888888,
             "#b5de2b"
            ],
            [
             1,
             "#fde725"
            ]
           ]
          },
          "colorway": [
           "#1F77B4",
           "#FF7F0E",
           "#2CA02C",
           "#D62728",
           "#9467BD",
           "#8C564B",
           "#E377C2",
           "#7F7F7F",
           "#BCBD22",
           "#17BECF"
          ],
          "font": {
           "color": "rgb(36,36,36)"
          },
          "geo": {
           "bgcolor": "white",
           "lakecolor": "white",
           "landcolor": "white",
           "showlakes": true,
           "showland": true,
           "subunitcolor": "white"
          },
          "hoverlabel": {
           "align": "left"
          },
          "hovermode": "closest",
          "mapbox": {
           "style": "light"
          },
          "paper_bgcolor": "white",
          "plot_bgcolor": "white",
          "polar": {
           "angularaxis": {
            "gridcolor": "rgb(232,232,232)",
            "linecolor": "rgb(36,36,36)",
            "showgrid": false,
            "showline": true,
            "ticks": "outside"
           },
           "bgcolor": "white",
           "radialaxis": {
            "gridcolor": "rgb(232,232,232)",
            "linecolor": "rgb(36,36,36)",
            "showgrid": false,
            "showline": true,
            "ticks": "outside"
           }
          },
          "scene": {
           "xaxis": {
            "backgroundcolor": "white",
            "gridcolor": "rgb(232,232,232)",
            "gridwidth": 2,
            "linecolor": "rgb(36,36,36)",
            "showbackground": true,
            "showgrid": false,
            "showline": true,
            "ticks": "outside",
            "zeroline": false,
            "zerolinecolor": "rgb(36,36,36)"
           },
           "yaxis": {
            "backgroundcolor": "white",
            "gridcolor": "rgb(232,232,232)",
            "gridwidth": 2,
            "linecolor": "rgb(36,36,36)",
            "showbackground": true,
            "showgrid": false,
            "showline": true,
            "ticks": "outside",
            "zeroline": false,
            "zerolinecolor": "rgb(36,36,36)"
           },
           "zaxis": {
            "backgroundcolor": "white",
            "gridcolor": "rgb(232,232,232)",
            "gridwidth": 2,
            "linecolor": "rgb(36,36,36)",
            "showbackground": true,
            "showgrid": false,
            "showline": true,
            "ticks": "outside",
            "zeroline": false,
            "zerolinecolor": "rgb(36,36,36)"
           }
          },
          "shapedefaults": {
           "fillcolor": "black",
           "line": {
            "width": 0
           },
           "opacity": 0.3
          },
          "ternary": {
           "aaxis": {
            "gridcolor": "rgb(232,232,232)",
            "linecolor": "rgb(36,36,36)",
            "showgrid": false,
            "showline": true,
            "ticks": "outside"
           },
           "baxis": {
            "gridcolor": "rgb(232,232,232)",
            "linecolor": "rgb(36,36,36)",
            "showgrid": false,
            "showline": true,
            "ticks": "outside"
           },
           "bgcolor": "white",
           "caxis": {
            "gridcolor": "rgb(232,232,232)",
            "linecolor": "rgb(36,36,36)",
            "showgrid": false,
            "showline": true,
            "ticks": "outside"
           }
          },
          "title": {
           "x": 0.05
          },
          "xaxis": {
           "automargin": true,
           "gridcolor": "rgb(232,232,232)",
           "linecolor": "rgb(36,36,36)",
           "showgrid": false,
           "showline": true,
           "ticks": "outside",
           "title": {
            "standoff": 15
           },
           "zeroline": false,
           "zerolinecolor": "rgb(36,36,36)"
          },
          "yaxis": {
           "automargin": true,
           "gridcolor": "rgb(232,232,232)",
           "linecolor": "rgb(36,36,36)",
           "showgrid": false,
           "showline": true,
           "ticks": "outside",
           "title": {
            "standoff": 15
           },
           "zeroline": false,
           "zerolinecolor": "rgb(36,36,36)"
          }
         }
        },
        "title": {
         "text": "et_dflt_random_250_mmf_pgnn_"
        },
        "width": 600,
        "xaxis": {
         "dtick": 2,
         "range": [
          -6.2,
          6.2
         ],
         "showgrid": false,
         "tick0": 0,
         "tickmode": "linear",
         "title": {
          "text": "ln(<i>d</i><sub>KP</sub>) (pm/V)"
         }
        },
        "yaxis": {
         "dtick": 2,
         "range": [
          -6.2,
          6.2
         ],
         "showgrid": false,
         "tick0": 0,
         "tickmode": "linear",
         "title": {
          "text": "ln(<i>d&#770;</i><sub>KP</sub>) (pm/V)"
         }
        }
       }
      }
     },
     "metadata": {},
     "output_type": "display_data"
    },
    {
     "data": {
      "application/vnd.plotly.v1+json": {
       "config": {
        "plotlyServerURL": "https://plot.ly"
       },
       "data": [
        {
         "mode": "markers",
         "name": "",
         "showlegend": false,
         "text": [
          "mp-11714",
          "mp-1180133",
          "mp-675161",
          "mp-983327",
          "mp-1225884",
          "mp-1219554",
          "mp-1196457",
          "mp-560894",
          "mp-1196282",
          "mp-1222122",
          "mp-1219328",
          "mp-1227014",
          "mp-1222205",
          "mp-1227124",
          "mp-1102285",
          "mp-1227389",
          "mp-1180688",
          "mp-1399519",
          "mp-1227110",
          "mp-1079676",
          "mp-24705",
          "mp-1516294",
          "mp-1228342",
          "mp-17862",
          "mp-504952",
          "mp-1222589",
          "mp-1223849",
          "mp-6524",
          "mp-1208039",
          "mp-625175",
          "mp-1219000",
          "mp-532424",
          "mp-1218099",
          "agm002306806",
          "agm003160552",
          "agm003202328",
          "agm002353946",
          "agm002278924",
          "agm002381637",
          "agm003225028",
          "agm003202410",
          "agm003230659",
          "agm003128264",
          "mp-781710",
          "mp-1227011",
          "mp-1216118",
          "agm002166075",
          "agm002135972",
          "mp-3267",
          "agm002224865",
          "agm002347507",
          "agm003157565",
          "mp-1216100",
          "mp-1195571",
          "mp-780232",
          "agm002018869",
          "agm002140778",
          "agm002041336",
          "agm003219193",
          "mp-1228160",
          "mp-1223489",
          "mp-1221169",
          "mp-4431",
          "mp-8393",
          "mp-1105300",
          "mp-36066",
          "mp-1103351",
          "mp-1103228",
          "mp-1029368",
          "mp-1217825",
          "mp-1029633",
          "agm002147818",
          "agm003248171",
          "mp-1223526",
          "agm002153139",
          "mp-239",
          "agm002137320",
          "mp-1079609",
          "mp-558219",
          "mp-555202",
          "mp-1216976",
          "mp-626172",
          "agm002156258",
          "mp-772748",
          "agm002237467",
          "mp-1223389",
          "agm002155430",
          "mp-9427",
          "mp-1225916",
          "agm003237859",
          "agm002156600",
          "mp-1221971",
          "mp-1220913",
          "agm002237807",
          "mp-1221578",
          "mp-1191266",
          "mp-1205304",
          "mp-1218334",
          "agm002215982",
          "mp-559752",
          "mp-1215642",
          "agm002813663",
          "mp-1247873",
          "mp-1194479",
          "mp-558521",
          "agm003213121",
          "agm002286033",
          "agm002297812",
          "mp-1147697",
          "mp-29157",
          "mp-558277",
          "agm003200486",
          "agm002157245",
          "mp-1370",
          "mp-555915",
          "mp-776226",
          "agm002138671",
          "agm002790067",
          "agm002163280",
          "mp-532444",
          "agm002177957",
          "agm006045098",
          "agm002205114",
          "agm2000005406",
          "agm002184995",
          "agm003235252",
          "agm002178912",
          "agm002115629",
          "agm003206267",
          "agm004739450",
          "agm003705731",
          "agm005112928",
          "agm005722808",
          "agm2000126920",
          "agm2000137141",
          "agm005848675",
          "mp-2802611",
          "agm002158085",
          "agm005545163",
          "agm005056300",
          "agm004786326",
          "agm003048447",
          "agm002102212",
          "agm001234439",
          "agm002056302",
          "agm002137665",
          "agm003555711",
          "mp-554918",
          "mp-570756",
          "agm001375463",
          "agm005208831",
          "mp-4452",
          "agm005882616",
          "agm2000001907",
          "agm005721583",
          "agm001281942",
          "agm003267560",
          "agm004773887",
          "agm004852816",
          "agm006020719",
          "agm004957157",
          "agm003112540",
          "agm002293392",
          "agm005785567",
          "agm004948831",
          "agm004787350",
          "agm005954902",
          "agm005199361",
          "agm2000035672",
          "agm002032016",
          "agm005180377",
          "agm002176403",
          "agm002182720",
          "agm002161194",
          "agm2000136656",
          "agm005882580",
          "agm002074653",
          "agm003561427",
          "mp-1208179",
          "agm002078874",
          "agm004949939",
          "agm002017294",
          "mp-556157",
          "mp-2720358",
          "agm002041315",
          "agm003469328",
          "agm005072178",
          "agm001037983",
          "mp-1219050",
          "agm005664742",
          "agm004773455",
          "agm005071058",
          "mp-4122"
         ],
         "type": "scatter",
         "x": [
          1.8640705135253752,
          1.6117304214168595,
          -0.735417753590477,
          -1.8262706939721245,
          -1.850645270291186,
          0.879425814242005,
          -2.2274896889093165,
          -0.696089616034016,
          -3.882833663787394,
          1.289120243301616,
          0.9963979996100724,
          3.603033032121485,
          2.4589765468345712,
          2.790030659323957,
          1.9858987831854715,
          3.6428908209397224,
          -0.05294795776462664,
          -0.6247534932868787,
          -4.692920184192641,
          0.34935301523658263,
          0.17335046478847826,
          -2.835642777981388,
          0.3231729545138501,
          3.502741045546834,
          2.6838822295557954,
          -1.752444876116761,
          -2.3787863570552736,
          0.26105238181782164,
          -0.03989242203594581,
          -1.2804277067714025,
          4.244051137050639,
          -2.4748075156257054,
          -0.13688827127044767,
          2.526551445920425,
          2.507903669532472,
          3.4877343549200677,
          4.763345534480794,
          5.1067363011827345,
          4.026941133211829,
          2.0481760038002164,
          4.901091842048587,
          1.1957410890099702,
          1.4454034712975874,
          2.7998477802550448,
          3.957572495507323,
          2.210315752672521,
          0.41722711058822537,
          4.46393144142344,
          3.2719959135064016,
          0.15077779951791634,
          1.2297544386049692,
          -1.2825056451299668,
          -0.6889089125582464,
          -1.8765034262960585,
          1.6042440672394471,
          -0.027150618875364636,
          1.3187090489912512,
          3.7546024892173433,
          -1.4450659395820022,
          -1.4209066269913853,
          -1.7967384501708528,
          2.3075919681926687,
          2.9764162815898874,
          2.8690281656036887,
          3.28690872407927,
          0.8959058949519814,
          0.8074179428193387,
          4.7141903883357745,
          2.706316306471154,
          2.47881518717918,
          2.0075454817088243,
          -0.950327008457287,
          -0.8266225001203459,
          -0.33676025917534985,
          0.9305096508337292,
          1.7539488690248592,
          0.42715893113319353,
          1.1853325631867693,
          1.4483748824014988,
          -1.3996753119350664,
          2.537243145948521,
          -1.4994368982155892,
          -0.4009194821956806,
          -1.3032098743935028,
          2.3705581417226256,
          3.2595451747209663,
          3.76569793269359,
          -0.554443488411422,
          0.1675766744469721,
          -1.0650621180496211,
          -0.09477325375659072,
          1.7699590867643369,
          1.3084114464845522,
          4.620808307046488,
          -0.2994748844647402,
          2.3921331538606,
          2.5344727826488813,
          4.055858008755907,
          0.012395977141582776,
          -0.032834310685466286,
          1.2589677005652813,
          2.331839312059552,
          1.984125917185856,
          -0.00038727661071183303,
          -0.059720922297569944,
          1.359985981463237,
          2.434496669436536,
          0.1357880158166226,
          2.0073184771879147,
          4.363206663676072,
          2.3575884703323733,
          -4.690858220270285,
          2.2189306306927823,
          2.801801019661196,
          -0.8720794454781192,
          0.8482032891473601,
          1.6076098710058706,
          3.8433263345501425,
          1.3678434278258595,
          -0.17633870175908242,
          3.152539064553639,
          0.13131007151193197,
          4.161423854925523,
          -3.339143890989934,
          5.119947149916917,
          -3.0486976774750096,
          3.2882575508876983,
          1.0413150832507418,
          2.955263511151345,
          4.282204515590123,
          1.904069829063425,
          1.535213681414796,
          0.23913537106058216,
          -1.4925748617087051,
          2.1057574191623862,
          2.0172124795442072,
          -0.10724678152218822,
          2.209325491877229,
          0.5020905996831126,
          2.023925095651449,
          2.6127497197709366,
          2.2902202719401097,
          -0.5457417303895249,
          -0.18960256344954837,
          1.2279568365509097,
          -1.5250777904817183,
          -0.09172098603956426,
          0.9118789633700044,
          -2.3207879151317936,
          3.3884489406417044,
          2.8109284465402595,
          3.053227480314319,
          -0.021446347716552343,
          -0.2984888956181751,
          2.2487349390343057,
          -0.18071476441805265,
          2.980006141767316,
          1.652769008297107,
          0.4904175004830009,
          -0.8843652374073264,
          -2.856624106075478,
          3.893549523381594,
          3.341348125266644,
          2.191071182277935,
          1.9941533814150725,
          0.53849175685732,
          3.5120751046974377,
          3.8446000769290665,
          -5.674020556567256,
          1.480103483943564,
          0.7192836638002035,
          0.4245670695122952,
          3.0991767517782693,
          2.2951224845999403,
          1.2008466644831577,
          2.14872709843379,
          0.6975896267302939,
          3.256920123633489,
          -0.15750553108580967,
          -2.138628965887914,
          1.9564913351882427,
          2.8293623014760114,
          0.839591180142205,
          -1.1013016310744437,
          4.062859542466981,
          -1.1642253854125997,
          -1.0321892814124467,
          4.566947790442395,
          4.94536809883449,
          1.1614508596374045,
          1.562007195494622,
          0.3327943572530076,
          -0.1306125808189969
         ],
         "y": [
          2.6072832545245537,
          2.6072832545245537,
          2.6072832545245537,
          2.6072832545245537,
          2.6072832545245537,
          2.6072832545245537,
          2.6072832545245537,
          2.6072832545245537,
          2.6072832545245537,
          2.6072832545245537,
          2.6072832545245537,
          2.6072832545245537,
          2.6072832545245537,
          2.6072832545245537,
          2.6072832545245537,
          2.6072832545245537,
          2.6072832545245537,
          2.6072832545245537,
          2.6072832545245537,
          2.6072832545245537,
          2.6072832545245537,
          2.6072832545245537,
          2.6072832545245537,
          2.6072832545245537,
          2.6072832545245537,
          2.6072832545245537,
          2.6072832545245537,
          2.6072832545245537,
          2.6072832545245537,
          2.6072832545245537,
          2.6072832545245537,
          2.6072832545245537,
          2.6072832545245537,
          2.6072832545245537,
          2.6072832545245537,
          2.6072832545245537,
          2.6072832545245537,
          2.6072832545245537,
          2.6072832545245537,
          2.6072832545245537,
          2.6072832545245537,
          2.6072832545245537,
          2.6072832545245537,
          2.6072832545245537,
          2.6072832545245537,
          2.6072832545245537,
          2.6072832545245537,
          2.6072832545245537,
          2.6072832545245537,
          2.6072832545245537,
          2.6072832545245537,
          2.6072832545245537,
          2.6072832545245537,
          2.6072832545245537,
          2.6072832545245537,
          2.6072832545245537,
          2.6072832545245537,
          2.6072832545245537,
          2.6072832545245537,
          2.6072832545245537,
          2.6072832545245537,
          2.6072832545245537,
          2.6072832545245537,
          2.6072832545245537,
          2.6072832545245537,
          2.6072832545245537,
          2.6072832545245537,
          2.6072832545245537,
          2.6072832545245537,
          2.6072832545245537,
          2.6072832545245537,
          2.6072832545245537,
          2.6072832545245537,
          2.6072832545245537,
          2.6072832545245537,
          2.6072832545245537,
          2.6072832545245537,
          2.6072832545245537,
          2.6072832545245537,
          2.6072832545245537,
          2.6072832545245537,
          2.6072832545245537,
          2.6072832545245537,
          2.6072832545245537,
          2.6072832545245537,
          2.6072832545245537,
          2.6072832545245537,
          2.6072832545245537,
          2.6072832545245537,
          2.6072832545245537,
          2.6072832545245537,
          2.6072832545245537,
          2.6072832545245537,
          2.6072832545245537,
          2.6072832545245537,
          2.6072832545245537,
          2.6072832545245537,
          2.6072832545245537,
          2.6072832545245537,
          2.6072832545245537,
          2.6072832545245537,
          2.6072832545245537,
          2.6072832545245537,
          2.6072832545245537,
          2.6072832545245537,
          2.6072832545245537,
          2.6072832545245537,
          2.6072832545245537,
          2.6072832545245537,
          2.6072832545245537,
          2.6072832545245537,
          2.6072832545245537,
          2.6072832545245537,
          2.6072832545245537,
          2.6072832545245537,
          2.6072832545245537,
          2.6072832545245537,
          2.6072832545245537,
          2.6072832545245537,
          2.6072832545245537,
          2.6072832545245537,
          2.6072832545245537,
          2.6072832545245537,
          2.6072832545245537,
          2.6072832545245537,
          2.6072832545245537,
          2.6072832545245537,
          2.6072832545245537,
          2.6072832545245537,
          2.6072832545245537,
          2.6072832545245537,
          2.6072832545245537,
          2.6072832545245537,
          2.6072832545245537,
          2.6072832545245537,
          2.6072832545245537,
          2.6072832545245537,
          2.6072832545245537,
          2.6072832545245537,
          2.6072832545245537,
          2.6072832545245537,
          2.6072832545245537,
          2.6072832545245537,
          2.6072832545245537,
          2.6072832545245537,
          2.6072832545245537,
          2.6072832545245537,
          2.6072832545245537,
          2.6072832545245537,
          2.6072832545245537,
          2.6072832545245537,
          2.6072832545245537,
          2.6072832545245537,
          2.6072832545245537,
          2.6072832545245537,
          2.6072832545245537,
          2.6072832545245537,
          2.6072832545245537,
          2.6072832545245537,
          2.6072832545245537,
          2.6072832545245537,
          2.6072832545245537,
          2.6072832545245537,
          2.6072832545245537,
          2.6072832545245537,
          2.6072832545245537,
          2.6072832545245537,
          2.6072832545245537,
          2.6072832545245537,
          2.6072832545245537,
          2.6072832545245537,
          2.6072832545245537,
          2.6072832545245537,
          2.6072832545245537,
          2.6072832545245537,
          2.6072832545245537,
          2.6072832545245537,
          2.6072832545245537,
          2.6072832545245537,
          2.6072832545245537,
          2.6072832545245537,
          2.6072832545245537,
          2.6072832545245537,
          2.6072832545245537,
          2.6072832545245537,
          2.6072832545245537,
          2.6072832545245537,
          2.6072832545245537,
          2.6072832545245537,
          2.6072832545245537,
          2.6072832545245537,
          2.6072832545245537,
          2.6072832545245537
         ]
        },
        {
         "marker": {
          "color": "red"
         },
         "mode": "markers",
         "name": "",
         "showlegend": false,
         "text": [
          "mp-21892",
          "mp-8070",
          "mp-558491",
          "mp-632684",
          "mp-23329",
          "mp-555150",
          "mp-6564",
          "mp-18578",
          "mp-760755",
          "mp-28456",
          "mp-4779",
          "mp-6268",
          "mp-706621",
          "mp-559057",
          "mp-24468",
          "mp-1778",
          "mp-2176",
          "mp-22909",
          "mp-4187",
          "mp-10341",
          "mp-9844",
          "mp-5784",
          "mp-20694",
          "mp-9066",
          "mp-6126",
          "mp-632229",
          "mp-12177",
          "mp-21521",
          "mp-1287",
          "mp-756044",
          "mp-754712",
          "mp-4812",
          "mp-18168",
          "mp-23866",
          "mp-558085",
          "mp-230",
          "mp-505702",
          "mp-559065",
          "mp-559545",
          "mp-549720",
          "mp-561385",
          "mp-13666",
          "mp-14444",
          "mp-1550",
          "mp-2469",
          "mp-31451",
          "mp-1023924",
          "mp-1100395",
          "mp-961682",
          "mp-38011",
          "mp-30847",
          "mp-8884",
          "mp-1017534",
          "mp-6980",
          "mp-560588",
          "mp-4524",
          "mp-4514"
         ],
         "type": "scatter",
         "x": [
          0.5129958888992996,
          -0.4855530271371922,
          -0.08740485527531697,
          -0.45681555937106766,
          2.1061629838671,
          0.513705495637027,
          -1.9635937181390624,
          1.703283963962633,
          -2.3134955345928385,
          2.144082225629274,
          -1.5605221852218962,
          1.8583162248321317,
          -1.748575568907935,
          0.4882103609421548,
          -0.8151682548135614,
          -1.1396223245682315,
          4.656254645145144,
          0.9508715487860324,
          2.0089890346526387,
          0.1465376158615837,
          -0.05300287393081044,
          -1.4301531189156178,
          0.08583757032428084,
          -1.1432595869803444,
          1.005487085967149,
          1.068043435793579,
          3.0280355492477735,
          2.0183066815251465,
          -1.952218665850329,
          -1.266849364995467,
          0.15670083532845222,
          -0.3037256566355995,
          0.8790197681158867,
          -0.08910579025424446,
          -0.905371489125012,
          1.7369375746256583,
          0.44855102088749943,
          1.871489666744384,
          1.7522422636101158,
          3.0993804513799335,
          -0.35650021086904377,
          3.917254174536937,
          2.5896455390744313,
          2.110202594025541,
          2.8167502162864495,
          4.2071054438569275,
          0.9457357302382252,
          -3.4095942440797313,
          2.9659438484697773,
          1.943455628463224,
          3.633400002575317,
          3.677733778199943,
          4.4593717050440915,
          4.122043167902257,
          3.355818208137122,
          4.494287161104849,
          2.491870994405037
         ],
         "y": [
          2.6072832545245537,
          2.6072832545245537,
          2.6072832545245537,
          2.6072832545245537,
          2.6072832545245537,
          2.6072832545245537,
          2.6072832545245537,
          2.6072832545245537,
          2.6072832545245537,
          2.6072832545245537,
          2.6072832545245537,
          2.6072832545245537,
          2.6072832545245537,
          2.6072832545245537,
          2.6072832545245537,
          2.6072832545245537,
          2.6072832545245537,
          2.6072832545245537,
          2.6072832545245537,
          2.6072832545245537,
          2.6072832545245537,
          2.6072832545245537,
          2.6072832545245537,
          2.6072832545245537,
          2.6072832545245537,
          2.6072832545245537,
          2.6072832545245537,
          2.6072832545245537,
          2.6072832545245537,
          2.6072832545245537,
          2.6072832545245537,
          2.6072832545245537,
          2.6072832545245537,
          2.6072832545245537,
          2.6072832545245537,
          2.6072832545245537,
          2.6072832545245537,
          2.6072832545245537,
          2.6072832545245537,
          2.6072832545245537,
          2.6072832545245537,
          2.6072832545245537,
          2.6072832545245537,
          2.6072832545245537,
          2.6072832545245537,
          2.6072832545245537,
          2.6072832545245537,
          2.6072832545245537,
          2.6072832545245537,
          2.6072832545245537,
          2.6072832545245537,
          2.6072832545245537,
          2.6072832545245537,
          2.6072832545245537,
          2.6072832545245537,
          2.6072832545245537,
          2.6072832545245537
         ]
        },
        {
         "line": {
          "color": "gray",
          "dash": "dot"
         },
         "mode": "lines",
         "showlegend": false,
         "type": "scatter",
         "x": [
          -10,
          8
         ],
         "y": [
          -10,
          8
         ]
        }
       ],
       "layout": {
        "autosize": false,
        "font": {
         "size": 20
        },
        "height": 600,
        "template": {
         "data": {
          "bar": [
           {
            "error_x": {
             "color": "rgb(36,36,36)"
            },
            "error_y": {
             "color": "rgb(36,36,36)"
            },
            "marker": {
             "line": {
              "color": "white",
              "width": 0.5
             },
             "pattern": {
              "fillmode": "overlay",
              "size": 10,
              "solidity": 0.2
             }
            },
            "type": "bar"
           }
          ],
          "barpolar": [
           {
            "marker": {
             "line": {
              "color": "white",
              "width": 0.5
             },
             "pattern": {
              "fillmode": "overlay",
              "size": 10,
              "solidity": 0.2
             }
            },
            "type": "barpolar"
           }
          ],
          "carpet": [
           {
            "aaxis": {
             "endlinecolor": "rgb(36,36,36)",
             "gridcolor": "white",
             "linecolor": "white",
             "minorgridcolor": "white",
             "startlinecolor": "rgb(36,36,36)"
            },
            "baxis": {
             "endlinecolor": "rgb(36,36,36)",
             "gridcolor": "white",
             "linecolor": "white",
             "minorgridcolor": "white",
             "startlinecolor": "rgb(36,36,36)"
            },
            "type": "carpet"
           }
          ],
          "choropleth": [
           {
            "colorbar": {
             "outlinewidth": 1,
             "tickcolor": "rgb(36,36,36)",
             "ticks": "outside"
            },
            "type": "choropleth"
           }
          ],
          "contour": [
           {
            "colorbar": {
             "outlinewidth": 1,
             "tickcolor": "rgb(36,36,36)",
             "ticks": "outside"
            },
            "colorscale": [
             [
              0,
              "#440154"
             ],
             [
              0.1111111111111111,
              "#482878"
             ],
             [
              0.2222222222222222,
              "#3e4989"
             ],
             [
              0.3333333333333333,
              "#31688e"
             ],
             [
              0.4444444444444444,
              "#26828e"
             ],
             [
              0.5555555555555556,
              "#1f9e89"
             ],
             [
              0.6666666666666666,
              "#35b779"
             ],
             [
              0.7777777777777778,
              "#6ece58"
             ],
             [
              0.8888888888888888,
              "#b5de2b"
             ],
             [
              1,
              "#fde725"
             ]
            ],
            "type": "contour"
           }
          ],
          "contourcarpet": [
           {
            "colorbar": {
             "outlinewidth": 1,
             "tickcolor": "rgb(36,36,36)",
             "ticks": "outside"
            },
            "type": "contourcarpet"
           }
          ],
          "heatmap": [
           {
            "colorbar": {
             "outlinewidth": 1,
             "tickcolor": "rgb(36,36,36)",
             "ticks": "outside"
            },
            "colorscale": [
             [
              0,
              "#440154"
             ],
             [
              0.1111111111111111,
              "#482878"
             ],
             [
              0.2222222222222222,
              "#3e4989"
             ],
             [
              0.3333333333333333,
              "#31688e"
             ],
             [
              0.4444444444444444,
              "#26828e"
             ],
             [
              0.5555555555555556,
              "#1f9e89"
             ],
             [
              0.6666666666666666,
              "#35b779"
             ],
             [
              0.7777777777777778,
              "#6ece58"
             ],
             [
              0.8888888888888888,
              "#b5de2b"
             ],
             [
              1,
              "#fde725"
             ]
            ],
            "type": "heatmap"
           }
          ],
          "heatmapgl": [
           {
            "colorbar": {
             "outlinewidth": 1,
             "tickcolor": "rgb(36,36,36)",
             "ticks": "outside"
            },
            "colorscale": [
             [
              0,
              "#440154"
             ],
             [
              0.1111111111111111,
              "#482878"
             ],
             [
              0.2222222222222222,
              "#3e4989"
             ],
             [
              0.3333333333333333,
              "#31688e"
             ],
             [
              0.4444444444444444,
              "#26828e"
             ],
             [
              0.5555555555555556,
              "#1f9e89"
             ],
             [
              0.6666666666666666,
              "#35b779"
             ],
             [
              0.7777777777777778,
              "#6ece58"
             ],
             [
              0.8888888888888888,
              "#b5de2b"
             ],
             [
              1,
              "#fde725"
             ]
            ],
            "type": "heatmapgl"
           }
          ],
          "histogram": [
           {
            "marker": {
             "line": {
              "color": "white",
              "width": 0.6
             }
            },
            "type": "histogram"
           }
          ],
          "histogram2d": [
           {
            "colorbar": {
             "outlinewidth": 1,
             "tickcolor": "rgb(36,36,36)",
             "ticks": "outside"
            },
            "colorscale": [
             [
              0,
              "#440154"
             ],
             [
              0.1111111111111111,
              "#482878"
             ],
             [
              0.2222222222222222,
              "#3e4989"
             ],
             [
              0.3333333333333333,
              "#31688e"
             ],
             [
              0.4444444444444444,
              "#26828e"
             ],
             [
              0.5555555555555556,
              "#1f9e89"
             ],
             [
              0.6666666666666666,
              "#35b779"
             ],
             [
              0.7777777777777778,
              "#6ece58"
             ],
             [
              0.8888888888888888,
              "#b5de2b"
             ],
             [
              1,
              "#fde725"
             ]
            ],
            "type": "histogram2d"
           }
          ],
          "histogram2dcontour": [
           {
            "colorbar": {
             "outlinewidth": 1,
             "tickcolor": "rgb(36,36,36)",
             "ticks": "outside"
            },
            "colorscale": [
             [
              0,
              "#440154"
             ],
             [
              0.1111111111111111,
              "#482878"
             ],
             [
              0.2222222222222222,
              "#3e4989"
             ],
             [
              0.3333333333333333,
              "#31688e"
             ],
             [
              0.4444444444444444,
              "#26828e"
             ],
             [
              0.5555555555555556,
              "#1f9e89"
             ],
             [
              0.6666666666666666,
              "#35b779"
             ],
             [
              0.7777777777777778,
              "#6ece58"
             ],
             [
              0.8888888888888888,
              "#b5de2b"
             ],
             [
              1,
              "#fde725"
             ]
            ],
            "type": "histogram2dcontour"
           }
          ],
          "mesh3d": [
           {
            "colorbar": {
             "outlinewidth": 1,
             "tickcolor": "rgb(36,36,36)",
             "ticks": "outside"
            },
            "type": "mesh3d"
           }
          ],
          "parcoords": [
           {
            "line": {
             "colorbar": {
              "outlinewidth": 1,
              "tickcolor": "rgb(36,36,36)",
              "ticks": "outside"
             }
            },
            "type": "parcoords"
           }
          ],
          "pie": [
           {
            "automargin": true,
            "type": "pie"
           }
          ],
          "scatter": [
           {
            "fillpattern": {
             "fillmode": "overlay",
             "size": 10,
             "solidity": 0.2
            },
            "type": "scatter"
           }
          ],
          "scatter3d": [
           {
            "line": {
             "colorbar": {
              "outlinewidth": 1,
              "tickcolor": "rgb(36,36,36)",
              "ticks": "outside"
             }
            },
            "marker": {
             "colorbar": {
              "outlinewidth": 1,
              "tickcolor": "rgb(36,36,36)",
              "ticks": "outside"
             }
            },
            "type": "scatter3d"
           }
          ],
          "scattercarpet": [
           {
            "marker": {
             "colorbar": {
              "outlinewidth": 1,
              "tickcolor": "rgb(36,36,36)",
              "ticks": "outside"
             }
            },
            "type": "scattercarpet"
           }
          ],
          "scattergeo": [
           {
            "marker": {
             "colorbar": {
              "outlinewidth": 1,
              "tickcolor": "rgb(36,36,36)",
              "ticks": "outside"
             }
            },
            "type": "scattergeo"
           }
          ],
          "scattergl": [
           {
            "marker": {
             "colorbar": {
              "outlinewidth": 1,
              "tickcolor": "rgb(36,36,36)",
              "ticks": "outside"
             }
            },
            "type": "scattergl"
           }
          ],
          "scattermapbox": [
           {
            "marker": {
             "colorbar": {
              "outlinewidth": 1,
              "tickcolor": "rgb(36,36,36)",
              "ticks": "outside"
             }
            },
            "type": "scattermapbox"
           }
          ],
          "scatterpolar": [
           {
            "marker": {
             "colorbar": {
              "outlinewidth": 1,
              "tickcolor": "rgb(36,36,36)",
              "ticks": "outside"
             }
            },
            "type": "scatterpolar"
           }
          ],
          "scatterpolargl": [
           {
            "marker": {
             "colorbar": {
              "outlinewidth": 1,
              "tickcolor": "rgb(36,36,36)",
              "ticks": "outside"
             }
            },
            "type": "scatterpolargl"
           }
          ],
          "scatterternary": [
           {
            "marker": {
             "colorbar": {
              "outlinewidth": 1,
              "tickcolor": "rgb(36,36,36)",
              "ticks": "outside"
             }
            },
            "type": "scatterternary"
           }
          ],
          "surface": [
           {
            "colorbar": {
             "outlinewidth": 1,
             "tickcolor": "rgb(36,36,36)",
             "ticks": "outside"
            },
            "colorscale": [
             [
              0,
              "#440154"
             ],
             [
              0.1111111111111111,
              "#482878"
             ],
             [
              0.2222222222222222,
              "#3e4989"
             ],
             [
              0.3333333333333333,
              "#31688e"
             ],
             [
              0.4444444444444444,
              "#26828e"
             ],
             [
              0.5555555555555556,
              "#1f9e89"
             ],
             [
              0.6666666666666666,
              "#35b779"
             ],
             [
              0.7777777777777778,
              "#6ece58"
             ],
             [
              0.8888888888888888,
              "#b5de2b"
             ],
             [
              1,
              "#fde725"
             ]
            ],
            "type": "surface"
           }
          ],
          "table": [
           {
            "cells": {
             "fill": {
              "color": "rgb(237,237,237)"
             },
             "line": {
              "color": "white"
             }
            },
            "header": {
             "fill": {
              "color": "rgb(217,217,217)"
             },
             "line": {
              "color": "white"
             }
            },
            "type": "table"
           }
          ]
         },
         "layout": {
          "annotationdefaults": {
           "arrowhead": 0,
           "arrowwidth": 1
          },
          "autotypenumbers": "strict",
          "coloraxis": {
           "colorbar": {
            "outlinewidth": 1,
            "tickcolor": "rgb(36,36,36)",
            "ticks": "outside"
           }
          },
          "colorscale": {
           "diverging": [
            [
             0,
             "rgb(103,0,31)"
            ],
            [
             0.1,
             "rgb(178,24,43)"
            ],
            [
             0.2,
             "rgb(214,96,77)"
            ],
            [
             0.3,
             "rgb(244,165,130)"
            ],
            [
             0.4,
             "rgb(253,219,199)"
            ],
            [
             0.5,
             "rgb(247,247,247)"
            ],
            [
             0.6,
             "rgb(209,229,240)"
            ],
            [
             0.7,
             "rgb(146,197,222)"
            ],
            [
             0.8,
             "rgb(67,147,195)"
            ],
            [
             0.9,
             "rgb(33,102,172)"
            ],
            [
             1,
             "rgb(5,48,97)"
            ]
           ],
           "sequential": [
            [
             0,
             "#440154"
            ],
            [
             0.1111111111111111,
             "#482878"
            ],
            [
             0.2222222222222222,
             "#3e4989"
            ],
            [
             0.3333333333333333,
             "#31688e"
            ],
            [
             0.4444444444444444,
             "#26828e"
            ],
            [
             0.5555555555555556,
             "#1f9e89"
            ],
            [
             0.6666666666666666,
             "#35b779"
            ],
            [
             0.7777777777777778,
             "#6ece58"
            ],
            [
             0.8888888888888888,
             "#b5de2b"
            ],
            [
             1,
             "#fde725"
            ]
           ],
           "sequentialminus": [
            [
             0,
             "#440154"
            ],
            [
             0.1111111111111111,
             "#482878"
            ],
            [
             0.2222222222222222,
             "#3e4989"
            ],
            [
             0.3333333333333333,
             "#31688e"
            ],
            [
             0.4444444444444444,
             "#26828e"
            ],
            [
             0.5555555555555556,
             "#1f9e89"
            ],
            [
             0.6666666666666666,
             "#35b779"
            ],
            [
             0.7777777777777778,
             "#6ece58"
            ],
            [
             0.8888888888888888,
             "#b5de2b"
            ],
            [
             1,
             "#fde725"
            ]
           ]
          },
          "colorway": [
           "#1F77B4",
           "#FF7F0E",
           "#2CA02C",
           "#D62728",
           "#9467BD",
           "#8C564B",
           "#E377C2",
           "#7F7F7F",
           "#BCBD22",
           "#17BECF"
          ],
          "font": {
           "color": "rgb(36,36,36)"
          },
          "geo": {
           "bgcolor": "white",
           "lakecolor": "white",
           "landcolor": "white",
           "showlakes": true,
           "showland": true,
           "subunitcolor": "white"
          },
          "hoverlabel": {
           "align": "left"
          },
          "hovermode": "closest",
          "mapbox": {
           "style": "light"
          },
          "paper_bgcolor": "white",
          "plot_bgcolor": "white",
          "polar": {
           "angularaxis": {
            "gridcolor": "rgb(232,232,232)",
            "linecolor": "rgb(36,36,36)",
            "showgrid": false,
            "showline": true,
            "ticks": "outside"
           },
           "bgcolor": "white",
           "radialaxis": {
            "gridcolor": "rgb(232,232,232)",
            "linecolor": "rgb(36,36,36)",
            "showgrid": false,
            "showline": true,
            "ticks": "outside"
           }
          },
          "scene": {
           "xaxis": {
            "backgroundcolor": "white",
            "gridcolor": "rgb(232,232,232)",
            "gridwidth": 2,
            "linecolor": "rgb(36,36,36)",
            "showbackground": true,
            "showgrid": false,
            "showline": true,
            "ticks": "outside",
            "zeroline": false,
            "zerolinecolor": "rgb(36,36,36)"
           },
           "yaxis": {
            "backgroundcolor": "white",
            "gridcolor": "rgb(232,232,232)",
            "gridwidth": 2,
            "linecolor": "rgb(36,36,36)",
            "showbackground": true,
            "showgrid": false,
            "showline": true,
            "ticks": "outside",
            "zeroline": false,
            "zerolinecolor": "rgb(36,36,36)"
           },
           "zaxis": {
            "backgroundcolor": "white",
            "gridcolor": "rgb(232,232,232)",
            "gridwidth": 2,
            "linecolor": "rgb(36,36,36)",
            "showbackground": true,
            "showgrid": false,
            "showline": true,
            "ticks": "outside",
            "zeroline": false,
            "zerolinecolor": "rgb(36,36,36)"
           }
          },
          "shapedefaults": {
           "fillcolor": "black",
           "line": {
            "width": 0
           },
           "opacity": 0.3
          },
          "ternary": {
           "aaxis": {
            "gridcolor": "rgb(232,232,232)",
            "linecolor": "rgb(36,36,36)",
            "showgrid": false,
            "showline": true,
            "ticks": "outside"
           },
           "baxis": {
            "gridcolor": "rgb(232,232,232)",
            "linecolor": "rgb(36,36,36)",
            "showgrid": false,
            "showline": true,
            "ticks": "outside"
           },
           "bgcolor": "white",
           "caxis": {
            "gridcolor": "rgb(232,232,232)",
            "linecolor": "rgb(36,36,36)",
            "showgrid": false,
            "showline": true,
            "ticks": "outside"
           }
          },
          "title": {
           "x": 0.05
          },
          "xaxis": {
           "automargin": true,
           "gridcolor": "rgb(232,232,232)",
           "linecolor": "rgb(36,36,36)",
           "showgrid": false,
           "showline": true,
           "ticks": "outside",
           "title": {
            "standoff": 15
           },
           "zeroline": false,
           "zerolinecolor": "rgb(36,36,36)"
          },
          "yaxis": {
           "automargin": true,
           "gridcolor": "rgb(232,232,232)",
           "linecolor": "rgb(36,36,36)",
           "showgrid": false,
           "showline": true,
           "ticks": "outside",
           "title": {
            "standoff": 15
           },
           "zeroline": false,
           "zerolinecolor": "rgb(36,36,36)"
          }
         }
        },
        "title": {
         "text": "mean_value_random_250_"
        },
        "width": 600,
        "xaxis": {
         "dtick": 2,
         "range": [
          -6.2,
          6.2
         ],
         "showgrid": false,
         "tick0": 0,
         "tickmode": "linear",
         "title": {
          "text": "ln(<i>d</i><sub>KP</sub>) (pm/V)"
         }
        },
        "yaxis": {
         "dtick": 2,
         "range": [
          -6.2,
          6.2
         ],
         "showgrid": false,
         "tick0": 0,
         "tickmode": "linear",
         "title": {
          "text": "ln(<i>d&#770;</i><sub>KP</sub>) (pm/V)"
         }
        }
       }
      }
     },
     "metadata": {},
     "output_type": "display_data"
    },
    {
     "data": {
      "application/vnd.plotly.v1+json": {
       "config": {
        "plotlyServerURL": "https://plot.ly"
       },
       "data": [
        {
         "mode": "markers",
         "name": "",
         "showlegend": false,
         "text": [
          "mp-11714",
          "mp-1180133",
          "mp-675161",
          "mp-983327",
          "mp-1225884",
          "mp-1219554",
          "mp-1196457",
          "mp-560894",
          "mp-1196282",
          "mp-1222122",
          "mp-1219328",
          "mp-1227014",
          "mp-1222205",
          "mp-1227124",
          "mp-1102285",
          "mp-1227389",
          "mp-1180688",
          "mp-1399519",
          "mp-1227110",
          "mp-1079676",
          "mp-24705",
          "mp-1516294",
          "mp-1228342",
          "mp-17862",
          "mp-504952",
          "mp-1222589",
          "mp-1223849",
          "mp-6524",
          "mp-1208039",
          "mp-625175",
          "mp-1219000",
          "mp-532424",
          "mp-1218099",
          "agm002306806",
          "agm003160552",
          "agm003202328",
          "agm002353946",
          "agm002278924",
          "agm002381637",
          "agm003225028",
          "agm003202410",
          "agm003230659",
          "agm003128264",
          "mp-781710",
          "mp-1227011",
          "mp-1216118",
          "agm002166075",
          "agm002135972",
          "mp-3267",
          "agm002224865",
          "agm002347507",
          "agm003157565",
          "mp-1216100",
          "mp-1195571",
          "mp-780232",
          "agm002018869",
          "agm002140778",
          "agm002041336",
          "agm003219193",
          "mp-1228160",
          "mp-1223489",
          "mp-1221169",
          "mp-4431",
          "mp-8393",
          "mp-1105300",
          "mp-36066",
          "mp-1103351",
          "mp-1103228",
          "mp-1029368",
          "mp-1217825",
          "mp-1029633",
          "agm002147818",
          "agm003248171",
          "mp-1223526",
          "agm002153139",
          "mp-239",
          "agm002137320",
          "mp-1079609",
          "mp-558219",
          "mp-555202",
          "mp-1216976",
          "mp-626172",
          "agm002156258",
          "mp-772748",
          "agm002237467",
          "mp-1223389",
          "agm002155430",
          "mp-9427",
          "mp-1225916",
          "agm003237859",
          "agm002156600",
          "mp-1221971",
          "mp-1220913",
          "agm002237807",
          "mp-1221578",
          "mp-1191266",
          "mp-1205304",
          "mp-1218334",
          "agm002215982",
          "mp-559752",
          "mp-1215642",
          "agm002813663",
          "mp-1247873",
          "mp-1194479",
          "mp-558521",
          "agm003213121",
          "agm002286033",
          "agm002297812",
          "mp-1147697",
          "mp-29157",
          "mp-558277",
          "agm003200486",
          "agm002157245",
          "mp-1370",
          "mp-555915",
          "mp-776226",
          "agm002138671",
          "agm002790067",
          "agm002163280",
          "mp-532444",
          "agm002177957",
          "agm006045098",
          "agm002205114",
          "agm2000005406",
          "agm002184995",
          "agm003235252",
          "agm002178912",
          "agm002115629",
          "agm003206267",
          "agm004739450",
          "agm003705731",
          "agm005112928",
          "agm005722808",
          "agm2000126920",
          "agm2000137141",
          "agm005848675",
          "mp-2802611",
          "agm002158085",
          "agm005545163",
          "agm005056300",
          "agm004786326",
          "agm003048447",
          "agm002102212",
          "agm001234439",
          "agm002056302",
          "agm002137665",
          "agm003555711",
          "mp-554918",
          "mp-570756",
          "agm001375463",
          "agm005208831",
          "mp-4452",
          "agm005882616",
          "agm2000001907",
          "agm005721583",
          "agm001281942",
          "agm003267560",
          "agm004773887",
          "agm004852816",
          "agm006020719",
          "agm004957157",
          "agm003112540",
          "agm002293392",
          "agm005785567",
          "agm004948831",
          "agm004787350",
          "agm005954902",
          "agm005199361",
          "agm2000035672",
          "agm002032016",
          "agm005180377",
          "agm002176403",
          "agm002182720",
          "agm002161194",
          "agm2000136656",
          "agm005882580",
          "agm002074653",
          "agm003561427",
          "mp-1208179",
          "agm002078874",
          "agm004949939",
          "agm002017294",
          "mp-556157",
          "mp-2720358",
          "agm002041315",
          "agm003469328",
          "agm005072178",
          "agm001037983",
          "mp-1219050",
          "agm005664742",
          "agm004773455",
          "agm005071058",
          "mp-4122"
         ],
         "type": "scatter",
         "x": [
          1.8640705135253752,
          1.6117304214168595,
          -0.735417753590477,
          -1.8262706939721245,
          -1.850645270291186,
          0.879425814242005,
          -2.2274896889093165,
          -0.696089616034016,
          -3.882833663787394,
          1.289120243301616,
          0.9963979996100724,
          3.603033032121485,
          2.4589765468345712,
          2.790030659323957,
          1.9858987831854715,
          3.6428908209397224,
          -0.05294795776462664,
          -0.6247534932868787,
          -4.692920184192641,
          0.34935301523658263,
          0.17335046478847826,
          -2.835642777981388,
          0.3231729545138501,
          3.502741045546834,
          2.6838822295557954,
          -1.752444876116761,
          -2.3787863570552736,
          0.26105238181782164,
          -0.03989242203594581,
          -1.2804277067714025,
          4.244051137050639,
          -2.4748075156257054,
          -0.13688827127044767,
          2.526551445920425,
          2.507903669532472,
          3.4877343549200677,
          4.763345534480794,
          5.1067363011827345,
          4.026941133211829,
          2.0481760038002164,
          4.901091842048587,
          1.1957410890099702,
          1.4454034712975874,
          2.7998477802550448,
          3.957572495507323,
          2.210315752672521,
          0.41722711058822537,
          4.46393144142344,
          3.2719959135064016,
          0.15077779951791634,
          1.2297544386049692,
          -1.2825056451299668,
          -0.6889089125582464,
          -1.8765034262960585,
          1.6042440672394471,
          -0.027150618875364636,
          1.3187090489912512,
          3.7546024892173433,
          -1.4450659395820022,
          -1.4209066269913853,
          -1.7967384501708528,
          2.3075919681926687,
          2.9764162815898874,
          2.8690281656036887,
          3.28690872407927,
          0.8959058949519814,
          0.8074179428193387,
          4.7141903883357745,
          2.706316306471154,
          2.47881518717918,
          2.0075454817088243,
          -0.950327008457287,
          -0.8266225001203459,
          -0.33676025917534985,
          0.9305096508337292,
          1.7539488690248592,
          0.42715893113319353,
          1.1853325631867693,
          1.4483748824014988,
          -1.3996753119350664,
          2.537243145948521,
          -1.4994368982155892,
          -0.4009194821956806,
          -1.3032098743935028,
          2.3705581417226256,
          3.2595451747209663,
          3.76569793269359,
          -0.554443488411422,
          0.1675766744469721,
          -1.0650621180496211,
          -0.09477325375659072,
          1.7699590867643369,
          1.3084114464845522,
          4.620808307046488,
          -0.2994748844647402,
          2.3921331538606,
          2.5344727826488813,
          4.055858008755907,
          0.012395977141582776,
          -0.032834310685466286,
          1.2589677005652813,
          2.331839312059552,
          1.984125917185856,
          -0.00038727661071183303,
          -0.059720922297569944,
          1.359985981463237,
          2.434496669436536,
          0.1357880158166226,
          2.0073184771879147,
          4.363206663676072,
          2.3575884703323733,
          -4.690858220270285,
          2.2189306306927823,
          2.801801019661196,
          -0.8720794454781192,
          0.8482032891473601,
          1.6076098710058706,
          3.8433263345501425,
          1.3678434278258595,
          -0.17633870175908242,
          3.152539064553639,
          0.13131007151193197,
          4.161423854925523,
          -3.339143890989934,
          5.119947149916917,
          -3.0486976774750096,
          3.2882575508876983,
          1.0413150832507418,
          2.955263511151345,
          4.282204515590123,
          1.904069829063425,
          1.535213681414796,
          0.23913537106058216,
          -1.4925748617087051,
          2.1057574191623862,
          2.0172124795442072,
          -0.10724678152218822,
          2.209325491877229,
          0.5020905996831126,
          2.023925095651449,
          2.6127497197709366,
          2.2902202719401097,
          -0.5457417303895249,
          -0.18960256344954837,
          1.2279568365509097,
          -1.5250777904817183,
          -0.09172098603956426,
          0.9118789633700044,
          -2.3207879151317936,
          3.3884489406417044,
          2.8109284465402595,
          3.053227480314319,
          -0.021446347716552343,
          -0.2984888956181751,
          2.2487349390343057,
          -0.18071476441805265,
          2.980006141767316,
          1.652769008297107,
          0.4904175004830009,
          -0.8843652374073264,
          -2.856624106075478,
          3.893549523381594,
          3.341348125266644,
          2.191071182277935,
          1.9941533814150725,
          0.53849175685732,
          3.5120751046974377,
          3.8446000769290665,
          -5.674020556567256,
          1.480103483943564,
          0.7192836638002035,
          0.4245670695122952,
          3.0991767517782693,
          2.2951224845999403,
          1.2008466644831577,
          2.14872709843379,
          0.6975896267302939,
          3.256920123633489,
          -0.15750553108580967,
          -2.138628965887914,
          1.9564913351882427,
          2.8293623014760114,
          0.839591180142205,
          -1.1013016310744437,
          4.062859542466981,
          -1.1642253854125997,
          -1.0321892814124467,
          4.566947790442395,
          4.94536809883449,
          1.1614508596374045,
          1.562007195494622,
          0.3327943572530076,
          -0.1306125808189969
         ],
         "y": [
          1.875419734763148,
          1.371036950202526,
          -1.6796702330969129,
          -1.3431326528628404,
          -1.112360566846414,
          1.252159860135327,
          -0.8313182506341451,
          -1.1210043448833222,
          -1.821560723975994,
          1.383508497011253,
          1.889593323134944,
          4.186746028438993,
          1.813233817161224,
          2.9166088428847283,
          1.5622261347162354,
          2.216901735606976,
          2.385893945380153,
          1.7198856591847214,
          -1.44189499088393,
          -1.6702131721211324,
          -0.3624788713283933,
          0.7126203900241849,
          -0.2747789376198559,
          3.935867688720473,
          3.873360022456656,
          -1.2766114923493266,
          -0.42620626815862744,
          -1.0552905505521777,
          0.03994438174759476,
          -1.3879565656387371,
          4.41938499613499,
          -1.3978088419834394,
          1.0002485068899347,
          2.172585316102451,
          3.450437820922886,
          2.983317944392174,
          3.274421364764921,
          4.429908761231075,
          4.410207975512359,
          1.8490052243416133,
          3.114910599310521,
          1.110312942467034,
          1.9722479346207276,
          3.0663107631993114,
          3.953493398091322,
          2.1027732891379585,
          1.1161538333507477,
          4.666224115914346,
          3.2721306836622146,
          1.1131773449562332,
          1.2388842614294655,
          -1.1506051909809798,
          -0.10671660593636488,
          -0.33203221607285444,
          1.578667070350647,
          4.577855004472541,
          -0.07940300182970231,
          3.3486160990068736,
          -1.450401660142917,
          -1.3192313303654546,
          -1.4607577134560938,
          2.427097786863583,
          2.874634811315418,
          3.569797003951142,
          3.2145118395922028,
          0.8360161511465354,
          2.429849439724995,
          4.021307437811559,
          1.71116700265805,
          2.453798615345113,
          1.500874071802847,
          -1.8982219465806536,
          -1.575891317253596,
          -0.9758918921605628,
          0.30860211108876073,
          1.8794853896390804,
          0.8722920743452984,
          0.7928085775596326,
          1.7166416208698037,
          -0.8118843903155712,
          3.276365007260732,
          -1.7733148983238864,
          -1.2996605713591396,
          -1.8377420124611443,
          2.373445256362474,
          2.841659887323086,
          3.177523605829564,
          -0.9660412339452066,
          -0.11953282202536676,
          -1.899251292684586,
          -0.5328944404066575,
          2.097443638740685,
          1.438297169892091,
          3.905160369470868,
          0.14995936545449431,
          1.624693044521081,
          2.270701320663228,
          3.253407348256388,
          -0.4912028192028763,
          -0.31976611016320566,
          1.2931542236368512,
          1.5358173397924832,
          1.8575507803829976,
          -0.6447066899822868,
          0.10926851317039166,
          1.2715788255270983,
          1.9007348309318832,
          -0.09141746480368752,
          2.003498989866966,
          4.07665204228774,
          1.95165015805139,
          -1.638864297568705,
          1.8516195878675128,
          1.912435437604627,
          0.2806832985855973,
          1.5723132447552812,
          1.079679791846229,
          3.7520452027284974,
          1.3392595410798929,
          -0.5950099750041321,
          3.4630587560968555,
          -0.07998071579745235,
          3.652999209455166,
          -1.909069769269236,
          4.386191799332902,
          -1.1951246744398163,
          3.1804331170957,
          1.2721355965901888,
          2.56222628763647,
          4.493832437372565,
          1.780992988694998,
          1.794573217164575,
          -0.15651883241167514,
          -0.21738364691461845,
          3.0126381590416846,
          2.7638300791159396,
          -0.47146553562820864,
          2.415009405436498,
          0.511046446512675,
          1.959547063833927,
          2.549822784452228,
          2.499729906050971,
          -0.4916849236663603,
          1.503083704408875,
          0.3910824082716145,
          -1.70268554565806,
          0.23226283940579,
          -0.07709631468184934,
          -1.4241645347885354,
          3.8632122035335503,
          3.0269821115537594,
          2.916295211996597,
          -0.791936424896927,
          -0.9724899868508864,
          1.8827749600065504,
          -0.27258753135753133,
          4.732037673701901,
          2.21940609858747,
          1.0388321563391838,
          -1.3301208359457557,
          -2.010680153739725,
          4.116848370331317,
          3.5490751581654862,
          2.4309886144375628,
          2.177765792235861,
          0.5107281773449636,
          4.440988012422372,
          4.166294685956843,
          -2.255538211550657,
          1.619850658957798,
          1.0021221231365645,
          0.10624787341873572,
          3.1221973158346303,
          2.653182848484307,
          1.9294591565937835,
          0.7094689039153473,
          -0.1597461544218126,
          2.6235313594731045,
          -0.6366095960697556,
          -0.8861369271054093,
          2.1937148378892113,
          2.931331478934292,
          0.8575132735162129,
          -0.8915966015471513,
          3.939799682902604,
          -1.8653184453454212,
          -1.7680490651440872,
          4.832678465580188,
          4.612313192964294,
          1.2322003637033354,
          0.7429415589363308,
          -0.008697794433711244,
          0.3267418320881441
         ]
        },
        {
         "marker": {
          "color": "red"
         },
         "mode": "markers",
         "name": "",
         "showlegend": false,
         "text": [
          "mp-21892",
          "mp-8070",
          "mp-558491",
          "mp-632684",
          "mp-23329",
          "mp-555150",
          "mp-6564",
          "mp-18578",
          "mp-760755",
          "mp-28456",
          "mp-4779",
          "mp-6268",
          "mp-706621",
          "mp-559057",
          "mp-24468",
          "mp-1778",
          "mp-2176",
          "mp-22909",
          "mp-4187",
          "mp-10341",
          "mp-9844",
          "mp-5784",
          "mp-20694",
          "mp-9066",
          "mp-6126",
          "mp-632229",
          "mp-12177",
          "mp-21521",
          "mp-1287",
          "mp-756044",
          "mp-754712",
          "mp-4812",
          "mp-18168",
          "mp-23866",
          "mp-558085",
          "mp-230",
          "mp-505702",
          "mp-559065",
          "mp-559545",
          "mp-549720",
          "mp-561385",
          "mp-13666",
          "mp-14444",
          "mp-1550",
          "mp-2469",
          "mp-31451",
          "mp-1023924",
          "mp-1100395",
          "mp-961682",
          "mp-38011",
          "mp-30847",
          "mp-8884",
          "mp-1017534",
          "mp-6980",
          "mp-560588",
          "mp-4524",
          "mp-4514"
         ],
         "type": "scatter",
         "x": [
          0.5129958888992996,
          -0.4855530271371922,
          -0.08740485527531697,
          -0.45681555937106766,
          2.1061629838671,
          0.513705495637027,
          -1.9635937181390624,
          1.703283963962633,
          -2.3134955345928385,
          2.144082225629274,
          -1.5605221852218962,
          1.8583162248321317,
          -1.748575568907935,
          0.4882103609421548,
          -0.8151682548135614,
          -1.1396223245682315,
          4.656254645145144,
          0.9508715487860324,
          2.0089890346526387,
          0.1465376158615837,
          -0.05300287393081044,
          -1.4301531189156178,
          0.08583757032428084,
          -1.1432595869803444,
          1.005487085967149,
          1.068043435793579,
          3.0280355492477735,
          2.0183066815251465,
          -1.952218665850329,
          -1.266849364995467,
          0.15670083532845222,
          -0.3037256566355995,
          0.8790197681158867,
          -0.08910579025424446,
          -0.905371489125012,
          1.7369375746256583,
          0.44855102088749943,
          1.871489666744384,
          1.7522422636101158,
          3.0993804513799335,
          -0.35650021086904377,
          3.917254174536937,
          2.5896455390744313,
          2.110202594025541,
          2.8167502162864495,
          4.2071054438569275,
          0.9457357302382252,
          -3.4095942440797313,
          2.9659438484697773,
          1.943455628463224,
          3.633400002575317,
          3.677733778199943,
          4.4593717050440915,
          4.122043167902257,
          3.355818208137122,
          4.494287161104849,
          2.491870994405037
         ],
         "y": [
          -0.04515340361144157,
          -1.3264572232880538,
          -0.5100363327405659,
          -0.566902910129222,
          1.595413329330423,
          0.018808119131814856,
          -1.2953196493333414,
          0.8080756131794882,
          -1.1941079395628882,
          2.0378082000568014,
          -0.4585651257968401,
          -0.5341151988968361,
          -1.1584175948053357,
          0.7318389551963809,
          -1.0618496831421738,
          -0.962767367621838,
          4.279253055415992,
          -0.1952816641296815,
          0.800357293004361,
          -0.2470574698485519,
          -0.27847112191041506,
          -0.1331800934712948,
          2.140176334859973,
          -0.8823293712095617,
          0.4365650080564713,
          0.5084684882768198,
          1.5700059648141869,
          1.3738108331614,
          0.7152663090358029,
          -0.8662121240934563,
          -0.27591473328965255,
          0.032377512111343744,
          0.6529873010564811,
          -0.008508597903673752,
          -0.36236856648354365,
          0.043657668983931565,
          0.4277072823915351,
          2.139724240854199,
          1.3902124755981158,
          3.1516997953582315,
          -0.6912487875732816,
          3.2810775715098424,
          2.7249587121104133,
          2.1109634893955875,
          2.6195258809856634,
          4.372979619425033,
          1.754020938552881,
          -0.7885798136831339,
          4.6448869801556185,
          0.20877073595002696,
          3.9167867263203022,
          4.529517642033705,
          3.4706426586650507,
          1.4089227915361302,
          2.55665898179111,
          4.469598837393413,
          2.7041876816906787
         ]
        },
        {
         "line": {
          "color": "gray",
          "dash": "dot"
         },
         "mode": "lines",
         "showlegend": false,
         "type": "scatter",
         "x": [
          -10,
          8
         ],
         "y": [
          -10,
          8
         ]
        }
       ],
       "layout": {
        "autosize": false,
        "font": {
         "size": 20
        },
        "height": 600,
        "template": {
         "data": {
          "bar": [
           {
            "error_x": {
             "color": "rgb(36,36,36)"
            },
            "error_y": {
             "color": "rgb(36,36,36)"
            },
            "marker": {
             "line": {
              "color": "white",
              "width": 0.5
             },
             "pattern": {
              "fillmode": "overlay",
              "size": 10,
              "solidity": 0.2
             }
            },
            "type": "bar"
           }
          ],
          "barpolar": [
           {
            "marker": {
             "line": {
              "color": "white",
              "width": 0.5
             },
             "pattern": {
              "fillmode": "overlay",
              "size": 10,
              "solidity": 0.2
             }
            },
            "type": "barpolar"
           }
          ],
          "carpet": [
           {
            "aaxis": {
             "endlinecolor": "rgb(36,36,36)",
             "gridcolor": "white",
             "linecolor": "white",
             "minorgridcolor": "white",
             "startlinecolor": "rgb(36,36,36)"
            },
            "baxis": {
             "endlinecolor": "rgb(36,36,36)",
             "gridcolor": "white",
             "linecolor": "white",
             "minorgridcolor": "white",
             "startlinecolor": "rgb(36,36,36)"
            },
            "type": "carpet"
           }
          ],
          "choropleth": [
           {
            "colorbar": {
             "outlinewidth": 1,
             "tickcolor": "rgb(36,36,36)",
             "ticks": "outside"
            },
            "type": "choropleth"
           }
          ],
          "contour": [
           {
            "colorbar": {
             "outlinewidth": 1,
             "tickcolor": "rgb(36,36,36)",
             "ticks": "outside"
            },
            "colorscale": [
             [
              0,
              "#440154"
             ],
             [
              0.1111111111111111,
              "#482878"
             ],
             [
              0.2222222222222222,
              "#3e4989"
             ],
             [
              0.3333333333333333,
              "#31688e"
             ],
             [
              0.4444444444444444,
              "#26828e"
             ],
             [
              0.5555555555555556,
              "#1f9e89"
             ],
             [
              0.6666666666666666,
              "#35b779"
             ],
             [
              0.7777777777777778,
              "#6ece58"
             ],
             [
              0.8888888888888888,
              "#b5de2b"
             ],
             [
              1,
              "#fde725"
             ]
            ],
            "type": "contour"
           }
          ],
          "contourcarpet": [
           {
            "colorbar": {
             "outlinewidth": 1,
             "tickcolor": "rgb(36,36,36)",
             "ticks": "outside"
            },
            "type": "contourcarpet"
           }
          ],
          "heatmap": [
           {
            "colorbar": {
             "outlinewidth": 1,
             "tickcolor": "rgb(36,36,36)",
             "ticks": "outside"
            },
            "colorscale": [
             [
              0,
              "#440154"
             ],
             [
              0.1111111111111111,
              "#482878"
             ],
             [
              0.2222222222222222,
              "#3e4989"
             ],
             [
              0.3333333333333333,
              "#31688e"
             ],
             [
              0.4444444444444444,
              "#26828e"
             ],
             [
              0.5555555555555556,
              "#1f9e89"
             ],
             [
              0.6666666666666666,
              "#35b779"
             ],
             [
              0.7777777777777778,
              "#6ece58"
             ],
             [
              0.8888888888888888,
              "#b5de2b"
             ],
             [
              1,
              "#fde725"
             ]
            ],
            "type": "heatmap"
           }
          ],
          "heatmapgl": [
           {
            "colorbar": {
             "outlinewidth": 1,
             "tickcolor": "rgb(36,36,36)",
             "ticks": "outside"
            },
            "colorscale": [
             [
              0,
              "#440154"
             ],
             [
              0.1111111111111111,
              "#482878"
             ],
             [
              0.2222222222222222,
              "#3e4989"
             ],
             [
              0.3333333333333333,
              "#31688e"
             ],
             [
              0.4444444444444444,
              "#26828e"
             ],
             [
              0.5555555555555556,
              "#1f9e89"
             ],
             [
              0.6666666666666666,
              "#35b779"
             ],
             [
              0.7777777777777778,
              "#6ece58"
             ],
             [
              0.8888888888888888,
              "#b5de2b"
             ],
             [
              1,
              "#fde725"
             ]
            ],
            "type": "heatmapgl"
           }
          ],
          "histogram": [
           {
            "marker": {
             "line": {
              "color": "white",
              "width": 0.6
             }
            },
            "type": "histogram"
           }
          ],
          "histogram2d": [
           {
            "colorbar": {
             "outlinewidth": 1,
             "tickcolor": "rgb(36,36,36)",
             "ticks": "outside"
            },
            "colorscale": [
             [
              0,
              "#440154"
             ],
             [
              0.1111111111111111,
              "#482878"
             ],
             [
              0.2222222222222222,
              "#3e4989"
             ],
             [
              0.3333333333333333,
              "#31688e"
             ],
             [
              0.4444444444444444,
              "#26828e"
             ],
             [
              0.5555555555555556,
              "#1f9e89"
             ],
             [
              0.6666666666666666,
              "#35b779"
             ],
             [
              0.7777777777777778,
              "#6ece58"
             ],
             [
              0.8888888888888888,
              "#b5de2b"
             ],
             [
              1,
              "#fde725"
             ]
            ],
            "type": "histogram2d"
           }
          ],
          "histogram2dcontour": [
           {
            "colorbar": {
             "outlinewidth": 1,
             "tickcolor": "rgb(36,36,36)",
             "ticks": "outside"
            },
            "colorscale": [
             [
              0,
              "#440154"
             ],
             [
              0.1111111111111111,
              "#482878"
             ],
             [
              0.2222222222222222,
              "#3e4989"
             ],
             [
              0.3333333333333333,
              "#31688e"
             ],
             [
              0.4444444444444444,
              "#26828e"
             ],
             [
              0.5555555555555556,
              "#1f9e89"
             ],
             [
              0.6666666666666666,
              "#35b779"
             ],
             [
              0.7777777777777778,
              "#6ece58"
             ],
             [
              0.8888888888888888,
              "#b5de2b"
             ],
             [
              1,
              "#fde725"
             ]
            ],
            "type": "histogram2dcontour"
           }
          ],
          "mesh3d": [
           {
            "colorbar": {
             "outlinewidth": 1,
             "tickcolor": "rgb(36,36,36)",
             "ticks": "outside"
            },
            "type": "mesh3d"
           }
          ],
          "parcoords": [
           {
            "line": {
             "colorbar": {
              "outlinewidth": 1,
              "tickcolor": "rgb(36,36,36)",
              "ticks": "outside"
             }
            },
            "type": "parcoords"
           }
          ],
          "pie": [
           {
            "automargin": true,
            "type": "pie"
           }
          ],
          "scatter": [
           {
            "fillpattern": {
             "fillmode": "overlay",
             "size": 10,
             "solidity": 0.2
            },
            "type": "scatter"
           }
          ],
          "scatter3d": [
           {
            "line": {
             "colorbar": {
              "outlinewidth": 1,
              "tickcolor": "rgb(36,36,36)",
              "ticks": "outside"
             }
            },
            "marker": {
             "colorbar": {
              "outlinewidth": 1,
              "tickcolor": "rgb(36,36,36)",
              "ticks": "outside"
             }
            },
            "type": "scatter3d"
           }
          ],
          "scattercarpet": [
           {
            "marker": {
             "colorbar": {
              "outlinewidth": 1,
              "tickcolor": "rgb(36,36,36)",
              "ticks": "outside"
             }
            },
            "type": "scattercarpet"
           }
          ],
          "scattergeo": [
           {
            "marker": {
             "colorbar": {
              "outlinewidth": 1,
              "tickcolor": "rgb(36,36,36)",
              "ticks": "outside"
             }
            },
            "type": "scattergeo"
           }
          ],
          "scattergl": [
           {
            "marker": {
             "colorbar": {
              "outlinewidth": 1,
              "tickcolor": "rgb(36,36,36)",
              "ticks": "outside"
             }
            },
            "type": "scattergl"
           }
          ],
          "scattermapbox": [
           {
            "marker": {
             "colorbar": {
              "outlinewidth": 1,
              "tickcolor": "rgb(36,36,36)",
              "ticks": "outside"
             }
            },
            "type": "scattermapbox"
           }
          ],
          "scatterpolar": [
           {
            "marker": {
             "colorbar": {
              "outlinewidth": 1,
              "tickcolor": "rgb(36,36,36)",
              "ticks": "outside"
             }
            },
            "type": "scatterpolar"
           }
          ],
          "scatterpolargl": [
           {
            "marker": {
             "colorbar": {
              "outlinewidth": 1,
              "tickcolor": "rgb(36,36,36)",
              "ticks": "outside"
             }
            },
            "type": "scatterpolargl"
           }
          ],
          "scatterternary": [
           {
            "marker": {
             "colorbar": {
              "outlinewidth": 1,
              "tickcolor": "rgb(36,36,36)",
              "ticks": "outside"
             }
            },
            "type": "scatterternary"
           }
          ],
          "surface": [
           {
            "colorbar": {
             "outlinewidth": 1,
             "tickcolor": "rgb(36,36,36)",
             "ticks": "outside"
            },
            "colorscale": [
             [
              0,
              "#440154"
             ],
             [
              0.1111111111111111,
              "#482878"
             ],
             [
              0.2222222222222222,
              "#3e4989"
             ],
             [
              0.3333333333333333,
              "#31688e"
             ],
             [
              0.4444444444444444,
              "#26828e"
             ],
             [
              0.5555555555555556,
              "#1f9e89"
             ],
             [
              0.6666666666666666,
              "#35b779"
             ],
             [
              0.7777777777777778,
              "#6ece58"
             ],
             [
              0.8888888888888888,
              "#b5de2b"
             ],
             [
              1,
              "#fde725"
             ]
            ],
            "type": "surface"
           }
          ],
          "table": [
           {
            "cells": {
             "fill": {
              "color": "rgb(237,237,237)"
             },
             "line": {
              "color": "white"
             }
            },
            "header": {
             "fill": {
              "color": "rgb(217,217,217)"
             },
             "line": {
              "color": "white"
             }
            },
            "type": "table"
           }
          ]
         },
         "layout": {
          "annotationdefaults": {
           "arrowhead": 0,
           "arrowwidth": 1
          },
          "autotypenumbers": "strict",
          "coloraxis": {
           "colorbar": {
            "outlinewidth": 1,
            "tickcolor": "rgb(36,36,36)",
            "ticks": "outside"
           }
          },
          "colorscale": {
           "diverging": [
            [
             0,
             "rgb(103,0,31)"
            ],
            [
             0.1,
             "rgb(178,24,43)"
            ],
            [
             0.2,
             "rgb(214,96,77)"
            ],
            [
             0.3,
             "rgb(244,165,130)"
            ],
            [
             0.4,
             "rgb(253,219,199)"
            ],
            [
             0.5,
             "rgb(247,247,247)"
            ],
            [
             0.6,
             "rgb(209,229,240)"
            ],
            [
             0.7,
             "rgb(146,197,222)"
            ],
            [
             0.8,
             "rgb(67,147,195)"
            ],
            [
             0.9,
             "rgb(33,102,172)"
            ],
            [
             1,
             "rgb(5,48,97)"
            ]
           ],
           "sequential": [
            [
             0,
             "#440154"
            ],
            [
             0.1111111111111111,
             "#482878"
            ],
            [
             0.2222222222222222,
             "#3e4989"
            ],
            [
             0.3333333333333333,
             "#31688e"
            ],
            [
             0.4444444444444444,
             "#26828e"
            ],
            [
             0.5555555555555556,
             "#1f9e89"
            ],
            [
             0.6666666666666666,
             "#35b779"
            ],
            [
             0.7777777777777778,
             "#6ece58"
            ],
            [
             0.8888888888888888,
             "#b5de2b"
            ],
            [
             1,
             "#fde725"
            ]
           ],
           "sequentialminus": [
            [
             0,
             "#440154"
            ],
            [
             0.1111111111111111,
             "#482878"
            ],
            [
             0.2222222222222222,
             "#3e4989"
            ],
            [
             0.3333333333333333,
             "#31688e"
            ],
            [
             0.4444444444444444,
             "#26828e"
            ],
            [
             0.5555555555555556,
             "#1f9e89"
            ],
            [
             0.6666666666666666,
             "#35b779"
            ],
            [
             0.7777777777777778,
             "#6ece58"
            ],
            [
             0.8888888888888888,
             "#b5de2b"
            ],
            [
             1,
             "#fde725"
            ]
           ]
          },
          "colorway": [
           "#1F77B4",
           "#FF7F0E",
           "#2CA02C",
           "#D62728",
           "#9467BD",
           "#8C564B",
           "#E377C2",
           "#7F7F7F",
           "#BCBD22",
           "#17BECF"
          ],
          "font": {
           "color": "rgb(36,36,36)"
          },
          "geo": {
           "bgcolor": "white",
           "lakecolor": "white",
           "landcolor": "white",
           "showlakes": true,
           "showland": true,
           "subunitcolor": "white"
          },
          "hoverlabel": {
           "align": "left"
          },
          "hovermode": "closest",
          "mapbox": {
           "style": "light"
          },
          "paper_bgcolor": "white",
          "plot_bgcolor": "white",
          "polar": {
           "angularaxis": {
            "gridcolor": "rgb(232,232,232)",
            "linecolor": "rgb(36,36,36)",
            "showgrid": false,
            "showline": true,
            "ticks": "outside"
           },
           "bgcolor": "white",
           "radialaxis": {
            "gridcolor": "rgb(232,232,232)",
            "linecolor": "rgb(36,36,36)",
            "showgrid": false,
            "showline": true,
            "ticks": "outside"
           }
          },
          "scene": {
           "xaxis": {
            "backgroundcolor": "white",
            "gridcolor": "rgb(232,232,232)",
            "gridwidth": 2,
            "linecolor": "rgb(36,36,36)",
            "showbackground": true,
            "showgrid": false,
            "showline": true,
            "ticks": "outside",
            "zeroline": false,
            "zerolinecolor": "rgb(36,36,36)"
           },
           "yaxis": {
            "backgroundcolor": "white",
            "gridcolor": "rgb(232,232,232)",
            "gridwidth": 2,
            "linecolor": "rgb(36,36,36)",
            "showbackground": true,
            "showgrid": false,
            "showline": true,
            "ticks": "outside",
            "zeroline": false,
            "zerolinecolor": "rgb(36,36,36)"
           },
           "zaxis": {
            "backgroundcolor": "white",
            "gridcolor": "rgb(232,232,232)",
            "gridwidth": 2,
            "linecolor": "rgb(36,36,36)",
            "showbackground": true,
            "showgrid": false,
            "showline": true,
            "ticks": "outside",
            "zeroline": false,
            "zerolinecolor": "rgb(36,36,36)"
           }
          },
          "shapedefaults": {
           "fillcolor": "black",
           "line": {
            "width": 0
           },
           "opacity": 0.3
          },
          "ternary": {
           "aaxis": {
            "gridcolor": "rgb(232,232,232)",
            "linecolor": "rgb(36,36,36)",
            "showgrid": false,
            "showline": true,
            "ticks": "outside"
           },
           "baxis": {
            "gridcolor": "rgb(232,232,232)",
            "linecolor": "rgb(36,36,36)",
            "showgrid": false,
            "showline": true,
            "ticks": "outside"
           },
           "bgcolor": "white",
           "caxis": {
            "gridcolor": "rgb(232,232,232)",
            "linecolor": "rgb(36,36,36)",
            "showgrid": false,
            "showline": true,
            "ticks": "outside"
           }
          },
          "title": {
           "x": 0.05
          },
          "xaxis": {
           "automargin": true,
           "gridcolor": "rgb(232,232,232)",
           "linecolor": "rgb(36,36,36)",
           "showgrid": false,
           "showline": true,
           "ticks": "outside",
           "title": {
            "standoff": 15
           },
           "zeroline": false,
           "zerolinecolor": "rgb(36,36,36)"
          },
          "yaxis": {
           "automargin": true,
           "gridcolor": "rgb(232,232,232)",
           "linecolor": "rgb(36,36,36)",
           "showgrid": false,
           "showline": true,
           "ticks": "outside",
           "title": {
            "standoff": 15
           },
           "zeroline": false,
           "zerolinecolor": "rgb(36,36,36)"
          }
         }
        },
        "title": {
         "text": "modnet_random_250_mmf_pgnn_"
        },
        "width": 600,
        "xaxis": {
         "dtick": 2,
         "range": [
          -6.2,
          6.2
         ],
         "showgrid": false,
         "tick0": 0,
         "tickmode": "linear",
         "title": {
          "text": "ln(<i>d</i><sub>KP</sub>) (pm/V)"
         }
        },
        "yaxis": {
         "dtick": 2,
         "range": [
          -6.2,
          6.2
         ],
         "showgrid": false,
         "tick0": 0,
         "tickmode": "linear",
         "title": {
          "text": "ln(<i>d&#770;</i><sub>KP</sub>) (pm/V)"
         }
        }
       }
      }
     },
     "metadata": {},
     "output_type": "display_data"
    },
    {
     "data": {
      "application/vnd.plotly.v1+json": {
       "config": {
        "plotlyServerURL": "https://plot.ly"
       },
       "data": [
        {
         "mode": "markers",
         "name": "",
         "showlegend": false,
         "text": [
          "mp-11714",
          "mp-1180133",
          "mp-675161",
          "mp-983327",
          "mp-1225884",
          "mp-1219554",
          "mp-1196457",
          "mp-560894",
          "mp-1196282",
          "mp-1222122",
          "mp-1219328",
          "mp-1227014",
          "mp-1222205",
          "mp-1227124",
          "mp-1102285",
          "mp-1227389",
          "mp-1180688",
          "mp-1399519",
          "mp-1227110",
          "mp-1079676",
          "mp-24705",
          "mp-1516294",
          "mp-1228342",
          "mp-17862",
          "mp-504952",
          "mp-1222589",
          "mp-1223849",
          "mp-6524",
          "mp-1208039",
          "mp-625175",
          "mp-1219000",
          "mp-532424",
          "mp-1218099",
          "agm002306806",
          "agm003160552",
          "agm003202328",
          "agm002353946",
          "agm002278924",
          "agm002381637",
          "agm003225028",
          "agm003202410",
          "agm003230659",
          "agm003128264",
          "mp-781710",
          "mp-1227011",
          "mp-1216118",
          "agm002166075",
          "agm002135972",
          "mp-3267",
          "agm002224865",
          "agm002347507",
          "agm003157565",
          "mp-1216100",
          "mp-1195571",
          "mp-780232",
          "agm002018869",
          "agm002140778",
          "agm002041336",
          "agm003219193",
          "mp-1228160",
          "mp-1223489",
          "mp-1221169",
          "mp-4431",
          "mp-8393",
          "mp-1105300",
          "mp-36066",
          "mp-1103351",
          "mp-1103228",
          "mp-1029368",
          "mp-1217825",
          "mp-1029633",
          "agm002147818",
          "agm003248171",
          "mp-1223526",
          "agm002153139",
          "mp-239",
          "agm002137320",
          "mp-1079609",
          "mp-558219",
          "mp-555202",
          "mp-1216976",
          "mp-626172",
          "agm002156258",
          "mp-772748",
          "agm002237467",
          "mp-1223389",
          "agm002155430",
          "mp-9427",
          "mp-1225916",
          "agm003237859",
          "agm002156600",
          "mp-1221971",
          "mp-1220913",
          "agm002237807",
          "mp-1221578",
          "mp-1191266",
          "mp-1205304",
          "mp-1218334",
          "agm002215982",
          "mp-559752",
          "mp-1215642",
          "agm002813663",
          "mp-1247873",
          "mp-1194479",
          "mp-558521",
          "agm003213121",
          "agm002286033",
          "agm002297812",
          "mp-1147697",
          "mp-29157",
          "mp-558277",
          "agm003200486",
          "agm002157245",
          "mp-1370",
          "mp-555915",
          "mp-776226",
          "agm002138671",
          "agm002790067",
          "agm002163280",
          "mp-532444",
          "agm002177957",
          "agm006045098",
          "agm002205114",
          "agm2000005406",
          "agm002184995",
          "agm003235252",
          "agm002178912",
          "agm002115629",
          "agm003206267",
          "agm004739450",
          "agm003705731",
          "agm005112928",
          "agm005722808",
          "agm2000126920",
          "agm2000137141",
          "agm005848675",
          "mp-2802611",
          "agm002158085",
          "agm005545163",
          "agm005056300",
          "agm004786326",
          "agm003048447",
          "agm002102212",
          "agm001234439",
          "agm002056302",
          "agm002137665",
          "agm003555711",
          "mp-554918",
          "mp-570756",
          "agm001375463",
          "agm005208831",
          "mp-4452",
          "agm005882616",
          "agm2000001907",
          "agm005721583",
          "agm001281942",
          "agm003267560",
          "agm004773887",
          "agm004852816",
          "agm006020719",
          "agm004957157",
          "agm003112540",
          "agm002293392",
          "agm005785567",
          "agm004948831",
          "agm004787350",
          "agm005954902",
          "agm005199361",
          "agm2000035672",
          "agm002032016",
          "agm005180377",
          "agm002176403",
          "agm002182720",
          "agm002161194",
          "agm2000136656",
          "agm005882580",
          "agm002074653",
          "agm003561427",
          "mp-1208179",
          "agm002078874",
          "agm004949939",
          "agm002017294",
          "mp-556157",
          "mp-2720358",
          "agm002041315",
          "agm003469328",
          "agm005072178",
          "agm001037983",
          "mp-1219050",
          "agm005664742",
          "agm004773455",
          "agm005071058",
          "mp-4122"
         ],
         "type": "scatter",
         "x": [
          1.8640705135253752,
          1.6117304214168595,
          -0.735417753590477,
          -1.8262706939721245,
          -1.850645270291186,
          0.879425814242005,
          -2.2274896889093165,
          -0.696089616034016,
          -3.882833663787394,
          1.289120243301616,
          0.9963979996100724,
          3.603033032121485,
          2.4589765468345712,
          2.790030659323957,
          1.9858987831854715,
          3.6428908209397224,
          -0.05294795776462664,
          -0.6247534932868787,
          -4.692920184192641,
          0.34935301523658263,
          0.17335046478847826,
          -2.835642777981388,
          0.3231729545138501,
          3.502741045546834,
          2.6838822295557954,
          -1.752444876116761,
          -2.3787863570552736,
          0.26105238181782164,
          -0.03989242203594581,
          -1.2804277067714025,
          4.244051137050639,
          -2.4748075156257054,
          -0.13688827127044767,
          2.526551445920425,
          2.507903669532472,
          3.4877343549200677,
          4.763345534480794,
          5.1067363011827345,
          4.026941133211829,
          2.0481760038002164,
          4.901091842048587,
          1.1957410890099702,
          1.4454034712975874,
          2.7998477802550448,
          3.957572495507323,
          2.210315752672521,
          0.41722711058822537,
          4.46393144142344,
          3.2719959135064016,
          0.15077779951791634,
          1.2297544386049692,
          -1.2825056451299668,
          -0.6889089125582464,
          -1.8765034262960585,
          1.6042440672394471,
          -0.027150618875364636,
          1.3187090489912512,
          3.7546024892173433,
          -1.4450659395820022,
          -1.4209066269913853,
          -1.7967384501708528,
          2.3075919681926687,
          2.9764162815898874,
          2.8690281656036887,
          3.28690872407927,
          0.8959058949519814,
          0.8074179428193387,
          4.7141903883357745,
          2.706316306471154,
          2.47881518717918,
          2.0075454817088243,
          -0.950327008457287,
          -0.8266225001203459,
          -0.33676025917534985,
          0.9305096508337292,
          1.7539488690248592,
          0.42715893113319353,
          1.1853325631867693,
          1.4483748824014988,
          -1.3996753119350664,
          2.537243145948521,
          -1.4994368982155892,
          -0.4009194821956806,
          -1.3032098743935028,
          2.3705581417226256,
          3.2595451747209663,
          3.76569793269359,
          -0.554443488411422,
          0.1675766744469721,
          -1.0650621180496211,
          -0.09477325375659072,
          1.7699590867643369,
          1.3084114464845522,
          4.620808307046488,
          -0.2994748844647402,
          2.3921331538606,
          2.5344727826488813,
          4.055858008755907,
          0.012395977141582776,
          -0.032834310685466286,
          1.2589677005652813,
          2.331839312059552,
          1.984125917185856,
          -0.00038727661071183303,
          -0.059720922297569944,
          1.359985981463237,
          2.434496669436536,
          0.1357880158166226,
          2.0073184771879147,
          4.363206663676072,
          2.3575884703323733,
          -4.690858220270285,
          2.2189306306927823,
          2.801801019661196,
          -0.8720794454781192,
          0.8482032891473601,
          1.6076098710058706,
          3.8433263345501425,
          1.3678434278258595,
          -0.17633870175908242,
          3.152539064553639,
          0.13131007151193197,
          4.161423854925523,
          -3.339143890989934,
          5.119947149916917,
          -3.0486976774750096,
          3.2882575508876983,
          1.0413150832507418,
          2.955263511151345,
          4.282204515590123,
          1.904069829063425,
          1.535213681414796,
          0.23913537106058216,
          -1.4925748617087051,
          2.1057574191623862,
          2.0172124795442072,
          -0.10724678152218822,
          2.209325491877229,
          0.5020905996831126,
          2.023925095651449,
          2.6127497197709366,
          2.2902202719401097,
          -0.5457417303895249,
          -0.18960256344954837,
          1.2279568365509097,
          -1.5250777904817183,
          -0.09172098603956426,
          0.9118789633700044,
          -2.3207879151317936,
          3.3884489406417044,
          2.8109284465402595,
          3.053227480314319,
          -0.021446347716552343,
          -0.2984888956181751,
          2.2487349390343057,
          -0.18071476441805265,
          2.980006141767316,
          1.652769008297107,
          0.4904175004830009,
          -0.8843652374073264,
          -2.856624106075478,
          3.893549523381594,
          3.341348125266644,
          2.191071182277935,
          1.9941533814150725,
          0.53849175685732,
          3.5120751046974377,
          3.8446000769290665,
          -5.674020556567256,
          1.480103483943564,
          0.7192836638002035,
          0.4245670695122952,
          3.0991767517782693,
          2.2951224845999403,
          1.2008466644831577,
          2.14872709843379,
          0.6975896267302939,
          3.256920123633489,
          -0.15750553108580967,
          -2.138628965887914,
          1.9564913351882427,
          2.8293623014760114,
          0.839591180142205,
          -1.1013016310744437,
          4.062859542466981,
          -1.1642253854125997,
          -1.0321892814124467,
          4.566947790442395,
          4.94536809883449,
          1.1614508596374045,
          1.562007195494622,
          0.3327943572530076,
          -0.1306125808189969
         ],
         "y": [
          2.1611132210975623,
          2.502863364086066,
          -0.3635610944416073,
          -0.3852576212279783,
          -0.254643654993667,
          1.356733006931536,
          0.4941770506699162,
          0.28731420702504207,
          -1.861673092733012,
          3.010705585912886,
          0.7786835583535835,
          3.0660081323187622,
          2.6564104078596267,
          1.3675229000354034,
          1.1553972051419987,
          2.6041388282392637,
          2.1123051693807975,
          -0.27022795857034987,
          -0.8492396117844924,
          0.740164674318753,
          1.2583084743313708,
          2.482833260998916,
          0.15844298694793646,
          2.202528069095308,
          2.9249370263065675,
          0.4856922362298979,
          0.07374970325004822,
          1.833165140432868,
          1.328599235159476,
          0.4333684966096185,
          3.096308622281315,
          -0.2810335065360945,
          0.969959612517566,
          2.979804629564757,
          2.03375899684933,
          3.2889054002846807,
          2.001389227570022,
          3.8291047979025614,
          3.8175178411721222,
          2.0110285419444995,
          1.7575204851051989,
          1.2043539916919372,
          2.263283971914331,
          1.1698363067699225,
          2.769831850213887,
          2.1722933636279076,
          2.6208822420120166,
          2.6780096636658133,
          1.1873463953672845,
          2.640441084843681,
          1.856138115727347,
          0.11544283182806946,
          0.16242264494841194,
          -0.4322549750682479,
          1.5758345852427424,
          -1.7518898816790578,
          1.1930718745574067,
          2.1475367676563395,
          0.6754091855682581,
          1.06963598164261,
          -0.976852209824264,
          1.0586789897074338,
          3.656909931276079,
          2.407105624801867,
          3.236671881594841,
          1.476748906617136,
          2.530864761442278,
          3.1618074168248347,
          2.570117474047772,
          2.6011197777353376,
          2.7817983737482717,
          0.06594819929911389,
          0.8283680056444548,
          0.8652962641315695,
          1.3648818872534192,
          -0.9134572290441886,
          1.292654754692791,
          1.2073123518073958,
          0.7526977553580777,
          1.2666927655809308,
          1.5175203341776655,
          0.004507907728951998,
          1.6286983019398429,
          0.8178592193237331,
          1.981194785220014,
          3.049942692302728,
          3.240215681098414,
          0.4406937189078323,
          0.20184764105466552,
          0.7205605716421994,
          0.527393135409493,
          2.158785513877323,
          1.826554558562952,
          2.560604130819802,
          -0.5151252024619095,
          2.2445407248042435,
          1.0633971545890042,
          1.0312891554321872,
          1.2335807251567616,
          0.0851162222402386,
          1.6743445194161468,
          -1.362857364358827,
          1.718719765159488,
          0.5802746576010683,
          0.06041126772211696,
          0.551848656732974,
          -1.7882682614370369,
          0.5781421138524733,
          1.971871753400123,
          3.1024537388864655,
          1.511795110862831,
          -3.8507693526989057,
          2.1885041710486615,
          0.6106431314614671,
          -0.26969197714961285,
          0.8229145565651613,
          1.3535134607635428,
          3.5107971617412583,
          1.7187249938016906,
          -0.01068620198657919,
          2.849611300477836,
          0.9935920388835688,
          4.561552475890057,
          0.9661621560630784,
          1.5457966167668853,
          0.08117770677752582,
          3.542775242062086,
          1.8223573387058989,
          3.0487545847400326,
          2.997438391130631,
          1.972216679500774,
          1.1484316247112871,
          0.6185070638133627,
          0.6524561155981553,
          2.0126045061365745,
          2.927708528790859,
          -0.1734772512555192,
          2.353197055196364,
          -0.9138739955227368,
          2.5834227910523206,
          2.6817888826765297,
          2.0186650509260775,
          0.25151875860276174,
          0.7637604620369213,
          1.0633632145013858,
          0.3104499063653954,
          0.465324325095234,
          1.1977509988832742,
          0.4804832747656173,
          4.545566887687218,
          2.711708358651549,
          2.878026444525517,
          0.8045269163129644,
          -0.1295188502224029,
          2.5248322186492356,
          1.6857375818869471,
          2.157599944798382,
          1.7327600163464267,
          1.6268716092428472,
          0.35607804322280745,
          1.2261359288366094,
          3.829027053173063,
          3.2311791085140484,
          2.4210447495797913,
          2.0513487773589065,
          1.0070210390781398,
          1.7710097232747617,
          3.674514225028192,
          -2.3041169882887425,
          2.4193774707283633,
          1.8442509182342568,
          0.03584002948965819,
          3.183801587026933,
          2.80507605352736,
          1.6121429735712551,
          1.5980900393423416,
          1.300866452531125,
          1.9400344401953031,
          -1.946203146653599,
          1.0381754782182997,
          1.8772046966808416,
          2.7951023167723092,
          0.6902754794091647,
          -0.7449732246502659,
          2.639909255150675,
          0.799470020923969,
          -0.5377133430274836,
          4.277916895776501,
          3.3362991733216663,
          2.0310602690111756,
          1.2078927345163126,
          1.242643984905575,
          -1.8038126173570517
         ]
        },
        {
         "marker": {
          "color": "red"
         },
         "mode": "markers",
         "name": "",
         "showlegend": false,
         "text": [
          "mp-21892",
          "mp-8070",
          "mp-558491",
          "mp-632684",
          "mp-23329",
          "mp-555150",
          "mp-6564",
          "mp-18578",
          "mp-760755",
          "mp-28456",
          "mp-4779",
          "mp-6268",
          "mp-706621",
          "mp-559057",
          "mp-24468",
          "mp-1778",
          "mp-2176",
          "mp-22909",
          "mp-4187",
          "mp-10341",
          "mp-9844",
          "mp-5784",
          "mp-20694",
          "mp-9066",
          "mp-6126",
          "mp-632229",
          "mp-12177",
          "mp-21521",
          "mp-1287",
          "mp-756044",
          "mp-754712",
          "mp-4812",
          "mp-18168",
          "mp-23866",
          "mp-558085",
          "mp-230",
          "mp-505702",
          "mp-559065",
          "mp-559545",
          "mp-549720",
          "mp-561385",
          "mp-13666",
          "mp-14444",
          "mp-1550",
          "mp-2469",
          "mp-31451",
          "mp-1023924",
          "mp-1100395",
          "mp-961682",
          "mp-38011",
          "mp-30847",
          "mp-8884",
          "mp-1017534",
          "mp-6980",
          "mp-560588",
          "mp-4524",
          "mp-4514"
         ],
         "type": "scatter",
         "x": [
          0.5129958888992996,
          -0.4855530271371922,
          -0.08740485527531697,
          -0.45681555937106766,
          2.1061629838671,
          0.513705495637027,
          -1.9635937181390624,
          1.703283963962633,
          -2.3134955345928385,
          2.144082225629274,
          -1.5605221852218962,
          1.8583162248321317,
          -1.748575568907935,
          0.4882103609421548,
          -0.8151682548135614,
          -1.1396223245682315,
          4.656254645145144,
          0.9508715487860324,
          2.0089890346526387,
          0.1465376158615837,
          -0.05300287393081044,
          -1.4301531189156178,
          0.08583757032428084,
          -1.1432595869803444,
          1.005487085967149,
          1.068043435793579,
          3.0280355492477735,
          2.0183066815251465,
          -1.952218665850329,
          -1.266849364995467,
          0.15670083532845222,
          -0.3037256566355995,
          0.8790197681158867,
          -0.08910579025424446,
          -0.905371489125012,
          1.7369375746256583,
          0.44855102088749943,
          1.871489666744384,
          1.7522422636101158,
          3.0993804513799335,
          -0.35650021086904377,
          3.917254174536937,
          2.5896455390744313,
          2.110202594025541,
          2.8167502162864495,
          4.2071054438569275,
          0.9457357302382252,
          -3.4095942440797313,
          2.9659438484697773,
          1.943455628463224,
          3.633400002575317,
          3.677733778199943,
          4.4593717050440915,
          4.122043167902257,
          3.355818208137122,
          4.494287161104849,
          2.491870994405037
         ],
         "y": [
          1.2160638162107935,
          1.7766593243972717,
          -1.9271194634989064,
          0.04845179012996395,
          2.2057708781641554,
          0.9606308776107666,
          -0.06799712158261434,
          0.4636079836400619,
          0.008356491824550128,
          1.9332266572190349,
          1.147934801682296,
          1.689116851198608,
          0.4927558622471184,
          0.7818197902048865,
          0.007612586958755567,
          -2.732973288045162,
          4.629043557308346,
          -0.38457804467481055,
          1.5292316293787829,
          2.0190209004008235,
          -0.6147596927239076,
          1.7757136005466363,
          -0.42131110293839263,
          1.703750690230738,
          0.8469316618428594,
          1.0028498483197814,
          1.5599056340734074,
          1.0755881361802755,
          -1.944712837557732,
          0.8128265646197858,
          -0.059045088796592954,
          0.505399286326033,
          0.4476810646844018,
          -0.6093961603779919,
          1.2183745027438622,
          0.01123717457431786,
          -0.544068556474821,
          1.5649579778054308,
          1.8820479521552496,
          1.2754276420676107,
          0.757990421604734,
          2.2014833308020547,
          2.080242013892061,
          2.7629853843717336,
          2.443332198000568,
          4.553330691366413,
          0.037980707303594936,
          1.4920136974710596,
          2.9138726564423556,
          1.3485322864789842,
          3.604918470618198,
          4.355019664447805,
          1.419307921878075,
          2.1881893235918395,
          1.0508657973408575,
          4.0837217298982,
          3.5742263368652285
         ]
        },
        {
         "line": {
          "color": "gray",
          "dash": "dot"
         },
         "mode": "lines",
         "showlegend": false,
         "type": "scatter",
         "x": [
          -10,
          8
         ],
         "y": [
          -10,
          8
         ]
        }
       ],
       "layout": {
        "autosize": false,
        "font": {
         "size": 20
        },
        "height": 600,
        "template": {
         "data": {
          "bar": [
           {
            "error_x": {
             "color": "rgb(36,36,36)"
            },
            "error_y": {
             "color": "rgb(36,36,36)"
            },
            "marker": {
             "line": {
              "color": "white",
              "width": 0.5
             },
             "pattern": {
              "fillmode": "overlay",
              "size": 10,
              "solidity": 0.2
             }
            },
            "type": "bar"
           }
          ],
          "barpolar": [
           {
            "marker": {
             "line": {
              "color": "white",
              "width": 0.5
             },
             "pattern": {
              "fillmode": "overlay",
              "size": 10,
              "solidity": 0.2
             }
            },
            "type": "barpolar"
           }
          ],
          "carpet": [
           {
            "aaxis": {
             "endlinecolor": "rgb(36,36,36)",
             "gridcolor": "white",
             "linecolor": "white",
             "minorgridcolor": "white",
             "startlinecolor": "rgb(36,36,36)"
            },
            "baxis": {
             "endlinecolor": "rgb(36,36,36)",
             "gridcolor": "white",
             "linecolor": "white",
             "minorgridcolor": "white",
             "startlinecolor": "rgb(36,36,36)"
            },
            "type": "carpet"
           }
          ],
          "choropleth": [
           {
            "colorbar": {
             "outlinewidth": 1,
             "tickcolor": "rgb(36,36,36)",
             "ticks": "outside"
            },
            "type": "choropleth"
           }
          ],
          "contour": [
           {
            "colorbar": {
             "outlinewidth": 1,
             "tickcolor": "rgb(36,36,36)",
             "ticks": "outside"
            },
            "colorscale": [
             [
              0,
              "#440154"
             ],
             [
              0.1111111111111111,
              "#482878"
             ],
             [
              0.2222222222222222,
              "#3e4989"
             ],
             [
              0.3333333333333333,
              "#31688e"
             ],
             [
              0.4444444444444444,
              "#26828e"
             ],
             [
              0.5555555555555556,
              "#1f9e89"
             ],
             [
              0.6666666666666666,
              "#35b779"
             ],
             [
              0.7777777777777778,
              "#6ece58"
             ],
             [
              0.8888888888888888,
              "#b5de2b"
             ],
             [
              1,
              "#fde725"
             ]
            ],
            "type": "contour"
           }
          ],
          "contourcarpet": [
           {
            "colorbar": {
             "outlinewidth": 1,
             "tickcolor": "rgb(36,36,36)",
             "ticks": "outside"
            },
            "type": "contourcarpet"
           }
          ],
          "heatmap": [
           {
            "colorbar": {
             "outlinewidth": 1,
             "tickcolor": "rgb(36,36,36)",
             "ticks": "outside"
            },
            "colorscale": [
             [
              0,
              "#440154"
             ],
             [
              0.1111111111111111,
              "#482878"
             ],
             [
              0.2222222222222222,
              "#3e4989"
             ],
             [
              0.3333333333333333,
              "#31688e"
             ],
             [
              0.4444444444444444,
              "#26828e"
             ],
             [
              0.5555555555555556,
              "#1f9e89"
             ],
             [
              0.6666666666666666,
              "#35b779"
             ],
             [
              0.7777777777777778,
              "#6ece58"
             ],
             [
              0.8888888888888888,
              "#b5de2b"
             ],
             [
              1,
              "#fde725"
             ]
            ],
            "type": "heatmap"
           }
          ],
          "heatmapgl": [
           {
            "colorbar": {
             "outlinewidth": 1,
             "tickcolor": "rgb(36,36,36)",
             "ticks": "outside"
            },
            "colorscale": [
             [
              0,
              "#440154"
             ],
             [
              0.1111111111111111,
              "#482878"
             ],
             [
              0.2222222222222222,
              "#3e4989"
             ],
             [
              0.3333333333333333,
              "#31688e"
             ],
             [
              0.4444444444444444,
              "#26828e"
             ],
             [
              0.5555555555555556,
              "#1f9e89"
             ],
             [
              0.6666666666666666,
              "#35b779"
             ],
             [
              0.7777777777777778,
              "#6ece58"
             ],
             [
              0.8888888888888888,
              "#b5de2b"
             ],
             [
              1,
              "#fde725"
             ]
            ],
            "type": "heatmapgl"
           }
          ],
          "histogram": [
           {
            "marker": {
             "line": {
              "color": "white",
              "width": 0.6
             }
            },
            "type": "histogram"
           }
          ],
          "histogram2d": [
           {
            "colorbar": {
             "outlinewidth": 1,
             "tickcolor": "rgb(36,36,36)",
             "ticks": "outside"
            },
            "colorscale": [
             [
              0,
              "#440154"
             ],
             [
              0.1111111111111111,
              "#482878"
             ],
             [
              0.2222222222222222,
              "#3e4989"
             ],
             [
              0.3333333333333333,
              "#31688e"
             ],
             [
              0.4444444444444444,
              "#26828e"
             ],
             [
              0.5555555555555556,
              "#1f9e89"
             ],
             [
              0.6666666666666666,
              "#35b779"
             ],
             [
              0.7777777777777778,
              "#6ece58"
             ],
             [
              0.8888888888888888,
              "#b5de2b"
             ],
             [
              1,
              "#fde725"
             ]
            ],
            "type": "histogram2d"
           }
          ],
          "histogram2dcontour": [
           {
            "colorbar": {
             "outlinewidth": 1,
             "tickcolor": "rgb(36,36,36)",
             "ticks": "outside"
            },
            "colorscale": [
             [
              0,
              "#440154"
             ],
             [
              0.1111111111111111,
              "#482878"
             ],
             [
              0.2222222222222222,
              "#3e4989"
             ],
             [
              0.3333333333333333,
              "#31688e"
             ],
             [
              0.4444444444444444,
              "#26828e"
             ],
             [
              0.5555555555555556,
              "#1f9e89"
             ],
             [
              0.6666666666666666,
              "#35b779"
             ],
             [
              0.7777777777777778,
              "#6ece58"
             ],
             [
              0.8888888888888888,
              "#b5de2b"
             ],
             [
              1,
              "#fde725"
             ]
            ],
            "type": "histogram2dcontour"
           }
          ],
          "mesh3d": [
           {
            "colorbar": {
             "outlinewidth": 1,
             "tickcolor": "rgb(36,36,36)",
             "ticks": "outside"
            },
            "type": "mesh3d"
           }
          ],
          "parcoords": [
           {
            "line": {
             "colorbar": {
              "outlinewidth": 1,
              "tickcolor": "rgb(36,36,36)",
              "ticks": "outside"
             }
            },
            "type": "parcoords"
           }
          ],
          "pie": [
           {
            "automargin": true,
            "type": "pie"
           }
          ],
          "scatter": [
           {
            "fillpattern": {
             "fillmode": "overlay",
             "size": 10,
             "solidity": 0.2
            },
            "type": "scatter"
           }
          ],
          "scatter3d": [
           {
            "line": {
             "colorbar": {
              "outlinewidth": 1,
              "tickcolor": "rgb(36,36,36)",
              "ticks": "outside"
             }
            },
            "marker": {
             "colorbar": {
              "outlinewidth": 1,
              "tickcolor": "rgb(36,36,36)",
              "ticks": "outside"
             }
            },
            "type": "scatter3d"
           }
          ],
          "scattercarpet": [
           {
            "marker": {
             "colorbar": {
              "outlinewidth": 1,
              "tickcolor": "rgb(36,36,36)",
              "ticks": "outside"
             }
            },
            "type": "scattercarpet"
           }
          ],
          "scattergeo": [
           {
            "marker": {
             "colorbar": {
              "outlinewidth": 1,
              "tickcolor": "rgb(36,36,36)",
              "ticks": "outside"
             }
            },
            "type": "scattergeo"
           }
          ],
          "scattergl": [
           {
            "marker": {
             "colorbar": {
              "outlinewidth": 1,
              "tickcolor": "rgb(36,36,36)",
              "ticks": "outside"
             }
            },
            "type": "scattergl"
           }
          ],
          "scattermapbox": [
           {
            "marker": {
             "colorbar": {
              "outlinewidth": 1,
              "tickcolor": "rgb(36,36,36)",
              "ticks": "outside"
             }
            },
            "type": "scattermapbox"
           }
          ],
          "scatterpolar": [
           {
            "marker": {
             "colorbar": {
              "outlinewidth": 1,
              "tickcolor": "rgb(36,36,36)",
              "ticks": "outside"
             }
            },
            "type": "scatterpolar"
           }
          ],
          "scatterpolargl": [
           {
            "marker": {
             "colorbar": {
              "outlinewidth": 1,
              "tickcolor": "rgb(36,36,36)",
              "ticks": "outside"
             }
            },
            "type": "scatterpolargl"
           }
          ],
          "scatterternary": [
           {
            "marker": {
             "colorbar": {
              "outlinewidth": 1,
              "tickcolor": "rgb(36,36,36)",
              "ticks": "outside"
             }
            },
            "type": "scatterternary"
           }
          ],
          "surface": [
           {
            "colorbar": {
             "outlinewidth": 1,
             "tickcolor": "rgb(36,36,36)",
             "ticks": "outside"
            },
            "colorscale": [
             [
              0,
              "#440154"
             ],
             [
              0.1111111111111111,
              "#482878"
             ],
             [
              0.2222222222222222,
              "#3e4989"
             ],
             [
              0.3333333333333333,
              "#31688e"
             ],
             [
              0.4444444444444444,
              "#26828e"
             ],
             [
              0.5555555555555556,
              "#1f9e89"
             ],
             [
              0.6666666666666666,
              "#35b779"
             ],
             [
              0.7777777777777778,
              "#6ece58"
             ],
             [
              0.8888888888888888,
              "#b5de2b"
             ],
             [
              1,
              "#fde725"
             ]
            ],
            "type": "surface"
           }
          ],
          "table": [
           {
            "cells": {
             "fill": {
              "color": "rgb(237,237,237)"
             },
             "line": {
              "color": "white"
             }
            },
            "header": {
             "fill": {
              "color": "rgb(217,217,217)"
             },
             "line": {
              "color": "white"
             }
            },
            "type": "table"
           }
          ]
         },
         "layout": {
          "annotationdefaults": {
           "arrowhead": 0,
           "arrowwidth": 1
          },
          "autotypenumbers": "strict",
          "coloraxis": {
           "colorbar": {
            "outlinewidth": 1,
            "tickcolor": "rgb(36,36,36)",
            "ticks": "outside"
           }
          },
          "colorscale": {
           "diverging": [
            [
             0,
             "rgb(103,0,31)"
            ],
            [
             0.1,
             "rgb(178,24,43)"
            ],
            [
             0.2,
             "rgb(214,96,77)"
            ],
            [
             0.3,
             "rgb(244,165,130)"
            ],
            [
             0.4,
             "rgb(253,219,199)"
            ],
            [
             0.5,
             "rgb(247,247,247)"
            ],
            [
             0.6,
             "rgb(209,229,240)"
            ],
            [
             0.7,
             "rgb(146,197,222)"
            ],
            [
             0.8,
             "rgb(67,147,195)"
            ],
            [
             0.9,
             "rgb(33,102,172)"
            ],
            [
             1,
             "rgb(5,48,97)"
            ]
           ],
           "sequential": [
            [
             0,
             "#440154"
            ],
            [
             0.1111111111111111,
             "#482878"
            ],
            [
             0.2222222222222222,
             "#3e4989"
            ],
            [
             0.3333333333333333,
             "#31688e"
            ],
            [
             0.4444444444444444,
             "#26828e"
            ],
            [
             0.5555555555555556,
             "#1f9e89"
            ],
            [
             0.6666666666666666,
             "#35b779"
            ],
            [
             0.7777777777777778,
             "#6ece58"
            ],
            [
             0.8888888888888888,
             "#b5de2b"
            ],
            [
             1,
             "#fde725"
            ]
           ],
           "sequentialminus": [
            [
             0,
             "#440154"
            ],
            [
             0.1111111111111111,
             "#482878"
            ],
            [
             0.2222222222222222,
             "#3e4989"
            ],
            [
             0.3333333333333333,
             "#31688e"
            ],
            [
             0.4444444444444444,
             "#26828e"
            ],
            [
             0.5555555555555556,
             "#1f9e89"
            ],
            [
             0.6666666666666666,
             "#35b779"
            ],
            [
             0.7777777777777778,
             "#6ece58"
            ],
            [
             0.8888888888888888,
             "#b5de2b"
            ],
            [
             1,
             "#fde725"
            ]
           ]
          },
          "colorway": [
           "#1F77B4",
           "#FF7F0E",
           "#2CA02C",
           "#D62728",
           "#9467BD",
           "#8C564B",
           "#E377C2",
           "#7F7F7F",
           "#BCBD22",
           "#17BECF"
          ],
          "font": {
           "color": "rgb(36,36,36)"
          },
          "geo": {
           "bgcolor": "white",
           "lakecolor": "white",
           "landcolor": "white",
           "showlakes": true,
           "showland": true,
           "subunitcolor": "white"
          },
          "hoverlabel": {
           "align": "left"
          },
          "hovermode": "closest",
          "mapbox": {
           "style": "light"
          },
          "paper_bgcolor": "white",
          "plot_bgcolor": "white",
          "polar": {
           "angularaxis": {
            "gridcolor": "rgb(232,232,232)",
            "linecolor": "rgb(36,36,36)",
            "showgrid": false,
            "showline": true,
            "ticks": "outside"
           },
           "bgcolor": "white",
           "radialaxis": {
            "gridcolor": "rgb(232,232,232)",
            "linecolor": "rgb(36,36,36)",
            "showgrid": false,
            "showline": true,
            "ticks": "outside"
           }
          },
          "scene": {
           "xaxis": {
            "backgroundcolor": "white",
            "gridcolor": "rgb(232,232,232)",
            "gridwidth": 2,
            "linecolor": "rgb(36,36,36)",
            "showbackground": true,
            "showgrid": false,
            "showline": true,
            "ticks": "outside",
            "zeroline": false,
            "zerolinecolor": "rgb(36,36,36)"
           },
           "yaxis": {
            "backgroundcolor": "white",
            "gridcolor": "rgb(232,232,232)",
            "gridwidth": 2,
            "linecolor": "rgb(36,36,36)",
            "showbackground": true,
            "showgrid": false,
            "showline": true,
            "ticks": "outside",
            "zeroline": false,
            "zerolinecolor": "rgb(36,36,36)"
           },
           "zaxis": {
            "backgroundcolor": "white",
            "gridcolor": "rgb(232,232,232)",
            "gridwidth": 2,
            "linecolor": "rgb(36,36,36)",
            "showbackground": true,
            "showgrid": false,
            "showline": true,
            "ticks": "outside",
            "zeroline": false,
            "zerolinecolor": "rgb(36,36,36)"
           }
          },
          "shapedefaults": {
           "fillcolor": "black",
           "line": {
            "width": 0
           },
           "opacity": 0.3
          },
          "ternary": {
           "aaxis": {
            "gridcolor": "rgb(232,232,232)",
            "linecolor": "rgb(36,36,36)",
            "showgrid": false,
            "showline": true,
            "ticks": "outside"
           },
           "baxis": {
            "gridcolor": "rgb(232,232,232)",
            "linecolor": "rgb(36,36,36)",
            "showgrid": false,
            "showline": true,
            "ticks": "outside"
           },
           "bgcolor": "white",
           "caxis": {
            "gridcolor": "rgb(232,232,232)",
            "linecolor": "rgb(36,36,36)",
            "showgrid": false,
            "showline": true,
            "ticks": "outside"
           }
          },
          "title": {
           "x": 0.05
          },
          "xaxis": {
           "automargin": true,
           "gridcolor": "rgb(232,232,232)",
           "linecolor": "rgb(36,36,36)",
           "showgrid": false,
           "showline": true,
           "ticks": "outside",
           "title": {
            "standoff": 15
           },
           "zeroline": false,
           "zerolinecolor": "rgb(36,36,36)"
          },
          "yaxis": {
           "automargin": true,
           "gridcolor": "rgb(232,232,232)",
           "linecolor": "rgb(36,36,36)",
           "showgrid": false,
           "showline": true,
           "ticks": "outside",
           "title": {
            "standoff": 15
           },
           "zeroline": false,
           "zerolinecolor": "rgb(36,36,36)"
          }
         }
        },
        "title": {
         "text": "matten_random_250_"
        },
        "width": 600,
        "xaxis": {
         "dtick": 2,
         "range": [
          -6.2,
          6.2
         ],
         "showgrid": false,
         "tick0": 0,
         "tickmode": "linear",
         "title": {
          "text": "ln(<i>d</i><sub>KP</sub>) (pm/V)"
         }
        },
        "yaxis": {
         "dtick": 2,
         "range": [
          -6.2,
          6.2
         ],
         "showgrid": false,
         "tick0": 0,
         "tickmode": "linear",
         "title": {
          "text": "ln(<i>d&#770;</i><sub>KP</sub>) (pm/V)"
         }
        }
       }
      }
     },
     "metadata": {},
     "output_type": "display_data"
    },
    {
     "name": "stderr",
     "output_type": "stream",
     "text": [
      "/tmp/ipykernel_40938/1044345493.py:29: RuntimeWarning:\n",
      "\n",
      "invalid value encountered in log\n",
      "\n"
     ]
    },
    {
     "data": {
      "application/vnd.plotly.v1+json": {
       "config": {
        "plotlyServerURL": "https://plot.ly"
       },
       "data": [
        {
         "mode": "markers",
         "name": "",
         "showlegend": false,
         "text": [
          "mp-11714",
          "mp-1180133",
          "mp-675161",
          "mp-983327",
          "mp-1225884",
          "mp-1219554",
          "mp-1196457",
          "mp-560894",
          "mp-1196282",
          "mp-1222122",
          "mp-1219328",
          "mp-1227014",
          "mp-1222205",
          "mp-1227124",
          "mp-1102285",
          "mp-1227389",
          "mp-1180688",
          "mp-1399519",
          "mp-1227110",
          "mp-1079676",
          "mp-24705",
          "mp-1516294",
          "mp-1228342",
          "mp-17862",
          "mp-504952",
          "mp-1222589",
          "mp-1223849",
          "mp-6524",
          "mp-1208039",
          "mp-625175",
          "mp-1219000",
          "mp-532424",
          "mp-1218099",
          "agm002306806",
          "agm003160552",
          "agm003202328",
          "agm002353946",
          "agm002278924",
          "agm002381637",
          "agm003225028",
          "agm003202410",
          "agm003230659",
          "agm003128264",
          "mp-781710",
          "mp-1227011",
          "mp-1216118",
          "agm002166075",
          "agm002135972",
          "mp-3267",
          "agm002224865",
          "agm002347507",
          "agm003157565",
          "mp-1216100",
          "mp-1195571",
          "mp-780232",
          "agm002018869",
          "agm002140778",
          "agm002041336",
          "agm003219193",
          "mp-1228160",
          "mp-1223489",
          "mp-1221169",
          "mp-4431",
          "mp-8393",
          "mp-1105300",
          "mp-36066",
          "mp-1103351",
          "mp-1103228",
          "mp-1029368",
          "mp-1217825",
          "mp-1029633",
          "agm002147818",
          "agm003248171",
          "mp-1223526",
          "agm002153139",
          "mp-239",
          "agm002137320",
          "mp-1079609",
          "mp-558219",
          "mp-555202",
          "mp-1216976",
          "mp-626172",
          "agm002156258",
          "mp-772748",
          "agm002237467",
          "mp-1223389",
          "agm002155430",
          "mp-9427",
          "mp-1225916",
          "agm003237859",
          "agm002156600",
          "mp-1221971",
          "mp-1220913",
          "agm002237807",
          "mp-1221578",
          "mp-1191266",
          "mp-1205304",
          "mp-1218334",
          "agm002215982",
          "mp-559752",
          "mp-1215642",
          "agm002813663",
          "mp-1247873",
          "mp-1194479",
          "mp-558521",
          "agm003213121",
          "agm002286033",
          "agm002297812",
          "mp-1147697",
          "mp-29157",
          "mp-558277",
          "agm003200486",
          "agm002157245",
          "mp-1370",
          "mp-555915",
          "mp-776226",
          "agm002138671",
          "agm002790067",
          "agm002163280",
          "mp-532444",
          "agm002177957",
          "agm006045098",
          "agm002205114",
          "agm2000005406",
          "agm002184995",
          "agm003235252",
          "agm002178912",
          "agm002115629",
          "agm003206267",
          "agm004739450",
          "agm003705731",
          "agm005112928",
          "agm005722808",
          "agm2000126920",
          "agm2000137141",
          "agm005848675",
          "mp-2802611",
          "agm002158085",
          "agm005545163",
          "agm005056300",
          "agm004786326",
          "agm003048447",
          "agm002102212",
          "agm001234439",
          "agm002056302",
          "agm002137665",
          "agm003555711",
          "mp-554918",
          "mp-570756",
          "agm001375463",
          "agm005208831",
          "mp-4452",
          "agm005882616",
          "agm2000001907",
          "agm005721583",
          "agm001281942",
          "agm003267560",
          "agm004773887",
          "agm004852816",
          "agm006020719",
          "agm004957157",
          "agm003112540",
          "agm002293392",
          "agm005785567",
          "agm004948831",
          "agm004787350",
          "agm005954902",
          "agm005199361",
          "agm2000035672",
          "agm002032016",
          "agm005180377",
          "agm002176403",
          "agm002182720",
          "agm002161194",
          "agm2000136656",
          "agm005882580",
          "agm002074653",
          "agm003561427",
          "mp-1208179",
          "agm002078874",
          "agm004949939",
          "agm002017294",
          "mp-556157",
          "mp-2720358",
          "agm002041315",
          "agm003469328",
          "agm005072178",
          "agm001037983",
          "mp-1219050",
          "agm005664742",
          "agm004773455",
          "agm005071058",
          "mp-4122"
         ],
         "type": "scatter",
         "x": [
          1.8640705135253752,
          1.6117304214168595,
          -0.735417753590477,
          -1.8262706939721245,
          -1.850645270291186,
          0.879425814242005,
          -2.2274896889093165,
          -0.696089616034016,
          -3.882833663787394,
          1.289120243301616,
          0.9963979996100724,
          3.603033032121485,
          2.4589765468345712,
          2.790030659323957,
          1.9858987831854715,
          3.6428908209397224,
          -0.05294795776462664,
          -0.6247534932868787,
          -4.692920184192641,
          0.34935301523658263,
          0.17335046478847826,
          -2.835642777981388,
          0.3231729545138501,
          3.502741045546834,
          2.6838822295557954,
          -1.752444876116761,
          -2.3787863570552736,
          0.26105238181782164,
          -0.03989242203594581,
          -1.2804277067714025,
          4.244051137050639,
          -2.4748075156257054,
          -0.13688827127044767,
          2.526551445920425,
          2.507903669532472,
          3.4877343549200677,
          4.763345534480794,
          5.1067363011827345,
          4.026941133211829,
          2.0481760038002164,
          4.901091842048587,
          1.1957410890099702,
          1.4454034712975874,
          2.7998477802550448,
          3.957572495507323,
          2.210315752672521,
          0.41722711058822537,
          4.46393144142344,
          3.2719959135064016,
          0.15077779951791634,
          1.2297544386049692,
          -1.2825056451299668,
          -0.6889089125582464,
          -1.8765034262960585,
          1.6042440672394471,
          -0.027150618875364636,
          1.3187090489912512,
          3.7546024892173433,
          -1.4450659395820022,
          -1.4209066269913853,
          -1.7967384501708528,
          2.3075919681926687,
          2.9764162815898874,
          2.8690281656036887,
          3.28690872407927,
          0.8959058949519814,
          0.8074179428193387,
          4.7141903883357745,
          2.706316306471154,
          2.47881518717918,
          2.0075454817088243,
          -0.950327008457287,
          -0.8266225001203459,
          -0.33676025917534985,
          0.9305096508337292,
          1.7539488690248592,
          0.42715893113319353,
          1.1853325631867693,
          1.4483748824014988,
          -1.3996753119350664,
          2.537243145948521,
          -1.4994368982155892,
          -0.4009194821956806,
          -1.3032098743935028,
          2.3705581417226256,
          3.2595451747209663,
          3.76569793269359,
          -0.554443488411422,
          0.1675766744469721,
          -1.0650621180496211,
          -0.09477325375659072,
          1.7699590867643369,
          1.3084114464845522,
          4.620808307046488,
          -0.2994748844647402,
          2.3921331538606,
          2.5344727826488813,
          4.055858008755907,
          0.012395977141582776,
          -0.032834310685466286,
          1.2589677005652813,
          2.331839312059552,
          1.984125917185856,
          -0.00038727661071183303,
          -0.059720922297569944,
          1.359985981463237,
          2.434496669436536,
          0.1357880158166226,
          2.0073184771879147,
          4.363206663676072,
          2.3575884703323733,
          -4.690858220270285,
          2.2189306306927823,
          2.801801019661196,
          -0.8720794454781192,
          0.8482032891473601,
          1.6076098710058706,
          3.8433263345501425,
          1.3678434278258595,
          -0.17633870175908242,
          3.152539064553639,
          0.13131007151193197,
          4.161423854925523,
          -3.339143890989934,
          5.119947149916917,
          -3.0486976774750096,
          3.2882575508876983,
          1.0413150832507418,
          2.955263511151345,
          4.282204515590123,
          1.904069829063425,
          1.535213681414796,
          0.23913537106058216,
          -1.4925748617087051,
          2.1057574191623862,
          2.0172124795442072,
          -0.10724678152218822,
          2.209325491877229,
          0.5020905996831126,
          2.023925095651449,
          2.6127497197709366,
          2.2902202719401097,
          -0.5457417303895249,
          -0.18960256344954837,
          1.2279568365509097,
          -1.5250777904817183,
          -0.09172098603956426,
          0.9118789633700044,
          -2.3207879151317936,
          3.3884489406417044,
          2.8109284465402595,
          3.053227480314319,
          -0.021446347716552343,
          -0.2984888956181751,
          2.2487349390343057,
          -0.18071476441805265,
          2.980006141767316,
          1.652769008297107,
          0.4904175004830009,
          -0.8843652374073264,
          -2.856624106075478,
          3.893549523381594,
          3.341348125266644,
          2.191071182277935,
          1.9941533814150725,
          0.53849175685732,
          3.5120751046974377,
          3.8446000769290665,
          -5.674020556567256,
          1.480103483943564,
          0.7192836638002035,
          0.4245670695122952,
          3.0991767517782693,
          2.2951224845999403,
          1.2008466644831577,
          2.14872709843379,
          0.6975896267302939,
          3.256920123633489,
          -0.15750553108580967,
          -2.138628965887914,
          1.9564913351882427,
          2.8293623014760114,
          0.839591180142205,
          -1.1013016310744437,
          4.062859542466981,
          -1.1642253854125997,
          -1.0321892814124467,
          4.566947790442395,
          4.94536809883449,
          1.1614508596374045,
          1.562007195494622,
          0.3327943572530076,
          -0.1306125808189969
         ],
         "y": [
          1.8911126159141776,
          1.4339454394153246,
          -1.3595475519278255,
          -0.8822062280604643,
          -1.0172696145496314,
          1.451644420287283,
          -0.7549710364662009,
          -0.9285784473599604,
          -3.628758485123736,
          1.8971348382530475,
          2.4476804951502835,
          4.080356085154634,
          2.1304552213925274,
          3.0861191042060705,
          1.349211496903306,
          2.5135065064916744,
          1.8227735437137127,
          1.8118320932661824,
          -2.053760991981994,
          -1.030542320170469,
          0.18067236761930347,
          1.4459168985912938,
          0.4620459892976672,
          3.548619565022351,
          3.638623219450261,
          -1.110066536712803,
          -1.02976551883783,
          -0.1430388704854006,
          0.3933712864808691,
          -1.3281125560445313,
          4.2283611302005,
          null,
          0.9805596844777192,
          2.181844516391837,
          3.5206302825747406,
          3.348384482975355,
          3.502249044095702,
          4.472418692845927,
          4.487117996757788,
          1.9904377110528448,
          2.463500765381753,
          1.2959241874374186,
          1.787153199580469,
          3.066714500511482,
          3.6645119343965855,
          2.1501425735876167,
          1.8077414155919735,
          4.904459626956779,
          2.182411440018099,
          1.1602085129468318,
          1.4773123914603166,
          -1.6907887890285211,
          -0.3200820244526812,
          -0.8524412766158843,
          1.6594798758708045,
          4.6562817850980815,
          0.5335608709309975,
          3.913397335262319,
          -1.9562418156551729,
          -1.129441114479826,
          -1.7988852003635636,
          3.0129120199482147,
          2.886152290379661,
          3.8140746287922545,
          3.3211983672123195,
          0.913435076796137,
          2.59846915380863,
          3.977681966639035,
          2.2376465081176895,
          2.622599827679778,
          1.9848330199527735,
          -1.7882187619331429,
          -1.4457022017877657,
          -0.5277406868686478,
          0.543096859409252,
          2.6908578534824916,
          1.0972070958889666,
          1.079180190556868,
          1.5218094391737431,
          -0.7650664645581433,
          2.274014323109991,
          -2.209276249383174,
          -0.9107840577736108,
          -1.8797224697891255,
          2.29976138121839,
          3.1026464522575568,
          3.408131294243598,
          -0.6222740016959918,
          -0.099115699725666,
          -1.606413219473121,
          -0.08362301874685028,
          1.9597048298460265,
          1.4720840903945778,
          4.2350787243557,
          0.939602960424896,
          1.6711201269448692,
          2.5706498427875433,
          3.327071763932579,
          -0.06517762353371183,
          -0.2801053750523116,
          1.2765416565676468,
          0.9460329560846736,
          1.880459390317683,
          -0.5341970561265861,
          0.3386601248139806,
          1.776472402566071,
          2.1378131804421128,
          0.03585250609180261,
          1.9680361403347657,
          3.768783385209455,
          1.999677427041766,
          -1.9947280983159097,
          2.0661395887725775,
          2.0916765352425446,
          0.1724506906760276,
          1.6127989189901626,
          1.0002247432950857,
          3.7333866360661014,
          1.0514461164842284,
          -0.9468629039147388,
          3.4096656561694307,
          0.18890042724808365,
          4.22521422326331,
          -0.9725833844633882,
          4.459444293238784,
          -1.2356884629858214,
          3.0615249538984433,
          1.772375827250125,
          3.1796990743715945,
          4.238379553287044,
          1.897607074604815,
          1.5786630380915907,
          -0.5708471638959234,
          0.22758589801081733,
          2.8899486608620037,
          2.9746920452657992,
          -0.39537870851859946,
          2.3017491342418377,
          0.41045703366466,
          1.8302852044838729,
          2.34800529470329,
          2.3876253102701295,
          -0.6390609612738825,
          1.322519886200112,
          0.6644014883353391,
          -1.9671684112299463,
          0.3812332306214395,
          -0.08340666393578089,
          -1.46854785790965,
          4.136707239398265,
          3.0912114128331942,
          2.9943843959705028,
          -0.4522229830769489,
          -0.9984938981419424,
          2.221945660188706,
          0.4524489570362771,
          4.4043743691053745,
          1.783138872744476,
          0.9846853816561884,
          -0.78804317598788,
          -2.7527854124122157,
          4.080336098045674,
          3.2609071708359316,
          1.880687218725991,
          2.2689860076410424,
          0.5376434842541619,
          3.838498101125411,
          3.558077509250692,
          -3.7858762128114383,
          1.7795814235565472,
          0.632833780665122,
          -0.071105100841154,
          3.0286352080590153,
          2.6096245801870426,
          1.8779817800998304,
          0.8913475743464024,
          0.07919177828490247,
          2.7062678493947927,
          -0.7368404853790173,
          null,
          2.8493863184987083,
          2.953299796571316,
          1.0540367322313424,
          -0.8122634173564981,
          4.444264513888519,
          -1.4950984240240826,
          -1.7364013892176076,
          4.961483965471629,
          4.670823145760779,
          1.500873859195237,
          1.3568392935938067,
          0.35662014192672303,
          0.24957647666950455
         ]
        },
        {
         "marker": {
          "color": "red"
         },
         "mode": "markers",
         "name": "",
         "showlegend": false,
         "text": [
          "mp-21892",
          "mp-8070",
          "mp-558491",
          "mp-632684",
          "mp-23329",
          "mp-555150",
          "mp-6564",
          "mp-18578",
          "mp-760755",
          "mp-28456",
          "mp-4779",
          "mp-6268",
          "mp-706621",
          "mp-559057",
          "mp-24468",
          "mp-1778",
          "mp-2176",
          "mp-22909",
          "mp-4187",
          "mp-10341",
          "mp-9844",
          "mp-5784",
          "mp-20694",
          "mp-9066",
          "mp-6126",
          "mp-632229",
          "mp-12177",
          "mp-21521",
          "mp-1287",
          "mp-756044",
          "mp-754712",
          "mp-4812",
          "mp-18168",
          "mp-23866",
          "mp-558085",
          "mp-230",
          "mp-505702",
          "mp-559065",
          "mp-559545",
          "mp-549720",
          "mp-561385",
          "mp-13666",
          "mp-14444",
          "mp-1550",
          "mp-2469",
          "mp-31451",
          "mp-1023924",
          "mp-1100395",
          "mp-961682",
          "mp-38011",
          "mp-30847",
          "mp-8884",
          "mp-1017534",
          "mp-6980",
          "mp-560588",
          "mp-4524",
          "mp-4514"
         ],
         "type": "scatter",
         "x": [
          0.5129958888992996,
          -0.4855530271371922,
          -0.08740485527531697,
          -0.45681555937106766,
          2.1061629838671,
          0.513705495637027,
          -1.9635937181390624,
          1.703283963962633,
          -2.3134955345928385,
          2.144082225629274,
          -1.5605221852218962,
          1.8583162248321317,
          -1.748575568907935,
          0.4882103609421548,
          -0.8151682548135614,
          -1.1396223245682315,
          4.656254645145144,
          0.9508715487860324,
          2.0089890346526387,
          0.1465376158615837,
          -0.05300287393081044,
          -1.4301531189156178,
          0.08583757032428084,
          -1.1432595869803444,
          1.005487085967149,
          1.068043435793579,
          3.0280355492477735,
          2.0183066815251465,
          -1.952218665850329,
          -1.266849364995467,
          0.15670083532845222,
          -0.3037256566355995,
          0.8790197681158867,
          -0.08910579025424446,
          -0.905371489125012,
          1.7369375746256583,
          0.44855102088749943,
          1.871489666744384,
          1.7522422636101158,
          3.0993804513799335,
          -0.35650021086904377,
          3.917254174536937,
          2.5896455390744313,
          2.110202594025541,
          2.8167502162864495,
          4.2071054438569275,
          0.9457357302382252,
          -3.4095942440797313,
          2.9659438484697773,
          1.943455628463224,
          3.633400002575317,
          3.677733778199943,
          4.4593717050440915,
          4.122043167902257,
          3.355818208137122,
          4.494287161104849,
          2.491870994405037
         ],
         "y": [
          0.8459810935725188,
          -1.4264176335187184,
          -0.28831797800160885,
          -0.23162418158888687,
          2.1131803276405163,
          -0.3980945961087118,
          -1.5212268649781675,
          0.9839933910035468,
          -1.6967009393835426,
          2.3776772358006855,
          -0.46749270801563914,
          -0.08369456414895138,
          -1.31700916760692,
          0.9350693929583516,
          -0.8422145752700599,
          -0.1697524642631172,
          4.2093131982795455,
          0.14642750579896888,
          1.2886321839095722,
          -1.3584710661228028,
          -0.07791287948860702,
          -0.5380417156180263,
          2.272349511877835,
          -0.9742297171547168,
          0.9268242769215396,
          0.9090954705466574,
          1.1860138410069965,
          1.342746625254966,
          3.1859487296436417,
          -0.11411867774983547,
          -0.07267644091125867,
          -0.7039094034464197,
          0.6358869357651912,
          0.15910518990663408,
          -0.4866971212984297,
          0.68800236638348,
          0.785304315821184,
          2.264371014127703,
          1.7544283855138836,
          3.357001084476393,
          -1.1996864560528857,
          3.261284645650955,
          2.4188120479791673,
          2.326961221718428,
          2.331880553863227,
          4.026712611186502,
          1.7323772245822138,
          0.17695981735516067,
          4.744212251553405,
          0.5492399828768915,
          4.3615738193209035,
          4.488209632663816,
          3.526674290335136,
          2.3388780173967576,
          2.8211816153147735,
          4.538914859952737,
          3.088530009290513
         ]
        },
        {
         "line": {
          "color": "gray",
          "dash": "dot"
         },
         "mode": "lines",
         "showlegend": false,
         "type": "scatter",
         "x": [
          -10,
          8
         ],
         "y": [
          -10,
          8
         ]
        }
       ],
       "layout": {
        "autosize": false,
        "font": {
         "size": 20
        },
        "height": 600,
        "template": {
         "data": {
          "bar": [
           {
            "error_x": {
             "color": "rgb(36,36,36)"
            },
            "error_y": {
             "color": "rgb(36,36,36)"
            },
            "marker": {
             "line": {
              "color": "white",
              "width": 0.5
             },
             "pattern": {
              "fillmode": "overlay",
              "size": 10,
              "solidity": 0.2
             }
            },
            "type": "bar"
           }
          ],
          "barpolar": [
           {
            "marker": {
             "line": {
              "color": "white",
              "width": 0.5
             },
             "pattern": {
              "fillmode": "overlay",
              "size": 10,
              "solidity": 0.2
             }
            },
            "type": "barpolar"
           }
          ],
          "carpet": [
           {
            "aaxis": {
             "endlinecolor": "rgb(36,36,36)",
             "gridcolor": "white",
             "linecolor": "white",
             "minorgridcolor": "white",
             "startlinecolor": "rgb(36,36,36)"
            },
            "baxis": {
             "endlinecolor": "rgb(36,36,36)",
             "gridcolor": "white",
             "linecolor": "white",
             "minorgridcolor": "white",
             "startlinecolor": "rgb(36,36,36)"
            },
            "type": "carpet"
           }
          ],
          "choropleth": [
           {
            "colorbar": {
             "outlinewidth": 1,
             "tickcolor": "rgb(36,36,36)",
             "ticks": "outside"
            },
            "type": "choropleth"
           }
          ],
          "contour": [
           {
            "colorbar": {
             "outlinewidth": 1,
             "tickcolor": "rgb(36,36,36)",
             "ticks": "outside"
            },
            "colorscale": [
             [
              0,
              "#440154"
             ],
             [
              0.1111111111111111,
              "#482878"
             ],
             [
              0.2222222222222222,
              "#3e4989"
             ],
             [
              0.3333333333333333,
              "#31688e"
             ],
             [
              0.4444444444444444,
              "#26828e"
             ],
             [
              0.5555555555555556,
              "#1f9e89"
             ],
             [
              0.6666666666666666,
              "#35b779"
             ],
             [
              0.7777777777777778,
              "#6ece58"
             ],
             [
              0.8888888888888888,
              "#b5de2b"
             ],
             [
              1,
              "#fde725"
             ]
            ],
            "type": "contour"
           }
          ],
          "contourcarpet": [
           {
            "colorbar": {
             "outlinewidth": 1,
             "tickcolor": "rgb(36,36,36)",
             "ticks": "outside"
            },
            "type": "contourcarpet"
           }
          ],
          "heatmap": [
           {
            "colorbar": {
             "outlinewidth": 1,
             "tickcolor": "rgb(36,36,36)",
             "ticks": "outside"
            },
            "colorscale": [
             [
              0,
              "#440154"
             ],
             [
              0.1111111111111111,
              "#482878"
             ],
             [
              0.2222222222222222,
              "#3e4989"
             ],
             [
              0.3333333333333333,
              "#31688e"
             ],
             [
              0.4444444444444444,
              "#26828e"
             ],
             [
              0.5555555555555556,
              "#1f9e89"
             ],
             [
              0.6666666666666666,
              "#35b779"
             ],
             [
              0.7777777777777778,
              "#6ece58"
             ],
             [
              0.8888888888888888,
              "#b5de2b"
             ],
             [
              1,
              "#fde725"
             ]
            ],
            "type": "heatmap"
           }
          ],
          "heatmapgl": [
           {
            "colorbar": {
             "outlinewidth": 1,
             "tickcolor": "rgb(36,36,36)",
             "ticks": "outside"
            },
            "colorscale": [
             [
              0,
              "#440154"
             ],
             [
              0.1111111111111111,
              "#482878"
             ],
             [
              0.2222222222222222,
              "#3e4989"
             ],
             [
              0.3333333333333333,
              "#31688e"
             ],
             [
              0.4444444444444444,
              "#26828e"
             ],
             [
              0.5555555555555556,
              "#1f9e89"
             ],
             [
              0.6666666666666666,
              "#35b779"
             ],
             [
              0.7777777777777778,
              "#6ece58"
             ],
             [
              0.8888888888888888,
              "#b5de2b"
             ],
             [
              1,
              "#fde725"
             ]
            ],
            "type": "heatmapgl"
           }
          ],
          "histogram": [
           {
            "marker": {
             "line": {
              "color": "white",
              "width": 0.6
             }
            },
            "type": "histogram"
           }
          ],
          "histogram2d": [
           {
            "colorbar": {
             "outlinewidth": 1,
             "tickcolor": "rgb(36,36,36)",
             "ticks": "outside"
            },
            "colorscale": [
             [
              0,
              "#440154"
             ],
             [
              0.1111111111111111,
              "#482878"
             ],
             [
              0.2222222222222222,
              "#3e4989"
             ],
             [
              0.3333333333333333,
              "#31688e"
             ],
             [
              0.4444444444444444,
              "#26828e"
             ],
             [
              0.5555555555555556,
              "#1f9e89"
             ],
             [
              0.6666666666666666,
              "#35b779"
             ],
             [
              0.7777777777777778,
              "#6ece58"
             ],
             [
              0.8888888888888888,
              "#b5de2b"
             ],
             [
              1,
              "#fde725"
             ]
            ],
            "type": "histogram2d"
           }
          ],
          "histogram2dcontour": [
           {
            "colorbar": {
             "outlinewidth": 1,
             "tickcolor": "rgb(36,36,36)",
             "ticks": "outside"
            },
            "colorscale": [
             [
              0,
              "#440154"
             ],
             [
              0.1111111111111111,
              "#482878"
             ],
             [
              0.2222222222222222,
              "#3e4989"
             ],
             [
              0.3333333333333333,
              "#31688e"
             ],
             [
              0.4444444444444444,
              "#26828e"
             ],
             [
              0.5555555555555556,
              "#1f9e89"
             ],
             [
              0.6666666666666666,
              "#35b779"
             ],
             [
              0.7777777777777778,
              "#6ece58"
             ],
             [
              0.8888888888888888,
              "#b5de2b"
             ],
             [
              1,
              "#fde725"
             ]
            ],
            "type": "histogram2dcontour"
           }
          ],
          "mesh3d": [
           {
            "colorbar": {
             "outlinewidth": 1,
             "tickcolor": "rgb(36,36,36)",
             "ticks": "outside"
            },
            "type": "mesh3d"
           }
          ],
          "parcoords": [
           {
            "line": {
             "colorbar": {
              "outlinewidth": 1,
              "tickcolor": "rgb(36,36,36)",
              "ticks": "outside"
             }
            },
            "type": "parcoords"
           }
          ],
          "pie": [
           {
            "automargin": true,
            "type": "pie"
           }
          ],
          "scatter": [
           {
            "fillpattern": {
             "fillmode": "overlay",
             "size": 10,
             "solidity": 0.2
            },
            "type": "scatter"
           }
          ],
          "scatter3d": [
           {
            "line": {
             "colorbar": {
              "outlinewidth": 1,
              "tickcolor": "rgb(36,36,36)",
              "ticks": "outside"
             }
            },
            "marker": {
             "colorbar": {
              "outlinewidth": 1,
              "tickcolor": "rgb(36,36,36)",
              "ticks": "outside"
             }
            },
            "type": "scatter3d"
           }
          ],
          "scattercarpet": [
           {
            "marker": {
             "colorbar": {
              "outlinewidth": 1,
              "tickcolor": "rgb(36,36,36)",
              "ticks": "outside"
             }
            },
            "type": "scattercarpet"
           }
          ],
          "scattergeo": [
           {
            "marker": {
             "colorbar": {
              "outlinewidth": 1,
              "tickcolor": "rgb(36,36,36)",
              "ticks": "outside"
             }
            },
            "type": "scattergeo"
           }
          ],
          "scattergl": [
           {
            "marker": {
             "colorbar": {
              "outlinewidth": 1,
              "tickcolor": "rgb(36,36,36)",
              "ticks": "outside"
             }
            },
            "type": "scattergl"
           }
          ],
          "scattermapbox": [
           {
            "marker": {
             "colorbar": {
              "outlinewidth": 1,
              "tickcolor": "rgb(36,36,36)",
              "ticks": "outside"
             }
            },
            "type": "scattermapbox"
           }
          ],
          "scatterpolar": [
           {
            "marker": {
             "colorbar": {
              "outlinewidth": 1,
              "tickcolor": "rgb(36,36,36)",
              "ticks": "outside"
             }
            },
            "type": "scatterpolar"
           }
          ],
          "scatterpolargl": [
           {
            "marker": {
             "colorbar": {
              "outlinewidth": 1,
              "tickcolor": "rgb(36,36,36)",
              "ticks": "outside"
             }
            },
            "type": "scatterpolargl"
           }
          ],
          "scatterternary": [
           {
            "marker": {
             "colorbar": {
              "outlinewidth": 1,
              "tickcolor": "rgb(36,36,36)",
              "ticks": "outside"
             }
            },
            "type": "scatterternary"
           }
          ],
          "surface": [
           {
            "colorbar": {
             "outlinewidth": 1,
             "tickcolor": "rgb(36,36,36)",
             "ticks": "outside"
            },
            "colorscale": [
             [
              0,
              "#440154"
             ],
             [
              0.1111111111111111,
              "#482878"
             ],
             [
              0.2222222222222222,
              "#3e4989"
             ],
             [
              0.3333333333333333,
              "#31688e"
             ],
             [
              0.4444444444444444,
              "#26828e"
             ],
             [
              0.5555555555555556,
              "#1f9e89"
             ],
             [
              0.6666666666666666,
              "#35b779"
             ],
             [
              0.7777777777777778,
              "#6ece58"
             ],
             [
              0.8888888888888888,
              "#b5de2b"
             ],
             [
              1,
              "#fde725"
             ]
            ],
            "type": "surface"
           }
          ],
          "table": [
           {
            "cells": {
             "fill": {
              "color": "rgb(237,237,237)"
             },
             "line": {
              "color": "white"
             }
            },
            "header": {
             "fill": {
              "color": "rgb(217,217,217)"
             },
             "line": {
              "color": "white"
             }
            },
            "type": "table"
           }
          ]
         },
         "layout": {
          "annotationdefaults": {
           "arrowhead": 0,
           "arrowwidth": 1
          },
          "autotypenumbers": "strict",
          "coloraxis": {
           "colorbar": {
            "outlinewidth": 1,
            "tickcolor": "rgb(36,36,36)",
            "ticks": "outside"
           }
          },
          "colorscale": {
           "diverging": [
            [
             0,
             "rgb(103,0,31)"
            ],
            [
             0.1,
             "rgb(178,24,43)"
            ],
            [
             0.2,
             "rgb(214,96,77)"
            ],
            [
             0.3,
             "rgb(244,165,130)"
            ],
            [
             0.4,
             "rgb(253,219,199)"
            ],
            [
             0.5,
             "rgb(247,247,247)"
            ],
            [
             0.6,
             "rgb(209,229,240)"
            ],
            [
             0.7,
             "rgb(146,197,222)"
            ],
            [
             0.8,
             "rgb(67,147,195)"
            ],
            [
             0.9,
             "rgb(33,102,172)"
            ],
            [
             1,
             "rgb(5,48,97)"
            ]
           ],
           "sequential": [
            [
             0,
             "#440154"
            ],
            [
             0.1111111111111111,
             "#482878"
            ],
            [
             0.2222222222222222,
             "#3e4989"
            ],
            [
             0.3333333333333333,
             "#31688e"
            ],
            [
             0.4444444444444444,
             "#26828e"
            ],
            [
             0.5555555555555556,
             "#1f9e89"
            ],
            [
             0.6666666666666666,
             "#35b779"
            ],
            [
             0.7777777777777778,
             "#6ece58"
            ],
            [
             0.8888888888888888,
             "#b5de2b"
            ],
            [
             1,
             "#fde725"
            ]
           ],
           "sequentialminus": [
            [
             0,
             "#440154"
            ],
            [
             0.1111111111111111,
             "#482878"
            ],
            [
             0.2222222222222222,
             "#3e4989"
            ],
            [
             0.3333333333333333,
             "#31688e"
            ],
            [
             0.4444444444444444,
             "#26828e"
            ],
            [
             0.5555555555555556,
             "#1f9e89"
            ],
            [
             0.6666666666666666,
             "#35b779"
            ],
            [
             0.7777777777777778,
             "#6ece58"
            ],
            [
             0.8888888888888888,
             "#b5de2b"
            ],
            [
             1,
             "#fde725"
            ]
           ]
          },
          "colorway": [
           "#1F77B4",
           "#FF7F0E",
           "#2CA02C",
           "#D62728",
           "#9467BD",
           "#8C564B",
           "#E377C2",
           "#7F7F7F",
           "#BCBD22",
           "#17BECF"
          ],
          "font": {
           "color": "rgb(36,36,36)"
          },
          "geo": {
           "bgcolor": "white",
           "lakecolor": "white",
           "landcolor": "white",
           "showlakes": true,
           "showland": true,
           "subunitcolor": "white"
          },
          "hoverlabel": {
           "align": "left"
          },
          "hovermode": "closest",
          "mapbox": {
           "style": "light"
          },
          "paper_bgcolor": "white",
          "plot_bgcolor": "white",
          "polar": {
           "angularaxis": {
            "gridcolor": "rgb(232,232,232)",
            "linecolor": "rgb(36,36,36)",
            "showgrid": false,
            "showline": true,
            "ticks": "outside"
           },
           "bgcolor": "white",
           "radialaxis": {
            "gridcolor": "rgb(232,232,232)",
            "linecolor": "rgb(36,36,36)",
            "showgrid": false,
            "showline": true,
            "ticks": "outside"
           }
          },
          "scene": {
           "xaxis": {
            "backgroundcolor": "white",
            "gridcolor": "rgb(232,232,232)",
            "gridwidth": 2,
            "linecolor": "rgb(36,36,36)",
            "showbackground": true,
            "showgrid": false,
            "showline": true,
            "ticks": "outside",
            "zeroline": false,
            "zerolinecolor": "rgb(36,36,36)"
           },
           "yaxis": {
            "backgroundcolor": "white",
            "gridcolor": "rgb(232,232,232)",
            "gridwidth": 2,
            "linecolor": "rgb(36,36,36)",
            "showbackground": true,
            "showgrid": false,
            "showline": true,
            "ticks": "outside",
            "zeroline": false,
            "zerolinecolor": "rgb(36,36,36)"
           },
           "zaxis": {
            "backgroundcolor": "white",
            "gridcolor": "rgb(232,232,232)",
            "gridwidth": 2,
            "linecolor": "rgb(36,36,36)",
            "showbackground": true,
            "showgrid": false,
            "showline": true,
            "ticks": "outside",
            "zeroline": false,
            "zerolinecolor": "rgb(36,36,36)"
           }
          },
          "shapedefaults": {
           "fillcolor": "black",
           "line": {
            "width": 0
           },
           "opacity": 0.3
          },
          "ternary": {
           "aaxis": {
            "gridcolor": "rgb(232,232,232)",
            "linecolor": "rgb(36,36,36)",
            "showgrid": false,
            "showline": true,
            "ticks": "outside"
           },
           "baxis": {
            "gridcolor": "rgb(232,232,232)",
            "linecolor": "rgb(36,36,36)",
            "showgrid": false,
            "showline": true,
            "ticks": "outside"
           },
           "bgcolor": "white",
           "caxis": {
            "gridcolor": "rgb(232,232,232)",
            "linecolor": "rgb(36,36,36)",
            "showgrid": false,
            "showline": true,
            "ticks": "outside"
           }
          },
          "title": {
           "x": 0.05
          },
          "xaxis": {
           "automargin": true,
           "gridcolor": "rgb(232,232,232)",
           "linecolor": "rgb(36,36,36)",
           "showgrid": false,
           "showline": true,
           "ticks": "outside",
           "title": {
            "standoff": 15
           },
           "zeroline": false,
           "zerolinecolor": "rgb(36,36,36)"
          },
          "yaxis": {
           "automargin": true,
           "gridcolor": "rgb(232,232,232)",
           "linecolor": "rgb(36,36,36)",
           "showgrid": false,
           "showline": true,
           "ticks": "outside",
           "title": {
            "standoff": 15
           },
           "zeroline": false,
           "zerolinecolor": "rgb(36,36,36)"
          }
         }
        },
        "title": {
         "text": "modnet_nan_random_250_mmf_pgnn_"
        },
        "width": 600,
        "xaxis": {
         "dtick": 2,
         "range": [
          -6.2,
          6.2
         ],
         "showgrid": false,
         "tick0": 0,
         "tickmode": "linear",
         "title": {
          "text": "ln(<i>d</i><sub>KP</sub>) (pm/V)"
         }
        },
        "yaxis": {
         "dtick": 2,
         "range": [
          -6.2,
          6.2
         ],
         "showgrid": false,
         "tick0": 0,
         "tickmode": "linear",
         "title": {
          "text": "ln(<i>d&#770;</i><sub>KP</sub>) (pm/V)"
         }
        }
       }
      }
     },
     "metadata": {},
     "output_type": "display_data"
    },
    {
     "name": "stderr",
     "output_type": "stream",
     "text": [
      "/tmp/ipykernel_40938/1044345493.py:29: RuntimeWarning:\n",
      "\n",
      "invalid value encountered in log\n",
      "\n",
      "/tmp/ipykernel_40938/1044345493.py:39: RuntimeWarning:\n",
      "\n",
      "invalid value encountered in log\n",
      "\n"
     ]
    },
    {
     "data": {
      "application/vnd.plotly.v1+json": {
       "config": {
        "plotlyServerURL": "https://plot.ly"
       },
       "data": [
        {
         "mode": "markers",
         "name": "",
         "showlegend": false,
         "text": [
          "mp-1222661",
          "mp-1227993",
          "mp-567246",
          "mp-1184796",
          "mp-1217830",
          "mp-774907",
          "mp-672158",
          "mp-1228522",
          "mp-504910",
          "mp-568802",
          "mp-1222565",
          "mp-33723",
          "mp-1227512",
          "mp-1189731",
          "mp-28089",
          "mp-36779",
          "mp-560521",
          "mp-571195",
          "mp-1208039",
          "mp-1224376",
          "mp-1219501",
          "mp-1218158",
          "mp-17207",
          "agm003202330",
          "agm002254137",
          "agm002186848",
          "agm002224787",
          "agm002153716",
          "mp-1195571",
          "mp-998230",
          "mp-1223489",
          "mp-1029932",
          "mp-28473",
          "mp-1228745",
          "mp-1029652",
          "mp-985293",
          "mp-1019889",
          "mp-1227994",
          "agm002156258",
          "mp-559373",
          "mp-1215615",
          "mp-1219293",
          "mp-560699",
          "agm002156599",
          "mp-1078049",
          "mp-554002",
          "mp-1226863",
          "agm002848041",
          "agm002336867",
          "mp-1222496",
          "agm003160584",
          "mp-568328",
          "agm002137965",
          "agm002074655",
          "agm2000085596",
          "agm005539186",
          "agm002073755",
          "agm002149208",
          "agm002225219",
          "agm003713453",
          "agm1000019508",
          "agm2000011039",
          "agm005769288",
          "agm005112928",
          "agm001266143",
          "agm005955873",
          "agm002077911",
          "agm002097562",
          "agm2000016398",
          "agm2000145156",
          "agm002056302",
          "agm002190330",
          "mp-685097",
          "agm003464867",
          "agm003204906",
          "agm002072309",
          "agm003612680",
          "agm002128787",
          "agm2000128632",
          "agm005882580",
          "agm003743952",
          "mp-1029408",
          "agm2000084944",
          "mp-998591",
          "agm004958126",
          "agm002233061",
          "agm005605704",
          "mp-1220818",
          "mp-761842",
          "mp-14568",
          "agm004947354",
          "agm006056059",
          "mp-32959",
          "agm002091778",
          "agm004951594",
          "agm002079795",
          "agm002018585",
          "agm004786105"
         ],
         "type": "scatter",
         "x": [
          3.726647754439092,
          2.7650171525584897,
          -0.9785740520325,
          -1.9506258577615776,
          0.9457580474086552,
          0.930712906065857,
          -0.5656119968586392,
          1.8063898261803264,
          0.8313874729054991,
          3.8660055450967015,
          -0.5810982301121206,
          3.3984711512999723,
          3.306013787798052,
          -1.9297986195498888,
          1.0205797457045462,
          0.8820832081275523,
          -1.3952522508175258,
          4.630220709061966,
          -0.03989242203594581,
          3.0673285353516495,
          2.945090010904687,
          0.9855598229690008,
          2.8744963496568476,
          3.227784664463102,
          5.010152352035054,
          4.375465953109872,
          1.9564967524058423,
          -0.20522065543880316,
          -1.8765034262960585,
          1.7457670117279211,
          -1.7967384501708528,
          3.4405184224368184,
          -0.9070702941270304,
          2.186084617256394,
          1.357935550498175,
          -1.831438376179809,
          -1.765944603910963,
          0.8638553728959156,
          -0.4009194821956806,
          -0.010746393155664617,
          3.171956161985026,
          -1.221948932928841,
          -0.17101327411568193,
          0.5891447123015938,
          2.856874865027175,
          -0.6819699010937628,
          -0.8341184758980481,
          -2.4835216162509544,
          5.030326353366186,
          -1.902012413956002,
          4.508571574798542,
          4.030308396821867,
          -0.432710833898198,
          1.3144920723487423,
          -2.7007726716029277,
          2.464559324158839,
          -0.24997113715089964,
          -2.2797230750007285,
          2.674699707151309,
          1.5138593783934942,
          -1.8369011356903615,
          -1.2018782806368469,
          1.5675333828046232,
          1.535213681414796,
          3.7834741715488054,
          -0.9805353461537808,
          2.5519913843949884,
          -1.054320696076026,
          -5.144746364748553,
          -4.374698564785749,
          1.2279568365509097,
          2.7658319902778548,
          1.463168969282763,
          2.545536375253649,
          2.4312306180959693,
          1.464224222415336,
          0.23378936328834635,
          2.288341124647539,
          -2.7405701763814596,
          2.14872709843379,
          -1.964754536724552,
          2.2711819556615875,
          -2.9984723895710323,
          2.2040521524858843,
          0.8372014447917839,
          1.9687811839177107,
          3.505027619501831,
          0.5349081196696716,
          -0.30292585730254923,
          -2.8658097868306,
          2.2434879030397643,
          -2.1784232718366727,
          0.2328686129265657,
          -1.2789627598088726,
          2.048032715213161,
          0.15772498428777643,
          4.001703353515542,
          3.933836224919828
         ],
         "y": [
          3.8397646590048735,
          2.4727633632996553,
          2.6921370121979766,
          -1.67145822979054,
          1.8998705897146773,
          2.1775820595430666,
          1.936784103836555,
          2.210330733156994,
          1.3935953432763992,
          3.4438410678097333,
          -0.23320204693490568,
          4.030572063383183,
          4.448125774765385,
          1.0789772339331591,
          2.695104415317783,
          0.2569011841725,
          0.13008676513279235,
          4.494295361019462,
          -1.2597425791433106,
          3.638482079493441,
          3.2326679233685605,
          1.28277090034797,
          3.5749489784186044,
          3.697229147517179,
          4.394093265145509,
          3.9178123030343657,
          2.4061149805195914,
          0.4919309217705462,
          -1.233802747298635,
          2.131771976764522,
          -1.7576671059419635,
          2.0533649573396393,
          -1.1032590388068235,
          3.2379157735539836,
          1.932593458952933,
          0.13663908206779277,
          -1.8086692266595712,
          0.9475909663812196,
          -0.05626974152542185,
          1.406533825718787,
          2.4309546753236035,
          null,
          1.9003457086494295,
          -0.3349873812250947,
          2.6669612612237645,
          -0.4971674107944922,
          -0.7584418270498979,
          0.1397720661437541,
          4.651378526229716,
          1.7394074942017514,
          3.854021822837049,
          4.144429743735986,
          -0.1047221088044442,
          0.6863454151378489,
          2.000269468080727,
          2.5911567361264582,
          -0.4394472752554572,
          null,
          3.1160235312396303,
          2.1499399096065783,
          null,
          null,
          0.18399063317929007,
          4.040310077756848,
          3.723838022228013,
          -0.31482340235267714,
          2.251265539234088,
          -0.25702091261557464,
          null,
          null,
          0.8004277107906999,
          3.867743929558427,
          0.8278913034533387,
          2.849407661879622,
          2.273634510037424,
          1.4164831452222104,
          -0.8642958751874797,
          3.504967974318064,
          -1.893709770323054,
          0.9652189796399572,
          1.433140667814088,
          2.5304512800194856,
          -0.989442098836994,
          1.7744567802990594,
          1.8614616206099257,
          3.6772733300813383,
          3.0469197641253074,
          1.843329852749495,
          1.2006527522055337,
          null,
          2.2024653249752153,
          -0.8416058350277026,
          -0.3128063009662593,
          1.429862458515138,
          2.366093438631545,
          1.0108812879929416,
          3.8582267335582894,
          3.319321049747577
         ]
        },
        {
         "marker": {
          "color": "red"
         },
         "mode": "markers",
         "name": "",
         "showlegend": false,
         "text": [
          "mp-552663",
          "mp-753401",
          "mp-23363",
          "mp-559961",
          "mp-17066",
          "mp-29155",
          "mp-542931",
          "mp-27316",
          "mp-6126",
          "mp-997027",
          "mp-21521",
          "mp-8673",
          "mp-23280",
          "mp-561664",
          "mp-23794",
          "mp-756570",
          "mp-27987",
          "mp-550959",
          "mp-556719",
          "mp-27914",
          "mp-29524",
          "mp-504908",
          "mp-559065",
          "mp-769218",
          "mp-570213",
          "mp-1023936",
          "mp-560588"
         ],
         "type": "scatter",
         "x": [
          0.11009703197924924,
          0.7691529019629036,
          -4.592323538872693,
          -0.32095926897028487,
          -2.5171357256722606,
          1.4074454955924198,
          -0.33440285034435596,
          -2.337580811734735,
          1.005487085967149,
          2.3185509986184103,
          2.0183066815251465,
          1.905127604190746,
          -2.258319172000336,
          -0.15139962255851527,
          -1.1747273679731742,
          2.6428457986952703,
          0.6561578872985051,
          2.0543193741250803,
          0.5136435219961208,
          -2.2312395663473907,
          -0.8201548436622684,
          -0.567853000126619,
          1.871489666744384,
          4.104456041313405,
          4.888033100161943,
          1.1181511413099128,
          3.355818208137122
         ],
         "y": [
          1.0363244742913509,
          0.634469776483579,
          null,
          0.640335690193318,
          0.7919551806666417,
          0.22133877625076345,
          0.9165927566975772,
          null,
          1.943900705789081,
          2.642485291718502,
          1.5332513931036416,
          1.9809568628823049,
          1.661083524255459,
          1.4024052433406058,
          1.165281806271267,
          1.923445383892281,
          0.6324096334535583,
          2.7323776779624085,
          0.7152813660449251,
          0.3773229515093413,
          0.23347765311396756,
          1.5380306011538527,
          1.7999917036430777,
          4.1717320386496874,
          4.203381869088455,
          1.298310335709927,
          3.4948226199126973
         ]
        },
        {
         "line": {
          "color": "gray",
          "dash": "dot"
         },
         "mode": "lines",
         "showlegend": false,
         "type": "scatter",
         "x": [
          -10,
          8
         ],
         "y": [
          -10,
          8
         ]
        }
       ],
       "layout": {
        "autosize": false,
        "font": {
         "size": 20
        },
        "height": 600,
        "template": {
         "data": {
          "bar": [
           {
            "error_x": {
             "color": "rgb(36,36,36)"
            },
            "error_y": {
             "color": "rgb(36,36,36)"
            },
            "marker": {
             "line": {
              "color": "white",
              "width": 0.5
             },
             "pattern": {
              "fillmode": "overlay",
              "size": 10,
              "solidity": 0.2
             }
            },
            "type": "bar"
           }
          ],
          "barpolar": [
           {
            "marker": {
             "line": {
              "color": "white",
              "width": 0.5
             },
             "pattern": {
              "fillmode": "overlay",
              "size": 10,
              "solidity": 0.2
             }
            },
            "type": "barpolar"
           }
          ],
          "carpet": [
           {
            "aaxis": {
             "endlinecolor": "rgb(36,36,36)",
             "gridcolor": "white",
             "linecolor": "white",
             "minorgridcolor": "white",
             "startlinecolor": "rgb(36,36,36)"
            },
            "baxis": {
             "endlinecolor": "rgb(36,36,36)",
             "gridcolor": "white",
             "linecolor": "white",
             "minorgridcolor": "white",
             "startlinecolor": "rgb(36,36,36)"
            },
            "type": "carpet"
           }
          ],
          "choropleth": [
           {
            "colorbar": {
             "outlinewidth": 1,
             "tickcolor": "rgb(36,36,36)",
             "ticks": "outside"
            },
            "type": "choropleth"
           }
          ],
          "contour": [
           {
            "colorbar": {
             "outlinewidth": 1,
             "tickcolor": "rgb(36,36,36)",
             "ticks": "outside"
            },
            "colorscale": [
             [
              0,
              "#440154"
             ],
             [
              0.1111111111111111,
              "#482878"
             ],
             [
              0.2222222222222222,
              "#3e4989"
             ],
             [
              0.3333333333333333,
              "#31688e"
             ],
             [
              0.4444444444444444,
              "#26828e"
             ],
             [
              0.5555555555555556,
              "#1f9e89"
             ],
             [
              0.6666666666666666,
              "#35b779"
             ],
             [
              0.7777777777777778,
              "#6ece58"
             ],
             [
              0.8888888888888888,
              "#b5de2b"
             ],
             [
              1,
              "#fde725"
             ]
            ],
            "type": "contour"
           }
          ],
          "contourcarpet": [
           {
            "colorbar": {
             "outlinewidth": 1,
             "tickcolor": "rgb(36,36,36)",
             "ticks": "outside"
            },
            "type": "contourcarpet"
           }
          ],
          "heatmap": [
           {
            "colorbar": {
             "outlinewidth": 1,
             "tickcolor": "rgb(36,36,36)",
             "ticks": "outside"
            },
            "colorscale": [
             [
              0,
              "#440154"
             ],
             [
              0.1111111111111111,
              "#482878"
             ],
             [
              0.2222222222222222,
              "#3e4989"
             ],
             [
              0.3333333333333333,
              "#31688e"
             ],
             [
              0.4444444444444444,
              "#26828e"
             ],
             [
              0.5555555555555556,
              "#1f9e89"
             ],
             [
              0.6666666666666666,
              "#35b779"
             ],
             [
              0.7777777777777778,
              "#6ece58"
             ],
             [
              0.8888888888888888,
              "#b5de2b"
             ],
             [
              1,
              "#fde725"
             ]
            ],
            "type": "heatmap"
           }
          ],
          "heatmapgl": [
           {
            "colorbar": {
             "outlinewidth": 1,
             "tickcolor": "rgb(36,36,36)",
             "ticks": "outside"
            },
            "colorscale": [
             [
              0,
              "#440154"
             ],
             [
              0.1111111111111111,
              "#482878"
             ],
             [
              0.2222222222222222,
              "#3e4989"
             ],
             [
              0.3333333333333333,
              "#31688e"
             ],
             [
              0.4444444444444444,
              "#26828e"
             ],
             [
              0.5555555555555556,
              "#1f9e89"
             ],
             [
              0.6666666666666666,
              "#35b779"
             ],
             [
              0.7777777777777778,
              "#6ece58"
             ],
             [
              0.8888888888888888,
              "#b5de2b"
             ],
             [
              1,
              "#fde725"
             ]
            ],
            "type": "heatmapgl"
           }
          ],
          "histogram": [
           {
            "marker": {
             "line": {
              "color": "white",
              "width": 0.6
             }
            },
            "type": "histogram"
           }
          ],
          "histogram2d": [
           {
            "colorbar": {
             "outlinewidth": 1,
             "tickcolor": "rgb(36,36,36)",
             "ticks": "outside"
            },
            "colorscale": [
             [
              0,
              "#440154"
             ],
             [
              0.1111111111111111,
              "#482878"
             ],
             [
              0.2222222222222222,
              "#3e4989"
             ],
             [
              0.3333333333333333,
              "#31688e"
             ],
             [
              0.4444444444444444,
              "#26828e"
             ],
             [
              0.5555555555555556,
              "#1f9e89"
             ],
             [
              0.6666666666666666,
              "#35b779"
             ],
             [
              0.7777777777777778,
              "#6ece58"
             ],
             [
              0.8888888888888888,
              "#b5de2b"
             ],
             [
              1,
              "#fde725"
             ]
            ],
            "type": "histogram2d"
           }
          ],
          "histogram2dcontour": [
           {
            "colorbar": {
             "outlinewidth": 1,
             "tickcolor": "rgb(36,36,36)",
             "ticks": "outside"
            },
            "colorscale": [
             [
              0,
              "#440154"
             ],
             [
              0.1111111111111111,
              "#482878"
             ],
             [
              0.2222222222222222,
              "#3e4989"
             ],
             [
              0.3333333333333333,
              "#31688e"
             ],
             [
              0.4444444444444444,
              "#26828e"
             ],
             [
              0.5555555555555556,
              "#1f9e89"
             ],
             [
              0.6666666666666666,
              "#35b779"
             ],
             [
              0.7777777777777778,
              "#6ece58"
             ],
             [
              0.8888888888888888,
              "#b5de2b"
             ],
             [
              1,
              "#fde725"
             ]
            ],
            "type": "histogram2dcontour"
           }
          ],
          "mesh3d": [
           {
            "colorbar": {
             "outlinewidth": 1,
             "tickcolor": "rgb(36,36,36)",
             "ticks": "outside"
            },
            "type": "mesh3d"
           }
          ],
          "parcoords": [
           {
            "line": {
             "colorbar": {
              "outlinewidth": 1,
              "tickcolor": "rgb(36,36,36)",
              "ticks": "outside"
             }
            },
            "type": "parcoords"
           }
          ],
          "pie": [
           {
            "automargin": true,
            "type": "pie"
           }
          ],
          "scatter": [
           {
            "fillpattern": {
             "fillmode": "overlay",
             "size": 10,
             "solidity": 0.2
            },
            "type": "scatter"
           }
          ],
          "scatter3d": [
           {
            "line": {
             "colorbar": {
              "outlinewidth": 1,
              "tickcolor": "rgb(36,36,36)",
              "ticks": "outside"
             }
            },
            "marker": {
             "colorbar": {
              "outlinewidth": 1,
              "tickcolor": "rgb(36,36,36)",
              "ticks": "outside"
             }
            },
            "type": "scatter3d"
           }
          ],
          "scattercarpet": [
           {
            "marker": {
             "colorbar": {
              "outlinewidth": 1,
              "tickcolor": "rgb(36,36,36)",
              "ticks": "outside"
             }
            },
            "type": "scattercarpet"
           }
          ],
          "scattergeo": [
           {
            "marker": {
             "colorbar": {
              "outlinewidth": 1,
              "tickcolor": "rgb(36,36,36)",
              "ticks": "outside"
             }
            },
            "type": "scattergeo"
           }
          ],
          "scattergl": [
           {
            "marker": {
             "colorbar": {
              "outlinewidth": 1,
              "tickcolor": "rgb(36,36,36)",
              "ticks": "outside"
             }
            },
            "type": "scattergl"
           }
          ],
          "scattermapbox": [
           {
            "marker": {
             "colorbar": {
              "outlinewidth": 1,
              "tickcolor": "rgb(36,36,36)",
              "ticks": "outside"
             }
            },
            "type": "scattermapbox"
           }
          ],
          "scatterpolar": [
           {
            "marker": {
             "colorbar": {
              "outlinewidth": 1,
              "tickcolor": "rgb(36,36,36)",
              "ticks": "outside"
             }
            },
            "type": "scatterpolar"
           }
          ],
          "scatterpolargl": [
           {
            "marker": {
             "colorbar": {
              "outlinewidth": 1,
              "tickcolor": "rgb(36,36,36)",
              "ticks": "outside"
             }
            },
            "type": "scatterpolargl"
           }
          ],
          "scatterternary": [
           {
            "marker": {
             "colorbar": {
              "outlinewidth": 1,
              "tickcolor": "rgb(36,36,36)",
              "ticks": "outside"
             }
            },
            "type": "scatterternary"
           }
          ],
          "surface": [
           {
            "colorbar": {
             "outlinewidth": 1,
             "tickcolor": "rgb(36,36,36)",
             "ticks": "outside"
            },
            "colorscale": [
             [
              0,
              "#440154"
             ],
             [
              0.1111111111111111,
              "#482878"
             ],
             [
              0.2222222222222222,
              "#3e4989"
             ],
             [
              0.3333333333333333,
              "#31688e"
             ],
             [
              0.4444444444444444,
              "#26828e"
             ],
             [
              0.5555555555555556,
              "#1f9e89"
             ],
             [
              0.6666666666666666,
              "#35b779"
             ],
             [
              0.7777777777777778,
              "#6ece58"
             ],
             [
              0.8888888888888888,
              "#b5de2b"
             ],
             [
              1,
              "#fde725"
             ]
            ],
            "type": "surface"
           }
          ],
          "table": [
           {
            "cells": {
             "fill": {
              "color": "rgb(237,237,237)"
             },
             "line": {
              "color": "white"
             }
            },
            "header": {
             "fill": {
              "color": "rgb(217,217,217)"
             },
             "line": {
              "color": "white"
             }
            },
            "type": "table"
           }
          ]
         },
         "layout": {
          "annotationdefaults": {
           "arrowhead": 0,
           "arrowwidth": 1
          },
          "autotypenumbers": "strict",
          "coloraxis": {
           "colorbar": {
            "outlinewidth": 1,
            "tickcolor": "rgb(36,36,36)",
            "ticks": "outside"
           }
          },
          "colorscale": {
           "diverging": [
            [
             0,
             "rgb(103,0,31)"
            ],
            [
             0.1,
             "rgb(178,24,43)"
            ],
            [
             0.2,
             "rgb(214,96,77)"
            ],
            [
             0.3,
             "rgb(244,165,130)"
            ],
            [
             0.4,
             "rgb(253,219,199)"
            ],
            [
             0.5,
             "rgb(247,247,247)"
            ],
            [
             0.6,
             "rgb(209,229,240)"
            ],
            [
             0.7,
             "rgb(146,197,222)"
            ],
            [
             0.8,
             "rgb(67,147,195)"
            ],
            [
             0.9,
             "rgb(33,102,172)"
            ],
            [
             1,
             "rgb(5,48,97)"
            ]
           ],
           "sequential": [
            [
             0,
             "#440154"
            ],
            [
             0.1111111111111111,
             "#482878"
            ],
            [
             0.2222222222222222,
             "#3e4989"
            ],
            [
             0.3333333333333333,
             "#31688e"
            ],
            [
             0.4444444444444444,
             "#26828e"
            ],
            [
             0.5555555555555556,
             "#1f9e89"
            ],
            [
             0.6666666666666666,
             "#35b779"
            ],
            [
             0.7777777777777778,
             "#6ece58"
            ],
            [
             0.8888888888888888,
             "#b5de2b"
            ],
            [
             1,
             "#fde725"
            ]
           ],
           "sequentialminus": [
            [
             0,
             "#440154"
            ],
            [
             0.1111111111111111,
             "#482878"
            ],
            [
             0.2222222222222222,
             "#3e4989"
            ],
            [
             0.3333333333333333,
             "#31688e"
            ],
            [
             0.4444444444444444,
             "#26828e"
            ],
            [
             0.5555555555555556,
             "#1f9e89"
            ],
            [
             0.6666666666666666,
             "#35b779"
            ],
            [
             0.7777777777777778,
             "#6ece58"
            ],
            [
             0.8888888888888888,
             "#b5de2b"
            ],
            [
             1,
             "#fde725"
            ]
           ]
          },
          "colorway": [
           "#1F77B4",
           "#FF7F0E",
           "#2CA02C",
           "#D62728",
           "#9467BD",
           "#8C564B",
           "#E377C2",
           "#7F7F7F",
           "#BCBD22",
           "#17BECF"
          ],
          "font": {
           "color": "rgb(36,36,36)"
          },
          "geo": {
           "bgcolor": "white",
           "lakecolor": "white",
           "landcolor": "white",
           "showlakes": true,
           "showland": true,
           "subunitcolor": "white"
          },
          "hoverlabel": {
           "align": "left"
          },
          "hovermode": "closest",
          "mapbox": {
           "style": "light"
          },
          "paper_bgcolor": "white",
          "plot_bgcolor": "white",
          "polar": {
           "angularaxis": {
            "gridcolor": "rgb(232,232,232)",
            "linecolor": "rgb(36,36,36)",
            "showgrid": false,
            "showline": true,
            "ticks": "outside"
           },
           "bgcolor": "white",
           "radialaxis": {
            "gridcolor": "rgb(232,232,232)",
            "linecolor": "rgb(36,36,36)",
            "showgrid": false,
            "showline": true,
            "ticks": "outside"
           }
          },
          "scene": {
           "xaxis": {
            "backgroundcolor": "white",
            "gridcolor": "rgb(232,232,232)",
            "gridwidth": 2,
            "linecolor": "rgb(36,36,36)",
            "showbackground": true,
            "showgrid": false,
            "showline": true,
            "ticks": "outside",
            "zeroline": false,
            "zerolinecolor": "rgb(36,36,36)"
           },
           "yaxis": {
            "backgroundcolor": "white",
            "gridcolor": "rgb(232,232,232)",
            "gridwidth": 2,
            "linecolor": "rgb(36,36,36)",
            "showbackground": true,
            "showgrid": false,
            "showline": true,
            "ticks": "outside",
            "zeroline": false,
            "zerolinecolor": "rgb(36,36,36)"
           },
           "zaxis": {
            "backgroundcolor": "white",
            "gridcolor": "rgb(232,232,232)",
            "gridwidth": 2,
            "linecolor": "rgb(36,36,36)",
            "showbackground": true,
            "showgrid": false,
            "showline": true,
            "ticks": "outside",
            "zeroline": false,
            "zerolinecolor": "rgb(36,36,36)"
           }
          },
          "shapedefaults": {
           "fillcolor": "black",
           "line": {
            "width": 0
           },
           "opacity": 0.3
          },
          "ternary": {
           "aaxis": {
            "gridcolor": "rgb(232,232,232)",
            "linecolor": "rgb(36,36,36)",
            "showgrid": false,
            "showline": true,
            "ticks": "outside"
           },
           "baxis": {
            "gridcolor": "rgb(232,232,232)",
            "linecolor": "rgb(36,36,36)",
            "showgrid": false,
            "showline": true,
            "ticks": "outside"
           },
           "bgcolor": "white",
           "caxis": {
            "gridcolor": "rgb(232,232,232)",
            "linecolor": "rgb(36,36,36)",
            "showgrid": false,
            "showline": true,
            "ticks": "outside"
           }
          },
          "title": {
           "x": 0.05
          },
          "xaxis": {
           "automargin": true,
           "gridcolor": "rgb(232,232,232)",
           "linecolor": "rgb(36,36,36)",
           "showgrid": false,
           "showline": true,
           "ticks": "outside",
           "title": {
            "standoff": 15
           },
           "zeroline": false,
           "zerolinecolor": "rgb(36,36,36)"
          },
          "yaxis": {
           "automargin": true,
           "gridcolor": "rgb(232,232,232)",
           "linecolor": "rgb(36,36,36)",
           "showgrid": false,
           "showline": true,
           "ticks": "outside",
           "title": {
            "standoff": 15
           },
           "zeroline": false,
           "zerolinecolor": "rgb(36,36,36)"
          }
         }
        },
        "title": {
         "text": "lgbm_dflt_distribution_125_mmf_pgnn_"
        },
        "width": 600,
        "xaxis": {
         "dtick": 2,
         "range": [
          -6.2,
          6.2
         ],
         "showgrid": false,
         "tick0": 0,
         "tickmode": "linear",
         "title": {
          "text": "ln(<i>d</i><sub>KP</sub>) (pm/V)"
         }
        },
        "yaxis": {
         "dtick": 2,
         "range": [
          -6.2,
          6.2
         ],
         "showgrid": false,
         "tick0": 0,
         "tickmode": "linear",
         "title": {
          "text": "ln(<i>d&#770;</i><sub>KP</sub>) (pm/V)"
         }
        }
       }
      }
     },
     "metadata": {},
     "output_type": "display_data"
    },
    {
     "data": {
      "application/vnd.plotly.v1+json": {
       "config": {
        "plotlyServerURL": "https://plot.ly"
       },
       "data": [
        {
         "mode": "markers",
         "name": "",
         "showlegend": false,
         "text": [
          "mp-1222661",
          "mp-1227993",
          "mp-567246",
          "mp-1184796",
          "mp-1217830",
          "mp-774907",
          "mp-672158",
          "mp-1228522",
          "mp-504910",
          "mp-568802",
          "mp-1222565",
          "mp-33723",
          "mp-1227512",
          "mp-1189731",
          "mp-28089",
          "mp-36779",
          "mp-560521",
          "mp-571195",
          "mp-1208039",
          "mp-1224376",
          "mp-1219501",
          "mp-1218158",
          "mp-17207",
          "agm003202330",
          "agm002254137",
          "agm002186848",
          "agm002224787",
          "agm002153716",
          "mp-1195571",
          "mp-998230",
          "mp-1223489",
          "mp-1029932",
          "mp-28473",
          "mp-1228745",
          "mp-1029652",
          "mp-985293",
          "mp-1019889",
          "mp-1227994",
          "agm002156258",
          "mp-559373",
          "mp-1215615",
          "mp-1219293",
          "mp-560699",
          "agm002156599",
          "mp-1078049",
          "mp-554002",
          "mp-1226863",
          "agm002848041",
          "agm002336867",
          "mp-1222496",
          "agm003160584",
          "mp-568328",
          "agm002137965",
          "agm002074655",
          "agm2000085596",
          "agm005539186",
          "agm002073755",
          "agm002149208",
          "agm002225219",
          "agm003713453",
          "agm1000019508",
          "agm2000011039",
          "agm005769288",
          "agm005112928",
          "agm001266143",
          "agm005955873",
          "agm002077911",
          "agm002097562",
          "agm2000016398",
          "agm2000145156",
          "agm002056302",
          "agm002190330",
          "mp-685097",
          "agm003464867",
          "agm003204906",
          "agm002072309",
          "agm003612680",
          "agm002128787",
          "agm2000128632",
          "agm005882580",
          "agm003743952",
          "mp-1029408",
          "agm2000084944",
          "mp-998591",
          "agm004958126",
          "agm002233061",
          "agm005605704",
          "mp-1220818",
          "mp-761842",
          "mp-14568",
          "agm004947354",
          "agm006056059",
          "mp-32959",
          "agm002091778",
          "agm004951594",
          "agm002079795",
          "agm002018585",
          "agm004786105"
         ],
         "type": "scatter",
         "x": [
          3.726647754439092,
          2.7650171525584897,
          -0.9785740520325,
          -1.9506258577615776,
          0.9457580474086552,
          0.930712906065857,
          -0.5656119968586392,
          1.8063898261803264,
          0.8313874729054991,
          3.8660055450967015,
          -0.5810982301121206,
          3.3984711512999723,
          3.306013787798052,
          -1.9297986195498888,
          1.0205797457045462,
          0.8820832081275523,
          -1.3952522508175258,
          4.630220709061966,
          -0.03989242203594581,
          3.0673285353516495,
          2.945090010904687,
          0.9855598229690008,
          2.8744963496568476,
          3.227784664463102,
          5.010152352035054,
          4.375465953109872,
          1.9564967524058423,
          -0.20522065543880316,
          -1.8765034262960585,
          1.7457670117279211,
          -1.7967384501708528,
          3.4405184224368184,
          -0.9070702941270304,
          2.186084617256394,
          1.357935550498175,
          -1.831438376179809,
          -1.765944603910963,
          0.8638553728959156,
          -0.4009194821956806,
          -0.010746393155664617,
          3.171956161985026,
          -1.221948932928841,
          -0.17101327411568193,
          0.5891447123015938,
          2.856874865027175,
          -0.6819699010937628,
          -0.8341184758980481,
          -2.4835216162509544,
          5.030326353366186,
          -1.902012413956002,
          4.508571574798542,
          4.030308396821867,
          -0.432710833898198,
          1.3144920723487423,
          -2.7007726716029277,
          2.464559324158839,
          -0.24997113715089964,
          -2.2797230750007285,
          2.674699707151309,
          1.5138593783934942,
          -1.8369011356903615,
          -1.2018782806368469,
          1.5675333828046232,
          1.535213681414796,
          3.7834741715488054,
          -0.9805353461537808,
          2.5519913843949884,
          -1.054320696076026,
          -5.144746364748553,
          -4.374698564785749,
          1.2279568365509097,
          2.7658319902778548,
          1.463168969282763,
          2.545536375253649,
          2.4312306180959693,
          1.464224222415336,
          0.23378936328834635,
          2.288341124647539,
          -2.7405701763814596,
          2.14872709843379,
          -1.964754536724552,
          2.2711819556615875,
          -2.9984723895710323,
          2.2040521524858843,
          0.8372014447917839,
          1.9687811839177107,
          3.505027619501831,
          0.5349081196696716,
          -0.30292585730254923,
          -2.8658097868306,
          2.2434879030397643,
          -2.1784232718366727,
          0.2328686129265657,
          -1.2789627598088726,
          2.048032715213161,
          0.15772498428777643,
          4.001703353515542,
          3.933836224919828
         ],
         "y": [
          3.8271048599200337,
          2.286032079431693,
          3.07683983804402,
          -1.363844738345775,
          1.81284303247165,
          2.046564130010917,
          1.6763687358829695,
          2.23760766122423,
          0.91061393842392,
          3.5544896285941823,
          -0.9646137194029214,
          4.010225697124411,
          4.1763830652422955,
          2.0463458711942044,
          2.975544614075529,
          0.8732691586889437,
          -1.049523527667779,
          4.398528646429407,
          0.2189190342360781,
          3.693509032967541,
          3.488306039934137,
          1.5323240363548871,
          3.3996198253215244,
          3.7702510509871487,
          4.357286684475547,
          4.243030957821718,
          2.491063038569504,
          0.710381817424958,
          1.1376543446926457,
          1.1173546711645563,
          -1.312595174305997,
          2.8543776965683327,
          -1.219054696688105,
          3.538177828509084,
          1.5048835689206277,
          -0.6201593916768976,
          -1.1289937771214982,
          0.4728504138689862,
          0.18503797875890196,
          1.5103358858547344,
          2.9120663244728076,
          -0.7904184637038213,
          1.5598791958120777,
          0.19380918785608311,
          2.8045439261591234,
          -1.6706904092456,
          -0.5187035446215951,
          0.42840257678981225,
          4.614810959786658,
          1.660714996661216,
          4.297227194164716,
          3.7205910477336257,
          -0.8102310805174098,
          0.2935289711146252,
          2.116097136141947,
          2.8030402909965595,
          -0.24539512493642368,
          -1.5073744728139555,
          2.7742980597453557,
          1.3816465680157006,
          0.1571521184846454,
          0.13414295788448624,
          1.2759544072893234,
          3.80781230999572,
          3.992921976619096,
          -0.6761335181170228,
          2.5992876865663623,
          -0.935401950090068,
          -3.998941718872483,
          -3.0149429823509384,
          0.5280282709852745,
          4.062552211430955,
          1.3907168399662828,
          2.759037940969685,
          2.490307373301803,
          1.0063155505890684,
          -0.8201231952980176,
          3.1039046901033385,
          0.23451449873698776,
          1.273496489009083,
          1.070943470953052,
          2.099045019540291,
          -1.9460792488436272,
          1.320062000259011,
          1.4256647894227288,
          3.9477351790865582,
          3.0143246672538804,
          1.6252238421885326,
          1.4500460872083367,
          -2.780880918986762,
          2.524353196358295,
          -1.304815607887236,
          -0.004506761473531574,
          2.1542825304545707,
          2.3764547612494877,
          1.1605852501770049,
          3.8583927916242144,
          3.659275493434747
         ]
        },
        {
         "marker": {
          "color": "red"
         },
         "mode": "markers",
         "name": "",
         "showlegend": false,
         "text": [
          "mp-552663",
          "mp-753401",
          "mp-23363",
          "mp-559961",
          "mp-17066",
          "mp-29155",
          "mp-542931",
          "mp-27316",
          "mp-6126",
          "mp-997027",
          "mp-21521",
          "mp-8673",
          "mp-23280",
          "mp-561664",
          "mp-23794",
          "mp-756570",
          "mp-27987",
          "mp-550959",
          "mp-556719",
          "mp-27914",
          "mp-29524",
          "mp-504908",
          "mp-559065",
          "mp-769218",
          "mp-570213",
          "mp-1023936",
          "mp-560588"
         ],
         "type": "scatter",
         "x": [
          0.11009703197924924,
          0.7691529019629036,
          -4.592323538872693,
          -0.32095926897028487,
          -2.5171357256722606,
          1.4074454955924198,
          -0.33440285034435596,
          -2.337580811734735,
          1.005487085967149,
          2.3185509986184103,
          2.0183066815251465,
          1.905127604190746,
          -2.258319172000336,
          -0.15139962255851527,
          -1.1747273679731742,
          2.6428457986952703,
          0.6561578872985051,
          2.0543193741250803,
          0.5136435219961208,
          -2.2312395663473907,
          -0.8201548436622684,
          -0.567853000126619,
          1.871489666744384,
          4.104456041313405,
          4.888033100161943,
          1.1181511413099128,
          3.355818208137122
         ],
         "y": [
          0.6569173544883313,
          1.1263435042241428,
          -1.265007174694796,
          1.3588122381138132,
          0.957166916040385,
          0.5601443972488709,
          0.9309443943334936,
          -1.3964953636090804,
          1.4887893378023076,
          2.494283091387178,
          1.8299569774419928,
          1.819194173297113,
          2.3595313675974694,
          0.5995657418495168,
          -0.3291135816712608,
          1.3984055590945057,
          0.4607932333163923,
          2.1708424767572048,
          0.7856985445674723,
          1.0451619474449132,
          0.9383184917303826,
          1.8231489773853855,
          2.0825368900733032,
          3.4966997757239295,
          4.001837040299557,
          2.1520470313712403,
          3.166558561887976
         ]
        },
        {
         "line": {
          "color": "gray",
          "dash": "dot"
         },
         "mode": "lines",
         "showlegend": false,
         "type": "scatter",
         "x": [
          -10,
          8
         ],
         "y": [
          -10,
          8
         ]
        }
       ],
       "layout": {
        "autosize": false,
        "font": {
         "size": 20
        },
        "height": 600,
        "template": {
         "data": {
          "bar": [
           {
            "error_x": {
             "color": "rgb(36,36,36)"
            },
            "error_y": {
             "color": "rgb(36,36,36)"
            },
            "marker": {
             "line": {
              "color": "white",
              "width": 0.5
             },
             "pattern": {
              "fillmode": "overlay",
              "size": 10,
              "solidity": 0.2
             }
            },
            "type": "bar"
           }
          ],
          "barpolar": [
           {
            "marker": {
             "line": {
              "color": "white",
              "width": 0.5
             },
             "pattern": {
              "fillmode": "overlay",
              "size": 10,
              "solidity": 0.2
             }
            },
            "type": "barpolar"
           }
          ],
          "carpet": [
           {
            "aaxis": {
             "endlinecolor": "rgb(36,36,36)",
             "gridcolor": "white",
             "linecolor": "white",
             "minorgridcolor": "white",
             "startlinecolor": "rgb(36,36,36)"
            },
            "baxis": {
             "endlinecolor": "rgb(36,36,36)",
             "gridcolor": "white",
             "linecolor": "white",
             "minorgridcolor": "white",
             "startlinecolor": "rgb(36,36,36)"
            },
            "type": "carpet"
           }
          ],
          "choropleth": [
           {
            "colorbar": {
             "outlinewidth": 1,
             "tickcolor": "rgb(36,36,36)",
             "ticks": "outside"
            },
            "type": "choropleth"
           }
          ],
          "contour": [
           {
            "colorbar": {
             "outlinewidth": 1,
             "tickcolor": "rgb(36,36,36)",
             "ticks": "outside"
            },
            "colorscale": [
             [
              0,
              "#440154"
             ],
             [
              0.1111111111111111,
              "#482878"
             ],
             [
              0.2222222222222222,
              "#3e4989"
             ],
             [
              0.3333333333333333,
              "#31688e"
             ],
             [
              0.4444444444444444,
              "#26828e"
             ],
             [
              0.5555555555555556,
              "#1f9e89"
             ],
             [
              0.6666666666666666,
              "#35b779"
             ],
             [
              0.7777777777777778,
              "#6ece58"
             ],
             [
              0.8888888888888888,
              "#b5de2b"
             ],
             [
              1,
              "#fde725"
             ]
            ],
            "type": "contour"
           }
          ],
          "contourcarpet": [
           {
            "colorbar": {
             "outlinewidth": 1,
             "tickcolor": "rgb(36,36,36)",
             "ticks": "outside"
            },
            "type": "contourcarpet"
           }
          ],
          "heatmap": [
           {
            "colorbar": {
             "outlinewidth": 1,
             "tickcolor": "rgb(36,36,36)",
             "ticks": "outside"
            },
            "colorscale": [
             [
              0,
              "#440154"
             ],
             [
              0.1111111111111111,
              "#482878"
             ],
             [
              0.2222222222222222,
              "#3e4989"
             ],
             [
              0.3333333333333333,
              "#31688e"
             ],
             [
              0.4444444444444444,
              "#26828e"
             ],
             [
              0.5555555555555556,
              "#1f9e89"
             ],
             [
              0.6666666666666666,
              "#35b779"
             ],
             [
              0.7777777777777778,
              "#6ece58"
             ],
             [
              0.8888888888888888,
              "#b5de2b"
             ],
             [
              1,
              "#fde725"
             ]
            ],
            "type": "heatmap"
           }
          ],
          "heatmapgl": [
           {
            "colorbar": {
             "outlinewidth": 1,
             "tickcolor": "rgb(36,36,36)",
             "ticks": "outside"
            },
            "colorscale": [
             [
              0,
              "#440154"
             ],
             [
              0.1111111111111111,
              "#482878"
             ],
             [
              0.2222222222222222,
              "#3e4989"
             ],
             [
              0.3333333333333333,
              "#31688e"
             ],
             [
              0.4444444444444444,
              "#26828e"
             ],
             [
              0.5555555555555556,
              "#1f9e89"
             ],
             [
              0.6666666666666666,
              "#35b779"
             ],
             [
              0.7777777777777778,
              "#6ece58"
             ],
             [
              0.8888888888888888,
              "#b5de2b"
             ],
             [
              1,
              "#fde725"
             ]
            ],
            "type": "heatmapgl"
           }
          ],
          "histogram": [
           {
            "marker": {
             "line": {
              "color": "white",
              "width": 0.6
             }
            },
            "type": "histogram"
           }
          ],
          "histogram2d": [
           {
            "colorbar": {
             "outlinewidth": 1,
             "tickcolor": "rgb(36,36,36)",
             "ticks": "outside"
            },
            "colorscale": [
             [
              0,
              "#440154"
             ],
             [
              0.1111111111111111,
              "#482878"
             ],
             [
              0.2222222222222222,
              "#3e4989"
             ],
             [
              0.3333333333333333,
              "#31688e"
             ],
             [
              0.4444444444444444,
              "#26828e"
             ],
             [
              0.5555555555555556,
              "#1f9e89"
             ],
             [
              0.6666666666666666,
              "#35b779"
             ],
             [
              0.7777777777777778,
              "#6ece58"
             ],
             [
              0.8888888888888888,
              "#b5de2b"
             ],
             [
              1,
              "#fde725"
             ]
            ],
            "type": "histogram2d"
           }
          ],
          "histogram2dcontour": [
           {
            "colorbar": {
             "outlinewidth": 1,
             "tickcolor": "rgb(36,36,36)",
             "ticks": "outside"
            },
            "colorscale": [
             [
              0,
              "#440154"
             ],
             [
              0.1111111111111111,
              "#482878"
             ],
             [
              0.2222222222222222,
              "#3e4989"
             ],
             [
              0.3333333333333333,
              "#31688e"
             ],
             [
              0.4444444444444444,
              "#26828e"
             ],
             [
              0.5555555555555556,
              "#1f9e89"
             ],
             [
              0.6666666666666666,
              "#35b779"
             ],
             [
              0.7777777777777778,
              "#6ece58"
             ],
             [
              0.8888888888888888,
              "#b5de2b"
             ],
             [
              1,
              "#fde725"
             ]
            ],
            "type": "histogram2dcontour"
           }
          ],
          "mesh3d": [
           {
            "colorbar": {
             "outlinewidth": 1,
             "tickcolor": "rgb(36,36,36)",
             "ticks": "outside"
            },
            "type": "mesh3d"
           }
          ],
          "parcoords": [
           {
            "line": {
             "colorbar": {
              "outlinewidth": 1,
              "tickcolor": "rgb(36,36,36)",
              "ticks": "outside"
             }
            },
            "type": "parcoords"
           }
          ],
          "pie": [
           {
            "automargin": true,
            "type": "pie"
           }
          ],
          "scatter": [
           {
            "fillpattern": {
             "fillmode": "overlay",
             "size": 10,
             "solidity": 0.2
            },
            "type": "scatter"
           }
          ],
          "scatter3d": [
           {
            "line": {
             "colorbar": {
              "outlinewidth": 1,
              "tickcolor": "rgb(36,36,36)",
              "ticks": "outside"
             }
            },
            "marker": {
             "colorbar": {
              "outlinewidth": 1,
              "tickcolor": "rgb(36,36,36)",
              "ticks": "outside"
             }
            },
            "type": "scatter3d"
           }
          ],
          "scattercarpet": [
           {
            "marker": {
             "colorbar": {
              "outlinewidth": 1,
              "tickcolor": "rgb(36,36,36)",
              "ticks": "outside"
             }
            },
            "type": "scattercarpet"
           }
          ],
          "scattergeo": [
           {
            "marker": {
             "colorbar": {
              "outlinewidth": 1,
              "tickcolor": "rgb(36,36,36)",
              "ticks": "outside"
             }
            },
            "type": "scattergeo"
           }
          ],
          "scattergl": [
           {
            "marker": {
             "colorbar": {
              "outlinewidth": 1,
              "tickcolor": "rgb(36,36,36)",
              "ticks": "outside"
             }
            },
            "type": "scattergl"
           }
          ],
          "scattermapbox": [
           {
            "marker": {
             "colorbar": {
              "outlinewidth": 1,
              "tickcolor": "rgb(36,36,36)",
              "ticks": "outside"
             }
            },
            "type": "scattermapbox"
           }
          ],
          "scatterpolar": [
           {
            "marker": {
             "colorbar": {
              "outlinewidth": 1,
              "tickcolor": "rgb(36,36,36)",
              "ticks": "outside"
             }
            },
            "type": "scatterpolar"
           }
          ],
          "scatterpolargl": [
           {
            "marker": {
             "colorbar": {
              "outlinewidth": 1,
              "tickcolor": "rgb(36,36,36)",
              "ticks": "outside"
             }
            },
            "type": "scatterpolargl"
           }
          ],
          "scatterternary": [
           {
            "marker": {
             "colorbar": {
              "outlinewidth": 1,
              "tickcolor": "rgb(36,36,36)",
              "ticks": "outside"
             }
            },
            "type": "scatterternary"
           }
          ],
          "surface": [
           {
            "colorbar": {
             "outlinewidth": 1,
             "tickcolor": "rgb(36,36,36)",
             "ticks": "outside"
            },
            "colorscale": [
             [
              0,
              "#440154"
             ],
             [
              0.1111111111111111,
              "#482878"
             ],
             [
              0.2222222222222222,
              "#3e4989"
             ],
             [
              0.3333333333333333,
              "#31688e"
             ],
             [
              0.4444444444444444,
              "#26828e"
             ],
             [
              0.5555555555555556,
              "#1f9e89"
             ],
             [
              0.6666666666666666,
              "#35b779"
             ],
             [
              0.7777777777777778,
              "#6ece58"
             ],
             [
              0.8888888888888888,
              "#b5de2b"
             ],
             [
              1,
              "#fde725"
             ]
            ],
            "type": "surface"
           }
          ],
          "table": [
           {
            "cells": {
             "fill": {
              "color": "rgb(237,237,237)"
             },
             "line": {
              "color": "white"
             }
            },
            "header": {
             "fill": {
              "color": "rgb(217,217,217)"
             },
             "line": {
              "color": "white"
             }
            },
            "type": "table"
           }
          ]
         },
         "layout": {
          "annotationdefaults": {
           "arrowhead": 0,
           "arrowwidth": 1
          },
          "autotypenumbers": "strict",
          "coloraxis": {
           "colorbar": {
            "outlinewidth": 1,
            "tickcolor": "rgb(36,36,36)",
            "ticks": "outside"
           }
          },
          "colorscale": {
           "diverging": [
            [
             0,
             "rgb(103,0,31)"
            ],
            [
             0.1,
             "rgb(178,24,43)"
            ],
            [
             0.2,
             "rgb(214,96,77)"
            ],
            [
             0.3,
             "rgb(244,165,130)"
            ],
            [
             0.4,
             "rgb(253,219,199)"
            ],
            [
             0.5,
             "rgb(247,247,247)"
            ],
            [
             0.6,
             "rgb(209,229,240)"
            ],
            [
             0.7,
             "rgb(146,197,222)"
            ],
            [
             0.8,
             "rgb(67,147,195)"
            ],
            [
             0.9,
             "rgb(33,102,172)"
            ],
            [
             1,
             "rgb(5,48,97)"
            ]
           ],
           "sequential": [
            [
             0,
             "#440154"
            ],
            [
             0.1111111111111111,
             "#482878"
            ],
            [
             0.2222222222222222,
             "#3e4989"
            ],
            [
             0.3333333333333333,
             "#31688e"
            ],
            [
             0.4444444444444444,
             "#26828e"
            ],
            [
             0.5555555555555556,
             "#1f9e89"
            ],
            [
             0.6666666666666666,
             "#35b779"
            ],
            [
             0.7777777777777778,
             "#6ece58"
            ],
            [
             0.8888888888888888,
             "#b5de2b"
            ],
            [
             1,
             "#fde725"
            ]
           ],
           "sequentialminus": [
            [
             0,
             "#440154"
            ],
            [
             0.1111111111111111,
             "#482878"
            ],
            [
             0.2222222222222222,
             "#3e4989"
            ],
            [
             0.3333333333333333,
             "#31688e"
            ],
            [
             0.4444444444444444,
             "#26828e"
            ],
            [
             0.5555555555555556,
             "#1f9e89"
            ],
            [
             0.6666666666666666,
             "#35b779"
            ],
            [
             0.7777777777777778,
             "#6ece58"
            ],
            [
             0.8888888888888888,
             "#b5de2b"
            ],
            [
             1,
             "#fde725"
            ]
           ]
          },
          "colorway": [
           "#1F77B4",
           "#FF7F0E",
           "#2CA02C",
           "#D62728",
           "#9467BD",
           "#8C564B",
           "#E377C2",
           "#7F7F7F",
           "#BCBD22",
           "#17BECF"
          ],
          "font": {
           "color": "rgb(36,36,36)"
          },
          "geo": {
           "bgcolor": "white",
           "lakecolor": "white",
           "landcolor": "white",
           "showlakes": true,
           "showland": true,
           "subunitcolor": "white"
          },
          "hoverlabel": {
           "align": "left"
          },
          "hovermode": "closest",
          "mapbox": {
           "style": "light"
          },
          "paper_bgcolor": "white",
          "plot_bgcolor": "white",
          "polar": {
           "angularaxis": {
            "gridcolor": "rgb(232,232,232)",
            "linecolor": "rgb(36,36,36)",
            "showgrid": false,
            "showline": true,
            "ticks": "outside"
           },
           "bgcolor": "white",
           "radialaxis": {
            "gridcolor": "rgb(232,232,232)",
            "linecolor": "rgb(36,36,36)",
            "showgrid": false,
            "showline": true,
            "ticks": "outside"
           }
          },
          "scene": {
           "xaxis": {
            "backgroundcolor": "white",
            "gridcolor": "rgb(232,232,232)",
            "gridwidth": 2,
            "linecolor": "rgb(36,36,36)",
            "showbackground": true,
            "showgrid": false,
            "showline": true,
            "ticks": "outside",
            "zeroline": false,
            "zerolinecolor": "rgb(36,36,36)"
           },
           "yaxis": {
            "backgroundcolor": "white",
            "gridcolor": "rgb(232,232,232)",
            "gridwidth": 2,
            "linecolor": "rgb(36,36,36)",
            "showbackground": true,
            "showgrid": false,
            "showline": true,
            "ticks": "outside",
            "zeroline": false,
            "zerolinecolor": "rgb(36,36,36)"
           },
           "zaxis": {
            "backgroundcolor": "white",
            "gridcolor": "rgb(232,232,232)",
            "gridwidth": 2,
            "linecolor": "rgb(36,36,36)",
            "showbackground": true,
            "showgrid": false,
            "showline": true,
            "ticks": "outside",
            "zeroline": false,
            "zerolinecolor": "rgb(36,36,36)"
           }
          },
          "shapedefaults": {
           "fillcolor": "black",
           "line": {
            "width": 0
           },
           "opacity": 0.3
          },
          "ternary": {
           "aaxis": {
            "gridcolor": "rgb(232,232,232)",
            "linecolor": "rgb(36,36,36)",
            "showgrid": false,
            "showline": true,
            "ticks": "outside"
           },
           "baxis": {
            "gridcolor": "rgb(232,232,232)",
            "linecolor": "rgb(36,36,36)",
            "showgrid": false,
            "showline": true,
            "ticks": "outside"
           },
           "bgcolor": "white",
           "caxis": {
            "gridcolor": "rgb(232,232,232)",
            "linecolor": "rgb(36,36,36)",
            "showgrid": false,
            "showline": true,
            "ticks": "outside"
           }
          },
          "title": {
           "x": 0.05
          },
          "xaxis": {
           "automargin": true,
           "gridcolor": "rgb(232,232,232)",
           "linecolor": "rgb(36,36,36)",
           "showgrid": false,
           "showline": true,
           "ticks": "outside",
           "title": {
            "standoff": 15
           },
           "zeroline": false,
           "zerolinecolor": "rgb(36,36,36)"
          },
          "yaxis": {
           "automargin": true,
           "gridcolor": "rgb(232,232,232)",
           "linecolor": "rgb(36,36,36)",
           "showgrid": false,
           "showline": true,
           "ticks": "outside",
           "title": {
            "standoff": 15
           },
           "zeroline": false,
           "zerolinecolor": "rgb(36,36,36)"
          }
         }
        },
        "title": {
         "text": "et_dflt_distribution_125_mmf_pgnn_"
        },
        "width": 600,
        "xaxis": {
         "dtick": 2,
         "range": [
          -6.2,
          6.2
         ],
         "showgrid": false,
         "tick0": 0,
         "tickmode": "linear",
         "title": {
          "text": "ln(<i>d</i><sub>KP</sub>) (pm/V)"
         }
        },
        "yaxis": {
         "dtick": 2,
         "range": [
          -6.2,
          6.2
         ],
         "showgrid": false,
         "tick0": 0,
         "tickmode": "linear",
         "title": {
          "text": "ln(<i>d&#770;</i><sub>KP</sub>) (pm/V)"
         }
        }
       }
      }
     },
     "metadata": {},
     "output_type": "display_data"
    },
    {
     "data": {
      "application/vnd.plotly.v1+json": {
       "config": {
        "plotlyServerURL": "https://plot.ly"
       },
       "data": [
        {
         "mode": "markers",
         "name": "",
         "showlegend": false,
         "text": [
          "mp-1222661",
          "mp-1227993",
          "mp-567246",
          "mp-1184796",
          "mp-1217830",
          "mp-774907",
          "mp-672158",
          "mp-1228522",
          "mp-504910",
          "mp-568802",
          "mp-1222565",
          "mp-33723",
          "mp-1227512",
          "mp-1189731",
          "mp-28089",
          "mp-36779",
          "mp-560521",
          "mp-571195",
          "mp-1208039",
          "mp-1224376",
          "mp-1219501",
          "mp-1218158",
          "mp-17207",
          "agm003202330",
          "agm002254137",
          "agm002186848",
          "agm002224787",
          "agm002153716",
          "mp-1195571",
          "mp-998230",
          "mp-1223489",
          "mp-1029932",
          "mp-28473",
          "mp-1228745",
          "mp-1029652",
          "mp-985293",
          "mp-1019889",
          "mp-1227994",
          "agm002156258",
          "mp-559373",
          "mp-1215615",
          "mp-1219293",
          "mp-560699",
          "agm002156599",
          "mp-1078049",
          "mp-554002",
          "mp-1226863",
          "agm002848041",
          "agm002336867",
          "mp-1222496",
          "agm003160584",
          "mp-568328",
          "agm002137965",
          "agm002074655",
          "agm2000085596",
          "agm005539186",
          "agm002073755",
          "agm002149208",
          "agm002225219",
          "agm003713453",
          "agm1000019508",
          "agm2000011039",
          "agm005769288",
          "agm005112928",
          "agm001266143",
          "agm005955873",
          "agm002077911",
          "agm002097562",
          "agm2000016398",
          "agm2000145156",
          "agm002056302",
          "agm002190330",
          "mp-685097",
          "agm003464867",
          "agm003204906",
          "agm002072309",
          "agm003612680",
          "agm002128787",
          "agm2000128632",
          "agm005882580",
          "agm003743952",
          "mp-1029408",
          "agm2000084944",
          "mp-998591",
          "agm004958126",
          "agm002233061",
          "agm005605704",
          "mp-1220818",
          "mp-761842",
          "mp-14568",
          "agm004947354",
          "agm006056059",
          "mp-32959",
          "agm002091778",
          "agm004951594",
          "agm002079795",
          "agm002018585",
          "agm004786105"
         ],
         "type": "scatter",
         "x": [
          3.726647754439092,
          2.7650171525584897,
          -0.9785740520325,
          -1.9506258577615776,
          0.9457580474086552,
          0.930712906065857,
          -0.5656119968586392,
          1.8063898261803264,
          0.8313874729054991,
          3.8660055450967015,
          -0.5810982301121206,
          3.3984711512999723,
          3.306013787798052,
          -1.9297986195498888,
          1.0205797457045462,
          0.8820832081275523,
          -1.3952522508175258,
          4.630220709061966,
          -0.03989242203594581,
          3.0673285353516495,
          2.945090010904687,
          0.9855598229690008,
          2.8744963496568476,
          3.227784664463102,
          5.010152352035054,
          4.375465953109872,
          1.9564967524058423,
          -0.20522065543880316,
          -1.8765034262960585,
          1.7457670117279211,
          -1.7967384501708528,
          3.4405184224368184,
          -0.9070702941270304,
          2.186084617256394,
          1.357935550498175,
          -1.831438376179809,
          -1.765944603910963,
          0.8638553728959156,
          -0.4009194821956806,
          -0.010746393155664617,
          3.171956161985026,
          -1.221948932928841,
          -0.17101327411568193,
          0.5891447123015938,
          2.856874865027175,
          -0.6819699010937628,
          -0.8341184758980481,
          -2.4835216162509544,
          5.030326353366186,
          -1.902012413956002,
          4.508571574798542,
          4.030308396821867,
          -0.432710833898198,
          1.3144920723487423,
          -2.7007726716029277,
          2.464559324158839,
          -0.24997113715089964,
          -2.2797230750007285,
          2.674699707151309,
          1.5138593783934942,
          -1.8369011356903615,
          -1.2018782806368469,
          1.5675333828046232,
          1.535213681414796,
          3.7834741715488054,
          -0.9805353461537808,
          2.5519913843949884,
          -1.054320696076026,
          -5.144746364748553,
          -4.374698564785749,
          1.2279568365509097,
          2.7658319902778548,
          1.463168969282763,
          2.545536375253649,
          2.4312306180959693,
          1.464224222415336,
          0.23378936328834635,
          2.288341124647539,
          -2.7405701763814596,
          2.14872709843379,
          -1.964754536724552,
          2.2711819556615875,
          -2.9984723895710323,
          2.2040521524858843,
          0.8372014447917839,
          1.9687811839177107,
          3.505027619501831,
          0.5349081196696716,
          -0.30292585730254923,
          -2.8658097868306,
          2.2434879030397643,
          -2.1784232718366727,
          0.2328686129265657,
          -1.2789627598088726,
          2.048032715213161,
          0.15772498428777643,
          4.001703353515542,
          3.933836224919828
         ],
         "y": [
          3.74188902350058,
          2.086186374644522,
          1.388600545351641,
          -2.1289213130137186,
          0.8471102073597226,
          1.569449379863682,
          1.0934368389738012,
          1.8190848015824608,
          0.46484663786287805,
          3.839300041255995,
          -0.590608846485308,
          4.078046027065308,
          4.171261262406349,
          0.7244061925225791,
          2.8036597320334233,
          0.4267849642385432,
          -1.5425251499348418,
          4.4510174716535555,
          -0.012511713386378765,
          3.314213608828104,
          2.5714523266075817,
          1.4879932362501669,
          2.7400064729023903,
          3.898138764330586,
          4.839342237785234,
          4.395328785376551,
          2.2559143491277815,
          0.09686056210430125,
          -0.2614246275676127,
          1.609457271835329,
          -1.145669537526053,
          2.6152099350601077,
          -1.2940936323654686,
          2.859676946531912,
          1.3394160914643858,
          -0.4096309887086136,
          -1.143599741073782,
          0.22129381150954328,
          -1.3190178748299677,
          0.8281069315811072,
          2.759099563534359,
          -2.0158425180091086,
          1.2936657659382,
          -0.3832196499606073,
          2.873990243350138,
          -0.6085087657164757,
          -0.395882012830413,
          -0.42410190704860457,
          4.742496515633264,
          0.9638375311645262,
          3.9500595813004273,
          4.632292170672674,
          -0.7384057247539838,
          0.44691076370223687,
          1.5495802929488176,
          2.393340571059263,
          -0.8361777298702694,
          -1.5838863530417648,
          2.625605462980601,
          0.7608418630131382,
          -0.8104617366045582,
          -0.8082022373148268,
          2.1675989160515265,
          1.9603498795353365,
          3.9797900995082713,
          -1.5218927296021585,
          2.598785147462872,
          -0.6569670616683507,
          -2.915477340846708,
          -2.7476403017903923,
          0.6042673282803567,
          3.255493583806179,
          1.221415067069625,
          2.517123688701977,
          2.464909029536312,
          0.8673388257662532,
          -0.7686140987192808,
          3.0529889110244306,
          -0.6420680268643029,
          0.9347891354416094,
          0.8777794609159292,
          2.046349105989559,
          -2.478672166878974,
          1.5145608835115865,
          0.534511300778501,
          3.7789056070348006,
          3.034680290373968,
          1.5282470213343935,
          1.373133559593192,
          -2.117403029641351,
          1.4268345242423963,
          -1.1146504229575784,
          -0.565720090072606,
          1.5313112943583125,
          1.690962558416011,
          0.4869303458220456,
          4.271977265015246,
          3.5921441756289716
         ]
        },
        {
         "marker": {
          "color": "red"
         },
         "mode": "markers",
         "name": "",
         "showlegend": false,
         "text": [
          "mp-552663",
          "mp-753401",
          "mp-23363",
          "mp-559961",
          "mp-17066",
          "mp-29155",
          "mp-542931",
          "mp-27316",
          "mp-6126",
          "mp-997027",
          "mp-21521",
          "mp-8673",
          "mp-23280",
          "mp-561664",
          "mp-23794",
          "mp-756570",
          "mp-27987",
          "mp-550959",
          "mp-556719",
          "mp-27914",
          "mp-29524",
          "mp-504908",
          "mp-559065",
          "mp-769218",
          "mp-570213",
          "mp-1023936",
          "mp-560588"
         ],
         "type": "scatter",
         "x": [
          0.11009703197924924,
          0.7691529019629036,
          -4.592323538872693,
          -0.32095926897028487,
          -2.5171357256722606,
          1.4074454955924198,
          -0.33440285034435596,
          -2.337580811734735,
          1.005487085967149,
          2.3185509986184103,
          2.0183066815251465,
          1.905127604190746,
          -2.258319172000336,
          -0.15139962255851527,
          -1.1747273679731742,
          2.6428457986952703,
          0.6561578872985051,
          2.0543193741250803,
          0.5136435219961208,
          -2.2312395663473907,
          -0.8201548436622684,
          -0.567853000126619,
          1.871489666744384,
          4.104456041313405,
          4.888033100161943,
          1.1181511413099128,
          3.355818208137122
         ],
         "y": [
          0.3063666737264288,
          0.5989952883549423,
          -1.7550344388081676,
          0.9696796406261832,
          0.2344295878754449,
          0.4588016985865437,
          0.2125661088896503,
          -1.9627878700503691,
          0.4322984966131432,
          1.0698017549115533,
          0.8487552724141297,
          1.2939661203115425,
          0.07157878269292084,
          0.04825466892797038,
          -1.0787974670371911,
          0.24315202017942897,
          -0.4501093038236113,
          1.4782289333973055,
          -0.7502471835539607,
          -0.578389852012693,
          -0.84819732137456,
          1.8541985390280813,
          2.1560122463367146,
          3.4404714869251776,
          4.172527372977251,
          1.1995804903759677,
          2.4909700497033485
         ]
        },
        {
         "line": {
          "color": "gray",
          "dash": "dot"
         },
         "mode": "lines",
         "showlegend": false,
         "type": "scatter",
         "x": [
          -10,
          8
         ],
         "y": [
          -10,
          8
         ]
        }
       ],
       "layout": {
        "autosize": false,
        "font": {
         "size": 20
        },
        "height": 600,
        "template": {
         "data": {
          "bar": [
           {
            "error_x": {
             "color": "rgb(36,36,36)"
            },
            "error_y": {
             "color": "rgb(36,36,36)"
            },
            "marker": {
             "line": {
              "color": "white",
              "width": 0.5
             },
             "pattern": {
              "fillmode": "overlay",
              "size": 10,
              "solidity": 0.2
             }
            },
            "type": "bar"
           }
          ],
          "barpolar": [
           {
            "marker": {
             "line": {
              "color": "white",
              "width": 0.5
             },
             "pattern": {
              "fillmode": "overlay",
              "size": 10,
              "solidity": 0.2
             }
            },
            "type": "barpolar"
           }
          ],
          "carpet": [
           {
            "aaxis": {
             "endlinecolor": "rgb(36,36,36)",
             "gridcolor": "white",
             "linecolor": "white",
             "minorgridcolor": "white",
             "startlinecolor": "rgb(36,36,36)"
            },
            "baxis": {
             "endlinecolor": "rgb(36,36,36)",
             "gridcolor": "white",
             "linecolor": "white",
             "minorgridcolor": "white",
             "startlinecolor": "rgb(36,36,36)"
            },
            "type": "carpet"
           }
          ],
          "choropleth": [
           {
            "colorbar": {
             "outlinewidth": 1,
             "tickcolor": "rgb(36,36,36)",
             "ticks": "outside"
            },
            "type": "choropleth"
           }
          ],
          "contour": [
           {
            "colorbar": {
             "outlinewidth": 1,
             "tickcolor": "rgb(36,36,36)",
             "ticks": "outside"
            },
            "colorscale": [
             [
              0,
              "#440154"
             ],
             [
              0.1111111111111111,
              "#482878"
             ],
             [
              0.2222222222222222,
              "#3e4989"
             ],
             [
              0.3333333333333333,
              "#31688e"
             ],
             [
              0.4444444444444444,
              "#26828e"
             ],
             [
              0.5555555555555556,
              "#1f9e89"
             ],
             [
              0.6666666666666666,
              "#35b779"
             ],
             [
              0.7777777777777778,
              "#6ece58"
             ],
             [
              0.8888888888888888,
              "#b5de2b"
             ],
             [
              1,
              "#fde725"
             ]
            ],
            "type": "contour"
           }
          ],
          "contourcarpet": [
           {
            "colorbar": {
             "outlinewidth": 1,
             "tickcolor": "rgb(36,36,36)",
             "ticks": "outside"
            },
            "type": "contourcarpet"
           }
          ],
          "heatmap": [
           {
            "colorbar": {
             "outlinewidth": 1,
             "tickcolor": "rgb(36,36,36)",
             "ticks": "outside"
            },
            "colorscale": [
             [
              0,
              "#440154"
             ],
             [
              0.1111111111111111,
              "#482878"
             ],
             [
              0.2222222222222222,
              "#3e4989"
             ],
             [
              0.3333333333333333,
              "#31688e"
             ],
             [
              0.4444444444444444,
              "#26828e"
             ],
             [
              0.5555555555555556,
              "#1f9e89"
             ],
             [
              0.6666666666666666,
              "#35b779"
             ],
             [
              0.7777777777777778,
              "#6ece58"
             ],
             [
              0.8888888888888888,
              "#b5de2b"
             ],
             [
              1,
              "#fde725"
             ]
            ],
            "type": "heatmap"
           }
          ],
          "heatmapgl": [
           {
            "colorbar": {
             "outlinewidth": 1,
             "tickcolor": "rgb(36,36,36)",
             "ticks": "outside"
            },
            "colorscale": [
             [
              0,
              "#440154"
             ],
             [
              0.1111111111111111,
              "#482878"
             ],
             [
              0.2222222222222222,
              "#3e4989"
             ],
             [
              0.3333333333333333,
              "#31688e"
             ],
             [
              0.4444444444444444,
              "#26828e"
             ],
             [
              0.5555555555555556,
              "#1f9e89"
             ],
             [
              0.6666666666666666,
              "#35b779"
             ],
             [
              0.7777777777777778,
              "#6ece58"
             ],
             [
              0.8888888888888888,
              "#b5de2b"
             ],
             [
              1,
              "#fde725"
             ]
            ],
            "type": "heatmapgl"
           }
          ],
          "histogram": [
           {
            "marker": {
             "line": {
              "color": "white",
              "width": 0.6
             }
            },
            "type": "histogram"
           }
          ],
          "histogram2d": [
           {
            "colorbar": {
             "outlinewidth": 1,
             "tickcolor": "rgb(36,36,36)",
             "ticks": "outside"
            },
            "colorscale": [
             [
              0,
              "#440154"
             ],
             [
              0.1111111111111111,
              "#482878"
             ],
             [
              0.2222222222222222,
              "#3e4989"
             ],
             [
              0.3333333333333333,
              "#31688e"
             ],
             [
              0.4444444444444444,
              "#26828e"
             ],
             [
              0.5555555555555556,
              "#1f9e89"
             ],
             [
              0.6666666666666666,
              "#35b779"
             ],
             [
              0.7777777777777778,
              "#6ece58"
             ],
             [
              0.8888888888888888,
              "#b5de2b"
             ],
             [
              1,
              "#fde725"
             ]
            ],
            "type": "histogram2d"
           }
          ],
          "histogram2dcontour": [
           {
            "colorbar": {
             "outlinewidth": 1,
             "tickcolor": "rgb(36,36,36)",
             "ticks": "outside"
            },
            "colorscale": [
             [
              0,
              "#440154"
             ],
             [
              0.1111111111111111,
              "#482878"
             ],
             [
              0.2222222222222222,
              "#3e4989"
             ],
             [
              0.3333333333333333,
              "#31688e"
             ],
             [
              0.4444444444444444,
              "#26828e"
             ],
             [
              0.5555555555555556,
              "#1f9e89"
             ],
             [
              0.6666666666666666,
              "#35b779"
             ],
             [
              0.7777777777777778,
              "#6ece58"
             ],
             [
              0.8888888888888888,
              "#b5de2b"
             ],
             [
              1,
              "#fde725"
             ]
            ],
            "type": "histogram2dcontour"
           }
          ],
          "mesh3d": [
           {
            "colorbar": {
             "outlinewidth": 1,
             "tickcolor": "rgb(36,36,36)",
             "ticks": "outside"
            },
            "type": "mesh3d"
           }
          ],
          "parcoords": [
           {
            "line": {
             "colorbar": {
              "outlinewidth": 1,
              "tickcolor": "rgb(36,36,36)",
              "ticks": "outside"
             }
            },
            "type": "parcoords"
           }
          ],
          "pie": [
           {
            "automargin": true,
            "type": "pie"
           }
          ],
          "scatter": [
           {
            "fillpattern": {
             "fillmode": "overlay",
             "size": 10,
             "solidity": 0.2
            },
            "type": "scatter"
           }
          ],
          "scatter3d": [
           {
            "line": {
             "colorbar": {
              "outlinewidth": 1,
              "tickcolor": "rgb(36,36,36)",
              "ticks": "outside"
             }
            },
            "marker": {
             "colorbar": {
              "outlinewidth": 1,
              "tickcolor": "rgb(36,36,36)",
              "ticks": "outside"
             }
            },
            "type": "scatter3d"
           }
          ],
          "scattercarpet": [
           {
            "marker": {
             "colorbar": {
              "outlinewidth": 1,
              "tickcolor": "rgb(36,36,36)",
              "ticks": "outside"
             }
            },
            "type": "scattercarpet"
           }
          ],
          "scattergeo": [
           {
            "marker": {
             "colorbar": {
              "outlinewidth": 1,
              "tickcolor": "rgb(36,36,36)",
              "ticks": "outside"
             }
            },
            "type": "scattergeo"
           }
          ],
          "scattergl": [
           {
            "marker": {
             "colorbar": {
              "outlinewidth": 1,
              "tickcolor": "rgb(36,36,36)",
              "ticks": "outside"
             }
            },
            "type": "scattergl"
           }
          ],
          "scattermapbox": [
           {
            "marker": {
             "colorbar": {
              "outlinewidth": 1,
              "tickcolor": "rgb(36,36,36)",
              "ticks": "outside"
             }
            },
            "type": "scattermapbox"
           }
          ],
          "scatterpolar": [
           {
            "marker": {
             "colorbar": {
              "outlinewidth": 1,
              "tickcolor": "rgb(36,36,36)",
              "ticks": "outside"
             }
            },
            "type": "scatterpolar"
           }
          ],
          "scatterpolargl": [
           {
            "marker": {
             "colorbar": {
              "outlinewidth": 1,
              "tickcolor": "rgb(36,36,36)",
              "ticks": "outside"
             }
            },
            "type": "scatterpolargl"
           }
          ],
          "scatterternary": [
           {
            "marker": {
             "colorbar": {
              "outlinewidth": 1,
              "tickcolor": "rgb(36,36,36)",
              "ticks": "outside"
             }
            },
            "type": "scatterternary"
           }
          ],
          "surface": [
           {
            "colorbar": {
             "outlinewidth": 1,
             "tickcolor": "rgb(36,36,36)",
             "ticks": "outside"
            },
            "colorscale": [
             [
              0,
              "#440154"
             ],
             [
              0.1111111111111111,
              "#482878"
             ],
             [
              0.2222222222222222,
              "#3e4989"
             ],
             [
              0.3333333333333333,
              "#31688e"
             ],
             [
              0.4444444444444444,
              "#26828e"
             ],
             [
              0.5555555555555556,
              "#1f9e89"
             ],
             [
              0.6666666666666666,
              "#35b779"
             ],
             [
              0.7777777777777778,
              "#6ece58"
             ],
             [
              0.8888888888888888,
              "#b5de2b"
             ],
             [
              1,
              "#fde725"
             ]
            ],
            "type": "surface"
           }
          ],
          "table": [
           {
            "cells": {
             "fill": {
              "color": "rgb(237,237,237)"
             },
             "line": {
              "color": "white"
             }
            },
            "header": {
             "fill": {
              "color": "rgb(217,217,217)"
             },
             "line": {
              "color": "white"
             }
            },
            "type": "table"
           }
          ]
         },
         "layout": {
          "annotationdefaults": {
           "arrowhead": 0,
           "arrowwidth": 1
          },
          "autotypenumbers": "strict",
          "coloraxis": {
           "colorbar": {
            "outlinewidth": 1,
            "tickcolor": "rgb(36,36,36)",
            "ticks": "outside"
           }
          },
          "colorscale": {
           "diverging": [
            [
             0,
             "rgb(103,0,31)"
            ],
            [
             0.1,
             "rgb(178,24,43)"
            ],
            [
             0.2,
             "rgb(214,96,77)"
            ],
            [
             0.3,
             "rgb(244,165,130)"
            ],
            [
             0.4,
             "rgb(253,219,199)"
            ],
            [
             0.5,
             "rgb(247,247,247)"
            ],
            [
             0.6,
             "rgb(209,229,240)"
            ],
            [
             0.7,
             "rgb(146,197,222)"
            ],
            [
             0.8,
             "rgb(67,147,195)"
            ],
            [
             0.9,
             "rgb(33,102,172)"
            ],
            [
             1,
             "rgb(5,48,97)"
            ]
           ],
           "sequential": [
            [
             0,
             "#440154"
            ],
            [
             0.1111111111111111,
             "#482878"
            ],
            [
             0.2222222222222222,
             "#3e4989"
            ],
            [
             0.3333333333333333,
             "#31688e"
            ],
            [
             0.4444444444444444,
             "#26828e"
            ],
            [
             0.5555555555555556,
             "#1f9e89"
            ],
            [
             0.6666666666666666,
             "#35b779"
            ],
            [
             0.7777777777777778,
             "#6ece58"
            ],
            [
             0.8888888888888888,
             "#b5de2b"
            ],
            [
             1,
             "#fde725"
            ]
           ],
           "sequentialminus": [
            [
             0,
             "#440154"
            ],
            [
             0.1111111111111111,
             "#482878"
            ],
            [
             0.2222222222222222,
             "#3e4989"
            ],
            [
             0.3333333333333333,
             "#31688e"
            ],
            [
             0.4444444444444444,
             "#26828e"
            ],
            [
             0.5555555555555556,
             "#1f9e89"
            ],
            [
             0.6666666666666666,
             "#35b779"
            ],
            [
             0.7777777777777778,
             "#6ece58"
            ],
            [
             0.8888888888888888,
             "#b5de2b"
            ],
            [
             1,
             "#fde725"
            ]
           ]
          },
          "colorway": [
           "#1F77B4",
           "#FF7F0E",
           "#2CA02C",
           "#D62728",
           "#9467BD",
           "#8C564B",
           "#E377C2",
           "#7F7F7F",
           "#BCBD22",
           "#17BECF"
          ],
          "font": {
           "color": "rgb(36,36,36)"
          },
          "geo": {
           "bgcolor": "white",
           "lakecolor": "white",
           "landcolor": "white",
           "showlakes": true,
           "showland": true,
           "subunitcolor": "white"
          },
          "hoverlabel": {
           "align": "left"
          },
          "hovermode": "closest",
          "mapbox": {
           "style": "light"
          },
          "paper_bgcolor": "white",
          "plot_bgcolor": "white",
          "polar": {
           "angularaxis": {
            "gridcolor": "rgb(232,232,232)",
            "linecolor": "rgb(36,36,36)",
            "showgrid": false,
            "showline": true,
            "ticks": "outside"
           },
           "bgcolor": "white",
           "radialaxis": {
            "gridcolor": "rgb(232,232,232)",
            "linecolor": "rgb(36,36,36)",
            "showgrid": false,
            "showline": true,
            "ticks": "outside"
           }
          },
          "scene": {
           "xaxis": {
            "backgroundcolor": "white",
            "gridcolor": "rgb(232,232,232)",
            "gridwidth": 2,
            "linecolor": "rgb(36,36,36)",
            "showbackground": true,
            "showgrid": false,
            "showline": true,
            "ticks": "outside",
            "zeroline": false,
            "zerolinecolor": "rgb(36,36,36)"
           },
           "yaxis": {
            "backgroundcolor": "white",
            "gridcolor": "rgb(232,232,232)",
            "gridwidth": 2,
            "linecolor": "rgb(36,36,36)",
            "showbackground": true,
            "showgrid": false,
            "showline": true,
            "ticks": "outside",
            "zeroline": false,
            "zerolinecolor": "rgb(36,36,36)"
           },
           "zaxis": {
            "backgroundcolor": "white",
            "gridcolor": "rgb(232,232,232)",
            "gridwidth": 2,
            "linecolor": "rgb(36,36,36)",
            "showbackground": true,
            "showgrid": false,
            "showline": true,
            "ticks": "outside",
            "zeroline": false,
            "zerolinecolor": "rgb(36,36,36)"
           }
          },
          "shapedefaults": {
           "fillcolor": "black",
           "line": {
            "width": 0
           },
           "opacity": 0.3
          },
          "ternary": {
           "aaxis": {
            "gridcolor": "rgb(232,232,232)",
            "linecolor": "rgb(36,36,36)",
            "showgrid": false,
            "showline": true,
            "ticks": "outside"
           },
           "baxis": {
            "gridcolor": "rgb(232,232,232)",
            "linecolor": "rgb(36,36,36)",
            "showgrid": false,
            "showline": true,
            "ticks": "outside"
           },
           "bgcolor": "white",
           "caxis": {
            "gridcolor": "rgb(232,232,232)",
            "linecolor": "rgb(36,36,36)",
            "showgrid": false,
            "showline": true,
            "ticks": "outside"
           }
          },
          "title": {
           "x": 0.05
          },
          "xaxis": {
           "automargin": true,
           "gridcolor": "rgb(232,232,232)",
           "linecolor": "rgb(36,36,36)",
           "showgrid": false,
           "showline": true,
           "ticks": "outside",
           "title": {
            "standoff": 15
           },
           "zeroline": false,
           "zerolinecolor": "rgb(36,36,36)"
          },
          "yaxis": {
           "automargin": true,
           "gridcolor": "rgb(232,232,232)",
           "linecolor": "rgb(36,36,36)",
           "showgrid": false,
           "showline": true,
           "ticks": "outside",
           "title": {
            "standoff": 15
           },
           "zeroline": false,
           "zerolinecolor": "rgb(36,36,36)"
          }
         }
        },
        "title": {
         "text": "modnet_distribution_125_mmf_pgnn_"
        },
        "width": 600,
        "xaxis": {
         "dtick": 2,
         "range": [
          -6.2,
          6.2
         ],
         "showgrid": false,
         "tick0": 0,
         "tickmode": "linear",
         "title": {
          "text": "ln(<i>d</i><sub>KP</sub>) (pm/V)"
         }
        },
        "yaxis": {
         "dtick": 2,
         "range": [
          -6.2,
          6.2
         ],
         "showgrid": false,
         "tick0": 0,
         "tickmode": "linear",
         "title": {
          "text": "ln(<i>d&#770;</i><sub>KP</sub>) (pm/V)"
         }
        }
       }
      }
     },
     "metadata": {},
     "output_type": "display_data"
    },
    {
     "data": {
      "application/vnd.plotly.v1+json": {
       "config": {
        "plotlyServerURL": "https://plot.ly"
       },
       "data": [
        {
         "mode": "markers",
         "name": "",
         "showlegend": false,
         "text": [
          "mp-1222661",
          "mp-1227993",
          "mp-567246",
          "mp-1184796",
          "mp-1217830",
          "mp-774907",
          "mp-672158",
          "mp-1228522",
          "mp-504910",
          "mp-568802",
          "mp-1222565",
          "mp-33723",
          "mp-1227512",
          "mp-1189731",
          "mp-28089",
          "mp-36779",
          "mp-560521",
          "mp-571195",
          "mp-1208039",
          "mp-1224376",
          "mp-1219501",
          "mp-1218158",
          "mp-17207",
          "agm003202330",
          "agm002254137",
          "agm002186848",
          "agm002224787",
          "agm002153716",
          "mp-1195571",
          "mp-998230",
          "mp-1223489",
          "mp-1029932",
          "mp-28473",
          "mp-1228745",
          "mp-1029652",
          "mp-985293",
          "mp-1019889",
          "mp-1227994",
          "agm002156258",
          "mp-559373",
          "mp-1215615",
          "mp-1219293",
          "mp-560699",
          "agm002156599",
          "mp-1078049",
          "mp-554002",
          "mp-1226863",
          "agm002848041",
          "agm002336867",
          "mp-1222496",
          "agm003160584",
          "mp-568328",
          "agm002137965",
          "agm002074655",
          "agm2000085596",
          "agm005539186",
          "agm002073755",
          "agm002149208",
          "agm002225219",
          "agm003713453",
          "agm1000019508",
          "agm2000011039",
          "agm005769288",
          "agm005112928",
          "agm001266143",
          "agm005955873",
          "agm002077911",
          "agm002097562",
          "agm2000016398",
          "agm2000145156",
          "agm002056302",
          "agm002190330",
          "mp-685097",
          "agm003464867",
          "agm003204906",
          "agm002072309",
          "agm003612680",
          "agm002128787",
          "agm2000128632",
          "agm005882580",
          "agm003743952",
          "mp-1029408",
          "agm2000084944",
          "mp-998591",
          "agm004958126",
          "agm002233061",
          "agm005605704",
          "mp-1220818",
          "mp-761842",
          "mp-14568",
          "agm004947354",
          "agm006056059",
          "mp-32959",
          "agm002091778",
          "agm004951594",
          "agm002079795",
          "agm002018585",
          "agm004786105"
         ],
         "type": "scatter",
         "x": [
          3.726647754439092,
          2.7650171525584897,
          -0.9785740520325,
          -1.9506258577615776,
          0.9457580474086552,
          0.930712906065857,
          -0.5656119968586392,
          1.8063898261803264,
          0.8313874729054991,
          3.8660055450967015,
          -0.5810982301121206,
          3.3984711512999723,
          3.306013787798052,
          -1.9297986195498888,
          1.0205797457045462,
          0.8820832081275523,
          -1.3952522508175258,
          4.630220709061966,
          -0.03989242203594581,
          3.0673285353516495,
          2.945090010904687,
          0.9855598229690008,
          2.8744963496568476,
          3.227784664463102,
          5.010152352035054,
          4.375465953109872,
          1.9564967524058423,
          -0.20522065543880316,
          -1.8765034262960585,
          1.7457670117279211,
          -1.7967384501708528,
          3.4405184224368184,
          -0.9070702941270304,
          2.186084617256394,
          1.357935550498175,
          -1.831438376179809,
          -1.765944603910963,
          0.8638553728959156,
          -0.4009194821956806,
          -0.010746393155664617,
          3.171956161985026,
          -1.221948932928841,
          -0.17101327411568193,
          0.5891447123015938,
          2.856874865027175,
          -0.6819699010937628,
          -0.8341184758980481,
          -2.4835216162509544,
          5.030326353366186,
          -1.902012413956002,
          4.508571574798542,
          4.030308396821867,
          -0.432710833898198,
          1.3144920723487423,
          -2.7007726716029277,
          2.464559324158839,
          -0.24997113715089964,
          -2.2797230750007285,
          2.674699707151309,
          1.5138593783934942,
          -1.8369011356903615,
          -1.2018782806368469,
          1.5675333828046232,
          1.535213681414796,
          3.7834741715488054,
          -0.9805353461537808,
          2.5519913843949884,
          -1.054320696076026,
          -5.144746364748553,
          -4.374698564785749,
          1.2279568365509097,
          2.7658319902778548,
          1.463168969282763,
          2.545536375253649,
          2.4312306180959693,
          1.464224222415336,
          0.23378936328834635,
          2.288341124647539,
          -2.7405701763814596,
          2.14872709843379,
          -1.964754536724552,
          2.2711819556615875,
          -2.9984723895710323,
          2.2040521524858843,
          0.8372014447917839,
          1.9687811839177107,
          3.505027619501831,
          0.5349081196696716,
          -0.30292585730254923,
          -2.8658097868306,
          2.2434879030397643,
          -2.1784232718366727,
          0.2328686129265657,
          -1.2789627598088726,
          2.048032715213161,
          0.15772498428777643,
          4.001703353515542,
          3.933836224919828
         ],
         "y": [
          2.62667238333543,
          2.634179516109465,
          -1.9366116936369449,
          0.921523557770856,
          1.7241155265758268,
          1.174610861225592,
          -0.3418129941728042,
          1.8769583803306449,
          2.356394832213147,
          2.38041123253497,
          0.03841227747188629,
          3.2945641985906704,
          2.5688651757342327,
          0.26907931763756743,
          1.0502268433561637,
          0.7042024546958542,
          0.009247806345212828,
          2.1440703350727905,
          0.012594586493652976,
          3.1381859224141913,
          2.1877802845421783,
          1.6166217140469383,
          2.225511707437637,
          2.5098123507933656,
          4.539417378568927,
          3.7951668426170535,
          2.381652217608011,
          -1.6548638410821772,
          0.41117419733764826,
          1.230346613504387,
          -0.35397833138111584,
          2.5598749440558946,
          0.8939882214368683,
          1.8085408046113776,
          0.9338293334470684,
          -1.7838924161280798,
          -0.9436935519001868,
          1.7097948476956129,
          0.7780348788019951,
          1.436050194934229,
          2.866482980628621,
          -0.8102241659048973,
          0.6906547597165362,
          1.1962648535792793,
          2.766702951320928,
          1.095049652875876,
          0.7092434101702918,
          1.1598097252310111,
          4.743820591112777,
          0.7352398787781201,
          3.434084184589795,
          2.628651667023847,
          1.793431673468954,
          0.7164118969580243,
          2.2524605371492634,
          1.3260493264571724,
          0.15459315049048283,
          0.7191480801565329,
          2.6090797390272007,
          0.6653347037746185,
          0.8033057234241516,
          0.8794870818768442,
          0.7533338332775875,
          -0.5005290783994916,
          3.73777490238388,
          0.13793308717666555,
          2.6001262645136256,
          -0.3357836316151343,
          0.0940157855272492,
          0.525719446826018,
          0.9976081115432852,
          2.444430982387306,
          1.2124787592597572,
          2.84511302361104,
          2.657542455344608,
          1.3705776139486767,
          0.6071900860265199,
          2.657873506514057,
          -0.7116172486579712,
          1.5338838381552555,
          -1.1297921675603575,
          2.124067569120575,
          0.7265091969608337,
          1.72065538777943,
          1.357971004289675,
          1.7475138670996817,
          3.9573378995714976,
          1.20761339657593,
          0.2052578635349208,
          1.2721395019698607,
          1.5494252707843643,
          0.15341987455817285,
          2.2720405099448873,
          -0.09554634340636475,
          2.275827246986268,
          1.0846378169041353,
          3.44920950062102,
          3.957818288828351
         ]
        },
        {
         "marker": {
          "color": "red"
         },
         "mode": "markers",
         "name": "",
         "showlegend": false,
         "text": [
          "mp-552663",
          "mp-753401",
          "mp-23363",
          "mp-559961",
          "mp-17066",
          "mp-29155",
          "mp-542931",
          "mp-27316",
          "mp-6126",
          "mp-997027",
          "mp-21521",
          "mp-8673",
          "mp-23280",
          "mp-561664",
          "mp-23794",
          "mp-756570",
          "mp-27987",
          "mp-550959",
          "mp-556719",
          "mp-27914",
          "mp-29524",
          "mp-504908",
          "mp-559065",
          "mp-769218",
          "mp-570213",
          "mp-1023936",
          "mp-560588"
         ],
         "type": "scatter",
         "x": [
          0.11009703197924924,
          0.7691529019629036,
          -4.592323538872693,
          -0.32095926897028487,
          -2.5171357256722606,
          1.4074454955924198,
          -0.33440285034435596,
          -2.337580811734735,
          1.005487085967149,
          2.3185509986184103,
          2.0183066815251465,
          1.905127604190746,
          -2.258319172000336,
          -0.15139962255851527,
          -1.1747273679731742,
          2.6428457986952703,
          0.6561578872985051,
          2.0543193741250803,
          0.5136435219961208,
          -2.2312395663473907,
          -0.8201548436622684,
          -0.567853000126619,
          1.871489666744384,
          4.104456041313405,
          4.888033100161943,
          1.1181511413099128,
          3.355818208137122
         ],
         "y": [
          0.9597497996722651,
          0.7730323112029197,
          -0.791283903395998,
          0.85633165223163,
          0.8514134915937054,
          -0.428923114761592,
          -0.2523541460762301,
          -0.2532228846107681,
          1.0308756794623528,
          0.7505012853485613,
          0.5527342381128554,
          1.9827641555954736,
          0.03571532376167456,
          -0.7159421292909851,
          0.02130377567069871,
          0.06276574796451281,
          0.3091019655879471,
          1.3411829088538785,
          0.7725158073162643,
          0.7763588561251742,
          0.8908264963316099,
          -0.6041650296448474,
          1.2331970243055004,
          1.0905388493365265,
          1.139572539043838,
          1.9806509226364464,
          1.2978233381506674
         ]
        },
        {
         "line": {
          "color": "gray",
          "dash": "dot"
         },
         "mode": "lines",
         "showlegend": false,
         "type": "scatter",
         "x": [
          -10,
          8
         ],
         "y": [
          -10,
          8
         ]
        }
       ],
       "layout": {
        "autosize": false,
        "font": {
         "size": 20
        },
        "height": 600,
        "template": {
         "data": {
          "bar": [
           {
            "error_x": {
             "color": "rgb(36,36,36)"
            },
            "error_y": {
             "color": "rgb(36,36,36)"
            },
            "marker": {
             "line": {
              "color": "white",
              "width": 0.5
             },
             "pattern": {
              "fillmode": "overlay",
              "size": 10,
              "solidity": 0.2
             }
            },
            "type": "bar"
           }
          ],
          "barpolar": [
           {
            "marker": {
             "line": {
              "color": "white",
              "width": 0.5
             },
             "pattern": {
              "fillmode": "overlay",
              "size": 10,
              "solidity": 0.2
             }
            },
            "type": "barpolar"
           }
          ],
          "carpet": [
           {
            "aaxis": {
             "endlinecolor": "rgb(36,36,36)",
             "gridcolor": "white",
             "linecolor": "white",
             "minorgridcolor": "white",
             "startlinecolor": "rgb(36,36,36)"
            },
            "baxis": {
             "endlinecolor": "rgb(36,36,36)",
             "gridcolor": "white",
             "linecolor": "white",
             "minorgridcolor": "white",
             "startlinecolor": "rgb(36,36,36)"
            },
            "type": "carpet"
           }
          ],
          "choropleth": [
           {
            "colorbar": {
             "outlinewidth": 1,
             "tickcolor": "rgb(36,36,36)",
             "ticks": "outside"
            },
            "type": "choropleth"
           }
          ],
          "contour": [
           {
            "colorbar": {
             "outlinewidth": 1,
             "tickcolor": "rgb(36,36,36)",
             "ticks": "outside"
            },
            "colorscale": [
             [
              0,
              "#440154"
             ],
             [
              0.1111111111111111,
              "#482878"
             ],
             [
              0.2222222222222222,
              "#3e4989"
             ],
             [
              0.3333333333333333,
              "#31688e"
             ],
             [
              0.4444444444444444,
              "#26828e"
             ],
             [
              0.5555555555555556,
              "#1f9e89"
             ],
             [
              0.6666666666666666,
              "#35b779"
             ],
             [
              0.7777777777777778,
              "#6ece58"
             ],
             [
              0.8888888888888888,
              "#b5de2b"
             ],
             [
              1,
              "#fde725"
             ]
            ],
            "type": "contour"
           }
          ],
          "contourcarpet": [
           {
            "colorbar": {
             "outlinewidth": 1,
             "tickcolor": "rgb(36,36,36)",
             "ticks": "outside"
            },
            "type": "contourcarpet"
           }
          ],
          "heatmap": [
           {
            "colorbar": {
             "outlinewidth": 1,
             "tickcolor": "rgb(36,36,36)",
             "ticks": "outside"
            },
            "colorscale": [
             [
              0,
              "#440154"
             ],
             [
              0.1111111111111111,
              "#482878"
             ],
             [
              0.2222222222222222,
              "#3e4989"
             ],
             [
              0.3333333333333333,
              "#31688e"
             ],
             [
              0.4444444444444444,
              "#26828e"
             ],
             [
              0.5555555555555556,
              "#1f9e89"
             ],
             [
              0.6666666666666666,
              "#35b779"
             ],
             [
              0.7777777777777778,
              "#6ece58"
             ],
             [
              0.8888888888888888,
              "#b5de2b"
             ],
             [
              1,
              "#fde725"
             ]
            ],
            "type": "heatmap"
           }
          ],
          "heatmapgl": [
           {
            "colorbar": {
             "outlinewidth": 1,
             "tickcolor": "rgb(36,36,36)",
             "ticks": "outside"
            },
            "colorscale": [
             [
              0,
              "#440154"
             ],
             [
              0.1111111111111111,
              "#482878"
             ],
             [
              0.2222222222222222,
              "#3e4989"
             ],
             [
              0.3333333333333333,
              "#31688e"
             ],
             [
              0.4444444444444444,
              "#26828e"
             ],
             [
              0.5555555555555556,
              "#1f9e89"
             ],
             [
              0.6666666666666666,
              "#35b779"
             ],
             [
              0.7777777777777778,
              "#6ece58"
             ],
             [
              0.8888888888888888,
              "#b5de2b"
             ],
             [
              1,
              "#fde725"
             ]
            ],
            "type": "heatmapgl"
           }
          ],
          "histogram": [
           {
            "marker": {
             "line": {
              "color": "white",
              "width": 0.6
             }
            },
            "type": "histogram"
           }
          ],
          "histogram2d": [
           {
            "colorbar": {
             "outlinewidth": 1,
             "tickcolor": "rgb(36,36,36)",
             "ticks": "outside"
            },
            "colorscale": [
             [
              0,
              "#440154"
             ],
             [
              0.1111111111111111,
              "#482878"
             ],
             [
              0.2222222222222222,
              "#3e4989"
             ],
             [
              0.3333333333333333,
              "#31688e"
             ],
             [
              0.4444444444444444,
              "#26828e"
             ],
             [
              0.5555555555555556,
              "#1f9e89"
             ],
             [
              0.6666666666666666,
              "#35b779"
             ],
             [
              0.7777777777777778,
              "#6ece58"
             ],
             [
              0.8888888888888888,
              "#b5de2b"
             ],
             [
              1,
              "#fde725"
             ]
            ],
            "type": "histogram2d"
           }
          ],
          "histogram2dcontour": [
           {
            "colorbar": {
             "outlinewidth": 1,
             "tickcolor": "rgb(36,36,36)",
             "ticks": "outside"
            },
            "colorscale": [
             [
              0,
              "#440154"
             ],
             [
              0.1111111111111111,
              "#482878"
             ],
             [
              0.2222222222222222,
              "#3e4989"
             ],
             [
              0.3333333333333333,
              "#31688e"
             ],
             [
              0.4444444444444444,
              "#26828e"
             ],
             [
              0.5555555555555556,
              "#1f9e89"
             ],
             [
              0.6666666666666666,
              "#35b779"
             ],
             [
              0.7777777777777778,
              "#6ece58"
             ],
             [
              0.8888888888888888,
              "#b5de2b"
             ],
             [
              1,
              "#fde725"
             ]
            ],
            "type": "histogram2dcontour"
           }
          ],
          "mesh3d": [
           {
            "colorbar": {
             "outlinewidth": 1,
             "tickcolor": "rgb(36,36,36)",
             "ticks": "outside"
            },
            "type": "mesh3d"
           }
          ],
          "parcoords": [
           {
            "line": {
             "colorbar": {
              "outlinewidth": 1,
              "tickcolor": "rgb(36,36,36)",
              "ticks": "outside"
             }
            },
            "type": "parcoords"
           }
          ],
          "pie": [
           {
            "automargin": true,
            "type": "pie"
           }
          ],
          "scatter": [
           {
            "fillpattern": {
             "fillmode": "overlay",
             "size": 10,
             "solidity": 0.2
            },
            "type": "scatter"
           }
          ],
          "scatter3d": [
           {
            "line": {
             "colorbar": {
              "outlinewidth": 1,
              "tickcolor": "rgb(36,36,36)",
              "ticks": "outside"
             }
            },
            "marker": {
             "colorbar": {
              "outlinewidth": 1,
              "tickcolor": "rgb(36,36,36)",
              "ticks": "outside"
             }
            },
            "type": "scatter3d"
           }
          ],
          "scattercarpet": [
           {
            "marker": {
             "colorbar": {
              "outlinewidth": 1,
              "tickcolor": "rgb(36,36,36)",
              "ticks": "outside"
             }
            },
            "type": "scattercarpet"
           }
          ],
          "scattergeo": [
           {
            "marker": {
             "colorbar": {
              "outlinewidth": 1,
              "tickcolor": "rgb(36,36,36)",
              "ticks": "outside"
             }
            },
            "type": "scattergeo"
           }
          ],
          "scattergl": [
           {
            "marker": {
             "colorbar": {
              "outlinewidth": 1,
              "tickcolor": "rgb(36,36,36)",
              "ticks": "outside"
             }
            },
            "type": "scattergl"
           }
          ],
          "scattermapbox": [
           {
            "marker": {
             "colorbar": {
              "outlinewidth": 1,
              "tickcolor": "rgb(36,36,36)",
              "ticks": "outside"
             }
            },
            "type": "scattermapbox"
           }
          ],
          "scatterpolar": [
           {
            "marker": {
             "colorbar": {
              "outlinewidth": 1,
              "tickcolor": "rgb(36,36,36)",
              "ticks": "outside"
             }
            },
            "type": "scatterpolar"
           }
          ],
          "scatterpolargl": [
           {
            "marker": {
             "colorbar": {
              "outlinewidth": 1,
              "tickcolor": "rgb(36,36,36)",
              "ticks": "outside"
             }
            },
            "type": "scatterpolargl"
           }
          ],
          "scatterternary": [
           {
            "marker": {
             "colorbar": {
              "outlinewidth": 1,
              "tickcolor": "rgb(36,36,36)",
              "ticks": "outside"
             }
            },
            "type": "scatterternary"
           }
          ],
          "surface": [
           {
            "colorbar": {
             "outlinewidth": 1,
             "tickcolor": "rgb(36,36,36)",
             "ticks": "outside"
            },
            "colorscale": [
             [
              0,
              "#440154"
             ],
             [
              0.1111111111111111,
              "#482878"
             ],
             [
              0.2222222222222222,
              "#3e4989"
             ],
             [
              0.3333333333333333,
              "#31688e"
             ],
             [
              0.4444444444444444,
              "#26828e"
             ],
             [
              0.5555555555555556,
              "#1f9e89"
             ],
             [
              0.6666666666666666,
              "#35b779"
             ],
             [
              0.7777777777777778,
              "#6ece58"
             ],
             [
              0.8888888888888888,
              "#b5de2b"
             ],
             [
              1,
              "#fde725"
             ]
            ],
            "type": "surface"
           }
          ],
          "table": [
           {
            "cells": {
             "fill": {
              "color": "rgb(237,237,237)"
             },
             "line": {
              "color": "white"
             }
            },
            "header": {
             "fill": {
              "color": "rgb(217,217,217)"
             },
             "line": {
              "color": "white"
             }
            },
            "type": "table"
           }
          ]
         },
         "layout": {
          "annotationdefaults": {
           "arrowhead": 0,
           "arrowwidth": 1
          },
          "autotypenumbers": "strict",
          "coloraxis": {
           "colorbar": {
            "outlinewidth": 1,
            "tickcolor": "rgb(36,36,36)",
            "ticks": "outside"
           }
          },
          "colorscale": {
           "diverging": [
            [
             0,
             "rgb(103,0,31)"
            ],
            [
             0.1,
             "rgb(178,24,43)"
            ],
            [
             0.2,
             "rgb(214,96,77)"
            ],
            [
             0.3,
             "rgb(244,165,130)"
            ],
            [
             0.4,
             "rgb(253,219,199)"
            ],
            [
             0.5,
             "rgb(247,247,247)"
            ],
            [
             0.6,
             "rgb(209,229,240)"
            ],
            [
             0.7,
             "rgb(146,197,222)"
            ],
            [
             0.8,
             "rgb(67,147,195)"
            ],
            [
             0.9,
             "rgb(33,102,172)"
            ],
            [
             1,
             "rgb(5,48,97)"
            ]
           ],
           "sequential": [
            [
             0,
             "#440154"
            ],
            [
             0.1111111111111111,
             "#482878"
            ],
            [
             0.2222222222222222,
             "#3e4989"
            ],
            [
             0.3333333333333333,
             "#31688e"
            ],
            [
             0.4444444444444444,
             "#26828e"
            ],
            [
             0.5555555555555556,
             "#1f9e89"
            ],
            [
             0.6666666666666666,
             "#35b779"
            ],
            [
             0.7777777777777778,
             "#6ece58"
            ],
            [
             0.8888888888888888,
             "#b5de2b"
            ],
            [
             1,
             "#fde725"
            ]
           ],
           "sequentialminus": [
            [
             0,
             "#440154"
            ],
            [
             0.1111111111111111,
             "#482878"
            ],
            [
             0.2222222222222222,
             "#3e4989"
            ],
            [
             0.3333333333333333,
             "#31688e"
            ],
            [
             0.4444444444444444,
             "#26828e"
            ],
            [
             0.5555555555555556,
             "#1f9e89"
            ],
            [
             0.6666666666666666,
             "#35b779"
            ],
            [
             0.7777777777777778,
             "#6ece58"
            ],
            [
             0.8888888888888888,
             "#b5de2b"
            ],
            [
             1,
             "#fde725"
            ]
           ]
          },
          "colorway": [
           "#1F77B4",
           "#FF7F0E",
           "#2CA02C",
           "#D62728",
           "#9467BD",
           "#8C564B",
           "#E377C2",
           "#7F7F7F",
           "#BCBD22",
           "#17BECF"
          ],
          "font": {
           "color": "rgb(36,36,36)"
          },
          "geo": {
           "bgcolor": "white",
           "lakecolor": "white",
           "landcolor": "white",
           "showlakes": true,
           "showland": true,
           "subunitcolor": "white"
          },
          "hoverlabel": {
           "align": "left"
          },
          "hovermode": "closest",
          "mapbox": {
           "style": "light"
          },
          "paper_bgcolor": "white",
          "plot_bgcolor": "white",
          "polar": {
           "angularaxis": {
            "gridcolor": "rgb(232,232,232)",
            "linecolor": "rgb(36,36,36)",
            "showgrid": false,
            "showline": true,
            "ticks": "outside"
           },
           "bgcolor": "white",
           "radialaxis": {
            "gridcolor": "rgb(232,232,232)",
            "linecolor": "rgb(36,36,36)",
            "showgrid": false,
            "showline": true,
            "ticks": "outside"
           }
          },
          "scene": {
           "xaxis": {
            "backgroundcolor": "white",
            "gridcolor": "rgb(232,232,232)",
            "gridwidth": 2,
            "linecolor": "rgb(36,36,36)",
            "showbackground": true,
            "showgrid": false,
            "showline": true,
            "ticks": "outside",
            "zeroline": false,
            "zerolinecolor": "rgb(36,36,36)"
           },
           "yaxis": {
            "backgroundcolor": "white",
            "gridcolor": "rgb(232,232,232)",
            "gridwidth": 2,
            "linecolor": "rgb(36,36,36)",
            "showbackground": true,
            "showgrid": false,
            "showline": true,
            "ticks": "outside",
            "zeroline": false,
            "zerolinecolor": "rgb(36,36,36)"
           },
           "zaxis": {
            "backgroundcolor": "white",
            "gridcolor": "rgb(232,232,232)",
            "gridwidth": 2,
            "linecolor": "rgb(36,36,36)",
            "showbackground": true,
            "showgrid": false,
            "showline": true,
            "ticks": "outside",
            "zeroline": false,
            "zerolinecolor": "rgb(36,36,36)"
           }
          },
          "shapedefaults": {
           "fillcolor": "black",
           "line": {
            "width": 0
           },
           "opacity": 0.3
          },
          "ternary": {
           "aaxis": {
            "gridcolor": "rgb(232,232,232)",
            "linecolor": "rgb(36,36,36)",
            "showgrid": false,
            "showline": true,
            "ticks": "outside"
           },
           "baxis": {
            "gridcolor": "rgb(232,232,232)",
            "linecolor": "rgb(36,36,36)",
            "showgrid": false,
            "showline": true,
            "ticks": "outside"
           },
           "bgcolor": "white",
           "caxis": {
            "gridcolor": "rgb(232,232,232)",
            "linecolor": "rgb(36,36,36)",
            "showgrid": false,
            "showline": true,
            "ticks": "outside"
           }
          },
          "title": {
           "x": 0.05
          },
          "xaxis": {
           "automargin": true,
           "gridcolor": "rgb(232,232,232)",
           "linecolor": "rgb(36,36,36)",
           "showgrid": false,
           "showline": true,
           "ticks": "outside",
           "title": {
            "standoff": 15
           },
           "zeroline": false,
           "zerolinecolor": "rgb(36,36,36)"
          },
          "yaxis": {
           "automargin": true,
           "gridcolor": "rgb(232,232,232)",
           "linecolor": "rgb(36,36,36)",
           "showgrid": false,
           "showline": true,
           "ticks": "outside",
           "title": {
            "standoff": 15
           },
           "zeroline": false,
           "zerolinecolor": "rgb(36,36,36)"
          }
         }
        },
        "title": {
         "text": "matten_distribution_125_"
        },
        "width": 600,
        "xaxis": {
         "dtick": 2,
         "range": [
          -6.2,
          6.2
         ],
         "showgrid": false,
         "tick0": 0,
         "tickmode": "linear",
         "title": {
          "text": "ln(<i>d</i><sub>KP</sub>) (pm/V)"
         }
        },
        "yaxis": {
         "dtick": 2,
         "range": [
          -6.2,
          6.2
         ],
         "showgrid": false,
         "tick0": 0,
         "tickmode": "linear",
         "title": {
          "text": "ln(<i>d&#770;</i><sub>KP</sub>) (pm/V)"
         }
        }
       }
      }
     },
     "metadata": {},
     "output_type": "display_data"
    },
    {
     "data": {
      "application/vnd.plotly.v1+json": {
       "config": {
        "plotlyServerURL": "https://plot.ly"
       },
       "data": [
        {
         "mode": "markers",
         "name": "",
         "showlegend": false,
         "text": [
          "mp-1222661",
          "mp-1227993",
          "mp-567246",
          "mp-1184796",
          "mp-1217830",
          "mp-774907",
          "mp-672158",
          "mp-1228522",
          "mp-504910",
          "mp-568802",
          "mp-1222565",
          "mp-33723",
          "mp-1227512",
          "mp-1189731",
          "mp-28089",
          "mp-36779",
          "mp-560521",
          "mp-571195",
          "mp-1208039",
          "mp-1224376",
          "mp-1219501",
          "mp-1218158",
          "mp-17207",
          "agm003202330",
          "agm002254137",
          "agm002186848",
          "agm002224787",
          "agm002153716",
          "mp-1195571",
          "mp-998230",
          "mp-1223489",
          "mp-1029932",
          "mp-28473",
          "mp-1228745",
          "mp-1029652",
          "mp-985293",
          "mp-1019889",
          "mp-1227994",
          "agm002156258",
          "mp-559373",
          "mp-1215615",
          "mp-1219293",
          "mp-560699",
          "agm002156599",
          "mp-1078049",
          "mp-554002",
          "mp-1226863",
          "agm002848041",
          "agm002336867",
          "mp-1222496",
          "agm003160584",
          "mp-568328",
          "agm002137965",
          "agm002074655",
          "agm2000085596",
          "agm005539186",
          "agm002073755",
          "agm002149208",
          "agm002225219",
          "agm003713453",
          "agm1000019508",
          "agm2000011039",
          "agm005769288",
          "agm005112928",
          "agm001266143",
          "agm005955873",
          "agm002077911",
          "agm002097562",
          "agm2000016398",
          "agm2000145156",
          "agm002056302",
          "agm002190330",
          "mp-685097",
          "agm003464867",
          "agm003204906",
          "agm002072309",
          "agm003612680",
          "agm002128787",
          "agm2000128632",
          "agm005882580",
          "agm003743952",
          "mp-1029408",
          "agm2000084944",
          "mp-998591",
          "agm004958126",
          "agm002233061",
          "agm005605704",
          "mp-1220818",
          "mp-761842",
          "mp-14568",
          "agm004947354",
          "agm006056059",
          "mp-32959",
          "agm002091778",
          "agm004951594",
          "agm002079795",
          "agm002018585",
          "agm004786105"
         ],
         "type": "scatter",
         "x": [
          3.726647754439092,
          2.7650171525584897,
          -0.9785740520325,
          -1.9506258577615776,
          0.9457580474086552,
          0.930712906065857,
          -0.5656119968586392,
          1.8063898261803264,
          0.8313874729054991,
          3.8660055450967015,
          -0.5810982301121206,
          3.3984711512999723,
          3.306013787798052,
          -1.9297986195498888,
          1.0205797457045462,
          0.8820832081275523,
          -1.3952522508175258,
          4.630220709061966,
          -0.03989242203594581,
          3.0673285353516495,
          2.945090010904687,
          0.9855598229690008,
          2.8744963496568476,
          3.227784664463102,
          5.010152352035054,
          4.375465953109872,
          1.9564967524058423,
          -0.20522065543880316,
          -1.8765034262960585,
          1.7457670117279211,
          -1.7967384501708528,
          3.4405184224368184,
          -0.9070702941270304,
          2.186084617256394,
          1.357935550498175,
          -1.831438376179809,
          -1.765944603910963,
          0.8638553728959156,
          -0.4009194821956806,
          -0.010746393155664617,
          3.171956161985026,
          -1.221948932928841,
          -0.17101327411568193,
          0.5891447123015938,
          2.856874865027175,
          -0.6819699010937628,
          -0.8341184758980481,
          -2.4835216162509544,
          5.030326353366186,
          -1.902012413956002,
          4.508571574798542,
          4.030308396821867,
          -0.432710833898198,
          1.3144920723487423,
          -2.7007726716029277,
          2.464559324158839,
          -0.24997113715089964,
          -2.2797230750007285,
          2.674699707151309,
          1.5138593783934942,
          -1.8369011356903615,
          -1.2018782806368469,
          1.5675333828046232,
          1.535213681414796,
          3.7834741715488054,
          -0.9805353461537808,
          2.5519913843949884,
          -1.054320696076026,
          -5.144746364748553,
          -4.374698564785749,
          1.2279568365509097,
          2.7658319902778548,
          1.463168969282763,
          2.545536375253649,
          2.4312306180959693,
          1.464224222415336,
          0.23378936328834635,
          2.288341124647539,
          -2.7405701763814596,
          2.14872709843379,
          -1.964754536724552,
          2.2711819556615875,
          -2.9984723895710323,
          2.2040521524858843,
          0.8372014447917839,
          1.9687811839177107,
          3.505027619501831,
          0.5349081196696716,
          -0.30292585730254923,
          -2.8658097868306,
          2.2434879030397643,
          -2.1784232718366727,
          0.2328686129265657,
          -1.2789627598088726,
          2.048032715213161,
          0.15772498428777643,
          4.001703353515542,
          3.933836224919828
         ],
         "y": [
          3.959923840807692,
          2.575331698788946,
          2.1610586993056997,
          -2.1685230376197975,
          1.2861296769558883,
          1.3952650342424566,
          1.3047414134090054,
          1.880640173830719,
          0.519980113121985,
          4.016020043144121,
          -1.1287711842287222,
          3.875983676496549,
          4.486912613394681,
          1.103384434742654,
          2.3924781483334856,
          0.5670261734333224,
          -1.6870802043982336,
          4.215042859345375,
          0.3539824496127353,
          3.2395086642750233,
          2.4554946541361233,
          1.1139197348483545,
          2.975160504031909,
          4.290039422717018,
          4.78584033265239,
          4.378901716304814,
          2.5780937213093043,
          0.4120324318045118,
          -0.8996265966957402,
          1.7783392003714067,
          -1.7471442192983762,
          2.9854774644367374,
          -0.6086941157673368,
          2.84839335651781,
          1.2839492367742842,
          -0.8719154683120993,
          -1.0878939524762703,
          0.21915257717852343,
          -0.835949165324751,
          1.4736405310203595,
          2.953182378273171,
          -1.464173348731443,
          1.358999418116431,
          0.149662269556989,
          2.844569374396664,
          -1.030421635921534,
          0.07526278371581885,
          -0.3955010364132739,
          4.802840481038637,
          0.8439501454553752,
          3.818517699155129,
          4.745836101449914,
          -0.7051476360183608,
          0.35075254004718165,
          0.02734574743474786,
          2.737128890553408,
          -0.7010664145626184,
          -1.2469309889031712,
          2.6277386588916376,
          0.972840325471935,
          -0.1751129564077483,
          -0.0418790677056895,
          1.5934622463370676,
          1.7198068363486545,
          3.975659086637095,
          -0.7638689479367018,
          2.6129972386825933,
          -1.0806151090832328,
          -3.627891982984017,
          -3.302932342029828,
          0.489014190485118,
          4.030251430707629,
          1.039531159225899,
          2.690840777606028,
          2.443148961161349,
          1.0509014468538025,
          -0.9861469884293486,
          3.273659952185853,
          -1.0017803199307092,
          0.9007268197005844,
          0.8073040316628213,
          2.2912281985954226,
          -2.291224316937663,
          2.0625302370991725,
          0.8509058036442558,
          3.857761169036951,
          3.0974934084392425,
          1.3168741650214553,
          1.0365269970844908,
          -1.9202752473291664,
          2.1724940819651803,
          -0.9745340371507232,
          -0.6289908950956803,
          0.8208583216996123,
          2.0861178140922356,
          0.4273710664470914,
          3.9453924204066735,
          3.762138534337814
         ]
        },
        {
         "marker": {
          "color": "red"
         },
         "mode": "markers",
         "name": "",
         "showlegend": false,
         "text": [
          "mp-552663",
          "mp-753401",
          "mp-23363",
          "mp-559961",
          "mp-17066",
          "mp-29155",
          "mp-542931",
          "mp-27316",
          "mp-6126",
          "mp-997027",
          "mp-21521",
          "mp-8673",
          "mp-23280",
          "mp-561664",
          "mp-23794",
          "mp-756570",
          "mp-27987",
          "mp-550959",
          "mp-556719",
          "mp-27914",
          "mp-29524",
          "mp-504908",
          "mp-559065",
          "mp-769218",
          "mp-570213",
          "mp-1023936",
          "mp-560588"
         ],
         "type": "scatter",
         "x": [
          0.11009703197924924,
          0.7691529019629036,
          -4.592323538872693,
          -0.32095926897028487,
          -2.5171357256722606,
          1.4074454955924198,
          -0.33440285034435596,
          -2.337580811734735,
          1.005487085967149,
          2.3185509986184103,
          2.0183066815251465,
          1.905127604190746,
          -2.258319172000336,
          -0.15139962255851527,
          -1.1747273679731742,
          2.6428457986952703,
          0.6561578872985051,
          2.0543193741250803,
          0.5136435219961208,
          -2.2312395663473907,
          -0.8201548436622684,
          -0.567853000126619,
          1.871489666744384,
          4.104456041313405,
          4.888033100161943,
          1.1181511413099128,
          3.355818208137122
         ],
         "y": [
          0.6637566894582714,
          0.9578452766174812,
          -1.7946680505787176,
          0.7033669258814407,
          -0.00999939263979248,
          0.7844087611989012,
          0.4852100049750572,
          -3.4046621451583716,
          0.7973858442041837,
          1.416635213002371,
          0.7622759731884317,
          1.3226534167760489,
          0.7091858687181545,
          0.4830203295978041,
          -0.8773558116734232,
          0.8914283341534832,
          -0.5017092101053101,
          2.0522441714690185,
          0.19651752276057097,
          0.8562659343233386,
          -0.54187282796124,
          1.318367997122158,
          2.5750208419197644,
          3.7794761482183343,
          4.1159783866247865,
          1.4678935005218583,
          2.734151831913547
         ]
        },
        {
         "line": {
          "color": "gray",
          "dash": "dot"
         },
         "mode": "lines",
         "showlegend": false,
         "type": "scatter",
         "x": [
          -10,
          8
         ],
         "y": [
          -10,
          8
         ]
        }
       ],
       "layout": {
        "autosize": false,
        "font": {
         "size": 20
        },
        "height": 600,
        "template": {
         "data": {
          "bar": [
           {
            "error_x": {
             "color": "rgb(36,36,36)"
            },
            "error_y": {
             "color": "rgb(36,36,36)"
            },
            "marker": {
             "line": {
              "color": "white",
              "width": 0.5
             },
             "pattern": {
              "fillmode": "overlay",
              "size": 10,
              "solidity": 0.2
             }
            },
            "type": "bar"
           }
          ],
          "barpolar": [
           {
            "marker": {
             "line": {
              "color": "white",
              "width": 0.5
             },
             "pattern": {
              "fillmode": "overlay",
              "size": 10,
              "solidity": 0.2
             }
            },
            "type": "barpolar"
           }
          ],
          "carpet": [
           {
            "aaxis": {
             "endlinecolor": "rgb(36,36,36)",
             "gridcolor": "white",
             "linecolor": "white",
             "minorgridcolor": "white",
             "startlinecolor": "rgb(36,36,36)"
            },
            "baxis": {
             "endlinecolor": "rgb(36,36,36)",
             "gridcolor": "white",
             "linecolor": "white",
             "minorgridcolor": "white",
             "startlinecolor": "rgb(36,36,36)"
            },
            "type": "carpet"
           }
          ],
          "choropleth": [
           {
            "colorbar": {
             "outlinewidth": 1,
             "tickcolor": "rgb(36,36,36)",
             "ticks": "outside"
            },
            "type": "choropleth"
           }
          ],
          "contour": [
           {
            "colorbar": {
             "outlinewidth": 1,
             "tickcolor": "rgb(36,36,36)",
             "ticks": "outside"
            },
            "colorscale": [
             [
              0,
              "#440154"
             ],
             [
              0.1111111111111111,
              "#482878"
             ],
             [
              0.2222222222222222,
              "#3e4989"
             ],
             [
              0.3333333333333333,
              "#31688e"
             ],
             [
              0.4444444444444444,
              "#26828e"
             ],
             [
              0.5555555555555556,
              "#1f9e89"
             ],
             [
              0.6666666666666666,
              "#35b779"
             ],
             [
              0.7777777777777778,
              "#6ece58"
             ],
             [
              0.8888888888888888,
              "#b5de2b"
             ],
             [
              1,
              "#fde725"
             ]
            ],
            "type": "contour"
           }
          ],
          "contourcarpet": [
           {
            "colorbar": {
             "outlinewidth": 1,
             "tickcolor": "rgb(36,36,36)",
             "ticks": "outside"
            },
            "type": "contourcarpet"
           }
          ],
          "heatmap": [
           {
            "colorbar": {
             "outlinewidth": 1,
             "tickcolor": "rgb(36,36,36)",
             "ticks": "outside"
            },
            "colorscale": [
             [
              0,
              "#440154"
             ],
             [
              0.1111111111111111,
              "#482878"
             ],
             [
              0.2222222222222222,
              "#3e4989"
             ],
             [
              0.3333333333333333,
              "#31688e"
             ],
             [
              0.4444444444444444,
              "#26828e"
             ],
             [
              0.5555555555555556,
              "#1f9e89"
             ],
             [
              0.6666666666666666,
              "#35b779"
             ],
             [
              0.7777777777777778,
              "#6ece58"
             ],
             [
              0.8888888888888888,
              "#b5de2b"
             ],
             [
              1,
              "#fde725"
             ]
            ],
            "type": "heatmap"
           }
          ],
          "heatmapgl": [
           {
            "colorbar": {
             "outlinewidth": 1,
             "tickcolor": "rgb(36,36,36)",
             "ticks": "outside"
            },
            "colorscale": [
             [
              0,
              "#440154"
             ],
             [
              0.1111111111111111,
              "#482878"
             ],
             [
              0.2222222222222222,
              "#3e4989"
             ],
             [
              0.3333333333333333,
              "#31688e"
             ],
             [
              0.4444444444444444,
              "#26828e"
             ],
             [
              0.5555555555555556,
              "#1f9e89"
             ],
             [
              0.6666666666666666,
              "#35b779"
             ],
             [
              0.7777777777777778,
              "#6ece58"
             ],
             [
              0.8888888888888888,
              "#b5de2b"
             ],
             [
              1,
              "#fde725"
             ]
            ],
            "type": "heatmapgl"
           }
          ],
          "histogram": [
           {
            "marker": {
             "line": {
              "color": "white",
              "width": 0.6
             }
            },
            "type": "histogram"
           }
          ],
          "histogram2d": [
           {
            "colorbar": {
             "outlinewidth": 1,
             "tickcolor": "rgb(36,36,36)",
             "ticks": "outside"
            },
            "colorscale": [
             [
              0,
              "#440154"
             ],
             [
              0.1111111111111111,
              "#482878"
             ],
             [
              0.2222222222222222,
              "#3e4989"
             ],
             [
              0.3333333333333333,
              "#31688e"
             ],
             [
              0.4444444444444444,
              "#26828e"
             ],
             [
              0.5555555555555556,
              "#1f9e89"
             ],
             [
              0.6666666666666666,
              "#35b779"
             ],
             [
              0.7777777777777778,
              "#6ece58"
             ],
             [
              0.8888888888888888,
              "#b5de2b"
             ],
             [
              1,
              "#fde725"
             ]
            ],
            "type": "histogram2d"
           }
          ],
          "histogram2dcontour": [
           {
            "colorbar": {
             "outlinewidth": 1,
             "tickcolor": "rgb(36,36,36)",
             "ticks": "outside"
            },
            "colorscale": [
             [
              0,
              "#440154"
             ],
             [
              0.1111111111111111,
              "#482878"
             ],
             [
              0.2222222222222222,
              "#3e4989"
             ],
             [
              0.3333333333333333,
              "#31688e"
             ],
             [
              0.4444444444444444,
              "#26828e"
             ],
             [
              0.5555555555555556,
              "#1f9e89"
             ],
             [
              0.6666666666666666,
              "#35b779"
             ],
             [
              0.7777777777777778,
              "#6ece58"
             ],
             [
              0.8888888888888888,
              "#b5de2b"
             ],
             [
              1,
              "#fde725"
             ]
            ],
            "type": "histogram2dcontour"
           }
          ],
          "mesh3d": [
           {
            "colorbar": {
             "outlinewidth": 1,
             "tickcolor": "rgb(36,36,36)",
             "ticks": "outside"
            },
            "type": "mesh3d"
           }
          ],
          "parcoords": [
           {
            "line": {
             "colorbar": {
              "outlinewidth": 1,
              "tickcolor": "rgb(36,36,36)",
              "ticks": "outside"
             }
            },
            "type": "parcoords"
           }
          ],
          "pie": [
           {
            "automargin": true,
            "type": "pie"
           }
          ],
          "scatter": [
           {
            "fillpattern": {
             "fillmode": "overlay",
             "size": 10,
             "solidity": 0.2
            },
            "type": "scatter"
           }
          ],
          "scatter3d": [
           {
            "line": {
             "colorbar": {
              "outlinewidth": 1,
              "tickcolor": "rgb(36,36,36)",
              "ticks": "outside"
             }
            },
            "marker": {
             "colorbar": {
              "outlinewidth": 1,
              "tickcolor": "rgb(36,36,36)",
              "ticks": "outside"
             }
            },
            "type": "scatter3d"
           }
          ],
          "scattercarpet": [
           {
            "marker": {
             "colorbar": {
              "outlinewidth": 1,
              "tickcolor": "rgb(36,36,36)",
              "ticks": "outside"
             }
            },
            "type": "scattercarpet"
           }
          ],
          "scattergeo": [
           {
            "marker": {
             "colorbar": {
              "outlinewidth": 1,
              "tickcolor": "rgb(36,36,36)",
              "ticks": "outside"
             }
            },
            "type": "scattergeo"
           }
          ],
          "scattergl": [
           {
            "marker": {
             "colorbar": {
              "outlinewidth": 1,
              "tickcolor": "rgb(36,36,36)",
              "ticks": "outside"
             }
            },
            "type": "scattergl"
           }
          ],
          "scattermapbox": [
           {
            "marker": {
             "colorbar": {
              "outlinewidth": 1,
              "tickcolor": "rgb(36,36,36)",
              "ticks": "outside"
             }
            },
            "type": "scattermapbox"
           }
          ],
          "scatterpolar": [
           {
            "marker": {
             "colorbar": {
              "outlinewidth": 1,
              "tickcolor": "rgb(36,36,36)",
              "ticks": "outside"
             }
            },
            "type": "scatterpolar"
           }
          ],
          "scatterpolargl": [
           {
            "marker": {
             "colorbar": {
              "outlinewidth": 1,
              "tickcolor": "rgb(36,36,36)",
              "ticks": "outside"
             }
            },
            "type": "scatterpolargl"
           }
          ],
          "scatterternary": [
           {
            "marker": {
             "colorbar": {
              "outlinewidth": 1,
              "tickcolor": "rgb(36,36,36)",
              "ticks": "outside"
             }
            },
            "type": "scatterternary"
           }
          ],
          "surface": [
           {
            "colorbar": {
             "outlinewidth": 1,
             "tickcolor": "rgb(36,36,36)",
             "ticks": "outside"
            },
            "colorscale": [
             [
              0,
              "#440154"
             ],
             [
              0.1111111111111111,
              "#482878"
             ],
             [
              0.2222222222222222,
              "#3e4989"
             ],
             [
              0.3333333333333333,
              "#31688e"
             ],
             [
              0.4444444444444444,
              "#26828e"
             ],
             [
              0.5555555555555556,
              "#1f9e89"
             ],
             [
              0.6666666666666666,
              "#35b779"
             ],
             [
              0.7777777777777778,
              "#6ece58"
             ],
             [
              0.8888888888888888,
              "#b5de2b"
             ],
             [
              1,
              "#fde725"
             ]
            ],
            "type": "surface"
           }
          ],
          "table": [
           {
            "cells": {
             "fill": {
              "color": "rgb(237,237,237)"
             },
             "line": {
              "color": "white"
             }
            },
            "header": {
             "fill": {
              "color": "rgb(217,217,217)"
             },
             "line": {
              "color": "white"
             }
            },
            "type": "table"
           }
          ]
         },
         "layout": {
          "annotationdefaults": {
           "arrowhead": 0,
           "arrowwidth": 1
          },
          "autotypenumbers": "strict",
          "coloraxis": {
           "colorbar": {
            "outlinewidth": 1,
            "tickcolor": "rgb(36,36,36)",
            "ticks": "outside"
           }
          },
          "colorscale": {
           "diverging": [
            [
             0,
             "rgb(103,0,31)"
            ],
            [
             0.1,
             "rgb(178,24,43)"
            ],
            [
             0.2,
             "rgb(214,96,77)"
            ],
            [
             0.3,
             "rgb(244,165,130)"
            ],
            [
             0.4,
             "rgb(253,219,199)"
            ],
            [
             0.5,
             "rgb(247,247,247)"
            ],
            [
             0.6,
             "rgb(209,229,240)"
            ],
            [
             0.7,
             "rgb(146,197,222)"
            ],
            [
             0.8,
             "rgb(67,147,195)"
            ],
            [
             0.9,
             "rgb(33,102,172)"
            ],
            [
             1,
             "rgb(5,48,97)"
            ]
           ],
           "sequential": [
            [
             0,
             "#440154"
            ],
            [
             0.1111111111111111,
             "#482878"
            ],
            [
             0.2222222222222222,
             "#3e4989"
            ],
            [
             0.3333333333333333,
             "#31688e"
            ],
            [
             0.4444444444444444,
             "#26828e"
            ],
            [
             0.5555555555555556,
             "#1f9e89"
            ],
            [
             0.6666666666666666,
             "#35b779"
            ],
            [
             0.7777777777777778,
             "#6ece58"
            ],
            [
             0.8888888888888888,
             "#b5de2b"
            ],
            [
             1,
             "#fde725"
            ]
           ],
           "sequentialminus": [
            [
             0,
             "#440154"
            ],
            [
             0.1111111111111111,
             "#482878"
            ],
            [
             0.2222222222222222,
             "#3e4989"
            ],
            [
             0.3333333333333333,
             "#31688e"
            ],
            [
             0.4444444444444444,
             "#26828e"
            ],
            [
             0.5555555555555556,
             "#1f9e89"
            ],
            [
             0.6666666666666666,
             "#35b779"
            ],
            [
             0.7777777777777778,
             "#6ece58"
            ],
            [
             0.8888888888888888,
             "#b5de2b"
            ],
            [
             1,
             "#fde725"
            ]
           ]
          },
          "colorway": [
           "#1F77B4",
           "#FF7F0E",
           "#2CA02C",
           "#D62728",
           "#9467BD",
           "#8C564B",
           "#E377C2",
           "#7F7F7F",
           "#BCBD22",
           "#17BECF"
          ],
          "font": {
           "color": "rgb(36,36,36)"
          },
          "geo": {
           "bgcolor": "white",
           "lakecolor": "white",
           "landcolor": "white",
           "showlakes": true,
           "showland": true,
           "subunitcolor": "white"
          },
          "hoverlabel": {
           "align": "left"
          },
          "hovermode": "closest",
          "mapbox": {
           "style": "light"
          },
          "paper_bgcolor": "white",
          "plot_bgcolor": "white",
          "polar": {
           "angularaxis": {
            "gridcolor": "rgb(232,232,232)",
            "linecolor": "rgb(36,36,36)",
            "showgrid": false,
            "showline": true,
            "ticks": "outside"
           },
           "bgcolor": "white",
           "radialaxis": {
            "gridcolor": "rgb(232,232,232)",
            "linecolor": "rgb(36,36,36)",
            "showgrid": false,
            "showline": true,
            "ticks": "outside"
           }
          },
          "scene": {
           "xaxis": {
            "backgroundcolor": "white",
            "gridcolor": "rgb(232,232,232)",
            "gridwidth": 2,
            "linecolor": "rgb(36,36,36)",
            "showbackground": true,
            "showgrid": false,
            "showline": true,
            "ticks": "outside",
            "zeroline": false,
            "zerolinecolor": "rgb(36,36,36)"
           },
           "yaxis": {
            "backgroundcolor": "white",
            "gridcolor": "rgb(232,232,232)",
            "gridwidth": 2,
            "linecolor": "rgb(36,36,36)",
            "showbackground": true,
            "showgrid": false,
            "showline": true,
            "ticks": "outside",
            "zeroline": false,
            "zerolinecolor": "rgb(36,36,36)"
           },
           "zaxis": {
            "backgroundcolor": "white",
            "gridcolor": "rgb(232,232,232)",
            "gridwidth": 2,
            "linecolor": "rgb(36,36,36)",
            "showbackground": true,
            "showgrid": false,
            "showline": true,
            "ticks": "outside",
            "zeroline": false,
            "zerolinecolor": "rgb(36,36,36)"
           }
          },
          "shapedefaults": {
           "fillcolor": "black",
           "line": {
            "width": 0
           },
           "opacity": 0.3
          },
          "ternary": {
           "aaxis": {
            "gridcolor": "rgb(232,232,232)",
            "linecolor": "rgb(36,36,36)",
            "showgrid": false,
            "showline": true,
            "ticks": "outside"
           },
           "baxis": {
            "gridcolor": "rgb(232,232,232)",
            "linecolor": "rgb(36,36,36)",
            "showgrid": false,
            "showline": true,
            "ticks": "outside"
           },
           "bgcolor": "white",
           "caxis": {
            "gridcolor": "rgb(232,232,232)",
            "linecolor": "rgb(36,36,36)",
            "showgrid": false,
            "showline": true,
            "ticks": "outside"
           }
          },
          "title": {
           "x": 0.05
          },
          "xaxis": {
           "automargin": true,
           "gridcolor": "rgb(232,232,232)",
           "linecolor": "rgb(36,36,36)",
           "showgrid": false,
           "showline": true,
           "ticks": "outside",
           "title": {
            "standoff": 15
           },
           "zeroline": false,
           "zerolinecolor": "rgb(36,36,36)"
          },
          "yaxis": {
           "automargin": true,
           "gridcolor": "rgb(232,232,232)",
           "linecolor": "rgb(36,36,36)",
           "showgrid": false,
           "showline": true,
           "ticks": "outside",
           "title": {
            "standoff": 15
           },
           "zeroline": false,
           "zerolinecolor": "rgb(36,36,36)"
          }
         }
        },
        "title": {
         "text": "modnet_nan_distribution_125_mmf_pgnn_"
        },
        "width": 600,
        "xaxis": {
         "dtick": 2,
         "range": [
          -6.2,
          6.2
         ],
         "showgrid": false,
         "tick0": 0,
         "tickmode": "linear",
         "title": {
          "text": "ln(<i>d</i><sub>KP</sub>) (pm/V)"
         }
        },
        "yaxis": {
         "dtick": 2,
         "range": [
          -6.2,
          6.2
         ],
         "showgrid": false,
         "tick0": 0,
         "tickmode": "linear",
         "title": {
          "text": "ln(<i>d&#770;</i><sub>KP</sub>) (pm/V)"
         }
        }
       }
      }
     },
     "metadata": {},
     "output_type": "display_data"
    },
    {
     "name": "stderr",
     "output_type": "stream",
     "text": [
      "/tmp/ipykernel_40938/1044345493.py:29: RuntimeWarning:\n",
      "\n",
      "invalid value encountered in log\n",
      "\n",
      "/tmp/ipykernel_40938/1044345493.py:39: RuntimeWarning:\n",
      "\n",
      "invalid value encountered in log\n",
      "\n"
     ]
    },
    {
     "data": {
      "application/vnd.plotly.v1+json": {
       "config": {
        "plotlyServerURL": "https://plot.ly"
       },
       "data": [
        {
         "mode": "markers",
         "name": "",
         "showlegend": false,
         "text": [
          "mp-10572",
          "mp-7582",
          "mp-22965",
          "mp-4586",
          "mp-1193269",
          "mp-1101862",
          "mp-1097061",
          "mp-998623",
          "mp-1028576",
          "mp-672118",
          "mp-1215418",
          "mp-23173",
          "mp-863755",
          "mp-1221954",
          "mp-1300570",
          "mp-1210659",
          "mp-554560",
          "mp-15776",
          "mp-28873",
          "mp-1102285",
          "mp-1227567",
          "mp-1220190",
          "mp-570084",
          "mp-17862",
          "mp-1190717",
          "mp-1217833",
          "mp-675779",
          "mp-27594",
          "mp-1218158",
          "mp-28140",
          "mp-766345",
          "agm002183415",
          "agm003160554",
          "agm002205907",
          "agm002233584",
          "agm003227564",
          "agm002793928",
          "mp-781710",
          "mp-1227011",
          "mp-1216863",
          "agm002135972",
          "agm003234420",
          "agm002218325",
          "mp-1216132",
          "mp-779863",
          "mp-38103",
          "mp-29362",
          "mp-1019715",
          "agm002054632",
          "mp-1204358",
          "mp-1105300",
          "mp-1228823",
          "mp-15833",
          "mp-1103351",
          "mp-24402",
          "mp-1095543",
          "mp-1188121",
          "mp-625521",
          "mp-23560",
          "mp-1227994",
          "mp-1079609",
          "mp-1192126",
          "agm002197344",
          "agm002177947",
          "mp-696347",
          "mp-1147693",
          "agm002156258",
          "mp-772748",
          "mp-1029422",
          "mp-1120718",
          "mp-1227036",
          "mp-1194520",
          "mp-1218006",
          "mp-1220913",
          "mp-1223822",
          "mp-1147725",
          "mp-984766",
          "mp-1210722",
          "agm003263235",
          "agm002215982",
          "mp-568968",
          "mp-27313",
          "mp-556024",
          "mp-28020",
          "mp-1229086",
          "mp-772875",
          "agm002363904",
          "mp-1223536",
          "mp-1147697",
          "mp-23887",
          "mp-18609",
          "agm002848041",
          "agm002133608",
          "agm003268240",
          "mp-1198890",
          "agm003200486",
          "mp-1096810",
          "mp-1105127",
          "mp-1216944",
          "mp-555915",
          "mp-776259",
          "agm002133663",
          "agm002790067",
          "agm002162961",
          "mp-767604",
          "agm003445531",
          "agm003206623",
          "mp-1227366",
          "agm005543540",
          "agm2000012572",
          "agm002205114",
          "agm003046706",
          "agm004786073",
          "agm003445638",
          "agm002149208",
          "agm2000022161",
          "agm2000001840",
          "agm002158429",
          "agm004751295",
          "agm005848257",
          "agm2000081842",
          "agm004879066",
          "agm001347560",
          "agm2000086862",
          "agm002102214",
          "mp-23807",
          "agm004954137",
          "agm004785400",
          "agm001234439",
          "agm2000011096",
          "agm2000002067",
          "agm003716707",
          "mp-554918",
          "agm005769896",
          "agm005698720",
          "agm004956590",
          "agm006124765",
          "mp-1202153",
          "mp-23914",
          "agm002073747",
          "agm004442672",
          "agm004929360",
          "agm003267560",
          "agm002171920",
          "mp-1215297",
          "agm2000005425",
          "agm004957147",
          "agm005723638",
          "mp-1080058",
          "agm004954098",
          "agm005069643",
          "agm002153441",
          "agm003220800",
          "agm005849998",
          "agm002138386",
          "agm004788917",
          "agm2000128635",
          "agm2000015113",
          "agm002861773",
          "agm004852876",
          "mp-1215966",
          "agm005607967",
          "agm1000019892",
          "agm003048415",
          "agm2000139348",
          "agm002158908",
          "agm002041688",
          "agm005049826",
          "mp-35799",
          "agm002072314",
          "agm002147787",
          "agm005408965",
          "mp-15840",
          "agm005839737",
          "agm003110472",
          "agm005189644",
          "mp-4681",
          "agm005086011",
          "agm002845532",
          "agm005086003",
          "agm2000101795",
          "agm005074722",
          "agm005180379"
         ],
         "type": "scatter",
         "x": [
          1.2535857027379442,
          3.2544420264838956,
          4.299435388156115,
          3.117857576672963,
          -5.318131018092295,
          -4.680997003779326,
          -0.859452261258409,
          0.7017827051305189,
          1.9310500401893735,
          -0.1394365106041502,
          4.634329350867877,
          3.202936260259023,
          1.7460214177666824,
          1.1527446112599784,
          -0.3371127122665699,
          -0.24731373666897977,
          -0.5855716958249642,
          3.9030676146621537,
          0.5219118776072554,
          1.9858987831854715,
          4.675680676425195,
          -0.02318900389906403,
          3.3953453285386987,
          3.502741045546834,
          -0.30022012231001327,
          2.5140976286605503,
          1.814222364992547,
          3.1794082199591855,
          0.9855598229690008,
          2.447486245453792,
          -2.784013076283266,
          4.14977762431867,
          4.283754648156561,
          4.101412174521215,
          2.8875867798719965,
          -1.4537135773415302,
          2.6257554259617946,
          2.7998477802550448,
          3.957572495507323,
          2.210616699426491,
          4.46393144142344,
          1.3194233164252194,
          4.081279329637554,
          1.3574084162445887,
          1.9510859681614985,
          -0.42205658984738215,
          -1.896230169803275,
          -0.10053542170817094,
          3.813376254197472,
          -1.4232630573525895,
          3.28690872407927,
          1.6478421350789498,
          1.1393840175378749,
          0.8074179428193387,
          -2.890935558257332,
          -0.8591967038217969,
          -1.6462198335926337,
          0.47165773666185984,
          0.6587912356611015,
          0.8638553728959156,
          1.1853325631867693,
          -0.15703862771354876,
          2.3366347042514617,
          4.0504165600425255,
          -0.9568114574748734,
          2.0374106720922405,
          -0.4009194821956806,
          -1.3032098743935028,
          3.1551356283741447,
          2.1241090575699313,
          -3.4630614548501875,
          -1.547245125508919,
          2.4842680842377427,
          1.3084114464845522,
          -0.4190322962140727,
          2.14370261410558,
          -2.1219148087192483,
          1.585823599242741,
          -1.6923529723634898,
          0.012395977141582776,
          3.483025350130514,
          -2.590785940555392,
          -4.272759873989225,
          0.2426156338334992,
          -1.7734080294320271,
          -4.916583863831777,
          0.291962875806547,
          2.732023881181247,
          2.0073184771879147,
          -0.20726096332075883,
          3.8703970560017473,
          -2.4835216162509544,
          0.5465510668176924,
          4.856541348780051,
          -1.762251626763439,
          -4.690858220270285,
          2.112315000506499,
          5.10663754573969,
          0.06032691913169146,
          -0.8720794454781192,
          1.0316722069080275,
          -2.3108782347640364,
          3.8433263345501425,
          3.3788263632624616,
          2.9455305167512837,
          0.9296345277841228,
          1.26823960830993,
          2.21045647278554,
          -0.13378271201079914,
          -3.1690133726884473,
          4.161423854925523,
          1.629779756220043,
          0.9940852448166454,
          0.5888586675978119,
          -2.2797230750007285,
          -3.3468795696046434,
          0.3707053695020218,
          1.4158289592838436,
          -1.4830449268700137,
          -0.25662464303577004,
          -2.231260397490708,
          1.0514802754489894,
          4.780614039066974,
          -3.3944090979479604,
          -0.5802464579117907,
          -0.6369918292556035,
          2.1838947297213016,
          2.858394096966816,
          -0.18960256344954837,
          -4.404000517442093,
          -2.849089586289161,
          -0.7253513868625268,
          0.9118789633700044,
          4.581737345426008,
          1.1387028199907938,
          -1.4475705987269594,
          2.3639290886114215,
          1.90925703383342,
          -1.9701819964887053,
          -0.9288649275236068,
          -3.2331705548521468,
          -0.33607255889531246,
          2.980006141767316,
          3.0620403510543546,
          2.5235344430960738,
          -4.505413520384964,
          -1.0911004514913645,
          2.9263454953307733,
          2.604260274629599,
          2.1686420301129914,
          1.5275258869649984,
          -0.31736426905615656,
          -1.4371431480329906,
          4.0287785630185375,
          -2.630466750735013,
          2.302388731742179,
          -4.6119427660876395,
          2.7124115994205176,
          2.672444652841187,
          2.475588240793691,
          2.18790580144196,
          -0.3228106003045135,
          -5.971859902643089,
          2.464955820581407,
          -3.1237026780344492,
          3.4261782218429517,
          1.72196886866056,
          1.8184234172780045,
          -0.4900170498382737,
          1.301459994015761,
          -2.653176007197353,
          0.607312690769973,
          -4.334204867231584,
          -0.8041476959236072,
          2.5227009895896133,
          1.542627374096005,
          3.030312687364971,
          -2.3137495717156273,
          0.016622021256289456,
          -2.6179531733286874,
          -0.8839449411010695,
          -2.175942815502295,
          0.2793276052583765
         ],
         "y": [
          0.8992111751927825,
          3.3434133886941204,
          3.6291331359836025,
          3.7343942855305534,
          -1.819489276234601,
          -0.3990430970503484,
          -3.0948513813255976,
          -0.042413971512004586,
          1.9561989817402423,
          null,
          4.084733863490713,
          3.1575507416358093,
          2.3056638769296014,
          1.8962327536630432,
          0.12634692023613892,
          -3.6470917833894743,
          -0.02402121906743553,
          3.873429396868518,
          0.7458592005091726,
          2.5873998015060464,
          4.116912111871751,
          1.9867478525128897,
          4.048695575390025,
          3.8002823259925873,
          -2.8413066219016376,
          1.300259848280267,
          3.5370500560732143,
          3.324384950124033,
          1.9841551639902573,
          2.846336852457208,
          -0.4967027216376536,
          3.9425681857079105,
          4.388107934008328,
          4.012706529437364,
          2.2784558342291428,
          -1.3147779656729963,
          2.9025124818043344,
          2.8003985764951778,
          3.4733348234476864,
          2.2181968842425315,
          4.462116173968048,
          0.3816291405188534,
          3.8384887385763298,
          1.2813808449871322,
          1.934096135698652,
          0.6984716555172512,
          1.9826842871164896,
          -1.1068489884067518,
          3.508006434674432,
          -0.3768676704548467,
          3.5987236437531163,
          3.2770150465154937,
          1.02120737961802,
          2.541913531131857,
          0.38240846575543314,
          0.20746349672754488,
          -2.1443702349306,
          -0.4104108253771604,
          1.1130397463589283,
          1.7043987823340077,
          0.7674760191090662,
          0.663556868803725,
          2.497906909268245,
          3.792723779127493,
          null,
          2.0840098540236216,
          -0.8502457422080807,
          -0.6761188080506048,
          3.2492975380653424,
          1.5443437889496483,
          -2.027852521162666,
          1.436382467381133,
          3.0343911093610174,
          2.0400505984566033,
          null,
          2.253066571140142,
          -1.4636288189632247,
          1.6079508673820135,
          1.4274250499240135,
          0.418010618938578,
          3.363255377542104,
          0.4691334800501043,
          -2.594052124565261,
          1.3952421432027764,
          1.1552307730507927,
          -0.20291617069805673,
          -0.27219913276818986,
          2.8996027027594917,
          1.940742687314296,
          -1.0238346172530273,
          3.728436267431004,
          -0.30429875852873034,
          0.9670634170725352,
          4.567768669334684,
          1.0737482141481192,
          1.6806471717252611,
          2.289673069068849,
          4.00085236964183,
          2.1519442920706835,
          1.123349782432985,
          1.2515319063230423,
          -0.7950869618773134,
          3.701627905871091,
          2.685953978641612,
          3.005543147580789,
          1.174019293502019,
          0.840520124111009,
          1.9542560513428953,
          0.2200866546592727,
          null,
          3.868237836977171,
          1.8704360034643888,
          1.83035211736229,
          0.9464192818217104,
          null,
          null,
          0.717811711178376,
          1.4359492107939584,
          -0.5039830738260089,
          0.4996092083594352,
          null,
          0.7725873324595068,
          4.640764754357774,
          1.1890962269202472,
          null,
          0.07755733968073471,
          2.4185488847719374,
          3.1928446971852957,
          2.383651041514112,
          0.22551156558789487,
          -1.7963125253538803,
          -0.27573870434718556,
          -0.5213480321119583,
          4.278677219181467,
          3.253426710844897,
          -1.7208082725433356,
          3.4664018163239687,
          2.747732314489415,
          -0.923158440409971,
          0.12633443038858602,
          1.1097938418287765,
          1.4474572558990082,
          4.566657852020002,
          2.718647100892463,
          2.3748155184114683,
          0.3544691059182597,
          null,
          1.837707440369033,
          2.2068036930299013,
          2.1932926125287335,
          2.1902480136428752,
          -1.6087484901313196,
          -0.394540816508834,
          3.9429483096666766,
          -1.559765766253888,
          2.873126259961161,
          0.9101821000338558,
          4.315006932051428,
          2.59506051259653,
          2.7891443672444742,
          2.165116929408335,
          -1.1044074932370065,
          -0.19282460668502568,
          2.831831699680911,
          0.8022735483731018,
          3.0756653396853744,
          2.5763776399023497,
          2.43526928311128,
          1.843346304103904,
          0.891332762933629,
          -2.0370054681521967,
          -0.384639723461635,
          -0.448762549072609,
          null,
          3.221138570536383,
          1.9548590816547349,
          2.7390740294872495,
          -0.03765644164639553,
          0.8735417665533375,
          null,
          0.8458954093774455,
          -0.060654759492267445,
          1.4546008425675387
         ]
        },
        {
         "marker": {
          "color": "red"
         },
         "mode": "markers",
         "name": "",
         "showlegend": false,
         "text": [
          "mp-983357",
          "mp-8377",
          "mp-18938",
          "mp-5854",
          "mp-23778",
          "mp-19219",
          "mp-9197",
          "mp-553887",
          "mp-23407",
          "mp-555150",
          "mp-6062",
          "mp-863374",
          "mp-23363",
          "mp-23321",
          "mp-27755",
          "mp-3491",
          "mp-540634",
          "mp-557773",
          "mp-559961",
          "mp-556966",
          "mp-7324",
          "mp-622018",
          "mp-29305",
          "mp-639714",
          "mp-24118",
          "mp-555203",
          "mp-706621",
          "mp-16792",
          "mp-639506",
          "mp-5020",
          "mp-3589",
          "mp-28264",
          "mp-570136",
          "mp-862539",
          "mp-696946",
          "mp-27726",
          "mp-30530",
          "mp-626620",
          "mp-2691",
          "mp-21521",
          "mp-4690",
          "mp-756570",
          "mp-28918",
          "mp-754585",
          "mp-27914",
          "mp-29910",
          "mp-14367",
          "mp-557027",
          "mp-29525",
          "mp-23866",
          "mp-29524",
          "mp-559065",
          "mp-551629",
          "mp-9064",
          "mp-13666",
          "mp-14444",
          "mp-685145",
          "mp-830",
          "mp-31451",
          "mp-30847",
          "mp-36111",
          "mp-1184046",
          "mp-1215430",
          "mp-1017534",
          "mp-1018093",
          "mp-1008556",
          "mp-4524"
         ],
         "type": "scatter",
         "x": [
          -1.8096208618061576,
          0.2504227271074406,
          0.8941613940569432,
          -0.4674441755126255,
          -0.009002268456202991,
          0.5666426898300543,
          -1.3449585830088755,
          1.4776941635461027,
          2.079926524051517,
          0.513705495637027,
          0.5476543239715628,
          1.6669618542751743,
          -4.592323538872693,
          -3.20689539627952,
          -3.897564050666275,
          1.1735145249281067,
          -0.7756726081186056,
          -2.1582331976850906,
          -0.32095926897028487,
          -0.7931631025086933,
          -0.8107109875910264,
          4.353120895450229,
          0.7276446415584393,
          1.711101191434198,
          -0.9708882412195592,
          -0.5433816485054958,
          -1.748575568907935,
          1.95287090912172,
          -4.74251618329189,
          2.833562144440118,
          -0.2398195998006678,
          2.78299946504354,
          -0.14013650078382,
          -0.5301141508807443,
          -0.03717329932754924,
          0.6039292637070257,
          1.4601801225230944,
          0.37389330416926886,
          3.754141758654189,
          2.0183066815251465,
          -1.4556361887050673,
          2.6428457986952703,
          2.254506323039491,
          1.8263875540107817,
          -2.2312395663473907,
          0.6957863626651394,
          -2.3711293744616864,
          -1.924917829502984,
          -3.0039624909131795,
          -0.08910579025424446,
          -0.8201548436622684,
          1.871489666744384,
          0.15396114272498757,
          -0.25355009799989087,
          3.917254174536937,
          2.5896455390744313,
          2.441177344003576,
          1.6003678755579585,
          4.2071054438569275,
          3.633400002575317,
          2.6925985319035046,
          3.7443747809856007,
          3.70646383164423,
          4.4593717050440915,
          4.595596552346854,
          0.728906899769153,
          4.494287161104849
         ],
         "y": [
          -0.8763218865163285,
          2.4406893546415795,
          -0.24482647523876008,
          0.4452543174728279,
          0.8936937192038674,
          0.9696766386680044,
          -0.4238507061154061,
          2.0270187817828504,
          2.0637498198875437,
          -1.062611573489443,
          -0.2748527278292086,
          1.5559416940263189,
          -2.1617085678058743,
          -1.123477420680206,
          -2.2547037147769893,
          1.8673541098324873,
          -0.42741857031284136,
          1.1461227316462983,
          0.4107900948510565,
          0.38567250612802934,
          -1.0236533183078318,
          0.9756936867126732,
          1.5638885179563875,
          1.7032891712154334,
          null,
          -0.7613121808155983,
          -1.711553470503853,
          1.1693810670294416,
          -0.688126121788631,
          2.199942328905733,
          -0.15108673493484692,
          -0.600638867017068,
          3.019640022164332,
          -1.49069230075244,
          2.124771018162687,
          1.148928016191166,
          1.5467056911750845,
          -0.5179125884955161,
          3.5531037272728336,
          1.4945706720305647,
          -0.48675809787523694,
          1.4475389254060818,
          2.058702128209511,
          1.9499975143751191,
          null,
          2.333684219992264,
          0.5099431615333314,
          -1.1087832902392796,
          1.1007984367538648,
          0.4312562603352261,
          1.1237691666321368,
          2.125764259935232,
          0.691377417736368,
          3.718363755469998,
          3.3846927544471974,
          2.915678611222745,
          2.7417841712598907,
          3.412645937190356,
          4.049472565981008,
          4.325828245521692,
          3.3196667359825325,
          3.40404744848712,
          3.7280771313734418,
          3.570772073340728,
          3.5844477988738626,
          2.0067138433872285,
          4.290453182007137
         ]
        },
        {
         "line": {
          "color": "gray",
          "dash": "dot"
         },
         "mode": "lines",
         "showlegend": false,
         "type": "scatter",
         "x": [
          -10,
          8
         ],
         "y": [
          -10,
          8
         ]
        }
       ],
       "layout": {
        "autosize": false,
        "font": {
         "size": 20
        },
        "height": 600,
        "template": {
         "data": {
          "bar": [
           {
            "error_x": {
             "color": "rgb(36,36,36)"
            },
            "error_y": {
             "color": "rgb(36,36,36)"
            },
            "marker": {
             "line": {
              "color": "white",
              "width": 0.5
             },
             "pattern": {
              "fillmode": "overlay",
              "size": 10,
              "solidity": 0.2
             }
            },
            "type": "bar"
           }
          ],
          "barpolar": [
           {
            "marker": {
             "line": {
              "color": "white",
              "width": 0.5
             },
             "pattern": {
              "fillmode": "overlay",
              "size": 10,
              "solidity": 0.2
             }
            },
            "type": "barpolar"
           }
          ],
          "carpet": [
           {
            "aaxis": {
             "endlinecolor": "rgb(36,36,36)",
             "gridcolor": "white",
             "linecolor": "white",
             "minorgridcolor": "white",
             "startlinecolor": "rgb(36,36,36)"
            },
            "baxis": {
             "endlinecolor": "rgb(36,36,36)",
             "gridcolor": "white",
             "linecolor": "white",
             "minorgridcolor": "white",
             "startlinecolor": "rgb(36,36,36)"
            },
            "type": "carpet"
           }
          ],
          "choropleth": [
           {
            "colorbar": {
             "outlinewidth": 1,
             "tickcolor": "rgb(36,36,36)",
             "ticks": "outside"
            },
            "type": "choropleth"
           }
          ],
          "contour": [
           {
            "colorbar": {
             "outlinewidth": 1,
             "tickcolor": "rgb(36,36,36)",
             "ticks": "outside"
            },
            "colorscale": [
             [
              0,
              "#440154"
             ],
             [
              0.1111111111111111,
              "#482878"
             ],
             [
              0.2222222222222222,
              "#3e4989"
             ],
             [
              0.3333333333333333,
              "#31688e"
             ],
             [
              0.4444444444444444,
              "#26828e"
             ],
             [
              0.5555555555555556,
              "#1f9e89"
             ],
             [
              0.6666666666666666,
              "#35b779"
             ],
             [
              0.7777777777777778,
              "#6ece58"
             ],
             [
              0.8888888888888888,
              "#b5de2b"
             ],
             [
              1,
              "#fde725"
             ]
            ],
            "type": "contour"
           }
          ],
          "contourcarpet": [
           {
            "colorbar": {
             "outlinewidth": 1,
             "tickcolor": "rgb(36,36,36)",
             "ticks": "outside"
            },
            "type": "contourcarpet"
           }
          ],
          "heatmap": [
           {
            "colorbar": {
             "outlinewidth": 1,
             "tickcolor": "rgb(36,36,36)",
             "ticks": "outside"
            },
            "colorscale": [
             [
              0,
              "#440154"
             ],
             [
              0.1111111111111111,
              "#482878"
             ],
             [
              0.2222222222222222,
              "#3e4989"
             ],
             [
              0.3333333333333333,
              "#31688e"
             ],
             [
              0.4444444444444444,
              "#26828e"
             ],
             [
              0.5555555555555556,
              "#1f9e89"
             ],
             [
              0.6666666666666666,
              "#35b779"
             ],
             [
              0.7777777777777778,
              "#6ece58"
             ],
             [
              0.8888888888888888,
              "#b5de2b"
             ],
             [
              1,
              "#fde725"
             ]
            ],
            "type": "heatmap"
           }
          ],
          "heatmapgl": [
           {
            "colorbar": {
             "outlinewidth": 1,
             "tickcolor": "rgb(36,36,36)",
             "ticks": "outside"
            },
            "colorscale": [
             [
              0,
              "#440154"
             ],
             [
              0.1111111111111111,
              "#482878"
             ],
             [
              0.2222222222222222,
              "#3e4989"
             ],
             [
              0.3333333333333333,
              "#31688e"
             ],
             [
              0.4444444444444444,
              "#26828e"
             ],
             [
              0.5555555555555556,
              "#1f9e89"
             ],
             [
              0.6666666666666666,
              "#35b779"
             ],
             [
              0.7777777777777778,
              "#6ece58"
             ],
             [
              0.8888888888888888,
              "#b5de2b"
             ],
             [
              1,
              "#fde725"
             ]
            ],
            "type": "heatmapgl"
           }
          ],
          "histogram": [
           {
            "marker": {
             "line": {
              "color": "white",
              "width": 0.6
             }
            },
            "type": "histogram"
           }
          ],
          "histogram2d": [
           {
            "colorbar": {
             "outlinewidth": 1,
             "tickcolor": "rgb(36,36,36)",
             "ticks": "outside"
            },
            "colorscale": [
             [
              0,
              "#440154"
             ],
             [
              0.1111111111111111,
              "#482878"
             ],
             [
              0.2222222222222222,
              "#3e4989"
             ],
             [
              0.3333333333333333,
              "#31688e"
             ],
             [
              0.4444444444444444,
              "#26828e"
             ],
             [
              0.5555555555555556,
              "#1f9e89"
             ],
             [
              0.6666666666666666,
              "#35b779"
             ],
             [
              0.7777777777777778,
              "#6ece58"
             ],
             [
              0.8888888888888888,
              "#b5de2b"
             ],
             [
              1,
              "#fde725"
             ]
            ],
            "type": "histogram2d"
           }
          ],
          "histogram2dcontour": [
           {
            "colorbar": {
             "outlinewidth": 1,
             "tickcolor": "rgb(36,36,36)",
             "ticks": "outside"
            },
            "colorscale": [
             [
              0,
              "#440154"
             ],
             [
              0.1111111111111111,
              "#482878"
             ],
             [
              0.2222222222222222,
              "#3e4989"
             ],
             [
              0.3333333333333333,
              "#31688e"
             ],
             [
              0.4444444444444444,
              "#26828e"
             ],
             [
              0.5555555555555556,
              "#1f9e89"
             ],
             [
              0.6666666666666666,
              "#35b779"
             ],
             [
              0.7777777777777778,
              "#6ece58"
             ],
             [
              0.8888888888888888,
              "#b5de2b"
             ],
             [
              1,
              "#fde725"
             ]
            ],
            "type": "histogram2dcontour"
           }
          ],
          "mesh3d": [
           {
            "colorbar": {
             "outlinewidth": 1,
             "tickcolor": "rgb(36,36,36)",
             "ticks": "outside"
            },
            "type": "mesh3d"
           }
          ],
          "parcoords": [
           {
            "line": {
             "colorbar": {
              "outlinewidth": 1,
              "tickcolor": "rgb(36,36,36)",
              "ticks": "outside"
             }
            },
            "type": "parcoords"
           }
          ],
          "pie": [
           {
            "automargin": true,
            "type": "pie"
           }
          ],
          "scatter": [
           {
            "fillpattern": {
             "fillmode": "overlay",
             "size": 10,
             "solidity": 0.2
            },
            "type": "scatter"
           }
          ],
          "scatter3d": [
           {
            "line": {
             "colorbar": {
              "outlinewidth": 1,
              "tickcolor": "rgb(36,36,36)",
              "ticks": "outside"
             }
            },
            "marker": {
             "colorbar": {
              "outlinewidth": 1,
              "tickcolor": "rgb(36,36,36)",
              "ticks": "outside"
             }
            },
            "type": "scatter3d"
           }
          ],
          "scattercarpet": [
           {
            "marker": {
             "colorbar": {
              "outlinewidth": 1,
              "tickcolor": "rgb(36,36,36)",
              "ticks": "outside"
             }
            },
            "type": "scattercarpet"
           }
          ],
          "scattergeo": [
           {
            "marker": {
             "colorbar": {
              "outlinewidth": 1,
              "tickcolor": "rgb(36,36,36)",
              "ticks": "outside"
             }
            },
            "type": "scattergeo"
           }
          ],
          "scattergl": [
           {
            "marker": {
             "colorbar": {
              "outlinewidth": 1,
              "tickcolor": "rgb(36,36,36)",
              "ticks": "outside"
             }
            },
            "type": "scattergl"
           }
          ],
          "scattermapbox": [
           {
            "marker": {
             "colorbar": {
              "outlinewidth": 1,
              "tickcolor": "rgb(36,36,36)",
              "ticks": "outside"
             }
            },
            "type": "scattermapbox"
           }
          ],
          "scatterpolar": [
           {
            "marker": {
             "colorbar": {
              "outlinewidth": 1,
              "tickcolor": "rgb(36,36,36)",
              "ticks": "outside"
             }
            },
            "type": "scatterpolar"
           }
          ],
          "scatterpolargl": [
           {
            "marker": {
             "colorbar": {
              "outlinewidth": 1,
              "tickcolor": "rgb(36,36,36)",
              "ticks": "outside"
             }
            },
            "type": "scatterpolargl"
           }
          ],
          "scatterternary": [
           {
            "marker": {
             "colorbar": {
              "outlinewidth": 1,
              "tickcolor": "rgb(36,36,36)",
              "ticks": "outside"
             }
            },
            "type": "scatterternary"
           }
          ],
          "surface": [
           {
            "colorbar": {
             "outlinewidth": 1,
             "tickcolor": "rgb(36,36,36)",
             "ticks": "outside"
            },
            "colorscale": [
             [
              0,
              "#440154"
             ],
             [
              0.1111111111111111,
              "#482878"
             ],
             [
              0.2222222222222222,
              "#3e4989"
             ],
             [
              0.3333333333333333,
              "#31688e"
             ],
             [
              0.4444444444444444,
              "#26828e"
             ],
             [
              0.5555555555555556,
              "#1f9e89"
             ],
             [
              0.6666666666666666,
              "#35b779"
             ],
             [
              0.7777777777777778,
              "#6ece58"
             ],
             [
              0.8888888888888888,
              "#b5de2b"
             ],
             [
              1,
              "#fde725"
             ]
            ],
            "type": "surface"
           }
          ],
          "table": [
           {
            "cells": {
             "fill": {
              "color": "rgb(237,237,237)"
             },
             "line": {
              "color": "white"
             }
            },
            "header": {
             "fill": {
              "color": "rgb(217,217,217)"
             },
             "line": {
              "color": "white"
             }
            },
            "type": "table"
           }
          ]
         },
         "layout": {
          "annotationdefaults": {
           "arrowhead": 0,
           "arrowwidth": 1
          },
          "autotypenumbers": "strict",
          "coloraxis": {
           "colorbar": {
            "outlinewidth": 1,
            "tickcolor": "rgb(36,36,36)",
            "ticks": "outside"
           }
          },
          "colorscale": {
           "diverging": [
            [
             0,
             "rgb(103,0,31)"
            ],
            [
             0.1,
             "rgb(178,24,43)"
            ],
            [
             0.2,
             "rgb(214,96,77)"
            ],
            [
             0.3,
             "rgb(244,165,130)"
            ],
            [
             0.4,
             "rgb(253,219,199)"
            ],
            [
             0.5,
             "rgb(247,247,247)"
            ],
            [
             0.6,
             "rgb(209,229,240)"
            ],
            [
             0.7,
             "rgb(146,197,222)"
            ],
            [
             0.8,
             "rgb(67,147,195)"
            ],
            [
             0.9,
             "rgb(33,102,172)"
            ],
            [
             1,
             "rgb(5,48,97)"
            ]
           ],
           "sequential": [
            [
             0,
             "#440154"
            ],
            [
             0.1111111111111111,
             "#482878"
            ],
            [
             0.2222222222222222,
             "#3e4989"
            ],
            [
             0.3333333333333333,
             "#31688e"
            ],
            [
             0.4444444444444444,
             "#26828e"
            ],
            [
             0.5555555555555556,
             "#1f9e89"
            ],
            [
             0.6666666666666666,
             "#35b779"
            ],
            [
             0.7777777777777778,
             "#6ece58"
            ],
            [
             0.8888888888888888,
             "#b5de2b"
            ],
            [
             1,
             "#fde725"
            ]
           ],
           "sequentialminus": [
            [
             0,
             "#440154"
            ],
            [
             0.1111111111111111,
             "#482878"
            ],
            [
             0.2222222222222222,
             "#3e4989"
            ],
            [
             0.3333333333333333,
             "#31688e"
            ],
            [
             0.4444444444444444,
             "#26828e"
            ],
            [
             0.5555555555555556,
             "#1f9e89"
            ],
            [
             0.6666666666666666,
             "#35b779"
            ],
            [
             0.7777777777777778,
             "#6ece58"
            ],
            [
             0.8888888888888888,
             "#b5de2b"
            ],
            [
             1,
             "#fde725"
            ]
           ]
          },
          "colorway": [
           "#1F77B4",
           "#FF7F0E",
           "#2CA02C",
           "#D62728",
           "#9467BD",
           "#8C564B",
           "#E377C2",
           "#7F7F7F",
           "#BCBD22",
           "#17BECF"
          ],
          "font": {
           "color": "rgb(36,36,36)"
          },
          "geo": {
           "bgcolor": "white",
           "lakecolor": "white",
           "landcolor": "white",
           "showlakes": true,
           "showland": true,
           "subunitcolor": "white"
          },
          "hoverlabel": {
           "align": "left"
          },
          "hovermode": "closest",
          "mapbox": {
           "style": "light"
          },
          "paper_bgcolor": "white",
          "plot_bgcolor": "white",
          "polar": {
           "angularaxis": {
            "gridcolor": "rgb(232,232,232)",
            "linecolor": "rgb(36,36,36)",
            "showgrid": false,
            "showline": true,
            "ticks": "outside"
           },
           "bgcolor": "white",
           "radialaxis": {
            "gridcolor": "rgb(232,232,232)",
            "linecolor": "rgb(36,36,36)",
            "showgrid": false,
            "showline": true,
            "ticks": "outside"
           }
          },
          "scene": {
           "xaxis": {
            "backgroundcolor": "white",
            "gridcolor": "rgb(232,232,232)",
            "gridwidth": 2,
            "linecolor": "rgb(36,36,36)",
            "showbackground": true,
            "showgrid": false,
            "showline": true,
            "ticks": "outside",
            "zeroline": false,
            "zerolinecolor": "rgb(36,36,36)"
           },
           "yaxis": {
            "backgroundcolor": "white",
            "gridcolor": "rgb(232,232,232)",
            "gridwidth": 2,
            "linecolor": "rgb(36,36,36)",
            "showbackground": true,
            "showgrid": false,
            "showline": true,
            "ticks": "outside",
            "zeroline": false,
            "zerolinecolor": "rgb(36,36,36)"
           },
           "zaxis": {
            "backgroundcolor": "white",
            "gridcolor": "rgb(232,232,232)",
            "gridwidth": 2,
            "linecolor": "rgb(36,36,36)",
            "showbackground": true,
            "showgrid": false,
            "showline": true,
            "ticks": "outside",
            "zeroline": false,
            "zerolinecolor": "rgb(36,36,36)"
           }
          },
          "shapedefaults": {
           "fillcolor": "black",
           "line": {
            "width": 0
           },
           "opacity": 0.3
          },
          "ternary": {
           "aaxis": {
            "gridcolor": "rgb(232,232,232)",
            "linecolor": "rgb(36,36,36)",
            "showgrid": false,
            "showline": true,
            "ticks": "outside"
           },
           "baxis": {
            "gridcolor": "rgb(232,232,232)",
            "linecolor": "rgb(36,36,36)",
            "showgrid": false,
            "showline": true,
            "ticks": "outside"
           },
           "bgcolor": "white",
           "caxis": {
            "gridcolor": "rgb(232,232,232)",
            "linecolor": "rgb(36,36,36)",
            "showgrid": false,
            "showline": true,
            "ticks": "outside"
           }
          },
          "title": {
           "x": 0.05
          },
          "xaxis": {
           "automargin": true,
           "gridcolor": "rgb(232,232,232)",
           "linecolor": "rgb(36,36,36)",
           "showgrid": false,
           "showline": true,
           "ticks": "outside",
           "title": {
            "standoff": 15
           },
           "zeroline": false,
           "zerolinecolor": "rgb(36,36,36)"
          },
          "yaxis": {
           "automargin": true,
           "gridcolor": "rgb(232,232,232)",
           "linecolor": "rgb(36,36,36)",
           "showgrid": false,
           "showline": true,
           "ticks": "outside",
           "title": {
            "standoff": 15
           },
           "zeroline": false,
           "zerolinecolor": "rgb(36,36,36)"
          }
         }
        },
        "title": {
         "text": "lgbm_dflt_distribution_250_mmf_pgnn_"
        },
        "width": 600,
        "xaxis": {
         "dtick": 2,
         "range": [
          -6.2,
          6.2
         ],
         "showgrid": false,
         "tick0": 0,
         "tickmode": "linear",
         "title": {
          "text": "ln(<i>d</i><sub>KP</sub>) (pm/V)"
         }
        },
        "yaxis": {
         "dtick": 2,
         "range": [
          -6.2,
          6.2
         ],
         "showgrid": false,
         "tick0": 0,
         "tickmode": "linear",
         "title": {
          "text": "ln(<i>d&#770;</i><sub>KP</sub>) (pm/V)"
         }
        }
       }
      }
     },
     "metadata": {},
     "output_type": "display_data"
    },
    {
     "data": {
      "application/vnd.plotly.v1+json": {
       "config": {
        "plotlyServerURL": "https://plot.ly"
       },
       "data": [
        {
         "mode": "markers",
         "name": "",
         "showlegend": false,
         "text": [
          "mp-10572",
          "mp-7582",
          "mp-22965",
          "mp-4586",
          "mp-1193269",
          "mp-1101862",
          "mp-1097061",
          "mp-998623",
          "mp-1028576",
          "mp-672118",
          "mp-1215418",
          "mp-23173",
          "mp-863755",
          "mp-1221954",
          "mp-1300570",
          "mp-1210659",
          "mp-554560",
          "mp-15776",
          "mp-28873",
          "mp-1102285",
          "mp-1227567",
          "mp-1220190",
          "mp-570084",
          "mp-17862",
          "mp-1190717",
          "mp-1217833",
          "mp-675779",
          "mp-27594",
          "mp-1218158",
          "mp-28140",
          "mp-766345",
          "agm002183415",
          "agm003160554",
          "agm002205907",
          "agm002233584",
          "agm003227564",
          "agm002793928",
          "mp-781710",
          "mp-1227011",
          "mp-1216863",
          "agm002135972",
          "agm003234420",
          "agm002218325",
          "mp-1216132",
          "mp-779863",
          "mp-38103",
          "mp-29362",
          "mp-1019715",
          "agm002054632",
          "mp-1204358",
          "mp-1105300",
          "mp-1228823",
          "mp-15833",
          "mp-1103351",
          "mp-24402",
          "mp-1095543",
          "mp-1188121",
          "mp-625521",
          "mp-23560",
          "mp-1227994",
          "mp-1079609",
          "mp-1192126",
          "agm002197344",
          "agm002177947",
          "mp-696347",
          "mp-1147693",
          "agm002156258",
          "mp-772748",
          "mp-1029422",
          "mp-1120718",
          "mp-1227036",
          "mp-1194520",
          "mp-1218006",
          "mp-1220913",
          "mp-1223822",
          "mp-1147725",
          "mp-984766",
          "mp-1210722",
          "agm003263235",
          "agm002215982",
          "mp-568968",
          "mp-27313",
          "mp-556024",
          "mp-28020",
          "mp-1229086",
          "mp-772875",
          "agm002363904",
          "mp-1223536",
          "mp-1147697",
          "mp-23887",
          "mp-18609",
          "agm002848041",
          "agm002133608",
          "agm003268240",
          "mp-1198890",
          "agm003200486",
          "mp-1096810",
          "mp-1105127",
          "mp-1216944",
          "mp-555915",
          "mp-776259",
          "agm002133663",
          "agm002790067",
          "agm002162961",
          "mp-767604",
          "agm003445531",
          "agm003206623",
          "mp-1227366",
          "agm005543540",
          "agm2000012572",
          "agm002205114",
          "agm003046706",
          "agm004786073",
          "agm003445638",
          "agm002149208",
          "agm2000022161",
          "agm2000001840",
          "agm002158429",
          "agm004751295",
          "agm005848257",
          "agm2000081842",
          "agm004879066",
          "agm001347560",
          "agm2000086862",
          "agm002102214",
          "mp-23807",
          "agm004954137",
          "agm004785400",
          "agm001234439",
          "agm2000011096",
          "agm2000002067",
          "agm003716707",
          "mp-554918",
          "agm005769896",
          "agm005698720",
          "agm004956590",
          "agm006124765",
          "mp-1202153",
          "mp-23914",
          "agm002073747",
          "agm004442672",
          "agm004929360",
          "agm003267560",
          "agm002171920",
          "mp-1215297",
          "agm2000005425",
          "agm004957147",
          "agm005723638",
          "mp-1080058",
          "agm004954098",
          "agm005069643",
          "agm002153441",
          "agm003220800",
          "agm005849998",
          "agm002138386",
          "agm004788917",
          "agm2000128635",
          "agm2000015113",
          "agm002861773",
          "agm004852876",
          "mp-1215966",
          "agm005607967",
          "agm1000019892",
          "agm003048415",
          "agm2000139348",
          "agm002158908",
          "agm002041688",
          "agm005049826",
          "mp-35799",
          "agm002072314",
          "agm002147787",
          "agm005408965",
          "mp-15840",
          "agm005839737",
          "agm003110472",
          "agm005189644",
          "mp-4681",
          "agm005086011",
          "agm002845532",
          "agm005086003",
          "agm2000101795",
          "agm005074722",
          "agm005180379"
         ],
         "type": "scatter",
         "x": [
          1.2535857027379442,
          3.2544420264838956,
          4.299435388156115,
          3.117857576672963,
          -5.318131018092295,
          -4.680997003779326,
          -0.859452261258409,
          0.7017827051305189,
          1.9310500401893735,
          -0.1394365106041502,
          4.634329350867877,
          3.202936260259023,
          1.7460214177666824,
          1.1527446112599784,
          -0.3371127122665699,
          -0.24731373666897977,
          -0.5855716958249642,
          3.9030676146621537,
          0.5219118776072554,
          1.9858987831854715,
          4.675680676425195,
          -0.02318900389906403,
          3.3953453285386987,
          3.502741045546834,
          -0.30022012231001327,
          2.5140976286605503,
          1.814222364992547,
          3.1794082199591855,
          0.9855598229690008,
          2.447486245453792,
          -2.784013076283266,
          4.14977762431867,
          4.283754648156561,
          4.101412174521215,
          2.8875867798719965,
          -1.4537135773415302,
          2.6257554259617946,
          2.7998477802550448,
          3.957572495507323,
          2.210616699426491,
          4.46393144142344,
          1.3194233164252194,
          4.081279329637554,
          1.3574084162445887,
          1.9510859681614985,
          -0.42205658984738215,
          -1.896230169803275,
          -0.10053542170817094,
          3.813376254197472,
          -1.4232630573525895,
          3.28690872407927,
          1.6478421350789498,
          1.1393840175378749,
          0.8074179428193387,
          -2.890935558257332,
          -0.8591967038217969,
          -1.6462198335926337,
          0.47165773666185984,
          0.6587912356611015,
          0.8638553728959156,
          1.1853325631867693,
          -0.15703862771354876,
          2.3366347042514617,
          4.0504165600425255,
          -0.9568114574748734,
          2.0374106720922405,
          -0.4009194821956806,
          -1.3032098743935028,
          3.1551356283741447,
          2.1241090575699313,
          -3.4630614548501875,
          -1.547245125508919,
          2.4842680842377427,
          1.3084114464845522,
          -0.4190322962140727,
          2.14370261410558,
          -2.1219148087192483,
          1.585823599242741,
          -1.6923529723634898,
          0.012395977141582776,
          3.483025350130514,
          -2.590785940555392,
          -4.272759873989225,
          0.2426156338334992,
          -1.7734080294320271,
          -4.916583863831777,
          0.291962875806547,
          2.732023881181247,
          2.0073184771879147,
          -0.20726096332075883,
          3.8703970560017473,
          -2.4835216162509544,
          0.5465510668176924,
          4.856541348780051,
          -1.762251626763439,
          -4.690858220270285,
          2.112315000506499,
          5.10663754573969,
          0.06032691913169146,
          -0.8720794454781192,
          1.0316722069080275,
          -2.3108782347640364,
          3.8433263345501425,
          3.3788263632624616,
          2.9455305167512837,
          0.9296345277841228,
          1.26823960830993,
          2.21045647278554,
          -0.13378271201079914,
          -3.1690133726884473,
          4.161423854925523,
          1.629779756220043,
          0.9940852448166454,
          0.5888586675978119,
          -2.2797230750007285,
          -3.3468795696046434,
          0.3707053695020218,
          1.4158289592838436,
          -1.4830449268700137,
          -0.25662464303577004,
          -2.231260397490708,
          1.0514802754489894,
          4.780614039066974,
          -3.3944090979479604,
          -0.5802464579117907,
          -0.6369918292556035,
          2.1838947297213016,
          2.858394096966816,
          -0.18960256344954837,
          -4.404000517442093,
          -2.849089586289161,
          -0.7253513868625268,
          0.9118789633700044,
          4.581737345426008,
          1.1387028199907938,
          -1.4475705987269594,
          2.3639290886114215,
          1.90925703383342,
          -1.9701819964887053,
          -0.9288649275236068,
          -3.2331705548521468,
          -0.33607255889531246,
          2.980006141767316,
          3.0620403510543546,
          2.5235344430960738,
          -4.505413520384964,
          -1.0911004514913645,
          2.9263454953307733,
          2.604260274629599,
          2.1686420301129914,
          1.5275258869649984,
          -0.31736426905615656,
          -1.4371431480329906,
          4.0287785630185375,
          -2.630466750735013,
          2.302388731742179,
          -4.6119427660876395,
          2.7124115994205176,
          2.672444652841187,
          2.475588240793691,
          2.18790580144196,
          -0.3228106003045135,
          -5.971859902643089,
          2.464955820581407,
          -3.1237026780344492,
          3.4261782218429517,
          1.72196886866056,
          1.8184234172780045,
          -0.4900170498382737,
          1.301459994015761,
          -2.653176007197353,
          0.607312690769973,
          -4.334204867231584,
          -0.8041476959236072,
          2.5227009895896133,
          1.542627374096005,
          3.030312687364971,
          -2.3137495717156273,
          0.016622021256289456,
          -2.6179531733286874,
          -0.8839449411010695,
          -2.175942815502295,
          0.2793276052583765
         ],
         "y": [
          0.8527865038744704,
          3.0797667795368255,
          3.6900876979710704,
          3.760172779525552,
          -3.265468653359908,
          -1.65224983210881,
          0.0427072294076358,
          0.8168684962854791,
          2.0551395049182246,
          1.580558612127138,
          4.123128679857273,
          2.741881055776668,
          2.411106150773801,
          1.6682154145500956,
          0.3821626518748097,
          0.02144973816804703,
          -0.5263332484314118,
          3.7998856909483902,
          0.9774044808303086,
          1.5516190944888155,
          4.1529860348593415,
          2.289255108598612,
          4.2504383662966,
          3.824001714092278,
          -1.0617489674227127,
          2.5197170629613166,
          3.152369854843776,
          3.3908720638998973,
          1.6561294120339658,
          2.7589252525465717,
          -0.02259349040034808,
          3.9524591785046512,
          4.2973203289014785,
          4.08211650855763,
          2.142252112434236,
          0.453173828569944,
          2.6608612372219813,
          2.8490496768599964,
          3.3749261127820707,
          2.3120399734692474,
          4.3772988402929895,
          1.4729663595867095,
          3.869235527895167,
          1.845465482177548,
          1.9220065815992209,
          -0.6345313565562797,
          2.0445439654850786,
          -0.34041563390372126,
          3.381321866675989,
          -1.6055760184739072,
          3.271537607871479,
          3.089526876723956,
          1.0477420854662147,
          2.7703459778115356,
          -0.9051312643123648,
          -1.333909367921398,
          -0.8704270178914055,
          0.36729126729600936,
          1.3505464847640647,
          0.5636010635289901,
          0.6220454933454507,
          0.9829645576839288,
          2.593086435229427,
          3.547247999996459,
          -1.1277437133020018,
          2.1100712399970547,
          -0.3894451023867135,
          -1.4129611795488153,
          3.0008838698922644,
          2.006671136480243,
          -2.206429424129403,
          1.6867016301965043,
          3.194434598906573,
          1.5732520028433,
          -0.30204187280361056,
          2.1620020723699653,
          -1.8210485325343893,
          1.5358917187976124,
          1.582320787508809,
          -0.048971237819820816,
          3.485341291997437,
          0.4537698912019751,
          -1.5910809599175677,
          2.111765581966052,
          0.90134891496113,
          1.8525511920224769,
          0.4170168336802026,
          2.7771997268959456,
          2.0123326392655234,
          -0.9553508342759474,
          3.5890737109667854,
          0.6460715710501201,
          2.4356366768697857,
          4.059603913165528,
          0.943570133943792,
          -0.11368993643441312,
          2.0067698004283323,
          3.649964220030306,
          2.389779740240706,
          1.2232223602299432,
          1.3805328787570563,
          2.1908289308537907,
          3.6574956856291863,
          3.270403648643552,
          2.942716359960034,
          1.284597050665989,
          0.736879290076529,
          2.3031562988802263,
          0.5413748374578023,
          -2.183295496293097,
          4.3383989912716565,
          1.8828747000922683,
          1.6035335876704515,
          1.1699887883614082,
          -1.4452402380164224,
          -2.554730518562629,
          0.9671737663786414,
          0.8167600070222935,
          -0.9685491325438724,
          0.8031798551531012,
          -1.5647449900026826,
          0.8549718886509132,
          4.6716906071125335,
          1.0793296819707463,
          -0.5436968647384464,
          -0.2152953932814183,
          2.0737987398208,
          2.6878378605567783,
          2.336646078655507,
          -0.5141243517241165,
          -3.112810816955746,
          -0.5599051986934982,
          -0.12693223011357177,
          4.267501366977687,
          2.94529172207518,
          -1.2481054928947708,
          3.2547015316839856,
          2.534708429889646,
          -1.2019540754109888,
          -0.3125506606969333,
          1.7083026365698075,
          0.7476351737322265,
          4.146189861911594,
          2.749542295990598,
          2.470803821501294,
          -4.241520273281286,
          -1.1732228736372443,
          2.590169545478676,
          2.4223069909165225,
          1.9914007470827328,
          1.4153658221788177,
          0.1475264992569663,
          -0.1710345359913857,
          4.137781693232131,
          -2.6635259148966934,
          2.5518554059374163,
          0.8027355844278483,
          4.309276688897767,
          2.5150236674864317,
          2.7627740620427685,
          2.2626349437213324,
          -0.5401565598053689,
          -0.2834246810457323,
          2.640946165865198,
          1.1209214238927792,
          3.16766550363879,
          2.425069433014056,
          2.480824452963861,
          1.6274759234811054,
          0.9464157750290456,
          -2.085854664428487,
          0.3629991450281002,
          -0.8201763315060625,
          -0.3120253247447062,
          3.49854349996727,
          1.892653302044201,
          2.464793395717565,
          -1.981566332115104,
          1.418157802707357,
          -2.1700839140566535,
          1.0023238253400388,
          -1.9105500677529108,
          1.6134601808525986
         ]
        },
        {
         "marker": {
          "color": "red"
         },
         "mode": "markers",
         "name": "",
         "showlegend": false,
         "text": [
          "mp-983357",
          "mp-8377",
          "mp-18938",
          "mp-5854",
          "mp-23778",
          "mp-19219",
          "mp-9197",
          "mp-553887",
          "mp-23407",
          "mp-555150",
          "mp-6062",
          "mp-863374",
          "mp-23363",
          "mp-23321",
          "mp-27755",
          "mp-3491",
          "mp-540634",
          "mp-557773",
          "mp-559961",
          "mp-556966",
          "mp-7324",
          "mp-622018",
          "mp-29305",
          "mp-639714",
          "mp-24118",
          "mp-555203",
          "mp-706621",
          "mp-16792",
          "mp-639506",
          "mp-5020",
          "mp-3589",
          "mp-28264",
          "mp-570136",
          "mp-862539",
          "mp-696946",
          "mp-27726",
          "mp-30530",
          "mp-626620",
          "mp-2691",
          "mp-21521",
          "mp-4690",
          "mp-756570",
          "mp-28918",
          "mp-754585",
          "mp-27914",
          "mp-29910",
          "mp-14367",
          "mp-557027",
          "mp-29525",
          "mp-23866",
          "mp-29524",
          "mp-559065",
          "mp-551629",
          "mp-9064",
          "mp-13666",
          "mp-14444",
          "mp-685145",
          "mp-830",
          "mp-31451",
          "mp-30847",
          "mp-36111",
          "mp-1184046",
          "mp-1215430",
          "mp-1017534",
          "mp-1018093",
          "mp-1008556",
          "mp-4524"
         ],
         "type": "scatter",
         "x": [
          -1.8096208618061576,
          0.2504227271074406,
          0.8941613940569432,
          -0.4674441755126255,
          -0.009002268456202991,
          0.5666426898300543,
          -1.3449585830088755,
          1.4776941635461027,
          2.079926524051517,
          0.513705495637027,
          0.5476543239715628,
          1.6669618542751743,
          -4.592323538872693,
          -3.20689539627952,
          -3.897564050666275,
          1.1735145249281067,
          -0.7756726081186056,
          -2.1582331976850906,
          -0.32095926897028487,
          -0.7931631025086933,
          -0.8107109875910264,
          4.353120895450229,
          0.7276446415584393,
          1.711101191434198,
          -0.9708882412195592,
          -0.5433816485054958,
          -1.748575568907935,
          1.95287090912172,
          -4.74251618329189,
          2.833562144440118,
          -0.2398195998006678,
          2.78299946504354,
          -0.14013650078382,
          -0.5301141508807443,
          -0.03717329932754924,
          0.6039292637070257,
          1.4601801225230944,
          0.37389330416926886,
          3.754141758654189,
          2.0183066815251465,
          -1.4556361887050673,
          2.6428457986952703,
          2.254506323039491,
          1.8263875540107817,
          -2.2312395663473907,
          0.6957863626651394,
          -2.3711293744616864,
          -1.924917829502984,
          -3.0039624909131795,
          -0.08910579025424446,
          -0.8201548436622684,
          1.871489666744384,
          0.15396114272498757,
          -0.25355009799989087,
          3.917254174536937,
          2.5896455390744313,
          2.441177344003576,
          1.6003678755579585,
          4.2071054438569275,
          3.633400002575317,
          2.6925985319035046,
          3.7443747809856007,
          3.70646383164423,
          4.4593717050440915,
          4.595596552346854,
          0.728906899769153,
          4.494287161104849
         ],
         "y": [
          -1.5886184926955258,
          2.058248048546883,
          1.4132378169305757,
          0.5667727289926331,
          -0.11159502354279216,
          0.6242697911532653,
          0.2475742474639641,
          1.5353910210093988,
          2.047483866340541,
          0.07818162643938144,
          0.208237649657342,
          1.5716570974449504,
          -0.8463869169375127,
          0.030046069402906658,
          -0.9528658940983183,
          2.2155822529729887,
          0.29521993100322885,
          1.0175273673902363,
          1.67600606407744,
          0.2662750847715317,
          -0.9721737552323771,
          1.0728776097152015,
          1.3904311048537314,
          1.5727208664083616,
          -0.961882218419476,
          -0.14060447663435266,
          -0.7589021941525002,
          1.8355607427510896,
          -2.3733058338266004,
          2.449585822575776,
          -0.553609482103177,
          -0.19142922910450705,
          3.5105483438683436,
          -0.6429477378727743,
          1.8056575330586735,
          0.3685080533456641,
          1.5894780485261846,
          0.4054077106652338,
          3.4371461304600737,
          1.7640142618454664,
          -0.03496198728765655,
          1.1018487971242743,
          2.034587358500781,
          1.9851166629513883,
          1.244201462857237,
          1.8281540350990368,
          1.4752156631868818,
          -0.7755543472657775,
          0.8188493217208682,
          0.8298096004041493,
          1.0910929439823351,
          2.1157142822878803,
          0.3447384136724346,
          3.580540826626132,
          3.5028222185195412,
          2.69901647277391,
          2.5522187386047426,
          3.062503122690676,
          4.264120942367927,
          3.508904461277126,
          3.6067642166021145,
          3.010216914561115,
          3.69091750039755,
          3.56816275838347,
          3.638745525557625,
          1.6519467221655046,
          4.275022796001163
         ]
        },
        {
         "line": {
          "color": "gray",
          "dash": "dot"
         },
         "mode": "lines",
         "showlegend": false,
         "type": "scatter",
         "x": [
          -10,
          8
         ],
         "y": [
          -10,
          8
         ]
        }
       ],
       "layout": {
        "autosize": false,
        "font": {
         "size": 20
        },
        "height": 600,
        "template": {
         "data": {
          "bar": [
           {
            "error_x": {
             "color": "rgb(36,36,36)"
            },
            "error_y": {
             "color": "rgb(36,36,36)"
            },
            "marker": {
             "line": {
              "color": "white",
              "width": 0.5
             },
             "pattern": {
              "fillmode": "overlay",
              "size": 10,
              "solidity": 0.2
             }
            },
            "type": "bar"
           }
          ],
          "barpolar": [
           {
            "marker": {
             "line": {
              "color": "white",
              "width": 0.5
             },
             "pattern": {
              "fillmode": "overlay",
              "size": 10,
              "solidity": 0.2
             }
            },
            "type": "barpolar"
           }
          ],
          "carpet": [
           {
            "aaxis": {
             "endlinecolor": "rgb(36,36,36)",
             "gridcolor": "white",
             "linecolor": "white",
             "minorgridcolor": "white",
             "startlinecolor": "rgb(36,36,36)"
            },
            "baxis": {
             "endlinecolor": "rgb(36,36,36)",
             "gridcolor": "white",
             "linecolor": "white",
             "minorgridcolor": "white",
             "startlinecolor": "rgb(36,36,36)"
            },
            "type": "carpet"
           }
          ],
          "choropleth": [
           {
            "colorbar": {
             "outlinewidth": 1,
             "tickcolor": "rgb(36,36,36)",
             "ticks": "outside"
            },
            "type": "choropleth"
           }
          ],
          "contour": [
           {
            "colorbar": {
             "outlinewidth": 1,
             "tickcolor": "rgb(36,36,36)",
             "ticks": "outside"
            },
            "colorscale": [
             [
              0,
              "#440154"
             ],
             [
              0.1111111111111111,
              "#482878"
             ],
             [
              0.2222222222222222,
              "#3e4989"
             ],
             [
              0.3333333333333333,
              "#31688e"
             ],
             [
              0.4444444444444444,
              "#26828e"
             ],
             [
              0.5555555555555556,
              "#1f9e89"
             ],
             [
              0.6666666666666666,
              "#35b779"
             ],
             [
              0.7777777777777778,
              "#6ece58"
             ],
             [
              0.8888888888888888,
              "#b5de2b"
             ],
             [
              1,
              "#fde725"
             ]
            ],
            "type": "contour"
           }
          ],
          "contourcarpet": [
           {
            "colorbar": {
             "outlinewidth": 1,
             "tickcolor": "rgb(36,36,36)",
             "ticks": "outside"
            },
            "type": "contourcarpet"
           }
          ],
          "heatmap": [
           {
            "colorbar": {
             "outlinewidth": 1,
             "tickcolor": "rgb(36,36,36)",
             "ticks": "outside"
            },
            "colorscale": [
             [
              0,
              "#440154"
             ],
             [
              0.1111111111111111,
              "#482878"
             ],
             [
              0.2222222222222222,
              "#3e4989"
             ],
             [
              0.3333333333333333,
              "#31688e"
             ],
             [
              0.4444444444444444,
              "#26828e"
             ],
             [
              0.5555555555555556,
              "#1f9e89"
             ],
             [
              0.6666666666666666,
              "#35b779"
             ],
             [
              0.7777777777777778,
              "#6ece58"
             ],
             [
              0.8888888888888888,
              "#b5de2b"
             ],
             [
              1,
              "#fde725"
             ]
            ],
            "type": "heatmap"
           }
          ],
          "heatmapgl": [
           {
            "colorbar": {
             "outlinewidth": 1,
             "tickcolor": "rgb(36,36,36)",
             "ticks": "outside"
            },
            "colorscale": [
             [
              0,
              "#440154"
             ],
             [
              0.1111111111111111,
              "#482878"
             ],
             [
              0.2222222222222222,
              "#3e4989"
             ],
             [
              0.3333333333333333,
              "#31688e"
             ],
             [
              0.4444444444444444,
              "#26828e"
             ],
             [
              0.5555555555555556,
              "#1f9e89"
             ],
             [
              0.6666666666666666,
              "#35b779"
             ],
             [
              0.7777777777777778,
              "#6ece58"
             ],
             [
              0.8888888888888888,
              "#b5de2b"
             ],
             [
              1,
              "#fde725"
             ]
            ],
            "type": "heatmapgl"
           }
          ],
          "histogram": [
           {
            "marker": {
             "line": {
              "color": "white",
              "width": 0.6
             }
            },
            "type": "histogram"
           }
          ],
          "histogram2d": [
           {
            "colorbar": {
             "outlinewidth": 1,
             "tickcolor": "rgb(36,36,36)",
             "ticks": "outside"
            },
            "colorscale": [
             [
              0,
              "#440154"
             ],
             [
              0.1111111111111111,
              "#482878"
             ],
             [
              0.2222222222222222,
              "#3e4989"
             ],
             [
              0.3333333333333333,
              "#31688e"
             ],
             [
              0.4444444444444444,
              "#26828e"
             ],
             [
              0.5555555555555556,
              "#1f9e89"
             ],
             [
              0.6666666666666666,
              "#35b779"
             ],
             [
              0.7777777777777778,
              "#6ece58"
             ],
             [
              0.8888888888888888,
              "#b5de2b"
             ],
             [
              1,
              "#fde725"
             ]
            ],
            "type": "histogram2d"
           }
          ],
          "histogram2dcontour": [
           {
            "colorbar": {
             "outlinewidth": 1,
             "tickcolor": "rgb(36,36,36)",
             "ticks": "outside"
            },
            "colorscale": [
             [
              0,
              "#440154"
             ],
             [
              0.1111111111111111,
              "#482878"
             ],
             [
              0.2222222222222222,
              "#3e4989"
             ],
             [
              0.3333333333333333,
              "#31688e"
             ],
             [
              0.4444444444444444,
              "#26828e"
             ],
             [
              0.5555555555555556,
              "#1f9e89"
             ],
             [
              0.6666666666666666,
              "#35b779"
             ],
             [
              0.7777777777777778,
              "#6ece58"
             ],
             [
              0.8888888888888888,
              "#b5de2b"
             ],
             [
              1,
              "#fde725"
             ]
            ],
            "type": "histogram2dcontour"
           }
          ],
          "mesh3d": [
           {
            "colorbar": {
             "outlinewidth": 1,
             "tickcolor": "rgb(36,36,36)",
             "ticks": "outside"
            },
            "type": "mesh3d"
           }
          ],
          "parcoords": [
           {
            "line": {
             "colorbar": {
              "outlinewidth": 1,
              "tickcolor": "rgb(36,36,36)",
              "ticks": "outside"
             }
            },
            "type": "parcoords"
           }
          ],
          "pie": [
           {
            "automargin": true,
            "type": "pie"
           }
          ],
          "scatter": [
           {
            "fillpattern": {
             "fillmode": "overlay",
             "size": 10,
             "solidity": 0.2
            },
            "type": "scatter"
           }
          ],
          "scatter3d": [
           {
            "line": {
             "colorbar": {
              "outlinewidth": 1,
              "tickcolor": "rgb(36,36,36)",
              "ticks": "outside"
             }
            },
            "marker": {
             "colorbar": {
              "outlinewidth": 1,
              "tickcolor": "rgb(36,36,36)",
              "ticks": "outside"
             }
            },
            "type": "scatter3d"
           }
          ],
          "scattercarpet": [
           {
            "marker": {
             "colorbar": {
              "outlinewidth": 1,
              "tickcolor": "rgb(36,36,36)",
              "ticks": "outside"
             }
            },
            "type": "scattercarpet"
           }
          ],
          "scattergeo": [
           {
            "marker": {
             "colorbar": {
              "outlinewidth": 1,
              "tickcolor": "rgb(36,36,36)",
              "ticks": "outside"
             }
            },
            "type": "scattergeo"
           }
          ],
          "scattergl": [
           {
            "marker": {
             "colorbar": {
              "outlinewidth": 1,
              "tickcolor": "rgb(36,36,36)",
              "ticks": "outside"
             }
            },
            "type": "scattergl"
           }
          ],
          "scattermapbox": [
           {
            "marker": {
             "colorbar": {
              "outlinewidth": 1,
              "tickcolor": "rgb(36,36,36)",
              "ticks": "outside"
             }
            },
            "type": "scattermapbox"
           }
          ],
          "scatterpolar": [
           {
            "marker": {
             "colorbar": {
              "outlinewidth": 1,
              "tickcolor": "rgb(36,36,36)",
              "ticks": "outside"
             }
            },
            "type": "scatterpolar"
           }
          ],
          "scatterpolargl": [
           {
            "marker": {
             "colorbar": {
              "outlinewidth": 1,
              "tickcolor": "rgb(36,36,36)",
              "ticks": "outside"
             }
            },
            "type": "scatterpolargl"
           }
          ],
          "scatterternary": [
           {
            "marker": {
             "colorbar": {
              "outlinewidth": 1,
              "tickcolor": "rgb(36,36,36)",
              "ticks": "outside"
             }
            },
            "type": "scatterternary"
           }
          ],
          "surface": [
           {
            "colorbar": {
             "outlinewidth": 1,
             "tickcolor": "rgb(36,36,36)",
             "ticks": "outside"
            },
            "colorscale": [
             [
              0,
              "#440154"
             ],
             [
              0.1111111111111111,
              "#482878"
             ],
             [
              0.2222222222222222,
              "#3e4989"
             ],
             [
              0.3333333333333333,
              "#31688e"
             ],
             [
              0.4444444444444444,
              "#26828e"
             ],
             [
              0.5555555555555556,
              "#1f9e89"
             ],
             [
              0.6666666666666666,
              "#35b779"
             ],
             [
              0.7777777777777778,
              "#6ece58"
             ],
             [
              0.8888888888888888,
              "#b5de2b"
             ],
             [
              1,
              "#fde725"
             ]
            ],
            "type": "surface"
           }
          ],
          "table": [
           {
            "cells": {
             "fill": {
              "color": "rgb(237,237,237)"
             },
             "line": {
              "color": "white"
             }
            },
            "header": {
             "fill": {
              "color": "rgb(217,217,217)"
             },
             "line": {
              "color": "white"
             }
            },
            "type": "table"
           }
          ]
         },
         "layout": {
          "annotationdefaults": {
           "arrowhead": 0,
           "arrowwidth": 1
          },
          "autotypenumbers": "strict",
          "coloraxis": {
           "colorbar": {
            "outlinewidth": 1,
            "tickcolor": "rgb(36,36,36)",
            "ticks": "outside"
           }
          },
          "colorscale": {
           "diverging": [
            [
             0,
             "rgb(103,0,31)"
            ],
            [
             0.1,
             "rgb(178,24,43)"
            ],
            [
             0.2,
             "rgb(214,96,77)"
            ],
            [
             0.3,
             "rgb(244,165,130)"
            ],
            [
             0.4,
             "rgb(253,219,199)"
            ],
            [
             0.5,
             "rgb(247,247,247)"
            ],
            [
             0.6,
             "rgb(209,229,240)"
            ],
            [
             0.7,
             "rgb(146,197,222)"
            ],
            [
             0.8,
             "rgb(67,147,195)"
            ],
            [
             0.9,
             "rgb(33,102,172)"
            ],
            [
             1,
             "rgb(5,48,97)"
            ]
           ],
           "sequential": [
            [
             0,
             "#440154"
            ],
            [
             0.1111111111111111,
             "#482878"
            ],
            [
             0.2222222222222222,
             "#3e4989"
            ],
            [
             0.3333333333333333,
             "#31688e"
            ],
            [
             0.4444444444444444,
             "#26828e"
            ],
            [
             0.5555555555555556,
             "#1f9e89"
            ],
            [
             0.6666666666666666,
             "#35b779"
            ],
            [
             0.7777777777777778,
             "#6ece58"
            ],
            [
             0.8888888888888888,
             "#b5de2b"
            ],
            [
             1,
             "#fde725"
            ]
           ],
           "sequentialminus": [
            [
             0,
             "#440154"
            ],
            [
             0.1111111111111111,
             "#482878"
            ],
            [
             0.2222222222222222,
             "#3e4989"
            ],
            [
             0.3333333333333333,
             "#31688e"
            ],
            [
             0.4444444444444444,
             "#26828e"
            ],
            [
             0.5555555555555556,
             "#1f9e89"
            ],
            [
             0.6666666666666666,
             "#35b779"
            ],
            [
             0.7777777777777778,
             "#6ece58"
            ],
            [
             0.8888888888888888,
             "#b5de2b"
            ],
            [
             1,
             "#fde725"
            ]
           ]
          },
          "colorway": [
           "#1F77B4",
           "#FF7F0E",
           "#2CA02C",
           "#D62728",
           "#9467BD",
           "#8C564B",
           "#E377C2",
           "#7F7F7F",
           "#BCBD22",
           "#17BECF"
          ],
          "font": {
           "color": "rgb(36,36,36)"
          },
          "geo": {
           "bgcolor": "white",
           "lakecolor": "white",
           "landcolor": "white",
           "showlakes": true,
           "showland": true,
           "subunitcolor": "white"
          },
          "hoverlabel": {
           "align": "left"
          },
          "hovermode": "closest",
          "mapbox": {
           "style": "light"
          },
          "paper_bgcolor": "white",
          "plot_bgcolor": "white",
          "polar": {
           "angularaxis": {
            "gridcolor": "rgb(232,232,232)",
            "linecolor": "rgb(36,36,36)",
            "showgrid": false,
            "showline": true,
            "ticks": "outside"
           },
           "bgcolor": "white",
           "radialaxis": {
            "gridcolor": "rgb(232,232,232)",
            "linecolor": "rgb(36,36,36)",
            "showgrid": false,
            "showline": true,
            "ticks": "outside"
           }
          },
          "scene": {
           "xaxis": {
            "backgroundcolor": "white",
            "gridcolor": "rgb(232,232,232)",
            "gridwidth": 2,
            "linecolor": "rgb(36,36,36)",
            "showbackground": true,
            "showgrid": false,
            "showline": true,
            "ticks": "outside",
            "zeroline": false,
            "zerolinecolor": "rgb(36,36,36)"
           },
           "yaxis": {
            "backgroundcolor": "white",
            "gridcolor": "rgb(232,232,232)",
            "gridwidth": 2,
            "linecolor": "rgb(36,36,36)",
            "showbackground": true,
            "showgrid": false,
            "showline": true,
            "ticks": "outside",
            "zeroline": false,
            "zerolinecolor": "rgb(36,36,36)"
           },
           "zaxis": {
            "backgroundcolor": "white",
            "gridcolor": "rgb(232,232,232)",
            "gridwidth": 2,
            "linecolor": "rgb(36,36,36)",
            "showbackground": true,
            "showgrid": false,
            "showline": true,
            "ticks": "outside",
            "zeroline": false,
            "zerolinecolor": "rgb(36,36,36)"
           }
          },
          "shapedefaults": {
           "fillcolor": "black",
           "line": {
            "width": 0
           },
           "opacity": 0.3
          },
          "ternary": {
           "aaxis": {
            "gridcolor": "rgb(232,232,232)",
            "linecolor": "rgb(36,36,36)",
            "showgrid": false,
            "showline": true,
            "ticks": "outside"
           },
           "baxis": {
            "gridcolor": "rgb(232,232,232)",
            "linecolor": "rgb(36,36,36)",
            "showgrid": false,
            "showline": true,
            "ticks": "outside"
           },
           "bgcolor": "white",
           "caxis": {
            "gridcolor": "rgb(232,232,232)",
            "linecolor": "rgb(36,36,36)",
            "showgrid": false,
            "showline": true,
            "ticks": "outside"
           }
          },
          "title": {
           "x": 0.05
          },
          "xaxis": {
           "automargin": true,
           "gridcolor": "rgb(232,232,232)",
           "linecolor": "rgb(36,36,36)",
           "showgrid": false,
           "showline": true,
           "ticks": "outside",
           "title": {
            "standoff": 15
           },
           "zeroline": false,
           "zerolinecolor": "rgb(36,36,36)"
          },
          "yaxis": {
           "automargin": true,
           "gridcolor": "rgb(232,232,232)",
           "linecolor": "rgb(36,36,36)",
           "showgrid": false,
           "showline": true,
           "ticks": "outside",
           "title": {
            "standoff": 15
           },
           "zeroline": false,
           "zerolinecolor": "rgb(36,36,36)"
          }
         }
        },
        "title": {
         "text": "et_dflt_distribution_250_mmf_pgnn_"
        },
        "width": 600,
        "xaxis": {
         "dtick": 2,
         "range": [
          -6.2,
          6.2
         ],
         "showgrid": false,
         "tick0": 0,
         "tickmode": "linear",
         "title": {
          "text": "ln(<i>d</i><sub>KP</sub>) (pm/V)"
         }
        },
        "yaxis": {
         "dtick": 2,
         "range": [
          -6.2,
          6.2
         ],
         "showgrid": false,
         "tick0": 0,
         "tickmode": "linear",
         "title": {
          "text": "ln(<i>d&#770;</i><sub>KP</sub>) (pm/V)"
         }
        }
       }
      }
     },
     "metadata": {},
     "output_type": "display_data"
    },
    {
     "name": "stderr",
     "output_type": "stream",
     "text": [
      "/tmp/ipykernel_40938/1044345493.py:29: RuntimeWarning:\n",
      "\n",
      "invalid value encountered in log\n",
      "\n"
     ]
    },
    {
     "data": {
      "application/vnd.plotly.v1+json": {
       "config": {
        "plotlyServerURL": "https://plot.ly"
       },
       "data": [
        {
         "mode": "markers",
         "name": "",
         "showlegend": false,
         "text": [
          "mp-10572",
          "mp-7582",
          "mp-22965",
          "mp-4586",
          "mp-1193269",
          "mp-1101862",
          "mp-1097061",
          "mp-998623",
          "mp-1028576",
          "mp-672118",
          "mp-1215418",
          "mp-23173",
          "mp-863755",
          "mp-1221954",
          "mp-1300570",
          "mp-1210659",
          "mp-554560",
          "mp-15776",
          "mp-28873",
          "mp-1102285",
          "mp-1227567",
          "mp-1220190",
          "mp-570084",
          "mp-17862",
          "mp-1190717",
          "mp-1217833",
          "mp-675779",
          "mp-27594",
          "mp-1218158",
          "mp-28140",
          "mp-766345",
          "agm002183415",
          "agm003160554",
          "agm002205907",
          "agm002233584",
          "agm003227564",
          "agm002793928",
          "mp-781710",
          "mp-1227011",
          "mp-1216863",
          "agm002135972",
          "agm003234420",
          "agm002218325",
          "mp-1216132",
          "mp-779863",
          "mp-38103",
          "mp-29362",
          "mp-1019715",
          "agm002054632",
          "mp-1204358",
          "mp-1105300",
          "mp-1228823",
          "mp-15833",
          "mp-1103351",
          "mp-24402",
          "mp-1095543",
          "mp-1188121",
          "mp-625521",
          "mp-23560",
          "mp-1227994",
          "mp-1079609",
          "mp-1192126",
          "agm002197344",
          "agm002177947",
          "mp-696347",
          "mp-1147693",
          "agm002156258",
          "mp-772748",
          "mp-1029422",
          "mp-1120718",
          "mp-1227036",
          "mp-1194520",
          "mp-1218006",
          "mp-1220913",
          "mp-1223822",
          "mp-1147725",
          "mp-984766",
          "mp-1210722",
          "agm003263235",
          "agm002215982",
          "mp-568968",
          "mp-27313",
          "mp-556024",
          "mp-28020",
          "mp-1229086",
          "mp-772875",
          "agm002363904",
          "mp-1223536",
          "mp-1147697",
          "mp-23887",
          "mp-18609",
          "agm002848041",
          "agm002133608",
          "agm003268240",
          "mp-1198890",
          "agm003200486",
          "mp-1096810",
          "mp-1105127",
          "mp-1216944",
          "mp-555915",
          "mp-776259",
          "agm002133663",
          "agm002790067",
          "agm002162961",
          "mp-767604",
          "agm003445531",
          "agm003206623",
          "mp-1227366",
          "agm005543540",
          "agm2000012572",
          "agm002205114",
          "agm003046706",
          "agm004786073",
          "agm003445638",
          "agm002149208",
          "agm2000022161",
          "agm2000001840",
          "agm002158429",
          "agm004751295",
          "agm005848257",
          "agm2000081842",
          "agm004879066",
          "agm001347560",
          "agm2000086862",
          "agm002102214",
          "mp-23807",
          "agm004954137",
          "agm004785400",
          "agm001234439",
          "agm2000011096",
          "agm2000002067",
          "agm003716707",
          "mp-554918",
          "agm005769896",
          "agm005698720",
          "agm004956590",
          "agm006124765",
          "mp-1202153",
          "mp-23914",
          "agm002073747",
          "agm004442672",
          "agm004929360",
          "agm003267560",
          "agm002171920",
          "mp-1215297",
          "agm2000005425",
          "agm004957147",
          "agm005723638",
          "mp-1080058",
          "agm004954098",
          "agm005069643",
          "agm002153441",
          "agm003220800",
          "agm005849998",
          "agm002138386",
          "agm004788917",
          "agm2000128635",
          "agm2000015113",
          "agm002861773",
          "agm004852876",
          "mp-1215966",
          "agm005607967",
          "agm1000019892",
          "agm003048415",
          "agm2000139348",
          "agm002158908",
          "agm002041688",
          "agm005049826",
          "mp-35799",
          "agm002072314",
          "agm002147787",
          "agm005408965",
          "mp-15840",
          "agm005839737",
          "agm003110472",
          "agm005189644",
          "mp-4681",
          "agm005086011",
          "agm002845532",
          "agm005086003",
          "agm2000101795",
          "agm005074722",
          "agm005180379"
         ],
         "type": "scatter",
         "x": [
          1.2535857027379442,
          3.2544420264838956,
          4.299435388156115,
          3.117857576672963,
          -5.318131018092295,
          -4.680997003779326,
          -0.859452261258409,
          0.7017827051305189,
          1.9310500401893735,
          -0.1394365106041502,
          4.634329350867877,
          3.202936260259023,
          1.7460214177666824,
          1.1527446112599784,
          -0.3371127122665699,
          -0.24731373666897977,
          -0.5855716958249642,
          3.9030676146621537,
          0.5219118776072554,
          1.9858987831854715,
          4.675680676425195,
          -0.02318900389906403,
          3.3953453285386987,
          3.502741045546834,
          -0.30022012231001327,
          2.5140976286605503,
          1.814222364992547,
          3.1794082199591855,
          0.9855598229690008,
          2.447486245453792,
          -2.784013076283266,
          4.14977762431867,
          4.283754648156561,
          4.101412174521215,
          2.8875867798719965,
          -1.4537135773415302,
          2.6257554259617946,
          2.7998477802550448,
          3.957572495507323,
          2.210616699426491,
          4.46393144142344,
          1.3194233164252194,
          4.081279329637554,
          1.3574084162445887,
          1.9510859681614985,
          -0.42205658984738215,
          -1.896230169803275,
          -0.10053542170817094,
          3.813376254197472,
          -1.4232630573525895,
          3.28690872407927,
          1.6478421350789498,
          1.1393840175378749,
          0.8074179428193387,
          -2.890935558257332,
          -0.8591967038217969,
          -1.6462198335926337,
          0.47165773666185984,
          0.6587912356611015,
          0.8638553728959156,
          1.1853325631867693,
          -0.15703862771354876,
          2.3366347042514617,
          4.0504165600425255,
          -0.9568114574748734,
          2.0374106720922405,
          -0.4009194821956806,
          -1.3032098743935028,
          3.1551356283741447,
          2.1241090575699313,
          -3.4630614548501875,
          -1.547245125508919,
          2.4842680842377427,
          1.3084114464845522,
          -0.4190322962140727,
          2.14370261410558,
          -2.1219148087192483,
          1.585823599242741,
          -1.6923529723634898,
          0.012395977141582776,
          3.483025350130514,
          -2.590785940555392,
          -4.272759873989225,
          0.2426156338334992,
          -1.7734080294320271,
          -4.916583863831777,
          0.291962875806547,
          2.732023881181247,
          2.0073184771879147,
          -0.20726096332075883,
          3.8703970560017473,
          -2.4835216162509544,
          0.5465510668176924,
          4.856541348780051,
          -1.762251626763439,
          -4.690858220270285,
          2.112315000506499,
          5.10663754573969,
          0.06032691913169146,
          -0.8720794454781192,
          1.0316722069080275,
          -2.3108782347640364,
          3.8433263345501425,
          3.3788263632624616,
          2.9455305167512837,
          0.9296345277841228,
          1.26823960830993,
          2.21045647278554,
          -0.13378271201079914,
          -3.1690133726884473,
          4.161423854925523,
          1.629779756220043,
          0.9940852448166454,
          0.5888586675978119,
          -2.2797230750007285,
          -3.3468795696046434,
          0.3707053695020218,
          1.4158289592838436,
          -1.4830449268700137,
          -0.25662464303577004,
          -2.231260397490708,
          1.0514802754489894,
          4.780614039066974,
          -3.3944090979479604,
          -0.5802464579117907,
          -0.6369918292556035,
          2.1838947297213016,
          2.858394096966816,
          -0.18960256344954837,
          -4.404000517442093,
          -2.849089586289161,
          -0.7253513868625268,
          0.9118789633700044,
          4.581737345426008,
          1.1387028199907938,
          -1.4475705987269594,
          2.3639290886114215,
          1.90925703383342,
          -1.9701819964887053,
          -0.9288649275236068,
          -3.2331705548521468,
          -0.33607255889531246,
          2.980006141767316,
          3.0620403510543546,
          2.5235344430960738,
          -4.505413520384964,
          -1.0911004514913645,
          2.9263454953307733,
          2.604260274629599,
          2.1686420301129914,
          1.5275258869649984,
          -0.31736426905615656,
          -1.4371431480329906,
          4.0287785630185375,
          -2.630466750735013,
          2.302388731742179,
          -4.6119427660876395,
          2.7124115994205176,
          2.672444652841187,
          2.475588240793691,
          2.18790580144196,
          -0.3228106003045135,
          -5.971859902643089,
          2.464955820581407,
          -3.1237026780344492,
          3.4261782218429517,
          1.72196886866056,
          1.8184234172780045,
          -0.4900170498382737,
          1.301459994015761,
          -2.653176007197353,
          0.607312690769973,
          -4.334204867231584,
          -0.8041476959236072,
          2.5227009895896133,
          1.542627374096005,
          3.030312687364971,
          -2.3137495717156273,
          0.016622021256289456,
          -2.6179531733286874,
          -0.8839449411010695,
          -2.175942815502295,
          0.2793276052583765
         ],
         "y": [
          0.8679805941133188,
          3.1471064715563535,
          3.690271897757862,
          3.44888691487974,
          -2.392343467444096,
          -1.3662823400879245,
          -1.3066870271736193,
          -0.2740770991374128,
          1.929221394805803,
          0.3373867326096651,
          4.082019481533645,
          2.156008491979452,
          2.054840590871595,
          1.9044208963881657,
          -0.5653096224285753,
          -0.29196504326705225,
          -1.0721723102918166,
          4.118509863254336,
          1.3739031695769444,
          1.7446868510289106,
          4.257323260481047,
          1.0707958160122752,
          3.4440073280951924,
          4.00015373810691,
          -1.1727330300522578,
          1.9956758806975832,
          1.213612519597129,
          3.3677954305071447,
          1.015933245923371,
          2.601311630649997,
          -0.518620482895668,
          4.139964233565124,
          4.402761072393385,
          3.471901197773679,
          3.038227214841944,
          -0.04990817632615686,
          2.0811840545282525,
          2.9436999599174527,
          3.6624454690173542,
          2.3736128900919633,
          4.765276822564319,
          0.8561712450688425,
          3.898916013752124,
          1.59664799583304,
          1.5641317956655898,
          -1.1398884284035606,
          2.250971613942854,
          -0.3936861544442317,
          3.25464569901002,
          -1.7410585208985234,
          3.126553433340441,
          2.246977115938066,
          1.0696996685208564,
          2.4080842632844797,
          -0.741940095487517,
          -1.788472079623258,
          -0.2799960630584214,
          0.3368683417201019,
          1.3248755870371434,
          0.2318135719107704,
          0.6803479545717824,
          1.0338652937885942,
          2.2365088300787974,
          3.876390135370801,
          -1.7504919791680775,
          2.0812232053365167,
          -1.1000351095943823,
          -1.7531404648477813,
          3.09800030106146,
          2.278321248656958,
          -2.1177995232264983,
          -0.11513751400781425,
          2.4680468517010614,
          1.2281395715320225,
          -0.9541319652952008,
          2.1123894850464344,
          -1.2968016640855522,
          1.1535839620476582,
          0.2513615148416891,
          -0.6484051906720903,
          3.4177405039784494,
          -1.6698763420184934,
          -1.3095418078571608,
          1.4853460363907802,
          1.0139245683444384,
          -0.2606121958244704,
          0.2797074745402131,
          2.420286321240709,
          2.0622863888697807,
          -0.7664938602690976,
          3.3717721433968677,
          -0.3680700565834363,
          1.3816531010776436,
          3.7318467288819392,
          0.17416209992964649,
          -1.97137539617626,
          1.9289393733006772,
          3.948268086764494,
          2.032121107103485,
          -0.14208245764910787,
          1.560710421776717,
          0.9195617244542276,
          3.7293764141267456,
          3.234304512760946,
          1.7116337023440724,
          1.670622823605643,
          0.659421130663796,
          2.017547366127006,
          0.4766779033850134,
          null,
          3.3543572859268065,
          1.7055966756266088,
          1.6514584681779572,
          1.1043342249573929,
          -1.5010999475132285,
          -3.1196893884142063,
          1.1467758136158108,
          1.571758735113064,
          -0.9345276092878682,
          0.5619239430829132,
          -1.0821033169930527,
          1.513275328191809,
          4.808723311610862,
          -0.0570131082733514,
          -0.24941697866147264,
          -0.10663185607671842,
          2.0630405980401547,
          2.4310120154295394,
          1.5957515788892964,
          -1.640873900617341,
          -2.985348614049949,
          -0.6465432505247245,
          -0.131936078769774,
          4.815950764480971,
          1.9417261540660729,
          -1.5333447315722624,
          3.2454891990363084,
          2.214156801066587,
          -0.6549991604517046,
          -0.48685723622462984,
          1.3171606041311164,
          0.5575264906315827,
          4.705436740516824,
          2.994692705222304,
          2.575281239223909,
          null,
          -1.8286811794518163,
          2.45028706892667,
          2.1698055669564194,
          2.0012380856370364,
          1.589260817755929,
          -0.1999745701259762,
          -0.08919070670139627,
          4.113954079873985,
          -3.45883075832362,
          1.4646226542328729,
          -0.913968313189309,
          3.3432009316878624,
          2.479397943260131,
          2.6428321278323192,
          1.9173641079908053,
          -0.6945246384861115,
          -2.146292151359945,
          2.632551499649857,
          0.27934087791520523,
          3.2077848840499397,
          2.482976379072953,
          2.069267302370614,
          1.826097475360157,
          0.7099226721516891,
          -1.875567097213134,
          0.2931495634738617,
          -0.3784377267576843,
          -0.9434070436684054,
          3.2282860602712304,
          1.61111373447988,
          2.3265133575950183,
          -1.531360915982061,
          1.3714065443478312,
          -2.739892263876139,
          0.4857331509687436,
          -1.5118686341275762,
          -0.10290255585309709
         ]
        },
        {
         "marker": {
          "color": "red"
         },
         "mode": "markers",
         "name": "",
         "showlegend": false,
         "text": [
          "mp-983357",
          "mp-8377",
          "mp-18938",
          "mp-5854",
          "mp-23778",
          "mp-19219",
          "mp-9197",
          "mp-553887",
          "mp-23407",
          "mp-555150",
          "mp-6062",
          "mp-863374",
          "mp-23363",
          "mp-23321",
          "mp-27755",
          "mp-3491",
          "mp-540634",
          "mp-557773",
          "mp-559961",
          "mp-556966",
          "mp-7324",
          "mp-622018",
          "mp-29305",
          "mp-639714",
          "mp-24118",
          "mp-555203",
          "mp-706621",
          "mp-16792",
          "mp-639506",
          "mp-5020",
          "mp-3589",
          "mp-28264",
          "mp-570136",
          "mp-862539",
          "mp-696946",
          "mp-27726",
          "mp-30530",
          "mp-626620",
          "mp-2691",
          "mp-21521",
          "mp-4690",
          "mp-756570",
          "mp-28918",
          "mp-754585",
          "mp-27914",
          "mp-29910",
          "mp-14367",
          "mp-557027",
          "mp-29525",
          "mp-23866",
          "mp-29524",
          "mp-559065",
          "mp-551629",
          "mp-9064",
          "mp-13666",
          "mp-14444",
          "mp-685145",
          "mp-830",
          "mp-31451",
          "mp-30847",
          "mp-36111",
          "mp-1184046",
          "mp-1215430",
          "mp-1017534",
          "mp-1018093",
          "mp-1008556",
          "mp-4524"
         ],
         "type": "scatter",
         "x": [
          -1.8096208618061576,
          0.2504227271074406,
          0.8941613940569432,
          -0.4674441755126255,
          -0.009002268456202991,
          0.5666426898300543,
          -1.3449585830088755,
          1.4776941635461027,
          2.079926524051517,
          0.513705495637027,
          0.5476543239715628,
          1.6669618542751743,
          -4.592323538872693,
          -3.20689539627952,
          -3.897564050666275,
          1.1735145249281067,
          -0.7756726081186056,
          -2.1582331976850906,
          -0.32095926897028487,
          -0.7931631025086933,
          -0.8107109875910264,
          4.353120895450229,
          0.7276446415584393,
          1.711101191434198,
          -0.9708882412195592,
          -0.5433816485054958,
          -1.748575568907935,
          1.95287090912172,
          -4.74251618329189,
          2.833562144440118,
          -0.2398195998006678,
          2.78299946504354,
          -0.14013650078382,
          -0.5301141508807443,
          -0.03717329932754924,
          0.6039292637070257,
          1.4601801225230944,
          0.37389330416926886,
          3.754141758654189,
          2.0183066815251465,
          -1.4556361887050673,
          2.6428457986952703,
          2.254506323039491,
          1.8263875540107817,
          -2.2312395663473907,
          0.6957863626651394,
          -2.3711293744616864,
          -1.924917829502984,
          -3.0039624909131795,
          -0.08910579025424446,
          -0.8201548436622684,
          1.871489666744384,
          0.15396114272498757,
          -0.25355009799989087,
          3.917254174536937,
          2.5896455390744313,
          2.441177344003576,
          1.6003678755579585,
          4.2071054438569275,
          3.633400002575317,
          2.6925985319035046,
          3.7443747809856007,
          3.70646383164423,
          4.4593717050440915,
          4.595596552346854,
          0.728906899769153,
          4.494287161104849
         ],
         "y": [
          -2.091405441318959,
          2.0047557327333134,
          0.8630315396038492,
          0.4691834459996701,
          0.03807308728811818,
          -0.11096188428084568,
          -0.959920246491427,
          1.154742762473954,
          2.1216059041690714,
          -0.011520208898096415,
          -0.12001261707655672,
          1.395723448674014,
          -2.058720625207238,
          -1.1128698474928571,
          -2.515283122074641,
          2.3836225602467724,
          0.2182914247712655,
          0.41263158181242526,
          0.906749913602439,
          -0.7632606253852331,
          -1.546756704484735,
          0.7205099789071523,
          0.7255303478141019,
          1.0656072328291812,
          -0.6886117923700876,
          -0.2663890564546848,
          -1.4492083785038796,
          -0.25555861310963696,
          -2.7205458526203543,
          1.9734728472511256,
          -0.5068387395909716,
          -0.638192770781195,
          2.2709003811025528,
          -0.2249913473975188,
          1.43854905125255,
          0.6901501234675097,
          0.8389414165168071,
          -0.05157763014018886,
          2.704588737202679,
          1.2118289648981646,
          -0.7164820051324128,
          0.32103433570387835,
          1.6004965566853904,
          -0.2195446841602491,
          0.2855641345352007,
          -0.06394862507176777,
          0.13477412201800346,
          -1.4944212026254016,
          -0.6804044185591037,
          -0.036403354613443885,
          -0.4599656397361501,
          2.12308152239396,
          0.2430977078480812,
          2.408320666101391,
          3.0721831630926317,
          2.514487259761721,
          2.0004107464780763,
          1.9162842460812504,
          4.329202475507043,
          3.798923456465062,
          1.6620859129916543,
          3.084584779243556,
          3.100427341868172,
          3.0833321725388045,
          3.5198777964905914,
          1.065031350358031,
          4.360915500135605
         ]
        },
        {
         "line": {
          "color": "gray",
          "dash": "dot"
         },
         "mode": "lines",
         "showlegend": false,
         "type": "scatter",
         "x": [
          -10,
          8
         ],
         "y": [
          -10,
          8
         ]
        }
       ],
       "layout": {
        "autosize": false,
        "font": {
         "size": 20
        },
        "height": 600,
        "template": {
         "data": {
          "bar": [
           {
            "error_x": {
             "color": "rgb(36,36,36)"
            },
            "error_y": {
             "color": "rgb(36,36,36)"
            },
            "marker": {
             "line": {
              "color": "white",
              "width": 0.5
             },
             "pattern": {
              "fillmode": "overlay",
              "size": 10,
              "solidity": 0.2
             }
            },
            "type": "bar"
           }
          ],
          "barpolar": [
           {
            "marker": {
             "line": {
              "color": "white",
              "width": 0.5
             },
             "pattern": {
              "fillmode": "overlay",
              "size": 10,
              "solidity": 0.2
             }
            },
            "type": "barpolar"
           }
          ],
          "carpet": [
           {
            "aaxis": {
             "endlinecolor": "rgb(36,36,36)",
             "gridcolor": "white",
             "linecolor": "white",
             "minorgridcolor": "white",
             "startlinecolor": "rgb(36,36,36)"
            },
            "baxis": {
             "endlinecolor": "rgb(36,36,36)",
             "gridcolor": "white",
             "linecolor": "white",
             "minorgridcolor": "white",
             "startlinecolor": "rgb(36,36,36)"
            },
            "type": "carpet"
           }
          ],
          "choropleth": [
           {
            "colorbar": {
             "outlinewidth": 1,
             "tickcolor": "rgb(36,36,36)",
             "ticks": "outside"
            },
            "type": "choropleth"
           }
          ],
          "contour": [
           {
            "colorbar": {
             "outlinewidth": 1,
             "tickcolor": "rgb(36,36,36)",
             "ticks": "outside"
            },
            "colorscale": [
             [
              0,
              "#440154"
             ],
             [
              0.1111111111111111,
              "#482878"
             ],
             [
              0.2222222222222222,
              "#3e4989"
             ],
             [
              0.3333333333333333,
              "#31688e"
             ],
             [
              0.4444444444444444,
              "#26828e"
             ],
             [
              0.5555555555555556,
              "#1f9e89"
             ],
             [
              0.6666666666666666,
              "#35b779"
             ],
             [
              0.7777777777777778,
              "#6ece58"
             ],
             [
              0.8888888888888888,
              "#b5de2b"
             ],
             [
              1,
              "#fde725"
             ]
            ],
            "type": "contour"
           }
          ],
          "contourcarpet": [
           {
            "colorbar": {
             "outlinewidth": 1,
             "tickcolor": "rgb(36,36,36)",
             "ticks": "outside"
            },
            "type": "contourcarpet"
           }
          ],
          "heatmap": [
           {
            "colorbar": {
             "outlinewidth": 1,
             "tickcolor": "rgb(36,36,36)",
             "ticks": "outside"
            },
            "colorscale": [
             [
              0,
              "#440154"
             ],
             [
              0.1111111111111111,
              "#482878"
             ],
             [
              0.2222222222222222,
              "#3e4989"
             ],
             [
              0.3333333333333333,
              "#31688e"
             ],
             [
              0.4444444444444444,
              "#26828e"
             ],
             [
              0.5555555555555556,
              "#1f9e89"
             ],
             [
              0.6666666666666666,
              "#35b779"
             ],
             [
              0.7777777777777778,
              "#6ece58"
             ],
             [
              0.8888888888888888,
              "#b5de2b"
             ],
             [
              1,
              "#fde725"
             ]
            ],
            "type": "heatmap"
           }
          ],
          "heatmapgl": [
           {
            "colorbar": {
             "outlinewidth": 1,
             "tickcolor": "rgb(36,36,36)",
             "ticks": "outside"
            },
            "colorscale": [
             [
              0,
              "#440154"
             ],
             [
              0.1111111111111111,
              "#482878"
             ],
             [
              0.2222222222222222,
              "#3e4989"
             ],
             [
              0.3333333333333333,
              "#31688e"
             ],
             [
              0.4444444444444444,
              "#26828e"
             ],
             [
              0.5555555555555556,
              "#1f9e89"
             ],
             [
              0.6666666666666666,
              "#35b779"
             ],
             [
              0.7777777777777778,
              "#6ece58"
             ],
             [
              0.8888888888888888,
              "#b5de2b"
             ],
             [
              1,
              "#fde725"
             ]
            ],
            "type": "heatmapgl"
           }
          ],
          "histogram": [
           {
            "marker": {
             "line": {
              "color": "white",
              "width": 0.6
             }
            },
            "type": "histogram"
           }
          ],
          "histogram2d": [
           {
            "colorbar": {
             "outlinewidth": 1,
             "tickcolor": "rgb(36,36,36)",
             "ticks": "outside"
            },
            "colorscale": [
             [
              0,
              "#440154"
             ],
             [
              0.1111111111111111,
              "#482878"
             ],
             [
              0.2222222222222222,
              "#3e4989"
             ],
             [
              0.3333333333333333,
              "#31688e"
             ],
             [
              0.4444444444444444,
              "#26828e"
             ],
             [
              0.5555555555555556,
              "#1f9e89"
             ],
             [
              0.6666666666666666,
              "#35b779"
             ],
             [
              0.7777777777777778,
              "#6ece58"
             ],
             [
              0.8888888888888888,
              "#b5de2b"
             ],
             [
              1,
              "#fde725"
             ]
            ],
            "type": "histogram2d"
           }
          ],
          "histogram2dcontour": [
           {
            "colorbar": {
             "outlinewidth": 1,
             "tickcolor": "rgb(36,36,36)",
             "ticks": "outside"
            },
            "colorscale": [
             [
              0,
              "#440154"
             ],
             [
              0.1111111111111111,
              "#482878"
             ],
             [
              0.2222222222222222,
              "#3e4989"
             ],
             [
              0.3333333333333333,
              "#31688e"
             ],
             [
              0.4444444444444444,
              "#26828e"
             ],
             [
              0.5555555555555556,
              "#1f9e89"
             ],
             [
              0.6666666666666666,
              "#35b779"
             ],
             [
              0.7777777777777778,
              "#6ece58"
             ],
             [
              0.8888888888888888,
              "#b5de2b"
             ],
             [
              1,
              "#fde725"
             ]
            ],
            "type": "histogram2dcontour"
           }
          ],
          "mesh3d": [
           {
            "colorbar": {
             "outlinewidth": 1,
             "tickcolor": "rgb(36,36,36)",
             "ticks": "outside"
            },
            "type": "mesh3d"
           }
          ],
          "parcoords": [
           {
            "line": {
             "colorbar": {
              "outlinewidth": 1,
              "tickcolor": "rgb(36,36,36)",
              "ticks": "outside"
             }
            },
            "type": "parcoords"
           }
          ],
          "pie": [
           {
            "automargin": true,
            "type": "pie"
           }
          ],
          "scatter": [
           {
            "fillpattern": {
             "fillmode": "overlay",
             "size": 10,
             "solidity": 0.2
            },
            "type": "scatter"
           }
          ],
          "scatter3d": [
           {
            "line": {
             "colorbar": {
              "outlinewidth": 1,
              "tickcolor": "rgb(36,36,36)",
              "ticks": "outside"
             }
            },
            "marker": {
             "colorbar": {
              "outlinewidth": 1,
              "tickcolor": "rgb(36,36,36)",
              "ticks": "outside"
             }
            },
            "type": "scatter3d"
           }
          ],
          "scattercarpet": [
           {
            "marker": {
             "colorbar": {
              "outlinewidth": 1,
              "tickcolor": "rgb(36,36,36)",
              "ticks": "outside"
             }
            },
            "type": "scattercarpet"
           }
          ],
          "scattergeo": [
           {
            "marker": {
             "colorbar": {
              "outlinewidth": 1,
              "tickcolor": "rgb(36,36,36)",
              "ticks": "outside"
             }
            },
            "type": "scattergeo"
           }
          ],
          "scattergl": [
           {
            "marker": {
             "colorbar": {
              "outlinewidth": 1,
              "tickcolor": "rgb(36,36,36)",
              "ticks": "outside"
             }
            },
            "type": "scattergl"
           }
          ],
          "scattermapbox": [
           {
            "marker": {
             "colorbar": {
              "outlinewidth": 1,
              "tickcolor": "rgb(36,36,36)",
              "ticks": "outside"
             }
            },
            "type": "scattermapbox"
           }
          ],
          "scatterpolar": [
           {
            "marker": {
             "colorbar": {
              "outlinewidth": 1,
              "tickcolor": "rgb(36,36,36)",
              "ticks": "outside"
             }
            },
            "type": "scatterpolar"
           }
          ],
          "scatterpolargl": [
           {
            "marker": {
             "colorbar": {
              "outlinewidth": 1,
              "tickcolor": "rgb(36,36,36)",
              "ticks": "outside"
             }
            },
            "type": "scatterpolargl"
           }
          ],
          "scatterternary": [
           {
            "marker": {
             "colorbar": {
              "outlinewidth": 1,
              "tickcolor": "rgb(36,36,36)",
              "ticks": "outside"
             }
            },
            "type": "scatterternary"
           }
          ],
          "surface": [
           {
            "colorbar": {
             "outlinewidth": 1,
             "tickcolor": "rgb(36,36,36)",
             "ticks": "outside"
            },
            "colorscale": [
             [
              0,
              "#440154"
             ],
             [
              0.1111111111111111,
              "#482878"
             ],
             [
              0.2222222222222222,
              "#3e4989"
             ],
             [
              0.3333333333333333,
              "#31688e"
             ],
             [
              0.4444444444444444,
              "#26828e"
             ],
             [
              0.5555555555555556,
              "#1f9e89"
             ],
             [
              0.6666666666666666,
              "#35b779"
             ],
             [
              0.7777777777777778,
              "#6ece58"
             ],
             [
              0.8888888888888888,
              "#b5de2b"
             ],
             [
              1,
              "#fde725"
             ]
            ],
            "type": "surface"
           }
          ],
          "table": [
           {
            "cells": {
             "fill": {
              "color": "rgb(237,237,237)"
             },
             "line": {
              "color": "white"
             }
            },
            "header": {
             "fill": {
              "color": "rgb(217,217,217)"
             },
             "line": {
              "color": "white"
             }
            },
            "type": "table"
           }
          ]
         },
         "layout": {
          "annotationdefaults": {
           "arrowhead": 0,
           "arrowwidth": 1
          },
          "autotypenumbers": "strict",
          "coloraxis": {
           "colorbar": {
            "outlinewidth": 1,
            "tickcolor": "rgb(36,36,36)",
            "ticks": "outside"
           }
          },
          "colorscale": {
           "diverging": [
            [
             0,
             "rgb(103,0,31)"
            ],
            [
             0.1,
             "rgb(178,24,43)"
            ],
            [
             0.2,
             "rgb(214,96,77)"
            ],
            [
             0.3,
             "rgb(244,165,130)"
            ],
            [
             0.4,
             "rgb(253,219,199)"
            ],
            [
             0.5,
             "rgb(247,247,247)"
            ],
            [
             0.6,
             "rgb(209,229,240)"
            ],
            [
             0.7,
             "rgb(146,197,222)"
            ],
            [
             0.8,
             "rgb(67,147,195)"
            ],
            [
             0.9,
             "rgb(33,102,172)"
            ],
            [
             1,
             "rgb(5,48,97)"
            ]
           ],
           "sequential": [
            [
             0,
             "#440154"
            ],
            [
             0.1111111111111111,
             "#482878"
            ],
            [
             0.2222222222222222,
             "#3e4989"
            ],
            [
             0.3333333333333333,
             "#31688e"
            ],
            [
             0.4444444444444444,
             "#26828e"
            ],
            [
             0.5555555555555556,
             "#1f9e89"
            ],
            [
             0.6666666666666666,
             "#35b779"
            ],
            [
             0.7777777777777778,
             "#6ece58"
            ],
            [
             0.8888888888888888,
             "#b5de2b"
            ],
            [
             1,
             "#fde725"
            ]
           ],
           "sequentialminus": [
            [
             0,
             "#440154"
            ],
            [
             0.1111111111111111,
             "#482878"
            ],
            [
             0.2222222222222222,
             "#3e4989"
            ],
            [
             0.3333333333333333,
             "#31688e"
            ],
            [
             0.4444444444444444,
             "#26828e"
            ],
            [
             0.5555555555555556,
             "#1f9e89"
            ],
            [
             0.6666666666666666,
             "#35b779"
            ],
            [
             0.7777777777777778,
             "#6ece58"
            ],
            [
             0.8888888888888888,
             "#b5de2b"
            ],
            [
             1,
             "#fde725"
            ]
           ]
          },
          "colorway": [
           "#1F77B4",
           "#FF7F0E",
           "#2CA02C",
           "#D62728",
           "#9467BD",
           "#8C564B",
           "#E377C2",
           "#7F7F7F",
           "#BCBD22",
           "#17BECF"
          ],
          "font": {
           "color": "rgb(36,36,36)"
          },
          "geo": {
           "bgcolor": "white",
           "lakecolor": "white",
           "landcolor": "white",
           "showlakes": true,
           "showland": true,
           "subunitcolor": "white"
          },
          "hoverlabel": {
           "align": "left"
          },
          "hovermode": "closest",
          "mapbox": {
           "style": "light"
          },
          "paper_bgcolor": "white",
          "plot_bgcolor": "white",
          "polar": {
           "angularaxis": {
            "gridcolor": "rgb(232,232,232)",
            "linecolor": "rgb(36,36,36)",
            "showgrid": false,
            "showline": true,
            "ticks": "outside"
           },
           "bgcolor": "white",
           "radialaxis": {
            "gridcolor": "rgb(232,232,232)",
            "linecolor": "rgb(36,36,36)",
            "showgrid": false,
            "showline": true,
            "ticks": "outside"
           }
          },
          "scene": {
           "xaxis": {
            "backgroundcolor": "white",
            "gridcolor": "rgb(232,232,232)",
            "gridwidth": 2,
            "linecolor": "rgb(36,36,36)",
            "showbackground": true,
            "showgrid": false,
            "showline": true,
            "ticks": "outside",
            "zeroline": false,
            "zerolinecolor": "rgb(36,36,36)"
           },
           "yaxis": {
            "backgroundcolor": "white",
            "gridcolor": "rgb(232,232,232)",
            "gridwidth": 2,
            "linecolor": "rgb(36,36,36)",
            "showbackground": true,
            "showgrid": false,
            "showline": true,
            "ticks": "outside",
            "zeroline": false,
            "zerolinecolor": "rgb(36,36,36)"
           },
           "zaxis": {
            "backgroundcolor": "white",
            "gridcolor": "rgb(232,232,232)",
            "gridwidth": 2,
            "linecolor": "rgb(36,36,36)",
            "showbackground": true,
            "showgrid": false,
            "showline": true,
            "ticks": "outside",
            "zeroline": false,
            "zerolinecolor": "rgb(36,36,36)"
           }
          },
          "shapedefaults": {
           "fillcolor": "black",
           "line": {
            "width": 0
           },
           "opacity": 0.3
          },
          "ternary": {
           "aaxis": {
            "gridcolor": "rgb(232,232,232)",
            "linecolor": "rgb(36,36,36)",
            "showgrid": false,
            "showline": true,
            "ticks": "outside"
           },
           "baxis": {
            "gridcolor": "rgb(232,232,232)",
            "linecolor": "rgb(36,36,36)",
            "showgrid": false,
            "showline": true,
            "ticks": "outside"
           },
           "bgcolor": "white",
           "caxis": {
            "gridcolor": "rgb(232,232,232)",
            "linecolor": "rgb(36,36,36)",
            "showgrid": false,
            "showline": true,
            "ticks": "outside"
           }
          },
          "title": {
           "x": 0.05
          },
          "xaxis": {
           "automargin": true,
           "gridcolor": "rgb(232,232,232)",
           "linecolor": "rgb(36,36,36)",
           "showgrid": false,
           "showline": true,
           "ticks": "outside",
           "title": {
            "standoff": 15
           },
           "zeroline": false,
           "zerolinecolor": "rgb(36,36,36)"
          },
          "yaxis": {
           "automargin": true,
           "gridcolor": "rgb(232,232,232)",
           "linecolor": "rgb(36,36,36)",
           "showgrid": false,
           "showline": true,
           "ticks": "outside",
           "title": {
            "standoff": 15
           },
           "zeroline": false,
           "zerolinecolor": "rgb(36,36,36)"
          }
         }
        },
        "title": {
         "text": "modnet_distribution_250_mmf_pgnn_"
        },
        "width": 600,
        "xaxis": {
         "dtick": 2,
         "range": [
          -6.2,
          6.2
         ],
         "showgrid": false,
         "tick0": 0,
         "tickmode": "linear",
         "title": {
          "text": "ln(<i>d</i><sub>KP</sub>) (pm/V)"
         }
        },
        "yaxis": {
         "dtick": 2,
         "range": [
          -6.2,
          6.2
         ],
         "showgrid": false,
         "tick0": 0,
         "tickmode": "linear",
         "title": {
          "text": "ln(<i>d&#770;</i><sub>KP</sub>) (pm/V)"
         }
        }
       }
      }
     },
     "metadata": {},
     "output_type": "display_data"
    },
    {
     "data": {
      "application/vnd.plotly.v1+json": {
       "config": {
        "plotlyServerURL": "https://plot.ly"
       },
       "data": [
        {
         "mode": "markers",
         "name": "",
         "showlegend": false,
         "text": [
          "mp-10572",
          "mp-7582",
          "mp-22965",
          "mp-4586",
          "mp-1193269",
          "mp-1101862",
          "mp-1097061",
          "mp-998623",
          "mp-1028576",
          "mp-672118",
          "mp-1215418",
          "mp-23173",
          "mp-863755",
          "mp-1221954",
          "mp-1300570",
          "mp-1210659",
          "mp-554560",
          "mp-15776",
          "mp-28873",
          "mp-1102285",
          "mp-1227567",
          "mp-1220190",
          "mp-570084",
          "mp-17862",
          "mp-1190717",
          "mp-1217833",
          "mp-675779",
          "mp-27594",
          "mp-1218158",
          "mp-28140",
          "mp-766345",
          "agm002183415",
          "agm003160554",
          "agm002205907",
          "agm002233584",
          "agm003227564",
          "agm002793928",
          "mp-781710",
          "mp-1227011",
          "mp-1216863",
          "agm002135972",
          "agm003234420",
          "agm002218325",
          "mp-1216132",
          "mp-779863",
          "mp-38103",
          "mp-29362",
          "mp-1019715",
          "agm002054632",
          "mp-1204358",
          "mp-1105300",
          "mp-1228823",
          "mp-15833",
          "mp-1103351",
          "mp-24402",
          "mp-1095543",
          "mp-1188121",
          "mp-625521",
          "mp-23560",
          "mp-1227994",
          "mp-1079609",
          "mp-1192126",
          "agm002197344",
          "agm002177947",
          "mp-696347",
          "mp-1147693",
          "agm002156258",
          "mp-772748",
          "mp-1029422",
          "mp-1120718",
          "mp-1227036",
          "mp-1194520",
          "mp-1218006",
          "mp-1220913",
          "mp-1223822",
          "mp-1147725",
          "mp-984766",
          "mp-1210722",
          "agm003263235",
          "agm002215982",
          "mp-568968",
          "mp-27313",
          "mp-556024",
          "mp-28020",
          "mp-1229086",
          "mp-772875",
          "agm002363904",
          "mp-1223536",
          "mp-1147697",
          "mp-23887",
          "mp-18609",
          "agm002848041",
          "agm002133608",
          "agm003268240",
          "mp-1198890",
          "agm003200486",
          "mp-1096810",
          "mp-1105127",
          "mp-1216944",
          "mp-555915",
          "mp-776259",
          "agm002133663",
          "agm002790067",
          "agm002162961",
          "mp-767604",
          "agm003445531",
          "agm003206623",
          "mp-1227366",
          "agm005543540",
          "agm2000012572",
          "agm002205114",
          "agm003046706",
          "agm004786073",
          "agm003445638",
          "agm002149208",
          "agm2000022161",
          "agm2000001840",
          "agm002158429",
          "agm004751295",
          "agm005848257",
          "agm2000081842",
          "agm004879066",
          "agm001347560",
          "agm2000086862",
          "agm002102214",
          "mp-23807",
          "agm004954137",
          "agm004785400",
          "agm001234439",
          "agm2000011096",
          "agm2000002067",
          "agm003716707",
          "mp-554918",
          "agm005769896",
          "agm005698720",
          "agm004956590",
          "agm006124765",
          "mp-1202153",
          "mp-23914",
          "agm002073747",
          "agm004442672",
          "agm004929360",
          "agm003267560",
          "agm002171920",
          "mp-1215297",
          "agm2000005425",
          "agm004957147",
          "agm005723638",
          "mp-1080058",
          "agm004954098",
          "agm005069643",
          "agm002153441",
          "agm003220800",
          "agm005849998",
          "agm002138386",
          "agm004788917",
          "agm2000128635",
          "agm2000015113",
          "agm002861773",
          "agm004852876",
          "mp-1215966",
          "agm005607967",
          "agm1000019892",
          "agm003048415",
          "agm2000139348",
          "agm002158908",
          "agm002041688",
          "agm005049826",
          "mp-35799",
          "agm002072314",
          "agm002147787",
          "agm005408965",
          "mp-15840",
          "agm005839737",
          "agm003110472",
          "agm005189644",
          "mp-4681",
          "agm005086011",
          "agm002845532",
          "agm005086003",
          "agm2000101795",
          "agm005074722",
          "agm005180379"
         ],
         "type": "scatter",
         "x": [
          1.2535857027379442,
          3.2544420264838956,
          4.299435388156115,
          3.117857576672963,
          -5.318131018092295,
          -4.680997003779326,
          -0.859452261258409,
          0.7017827051305189,
          1.9310500401893735,
          -0.1394365106041502,
          4.634329350867877,
          3.202936260259023,
          1.7460214177666824,
          1.1527446112599784,
          -0.3371127122665699,
          -0.24731373666897977,
          -0.5855716958249642,
          3.9030676146621537,
          0.5219118776072554,
          1.9858987831854715,
          4.675680676425195,
          -0.02318900389906403,
          3.3953453285386987,
          3.502741045546834,
          -0.30022012231001327,
          2.5140976286605503,
          1.814222364992547,
          3.1794082199591855,
          0.9855598229690008,
          2.447486245453792,
          -2.784013076283266,
          4.14977762431867,
          4.283754648156561,
          4.101412174521215,
          2.8875867798719965,
          -1.4537135773415302,
          2.6257554259617946,
          2.7998477802550448,
          3.957572495507323,
          2.210616699426491,
          4.46393144142344,
          1.3194233164252194,
          4.081279329637554,
          1.3574084162445887,
          1.9510859681614985,
          -0.42205658984738215,
          -1.896230169803275,
          -0.10053542170817094,
          3.813376254197472,
          -1.4232630573525895,
          3.28690872407927,
          1.6478421350789498,
          1.1393840175378749,
          0.8074179428193387,
          -2.890935558257332,
          -0.8591967038217969,
          -1.6462198335926337,
          0.47165773666185984,
          0.6587912356611015,
          0.8638553728959156,
          1.1853325631867693,
          -0.15703862771354876,
          2.3366347042514617,
          4.0504165600425255,
          -0.9568114574748734,
          2.0374106720922405,
          -0.4009194821956806,
          -1.3032098743935028,
          3.1551356283741447,
          2.1241090575699313,
          -3.4630614548501875,
          -1.547245125508919,
          2.4842680842377427,
          1.3084114464845522,
          -0.4190322962140727,
          2.14370261410558,
          -2.1219148087192483,
          1.585823599242741,
          -1.6923529723634898,
          0.012395977141582776,
          3.483025350130514,
          -2.590785940555392,
          -4.272759873989225,
          0.2426156338334992,
          -1.7734080294320271,
          -4.916583863831777,
          0.291962875806547,
          2.732023881181247,
          2.0073184771879147,
          -0.20726096332075883,
          3.8703970560017473,
          -2.4835216162509544,
          0.5465510668176924,
          4.856541348780051,
          -1.762251626763439,
          -4.690858220270285,
          2.112315000506499,
          5.10663754573969,
          0.06032691913169146,
          -0.8720794454781192,
          1.0316722069080275,
          -2.3108782347640364,
          3.8433263345501425,
          3.3788263632624616,
          2.9455305167512837,
          0.9296345277841228,
          1.26823960830993,
          2.21045647278554,
          -0.13378271201079914,
          -3.1690133726884473,
          4.161423854925523,
          1.629779756220043,
          0.9940852448166454,
          0.5888586675978119,
          -2.2797230750007285,
          -3.3468795696046434,
          0.3707053695020218,
          1.4158289592838436,
          -1.4830449268700137,
          -0.25662464303577004,
          -2.231260397490708,
          1.0514802754489894,
          4.780614039066974,
          -3.3944090979479604,
          -0.5802464579117907,
          -0.6369918292556035,
          2.1838947297213016,
          2.858394096966816,
          -0.18960256344954837,
          -4.404000517442093,
          -2.849089586289161,
          -0.7253513868625268,
          0.9118789633700044,
          4.581737345426008,
          1.1387028199907938,
          -1.4475705987269594,
          2.3639290886114215,
          1.90925703383342,
          -1.9701819964887053,
          -0.9288649275236068,
          -3.2331705548521468,
          -0.33607255889531246,
          2.980006141767316,
          3.0620403510543546,
          2.5235344430960738,
          -4.505413520384964,
          -1.0911004514913645,
          2.9263454953307733,
          2.604260274629599,
          2.1686420301129914,
          1.5275258869649984,
          -0.31736426905615656,
          -1.4371431480329906,
          4.0287785630185375,
          -2.630466750735013,
          2.302388731742179,
          -4.6119427660876395,
          2.7124115994205176,
          2.672444652841187,
          2.475588240793691,
          2.18790580144196,
          -0.3228106003045135,
          -5.971859902643089,
          2.464955820581407,
          -3.1237026780344492,
          3.4261782218429517,
          1.72196886866056,
          1.8184234172780045,
          -0.4900170498382737,
          1.301459994015761,
          -2.653176007197353,
          0.607312690769973,
          -4.334204867231584,
          -0.8041476959236072,
          2.5227009895896133,
          1.542627374096005,
          3.030312687364971,
          -2.3137495717156273,
          0.016622021256289456,
          -2.6179531733286874,
          -0.8839449411010695,
          -2.175942815502295,
          0.2793276052583765
         ],
         "y": [
          2.009292593049824,
          3.3720680795291513,
          1.0756292921956967,
          3.5947126152802147,
          -0.07927991592473492,
          -0.7117381701831974,
          -0.552551804547579,
          0.4521490837518309,
          2.0105837127504365,
          0.4439110499884727,
          4.155190896400718,
          0.4299727330134116,
          2.419056621998902,
          0.7385786772831252,
          -1.853065159845514,
          -0.04701517512252233,
          -0.7069736619258008,
          3.459074047800868,
          1.3303346540652334,
          2.2161125073558856,
          3.3882038564703945,
          0.032288375246001734,
          3.827437580821008,
          1.6601772011835456,
          0.21100284826797489,
          1.9262031246175892,
          1.4990291160995748,
          2.632416604330577,
          1.3093157942916729,
          0.006986961048221102,
          -1.209877096208593,
          3.290334484345289,
          1.9987818417335388,
          4.019030664242071,
          2.69053049414302,
          0.32151975725909865,
          2.0058601925084343,
          1.4873155401120597,
          2.7846573638684773,
          2.291700166817757,
          2.3184904142872655,
          1.4879701362205302,
          4.231757237458665,
          1.246734405249885,
          1.9991238463587413,
          -4.1893556602081405,
          1.417407432449537,
          0.890803890139812,
          2.630970943015802,
          -0.4874434857200009,
          3.263624467877164,
          1.8826598729563735,
          0.8865623929728188,
          1.528112173472235,
          1.335288100358048,
          -0.2366459038245638,
          -0.33584074364219285,
          0.27667815644843335,
          1.328232922614092,
          1.3244498597980017,
          1.7974260646786635,
          0.8005152532077314,
          2.4582197495417297,
          1.474479452934332,
          1.3170041683254736,
          2.0288837067607597,
          -0.366015629255408,
          -0.06561641848180981,
          2.6777604901970777,
          0.5975651659067798,
          -0.3017685878350785,
          0.2317646176765139,
          2.8506014066688334,
          1.4469255391091045,
          1.1851073771229264,
          2.1790921059938,
          -1.9623894542618363,
          1.689695581637327,
          -1.4444024199707424,
          1.0421978946106358,
          3.569787205168909,
          0.05016457796489182,
          0.1912613134392964,
          0.7456255182199419,
          0.477319496161008,
          -2.9186286397203887,
          1.0807306417072595,
          2.743322237856477,
          1.954274473680665,
          -0.6789786264573541,
          -0.528424551223631,
          2.4359342683175194,
          2.008420614325468,
          2.471022075816436,
          -0.028362426193140472,
          -3.1082645332378696,
          1.956142116865384,
          1.6608144826882008,
          0.5023453205356834,
          -2.484828925778676,
          0.7868527073878286,
          -5.7519649158252,
          3.664655178187786,
          1.531069251810154,
          2.9733513548881163,
          1.165088155807588,
          1.1605318136900618,
          1.3305170348341826,
          -0.1962560677306973,
          -2.0168765618043993,
          4.418210396821267,
          1.727734613654465,
          1.0835993992806736,
          0.642994419783939,
          0.3244116307708672,
          -1.0561087764114507,
          1.0546919377114712,
          0.9936131763849724,
          0.3103712751263725,
          -0.046254655573194435,
          0.605193717024396,
          1.3514310670594512,
          5.3118082348975095,
          0.8014521159563986,
          0.3524362265450234,
          0.732373368801119,
          2.6787476209624845,
          2.2927870478941657,
          -0.29122392814582687,
          0.17288527584480648,
          -0.3612708514945037,
          0.21694920925838496,
          1.1825831673923424,
          1.5115615464246912,
          2.4701783232708436,
          0.07374079269374528,
          3.1077548045694927,
          1.4537622418757432,
          -1.7882609797009583,
          -0.031153173811722508,
          -1.1105721360200889,
          -0.030464121653128617,
          2.591917834267244,
          3.0295630243715497,
          2.5980393559910473,
          -0.2728000712431825,
          -0.5905430226254034,
          2.918995731506475,
          2.625738534640242,
          2.427162165303111,
          1.6133521938651492,
          0.45500804331319905,
          0.07575361046723014,
          3.815458787091143,
          0.14786948136147873,
          1.335116329243788,
          -0.35153610745827363,
          3.029392554164513,
          2.223643874622375,
          2.2801145792992825,
          2.125719418680627,
          0.8610871514850147,
          -0.468944098130722,
          2.0156263731171085,
          0.9338098463776168,
          2.020155137612811,
          2.330675158433583,
          -0.15418483237669223,
          -0.486004026615088,
          1.4108585131231104,
          1.4127959643442902,
          1.3281935684859114,
          -2.465708429970212,
          -0.1062883361057658,
          3.408422332286387,
          1.600063788588523,
          2.518888967285444,
          0.47601150442021833,
          1.7939551411034236,
          -0.25698579637634444,
          0.8399094004301189,
          0.4957977754808892,
          1.1551746938586698
         ]
        },
        {
         "marker": {
          "color": "red"
         },
         "mode": "markers",
         "name": "",
         "showlegend": false,
         "text": [
          "mp-983357",
          "mp-8377",
          "mp-18938",
          "mp-5854",
          "mp-23778",
          "mp-19219",
          "mp-9197",
          "mp-553887",
          "mp-23407",
          "mp-555150",
          "mp-6062",
          "mp-863374",
          "mp-23363",
          "mp-23321",
          "mp-27755",
          "mp-3491",
          "mp-540634",
          "mp-557773",
          "mp-559961",
          "mp-556966",
          "mp-7324",
          "mp-622018",
          "mp-29305",
          "mp-639714",
          "mp-24118",
          "mp-555203",
          "mp-706621",
          "mp-16792",
          "mp-639506",
          "mp-5020",
          "mp-3589",
          "mp-28264",
          "mp-570136",
          "mp-862539",
          "mp-696946",
          "mp-27726",
          "mp-30530",
          "mp-626620",
          "mp-2691",
          "mp-21521",
          "mp-4690",
          "mp-756570",
          "mp-28918",
          "mp-754585",
          "mp-27914",
          "mp-29910",
          "mp-14367",
          "mp-557027",
          "mp-29525",
          "mp-23866",
          "mp-29524",
          "mp-559065",
          "mp-551629",
          "mp-9064",
          "mp-13666",
          "mp-14444",
          "mp-685145",
          "mp-830",
          "mp-31451",
          "mp-30847",
          "mp-36111",
          "mp-1184046",
          "mp-1215430",
          "mp-1017534",
          "mp-1018093",
          "mp-1008556",
          "mp-4524"
         ],
         "type": "scatter",
         "x": [
          -1.8096208618061576,
          0.2504227271074406,
          0.8941613940569432,
          -0.4674441755126255,
          -0.009002268456202991,
          0.5666426898300543,
          -1.3449585830088755,
          1.4776941635461027,
          2.079926524051517,
          0.513705495637027,
          0.5476543239715628,
          1.6669618542751743,
          -4.592323538872693,
          -3.20689539627952,
          -3.897564050666275,
          1.1735145249281067,
          -0.7756726081186056,
          -2.1582331976850906,
          -0.32095926897028487,
          -0.7931631025086933,
          -0.8107109875910264,
          4.353120895450229,
          0.7276446415584393,
          1.711101191434198,
          -0.9708882412195592,
          -0.5433816485054958,
          -1.748575568907935,
          1.95287090912172,
          -4.74251618329189,
          2.833562144440118,
          -0.2398195998006678,
          2.78299946504354,
          -0.14013650078382,
          -0.5301141508807443,
          -0.03717329932754924,
          0.6039292637070257,
          1.4601801225230944,
          0.37389330416926886,
          3.754141758654189,
          2.0183066815251465,
          -1.4556361887050673,
          2.6428457986952703,
          2.254506323039491,
          1.8263875540107817,
          -2.2312395663473907,
          0.6957863626651394,
          -2.3711293744616864,
          -1.924917829502984,
          -3.0039624909131795,
          -0.08910579025424446,
          -0.8201548436622684,
          1.871489666744384,
          0.15396114272498757,
          -0.25355009799989087,
          3.917254174536937,
          2.5896455390744313,
          2.441177344003576,
          1.6003678755579585,
          4.2071054438569275,
          3.633400002575317,
          2.6925985319035046,
          3.7443747809856007,
          3.70646383164423,
          4.4593717050440915,
          4.595596552346854,
          0.728906899769153,
          4.494287161104849
         ],
         "y": [
          1.1673969940424398,
          0.8956307048632877,
          1.0884141890038304,
          0.508315001041915,
          1.105473347074272,
          0.6111162744191143,
          1.1334118488302551,
          1.444677211631125,
          2.1631302061089404,
          0.5796920394353952,
          -0.08005769349831003,
          0.9697775287635448,
          -0.5294441385577314,
          1.5747449283328778,
          -1.617115430109417,
          1.2939260387643132,
          0.0608105455242397,
          0.2884241455122227,
          0.8864461410393959,
          0.1889992859669175,
          1.0422053200527546,
          0.8536294877595889,
          1.6102678041157497,
          1.9021531381680572,
          0.608551884399928,
          -0.6163977324909664,
          -0.8333375470593678,
          0.07701560726089292,
          -0.5400091013109046,
          2.1961263023646493,
          1.700719080786255,
          0.8714491499937556,
          -0.9609076793119268,
          0.1088664116679324,
          0.1922610614999859,
          0.2610417728382189,
          -0.6574334923975224,
          1.0442208213388156,
          1.9759885262305787,
          0.3193631369559811,
          -0.5938227617180101,
          0.6017425557011,
          0.9482528391866708,
          0.7792089180447168,
          0.8106831978388843,
          1.359185018888531,
          0.9714443351533198,
          -0.01641170874577685,
          0.31670909148887866,
          -1.0706198757227232,
          -0.7292859650686349,
          1.460767417322155,
          -0.48845128431101126,
          -0.6124538357676343,
          2.681668249655534,
          1.7339170695908583,
          1.803602586870972,
          1.787071755344118,
          4.445527747651194,
          3.205623571392308,
          2.992824557355391,
          2.1356375411257895,
          1.9230381868425728,
          2.8823039365156116,
          4.611053594210061,
          1.5152260846704169,
          4.234617971191713
         ]
        },
        {
         "line": {
          "color": "gray",
          "dash": "dot"
         },
         "mode": "lines",
         "showlegend": false,
         "type": "scatter",
         "x": [
          -10,
          8
         ],
         "y": [
          -10,
          8
         ]
        }
       ],
       "layout": {
        "autosize": false,
        "font": {
         "size": 20
        },
        "height": 600,
        "template": {
         "data": {
          "bar": [
           {
            "error_x": {
             "color": "rgb(36,36,36)"
            },
            "error_y": {
             "color": "rgb(36,36,36)"
            },
            "marker": {
             "line": {
              "color": "white",
              "width": 0.5
             },
             "pattern": {
              "fillmode": "overlay",
              "size": 10,
              "solidity": 0.2
             }
            },
            "type": "bar"
           }
          ],
          "barpolar": [
           {
            "marker": {
             "line": {
              "color": "white",
              "width": 0.5
             },
             "pattern": {
              "fillmode": "overlay",
              "size": 10,
              "solidity": 0.2
             }
            },
            "type": "barpolar"
           }
          ],
          "carpet": [
           {
            "aaxis": {
             "endlinecolor": "rgb(36,36,36)",
             "gridcolor": "white",
             "linecolor": "white",
             "minorgridcolor": "white",
             "startlinecolor": "rgb(36,36,36)"
            },
            "baxis": {
             "endlinecolor": "rgb(36,36,36)",
             "gridcolor": "white",
             "linecolor": "white",
             "minorgridcolor": "white",
             "startlinecolor": "rgb(36,36,36)"
            },
            "type": "carpet"
           }
          ],
          "choropleth": [
           {
            "colorbar": {
             "outlinewidth": 1,
             "tickcolor": "rgb(36,36,36)",
             "ticks": "outside"
            },
            "type": "choropleth"
           }
          ],
          "contour": [
           {
            "colorbar": {
             "outlinewidth": 1,
             "tickcolor": "rgb(36,36,36)",
             "ticks": "outside"
            },
            "colorscale": [
             [
              0,
              "#440154"
             ],
             [
              0.1111111111111111,
              "#482878"
             ],
             [
              0.2222222222222222,
              "#3e4989"
             ],
             [
              0.3333333333333333,
              "#31688e"
             ],
             [
              0.4444444444444444,
              "#26828e"
             ],
             [
              0.5555555555555556,
              "#1f9e89"
             ],
             [
              0.6666666666666666,
              "#35b779"
             ],
             [
              0.7777777777777778,
              "#6ece58"
             ],
             [
              0.8888888888888888,
              "#b5de2b"
             ],
             [
              1,
              "#fde725"
             ]
            ],
            "type": "contour"
           }
          ],
          "contourcarpet": [
           {
            "colorbar": {
             "outlinewidth": 1,
             "tickcolor": "rgb(36,36,36)",
             "ticks": "outside"
            },
            "type": "contourcarpet"
           }
          ],
          "heatmap": [
           {
            "colorbar": {
             "outlinewidth": 1,
             "tickcolor": "rgb(36,36,36)",
             "ticks": "outside"
            },
            "colorscale": [
             [
              0,
              "#440154"
             ],
             [
              0.1111111111111111,
              "#482878"
             ],
             [
              0.2222222222222222,
              "#3e4989"
             ],
             [
              0.3333333333333333,
              "#31688e"
             ],
             [
              0.4444444444444444,
              "#26828e"
             ],
             [
              0.5555555555555556,
              "#1f9e89"
             ],
             [
              0.6666666666666666,
              "#35b779"
             ],
             [
              0.7777777777777778,
              "#6ece58"
             ],
             [
              0.8888888888888888,
              "#b5de2b"
             ],
             [
              1,
              "#fde725"
             ]
            ],
            "type": "heatmap"
           }
          ],
          "heatmapgl": [
           {
            "colorbar": {
             "outlinewidth": 1,
             "tickcolor": "rgb(36,36,36)",
             "ticks": "outside"
            },
            "colorscale": [
             [
              0,
              "#440154"
             ],
             [
              0.1111111111111111,
              "#482878"
             ],
             [
              0.2222222222222222,
              "#3e4989"
             ],
             [
              0.3333333333333333,
              "#31688e"
             ],
             [
              0.4444444444444444,
              "#26828e"
             ],
             [
              0.5555555555555556,
              "#1f9e89"
             ],
             [
              0.6666666666666666,
              "#35b779"
             ],
             [
              0.7777777777777778,
              "#6ece58"
             ],
             [
              0.8888888888888888,
              "#b5de2b"
             ],
             [
              1,
              "#fde725"
             ]
            ],
            "type": "heatmapgl"
           }
          ],
          "histogram": [
           {
            "marker": {
             "line": {
              "color": "white",
              "width": 0.6
             }
            },
            "type": "histogram"
           }
          ],
          "histogram2d": [
           {
            "colorbar": {
             "outlinewidth": 1,
             "tickcolor": "rgb(36,36,36)",
             "ticks": "outside"
            },
            "colorscale": [
             [
              0,
              "#440154"
             ],
             [
              0.1111111111111111,
              "#482878"
             ],
             [
              0.2222222222222222,
              "#3e4989"
             ],
             [
              0.3333333333333333,
              "#31688e"
             ],
             [
              0.4444444444444444,
              "#26828e"
             ],
             [
              0.5555555555555556,
              "#1f9e89"
             ],
             [
              0.6666666666666666,
              "#35b779"
             ],
             [
              0.7777777777777778,
              "#6ece58"
             ],
             [
              0.8888888888888888,
              "#b5de2b"
             ],
             [
              1,
              "#fde725"
             ]
            ],
            "type": "histogram2d"
           }
          ],
          "histogram2dcontour": [
           {
            "colorbar": {
             "outlinewidth": 1,
             "tickcolor": "rgb(36,36,36)",
             "ticks": "outside"
            },
            "colorscale": [
             [
              0,
              "#440154"
             ],
             [
              0.1111111111111111,
              "#482878"
             ],
             [
              0.2222222222222222,
              "#3e4989"
             ],
             [
              0.3333333333333333,
              "#31688e"
             ],
             [
              0.4444444444444444,
              "#26828e"
             ],
             [
              0.5555555555555556,
              "#1f9e89"
             ],
             [
              0.6666666666666666,
              "#35b779"
             ],
             [
              0.7777777777777778,
              "#6ece58"
             ],
             [
              0.8888888888888888,
              "#b5de2b"
             ],
             [
              1,
              "#fde725"
             ]
            ],
            "type": "histogram2dcontour"
           }
          ],
          "mesh3d": [
           {
            "colorbar": {
             "outlinewidth": 1,
             "tickcolor": "rgb(36,36,36)",
             "ticks": "outside"
            },
            "type": "mesh3d"
           }
          ],
          "parcoords": [
           {
            "line": {
             "colorbar": {
              "outlinewidth": 1,
              "tickcolor": "rgb(36,36,36)",
              "ticks": "outside"
             }
            },
            "type": "parcoords"
           }
          ],
          "pie": [
           {
            "automargin": true,
            "type": "pie"
           }
          ],
          "scatter": [
           {
            "fillpattern": {
             "fillmode": "overlay",
             "size": 10,
             "solidity": 0.2
            },
            "type": "scatter"
           }
          ],
          "scatter3d": [
           {
            "line": {
             "colorbar": {
              "outlinewidth": 1,
              "tickcolor": "rgb(36,36,36)",
              "ticks": "outside"
             }
            },
            "marker": {
             "colorbar": {
              "outlinewidth": 1,
              "tickcolor": "rgb(36,36,36)",
              "ticks": "outside"
             }
            },
            "type": "scatter3d"
           }
          ],
          "scattercarpet": [
           {
            "marker": {
             "colorbar": {
              "outlinewidth": 1,
              "tickcolor": "rgb(36,36,36)",
              "ticks": "outside"
             }
            },
            "type": "scattercarpet"
           }
          ],
          "scattergeo": [
           {
            "marker": {
             "colorbar": {
              "outlinewidth": 1,
              "tickcolor": "rgb(36,36,36)",
              "ticks": "outside"
             }
            },
            "type": "scattergeo"
           }
          ],
          "scattergl": [
           {
            "marker": {
             "colorbar": {
              "outlinewidth": 1,
              "tickcolor": "rgb(36,36,36)",
              "ticks": "outside"
             }
            },
            "type": "scattergl"
           }
          ],
          "scattermapbox": [
           {
            "marker": {
             "colorbar": {
              "outlinewidth": 1,
              "tickcolor": "rgb(36,36,36)",
              "ticks": "outside"
             }
            },
            "type": "scattermapbox"
           }
          ],
          "scatterpolar": [
           {
            "marker": {
             "colorbar": {
              "outlinewidth": 1,
              "tickcolor": "rgb(36,36,36)",
              "ticks": "outside"
             }
            },
            "type": "scatterpolar"
           }
          ],
          "scatterpolargl": [
           {
            "marker": {
             "colorbar": {
              "outlinewidth": 1,
              "tickcolor": "rgb(36,36,36)",
              "ticks": "outside"
             }
            },
            "type": "scatterpolargl"
           }
          ],
          "scatterternary": [
           {
            "marker": {
             "colorbar": {
              "outlinewidth": 1,
              "tickcolor": "rgb(36,36,36)",
              "ticks": "outside"
             }
            },
            "type": "scatterternary"
           }
          ],
          "surface": [
           {
            "colorbar": {
             "outlinewidth": 1,
             "tickcolor": "rgb(36,36,36)",
             "ticks": "outside"
            },
            "colorscale": [
             [
              0,
              "#440154"
             ],
             [
              0.1111111111111111,
              "#482878"
             ],
             [
              0.2222222222222222,
              "#3e4989"
             ],
             [
              0.3333333333333333,
              "#31688e"
             ],
             [
              0.4444444444444444,
              "#26828e"
             ],
             [
              0.5555555555555556,
              "#1f9e89"
             ],
             [
              0.6666666666666666,
              "#35b779"
             ],
             [
              0.7777777777777778,
              "#6ece58"
             ],
             [
              0.8888888888888888,
              "#b5de2b"
             ],
             [
              1,
              "#fde725"
             ]
            ],
            "type": "surface"
           }
          ],
          "table": [
           {
            "cells": {
             "fill": {
              "color": "rgb(237,237,237)"
             },
             "line": {
              "color": "white"
             }
            },
            "header": {
             "fill": {
              "color": "rgb(217,217,217)"
             },
             "line": {
              "color": "white"
             }
            },
            "type": "table"
           }
          ]
         },
         "layout": {
          "annotationdefaults": {
           "arrowhead": 0,
           "arrowwidth": 1
          },
          "autotypenumbers": "strict",
          "coloraxis": {
           "colorbar": {
            "outlinewidth": 1,
            "tickcolor": "rgb(36,36,36)",
            "ticks": "outside"
           }
          },
          "colorscale": {
           "diverging": [
            [
             0,
             "rgb(103,0,31)"
            ],
            [
             0.1,
             "rgb(178,24,43)"
            ],
            [
             0.2,
             "rgb(214,96,77)"
            ],
            [
             0.3,
             "rgb(244,165,130)"
            ],
            [
             0.4,
             "rgb(253,219,199)"
            ],
            [
             0.5,
             "rgb(247,247,247)"
            ],
            [
             0.6,
             "rgb(209,229,240)"
            ],
            [
             0.7,
             "rgb(146,197,222)"
            ],
            [
             0.8,
             "rgb(67,147,195)"
            ],
            [
             0.9,
             "rgb(33,102,172)"
            ],
            [
             1,
             "rgb(5,48,97)"
            ]
           ],
           "sequential": [
            [
             0,
             "#440154"
            ],
            [
             0.1111111111111111,
             "#482878"
            ],
            [
             0.2222222222222222,
             "#3e4989"
            ],
            [
             0.3333333333333333,
             "#31688e"
            ],
            [
             0.4444444444444444,
             "#26828e"
            ],
            [
             0.5555555555555556,
             "#1f9e89"
            ],
            [
             0.6666666666666666,
             "#35b779"
            ],
            [
             0.7777777777777778,
             "#6ece58"
            ],
            [
             0.8888888888888888,
             "#b5de2b"
            ],
            [
             1,
             "#fde725"
            ]
           ],
           "sequentialminus": [
            [
             0,
             "#440154"
            ],
            [
             0.1111111111111111,
             "#482878"
            ],
            [
             0.2222222222222222,
             "#3e4989"
            ],
            [
             0.3333333333333333,
             "#31688e"
            ],
            [
             0.4444444444444444,
             "#26828e"
            ],
            [
             0.5555555555555556,
             "#1f9e89"
            ],
            [
             0.6666666666666666,
             "#35b779"
            ],
            [
             0.7777777777777778,
             "#6ece58"
            ],
            [
             0.8888888888888888,
             "#b5de2b"
            ],
            [
             1,
             "#fde725"
            ]
           ]
          },
          "colorway": [
           "#1F77B4",
           "#FF7F0E",
           "#2CA02C",
           "#D62728",
           "#9467BD",
           "#8C564B",
           "#E377C2",
           "#7F7F7F",
           "#BCBD22",
           "#17BECF"
          ],
          "font": {
           "color": "rgb(36,36,36)"
          },
          "geo": {
           "bgcolor": "white",
           "lakecolor": "white",
           "landcolor": "white",
           "showlakes": true,
           "showland": true,
           "subunitcolor": "white"
          },
          "hoverlabel": {
           "align": "left"
          },
          "hovermode": "closest",
          "mapbox": {
           "style": "light"
          },
          "paper_bgcolor": "white",
          "plot_bgcolor": "white",
          "polar": {
           "angularaxis": {
            "gridcolor": "rgb(232,232,232)",
            "linecolor": "rgb(36,36,36)",
            "showgrid": false,
            "showline": true,
            "ticks": "outside"
           },
           "bgcolor": "white",
           "radialaxis": {
            "gridcolor": "rgb(232,232,232)",
            "linecolor": "rgb(36,36,36)",
            "showgrid": false,
            "showline": true,
            "ticks": "outside"
           }
          },
          "scene": {
           "xaxis": {
            "backgroundcolor": "white",
            "gridcolor": "rgb(232,232,232)",
            "gridwidth": 2,
            "linecolor": "rgb(36,36,36)",
            "showbackground": true,
            "showgrid": false,
            "showline": true,
            "ticks": "outside",
            "zeroline": false,
            "zerolinecolor": "rgb(36,36,36)"
           },
           "yaxis": {
            "backgroundcolor": "white",
            "gridcolor": "rgb(232,232,232)",
            "gridwidth": 2,
            "linecolor": "rgb(36,36,36)",
            "showbackground": true,
            "showgrid": false,
            "showline": true,
            "ticks": "outside",
            "zeroline": false,
            "zerolinecolor": "rgb(36,36,36)"
           },
           "zaxis": {
            "backgroundcolor": "white",
            "gridcolor": "rgb(232,232,232)",
            "gridwidth": 2,
            "linecolor": "rgb(36,36,36)",
            "showbackground": true,
            "showgrid": false,
            "showline": true,
            "ticks": "outside",
            "zeroline": false,
            "zerolinecolor": "rgb(36,36,36)"
           }
          },
          "shapedefaults": {
           "fillcolor": "black",
           "line": {
            "width": 0
           },
           "opacity": 0.3
          },
          "ternary": {
           "aaxis": {
            "gridcolor": "rgb(232,232,232)",
            "linecolor": "rgb(36,36,36)",
            "showgrid": false,
            "showline": true,
            "ticks": "outside"
           },
           "baxis": {
            "gridcolor": "rgb(232,232,232)",
            "linecolor": "rgb(36,36,36)",
            "showgrid": false,
            "showline": true,
            "ticks": "outside"
           },
           "bgcolor": "white",
           "caxis": {
            "gridcolor": "rgb(232,232,232)",
            "linecolor": "rgb(36,36,36)",
            "showgrid": false,
            "showline": true,
            "ticks": "outside"
           }
          },
          "title": {
           "x": 0.05
          },
          "xaxis": {
           "automargin": true,
           "gridcolor": "rgb(232,232,232)",
           "linecolor": "rgb(36,36,36)",
           "showgrid": false,
           "showline": true,
           "ticks": "outside",
           "title": {
            "standoff": 15
           },
           "zeroline": false,
           "zerolinecolor": "rgb(36,36,36)"
          },
          "yaxis": {
           "automargin": true,
           "gridcolor": "rgb(232,232,232)",
           "linecolor": "rgb(36,36,36)",
           "showgrid": false,
           "showline": true,
           "ticks": "outside",
           "title": {
            "standoff": 15
           },
           "zeroline": false,
           "zerolinecolor": "rgb(36,36,36)"
          }
         }
        },
        "title": {
         "text": "matten_distribution_250_"
        },
        "width": 600,
        "xaxis": {
         "dtick": 2,
         "range": [
          -6.2,
          6.2
         ],
         "showgrid": false,
         "tick0": 0,
         "tickmode": "linear",
         "title": {
          "text": "ln(<i>d</i><sub>KP</sub>) (pm/V)"
         }
        },
        "yaxis": {
         "dtick": 2,
         "range": [
          -6.2,
          6.2
         ],
         "showgrid": false,
         "tick0": 0,
         "tickmode": "linear",
         "title": {
          "text": "ln(<i>d&#770;</i><sub>KP</sub>) (pm/V)"
         }
        }
       }
      }
     },
     "metadata": {},
     "output_type": "display_data"
    },
    {
     "name": "stderr",
     "output_type": "stream",
     "text": [
      "/tmp/ipykernel_40938/1044345493.py:29: RuntimeWarning:\n",
      "\n",
      "invalid value encountered in log\n",
      "\n"
     ]
    },
    {
     "data": {
      "application/vnd.plotly.v1+json": {
       "config": {
        "plotlyServerURL": "https://plot.ly"
       },
       "data": [
        {
         "mode": "markers",
         "name": "",
         "showlegend": false,
         "text": [
          "mp-10572",
          "mp-7582",
          "mp-22965",
          "mp-4586",
          "mp-1193269",
          "mp-1101862",
          "mp-1097061",
          "mp-998623",
          "mp-1028576",
          "mp-672118",
          "mp-1215418",
          "mp-23173",
          "mp-863755",
          "mp-1221954",
          "mp-1300570",
          "mp-1210659",
          "mp-554560",
          "mp-15776",
          "mp-28873",
          "mp-1102285",
          "mp-1227567",
          "mp-1220190",
          "mp-570084",
          "mp-17862",
          "mp-1190717",
          "mp-1217833",
          "mp-675779",
          "mp-27594",
          "mp-1218158",
          "mp-28140",
          "mp-766345",
          "agm002183415",
          "agm003160554",
          "agm002205907",
          "agm002233584",
          "agm003227564",
          "agm002793928",
          "mp-781710",
          "mp-1227011",
          "mp-1216863",
          "agm002135972",
          "agm003234420",
          "agm002218325",
          "mp-1216132",
          "mp-779863",
          "mp-38103",
          "mp-29362",
          "mp-1019715",
          "agm002054632",
          "mp-1204358",
          "mp-1105300",
          "mp-1228823",
          "mp-15833",
          "mp-1103351",
          "mp-24402",
          "mp-1095543",
          "mp-1188121",
          "mp-625521",
          "mp-23560",
          "mp-1227994",
          "mp-1079609",
          "mp-1192126",
          "agm002197344",
          "agm002177947",
          "mp-696347",
          "mp-1147693",
          "agm002156258",
          "mp-772748",
          "mp-1029422",
          "mp-1120718",
          "mp-1227036",
          "mp-1194520",
          "mp-1218006",
          "mp-1220913",
          "mp-1223822",
          "mp-1147725",
          "mp-984766",
          "mp-1210722",
          "agm003263235",
          "agm002215982",
          "mp-568968",
          "mp-27313",
          "mp-556024",
          "mp-28020",
          "mp-1229086",
          "mp-772875",
          "agm002363904",
          "mp-1223536",
          "mp-1147697",
          "mp-23887",
          "mp-18609",
          "agm002848041",
          "agm002133608",
          "agm003268240",
          "mp-1198890",
          "agm003200486",
          "mp-1096810",
          "mp-1105127",
          "mp-1216944",
          "mp-555915",
          "mp-776259",
          "agm002133663",
          "agm002790067",
          "agm002162961",
          "mp-767604",
          "agm003445531",
          "agm003206623",
          "mp-1227366",
          "agm005543540",
          "agm2000012572",
          "agm002205114",
          "agm003046706",
          "agm004786073",
          "agm003445638",
          "agm002149208",
          "agm2000022161",
          "agm2000001840",
          "agm002158429",
          "agm004751295",
          "agm005848257",
          "agm2000081842",
          "agm004879066",
          "agm001347560",
          "agm2000086862",
          "agm002102214",
          "mp-23807",
          "agm004954137",
          "agm004785400",
          "agm001234439",
          "agm2000011096",
          "agm2000002067",
          "agm003716707",
          "mp-554918",
          "agm005769896",
          "agm005698720",
          "agm004956590",
          "agm006124765",
          "mp-1202153",
          "mp-23914",
          "agm002073747",
          "agm004442672",
          "agm004929360",
          "agm003267560",
          "agm002171920",
          "mp-1215297",
          "agm2000005425",
          "agm004957147",
          "agm005723638",
          "mp-1080058",
          "agm004954098",
          "agm005069643",
          "agm002153441",
          "agm003220800",
          "agm005849998",
          "agm002138386",
          "agm004788917",
          "agm2000128635",
          "agm2000015113",
          "agm002861773",
          "agm004852876",
          "mp-1215966",
          "agm005607967",
          "agm1000019892",
          "agm003048415",
          "agm2000139348",
          "agm002158908",
          "agm002041688",
          "agm005049826",
          "mp-35799",
          "agm002072314",
          "agm002147787",
          "agm005408965",
          "mp-15840",
          "agm005839737",
          "agm003110472",
          "agm005189644",
          "mp-4681",
          "agm005086011",
          "agm002845532",
          "agm005086003",
          "agm2000101795",
          "agm005074722",
          "agm005180379"
         ],
         "type": "scatter",
         "x": [
          1.2535857027379442,
          3.2544420264838956,
          4.299435388156115,
          3.117857576672963,
          -5.318131018092295,
          -4.680997003779326,
          -0.859452261258409,
          0.7017827051305189,
          1.9310500401893735,
          -0.1394365106041502,
          4.634329350867877,
          3.202936260259023,
          1.7460214177666824,
          1.1527446112599784,
          -0.3371127122665699,
          -0.24731373666897977,
          -0.5855716958249642,
          3.9030676146621537,
          0.5219118776072554,
          1.9858987831854715,
          4.675680676425195,
          -0.02318900389906403,
          3.3953453285386987,
          3.502741045546834,
          -0.30022012231001327,
          2.5140976286605503,
          1.814222364992547,
          3.1794082199591855,
          0.9855598229690008,
          2.447486245453792,
          -2.784013076283266,
          4.14977762431867,
          4.283754648156561,
          4.101412174521215,
          2.8875867798719965,
          -1.4537135773415302,
          2.6257554259617946,
          2.7998477802550448,
          3.957572495507323,
          2.210616699426491,
          4.46393144142344,
          1.3194233164252194,
          4.081279329637554,
          1.3574084162445887,
          1.9510859681614985,
          -0.42205658984738215,
          -1.896230169803275,
          -0.10053542170817094,
          3.813376254197472,
          -1.4232630573525895,
          3.28690872407927,
          1.6478421350789498,
          1.1393840175378749,
          0.8074179428193387,
          -2.890935558257332,
          -0.8591967038217969,
          -1.6462198335926337,
          0.47165773666185984,
          0.6587912356611015,
          0.8638553728959156,
          1.1853325631867693,
          -0.15703862771354876,
          2.3366347042514617,
          4.0504165600425255,
          -0.9568114574748734,
          2.0374106720922405,
          -0.4009194821956806,
          -1.3032098743935028,
          3.1551356283741447,
          2.1241090575699313,
          -3.4630614548501875,
          -1.547245125508919,
          2.4842680842377427,
          1.3084114464845522,
          -0.4190322962140727,
          2.14370261410558,
          -2.1219148087192483,
          1.585823599242741,
          -1.6923529723634898,
          0.012395977141582776,
          3.483025350130514,
          -2.590785940555392,
          -4.272759873989225,
          0.2426156338334992,
          -1.7734080294320271,
          -4.916583863831777,
          0.291962875806547,
          2.732023881181247,
          2.0073184771879147,
          -0.20726096332075883,
          3.8703970560017473,
          -2.4835216162509544,
          0.5465510668176924,
          4.856541348780051,
          -1.762251626763439,
          -4.690858220270285,
          2.112315000506499,
          5.10663754573969,
          0.06032691913169146,
          -0.8720794454781192,
          1.0316722069080275,
          -2.3108782347640364,
          3.8433263345501425,
          3.3788263632624616,
          2.9455305167512837,
          0.9296345277841228,
          1.26823960830993,
          2.21045647278554,
          -0.13378271201079914,
          -3.1690133726884473,
          4.161423854925523,
          1.629779756220043,
          0.9940852448166454,
          0.5888586675978119,
          -2.2797230750007285,
          -3.3468795696046434,
          0.3707053695020218,
          1.4158289592838436,
          -1.4830449268700137,
          -0.25662464303577004,
          -2.231260397490708,
          1.0514802754489894,
          4.780614039066974,
          -3.3944090979479604,
          -0.5802464579117907,
          -0.6369918292556035,
          2.1838947297213016,
          2.858394096966816,
          -0.18960256344954837,
          -4.404000517442093,
          -2.849089586289161,
          -0.7253513868625268,
          0.9118789633700044,
          4.581737345426008,
          1.1387028199907938,
          -1.4475705987269594,
          2.3639290886114215,
          1.90925703383342,
          -1.9701819964887053,
          -0.9288649275236068,
          -3.2331705548521468,
          -0.33607255889531246,
          2.980006141767316,
          3.0620403510543546,
          2.5235344430960738,
          -4.505413520384964,
          -1.0911004514913645,
          2.9263454953307733,
          2.604260274629599,
          2.1686420301129914,
          1.5275258869649984,
          -0.31736426905615656,
          -1.4371431480329906,
          4.0287785630185375,
          -2.630466750735013,
          2.302388731742179,
          -4.6119427660876395,
          2.7124115994205176,
          2.672444652841187,
          2.475588240793691,
          2.18790580144196,
          -0.3228106003045135,
          -5.971859902643089,
          2.464955820581407,
          -3.1237026780344492,
          3.4261782218429517,
          1.72196886866056,
          1.8184234172780045,
          -0.4900170498382737,
          1.301459994015761,
          -2.653176007197353,
          0.607312690769973,
          -4.334204867231584,
          -0.8041476959236072,
          2.5227009895896133,
          1.542627374096005,
          3.030312687364971,
          -2.3137495717156273,
          0.016622021256289456,
          -2.6179531733286874,
          -0.8839449411010695,
          -2.175942815502295,
          0.2793276052583765
         ],
         "y": [
          0.7209762724508025,
          3.535477366778346,
          3.43890032020332,
          3.5233034254523727,
          -2.8606758804430745,
          -1.900079319268981,
          -0.768779625453528,
          -0.3336561072383284,
          2.3089202689675963,
          -0.840638304515939,
          4.120688597833918,
          2.108182298499944,
          2.1723590618909228,
          1.9775437888853424,
          -0.6345434718428271,
          -0.3165030761277682,
          -0.7911329472167622,
          4.179982945848555,
          1.500251362943981,
          1.3871830290190488,
          4.330712560009002,
          0.2889746277314808,
          3.6638082016760896,
          4.010419086661753,
          -0.8965984271735831,
          1.9800056660864152,
          1.970131821428446,
          3.421003387328311,
          1.0412654222468647,
          2.7693236793656104,
          -0.16415150732161576,
          4.362022057894871,
          4.265643423325783,
          3.6735865288253096,
          3.3031303254315634,
          -0.5732927917459794,
          2.312420447549806,
          3.0436738525920335,
          3.925607306292294,
          2.3599859968095855,
          4.720087860106046,
          1.214070745514486,
          4.0490473597667505,
          1.6103476852328762,
          1.612941670054314,
          -0.665764083886497,
          1.6883012421473476,
          -0.48250177490085294,
          3.161322291905902,
          -1.724735762733458,
          3.402465282268626,
          2.5650989997726805,
          1.1273797250779494,
          2.356899275376188,
          -1.323389133352847,
          -1.7663358127220867,
          -0.9116449126497568,
          0.35016494011813765,
          1.291717877729813,
          0.05781170572364598,
          0.9174900208319124,
          0.6808583336691005,
          2.3267294484508447,
          4.254992317981543,
          -1.282242069092063,
          2.085793893693285,
          -0.8493614545096881,
          -1.5817453753033852,
          3.195333189380946,
          2.1270362420073554,
          -2.4065257516697733,
          -0.09752726417858276,
          2.469317084646089,
          1.2544417963812025,
          -0.6326434021905233,
          2.201859168602688,
          -1.8136166110711975,
          1.3781232461503117,
          1.1021891563412225,
          -0.116169573653755,
          3.580018662901402,
          -1.7473613419098384,
          -1.6620489577362023,
          0.7995422194124552,
          1.057509655973258,
          -0.06502075154805492,
          0.3305616753583404,
          2.752775578244777,
          2.008148655560035,
          -0.5584398392428442,
          4.039337968661896,
          -0.623860541064728,
          1.7345071982112272,
          4.023909444947638,
          0.33991552032373973,
          -0.3920536225334057,
          1.9740821253959648,
          4.012208808891869,
          2.2370519163806324,
          -0.05048677359618017,
          1.617864452158852,
          -0.38488563273493376,
          3.6231411779134657,
          3.4749287813838734,
          2.8201875146235627,
          1.4106949904447308,
          0.7982923929856943,
          2.0945068830641547,
          0.700531922107961,
          -3.978643955022868,
          3.68380315305628,
          1.7573481802775663,
          1.3678995863282783,
          1.0758803032726565,
          -1.2862562428572228,
          -5.309204272431711,
          0.5691092327614647,
          0.8884136088418101,
          -0.7396963120685157,
          0.47797128279424395,
          -1.8764985373212115,
          1.0669707242839237,
          4.859069060608361,
          -1.4154777692720124,
          -0.5205611585760671,
          -0.10673424648160676,
          2.2053401738304483,
          2.577173290614329,
          1.6229759621608488,
          -1.4772345209805873,
          -4.370283467460275,
          -0.8871647344822403,
          -0.3113419600481166,
          4.685216931363813,
          1.7697192711616023,
          -1.2915976253681818,
          3.4066205008846504,
          2.989410548978455,
          -0.6559367413654965,
          -0.28928218694388974,
          1.3358418789943811,
          0.7216795340931074,
          4.68047448880522,
          3.0483889598089973,
          2.5778134154040098,
          null,
          -1.4285121002781611,
          2.644744237111192,
          2.3547297371074216,
          2.1427252835920134,
          1.6436683450099152,
          -0.11529790046594957,
          0.02350316206926219,
          4.102316761011,
          -2.7145127583434765,
          1.855755306761606,
          -0.9091493405243244,
          3.217891530184281,
          2.849314337054875,
          2.503512163933811,
          2.1510549478677756,
          -0.8429313932216305,
          -1.7418263326961092,
          2.5573811885556017,
          0.21432025540658137,
          3.234312926822315,
          2.454785297268858,
          1.8763978475599252,
          1.645865653310964,
          1.0584166487272657,
          -2.201729211122117,
          0.250704049420844,
          -0.5269752301278785,
          -1.0029935182135266,
          3.1011353221817894,
          1.6751592436026657,
          2.6169492325536536,
          -2.0341402296739655,
          0.8345619458363921,
          -2.868771531085282,
          0.18305932915281012,
          -1.6596868014157329,
          0.23042422610878832
         ]
        },
        {
         "marker": {
          "color": "red"
         },
         "mode": "markers",
         "name": "",
         "showlegend": false,
         "text": [
          "mp-983357",
          "mp-8377",
          "mp-18938",
          "mp-5854",
          "mp-23778",
          "mp-19219",
          "mp-9197",
          "mp-553887",
          "mp-23407",
          "mp-555150",
          "mp-6062",
          "mp-863374",
          "mp-23363",
          "mp-23321",
          "mp-27755",
          "mp-3491",
          "mp-540634",
          "mp-557773",
          "mp-559961",
          "mp-556966",
          "mp-7324",
          "mp-622018",
          "mp-29305",
          "mp-639714",
          "mp-24118",
          "mp-555203",
          "mp-706621",
          "mp-16792",
          "mp-639506",
          "mp-5020",
          "mp-3589",
          "mp-28264",
          "mp-570136",
          "mp-862539",
          "mp-696946",
          "mp-27726",
          "mp-30530",
          "mp-626620",
          "mp-2691",
          "mp-21521",
          "mp-4690",
          "mp-756570",
          "mp-28918",
          "mp-754585",
          "mp-27914",
          "mp-29910",
          "mp-14367",
          "mp-557027",
          "mp-29525",
          "mp-23866",
          "mp-29524",
          "mp-559065",
          "mp-551629",
          "mp-9064",
          "mp-13666",
          "mp-14444",
          "mp-685145",
          "mp-830",
          "mp-31451",
          "mp-30847",
          "mp-36111",
          "mp-1184046",
          "mp-1215430",
          "mp-1017534",
          "mp-1018093",
          "mp-1008556",
          "mp-4524"
         ],
         "type": "scatter",
         "x": [
          -1.8096208618061576,
          0.2504227271074406,
          0.8941613940569432,
          -0.4674441755126255,
          -0.009002268456202991,
          0.5666426898300543,
          -1.3449585830088755,
          1.4776941635461027,
          2.079926524051517,
          0.513705495637027,
          0.5476543239715628,
          1.6669618542751743,
          -4.592323538872693,
          -3.20689539627952,
          -3.897564050666275,
          1.1735145249281067,
          -0.7756726081186056,
          -2.1582331976850906,
          -0.32095926897028487,
          -0.7931631025086933,
          -0.8107109875910264,
          4.353120895450229,
          0.7276446415584393,
          1.711101191434198,
          -0.9708882412195592,
          -0.5433816485054958,
          -1.748575568907935,
          1.95287090912172,
          -4.74251618329189,
          2.833562144440118,
          -0.2398195998006678,
          2.78299946504354,
          -0.14013650078382,
          -0.5301141508807443,
          -0.03717329932754924,
          0.6039292637070257,
          1.4601801225230944,
          0.37389330416926886,
          3.754141758654189,
          2.0183066815251465,
          -1.4556361887050673,
          2.6428457986952703,
          2.254506323039491,
          1.8263875540107817,
          -2.2312395663473907,
          0.6957863626651394,
          -2.3711293744616864,
          -1.924917829502984,
          -3.0039624909131795,
          -0.08910579025424446,
          -0.8201548436622684,
          1.871489666744384,
          0.15396114272498757,
          -0.25355009799989087,
          3.917254174536937,
          2.5896455390744313,
          2.441177344003576,
          1.6003678755579585,
          4.2071054438569275,
          3.633400002575317,
          2.6925985319035046,
          3.7443747809856007,
          3.70646383164423,
          4.4593717050440915,
          4.595596552346854,
          0.728906899769153,
          4.494287161104849
         ],
         "y": [
          -2.1296069493974485,
          2.3039697273595965,
          0.8064222245054532,
          0.5797271576925119,
          -0.08036619466057665,
          -0.13431562033879318,
          -1.0264815593842798,
          1.194655358647962,
          2.082154043181516,
          -0.35960951209155967,
          -0.16133032015352866,
          1.541997949038965,
          -1.7135964217778192,
          -1.1088712227970028,
          -1.9901046240253648,
          2.1798733826213517,
          -0.4834504143932229,
          0.4052663267303443,
          0.4775145345454458,
          -0.4073636482014574,
          -0.8197343780242302,
          0.43199555230556985,
          1.0891463586839878,
          1.340544453101296,
          -0.7569477665394649,
          -0.4654334001938848,
          -1.7456212400280746,
          -0.3758179432807423,
          -2.399651634646063,
          2.1916979437536415,
          -0.5144669963663793,
          -0.1919593113344347,
          2.463361023523955,
          -0.4227454214394802,
          1.379638801415359,
          2.2778536961013103,
          0.3554954236765513,
          0.33436749490592654,
          3.0401320885501995,
          0.6984002637578713,
          -0.4686140426477995,
          0.6403799257346113,
          1.6693677487678988,
          0.9881197089328296,
          0.8668321285974243,
          0.21412069054199795,
          -0.10091855137750937,
          -1.4978362944676848,
          -0.5561190925447576,
          0.26152060383174397,
          -0.45635588237613023,
          2.595418853572,
          0.314564376115168,
          1.3803691871327972,
          3.363502689621991,
          2.3633172386136883,
          2.7720195743668277,
          2.081531717190465,
          4.174165053763651,
          4.003397282549833,
          2.365556364001974,
          3.918174471718887,
          3.5714725483877854,
          3.349437313720616,
          3.631383539694836,
          1.056340393713049,
          4.504130258840411
         ]
        },
        {
         "line": {
          "color": "gray",
          "dash": "dot"
         },
         "mode": "lines",
         "showlegend": false,
         "type": "scatter",
         "x": [
          -10,
          8
         ],
         "y": [
          -10,
          8
         ]
        }
       ],
       "layout": {
        "autosize": false,
        "font": {
         "size": 20
        },
        "height": 600,
        "template": {
         "data": {
          "bar": [
           {
            "error_x": {
             "color": "rgb(36,36,36)"
            },
            "error_y": {
             "color": "rgb(36,36,36)"
            },
            "marker": {
             "line": {
              "color": "white",
              "width": 0.5
             },
             "pattern": {
              "fillmode": "overlay",
              "size": 10,
              "solidity": 0.2
             }
            },
            "type": "bar"
           }
          ],
          "barpolar": [
           {
            "marker": {
             "line": {
              "color": "white",
              "width": 0.5
             },
             "pattern": {
              "fillmode": "overlay",
              "size": 10,
              "solidity": 0.2
             }
            },
            "type": "barpolar"
           }
          ],
          "carpet": [
           {
            "aaxis": {
             "endlinecolor": "rgb(36,36,36)",
             "gridcolor": "white",
             "linecolor": "white",
             "minorgridcolor": "white",
             "startlinecolor": "rgb(36,36,36)"
            },
            "baxis": {
             "endlinecolor": "rgb(36,36,36)",
             "gridcolor": "white",
             "linecolor": "white",
             "minorgridcolor": "white",
             "startlinecolor": "rgb(36,36,36)"
            },
            "type": "carpet"
           }
          ],
          "choropleth": [
           {
            "colorbar": {
             "outlinewidth": 1,
             "tickcolor": "rgb(36,36,36)",
             "ticks": "outside"
            },
            "type": "choropleth"
           }
          ],
          "contour": [
           {
            "colorbar": {
             "outlinewidth": 1,
             "tickcolor": "rgb(36,36,36)",
             "ticks": "outside"
            },
            "colorscale": [
             [
              0,
              "#440154"
             ],
             [
              0.1111111111111111,
              "#482878"
             ],
             [
              0.2222222222222222,
              "#3e4989"
             ],
             [
              0.3333333333333333,
              "#31688e"
             ],
             [
              0.4444444444444444,
              "#26828e"
             ],
             [
              0.5555555555555556,
              "#1f9e89"
             ],
             [
              0.6666666666666666,
              "#35b779"
             ],
             [
              0.7777777777777778,
              "#6ece58"
             ],
             [
              0.8888888888888888,
              "#b5de2b"
             ],
             [
              1,
              "#fde725"
             ]
            ],
            "type": "contour"
           }
          ],
          "contourcarpet": [
           {
            "colorbar": {
             "outlinewidth": 1,
             "tickcolor": "rgb(36,36,36)",
             "ticks": "outside"
            },
            "type": "contourcarpet"
           }
          ],
          "heatmap": [
           {
            "colorbar": {
             "outlinewidth": 1,
             "tickcolor": "rgb(36,36,36)",
             "ticks": "outside"
            },
            "colorscale": [
             [
              0,
              "#440154"
             ],
             [
              0.1111111111111111,
              "#482878"
             ],
             [
              0.2222222222222222,
              "#3e4989"
             ],
             [
              0.3333333333333333,
              "#31688e"
             ],
             [
              0.4444444444444444,
              "#26828e"
             ],
             [
              0.5555555555555556,
              "#1f9e89"
             ],
             [
              0.6666666666666666,
              "#35b779"
             ],
             [
              0.7777777777777778,
              "#6ece58"
             ],
             [
              0.8888888888888888,
              "#b5de2b"
             ],
             [
              1,
              "#fde725"
             ]
            ],
            "type": "heatmap"
           }
          ],
          "heatmapgl": [
           {
            "colorbar": {
             "outlinewidth": 1,
             "tickcolor": "rgb(36,36,36)",
             "ticks": "outside"
            },
            "colorscale": [
             [
              0,
              "#440154"
             ],
             [
              0.1111111111111111,
              "#482878"
             ],
             [
              0.2222222222222222,
              "#3e4989"
             ],
             [
              0.3333333333333333,
              "#31688e"
             ],
             [
              0.4444444444444444,
              "#26828e"
             ],
             [
              0.5555555555555556,
              "#1f9e89"
             ],
             [
              0.6666666666666666,
              "#35b779"
             ],
             [
              0.7777777777777778,
              "#6ece58"
             ],
             [
              0.8888888888888888,
              "#b5de2b"
             ],
             [
              1,
              "#fde725"
             ]
            ],
            "type": "heatmapgl"
           }
          ],
          "histogram": [
           {
            "marker": {
             "line": {
              "color": "white",
              "width": 0.6
             }
            },
            "type": "histogram"
           }
          ],
          "histogram2d": [
           {
            "colorbar": {
             "outlinewidth": 1,
             "tickcolor": "rgb(36,36,36)",
             "ticks": "outside"
            },
            "colorscale": [
             [
              0,
              "#440154"
             ],
             [
              0.1111111111111111,
              "#482878"
             ],
             [
              0.2222222222222222,
              "#3e4989"
             ],
             [
              0.3333333333333333,
              "#31688e"
             ],
             [
              0.4444444444444444,
              "#26828e"
             ],
             [
              0.5555555555555556,
              "#1f9e89"
             ],
             [
              0.6666666666666666,
              "#35b779"
             ],
             [
              0.7777777777777778,
              "#6ece58"
             ],
             [
              0.8888888888888888,
              "#b5de2b"
             ],
             [
              1,
              "#fde725"
             ]
            ],
            "type": "histogram2d"
           }
          ],
          "histogram2dcontour": [
           {
            "colorbar": {
             "outlinewidth": 1,
             "tickcolor": "rgb(36,36,36)",
             "ticks": "outside"
            },
            "colorscale": [
             [
              0,
              "#440154"
             ],
             [
              0.1111111111111111,
              "#482878"
             ],
             [
              0.2222222222222222,
              "#3e4989"
             ],
             [
              0.3333333333333333,
              "#31688e"
             ],
             [
              0.4444444444444444,
              "#26828e"
             ],
             [
              0.5555555555555556,
              "#1f9e89"
             ],
             [
              0.6666666666666666,
              "#35b779"
             ],
             [
              0.7777777777777778,
              "#6ece58"
             ],
             [
              0.8888888888888888,
              "#b5de2b"
             ],
             [
              1,
              "#fde725"
             ]
            ],
            "type": "histogram2dcontour"
           }
          ],
          "mesh3d": [
           {
            "colorbar": {
             "outlinewidth": 1,
             "tickcolor": "rgb(36,36,36)",
             "ticks": "outside"
            },
            "type": "mesh3d"
           }
          ],
          "parcoords": [
           {
            "line": {
             "colorbar": {
              "outlinewidth": 1,
              "tickcolor": "rgb(36,36,36)",
              "ticks": "outside"
             }
            },
            "type": "parcoords"
           }
          ],
          "pie": [
           {
            "automargin": true,
            "type": "pie"
           }
          ],
          "scatter": [
           {
            "fillpattern": {
             "fillmode": "overlay",
             "size": 10,
             "solidity": 0.2
            },
            "type": "scatter"
           }
          ],
          "scatter3d": [
           {
            "line": {
             "colorbar": {
              "outlinewidth": 1,
              "tickcolor": "rgb(36,36,36)",
              "ticks": "outside"
             }
            },
            "marker": {
             "colorbar": {
              "outlinewidth": 1,
              "tickcolor": "rgb(36,36,36)",
              "ticks": "outside"
             }
            },
            "type": "scatter3d"
           }
          ],
          "scattercarpet": [
           {
            "marker": {
             "colorbar": {
              "outlinewidth": 1,
              "tickcolor": "rgb(36,36,36)",
              "ticks": "outside"
             }
            },
            "type": "scattercarpet"
           }
          ],
          "scattergeo": [
           {
            "marker": {
             "colorbar": {
              "outlinewidth": 1,
              "tickcolor": "rgb(36,36,36)",
              "ticks": "outside"
             }
            },
            "type": "scattergeo"
           }
          ],
          "scattergl": [
           {
            "marker": {
             "colorbar": {
              "outlinewidth": 1,
              "tickcolor": "rgb(36,36,36)",
              "ticks": "outside"
             }
            },
            "type": "scattergl"
           }
          ],
          "scattermapbox": [
           {
            "marker": {
             "colorbar": {
              "outlinewidth": 1,
              "tickcolor": "rgb(36,36,36)",
              "ticks": "outside"
             }
            },
            "type": "scattermapbox"
           }
          ],
          "scatterpolar": [
           {
            "marker": {
             "colorbar": {
              "outlinewidth": 1,
              "tickcolor": "rgb(36,36,36)",
              "ticks": "outside"
             }
            },
            "type": "scatterpolar"
           }
          ],
          "scatterpolargl": [
           {
            "marker": {
             "colorbar": {
              "outlinewidth": 1,
              "tickcolor": "rgb(36,36,36)",
              "ticks": "outside"
             }
            },
            "type": "scatterpolargl"
           }
          ],
          "scatterternary": [
           {
            "marker": {
             "colorbar": {
              "outlinewidth": 1,
              "tickcolor": "rgb(36,36,36)",
              "ticks": "outside"
             }
            },
            "type": "scatterternary"
           }
          ],
          "surface": [
           {
            "colorbar": {
             "outlinewidth": 1,
             "tickcolor": "rgb(36,36,36)",
             "ticks": "outside"
            },
            "colorscale": [
             [
              0,
              "#440154"
             ],
             [
              0.1111111111111111,
              "#482878"
             ],
             [
              0.2222222222222222,
              "#3e4989"
             ],
             [
              0.3333333333333333,
              "#31688e"
             ],
             [
              0.4444444444444444,
              "#26828e"
             ],
             [
              0.5555555555555556,
              "#1f9e89"
             ],
             [
              0.6666666666666666,
              "#35b779"
             ],
             [
              0.7777777777777778,
              "#6ece58"
             ],
             [
              0.8888888888888888,
              "#b5de2b"
             ],
             [
              1,
              "#fde725"
             ]
            ],
            "type": "surface"
           }
          ],
          "table": [
           {
            "cells": {
             "fill": {
              "color": "rgb(237,237,237)"
             },
             "line": {
              "color": "white"
             }
            },
            "header": {
             "fill": {
              "color": "rgb(217,217,217)"
             },
             "line": {
              "color": "white"
             }
            },
            "type": "table"
           }
          ]
         },
         "layout": {
          "annotationdefaults": {
           "arrowhead": 0,
           "arrowwidth": 1
          },
          "autotypenumbers": "strict",
          "coloraxis": {
           "colorbar": {
            "outlinewidth": 1,
            "tickcolor": "rgb(36,36,36)",
            "ticks": "outside"
           }
          },
          "colorscale": {
           "diverging": [
            [
             0,
             "rgb(103,0,31)"
            ],
            [
             0.1,
             "rgb(178,24,43)"
            ],
            [
             0.2,
             "rgb(214,96,77)"
            ],
            [
             0.3,
             "rgb(244,165,130)"
            ],
            [
             0.4,
             "rgb(253,219,199)"
            ],
            [
             0.5,
             "rgb(247,247,247)"
            ],
            [
             0.6,
             "rgb(209,229,240)"
            ],
            [
             0.7,
             "rgb(146,197,222)"
            ],
            [
             0.8,
             "rgb(67,147,195)"
            ],
            [
             0.9,
             "rgb(33,102,172)"
            ],
            [
             1,
             "rgb(5,48,97)"
            ]
           ],
           "sequential": [
            [
             0,
             "#440154"
            ],
            [
             0.1111111111111111,
             "#482878"
            ],
            [
             0.2222222222222222,
             "#3e4989"
            ],
            [
             0.3333333333333333,
             "#31688e"
            ],
            [
             0.4444444444444444,
             "#26828e"
            ],
            [
             0.5555555555555556,
             "#1f9e89"
            ],
            [
             0.6666666666666666,
             "#35b779"
            ],
            [
             0.7777777777777778,
             "#6ece58"
            ],
            [
             0.8888888888888888,
             "#b5de2b"
            ],
            [
             1,
             "#fde725"
            ]
           ],
           "sequentialminus": [
            [
             0,
             "#440154"
            ],
            [
             0.1111111111111111,
             "#482878"
            ],
            [
             0.2222222222222222,
             "#3e4989"
            ],
            [
             0.3333333333333333,
             "#31688e"
            ],
            [
             0.4444444444444444,
             "#26828e"
            ],
            [
             0.5555555555555556,
             "#1f9e89"
            ],
            [
             0.6666666666666666,
             "#35b779"
            ],
            [
             0.7777777777777778,
             "#6ece58"
            ],
            [
             0.8888888888888888,
             "#b5de2b"
            ],
            [
             1,
             "#fde725"
            ]
           ]
          },
          "colorway": [
           "#1F77B4",
           "#FF7F0E",
           "#2CA02C",
           "#D62728",
           "#9467BD",
           "#8C564B",
           "#E377C2",
           "#7F7F7F",
           "#BCBD22",
           "#17BECF"
          ],
          "font": {
           "color": "rgb(36,36,36)"
          },
          "geo": {
           "bgcolor": "white",
           "lakecolor": "white",
           "landcolor": "white",
           "showlakes": true,
           "showland": true,
           "subunitcolor": "white"
          },
          "hoverlabel": {
           "align": "left"
          },
          "hovermode": "closest",
          "mapbox": {
           "style": "light"
          },
          "paper_bgcolor": "white",
          "plot_bgcolor": "white",
          "polar": {
           "angularaxis": {
            "gridcolor": "rgb(232,232,232)",
            "linecolor": "rgb(36,36,36)",
            "showgrid": false,
            "showline": true,
            "ticks": "outside"
           },
           "bgcolor": "white",
           "radialaxis": {
            "gridcolor": "rgb(232,232,232)",
            "linecolor": "rgb(36,36,36)",
            "showgrid": false,
            "showline": true,
            "ticks": "outside"
           }
          },
          "scene": {
           "xaxis": {
            "backgroundcolor": "white",
            "gridcolor": "rgb(232,232,232)",
            "gridwidth": 2,
            "linecolor": "rgb(36,36,36)",
            "showbackground": true,
            "showgrid": false,
            "showline": true,
            "ticks": "outside",
            "zeroline": false,
            "zerolinecolor": "rgb(36,36,36)"
           },
           "yaxis": {
            "backgroundcolor": "white",
            "gridcolor": "rgb(232,232,232)",
            "gridwidth": 2,
            "linecolor": "rgb(36,36,36)",
            "showbackground": true,
            "showgrid": false,
            "showline": true,
            "ticks": "outside",
            "zeroline": false,
            "zerolinecolor": "rgb(36,36,36)"
           },
           "zaxis": {
            "backgroundcolor": "white",
            "gridcolor": "rgb(232,232,232)",
            "gridwidth": 2,
            "linecolor": "rgb(36,36,36)",
            "showbackground": true,
            "showgrid": false,
            "showline": true,
            "ticks": "outside",
            "zeroline": false,
            "zerolinecolor": "rgb(36,36,36)"
           }
          },
          "shapedefaults": {
           "fillcolor": "black",
           "line": {
            "width": 0
           },
           "opacity": 0.3
          },
          "ternary": {
           "aaxis": {
            "gridcolor": "rgb(232,232,232)",
            "linecolor": "rgb(36,36,36)",
            "showgrid": false,
            "showline": true,
            "ticks": "outside"
           },
           "baxis": {
            "gridcolor": "rgb(232,232,232)",
            "linecolor": "rgb(36,36,36)",
            "showgrid": false,
            "showline": true,
            "ticks": "outside"
           },
           "bgcolor": "white",
           "caxis": {
            "gridcolor": "rgb(232,232,232)",
            "linecolor": "rgb(36,36,36)",
            "showgrid": false,
            "showline": true,
            "ticks": "outside"
           }
          },
          "title": {
           "x": 0.05
          },
          "xaxis": {
           "automargin": true,
           "gridcolor": "rgb(232,232,232)",
           "linecolor": "rgb(36,36,36)",
           "showgrid": false,
           "showline": true,
           "ticks": "outside",
           "title": {
            "standoff": 15
           },
           "zeroline": false,
           "zerolinecolor": "rgb(36,36,36)"
          },
          "yaxis": {
           "automargin": true,
           "gridcolor": "rgb(232,232,232)",
           "linecolor": "rgb(36,36,36)",
           "showgrid": false,
           "showline": true,
           "ticks": "outside",
           "title": {
            "standoff": 15
           },
           "zeroline": false,
           "zerolinecolor": "rgb(36,36,36)"
          }
         }
        },
        "title": {
         "text": "modnet_nan_distribution_250_mmf_pgnn_"
        },
        "width": 600,
        "xaxis": {
         "dtick": 2,
         "range": [
          -6.2,
          6.2
         ],
         "showgrid": false,
         "tick0": 0,
         "tickmode": "linear",
         "title": {
          "text": "ln(<i>d</i><sub>KP</sub>) (pm/V)"
         }
        },
        "yaxis": {
         "dtick": 2,
         "range": [
          -6.2,
          6.2
         ],
         "showgrid": false,
         "tick0": 0,
         "tickmode": "linear",
         "title": {
          "text": "ln(<i>d&#770;</i><sub>KP</sub>) (pm/V)"
         }
        }
       }
      }
     },
     "metadata": {},
     "output_type": "display_data"
    }
   ],
   "source": [
    "for split in SHG_BENCHMARK_SPLITS:\n",
    "    for k, v in dict_results_ravel.items():\n",
    "        if split not in k:  # to sort by holdout set\n",
    "            continue\n",
    "        if \"_An\" in k:  # too many figures otherwise\n",
    "            continue\n",
    "        if (\n",
    "            \"et_\" in k or \"lgbm\" in k or \"modnet\" in k\n",
    "        ) and \"mmf_pgnn\" not in k:  # too many figures otherwise\n",
    "            continue\n",
    "        if \"claude\" in k or \"darwin\" in k:\n",
    "            continue\n",
    "        df_pred = pd.DataFrame.from_dict(v, orient=\"index\")\n",
    "        holdout_df = load_holdout(split)\n",
    "        df_pred = df_pred.filter(holdout_df.index, axis=0)\n",
    "\n",
    "        holdout_df_vt = holdout_df[holdout_df[\"origin\"] != \"Naccarato\"]\n",
    "        df_pred_vt = df_pred.filter(holdout_df_vt.index, axis=0)\n",
    "        holdout_df_nac = holdout_df[holdout_df[\"origin\"] == \"Naccarato\"]\n",
    "        df_pred_nac = df_pred.filter(holdout_df_nac.index, axis=0)\n",
    "\n",
    "        true_values_vt = holdout_df_vt[\"dKP_full_neum\"].tolist()\n",
    "        pred_values_vt = df_pred_vt[0].tolist()\n",
    "\n",
    "        true_values_nac = holdout_df_nac[\"dKP_full_neum\"].tolist()\n",
    "        pred_values_nac = df_pred_nac[0].tolist()\n",
    "\n",
    "        # Scatter plot for previous outputs.\n",
    "        scatter_plot_vt = go.Scatter(\n",
    "            x=np.log(true_values_vt),\n",
    "            y=np.log(pred_values_vt),\n",
    "            mode=\"markers\",\n",
    "            name=\"\",\n",
    "            showlegend=False,\n",
    "            text=[mpid for mpid in holdout_df_vt.index.tolist()],\n",
    "        )\n",
    "\n",
    "        # Scatter plot for previous outputs.\n",
    "        scatter_plot_nac = go.Scatter(\n",
    "            x=np.log(true_values_nac),\n",
    "            y=np.log(pred_values_nac),\n",
    "            mode=\"markers\",\n",
    "            marker={\"color\": \"red\"},\n",
    "            name=\"\",\n",
    "            showlegend=False,\n",
    "            text=[mpid for mpid in holdout_df_nac.index.tolist()],\n",
    "        )\n",
    "\n",
    "        ideal = go.Scatter(\n",
    "            x=[-10, 8],\n",
    "            y=[-10, 8],\n",
    "            mode=\"lines\",\n",
    "            line=dict(color=\"gray\", dash=\"dot\"),\n",
    "            showlegend=False,\n",
    "        )\n",
    "\n",
    "        # Layout\n",
    "        layout = go.Layout(\n",
    "            title=dict(text=f\"{k}\"),\n",
    "            xaxis=dict(title=\"ln(<i>d</i><sub>KP</sub>) (pm/V)\", range=[-6.2, 6.2]),\n",
    "            yaxis=dict(\n",
    "                title=\"ln(<i>d&#770;</i><sub>KP</sub>) (pm/V)\", range=[-6.2, 6.2]\n",
    "            ),\n",
    "            # legend=dict(font=dict(size=12)),\n",
    "        )\n",
    "\n",
    "        # Create figure\n",
    "        fig = go.Figure(data=[scatter_plot_vt, scatter_plot_nac, ideal], layout=layout)\n",
    "\n",
    "        fig.update_layout(\n",
    "            autosize=False,\n",
    "            font_size=20,\n",
    "            width=600,\n",
    "            height=600,\n",
    "            # plot_bgcolor=\"white\",\n",
    "            template=\"simple_white\",\n",
    "        )\n",
    "        fig.update_layout(\n",
    "            xaxis=dict(\n",
    "                tickmode=\"linear\",\n",
    "                tick0=0,\n",
    "                dtick=2,\n",
    "                showgrid=False,\n",
    "            ),\n",
    "            yaxis=dict(\n",
    "                tickmode=\"linear\",\n",
    "                tick0=0,\n",
    "                dtick=2,\n",
    "                showgrid=False,\n",
    "            ),\n",
    "        )\n",
    "\n",
    "        fig.show()"
   ]
  },
  {
   "cell_type": "code",
   "execution_count": null,
   "metadata": {},
   "outputs": [],
   "source": []
  }
 ],
 "metadata": {
  "kernelspec": {
   "display_name": "shgmlenv",
   "language": "python",
   "name": "python3"
  },
  "language_info": {
   "codemirror_mode": {
    "name": "ipython",
    "version": 3
   },
   "file_extension": ".py",
   "mimetype": "text/x-python",
   "name": "python",
   "nbconvert_exporter": "python",
   "pygments_lexer": "ipython3",
   "version": "3.11.0"
  }
 },
 "nbformat": 4,
 "nbformat_minor": 2
}
