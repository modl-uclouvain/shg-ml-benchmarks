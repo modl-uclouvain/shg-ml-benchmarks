{
 "cells": [
  {
   "cell_type": "code",
   "execution_count": 7,
   "metadata": {},
   "outputs": [],
   "source": [
    "# python env: atom2env_dev_v2\n",
    "\n",
    "import json                                                                                                                             \n",
    "import monty.json\n",
    "import sys\n",
    " \n",
    "from pathlib import Path\n",
    "import pickle\n",
    "\n",
    "import shutil\n",
    "import os\n",
    "import numpy as np\n",
    "import pandas as pd\n",
    "import pickle\n",
    "import traceback as tb\n",
    "import sys\n",
    "import warnings\n",
    "warnings.filterwarnings(\"ignore\")\n",
    "\n",
    "from pymatgen.core.structure import Structure\n",
    "from abipy.core.structure import Structure as AbiStructure\n",
    "from pymatgen.symmetry.analyzer import SpacegroupAnalyzer\n",
    "from atomate2.abinit.files import del_gzip_files\n",
    "from atomate2.abinit.jobs.response import DdkMaker, DdeMaker, DteMaker\n",
    "from atomate2.abinit.jobs.core import StaticMaker\n",
    "from atomate2.abinit.flows.dfpt import ShgFlowMaker\n",
    "from atomate2.abinit.powerups import (\n",
    "     update_user_abinit_settings,\n",
    "     update_factory_kwargs,\n",
    "     update_generator_attributes,\n",
    "     update_user_kpoints_settings,\n",
    "     update_taskdoc,\n",
    "     append_clean_flow\n",
    "     )\n",
    "from atomate2.abinit.sets.base import as_pseudo_table\n",
    "from fireworks import LaunchPad\n",
    "from importlib import reload\n",
    "from jobflow import run_locally, Flow\n",
    "from jobflow.managers.fireworks import flow_to_workflow\n",
    "from tqdm import tqdm"
   ]
  },
  {
   "cell_type": "code",
   "execution_count": 8,
   "metadata": {},
   "outputs": [],
   "source": [
    "# Import sys and set the path of the customized modules\n",
    "import sys\n",
    "sys.path.append('/home/vtrinquet/Documents/Doctorat/JNB_Scripts_Clusters/Custom_Modules/')\n",
    "\n",
    "# Import importlib.reload to be able to reload dynamically modified modules\n",
    "from importlib import reload\n",
    "\n",
    "import modif_spec_atomate2 as mod_spec\n",
    "mod_spec = reload(mod_spec)"
   ]
  },
  {
   "cell_type": "code",
   "execution_count": 9,
   "metadata": {},
   "outputs": [],
   "source": [
    "def test_chksymbreak(structure, kgrid=\"Symmetric\"):\n",
    "    # TEST CHKSYMBREAK\n",
    "    from maggma.stores import MemoryStore\n",
    "    from jobflow import JobStore\n",
    "    import multiprocessing\n",
    "    test_chksymbreak_passed = multiprocessing.Value('i', 1)\n",
    "    def test_chksymbreak():\n",
    "        docs_store = MemoryStore()\n",
    "        store = JobStore(docs_store)\n",
    "        test_chksymbreak_job = StaticMaker().make(structure=structure)\n",
    "        test_chksymbreak_job = update_user_abinit_settings(test_chksymbreak_job, {'chksymbreak': 1})\n",
    "        test_chksymbreak_job = update_factory_kwargs(test_chksymbreak_job, {'shift_mode': kgrid})\n",
    "        try:\n",
    "            run_locally(test_chksymbreak_job, store=store, create_folders=True, root_dir='test_chksymbreak', raise_immediately=True)\n",
    "        except (Exception, ValueError):\n",
    "            print(\"chksymbreak triggered\")\n",
    "            test_chksymbreak_passed.value = 0\n",
    "    p = multiprocessing.Process(target=test_chksymbreak, name=\"Foo\")\n",
    "    p.start()\n",
    "    # Wait a maximum of 5 seconds for foo\n",
    "    # Usage: join([timeout in seconds])\n",
    "    p.join(5)\n",
    "\n",
    "    # If thread is active\n",
    "    if p.is_alive():\n",
    "        print(\"job is running... let's kill it...\")\n",
    "        # Terminate foo\n",
    "        p.terminate()\n",
    "        p.join()\n",
    "    \n",
    "    return test_chksymbreak_passed"
   ]
  },
  {
   "cell_type": "code",
   "execution_count": 10,
   "metadata": {},
   "outputs": [
    {
     "name": "stdout",
     "output_type": "stream",
     "text": [
      "19\n"
     ]
    }
   ],
   "source": [
    "cur_v = int(Path(os.getcwd()).parent.name.split(\"_\")[0])\n",
    "print(cur_v)"
   ]
  },
  {
   "cell_type": "markdown",
   "metadata": {},
   "source": [
    "# LaunchPad"
   ]
  },
  {
   "cell_type": "code",
   "execution_count": 11,
   "metadata": {},
   "outputs": [
    {
     "name": "stdout",
     "output_type": "stream",
     "text": [
      "df_selected.shape = (386, 11)\n"
     ]
    }
   ],
   "source": [
    "path_df_selected = f'../data/df_selected_v{cur_v}.pkl.gz'\n",
    "df_selected = pd.read_pickle(path_df_selected)\n",
    "print(f\"{df_selected.shape = }\")"
   ]
  },
  {
   "cell_type": "code",
   "execution_count": 12,
   "metadata": {},
   "outputs": [
    {
     "name": "stderr",
     "output_type": "stream",
     "text": [
      "  0%|          | 0/386 [00:00<?, ?it/s]"
     ]
    },
    {
     "name": "stdout",
     "output_type": "stream",
     "text": [
      "1\n",
      "2025-01-05 15:51:22,930 INFO Started executing jobs locally\n",
      "2025-01-05 15:51:23,140 INFO Starting job - Scf calculation (5c1519b2-8a90-4fee-8514-f1a90d82fd93)\n",
      "job is running... let's kill it...\n",
      "2025-01-05 15:51:28,541 INFO Added a workflow. id_map: {-11: 94495, -10: 94496, -9: 94497, -8: 94498, -7: 94499, -6: 94500, -5: 94501, -4: 94502, -3: 94503, -2: 94504, -1: 94505}\n"
     ]
    },
    {
     "name": "stderr",
     "output_type": "stream",
     "text": [
      "  0%|          | 1/386 [00:05<37:12,  5.80s/it]"
     ]
    },
    {
     "name": "stdout",
     "output_type": "stream",
     "text": [
      "2\n",
      "2025-01-05 15:51:28,721 INFO Started executing jobs locally\n",
      "2025-01-05 15:51:28,729 INFO Starting job - Scf calculation (254ec17b-4ace-41c9-a595-e9105036486a)\n",
      "job is running... let's kill it...\n",
      "2025-01-05 15:51:34,259 INFO Added a workflow. id_map: {-22: 94506, -21: 94507, -20: 94508, -19: 94509, -18: 94510, -17: 94511, -16: 94512, -15: 94513, -14: 94514, -13: 94515, -12: 94516}\n"
     ]
    },
    {
     "name": "stderr",
     "output_type": "stream",
     "text": [
      "  1%|          | 2/386 [00:11<36:45,  5.74s/it]"
     ]
    },
    {
     "name": "stdout",
     "output_type": "stream",
     "text": [
      "3\n",
      "2025-01-05 15:51:34,427 INFO Started executing jobs locally\n",
      "2025-01-05 15:51:34,439 INFO Starting job - Scf calculation (80dc374d-acab-4900-8295-4202b56a22d5)\n",
      "job is running... let's kill it...\n",
      "2025-01-05 15:51:39,956 INFO Added a workflow. id_map: {-33: 94517, -32: 94518, -31: 94519, -30: 94520, -29: 94521, -28: 94522, -27: 94523, -26: 94524, -25: 94525, -24: 94526, -23: 94527}\n"
     ]
    },
    {
     "name": "stderr",
     "output_type": "stream",
     "text": [
      "  1%|          | 3/386 [00:17<36:33,  5.73s/it]"
     ]
    },
    {
     "name": "stdout",
     "output_type": "stream",
     "text": [
      "4\n",
      "2025-01-05 15:51:40,147 INFO Started executing jobs locally\n",
      "2025-01-05 15:51:40,157 INFO Starting job - Scf calculation (f0be7431-9a53-4f75-a849-b358c8283fd3)\n",
      "job is running... let's kill it...\n",
      "2025-01-05 15:51:45,675 INFO Added a workflow. id_map: {-44: 94528, -43: 94529, -42: 94530, -41: 94531, -40: 94532, -39: 94533, -38: 94534, -37: 94535, -36: 94536, -35: 94537, -34: 94538}\n"
     ]
    },
    {
     "name": "stderr",
     "output_type": "stream",
     "text": [
      "  1%|          | 4/386 [00:22<36:26,  5.72s/it]"
     ]
    },
    {
     "name": "stdout",
     "output_type": "stream",
     "text": [
      "5\n",
      "2025-01-05 15:51:45,855 INFO Started executing jobs locally\n",
      "2025-01-05 15:51:45,866 INFO Starting job - Scf calculation (1e39bd8d-22da-4e08-ab35-ca3a3d31a3ab)\n",
      "job is running... let's kill it...\n",
      "2025-01-05 15:51:51,422 INFO Added a workflow. id_map: {-55: 94539, -54: 94540, -53: 94541, -52: 94542, -51: 94543, -50: 94544, -49: 94545, -48: 94546, -47: 94547, -46: 94548, -45: 94549}\n"
     ]
    },
    {
     "name": "stderr",
     "output_type": "stream",
     "text": [
      "  1%|▏         | 5/386 [00:28<36:23,  5.73s/it]"
     ]
    },
    {
     "name": "stdout",
     "output_type": "stream",
     "text": [
      "6\n",
      "2025-01-05 15:51:51,601 INFO Started executing jobs locally\n",
      "2025-01-05 15:51:51,613 INFO Starting job - Scf calculation (52eefb37-e223-49e9-884a-bdbe6c3819a8)\n",
      "job is running... let's kill it...\n",
      "2025-01-05 15:51:57,139 INFO Added a workflow. id_map: {-66: 94550, -65: 94551, -64: 94552, -63: 94553, -62: 94554, -61: 94555, -60: 94556, -59: 94557, -58: 94558, -57: 94559, -56: 94560}\n"
     ]
    },
    {
     "name": "stderr",
     "output_type": "stream",
     "text": [
      "  2%|▏         | 6/386 [00:34<36:16,  5.73s/it]"
     ]
    },
    {
     "name": "stdout",
     "output_type": "stream",
     "text": [
      "7\n",
      "2025-01-05 15:51:57,314 INFO Started executing jobs locally\n",
      "2025-01-05 15:51:57,322 INFO Starting job - Scf calculation (6245bee3-a95f-4809-9f55-9813ded54134)\n",
      "job is running... let's kill it...\n",
      "2025-01-05 15:52:02,834 INFO Added a workflow. id_map: {-77: 94561, -76: 94562, -75: 94563, -74: 94564, -73: 94565, -72: 94566, -71: 94567, -70: 94568, -69: 94569, -68: 94570, -67: 94571}\n"
     ]
    },
    {
     "name": "stderr",
     "output_type": "stream",
     "text": [
      "  2%|▏         | 7/386 [00:40<36:05,  5.71s/it]"
     ]
    },
    {
     "name": "stdout",
     "output_type": "stream",
     "text": [
      "8\n",
      "2025-01-05 15:52:03,001 INFO Started executing jobs locally\n",
      "2025-01-05 15:52:03,009 INFO Starting job - Scf calculation (cec4b55d-1cf8-40d9-9fda-5d9c18f70180)\n",
      "job is running... let's kill it...\n",
      "2025-01-05 15:52:08,507 INFO Added a workflow. id_map: {-88: 94572, -87: 94573, -86: 94574, -85: 94575, -84: 94576, -83: 94577, -82: 94578, -81: 94579, -80: 94580, -79: 94581, -78: 94582}\n"
     ]
    },
    {
     "name": "stderr",
     "output_type": "stream",
     "text": [
      "  2%|▏         | 8/386 [00:45<35:54,  5.70s/it]"
     ]
    },
    {
     "name": "stdout",
     "output_type": "stream",
     "text": [
      "9\n",
      "2025-01-05 15:52:08,674 INFO Started executing jobs locally\n",
      "2025-01-05 15:52:08,683 INFO Starting job - Scf calculation (69ff2e14-990f-4b14-9e3c-f07863612554)\n",
      "job is running... let's kill it...\n",
      "2025-01-05 15:52:14,194 INFO Added a workflow. id_map: {-99: 94583, -98: 94584, -97: 94585, -96: 94586, -95: 94587, -94: 94588, -93: 94589, -92: 94590, -91: 94591, -90: 94592, -89: 94593}\n"
     ]
    },
    {
     "name": "stderr",
     "output_type": "stream",
     "text": [
      "  2%|▏         | 9/386 [00:51<35:47,  5.70s/it]"
     ]
    },
    {
     "name": "stdout",
     "output_type": "stream",
     "text": [
      "10\n",
      "2025-01-05 15:52:14,361 INFO Started executing jobs locally\n",
      "2025-01-05 15:52:14,372 INFO Starting job - Scf calculation (1d9b7a9f-7338-464e-ad6f-0e25df404a71)\n",
      "job is running... let's kill it...\n",
      "2025-01-05 15:52:19,872 INFO Added a workflow. id_map: {-110: 94594, -109: 94595, -108: 94596, -107: 94597, -106: 94598, -105: 94599, -104: 94600, -103: 94601, -102: 94602, -101: 94603, -100: 94604}\n"
     ]
    },
    {
     "name": "stderr",
     "output_type": "stream",
     "text": [
      "  3%|▎         | 10/386 [00:57<35:39,  5.69s/it]"
     ]
    },
    {
     "name": "stdout",
     "output_type": "stream",
     "text": [
      "11\n",
      "2025-01-05 15:52:20,036 INFO Started executing jobs locally\n",
      "2025-01-05 15:52:20,048 INFO Starting job - Scf calculation (02c292b7-18d3-4b88-bd0b-78bf46984251)\n",
      "job is running... let's kill it...\n",
      "2025-01-05 15:52:25,549 INFO Added a workflow. id_map: {-121: 94605, -120: 94606, -119: 94607, -118: 94608, -117: 94609, -116: 94610, -115: 94611, -114: 94612, -113: 94613, -112: 94614, -111: 94615}\n"
     ]
    },
    {
     "name": "stderr",
     "output_type": "stream",
     "text": [
      "  3%|▎         | 11/386 [01:02<35:32,  5.69s/it]"
     ]
    },
    {
     "name": "stdout",
     "output_type": "stream",
     "text": [
      "12\n",
      "2025-01-05 15:52:25,706 INFO Started executing jobs locally\n",
      "2025-01-05 15:52:25,715 INFO Starting job - Scf calculation (75de9faf-db82-44f9-84ed-9599afd3a290)\n",
      "job is running... let's kill it...\n",
      "2025-01-05 15:52:31,209 INFO Added a workflow. id_map: {-132: 94616, -131: 94617, -130: 94618, -129: 94619, -128: 94620, -127: 94621, -126: 94622, -125: 94623, -124: 94624, -123: 94625, -122: 94626}\n"
     ]
    },
    {
     "name": "stderr",
     "output_type": "stream",
     "text": [
      "  3%|▎         | 12/386 [01:08<35:23,  5.68s/it]"
     ]
    },
    {
     "name": "stdout",
     "output_type": "stream",
     "text": [
      "13\n",
      "2025-01-05 15:52:31,383 INFO Started executing jobs locally\n",
      "2025-01-05 15:52:31,398 INFO Starting job - Scf calculation (079de6b5-74b2-4967-b691-9cf47f5c3e40)\n",
      "job is running... let's kill it...\n",
      "2025-01-05 15:52:36,917 INFO Added a workflow. id_map: {-143: 94627, -142: 94628, -141: 94629, -140: 94630, -139: 94631, -138: 94632, -137: 94633, -136: 94634, -135: 94635, -134: 94636, -133: 94637}\n"
     ]
    },
    {
     "name": "stderr",
     "output_type": "stream",
     "text": [
      "  3%|▎         | 13/386 [01:14<35:21,  5.69s/it]"
     ]
    },
    {
     "name": "stdout",
     "output_type": "stream",
     "text": [
      "14\n",
      "2025-01-05 15:52:37,103 INFO Started executing jobs locally\n",
      "2025-01-05 15:52:37,112 INFO Starting job - Scf calculation (2a135313-31a1-47f8-a0cf-ccd1c7a566ec)\n",
      "chksymbreak triggered\n"
     ]
    },
    {
     "name": "stderr",
     "output_type": "stream",
     "text": [
      "  4%|▎         | 14/386 [01:14<25:26,  4.10s/it]"
     ]
    },
    {
     "name": "stdout",
     "output_type": "stream",
     "text": [
      "15\n",
      "2025-01-05 15:52:37,569 INFO Started executing jobs locally\n",
      "2025-01-05 15:52:37,582 INFO Starting job - Scf calculation (ea694060-296c-41f0-b47d-e2e8972395e5)\n",
      "job is running... let's kill it...\n",
      "2025-01-05 15:52:43,087 INFO Added a workflow. id_map: {-154: 94638, -153: 94639, -152: 94640, -151: 94641, -150: 94642, -149: 94643, -148: 94644, -147: 94645, -146: 94646, -145: 94647, -144: 94648}\n"
     ]
    },
    {
     "name": "stderr",
     "output_type": "stream",
     "text": [
      "  4%|▍         | 15/386 [01:20<28:23,  4.59s/it]"
     ]
    },
    {
     "name": "stdout",
     "output_type": "stream",
     "text": [
      "16\n",
      "2025-01-05 15:52:43,261 INFO Started executing jobs locally\n",
      "2025-01-05 15:52:43,272 INFO Starting job - Scf calculation (ede6f896-9a6e-4dd0-9d26-55d2137f679b)\n",
      "job is running... let's kill it...\n",
      "2025-01-05 15:52:48,780 INFO Added a workflow. id_map: {-165: 94649, -164: 94650, -163: 94651, -162: 94652, -161: 94653, -160: 94654, -159: 94655, -158: 94656, -157: 94657, -156: 94658, -155: 94659}\n"
     ]
    },
    {
     "name": "stderr",
     "output_type": "stream",
     "text": [
      "  4%|▍         | 16/386 [01:26<30:21,  4.92s/it]"
     ]
    },
    {
     "name": "stdout",
     "output_type": "stream",
     "text": [
      "17\n",
      "2025-01-05 15:52:48,969 INFO Started executing jobs locally\n",
      "2025-01-05 15:52:48,981 INFO Starting job - Scf calculation (ed03db6e-5af4-4c1c-b21a-4b1073f46cfb)\n",
      "job is running... let's kill it...\n",
      "2025-01-05 15:52:54,479 INFO Added a workflow. id_map: {-176: 94660, -175: 94661, -174: 94662, -173: 94663, -172: 94664, -171: 94665, -170: 94666, -169: 94667, -168: 94668, -167: 94669, -166: 94670}\n"
     ]
    },
    {
     "name": "stderr",
     "output_type": "stream",
     "text": [
      "  4%|▍         | 17/386 [01:31<31:43,  5.16s/it]"
     ]
    },
    {
     "name": "stdout",
     "output_type": "stream",
     "text": [
      "18\n",
      "2025-01-05 15:52:54,665 INFO Started executing jobs locally\n",
      "2025-01-05 15:52:54,681 INFO Starting job - Scf calculation (8b65a5ca-e5f2-429b-82c0-e38a5b2b69b8)\n",
      "job is running... let's kill it...\n",
      "2025-01-05 15:53:00,180 INFO Added a workflow. id_map: {-187: 94671, -186: 94672, -185: 94673, -184: 94674, -183: 94675, -182: 94676, -181: 94677, -180: 94678, -179: 94679, -178: 94680, -177: 94681}\n"
     ]
    },
    {
     "name": "stderr",
     "output_type": "stream",
     "text": [
      "  5%|▍         | 18/386 [01:37<32:38,  5.32s/it]"
     ]
    },
    {
     "name": "stdout",
     "output_type": "stream",
     "text": [
      "19\n",
      "2025-01-05 15:53:00,346 INFO Started executing jobs locally\n",
      "2025-01-05 15:53:00,356 INFO Starting job - Scf calculation (0cbce154-7e78-490c-9ec7-f7f23f2e7443)\n",
      "job is running... let's kill it...\n",
      "2025-01-05 15:53:05,859 INFO Added a workflow. id_map: {-198: 94682, -197: 94683, -196: 94684, -195: 94685, -194: 94686, -193: 94687, -192: 94688, -191: 94689, -190: 94690, -189: 94691, -188: 94692}\n"
     ]
    },
    {
     "name": "stderr",
     "output_type": "stream",
     "text": [
      "  5%|▍         | 19/386 [01:43<33:12,  5.43s/it]"
     ]
    },
    {
     "name": "stdout",
     "output_type": "stream",
     "text": [
      "20\n",
      "2025-01-05 15:53:06,037 INFO Started executing jobs locally\n",
      "2025-01-05 15:53:06,046 INFO Starting job - Scf calculation (8b7e1b4f-f83c-441c-882b-7778b16918e5)\n",
      "job is running... let's kill it...\n",
      "2025-01-05 15:53:11,583 INFO Added a workflow. id_map: {-209: 94693, -208: 94694, -207: 94695, -206: 94696, -205: 94697, -204: 94698, -203: 94699, -202: 94700, -201: 94701, -200: 94702, -199: 94703}\n"
     ]
    },
    {
     "name": "stderr",
     "output_type": "stream",
     "text": [
      "  5%|▌         | 20/386 [01:48<33:38,  5.52s/it]"
     ]
    },
    {
     "name": "stdout",
     "output_type": "stream",
     "text": [
      "21\n",
      "2025-01-05 15:53:11,750 INFO Started executing jobs locally\n",
      "2025-01-05 15:53:11,758 INFO Starting job - Scf calculation (26824312-3ac1-4e0a-83d2-ec855d423e47)\n",
      "job is running... let's kill it...\n",
      "2025-01-05 15:53:17,253 INFO Added a workflow. id_map: {-220: 94704, -219: 94705, -218: 94706, -217: 94707, -216: 94708, -215: 94709, -214: 94710, -213: 94711, -212: 94712, -211: 94713, -210: 94714}\n"
     ]
    },
    {
     "name": "stderr",
     "output_type": "stream",
     "text": [
      "  5%|▌         | 21/386 [01:54<33:50,  5.56s/it]"
     ]
    },
    {
     "name": "stdout",
     "output_type": "stream",
     "text": [
      "22\n",
      "2025-01-05 15:53:17,430 INFO Started executing jobs locally\n",
      "2025-01-05 15:53:17,447 INFO Starting job - Scf calculation (2ca71c4b-45a8-4b2c-9194-629790b036eb)\n",
      "job is running... let's kill it...\n",
      "2025-01-05 15:53:22,944 INFO Added a workflow. id_map: {-231: 94715, -230: 94716, -229: 94717, -228: 94718, -227: 94719, -226: 94720, -225: 94721, -224: 94722, -223: 94723, -222: 94724, -221: 94725}\n"
     ]
    },
    {
     "name": "stderr",
     "output_type": "stream",
     "text": [
      "  6%|▌         | 22/386 [02:00<33:59,  5.60s/it]"
     ]
    },
    {
     "name": "stdout",
     "output_type": "stream",
     "text": [
      "23\n",
      "2025-01-05 15:53:23,122 INFO Started executing jobs locally\n",
      "2025-01-05 15:53:23,130 INFO Starting job - Scf calculation (6bb230bc-3b9d-4855-a0ad-412e8819f5ae)\n",
      "job is running... let's kill it...\n",
      "2025-01-05 15:53:28,632 INFO Added a workflow. id_map: {-242: 94726, -241: 94727, -240: 94728, -239: 94729, -238: 94730, -237: 94731, -236: 94732, -235: 94733, -234: 94734, -233: 94735, -232: 94736}\n"
     ]
    },
    {
     "name": "stderr",
     "output_type": "stream",
     "text": [
      "  6%|▌         | 23/386 [02:05<34:01,  5.62s/it]"
     ]
    },
    {
     "name": "stdout",
     "output_type": "stream",
     "text": [
      "24\n",
      "2025-01-05 15:53:28,793 INFO Started executing jobs locally\n",
      "2025-01-05 15:53:28,803 INFO Starting job - Scf calculation (1aa5f3fe-6dda-4823-acf7-2fb8d2cbe071)\n",
      "job is running... let's kill it...\n",
      "2025-01-05 15:53:34,301 INFO Added a workflow. id_map: {-253: 94737, -252: 94738, -251: 94739, -250: 94740, -249: 94741, -248: 94742, -247: 94743, -246: 94744, -245: 94745, -244: 94746, -243: 94747}\n"
     ]
    },
    {
     "name": "stderr",
     "output_type": "stream",
     "text": [
      "  6%|▌         | 24/386 [02:11<34:01,  5.64s/it]"
     ]
    },
    {
     "name": "stdout",
     "output_type": "stream",
     "text": [
      "25\n",
      "2025-01-05 15:53:34,464 INFO Started executing jobs locally\n",
      "2025-01-05 15:53:34,472 INFO Starting job - Scf calculation (df1f5c12-2e02-4fd5-ada4-768c9268ff5e)\n",
      "job is running... let's kill it...\n",
      "2025-01-05 15:53:39,974 INFO Added a workflow. id_map: {-264: 94748, -263: 94749, -262: 94750, -261: 94751, -260: 94752, -259: 94753, -258: 94754, -257: 94755, -256: 94756, -255: 94757, -254: 94758}\n"
     ]
    },
    {
     "name": "stderr",
     "output_type": "stream",
     "text": [
      "  6%|▋         | 25/386 [02:17<33:59,  5.65s/it]"
     ]
    },
    {
     "name": "stdout",
     "output_type": "stream",
     "text": [
      "26\n",
      "2025-01-05 15:53:40,143 INFO Started executing jobs locally\n",
      "2025-01-05 15:53:40,152 INFO Starting job - Scf calculation (40699aea-191c-4bc5-8588-34a0aafd9467)\n",
      "job is running... let's kill it...\n",
      "2025-01-05 15:53:45,699 INFO Added a workflow. id_map: {-275: 94759, -274: 94760, -273: 94761, -272: 94762, -271: 94763, -270: 94764, -269: 94765, -268: 94766, -267: 94767, -266: 94768, -265: 94769}\n"
     ]
    },
    {
     "name": "stderr",
     "output_type": "stream",
     "text": [
      "  7%|▋         | 26/386 [02:22<34:02,  5.67s/it]"
     ]
    },
    {
     "name": "stdout",
     "output_type": "stream",
     "text": [
      "27\n",
      "2025-01-05 15:53:45,866 INFO Started executing jobs locally\n",
      "2025-01-05 15:53:45,875 INFO Starting job - Scf calculation (3b27a801-7649-4c0c-8b1f-e5af3d990edf)\n",
      "job is running... let's kill it...\n",
      "2025-01-05 15:53:51,399 INFO Added a workflow. id_map: {-286: 94770, -285: 94771, -284: 94772, -283: 94773, -282: 94774, -281: 94775, -280: 94776, -279: 94777, -278: 94778, -277: 94779, -276: 94780}\n"
     ]
    },
    {
     "name": "stderr",
     "output_type": "stream",
     "text": [
      "  7%|▋         | 27/386 [02:28<33:59,  5.68s/it]"
     ]
    },
    {
     "name": "stdout",
     "output_type": "stream",
     "text": [
      "28\n",
      "2025-01-05 15:53:51,566 INFO Started executing jobs locally\n",
      "2025-01-05 15:53:51,575 INFO Starting job - Scf calculation (a6229727-3d64-4487-9ccf-22d4bc8eda22)\n",
      "job is running... let's kill it...\n",
      "2025-01-05 15:53:57,133 INFO Added a workflow. id_map: {-297: 94781, -296: 94782, -295: 94783, -294: 94784, -293: 94785, -292: 94786, -291: 94787, -290: 94788, -289: 94789, -288: 94790, -287: 94791}\n"
     ]
    },
    {
     "name": "stderr",
     "output_type": "stream",
     "text": [
      "  7%|▋         | 28/386 [02:34<33:59,  5.70s/it]"
     ]
    },
    {
     "name": "stdout",
     "output_type": "stream",
     "text": [
      "29\n",
      "Uneven number of valence electrons. Let's skip this structure\n",
      "30\n",
      "2025-01-05 15:53:57,313 INFO Started executing jobs locally\n",
      "2025-01-05 15:53:57,325 INFO Starting job - Scf calculation (d597f3a4-a10d-449d-8ff8-b8a1f57a26a2)\n",
      "job is running... let's kill it...\n",
      "2025-01-05 15:54:02,860 INFO Added a workflow. id_map: {-308: 94792, -307: 94793, -306: 94794, -305: 94795, -304: 94796, -303: 94797, -302: 94798, -301: 94799, -300: 94800, -299: 94801, -298: 94802}\n"
     ]
    },
    {
     "name": "stderr",
     "output_type": "stream",
     "text": [
      "  8%|▊         | 30/386 [02:40<26:02,  4.39s/it]"
     ]
    },
    {
     "name": "stdout",
     "output_type": "stream",
     "text": [
      "31\n",
      "2025-01-05 15:54:03,036 INFO Started executing jobs locally\n",
      "2025-01-05 15:54:03,046 INFO Starting job - Scf calculation (ec105482-cdd5-4ae0-9076-04b33f879ed4)\n",
      "job is running... let's kill it...\n",
      "2025-01-05 15:54:08,561 INFO Added a workflow. id_map: {-319: 94803, -318: 94804, -317: 94805, -316: 94806, -315: 94807, -314: 94808, -313: 94809, -312: 94810, -311: 94811, -310: 94812, -309: 94813}\n"
     ]
    },
    {
     "name": "stderr",
     "output_type": "stream",
     "text": [
      "  8%|▊         | 31/386 [02:45<27:53,  4.71s/it]"
     ]
    },
    {
     "name": "stdout",
     "output_type": "stream",
     "text": [
      "32\n",
      "2025-01-05 15:54:08,718 INFO Started executing jobs locally\n",
      "2025-01-05 15:54:08,728 INFO Starting job - Scf calculation (f84edc96-6715-4ebf-b7a9-39d43150972b)\n",
      "job is running... let's kill it...\n",
      "2025-01-05 15:54:14,295 INFO Added a workflow. id_map: {-330: 94814, -329: 94815, -328: 94816, -327: 94817, -326: 94818, -325: 94819, -324: 94820, -323: 94821, -322: 94822, -321: 94823, -320: 94824}\n"
     ]
    },
    {
     "name": "stderr",
     "output_type": "stream",
     "text": [
      "  8%|▊         | 32/386 [02:51<29:24,  4.98s/it]"
     ]
    },
    {
     "name": "stdout",
     "output_type": "stream",
     "text": [
      "33\n",
      "Uneven number of valence electrons. Let's skip this structure\n",
      "34\n",
      "2025-01-05 15:54:14,495 INFO Started executing jobs locally\n",
      "2025-01-05 15:54:14,509 INFO Starting job - Scf calculation (a6a740c1-1696-4f17-8a42-dc460f58e994)\n",
      "job is running... let's kill it...\n",
      "2025-01-05 15:54:20,029 INFO Added a workflow. id_map: {-341: 94825, -340: 94826, -339: 94827, -338: 94828, -337: 94829, -336: 94830, -335: 94831, -334: 94832, -333: 94833, -332: 94834, -331: 94835}\n"
     ]
    },
    {
     "name": "stderr",
     "output_type": "stream",
     "text": [
      "  9%|▉         | 34/386 [02:57<23:56,  4.08s/it]"
     ]
    },
    {
     "name": "stdout",
     "output_type": "stream",
     "text": [
      "35\n",
      "2025-01-05 15:54:20,215 INFO Started executing jobs locally\n",
      "2025-01-05 15:54:20,227 INFO Starting job - Scf calculation (52861fe2-279f-4db8-b730-5f645ac6cb1c)\n",
      "job is running... let's kill it...\n",
      "2025-01-05 15:54:25,759 INFO Added a workflow. id_map: {-352: 94836, -351: 94837, -350: 94838, -349: 94839, -348: 94840, -347: 94841, -346: 94842, -345: 94843, -344: 94844, -343: 94845, -342: 94846}\n"
     ]
    },
    {
     "name": "stderr",
     "output_type": "stream",
     "text": [
      "  9%|▉         | 35/386 [03:03<26:06,  4.46s/it]"
     ]
    },
    {
     "name": "stdout",
     "output_type": "stream",
     "text": [
      "36\n",
      "2025-01-05 15:54:25,928 INFO Started executing jobs locally\n",
      "2025-01-05 15:54:25,937 INFO Starting job - Scf calculation (a1e85eca-22b9-4287-9073-2041078c8660)\n",
      "job is running... let's kill it...\n",
      "2025-01-05 15:54:31,463 INFO Added a workflow. id_map: {-363: 94847, -362: 94848, -361: 94849, -360: 94850, -359: 94851, -358: 94852, -357: 94853, -356: 94854, -355: 94855, -354: 94856, -353: 94857}\n"
     ]
    },
    {
     "name": "stderr",
     "output_type": "stream",
     "text": [
      "  9%|▉         | 36/386 [03:08<27:51,  4.77s/it]"
     ]
    },
    {
     "name": "stdout",
     "output_type": "stream",
     "text": [
      "37\n",
      "2025-01-05 15:54:31,637 INFO Started executing jobs locally\n",
      "2025-01-05 15:54:31,649 INFO Starting job - Scf calculation (96540799-f712-4a26-aacd-f00843df928e)\n",
      "job is running... let's kill it...\n",
      "2025-01-05 15:54:37,184 INFO Added a workflow. id_map: {-374: 94858, -373: 94859, -372: 94860, -371: 94861, -370: 94862, -369: 94863, -368: 94864, -367: 94865, -366: 94866, -365: 94867, -364: 94868}\n"
     ]
    },
    {
     "name": "stderr",
     "output_type": "stream",
     "text": [
      " 10%|▉         | 37/386 [03:14<29:12,  5.02s/it]"
     ]
    },
    {
     "name": "stdout",
     "output_type": "stream",
     "text": [
      "38\n",
      "2025-01-05 15:54:37,346 INFO Started executing jobs locally\n",
      "2025-01-05 15:54:37,357 INFO Starting job - Scf calculation (65057785-75d4-401f-8e76-52cc561b1825)\n",
      "job is running... let's kill it...\n",
      "2025-01-05 15:54:42,885 INFO Added a workflow. id_map: {-385: 94869, -384: 94870, -383: 94871, -382: 94872, -381: 94873, -380: 94874, -379: 94875, -378: 94876, -377: 94877, -376: 94878, -375: 94879}\n"
     ]
    },
    {
     "name": "stderr",
     "output_type": "stream",
     "text": [
      " 10%|▉         | 38/386 [03:20<30:11,  5.21s/it]"
     ]
    },
    {
     "name": "stdout",
     "output_type": "stream",
     "text": [
      "39\n",
      "2025-01-05 15:54:43,056 INFO Started executing jobs locally\n",
      "2025-01-05 15:54:43,068 INFO Starting job - Scf calculation (faa3b24d-fd4c-40ec-969b-8d6b189e2846)\n",
      "job is running... let's kill it...\n",
      "2025-01-05 15:54:48,563 INFO Added a workflow. id_map: {-396: 94880, -395: 94881, -394: 94882, -393: 94883, -392: 94884, -391: 94885, -390: 94886, -389: 94887, -388: 94888, -387: 94889, -386: 94890}\n"
     ]
    },
    {
     "name": "stderr",
     "output_type": "stream",
     "text": [
      " 10%|█         | 39/386 [03:25<30:53,  5.34s/it]"
     ]
    },
    {
     "name": "stdout",
     "output_type": "stream",
     "text": [
      "40\n",
      "2025-01-05 15:54:48,734 INFO Started executing jobs locally\n",
      "2025-01-05 15:54:48,743 INFO Starting job - Scf calculation (42df8e0c-d9a4-44d4-80d1-465e482115d9)\n",
      "job is running... let's kill it...\n",
      "2025-01-05 15:54:54,261 INFO Added a workflow. id_map: {-407: 94891, -406: 94892, -405: 94893, -404: 94894, -403: 94895, -402: 94896, -401: 94897, -400: 94898, -399: 94899, -398: 94900, -397: 94901}\n"
     ]
    },
    {
     "name": "stderr",
     "output_type": "stream",
     "text": [
      " 10%|█         | 40/386 [03:31<31:23,  5.44s/it]"
     ]
    },
    {
     "name": "stdout",
     "output_type": "stream",
     "text": [
      "41\n",
      "2025-01-05 15:54:54,435 INFO Started executing jobs locally\n",
      "2025-01-05 15:54:54,446 INFO Starting job - Scf calculation (45a01aa1-2078-4a60-aaec-244771ca0a11)\n",
      "job is running... let's kill it...\n",
      "2025-01-05 15:54:59,952 INFO Added a workflow. id_map: {-418: 94902, -417: 94903, -416: 94904, -415: 94905, -414: 94906, -413: 94907, -412: 94908, -411: 94909, -410: 94910, -409: 94911, -408: 94912}\n"
     ]
    },
    {
     "name": "stderr",
     "output_type": "stream",
     "text": [
      " 11%|█         | 41/386 [03:37<31:42,  5.51s/it]"
     ]
    },
    {
     "name": "stdout",
     "output_type": "stream",
     "text": [
      "42\n",
      "2025-01-05 15:55:00,115 INFO Started executing jobs locally\n",
      "2025-01-05 15:55:00,123 INFO Starting job - Scf calculation (aefb3fb8-7b44-4395-8987-f9d1eb58bca0)\n",
      "job is running... let's kill it...\n",
      "2025-01-05 15:55:05,621 INFO Added a workflow. id_map: {-429: 94913, -428: 94914, -427: 94915, -426: 94916, -425: 94917, -424: 94918, -423: 94919, -422: 94920, -421: 94921, -420: 94922, -419: 94923}\n"
     ]
    },
    {
     "name": "stderr",
     "output_type": "stream",
     "text": [
      " 11%|█         | 42/386 [03:42<31:52,  5.56s/it]"
     ]
    },
    {
     "name": "stdout",
     "output_type": "stream",
     "text": [
      "43\n",
      "2025-01-05 15:55:05,778 INFO Started executing jobs locally\n",
      "2025-01-05 15:55:05,787 INFO Starting job - Scf calculation (9fdb2305-39cc-43bd-9869-f428d65a25f5)\n",
      "job is running... let's kill it...\n",
      "2025-01-05 15:55:11,290 INFO Added a workflow. id_map: {-440: 94924, -439: 94925, -438: 94926, -437: 94927, -436: 94928, -435: 94929, -434: 94930, -433: 94931, -432: 94932, -431: 94933, -430: 94934}\n"
     ]
    },
    {
     "name": "stderr",
     "output_type": "stream",
     "text": [
      " 11%|█         | 43/386 [03:48<31:57,  5.59s/it]"
     ]
    },
    {
     "name": "stdout",
     "output_type": "stream",
     "text": [
      "44\n",
      "Uneven number of valence electrons. Let's skip this structure\n",
      "45\n",
      "2025-01-05 15:55:11,486 INFO Started executing jobs locally\n",
      "2025-01-05 15:55:11,498 INFO Starting job - Scf calculation (8db0216d-7c5d-4e90-b76a-61d352c6e6a4)\n",
      "job is running... let's kill it...\n",
      "2025-01-05 15:55:17,014 INFO Added a workflow. id_map: {-451: 94935, -450: 94936, -449: 94937, -448: 94938, -447: 94939, -446: 94940, -445: 94941, -444: 94942, -443: 94943, -442: 94944, -441: 94945}\n"
     ]
    },
    {
     "name": "stderr",
     "output_type": "stream",
     "text": [
      " 12%|█▏        | 45/386 [03:54<24:41,  4.34s/it]"
     ]
    },
    {
     "name": "stdout",
     "output_type": "stream",
     "text": [
      "46\n",
      "2025-01-05 15:55:17,205 INFO Started executing jobs locally\n",
      "2025-01-05 15:55:17,216 INFO Starting job - Scf calculation (175d5b43-1f22-4ac6-bf5f-e1b714db6c35)\n",
      "job is running... let's kill it...\n",
      "2025-01-05 15:55:22,745 INFO Added a workflow. id_map: {-462: 94946, -461: 94947, -460: 94948, -459: 94949, -458: 94950, -457: 94951, -456: 94952, -455: 94953, -454: 94954, -453: 94955, -452: 94956}\n"
     ]
    },
    {
     "name": "stderr",
     "output_type": "stream",
     "text": [
      " 12%|█▏        | 46/386 [04:00<26:34,  4.69s/it]"
     ]
    },
    {
     "name": "stdout",
     "output_type": "stream",
     "text": [
      "47\n",
      "2025-01-05 15:55:22,929 INFO Started executing jobs locally\n",
      "2025-01-05 15:55:22,940 INFO Starting job - Scf calculation (97c49e2a-ecc8-46da-953c-9d00b5d45dd7)\n",
      "job is running... let's kill it...\n",
      "2025-01-05 15:55:28,436 INFO Added a workflow. id_map: {-473: 94957, -472: 94958, -471: 94959, -470: 94960, -469: 94961, -468: 94962, -467: 94963, -466: 94964, -465: 94965, -464: 94966, -463: 94967}\n"
     ]
    },
    {
     "name": "stderr",
     "output_type": "stream",
     "text": [
      " 12%|█▏        | 47/386 [04:05<27:57,  4.95s/it]"
     ]
    },
    {
     "name": "stdout",
     "output_type": "stream",
     "text": [
      "48\n",
      "2025-01-05 15:55:28,635 INFO Started executing jobs locally\n",
      "2025-01-05 15:55:28,652 INFO Starting job - Scf calculation (e09f0469-fb69-42db-913f-cca6101f8482)\n",
      "job is running... let's kill it...\n",
      "2025-01-05 15:55:34,147 INFO Added a workflow. id_map: {-484: 94968, -483: 94969, -482: 94970, -481: 94971, -480: 94972, -479: 94973, -478: 94974, -477: 94975, -476: 94976, -475: 94977, -474: 94978}\n"
     ]
    },
    {
     "name": "stderr",
     "output_type": "stream",
     "text": [
      " 12%|█▏        | 48/386 [04:11<29:03,  5.16s/it]"
     ]
    },
    {
     "name": "stdout",
     "output_type": "stream",
     "text": [
      "49\n",
      "2025-01-05 15:55:34,330 INFO Started executing jobs locally\n",
      "2025-01-05 15:55:34,339 INFO Starting job - Scf calculation (7e94d5d7-a6f6-485a-9e33-cf9dc5dcd5a2)\n",
      "job is running... let's kill it...\n",
      "2025-01-05 15:55:39,848 INFO Added a workflow. id_map: {-495: 94979, -494: 94980, -493: 94981, -492: 94982, -491: 94983, -490: 94984, -489: 94985, -488: 94986, -487: 94987, -486: 94988, -485: 94989}\n"
     ]
    },
    {
     "name": "stderr",
     "output_type": "stream",
     "text": [
      " 13%|█▎        | 49/386 [04:17<29:47,  5.30s/it]"
     ]
    },
    {
     "name": "stdout",
     "output_type": "stream",
     "text": [
      "50\n",
      "2025-01-05 15:55:40,011 INFO Started executing jobs locally\n",
      "2025-01-05 15:55:40,021 INFO Starting job - Scf calculation (a4b233c8-245b-419e-9ae1-4a3ad48a6980)\n",
      "job is running... let's kill it...\n",
      "2025-01-05 15:55:45,529 INFO Added a workflow. id_map: {-506: 94990, -505: 94991, -504: 94992, -503: 94993, -502: 94994, -501: 94995, -500: 94996, -499: 94997, -498: 94998, -497: 94999, -496: 95000}\n"
     ]
    },
    {
     "name": "stderr",
     "output_type": "stream",
     "text": [
      " 13%|█▎        | 50/386 [04:22<30:18,  5.41s/it]"
     ]
    },
    {
     "name": "stdout",
     "output_type": "stream",
     "text": [
      "51\n",
      "2025-01-05 15:55:45,723 INFO Started executing jobs locally\n",
      "2025-01-05 15:55:45,734 INFO Starting job - Scf calculation (eef2fd9c-6d14-47b9-9b91-4ff5cfa18d7a)\n",
      "chksymbreak triggered\n"
     ]
    },
    {
     "name": "stderr",
     "output_type": "stream",
     "text": [
      " 13%|█▎        | 51/386 [04:23<22:11,  3.97s/it]"
     ]
    },
    {
     "name": "stdout",
     "output_type": "stream",
     "text": [
      "52\n",
      "2025-01-05 15:55:46,147 INFO Started executing jobs locally\n",
      "2025-01-05 15:55:46,158 INFO Starting job - Scf calculation (57415942-4ded-4e81-b148-f5e32bf6be87)\n",
      "job is running... let's kill it...\n",
      "2025-01-05 15:55:51,656 INFO Added a workflow. id_map: {-517: 95001, -516: 95002, -515: 95003, -514: 95004, -513: 95005, -512: 95006, -511: 95007, -510: 95008, -509: 95009, -508: 95010, -507: 95011}\n"
     ]
    },
    {
     "name": "stderr",
     "output_type": "stream",
     "text": [
      " 13%|█▎        | 52/386 [04:28<24:54,  4.47s/it]"
     ]
    },
    {
     "name": "stdout",
     "output_type": "stream",
     "text": [
      "53\n",
      "2025-01-05 15:55:51,824 INFO Started executing jobs locally\n",
      "2025-01-05 15:55:51,833 INFO Starting job - Scf calculation (ccae9074-08fd-4842-b728-5c77b790b50c)\n",
      "job is running... let's kill it...\n",
      "2025-01-05 15:55:57,378 INFO Added a workflow. id_map: {-528: 95012, -527: 95013, -526: 95014, -525: 95015, -524: 95016, -523: 95017, -522: 95018, -521: 95019, -520: 95020, -519: 95021, -518: 95022}\n"
     ]
    },
    {
     "name": "stderr",
     "output_type": "stream",
     "text": [
      " 14%|█▎        | 53/386 [04:34<26:52,  4.84s/it]"
     ]
    },
    {
     "name": "stdout",
     "output_type": "stream",
     "text": [
      "54\n",
      "2025-01-05 15:55:57,552 INFO Started executing jobs locally\n",
      "2025-01-05 15:55:57,561 INFO Starting job - Scf calculation (12cee614-f19d-4611-9ce8-07c16f0e21ad)\n",
      "chksymbreak triggered\n"
     ]
    },
    {
     "name": "stderr",
     "output_type": "stream",
     "text": [
      " 14%|█▍        | 54/386 [04:35<19:33,  3.53s/it]"
     ]
    },
    {
     "name": "stdout",
     "output_type": "stream",
     "text": [
      "55\n",
      "2025-01-05 15:55:57,986 INFO Started executing jobs locally\n",
      "2025-01-05 15:55:57,995 INFO Starting job - Scf calculation (103a46c5-4c4b-4c20-8121-db26666ac2fc)\n",
      "job is running... let's kill it...\n",
      "2025-01-05 15:56:03,489 INFO Added a workflow. id_map: {-539: 95023, -538: 95024, -537: 95025, -536: 95026, -535: 95027, -534: 95028, -533: 95029, -532: 95030, -531: 95031, -530: 95032, -529: 95033}\n"
     ]
    },
    {
     "name": "stderr",
     "output_type": "stream",
     "text": [
      " 14%|█▍        | 55/386 [04:40<23:01,  4.17s/it]"
     ]
    },
    {
     "name": "stdout",
     "output_type": "stream",
     "text": [
      "56\n",
      "2025-01-05 15:56:03,653 INFO Started executing jobs locally\n",
      "2025-01-05 15:56:03,663 INFO Starting job - Scf calculation (2b85a326-730d-42b2-8097-25241e98cbae)\n",
      "job is running... let's kill it...\n",
      "2025-01-05 15:56:09,171 INFO Added a workflow. id_map: {-550: 95034, -549: 95035, -548: 95036, -547: 95037, -546: 95038, -545: 95039, -544: 95040, -543: 95041, -542: 95042, -541: 95043, -540: 95044}\n"
     ]
    },
    {
     "name": "stderr",
     "output_type": "stream",
     "text": [
      " 15%|█▍        | 56/386 [04:46<25:25,  4.62s/it]"
     ]
    },
    {
     "name": "stdout",
     "output_type": "stream",
     "text": [
      "57\n",
      "2025-01-05 15:56:09,338 INFO Started executing jobs locally\n",
      "2025-01-05 15:56:09,346 INFO Starting job - Scf calculation (9be88cc3-1e12-4d88-907c-68207d51d9a5)\n",
      "job is running... let's kill it...\n",
      "2025-01-05 15:56:14,835 INFO Added a workflow. id_map: {-561: 95045, -560: 95046, -559: 95047, -558: 95048, -557: 95049, -556: 95050, -555: 95051, -554: 95052, -553: 95053, -552: 95054, -551: 95055}\n"
     ]
    },
    {
     "name": "stderr",
     "output_type": "stream",
     "text": [
      " 15%|█▍        | 57/386 [04:52<27:03,  4.93s/it]"
     ]
    },
    {
     "name": "stdout",
     "output_type": "stream",
     "text": [
      "58\n",
      "2025-01-05 15:56:14,997 INFO Started executing jobs locally\n",
      "2025-01-05 15:56:15,006 INFO Starting job - Scf calculation (777b34c7-2bc3-4735-8c06-87604a98fa42)\n",
      "job is running... let's kill it...\n",
      "2025-01-05 15:56:20,543 INFO Added a workflow. id_map: {-572: 95056, -571: 95057, -570: 95058, -569: 95059, -568: 95060, -567: 95061, -566: 95062, -565: 95063, -564: 95064, -563: 95065, -562: 95066}\n"
     ]
    },
    {
     "name": "stderr",
     "output_type": "stream",
     "text": [
      " 15%|█▌        | 58/386 [04:57<28:15,  5.17s/it]"
     ]
    },
    {
     "name": "stdout",
     "output_type": "stream",
     "text": [
      "59\n",
      "2025-01-05 15:56:20,715 INFO Started executing jobs locally\n",
      "2025-01-05 15:56:20,724 INFO Starting job - Scf calculation (9a89261f-6ed0-4050-9234-2e9921d58171)\n",
      "job is running... let's kill it...\n",
      "2025-01-05 15:56:26,245 INFO Added a workflow. id_map: {-583: 95067, -582: 95068, -581: 95069, -580: 95070, -579: 95071, -578: 95072, -577: 95073, -576: 95074, -575: 95075, -574: 95076, -573: 95077}\n"
     ]
    },
    {
     "name": "stderr",
     "output_type": "stream",
     "text": [
      " 15%|█▌        | 59/386 [05:03<29:02,  5.33s/it]"
     ]
    },
    {
     "name": "stdout",
     "output_type": "stream",
     "text": [
      "60\n",
      "2025-01-05 15:56:26,421 INFO Started executing jobs locally\n",
      "2025-01-05 15:56:26,430 INFO Starting job - Scf calculation (45089eeb-5800-4155-bed7-d215f6e3d292)\n",
      "job is running... let's kill it...\n",
      "2025-01-05 15:56:31,928 INFO Added a workflow. id_map: {-594: 95078, -593: 95079, -592: 95080, -591: 95081, -590: 95082, -589: 95083, -588: 95084, -587: 95085, -586: 95086, -585: 95087, -584: 95088}\n"
     ]
    },
    {
     "name": "stderr",
     "output_type": "stream",
     "text": [
      " 16%|█▌        | 60/386 [05:09<29:31,  5.43s/it]"
     ]
    },
    {
     "name": "stdout",
     "output_type": "stream",
     "text": [
      "61\n",
      "2025-01-05 15:56:32,101 INFO Started executing jobs locally\n",
      "2025-01-05 15:56:32,112 INFO Starting job - Scf calculation (f52f06d6-4551-4dee-8c19-3f6ae4095e05)\n",
      "job is running... let's kill it...\n",
      "2025-01-05 15:56:37,661 INFO Added a workflow. id_map: {-605: 95089, -604: 95090, -603: 95091, -602: 95092, -601: 95093, -600: 95094, -599: 95095, -598: 95096, -597: 95097, -596: 95098, -595: 95099}\n"
     ]
    },
    {
     "name": "stderr",
     "output_type": "stream",
     "text": [
      " 16%|█▌        | 61/386 [05:14<29:55,  5.52s/it]"
     ]
    },
    {
     "name": "stdout",
     "output_type": "stream",
     "text": [
      "62\n",
      "2025-01-05 15:56:37,834 INFO Started executing jobs locally\n",
      "2025-01-05 15:56:37,845 INFO Starting job - Scf calculation (f5f07130-f66b-4fd1-baaf-530a460e8b9f)\n",
      "job is running... let's kill it...\n",
      "2025-01-05 15:56:43,366 INFO Added a workflow. id_map: {-616: 95100, -615: 95101, -614: 95102, -613: 95103, -612: 95104, -611: 95105, -610: 95106, -609: 95107, -608: 95108, -607: 95109, -606: 95110}\n"
     ]
    },
    {
     "name": "stderr",
     "output_type": "stream",
     "text": [
      " 16%|█▌        | 62/386 [05:20<30:06,  5.58s/it]"
     ]
    },
    {
     "name": "stdout",
     "output_type": "stream",
     "text": [
      "63\n",
      "2025-01-05 15:56:43,530 INFO Started executing jobs locally\n",
      "2025-01-05 15:56:43,539 INFO Starting job - Scf calculation (45bf1fa6-8d90-4918-a848-0f53a385b4c8)\n",
      "job is running... let's kill it...\n",
      "2025-01-05 15:56:49,052 INFO Added a workflow. id_map: {-627: 95111, -626: 95112, -625: 95113, -624: 95114, -623: 95115, -622: 95116, -621: 95117, -620: 95118, -619: 95119, -618: 95120, -617: 95121}\n"
     ]
    },
    {
     "name": "stderr",
     "output_type": "stream",
     "text": [
      " 16%|█▋        | 63/386 [05:26<30:11,  5.61s/it]"
     ]
    },
    {
     "name": "stdout",
     "output_type": "stream",
     "text": [
      "64\n",
      "2025-01-05 15:56:49,241 INFO Started executing jobs locally\n",
      "2025-01-05 15:56:49,252 INFO Starting job - Scf calculation (8c1c9bec-dbaa-4544-a97b-340253e09292)\n",
      "job is running... let's kill it...\n",
      "2025-01-05 15:56:54,754 INFO Added a workflow. id_map: {-638: 95122, -637: 95123, -636: 95124, -635: 95125, -634: 95126, -633: 95127, -632: 95128, -631: 95129, -630: 95130, -629: 95131, -628: 95132}\n"
     ]
    },
    {
     "name": "stderr",
     "output_type": "stream",
     "text": [
      " 17%|█▋        | 64/386 [05:31<30:14,  5.64s/it]"
     ]
    },
    {
     "name": "stdout",
     "output_type": "stream",
     "text": [
      "65\n",
      "2025-01-05 15:56:54,915 INFO Started executing jobs locally\n",
      "2025-01-05 15:56:54,923 INFO Starting job - Scf calculation (bf452a51-f62f-476c-9496-459b8fbae2bc)\n",
      "job is running... let's kill it...\n",
      "2025-01-05 15:57:00,415 INFO Added a workflow. id_map: {-649: 95133, -648: 95134, -647: 95135, -646: 95136, -645: 95137, -644: 95138, -643: 95139, -642: 95140, -641: 95141, -640: 95142, -639: 95143}\n"
     ]
    },
    {
     "name": "stderr",
     "output_type": "stream",
     "text": [
      " 17%|█▋        | 65/386 [05:37<30:12,  5.65s/it]"
     ]
    },
    {
     "name": "stdout",
     "output_type": "stream",
     "text": [
      "66\n",
      "2025-01-05 15:57:00,582 INFO Started executing jobs locally\n",
      "2025-01-05 15:57:00,591 INFO Starting job - Scf calculation (1a5736e8-1c03-4098-9405-90648ff71d0b)\n",
      "job is running... let's kill it...\n",
      "2025-01-05 15:57:06,091 INFO Added a workflow. id_map: {-660: 95144, -659: 95145, -658: 95146, -657: 95147, -656: 95148, -655: 95149, -654: 95150, -653: 95151, -652: 95152, -651: 95153, -650: 95154}\n"
     ]
    },
    {
     "name": "stderr",
     "output_type": "stream",
     "text": [
      " 17%|█▋        | 66/386 [05:43<30:09,  5.65s/it]"
     ]
    },
    {
     "name": "stdout",
     "output_type": "stream",
     "text": [
      "67\n",
      "2025-01-05 15:57:06,272 INFO Started executing jobs locally\n",
      "2025-01-05 15:57:06,283 INFO Starting job - Scf calculation (821d6285-1c2f-48dd-ac32-f7732a06cb0f)\n",
      "job is running... let's kill it...\n",
      "2025-01-05 15:57:11,786 INFO Added a workflow. id_map: {-671: 95155, -670: 95156, -669: 95157, -668: 95158, -667: 95159, -666: 95160, -665: 95161, -664: 95162, -663: 95163, -662: 95164, -661: 95165}\n"
     ]
    },
    {
     "name": "stderr",
     "output_type": "stream",
     "text": [
      " 17%|█▋        | 67/386 [05:49<30:08,  5.67s/it]"
     ]
    },
    {
     "name": "stdout",
     "output_type": "stream",
     "text": [
      "68\n",
      "2025-01-05 15:57:11,974 INFO Started executing jobs locally\n",
      "2025-01-05 15:57:11,985 INFO Starting job - Scf calculation (78a3bb24-4090-43e0-b81b-8162e8fdb42f)\n",
      "job is running... let's kill it...\n",
      "2025-01-05 15:57:17,527 INFO Added a workflow. id_map: {-682: 95166, -681: 95167, -680: 95168, -679: 95169, -678: 95170, -677: 95171, -676: 95172, -675: 95173, -674: 95174, -673: 95175, -672: 95176}\n"
     ]
    },
    {
     "name": "stderr",
     "output_type": "stream",
     "text": [
      " 18%|█▊        | 68/386 [05:54<30:09,  5.69s/it]"
     ]
    },
    {
     "name": "stdout",
     "output_type": "stream",
     "text": [
      "69\n",
      "2025-01-05 15:57:17,706 INFO Started executing jobs locally\n",
      "2025-01-05 15:57:17,715 INFO Starting job - Scf calculation (b1810b91-637d-4f9d-982d-b2d69722ab37)\n",
      "job is running... let's kill it...\n",
      "2025-01-05 15:57:23,255 INFO Added a workflow. id_map: {-693: 95177, -692: 95178, -691: 95179, -690: 95180, -689: 95181, -688: 95182, -687: 95183, -686: 95184, -685: 95185, -684: 95186, -683: 95187}\n"
     ]
    },
    {
     "name": "stderr",
     "output_type": "stream",
     "text": [
      " 18%|█▊        | 69/386 [06:00<30:07,  5.70s/it]"
     ]
    },
    {
     "name": "stdout",
     "output_type": "stream",
     "text": [
      "70\n",
      "2025-01-05 15:57:23,435 INFO Started executing jobs locally\n",
      "2025-01-05 15:57:23,443 INFO Starting job - Scf calculation (7c4e93c1-29e1-45f9-8d64-7b2dc7cd6c20)\n",
      "job is running... let's kill it...\n",
      "2025-01-05 15:57:28,946 INFO Added a workflow. id_map: {-704: 95188, -703: 95189, -702: 95190, -701: 95191, -700: 95192, -699: 95193, -698: 95194, -697: 95195, -696: 95196, -695: 95197, -694: 95198}\n"
     ]
    },
    {
     "name": "stderr",
     "output_type": "stream",
     "text": [
      " 18%|█▊        | 70/386 [06:06<29:59,  5.69s/it]"
     ]
    },
    {
     "name": "stdout",
     "output_type": "stream",
     "text": [
      "71\n",
      "2025-01-05 15:57:29,107 INFO Started executing jobs locally\n",
      "2025-01-05 15:57:29,119 INFO Starting job - Scf calculation (a21a9103-703d-4a9d-b0a3-8432b4b00903)\n",
      "job is running... let's kill it...\n",
      "2025-01-05 15:57:34,620 INFO Added a workflow. id_map: {-715: 95199, -714: 95200, -713: 95201, -712: 95202, -711: 95203, -710: 95204, -709: 95205, -708: 95206, -707: 95207, -706: 95208, -705: 95209}\n"
     ]
    },
    {
     "name": "stderr",
     "output_type": "stream",
     "text": [
      " 18%|█▊        | 71/386 [06:11<29:51,  5.69s/it]"
     ]
    },
    {
     "name": "stdout",
     "output_type": "stream",
     "text": [
      "72\n",
      "2025-01-05 15:57:34,796 INFO Started executing jobs locally\n",
      "2025-01-05 15:57:34,808 INFO Starting job - Scf calculation (6d1e3960-fb4f-4402-a5cb-8b838821fff8)\n",
      "job is running... let's kill it...\n",
      "2025-01-05 15:57:40,297 INFO Added a workflow. id_map: {-726: 95210, -725: 95211, -724: 95212, -723: 95213, -722: 95214, -721: 95215, -720: 95216, -719: 95217, -718: 95218, -717: 95219, -716: 95220}\n"
     ]
    },
    {
     "name": "stderr",
     "output_type": "stream",
     "text": [
      " 19%|█▊        | 72/386 [06:17<29:46,  5.69s/it]"
     ]
    },
    {
     "name": "stdout",
     "output_type": "stream",
     "text": [
      "73\n",
      "2025-01-05 15:57:40,481 INFO Started executing jobs locally\n",
      "2025-01-05 15:57:40,493 INFO Starting job - Scf calculation (b6f17ad0-cccb-4d25-9bb1-77e0e4f0a528)\n",
      "job is running... let's kill it...\n",
      "2025-01-05 15:57:46,000 INFO Added a workflow. id_map: {-737: 95221, -736: 95222, -735: 95223, -734: 95224, -733: 95225, -732: 95226, -731: 95227, -730: 95228, -729: 95229, -728: 95230, -727: 95231}\n"
     ]
    },
    {
     "name": "stderr",
     "output_type": "stream",
     "text": [
      " 19%|█▉        | 73/386 [06:23<29:40,  5.69s/it]"
     ]
    },
    {
     "name": "stdout",
     "output_type": "stream",
     "text": [
      "74\n",
      "2025-01-05 15:57:46,170 INFO Started executing jobs locally\n",
      "2025-01-05 15:57:46,184 INFO Starting job - Scf calculation (4b824566-80f3-4c5d-b7c5-5ef4e6bf0ac1)\n",
      "job is running... let's kill it...\n",
      "2025-01-05 15:57:51,680 INFO Added a workflow. id_map: {-748: 95232, -747: 95233, -746: 95234, -745: 95235, -744: 95236, -743: 95237, -742: 95238, -741: 95239, -740: 95240, -739: 95241, -738: 95242}\n"
     ]
    },
    {
     "name": "stderr",
     "output_type": "stream",
     "text": [
      " 19%|█▉        | 74/386 [06:28<29:35,  5.69s/it]"
     ]
    },
    {
     "name": "stdout",
     "output_type": "stream",
     "text": [
      "75\n",
      "2025-01-05 15:57:51,863 INFO Started executing jobs locally\n",
      "2025-01-05 15:57:51,875 INFO Starting job - Scf calculation (588b6325-3c29-41b7-80b3-891a289f8359)\n",
      "job is running... let's kill it...\n",
      "2025-01-05 15:57:57,373 INFO Added a workflow. id_map: {-759: 95243, -758: 95244, -757: 95245, -756: 95246, -755: 95247, -754: 95248, -753: 95249, -752: 95250, -751: 95251, -750: 95252, -749: 95253}\n"
     ]
    },
    {
     "name": "stderr",
     "output_type": "stream",
     "text": [
      " 19%|█▉        | 75/386 [06:34<29:29,  5.69s/it]"
     ]
    },
    {
     "name": "stdout",
     "output_type": "stream",
     "text": [
      "76\n",
      "2025-01-05 15:57:57,552 INFO Started executing jobs locally\n",
      "2025-01-05 15:57:57,564 INFO Starting job - Scf calculation (b975878a-54f5-47e9-8f45-c58e08cef803)\n",
      "job is running... let's kill it...\n",
      "2025-01-05 15:58:03,099 INFO Added a workflow. id_map: {-770: 95254, -769: 95255, -768: 95256, -767: 95257, -766: 95258, -765: 95259, -764: 95260, -763: 95261, -762: 95262, -761: 95263, -760: 95264}\n"
     ]
    },
    {
     "name": "stderr",
     "output_type": "stream",
     "text": [
      " 20%|█▉        | 76/386 [06:40<29:27,  5.70s/it]"
     ]
    },
    {
     "name": "stdout",
     "output_type": "stream",
     "text": [
      "77\n",
      "2025-01-05 15:58:03,282 INFO Started executing jobs locally\n",
      "2025-01-05 15:58:03,293 INFO Starting job - Scf calculation (7d9b29e5-d1b2-4f47-beff-7167a3c0a3fa)\n",
      "job is running... let's kill it...\n",
      "2025-01-05 15:58:08,815 INFO Added a workflow. id_map: {-781: 95265, -780: 95266, -779: 95267, -778: 95268, -777: 95269, -776: 95270, -775: 95271, -774: 95272, -773: 95273, -772: 95274, -771: 95275}\n"
     ]
    },
    {
     "name": "stderr",
     "output_type": "stream",
     "text": [
      " 20%|█▉        | 77/386 [06:46<29:21,  5.70s/it]"
     ]
    },
    {
     "name": "stdout",
     "output_type": "stream",
     "text": [
      "78\n",
      "2025-01-05 15:58:08,978 INFO Started executing jobs locally\n",
      "2025-01-05 15:58:08,988 INFO Starting job - Scf calculation (2ab0447e-ab46-4769-9c6e-f2af23ea0b68)\n",
      "job is running... let's kill it...\n",
      "2025-01-05 15:58:14,534 INFO Added a workflow. id_map: {-792: 95276, -791: 95277, -790: 95278, -789: 95279, -788: 95280, -787: 95281, -786: 95282, -785: 95283, -784: 95284, -783: 95285, -782: 95286}\n"
     ]
    },
    {
     "name": "stderr",
     "output_type": "stream",
     "text": [
      " 20%|██        | 78/386 [06:51<29:18,  5.71s/it]"
     ]
    },
    {
     "name": "stdout",
     "output_type": "stream",
     "text": [
      "79\n",
      "2025-01-05 15:58:14,712 INFO Started executing jobs locally\n",
      "2025-01-05 15:58:14,724 INFO Starting job - Scf calculation (53df1f6d-d5ad-4d06-b394-517426d5ae0b)\n",
      "job is running... let's kill it...\n",
      "2025-01-05 15:58:20,230 INFO Added a workflow. id_map: {-803: 95287, -802: 95288, -801: 95289, -800: 95290, -799: 95291, -798: 95292, -797: 95293, -796: 95294, -795: 95295, -794: 95296, -793: 95297}\n"
     ]
    },
    {
     "name": "stderr",
     "output_type": "stream",
     "text": [
      " 20%|██        | 79/386 [06:57<29:11,  5.71s/it]"
     ]
    },
    {
     "name": "stdout",
     "output_type": "stream",
     "text": [
      "80\n",
      "2025-01-05 15:58:20,406 INFO Started executing jobs locally\n",
      "2025-01-05 15:58:20,418 INFO Starting job - Scf calculation (f6f855ea-aa40-4a8a-9f0a-d84e14940b66)\n",
      "job is running... let's kill it...\n",
      "2025-01-05 15:58:25,913 INFO Added a workflow. id_map: {-814: 95298, -813: 95299, -812: 95300, -811: 95301, -810: 95302, -809: 95303, -808: 95304, -807: 95305, -806: 95306, -805: 95307, -804: 95308}\n"
     ]
    },
    {
     "name": "stderr",
     "output_type": "stream",
     "text": [
      " 21%|██        | 80/386 [07:03<29:03,  5.70s/it]"
     ]
    },
    {
     "name": "stdout",
     "output_type": "stream",
     "text": [
      "81\n",
      "2025-01-05 15:58:26,074 INFO Started executing jobs locally\n",
      "2025-01-05 15:58:26,082 INFO Starting job - Scf calculation (cbe3fe16-2785-4d26-9976-8da2faa6884a)\n",
      "job is running... let's kill it...\n",
      "2025-01-05 15:58:31,581 INFO Added a workflow. id_map: {-825: 95309, -824: 95310, -823: 95311, -822: 95312, -821: 95313, -820: 95314, -819: 95315, -818: 95316, -817: 95317, -816: 95318, -815: 95319}\n"
     ]
    },
    {
     "name": "stderr",
     "output_type": "stream",
     "text": [
      " 21%|██        | 81/386 [07:08<28:54,  5.69s/it]"
     ]
    },
    {
     "name": "stdout",
     "output_type": "stream",
     "text": [
      "82\n",
      "2025-01-05 15:58:31,752 INFO Started executing jobs locally\n",
      "2025-01-05 15:58:31,761 INFO Starting job - Scf calculation (95819424-86bf-454d-9f9e-45c727fcd76c)\n",
      "job is running... let's kill it...\n",
      "2025-01-05 15:58:37,253 INFO Added a workflow. id_map: {-836: 95320, -835: 95321, -834: 95322, -833: 95323, -832: 95324, -831: 95325, -830: 95326, -829: 95327, -828: 95328, -827: 95329, -826: 95330}\n"
     ]
    },
    {
     "name": "stderr",
     "output_type": "stream",
     "text": [
      " 21%|██        | 82/386 [07:14<28:49,  5.69s/it]"
     ]
    },
    {
     "name": "stdout",
     "output_type": "stream",
     "text": [
      "83\n",
      "2025-01-05 15:58:37,429 INFO Started executing jobs locally\n",
      "2025-01-05 15:58:37,437 INFO Starting job - Scf calculation (867799db-8749-45a9-93fe-c8a86266e944)\n",
      "job is running... let's kill it...\n",
      "2025-01-05 15:58:42,968 INFO Added a workflow. id_map: {-847: 95331, -846: 95332, -845: 95333, -844: 95334, -843: 95335, -842: 95336, -841: 95337, -840: 95338, -839: 95339, -838: 95340, -837: 95341}\n"
     ]
    },
    {
     "name": "stderr",
     "output_type": "stream",
     "text": [
      " 22%|██▏       | 83/386 [07:20<28:45,  5.69s/it]"
     ]
    },
    {
     "name": "stdout",
     "output_type": "stream",
     "text": [
      "84\n",
      "2025-01-05 15:58:43,136 INFO Started executing jobs locally\n",
      "2025-01-05 15:58:43,145 INFO Starting job - Scf calculation (2e69e95e-7ed0-40e6-bec4-d1c59ae6afdc)\n",
      "job is running... let's kill it...\n",
      "2025-01-05 15:58:48,721 INFO Added a workflow. id_map: {-858: 95342, -857: 95343, -856: 95344, -855: 95345, -854: 95346, -853: 95347, -852: 95348, -851: 95349, -850: 95350, -849: 95351, -848: 95352}\n"
     ]
    },
    {
     "name": "stderr",
     "output_type": "stream",
     "text": [
      " 22%|██▏       | 84/386 [07:25<28:46,  5.72s/it]"
     ]
    },
    {
     "name": "stdout",
     "output_type": "stream",
     "text": [
      "85\n",
      "2025-01-05 15:58:48,906 INFO Started executing jobs locally\n",
      "2025-01-05 15:58:48,918 INFO Starting job - Scf calculation (df2c76da-feba-4b2c-832f-0a7a7430fa3b)\n",
      "job is running... let's kill it...\n",
      "2025-01-05 15:58:54,402 INFO Added a workflow. id_map: {-869: 95353, -868: 95354, -867: 95355, -866: 95356, -865: 95357, -864: 95358, -863: 95359, -862: 95360, -861: 95361, -860: 95362, -859: 95363}\n"
     ]
    },
    {
     "name": "stderr",
     "output_type": "stream",
     "text": [
      " 22%|██▏       | 85/386 [07:31<28:36,  5.70s/it]"
     ]
    },
    {
     "name": "stdout",
     "output_type": "stream",
     "text": [
      "86\n",
      "2025-01-05 15:58:54,577 INFO Started executing jobs locally\n",
      "2025-01-05 15:58:54,585 INFO Starting job - Scf calculation (b34617ee-4ebe-4174-9686-62af76e8f7ee)\n",
      "job is running... let's kill it...\n",
      "2025-01-05 15:59:00,079 INFO Added a workflow. id_map: {-880: 95364, -879: 95365, -878: 95366, -877: 95367, -876: 95368, -875: 95369, -874: 95370, -873: 95371, -872: 95372, -871: 95373, -870: 95374}\n"
     ]
    },
    {
     "name": "stderr",
     "output_type": "stream",
     "text": [
      " 22%|██▏       | 86/386 [07:37<28:27,  5.69s/it]"
     ]
    },
    {
     "name": "stdout",
     "output_type": "stream",
     "text": [
      "87\n",
      "2025-01-05 15:59:00,249 INFO Started executing jobs locally\n",
      "2025-01-05 15:59:00,263 INFO Starting job - Scf calculation (06b966e4-d706-4302-9d17-7fdf09a5e1fe)\n",
      "job is running... let's kill it...\n",
      "2025-01-05 15:59:05,759 INFO Added a workflow. id_map: {-891: 95375, -890: 95376, -889: 95377, -888: 95378, -887: 95379, -886: 95380, -885: 95381, -884: 95382, -883: 95383, -882: 95384, -881: 95385}\n"
     ]
    },
    {
     "name": "stderr",
     "output_type": "stream",
     "text": [
      " 23%|██▎       | 87/386 [07:42<28:20,  5.69s/it]"
     ]
    },
    {
     "name": "stdout",
     "output_type": "stream",
     "text": [
      "88\n",
      "2025-01-05 15:59:05,918 INFO Started executing jobs locally\n",
      "2025-01-05 15:59:05,927 INFO Starting job - Scf calculation (29e18844-9aa3-485e-8bdf-3d2920528ce8)\n",
      "job is running... let's kill it...\n",
      "2025-01-05 15:59:11,420 INFO Added a workflow. id_map: {-902: 95386, -901: 95387, -900: 95388, -899: 95389, -898: 95390, -897: 95391, -896: 95392, -895: 95393, -894: 95394, -893: 95395, -892: 95396}\n"
     ]
    },
    {
     "name": "stderr",
     "output_type": "stream",
     "text": [
      " 23%|██▎       | 88/386 [07:48<28:12,  5.68s/it]"
     ]
    },
    {
     "name": "stdout",
     "output_type": "stream",
     "text": [
      "89\n",
      "2025-01-05 15:59:11,581 INFO Started executing jobs locally\n",
      "2025-01-05 15:59:11,592 INFO Starting job - Scf calculation (87f5ea29-ea2a-4d7b-9a3d-4e1c5b8e2c08)\n",
      "job is running... let's kill it...\n",
      "2025-01-05 15:59:17,075 INFO Added a workflow. id_map: {-913: 95397, -912: 95398, -911: 95399, -910: 95400, -909: 95401, -908: 95402, -907: 95403, -906: 95404, -905: 95405, -904: 95406, -903: 95407}\n"
     ]
    },
    {
     "name": "stderr",
     "output_type": "stream",
     "text": [
      " 23%|██▎       | 89/386 [07:54<28:05,  5.68s/it]"
     ]
    },
    {
     "name": "stdout",
     "output_type": "stream",
     "text": [
      "90\n",
      "2025-01-05 15:59:17,251 INFO Started executing jobs locally\n",
      "2025-01-05 15:59:17,260 INFO Starting job - Scf calculation (8573d350-10b6-4a08-99f6-8b4e2f2c8299)\n",
      "job is running... let's kill it...\n",
      "2025-01-05 15:59:22,756 INFO Added a workflow. id_map: {-924: 95408, -923: 95409, -922: 95410, -921: 95411, -920: 95412, -919: 95413, -918: 95414, -917: 95415, -916: 95416, -915: 95417, -914: 95418}\n"
     ]
    },
    {
     "name": "stderr",
     "output_type": "stream",
     "text": [
      " 23%|██▎       | 90/386 [08:00<28:02,  5.68s/it]"
     ]
    },
    {
     "name": "stdout",
     "output_type": "stream",
     "text": [
      "91\n",
      "2025-01-05 15:59:22,948 INFO Started executing jobs locally\n",
      "2025-01-05 15:59:22,957 INFO Starting job - Scf calculation (15ed614d-1362-4e27-9c90-e0362702aa35)\n",
      "job is running... let's kill it...\n",
      "2025-01-05 15:59:28,485 INFO Added a workflow. id_map: {-935: 95419, -934: 95420, -933: 95421, -932: 95422, -931: 95423, -930: 95424, -929: 95425, -928: 95426, -927: 95427, -926: 95428, -925: 95429}\n"
     ]
    },
    {
     "name": "stderr",
     "output_type": "stream",
     "text": [
      " 24%|██▎       | 91/386 [08:05<27:59,  5.69s/it]"
     ]
    },
    {
     "name": "stdout",
     "output_type": "stream",
     "text": [
      "92\n",
      "2025-01-05 15:59:28,664 INFO Started executing jobs locally\n",
      "2025-01-05 15:59:28,676 INFO Starting job - Scf calculation (ae09a5ff-0b25-4ce9-94b6-df59140f22eb)\n",
      "job is running... let's kill it...\n",
      "2025-01-05 15:59:34,184 INFO Added a workflow. id_map: {-946: 95430, -945: 95431, -944: 95432, -943: 95433, -942: 95434, -941: 95435, -940: 95436, -939: 95437, -938: 95438, -937: 95439, -936: 95440}\n"
     ]
    },
    {
     "name": "stderr",
     "output_type": "stream",
     "text": [
      " 24%|██▍       | 92/386 [08:11<27:52,  5.69s/it]"
     ]
    },
    {
     "name": "stdout",
     "output_type": "stream",
     "text": [
      "93\n",
      "2025-01-05 15:59:34,341 INFO Started executing jobs locally\n",
      "2025-01-05 15:59:34,349 INFO Starting job - Scf calculation (2916930f-d6ff-463d-955f-649f58269e9e)\n",
      "job is running... let's kill it...\n",
      "2025-01-05 15:59:39,849 INFO Added a workflow. id_map: {-957: 95441, -956: 95442, -955: 95443, -954: 95444, -953: 95445, -952: 95446, -951: 95447, -950: 95448, -949: 95449, -948: 95450, -947: 95451}\n"
     ]
    },
    {
     "name": "stderr",
     "output_type": "stream",
     "text": [
      " 24%|██▍       | 93/386 [08:17<27:44,  5.68s/it]"
     ]
    },
    {
     "name": "stdout",
     "output_type": "stream",
     "text": [
      "94\n",
      "2025-01-05 15:59:40,016 INFO Started executing jobs locally\n",
      "2025-01-05 15:59:40,026 INFO Starting job - Scf calculation (fe06c4c4-7a94-4c1a-bc9b-bdd72e83df25)\n",
      "job is running... let's kill it...\n",
      "2025-01-05 15:59:45,508 INFO Added a workflow. id_map: {-968: 95452, -967: 95453, -966: 95454, -965: 95455, -964: 95456, -963: 95457, -962: 95458, -961: 95459, -960: 95460, -959: 95461, -958: 95462}\n"
     ]
    },
    {
     "name": "stderr",
     "output_type": "stream",
     "text": [
      " 24%|██▍       | 94/386 [08:22<27:38,  5.68s/it]"
     ]
    },
    {
     "name": "stdout",
     "output_type": "stream",
     "text": [
      "95\n",
      "2025-01-05 15:59:45,682 INFO Started executing jobs locally\n",
      "2025-01-05 15:59:45,691 INFO Starting job - Scf calculation (189b515c-2cb0-4226-9152-14e711999054)\n",
      "job is running... let's kill it...\n",
      "2025-01-05 15:59:51,183 INFO Added a workflow. id_map: {-979: 95463, -978: 95464, -977: 95465, -976: 95466, -975: 95467, -974: 95468, -973: 95469, -972: 95470, -971: 95471, -970: 95472, -969: 95473}\n"
     ]
    },
    {
     "name": "stderr",
     "output_type": "stream",
     "text": [
      " 25%|██▍       | 95/386 [08:28<27:32,  5.68s/it]"
     ]
    },
    {
     "name": "stdout",
     "output_type": "stream",
     "text": [
      "96\n",
      "2025-01-05 15:59:51,353 INFO Started executing jobs locally\n",
      "2025-01-05 15:59:51,361 INFO Starting job - Scf calculation (23e35ecb-cf62-44a2-9c2b-d8f924471ec5)\n",
      "job is running... let's kill it...\n",
      "2025-01-05 15:59:56,856 INFO Added a workflow. id_map: {-990: 95474, -989: 95475, -988: 95476, -987: 95477, -986: 95478, -985: 95479, -984: 95480, -983: 95481, -982: 95482, -981: 95483, -980: 95484}\n"
     ]
    },
    {
     "name": "stderr",
     "output_type": "stream",
     "text": [
      " 25%|██▍       | 96/386 [08:34<27:26,  5.68s/it]"
     ]
    },
    {
     "name": "stdout",
     "output_type": "stream",
     "text": [
      "97\n",
      "2025-01-05 15:59:57,027 INFO Started executing jobs locally\n",
      "2025-01-05 15:59:57,037 INFO Starting job - Scf calculation (079b3dbb-a548-4d95-bb76-55c346c1f538)\n",
      "job is running... let's kill it...\n",
      "2025-01-05 16:00:02,542 INFO Added a workflow. id_map: {-1001: 95485, -1000: 95486, -999: 95487, -998: 95488, -997: 95489, -996: 95490, -995: 95491, -994: 95492, -993: 95493, -992: 95494, -991: 95495}\n"
     ]
    },
    {
     "name": "stderr",
     "output_type": "stream",
     "text": [
      " 25%|██▌       | 97/386 [08:39<27:21,  5.68s/it]"
     ]
    },
    {
     "name": "stdout",
     "output_type": "stream",
     "text": [
      "98\n",
      "2025-01-05 16:00:02,720 INFO Started executing jobs locally\n",
      "2025-01-05 16:00:02,732 INFO Starting job - Scf calculation (11858cd5-9e34-49fa-9261-7dddd9714ace)\n",
      "job is running... let's kill it...\n",
      "2025-01-05 16:00:08,231 INFO Added a workflow. id_map: {-1012: 95496, -1011: 95497, -1010: 95498, -1009: 95499, -1008: 95500, -1007: 95501, -1006: 95502, -1005: 95503, -1004: 95504, -1003: 95505, -1002: 95506}\n"
     ]
    },
    {
     "name": "stderr",
     "output_type": "stream",
     "text": [
      " 25%|██▌       | 98/386 [08:45<27:16,  5.68s/it]"
     ]
    },
    {
     "name": "stdout",
     "output_type": "stream",
     "text": [
      "99\n",
      "2025-01-05 16:00:08,459 INFO Started executing jobs locally\n",
      "2025-01-05 16:00:08,470 INFO Starting job - Scf calculation (78a5c062-3230-42c8-a608-059c8326d26d)\n",
      "job is running... let's kill it...\n",
      "2025-01-05 16:00:13,995 INFO Added a workflow. id_map: {-1023: 95507, -1022: 95508, -1021: 95509, -1020: 95510, -1019: 95511, -1018: 95512, -1017: 95513, -1016: 95514, -1015: 95515, -1014: 95516, -1013: 95517}\n"
     ]
    },
    {
     "name": "stderr",
     "output_type": "stream",
     "text": [
      " 26%|██▌       | 99/386 [08:51<27:17,  5.71s/it]"
     ]
    },
    {
     "name": "stdout",
     "output_type": "stream",
     "text": [
      "100\n",
      "2025-01-05 16:00:14,167 INFO Started executing jobs locally\n",
      "2025-01-05 16:00:14,177 INFO Starting job - Scf calculation (9ddcfd88-7bf1-4520-96d7-5b5bbc6bf33d)\n",
      "job is running... let's kill it...\n",
      "2025-01-05 16:00:19,671 INFO Added a workflow. id_map: {-1034: 95518, -1033: 95519, -1032: 95520, -1031: 95521, -1030: 95522, -1029: 95523, -1028: 95524, -1027: 95525, -1026: 95526, -1025: 95527, -1024: 95528}\n"
     ]
    },
    {
     "name": "stderr",
     "output_type": "stream",
     "text": [
      " 26%|██▌       | 100/386 [08:56<27:09,  5.70s/it]"
     ]
    },
    {
     "name": "stdout",
     "output_type": "stream",
     "text": [
      "101\n",
      "2025-01-05 16:00:19,868 INFO Started executing jobs locally\n",
      "2025-01-05 16:00:19,879 INFO Starting job - Scf calculation (de5f6ffe-b200-42c5-b334-eea6a4fbf6c3)\n",
      "job is running... let's kill it...\n",
      "2025-01-05 16:00:25,381 INFO Added a workflow. id_map: {-1045: 95529, -1044: 95530, -1043: 95531, -1042: 95532, -1041: 95533, -1040: 95534, -1039: 95535, -1038: 95536, -1037: 95537, -1036: 95538, -1035: 95539}\n"
     ]
    },
    {
     "name": "stderr",
     "output_type": "stream",
     "text": [
      " 26%|██▌       | 101/386 [09:02<27:03,  5.70s/it]"
     ]
    },
    {
     "name": "stdout",
     "output_type": "stream",
     "text": [
      "102\n",
      "2025-01-05 16:00:25,550 INFO Started executing jobs locally\n",
      "2025-01-05 16:00:25,559 INFO Starting job - Scf calculation (8f26209b-75af-4e4a-a576-65296fa3a16e)\n",
      "job is running... let's kill it...\n",
      "2025-01-05 16:00:31,055 INFO Added a workflow. id_map: {-1056: 95540, -1055: 95541, -1054: 95542, -1053: 95543, -1052: 95544, -1051: 95545, -1050: 95546, -1049: 95547, -1048: 95548, -1047: 95549, -1046: 95550}\n"
     ]
    },
    {
     "name": "stderr",
     "output_type": "stream",
     "text": [
      " 26%|██▋       | 102/386 [09:08<26:57,  5.69s/it]"
     ]
    },
    {
     "name": "stdout",
     "output_type": "stream",
     "text": [
      "103\n",
      "2025-01-05 16:00:31,264 INFO Started executing jobs locally\n",
      "2025-01-05 16:00:31,283 INFO Starting job - Scf calculation (b8280b6c-8e6a-4697-888e-c3285286b7b8)\n",
      "job is running... let's kill it...\n",
      "2025-01-05 16:00:36,775 INFO Added a workflow. id_map: {-1067: 95551, -1066: 95552, -1065: 95553, -1064: 95554, -1063: 95555, -1062: 95556, -1061: 95557, -1060: 95558, -1059: 95559, -1058: 95560, -1057: 95561}\n"
     ]
    },
    {
     "name": "stderr",
     "output_type": "stream",
     "text": [
      " 27%|██▋       | 103/386 [09:14<26:53,  5.70s/it]"
     ]
    },
    {
     "name": "stdout",
     "output_type": "stream",
     "text": [
      "104\n",
      "2025-01-05 16:00:36,961 INFO Started executing jobs locally\n",
      "2025-01-05 16:00:36,974 INFO Starting job - Scf calculation (abe9443d-4127-4686-99b2-c7d0bb8bf821)\n",
      "job is running... let's kill it...\n",
      "2025-01-05 16:00:42,465 INFO Added a workflow. id_map: {-1078: 95562, -1077: 95563, -1076: 95564, -1075: 95565, -1074: 95566, -1073: 95567, -1072: 95568, -1071: 95569, -1070: 95570, -1069: 95571, -1068: 95572}\n"
     ]
    },
    {
     "name": "stderr",
     "output_type": "stream",
     "text": [
      " 27%|██▋       | 104/386 [09:19<26:47,  5.70s/it]"
     ]
    },
    {
     "name": "stdout",
     "output_type": "stream",
     "text": [
      "105\n",
      "2025-01-05 16:00:42,639 INFO Started executing jobs locally\n",
      "2025-01-05 16:00:42,647 INFO Starting job - Scf calculation (5f0ad9ee-ef48-4df9-8a2a-611b1c414829)\n",
      "job is running... let's kill it...\n",
      "2025-01-05 16:00:48,135 INFO Added a workflow. id_map: {-1089: 95573, -1088: 95574, -1087: 95575, -1086: 95576, -1085: 95577, -1084: 95578, -1083: 95579, -1082: 95580, -1081: 95581, -1080: 95582, -1079: 95583}\n"
     ]
    },
    {
     "name": "stderr",
     "output_type": "stream",
     "text": [
      " 27%|██▋       | 105/386 [09:25<26:38,  5.69s/it]"
     ]
    },
    {
     "name": "stdout",
     "output_type": "stream",
     "text": [
      "106\n",
      "2025-01-05 16:00:48,304 INFO Started executing jobs locally\n",
      "2025-01-05 16:00:48,312 INFO Starting job - Scf calculation (275474f7-9a5f-44c9-bc57-49819260715b)\n",
      "job is running... let's kill it...\n",
      "2025-01-05 16:00:53,845 INFO Added a workflow. id_map: {-1100: 95584, -1099: 95585, -1098: 95586, -1097: 95587, -1096: 95588, -1095: 95589, -1094: 95590, -1093: 95591, -1092: 95592, -1091: 95593, -1090: 95594}\n"
     ]
    },
    {
     "name": "stderr",
     "output_type": "stream",
     "text": [
      " 27%|██▋       | 106/386 [09:31<26:34,  5.70s/it]"
     ]
    },
    {
     "name": "stdout",
     "output_type": "stream",
     "text": [
      "107\n",
      "2025-01-05 16:00:54,058 INFO Started executing jobs locally\n",
      "2025-01-05 16:00:54,070 INFO Starting job - Scf calculation (168d2ca0-96e1-4738-8187-5b67739c5e7d)\n",
      "job is running... let's kill it...\n",
      "2025-01-05 16:00:59,591 INFO Added a workflow. id_map: {-1111: 95595, -1110: 95596, -1109: 95597, -1108: 95598, -1107: 95599, -1106: 95600, -1105: 95601, -1104: 95602, -1103: 95603, -1102: 95604, -1101: 95605}\n"
     ]
    },
    {
     "name": "stderr",
     "output_type": "stream",
     "text": [
      " 28%|██▊       | 107/386 [09:36<26:32,  5.71s/it]"
     ]
    },
    {
     "name": "stdout",
     "output_type": "stream",
     "text": [
      "108\n",
      "2025-01-05 16:00:59,790 INFO Started executing jobs locally\n",
      "2025-01-05 16:00:59,803 INFO Starting job - Scf calculation (f872a871-bc13-4a42-9df2-626987cbf7f5)\n",
      "job is running... let's kill it...\n",
      "2025-01-05 16:01:05,312 INFO Added a workflow. id_map: {-1122: 95606, -1121: 95607, -1120: 95608, -1119: 95609, -1118: 95610, -1117: 95611, -1116: 95612, -1115: 95613, -1114: 95614, -1113: 95615, -1112: 95616}\n"
     ]
    },
    {
     "name": "stderr",
     "output_type": "stream",
     "text": [
      " 28%|██▊       | 108/386 [09:42<26:27,  5.71s/it]"
     ]
    },
    {
     "name": "stdout",
     "output_type": "stream",
     "text": [
      "109\n",
      "2025-01-05 16:01:05,494 INFO Started executing jobs locally\n",
      "2025-01-05 16:01:05,504 INFO Starting job - Scf calculation (f051f3b6-492f-4c35-8073-b57d5345a72f)\n",
      "job is running... let's kill it...\n",
      "2025-01-05 16:01:11,003 INFO Added a workflow. id_map: {-1133: 95617, -1132: 95618, -1131: 95619, -1130: 95620, -1129: 95621, -1128: 95622, -1127: 95623, -1126: 95624, -1125: 95625, -1124: 95626, -1123: 95627}\n"
     ]
    },
    {
     "name": "stderr",
     "output_type": "stream",
     "text": [
      " 28%|██▊       | 109/386 [09:48<26:20,  5.71s/it]"
     ]
    },
    {
     "name": "stdout",
     "output_type": "stream",
     "text": [
      "110\n",
      "2025-01-05 16:01:11,172 INFO Started executing jobs locally\n",
      "2025-01-05 16:01:11,187 INFO Starting job - Scf calculation (8968399a-2a21-4679-ae3a-1667a9d1d1dd)\n",
      "job is running... let's kill it...\n",
      "2025-01-05 16:01:16,697 INFO Added a workflow. id_map: {-1144: 95628, -1143: 95629, -1142: 95630, -1141: 95631, -1140: 95632, -1139: 95633, -1138: 95634, -1137: 95635, -1136: 95636, -1135: 95637, -1134: 95638}\n"
     ]
    },
    {
     "name": "stderr",
     "output_type": "stream",
     "text": [
      " 28%|██▊       | 110/386 [09:53<26:13,  5.70s/it]"
     ]
    },
    {
     "name": "stdout",
     "output_type": "stream",
     "text": [
      "111\n",
      "2025-01-05 16:01:16,886 INFO Started executing jobs locally\n",
      "2025-01-05 16:01:16,899 INFO Starting job - Scf calculation (912498ab-52fe-4ec9-b78d-e35a1747cf4d)\n",
      "job is running... let's kill it...\n",
      "2025-01-05 16:01:22,394 INFO Added a workflow. id_map: {-1155: 95639, -1154: 95640, -1153: 95641, -1152: 95642, -1151: 95643, -1150: 95644, -1149: 95645, -1148: 95646, -1147: 95647, -1146: 95648, -1145: 95649}\n"
     ]
    },
    {
     "name": "stderr",
     "output_type": "stream",
     "text": [
      " 29%|██▉       | 111/386 [09:59<26:08,  5.70s/it]"
     ]
    },
    {
     "name": "stdout",
     "output_type": "stream",
     "text": [
      "112\n",
      "2025-01-05 16:01:22,568 INFO Started executing jobs locally\n",
      "2025-01-05 16:01:22,577 INFO Starting job - Scf calculation (88498f13-e02c-404a-9c53-9e70a41f667c)\n",
      "job is running... let's kill it...\n",
      "2025-01-05 16:01:28,066 INFO Added a workflow. id_map: {-1166: 95650, -1165: 95651, -1164: 95652, -1163: 95653, -1162: 95654, -1161: 95655, -1160: 95656, -1159: 95657, -1158: 95658, -1157: 95659, -1156: 95660}\n"
     ]
    },
    {
     "name": "stderr",
     "output_type": "stream",
     "text": [
      " 29%|██▉       | 112/386 [10:05<25:59,  5.69s/it]"
     ]
    },
    {
     "name": "stdout",
     "output_type": "stream",
     "text": [
      "113\n",
      "2025-01-05 16:01:28,223 INFO Started executing jobs locally\n",
      "2025-01-05 16:01:28,233 INFO Starting job - Scf calculation (9afe9f77-2bf4-4c0d-acb3-990ada85ac1f)\n",
      "job is running... let's kill it...\n",
      "2025-01-05 16:01:33,740 INFO Added a workflow. id_map: {-1177: 95661, -1176: 95662, -1175: 95663, -1174: 95664, -1173: 95665, -1172: 95666, -1171: 95667, -1170: 95668, -1169: 95669, -1168: 95670, -1167: 95671}\n"
     ]
    },
    {
     "name": "stderr",
     "output_type": "stream",
     "text": [
      " 29%|██▉       | 113/386 [10:10<25:52,  5.69s/it]"
     ]
    },
    {
     "name": "stdout",
     "output_type": "stream",
     "text": [
      "114\n",
      "2025-01-05 16:01:33,924 INFO Started executing jobs locally\n",
      "2025-01-05 16:01:33,942 INFO Starting job - Scf calculation (2ff877c4-fb72-4ba8-b808-37716b916f90)\n",
      "job is running... let's kill it...\n",
      "2025-01-05 16:01:39,454 INFO Added a workflow. id_map: {-1188: 95672, -1187: 95673, -1186: 95674, -1185: 95675, -1184: 95676, -1183: 95677, -1182: 95678, -1181: 95679, -1180: 95680, -1179: 95681, -1178: 95682}\n"
     ]
    },
    {
     "name": "stderr",
     "output_type": "stream",
     "text": [
      " 30%|██▉       | 114/386 [10:16<25:49,  5.70s/it]"
     ]
    },
    {
     "name": "stdout",
     "output_type": "stream",
     "text": [
      "115\n",
      "2025-01-05 16:01:39,650 INFO Started executing jobs locally\n",
      "2025-01-05 16:01:39,660 INFO Starting job - Scf calculation (1600db77-7fae-4b81-8f25-b63bedb92c1c)\n",
      "job is running... let's kill it...\n",
      "2025-01-05 16:01:45,159 INFO Added a workflow. id_map: {-1199: 95683, -1198: 95684, -1197: 95685, -1196: 95686, -1195: 95687, -1194: 95688, -1193: 95689, -1192: 95690, -1191: 95691, -1190: 95692, -1189: 95693}\n"
     ]
    },
    {
     "name": "stderr",
     "output_type": "stream",
     "text": [
      " 30%|██▉       | 115/386 [10:22<25:43,  5.70s/it]"
     ]
    },
    {
     "name": "stdout",
     "output_type": "stream",
     "text": [
      "116\n",
      "2025-01-05 16:01:45,344 INFO Started executing jobs locally\n",
      "2025-01-05 16:01:45,356 INFO Starting job - Scf calculation (14ff6828-7d88-4a2c-b36c-2ea8414e711b)\n",
      "chksymbreak triggered\n"
     ]
    },
    {
     "name": "stderr",
     "output_type": "stream",
     "text": [
      " 30%|███       | 116/386 [10:22<18:31,  4.12s/it]"
     ]
    },
    {
     "name": "stdout",
     "output_type": "stream",
     "text": [
      "117\n",
      "2025-01-05 16:01:45,766 INFO Started executing jobs locally\n",
      "2025-01-05 16:01:45,777 INFO Starting job - Scf calculation (5f63327f-f044-4ce5-b930-cd1a452ceccc)\n",
      "job is running... let's kill it...\n",
      "2025-01-05 16:01:51,259 INFO Added a workflow. id_map: {-1210: 95694, -1209: 95695, -1208: 95696, -1207: 95697, -1206: 95698, -1205: 95699, -1204: 95700, -1203: 95701, -1202: 95702, -1201: 95703, -1200: 95704}\n"
     ]
    },
    {
     "name": "stderr",
     "output_type": "stream",
     "text": [
      " 30%|███       | 117/386 [10:28<20:33,  4.59s/it]"
     ]
    },
    {
     "name": "stdout",
     "output_type": "stream",
     "text": [
      "118\n",
      "2025-01-05 16:01:51,435 INFO Started executing jobs locally\n",
      "2025-01-05 16:01:51,445 INFO Starting job - Scf calculation (caf3d5a7-fc27-4f1c-8310-7c4fc6a3e9d2)\n",
      "job is running... let's kill it...\n",
      "2025-01-05 16:01:56,938 INFO Added a workflow. id_map: {-1221: 95705, -1220: 95706, -1219: 95707, -1218: 95708, -1217: 95709, -1216: 95710, -1215: 95711, -1214: 95712, -1213: 95713, -1212: 95714, -1211: 95715}\n"
     ]
    },
    {
     "name": "stderr",
     "output_type": "stream",
     "text": [
      " 31%|███       | 118/386 [10:34<21:57,  4.91s/it]"
     ]
    },
    {
     "name": "stdout",
     "output_type": "stream",
     "text": [
      "119\n",
      "2025-01-05 16:01:57,140 INFO Started executing jobs locally\n",
      "2025-01-05 16:01:57,150 INFO Starting job - Scf calculation (eec40002-0635-4ed2-b8d3-c9223031edfa)\n",
      "job is running... let's kill it...\n",
      "2025-01-05 16:02:02,644 INFO Added a workflow. id_map: {-1232: 95716, -1231: 95717, -1230: 95718, -1229: 95719, -1228: 95720, -1227: 95721, -1226: 95722, -1225: 95723, -1224: 95724, -1223: 95725, -1222: 95726}\n"
     ]
    },
    {
     "name": "stderr",
     "output_type": "stream",
     "text": [
      " 31%|███       | 119/386 [10:39<22:55,  5.15s/it]"
     ]
    },
    {
     "name": "stdout",
     "output_type": "stream",
     "text": [
      "120\n",
      "2025-01-05 16:02:02,815 INFO Started executing jobs locally\n",
      "2025-01-05 16:02:02,824 INFO Starting job - Scf calculation (f95d3e23-c53c-4b2d-86ab-04c737205142)\n",
      "job is running... let's kill it...\n",
      "2025-01-05 16:02:08,313 INFO Added a workflow. id_map: {-1243: 95727, -1242: 95728, -1241: 95729, -1240: 95730, -1239: 95731, -1238: 95732, -1237: 95733, -1236: 95734, -1235: 95735, -1234: 95736, -1233: 95737}\n"
     ]
    },
    {
     "name": "stderr",
     "output_type": "stream",
     "text": [
      " 31%|███       | 120/386 [10:45<23:30,  5.30s/it]"
     ]
    },
    {
     "name": "stdout",
     "output_type": "stream",
     "text": [
      "121\n",
      "2025-01-05 16:02:08,481 INFO Started executing jobs locally\n",
      "2025-01-05 16:02:08,490 INFO Starting job - Scf calculation (73f19fb7-9ddd-4dbc-ab3b-24ac1ae4ee30)\n",
      "job is running... let's kill it...\n",
      "2025-01-05 16:02:14,011 INFO Added a workflow. id_map: {-1254: 95738, -1253: 95739, -1252: 95740, -1251: 95741, -1250: 95742, -1249: 95743, -1248: 95744, -1247: 95745, -1246: 95746, -1245: 95747, -1244: 95748}\n"
     ]
    },
    {
     "name": "stderr",
     "output_type": "stream",
     "text": [
      " 31%|███▏      | 121/386 [10:51<23:56,  5.42s/it]"
     ]
    },
    {
     "name": "stdout",
     "output_type": "stream",
     "text": [
      "122\n",
      "2025-01-05 16:02:14,182 INFO Started executing jobs locally\n",
      "2025-01-05 16:02:14,196 INFO Starting job - Scf calculation (21d96a6c-10aa-4661-aec1-bbd7661d8629)\n",
      "job is running... let's kill it...\n",
      "2025-01-05 16:02:19,726 INFO Added a workflow. id_map: {-1265: 95749, -1264: 95750, -1263: 95751, -1262: 95752, -1261: 95753, -1260: 95754, -1259: 95755, -1258: 95756, -1257: 95757, -1256: 95758, -1255: 95759}\n"
     ]
    },
    {
     "name": "stderr",
     "output_type": "stream",
     "text": [
      " 32%|███▏      | 122/386 [10:56<24:15,  5.51s/it]"
     ]
    },
    {
     "name": "stdout",
     "output_type": "stream",
     "text": [
      "123\n",
      "2025-01-05 16:02:19,897 INFO Started executing jobs locally\n",
      "2025-01-05 16:02:19,905 INFO Starting job - Scf calculation (2e3a4b88-b3ea-4243-ab96-c0a29768301a)\n",
      "job is running... let's kill it...\n",
      "2025-01-05 16:02:25,408 INFO Added a workflow. id_map: {-1276: 95760, -1275: 95761, -1274: 95762, -1273: 95763, -1272: 95764, -1271: 95765, -1270: 95766, -1269: 95767, -1268: 95768, -1267: 95769, -1266: 95770}\n"
     ]
    },
    {
     "name": "stderr",
     "output_type": "stream",
     "text": [
      " 32%|███▏      | 123/386 [11:02<24:23,  5.56s/it]"
     ]
    },
    {
     "name": "stdout",
     "output_type": "stream",
     "text": [
      "124\n",
      "2025-01-05 16:02:25,593 INFO Started executing jobs locally\n",
      "2025-01-05 16:02:25,602 INFO Starting job - Scf calculation (ebb070b9-87fe-4d40-9fb8-92d44772eeac)\n",
      "job is running... let's kill it...\n",
      "2025-01-05 16:02:31,092 INFO Added a workflow. id_map: {-1287: 95771, -1286: 95772, -1285: 95773, -1284: 95774, -1283: 95775, -1282: 95776, -1281: 95777, -1280: 95778, -1279: 95779, -1278: 95780, -1277: 95781}\n"
     ]
    },
    {
     "name": "stderr",
     "output_type": "stream",
     "text": [
      " 32%|███▏      | 124/386 [11:08<24:26,  5.60s/it]"
     ]
    },
    {
     "name": "stdout",
     "output_type": "stream",
     "text": [
      "125\n",
      "2025-01-05 16:02:31,266 INFO Started executing jobs locally\n",
      "2025-01-05 16:02:31,279 INFO Starting job - Scf calculation (517534be-126e-41fa-8fbe-d87342889dfe)\n",
      "job is running... let's kill it...\n",
      "2025-01-05 16:02:36,759 INFO Added a workflow. id_map: {-1298: 95782, -1297: 95783, -1296: 95784, -1295: 95785, -1294: 95786, -1293: 95787, -1292: 95788, -1291: 95789, -1290: 95790, -1289: 95791, -1288: 95792}\n"
     ]
    },
    {
     "name": "stderr",
     "output_type": "stream",
     "text": [
      " 32%|███▏      | 125/386 [11:13<24:25,  5.62s/it]"
     ]
    },
    {
     "name": "stdout",
     "output_type": "stream",
     "text": [
      "126\n",
      "2025-01-05 16:02:36,923 INFO Started executing jobs locally\n",
      "2025-01-05 16:02:36,930 INFO Starting job - Scf calculation (f4765591-2879-4704-a3f7-4d92374c707e)\n",
      "job is running... let's kill it...\n",
      "2025-01-05 16:02:42,440 INFO Added a workflow. id_map: {-1309: 95793, -1308: 95794, -1307: 95795, -1306: 95796, -1305: 95797, -1304: 95798, -1303: 95799, -1302: 95800, -1301: 95801, -1300: 95802, -1299: 95803}\n"
     ]
    },
    {
     "name": "stderr",
     "output_type": "stream",
     "text": [
      " 33%|███▎      | 126/386 [11:19<24:25,  5.64s/it]"
     ]
    },
    {
     "name": "stdout",
     "output_type": "stream",
     "text": [
      "127\n",
      "2025-01-05 16:02:42,613 INFO Started executing jobs locally\n",
      "2025-01-05 16:02:42,623 INFO Starting job - Scf calculation (726bb672-4309-4b85-9972-65ceb77b528e)\n",
      "job is running... let's kill it...\n",
      "2025-01-05 16:02:48,109 INFO Added a workflow. id_map: {-1320: 95804, -1319: 95805, -1318: 95806, -1317: 95807, -1316: 95808, -1315: 95809, -1314: 95810, -1313: 95811, -1312: 95812, -1311: 95813, -1310: 95814}\n"
     ]
    },
    {
     "name": "stderr",
     "output_type": "stream",
     "text": [
      " 33%|███▎      | 127/386 [11:25<24:22,  5.65s/it]"
     ]
    },
    {
     "name": "stdout",
     "output_type": "stream",
     "text": [
      "128\n",
      "2025-01-05 16:02:48,280 INFO Started executing jobs locally\n",
      "2025-01-05 16:02:48,294 INFO Starting job - Scf calculation (aee9a6bf-f956-40d7-b3b0-8527ccdbeca8)\n",
      "job is running... let's kill it...\n",
      "2025-01-05 16:02:53,806 INFO Added a workflow. id_map: {-1331: 95815, -1330: 95816, -1329: 95817, -1328: 95818, -1327: 95819, -1326: 95820, -1325: 95821, -1324: 95822, -1323: 95823, -1322: 95824, -1321: 95825}\n"
     ]
    },
    {
     "name": "stderr",
     "output_type": "stream",
     "text": [
      " 33%|███▎      | 128/386 [11:31<24:20,  5.66s/it]"
     ]
    },
    {
     "name": "stdout",
     "output_type": "stream",
     "text": [
      "129\n",
      "2025-01-05 16:02:53,978 INFO Started executing jobs locally\n",
      "2025-01-05 16:02:53,988 INFO Starting job - Scf calculation (d44f9eed-0c3e-4fe0-b51a-33c13e982328)\n",
      "job is running... let's kill it...\n",
      "2025-01-05 16:02:59,524 INFO Added a workflow. id_map: {-1342: 95826, -1341: 95827, -1340: 95828, -1339: 95829, -1338: 95830, -1337: 95831, -1336: 95832, -1335: 95833, -1334: 95834, -1333: 95835, -1332: 95836}\n"
     ]
    },
    {
     "name": "stderr",
     "output_type": "stream",
     "text": [
      " 33%|███▎      | 129/386 [11:36<24:19,  5.68s/it]"
     ]
    },
    {
     "name": "stdout",
     "output_type": "stream",
     "text": [
      "130\n",
      "2025-01-05 16:02:59,686 INFO Started executing jobs locally\n",
      "2025-01-05 16:02:59,697 INFO Starting job - Scf calculation (bcb4b76e-6c42-4cb6-a6b2-20a1ec2f6ea3)\n",
      "job is running... let's kill it...\n",
      "2025-01-05 16:03:05,177 INFO Added a workflow. id_map: {-1353: 95837, -1352: 95838, -1351: 95839, -1350: 95840, -1349: 95841, -1348: 95842, -1347: 95843, -1346: 95844, -1345: 95845, -1344: 95846, -1343: 95847}\n"
     ]
    },
    {
     "name": "stderr",
     "output_type": "stream",
     "text": [
      " 34%|███▎      | 130/386 [11:42<24:12,  5.68s/it]"
     ]
    },
    {
     "name": "stdout",
     "output_type": "stream",
     "text": [
      "131\n",
      "2025-01-05 16:03:05,353 INFO Started executing jobs locally\n",
      "2025-01-05 16:03:05,363 INFO Starting job - Scf calculation (59d7d71e-1373-433a-9f97-10f7278ad0b8)\n",
      "job is running... let's kill it...\n",
      "2025-01-05 16:03:10,855 INFO Added a workflow. id_map: {-1364: 95848, -1363: 95849, -1362: 95850, -1361: 95851, -1360: 95852, -1359: 95853, -1358: 95854, -1357: 95855, -1356: 95856, -1355: 95857, -1354: 95858}\n"
     ]
    },
    {
     "name": "stderr",
     "output_type": "stream",
     "text": [
      " 34%|███▍      | 131/386 [11:48<24:06,  5.67s/it]"
     ]
    },
    {
     "name": "stdout",
     "output_type": "stream",
     "text": [
      "132\n",
      "2025-01-05 16:03:11,032 INFO Started executing jobs locally\n",
      "2025-01-05 16:03:11,042 INFO Starting job - Scf calculation (4c039bad-9e52-4f9d-a4d6-d0b25cebd55a)\n",
      "job is running... let's kill it...\n",
      "2025-01-05 16:03:16,534 INFO Added a workflow. id_map: {-1375: 95859, -1374: 95860, -1373: 95861, -1372: 95862, -1371: 95863, -1370: 95864, -1369: 95865, -1368: 95866, -1367: 95867, -1366: 95868, -1365: 95869}\n"
     ]
    },
    {
     "name": "stderr",
     "output_type": "stream",
     "text": [
      " 34%|███▍      | 132/386 [11:53<24:01,  5.67s/it]"
     ]
    },
    {
     "name": "stdout",
     "output_type": "stream",
     "text": [
      "133\n",
      "2025-01-05 16:03:16,711 INFO Started executing jobs locally\n",
      "2025-01-05 16:03:16,722 INFO Starting job - Scf calculation (c9a2e068-9412-418a-a75a-398d46084951)\n",
      "job is running... let's kill it...\n",
      "2025-01-05 16:03:22,210 INFO Added a workflow. id_map: {-1386: 95870, -1385: 95871, -1384: 95872, -1383: 95873, -1382: 95874, -1381: 95875, -1380: 95876, -1379: 95877, -1378: 95878, -1377: 95879, -1376: 95880}\n"
     ]
    },
    {
     "name": "stderr",
     "output_type": "stream",
     "text": [
      " 34%|███▍      | 133/386 [11:59<23:55,  5.67s/it]"
     ]
    },
    {
     "name": "stdout",
     "output_type": "stream",
     "text": [
      "134\n",
      "2025-01-05 16:03:22,375 INFO Started executing jobs locally\n",
      "2025-01-05 16:03:22,385 INFO Starting job - Scf calculation (0bb55088-4045-4622-80a2-44f94ead7a10)\n",
      "job is running... let's kill it...\n",
      "2025-01-05 16:03:27,906 INFO Added a workflow. id_map: {-1397: 95881, -1396: 95882, -1395: 95883, -1394: 95884, -1393: 95885, -1392: 95886, -1391: 95887, -1390: 95888, -1389: 95889, -1388: 95890, -1387: 95891}\n"
     ]
    },
    {
     "name": "stderr",
     "output_type": "stream",
     "text": [
      " 35%|███▍      | 134/386 [12:05<23:53,  5.69s/it]"
     ]
    },
    {
     "name": "stdout",
     "output_type": "stream",
     "text": [
      "135\n",
      "2025-01-05 16:03:28,089 INFO Started executing jobs locally\n",
      "2025-01-05 16:03:28,097 INFO Starting job - Scf calculation (c25a150f-475f-47b0-aea8-9d46d153656f)\n",
      "job is running... let's kill it...\n",
      "2025-01-05 16:03:33,597 INFO Added a workflow. id_map: {-1408: 95892, -1407: 95893, -1406: 95894, -1405: 95895, -1404: 95896, -1403: 95897, -1402: 95898, -1401: 95899, -1400: 95900, -1399: 95901, -1398: 95902}\n"
     ]
    },
    {
     "name": "stderr",
     "output_type": "stream",
     "text": [
      " 35%|███▍      | 135/386 [12:10<23:46,  5.68s/it]"
     ]
    },
    {
     "name": "stdout",
     "output_type": "stream",
     "text": [
      "136\n",
      "2025-01-05 16:03:33,764 INFO Started executing jobs locally\n",
      "2025-01-05 16:03:33,774 INFO Starting job - Scf calculation (e5e45c50-c98b-46f1-b101-3bfc97b60738)\n",
      "job is running... let's kill it...\n",
      "2025-01-05 16:03:39,304 INFO Added a workflow. id_map: {-1419: 95903, -1418: 95904, -1417: 95905, -1416: 95906, -1415: 95907, -1414: 95908, -1413: 95909, -1412: 95910, -1411: 95911, -1410: 95912, -1409: 95913}\n"
     ]
    },
    {
     "name": "stderr",
     "output_type": "stream",
     "text": [
      " 35%|███▌      | 136/386 [12:16<23:42,  5.69s/it]"
     ]
    },
    {
     "name": "stdout",
     "output_type": "stream",
     "text": [
      "137\n",
      "2025-01-05 16:03:39,474 INFO Started executing jobs locally\n",
      "2025-01-05 16:03:39,483 INFO Starting job - Scf calculation (d09b1d75-1a10-4ca6-bc41-a9a52ec18a63)\n",
      "job is running... let's kill it...\n",
      "2025-01-05 16:03:44,996 INFO Added a workflow. id_map: {-1430: 95914, -1429: 95915, -1428: 95916, -1427: 95917, -1426: 95918, -1425: 95919, -1424: 95920, -1423: 95921, -1422: 95922, -1421: 95923, -1420: 95924}\n"
     ]
    },
    {
     "name": "stderr",
     "output_type": "stream",
     "text": [
      " 35%|███▌      | 137/386 [12:22<23:36,  5.69s/it]"
     ]
    },
    {
     "name": "stdout",
     "output_type": "stream",
     "text": [
      "138\n",
      "2025-01-05 16:03:45,218 INFO Started executing jobs locally\n",
      "2025-01-05 16:03:45,236 INFO Starting job - Scf calculation (f50c2bc3-92aa-4e33-b261-f4aecb3e654e)\n",
      "job is running... let's kill it...\n",
      "2025-01-05 16:03:50,716 INFO Added a workflow. id_map: {-1441: 95925, -1440: 95926, -1439: 95927, -1438: 95928, -1437: 95929, -1436: 95930, -1435: 95931, -1434: 95932, -1433: 95933, -1432: 95934, -1431: 95935}\n"
     ]
    },
    {
     "name": "stderr",
     "output_type": "stream",
     "text": [
      " 36%|███▌      | 138/386 [12:27<23:33,  5.70s/it]"
     ]
    },
    {
     "name": "stdout",
     "output_type": "stream",
     "text": [
      "139\n",
      "2025-01-05 16:03:50,889 INFO Started executing jobs locally\n",
      "2025-01-05 16:03:50,900 INFO Starting job - Scf calculation (2e9b8389-5eef-4eab-9d8c-93fcd47bb2a5)\n",
      "job is running... let's kill it...\n",
      "2025-01-05 16:03:56,386 INFO Added a workflow. id_map: {-1452: 95936, -1451: 95937, -1450: 95938, -1449: 95939, -1448: 95940, -1447: 95941, -1446: 95942, -1445: 95943, -1444: 95944, -1443: 95945, -1442: 95946}\n"
     ]
    },
    {
     "name": "stderr",
     "output_type": "stream",
     "text": [
      " 36%|███▌      | 139/386 [12:33<23:25,  5.69s/it]"
     ]
    },
    {
     "name": "stdout",
     "output_type": "stream",
     "text": [
      "140\n",
      "2025-01-05 16:03:56,550 INFO Started executing jobs locally\n",
      "2025-01-05 16:03:56,560 INFO Starting job - Scf calculation (fc1ca442-8714-4afe-81d6-fd46fcaa8dca)\n",
      "job is running... let's kill it...\n",
      "2025-01-05 16:04:02,047 INFO Added a workflow. id_map: {-1463: 95947, -1462: 95948, -1461: 95949, -1460: 95950, -1459: 95951, -1458: 95952, -1457: 95953, -1456: 95954, -1455: 95955, -1454: 95956, -1453: 95957}\n"
     ]
    },
    {
     "name": "stderr",
     "output_type": "stream",
     "text": [
      " 36%|███▋      | 140/386 [12:39<23:18,  5.69s/it]"
     ]
    },
    {
     "name": "stdout",
     "output_type": "stream",
     "text": [
      "141\n",
      "2025-01-05 16:04:02,246 INFO Started executing jobs locally\n",
      "2025-01-05 16:04:02,256 INFO Starting job - Scf calculation (0496582c-10da-478a-8f22-a032ed9921af)\n",
      "job is running... let's kill it...\n",
      "2025-01-05 16:04:07,754 INFO Added a workflow. id_map: {-1474: 95958, -1473: 95959, -1472: 95960, -1471: 95961, -1470: 95962, -1469: 95963, -1468: 95964, -1467: 95965, -1466: 95966, -1465: 95967, -1464: 95968}\n"
     ]
    },
    {
     "name": "stderr",
     "output_type": "stream",
     "text": [
      " 37%|███▋      | 141/386 [12:44<23:13,  5.69s/it]"
     ]
    },
    {
     "name": "stdout",
     "output_type": "stream",
     "text": [
      "142\n",
      "2025-01-05 16:04:07,921 INFO Started executing jobs locally\n",
      "2025-01-05 16:04:07,932 INFO Starting job - Scf calculation (423ced3c-d4a9-4b89-a341-9bb6744651cf)\n",
      "chksymbreak triggered\n"
     ]
    },
    {
     "name": "stderr",
     "output_type": "stream",
     "text": [
      " 37%|███▋      | 142/386 [12:45<16:32,  4.07s/it]"
     ]
    },
    {
     "name": "stdout",
     "output_type": "stream",
     "text": [
      "143\n",
      "2025-01-05 16:04:08,214 INFO Started executing jobs locally\n",
      "2025-01-05 16:04:08,224 INFO Starting job - Scf calculation (667a38eb-a21e-4619-b59f-c0d06df8dafe)\n",
      "job is running... let's kill it...\n",
      "2025-01-05 16:04:13,704 INFO Added a workflow. id_map: {-1485: 95969, -1484: 95970, -1483: 95971, -1482: 95972, -1481: 95973, -1480: 95974, -1479: 95975, -1478: 95976, -1477: 95977, -1476: 95978, -1475: 95979}\n"
     ]
    },
    {
     "name": "stderr",
     "output_type": "stream",
     "text": [
      " 37%|███▋      | 143/386 [12:50<18:24,  4.54s/it]"
     ]
    },
    {
     "name": "stdout",
     "output_type": "stream",
     "text": [
      "144\n",
      "2025-01-05 16:04:13,870 INFO Started executing jobs locally\n",
      "2025-01-05 16:04:13,882 INFO Starting job - Scf calculation (48ddd434-9f3f-4e0e-8235-29f80af75792)\n",
      "job is running... let's kill it...\n",
      "2025-01-05 16:04:19,405 INFO Added a workflow. id_map: {-1496: 95980, -1495: 95981, -1494: 95982, -1493: 95983, -1492: 95984, -1491: 95985, -1490: 95986, -1489: 95987, -1488: 95988, -1487: 95989, -1486: 95990}\n"
     ]
    },
    {
     "name": "stderr",
     "output_type": "stream",
     "text": [
      " 37%|███▋      | 144/386 [12:56<19:45,  4.90s/it]"
     ]
    },
    {
     "name": "stdout",
     "output_type": "stream",
     "text": [
      "145\n",
      "2025-01-05 16:04:19,586 INFO Started executing jobs locally\n",
      "2025-01-05 16:04:19,595 INFO Starting job - Scf calculation (7d4e0f5f-c8ab-4a80-8688-e90d0edc7312)\n",
      "job is running... let's kill it...\n",
      "2025-01-05 16:04:25,111 INFO Added a workflow. id_map: {-1507: 95991, -1506: 95992, -1505: 95993, -1504: 95994, -1503: 95995, -1502: 95996, -1501: 95997, -1500: 95998, -1499: 95999, -1498: 96000, -1497: 96001}\n"
     ]
    },
    {
     "name": "stderr",
     "output_type": "stream",
     "text": [
      " 38%|███▊      | 145/386 [13:02<20:38,  5.14s/it]"
     ]
    },
    {
     "name": "stdout",
     "output_type": "stream",
     "text": [
      "146\n",
      "2025-01-05 16:04:25,298 INFO Started executing jobs locally\n",
      "2025-01-05 16:04:25,307 INFO Starting job - Scf calculation (7263fd84-20c9-4bc7-9922-3013b3bbd516)\n",
      "job is running... let's kill it...\n",
      "2025-01-05 16:04:30,799 INFO Added a workflow. id_map: {-1518: 96002, -1517: 96003, -1516: 96004, -1515: 96005, -1514: 96006, -1513: 96007, -1512: 96008, -1511: 96009, -1510: 96010, -1509: 96011, -1508: 96012}\n"
     ]
    },
    {
     "name": "stderr",
     "output_type": "stream",
     "text": [
      " 38%|███▊      | 146/386 [13:08<21:12,  5.30s/it]"
     ]
    },
    {
     "name": "stdout",
     "output_type": "stream",
     "text": [
      "147\n",
      "2025-01-05 16:04:30,996 INFO Started executing jobs locally\n",
      "2025-01-05 16:04:31,008 INFO Starting job - Scf calculation (fa91040a-ee73-4dcb-a6ac-840018166bef)\n",
      "job is running... let's kill it...\n",
      "2025-01-05 16:04:36,506 INFO Added a workflow. id_map: {-1529: 96013, -1528: 96014, -1527: 96015, -1526: 96016, -1525: 96017, -1524: 96018, -1523: 96019, -1522: 96020, -1521: 96021, -1520: 96022, -1519: 96023}\n"
     ]
    },
    {
     "name": "stderr",
     "output_type": "stream",
     "text": [
      " 38%|███▊      | 147/386 [13:13<21:35,  5.42s/it]"
     ]
    },
    {
     "name": "stdout",
     "output_type": "stream",
     "text": [
      "148\n",
      "2025-01-05 16:04:36,667 INFO Started executing jobs locally\n",
      "2025-01-05 16:04:36,676 INFO Starting job - Scf calculation (d416d9c4-a994-4ca2-b9d3-b7a07d312451)\n",
      "job is running... let's kill it...\n",
      "2025-01-05 16:04:42,186 INFO Added a workflow. id_map: {-1540: 96024, -1539: 96025, -1538: 96026, -1537: 96027, -1536: 96028, -1535: 96029, -1534: 96030, -1533: 96031, -1532: 96032, -1531: 96033, -1530: 96034}\n"
     ]
    },
    {
     "name": "stderr",
     "output_type": "stream",
     "text": [
      " 38%|███▊      | 148/386 [13:19<21:49,  5.50s/it]"
     ]
    },
    {
     "name": "stdout",
     "output_type": "stream",
     "text": [
      "149\n",
      "2025-01-05 16:04:42,384 INFO Started executing jobs locally\n",
      "2025-01-05 16:04:42,395 INFO Starting job - Scf calculation (a6fd26c3-9b31-454c-87a4-b923a60d2f1f)\n",
      "job is running... let's kill it...\n",
      "2025-01-05 16:04:47,906 INFO Added a workflow. id_map: {-1551: 96035, -1550: 96036, -1549: 96037, -1548: 96038, -1547: 96039, -1546: 96040, -1545: 96041, -1544: 96042, -1543: 96043, -1542: 96044, -1541: 96045}\n"
     ]
    },
    {
     "name": "stderr",
     "output_type": "stream",
     "text": [
      " 39%|███▊      | 149/386 [13:25<21:59,  5.57s/it]"
     ]
    },
    {
     "name": "stdout",
     "output_type": "stream",
     "text": [
      "150\n",
      "2025-01-05 16:04:48,079 INFO Started executing jobs locally\n",
      "2025-01-05 16:04:48,090 INFO Starting job - Scf calculation (3f84cf4d-40d3-47a3-9c66-2381d651620a)\n",
      "job is running... let's kill it...\n",
      "2025-01-05 16:04:53,586 INFO Added a workflow. id_map: {-1562: 96046, -1561: 96047, -1560: 96048, -1559: 96049, -1558: 96050, -1557: 96051, -1556: 96052, -1555: 96053, -1554: 96054, -1553: 96055, -1552: 96056}\n"
     ]
    },
    {
     "name": "stderr",
     "output_type": "stream",
     "text": [
      " 39%|███▉      | 150/386 [13:30<22:01,  5.60s/it]"
     ]
    },
    {
     "name": "stdout",
     "output_type": "stream",
     "text": [
      "151\n",
      "Uneven number of valence electrons. Let's skip this structure\n",
      "152\n",
      "2025-01-05 16:04:53,760 INFO Started executing jobs locally\n",
      "2025-01-05 16:04:53,773 INFO Starting job - Scf calculation (178e62fc-34ba-48ec-8c4d-38dff87cd30b)\n",
      "job is running... let's kill it...\n",
      "2025-01-05 16:04:59,265 INFO Added a workflow. id_map: {-1573: 96057, -1572: 96058, -1571: 96059, -1570: 96060, -1569: 96061, -1568: 96062, -1567: 96063, -1566: 96064, -1565: 96065, -1564: 96066, -1563: 96067}\n"
     ]
    },
    {
     "name": "stderr",
     "output_type": "stream",
     "text": [
      " 39%|███▉      | 152/386 [13:36<16:52,  4.33s/it]"
     ]
    },
    {
     "name": "stdout",
     "output_type": "stream",
     "text": [
      "153\n",
      "2025-01-05 16:04:59,449 INFO Started executing jobs locally\n",
      "2025-01-05 16:04:59,461 INFO Starting job - Scf calculation (75ada1b3-019a-4c04-8152-4752abf2516a)\n",
      "job is running... let's kill it...\n",
      "2025-01-05 16:05:05,027 INFO Added a workflow. id_map: {-1584: 96068, -1583: 96069, -1582: 96070, -1581: 96071, -1580: 96072, -1579: 96073, -1578: 96074, -1577: 96075, -1576: 96076, -1575: 96077, -1574: 96078}\n"
     ]
    },
    {
     "name": "stderr",
     "output_type": "stream",
     "text": [
      " 40%|███▉      | 153/386 [13:42<18:10,  4.68s/it]"
     ]
    },
    {
     "name": "stdout",
     "output_type": "stream",
     "text": [
      "154\n",
      "Uneven number of valence electrons. Let's skip this structure\n",
      "155\n",
      "2025-01-05 16:05:05,214 INFO Started executing jobs locally\n",
      "2025-01-05 16:05:05,226 INFO Starting job - Scf calculation (61f0d981-538a-4084-8aff-3ea9b8258026)\n",
      "job is running... let's kill it...\n",
      "2025-01-05 16:05:10,729 INFO Added a workflow. id_map: {-1595: 96079, -1594: 96080, -1593: 96081, -1592: 96082, -1591: 96083, -1590: 96084, -1589: 96085, -1588: 96086, -1587: 96087, -1586: 96088, -1585: 96089}\n"
     ]
    },
    {
     "name": "stderr",
     "output_type": "stream",
     "text": [
      " 40%|████      | 155/386 [13:47<15:06,  3.93s/it]"
     ]
    },
    {
     "name": "stdout",
     "output_type": "stream",
     "text": [
      "156\n",
      "2025-01-05 16:05:10,909 INFO Started executing jobs locally\n",
      "2025-01-05 16:05:10,919 INFO Starting job - Scf calculation (f1065d1f-7e3f-4fc6-b8e9-d5a1bd18d898)\n",
      "job is running... let's kill it...\n",
      "2025-01-05 16:05:16,419 INFO Added a workflow. id_map: {-1606: 96090, -1605: 96091, -1604: 96092, -1603: 96093, -1602: 96094, -1601: 96095, -1600: 96096, -1599: 96097, -1598: 96098, -1597: 96099, -1596: 96100}\n"
     ]
    },
    {
     "name": "stderr",
     "output_type": "stream",
     "text": [
      " 40%|████      | 156/386 [13:53<16:35,  4.33s/it]"
     ]
    },
    {
     "name": "stdout",
     "output_type": "stream",
     "text": [
      "157\n",
      "2025-01-05 16:05:16,598 INFO Started executing jobs locally\n",
      "2025-01-05 16:05:16,609 INFO Starting job - Scf calculation (3e5bcffe-ebab-4b14-99a7-d6a22a1ca87c)\n",
      "job is running... let's kill it...\n",
      "2025-01-05 16:05:22,094 INFO Added a workflow. id_map: {-1617: 96101, -1616: 96102, -1615: 96103, -1614: 96104, -1613: 96105, -1612: 96106, -1611: 96107, -1610: 96108, -1609: 96109, -1608: 96110, -1607: 96111}\n"
     ]
    },
    {
     "name": "stderr",
     "output_type": "stream",
     "text": [
      " 41%|████      | 157/386 [13:59<17:46,  4.66s/it]"
     ]
    },
    {
     "name": "stdout",
     "output_type": "stream",
     "text": [
      "158\n",
      "2025-01-05 16:05:22,269 INFO Started executing jobs locally\n",
      "2025-01-05 16:05:22,279 INFO Starting job - Scf calculation (ae42c7be-9d86-4ee9-98cc-200345ca7b55)\n",
      "job is running... let's kill it...\n",
      "2025-01-05 16:05:27,777 INFO Added a workflow. id_map: {-1628: 96112, -1627: 96113, -1626: 96114, -1625: 96115, -1624: 96116, -1623: 96117, -1622: 96118, -1621: 96119, -1620: 96120, -1619: 96121, -1618: 96122}\n"
     ]
    },
    {
     "name": "stderr",
     "output_type": "stream",
     "text": [
      " 41%|████      | 158/386 [14:05<18:42,  4.92s/it]"
     ]
    },
    {
     "name": "stdout",
     "output_type": "stream",
     "text": [
      "159\n",
      "2025-01-05 16:05:27,960 INFO Started executing jobs locally\n",
      "2025-01-05 16:05:27,971 INFO Starting job - Scf calculation (1040fcbf-d8ca-4c56-b2fd-f5d41815ac61)\n",
      "job is running... let's kill it...\n",
      "2025-01-05 16:05:33,463 INFO Added a workflow. id_map: {-1639: 96123, -1638: 96124, -1637: 96125, -1636: 96126, -1635: 96127, -1634: 96128, -1633: 96129, -1632: 96130, -1631: 96131, -1630: 96132, -1629: 96133}\n"
     ]
    },
    {
     "name": "stderr",
     "output_type": "stream",
     "text": [
      " 41%|████      | 159/386 [14:10<19:24,  5.13s/it]"
     ]
    },
    {
     "name": "stdout",
     "output_type": "stream",
     "text": [
      "160\n",
      "2025-01-05 16:05:33,635 INFO Started executing jobs locally\n",
      "2025-01-05 16:05:33,643 INFO Starting job - Scf calculation (8051ac30-3cde-4631-925c-10b1cb4de0ef)\n",
      "job is running... let's kill it...\n",
      "2025-01-05 16:05:39,148 INFO Added a workflow. id_map: {-1650: 96134, -1649: 96135, -1648: 96136, -1647: 96137, -1646: 96138, -1645: 96139, -1644: 96140, -1643: 96141, -1642: 96142, -1641: 96143, -1640: 96144}\n"
     ]
    },
    {
     "name": "stderr",
     "output_type": "stream",
     "text": [
      " 41%|████▏     | 160/386 [14:16<19:54,  5.29s/it]"
     ]
    },
    {
     "name": "stdout",
     "output_type": "stream",
     "text": [
      "161\n",
      "2025-01-05 16:05:39,328 INFO Started executing jobs locally\n",
      "2025-01-05 16:05:39,337 INFO Starting job - Scf calculation (f9730978-cd9b-41bf-a300-fbd459f5985d)\n",
      "job is running... let's kill it...\n",
      "2025-01-05 16:05:44,880 INFO Added a workflow. id_map: {-1661: 96145, -1660: 96146, -1659: 96147, -1658: 96148, -1657: 96149, -1656: 96150, -1655: 96151, -1654: 96152, -1653: 96153, -1652: 96154, -1651: 96155}\n"
     ]
    },
    {
     "name": "stderr",
     "output_type": "stream",
     "text": [
      " 42%|████▏     | 161/386 [14:22<20:18,  5.41s/it]"
     ]
    },
    {
     "name": "stdout",
     "output_type": "stream",
     "text": [
      "162\n",
      "2025-01-05 16:05:45,055 INFO Started executing jobs locally\n",
      "2025-01-05 16:05:45,067 INFO Starting job - Scf calculation (f149009c-f116-478f-946a-8f2b1cd2367e)\n",
      "job is running... let's kill it...\n",
      "2025-01-05 16:05:50,578 INFO Added a workflow. id_map: {-1672: 96156, -1671: 96157, -1670: 96158, -1669: 96159, -1668: 96160, -1667: 96161, -1666: 96162, -1665: 96163, -1664: 96164, -1663: 96165, -1662: 96166}\n"
     ]
    },
    {
     "name": "stderr",
     "output_type": "stream",
     "text": [
      " 42%|████▏     | 162/386 [14:27<20:30,  5.49s/it]"
     ]
    },
    {
     "name": "stdout",
     "output_type": "stream",
     "text": [
      "163\n",
      "2025-01-05 16:05:50,739 INFO Started executing jobs locally\n",
      "2025-01-05 16:05:50,748 INFO Starting job - Scf calculation (31c14e8f-c82f-44c1-8399-288029d1f83c)\n",
      "job is running... let's kill it...\n",
      "2025-01-05 16:05:56,231 INFO Added a workflow. id_map: {-1683: 96167, -1682: 96168, -1681: 96169, -1680: 96170, -1679: 96171, -1678: 96172, -1677: 96173, -1676: 96174, -1675: 96175, -1674: 96176, -1673: 96177}\n"
     ]
    },
    {
     "name": "stderr",
     "output_type": "stream",
     "text": [
      " 42%|████▏     | 163/386 [14:33<20:35,  5.54s/it]"
     ]
    },
    {
     "name": "stdout",
     "output_type": "stream",
     "text": [
      "164\n",
      "2025-01-05 16:05:56,402 INFO Started executing jobs locally\n",
      "2025-01-05 16:05:56,414 INFO Starting job - Scf calculation (824d3345-d7a2-4ec5-9d89-2d0289470075)\n",
      "chksymbreak triggered\n"
     ]
    },
    {
     "name": "stderr",
     "output_type": "stream",
     "text": [
      " 42%|████▏     | 164/386 [14:33<14:56,  4.04s/it]"
     ]
    },
    {
     "name": "stdout",
     "output_type": "stream",
     "text": [
      "165\n",
      "2025-01-05 16:05:56,856 INFO Started executing jobs locally\n",
      "2025-01-05 16:05:56,869 INFO Starting job - Scf calculation (0ff40bac-ea7e-4e19-aed2-804fe0289ff2)\n",
      "job is running... let's kill it...\n",
      "2025-01-05 16:06:02,353 INFO Added a workflow. id_map: {-1694: 96178, -1693: 96179, -1692: 96180, -1691: 96181, -1690: 96182, -1689: 96183, -1688: 96184, -1687: 96185, -1686: 96186, -1685: 96187, -1684: 96188}\n"
     ]
    },
    {
     "name": "stderr",
     "output_type": "stream",
     "text": [
      " 43%|████▎     | 165/386 [14:39<16:40,  4.53s/it]"
     ]
    },
    {
     "name": "stdout",
     "output_type": "stream",
     "text": [
      "166\n",
      "2025-01-05 16:06:02,516 INFO Started executing jobs locally\n",
      "2025-01-05 16:06:02,525 INFO Starting job - Scf calculation (ece656b4-5e74-42a2-8f16-f42857645683)\n",
      "job is running... let's kill it...\n",
      "2025-01-05 16:06:08,026 INFO Added a workflow. id_map: {-1705: 96189, -1704: 96190, -1703: 96191, -1702: 96192, -1701: 96193, -1700: 96194, -1699: 96195, -1698: 96196, -1697: 96197, -1696: 96198, -1695: 96199}\n"
     ]
    },
    {
     "name": "stderr",
     "output_type": "stream",
     "text": [
      " 43%|████▎     | 166/386 [14:45<17:50,  4.86s/it]"
     ]
    },
    {
     "name": "stdout",
     "output_type": "stream",
     "text": [
      "167\n",
      "2025-01-05 16:06:08,196 INFO Started executing jobs locally\n",
      "2025-01-05 16:06:08,205 INFO Starting job - Scf calculation (7934dc78-3824-40ec-9aab-44b92ee60734)\n",
      "job is running... let's kill it...\n",
      "2025-01-05 16:06:13,698 INFO Added a workflow. id_map: {-1716: 96200, -1715: 96201, -1714: 96202, -1713: 96203, -1712: 96204, -1711: 96205, -1710: 96206, -1709: 96207, -1708: 96208, -1707: 96209, -1706: 96210}\n"
     ]
    },
    {
     "name": "stderr",
     "output_type": "stream",
     "text": [
      " 43%|████▎     | 167/386 [14:50<18:38,  5.11s/it]"
     ]
    },
    {
     "name": "stdout",
     "output_type": "stream",
     "text": [
      "168\n",
      "Uneven number of valence electrons. Let's skip this structure\n",
      "169\n",
      "2025-01-05 16:06:13,873 INFO Started executing jobs locally\n",
      "2025-01-05 16:06:13,882 INFO Starting job - Scf calculation (2f3e245a-ead7-4822-93da-e4b06dc5c4f4)\n",
      "job is running... let's kill it...\n",
      "2025-01-05 16:06:19,366 INFO Added a workflow. id_map: {-1727: 96211, -1726: 96212, -1725: 96213, -1724: 96214, -1723: 96215, -1722: 96216, -1721: 96217, -1720: 96218, -1719: 96219, -1718: 96220, -1717: 96221}\n"
     ]
    },
    {
     "name": "stderr",
     "output_type": "stream",
     "text": [
      " 44%|████▍     | 169/386 [14:56<14:41,  4.06s/it]"
     ]
    },
    {
     "name": "stdout",
     "output_type": "stream",
     "text": [
      "170\n",
      "2025-01-05 16:06:19,533 INFO Started executing jobs locally\n",
      "2025-01-05 16:06:19,543 INFO Starting job - Scf calculation (478db167-f560-4f45-ac45-44bdc81fa68f)\n",
      "job is running... let's kill it...\n",
      "2025-01-05 16:06:25,092 INFO Added a workflow. id_map: {-1738: 96222, -1737: 96223, -1736: 96224, -1735: 96225, -1734: 96226, -1733: 96227, -1732: 96228, -1731: 96229, -1730: 96230, -1729: 96231, -1728: 96232}\n"
     ]
    },
    {
     "name": "stderr",
     "output_type": "stream",
     "text": [
      " 44%|████▍     | 170/386 [15:02<16:06,  4.47s/it]"
     ]
    },
    {
     "name": "stdout",
     "output_type": "stream",
     "text": [
      "171\n",
      "2025-01-05 16:06:25,253 INFO Started executing jobs locally\n",
      "2025-01-05 16:06:25,266 INFO Starting job - Scf calculation (0a152de8-0619-4757-93b6-998acb2dfe22)\n",
      "job is running... let's kill it...\n",
      "2025-01-05 16:06:30,791 INFO Added a workflow. id_map: {-1749: 96233, -1748: 96234, -1747: 96235, -1746: 96236, -1745: 96237, -1744: 96238, -1743: 96239, -1742: 96240, -1741: 96241, -1740: 96242, -1739: 96243}\n"
     ]
    },
    {
     "name": "stderr",
     "output_type": "stream",
     "text": [
      " 44%|████▍     | 171/386 [15:08<17:10,  4.79s/it]"
     ]
    },
    {
     "name": "stdout",
     "output_type": "stream",
     "text": [
      "172\n",
      "2025-01-05 16:06:30,966 INFO Started executing jobs locally\n",
      "2025-01-05 16:06:30,979 INFO Starting job - Scf calculation (2c5e83d9-ff96-41cd-8c12-146eb48a6dd6)\n",
      "job is running... let's kill it...\n",
      "2025-01-05 16:06:36,459 INFO Added a workflow. id_map: {-1760: 96244, -1759: 96245, -1758: 96246, -1757: 96247, -1756: 96248, -1755: 96249, -1754: 96250, -1753: 96251, -1752: 96252, -1751: 96253, -1750: 96254}\n"
     ]
    },
    {
     "name": "stderr",
     "output_type": "stream",
     "text": [
      " 45%|████▍     | 172/386 [15:13<17:57,  5.04s/it]"
     ]
    },
    {
     "name": "stdout",
     "output_type": "stream",
     "text": [
      "173\n",
      "2025-01-05 16:06:36,648 INFO Started executing jobs locally\n",
      "2025-01-05 16:06:36,656 INFO Starting job - Scf calculation (fa71d53f-d110-4f1e-8e6c-45e31840544b)\n",
      "job is running... let's kill it...\n",
      "2025-01-05 16:06:42,142 INFO Added a workflow. id_map: {-1771: 96255, -1770: 96256, -1769: 96257, -1768: 96258, -1767: 96259, -1766: 96260, -1765: 96261, -1764: 96262, -1763: 96263, -1762: 96264, -1761: 96265}\n"
     ]
    },
    {
     "name": "stderr",
     "output_type": "stream",
     "text": [
      " 45%|████▍     | 173/386 [15:19<18:31,  5.22s/it]"
     ]
    },
    {
     "name": "stdout",
     "output_type": "stream",
     "text": [
      "174\n",
      "2025-01-05 16:06:42,332 INFO Started executing jobs locally\n",
      "2025-01-05 16:06:42,343 INFO Starting job - Scf calculation (d88f2d61-c9ae-4d63-8a65-4ea6a4890325)\n",
      "job is running... let's kill it...\n",
      "2025-01-05 16:06:47,839 INFO Added a workflow. id_map: {-1782: 96266, -1781: 96267, -1780: 96268, -1779: 96269, -1778: 96270, -1777: 96271, -1776: 96272, -1775: 96273, -1774: 96274, -1773: 96275, -1772: 96276}\n"
     ]
    },
    {
     "name": "stderr",
     "output_type": "stream",
     "text": [
      " 45%|████▌     | 174/386 [15:25<18:54,  5.35s/it]"
     ]
    },
    {
     "name": "stdout",
     "output_type": "stream",
     "text": [
      "175\n",
      "2025-01-05 16:06:48,014 INFO Started executing jobs locally\n",
      "2025-01-05 16:06:48,025 INFO Starting job - Scf calculation (e7e42b0d-4650-4161-b123-7aa361384fff)\n",
      "job is running... let's kill it...\n",
      "2025-01-05 16:06:53,513 INFO Added a workflow. id_map: {-1793: 96277, -1792: 96278, -1791: 96279, -1790: 96280, -1789: 96281, -1788: 96282, -1787: 96283, -1786: 96284, -1785: 96285, -1784: 96286, -1783: 96287}\n"
     ]
    },
    {
     "name": "stderr",
     "output_type": "stream",
     "text": [
      " 45%|████▌     | 175/386 [15:30<19:08,  5.44s/it]"
     ]
    },
    {
     "name": "stdout",
     "output_type": "stream",
     "text": [
      "176\n",
      "2025-01-05 16:06:53,682 INFO Started executing jobs locally\n",
      "2025-01-05 16:06:53,694 INFO Starting job - Scf calculation (a8040717-46f7-4796-999d-98892e0c3e07)\n",
      "job is running... let's kill it...\n",
      "2025-01-05 16:06:59,189 INFO Added a workflow. id_map: {-1804: 96288, -1803: 96289, -1802: 96290, -1801: 96291, -1800: 96292, -1799: 96293, -1798: 96294, -1797: 96295, -1796: 96296, -1795: 96297, -1794: 96298}\n"
     ]
    },
    {
     "name": "stderr",
     "output_type": "stream",
     "text": [
      " 46%|████▌     | 176/386 [15:36<19:17,  5.51s/it]"
     ]
    },
    {
     "name": "stdout",
     "output_type": "stream",
     "text": [
      "177\n",
      "2025-01-05 16:06:59,355 INFO Started executing jobs locally\n",
      "2025-01-05 16:06:59,364 INFO Starting job - Scf calculation (e4971a34-a6cc-459c-8fda-e207c8b2323a)\n",
      "job is running... let's kill it...\n",
      "2025-01-05 16:07:04,884 INFO Added a workflow. id_map: {-1815: 96299, -1814: 96300, -1813: 96301, -1812: 96302, -1811: 96303, -1810: 96304, -1809: 96305, -1808: 96306, -1807: 96307, -1806: 96308, -1805: 96309}\n"
     ]
    },
    {
     "name": "stderr",
     "output_type": "stream",
     "text": [
      " 46%|████▌     | 177/386 [15:42<19:22,  5.56s/it]"
     ]
    },
    {
     "name": "stdout",
     "output_type": "stream",
     "text": [
      "178\n",
      "2025-01-05 16:07:05,066 INFO Started executing jobs locally\n",
      "2025-01-05 16:07:05,078 INFO Starting job - Scf calculation (575c775e-01bb-42f5-b39a-1c3ad8d44c31)\n",
      "job is running... let's kill it...\n",
      "2025-01-05 16:07:10,584 INFO Added a workflow. id_map: {-1826: 96310, -1825: 96311, -1824: 96312, -1823: 96313, -1822: 96314, -1821: 96315, -1820: 96316, -1819: 96317, -1818: 96318, -1817: 96319, -1816: 96320}\n"
     ]
    },
    {
     "name": "stderr",
     "output_type": "stream",
     "text": [
      " 46%|████▌     | 178/386 [15:47<19:25,  5.60s/it]"
     ]
    },
    {
     "name": "stdout",
     "output_type": "stream",
     "text": [
      "179\n",
      "2025-01-05 16:07:10,749 INFO Started executing jobs locally\n",
      "2025-01-05 16:07:10,761 INFO Starting job - Scf calculation (0f17800a-4f39-4e7a-a7e4-4b8582d4069e)\n",
      "job is running... let's kill it...\n",
      "2025-01-05 16:07:16,246 INFO Added a workflow. id_map: {-1837: 96321, -1836: 96322, -1835: 96323, -1834: 96324, -1833: 96325, -1832: 96326, -1831: 96327, -1830: 96328, -1829: 96329, -1828: 96330, -1827: 96331}\n"
     ]
    },
    {
     "name": "stderr",
     "output_type": "stream",
     "text": [
      " 46%|████▋     | 179/386 [15:53<19:23,  5.62s/it]"
     ]
    },
    {
     "name": "stdout",
     "output_type": "stream",
     "text": [
      "180\n",
      "2025-01-05 16:07:16,411 INFO Started executing jobs locally\n",
      "2025-01-05 16:07:16,422 INFO Starting job - Scf calculation (12463127-ad3e-41bb-a0df-7b24cef68dff)\n",
      "job is running... let's kill it...\n",
      "2025-01-05 16:07:21,904 INFO Added a workflow. id_map: {-1848: 96332, -1847: 96333, -1846: 96334, -1845: 96335, -1844: 96336, -1843: 96337, -1842: 96338, -1841: 96339, -1840: 96340, -1839: 96341, -1838: 96342}\n"
     ]
    },
    {
     "name": "stderr",
     "output_type": "stream",
     "text": [
      " 47%|████▋     | 180/386 [15:59<19:21,  5.64s/it]"
     ]
    },
    {
     "name": "stdout",
     "output_type": "stream",
     "text": [
      "181\n",
      "2025-01-05 16:07:22,089 INFO Started executing jobs locally\n",
      "2025-01-05 16:07:22,098 INFO Starting job - Scf calculation (1ef500a1-2a11-418e-be3d-a4b5fc3e869b)\n",
      "job is running... let's kill it...\n",
      "2025-01-05 16:07:27,592 INFO Added a workflow. id_map: {-1859: 96343, -1858: 96344, -1857: 96345, -1856: 96346, -1855: 96347, -1854: 96348, -1853: 96349, -1852: 96350, -1851: 96351, -1850: 96352, -1849: 96353}\n"
     ]
    },
    {
     "name": "stderr",
     "output_type": "stream",
     "text": [
      " 47%|████▋     | 181/386 [16:04<19:18,  5.65s/it]"
     ]
    },
    {
     "name": "stdout",
     "output_type": "stream",
     "text": [
      "182\n",
      "Uneven number of valence electrons. Let's skip this structure\n",
      "183\n",
      "2025-01-05 16:07:27,780 INFO Started executing jobs locally\n",
      "2025-01-05 16:07:27,792 INFO Starting job - Scf calculation (acfc5e47-2388-4989-a34e-0f1b985d04ee)\n",
      "job is running... let's kill it...\n",
      "2025-01-05 16:07:33,277 INFO Added a workflow. id_map: {-1870: 96354, -1869: 96355, -1868: 96356, -1867: 96357, -1866: 96358, -1865: 96359, -1864: 96360, -1863: 96361, -1862: 96362, -1861: 96363, -1860: 96364}\n"
     ]
    },
    {
     "name": "stderr",
     "output_type": "stream",
     "text": [
      " 47%|████▋     | 183/386 [16:10<14:44,  4.36s/it]"
     ]
    },
    {
     "name": "stdout",
     "output_type": "stream",
     "text": [
      "184\n",
      "2025-01-05 16:07:33,450 INFO Started executing jobs locally\n",
      "2025-01-05 16:07:33,461 INFO Starting job - Scf calculation (16a44c13-65de-417b-b6b7-a630890b62b1)\n",
      "job is running... let's kill it...\n",
      "2025-01-05 16:07:38,958 INFO Added a workflow. id_map: {-1881: 96365, -1880: 96366, -1879: 96367, -1878: 96368, -1877: 96369, -1876: 96370, -1875: 96371, -1874: 96372, -1873: 96373, -1872: 96374, -1871: 96375}\n"
     ]
    },
    {
     "name": "stderr",
     "output_type": "stream",
     "text": [
      " 48%|████▊     | 184/386 [16:16<15:46,  4.69s/it]"
     ]
    },
    {
     "name": "stdout",
     "output_type": "stream",
     "text": [
      "185\n",
      "2025-01-05 16:07:39,156 INFO Started executing jobs locally\n",
      "2025-01-05 16:07:39,165 INFO Starting job - Scf calculation (894aa64b-18a7-4931-b57e-44c0d1ec493b)\n",
      "job is running... let's kill it...\n",
      "2025-01-05 16:07:44,656 INFO Added a workflow. id_map: {-1892: 96376, -1891: 96377, -1890: 96378, -1889: 96379, -1888: 96380, -1887: 96381, -1886: 96382, -1885: 96383, -1884: 96384, -1883: 96385, -1882: 96386}\n"
     ]
    },
    {
     "name": "stderr",
     "output_type": "stream",
     "text": [
      " 48%|████▊     | 185/386 [16:21<16:34,  4.95s/it]"
     ]
    },
    {
     "name": "stdout",
     "output_type": "stream",
     "text": [
      "186\n",
      "2025-01-05 16:07:44,844 INFO Started executing jobs locally\n",
      "2025-01-05 16:07:44,854 INFO Starting job - Scf calculation (55b7ec57-24d6-4e2b-8348-7809e450cfa2)\n",
      "job is running... let's kill it...\n",
      "2025-01-05 16:07:50,362 INFO Added a workflow. id_map: {-1903: 96387, -1902: 96388, -1901: 96389, -1900: 96390, -1899: 96391, -1898: 96392, -1897: 96393, -1896: 96394, -1895: 96395, -1894: 96396, -1893: 96397}\n"
     ]
    },
    {
     "name": "stderr",
     "output_type": "stream",
     "text": [
      " 48%|████▊     | 186/386 [16:27<17:11,  5.16s/it]"
     ]
    },
    {
     "name": "stdout",
     "output_type": "stream",
     "text": [
      "187\n",
      "2025-01-05 16:07:50,557 INFO Started executing jobs locally\n",
      "2025-01-05 16:07:50,570 INFO Starting job - Scf calculation (3f057f8b-d765-4672-94e0-5fd16d9b69b6)\n",
      "chksymbreak triggered\n"
     ]
    },
    {
     "name": "stderr",
     "output_type": "stream",
     "text": [
      " 48%|████▊     | 187/386 [16:27<12:38,  3.81s/it]"
     ]
    },
    {
     "name": "stdout",
     "output_type": "stream",
     "text": [
      "188\n",
      "2025-01-05 16:07:50,915 INFO Started executing jobs locally\n",
      "2025-01-05 16:07:50,926 INFO Starting job - Scf calculation (d9e3f02e-d297-4832-8bad-7f015a2f29c6)\n",
      "chksymbreak triggered\n"
     ]
    },
    {
     "name": "stderr",
     "output_type": "stream",
     "text": [
      " 49%|████▊     | 188/386 [16:28<09:24,  2.85s/it]"
     ]
    },
    {
     "name": "stdout",
     "output_type": "stream",
     "text": [
      "189\n",
      "2025-01-05 16:07:51,342 INFO Started executing jobs locally\n",
      "2025-01-05 16:07:51,352 INFO Starting job - Scf calculation (78d2d80d-6ffd-4f61-8f4a-c86f804d2545)\n",
      "job is running... let's kill it...\n",
      "2025-01-05 16:07:56,848 INFO Added a workflow. id_map: {-1914: 96398, -1913: 96399, -1912: 96400, -1911: 96401, -1910: 96402, -1909: 96403, -1908: 96404, -1907: 96405, -1906: 96406, -1905: 96407, -1904: 96408}\n"
     ]
    },
    {
     "name": "stderr",
     "output_type": "stream",
     "text": [
      " 49%|████▉     | 189/386 [16:34<12:02,  3.67s/it]"
     ]
    },
    {
     "name": "stdout",
     "output_type": "stream",
     "text": [
      "190\n",
      "2025-01-05 16:07:57,015 INFO Started executing jobs locally\n",
      "2025-01-05 16:07:57,025 INFO Starting job - Scf calculation (cc7f2c22-f88b-4901-92f9-ab5fc2ad8bdd)\n",
      "job is running... let's kill it...\n",
      "2025-01-05 16:08:02,513 INFO Added a workflow. id_map: {-1925: 96409, -1924: 96410, -1923: 96411, -1922: 96412, -1921: 96413, -1920: 96414, -1919: 96415, -1918: 96416, -1917: 96417, -1916: 96418, -1915: 96419}\n"
     ]
    },
    {
     "name": "stderr",
     "output_type": "stream",
     "text": [
      " 49%|████▉     | 190/386 [16:39<13:54,  4.26s/it]"
     ]
    },
    {
     "name": "stdout",
     "output_type": "stream",
     "text": [
      "191\n",
      "2025-01-05 16:08:02,702 INFO Started executing jobs locally\n",
      "2025-01-05 16:08:02,717 INFO Starting job - Scf calculation (26762c74-317c-4c68-be4e-b1feb51d4190)\n",
      "job is running... let's kill it...\n",
      "2025-01-05 16:08:08,205 INFO Added a workflow. id_map: {-1936: 96420, -1935: 96421, -1934: 96422, -1933: 96423, -1932: 96424, -1931: 96425, -1930: 96426, -1929: 96427, -1928: 96428, -1927: 96429, -1926: 96430}\n"
     ]
    },
    {
     "name": "stderr",
     "output_type": "stream",
     "text": [
      " 49%|████▉     | 191/386 [16:45<15:13,  4.68s/it]"
     ]
    },
    {
     "name": "stdout",
     "output_type": "stream",
     "text": [
      "192\n",
      "2025-01-05 16:08:08,392 INFO Started executing jobs locally\n",
      "2025-01-05 16:08:08,403 INFO Starting job - Scf calculation (33ec68e7-395b-4d80-b104-518d4b9dc704)\n",
      "chksymbreak triggered\n"
     ]
    },
    {
     "name": "stderr",
     "output_type": "stream",
     "text": [
      " 50%|████▉     | 192/386 [16:45<10:57,  3.39s/it]"
     ]
    },
    {
     "name": "stdout",
     "output_type": "stream",
     "text": [
      "193\n",
      "2025-01-05 16:08:08,705 INFO Started executing jobs locally\n",
      "2025-01-05 16:08:08,716 INFO Starting job - Scf calculation (6b1453a8-7f21-40fb-b707-d9b2a2f893e9)\n",
      "job is running... let's kill it...\n",
      "2025-01-05 16:08:14,203 INFO Added a workflow. id_map: {-1947: 96431, -1946: 96432, -1945: 96433, -1944: 96434, -1943: 96435, -1942: 96436, -1941: 96437, -1940: 96438, -1939: 96439, -1938: 96440, -1937: 96441}\n"
     ]
    },
    {
     "name": "stderr",
     "output_type": "stream",
     "text": [
      " 50%|█████     | 193/386 [16:51<13:05,  4.07s/it]"
     ]
    },
    {
     "name": "stdout",
     "output_type": "stream",
     "text": [
      "194\n",
      "2025-01-05 16:08:14,375 INFO Started executing jobs locally\n",
      "2025-01-05 16:08:14,383 INFO Starting job - Scf calculation (bb373607-38a1-443a-b6a5-edd897b7a6f5)\n",
      "job is running... let's kill it...\n",
      "2025-01-05 16:08:19,881 INFO Added a workflow. id_map: {-1958: 96442, -1957: 96443, -1956: 96444, -1955: 96445, -1954: 96446, -1953: 96447, -1952: 96448, -1951: 96449, -1950: 96450, -1949: 96451, -1948: 96452}\n"
     ]
    },
    {
     "name": "stderr",
     "output_type": "stream",
     "text": [
      " 50%|█████     | 194/386 [16:57<14:32,  4.55s/it]"
     ]
    },
    {
     "name": "stdout",
     "output_type": "stream",
     "text": [
      "195\n",
      "2025-01-05 16:08:20,049 INFO Started executing jobs locally\n",
      "2025-01-05 16:08:20,060 INFO Starting job - Scf calculation (9895e1ef-d1fe-4445-b568-f9f98eaa0428)\n",
      "job is running... let's kill it...\n",
      "2025-01-05 16:08:25,593 INFO Added a workflow. id_map: {-1969: 96453, -1968: 96454, -1967: 96455, -1966: 96456, -1965: 96457, -1964: 96458, -1963: 96459, -1962: 96460, -1961: 96461, -1960: 96462, -1959: 96463}\n"
     ]
    },
    {
     "name": "stderr",
     "output_type": "stream",
     "text": [
      " 51%|█████     | 195/386 [17:02<15:34,  4.89s/it]"
     ]
    },
    {
     "name": "stdout",
     "output_type": "stream",
     "text": [
      "196\n",
      "2025-01-05 16:08:25,753 INFO Started executing jobs locally\n",
      "2025-01-05 16:08:25,768 INFO Starting job - Scf calculation (e1dc285b-5304-4c84-917d-bdacc3c4b1f6)\n",
      "job is running... let's kill it...\n",
      "2025-01-05 16:08:31,273 INFO Added a workflow. id_map: {-1980: 96464, -1979: 96465, -1978: 96466, -1977: 96467, -1976: 96468, -1975: 96469, -1974: 96470, -1973: 96471, -1972: 96472, -1971: 96473, -1970: 96474}\n"
     ]
    },
    {
     "name": "stderr",
     "output_type": "stream",
     "text": [
      " 51%|█████     | 196/386 [17:08<16:14,  5.13s/it]"
     ]
    },
    {
     "name": "stdout",
     "output_type": "stream",
     "text": [
      "197\n",
      "2025-01-05 16:08:31,437 INFO Started executing jobs locally\n",
      "2025-01-05 16:08:31,450 INFO Starting job - Scf calculation (974221c1-2d64-40d6-add5-6fdfc1ff8383)\n",
      "job is running... let's kill it...\n",
      "2025-01-05 16:08:36,946 INFO Added a workflow. id_map: {-1991: 96475, -1990: 96476, -1989: 96477, -1988: 96478, -1987: 96479, -1986: 96480, -1985: 96481, -1984: 96482, -1983: 96483, -1982: 96484, -1981: 96485}\n"
     ]
    },
    {
     "name": "stderr",
     "output_type": "stream",
     "text": [
      " 51%|█████     | 197/386 [17:14<16:40,  5.29s/it]"
     ]
    },
    {
     "name": "stdout",
     "output_type": "stream",
     "text": [
      "198\n",
      "2025-01-05 16:08:37,105 INFO Started executing jobs locally\n",
      "2025-01-05 16:08:37,119 INFO Starting job - Scf calculation (919bb228-86fd-4955-93ff-4ebd920585e8)\n",
      "job is running... let's kill it...\n",
      "2025-01-05 16:08:42,608 INFO Added a workflow. id_map: {-2002: 96486, -2001: 96487, -2000: 96488, -1999: 96489, -1998: 96490, -1997: 96491, -1996: 96492, -1995: 96493, -1994: 96494, -1993: 96495, -1992: 96496}\n"
     ]
    },
    {
     "name": "stderr",
     "output_type": "stream",
     "text": [
      " 51%|█████▏    | 198/386 [17:19<16:56,  5.41s/it]"
     ]
    },
    {
     "name": "stdout",
     "output_type": "stream",
     "text": [
      "199\n",
      "2025-01-05 16:08:42,788 INFO Started executing jobs locally\n",
      "2025-01-05 16:08:42,797 INFO Starting job - Scf calculation (6128bdd7-9fe0-4bcf-b65f-02c73a715293)\n",
      "job is running... let's kill it...\n",
      "2025-01-05 16:08:48,286 INFO Added a workflow. id_map: {-2013: 96497, -2012: 96498, -2011: 96499, -2010: 96500, -2009: 96501, -2008: 96502, -2007: 96503, -2006: 96504, -2005: 96505, -2004: 96506, -2003: 96507}\n"
     ]
    },
    {
     "name": "stderr",
     "output_type": "stream",
     "text": [
      " 52%|█████▏    | 199/386 [17:25<17:05,  5.48s/it]"
     ]
    },
    {
     "name": "stdout",
     "output_type": "stream",
     "text": [
      "200\n",
      "2025-01-05 16:08:48,450 INFO Started executing jobs locally\n",
      "2025-01-05 16:08:48,462 INFO Starting job - Scf calculation (2fc37e6b-8eb3-4f67-ba72-150ea38a9958)\n",
      "job is running... let's kill it...\n",
      "2025-01-05 16:08:53,947 INFO Added a workflow. id_map: {-2024: 96508, -2023: 96509, -2022: 96510, -2021: 96511, -2020: 96512, -2019: 96513, -2018: 96514, -2017: 96515, -2016: 96516, -2015: 96517, -2014: 96518}\n"
     ]
    },
    {
     "name": "stderr",
     "output_type": "stream",
     "text": [
      " 52%|█████▏    | 200/386 [17:31<17:09,  5.54s/it]"
     ]
    },
    {
     "name": "stdout",
     "output_type": "stream",
     "text": [
      "201\n",
      "2025-01-05 16:08:54,103 INFO Started executing jobs locally\n",
      "2025-01-05 16:08:54,113 INFO Starting job - Scf calculation (87a12ba7-0278-4f2f-84db-bebfb594d2ba)\n",
      "job is running... let's kill it...\n",
      "2025-01-05 16:08:59,611 INFO Added a workflow. id_map: {-2035: 96519, -2034: 96520, -2033: 96521, -2032: 96522, -2031: 96523, -2030: 96524, -2029: 96525, -2028: 96526, -2027: 96527, -2026: 96528, -2025: 96529}\n"
     ]
    },
    {
     "name": "stderr",
     "output_type": "stream",
     "text": [
      " 52%|█████▏    | 201/386 [17:36<17:11,  5.57s/it]"
     ]
    },
    {
     "name": "stdout",
     "output_type": "stream",
     "text": [
      "202\n",
      "2025-01-05 16:08:59,765 INFO Started executing jobs locally\n",
      "2025-01-05 16:08:59,775 INFO Starting job - Scf calculation (f038c8dd-27d4-4b76-8fa5-70b0ab9b25b4)\n",
      "job is running... let's kill it...\n",
      "2025-01-05 16:09:05,293 INFO Added a workflow. id_map: {-2046: 96530, -2045: 96531, -2044: 96532, -2043: 96533, -2042: 96534, -2041: 96535, -2040: 96536, -2039: 96537, -2038: 96538, -2037: 96539, -2036: 96540}\n"
     ]
    },
    {
     "name": "stderr",
     "output_type": "stream",
     "text": [
      " 52%|█████▏    | 202/386 [17:42<17:11,  5.61s/it]"
     ]
    },
    {
     "name": "stdout",
     "output_type": "stream",
     "text": [
      "203\n",
      "2025-01-05 16:09:05,458 INFO Started executing jobs locally\n",
      "2025-01-05 16:09:05,467 INFO Starting job - Scf calculation (27d82c26-11c0-4def-bedb-e5eff7f2f590)\n",
      "job is running... let's kill it...\n",
      "2025-01-05 16:09:11,013 INFO Added a workflow. id_map: {-2057: 96541, -2056: 96542, -2055: 96543, -2054: 96544, -2053: 96545, -2052: 96546, -2051: 96547, -2050: 96548, -2049: 96549, -2048: 96550, -2047: 96551}\n"
     ]
    },
    {
     "name": "stderr",
     "output_type": "stream",
     "text": [
      " 53%|█████▎    | 203/386 [17:48<17:12,  5.64s/it]"
     ]
    },
    {
     "name": "stdout",
     "output_type": "stream",
     "text": [
      "204\n",
      "2025-01-05 16:09:11,185 INFO Started executing jobs locally\n",
      "2025-01-05 16:09:11,198 INFO Starting job - Scf calculation (57f23298-21fc-4108-b314-0a58793cc3b3)\n",
      "job is running... let's kill it...\n",
      "2025-01-05 16:09:16,670 INFO Added a workflow. id_map: {-2068: 96552, -2067: 96553, -2066: 96554, -2065: 96555, -2064: 96556, -2063: 96557, -2062: 96558, -2061: 96559, -2060: 96560, -2059: 96561, -2058: 96562}\n"
     ]
    },
    {
     "name": "stderr",
     "output_type": "stream",
     "text": [
      " 53%|█████▎    | 204/386 [17:53<17:08,  5.65s/it]"
     ]
    },
    {
     "name": "stdout",
     "output_type": "stream",
     "text": [
      "205\n",
      "2025-01-05 16:09:16,863 INFO Started executing jobs locally\n",
      "2025-01-05 16:09:16,874 INFO Starting job - Scf calculation (c701ac38-0081-495c-b619-7ab9dc43a4de)\n",
      "job is running... let's kill it...\n",
      "2025-01-05 16:09:22,383 INFO Added a workflow. id_map: {-2079: 96563, -2078: 96564, -2077: 96565, -2076: 96566, -2075: 96567, -2074: 96568, -2073: 96569, -2072: 96570, -2071: 96571, -2070: 96572, -2069: 96573}\n"
     ]
    },
    {
     "name": "stderr",
     "output_type": "stream",
     "text": [
      " 53%|█████▎    | 205/386 [17:59<17:05,  5.67s/it]"
     ]
    },
    {
     "name": "stdout",
     "output_type": "stream",
     "text": [
      "206\n",
      "2025-01-05 16:09:22,555 INFO Started executing jobs locally\n",
      "2025-01-05 16:09:22,569 INFO Starting job - Scf calculation (5bc400f9-0b2b-40cc-bf2f-faf1232c676e)\n",
      "job is running... let's kill it...\n",
      "2025-01-05 16:09:28,053 INFO Added a workflow. id_map: {-2090: 96574, -2089: 96575, -2088: 96576, -2087: 96577, -2086: 96578, -2085: 96579, -2084: 96580, -2083: 96581, -2082: 96582, -2081: 96583, -2080: 96584}\n"
     ]
    },
    {
     "name": "stderr",
     "output_type": "stream",
     "text": [
      " 53%|█████▎    | 206/386 [18:05<17:00,  5.67s/it]"
     ]
    },
    {
     "name": "stdout",
     "output_type": "stream",
     "text": [
      "207\n",
      "2025-01-05 16:09:28,239 INFO Started executing jobs locally\n",
      "2025-01-05 16:09:28,247 INFO Starting job - Scf calculation (3dfb355b-0859-464f-8ca1-e16f739004eb)\n",
      "job is running... let's kill it...\n",
      "2025-01-05 16:09:33,751 INFO Added a workflow. id_map: {-2101: 96585, -2100: 96586, -2099: 96587, -2098: 96588, -2097: 96589, -2096: 96590, -2095: 96591, -2094: 96592, -2093: 96593, -2092: 96594, -2091: 96595}\n"
     ]
    },
    {
     "name": "stderr",
     "output_type": "stream",
     "text": [
      " 54%|█████▎    | 207/386 [18:11<16:56,  5.68s/it]"
     ]
    },
    {
     "name": "stdout",
     "output_type": "stream",
     "text": [
      "208\n",
      "2025-01-05 16:09:33,924 INFO Started executing jobs locally\n",
      "2025-01-05 16:09:33,935 INFO Starting job - Scf calculation (03493d03-4f5b-43f4-863a-22c3657c028a)\n",
      "job is running... let's kill it...\n",
      "2025-01-05 16:09:39,426 INFO Added a workflow. id_map: {-2112: 96596, -2111: 96597, -2110: 96598, -2109: 96599, -2108: 96600, -2107: 96601, -2106: 96602, -2105: 96603, -2104: 96604, -2103: 96605, -2102: 96606}\n"
     ]
    },
    {
     "name": "stderr",
     "output_type": "stream",
     "text": [
      " 54%|█████▍    | 208/386 [18:16<16:51,  5.68s/it]"
     ]
    },
    {
     "name": "stdout",
     "output_type": "stream",
     "text": [
      "209\n",
      "2025-01-05 16:09:39,611 INFO Started executing jobs locally\n",
      "2025-01-05 16:09:39,621 INFO Starting job - Scf calculation (77c9d341-49fd-41fb-a4af-da4adbf9fa87)\n",
      "job is running... let's kill it...\n",
      "2025-01-05 16:09:45,112 INFO Added a workflow. id_map: {-2123: 96607, -2122: 96608, -2121: 96609, -2120: 96610, -2119: 96611, -2118: 96612, -2117: 96613, -2116: 96614, -2115: 96615, -2114: 96616, -2113: 96617}\n"
     ]
    },
    {
     "name": "stderr",
     "output_type": "stream",
     "text": [
      " 54%|█████▍    | 209/386 [18:22<16:44,  5.68s/it]"
     ]
    },
    {
     "name": "stdout",
     "output_type": "stream",
     "text": [
      "210\n",
      "2025-01-05 16:09:45,321 INFO Started executing jobs locally\n",
      "2025-01-05 16:09:45,334 INFO Starting job - Scf calculation (5a839caa-2192-4f2c-b56a-2f1b2e4eac91)\n",
      "job is running... let's kill it...\n",
      "2025-01-05 16:09:50,864 INFO Added a workflow. id_map: {-2134: 96618, -2133: 96619, -2132: 96620, -2131: 96621, -2130: 96622, -2129: 96623, -2128: 96624, -2127: 96625, -2126: 96626, -2125: 96627, -2124: 96628}\n"
     ]
    },
    {
     "name": "stderr",
     "output_type": "stream",
     "text": [
      " 54%|█████▍    | 210/386 [18:28<16:43,  5.70s/it]"
     ]
    },
    {
     "name": "stdout",
     "output_type": "stream",
     "text": [
      "211\n",
      "2025-01-05 16:09:51,056 INFO Started executing jobs locally\n",
      "2025-01-05 16:09:51,071 INFO Starting job - Scf calculation (8070aaaa-a2aa-468b-9be7-db740368b708)\n",
      "job is running... let's kill it...\n",
      "2025-01-05 16:09:56,614 INFO Added a workflow. id_map: {-2145: 96629, -2144: 96630, -2143: 96631, -2142: 96632, -2141: 96633, -2140: 96634, -2139: 96635, -2138: 96636, -2137: 96637, -2136: 96638, -2135: 96639}\n"
     ]
    },
    {
     "name": "stderr",
     "output_type": "stream",
     "text": [
      " 55%|█████▍    | 211/386 [18:33<16:39,  5.71s/it]"
     ]
    },
    {
     "name": "stdout",
     "output_type": "stream",
     "text": [
      "212\n",
      "2025-01-05 16:09:56,793 INFO Started executing jobs locally\n",
      "2025-01-05 16:09:56,804 INFO Starting job - Scf calculation (3e4f88b8-86b0-4510-89f9-4c0b082788e3)\n",
      "job is running... let's kill it...\n",
      "2025-01-05 16:10:02,310 INFO Added a workflow. id_map: {-2156: 96640, -2155: 96641, -2154: 96642, -2153: 96643, -2152: 96644, -2151: 96645, -2150: 96646, -2149: 96647, -2148: 96648, -2147: 96649, -2146: 96650}\n"
     ]
    },
    {
     "name": "stderr",
     "output_type": "stream",
     "text": [
      " 55%|█████▍    | 212/386 [18:39<16:33,  5.71s/it]"
     ]
    },
    {
     "name": "stdout",
     "output_type": "stream",
     "text": [
      "213\n",
      "2025-01-05 16:10:02,499 INFO Started executing jobs locally\n",
      "2025-01-05 16:10:02,514 INFO Starting job - Scf calculation (f1cf62d1-ef8b-4de1-9722-9eb231696e18)\n",
      "job is running... let's kill it...\n",
      "2025-01-05 16:10:08,020 INFO Added a workflow. id_map: {-2167: 96651, -2166: 96652, -2165: 96653, -2164: 96654, -2163: 96655, -2162: 96656, -2161: 96657, -2160: 96658, -2159: 96659, -2158: 96660, -2157: 96661}\n"
     ]
    },
    {
     "name": "stderr",
     "output_type": "stream",
     "text": [
      " 55%|█████▌    | 213/386 [18:45<16:27,  5.71s/it]"
     ]
    },
    {
     "name": "stdout",
     "output_type": "stream",
     "text": [
      "214\n",
      "2025-01-05 16:10:08,192 INFO Started executing jobs locally\n",
      "2025-01-05 16:10:08,201 INFO Starting job - Scf calculation (8d4f33dd-5476-4ce3-a933-fc82e066461b)\n",
      "job is running... let's kill it...\n",
      "2025-01-05 16:10:13,710 INFO Added a workflow. id_map: {-2178: 96662, -2177: 96663, -2176: 96664, -2175: 96665, -2174: 96666, -2173: 96667, -2172: 96668, -2171: 96669, -2170: 96670, -2169: 96671, -2168: 96672}\n"
     ]
    },
    {
     "name": "stderr",
     "output_type": "stream",
     "text": [
      " 55%|█████▌    | 214/386 [18:50<16:21,  5.71s/it]"
     ]
    },
    {
     "name": "stdout",
     "output_type": "stream",
     "text": [
      "215\n",
      "2025-01-05 16:10:13,893 INFO Started executing jobs locally\n",
      "2025-01-05 16:10:13,900 INFO Starting job - Scf calculation (f27fb6de-d771-4ef0-a2e1-456c89393cf9)\n",
      "job is running... let's kill it...\n",
      "2025-01-05 16:10:19,387 INFO Added a workflow. id_map: {-2189: 96673, -2188: 96674, -2187: 96675, -2186: 96676, -2185: 96677, -2184: 96678, -2183: 96679, -2182: 96680, -2181: 96681, -2180: 96682, -2179: 96683}\n"
     ]
    },
    {
     "name": "stderr",
     "output_type": "stream",
     "text": [
      " 56%|█████▌    | 215/386 [18:56<16:13,  5.69s/it]"
     ]
    },
    {
     "name": "stdout",
     "output_type": "stream",
     "text": [
      "216\n",
      "2025-01-05 16:10:19,549 INFO Started executing jobs locally\n",
      "2025-01-05 16:10:19,558 INFO Starting job - Scf calculation (01a91d35-181a-446c-8124-85872a6ed07f)\n",
      "job is running... let's kill it...\n",
      "2025-01-05 16:10:25,033 INFO Added a workflow. id_map: {-2200: 96684, -2199: 96685, -2198: 96686, -2197: 96687, -2196: 96688, -2195: 96689, -2194: 96690, -2193: 96691, -2192: 96692, -2191: 96693, -2190: 96694}\n"
     ]
    },
    {
     "name": "stderr",
     "output_type": "stream",
     "text": [
      " 56%|█████▌    | 216/386 [19:02<16:05,  5.68s/it]"
     ]
    },
    {
     "name": "stdout",
     "output_type": "stream",
     "text": [
      "217\n",
      "2025-01-05 16:10:25,199 INFO Started executing jobs locally\n",
      "2025-01-05 16:10:25,211 INFO Starting job - Scf calculation (50403ca8-52e9-4048-a546-a99b371682ca)\n",
      "job is running... let's kill it...\n",
      "2025-01-05 16:10:30,726 INFO Added a workflow. id_map: {-2211: 96695, -2210: 96696, -2209: 96697, -2208: 96698, -2207: 96699, -2206: 96700, -2205: 96701, -2204: 96702, -2203: 96703, -2202: 96704, -2201: 96705}\n"
     ]
    },
    {
     "name": "stderr",
     "output_type": "stream",
     "text": [
      " 56%|█████▌    | 217/386 [19:07<16:01,  5.69s/it]"
     ]
    },
    {
     "name": "stdout",
     "output_type": "stream",
     "text": [
      "218\n",
      "2025-01-05 16:10:30,906 INFO Started executing jobs locally\n",
      "2025-01-05 16:10:30,918 INFO Starting job - Scf calculation (d495bdaf-646c-4f81-9040-b2bec45bc1a0)\n",
      "job is running... let's kill it...\n",
      "2025-01-05 16:10:36,443 INFO Added a workflow. id_map: {-2222: 96706, -2221: 96707, -2220: 96708, -2219: 96709, -2218: 96710, -2217: 96711, -2216: 96712, -2215: 96713, -2214: 96714, -2213: 96715, -2212: 96716}\n"
     ]
    },
    {
     "name": "stderr",
     "output_type": "stream",
     "text": [
      " 56%|█████▋    | 218/386 [19:13<15:56,  5.69s/it]"
     ]
    },
    {
     "name": "stdout",
     "output_type": "stream",
     "text": [
      "219\n",
      "2025-01-05 16:10:36,605 INFO Started executing jobs locally\n",
      "2025-01-05 16:10:36,616 INFO Starting job - Scf calculation (0549486a-d33d-43b7-aa8d-7edf6c48f302)\n",
      "job is running... let's kill it...\n",
      "2025-01-05 16:10:42,108 INFO Added a workflow. id_map: {-2233: 96717, -2232: 96718, -2231: 96719, -2230: 96720, -2229: 96721, -2228: 96722, -2227: 96723, -2226: 96724, -2225: 96725, -2224: 96726, -2223: 96727}\n"
     ]
    },
    {
     "name": "stderr",
     "output_type": "stream",
     "text": [
      " 57%|█████▋    | 219/386 [19:19<15:49,  5.68s/it]"
     ]
    },
    {
     "name": "stdout",
     "output_type": "stream",
     "text": [
      "220\n",
      "2025-01-05 16:10:42,270 INFO Started executing jobs locally\n",
      "2025-01-05 16:10:42,283 INFO Starting job - Scf calculation (01818e45-72b7-4c8e-aa67-a81a5400821a)\n",
      "job is running... let's kill it...\n",
      "2025-01-05 16:10:47,785 INFO Added a workflow. id_map: {-2244: 96728, -2243: 96729, -2242: 96730, -2241: 96731, -2240: 96732, -2239: 96733, -2238: 96734, -2237: 96735, -2236: 96736, -2235: 96737, -2234: 96738}\n"
     ]
    },
    {
     "name": "stderr",
     "output_type": "stream",
     "text": [
      " 57%|█████▋    | 220/386 [19:25<15:43,  5.68s/it]"
     ]
    },
    {
     "name": "stdout",
     "output_type": "stream",
     "text": [
      "221\n",
      "2025-01-05 16:10:47,955 INFO Started executing jobs locally\n",
      "2025-01-05 16:10:47,966 INFO Starting job - Scf calculation (8724027d-9562-4730-8fe2-8fe896b41655)\n",
      "job is running... let's kill it...\n",
      "2025-01-05 16:10:53,465 INFO Added a workflow. id_map: {-2255: 96739, -2254: 96740, -2253: 96741, -2252: 96742, -2251: 96743, -2250: 96744, -2249: 96745, -2248: 96746, -2247: 96747, -2246: 96748, -2245: 96749}\n"
     ]
    },
    {
     "name": "stderr",
     "output_type": "stream",
     "text": [
      " 57%|█████▋    | 221/386 [19:30<15:37,  5.68s/it]"
     ]
    },
    {
     "name": "stdout",
     "output_type": "stream",
     "text": [
      "222\n",
      "2025-01-05 16:10:53,641 INFO Started executing jobs locally\n",
      "2025-01-05 16:10:53,648 INFO Starting job - Scf calculation (2076d4f3-aff7-40e2-9fc7-a41cacec8590)\n",
      "job is running... let's kill it...\n",
      "2025-01-05 16:10:59,158 INFO Added a workflow. id_map: {-2266: 96750, -2265: 96751, -2264: 96752, -2263: 96753, -2262: 96754, -2261: 96755, -2260: 96756, -2259: 96757, -2258: 96758, -2257: 96759, -2256: 96760}\n"
     ]
    },
    {
     "name": "stderr",
     "output_type": "stream",
     "text": [
      " 58%|█████▊    | 222/386 [19:36<15:32,  5.69s/it]"
     ]
    },
    {
     "name": "stdout",
     "output_type": "stream",
     "text": [
      "223\n",
      "2025-01-05 16:10:59,334 INFO Started executing jobs locally\n",
      "2025-01-05 16:10:59,343 INFO Starting job - Scf calculation (8531a60d-e8fb-4eee-a2a8-3461e4095ed5)\n",
      "job is running... let's kill it...\n",
      "2025-01-05 16:11:04,834 INFO Added a workflow. id_map: {-2277: 96761, -2276: 96762, -2275: 96763, -2274: 96764, -2273: 96765, -2272: 96766, -2271: 96767, -2270: 96768, -2269: 96769, -2268: 96770, -2267: 96771}\n"
     ]
    },
    {
     "name": "stderr",
     "output_type": "stream",
     "text": [
      " 58%|█████▊    | 223/386 [19:42<15:25,  5.68s/it]"
     ]
    },
    {
     "name": "stdout",
     "output_type": "stream",
     "text": [
      "224\n",
      "2025-01-05 16:11:05,014 INFO Started executing jobs locally\n",
      "2025-01-05 16:11:05,027 INFO Starting job - Scf calculation (b47df7f6-30d5-4ee7-b29c-6d0c21cc1308)\n",
      "chksymbreak triggered\n"
     ]
    },
    {
     "name": "stderr",
     "output_type": "stream",
     "text": [
      " 58%|█████▊    | 224/386 [19:42<11:05,  4.11s/it]"
     ]
    },
    {
     "name": "stdout",
     "output_type": "stream",
     "text": [
      "225\n",
      "2025-01-05 16:11:05,429 INFO Started executing jobs locally\n",
      "2025-01-05 16:11:05,438 INFO Starting job - Scf calculation (5b588197-678a-4619-99ac-5f15eb58157e)\n",
      "job is running... let's kill it...\n",
      "2025-01-05 16:11:10,959 INFO Added a workflow. id_map: {-2288: 96772, -2287: 96773, -2286: 96774, -2285: 96775, -2284: 96776, -2283: 96777, -2282: 96778, -2281: 96779, -2280: 96780, -2279: 96781, -2278: 96782}\n"
     ]
    },
    {
     "name": "stderr",
     "output_type": "stream",
     "text": [
      " 58%|█████▊    | 225/386 [19:48<12:17,  4.58s/it]"
     ]
    },
    {
     "name": "stdout",
     "output_type": "stream",
     "text": [
      "226\n",
      "Uneven number of valence electrons. Let's skip this structure\n",
      "227\n",
      "2025-01-05 16:11:11,163 INFO Started executing jobs locally\n",
      "2025-01-05 16:11:11,176 INFO Starting job - Scf calculation (1dd516d7-7444-44ac-81ef-dca84f31897f)\n",
      "job is running... let's kill it...\n",
      "2025-01-05 16:11:16,714 INFO Added a workflow. id_map: {-2299: 96783, -2298: 96784, -2297: 96785, -2296: 96786, -2295: 96787, -2294: 96788, -2293: 96789, -2292: 96790, -2291: 96791, -2290: 96792, -2289: 96793}\n"
     ]
    },
    {
     "name": "stderr",
     "output_type": "stream",
     "text": [
      " 59%|█████▉    | 227/386 [19:53<10:03,  3.80s/it]"
     ]
    },
    {
     "name": "stdout",
     "output_type": "stream",
     "text": [
      "228\n",
      "2025-01-05 16:11:16,876 INFO Started executing jobs locally\n",
      "2025-01-05 16:11:16,887 INFO Starting job - Scf calculation (b7c782b7-f77e-4475-8fd4-c84405a64af7)\n",
      "job is running... let's kill it...\n",
      "2025-01-05 16:11:22,379 INFO Added a workflow. id_map: {-2310: 96794, -2309: 96795, -2308: 96796, -2307: 96797, -2306: 96798, -2305: 96799, -2304: 96800, -2303: 96801, -2302: 96802, -2301: 96803, -2300: 96804}\n"
     ]
    },
    {
     "name": "stderr",
     "output_type": "stream",
     "text": [
      " 59%|█████▉    | 228/386 [19:59<11:13,  4.26s/it]"
     ]
    },
    {
     "name": "stdout",
     "output_type": "stream",
     "text": [
      "229\n",
      "2025-01-05 16:11:22,546 INFO Started executing jobs locally\n",
      "2025-01-05 16:11:22,557 INFO Starting job - Scf calculation (39472cd6-0249-4101-b392-c6ee1ffd1eeb)\n",
      "job is running... let's kill it...\n",
      "2025-01-05 16:11:28,040 INFO Added a workflow. id_map: {-2321: 96805, -2320: 96806, -2319: 96807, -2318: 96808, -2317: 96809, -2316: 96810, -2315: 96811, -2314: 96812, -2313: 96813, -2312: 96814, -2311: 96815}\n"
     ]
    },
    {
     "name": "stderr",
     "output_type": "stream",
     "text": [
      " 59%|█████▉    | 229/386 [20:05<12:06,  4.63s/it]"
     ]
    },
    {
     "name": "stdout",
     "output_type": "stream",
     "text": [
      "230\n",
      "Uneven number of valence electrons. Let's skip this structure\n",
      "231\n",
      "2025-01-05 16:11:28,242 INFO Started executing jobs locally\n",
      "2025-01-05 16:11:28,253 INFO Starting job - Scf calculation (0749bf53-9740-4b37-a119-cff8340eed02)\n",
      "chksymbreak triggered\n"
     ]
    },
    {
     "name": "stderr",
     "output_type": "stream",
     "text": [
      " 60%|█████▉    | 231/386 [20:05<07:05,  2.74s/it]"
     ]
    },
    {
     "name": "stdout",
     "output_type": "stream",
     "text": [
      "232\n",
      "2025-01-05 16:11:28,671 INFO Started executing jobs locally\n",
      "2025-01-05 16:11:28,683 INFO Starting job - Scf calculation (5e14d762-309c-4a3e-a87d-21ea0aff7a49)\n",
      "job is running... let's kill it...\n",
      "2025-01-05 16:11:34,170 INFO Added a workflow. id_map: {-2332: 96816, -2331: 96817, -2330: 96818, -2329: 96819, -2328: 96820, -2327: 96821, -2326: 96822, -2325: 96823, -2324: 96824, -2323: 96825, -2322: 96826}\n"
     ]
    },
    {
     "name": "stderr",
     "output_type": "stream",
     "text": [
      " 60%|██████    | 232/386 [20:11<08:48,  3.43s/it]"
     ]
    },
    {
     "name": "stdout",
     "output_type": "stream",
     "text": [
      "233\n",
      "2025-01-05 16:11:34,342 INFO Started executing jobs locally\n",
      "2025-01-05 16:11:34,351 INFO Starting job - Scf calculation (18d8c3b1-9664-4b37-bfad-eed5838a45da)\n",
      "job is running... let's kill it...\n",
      "2025-01-05 16:11:39,837 INFO Added a workflow. id_map: {-2343: 96827, -2342: 96828, -2341: 96829, -2340: 96830, -2339: 96831, -2338: 96832, -2337: 96833, -2336: 96834, -2335: 96835, -2334: 96836, -2333: 96837}\n"
     ]
    },
    {
     "name": "stderr",
     "output_type": "stream",
     "text": [
      " 60%|██████    | 233/386 [20:17<10:10,  3.99s/it]"
     ]
    },
    {
     "name": "stdout",
     "output_type": "stream",
     "text": [
      "234\n",
      "2025-01-05 16:11:39,993 INFO Started executing jobs locally\n",
      "2025-01-05 16:11:40,002 INFO Starting job - Scf calculation (55f1a72a-f5c7-4564-9552-909a3e63a4c4)\n",
      "job is running... let's kill it...\n",
      "2025-01-05 16:11:45,497 INFO Added a workflow. id_map: {-2354: 96838, -2353: 96839, -2352: 96840, -2351: 96841, -2350: 96842, -2349: 96843, -2348: 96844, -2347: 96845, -2346: 96846, -2345: 96847, -2344: 96848}\n"
     ]
    },
    {
     "name": "stderr",
     "output_type": "stream",
     "text": [
      " 61%|██████    | 234/386 [20:22<11:13,  4.43s/it]"
     ]
    },
    {
     "name": "stdout",
     "output_type": "stream",
     "text": [
      "235\n",
      "2025-01-05 16:11:45,675 INFO Started executing jobs locally\n",
      "2025-01-05 16:11:45,687 INFO Starting job - Scf calculation (add183b1-938f-44d7-bb30-b88467227217)\n",
      "job is running... let's kill it...\n",
      "2025-01-05 16:11:51,215 INFO Added a workflow. id_map: {-2365: 96849, -2364: 96850, -2363: 96851, -2362: 96852, -2361: 96853, -2360: 96854, -2359: 96855, -2358: 96856, -2357: 96857, -2356: 96858, -2355: 96859}\n"
     ]
    },
    {
     "name": "stderr",
     "output_type": "stream",
     "text": [
      " 61%|██████    | 235/386 [20:28<12:01,  4.78s/it]"
     ]
    },
    {
     "name": "stdout",
     "output_type": "stream",
     "text": [
      "236\n",
      "2025-01-05 16:11:51,373 INFO Started executing jobs locally\n",
      "2025-01-05 16:11:51,383 INFO Starting job - Scf calculation (1ee57e15-a535-41cd-96d7-66021736103e)\n",
      "job is running... let's kill it...\n",
      "2025-01-05 16:11:56,896 INFO Added a workflow. id_map: {-2376: 96860, -2375: 96861, -2374: 96862, -2373: 96863, -2372: 96864, -2371: 96865, -2370: 96866, -2369: 96867, -2368: 96868, -2367: 96869, -2366: 96870}\n"
     ]
    },
    {
     "name": "stderr",
     "output_type": "stream",
     "text": [
      " 61%|██████    | 236/386 [20:34<12:35,  5.04s/it]"
     ]
    },
    {
     "name": "stdout",
     "output_type": "stream",
     "text": [
      "237\n",
      "2025-01-05 16:11:57,070 INFO Started executing jobs locally\n",
      "2025-01-05 16:11:57,081 INFO Starting job - Scf calculation (da314e9b-9e74-4ea0-a052-4ac7d161562d)\n",
      "job is running... let's kill it...\n",
      "2025-01-05 16:12:02,570 INFO Added a workflow. id_map: {-2387: 96871, -2386: 96872, -2385: 96873, -2384: 96874, -2383: 96875, -2382: 96876, -2381: 96877, -2380: 96878, -2379: 96879, -2378: 96880, -2377: 96881}\n"
     ]
    },
    {
     "name": "stderr",
     "output_type": "stream",
     "text": [
      " 61%|██████▏   | 237/386 [20:39<12:57,  5.22s/it]"
     ]
    },
    {
     "name": "stdout",
     "output_type": "stream",
     "text": [
      "238\n",
      "2025-01-05 16:12:02,753 INFO Started executing jobs locally\n",
      "2025-01-05 16:12:02,764 INFO Starting job - Scf calculation (a77fe75b-bf83-4aef-b8d4-877e3e97124c)\n",
      "job is running... let's kill it...\n",
      "2025-01-05 16:12:08,247 INFO Added a workflow. id_map: {-2398: 96882, -2397: 96883, -2396: 96884, -2395: 96885, -2394: 96886, -2393: 96887, -2392: 96888, -2391: 96889, -2390: 96890, -2389: 96891, -2388: 96892}\n"
     ]
    },
    {
     "name": "stderr",
     "output_type": "stream",
     "text": [
      " 62%|██████▏   | 238/386 [20:45<13:12,  5.36s/it]"
     ]
    },
    {
     "name": "stdout",
     "output_type": "stream",
     "text": [
      "239\n",
      "2025-01-05 16:12:08,452 INFO Started executing jobs locally\n",
      "2025-01-05 16:12:08,465 INFO Starting job - Scf calculation (cd36e8e6-056a-4f4b-9bf0-31c39fac7cb7)\n",
      "job is running... let's kill it...\n",
      "2025-01-05 16:12:13,956 INFO Added a workflow. id_map: {-2409: 96893, -2408: 96894, -2407: 96895, -2406: 96896, -2405: 96897, -2404: 96898, -2403: 96899, -2402: 96900, -2401: 96901, -2400: 96902, -2399: 96903}\n"
     ]
    },
    {
     "name": "stderr",
     "output_type": "stream",
     "text": [
      " 62%|██████▏   | 239/386 [20:51<13:21,  5.45s/it]"
     ]
    },
    {
     "name": "stdout",
     "output_type": "stream",
     "text": [
      "240\n",
      "2025-01-05 16:12:14,114 INFO Started executing jobs locally\n",
      "2025-01-05 16:12:14,125 INFO Starting job - Scf calculation (ae40029d-26a6-4e72-8bec-e4c35523cd44)\n",
      "job is running... let's kill it...\n",
      "2025-01-05 16:12:19,618 INFO Added a workflow. id_map: {-2420: 96904, -2419: 96905, -2418: 96906, -2417: 96907, -2416: 96908, -2415: 96909, -2414: 96910, -2413: 96911, -2412: 96912, -2411: 96913, -2410: 96914}\n"
     ]
    },
    {
     "name": "stderr",
     "output_type": "stream",
     "text": [
      " 62%|██████▏   | 240/386 [20:56<13:25,  5.52s/it]"
     ]
    },
    {
     "name": "stdout",
     "output_type": "stream",
     "text": [
      "241\n",
      "2025-01-05 16:12:19,789 INFO Started executing jobs locally\n",
      "2025-01-05 16:12:19,798 INFO Starting job - Scf calculation (618bc109-9dc6-40e8-98d5-fd83b892e49f)\n",
      "job is running... let's kill it...\n",
      "2025-01-05 16:12:25,286 INFO Added a workflow. id_map: {-2431: 96915, -2430: 96916, -2429: 96917, -2428: 96918, -2427: 96919, -2426: 96920, -2425: 96921, -2424: 96922, -2423: 96923, -2422: 96924, -2421: 96925}\n"
     ]
    },
    {
     "name": "stderr",
     "output_type": "stream",
     "text": [
      " 62%|██████▏   | 241/386 [21:02<13:26,  5.56s/it]"
     ]
    },
    {
     "name": "stdout",
     "output_type": "stream",
     "text": [
      "242\n",
      "2025-01-05 16:12:25,458 INFO Started executing jobs locally\n",
      "2025-01-05 16:12:25,469 INFO Starting job - Scf calculation (57f25aa5-7e26-4f11-8b4d-af0e9499a641)\n",
      "job is running... let's kill it...\n",
      "2025-01-05 16:12:30,960 INFO Added a workflow. id_map: {-2442: 96926, -2441: 96927, -2440: 96928, -2439: 96929, -2438: 96930, -2437: 96931, -2436: 96932, -2435: 96933, -2434: 96934, -2433: 96935, -2432: 96936}\n"
     ]
    },
    {
     "name": "stderr",
     "output_type": "stream",
     "text": [
      " 63%|██████▎   | 242/386 [21:08<13:26,  5.60s/it]"
     ]
    },
    {
     "name": "stdout",
     "output_type": "stream",
     "text": [
      "243\n",
      "2025-01-05 16:12:31,143 INFO Started executing jobs locally\n",
      "2025-01-05 16:12:31,155 INFO Starting job - Scf calculation (7f0153e1-0639-4a7a-aeb4-1a7f6cdb0079)\n",
      "job is running... let's kill it...\n",
      "2025-01-05 16:12:36,704 INFO Added a workflow. id_map: {-2453: 96937, -2452: 96938, -2451: 96939, -2450: 96940, -2449: 96941, -2448: 96942, -2447: 96943, -2446: 96944, -2445: 96945, -2444: 96946, -2443: 96947}\n"
     ]
    },
    {
     "name": "stderr",
     "output_type": "stream",
     "text": [
      " 63%|██████▎   | 243/386 [21:13<13:25,  5.64s/it]"
     ]
    },
    {
     "name": "stdout",
     "output_type": "stream",
     "text": [
      "244\n",
      "2025-01-05 16:12:36,886 INFO Started executing jobs locally\n",
      "2025-01-05 16:12:36,901 INFO Starting job - Scf calculation (e167c097-3581-408a-a45b-ada711cba01f)\n",
      "job is running... let's kill it...\n",
      "2025-01-05 16:12:42,421 INFO Added a workflow. id_map: {-2464: 96948, -2463: 96949, -2462: 96950, -2461: 96951, -2460: 96952, -2459: 96953, -2458: 96954, -2457: 96955, -2456: 96956, -2455: 96957, -2454: 96958}\n"
     ]
    },
    {
     "name": "stderr",
     "output_type": "stream",
     "text": [
      " 63%|██████▎   | 244/386 [21:19<13:24,  5.66s/it]"
     ]
    },
    {
     "name": "stdout",
     "output_type": "stream",
     "text": [
      "245\n",
      "2025-01-05 16:12:42,601 INFO Started executing jobs locally\n",
      "2025-01-05 16:12:42,613 INFO Starting job - Scf calculation (9349b45c-d1e5-40d2-84f2-399428ad3536)\n",
      "job is running... let's kill it...\n",
      "2025-01-05 16:12:48,116 INFO Added a workflow. id_map: {-2475: 96959, -2474: 96960, -2473: 96961, -2472: 96962, -2471: 96963, -2470: 96964, -2469: 96965, -2468: 96966, -2467: 96967, -2466: 96968, -2465: 96969}\n"
     ]
    },
    {
     "name": "stderr",
     "output_type": "stream",
     "text": [
      " 63%|██████▎   | 245/386 [21:25<13:19,  5.67s/it]"
     ]
    },
    {
     "name": "stdout",
     "output_type": "stream",
     "text": [
      "246\n",
      "2025-01-05 16:12:48,277 INFO Started executing jobs locally\n",
      "2025-01-05 16:12:48,290 INFO Starting job - Scf calculation (1feba710-85c8-40e2-a3be-64044298981a)\n",
      "job is running... let's kill it...\n",
      "2025-01-05 16:12:53,787 INFO Added a workflow. id_map: {-2486: 96970, -2485: 96971, -2484: 96972, -2483: 96973, -2482: 96974, -2481: 96975, -2480: 96976, -2479: 96977, -2478: 96978, -2477: 96979, -2476: 96980}\n"
     ]
    },
    {
     "name": "stderr",
     "output_type": "stream",
     "text": [
      " 64%|██████▎   | 246/386 [21:31<13:14,  5.67s/it]"
     ]
    },
    {
     "name": "stdout",
     "output_type": "stream",
     "text": [
      "247\n",
      "2025-01-05 16:12:53,974 INFO Started executing jobs locally\n",
      "2025-01-05 16:12:53,982 INFO Starting job - Scf calculation (00c02d6c-72bb-415f-99ad-dc69771ed407)\n",
      "job is running... let's kill it...\n",
      "2025-01-05 16:12:59,482 INFO Added a workflow. id_map: {-2497: 96981, -2496: 96982, -2495: 96983, -2494: 96984, -2493: 96985, -2492: 96986, -2491: 96987, -2490: 96988, -2489: 96989, -2488: 96990, -2487: 96991}\n"
     ]
    },
    {
     "name": "stderr",
     "output_type": "stream",
     "text": [
      " 64%|██████▍   | 247/386 [21:36<13:09,  5.68s/it]"
     ]
    },
    {
     "name": "stdout",
     "output_type": "stream",
     "text": [
      "248\n",
      "2025-01-05 16:12:59,675 INFO Started executing jobs locally\n",
      "2025-01-05 16:12:59,688 INFO Starting job - Scf calculation (f5a3c879-f6dc-447b-8f5c-c22eb9f768c0)\n",
      "job is running... let's kill it...\n",
      "2025-01-05 16:13:05,168 INFO Added a workflow. id_map: {-2508: 96992, -2507: 96993, -2506: 96994, -2505: 96995, -2504: 96996, -2503: 96997, -2502: 96998, -2501: 96999, -2500: 97000, -2499: 97001, -2498: 97002}\n"
     ]
    },
    {
     "name": "stderr",
     "output_type": "stream",
     "text": [
      " 64%|██████▍   | 248/386 [21:42<13:03,  5.68s/it]"
     ]
    },
    {
     "name": "stdout",
     "output_type": "stream",
     "text": [
      "249\n",
      "2025-01-05 16:13:05,332 INFO Started executing jobs locally\n",
      "2025-01-05 16:13:05,343 INFO Starting job - Scf calculation (afc787a3-11f9-4924-bcb8-6f79d538c4de)\n",
      "job is running... let's kill it...\n",
      "2025-01-05 16:13:10,837 INFO Added a workflow. id_map: {-2519: 97003, -2518: 97004, -2517: 97005, -2516: 97006, -2515: 97007, -2514: 97008, -2513: 97009, -2512: 97010, -2511: 97011, -2510: 97012, -2509: 97013}\n"
     ]
    },
    {
     "name": "stderr",
     "output_type": "stream",
     "text": [
      " 65%|██████▍   | 249/386 [21:48<12:57,  5.67s/it]"
     ]
    },
    {
     "name": "stdout",
     "output_type": "stream",
     "text": [
      "250\n",
      "2025-01-05 16:13:10,999 INFO Started executing jobs locally\n",
      "2025-01-05 16:13:11,012 INFO Starting job - Scf calculation (4e669f88-ba1b-486c-be8a-0f8fd4895bfa)\n",
      "job is running... let's kill it...\n",
      "2025-01-05 16:13:16,533 INFO Added a workflow. id_map: {-2530: 97014, -2529: 97015, -2528: 97016, -2527: 97017, -2526: 97018, -2525: 97019, -2524: 97020, -2523: 97021, -2522: 97022, -2521: 97023, -2520: 97024}\n"
     ]
    },
    {
     "name": "stderr",
     "output_type": "stream",
     "text": [
      " 65%|██████▍   | 250/386 [21:53<12:52,  5.68s/it]"
     ]
    },
    {
     "name": "stdout",
     "output_type": "stream",
     "text": [
      "251\n",
      "2025-01-05 16:13:16,712 INFO Started executing jobs locally\n",
      "2025-01-05 16:13:16,724 INFO Starting job - Scf calculation (f15a0e23-a5f9-4b49-b66e-61c00e76365b)\n",
      "job is running... let's kill it...\n",
      "2025-01-05 16:13:22,235 INFO Added a workflow. id_map: {-2541: 97025, -2540: 97026, -2539: 97027, -2538: 97028, -2537: 97029, -2536: 97030, -2535: 97031, -2534: 97032, -2533: 97033, -2532: 97034, -2531: 97035}\n"
     ]
    },
    {
     "name": "stderr",
     "output_type": "stream",
     "text": [
      " 65%|██████▌   | 251/386 [21:59<12:48,  5.69s/it]"
     ]
    },
    {
     "name": "stdout",
     "output_type": "stream",
     "text": [
      "252\n",
      "2025-01-05 16:13:22,459 INFO Started executing jobs locally\n",
      "2025-01-05 16:13:22,475 INFO Starting job - Scf calculation (2c8f02ce-36f5-485b-a8dd-5ed374dae26c)\n",
      "job is running... let's kill it...\n",
      "2025-01-05 16:13:27,965 INFO Added a workflow. id_map: {-2552: 97036, -2551: 97037, -2550: 97038, -2549: 97039, -2548: 97040, -2547: 97041, -2546: 97042, -2545: 97043, -2544: 97044, -2543: 97045, -2542: 97046}\n"
     ]
    },
    {
     "name": "stderr",
     "output_type": "stream",
     "text": [
      " 65%|██████▌   | 252/386 [22:05<12:44,  5.70s/it]"
     ]
    },
    {
     "name": "stdout",
     "output_type": "stream",
     "text": [
      "253\n",
      "Uneven number of valence electrons. Let's skip this structure\n",
      "254\n",
      "2025-01-05 16:13:28,147 INFO Started executing jobs locally\n",
      "2025-01-05 16:13:28,157 INFO Starting job - Scf calculation (98b67f16-4949-4042-94ef-72ca5b53b666)\n",
      "job is running... let's kill it...\n",
      "2025-01-05 16:13:33,660 INFO Added a workflow. id_map: {-2563: 97047, -2562: 97048, -2561: 97049, -2560: 97050, -2559: 97051, -2558: 97052, -2557: 97053, -2556: 97054, -2555: 97055, -2554: 97056, -2553: 97057}\n"
     ]
    },
    {
     "name": "stderr",
     "output_type": "stream",
     "text": [
      " 66%|██████▌   | 254/386 [22:10<09:38,  4.38s/it]"
     ]
    },
    {
     "name": "stdout",
     "output_type": "stream",
     "text": [
      "255\n",
      "2025-01-05 16:13:33,834 INFO Started executing jobs locally\n",
      "2025-01-05 16:13:33,846 INFO Starting job - Scf calculation (e244f8ef-f2aa-4bd6-b50f-1e1fefefc0bf)\n",
      "job is running... let's kill it...\n",
      "2025-01-05 16:13:39,333 INFO Added a workflow. id_map: {-2574: 97058, -2573: 97059, -2572: 97060, -2571: 97061, -2570: 97062, -2569: 97063, -2568: 97064, -2567: 97065, -2566: 97066, -2565: 97067, -2564: 97068}\n"
     ]
    },
    {
     "name": "stderr",
     "output_type": "stream",
     "text": [
      " 66%|██████▌   | 255/386 [22:16<10:15,  4.70s/it]"
     ]
    },
    {
     "name": "stdout",
     "output_type": "stream",
     "text": [
      "256\n",
      "2025-01-05 16:13:39,501 INFO Started executing jobs locally\n",
      "2025-01-05 16:13:39,512 INFO Starting job - Scf calculation (dd052f5a-3b13-4d5e-a89c-19770323a46f)\n",
      "job is running... let's kill it...\n",
      "2025-01-05 16:13:45,009 INFO Added a workflow. id_map: {-2585: 97069, -2584: 97070, -2583: 97071, -2582: 97072, -2581: 97073, -2580: 97074, -2579: 97075, -2578: 97076, -2577: 97077, -2576: 97078, -2575: 97079}\n"
     ]
    },
    {
     "name": "stderr",
     "output_type": "stream",
     "text": [
      " 66%|██████▋   | 256/386 [22:22<10:44,  4.96s/it]"
     ]
    },
    {
     "name": "stdout",
     "output_type": "stream",
     "text": [
      "257\n",
      "2025-01-05 16:13:45,182 INFO Started executing jobs locally\n",
      "2025-01-05 16:13:45,189 INFO Starting job - Scf calculation (a81fea63-2a15-46b6-a567-17e36c284378)\n",
      "job is running... let's kill it...\n",
      "2025-01-05 16:13:50,672 INFO Added a workflow. id_map: {-2596: 97080, -2595: 97081, -2594: 97082, -2593: 97083, -2592: 97084, -2591: 97085, -2590: 97086, -2589: 97087, -2588: 97088, -2587: 97089, -2586: 97090}\n"
     ]
    },
    {
     "name": "stderr",
     "output_type": "stream",
     "text": [
      " 67%|██████▋   | 257/386 [22:27<11:04,  5.15s/it]"
     ]
    },
    {
     "name": "stdout",
     "output_type": "stream",
     "text": [
      "258\n",
      "2025-01-05 16:13:50,850 INFO Started executing jobs locally\n",
      "2025-01-05 16:13:50,858 INFO Starting job - Scf calculation (1ecb72a1-0216-4f84-b78d-1641694e43ce)\n",
      "job is running... let's kill it...\n",
      "2025-01-05 16:13:56,340 INFO Added a workflow. id_map: {-2607: 97091, -2606: 97092, -2605: 97093, -2604: 97094, -2603: 97095, -2602: 97096, -2601: 97097, -2600: 97098, -2599: 97099, -2598: 97100, -2597: 97101}\n"
     ]
    },
    {
     "name": "stderr",
     "output_type": "stream",
     "text": [
      " 67%|██████▋   | 258/386 [22:33<11:17,  5.29s/it]"
     ]
    },
    {
     "name": "stdout",
     "output_type": "stream",
     "text": [
      "259\n",
      "2025-01-05 16:13:56,523 INFO Started executing jobs locally\n",
      "2025-01-05 16:13:56,535 INFO Starting job - Scf calculation (9937596b-672c-4104-b99d-c4d53b379735)\n",
      "job is running... let's kill it...\n",
      "2025-01-05 16:14:02,040 INFO Added a workflow. id_map: {-2618: 97102, -2617: 97103, -2616: 97104, -2615: 97105, -2614: 97106, -2613: 97107, -2612: 97108, -2611: 97109, -2610: 97110, -2609: 97111, -2608: 97112}\n"
     ]
    },
    {
     "name": "stderr",
     "output_type": "stream",
     "text": [
      " 67%|██████▋   | 259/386 [22:39<11:27,  5.42s/it]"
     ]
    },
    {
     "name": "stdout",
     "output_type": "stream",
     "text": [
      "260\n",
      "2025-01-05 16:14:02,228 INFO Started executing jobs locally\n",
      "2025-01-05 16:14:02,239 INFO Starting job - Scf calculation (95f127dd-ef93-4601-a2fd-07f9f156e248)\n",
      "job is running... let's kill it...\n",
      "2025-01-05 16:14:07,753 INFO Added a workflow. id_map: {-2629: 97113, -2628: 97114, -2627: 97115, -2626: 97116, -2625: 97117, -2624: 97118, -2623: 97119, -2622: 97120, -2621: 97121, -2620: 97122, -2619: 97123}\n"
     ]
    },
    {
     "name": "stderr",
     "output_type": "stream",
     "text": [
      " 67%|██████▋   | 260/386 [22:44<11:32,  5.49s/it]"
     ]
    },
    {
     "name": "stdout",
     "output_type": "stream",
     "text": [
      "261\n",
      "2025-01-05 16:14:07,919 INFO Started executing jobs locally\n",
      "2025-01-05 16:14:07,929 INFO Starting job - Scf calculation (8ac867bc-7dc8-4877-b6d9-120d41542b12)\n",
      "job is running... let's kill it...\n",
      "2025-01-05 16:14:13,408 INFO Added a workflow. id_map: {-2640: 97124, -2639: 97125, -2638: 97126, -2637: 97127, -2636: 97128, -2635: 97129, -2634: 97130, -2633: 97131, -2632: 97132, -2631: 97133, -2630: 97134}\n"
     ]
    },
    {
     "name": "stderr",
     "output_type": "stream",
     "text": [
      " 68%|██████▊   | 261/386 [22:50<11:32,  5.54s/it]"
     ]
    },
    {
     "name": "stdout",
     "output_type": "stream",
     "text": [
      "262\n",
      "2025-01-05 16:14:13,569 INFO Started executing jobs locally\n",
      "2025-01-05 16:14:13,577 INFO Starting job - Scf calculation (39bb496a-4ca6-4ba3-9220-4b62313373d0)\n",
      "job is running... let's kill it...\n",
      "2025-01-05 16:14:19,070 INFO Added a workflow. id_map: {-2651: 97136, -2650: 97137, -2649: 97138, -2648: 97139, -2647: 97140, -2646: 97141, -2645: 97142, -2644: 97143, -2643: 97144, -2642: 97145, -2641: 97146}\n"
     ]
    },
    {
     "name": "stderr",
     "output_type": "stream",
     "text": [
      " 68%|██████▊   | 262/386 [22:56<11:31,  5.58s/it]"
     ]
    },
    {
     "name": "stdout",
     "output_type": "stream",
     "text": [
      "263\n",
      "2025-01-05 16:14:19,233 INFO Started executing jobs locally\n",
      "2025-01-05 16:14:19,241 INFO Starting job - Scf calculation (bbfe7fb6-7e25-4d71-9b7d-69835d87c10f)\n",
      "job is running... let's kill it...\n",
      "2025-01-05 16:14:24,731 INFO Added a workflow. id_map: {-2662: 97147, -2661: 97148, -2660: 97149, -2659: 97150, -2658: 97151, -2657: 97152, -2656: 97153, -2655: 97154, -2654: 97155, -2653: 97156, -2652: 97157}\n"
     ]
    },
    {
     "name": "stderr",
     "output_type": "stream",
     "text": [
      " 68%|██████▊   | 263/386 [23:01<11:29,  5.60s/it]"
     ]
    },
    {
     "name": "stdout",
     "output_type": "stream",
     "text": [
      "264\n",
      "2025-01-05 16:14:24,894 INFO Started executing jobs locally\n",
      "2025-01-05 16:14:24,903 INFO Starting job - Scf calculation (23fde203-de42-40b3-a8e2-40c078c00ba9)\n",
      "job is running... let's kill it...\n",
      "2025-01-05 16:14:30,387 INFO Added a workflow. id_map: {-2673: 97158, -2672: 97159, -2671: 97160, -2670: 97161, -2669: 97162, -2668: 97163, -2667: 97164, -2666: 97165, -2665: 97166, -2664: 97167, -2663: 97168}\n"
     ]
    },
    {
     "name": "stderr",
     "output_type": "stream",
     "text": [
      " 68%|██████▊   | 264/386 [23:07<11:25,  5.62s/it]"
     ]
    },
    {
     "name": "stdout",
     "output_type": "stream",
     "text": [
      "265\n",
      "2025-01-05 16:14:30,562 INFO Started executing jobs locally\n",
      "2025-01-05 16:14:30,571 INFO Starting job - Scf calculation (186f6c52-467b-413f-b5f8-b9ba73e91aa1)\n",
      "job is running... let's kill it...\n",
      "2025-01-05 16:14:36,057 INFO Added a workflow. id_map: {-2684: 97169, -2683: 97170, -2682: 97171, -2681: 97172, -2680: 97173, -2679: 97174, -2678: 97175, -2677: 97176, -2676: 97177, -2675: 97178, -2674: 97179}\n"
     ]
    },
    {
     "name": "stderr",
     "output_type": "stream",
     "text": [
      " 69%|██████▊   | 265/386 [23:13<11:21,  5.63s/it]"
     ]
    },
    {
     "name": "stdout",
     "output_type": "stream",
     "text": [
      "266\n",
      "2025-01-05 16:14:36,246 INFO Started executing jobs locally\n",
      "2025-01-05 16:14:36,255 INFO Starting job - Scf calculation (0b81aa07-f527-4f6a-b94c-8e0e21fbb235)\n",
      "job is running... let's kill it...\n",
      "2025-01-05 16:14:41,769 INFO Added a workflow. id_map: {-2695: 97180, -2694: 97181, -2693: 97182, -2692: 97183, -2691: 97184, -2690: 97185, -2689: 97186, -2688: 97187, -2687: 97188, -2686: 97189, -2685: 97190}\n"
     ]
    },
    {
     "name": "stderr",
     "output_type": "stream",
     "text": [
      " 69%|██████▉   | 266/386 [23:19<11:18,  5.66s/it]"
     ]
    },
    {
     "name": "stdout",
     "output_type": "stream",
     "text": [
      "267\n",
      "2025-01-05 16:14:41,986 INFO Started executing jobs locally\n",
      "2025-01-05 16:14:41,995 INFO Starting job - Scf calculation (c4d1ef32-6cb4-44ab-a030-011fc4e44a9f)\n",
      "chksymbreak triggered\n"
     ]
    },
    {
     "name": "stderr",
     "output_type": "stream",
     "text": [
      " 69%|██████▉   | 267/386 [23:19<08:08,  4.10s/it]"
     ]
    },
    {
     "name": "stdout",
     "output_type": "stream",
     "text": [
      "268\n",
      "2025-01-05 16:14:42,391 INFO Started executing jobs locally\n",
      "2025-01-05 16:14:42,403 INFO Starting job - Scf calculation (2b1f33e4-cadf-4517-96b3-e188f95c7edf)\n",
      "job is running... let's kill it...\n",
      "2025-01-05 16:14:47,916 INFO Added a workflow. id_map: {-2706: 97191, -2705: 97192, -2704: 97193, -2703: 97194, -2702: 97195, -2701: 97196, -2700: 97197, -2699: 97198, -2698: 97199, -2697: 97200, -2696: 97201}\n"
     ]
    },
    {
     "name": "stderr",
     "output_type": "stream",
     "text": [
      " 69%|██████▉   | 268/386 [23:25<09:00,  4.58s/it]"
     ]
    },
    {
     "name": "stdout",
     "output_type": "stream",
     "text": [
      "269\n",
      "2025-01-05 16:14:48,078 INFO Started executing jobs locally\n",
      "2025-01-05 16:14:48,085 INFO Starting job - Scf calculation (f7c2821b-8db7-4902-a241-25ab2a138f2b)\n",
      "job is running... let's kill it...\n",
      "2025-01-05 16:14:53,583 INFO Added a workflow. id_map: {-2717: 97202, -2716: 97203, -2715: 97204, -2714: 97205, -2713: 97206, -2712: 97207, -2711: 97208, -2710: 97209, -2709: 97210, -2708: 97211, -2707: 97212}\n"
     ]
    },
    {
     "name": "stderr",
     "output_type": "stream",
     "text": [
      " 70%|██████▉   | 269/386 [23:30<09:33,  4.90s/it]"
     ]
    },
    {
     "name": "stdout",
     "output_type": "stream",
     "text": [
      "270\n",
      "2025-01-05 16:14:53,757 INFO Started executing jobs locally\n",
      "2025-01-05 16:14:53,766 INFO Starting job - Scf calculation (b348c01a-6e93-439c-9957-3d281ed5942f)\n",
      "job is running... let's kill it...\n",
      "2025-01-05 16:14:59,251 INFO Added a workflow. id_map: {-2728: 97213, -2727: 97214, -2726: 97215, -2725: 97216, -2724: 97217, -2723: 97218, -2722: 97219, -2721: 97220, -2720: 97221, -2719: 97222, -2718: 97223}\n"
     ]
    },
    {
     "name": "stderr",
     "output_type": "stream",
     "text": [
      " 70%|██████▉   | 270/386 [23:36<09:55,  5.14s/it]"
     ]
    },
    {
     "name": "stdout",
     "output_type": "stream",
     "text": [
      "271\n",
      "2025-01-05 16:14:59,429 INFO Started executing jobs locally\n",
      "2025-01-05 16:14:59,437 INFO Starting job - Scf calculation (12599ccf-0a25-4d38-a996-b09732efb537)\n",
      "job is running... let's kill it...\n",
      "2025-01-05 16:15:04,918 INFO Added a workflow. id_map: {-2739: 97224, -2738: 97225, -2737: 97226, -2736: 97227, -2735: 97228, -2734: 97229, -2733: 97230, -2732: 97231, -2731: 97232, -2730: 97233, -2729: 97234}\n"
     ]
    },
    {
     "name": "stderr",
     "output_type": "stream",
     "text": [
      " 70%|███████   | 271/386 [23:42<10:08,  5.29s/it]"
     ]
    },
    {
     "name": "stdout",
     "output_type": "stream",
     "text": [
      "272\n",
      "2025-01-05 16:15:05,083 INFO Started executing jobs locally\n",
      "2025-01-05 16:15:05,093 INFO Starting job - Scf calculation (34b54219-1a72-4ba8-9ae3-241dab9bf70c)\n",
      "job is running... let's kill it...\n",
      "2025-01-05 16:15:10,590 INFO Added a workflow. id_map: {-2750: 97235, -2749: 97236, -2748: 97237, -2747: 97238, -2746: 97239, -2745: 97240, -2744: 97241, -2743: 97242, -2742: 97243, -2741: 97244, -2740: 97245}\n"
     ]
    },
    {
     "name": "stderr",
     "output_type": "stream",
     "text": [
      " 70%|███████   | 272/386 [23:47<10:16,  5.40s/it]"
     ]
    },
    {
     "name": "stdout",
     "output_type": "stream",
     "text": [
      "273\n",
      "2025-01-05 16:15:10,769 INFO Started executing jobs locally\n",
      "2025-01-05 16:15:10,777 INFO Starting job - Scf calculation (4edfcbd9-0b28-4023-ab5e-28b9206dc005)\n",
      "chksymbreak triggered\n"
     ]
    },
    {
     "name": "stderr",
     "output_type": "stream",
     "text": [
      " 71%|███████   | 273/386 [23:48<07:17,  3.87s/it]"
     ]
    },
    {
     "name": "stdout",
     "output_type": "stream",
     "text": [
      "274\n",
      "2025-01-05 16:15:11,056 INFO Started executing jobs locally\n",
      "2025-01-05 16:15:11,065 INFO Starting job - Scf calculation (71e3dce6-c3ab-43f1-8a29-940cc652adbf)\n",
      "job is running... let's kill it...\n",
      "2025-01-05 16:15:16,556 INFO Added a workflow. id_map: {-2761: 97246, -2760: 97247, -2759: 97248, -2758: 97249, -2757: 97250, -2756: 97251, -2755: 97252, -2754: 97253, -2753: 97254, -2752: 97255, -2751: 97256}\n"
     ]
    },
    {
     "name": "stderr",
     "output_type": "stream",
     "text": [
      " 71%|███████   | 274/386 [23:53<08:14,  4.41s/it]"
     ]
    },
    {
     "name": "stdout",
     "output_type": "stream",
     "text": [
      "275\n",
      "2025-01-05 16:15:16,717 INFO Started executing jobs locally\n",
      "2025-01-05 16:15:16,725 INFO Starting job - Scf calculation (c48ce8a3-281e-4d02-b06e-c21d1a4725ce)\n",
      "job is running... let's kill it...\n",
      "2025-01-05 16:15:22,258 INFO Added a workflow. id_map: {-2772: 97257, -2771: 97258, -2770: 97259, -2769: 97260, -2768: 97261, -2767: 97262, -2766: 97263, -2765: 97264, -2764: 97265, -2763: 97266, -2762: 97267}\n"
     ]
    },
    {
     "name": "stderr",
     "output_type": "stream",
     "text": [
      " 71%|███████   | 275/386 [23:59<08:52,  4.80s/it]"
     ]
    },
    {
     "name": "stdout",
     "output_type": "stream",
     "text": [
      "276\n",
      "2025-01-05 16:15:22,429 INFO Started executing jobs locally\n",
      "2025-01-05 16:15:22,437 INFO Starting job - Scf calculation (d7bf54aa-6c80-4ebe-88b3-34cacb106db1)\n",
      "job is running... let's kill it...\n",
      "2025-01-05 16:15:27,960 INFO Added a workflow. id_map: {-2783: 97268, -2782: 97269, -2781: 97270, -2780: 97271, -2779: 97272, -2778: 97273, -2777: 97274, -2776: 97275, -2775: 97276, -2774: 97277, -2773: 97278}\n"
     ]
    },
    {
     "name": "stderr",
     "output_type": "stream",
     "text": [
      " 72%|███████▏  | 276/386 [24:05<09:17,  5.07s/it]"
     ]
    },
    {
     "name": "stdout",
     "output_type": "stream",
     "text": [
      "277\n",
      "2025-01-05 16:15:28,140 INFO Started executing jobs locally\n",
      "2025-01-05 16:15:28,154 INFO Starting job - Scf calculation (06b54828-64af-453d-b751-042200c2446e)\n",
      "job is running... let's kill it...\n",
      "2025-01-05 16:15:33,624 INFO Added a workflow. id_map: {-2794: 97279, -2793: 97280, -2792: 97281, -2791: 97282, -2790: 97283, -2789: 97284, -2788: 97285, -2787: 97286, -2786: 97287, -2785: 97288, -2784: 97289}\n"
     ]
    },
    {
     "name": "stderr",
     "output_type": "stream",
     "text": [
      " 72%|███████▏  | 277/386 [24:10<09:31,  5.25s/it]"
     ]
    },
    {
     "name": "stdout",
     "output_type": "stream",
     "text": [
      "278\n",
      "2025-01-05 16:15:33,801 INFO Started executing jobs locally\n",
      "2025-01-05 16:15:33,811 INFO Starting job - Scf calculation (588bdeb1-1f18-488a-956b-8bcc850f8c8a)\n",
      "job is running... let's kill it...\n",
      "2025-01-05 16:15:39,316 INFO Added a workflow. id_map: {-2805: 97290, -2804: 97291, -2803: 97292, -2802: 97293, -2801: 97294, -2800: 97295, -2799: 97296, -2798: 97297, -2797: 97298, -2796: 97299, -2795: 97300}\n"
     ]
    },
    {
     "name": "stderr",
     "output_type": "stream",
     "text": [
      " 72%|███████▏  | 278/386 [24:16<09:41,  5.38s/it]"
     ]
    },
    {
     "name": "stdout",
     "output_type": "stream",
     "text": [
      "279\n",
      "2025-01-05 16:15:39,475 INFO Started executing jobs locally\n",
      "2025-01-05 16:15:39,482 INFO Starting job - Scf calculation (a82b9933-ffd8-4d20-afa0-7e3bcde710dc)\n",
      "job is running... let's kill it...\n",
      "2025-01-05 16:15:44,970 INFO Added a workflow. id_map: {-2816: 97301, -2815: 97302, -2814: 97303, -2813: 97304, -2812: 97305, -2811: 97306, -2810: 97307, -2809: 97308, -2808: 97309, -2807: 97310, -2806: 97311}\n"
     ]
    },
    {
     "name": "stderr",
     "output_type": "stream",
     "text": [
      " 72%|███████▏  | 279/386 [24:22<09:44,  5.46s/it]"
     ]
    },
    {
     "name": "stdout",
     "output_type": "stream",
     "text": [
      "280\n",
      "2025-01-05 16:15:45,131 INFO Started executing jobs locally\n",
      "2025-01-05 16:15:45,140 INFO Starting job - Scf calculation (5393d33a-86e9-4fc9-8ca2-fc4b145150a6)\n",
      "job is running... let's kill it...\n",
      "2025-01-05 16:15:50,627 INFO Added a workflow. id_map: {-2827: 97312, -2826: 97313, -2825: 97314, -2824: 97315, -2823: 97316, -2822: 97317, -2821: 97318, -2820: 97319, -2819: 97320, -2818: 97321, -2817: 97322}\n"
     ]
    },
    {
     "name": "stderr",
     "output_type": "stream",
     "text": [
      " 73%|███████▎  | 280/386 [24:27<09:45,  5.52s/it]"
     ]
    },
    {
     "name": "stdout",
     "output_type": "stream",
     "text": [
      "281\n",
      "2025-01-05 16:15:50,786 INFO Started executing jobs locally\n",
      "2025-01-05 16:15:50,793 INFO Starting job - Scf calculation (35f88a91-1237-4fa1-987d-0ece31e24a05)\n",
      "job is running... let's kill it...\n",
      "2025-01-05 16:15:56,277 INFO Added a workflow. id_map: {-2838: 97323, -2837: 97324, -2836: 97325, -2835: 97326, -2834: 97327, -2833: 97328, -2832: 97329, -2831: 97330, -2830: 97331, -2829: 97332, -2828: 97333}\n"
     ]
    },
    {
     "name": "stderr",
     "output_type": "stream",
     "text": [
      " 73%|███████▎  | 281/386 [24:33<09:43,  5.56s/it]"
     ]
    },
    {
     "name": "stdout",
     "output_type": "stream",
     "text": [
      "282\n",
      "2025-01-05 16:15:56,447 INFO Started executing jobs locally\n",
      "2025-01-05 16:15:56,456 INFO Starting job - Scf calculation (2e75a325-825f-4aaf-b068-25811e41875e)\n",
      "job is running... let's kill it...\n",
      "2025-01-05 16:16:01,961 INFO Added a workflow. id_map: {-2849: 97334, -2848: 97335, -2847: 97336, -2846: 97337, -2845: 97338, -2844: 97339, -2843: 97340, -2842: 97341, -2841: 97342, -2840: 97343, -2839: 97344}\n"
     ]
    },
    {
     "name": "stderr",
     "output_type": "stream",
     "text": [
      " 73%|███████▎  | 282/386 [24:39<09:42,  5.60s/it]"
     ]
    },
    {
     "name": "stdout",
     "output_type": "stream",
     "text": [
      "283\n",
      "2025-01-05 16:16:02,133 INFO Started executing jobs locally\n",
      "2025-01-05 16:16:02,141 INFO Starting job - Scf calculation (189ee5ac-dabd-4fe2-b900-ab3537e75ebe)\n",
      "job is running... let's kill it...\n",
      "2025-01-05 16:16:07,678 INFO Added a workflow. id_map: {-2860: 97345, -2859: 97346, -2858: 97347, -2857: 97348, -2856: 97349, -2855: 97350, -2854: 97351, -2853: 97352, -2852: 97353, -2851: 97354, -2850: 97355}\n"
     ]
    },
    {
     "name": "stderr",
     "output_type": "stream",
     "text": [
      " 73%|███████▎  | 283/386 [24:44<09:40,  5.63s/it]"
     ]
    },
    {
     "name": "stdout",
     "output_type": "stream",
     "text": [
      "284\n",
      "2025-01-05 16:16:07,853 INFO Started executing jobs locally\n",
      "2025-01-05 16:16:07,861 INFO Starting job - Scf calculation (7f80eeed-4b8b-4ac4-99f4-7f14e49ff140)\n",
      "job is running... let's kill it...\n",
      "2025-01-05 16:16:13,369 INFO Added a workflow. id_map: {-2871: 97356, -2870: 97357, -2869: 97358, -2868: 97359, -2867: 97360, -2866: 97361, -2865: 97362, -2864: 97363, -2863: 97364, -2862: 97365, -2861: 97366}\n"
     ]
    },
    {
     "name": "stderr",
     "output_type": "stream",
     "text": [
      " 74%|███████▎  | 284/386 [24:50<09:36,  5.65s/it]"
     ]
    },
    {
     "name": "stdout",
     "output_type": "stream",
     "text": [
      "285\n",
      "2025-01-05 16:16:13,529 INFO Started executing jobs locally\n",
      "2025-01-05 16:16:13,538 INFO Starting job - Scf calculation (4c40bb8c-21f2-46ff-b54b-29a5c5030fb6)\n",
      "job is running... let's kill it...\n",
      "2025-01-05 16:16:19,012 INFO Added a workflow. id_map: {-2882: 97367, -2881: 97368, -2880: 97369, -2879: 97370, -2878: 97371, -2877: 97372, -2876: 97373, -2875: 97374, -2874: 97375, -2873: 97376, -2872: 97377}\n"
     ]
    },
    {
     "name": "stderr",
     "output_type": "stream",
     "text": [
      " 74%|███████▍  | 285/386 [24:56<09:30,  5.65s/it]"
     ]
    },
    {
     "name": "stdout",
     "output_type": "stream",
     "text": [
      "286\n",
      "2025-01-05 16:16:19,170 INFO Started executing jobs locally\n",
      "2025-01-05 16:16:19,177 INFO Starting job - Scf calculation (20f6d43f-22e6-4c34-9846-3f2b01919aa7)\n",
      "job is running... let's kill it...\n",
      "2025-01-05 16:16:24,661 INFO Added a workflow. id_map: {-2893: 97378, -2892: 97379, -2891: 97380, -2890: 97381, -2889: 97382, -2888: 97383, -2887: 97384, -2886: 97385, -2885: 97386, -2884: 97387, -2883: 97388}\n"
     ]
    },
    {
     "name": "stderr",
     "output_type": "stream",
     "text": [
      " 74%|███████▍  | 286/386 [25:01<09:24,  5.65s/it]"
     ]
    },
    {
     "name": "stdout",
     "output_type": "stream",
     "text": [
      "287\n",
      "2025-01-05 16:16:24,821 INFO Started executing jobs locally\n",
      "2025-01-05 16:16:24,829 INFO Starting job - Scf calculation (ab6d6c28-3ffb-41f1-bb73-3fdeb60cc204)\n",
      "job is running... let's kill it...\n",
      "2025-01-05 16:16:30,319 INFO Added a workflow. id_map: {-2904: 97389, -2903: 97390, -2902: 97391, -2901: 97392, -2900: 97393, -2899: 97394, -2898: 97395, -2897: 97396, -2896: 97397, -2895: 97398, -2894: 97399}\n"
     ]
    },
    {
     "name": "stderr",
     "output_type": "stream",
     "text": [
      " 74%|███████▍  | 287/386 [25:07<09:19,  5.65s/it]"
     ]
    },
    {
     "name": "stdout",
     "output_type": "stream",
     "text": [
      "288\n",
      "2025-01-05 16:16:30,520 INFO Started executing jobs locally\n",
      "2025-01-05 16:16:30,532 INFO Starting job - Scf calculation (78e18123-34d3-4443-9bb5-83888c607d41)\n",
      "job is running... let's kill it...\n",
      "2025-01-05 16:16:36,043 INFO Added a workflow. id_map: {-2915: 97400, -2914: 97401, -2913: 97402, -2912: 97403, -2911: 97404, -2910: 97405, -2909: 97406, -2908: 97407, -2907: 97408, -2906: 97409, -2905: 97410}\n"
     ]
    },
    {
     "name": "stderr",
     "output_type": "stream",
     "text": [
      " 75%|███████▍  | 288/386 [25:13<09:16,  5.67s/it]"
     ]
    },
    {
     "name": "stdout",
     "output_type": "stream",
     "text": [
      "289\n",
      "2025-01-05 16:16:36,211 INFO Started executing jobs locally\n",
      "2025-01-05 16:16:36,220 INFO Starting job - Scf calculation (16ed2d3b-7813-42c3-aea4-adaf99228c84)\n",
      "job is running... let's kill it...\n",
      "2025-01-05 16:16:41,700 INFO Added a workflow. id_map: {-2926: 97411, -2925: 97412, -2924: 97413, -2923: 97414, -2922: 97415, -2921: 97416, -2920: 97417, -2919: 97418, -2918: 97419, -2917: 97420, -2916: 97421}\n"
     ]
    },
    {
     "name": "stderr",
     "output_type": "stream",
     "text": [
      " 75%|███████▍  | 289/386 [25:18<09:09,  5.67s/it]"
     ]
    },
    {
     "name": "stdout",
     "output_type": "stream",
     "text": [
      "290\n",
      "2025-01-05 16:16:41,870 INFO Started executing jobs locally\n",
      "2025-01-05 16:16:41,880 INFO Starting job - Scf calculation (54ff460e-b2aa-41ff-98f9-fb9226d151a3)\n",
      "job is running... let's kill it...\n",
      "2025-01-05 16:16:47,400 INFO Added a workflow. id_map: {-2937: 97422, -2936: 97423, -2935: 97424, -2934: 97425, -2933: 97426, -2932: 97427, -2931: 97428, -2930: 97429, -2929: 97430, -2928: 97431, -2927: 97432}\n"
     ]
    },
    {
     "name": "stderr",
     "output_type": "stream",
     "text": [
      " 75%|███████▌  | 290/386 [25:24<09:04,  5.68s/it]"
     ]
    },
    {
     "name": "stdout",
     "output_type": "stream",
     "text": [
      "291\n",
      "2025-01-05 16:16:47,589 INFO Started executing jobs locally\n",
      "2025-01-05 16:16:47,600 INFO Starting job - Scf calculation (864bcfe0-87f8-478a-8d54-7d086c7b4721)\n",
      "job is running... let's kill it...\n",
      "2025-01-05 16:16:53,125 INFO Added a workflow. id_map: {-2948: 97433, -2947: 97434, -2946: 97435, -2945: 97436, -2944: 97437, -2943: 97438, -2942: 97439, -2941: 97440, -2940: 97441, -2939: 97442, -2938: 97443}\n"
     ]
    },
    {
     "name": "stderr",
     "output_type": "stream",
     "text": [
      " 75%|███████▌  | 291/386 [25:30<09:00,  5.69s/it]"
     ]
    },
    {
     "name": "stdout",
     "output_type": "stream",
     "text": [
      "292\n",
      "2025-01-05 16:16:53,299 INFO Started executing jobs locally\n",
      "2025-01-05 16:16:53,309 INFO Starting job - Scf calculation (6aacd33e-ae7e-4b6c-953f-a235f230d028)\n",
      "chksymbreak triggered\n"
     ]
    },
    {
     "name": "stderr",
     "output_type": "stream",
     "text": [
      " 76%|███████▌  | 292/386 [25:30<06:26,  4.11s/it]"
     ]
    },
    {
     "name": "stdout",
     "output_type": "stream",
     "text": [
      "293\n",
      "2025-01-05 16:16:53,702 INFO Started executing jobs locally\n",
      "2025-01-05 16:16:53,712 INFO Starting job - Scf calculation (92d894b8-a65a-4ba6-8a97-26dbe2832db2)\n",
      "job is running... let's kill it...\n",
      "2025-01-05 16:16:59,200 INFO Added a workflow. id_map: {-2959: 97444, -2958: 97445, -2957: 97446, -2956: 97447, -2955: 97448, -2954: 97449, -2953: 97450, -2952: 97451, -2951: 97452, -2950: 97453, -2949: 97454}\n"
     ]
    },
    {
     "name": "stderr",
     "output_type": "stream",
     "text": [
      " 76%|███████▌  | 293/386 [25:36<07:05,  4.57s/it]"
     ]
    },
    {
     "name": "stdout",
     "output_type": "stream",
     "text": [
      "294\n",
      "2025-01-05 16:16:59,357 INFO Started executing jobs locally\n",
      "2025-01-05 16:16:59,365 INFO Starting job - Scf calculation (b0923e16-1b31-4612-b5c1-3779cb632b32)\n",
      "job is running... let's kill it...\n",
      "2025-01-05 16:17:04,852 INFO Added a workflow. id_map: {-2970: 97455, -2969: 97456, -2968: 97457, -2967: 97458, -2966: 97459, -2965: 97460, -2964: 97461, -2963: 97462, -2962: 97463, -2961: 97464, -2960: 97465}\n"
     ]
    },
    {
     "name": "stderr",
     "output_type": "stream",
     "text": [
      " 76%|███████▌  | 294/386 [25:42<07:30,  4.90s/it]"
     ]
    },
    {
     "name": "stdout",
     "output_type": "stream",
     "text": [
      "295\n",
      "2025-01-05 16:17:05,018 INFO Started executing jobs locally\n",
      "2025-01-05 16:17:05,026 INFO Starting job - Scf calculation (a6a6b394-8050-444a-97a1-846aeca56353)\n",
      "job is running... let's kill it...\n",
      "2025-01-05 16:17:10,517 INFO Added a workflow. id_map: {-2981: 97466, -2980: 97467, -2979: 97468, -2978: 97469, -2977: 97470, -2976: 97471, -2975: 97472, -2974: 97473, -2973: 97474, -2972: 97475, -2971: 97476}\n"
     ]
    },
    {
     "name": "stderr",
     "output_type": "stream",
     "text": [
      " 76%|███████▋  | 295/386 [25:47<07:46,  5.13s/it]"
     ]
    },
    {
     "name": "stdout",
     "output_type": "stream",
     "text": [
      "296\n",
      "2025-01-05 16:17:10,676 INFO Started executing jobs locally\n",
      "2025-01-05 16:17:10,685 INFO Starting job - Scf calculation (09d9589e-d20a-4ab9-8db6-ad55049753bc)\n",
      "job is running... let's kill it...\n",
      "2025-01-05 16:17:16,174 INFO Added a workflow. id_map: {-2992: 97477, -2991: 97478, -2990: 97479, -2989: 97480, -2988: 97481, -2987: 97482, -2986: 97483, -2985: 97484, -2984: 97485, -2983: 97486, -2982: 97487}\n"
     ]
    },
    {
     "name": "stderr",
     "output_type": "stream",
     "text": [
      " 77%|███████▋  | 296/386 [25:53<07:55,  5.29s/it]"
     ]
    },
    {
     "name": "stdout",
     "output_type": "stream",
     "text": [
      "297\n",
      "2025-01-05 16:17:16,336 INFO Started executing jobs locally\n",
      "2025-01-05 16:17:16,345 INFO Starting job - Scf calculation (aef52ba3-069c-44ea-b5ab-f45cc632f54b)\n",
      "job is running... let's kill it...\n",
      "2025-01-05 16:17:21,823 INFO Added a workflow. id_map: {-3003: 97488, -3002: 97489, -3001: 97490, -3000: 97491, -2999: 97492, -2998: 97493, -2997: 97494, -2996: 97495, -2995: 97496, -2994: 97497, -2993: 97498}\n"
     ]
    },
    {
     "name": "stderr",
     "output_type": "stream",
     "text": [
      " 77%|███████▋  | 297/386 [25:59<08:00,  5.39s/it]"
     ]
    },
    {
     "name": "stdout",
     "output_type": "stream",
     "text": [
      "298\n",
      "2025-01-05 16:17:21,984 INFO Started executing jobs locally\n",
      "2025-01-05 16:17:21,993 INFO Starting job - Scf calculation (5e2c3e26-71ce-46fe-af23-9102969ccac0)\n",
      "job is running... let's kill it...\n",
      "2025-01-05 16:17:27,539 INFO Added a workflow. id_map: {-3014: 97499, -3013: 97500, -3012: 97501, -3011: 97502, -3010: 97503, -3009: 97504, -3008: 97505, -3007: 97506, -3006: 97507, -3005: 97508, -3004: 97509}\n"
     ]
    },
    {
     "name": "stderr",
     "output_type": "stream",
     "text": [
      " 77%|███████▋  | 298/386 [26:04<08:03,  5.49s/it]"
     ]
    },
    {
     "name": "stdout",
     "output_type": "stream",
     "text": [
      "299\n",
      "2025-01-05 16:17:27,711 INFO Started executing jobs locally\n",
      "2025-01-05 16:17:27,730 INFO Starting job - Scf calculation (ec2d7023-3efa-4451-9a49-cf24213738fc)\n",
      "job is running... let's kill it...\n",
      "2025-01-05 16:17:33,222 INFO Added a workflow. id_map: {-3025: 97510, -3024: 97511, -3023: 97512, -3022: 97513, -3021: 97514, -3020: 97515, -3019: 97516, -3018: 97517, -3017: 97518, -3016: 97519, -3015: 97520}\n"
     ]
    },
    {
     "name": "stderr",
     "output_type": "stream",
     "text": [
      " 77%|███████▋  | 299/386 [26:10<08:02,  5.55s/it]"
     ]
    },
    {
     "name": "stdout",
     "output_type": "stream",
     "text": [
      "300\n",
      "2025-01-05 16:17:33,384 INFO Started executing jobs locally\n",
      "2025-01-05 16:17:33,392 INFO Starting job - Scf calculation (f7f7e4bc-faa6-48fd-837f-d6185f802e3a)\n",
      "job is running... let's kill it...\n",
      "2025-01-05 16:17:38,870 INFO Added a workflow. id_map: {-3036: 97521, -3035: 97522, -3034: 97523, -3033: 97524, -3032: 97525, -3031: 97526, -3030: 97527, -3029: 97528, -3028: 97529, -3027: 97530, -3026: 97531}\n"
     ]
    },
    {
     "name": "stderr",
     "output_type": "stream",
     "text": [
      " 78%|███████▊  | 300/386 [26:16<07:59,  5.58s/it]"
     ]
    },
    {
     "name": "stdout",
     "output_type": "stream",
     "text": [
      "301\n",
      "2025-01-05 16:17:39,044 INFO Started executing jobs locally\n",
      "2025-01-05 16:17:39,053 INFO Starting job - Scf calculation (9cf453e4-d0f7-4c33-89b7-fa038a3b04b8)\n",
      "job is running... let's kill it...\n",
      "2025-01-05 16:17:44,545 INFO Added a workflow. id_map: {-3047: 97532, -3046: 97533, -3045: 97534, -3044: 97535, -3043: 97536, -3042: 97537, -3041: 97538, -3040: 97539, -3039: 97540, -3038: 97541, -3037: 97542}\n"
     ]
    },
    {
     "name": "stderr",
     "output_type": "stream",
     "text": [
      " 78%|███████▊  | 301/386 [26:21<07:56,  5.61s/it]"
     ]
    },
    {
     "name": "stdout",
     "output_type": "stream",
     "text": [
      "302\n",
      "2025-01-05 16:17:44,705 INFO Started executing jobs locally\n",
      "2025-01-05 16:17:44,712 INFO Starting job - Scf calculation (7e3c56ce-3f9d-4112-9445-5908b2c4c77b)\n",
      "job is running... let's kill it...\n",
      "2025-01-05 16:17:50,208 INFO Added a workflow. id_map: {-3058: 97543, -3057: 97544, -3056: 97545, -3055: 97546, -3054: 97547, -3053: 97548, -3052: 97549, -3051: 97550, -3050: 97551, -3049: 97552, -3048: 97553}\n"
     ]
    },
    {
     "name": "stderr",
     "output_type": "stream",
     "text": [
      " 78%|███████▊  | 302/386 [26:27<07:52,  5.62s/it]"
     ]
    },
    {
     "name": "stdout",
     "output_type": "stream",
     "text": [
      "303\n",
      "2025-01-05 16:17:50,371 INFO Started executing jobs locally\n",
      "2025-01-05 16:17:50,379 INFO Starting job - Scf calculation (87ed1d17-edfb-4e74-8122-8d15aded3281)\n",
      "job is running... let's kill it...\n",
      "2025-01-05 16:17:55,862 INFO Added a workflow. id_map: {-3069: 97554, -3068: 97555, -3067: 97556, -3066: 97557, -3065: 97558, -3064: 97559, -3063: 97560, -3062: 97561, -3061: 97562, -3060: 97563, -3059: 97564}\n"
     ]
    },
    {
     "name": "stderr",
     "output_type": "stream",
     "text": [
      " 78%|███████▊  | 303/386 [26:33<07:47,  5.63s/it]"
     ]
    },
    {
     "name": "stdout",
     "output_type": "stream",
     "text": [
      "304\n",
      "2025-01-05 16:17:56,023 INFO Started executing jobs locally\n",
      "2025-01-05 16:17:56,031 INFO Starting job - Scf calculation (b1a62a0a-7f91-469d-ac51-4b57990d20d5)\n",
      "job is running... let's kill it...\n",
      "2025-01-05 16:18:01,523 INFO Added a workflow. id_map: {-3080: 97565, -3079: 97566, -3078: 97567, -3077: 97568, -3076: 97569, -3075: 97570, -3074: 97571, -3073: 97572, -3072: 97573, -3071: 97574, -3070: 97575}\n"
     ]
    },
    {
     "name": "stderr",
     "output_type": "stream",
     "text": [
      " 79%|███████▉  | 304/386 [26:38<07:42,  5.64s/it]"
     ]
    },
    {
     "name": "stdout",
     "output_type": "stream",
     "text": [
      "305\n",
      "2025-01-05 16:18:01,684 INFO Started executing jobs locally\n",
      "2025-01-05 16:18:01,693 INFO Starting job - Scf calculation (06829594-6b66-4f39-af0b-c91f66ac38ee)\n",
      "job is running... let's kill it...\n",
      "2025-01-05 16:18:07,177 INFO Added a workflow. id_map: {-3091: 97576, -3090: 97577, -3089: 97578, -3088: 97579, -3087: 97580, -3086: 97581, -3085: 97582, -3084: 97583, -3083: 97584, -3082: 97585, -3081: 97586}\n"
     ]
    },
    {
     "name": "stderr",
     "output_type": "stream",
     "text": [
      " 79%|███████▉  | 305/386 [26:44<07:37,  5.65s/it]"
     ]
    },
    {
     "name": "stdout",
     "output_type": "stream",
     "text": [
      "306\n",
      "2025-01-05 16:18:07,346 INFO Started executing jobs locally\n",
      "2025-01-05 16:18:07,354 INFO Starting job - Scf calculation (d9892ab8-ed74-4218-b516-59fc1cba84cc)\n",
      "chksymbreak triggered\n"
     ]
    },
    {
     "name": "stderr",
     "output_type": "stream",
     "text": [
      " 79%|███████▉  | 306/386 [26:44<05:22,  4.04s/it]"
     ]
    },
    {
     "name": "stdout",
     "output_type": "stream",
     "text": [
      "307\n",
      "2025-01-05 16:18:07,635 INFO Started executing jobs locally\n",
      "2025-01-05 16:18:07,645 INFO Starting job - Scf calculation (0cb653bc-886a-4ed6-bccc-9ec06aa6992e)\n",
      "job is running... let's kill it...\n",
      "2025-01-05 16:18:13,162 INFO Added a workflow. id_map: {-3102: 97587, -3101: 97588, -3100: 97589, -3099: 97590, -3098: 97591, -3097: 97592, -3096: 97593, -3095: 97594, -3094: 97595, -3093: 97596, -3092: 97597}\n"
     ]
    },
    {
     "name": "stderr",
     "output_type": "stream",
     "text": [
      " 80%|███████▉  | 307/386 [26:50<05:58,  4.54s/it]"
     ]
    },
    {
     "name": "stdout",
     "output_type": "stream",
     "text": [
      "308\n",
      "2025-01-05 16:18:13,327 INFO Started executing jobs locally\n",
      "2025-01-05 16:18:13,334 INFO Starting job - Scf calculation (cd4f6a16-9ee9-4d67-bbc2-ffac76d0249c)\n",
      "job is running... let's kill it...\n",
      "2025-01-05 16:18:18,823 INFO Added a workflow. id_map: {-3113: 97598, -3112: 97599, -3111: 97600, -3110: 97601, -3109: 97602, -3108: 97603, -3107: 97604, -3106: 97605, -3105: 97606, -3104: 97607, -3103: 97608}\n"
     ]
    },
    {
     "name": "stderr",
     "output_type": "stream",
     "text": [
      " 80%|███████▉  | 308/386 [26:56<06:20,  4.87s/it]"
     ]
    },
    {
     "name": "stdout",
     "output_type": "stream",
     "text": [
      "309\n",
      "2025-01-05 16:18:18,986 INFO Started executing jobs locally\n",
      "2025-01-05 16:18:18,994 INFO Starting job - Scf calculation (b379f7e2-87d9-48df-baec-c386745f9a63)\n",
      "job is running... let's kill it...\n",
      "2025-01-05 16:18:24,478 INFO Added a workflow. id_map: {-3124: 97609, -3123: 97610, -3122: 97611, -3121: 97612, -3120: 97613, -3119: 97614, -3118: 97615, -3117: 97616, -3116: 97617, -3115: 97618, -3114: 97619}\n"
     ]
    },
    {
     "name": "stderr",
     "output_type": "stream",
     "text": [
      " 80%|████████  | 309/386 [27:01<06:33,  5.11s/it]"
     ]
    },
    {
     "name": "stdout",
     "output_type": "stream",
     "text": [
      "310\n",
      "2025-01-05 16:18:24,636 INFO Started executing jobs locally\n",
      "2025-01-05 16:18:24,644 INFO Starting job - Scf calculation (9de268d4-0c02-4693-9281-655ff294e702)\n",
      "job is running... let's kill it...\n",
      "2025-01-05 16:18:30,130 INFO Added a workflow. id_map: {-3135: 97620, -3134: 97621, -3133: 97622, -3132: 97623, -3131: 97624, -3130: 97625, -3129: 97626, -3128: 97627, -3127: 97628, -3126: 97629, -3125: 97630}\n"
     ]
    },
    {
     "name": "stderr",
     "output_type": "stream",
     "text": [
      " 80%|████████  | 310/386 [27:07<06:40,  5.27s/it]"
     ]
    },
    {
     "name": "stdout",
     "output_type": "stream",
     "text": [
      "311\n",
      "Uneven number of valence electrons. Let's skip this structure\n",
      "312\n",
      "2025-01-05 16:18:30,297 INFO Started executing jobs locally\n",
      "2025-01-05 16:18:30,305 INFO Starting job - Scf calculation (5d5cad96-03a6-467b-bf33-dbeea8df8082)\n",
      "job is running... let's kill it...\n",
      "2025-01-05 16:18:35,790 INFO Added a workflow. id_map: {-3146: 97631, -3145: 97632, -3144: 97633, -3143: 97634, -3142: 97635, -3141: 97636, -3140: 97637, -3139: 97638, -3138: 97639, -3137: 97640, -3136: 97641}\n"
     ]
    },
    {
     "name": "stderr",
     "output_type": "stream",
     "text": [
      " 81%|████████  | 312/386 [27:13<05:06,  4.14s/it]"
     ]
    },
    {
     "name": "stdout",
     "output_type": "stream",
     "text": [
      "313\n",
      "2025-01-05 16:18:35,946 INFO Started executing jobs locally\n",
      "2025-01-05 16:18:35,954 INFO Starting job - Scf calculation (41722601-bab9-452e-9186-6dca8ad52218)\n",
      "job is running... let's kill it...\n",
      "2025-01-05 16:18:41,437 INFO Added a workflow. id_map: {-3157: 97642, -3156: 97643, -3155: 97644, -3154: 97645, -3153: 97646, -3152: 97647, -3151: 97648, -3150: 97649, -3149: 97650, -3148: 97651, -3147: 97652}\n"
     ]
    },
    {
     "name": "stderr",
     "output_type": "stream",
     "text": [
      " 81%|████████  | 313/386 [27:18<05:29,  4.52s/it]"
     ]
    },
    {
     "name": "stdout",
     "output_type": "stream",
     "text": [
      "314\n",
      "2025-01-05 16:18:41,595 INFO Started executing jobs locally\n",
      "2025-01-05 16:18:41,603 INFO Starting job - Scf calculation (6cdde264-5956-4afe-884d-af4acce3f9ec)\n",
      "job is running... let's kill it...\n",
      "2025-01-05 16:18:47,094 INFO Added a workflow. id_map: {-3168: 97653, -3167: 97654, -3166: 97655, -3165: 97656, -3164: 97657, -3163: 97658, -3162: 97659, -3161: 97660, -3160: 97661, -3159: 97662, -3158: 97663}\n"
     ]
    },
    {
     "name": "stderr",
     "output_type": "stream",
     "text": [
      " 81%|████████▏ | 314/386 [27:24<05:46,  4.82s/it]"
     ]
    },
    {
     "name": "stdout",
     "output_type": "stream",
     "text": [
      "315\n",
      "2025-01-05 16:18:47,281 INFO Started executing jobs locally\n",
      "2025-01-05 16:18:47,289 INFO Starting job - Scf calculation (aa2ea0db-6185-4d9f-9410-b21c97e2db4f)\n",
      "job is running... let's kill it...\n",
      "2025-01-05 16:18:52,818 INFO Added a workflow. id_map: {-3179: 97664, -3178: 97665, -3177: 97666, -3176: 97667, -3175: 97668, -3174: 97669, -3173: 97670, -3172: 97671, -3171: 97672, -3170: 97673, -3169: 97674}\n"
     ]
    },
    {
     "name": "stderr",
     "output_type": "stream",
     "text": [
      " 82%|████████▏ | 315/386 [27:30<05:59,  5.06s/it]"
     ]
    },
    {
     "name": "stdout",
     "output_type": "stream",
     "text": [
      "316\n",
      "Uneven number of valence electrons. Let's skip this structure\n",
      "317\n",
      "2025-01-05 16:18:52,987 INFO Started executing jobs locally\n",
      "2025-01-05 16:18:52,997 INFO Starting job - Scf calculation (ff83a3ec-05f5-49b1-8723-a31c53a502d0)\n",
      "job is running... let's kill it...\n",
      "2025-01-05 16:18:58,506 INFO Added a workflow. id_map: {-3190: 97675, -3189: 97676, -3188: 97677, -3187: 97678, -3186: 97679, -3185: 97680, -3184: 97681, -3183: 97682, -3182: 97683, -3181: 97684, -3180: 97685}\n"
     ]
    },
    {
     "name": "stderr",
     "output_type": "stream",
     "text": [
      " 82%|████████▏ | 317/386 [27:35<04:42,  4.09s/it]"
     ]
    },
    {
     "name": "stdout",
     "output_type": "stream",
     "text": [
      "318\n",
      "2025-01-05 16:18:58,663 INFO Started executing jobs locally\n",
      "2025-01-05 16:18:58,670 INFO Starting job - Scf calculation (cc975c0d-2f0a-44d7-a344-d89e684b03dc)\n",
      "job is running... let's kill it...\n",
      "2025-01-05 16:19:04,159 INFO Added a workflow. id_map: {-3201: 97686, -3200: 97687, -3199: 97688, -3198: 97689, -3197: 97690, -3196: 97691, -3195: 97692, -3194: 97693, -3193: 97694, -3192: 97695, -3191: 97696}\n"
     ]
    },
    {
     "name": "stderr",
     "output_type": "stream",
     "text": [
      " 82%|████████▏ | 318/386 [27:41<05:03,  4.46s/it]"
     ]
    },
    {
     "name": "stdout",
     "output_type": "stream",
     "text": [
      "319\n",
      "2025-01-05 16:19:04,334 INFO Started executing jobs locally\n",
      "2025-01-05 16:19:04,343 INFO Starting job - Scf calculation (35b1e666-454c-4feb-86e1-54a402af9149)\n",
      "job is running... let's kill it...\n",
      "2025-01-05 16:19:09,825 INFO Added a workflow. id_map: {-3212: 97697, -3211: 97698, -3210: 97699, -3209: 97700, -3208: 97701, -3207: 97702, -3206: 97703, -3205: 97704, -3204: 97705, -3203: 97706, -3202: 97707}\n"
     ]
    },
    {
     "name": "stderr",
     "output_type": "stream",
     "text": [
      " 83%|████████▎ | 319/386 [27:47<05:19,  4.77s/it]"
     ]
    },
    {
     "name": "stdout",
     "output_type": "stream",
     "text": [
      "320\n",
      "2025-01-05 16:19:09,992 INFO Started executing jobs locally\n",
      "2025-01-05 16:19:10,000 INFO Starting job - Scf calculation (8013e253-abd6-401b-a842-92f43e2063de)\n",
      "job is running... let's kill it...\n",
      "2025-01-05 16:19:15,484 INFO Added a workflow. id_map: {-3223: 97708, -3222: 97709, -3221: 97710, -3220: 97711, -3219: 97712, -3218: 97713, -3217: 97714, -3216: 97715, -3215: 97716, -3214: 97717, -3213: 97718}\n"
     ]
    },
    {
     "name": "stderr",
     "output_type": "stream",
     "text": [
      " 83%|████████▎ | 320/386 [27:52<05:30,  5.01s/it]"
     ]
    },
    {
     "name": "stdout",
     "output_type": "stream",
     "text": [
      "321\n",
      "2025-01-05 16:19:15,650 INFO Started executing jobs locally\n",
      "2025-01-05 16:19:15,658 INFO Starting job - Scf calculation (c5759962-71d4-4aa9-b4ec-b272a5318cb0)\n",
      "job is running... let's kill it...\n",
      "2025-01-05 16:19:21,146 INFO Added a workflow. id_map: {-3234: 97719, -3233: 97720, -3232: 97721, -3231: 97722, -3230: 97723, -3229: 97724, -3228: 97725, -3227: 97726, -3226: 97727, -3225: 97728, -3224: 97729}\n"
     ]
    },
    {
     "name": "stderr",
     "output_type": "stream",
     "text": [
      " 83%|████████▎ | 321/386 [27:58<05:37,  5.19s/it]"
     ]
    },
    {
     "name": "stdout",
     "output_type": "stream",
     "text": [
      "322\n",
      "2025-01-05 16:19:21,315 INFO Started executing jobs locally\n",
      "2025-01-05 16:19:21,325 INFO Starting job - Scf calculation (24ec29f3-5162-4e2a-9709-a887bcf0abff)\n",
      "job is running... let's kill it...\n",
      "2025-01-05 16:19:26,815 INFO Added a workflow. id_map: {-3245: 97730, -3244: 97731, -3243: 97732, -3242: 97733, -3241: 97734, -3240: 97735, -3239: 97736, -3238: 97737, -3237: 97738, -3236: 97739, -3235: 97740}\n"
     ]
    },
    {
     "name": "stderr",
     "output_type": "stream",
     "text": [
      " 83%|████████▎ | 322/386 [28:04<05:40,  5.32s/it]"
     ]
    },
    {
     "name": "stdout",
     "output_type": "stream",
     "text": [
      "323\n",
      "2025-01-05 16:19:26,975 INFO Started executing jobs locally\n",
      "2025-01-05 16:19:26,984 INFO Starting job - Scf calculation (ddf2e6f7-163f-4a9a-aa50-1e533ce671e8)\n",
      "job is running... let's kill it...\n",
      "2025-01-05 16:19:32,466 INFO Added a workflow. id_map: {-3256: 97741, -3255: 97742, -3254: 97743, -3253: 97744, -3252: 97745, -3251: 97746, -3250: 97747, -3249: 97748, -3248: 97749, -3247: 97750, -3246: 97751}\n"
     ]
    },
    {
     "name": "stderr",
     "output_type": "stream",
     "text": [
      " 84%|████████▎ | 323/386 [28:09<05:41,  5.42s/it]"
     ]
    },
    {
     "name": "stdout",
     "output_type": "stream",
     "text": [
      "324\n",
      "2025-01-05 16:19:32,654 INFO Started executing jobs locally\n",
      "2025-01-05 16:19:32,668 INFO Starting job - Scf calculation (de38a17b-666b-4126-b675-fccd50111095)\n",
      "job is running... let's kill it...\n",
      "2025-01-05 16:19:38,164 INFO Added a workflow. id_map: {-3267: 97752, -3266: 97753, -3265: 97754, -3264: 97755, -3263: 97756, -3262: 97757, -3261: 97758, -3260: 97759, -3259: 97760, -3258: 97761, -3257: 97762}\n"
     ]
    },
    {
     "name": "stderr",
     "output_type": "stream",
     "text": [
      " 84%|████████▍ | 324/386 [28:15<05:40,  5.50s/it]"
     ]
    },
    {
     "name": "stdout",
     "output_type": "stream",
     "text": [
      "325\n",
      "2025-01-05 16:19:38,320 INFO Started executing jobs locally\n",
      "2025-01-05 16:19:38,328 INFO Starting job - Scf calculation (87f7d18c-16e9-4994-ba05-cdc4bab42ca1)\n",
      "job is running... let's kill it...\n",
      "2025-01-05 16:19:43,831 INFO Added a workflow. id_map: {-3278: 97763, -3277: 97764, -3276: 97765, -3275: 97766, -3274: 97767, -3273: 97768, -3272: 97769, -3271: 97770, -3270: 97771, -3269: 97772, -3268: 97773}\n"
     ]
    },
    {
     "name": "stderr",
     "output_type": "stream",
     "text": [
      " 84%|████████▍ | 325/386 [28:21<05:38,  5.55s/it]"
     ]
    },
    {
     "name": "stdout",
     "output_type": "stream",
     "text": [
      "326\n",
      "2025-01-05 16:19:43,993 INFO Started executing jobs locally\n",
      "2025-01-05 16:19:44,001 INFO Starting job - Scf calculation (e79178c9-1dbd-411c-90a1-00551719e4f2)\n",
      "job is running... let's kill it...\n",
      "2025-01-05 16:19:49,495 INFO Added a workflow. id_map: {-3289: 97774, -3288: 97775, -3287: 97776, -3286: 97777, -3285: 97778, -3284: 97779, -3283: 97780, -3282: 97781, -3281: 97782, -3280: 97783, -3279: 97784}\n"
     ]
    },
    {
     "name": "stderr",
     "output_type": "stream",
     "text": [
      " 84%|████████▍ | 326/386 [28:26<05:34,  5.58s/it]"
     ]
    },
    {
     "name": "stdout",
     "output_type": "stream",
     "text": [
      "327\n",
      "2025-01-05 16:19:49,665 INFO Started executing jobs locally\n",
      "2025-01-05 16:19:49,674 INFO Starting job - Scf calculation (4037bedd-881b-466a-a694-370ef6946989)\n",
      "job is running... let's kill it...\n",
      "2025-01-05 16:19:55,167 INFO Added a workflow. id_map: {-3300: 97785, -3299: 97786, -3298: 97787, -3297: 97788, -3296: 97789, -3295: 97790, -3294: 97791, -3293: 97792, -3292: 97793, -3291: 97794, -3290: 97795}\n"
     ]
    },
    {
     "name": "stderr",
     "output_type": "stream",
     "text": [
      " 85%|████████▍ | 327/386 [28:32<05:30,  5.61s/it]"
     ]
    },
    {
     "name": "stdout",
     "output_type": "stream",
     "text": [
      "328\n",
      "2025-01-05 16:19:55,336 INFO Started executing jobs locally\n",
      "2025-01-05 16:19:55,344 INFO Starting job - Scf calculation (cf77dab1-f186-450f-8020-badf2ddcaff9)\n",
      "job is running... let's kill it...\n",
      "2025-01-05 16:20:00,830 INFO Added a workflow. id_map: {-3311: 97796, -3310: 97797, -3309: 97798, -3308: 97799, -3307: 97800, -3306: 97801, -3305: 97802, -3304: 97803, -3303: 97804, -3302: 97805, -3301: 97806}\n"
     ]
    },
    {
     "name": "stderr",
     "output_type": "stream",
     "text": [
      " 85%|████████▍ | 328/386 [28:38<05:26,  5.63s/it]"
     ]
    },
    {
     "name": "stdout",
     "output_type": "stream",
     "text": [
      "329\n",
      "2025-01-05 16:20:01,012 INFO Started executing jobs locally\n",
      "2025-01-05 16:20:01,027 INFO Starting job - Scf calculation (b93c2ec1-79bb-4ff1-b687-f38152e4b615)\n",
      "chksymbreak triggered\n"
     ]
    },
    {
     "name": "stderr",
     "output_type": "stream",
     "text": [
      " 85%|████████▌ | 329/386 [28:38<03:46,  3.98s/it]"
     ]
    },
    {
     "name": "stdout",
     "output_type": "stream",
     "text": [
      "330\n",
      "2025-01-05 16:20:01,111 INFO Started executing jobs locally\n",
      "2025-01-05 16:20:01,126 INFO Starting job - Scf calculation (be5e0433-4a45-4ec2-bd4a-0ceeec90d8ca)\n",
      "job is running... let's kill it...\n",
      "2025-01-05 16:20:06,840 INFO Added a workflow. id_map: {-3322: 97807, -3321: 97808, -3320: 97809, -3319: 97810, -3318: 97811, -3317: 97812, -3316: 97813, -3315: 97814, -3314: 97815, -3313: 97816, -3312: 97817}\n"
     ]
    },
    {
     "name": "stderr",
     "output_type": "stream",
     "text": [
      " 85%|████████▌ | 330/386 [28:44<04:15,  4.55s/it]"
     ]
    },
    {
     "name": "stdout",
     "output_type": "stream",
     "text": [
      "331\n",
      "2025-01-05 16:20:07,005 INFO Started executing jobs locally\n",
      "2025-01-05 16:20:07,012 INFO Starting job - Scf calculation (284556b4-6816-430a-985d-587f821e8dda)\n",
      "job is running... let's kill it...\n",
      "2025-01-05 16:20:12,506 INFO Added a workflow. id_map: {-3333: 97818, -3332: 97819, -3331: 97820, -3330: 97821, -3329: 97822, -3328: 97823, -3327: 97824, -3326: 97825, -3325: 97826, -3324: 97827, -3323: 97828}\n"
     ]
    },
    {
     "name": "stderr",
     "output_type": "stream",
     "text": [
      " 86%|████████▌ | 331/386 [28:49<04:28,  4.89s/it]"
     ]
    },
    {
     "name": "stdout",
     "output_type": "stream",
     "text": [
      "332\n",
      "2025-01-05 16:20:12,677 INFO Started executing jobs locally\n",
      "2025-01-05 16:20:12,688 INFO Starting job - Scf calculation (8609afc3-1f96-4dc1-9096-a734cb1c13c6)\n",
      "job is running... let's kill it...\n",
      "2025-01-05 16:20:18,224 INFO Added a workflow. id_map: {-3344: 97829, -3343: 97830, -3342: 97831, -3341: 97832, -3340: 97833, -3339: 97834, -3338: 97835, -3337: 97836, -3336: 97837, -3335: 97838, -3334: 97839}\n"
     ]
    },
    {
     "name": "stderr",
     "output_type": "stream",
     "text": [
      " 86%|████████▌ | 332/386 [28:55<04:37,  5.13s/it]"
     ]
    },
    {
     "name": "stdout",
     "output_type": "stream",
     "text": [
      "333\n",
      "2025-01-05 16:20:18,396 INFO Started executing jobs locally\n",
      "2025-01-05 16:20:18,406 INFO Starting job - Scf calculation (01e70da8-bf51-4c20-a3e5-d6e6b2d793a2)\n",
      "job is running... let's kill it...\n",
      "2025-01-05 16:20:23,927 INFO Added a workflow. id_map: {-3355: 97840, -3354: 97841, -3353: 97842, -3352: 97843, -3351: 97844, -3350: 97845, -3349: 97846, -3348: 97847, -3347: 97848, -3346: 97849, -3345: 97850}\n"
     ]
    },
    {
     "name": "stderr",
     "output_type": "stream",
     "text": [
      " 86%|████████▋ | 333/386 [29:01<04:41,  5.30s/it]"
     ]
    },
    {
     "name": "stdout",
     "output_type": "stream",
     "text": [
      "334\n",
      "2025-01-05 16:20:24,086 INFO Started executing jobs locally\n",
      "2025-01-05 16:20:24,097 INFO Starting job - Scf calculation (245d8be0-dbf7-41ab-874a-3e9def160af6)\n",
      "job is running... let's kill it...\n",
      "2025-01-05 16:20:29,574 INFO Added a workflow. id_map: {-3366: 97851, -3365: 97852, -3364: 97853, -3363: 97854, -3362: 97855, -3361: 97856, -3360: 97857, -3359: 97858, -3358: 97859, -3357: 97860, -3356: 97861}\n"
     ]
    },
    {
     "name": "stderr",
     "output_type": "stream",
     "text": [
      " 87%|████████▋ | 334/386 [29:06<04:41,  5.41s/it]"
     ]
    },
    {
     "name": "stdout",
     "output_type": "stream",
     "text": [
      "335\n",
      "2025-01-05 16:20:29,735 INFO Started executing jobs locally\n",
      "2025-01-05 16:20:29,744 INFO Starting job - Scf calculation (e30665db-2138-4a24-a7ab-0cb85e61dfbf)\n",
      "job is running... let's kill it...\n",
      "2025-01-05 16:20:35,228 INFO Added a workflow. id_map: {-3377: 97862, -3376: 97863, -3375: 97864, -3374: 97865, -3373: 97866, -3372: 97867, -3371: 97868, -3370: 97869, -3369: 97870, -3368: 97871, -3367: 97872}\n"
     ]
    },
    {
     "name": "stderr",
     "output_type": "stream",
     "text": [
      " 87%|████████▋ | 335/386 [29:12<04:39,  5.48s/it]"
     ]
    },
    {
     "name": "stdout",
     "output_type": "stream",
     "text": [
      "336\n",
      "Uneven number of valence electrons. Let's skip this structure\n",
      "337\n",
      "2025-01-05 16:20:35,400 INFO Started executing jobs locally\n",
      "2025-01-05 16:20:35,409 INFO Starting job - Scf calculation (524d60b4-27c9-4703-bc24-cb908e2b11fd)\n",
      "job is running... let's kill it...\n",
      "2025-01-05 16:20:40,900 INFO Added a workflow. id_map: {-3388: 97873, -3387: 97874, -3386: 97875, -3385: 97876, -3384: 97877, -3383: 97878, -3382: 97879, -3381: 97880, -3380: 97881, -3379: 97882, -3378: 97883}\n"
     ]
    },
    {
     "name": "stderr",
     "output_type": "stream",
     "text": [
      " 87%|████████▋ | 337/386 [29:18<03:28,  4.26s/it]"
     ]
    },
    {
     "name": "stdout",
     "output_type": "stream",
     "text": [
      "338\n",
      "2025-01-05 16:20:41,068 INFO Started executing jobs locally\n",
      "2025-01-05 16:20:41,080 INFO Starting job - Scf calculation (62d29021-221a-452d-a914-b45c66b5f725)\n",
      "job is running... let's kill it...\n",
      "2025-01-05 16:20:46,555 INFO Added a workflow. id_map: {-3399: 97884, -3398: 97885, -3397: 97886, -3396: 97887, -3395: 97888, -3394: 97889, -3393: 97890, -3392: 97891, -3391: 97892, -3390: 97893, -3389: 97894}\n"
     ]
    },
    {
     "name": "stderr",
     "output_type": "stream",
     "text": [
      " 88%|████████▊ | 338/386 [29:23<03:41,  4.61s/it]"
     ]
    },
    {
     "name": "stdout",
     "output_type": "stream",
     "text": [
      "339\n",
      "2025-01-05 16:20:46,718 INFO Started executing jobs locally\n",
      "2025-01-05 16:20:46,727 INFO Starting job - Scf calculation (803d5f49-40e2-4372-a5ec-debd046066f5)\n",
      "job is running... let's kill it...\n",
      "2025-01-05 16:20:52,205 INFO Added a workflow. id_map: {-3410: 97895, -3409: 97896, -3408: 97897, -3407: 97898, -3406: 97899, -3405: 97900, -3404: 97901, -3403: 97902, -3402: 97903, -3401: 97904, -3400: 97905}\n"
     ]
    },
    {
     "name": "stderr",
     "output_type": "stream",
     "text": [
      " 88%|████████▊ | 339/386 [29:29<03:49,  4.88s/it]"
     ]
    },
    {
     "name": "stdout",
     "output_type": "stream",
     "text": [
      "340\n",
      "2025-01-05 16:20:52,359 INFO Started executing jobs locally\n",
      "2025-01-05 16:20:52,367 INFO Starting job - Scf calculation (dce74767-448e-49e4-b0bb-b922a9ed24c6)\n",
      "job is running... let's kill it...\n",
      "2025-01-05 16:20:57,831 INFO Added a workflow. id_map: {-3421: 97906, -3420: 97907, -3419: 97908, -3418: 97909, -3417: 97910, -3416: 97911, -3415: 97912, -3414: 97913, -3413: 97914, -3412: 97915, -3411: 97916}\n"
     ]
    },
    {
     "name": "stderr",
     "output_type": "stream",
     "text": [
      " 88%|████████▊ | 340/386 [29:35<03:53,  5.08s/it]"
     ]
    },
    {
     "name": "stdout",
     "output_type": "stream",
     "text": [
      "341\n",
      "2025-01-05 16:20:57,990 INFO Started executing jobs locally\n",
      "2025-01-05 16:20:57,998 INFO Starting job - Scf calculation (3ad8bae2-9061-4f68-9f37-776aec7ef3f1)\n",
      "job is running... let's kill it...\n",
      "2025-01-05 16:21:03,505 INFO Added a workflow. id_map: {-3432: 97917, -3431: 97918, -3430: 97919, -3429: 97920, -3428: 97921, -3427: 97922, -3426: 97923, -3425: 97924, -3424: 97925, -3423: 97926, -3422: 97927}\n"
     ]
    },
    {
     "name": "stderr",
     "output_type": "stream",
     "text": [
      " 88%|████████▊ | 341/386 [29:40<03:56,  5.25s/it]"
     ]
    },
    {
     "name": "stdout",
     "output_type": "stream",
     "text": [
      "342\n",
      "2025-01-05 16:21:03,668 INFO Started executing jobs locally\n",
      "2025-01-05 16:21:03,678 INFO Starting job - Scf calculation (42dd295d-3e4c-435a-9038-434c9ebb6fa1)\n",
      "job is running... let's kill it...\n",
      "2025-01-05 16:21:09,192 INFO Added a workflow. id_map: {-3443: 97928, -3442: 97929, -3441: 97930, -3440: 97931, -3439: 97932, -3438: 97933, -3437: 97934, -3436: 97935, -3435: 97936, -3434: 97937, -3433: 97938}\n"
     ]
    },
    {
     "name": "stderr",
     "output_type": "stream",
     "text": [
      " 89%|████████▊ | 342/386 [29:46<03:56,  5.37s/it]"
     ]
    },
    {
     "name": "stdout",
     "output_type": "stream",
     "text": [
      "343\n",
      "2025-01-05 16:21:09,350 INFO Started executing jobs locally\n",
      "2025-01-05 16:21:09,358 INFO Starting job - Scf calculation (2f0bab31-6797-4524-8a2b-b55a2003a537)\n",
      "job is running... let's kill it...\n",
      "2025-01-05 16:21:14,832 INFO Added a workflow. id_map: {-3454: 97939, -3453: 97940, -3452: 97941, -3451: 97942, -3450: 97943, -3449: 97944, -3448: 97945, -3447: 97946, -3446: 97947, -3445: 97948, -3444: 97949}\n"
     ]
    },
    {
     "name": "stderr",
     "output_type": "stream",
     "text": [
      " 89%|████████▉ | 343/386 [29:52<03:54,  5.45s/it]"
     ]
    },
    {
     "name": "stdout",
     "output_type": "stream",
     "text": [
      "344\n",
      "Uneven number of valence electrons. Let's skip this structure\n",
      "345\n",
      "2025-01-05 16:21:15,052 INFO Started executing jobs locally\n",
      "2025-01-05 16:21:15,062 INFO Starting job - Scf calculation (e85b49f9-3e9f-48dd-8d18-a5bd58e93adb)\n",
      "job is running... let's kill it...\n",
      "2025-01-05 16:21:20,539 INFO Added a workflow. id_map: {-3465: 97950, -3464: 97951, -3463: 97952, -3462: 97953, -3461: 97954, -3460: 97955, -3459: 97956, -3458: 97957, -3457: 97958, -3456: 97959, -3455: 97960}\n"
     ]
    },
    {
     "name": "stderr",
     "output_type": "stream",
     "text": [
      " 89%|████████▉ | 345/386 [29:57<02:55,  4.27s/it]"
     ]
    },
    {
     "name": "stdout",
     "output_type": "stream",
     "text": [
      "346\n",
      "2025-01-05 16:21:20,701 INFO Started executing jobs locally\n",
      "2025-01-05 16:21:20,709 INFO Starting job - Scf calculation (d49d9606-da8d-4bca-b256-f552f790a344)\n",
      "job is running... let's kill it...\n",
      "2025-01-05 16:21:26,188 INFO Added a workflow. id_map: {-3476: 97961, -3475: 97962, -3474: 97963, -3473: 97964, -3472: 97965, -3471: 97966, -3470: 97967, -3469: 97968, -3468: 97969, -3467: 97970, -3466: 97971}\n"
     ]
    },
    {
     "name": "stderr",
     "output_type": "stream",
     "text": [
      " 90%|████████▉ | 346/386 [30:03<03:04,  4.61s/it]"
     ]
    },
    {
     "name": "stdout",
     "output_type": "stream",
     "text": [
      "347\n",
      "2025-01-05 16:21:26,348 INFO Started executing jobs locally\n",
      "2025-01-05 16:21:26,356 INFO Starting job - Scf calculation (466889d6-17de-4247-a84a-acce207f9dba)\n",
      "job is running... let's kill it...\n",
      "2025-01-05 16:21:31,826 INFO Added a workflow. id_map: {-3487: 97972, -3486: 97973, -3485: 97974, -3484: 97975, -3483: 97976, -3482: 97977, -3481: 97978, -3480: 97979, -3479: 97980, -3478: 97981, -3477: 97982}\n"
     ]
    },
    {
     "name": "stderr",
     "output_type": "stream",
     "text": [
      " 90%|████████▉ | 347/386 [30:09<03:10,  4.88s/it]"
     ]
    },
    {
     "name": "stdout",
     "output_type": "stream",
     "text": [
      "348\n",
      "2025-01-05 16:21:31,990 INFO Started executing jobs locally\n",
      "2025-01-05 16:21:32,000 INFO Starting job - Scf calculation (9423fd79-5087-4a29-bd2e-6351104a686f)\n",
      "job is running... let's kill it...\n",
      "2025-01-05 16:21:37,474 INFO Added a workflow. id_map: {-3498: 97983, -3497: 97984, -3496: 97985, -3495: 97986, -3494: 97987, -3493: 97988, -3492: 97989, -3491: 97990, -3490: 97991, -3489: 97992, -3488: 97993}\n"
     ]
    },
    {
     "name": "stderr",
     "output_type": "stream",
     "text": [
      " 90%|█████████ | 348/386 [30:14<03:13,  5.09s/it]"
     ]
    },
    {
     "name": "stdout",
     "output_type": "stream",
     "text": [
      "349\n",
      "2025-01-05 16:21:37,636 INFO Started executing jobs locally\n",
      "2025-01-05 16:21:37,644 INFO Starting job - Scf calculation (20e6aa6d-4de3-42a1-90e5-9fc0e3080d55)\n",
      "job is running... let's kill it...\n",
      "2025-01-05 16:21:43,128 INFO Added a workflow. id_map: {-3509: 97994, -3508: 97995, -3507: 97996, -3506: 97997, -3505: 97998, -3504: 97999, -3503: 98000, -3502: 98001, -3501: 98002, -3500: 98003, -3499: 98004}\n"
     ]
    },
    {
     "name": "stderr",
     "output_type": "stream",
     "text": [
      " 90%|█████████ | 349/386 [30:20<03:13,  5.24s/it]"
     ]
    },
    {
     "name": "stdout",
     "output_type": "stream",
     "text": [
      "350\n",
      "2025-01-05 16:21:43,291 INFO Started executing jobs locally\n",
      "2025-01-05 16:21:43,302 INFO Starting job - Scf calculation (3967082b-e9ec-47b8-b9e9-da18331eb107)\n",
      "job is running... let's kill it...\n",
      "2025-01-05 16:21:48,809 INFO Added a workflow. id_map: {-3520: 98005, -3519: 98006, -3518: 98007, -3517: 98008, -3516: 98009, -3515: 98010, -3514: 98011, -3513: 98012, -3512: 98013, -3511: 98014, -3510: 98015}\n"
     ]
    },
    {
     "name": "stderr",
     "output_type": "stream",
     "text": [
      " 91%|█████████ | 350/386 [30:26<03:13,  5.37s/it]"
     ]
    },
    {
     "name": "stdout",
     "output_type": "stream",
     "text": [
      "351\n",
      "2025-01-05 16:21:48,972 INFO Started executing jobs locally\n",
      "2025-01-05 16:21:48,981 INFO Starting job - Scf calculation (d7e3fa69-811d-49db-8d18-1c81645c04d0)\n",
      "job is running... let's kill it...\n",
      "2025-01-05 16:21:54,507 INFO Added a workflow. id_map: {-3531: 98016, -3530: 98017, -3529: 98018, -3528: 98019, -3527: 98020, -3526: 98021, -3525: 98022, -3524: 98023, -3523: 98024, -3522: 98025, -3521: 98026}\n"
     ]
    },
    {
     "name": "stderr",
     "output_type": "stream",
     "text": [
      " 91%|█████████ | 351/386 [30:31<03:11,  5.46s/it]"
     ]
    },
    {
     "name": "stdout",
     "output_type": "stream",
     "text": [
      "352\n",
      "2025-01-05 16:21:54,675 INFO Started executing jobs locally\n",
      "2025-01-05 16:21:54,684 INFO Starting job - Scf calculation (fbf80f0a-e4cd-407f-820d-6203d93bb45e)\n",
      "job is running... let's kill it...\n",
      "2025-01-05 16:22:00,163 INFO Added a workflow. id_map: {-3542: 98027, -3541: 98028, -3540: 98029, -3539: 98030, -3538: 98031, -3537: 98032, -3536: 98033, -3535: 98034, -3534: 98035, -3533: 98036, -3532: 98037}\n"
     ]
    },
    {
     "name": "stderr",
     "output_type": "stream",
     "text": [
      " 91%|█████████ | 352/386 [30:37<03:07,  5.52s/it]"
     ]
    },
    {
     "name": "stdout",
     "output_type": "stream",
     "text": [
      "353\n",
      "2025-01-05 16:22:00,331 INFO Started executing jobs locally\n",
      "2025-01-05 16:22:00,339 INFO Starting job - Scf calculation (74240a31-cb30-4a6b-a22f-ece49e0748ea)\n",
      "job is running... let's kill it...\n",
      "2025-01-05 16:22:05,815 INFO Added a workflow. id_map: {-3553: 98038, -3552: 98039, -3551: 98040, -3550: 98041, -3549: 98042, -3548: 98043, -3547: 98044, -3546: 98045, -3545: 98046, -3544: 98047, -3543: 98048}\n"
     ]
    },
    {
     "name": "stderr",
     "output_type": "stream",
     "text": [
      " 91%|█████████▏| 353/386 [30:43<03:03,  5.56s/it]"
     ]
    },
    {
     "name": "stdout",
     "output_type": "stream",
     "text": [
      "354\n",
      "2025-01-05 16:22:05,985 INFO Started executing jobs locally\n",
      "2025-01-05 16:22:05,993 INFO Starting job - Scf calculation (fd4bc27d-64f0-4436-b7ea-86dffa34baa8)\n",
      "job is running... let's kill it...\n",
      "2025-01-05 16:22:11,464 INFO Added a workflow. id_map: {-3564: 98049, -3563: 98050, -3562: 98051, -3561: 98052, -3560: 98053, -3559: 98054, -3558: 98055, -3557: 98056, -3556: 98057, -3555: 98058, -3554: 98059}\n"
     ]
    },
    {
     "name": "stderr",
     "output_type": "stream",
     "text": [
      " 92%|█████████▏| 354/386 [30:48<02:58,  5.58s/it]"
     ]
    },
    {
     "name": "stdout",
     "output_type": "stream",
     "text": [
      "355\n",
      "2025-01-05 16:22:11,633 INFO Started executing jobs locally\n",
      "2025-01-05 16:22:11,643 INFO Starting job - Scf calculation (8902608e-b3ef-4f6b-89d5-0e5e936fb567)\n",
      "job is running... let's kill it...\n",
      "2025-01-05 16:22:17,116 INFO Added a workflow. id_map: {-3575: 98060, -3574: 98061, -3573: 98062, -3572: 98063, -3571: 98064, -3570: 98065, -3569: 98066, -3568: 98067, -3567: 98068, -3566: 98069, -3565: 98070}\n"
     ]
    },
    {
     "name": "stderr",
     "output_type": "stream",
     "text": [
      " 92%|█████████▏| 355/386 [30:54<02:53,  5.61s/it]"
     ]
    },
    {
     "name": "stdout",
     "output_type": "stream",
     "text": [
      "356\n",
      "2025-01-05 16:22:17,280 INFO Started executing jobs locally\n",
      "2025-01-05 16:22:17,290 INFO Starting job - Scf calculation (a24e9cab-b978-4385-b04a-929c504588a7)\n",
      "job is running... let's kill it...\n",
      "2025-01-05 16:22:22,767 INFO Added a workflow. id_map: {-3586: 98071, -3585: 98072, -3584: 98073, -3583: 98074, -3582: 98075, -3581: 98076, -3580: 98077, -3579: 98078, -3578: 98079, -3577: 98080, -3576: 98081}\n"
     ]
    },
    {
     "name": "stderr",
     "output_type": "stream",
     "text": [
      " 92%|█████████▏| 356/386 [31:00<02:48,  5.62s/it]"
     ]
    },
    {
     "name": "stdout",
     "output_type": "stream",
     "text": [
      "357\n",
      "2025-01-05 16:22:22,929 INFO Started executing jobs locally\n",
      "2025-01-05 16:22:22,938 INFO Starting job - Scf calculation (fa3c4794-f349-4b54-b764-4087bfaf98e8)\n",
      "job is running... let's kill it...\n",
      "2025-01-05 16:22:28,427 INFO Added a workflow. id_map: {-3597: 98082, -3596: 98083, -3595: 98084, -3594: 98085, -3593: 98086, -3592: 98087, -3591: 98088, -3590: 98089, -3589: 98090, -3588: 98091, -3587: 98092}\n"
     ]
    },
    {
     "name": "stderr",
     "output_type": "stream",
     "text": [
      " 92%|█████████▏| 357/386 [31:05<02:43,  5.63s/it]"
     ]
    },
    {
     "name": "stdout",
     "output_type": "stream",
     "text": [
      "358\n",
      "2025-01-05 16:22:28,590 INFO Started executing jobs locally\n",
      "2025-01-05 16:22:28,599 INFO Starting job - Scf calculation (fd34f9cb-532a-42f6-b1ad-879ff4a4a826)\n",
      "job is running... let's kill it...\n",
      "2025-01-05 16:22:34,087 INFO Added a workflow. id_map: {-3608: 98093, -3607: 98094, -3606: 98095, -3605: 98096, -3604: 98097, -3603: 98098, -3602: 98099, -3601: 98100, -3600: 98101, -3599: 98102, -3598: 98103}\n"
     ]
    },
    {
     "name": "stderr",
     "output_type": "stream",
     "text": [
      " 93%|█████████▎| 358/386 [31:11<02:37,  5.64s/it]"
     ]
    },
    {
     "name": "stdout",
     "output_type": "stream",
     "text": [
      "359\n",
      "2025-01-05 16:22:34,261 INFO Started executing jobs locally\n",
      "2025-01-05 16:22:34,270 INFO Starting job - Scf calculation (fad7862a-f38c-46de-ba43-7a1d5f0d523f)\n",
      "job is running... let's kill it...\n",
      "2025-01-05 16:22:39,787 INFO Added a workflow. id_map: {-3619: 98104, -3618: 98105, -3617: 98106, -3616: 98107, -3615: 98108, -3614: 98109, -3613: 98110, -3612: 98111, -3611: 98112, -3610: 98113, -3609: 98114}\n"
     ]
    },
    {
     "name": "stderr",
     "output_type": "stream",
     "text": [
      " 93%|█████████▎| 359/386 [31:17<02:32,  5.66s/it]"
     ]
    },
    {
     "name": "stdout",
     "output_type": "stream",
     "text": [
      "360\n",
      "2025-01-05 16:22:39,944 INFO Started executing jobs locally\n",
      "2025-01-05 16:22:39,953 INFO Starting job - Scf calculation (6d152a85-402a-4071-984f-a59a5d9cf0c4)\n",
      "job is running... let's kill it...\n",
      "2025-01-05 16:22:45,429 INFO Added a workflow. id_map: {-3630: 98115, -3629: 98116, -3628: 98117, -3627: 98118, -3626: 98119, -3625: 98120, -3624: 98121, -3623: 98122, -3622: 98123, -3621: 98124, -3620: 98125}\n"
     ]
    },
    {
     "name": "stderr",
     "output_type": "stream",
     "text": [
      " 93%|█████████▎| 360/386 [31:22<02:26,  5.65s/it]"
     ]
    },
    {
     "name": "stdout",
     "output_type": "stream",
     "text": [
      "361\n",
      "2025-01-05 16:22:45,588 INFO Started executing jobs locally\n",
      "2025-01-05 16:22:45,595 INFO Starting job - Scf calculation (a7bb5a20-5395-4b47-9bec-831471f239b2)\n",
      "job is running... let's kill it...\n",
      "2025-01-05 16:22:51,090 INFO Added a workflow. id_map: {-3641: 98126, -3640: 98127, -3639: 98128, -3638: 98129, -3637: 98130, -3636: 98131, -3635: 98132, -3634: 98133, -3633: 98134, -3632: 98135, -3631: 98136}\n"
     ]
    },
    {
     "name": "stderr",
     "output_type": "stream",
     "text": [
      " 94%|█████████▎| 361/386 [31:28<02:21,  5.65s/it]"
     ]
    },
    {
     "name": "stdout",
     "output_type": "stream",
     "text": [
      "362\n",
      "2025-01-05 16:22:51,248 INFO Started executing jobs locally\n",
      "2025-01-05 16:22:51,257 INFO Starting job - Scf calculation (3ea2f5ef-f841-42a6-a643-6a49f99318ce)\n",
      "job is running... let's kill it...\n",
      "2025-01-05 16:22:56,912 INFO Added a workflow. id_map: {-3652: 98137, -3651: 98138, -3650: 98139, -3649: 98140, -3648: 98141, -3647: 98142, -3646: 98143, -3645: 98144, -3644: 98145, -3643: 98146, -3642: 98147}\n"
     ]
    },
    {
     "name": "stderr",
     "output_type": "stream",
     "text": [
      " 94%|█████████▍| 362/386 [31:34<02:16,  5.71s/it]"
     ]
    },
    {
     "name": "stdout",
     "output_type": "stream",
     "text": [
      "363\n",
      "2025-01-05 16:22:57,077 INFO Started executing jobs locally\n",
      "2025-01-05 16:22:57,086 INFO Starting job - Scf calculation (d14ba71c-16f5-4853-a451-842348a3244a)\n",
      "job is running... let's kill it...\n",
      "2025-01-05 16:23:02,560 INFO Added a workflow. id_map: {-3663: 98148, -3662: 98149, -3661: 98150, -3660: 98151, -3659: 98152, -3658: 98153, -3657: 98154, -3656: 98155, -3655: 98156, -3654: 98157, -3653: 98158}\n"
     ]
    },
    {
     "name": "stderr",
     "output_type": "stream",
     "text": [
      " 94%|█████████▍| 363/386 [31:39<02:10,  5.69s/it]"
     ]
    },
    {
     "name": "stdout",
     "output_type": "stream",
     "text": [
      "364\n",
      "Uneven number of valence electrons. Let's skip this structure\n",
      "365\n",
      "2025-01-05 16:23:02,722 INFO Started executing jobs locally\n",
      "2025-01-05 16:23:02,730 INFO Starting job - Scf calculation (04e9780b-137d-4ec1-a31d-9d978e3a0c8a)\n",
      "chksymbreak triggered\n",
      "366\n",
      "2025-01-05 16:23:02,803 INFO Started executing jobs locally\n",
      "2025-01-05 16:23:02,812 INFO Starting job - Scf calculation (68f367f6-27bd-402a-bd48-9fc3ab882628)\n",
      "job is running... let's kill it...\n",
      "2025-01-05 16:23:08,295 INFO Added a workflow. id_map: {-3674: 98159, -3673: 98160, -3672: 98161, -3671: 98162, -3670: 98163, -3669: 98164, -3668: 98165, -3667: 98166, -3666: 98167, -3665: 98168, -3664: 98169}\n"
     ]
    },
    {
     "name": "stderr",
     "output_type": "stream",
     "text": [
      " 95%|█████████▍| 366/386 [31:45<01:11,  3.56s/it]"
     ]
    },
    {
     "name": "stdout",
     "output_type": "stream",
     "text": [
      "367\n",
      "2025-01-05 16:23:08,469 INFO Started executing jobs locally\n",
      "2025-01-05 16:23:08,481 INFO Starting job - Scf calculation (c59f7851-800c-4e83-b77b-4f321319629e)\n",
      "job is running... let's kill it...\n",
      "2025-01-05 16:23:13,998 INFO Added a workflow. id_map: {-3685: 98170, -3684: 98171, -3683: 98172, -3682: 98173, -3681: 98174, -3680: 98175, -3679: 98176, -3678: 98177, -3677: 98178, -3676: 98179, -3675: 98180}\n"
     ]
    },
    {
     "name": "stderr",
     "output_type": "stream",
     "text": [
      " 95%|█████████▌| 367/386 [31:51<01:16,  4.02s/it]"
     ]
    },
    {
     "name": "stdout",
     "output_type": "stream",
     "text": [
      "368\n",
      "2025-01-05 16:23:14,161 INFO Started executing jobs locally\n",
      "2025-01-05 16:23:14,176 INFO Starting job - Scf calculation (28d16dfe-7a37-454b-8c6c-895bb5d772de)\n",
      "job is running... let's kill it...\n",
      "2025-01-05 16:23:19,669 INFO Added a workflow. id_map: {-3696: 98181, -3695: 98182, -3694: 98183, -3693: 98184, -3692: 98185, -3691: 98186, -3690: 98187, -3689: 98188, -3688: 98189, -3687: 98190, -3686: 98191}\n"
     ]
    },
    {
     "name": "stderr",
     "output_type": "stream",
     "text": [
      " 95%|█████████▌| 368/386 [31:56<01:19,  4.40s/it]"
     ]
    },
    {
     "name": "stdout",
     "output_type": "stream",
     "text": [
      "369\n",
      "2025-01-05 16:23:19,829 INFO Started executing jobs locally\n",
      "2025-01-05 16:23:19,838 INFO Starting job - Scf calculation (cac6a2d7-c058-4732-b328-56196b9cbf28)\n",
      "job is running... let's kill it...\n",
      "2025-01-05 16:23:25,316 INFO Added a workflow. id_map: {-3707: 98192, -3706: 98193, -3705: 98194, -3704: 98195, -3703: 98196, -3702: 98197, -3701: 98198, -3700: 98199, -3699: 98200, -3698: 98201, -3697: 98202}\n"
     ]
    },
    {
     "name": "stderr",
     "output_type": "stream",
     "text": [
      " 96%|█████████▌| 369/386 [32:02<01:20,  4.71s/it]"
     ]
    },
    {
     "name": "stdout",
     "output_type": "stream",
     "text": [
      "370\n",
      "2025-01-05 16:23:25,480 INFO Started executing jobs locally\n",
      "2025-01-05 16:23:25,488 INFO Starting job - Scf calculation (9e7a8152-7bcd-4854-910b-dfa0e0054957)\n",
      "job is running... let's kill it...\n",
      "2025-01-05 16:23:30,967 INFO Added a workflow. id_map: {-3718: 98203, -3717: 98204, -3716: 98205, -3715: 98206, -3714: 98207, -3713: 98208, -3712: 98209, -3711: 98210, -3710: 98211, -3709: 98212, -3708: 98213}\n"
     ]
    },
    {
     "name": "stderr",
     "output_type": "stream",
     "text": [
      " 96%|█████████▌| 370/386 [32:08<01:19,  4.96s/it]"
     ]
    },
    {
     "name": "stdout",
     "output_type": "stream",
     "text": [
      "371\n",
      "2025-01-05 16:23:31,144 INFO Started executing jobs locally\n",
      "2025-01-05 16:23:31,152 INFO Starting job - Scf calculation (af645ba6-4f63-4045-b749-835d8eccb3cd)\n",
      "job is running... let's kill it...\n",
      "2025-01-05 16:23:36,623 INFO Added a workflow. id_map: {-3729: 98214, -3728: 98215, -3727: 98216, -3726: 98217, -3725: 98218, -3724: 98219, -3723: 98220, -3722: 98221, -3721: 98222, -3720: 98223, -3719: 98224}\n"
     ]
    },
    {
     "name": "stderr",
     "output_type": "stream",
     "text": [
      " 96%|█████████▌| 371/386 [32:13<01:17,  5.15s/it]"
     ]
    },
    {
     "name": "stdout",
     "output_type": "stream",
     "text": [
      "372\n",
      "2025-01-05 16:23:36,784 INFO Started executing jobs locally\n",
      "2025-01-05 16:23:36,792 INFO Starting job - Scf calculation (777a3073-b863-4a90-9039-10ed8052c043)\n",
      "job is running... let's kill it...\n",
      "2025-01-05 16:23:42,289 INFO Added a workflow. id_map: {-3740: 98225, -3739: 98226, -3738: 98227, -3737: 98228, -3736: 98229, -3735: 98230, -3734: 98231, -3733: 98232, -3732: 98233, -3731: 98234, -3730: 98235}\n"
     ]
    },
    {
     "name": "stderr",
     "output_type": "stream",
     "text": [
      " 96%|█████████▋| 372/386 [32:19<01:14,  5.29s/it]"
     ]
    },
    {
     "name": "stdout",
     "output_type": "stream",
     "text": [
      "373\n",
      "Uneven number of valence electrons. Let's skip this structure\n",
      "374\n",
      "2025-01-05 16:23:42,462 INFO Started executing jobs locally\n",
      "2025-01-05 16:23:42,472 INFO Starting job - Scf calculation (726ec8ff-f8cb-4d90-9edb-8884c74efbf5)\n",
      "job is running... let's kill it...\n",
      "2025-01-05 16:23:47,956 INFO Added a workflow. id_map: {-3751: 98236, -3750: 98237, -3749: 98238, -3748: 98239, -3747: 98240, -3746: 98241, -3745: 98242, -3744: 98243, -3743: 98244, -3742: 98245, -3741: 98246}\n"
     ]
    },
    {
     "name": "stderr",
     "output_type": "stream",
     "text": [
      " 97%|█████████▋| 374/386 [32:25<00:50,  4.20s/it]"
     ]
    },
    {
     "name": "stdout",
     "output_type": "stream",
     "text": [
      "375\n",
      "2025-01-05 16:23:48,120 INFO Started executing jobs locally\n",
      "2025-01-05 16:23:48,128 INFO Starting job - Scf calculation (b5c32461-ba14-42f8-a5d8-7a9ead3b944f)\n",
      "job is running... let's kill it...\n",
      "2025-01-05 16:23:53,618 INFO Added a workflow. id_map: {-3762: 98247, -3761: 98248, -3760: 98249, -3759: 98250, -3758: 98251, -3757: 98252, -3756: 98253, -3755: 98254, -3754: 98255, -3753: 98256, -3752: 98257}\n"
     ]
    },
    {
     "name": "stderr",
     "output_type": "stream",
     "text": [
      " 97%|█████████▋| 375/386 [32:30<00:50,  4.55s/it]"
     ]
    },
    {
     "name": "stdout",
     "output_type": "stream",
     "text": [
      "376\n",
      "2025-01-05 16:23:53,775 INFO Started executing jobs locally\n",
      "2025-01-05 16:23:53,783 INFO Starting job - Scf calculation (3727c87f-6663-4c7c-b1ce-d92dbc6e415c)\n",
      "job is running... let's kill it...\n",
      "2025-01-05 16:23:59,347 INFO Added a workflow. id_map: {-3773: 98258, -3772: 98259, -3771: 98260, -3770: 98261, -3769: 98262, -3768: 98263, -3767: 98264, -3766: 98265, -3765: 98266, -3764: 98267, -3763: 98268}\n"
     ]
    },
    {
     "name": "stderr",
     "output_type": "stream",
     "text": [
      " 97%|█████████▋| 376/386 [32:36<00:48,  4.85s/it]"
     ]
    },
    {
     "name": "stdout",
     "output_type": "stream",
     "text": [
      "377\n",
      "2025-01-05 16:23:59,509 INFO Started executing jobs locally\n",
      "2025-01-05 16:23:59,518 INFO Starting job - Scf calculation (a5dc9ded-9830-408f-8105-5e3ed29d30ce)\n",
      "job is running... let's kill it...\n",
      "2025-01-05 16:24:05,031 INFO Added a workflow. id_map: {-3784: 98269, -3783: 98270, -3782: 98271, -3781: 98272, -3780: 98273, -3779: 98274, -3778: 98275, -3777: 98276, -3776: 98277, -3775: 98278, -3774: 98279}\n"
     ]
    },
    {
     "name": "stderr",
     "output_type": "stream",
     "text": [
      " 98%|█████████▊| 377/386 [32:42<00:45,  5.08s/it]"
     ]
    },
    {
     "name": "stdout",
     "output_type": "stream",
     "text": [
      "378\n",
      "2025-01-05 16:24:05,196 INFO Started executing jobs locally\n",
      "2025-01-05 16:24:05,204 INFO Starting job - Scf calculation (de7139a6-c618-4d40-8e6a-11d8202926b9)\n",
      "job is running... let's kill it...\n",
      "2025-01-05 16:24:10,696 INFO Added a workflow. id_map: {-3795: 98280, -3794: 98281, -3793: 98282, -3792: 98283, -3791: 98284, -3790: 98285, -3789: 98286, -3788: 98287, -3787: 98288, -3786: 98289, -3785: 98290}\n"
     ]
    },
    {
     "name": "stderr",
     "output_type": "stream",
     "text": [
      " 98%|█████████▊| 378/386 [32:47<00:41,  5.24s/it]"
     ]
    },
    {
     "name": "stdout",
     "output_type": "stream",
     "text": [
      "379\n",
      "2025-01-05 16:24:10,882 INFO Started executing jobs locally\n",
      "2025-01-05 16:24:10,891 INFO Starting job - Scf calculation (a8a1a3ae-9a67-4bcf-be14-ec442bb14ceb)\n",
      "job is running... let's kill it...\n",
      "2025-01-05 16:24:16,381 INFO Added a workflow. id_map: {-3806: 98291, -3805: 98292, -3804: 98293, -3803: 98294, -3802: 98295, -3801: 98296, -3800: 98297, -3799: 98298, -3798: 98299, -3797: 98300, -3796: 98301}\n"
     ]
    },
    {
     "name": "stderr",
     "output_type": "stream",
     "text": [
      " 98%|█████████▊| 379/386 [32:53<00:37,  5.36s/it]"
     ]
    },
    {
     "name": "stdout",
     "output_type": "stream",
     "text": [
      "380\n",
      "2025-01-05 16:24:16,546 INFO Started executing jobs locally\n",
      "2025-01-05 16:24:16,558 INFO Starting job - Scf calculation (2a4ae6b1-6287-48c3-bed0-24950f50e2f2)\n",
      "job is running... let's kill it...\n",
      "2025-01-05 16:24:22,041 INFO Added a workflow. id_map: {-3817: 98302, -3816: 98303, -3815: 98304, -3814: 98305, -3813: 98306, -3812: 98307, -3811: 98308, -3810: 98309, -3809: 98310, -3808: 98311, -3807: 98312}\n"
     ]
    },
    {
     "name": "stderr",
     "output_type": "stream",
     "text": [
      " 98%|█████████▊| 380/386 [32:59<00:32,  5.45s/it]"
     ]
    },
    {
     "name": "stdout",
     "output_type": "stream",
     "text": [
      "381\n",
      "2025-01-05 16:24:22,206 INFO Started executing jobs locally\n",
      "2025-01-05 16:24:22,214 INFO Starting job - Scf calculation (32a02b40-ed4d-4c69-b95f-1274fb2d12ce)\n",
      "job is running... let's kill it...\n",
      "2025-01-05 16:24:27,700 INFO Added a workflow. id_map: {-3828: 98313, -3827: 98314, -3826: 98315, -3825: 98316, -3824: 98317, -3823: 98318, -3822: 98319, -3821: 98320, -3820: 98321, -3819: 98322, -3818: 98323}\n"
     ]
    },
    {
     "name": "stderr",
     "output_type": "stream",
     "text": [
      " 99%|█████████▊| 381/386 [33:04<00:27,  5.51s/it]"
     ]
    },
    {
     "name": "stdout",
     "output_type": "stream",
     "text": [
      "382\n",
      "2025-01-05 16:24:27,863 INFO Started executing jobs locally\n",
      "2025-01-05 16:24:27,873 INFO Starting job - Scf calculation (d7271132-f730-4fe3-8383-f8c2ef58782c)\n",
      "job is running... let's kill it...\n",
      "2025-01-05 16:24:33,365 INFO Added a workflow. id_map: {-3839: 98324, -3838: 98325, -3837: 98326, -3836: 98327, -3835: 98328, -3834: 98329, -3833: 98330, -3832: 98331, -3831: 98332, -3830: 98333, -3829: 98334}\n"
     ]
    },
    {
     "name": "stderr",
     "output_type": "stream",
     "text": [
      " 99%|█████████▉| 382/386 [33:10<00:22,  5.55s/it]"
     ]
    },
    {
     "name": "stdout",
     "output_type": "stream",
     "text": [
      "383\n",
      "2025-01-05 16:24:33,517 INFO Started executing jobs locally\n",
      "2025-01-05 16:24:33,526 INFO Starting job - Scf calculation (ee6f8766-e8f2-49eb-9293-fe27fd140ab1)\n",
      "job is running... let's kill it...\n",
      "2025-01-05 16:24:39,048 INFO Added a workflow. id_map: {-3850: 98335, -3849: 98336, -3848: 98337, -3847: 98338, -3846: 98339, -3845: 98340, -3844: 98341, -3843: 98342, -3842: 98343, -3841: 98344, -3840: 98345}\n"
     ]
    },
    {
     "name": "stderr",
     "output_type": "stream",
     "text": [
      " 99%|█████████▉| 383/386 [33:16<00:16,  5.59s/it]"
     ]
    },
    {
     "name": "stdout",
     "output_type": "stream",
     "text": [
      "384\n",
      "2025-01-05 16:24:39,224 INFO Started executing jobs locally\n",
      "2025-01-05 16:24:39,233 INFO Starting job - Scf calculation (0bfef531-53da-4132-b89d-f55d0054d2d6)\n",
      "job is running... let's kill it...\n",
      "2025-01-05 16:24:44,749 INFO Added a workflow. id_map: {-3861: 98346, -3860: 98347, -3859: 98348, -3858: 98349, -3857: 98350, -3856: 98351, -3855: 98352, -3854: 98353, -3853: 98354, -3852: 98355, -3851: 98356}\n"
     ]
    },
    {
     "name": "stderr",
     "output_type": "stream",
     "text": [
      " 99%|█████████▉| 384/386 [33:21<00:11,  5.63s/it]"
     ]
    },
    {
     "name": "stdout",
     "output_type": "stream",
     "text": [
      "385\n",
      "2025-01-05 16:24:44,916 INFO Started executing jobs locally\n",
      "2025-01-05 16:24:44,924 INFO Starting job - Scf calculation (f388871d-71fa-4ee2-89fa-0fcd4288196e)\n",
      "job is running... let's kill it...\n",
      "2025-01-05 16:24:50,415 INFO Added a workflow. id_map: {-3872: 98357, -3871: 98358, -3870: 98359, -3869: 98360, -3868: 98361, -3867: 98362, -3866: 98363, -3865: 98364, -3864: 98365, -3863: 98366, -3862: 98367}\n"
     ]
    },
    {
     "name": "stderr",
     "output_type": "stream",
     "text": [
      "100%|█████████▉| 385/386 [33:27<00:05,  5.64s/it]"
     ]
    },
    {
     "name": "stdout",
     "output_type": "stream",
     "text": [
      "386\n",
      "2025-01-05 16:24:50,575 INFO Started executing jobs locally\n",
      "2025-01-05 16:24:50,582 INFO Starting job - Scf calculation (8a603aac-96a5-43e3-a80a-75cb87aeb4e1)\n",
      "job is running... let's kill it...\n",
      "2025-01-05 16:24:56,073 INFO Added a workflow. id_map: {-3883: 98368, -3882: 98369, -3881: 98370, -3880: 98371, -3879: 98372, -3878: 98373, -3877: 98374, -3876: 98375, -3875: 98376, -3874: 98377, -3873: 98378}\n"
     ]
    },
    {
     "name": "stderr",
     "output_type": "stream",
     "text": [
      "100%|██████████| 386/386 [33:33<00:00,  5.22s/it]\n"
     ]
    }
   ],
   "source": [
    "#   Paths to the candidates datasets\n",
    "path_df_selected = f'../data/df_selected_v{cur_v}.pkl.gz'\n",
    "df_selected = pd.read_pickle(path_df_selected)\n",
    "\n",
    "iter = 0\n",
    "count = 0\n",
    "count_low=1     # included ; done: 1,\n",
    "count_high=550    # included ; done:  550,\n",
    "count_chksymbreak_passed = 0 # to count the nb of materials which do not trigger chksymbreak\n",
    "list_idxs_triggered = []\n",
    "\n",
    "#   Iterating over the candidates to add them in the Launchpad \n",
    "for idx, s in tqdm(zip(df_selected.index.values, df_selected['structure']), total=len(df_selected)):\n",
    "\n",
    "    count += 1\n",
    "    if count<=count_low-1:\n",
    "        continue\n",
    "    if count>count_high:\n",
    "        break\n",
    "    print(count)\n",
    "\n",
    "    # Initializes the standardized primitive MP structure\n",
    "    structure = AbiStructure.from_dict(s)\n",
    "    structure = structure.abi_sanitize(primitive_standard=True)\n",
    "    # not applied in v18, but will be applied from now on to avoid running structures that fail at the DTE level \n",
    "    # which cannot handle an uneven number of electrons because nband must be the number of valence bands precisely\n",
    "    pseudos = as_pseudo_table(pseudos=\"ONCVPSP-LDA-SR-PDv0.4:standard\")\n",
    "    if structure.num_valence_electrons(pseudos=pseudos)%2:\n",
    "        print(\"Uneven number of valence electrons. Let's skip this structure\")\n",
    "        continue\n",
    "    structure.__class__ = Structure\n",
    "\n",
    "    # TEST CHKSYMBREAK\n",
    "    test_chksymbreak_passed = test_chksymbreak(structure, kgrid=\"Symmetric\")\n",
    "    if not test_chksymbreak_passed.value:\n",
    "        list_idxs_triggered.append(idx)\n",
    "        continue\n",
    "\n",
    "    # kill any existing abinit process bc not killed by p.terminate() and then make everything crash\n",
    "    import os\n",
    "    os.system(\"ps -C abinit -o pid=|xargs kill -9\")\n",
    "\n",
    "    count_chksymbreak_passed += 1\n",
    "    import gc\n",
    "    gc.collect()\n",
    "\n",
    "\n",
    "    # Create a Dfpt WF to compute the SHG tensor\n",
    "    shg_flow = ShgFlowMaker().make(structure=structure)\n",
    "\n",
    "    shg_flow = update_generator_attributes(shg_flow, {'pseudos': 'ONCVPSP-LDA-SR-PDv0.4:standard'}, name_filter='Scf calculation')\n",
    "\n",
    "    shg_flow = update_taskdoc(shg_flow, {\"files_to_store\": []}, name_filter=\"Scf calculation\")\n",
    "    shg_flow = update_taskdoc(shg_flow, {\"files_to_store\": [\"DDB\", \"POT\"]}, class_filter=DdkMaker)\n",
    "    shg_flow = update_taskdoc(shg_flow, {\"files_to_store\": [\"DDB\", \"POT\"]}, class_filter=DdeMaker)\n",
    "    shg_flow = update_taskdoc(shg_flow, {\"files_to_store\": [\"DDB\", \"POT\"]}, class_filter=DteMaker)\n",
    "    shg_flow = update_taskdoc(shg_flow, {\"files_to_store\": [\"DDB\"]}, name_filter=\"Merge DDB\")\n",
    "\n",
    "\n",
    "    torun_flow = append_clean_flow(\n",
    "        shg_flow,\n",
    "        delete=True,\n",
    "        exclude_files_from_zip=None,\n",
    "        exclude_files_from_del=['*POT*']\n",
    "    )\n",
    "\n",
    "    # Let's add a metadata to recover it easily from the MongoDb afterwards with {\"spec._tasks.job.metadata.Label\": \"HSE_Etot(x)\"}\n",
    "    if df_selected.loc[idx]['nsites'] > 25:\n",
    "        is_light = \"heavy\"\n",
    "    else:\n",
    "        is_light = \"light\"\n",
    "    torun_flow.update_metadata({\"Batch\": f\"shg_hg_v{cur_v}\", \"material_id\": f\"{idx}\", \"is_light\": is_light})\n",
    "\n",
    "    # convert the flow to a fireworks WorkFlow object\n",
    "    wf = flow_to_workflow(torun_flow)\n",
    "\n",
    "    # # submit the workflow to the FireWorks launchpad\n",
    "    # lpad = LaunchPad.auto_load()\n",
    "    # lpad.add_wf(wf)\n",
    "\n",
    "    gc.collect()\n",
    "shutil.rmtree('test_chksymbreak')\n"
   ]
  },
  {
   "cell_type": "code",
   "execution_count": 13,
   "metadata": {},
   "outputs": [
    {
     "name": "stdout",
     "output_type": "stream",
     "text": [
      "Out of 386 selected materials, 353 passed the chksymbreak test\n"
     ]
    }
   ],
   "source": [
    "print(f\"Out of {len(df_selected)} selected materials, {count_chksymbreak_passed} passed the chksymbreak test\")"
   ]
  },
  {
   "cell_type": "code",
   "execution_count": null,
   "metadata": {},
   "outputs": [
    {
     "name": "stderr",
     "output_type": "stream",
     "text": [
      "  0%|          | 0/17 [00:00<?, ?it/s]"
     ]
    },
    {
     "name": "stdout",
     "output_type": "stream",
     "text": [
      "1\n",
      "2025-01-05 16:24:56,369 INFO Started executing jobs locally\n",
      "2025-01-05 16:24:56,387 INFO Starting job - Scf calculation (270ced07-d1b1-4764-8540-4adc9b75d3b5)\n",
      "chksymbreak triggered\n"
     ]
    },
    {
     "name": "stderr",
     "output_type": "stream",
     "text": [
      "  6%|▌         | 1/17 [00:00<00:05,  3.04it/s]"
     ]
    },
    {
     "name": "stdout",
     "output_type": "stream",
     "text": [
      "2\n",
      "2025-01-05 16:24:56,690 INFO Started executing jobs locally\n",
      "2025-01-05 16:24:56,700 INFO Starting job - Scf calculation (af4d17fb-f0a6-4eca-8c21-7b43ea11b209)\n",
      "chksymbreak triggered\n"
     ]
    },
    {
     "name": "stderr",
     "output_type": "stream",
     "text": [
      " 12%|█▏        | 2/17 [00:00<00:05,  2.60it/s]"
     ]
    },
    {
     "name": "stdout",
     "output_type": "stream",
     "text": [
      "3\n",
      "2025-01-05 16:24:57,096 INFO Started executing jobs locally\n",
      "2025-01-05 16:24:57,106 INFO Starting job - Scf calculation (11524e86-3eb1-4611-a8cc-9151dbf61bdf)\n",
      "chksymbreak triggered\n"
     ]
    },
    {
     "name": "stderr",
     "output_type": "stream",
     "text": [
      " 18%|█▊        | 3/17 [00:01<00:05,  2.55it/s]"
     ]
    },
    {
     "name": "stdout",
     "output_type": "stream",
     "text": [
      "4\n",
      "2025-01-05 16:24:57,509 INFO Started executing jobs locally\n",
      "2025-01-05 16:24:57,516 INFO Starting job - Scf calculation (b211af3e-bc12-4279-9493-1f91a6e25085)\n",
      "chksymbreak triggered\n"
     ]
    },
    {
     "name": "stderr",
     "output_type": "stream",
     "text": [
      " 24%|██▎       | 4/17 [00:01<00:05,  2.48it/s]"
     ]
    },
    {
     "name": "stdout",
     "output_type": "stream",
     "text": [
      "5\n",
      "2025-01-05 16:24:57,913 INFO Started executing jobs locally\n",
      "2025-01-05 16:24:57,920 INFO Starting job - Scf calculation (08f6ed21-c097-4574-bfc6-610630c326d8)\n",
      "chksymbreak triggered\n"
     ]
    },
    {
     "name": "stderr",
     "output_type": "stream",
     "text": [
      " 29%|██▉       | 5/17 [00:01<00:04,  2.46it/s]"
     ]
    },
    {
     "name": "stdout",
     "output_type": "stream",
     "text": [
      "6\n",
      "2025-01-05 16:24:58,331 INFO Started executing jobs locally\n",
      "2025-01-05 16:24:58,338 INFO Starting job - Scf calculation (12dca88f-7b6c-4aa8-9dfb-708af0586cf4)\n",
      "job is running... let's kill it...\n",
      "2025-01-05 16:25:03,845 INFO Added a workflow. id_map: {-3894: 98379, -3893: 98380, -3892: 98381, -3891: 98382, -3890: 98383, -3889: 98384, -3888: 98385, -3887: 98386, -3886: 98387, -3885: 98388, -3884: 98389}\n"
     ]
    },
    {
     "name": "stderr",
     "output_type": "stream",
     "text": [
      " 35%|███▌      | 6/17 [00:07<00:24,  2.20s/it]"
     ]
    },
    {
     "name": "stdout",
     "output_type": "stream",
     "text": [
      "7\n",
      "2025-01-05 16:25:04,015 INFO Started executing jobs locally\n",
      "2025-01-05 16:25:04,025 INFO Starting job - Scf calculation (59e50b0e-9753-4085-a8a5-b2ccfb489ba1)\n",
      "chksymbreak triggered\n"
     ]
    },
    {
     "name": "stderr",
     "output_type": "stream",
     "text": [
      " 41%|████      | 7/17 [00:08<00:16,  1.61s/it]"
     ]
    },
    {
     "name": "stdout",
     "output_type": "stream",
     "text": [
      "8\n",
      "2025-01-05 16:25:04,434 INFO Started executing jobs locally\n",
      "2025-01-05 16:25:04,443 INFO Starting job - Scf calculation (9517f0f2-0c85-4621-847a-4db1749895f0)\n",
      "job is running... let's kill it...\n",
      "2025-01-05 16:25:10,052 INFO Added a workflow. id_map: {-3905: 98390, -3904: 98391, -3903: 98392, -3902: 98393, -3901: 98394, -3900: 98395, -3899: 98396, -3898: 98397, -3897: 98398, -3896: 98399, -3895: 98400}\n"
     ]
    },
    {
     "name": "stderr",
     "output_type": "stream",
     "text": [
      " 47%|████▋     | 8/17 [00:13<00:26,  2.95s/it]"
     ]
    },
    {
     "name": "stdout",
     "output_type": "stream",
     "text": [
      "9\n",
      "2025-01-05 16:25:10,221 INFO Started executing jobs locally\n",
      "2025-01-05 16:25:10,229 INFO Starting job - Scf calculation (1cc07a3a-411f-42df-abb9-c8908d0ec8b8)\n",
      "chksymbreak triggered\n"
     ]
    },
    {
     "name": "stderr",
     "output_type": "stream",
     "text": [
      " 53%|█████▎    | 9/17 [00:14<00:17,  2.15s/it]"
     ]
    },
    {
     "name": "stdout",
     "output_type": "stream",
     "text": [
      "10\n",
      "2025-01-05 16:25:10,616 INFO Started executing jobs locally\n",
      "2025-01-05 16:25:10,623 INFO Starting job - Scf calculation (f0906b44-9fbe-465f-8e88-e13c1013296e)\n",
      "chksymbreak triggered\n"
     ]
    },
    {
     "name": "stderr",
     "output_type": "stream",
     "text": [
      " 59%|█████▉    | 10/17 [00:14<00:11,  1.61s/it]"
     ]
    },
    {
     "name": "stdout",
     "output_type": "stream",
     "text": [
      "11\n",
      "2025-01-05 16:25:11,039 INFO Started executing jobs locally\n",
      "2025-01-05 16:25:11,050 INFO Starting job - Scf calculation (85d7d0ab-ff48-48dc-81a7-5c3e4c93c117)\n",
      "job is running... let's kill it...\n",
      "2025-01-05 16:25:16,592 INFO Added a workflow. id_map: {-3916: 98401, -3915: 98402, -3914: 98403, -3913: 98404, -3912: 98405, -3911: 98406, -3910: 98407, -3909: 98408, -3908: 98409, -3907: 98410, -3906: 98411}\n"
     ]
    },
    {
     "name": "stderr",
     "output_type": "stream",
     "text": [
      " 65%|██████▍   | 11/17 [00:20<00:17,  2.87s/it]"
     ]
    },
    {
     "name": "stdout",
     "output_type": "stream",
     "text": [
      "12\n",
      "2025-01-05 16:25:16,814 INFO Started executing jobs locally\n",
      "2025-01-05 16:25:16,823 INFO Starting job - Scf calculation (c69b11f9-394f-473b-b9b8-eaba1f4b9200)\n",
      "chksymbreak triggered\n"
     ]
    },
    {
     "name": "stderr",
     "output_type": "stream",
     "text": [
      " 71%|███████   | 12/17 [00:20<00:10,  2.11s/it]"
     ]
    },
    {
     "name": "stdout",
     "output_type": "stream",
     "text": [
      "13\n",
      "2025-01-05 16:25:17,131 INFO Started executing jobs locally\n",
      "2025-01-05 16:25:17,140 INFO Starting job - Scf calculation (51fb4354-36c4-42d2-a7cd-89cced2cebaf)\n",
      "chksymbreak triggered\n"
     ]
    },
    {
     "name": "stderr",
     "output_type": "stream",
     "text": [
      " 76%|███████▋  | 13/17 [00:21<00:06,  1.60s/it]"
     ]
    },
    {
     "name": "stdout",
     "output_type": "stream",
     "text": [
      "14\n",
      "2025-01-05 16:25:17,542 INFO Started executing jobs locally\n",
      "2025-01-05 16:25:17,552 INFO Starting job - Scf calculation (7a3bfaa3-8e17-40da-9e51-5825d8e5a346)\n",
      "chksymbreak triggered\n"
     ]
    },
    {
     "name": "stderr",
     "output_type": "stream",
     "text": [
      " 82%|████████▏ | 14/17 [00:21<00:03,  1.24s/it]"
     ]
    },
    {
     "name": "stdout",
     "output_type": "stream",
     "text": [
      "15\n",
      "2025-01-05 16:25:17,951 INFO Started executing jobs locally\n",
      "2025-01-05 16:25:17,960 INFO Starting job - Scf calculation (6ef0ba23-3611-49be-bc00-9402e9383c30)\n",
      "chksymbreak triggered\n"
     ]
    },
    {
     "name": "stderr",
     "output_type": "stream",
     "text": [
      " 88%|████████▊ | 15/17 [00:22<00:01,  1.01it/s]"
     ]
    },
    {
     "name": "stdout",
     "output_type": "stream",
     "text": [
      "16\n",
      "2025-01-05 16:25:18,378 INFO Started executing jobs locally\n",
      "2025-01-05 16:25:18,388 INFO Starting job - Scf calculation (91175538-c28b-422b-bf79-9e14f397fe4a)\n",
      "job is running... let's kill it...\n",
      "2025-01-05 16:25:23,924 INFO Added a workflow. id_map: {-3927: 98412, -3926: 98413, -3925: 98414, -3924: 98415, -3923: 98416, -3922: 98417, -3921: 98418, -3920: 98419, -3919: 98420, -3918: 98421, -3917: 98422}\n"
     ]
    },
    {
     "name": "stderr",
     "output_type": "stream",
     "text": [
      " 94%|█████████▍| 16/17 [00:27<00:02,  2.42s/it]"
     ]
    },
    {
     "name": "stdout",
     "output_type": "stream",
     "text": [
      "17\n",
      "2025-01-05 16:25:24,091 INFO Started executing jobs locally\n",
      "2025-01-05 16:25:24,101 INFO Starting job - Scf calculation (3c2423da-5979-43ac-9e2f-8a8421a685e6)\n",
      "job is running... let's kill it...\n",
      "2025-01-05 16:25:29,689 INFO Added a workflow. id_map: {-3938: 98423, -3937: 98424, -3936: 98425, -3935: 98426, -3934: 98427, -3933: 98428, -3932: 98429, -3931: 98430, -3930: 98431, -3929: 98432, -3928: 98433}\n"
     ]
    },
    {
     "name": "stderr",
     "output_type": "stream",
     "text": [
      "100%|██████████| 17/17 [00:33<00:00,  1.97s/it]\n"
     ]
    }
   ],
   "source": [
    "kgrid = \"Gamma\"\n",
    "\n",
    "#   Paths to the candidates datasets\n",
    "df_selected_bis = df_selected.filter(list_idxs_triggered, axis=0)\n",
    "\n",
    "iter = 0\n",
    "count = 0\n",
    "count_low=1     # included ; done: 1,\n",
    "count_high=350    # included ; done:  250,\n",
    "count_chksymbreak_passed = 0 # to count the nb of materials which do not trigger chksymbreak\n",
    "list_idxs_triggered = []\n",
    "\n",
    "#   Iterating over the candidates to add them in the Launchpad \n",
    "for idx, s in tqdm(zip(df_selected_bis.index.values, df_selected_bis['structure']), total=len(df_selected_bis)):\n",
    "\n",
    "    count += 1\n",
    "    if count<=count_low-1:\n",
    "        continue\n",
    "    if count>count_high:\n",
    "        break\n",
    "    print(count)\n",
    "\n",
    "    # Initializes the standardized primitive MP structure\n",
    "    structure = AbiStructure.from_dict(s)\n",
    "    structure = structure.abi_sanitize(primitive_standard=True)\n",
    "    structure.__class__ = Structure\n",
    "\n",
    "    # TEST CHKSYMBREAK\n",
    "    test_chksymbreak_passed = test_chksymbreak(structure, kgrid=kgrid)\n",
    "    if not test_chksymbreak_passed.value:\n",
    "        list_idxs_triggered.append(idx)\n",
    "        continue\n",
    "\n",
    "    # kill any existing abinit process bc not killed by p.terminate() and then make everything crash\n",
    "    import os\n",
    "    os.system(\"ps -C abinit -o pid=|xargs kill -9\")\n",
    "\n",
    "    count_chksymbreak_passed += 1\n",
    "    import gc\n",
    "    gc.collect()\n",
    "\n",
    "\n",
    "    # Create a Dfpt WF to compute the SHG tensor\n",
    "    shg_flow = ShgFlowMaker().make(structure=structure)\n",
    "\n",
    "    shg_flow = update_generator_attributes(shg_flow, {'pseudos': 'ONCVPSP-LDA-SR-PDv0.4:standard'}, name_filter='Scf calculation')\n",
    "    shg_flow = update_factory_kwargs(shg_flow, {'shift_mode': kgrid}, name_filter='Scf calculation')\n",
    "\n",
    "    shg_flow = update_taskdoc(shg_flow, {\"files_to_store\": []}, name_filter=\"Scf calculation\")\n",
    "    shg_flow = update_taskdoc(shg_flow, {\"files_to_store\": [\"DDB\", \"POT\"]}, class_filter=DdkMaker)\n",
    "    shg_flow = update_taskdoc(shg_flow, {\"files_to_store\": [\"DDB\", \"POT\"]}, class_filter=DdeMaker)\n",
    "    shg_flow = update_taskdoc(shg_flow, {\"files_to_store\": [\"DDB\", \"POT\"]}, class_filter=DteMaker)\n",
    "    shg_flow = update_taskdoc(shg_flow, {\"files_to_store\": [\"DDB\"]}, name_filter=\"Merge DDB\")\n",
    "\n",
    "\n",
    "    torun_flow = append_clean_flow(\n",
    "        shg_flow,\n",
    "        delete=True,\n",
    "        exclude_files_from_zip=None,\n",
    "        exclude_files_from_del=['*POT*']\n",
    "    )\n",
    "\n",
    "    # Let's add a metadata to recover it easily from the MongoDb afterwards with {\"spec._tasks.job.metadata.Label\": \"HSE_Etot(x)\"}\n",
    "    if df_selected.loc[idx]['nsites'] > 25:\n",
    "        is_light = \"heavy\"\n",
    "    else:\n",
    "        is_light = \"light\"\n",
    "    torun_flow.update_metadata({\"Batch\": f\"shg_hg_v{cur_v}\", \"material_id\": f\"{idx}\", \"is_light\": is_light})\n",
    "\n",
    "    # convert the flow to a fireworks WorkFlow object\n",
    "    wf = flow_to_workflow(torun_flow)\n",
    "\n",
    "    # # submit the workflow to the FireWorks launchpad\n",
    "    # lpad = LaunchPad.auto_load()\n",
    "    # lpad.add_wf(wf)\n",
    "\n",
    "    gc.collect()\n",
    "shutil.rmtree('test_chksymbreak')\n"
   ]
  },
  {
   "cell_type": "code",
   "execution_count": 15,
   "metadata": {},
   "outputs": [
    {
     "name": "stdout",
     "output_type": "stream",
     "text": [
      "Out of 17 selected materials, 5 passed the chksymbreak test\n"
     ]
    }
   ],
   "source": [
    "print(f\"Out of {len(df_selected_bis)} selected materials, {count_chksymbreak_passed} passed the chksymbreak test\")"
   ]
  },
  {
   "cell_type": "code",
   "execution_count": 16,
   "metadata": {},
   "outputs": [
    {
     "data": {
      "text/plain": [
       "(17, 11)"
      ]
     },
     "execution_count": 16,
     "metadata": {},
     "output_type": "execute_result"
    }
   ],
   "source": [
    "df_selected_bis.shape"
   ]
  },
  {
   "cell_type": "code",
   "execution_count": null,
   "metadata": {},
   "outputs": [],
   "source": []
  }
 ],
 "metadata": {
  "kernelspec": {
   "display_name": "atom2env_dev_v2",
   "language": "python",
   "name": "python3"
  },
  "language_info": {
   "codemirror_mode": {
    "name": "ipython",
    "version": 3
   },
   "file_extension": ".py",
   "mimetype": "text/x-python",
   "name": "python",
   "nbconvert_exporter": "python",
   "pygments_lexer": "ipython3",
   "version": "3.10.13"
  }
 },
 "nbformat": 4,
 "nbformat_minor": 2
}
